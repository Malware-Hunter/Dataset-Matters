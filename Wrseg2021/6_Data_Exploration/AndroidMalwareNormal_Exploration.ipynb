{
 "cells": [
  {
   "cell_type": "markdown",
   "source": "## 0_Importações_AndroidMalwareNormal (2018)",
   "metadata": {
    "tags": [],
    "is_collapsed": false,
    "cell_id": "00000-2a7b0573-c558-4a4f-bb50-851fa7728d4c",
    "deepnote_cell_type": "text-cell-h2"
   }
  },
  {
   "cell_type": "code",
   "metadata": {
    "tags": [],
    "deepnote_to_be_reexecuted": false,
    "source_hash": "fa5f2795",
    "execution_start": 1634858499873,
    "execution_millis": 2066,
    "cell_id": "00001-80537d32-3322-428a-92dd-7fe7bd325f47",
    "deepnote_cell_type": "code"
   },
   "source": "import pandas as pd\nimport numpy as np\nimport matplotlib.pyplot as plt\nimport seaborn as sns\n\n# Tirando limites de exibição de linhas e colunas\npd.options.display.max_columns = None\npd.options.display.max_rows = None",
   "execution_count": 1,
   "outputs": []
  },
  {
   "cell_type": "code",
   "metadata": {
    "tags": [],
    "deepnote_to_be_reexecuted": false,
    "source_hash": "d770c360",
    "execution_start": 1634858513248,
    "execution_millis": 313,
    "cell_id": "00002-144bd555-9c43-4ba7-8130-e0a98b4c1bfe",
    "deepnote_cell_type": "code"
   },
   "source": "android = pd.read_csv('../2_Permissions_Only_Subsets/Permission_AndroidMalwareNormal.csv')",
   "execution_count": 2,
   "outputs": []
  },
  {
   "cell_type": "markdown",
   "source": "## 1_Exploração_de_Dados",
   "metadata": {
    "tags": [],
    "is_collapsed": false,
    "cell_id": "00003-cfa6b343-277d-49a6-8197-a79bc76c2e28",
    "deepnote_cell_type": "text-cell-h2"
   }
  },
  {
   "cell_type": "code",
   "metadata": {
    "tags": [],
    "deepnote_to_be_reexecuted": false,
    "source_hash": "b8d36072",
    "execution_start": 1634858521163,
    "execution_millis": 1440,
    "cell_id": "00004-50f33cfa-661b-4da9-bf18-f3600f450ad0",
    "deepnote_cell_type": "code"
   },
   "source": "android.drop(columns=['Unnamed: 0'], inplace=True)\nandroid.head()",
   "execution_count": 3,
   "outputs": [
    {
     "output_type": "execute_result",
     "execution_count": 3,
     "data": {
      "application/vnd.deepnote.dataframe.v2+json": {
       "row_count": 5,
       "column_count": 174,
       "columns": [
        {
         "name": "ACCESS_DRM_CONTENT",
         "dtype": "int64",
         "stats": {
          "unique_count": 1,
          "nan_count": 0,
          "min": "0",
          "max": "0",
          "histogram": [
           {
            "bin_start": -0.5,
            "bin_end": -0.4,
            "count": 0
           },
           {
            "bin_start": -0.4,
            "bin_end": -0.3,
            "count": 0
           },
           {
            "bin_start": -0.3,
            "bin_end": -0.19999999999999996,
            "count": 0
           },
           {
            "bin_start": -0.19999999999999996,
            "bin_end": -0.09999999999999998,
            "count": 0
           },
           {
            "bin_start": -0.09999999999999998,
            "bin_end": 0,
            "count": 0
           },
           {
            "bin_start": 0,
            "bin_end": 0.10000000000000009,
            "count": 5
           },
           {
            "bin_start": 0.10000000000000009,
            "bin_end": 0.20000000000000007,
            "count": 0
           },
           {
            "bin_start": 0.20000000000000007,
            "bin_end": 0.30000000000000004,
            "count": 0
           },
           {
            "bin_start": 0.30000000000000004,
            "bin_end": 0.4,
            "count": 0
           },
           {
            "bin_start": 0.4,
            "bin_end": 0.5,
            "count": 0
           }
          ]
         }
        },
        {
         "name": "ACCESS_EMAIL_PROVIDER_DATA",
         "dtype": "int64",
         "stats": {
          "unique_count": 1,
          "nan_count": 0,
          "min": "0",
          "max": "0",
          "histogram": [
           {
            "bin_start": -0.5,
            "bin_end": -0.4,
            "count": 0
           },
           {
            "bin_start": -0.4,
            "bin_end": -0.3,
            "count": 0
           },
           {
            "bin_start": -0.3,
            "bin_end": -0.19999999999999996,
            "count": 0
           },
           {
            "bin_start": -0.19999999999999996,
            "bin_end": -0.09999999999999998,
            "count": 0
           },
           {
            "bin_start": -0.09999999999999998,
            "bin_end": 0,
            "count": 0
           },
           {
            "bin_start": 0,
            "bin_end": 0.10000000000000009,
            "count": 5
           },
           {
            "bin_start": 0.10000000000000009,
            "bin_end": 0.20000000000000007,
            "count": 0
           },
           {
            "bin_start": 0.20000000000000007,
            "bin_end": 0.30000000000000004,
            "count": 0
           },
           {
            "bin_start": 0.30000000000000004,
            "bin_end": 0.4,
            "count": 0
           },
           {
            "bin_start": 0.4,
            "bin_end": 0.5,
            "count": 0
           }
          ]
         }
        },
        {
         "name": "ACCESS_ALL_SYSTEM_DOWNLOADS",
         "dtype": "int64",
         "stats": {
          "unique_count": 1,
          "nan_count": 0,
          "min": "0",
          "max": "0",
          "histogram": [
           {
            "bin_start": -0.5,
            "bin_end": -0.4,
            "count": 0
           },
           {
            "bin_start": -0.4,
            "bin_end": -0.3,
            "count": 0
           },
           {
            "bin_start": -0.3,
            "bin_end": -0.19999999999999996,
            "count": 0
           },
           {
            "bin_start": -0.19999999999999996,
            "bin_end": -0.09999999999999998,
            "count": 0
           },
           {
            "bin_start": -0.09999999999999998,
            "bin_end": 0,
            "count": 0
           },
           {
            "bin_start": 0,
            "bin_end": 0.10000000000000009,
            "count": 5
           },
           {
            "bin_start": 0.10000000000000009,
            "bin_end": 0.20000000000000007,
            "count": 0
           },
           {
            "bin_start": 0.20000000000000007,
            "bin_end": 0.30000000000000004,
            "count": 0
           },
           {
            "bin_start": 0.30000000000000004,
            "bin_end": 0.4,
            "count": 0
           },
           {
            "bin_start": 0.4,
            "bin_end": 0.5,
            "count": 0
           }
          ]
         }
        },
        {
         "name": "ACCESS_DOWNLOAD_MANAGER",
         "dtype": "int64",
         "stats": {
          "unique_count": 1,
          "nan_count": 0,
          "min": "0",
          "max": "0",
          "histogram": [
           {
            "bin_start": -0.5,
            "bin_end": -0.4,
            "count": 0
           },
           {
            "bin_start": -0.4,
            "bin_end": -0.3,
            "count": 0
           },
           {
            "bin_start": -0.3,
            "bin_end": -0.19999999999999996,
            "count": 0
           },
           {
            "bin_start": -0.19999999999999996,
            "bin_end": -0.09999999999999998,
            "count": 0
           },
           {
            "bin_start": -0.09999999999999998,
            "bin_end": 0,
            "count": 0
           },
           {
            "bin_start": 0,
            "bin_end": 0.10000000000000009,
            "count": 5
           },
           {
            "bin_start": 0.10000000000000009,
            "bin_end": 0.20000000000000007,
            "count": 0
           },
           {
            "bin_start": 0.20000000000000007,
            "bin_end": 0.30000000000000004,
            "count": 0
           },
           {
            "bin_start": 0.30000000000000004,
            "bin_end": 0.4,
            "count": 0
           },
           {
            "bin_start": 0.4,
            "bin_end": 0.5,
            "count": 0
           }
          ]
         }
        },
        {
         "name": "ADVANCED_DOWNLOAD_MANAGER_FUNCTIONS",
         "dtype": "int64",
         "stats": {
          "unique_count": 1,
          "nan_count": 0,
          "min": "0",
          "max": "0",
          "histogram": [
           {
            "bin_start": -0.5,
            "bin_end": -0.4,
            "count": 0
           },
           {
            "bin_start": -0.4,
            "bin_end": -0.3,
            "count": 0
           },
           {
            "bin_start": -0.3,
            "bin_end": -0.19999999999999996,
            "count": 0
           },
           {
            "bin_start": -0.19999999999999996,
            "bin_end": -0.09999999999999998,
            "count": 0
           },
           {
            "bin_start": -0.09999999999999998,
            "bin_end": 0,
            "count": 0
           },
           {
            "bin_start": 0,
            "bin_end": 0.10000000000000009,
            "count": 5
           },
           {
            "bin_start": 0.10000000000000009,
            "bin_end": 0.20000000000000007,
            "count": 0
           },
           {
            "bin_start": 0.20000000000000007,
            "bin_end": 0.30000000000000004,
            "count": 0
           },
           {
            "bin_start": 0.30000000000000004,
            "bin_end": 0.4,
            "count": 0
           },
           {
            "bin_start": 0.4,
            "bin_end": 0.5,
            "count": 0
           }
          ]
         }
        },
        {
         "name": "AUDIO_FILE_ACCESS",
         "dtype": "int64",
         "stats": {
          "unique_count": 1,
          "nan_count": 0,
          "min": "0",
          "max": "0",
          "histogram": [
           {
            "bin_start": -0.5,
            "bin_end": -0.4,
            "count": 0
           },
           {
            "bin_start": -0.4,
            "bin_end": -0.3,
            "count": 0
           },
           {
            "bin_start": -0.3,
            "bin_end": -0.19999999999999996,
            "count": 0
           },
           {
            "bin_start": -0.19999999999999996,
            "bin_end": -0.09999999999999998,
            "count": 0
           },
           {
            "bin_start": -0.09999999999999998,
            "bin_end": 0,
            "count": 0
           },
           {
            "bin_start": 0,
            "bin_end": 0.10000000000000009,
            "count": 5
           },
           {
            "bin_start": 0.10000000000000009,
            "bin_end": 0.20000000000000007,
            "count": 0
           },
           {
            "bin_start": 0.20000000000000007,
            "bin_end": 0.30000000000000004,
            "count": 0
           },
           {
            "bin_start": 0.30000000000000004,
            "bin_end": 0.4,
            "count": 0
           },
           {
            "bin_start": 0.4,
            "bin_end": 0.5,
            "count": 0
           }
          ]
         }
        },
        {
         "name": "INSTALL_DRM_CONTENT",
         "dtype": "int64",
         "stats": {
          "unique_count": 1,
          "nan_count": 0,
          "min": "0",
          "max": "0",
          "histogram": [
           {
            "bin_start": -0.5,
            "bin_end": -0.4,
            "count": 0
           },
           {
            "bin_start": -0.4,
            "bin_end": -0.3,
            "count": 0
           },
           {
            "bin_start": -0.3,
            "bin_end": -0.19999999999999996,
            "count": 0
           },
           {
            "bin_start": -0.19999999999999996,
            "bin_end": -0.09999999999999998,
            "count": 0
           },
           {
            "bin_start": -0.09999999999999998,
            "bin_end": 0,
            "count": 0
           },
           {
            "bin_start": 0,
            "bin_end": 0.10000000000000009,
            "count": 5
           },
           {
            "bin_start": 0.10000000000000009,
            "bin_end": 0.20000000000000007,
            "count": 0
           },
           {
            "bin_start": 0.20000000000000007,
            "bin_end": 0.30000000000000004,
            "count": 0
           },
           {
            "bin_start": 0.30000000000000004,
            "bin_end": 0.4,
            "count": 0
           },
           {
            "bin_start": 0.4,
            "bin_end": 0.5,
            "count": 0
           }
          ]
         }
        },
        {
         "name": "MODIFY_GOOGLE_SERVICE_CONFIGURATION",
         "dtype": "int64",
         "stats": {
          "unique_count": 1,
          "nan_count": 0,
          "min": "0",
          "max": "0",
          "histogram": [
           {
            "bin_start": -0.5,
            "bin_end": -0.4,
            "count": 0
           },
           {
            "bin_start": -0.4,
            "bin_end": -0.3,
            "count": 0
           },
           {
            "bin_start": -0.3,
            "bin_end": -0.19999999999999996,
            "count": 0
           },
           {
            "bin_start": -0.19999999999999996,
            "bin_end": -0.09999999999999998,
            "count": 0
           },
           {
            "bin_start": -0.09999999999999998,
            "bin_end": 0,
            "count": 0
           },
           {
            "bin_start": 0,
            "bin_end": 0.10000000000000009,
            "count": 5
           },
           {
            "bin_start": 0.10000000000000009,
            "bin_end": 0.20000000000000007,
            "count": 0
           },
           {
            "bin_start": 0.20000000000000007,
            "bin_end": 0.30000000000000004,
            "count": 0
           },
           {
            "bin_start": 0.30000000000000004,
            "bin_end": 0.4,
            "count": 0
           },
           {
            "bin_start": 0.4,
            "bin_end": 0.5,
            "count": 0
           }
          ]
         }
        },
        {
         "name": "MODIFY_GOOGLE_SETTINGS",
         "dtype": "int64",
         "stats": {
          "unique_count": 1,
          "nan_count": 0,
          "min": "0",
          "max": "0",
          "histogram": [
           {
            "bin_start": -0.5,
            "bin_end": -0.4,
            "count": 0
           },
           {
            "bin_start": -0.4,
            "bin_end": -0.3,
            "count": 0
           },
           {
            "bin_start": -0.3,
            "bin_end": -0.19999999999999996,
            "count": 0
           },
           {
            "bin_start": -0.19999999999999996,
            "bin_end": -0.09999999999999998,
            "count": 0
           },
           {
            "bin_start": -0.09999999999999998,
            "bin_end": 0,
            "count": 0
           },
           {
            "bin_start": 0,
            "bin_end": 0.10000000000000009,
            "count": 5
           },
           {
            "bin_start": 0.10000000000000009,
            "bin_end": 0.20000000000000007,
            "count": 0
           },
           {
            "bin_start": 0.20000000000000007,
            "bin_end": 0.30000000000000004,
            "count": 0
           },
           {
            "bin_start": 0.30000000000000004,
            "bin_end": 0.4,
            "count": 0
           },
           {
            "bin_start": 0.4,
            "bin_end": 0.5,
            "count": 0
           }
          ]
         }
        },
        {
         "name": "MOVE_APPLICATION_RESOURCES",
         "dtype": "int64",
         "stats": {
          "unique_count": 1,
          "nan_count": 0,
          "min": "0",
          "max": "0",
          "histogram": [
           {
            "bin_start": -0.5,
            "bin_end": -0.4,
            "count": 0
           },
           {
            "bin_start": -0.4,
            "bin_end": -0.3,
            "count": 0
           },
           {
            "bin_start": -0.3,
            "bin_end": -0.19999999999999996,
            "count": 0
           },
           {
            "bin_start": -0.19999999999999996,
            "bin_end": -0.09999999999999998,
            "count": 0
           },
           {
            "bin_start": -0.09999999999999998,
            "bin_end": 0,
            "count": 0
           },
           {
            "bin_start": 0,
            "bin_end": 0.10000000000000009,
            "count": 5
           },
           {
            "bin_start": 0.10000000000000009,
            "bin_end": 0.20000000000000007,
            "count": 0
           },
           {
            "bin_start": 0.20000000000000007,
            "bin_end": 0.30000000000000004,
            "count": 0
           },
           {
            "bin_start": 0.30000000000000004,
            "bin_end": 0.4,
            "count": 0
           },
           {
            "bin_start": 0.4,
            "bin_end": 0.5,
            "count": 0
           }
          ]
         }
        },
        {
         "name": "READ_GOOGLE_SETTINGS",
         "dtype": "int64",
         "stats": {
          "unique_count": 1,
          "nan_count": 0,
          "min": "0",
          "max": "0",
          "histogram": [
           {
            "bin_start": -0.5,
            "bin_end": -0.4,
            "count": 0
           },
           {
            "bin_start": -0.4,
            "bin_end": -0.3,
            "count": 0
           },
           {
            "bin_start": -0.3,
            "bin_end": -0.19999999999999996,
            "count": 0
           },
           {
            "bin_start": -0.19999999999999996,
            "bin_end": -0.09999999999999998,
            "count": 0
           },
           {
            "bin_start": -0.09999999999999998,
            "bin_end": 0,
            "count": 0
           },
           {
            "bin_start": 0,
            "bin_end": 0.10000000000000009,
            "count": 5
           },
           {
            "bin_start": 0.10000000000000009,
            "bin_end": 0.20000000000000007,
            "count": 0
           },
           {
            "bin_start": 0.20000000000000007,
            "bin_end": 0.30000000000000004,
            "count": 0
           },
           {
            "bin_start": 0.30000000000000004,
            "bin_end": 0.4,
            "count": 0
           },
           {
            "bin_start": 0.4,
            "bin_end": 0.5,
            "count": 0
           }
          ]
         }
        },
        {
         "name": "SEND_DOWNLOAD_NOTIFICATIONS",
         "dtype": "int64",
         "stats": {
          "unique_count": 1,
          "nan_count": 0,
          "min": "0",
          "max": "0",
          "histogram": [
           {
            "bin_start": -0.5,
            "bin_end": -0.4,
            "count": 0
           },
           {
            "bin_start": -0.4,
            "bin_end": -0.3,
            "count": 0
           },
           {
            "bin_start": -0.3,
            "bin_end": -0.19999999999999996,
            "count": 0
           },
           {
            "bin_start": -0.19999999999999996,
            "bin_end": -0.09999999999999998,
            "count": 0
           },
           {
            "bin_start": -0.09999999999999998,
            "bin_end": 0,
            "count": 0
           },
           {
            "bin_start": 0,
            "bin_end": 0.10000000000000009,
            "count": 5
           },
           {
            "bin_start": 0.10000000000000009,
            "bin_end": 0.20000000000000007,
            "count": 0
           },
           {
            "bin_start": 0.20000000000000007,
            "bin_end": 0.30000000000000004,
            "count": 0
           },
           {
            "bin_start": 0.30000000000000004,
            "bin_end": 0.4,
            "count": 0
           },
           {
            "bin_start": 0.4,
            "bin_end": 0.5,
            "count": 0
           }
          ]
         }
        },
        {
         "name": "VOICE_SEARCH_SHORTCUTS",
         "dtype": "int64",
         "stats": {
          "unique_count": 1,
          "nan_count": 0,
          "min": "0",
          "max": "0",
          "histogram": [
           {
            "bin_start": -0.5,
            "bin_end": -0.4,
            "count": 0
           },
           {
            "bin_start": -0.4,
            "bin_end": -0.3,
            "count": 0
           },
           {
            "bin_start": -0.3,
            "bin_end": -0.19999999999999996,
            "count": 0
           },
           {
            "bin_start": -0.19999999999999996,
            "bin_end": -0.09999999999999998,
            "count": 0
           },
           {
            "bin_start": -0.09999999999999998,
            "bin_end": 0,
            "count": 0
           },
           {
            "bin_start": 0,
            "bin_end": 0.10000000000000009,
            "count": 5
           },
           {
            "bin_start": 0.10000000000000009,
            "bin_end": 0.20000000000000007,
            "count": 0
           },
           {
            "bin_start": 0.20000000000000007,
            "bin_end": 0.30000000000000004,
            "count": 0
           },
           {
            "bin_start": 0.30000000000000004,
            "bin_end": 0.4,
            "count": 0
           },
           {
            "bin_start": 0.4,
            "bin_end": 0.5,
            "count": 0
           }
          ]
         }
        },
        {
         "name": "ACCESS_SURFACEFLINGER",
         "dtype": "int64",
         "stats": {
          "unique_count": 1,
          "nan_count": 0,
          "min": "0",
          "max": "0",
          "histogram": [
           {
            "bin_start": -0.5,
            "bin_end": -0.4,
            "count": 0
           },
           {
            "bin_start": -0.4,
            "bin_end": -0.3,
            "count": 0
           },
           {
            "bin_start": -0.3,
            "bin_end": -0.19999999999999996,
            "count": 0
           },
           {
            "bin_start": -0.19999999999999996,
            "bin_end": -0.09999999999999998,
            "count": 0
           },
           {
            "bin_start": -0.09999999999999998,
            "bin_end": 0,
            "count": 0
           },
           {
            "bin_start": 0,
            "bin_end": 0.10000000000000009,
            "count": 5
           },
           {
            "bin_start": 0.10000000000000009,
            "bin_end": 0.20000000000000007,
            "count": 0
           },
           {
            "bin_start": 0.20000000000000007,
            "bin_end": 0.30000000000000004,
            "count": 0
           },
           {
            "bin_start": 0.30000000000000004,
            "bin_end": 0.4,
            "count": 0
           },
           {
            "bin_start": 0.4,
            "bin_end": 0.5,
            "count": 0
           }
          ]
         }
        },
        {
         "name": "ACCESS_CHECKIN_PROPERTIES",
         "dtype": "int64",
         "stats": {
          "unique_count": 1,
          "nan_count": 0,
          "min": "0",
          "max": "0",
          "histogram": [
           {
            "bin_start": -0.5,
            "bin_end": -0.4,
            "count": 0
           },
           {
            "bin_start": -0.4,
            "bin_end": -0.3,
            "count": 0
           },
           {
            "bin_start": -0.3,
            "bin_end": -0.19999999999999996,
            "count": 0
           },
           {
            "bin_start": -0.19999999999999996,
            "bin_end": -0.09999999999999998,
            "count": 0
           },
           {
            "bin_start": -0.09999999999999998,
            "bin_end": 0,
            "count": 0
           },
           {
            "bin_start": 0,
            "bin_end": 0.10000000000000009,
            "count": 5
           },
           {
            "bin_start": 0.10000000000000009,
            "bin_end": 0.20000000000000007,
            "count": 0
           },
           {
            "bin_start": 0.20000000000000007,
            "bin_end": 0.30000000000000004,
            "count": 0
           },
           {
            "bin_start": 0.30000000000000004,
            "bin_end": 0.4,
            "count": 0
           },
           {
            "bin_start": 0.4,
            "bin_end": 0.5,
            "count": 0
           }
          ]
         }
        },
        {
         "name": "ACCESS_THE_CACHE_FILESYSTEM",
         "dtype": "int64",
         "stats": {
          "unique_count": 1,
          "nan_count": 0,
          "min": "0",
          "max": "0",
          "histogram": [
           {
            "bin_start": -0.5,
            "bin_end": -0.4,
            "count": 0
           },
           {
            "bin_start": -0.4,
            "bin_end": -0.3,
            "count": 0
           },
           {
            "bin_start": -0.3,
            "bin_end": -0.19999999999999996,
            "count": 0
           },
           {
            "bin_start": -0.19999999999999996,
            "bin_end": -0.09999999999999998,
            "count": 0
           },
           {
            "bin_start": -0.09999999999999998,
            "bin_end": 0,
            "count": 0
           },
           {
            "bin_start": 0,
            "bin_end": 0.10000000000000009,
            "count": 5
           },
           {
            "bin_start": 0.10000000000000009,
            "bin_end": 0.20000000000000007,
            "count": 0
           },
           {
            "bin_start": 0.20000000000000007,
            "bin_end": 0.30000000000000004,
            "count": 0
           },
           {
            "bin_start": 0.30000000000000004,
            "bin_end": 0.4,
            "count": 0
           },
           {
            "bin_start": 0.4,
            "bin_end": 0.5,
            "count": 0
           }
          ]
         }
        },
        {
         "name": "ACCESS_TO_PASSWORDS_FOR_GOOGLE_ACCOUNTS",
         "dtype": "int64",
         "stats": {
          "unique_count": 1,
          "nan_count": 0,
          "min": "0",
          "max": "0",
          "histogram": [
           {
            "bin_start": -0.5,
            "bin_end": -0.4,
            "count": 0
           },
           {
            "bin_start": -0.4,
            "bin_end": -0.3,
            "count": 0
           },
           {
            "bin_start": -0.3,
            "bin_end": -0.19999999999999996,
            "count": 0
           },
           {
            "bin_start": -0.19999999999999996,
            "bin_end": -0.09999999999999998,
            "count": 0
           },
           {
            "bin_start": -0.09999999999999998,
            "bin_end": 0,
            "count": 0
           },
           {
            "bin_start": 0,
            "bin_end": 0.10000000000000009,
            "count": 5
           },
           {
            "bin_start": 0.10000000000000009,
            "bin_end": 0.20000000000000007,
            "count": 0
           },
           {
            "bin_start": 0.20000000000000007,
            "bin_end": 0.30000000000000004,
            "count": 0
           },
           {
            "bin_start": 0.30000000000000004,
            "bin_end": 0.4,
            "count": 0
           },
           {
            "bin_start": 0.4,
            "bin_end": 0.5,
            "count": 0
           }
          ]
         }
        },
        {
         "name": "ACT_AS_AN_ACCOUNT_AUTHENTICATOR",
         "dtype": "int64",
         "stats": {
          "unique_count": 1,
          "nan_count": 0,
          "min": "0",
          "max": "0",
          "histogram": [
           {
            "bin_start": -0.5,
            "bin_end": -0.4,
            "count": 0
           },
           {
            "bin_start": -0.4,
            "bin_end": -0.3,
            "count": 0
           },
           {
            "bin_start": -0.3,
            "bin_end": -0.19999999999999996,
            "count": 0
           },
           {
            "bin_start": -0.19999999999999996,
            "bin_end": -0.09999999999999998,
            "count": 0
           },
           {
            "bin_start": -0.09999999999999998,
            "bin_end": 0,
            "count": 0
           },
           {
            "bin_start": 0,
            "bin_end": 0.10000000000000009,
            "count": 5
           },
           {
            "bin_start": 0.10000000000000009,
            "bin_end": 0.20000000000000007,
            "count": 0
           },
           {
            "bin_start": 0.20000000000000007,
            "bin_end": 0.30000000000000004,
            "count": 0
           },
           {
            "bin_start": 0.30000000000000004,
            "bin_end": 0.4,
            "count": 0
           },
           {
            "bin_start": 0.4,
            "bin_end": 0.5,
            "count": 0
           }
          ]
         }
        },
        {
         "name": "BIND_TO_A_WALLPAPER",
         "dtype": "int64",
         "stats": {
          "unique_count": 1,
          "nan_count": 0,
          "min": "0",
          "max": "0",
          "histogram": [
           {
            "bin_start": -0.5,
            "bin_end": -0.4,
            "count": 0
           },
           {
            "bin_start": -0.4,
            "bin_end": -0.3,
            "count": 0
           },
           {
            "bin_start": -0.3,
            "bin_end": -0.19999999999999996,
            "count": 0
           },
           {
            "bin_start": -0.19999999999999996,
            "bin_end": -0.09999999999999998,
            "count": 0
           },
           {
            "bin_start": -0.09999999999999998,
            "bin_end": 0,
            "count": 0
           },
           {
            "bin_start": 0,
            "bin_end": 0.10000000000000009,
            "count": 5
           },
           {
            "bin_start": 0.10000000000000009,
            "bin_end": 0.20000000000000007,
            "count": 0
           },
           {
            "bin_start": 0.20000000000000007,
            "bin_end": 0.30000000000000004,
            "count": 0
           },
           {
            "bin_start": 0.30000000000000004,
            "bin_end": 0.4,
            "count": 0
           },
           {
            "bin_start": 0.4,
            "bin_end": 0.5,
            "count": 0
           }
          ]
         }
        },
        {
         "name": "BIND_TO_AN_INPUT_METHOD",
         "dtype": "int64",
         "stats": {
          "unique_count": 1,
          "nan_count": 0,
          "min": "0",
          "max": "0",
          "histogram": [
           {
            "bin_start": -0.5,
            "bin_end": -0.4,
            "count": 0
           },
           {
            "bin_start": -0.4,
            "bin_end": -0.3,
            "count": 0
           },
           {
            "bin_start": -0.3,
            "bin_end": -0.19999999999999996,
            "count": 0
           },
           {
            "bin_start": -0.19999999999999996,
            "bin_end": -0.09999999999999998,
            "count": 0
           },
           {
            "bin_start": -0.09999999999999998,
            "bin_end": 0,
            "count": 0
           },
           {
            "bin_start": 0,
            "bin_end": 0.10000000000000009,
            "count": 5
           },
           {
            "bin_start": 0.10000000000000009,
            "bin_end": 0.20000000000000007,
            "count": 0
           },
           {
            "bin_start": 0.20000000000000007,
            "bin_end": 0.30000000000000004,
            "count": 0
           },
           {
            "bin_start": 0.30000000000000004,
            "bin_end": 0.4,
            "count": 0
           },
           {
            "bin_start": 0.4,
            "bin_end": 0.5,
            "count": 0
           }
          ]
         }
        },
        {
         "name": "CHANGE_SCREEN_ORIENTATION",
         "dtype": "int64",
         "stats": {
          "unique_count": 1,
          "nan_count": 0,
          "min": "0",
          "max": "0",
          "histogram": [
           {
            "bin_start": -0.5,
            "bin_end": -0.4,
            "count": 0
           },
           {
            "bin_start": -0.4,
            "bin_end": -0.3,
            "count": 0
           },
           {
            "bin_start": -0.3,
            "bin_end": -0.19999999999999996,
            "count": 0
           },
           {
            "bin_start": -0.19999999999999996,
            "bin_end": -0.09999999999999998,
            "count": 0
           },
           {
            "bin_start": -0.09999999999999998,
            "bin_end": 0,
            "count": 0
           },
           {
            "bin_start": 0,
            "bin_end": 0.10000000000000009,
            "count": 5
           },
           {
            "bin_start": 0.10000000000000009,
            "bin_end": 0.20000000000000007,
            "count": 0
           },
           {
            "bin_start": 0.20000000000000007,
            "bin_end": 0.30000000000000004,
            "count": 0
           },
           {
            "bin_start": 0.30000000000000004,
            "bin_end": 0.4,
            "count": 0
           },
           {
            "bin_start": 0.4,
            "bin_end": 0.5,
            "count": 0
           }
          ]
         }
        },
        {
         "name": "COARSE",
         "dtype": "int64",
         "stats": {
          "unique_count": 1,
          "nan_count": 0,
          "min": "0",
          "max": "0",
          "histogram": [
           {
            "bin_start": -0.5,
            "bin_end": -0.4,
            "count": 0
           },
           {
            "bin_start": -0.4,
            "bin_end": -0.3,
            "count": 0
           },
           {
            "bin_start": -0.3,
            "bin_end": -0.19999999999999996,
            "count": 0
           },
           {
            "bin_start": -0.19999999999999996,
            "bin_end": -0.09999999999999998,
            "count": 0
           },
           {
            "bin_start": -0.09999999999999998,
            "bin_end": 0,
            "count": 0
           },
           {
            "bin_start": 0,
            "bin_end": 0.10000000000000009,
            "count": 5
           },
           {
            "bin_start": 0.10000000000000009,
            "bin_end": 0.20000000000000007,
            "count": 0
           },
           {
            "bin_start": 0.20000000000000007,
            "bin_end": 0.30000000000000004,
            "count": 0
           },
           {
            "bin_start": 0.30000000000000004,
            "bin_end": 0.4,
            "count": 0
           },
           {
            "bin_start": 0.4,
            "bin_end": 0.5,
            "count": 0
           }
          ]
         }
        },
        {
         "name": "CONTROL_LOCATION_UPDATE_NOTIFICATIONS",
         "dtype": "int64",
         "stats": {
          "unique_count": 1,
          "nan_count": 0,
          "min": "0",
          "max": "0",
          "histogram": [
           {
            "bin_start": -0.5,
            "bin_end": -0.4,
            "count": 0
           },
           {
            "bin_start": -0.4,
            "bin_end": -0.3,
            "count": 0
           },
           {
            "bin_start": -0.3,
            "bin_end": -0.19999999999999996,
            "count": 0
           },
           {
            "bin_start": -0.19999999999999996,
            "bin_end": -0.09999999999999998,
            "count": 0
           },
           {
            "bin_start": -0.09999999999999998,
            "bin_end": 0,
            "count": 0
           },
           {
            "bin_start": 0,
            "bin_end": 0.10000000000000009,
            "count": 5
           },
           {
            "bin_start": 0.10000000000000009,
            "bin_end": 0.20000000000000007,
            "count": 0
           },
           {
            "bin_start": 0.20000000000000007,
            "bin_end": 0.30000000000000004,
            "count": 0
           },
           {
            "bin_start": 0.30000000000000004,
            "bin_end": 0.4,
            "count": 0
           },
           {
            "bin_start": 0.4,
            "bin_end": 0.5,
            "count": 0
           }
          ]
         }
        },
        {
         "name": "CONTROL_SYSTEM_BACKUP_AND_RESTORE",
         "dtype": "int64",
         "stats": {
          "unique_count": 1,
          "nan_count": 0,
          "min": "0",
          "max": "0",
          "histogram": [
           {
            "bin_start": -0.5,
            "bin_end": -0.4,
            "count": 0
           },
           {
            "bin_start": -0.4,
            "bin_end": -0.3,
            "count": 0
           },
           {
            "bin_start": -0.3,
            "bin_end": -0.19999999999999996,
            "count": 0
           },
           {
            "bin_start": -0.19999999999999996,
            "bin_end": -0.09999999999999998,
            "count": 0
           },
           {
            "bin_start": -0.09999999999999998,
            "bin_end": 0,
            "count": 0
           },
           {
            "bin_start": 0,
            "bin_end": 0.10000000000000009,
            "count": 5
           },
           {
            "bin_start": 0.10000000000000009,
            "bin_end": 0.20000000000000007,
            "count": 0
           },
           {
            "bin_start": 0.20000000000000007,
            "bin_end": 0.30000000000000004,
            "count": 0
           },
           {
            "bin_start": 0.30000000000000004,
            "bin_end": 0.4,
            "count": 0
           },
           {
            "bin_start": 0.4,
            "bin_end": 0.5,
            "count": 0
           }
          ]
         }
        },
        {
         "name": "DELETE_APPLICATIONS",
         "dtype": "int64",
         "stats": {
          "unique_count": 1,
          "nan_count": 0,
          "min": "0",
          "max": "0",
          "histogram": [
           {
            "bin_start": -0.5,
            "bin_end": -0.4,
            "count": 0
           },
           {
            "bin_start": -0.4,
            "bin_end": -0.3,
            "count": 0
           },
           {
            "bin_start": -0.3,
            "bin_end": -0.19999999999999996,
            "count": 0
           },
           {
            "bin_start": -0.19999999999999996,
            "bin_end": -0.09999999999999998,
            "count": 0
           },
           {
            "bin_start": -0.09999999999999998,
            "bin_end": 0,
            "count": 0
           },
           {
            "bin_start": 0,
            "bin_end": 0.10000000000000009,
            "count": 5
           },
           {
            "bin_start": 0.10000000000000009,
            "bin_end": 0.20000000000000007,
            "count": 0
           },
           {
            "bin_start": 0.20000000000000007,
            "bin_end": 0.30000000000000004,
            "count": 0
           },
           {
            "bin_start": 0.30000000000000004,
            "bin_end": 0.4,
            "count": 0
           },
           {
            "bin_start": 0.4,
            "bin_end": 0.5,
            "count": 0
           }
          ]
         }
        },
        {
         "name": "DELETE_OTHER_APPLICATIONS_CACHES",
         "dtype": "int64",
         "stats": {
          "unique_count": 1,
          "nan_count": 0,
          "min": "0",
          "max": "0",
          "histogram": [
           {
            "bin_start": -0.5,
            "bin_end": -0.4,
            "count": 0
           },
           {
            "bin_start": -0.4,
            "bin_end": -0.3,
            "count": 0
           },
           {
            "bin_start": -0.3,
            "bin_end": -0.19999999999999996,
            "count": 0
           },
           {
            "bin_start": -0.19999999999999996,
            "bin_end": -0.09999999999999998,
            "count": 0
           },
           {
            "bin_start": -0.09999999999999998,
            "bin_end": 0,
            "count": 0
           },
           {
            "bin_start": 0,
            "bin_end": 0.10000000000000009,
            "count": 5
           },
           {
            "bin_start": 0.10000000000000009,
            "bin_end": 0.20000000000000007,
            "count": 0
           },
           {
            "bin_start": 0.20000000000000007,
            "bin_end": 0.30000000000000004,
            "count": 0
           },
           {
            "bin_start": 0.30000000000000004,
            "bin_end": 0.4,
            "count": 0
           },
           {
            "bin_start": 0.4,
            "bin_end": 0.5,
            "count": 0
           }
          ]
         }
        },
        {
         "name": "DELETE_OTHER_APPLICATIONS_DATA",
         "dtype": "int64",
         "stats": {
          "unique_count": 1,
          "nan_count": 0,
          "min": "0",
          "max": "0",
          "histogram": [
           {
            "bin_start": -0.5,
            "bin_end": -0.4,
            "count": 0
           },
           {
            "bin_start": -0.4,
            "bin_end": -0.3,
            "count": 0
           },
           {
            "bin_start": -0.3,
            "bin_end": -0.19999999999999996,
            "count": 0
           },
           {
            "bin_start": -0.19999999999999996,
            "bin_end": -0.09999999999999998,
            "count": 0
           },
           {
            "bin_start": -0.09999999999999998,
            "bin_end": 0,
            "count": 0
           },
           {
            "bin_start": 0,
            "bin_end": 0.10000000000000009,
            "count": 5
           },
           {
            "bin_start": 0.10000000000000009,
            "bin_end": 0.20000000000000007,
            "count": 0
           },
           {
            "bin_start": 0.20000000000000007,
            "bin_end": 0.30000000000000004,
            "count": 0
           },
           {
            "bin_start": 0.30000000000000004,
            "bin_end": 0.4,
            "count": 0
           },
           {
            "bin_start": 0.4,
            "bin_end": 0.5,
            "count": 0
           }
          ]
         }
        },
        {
         "name": "DIRECTLY_CALL_ANY_PHONE_NUMBERS",
         "dtype": "int64",
         "stats": {
          "unique_count": 1,
          "nan_count": 0,
          "min": "0",
          "max": "0",
          "histogram": [
           {
            "bin_start": -0.5,
            "bin_end": -0.4,
            "count": 0
           },
           {
            "bin_start": -0.4,
            "bin_end": -0.3,
            "count": 0
           },
           {
            "bin_start": -0.3,
            "bin_end": -0.19999999999999996,
            "count": 0
           },
           {
            "bin_start": -0.19999999999999996,
            "bin_end": -0.09999999999999998,
            "count": 0
           },
           {
            "bin_start": -0.09999999999999998,
            "bin_end": 0,
            "count": 0
           },
           {
            "bin_start": 0,
            "bin_end": 0.10000000000000009,
            "count": 5
           },
           {
            "bin_start": 0.10000000000000009,
            "bin_end": 0.20000000000000007,
            "count": 0
           },
           {
            "bin_start": 0.20000000000000007,
            "bin_end": 0.30000000000000004,
            "count": 0
           },
           {
            "bin_start": 0.30000000000000004,
            "bin_end": 0.4,
            "count": 0
           },
           {
            "bin_start": 0.4,
            "bin_end": 0.5,
            "count": 0
           }
          ]
         }
        },
        {
         "name": "DIRECTLY_INSTALL_APPLICATIONS",
         "dtype": "int64",
         "stats": {
          "unique_count": 1,
          "nan_count": 0,
          "min": "0",
          "max": "0",
          "histogram": [
           {
            "bin_start": -0.5,
            "bin_end": -0.4,
            "count": 0
           },
           {
            "bin_start": -0.4,
            "bin_end": -0.3,
            "count": 0
           },
           {
            "bin_start": -0.3,
            "bin_end": -0.19999999999999996,
            "count": 0
           },
           {
            "bin_start": -0.19999999999999996,
            "bin_end": -0.09999999999999998,
            "count": 0
           },
           {
            "bin_start": -0.09999999999999998,
            "bin_end": 0,
            "count": 0
           },
           {
            "bin_start": 0,
            "bin_end": 0.10000000000000009,
            "count": 5
           },
           {
            "bin_start": 0.10000000000000009,
            "bin_end": 0.20000000000000007,
            "count": 0
           },
           {
            "bin_start": 0.20000000000000007,
            "bin_end": 0.30000000000000004,
            "count": 0
           },
           {
            "bin_start": 0.30000000000000004,
            "bin_end": 0.4,
            "count": 0
           },
           {
            "bin_start": 0.4,
            "bin_end": 0.5,
            "count": 0
           }
          ]
         }
        },
        {
         "name": "DISABLE_OR_MODIFY_STATUS_BAR",
         "dtype": "int64",
         "stats": {
          "unique_count": 1,
          "nan_count": 0,
          "min": "0",
          "max": "0",
          "histogram": [
           {
            "bin_start": -0.5,
            "bin_end": -0.4,
            "count": 0
           },
           {
            "bin_start": -0.4,
            "bin_end": -0.3,
            "count": 0
           },
           {
            "bin_start": -0.3,
            "bin_end": -0.19999999999999996,
            "count": 0
           },
           {
            "bin_start": -0.19999999999999996,
            "bin_end": -0.09999999999999998,
            "count": 0
           },
           {
            "bin_start": -0.09999999999999998,
            "bin_end": 0,
            "count": 0
           },
           {
            "bin_start": 0,
            "bin_end": 0.10000000000000009,
            "count": 5
           },
           {
            "bin_start": 0.10000000000000009,
            "bin_end": 0.20000000000000007,
            "count": 0
           },
           {
            "bin_start": 0.20000000000000007,
            "bin_end": 0.30000000000000004,
            "count": 0
           },
           {
            "bin_start": 0.30000000000000004,
            "bin_end": 0.4,
            "count": 0
           },
           {
            "bin_start": 0.4,
            "bin_end": 0.5,
            "count": 0
           }
          ]
         }
        },
        {
         "name": "DISCOVER_KNOWN_ACCOUNTS",
         "dtype": "int64",
         "stats": {
          "unique_count": 1,
          "nan_count": 0,
          "min": "0",
          "max": "0",
          "histogram": [
           {
            "bin_start": -0.5,
            "bin_end": -0.4,
            "count": 0
           },
           {
            "bin_start": -0.4,
            "bin_end": -0.3,
            "count": 0
           },
           {
            "bin_start": -0.3,
            "bin_end": -0.19999999999999996,
            "count": 0
           },
           {
            "bin_start": -0.19999999999999996,
            "bin_end": -0.09999999999999998,
            "count": 0
           },
           {
            "bin_start": -0.09999999999999998,
            "bin_end": 0,
            "count": 0
           },
           {
            "bin_start": 0,
            "bin_end": 0.10000000000000009,
            "count": 5
           },
           {
            "bin_start": 0.10000000000000009,
            "bin_end": 0.20000000000000007,
            "count": 0
           },
           {
            "bin_start": 0.20000000000000007,
            "bin_end": 0.30000000000000004,
            "count": 0
           },
           {
            "bin_start": 0.30000000000000004,
            "bin_end": 0.4,
            "count": 0
           },
           {
            "bin_start": 0.4,
            "bin_end": 0.5,
            "count": 0
           }
          ]
         }
        },
        {
         "name": "DISPLAY_UNAUTHORIZED_WINDOWS",
         "dtype": "int64",
         "stats": {
          "unique_count": 1,
          "nan_count": 0,
          "min": "0",
          "max": "0",
          "histogram": [
           {
            "bin_start": -0.5,
            "bin_end": -0.4,
            "count": 0
           },
           {
            "bin_start": -0.4,
            "bin_end": -0.3,
            "count": 0
           },
           {
            "bin_start": -0.3,
            "bin_end": -0.19999999999999996,
            "count": 0
           },
           {
            "bin_start": -0.19999999999999996,
            "bin_end": -0.09999999999999998,
            "count": 0
           },
           {
            "bin_start": -0.09999999999999998,
            "bin_end": 0,
            "count": 0
           },
           {
            "bin_start": 0,
            "bin_end": 0.10000000000000009,
            "count": 5
           },
           {
            "bin_start": 0.10000000000000009,
            "bin_end": 0.20000000000000007,
            "count": 0
           },
           {
            "bin_start": 0.20000000000000007,
            "bin_end": 0.30000000000000004,
            "count": 0
           },
           {
            "bin_start": 0.30000000000000004,
            "bin_end": 0.4,
            "count": 0
           },
           {
            "bin_start": 0.4,
            "bin_end": 0.5,
            "count": 0
           }
          ]
         }
        },
        {
         "name": "ENABLE_OR_DISABLE_APPLICATION_COMPONENTS",
         "dtype": "int64",
         "stats": {
          "unique_count": 1,
          "nan_count": 0,
          "min": "0",
          "max": "0",
          "histogram": [
           {
            "bin_start": -0.5,
            "bin_end": -0.4,
            "count": 0
           },
           {
            "bin_start": -0.4,
            "bin_end": -0.3,
            "count": 0
           },
           {
            "bin_start": -0.3,
            "bin_end": -0.19999999999999996,
            "count": 0
           },
           {
            "bin_start": -0.19999999999999996,
            "bin_end": -0.09999999999999998,
            "count": 0
           },
           {
            "bin_start": -0.09999999999999998,
            "bin_end": 0,
            "count": 0
           },
           {
            "bin_start": 0,
            "bin_end": 0.10000000000000009,
            "count": 5
           },
           {
            "bin_start": 0.10000000000000009,
            "bin_end": 0.20000000000000007,
            "count": 0
           },
           {
            "bin_start": 0.20000000000000007,
            "bin_end": 0.30000000000000004,
            "count": 0
           },
           {
            "bin_start": 0.30000000000000004,
            "bin_end": 0.4,
            "count": 0
           },
           {
            "bin_start": 0.4,
            "bin_end": 0.5,
            "count": 0
           }
          ]
         }
        },
        {
         "name": "FORCE_APPLICATION_TO_CLOSE",
         "dtype": "int64",
         "stats": {
          "unique_count": 1,
          "nan_count": 0,
          "min": "0",
          "max": "0",
          "histogram": [
           {
            "bin_start": -0.5,
            "bin_end": -0.4,
            "count": 0
           },
           {
            "bin_start": -0.4,
            "bin_end": -0.3,
            "count": 0
           },
           {
            "bin_start": -0.3,
            "bin_end": -0.19999999999999996,
            "count": 0
           },
           {
            "bin_start": -0.19999999999999996,
            "bin_end": -0.09999999999999998,
            "count": 0
           },
           {
            "bin_start": -0.09999999999999998,
            "bin_end": 0,
            "count": 0
           },
           {
            "bin_start": 0,
            "bin_end": 0.10000000000000009,
            "count": 5
           },
           {
            "bin_start": 0.10000000000000009,
            "bin_end": 0.20000000000000007,
            "count": 0
           },
           {
            "bin_start": 0.20000000000000007,
            "bin_end": 0.30000000000000004,
            "count": 0
           },
           {
            "bin_start": 0.30000000000000004,
            "bin_end": 0.4,
            "count": 0
           },
           {
            "bin_start": 0.4,
            "bin_end": 0.5,
            "count": 0
           }
          ]
         }
        },
        {
         "name": "FORCE_DEVICE_REBOOT",
         "dtype": "int64",
         "stats": {
          "unique_count": 1,
          "nan_count": 0,
          "min": "0",
          "max": "0",
          "histogram": [
           {
            "bin_start": -0.5,
            "bin_end": -0.4,
            "count": 0
           },
           {
            "bin_start": -0.4,
            "bin_end": -0.3,
            "count": 0
           },
           {
            "bin_start": -0.3,
            "bin_end": -0.19999999999999996,
            "count": 0
           },
           {
            "bin_start": -0.19999999999999996,
            "bin_end": -0.09999999999999998,
            "count": 0
           },
           {
            "bin_start": -0.09999999999999998,
            "bin_end": 0,
            "count": 0
           },
           {
            "bin_start": 0,
            "bin_end": 0.10000000000000009,
            "count": 5
           },
           {
            "bin_start": 0.10000000000000009,
            "bin_end": 0.20000000000000007,
            "count": 0
           },
           {
            "bin_start": 0.20000000000000007,
            "bin_end": 0.30000000000000004,
            "count": 0
           },
           {
            "bin_start": 0.30000000000000004,
            "bin_end": 0.4,
            "count": 0
           },
           {
            "bin_start": 0.4,
            "bin_end": 0.5,
            "count": 0
           }
          ]
         }
        },
        {
         "name": "FULL_INTERNET_ACCESS",
         "dtype": "int64",
         "stats": {
          "unique_count": 1,
          "nan_count": 0,
          "min": "0",
          "max": "0",
          "histogram": [
           {
            "bin_start": -0.5,
            "bin_end": -0.4,
            "count": 0
           },
           {
            "bin_start": -0.4,
            "bin_end": -0.3,
            "count": 0
           },
           {
            "bin_start": -0.3,
            "bin_end": -0.19999999999999996,
            "count": 0
           },
           {
            "bin_start": -0.19999999999999996,
            "bin_end": -0.09999999999999998,
            "count": 0
           },
           {
            "bin_start": -0.09999999999999998,
            "bin_end": 0,
            "count": 0
           },
           {
            "bin_start": 0,
            "bin_end": 0.10000000000000009,
            "count": 5
           },
           {
            "bin_start": 0.10000000000000009,
            "bin_end": 0.20000000000000007,
            "count": 0
           },
           {
            "bin_start": 0.20000000000000007,
            "bin_end": 0.30000000000000004,
            "count": 0
           },
           {
            "bin_start": 0.30000000000000004,
            "bin_end": 0.4,
            "count": 0
           },
           {
            "bin_start": 0.4,
            "bin_end": 0.5,
            "count": 0
           }
          ]
         }
        },
        {
         "name": "INTERACT_WITH_A_DEVICE_ADMIN",
         "dtype": "int64",
         "stats": {
          "unique_count": 1,
          "nan_count": 0,
          "min": "0",
          "max": "0",
          "histogram": [
           {
            "bin_start": -0.5,
            "bin_end": -0.4,
            "count": 0
           },
           {
            "bin_start": -0.4,
            "bin_end": -0.3,
            "count": 0
           },
           {
            "bin_start": -0.3,
            "bin_end": -0.19999999999999996,
            "count": 0
           },
           {
            "bin_start": -0.19999999999999996,
            "bin_end": -0.09999999999999998,
            "count": 0
           },
           {
            "bin_start": -0.09999999999999998,
            "bin_end": 0,
            "count": 0
           },
           {
            "bin_start": 0,
            "bin_end": 0.10000000000000009,
            "count": 5
           },
           {
            "bin_start": 0.10000000000000009,
            "bin_end": 0.20000000000000007,
            "count": 0
           },
           {
            "bin_start": 0.20000000000000007,
            "bin_end": 0.30000000000000004,
            "count": 0
           },
           {
            "bin_start": 0.30000000000000004,
            "bin_end": 0.4,
            "count": 0
           },
           {
            "bin_start": 0.4,
            "bin_end": 0.5,
            "count": 0
           }
          ]
         }
        },
        {
         "name": "MANAGE_APPLICATION_TOKENS",
         "dtype": "int64",
         "stats": {
          "unique_count": 1,
          "nan_count": 0,
          "min": "0",
          "max": "0",
          "histogram": [
           {
            "bin_start": -0.5,
            "bin_end": -0.4,
            "count": 0
           },
           {
            "bin_start": -0.4,
            "bin_end": -0.3,
            "count": 0
           },
           {
            "bin_start": -0.3,
            "bin_end": -0.19999999999999996,
            "count": 0
           },
           {
            "bin_start": -0.19999999999999996,
            "bin_end": -0.09999999999999998,
            "count": 0
           },
           {
            "bin_start": -0.09999999999999998,
            "bin_end": 0,
            "count": 0
           },
           {
            "bin_start": 0,
            "bin_end": 0.10000000000000009,
            "count": 5
           },
           {
            "bin_start": 0.10000000000000009,
            "bin_end": 0.20000000000000007,
            "count": 0
           },
           {
            "bin_start": 0.20000000000000007,
            "bin_end": 0.30000000000000004,
            "count": 0
           },
           {
            "bin_start": 0.30000000000000004,
            "bin_end": 0.4,
            "count": 0
           },
           {
            "bin_start": 0.4,
            "bin_end": 0.5,
            "count": 0
           }
          ]
         }
        },
        {
         "name": "MOCK_LOCATION_SOURCES_FOR_TESTING",
         "dtype": "int64",
         "stats": {
          "unique_count": 1,
          "nan_count": 0,
          "min": "0",
          "max": "0",
          "histogram": [
           {
            "bin_start": -0.5,
            "bin_end": -0.4,
            "count": 0
           },
           {
            "bin_start": -0.4,
            "bin_end": -0.3,
            "count": 0
           },
           {
            "bin_start": -0.3,
            "bin_end": -0.19999999999999996,
            "count": 0
           },
           {
            "bin_start": -0.19999999999999996,
            "bin_end": -0.09999999999999998,
            "count": 0
           },
           {
            "bin_start": -0.09999999999999998,
            "bin_end": 0,
            "count": 0
           },
           {
            "bin_start": 0,
            "bin_end": 0.10000000000000009,
            "count": 5
           },
           {
            "bin_start": 0.10000000000000009,
            "bin_end": 0.20000000000000007,
            "count": 0
           },
           {
            "bin_start": 0.20000000000000007,
            "bin_end": 0.30000000000000004,
            "count": 0
           },
           {
            "bin_start": 0.30000000000000004,
            "bin_end": 0.4,
            "count": 0
           },
           {
            "bin_start": 0.4,
            "bin_end": 0.5,
            "count": 0
           }
          ]
         }
        },
        {
         "name": "MODIFY_BATTERY_STATISTICS",
         "dtype": "int64",
         "stats": {
          "unique_count": 1,
          "nan_count": 0,
          "min": "0",
          "max": "0",
          "histogram": [
           {
            "bin_start": -0.5,
            "bin_end": -0.4,
            "count": 0
           },
           {
            "bin_start": -0.4,
            "bin_end": -0.3,
            "count": 0
           },
           {
            "bin_start": -0.3,
            "bin_end": -0.19999999999999996,
            "count": 0
           },
           {
            "bin_start": -0.19999999999999996,
            "bin_end": -0.09999999999999998,
            "count": 0
           },
           {
            "bin_start": -0.09999999999999998,
            "bin_end": 0,
            "count": 0
           },
           {
            "bin_start": 0,
            "bin_end": 0.10000000000000009,
            "count": 5
           },
           {
            "bin_start": 0.10000000000000009,
            "bin_end": 0.20000000000000007,
            "count": 0
           },
           {
            "bin_start": 0.20000000000000007,
            "bin_end": 0.30000000000000004,
            "count": 0
           },
           {
            "bin_start": 0.30000000000000004,
            "bin_end": 0.4,
            "count": 0
           },
           {
            "bin_start": 0.4,
            "bin_end": 0.5,
            "count": 0
           }
          ]
         }
        },
        {
         "name": "MODIFY_SECURE_SYSTEM_SETTINGS",
         "dtype": "int64",
         "stats": {
          "unique_count": 1,
          "nan_count": 0,
          "min": "0",
          "max": "0",
          "histogram": [
           {
            "bin_start": -0.5,
            "bin_end": -0.4,
            "count": 0
           },
           {
            "bin_start": -0.4,
            "bin_end": -0.3,
            "count": 0
           },
           {
            "bin_start": -0.3,
            "bin_end": -0.19999999999999996,
            "count": 0
           },
           {
            "bin_start": -0.19999999999999996,
            "bin_end": -0.09999999999999998,
            "count": 0
           },
           {
            "bin_start": -0.09999999999999998,
            "bin_end": 0,
            "count": 0
           },
           {
            "bin_start": 0,
            "bin_end": 0.10000000000000009,
            "count": 5
           },
           {
            "bin_start": 0.10000000000000009,
            "bin_end": 0.20000000000000007,
            "count": 0
           },
           {
            "bin_start": 0.20000000000000007,
            "bin_end": 0.30000000000000004,
            "count": 0
           },
           {
            "bin_start": 0.30000000000000004,
            "bin_end": 0.4,
            "count": 0
           },
           {
            "bin_start": 0.4,
            "bin_end": 0.5,
            "count": 0
           }
          ]
         }
        },
        {
         "name": "MODIFY_THE_GOOGLE_SERVICES_MAP",
         "dtype": "int64",
         "stats": {
          "unique_count": 1,
          "nan_count": 0,
          "min": "0",
          "max": "0",
          "histogram": [
           {
            "bin_start": -0.5,
            "bin_end": -0.4,
            "count": 0
           },
           {
            "bin_start": -0.4,
            "bin_end": -0.3,
            "count": 0
           },
           {
            "bin_start": -0.3,
            "bin_end": -0.19999999999999996,
            "count": 0
           },
           {
            "bin_start": -0.19999999999999996,
            "bin_end": -0.09999999999999998,
            "count": 0
           },
           {
            "bin_start": -0.09999999999999998,
            "bin_end": 0,
            "count": 0
           },
           {
            "bin_start": 0,
            "bin_end": 0.10000000000000009,
            "count": 5
           },
           {
            "bin_start": 0.10000000000000009,
            "bin_end": 0.20000000000000007,
            "count": 0
           },
           {
            "bin_start": 0.20000000000000007,
            "bin_end": 0.30000000000000004,
            "count": 0
           },
           {
            "bin_start": 0.30000000000000004,
            "bin_end": 0.4,
            "count": 0
           },
           {
            "bin_start": 0.4,
            "bin_end": 0.5,
            "count": 0
           }
          ]
         }
        },
        {
         "name": "MODIFY/DELETE_USB_STORAGE_CONTENTS_MODIFY/DELETE_SD_CARD_CONTENTS",
         "dtype": "int64",
         "stats": {
          "unique_count": 1,
          "nan_count": 0,
          "min": "0",
          "max": "0",
          "histogram": [
           {
            "bin_start": -0.5,
            "bin_end": -0.4,
            "count": 0
           },
           {
            "bin_start": -0.4,
            "bin_end": -0.3,
            "count": 0
           },
           {
            "bin_start": -0.3,
            "bin_end": -0.19999999999999996,
            "count": 0
           },
           {
            "bin_start": -0.19999999999999996,
            "bin_end": -0.09999999999999998,
            "count": 0
           },
           {
            "bin_start": -0.09999999999999998,
            "bin_end": 0,
            "count": 0
           },
           {
            "bin_start": 0,
            "bin_end": 0.10000000000000009,
            "count": 5
           },
           {
            "bin_start": 0.10000000000000009,
            "bin_end": 0.20000000000000007,
            "count": 0
           },
           {
            "bin_start": 0.20000000000000007,
            "bin_end": 0.30000000000000004,
            "count": 0
           },
           {
            "bin_start": 0.30000000000000004,
            "bin_end": 0.4,
            "count": 0
           },
           {
            "bin_start": 0.4,
            "bin_end": 0.5,
            "count": 0
           }
          ]
         }
        },
        {
         "name": "MONITOR_AND_CONTROL_ALL_APPLICATION_LAUNCHING",
         "dtype": "int64",
         "stats": {
          "unique_count": 1,
          "nan_count": 0,
          "min": "0",
          "max": "0",
          "histogram": [
           {
            "bin_start": -0.5,
            "bin_end": -0.4,
            "count": 0
           },
           {
            "bin_start": -0.4,
            "bin_end": -0.3,
            "count": 0
           },
           {
            "bin_start": -0.3,
            "bin_end": -0.19999999999999996,
            "count": 0
           },
           {
            "bin_start": -0.19999999999999996,
            "bin_end": -0.09999999999999998,
            "count": 0
           },
           {
            "bin_start": -0.09999999999999998,
            "bin_end": 0,
            "count": 0
           },
           {
            "bin_start": 0,
            "bin_end": 0.10000000000000009,
            "count": 5
           },
           {
            "bin_start": 0.10000000000000009,
            "bin_end": 0.20000000000000007,
            "count": 0
           },
           {
            "bin_start": 0.20000000000000007,
            "bin_end": 0.30000000000000004,
            "count": 0
           },
           {
            "bin_start": 0.30000000000000004,
            "bin_end": 0.4,
            "count": 0
           },
           {
            "bin_start": 0.4,
            "bin_end": 0.5,
            "count": 0
           }
          ]
         }
        },
        {
         "name": "PARTIAL_SHUTDOWN",
         "dtype": "int64",
         "stats": {
          "unique_count": 1,
          "nan_count": 0,
          "min": "0",
          "max": "0",
          "histogram": [
           {
            "bin_start": -0.5,
            "bin_end": -0.4,
            "count": 0
           },
           {
            "bin_start": -0.4,
            "bin_end": -0.3,
            "count": 0
           },
           {
            "bin_start": -0.3,
            "bin_end": -0.19999999999999996,
            "count": 0
           },
           {
            "bin_start": -0.19999999999999996,
            "bin_end": -0.09999999999999998,
            "count": 0
           },
           {
            "bin_start": -0.09999999999999998,
            "bin_end": 0,
            "count": 0
           },
           {
            "bin_start": 0,
            "bin_end": 0.10000000000000009,
            "count": 5
           },
           {
            "bin_start": 0.10000000000000009,
            "bin_end": 0.20000000000000007,
            "count": 0
           },
           {
            "bin_start": 0.20000000000000007,
            "bin_end": 0.30000000000000004,
            "count": 0
           },
           {
            "bin_start": 0.30000000000000004,
            "bin_end": 0.4,
            "count": 0
           },
           {
            "bin_start": 0.4,
            "bin_end": 0.5,
            "count": 0
           }
          ]
         }
        },
        {
         "name": "PERMANENTLY_DISABLE_DEVICE",
         "dtype": "int64",
         "stats": {
          "unique_count": 1,
          "nan_count": 0,
          "min": "0",
          "max": "0",
          "histogram": [
           {
            "bin_start": -0.5,
            "bin_end": -0.4,
            "count": 0
           },
           {
            "bin_start": -0.4,
            "bin_end": -0.3,
            "count": 0
           },
           {
            "bin_start": -0.3,
            "bin_end": -0.19999999999999996,
            "count": 0
           },
           {
            "bin_start": -0.19999999999999996,
            "bin_end": -0.09999999999999998,
            "count": 0
           },
           {
            "bin_start": -0.09999999999999998,
            "bin_end": 0,
            "count": 0
           },
           {
            "bin_start": 0,
            "bin_end": 0.10000000000000009,
            "count": 5
           },
           {
            "bin_start": 0.10000000000000009,
            "bin_end": 0.20000000000000007,
            "count": 0
           },
           {
            "bin_start": 0.20000000000000007,
            "bin_end": 0.30000000000000004,
            "count": 0
           },
           {
            "bin_start": 0.30000000000000004,
            "bin_end": 0.4,
            "count": 0
           },
           {
            "bin_start": 0.4,
            "bin_end": 0.5,
            "count": 0
           }
          ]
         }
        },
        {
         "name": "PERMISSION_TO_INSTALL_A_LOCATION_PROVIDER",
         "dtype": "int64",
         "stats": {
          "unique_count": 1,
          "nan_count": 0,
          "min": "0",
          "max": "0",
          "histogram": [
           {
            "bin_start": -0.5,
            "bin_end": -0.4,
            "count": 0
           },
           {
            "bin_start": -0.4,
            "bin_end": -0.3,
            "count": 0
           },
           {
            "bin_start": -0.3,
            "bin_end": -0.19999999999999996,
            "count": 0
           },
           {
            "bin_start": -0.19999999999999996,
            "bin_end": -0.09999999999999998,
            "count": 0
           },
           {
            "bin_start": -0.09999999999999998,
            "bin_end": 0,
            "count": 0
           },
           {
            "bin_start": 0,
            "bin_end": 0.10000000000000009,
            "count": 5
           },
           {
            "bin_start": 0.10000000000000009,
            "bin_end": 0.20000000000000007,
            "count": 0
           },
           {
            "bin_start": 0.20000000000000007,
            "bin_end": 0.30000000000000004,
            "count": 0
           },
           {
            "bin_start": 0.30000000000000004,
            "bin_end": 0.4,
            "count": 0
           },
           {
            "bin_start": 0.4,
            "bin_end": 0.5,
            "count": 0
           }
          ]
         }
        },
        {
         "name": "POWER_DEVICE_ON_OR_OFF",
         "dtype": "int64",
         "stats": {
          "unique_count": 1,
          "nan_count": 0,
          "min": "0",
          "max": "0",
          "histogram": [
           {
            "bin_start": -0.5,
            "bin_end": -0.4,
            "count": 0
           },
           {
            "bin_start": -0.4,
            "bin_end": -0.3,
            "count": 0
           },
           {
            "bin_start": -0.3,
            "bin_end": -0.19999999999999996,
            "count": 0
           },
           {
            "bin_start": -0.19999999999999996,
            "bin_end": -0.09999999999999998,
            "count": 0
           },
           {
            "bin_start": -0.09999999999999998,
            "bin_end": 0,
            "count": 0
           },
           {
            "bin_start": 0,
            "bin_end": 0.10000000000000009,
            "count": 5
           },
           {
            "bin_start": 0.10000000000000009,
            "bin_end": 0.20000000000000007,
            "count": 0
           },
           {
            "bin_start": 0.20000000000000007,
            "bin_end": 0.30000000000000004,
            "count": 0
           },
           {
            "bin_start": 0.30000000000000004,
            "bin_end": 0.4,
            "count": 0
           },
           {
            "bin_start": 0.4,
            "bin_end": 0.5,
            "count": 0
           }
          ]
         }
        },
        {
         "name": "PRESS_KEYS_AND_CONTROL_BUTTONS",
         "dtype": "int64",
         "stats": {
          "unique_count": 1,
          "nan_count": 0,
          "min": "0",
          "max": "0",
          "histogram": [
           {
            "bin_start": -0.5,
            "bin_end": -0.4,
            "count": 0
           },
           {
            "bin_start": -0.4,
            "bin_end": -0.3,
            "count": 0
           },
           {
            "bin_start": -0.3,
            "bin_end": -0.19999999999999996,
            "count": 0
           },
           {
            "bin_start": -0.19999999999999996,
            "bin_end": -0.09999999999999998,
            "count": 0
           },
           {
            "bin_start": -0.09999999999999998,
            "bin_end": 0,
            "count": 0
           },
           {
            "bin_start": 0,
            "bin_end": 0.10000000000000009,
            "count": 5
           },
           {
            "bin_start": 0.10000000000000009,
            "bin_end": 0.20000000000000007,
            "count": 0
           },
           {
            "bin_start": 0.20000000000000007,
            "bin_end": 0.30000000000000004,
            "count": 0
           },
           {
            "bin_start": 0.30000000000000004,
            "bin_end": 0.4,
            "count": 0
           },
           {
            "bin_start": 0.4,
            "bin_end": 0.5,
            "count": 0
           }
          ]
         }
        },
        {
         "name": "PREVENT_APP_SWITCHES",
         "dtype": "int64",
         "stats": {
          "unique_count": 1,
          "nan_count": 0,
          "min": "0",
          "max": "0",
          "histogram": [
           {
            "bin_start": -0.5,
            "bin_end": -0.4,
            "count": 0
           },
           {
            "bin_start": -0.4,
            "bin_end": -0.3,
            "count": 0
           },
           {
            "bin_start": -0.3,
            "bin_end": -0.19999999999999996,
            "count": 0
           },
           {
            "bin_start": -0.19999999999999996,
            "bin_end": -0.09999999999999998,
            "count": 0
           },
           {
            "bin_start": -0.09999999999999998,
            "bin_end": 0,
            "count": 0
           },
           {
            "bin_start": 0,
            "bin_end": 0.10000000000000009,
            "count": 5
           },
           {
            "bin_start": 0.10000000000000009,
            "bin_end": 0.20000000000000007,
            "count": 0
           },
           {
            "bin_start": 0.20000000000000007,
            "bin_end": 0.30000000000000004,
            "count": 0
           },
           {
            "bin_start": 0.30000000000000004,
            "bin_end": 0.4,
            "count": 0
           },
           {
            "bin_start": 0.4,
            "bin_end": 0.5,
            "count": 0
           }
          ]
         }
        },
        {
         "name": "READ_FRAME_BUFFER",
         "dtype": "int64",
         "stats": {
          "unique_count": 1,
          "nan_count": 0,
          "min": "0",
          "max": "0",
          "histogram": [
           {
            "bin_start": -0.5,
            "bin_end": -0.4,
            "count": 0
           },
           {
            "bin_start": -0.4,
            "bin_end": -0.3,
            "count": 0
           },
           {
            "bin_start": -0.3,
            "bin_end": -0.19999999999999996,
            "count": 0
           },
           {
            "bin_start": -0.19999999999999996,
            "bin_end": -0.09999999999999998,
            "count": 0
           },
           {
            "bin_start": -0.09999999999999998,
            "bin_end": 0,
            "count": 0
           },
           {
            "bin_start": 0,
            "bin_end": 0.10000000000000009,
            "count": 5
           },
           {
            "bin_start": 0.10000000000000009,
            "bin_end": 0.20000000000000007,
            "count": 0
           },
           {
            "bin_start": 0.20000000000000007,
            "bin_end": 0.30000000000000004,
            "count": 0
           },
           {
            "bin_start": 0.30000000000000004,
            "bin_end": 0.4,
            "count": 0
           },
           {
            "bin_start": 0.4,
            "bin_end": 0.5,
            "count": 0
           }
          ]
         }
        },
        {
         "name": "READ_INSTANT_MESSAGES",
         "dtype": "int64",
         "stats": {
          "unique_count": 1,
          "nan_count": 0,
          "min": "0",
          "max": "0",
          "histogram": [
           {
            "bin_start": -0.5,
            "bin_end": -0.4,
            "count": 0
           },
           {
            "bin_start": -0.4,
            "bin_end": -0.3,
            "count": 0
           },
           {
            "bin_start": -0.3,
            "bin_end": -0.19999999999999996,
            "count": 0
           },
           {
            "bin_start": -0.19999999999999996,
            "bin_end": -0.09999999999999998,
            "count": 0
           },
           {
            "bin_start": -0.09999999999999998,
            "bin_end": 0,
            "count": 0
           },
           {
            "bin_start": 0,
            "bin_end": 0.10000000000000009,
            "count": 5
           },
           {
            "bin_start": 0.10000000000000009,
            "bin_end": 0.20000000000000007,
            "count": 0
           },
           {
            "bin_start": 0.20000000000000007,
            "bin_end": 0.30000000000000004,
            "count": 0
           },
           {
            "bin_start": 0.30000000000000004,
            "bin_end": 0.4,
            "count": 0
           },
           {
            "bin_start": 0.4,
            "bin_end": 0.5,
            "count": 0
           }
          ]
         }
        },
        {
         "name": "READ_PHONE_STATE_AND_IDENTITY",
         "dtype": "int64",
         "stats": {
          "unique_count": 1,
          "nan_count": 0,
          "min": "0",
          "max": "0",
          "histogram": [
           {
            "bin_start": -0.5,
            "bin_end": -0.4,
            "count": 0
           },
           {
            "bin_start": -0.4,
            "bin_end": -0.3,
            "count": 0
           },
           {
            "bin_start": -0.3,
            "bin_end": -0.19999999999999996,
            "count": 0
           },
           {
            "bin_start": -0.19999999999999996,
            "bin_end": -0.09999999999999998,
            "count": 0
           },
           {
            "bin_start": -0.09999999999999998,
            "bin_end": 0,
            "count": 0
           },
           {
            "bin_start": 0,
            "bin_end": 0.10000000000000009,
            "count": 5
           },
           {
            "bin_start": 0.10000000000000009,
            "bin_end": 0.20000000000000007,
            "count": 0
           },
           {
            "bin_start": 0.20000000000000007,
            "bin_end": 0.30000000000000004,
            "count": 0
           },
           {
            "bin_start": 0.30000000000000004,
            "bin_end": 0.4,
            "count": 0
           },
           {
            "bin_start": 0.4,
            "bin_end": 0.5,
            "count": 0
           }
          ]
         }
        },
        {
         "name": "RECORD_WHAT_YOU_TYPE_AND_ACTIONS_YOU_TAKE",
         "dtype": "int64",
         "stats": {
          "unique_count": 1,
          "nan_count": 0,
          "min": "0",
          "max": "0",
          "histogram": [
           {
            "bin_start": -0.5,
            "bin_end": -0.4,
            "count": 0
           },
           {
            "bin_start": -0.4,
            "bin_end": -0.3,
            "count": 0
           },
           {
            "bin_start": -0.3,
            "bin_end": -0.19999999999999996,
            "count": 0
           },
           {
            "bin_start": -0.19999999999999996,
            "bin_end": -0.09999999999999998,
            "count": 0
           },
           {
            "bin_start": -0.09999999999999998,
            "bin_end": 0,
            "count": 0
           },
           {
            "bin_start": 0,
            "bin_end": 0.10000000000000009,
            "count": 5
           },
           {
            "bin_start": 0.10000000000000009,
            "bin_end": 0.20000000000000007,
            "count": 0
           },
           {
            "bin_start": 0.20000000000000007,
            "bin_end": 0.30000000000000004,
            "count": 0
           },
           {
            "bin_start": 0.30000000000000004,
            "bin_end": 0.4,
            "count": 0
           },
           {
            "bin_start": 0.4,
            "bin_end": 0.5,
            "count": 0
           }
          ]
         }
        },
        {
         "name": "RESET_SYSTEM_TO_FACTORY_DEFAULTS",
         "dtype": "int64",
         "stats": {
          "unique_count": 1,
          "nan_count": 0,
          "min": "0",
          "max": "0",
          "histogram": [
           {
            "bin_start": -0.5,
            "bin_end": -0.4,
            "count": 0
           },
           {
            "bin_start": -0.4,
            "bin_end": -0.3,
            "count": 0
           },
           {
            "bin_start": -0.3,
            "bin_end": -0.19999999999999996,
            "count": 0
           },
           {
            "bin_start": -0.19999999999999996,
            "bin_end": -0.09999999999999998,
            "count": 0
           },
           {
            "bin_start": -0.09999999999999998,
            "bin_end": 0,
            "count": 0
           },
           {
            "bin_start": 0,
            "bin_end": 0.10000000000000009,
            "count": 5
           },
           {
            "bin_start": 0.10000000000000009,
            "bin_end": 0.20000000000000007,
            "count": 0
           },
           {
            "bin_start": 0.20000000000000007,
            "bin_end": 0.30000000000000004,
            "count": 0
           },
           {
            "bin_start": 0.30000000000000004,
            "bin_end": 0.4,
            "count": 0
           },
           {
            "bin_start": 0.4,
            "bin_end": 0.5,
            "count": 0
           }
          ]
         }
        },
        {
         "name": "RUN_IN_FACTORY_TEST_MODE",
         "dtype": "int64",
         "stats": {
          "unique_count": 1,
          "nan_count": 0,
          "min": "0",
          "max": "0",
          "histogram": [
           {
            "bin_start": -0.5,
            "bin_end": -0.4,
            "count": 0
           },
           {
            "bin_start": -0.4,
            "bin_end": -0.3,
            "count": 0
           },
           {
            "bin_start": -0.3,
            "bin_end": -0.19999999999999996,
            "count": 0
           },
           {
            "bin_start": -0.19999999999999996,
            "bin_end": -0.09999999999999998,
            "count": 0
           },
           {
            "bin_start": -0.09999999999999998,
            "bin_end": 0,
            "count": 0
           },
           {
            "bin_start": 0,
            "bin_end": 0.10000000000000009,
            "count": 5
           },
           {
            "bin_start": 0.10000000000000009,
            "bin_end": 0.20000000000000007,
            "count": 0
           },
           {
            "bin_start": 0.20000000000000007,
            "bin_end": 0.30000000000000004,
            "count": 0
           },
           {
            "bin_start": 0.30000000000000004,
            "bin_end": 0.4,
            "count": 0
           },
           {
            "bin_start": 0.4,
            "bin_end": 0.5,
            "count": 0
           }
          ]
         }
        },
        {
         "name": "SET_TIME",
         "dtype": "int64",
         "stats": {
          "unique_count": 1,
          "nan_count": 0,
          "min": "0",
          "max": "0",
          "histogram": [
           {
            "bin_start": -0.5,
            "bin_end": -0.4,
            "count": 0
           },
           {
            "bin_start": -0.4,
            "bin_end": -0.3,
            "count": 0
           },
           {
            "bin_start": -0.3,
            "bin_end": -0.19999999999999996,
            "count": 0
           },
           {
            "bin_start": -0.19999999999999996,
            "bin_end": -0.09999999999999998,
            "count": 0
           },
           {
            "bin_start": -0.09999999999999998,
            "bin_end": 0,
            "count": 0
           },
           {
            "bin_start": 0,
            "bin_end": 0.10000000000000009,
            "count": 5
           },
           {
            "bin_start": 0.10000000000000009,
            "bin_end": 0.20000000000000007,
            "count": 0
           },
           {
            "bin_start": 0.20000000000000007,
            "bin_end": 0.30000000000000004,
            "count": 0
           },
           {
            "bin_start": 0.30000000000000004,
            "bin_end": 0.4,
            "count": 0
           },
           {
            "bin_start": 0.4,
            "bin_end": 0.5,
            "count": 0
           }
          ]
         }
        },
        {
         "name": "SET_WALLPAPER_SIZE_HINTS",
         "dtype": "int64",
         "stats": {
          "unique_count": 1,
          "nan_count": 0,
          "min": "0",
          "max": "0",
          "histogram": [
           {
            "bin_start": -0.5,
            "bin_end": -0.4,
            "count": 0
           },
           {
            "bin_start": -0.4,
            "bin_end": -0.3,
            "count": 0
           },
           {
            "bin_start": -0.3,
            "bin_end": -0.19999999999999996,
            "count": 0
           },
           {
            "bin_start": -0.19999999999999996,
            "bin_end": -0.09999999999999998,
            "count": 0
           },
           {
            "bin_start": -0.09999999999999998,
            "bin_end": 0,
            "count": 0
           },
           {
            "bin_start": 0,
            "bin_end": 0.10000000000000009,
            "count": 5
           },
           {
            "bin_start": 0.10000000000000009,
            "bin_end": 0.20000000000000007,
            "count": 0
           },
           {
            "bin_start": 0.20000000000000007,
            "bin_end": 0.30000000000000004,
            "count": 0
           },
           {
            "bin_start": 0.30000000000000004,
            "bin_end": 0.4,
            "count": 0
           },
           {
            "bin_start": 0.4,
            "bin_end": 0.5,
            "count": 0
           }
          ]
         }
        },
        {
         "name": "START_IM_SERVICE",
         "dtype": "int64",
         "stats": {
          "unique_count": 1,
          "nan_count": 0,
          "min": "0",
          "max": "0",
          "histogram": [
           {
            "bin_start": -0.5,
            "bin_end": -0.4,
            "count": 0
           },
           {
            "bin_start": -0.4,
            "bin_end": -0.3,
            "count": 0
           },
           {
            "bin_start": -0.3,
            "bin_end": -0.19999999999999996,
            "count": 0
           },
           {
            "bin_start": -0.19999999999999996,
            "bin_end": -0.09999999999999998,
            "count": 0
           },
           {
            "bin_start": -0.09999999999999998,
            "bin_end": 0,
            "count": 0
           },
           {
            "bin_start": 0,
            "bin_end": 0.10000000000000009,
            "count": 5
           },
           {
            "bin_start": 0.10000000000000009,
            "bin_end": 0.20000000000000007,
            "count": 0
           },
           {
            "bin_start": 0.20000000000000007,
            "bin_end": 0.30000000000000004,
            "count": 0
           },
           {
            "bin_start": 0.30000000000000004,
            "bin_end": 0.4,
            "count": 0
           },
           {
            "bin_start": 0.4,
            "bin_end": 0.5,
            "count": 0
           }
          ]
         }
        },
        {
         "name": "UPDATE_COMPONENT_USAGE_STATISTICS",
         "dtype": "int64",
         "stats": {
          "unique_count": 1,
          "nan_count": 0,
          "min": "0",
          "max": "0",
          "histogram": [
           {
            "bin_start": -0.5,
            "bin_end": -0.4,
            "count": 0
           },
           {
            "bin_start": -0.4,
            "bin_end": -0.3,
            "count": 0
           },
           {
            "bin_start": -0.3,
            "bin_end": -0.19999999999999996,
            "count": 0
           },
           {
            "bin_start": -0.19999999999999996,
            "bin_end": -0.09999999999999998,
            "count": 0
           },
           {
            "bin_start": -0.09999999999999998,
            "bin_end": 0,
            "count": 0
           },
           {
            "bin_start": 0,
            "bin_end": 0.10000000000000009,
            "count": 5
           },
           {
            "bin_start": 0.10000000000000009,
            "bin_end": 0.20000000000000007,
            "count": 0
           },
           {
            "bin_start": 0.20000000000000007,
            "bin_end": 0.30000000000000004,
            "count": 0
           },
           {
            "bin_start": 0.30000000000000004,
            "bin_end": 0.4,
            "count": 0
           },
           {
            "bin_start": 0.4,
            "bin_end": 0.5,
            "count": 0
           }
          ]
         }
        },
        {
         "name": "WRITE_CONTACT_DATA",
         "dtype": "int64",
         "stats": {
          "unique_count": 1,
          "nan_count": 0,
          "min": "0",
          "max": "0",
          "histogram": [
           {
            "bin_start": -0.5,
            "bin_end": -0.4,
            "count": 0
           },
           {
            "bin_start": -0.4,
            "bin_end": -0.3,
            "count": 0
           },
           {
            "bin_start": -0.3,
            "bin_end": -0.19999999999999996,
            "count": 0
           },
           {
            "bin_start": -0.19999999999999996,
            "bin_end": -0.09999999999999998,
            "count": 0
           },
           {
            "bin_start": -0.09999999999999998,
            "bin_end": 0,
            "count": 0
           },
           {
            "bin_start": 0,
            "bin_end": 0.10000000000000009,
            "count": 5
           },
           {
            "bin_start": 0.10000000000000009,
            "bin_end": 0.20000000000000007,
            "count": 0
           },
           {
            "bin_start": 0.20000000000000007,
            "bin_end": 0.30000000000000004,
            "count": 0
           },
           {
            "bin_start": 0.30000000000000004,
            "bin_end": 0.4,
            "count": 0
           },
           {
            "bin_start": 0.4,
            "bin_end": 0.5,
            "count": 0
           }
          ]
         }
        },
        {
         "name": "WRITE_INSTANT_MESSAGES",
         "dtype": "int64",
         "stats": {
          "unique_count": 1,
          "nan_count": 0,
          "min": "0",
          "max": "0",
          "histogram": [
           {
            "bin_start": -0.5,
            "bin_end": -0.4,
            "count": 0
           },
           {
            "bin_start": -0.4,
            "bin_end": -0.3,
            "count": 0
           },
           {
            "bin_start": -0.3,
            "bin_end": -0.19999999999999996,
            "count": 0
           },
           {
            "bin_start": -0.19999999999999996,
            "bin_end": -0.09999999999999998,
            "count": 0
           },
           {
            "bin_start": -0.09999999999999998,
            "bin_end": 0,
            "count": 0
           },
           {
            "bin_start": 0,
            "bin_end": 0.10000000000000009,
            "count": 5
           },
           {
            "bin_start": 0.10000000000000009,
            "bin_end": 0.20000000000000007,
            "count": 0
           },
           {
            "bin_start": 0.20000000000000007,
            "bin_end": 0.30000000000000004,
            "count": 0
           },
           {
            "bin_start": 0.30000000000000004,
            "bin_end": 0.4,
            "count": 0
           },
           {
            "bin_start": 0.4,
            "bin_end": 0.5,
            "count": 0
           }
          ]
         }
        },
        {
         "name": "ENABLE_APPLICATION_DEBUGGING",
         "dtype": "int64",
         "stats": {
          "unique_count": 1,
          "nan_count": 0,
          "min": "0",
          "max": "0",
          "histogram": [
           {
            "bin_start": -0.5,
            "bin_end": -0.4,
            "count": 0
           },
           {
            "bin_start": -0.4,
            "bin_end": -0.3,
            "count": 0
           },
           {
            "bin_start": -0.3,
            "bin_end": -0.19999999999999996,
            "count": 0
           },
           {
            "bin_start": -0.19999999999999996,
            "bin_end": -0.09999999999999998,
            "count": 0
           },
           {
            "bin_start": -0.09999999999999998,
            "bin_end": 0,
            "count": 0
           },
           {
            "bin_start": 0,
            "bin_end": 0.10000000000000009,
            "count": 5
           },
           {
            "bin_start": 0.10000000000000009,
            "bin_end": 0.20000000000000007,
            "count": 0
           },
           {
            "bin_start": 0.20000000000000007,
            "bin_end": 0.30000000000000004,
            "count": 0
           },
           {
            "bin_start": 0.30000000000000004,
            "bin_end": 0.4,
            "count": 0
           },
           {
            "bin_start": 0.4,
            "bin_end": 0.5,
            "count": 0
           }
          ]
         }
        },
        {
         "name": "LIMIT_NUMBER_OF_RUNNING_PROCESSES",
         "dtype": "int64",
         "stats": {
          "unique_count": 1,
          "nan_count": 0,
          "min": "0",
          "max": "0",
          "histogram": [
           {
            "bin_start": -0.5,
            "bin_end": -0.4,
            "count": 0
           },
           {
            "bin_start": -0.4,
            "bin_end": -0.3,
            "count": 0
           },
           {
            "bin_start": -0.3,
            "bin_end": -0.19999999999999996,
            "count": 0
           },
           {
            "bin_start": -0.19999999999999996,
            "bin_end": -0.09999999999999998,
            "count": 0
           },
           {
            "bin_start": -0.09999999999999998,
            "bin_end": 0,
            "count": 0
           },
           {
            "bin_start": 0,
            "bin_end": 0.10000000000000009,
            "count": 5
           },
           {
            "bin_start": 0.10000000000000009,
            "bin_end": 0.20000000000000007,
            "count": 0
           },
           {
            "bin_start": 0.20000000000000007,
            "bin_end": 0.30000000000000004,
            "count": 0
           },
           {
            "bin_start": 0.30000000000000004,
            "bin_end": 0.4,
            "count": 0
           },
           {
            "bin_start": 0.4,
            "bin_end": 0.5,
            "count": 0
           }
          ]
         }
        },
        {
         "name": "MAKE_ALL_BACKGROUND_APPLICATIONS_CLOSE",
         "dtype": "int64",
         "stats": {
          "unique_count": 1,
          "nan_count": 0,
          "min": "0",
          "max": "0",
          "histogram": [
           {
            "bin_start": -0.5,
            "bin_end": -0.4,
            "count": 0
           },
           {
            "bin_start": -0.4,
            "bin_end": -0.3,
            "count": 0
           },
           {
            "bin_start": -0.3,
            "bin_end": -0.19999999999999996,
            "count": 0
           },
           {
            "bin_start": -0.19999999999999996,
            "bin_end": -0.09999999999999998,
            "count": 0
           },
           {
            "bin_start": -0.09999999999999998,
            "bin_end": 0,
            "count": 0
           },
           {
            "bin_start": 0,
            "bin_end": 0.10000000000000009,
            "count": 5
           },
           {
            "bin_start": 0.10000000000000009,
            "bin_end": 0.20000000000000007,
            "count": 0
           },
           {
            "bin_start": 0.20000000000000007,
            "bin_end": 0.30000000000000004,
            "count": 0
           },
           {
            "bin_start": 0.30000000000000004,
            "bin_end": 0.4,
            "count": 0
           },
           {
            "bin_start": 0.4,
            "bin_end": 0.5,
            "count": 0
           }
          ]
         }
        },
        {
         "name": "SEND_LINUX_SIGNALS_TO_APPLICATIONS",
         "dtype": "int64",
         "stats": {
          "unique_count": 1,
          "nan_count": 0,
          "min": "0",
          "max": "0",
          "histogram": [
           {
            "bin_start": -0.5,
            "bin_end": -0.4,
            "count": 0
           },
           {
            "bin_start": -0.4,
            "bin_end": -0.3,
            "count": 0
           },
           {
            "bin_start": -0.3,
            "bin_end": -0.19999999999999996,
            "count": 0
           },
           {
            "bin_start": -0.19999999999999996,
            "bin_end": -0.09999999999999998,
            "count": 0
           },
           {
            "bin_start": -0.09999999999999998,
            "bin_end": 0,
            "count": 0
           },
           {
            "bin_start": 0,
            "bin_end": 0.10000000000000009,
            "count": 5
           },
           {
            "bin_start": 0.10000000000000009,
            "bin_end": 0.20000000000000007,
            "count": 0
           },
           {
            "bin_start": 0.20000000000000007,
            "bin_end": 0.30000000000000004,
            "count": 0
           },
           {
            "bin_start": 0.30000000000000004,
            "bin_end": 0.4,
            "count": 0
           },
           {
            "bin_start": 0.4,
            "bin_end": 0.5,
            "count": 0
           }
          ]
         }
        },
        {
         "name": "CHANGE_YOUR_AUDIO_SETTINGS",
         "dtype": "int64",
         "stats": {
          "unique_count": 1,
          "nan_count": 0,
          "min": "0",
          "max": "0",
          "histogram": [
           {
            "bin_start": -0.5,
            "bin_end": -0.4,
            "count": 0
           },
           {
            "bin_start": -0.4,
            "bin_end": -0.3,
            "count": 0
           },
           {
            "bin_start": -0.3,
            "bin_end": -0.19999999999999996,
            "count": 0
           },
           {
            "bin_start": -0.19999999999999996,
            "bin_end": -0.09999999999999998,
            "count": 0
           },
           {
            "bin_start": -0.09999999999999998,
            "bin_end": 0,
            "count": 0
           },
           {
            "bin_start": 0,
            "bin_end": 0.10000000000000009,
            "count": 5
           },
           {
            "bin_start": 0.10000000000000009,
            "bin_end": 0.20000000000000007,
            "count": 0
           },
           {
            "bin_start": 0.20000000000000007,
            "bin_end": 0.30000000000000004,
            "count": 0
           },
           {
            "bin_start": 0.30000000000000004,
            "bin_end": 0.4,
            "count": 0
           },
           {
            "bin_start": 0.4,
            "bin_end": 0.5,
            "count": 0
           }
          ]
         }
        },
        {
         "name": "CONTROL_FLASHLIGHT",
         "dtype": "int64",
         "stats": {
          "unique_count": 1,
          "nan_count": 0,
          "min": "0",
          "max": "0",
          "histogram": [
           {
            "bin_start": -0.5,
            "bin_end": -0.4,
            "count": 0
           },
           {
            "bin_start": -0.4,
            "bin_end": -0.3,
            "count": 0
           },
           {
            "bin_start": -0.3,
            "bin_end": -0.19999999999999996,
            "count": 0
           },
           {
            "bin_start": -0.19999999999999996,
            "bin_end": -0.09999999999999998,
            "count": 0
           },
           {
            "bin_start": -0.09999999999999998,
            "bin_end": 0,
            "count": 0
           },
           {
            "bin_start": 0,
            "bin_end": 0.10000000000000009,
            "count": 5
           },
           {
            "bin_start": 0.10000000000000009,
            "bin_end": 0.20000000000000007,
            "count": 0
           },
           {
            "bin_start": 0.20000000000000007,
            "bin_end": 0.30000000000000004,
            "count": 0
           },
           {
            "bin_start": 0.30000000000000004,
            "bin_end": 0.4,
            "count": 0
           },
           {
            "bin_start": 0.4,
            "bin_end": 0.5,
            "count": 0
           }
          ]
         }
        },
        {
         "name": "CONTROL_VIBRATOR",
         "dtype": "int64",
         "stats": {
          "unique_count": 2,
          "nan_count": 0,
          "min": "0",
          "max": "1",
          "histogram": [
           {
            "bin_start": 0,
            "bin_end": 0.1,
            "count": 3
           },
           {
            "bin_start": 0.1,
            "bin_end": 0.2,
            "count": 0
           },
           {
            "bin_start": 0.2,
            "bin_end": 0.30000000000000004,
            "count": 0
           },
           {
            "bin_start": 0.30000000000000004,
            "bin_end": 0.4,
            "count": 0
           },
           {
            "bin_start": 0.4,
            "bin_end": 0.5,
            "count": 0
           },
           {
            "bin_start": 0.5,
            "bin_end": 0.6000000000000001,
            "count": 0
           },
           {
            "bin_start": 0.6000000000000001,
            "bin_end": 0.7000000000000001,
            "count": 0
           },
           {
            "bin_start": 0.7000000000000001,
            "bin_end": 0.8,
            "count": 0
           },
           {
            "bin_start": 0.8,
            "bin_end": 0.9,
            "count": 0
           },
           {
            "bin_start": 0.9,
            "bin_end": 1,
            "count": 2
           }
          ]
         }
        },
        {
         "name": "RECORD_AUDIO",
         "dtype": "int64",
         "stats": {
          "unique_count": 1,
          "nan_count": 0,
          "min": "0",
          "max": "0",
          "histogram": [
           {
            "bin_start": -0.5,
            "bin_end": -0.4,
            "count": 0
           },
           {
            "bin_start": -0.4,
            "bin_end": -0.3,
            "count": 0
           },
           {
            "bin_start": -0.3,
            "bin_end": -0.19999999999999996,
            "count": 0
           },
           {
            "bin_start": -0.19999999999999996,
            "bin_end": -0.09999999999999998,
            "count": 0
           },
           {
            "bin_start": -0.09999999999999998,
            "bin_end": 0,
            "count": 0
           },
           {
            "bin_start": 0,
            "bin_end": 0.10000000000000009,
            "count": 5
           },
           {
            "bin_start": 0.10000000000000009,
            "bin_end": 0.20000000000000007,
            "count": 0
           },
           {
            "bin_start": 0.20000000000000007,
            "bin_end": 0.30000000000000004,
            "count": 0
           },
           {
            "bin_start": 0.30000000000000004,
            "bin_end": 0.4,
            "count": 0
           },
           {
            "bin_start": 0.4,
            "bin_end": 0.5,
            "count": 0
           }
          ]
         }
        },
        {
         "name": "TAKE_PICTURES_AND_VIDEOS",
         "dtype": "int64",
         "stats": {
          "unique_count": 2,
          "nan_count": 0,
          "min": "0",
          "max": "1",
          "histogram": [
           {
            "bin_start": 0,
            "bin_end": 0.1,
            "count": 4
           },
           {
            "bin_start": 0.1,
            "bin_end": 0.2,
            "count": 0
           },
           {
            "bin_start": 0.2,
            "bin_end": 0.30000000000000004,
            "count": 0
           },
           {
            "bin_start": 0.30000000000000004,
            "bin_end": 0.4,
            "count": 0
           },
           {
            "bin_start": 0.4,
            "bin_end": 0.5,
            "count": 0
           },
           {
            "bin_start": 0.5,
            "bin_end": 0.6000000000000001,
            "count": 0
           },
           {
            "bin_start": 0.6000000000000001,
            "bin_end": 0.7000000000000001,
            "count": 0
           },
           {
            "bin_start": 0.7000000000000001,
            "bin_end": 0.8,
            "count": 0
           },
           {
            "bin_start": 0.8,
            "bin_end": 0.9,
            "count": 0
           },
           {
            "bin_start": 0.9,
            "bin_end": 1,
            "count": 1
           }
          ]
         }
        },
        {
         "name": "TEST_HARDWARE",
         "dtype": "int64",
         "stats": {
          "unique_count": 1,
          "nan_count": 0,
          "min": "0",
          "max": "0",
          "histogram": [
           {
            "bin_start": -0.5,
            "bin_end": -0.4,
            "count": 0
           },
           {
            "bin_start": -0.4,
            "bin_end": -0.3,
            "count": 0
           },
           {
            "bin_start": -0.3,
            "bin_end": -0.19999999999999996,
            "count": 0
           },
           {
            "bin_start": -0.19999999999999996,
            "bin_end": -0.09999999999999998,
            "count": 0
           },
           {
            "bin_start": -0.09999999999999998,
            "bin_end": 0,
            "count": 0
           },
           {
            "bin_start": 0,
            "bin_end": 0.10000000000000009,
            "count": 5
           },
           {
            "bin_start": 0.10000000000000009,
            "bin_end": 0.20000000000000007,
            "count": 0
           },
           {
            "bin_start": 0.20000000000000007,
            "bin_end": 0.30000000000000004,
            "count": 0
           },
           {
            "bin_start": 0.30000000000000004,
            "bin_end": 0.4,
            "count": 0
           },
           {
            "bin_start": 0.4,
            "bin_end": 0.5,
            "count": 0
           }
          ]
         }
        },
        {
         "name": "BROADCAST_DATA_MESSAGES_TO_APPLICATIONS",
         "dtype": "int64",
         "stats": {
          "unique_count": 1,
          "nan_count": 0,
          "min": "0",
          "max": "0",
          "histogram": [
           {
            "bin_start": -0.5,
            "bin_end": -0.4,
            "count": 0
           },
           {
            "bin_start": -0.4,
            "bin_end": -0.3,
            "count": 0
           },
           {
            "bin_start": -0.3,
            "bin_end": -0.19999999999999996,
            "count": 0
           },
           {
            "bin_start": -0.19999999999999996,
            "bin_end": -0.09999999999999998,
            "count": 0
           },
           {
            "bin_start": -0.09999999999999998,
            "bin_end": 0,
            "count": 0
           },
           {
            "bin_start": 0,
            "bin_end": 0.10000000000000009,
            "count": 5
           },
           {
            "bin_start": 0.10000000000000009,
            "bin_end": 0.20000000000000007,
            "count": 0
           },
           {
            "bin_start": 0.20000000000000007,
            "bin_end": 0.30000000000000004,
            "count": 0
           },
           {
            "bin_start": 0.30000000000000004,
            "bin_end": 0.4,
            "count": 0
           },
           {
            "bin_start": 0.4,
            "bin_end": 0.5,
            "count": 0
           }
          ]
         }
        },
        {
         "name": "CONTROL_NEAR_FIELD_COMMUNICATION",
         "dtype": "int64",
         "stats": {
          "unique_count": 1,
          "nan_count": 0,
          "min": "0",
          "max": "0",
          "histogram": [
           {
            "bin_start": -0.5,
            "bin_end": -0.4,
            "count": 0
           },
           {
            "bin_start": -0.4,
            "bin_end": -0.3,
            "count": 0
           },
           {
            "bin_start": -0.3,
            "bin_end": -0.19999999999999996,
            "count": 0
           },
           {
            "bin_start": -0.19999999999999996,
            "bin_end": -0.09999999999999998,
            "count": 0
           },
           {
            "bin_start": -0.09999999999999998,
            "bin_end": 0,
            "count": 0
           },
           {
            "bin_start": 0,
            "bin_end": 0.10000000000000009,
            "count": 5
           },
           {
            "bin_start": 0.10000000000000009,
            "bin_end": 0.20000000000000007,
            "count": 0
           },
           {
            "bin_start": 0.20000000000000007,
            "bin_end": 0.30000000000000004,
            "count": 0
           },
           {
            "bin_start": 0.30000000000000004,
            "bin_end": 0.4,
            "count": 0
           },
           {
            "bin_start": 0.4,
            "bin_end": 0.5,
            "count": 0
           }
          ]
         }
        },
        {
         "name": "CREATE_BLUETOOTH_CONNECTIONS",
         "dtype": "int64",
         "stats": {
          "unique_count": 1,
          "nan_count": 0,
          "min": "0",
          "max": "0",
          "histogram": [
           {
            "bin_start": -0.5,
            "bin_end": -0.4,
            "count": 0
           },
           {
            "bin_start": -0.4,
            "bin_end": -0.3,
            "count": 0
           },
           {
            "bin_start": -0.3,
            "bin_end": -0.19999999999999996,
            "count": 0
           },
           {
            "bin_start": -0.19999999999999996,
            "bin_end": -0.09999999999999998,
            "count": 0
           },
           {
            "bin_start": -0.09999999999999998,
            "bin_end": 0,
            "count": 0
           },
           {
            "bin_start": 0,
            "bin_end": 0.10000000000000009,
            "count": 5
           },
           {
            "bin_start": 0.10000000000000009,
            "bin_end": 0.20000000000000007,
            "count": 0
           },
           {
            "bin_start": 0.20000000000000007,
            "bin_end": 0.30000000000000004,
            "count": 0
           },
           {
            "bin_start": 0.30000000000000004,
            "bin_end": 0.4,
            "count": 0
           },
           {
            "bin_start": 0.4,
            "bin_end": 0.5,
            "count": 0
           }
          ]
         }
        },
        {
         "name": "DOWNLOAD_FILES_WITHOUT_NOTIFICATION",
         "dtype": "int64",
         "stats": {
          "unique_count": 1,
          "nan_count": 0,
          "min": "0",
          "max": "0",
          "histogram": [
           {
            "bin_start": -0.5,
            "bin_end": -0.4,
            "count": 0
           },
           {
            "bin_start": -0.4,
            "bin_end": -0.3,
            "count": 0
           },
           {
            "bin_start": -0.3,
            "bin_end": -0.19999999999999996,
            "count": 0
           },
           {
            "bin_start": -0.19999999999999996,
            "bin_end": -0.09999999999999998,
            "count": 0
           },
           {
            "bin_start": -0.09999999999999998,
            "bin_end": 0,
            "count": 0
           },
           {
            "bin_start": 0,
            "bin_end": 0.10000000000000009,
            "count": 5
           },
           {
            "bin_start": 0.10000000000000009,
            "bin_end": 0.20000000000000007,
            "count": 0
           },
           {
            "bin_start": 0.20000000000000007,
            "bin_end": 0.30000000000000004,
            "count": 0
           },
           {
            "bin_start": 0.30000000000000004,
            "bin_end": 0.4,
            "count": 0
           },
           {
            "bin_start": 0.4,
            "bin_end": 0.5,
            "count": 0
           }
          ]
         }
        },
        {
         "name": "FULL_INTERNET_ACCESS.1",
         "dtype": "int64",
         "stats": {
          "unique_count": 1,
          "nan_count": 0,
          "min": "1",
          "max": "1",
          "histogram": [
           {
            "bin_start": 0.5,
            "bin_end": 0.6,
            "count": 0
           },
           {
            "bin_start": 0.6,
            "bin_end": 0.7,
            "count": 0
           },
           {
            "bin_start": 0.7,
            "bin_end": 0.8,
            "count": 0
           },
           {
            "bin_start": 0.8,
            "bin_end": 0.9,
            "count": 0
           },
           {
            "bin_start": 0.9,
            "bin_end": 1,
            "count": 0
           },
           {
            "bin_start": 1,
            "bin_end": 1.1,
            "count": 5
           },
           {
            "bin_start": 1.1,
            "bin_end": 1.2000000000000002,
            "count": 0
           },
           {
            "bin_start": 1.2000000000000002,
            "bin_end": 1.3,
            "count": 0
           },
           {
            "bin_start": 1.3,
            "bin_end": 1.4,
            "count": 0
           },
           {
            "bin_start": 1.4,
            "bin_end": 1.5,
            "count": 0
           }
          ]
         }
        },
        {
         "name": "MAKE/RECEIVE_INTERNET_CALLS",
         "dtype": "int64",
         "stats": {
          "unique_count": 1,
          "nan_count": 0,
          "min": "0",
          "max": "0",
          "histogram": [
           {
            "bin_start": -0.5,
            "bin_end": -0.4,
            "count": 0
           },
           {
            "bin_start": -0.4,
            "bin_end": -0.3,
            "count": 0
           },
           {
            "bin_start": -0.3,
            "bin_end": -0.19999999999999996,
            "count": 0
           },
           {
            "bin_start": -0.19999999999999996,
            "bin_end": -0.09999999999999998,
            "count": 0
           },
           {
            "bin_start": -0.09999999999999998,
            "bin_end": 0,
            "count": 0
           },
           {
            "bin_start": 0,
            "bin_end": 0.10000000000000009,
            "count": 5
           },
           {
            "bin_start": 0.10000000000000009,
            "bin_end": 0.20000000000000007,
            "count": 0
           },
           {
            "bin_start": 0.20000000000000007,
            "bin_end": 0.30000000000000004,
            "count": 0
           },
           {
            "bin_start": 0.30000000000000004,
            "bin_end": 0.4,
            "count": 0
           },
           {
            "bin_start": 0.4,
            "bin_end": 0.5,
            "count": 0
           }
          ]
         }
        },
        {
         "name": "RECEIVE_DATA_FROM_INTERNET",
         "dtype": "int64",
         "stats": {
          "unique_count": 1,
          "nan_count": 0,
          "min": "0",
          "max": "0",
          "histogram": [
           {
            "bin_start": -0.5,
            "bin_end": -0.4,
            "count": 0
           },
           {
            "bin_start": -0.4,
            "bin_end": -0.3,
            "count": 0
           },
           {
            "bin_start": -0.3,
            "bin_end": -0.19999999999999996,
            "count": 0
           },
           {
            "bin_start": -0.19999999999999996,
            "bin_end": -0.09999999999999998,
            "count": 0
           },
           {
            "bin_start": -0.09999999999999998,
            "bin_end": 0,
            "count": 0
           },
           {
            "bin_start": 0,
            "bin_end": 0.10000000000000009,
            "count": 5
           },
           {
            "bin_start": 0.10000000000000009,
            "bin_end": 0.20000000000000007,
            "count": 0
           },
           {
            "bin_start": 0.20000000000000007,
            "bin_end": 0.30000000000000004,
            "count": 0
           },
           {
            "bin_start": 0.30000000000000004,
            "bin_end": 0.4,
            "count": 0
           },
           {
            "bin_start": 0.4,
            "bin_end": 0.5,
            "count": 0
           }
          ]
         }
        },
        {
         "name": "VIEW_WI-FI_STATE",
         "dtype": "int64",
         "stats": {
          "unique_count": 2,
          "nan_count": 0,
          "min": "0",
          "max": "1",
          "histogram": [
           {
            "bin_start": 0,
            "bin_end": 0.1,
            "count": 4
           },
           {
            "bin_start": 0.1,
            "bin_end": 0.2,
            "count": 0
           },
           {
            "bin_start": 0.2,
            "bin_end": 0.30000000000000004,
            "count": 0
           },
           {
            "bin_start": 0.30000000000000004,
            "bin_end": 0.4,
            "count": 0
           },
           {
            "bin_start": 0.4,
            "bin_end": 0.5,
            "count": 0
           },
           {
            "bin_start": 0.5,
            "bin_end": 0.6000000000000001,
            "count": 0
           },
           {
            "bin_start": 0.6000000000000001,
            "bin_end": 0.7000000000000001,
            "count": 0
           },
           {
            "bin_start": 0.7000000000000001,
            "bin_end": 0.8,
            "count": 0
           },
           {
            "bin_start": 0.8,
            "bin_end": 0.9,
            "count": 0
           },
           {
            "bin_start": 0.9,
            "bin_end": 1,
            "count": 1
           }
          ]
         }
        },
        {
         "name": "VIEW_NETWORK_STATE",
         "dtype": "int64",
         "stats": {
          "unique_count": 2,
          "nan_count": 0,
          "min": "0",
          "max": "1",
          "histogram": [
           {
            "bin_start": 0,
            "bin_end": 0.1,
            "count": 3
           },
           {
            "bin_start": 0.1,
            "bin_end": 0.2,
            "count": 0
           },
           {
            "bin_start": 0.2,
            "bin_end": 0.30000000000000004,
            "count": 0
           },
           {
            "bin_start": 0.30000000000000004,
            "bin_end": 0.4,
            "count": 0
           },
           {
            "bin_start": 0.4,
            "bin_end": 0.5,
            "count": 0
           },
           {
            "bin_start": 0.5,
            "bin_end": 0.6000000000000001,
            "count": 0
           },
           {
            "bin_start": 0.6000000000000001,
            "bin_end": 0.7000000000000001,
            "count": 0
           },
           {
            "bin_start": 0.7000000000000001,
            "bin_end": 0.8,
            "count": 0
           },
           {
            "bin_start": 0.8,
            "bin_end": 0.9,
            "count": 0
           },
           {
            "bin_start": 0.9,
            "bin_end": 1,
            "count": 2
           }
          ]
         }
        },
        {
         "name": "INTERCEPT_OUTGOING_CALLS",
         "dtype": "int64",
         "stats": {
          "unique_count": 1,
          "nan_count": 0,
          "min": "0",
          "max": "0",
          "histogram": [
           {
            "bin_start": -0.5,
            "bin_end": -0.4,
            "count": 0
           },
           {
            "bin_start": -0.4,
            "bin_end": -0.3,
            "count": 0
           },
           {
            "bin_start": -0.3,
            "bin_end": -0.19999999999999996,
            "count": 0
           },
           {
            "bin_start": -0.19999999999999996,
            "bin_end": -0.09999999999999998,
            "count": 0
           },
           {
            "bin_start": -0.09999999999999998,
            "bin_end": 0,
            "count": 0
           },
           {
            "bin_start": 0,
            "bin_end": 0.10000000000000009,
            "count": 5
           },
           {
            "bin_start": 0.10000000000000009,
            "bin_end": 0.20000000000000007,
            "count": 0
           },
           {
            "bin_start": 0.20000000000000007,
            "bin_end": 0.30000000000000004,
            "count": 0
           },
           {
            "bin_start": 0.30000000000000004,
            "bin_end": 0.4,
            "count": 0
           },
           {
            "bin_start": 0.4,
            "bin_end": 0.5,
            "count": 0
           }
          ]
         }
        },
        {
         "name": "MODIFY_PHONE_STATE",
         "dtype": "int64",
         "stats": {
          "unique_count": 1,
          "nan_count": 0,
          "min": "0",
          "max": "0",
          "histogram": [
           {
            "bin_start": -0.5,
            "bin_end": -0.4,
            "count": 0
           },
           {
            "bin_start": -0.4,
            "bin_end": -0.3,
            "count": 0
           },
           {
            "bin_start": -0.3,
            "bin_end": -0.19999999999999996,
            "count": 0
           },
           {
            "bin_start": -0.19999999999999996,
            "bin_end": -0.09999999999999998,
            "count": 0
           },
           {
            "bin_start": -0.09999999999999998,
            "bin_end": 0,
            "count": 0
           },
           {
            "bin_start": 0,
            "bin_end": 0.10000000000000009,
            "count": 5
           },
           {
            "bin_start": 0.10000000000000009,
            "bin_end": 0.20000000000000007,
            "count": 0
           },
           {
            "bin_start": 0.20000000000000007,
            "bin_end": 0.30000000000000004,
            "count": 0
           },
           {
            "bin_start": 0.30000000000000004,
            "bin_end": 0.4,
            "count": 0
           },
           {
            "bin_start": 0.4,
            "bin_end": 0.5,
            "count": 0
           }
          ]
         }
        },
        {
         "name": "READ_PHONE_STATE_AND_IDENTITY.1",
         "dtype": "int64",
         "stats": {
          "unique_count": 2,
          "nan_count": 0,
          "min": "0",
          "max": "1",
          "histogram": [
           {
            "bin_start": 0,
            "bin_end": 0.1,
            "count": 4
           },
           {
            "bin_start": 0.1,
            "bin_end": 0.2,
            "count": 0
           },
           {
            "bin_start": 0.2,
            "bin_end": 0.30000000000000004,
            "count": 0
           },
           {
            "bin_start": 0.30000000000000004,
            "bin_end": 0.4,
            "count": 0
           },
           {
            "bin_start": 0.4,
            "bin_end": 0.5,
            "count": 0
           },
           {
            "bin_start": 0.5,
            "bin_end": 0.6000000000000001,
            "count": 0
           },
           {
            "bin_start": 0.6000000000000001,
            "bin_end": 0.7000000000000001,
            "count": 0
           },
           {
            "bin_start": 0.7000000000000001,
            "bin_end": 0.8,
            "count": 0
           },
           {
            "bin_start": 0.8,
            "bin_end": 0.9,
            "count": 0
           },
           {
            "bin_start": 0.9,
            "bin_end": 1,
            "count": 1
           }
          ]
         }
        },
        {
         "name": "DIRECTLY_CALL_PHONE_NUMBERS",
         "dtype": "int64",
         "stats": {
          "unique_count": 1,
          "nan_count": 0,
          "min": "0",
          "max": "0",
          "histogram": [
           {
            "bin_start": -0.5,
            "bin_end": -0.4,
            "count": 0
           },
           {
            "bin_start": -0.4,
            "bin_end": -0.3,
            "count": 0
           },
           {
            "bin_start": -0.3,
            "bin_end": -0.19999999999999996,
            "count": 0
           },
           {
            "bin_start": -0.19999999999999996,
            "bin_end": -0.09999999999999998,
            "count": 0
           },
           {
            "bin_start": -0.09999999999999998,
            "bin_end": 0,
            "count": 0
           },
           {
            "bin_start": 0,
            "bin_end": 0.10000000000000009,
            "count": 5
           },
           {
            "bin_start": 0.10000000000000009,
            "bin_end": 0.20000000000000007,
            "count": 0
           },
           {
            "bin_start": 0.20000000000000007,
            "bin_end": 0.30000000000000004,
            "count": 0
           },
           {
            "bin_start": 0.30000000000000004,
            "bin_end": 0.4,
            "count": 0
           },
           {
            "bin_start": 0.4,
            "bin_end": 0.5,
            "count": 0
           }
          ]
         }
        },
        {
         "name": "SEND_SMS_MESSAGES",
         "dtype": "int64",
         "stats": {
          "unique_count": 2,
          "nan_count": 0,
          "min": "0",
          "max": "1",
          "histogram": [
           {
            "bin_start": 0,
            "bin_end": 0.1,
            "count": 4
           },
           {
            "bin_start": 0.1,
            "bin_end": 0.2,
            "count": 0
           },
           {
            "bin_start": 0.2,
            "bin_end": 0.30000000000000004,
            "count": 0
           },
           {
            "bin_start": 0.30000000000000004,
            "bin_end": 0.4,
            "count": 0
           },
           {
            "bin_start": 0.4,
            "bin_end": 0.5,
            "count": 0
           },
           {
            "bin_start": 0.5,
            "bin_end": 0.6000000000000001,
            "count": 0
           },
           {
            "bin_start": 0.6000000000000001,
            "bin_end": 0.7000000000000001,
            "count": 0
           },
           {
            "bin_start": 0.7000000000000001,
            "bin_end": 0.8,
            "count": 0
           },
           {
            "bin_start": 0.8,
            "bin_end": 0.9,
            "count": 0
           },
           {
            "bin_start": 0.9,
            "bin_end": 1,
            "count": 1
           }
          ]
         }
        },
        {
         "name": "MODIFY/DELETE_USB_STORAGE_CONTENTS_MODIFY/DELETE_SD_CARD_CONTENTS.1",
         "dtype": "int64",
         "stats": {
          "unique_count": 2,
          "nan_count": 0,
          "min": "0",
          "max": "1",
          "histogram": [
           {
            "bin_start": 0,
            "bin_end": 0.1,
            "count": 2
           },
           {
            "bin_start": 0.1,
            "bin_end": 0.2,
            "count": 0
           },
           {
            "bin_start": 0.2,
            "bin_end": 0.30000000000000004,
            "count": 0
           },
           {
            "bin_start": 0.30000000000000004,
            "bin_end": 0.4,
            "count": 0
           },
           {
            "bin_start": 0.4,
            "bin_end": 0.5,
            "count": 0
           },
           {
            "bin_start": 0.5,
            "bin_end": 0.6000000000000001,
            "count": 0
           },
           {
            "bin_start": 0.6000000000000001,
            "bin_end": 0.7000000000000001,
            "count": 0
           },
           {
            "bin_start": 0.7000000000000001,
            "bin_end": 0.8,
            "count": 0
           },
           {
            "bin_start": 0.8,
            "bin_end": 0.9,
            "count": 0
           },
           {
            "bin_start": 0.9,
            "bin_end": 1,
            "count": 3
           }
          ]
         }
        },
        {
         "name": "ALLOW_WI-FI_MULTICAST_RECEPTION",
         "dtype": "int64",
         "stats": {
          "unique_count": 1,
          "nan_count": 0,
          "min": "0",
          "max": "0",
          "histogram": [
           {
            "bin_start": -0.5,
            "bin_end": -0.4,
            "count": 0
           },
           {
            "bin_start": -0.4,
            "bin_end": -0.3,
            "count": 0
           },
           {
            "bin_start": -0.3,
            "bin_end": -0.19999999999999996,
            "count": 0
           },
           {
            "bin_start": -0.19999999999999996,
            "bin_end": -0.09999999999999998,
            "count": 0
           },
           {
            "bin_start": -0.09999999999999998,
            "bin_end": 0,
            "count": 0
           },
           {
            "bin_start": 0,
            "bin_end": 0.10000000000000009,
            "count": 5
           },
           {
            "bin_start": 0.10000000000000009,
            "bin_end": 0.20000000000000007,
            "count": 0
           },
           {
            "bin_start": 0.20000000000000007,
            "bin_end": 0.30000000000000004,
            "count": 0
           },
           {
            "bin_start": 0.30000000000000004,
            "bin_end": 0.4,
            "count": 0
           },
           {
            "bin_start": 0.4,
            "bin_end": 0.5,
            "count": 0
           }
          ]
         }
        },
        {
         "name": "AUTOMATICALLY_START_AT_BOOT",
         "dtype": "int64",
         "stats": {
          "unique_count": 2,
          "nan_count": 0,
          "min": "0",
          "max": "1",
          "histogram": [
           {
            "bin_start": 0,
            "bin_end": 0.1,
            "count": 3
           },
           {
            "bin_start": 0.1,
            "bin_end": 0.2,
            "count": 0
           },
           {
            "bin_start": 0.2,
            "bin_end": 0.30000000000000004,
            "count": 0
           },
           {
            "bin_start": 0.30000000000000004,
            "bin_end": 0.4,
            "count": 0
           },
           {
            "bin_start": 0.4,
            "bin_end": 0.5,
            "count": 0
           },
           {
            "bin_start": 0.5,
            "bin_end": 0.6000000000000001,
            "count": 0
           },
           {
            "bin_start": 0.6000000000000001,
            "bin_end": 0.7000000000000001,
            "count": 0
           },
           {
            "bin_start": 0.7000000000000001,
            "bin_end": 0.8,
            "count": 0
           },
           {
            "bin_start": 0.8,
            "bin_end": 0.9,
            "count": 0
           },
           {
            "bin_start": 0.9,
            "bin_end": 1,
            "count": 2
           }
          ]
         }
        },
        {
         "name": "BLUETOOTH_ADMINISTRATION",
         "dtype": "int64",
         "stats": {
          "unique_count": 1,
          "nan_count": 0,
          "min": "0",
          "max": "0",
          "histogram": [
           {
            "bin_start": -0.5,
            "bin_end": -0.4,
            "count": 0
           },
           {
            "bin_start": -0.4,
            "bin_end": -0.3,
            "count": 0
           },
           {
            "bin_start": -0.3,
            "bin_end": -0.19999999999999996,
            "count": 0
           },
           {
            "bin_start": -0.19999999999999996,
            "bin_end": -0.09999999999999998,
            "count": 0
           },
           {
            "bin_start": -0.09999999999999998,
            "bin_end": 0,
            "count": 0
           },
           {
            "bin_start": 0,
            "bin_end": 0.10000000000000009,
            "count": 5
           },
           {
            "bin_start": 0.10000000000000009,
            "bin_end": 0.20000000000000007,
            "count": 0
           },
           {
            "bin_start": 0.20000000000000007,
            "bin_end": 0.30000000000000004,
            "count": 0
           },
           {
            "bin_start": 0.30000000000000004,
            "bin_end": 0.4,
            "count": 0
           },
           {
            "bin_start": 0.4,
            "bin_end": 0.5,
            "count": 0
           }
          ]
         }
        },
        {
         "name": "CHANGE_WI-FI_STATE",
         "dtype": "int64",
         "stats": {
          "unique_count": 1,
          "nan_count": 0,
          "min": "0",
          "max": "0",
          "histogram": [
           {
            "bin_start": -0.5,
            "bin_end": -0.4,
            "count": 0
           },
           {
            "bin_start": -0.4,
            "bin_end": -0.3,
            "count": 0
           },
           {
            "bin_start": -0.3,
            "bin_end": -0.19999999999999996,
            "count": 0
           },
           {
            "bin_start": -0.19999999999999996,
            "bin_end": -0.09999999999999998,
            "count": 0
           },
           {
            "bin_start": -0.09999999999999998,
            "bin_end": 0,
            "count": 0
           },
           {
            "bin_start": 0,
            "bin_end": 0.10000000000000009,
            "count": 5
           },
           {
            "bin_start": 0.10000000000000009,
            "bin_end": 0.20000000000000007,
            "count": 0
           },
           {
            "bin_start": 0.20000000000000007,
            "bin_end": 0.30000000000000004,
            "count": 0
           },
           {
            "bin_start": 0.30000000000000004,
            "bin_end": 0.4,
            "count": 0
           },
           {
            "bin_start": 0.4,
            "bin_end": 0.5,
            "count": 0
           }
          ]
         }
        },
        {
         "name": "CHANGE_BACKGROUND_DATA_USAGE_SETTING",
         "dtype": "int64",
         "stats": {
          "unique_count": 1,
          "nan_count": 0,
          "min": "0",
          "max": "0",
          "histogram": [
           {
            "bin_start": -0.5,
            "bin_end": -0.4,
            "count": 0
           },
           {
            "bin_start": -0.4,
            "bin_end": -0.3,
            "count": 0
           },
           {
            "bin_start": -0.3,
            "bin_end": -0.19999999999999996,
            "count": 0
           },
           {
            "bin_start": -0.19999999999999996,
            "bin_end": -0.09999999999999998,
            "count": 0
           },
           {
            "bin_start": -0.09999999999999998,
            "bin_end": 0,
            "count": 0
           },
           {
            "bin_start": 0,
            "bin_end": 0.10000000000000009,
            "count": 5
           },
           {
            "bin_start": 0.10000000000000009,
            "bin_end": 0.20000000000000007,
            "count": 0
           },
           {
            "bin_start": 0.20000000000000007,
            "bin_end": 0.30000000000000004,
            "count": 0
           },
           {
            "bin_start": 0.30000000000000004,
            "bin_end": 0.4,
            "count": 0
           },
           {
            "bin_start": 0.4,
            "bin_end": 0.5,
            "count": 0
           }
          ]
         }
        },
        {
         "name": "CHANGE_NETWORK_CONNECTIVITY",
         "dtype": "int64",
         "stats": {
          "unique_count": 1,
          "nan_count": 0,
          "min": "0",
          "max": "0",
          "histogram": [
           {
            "bin_start": -0.5,
            "bin_end": -0.4,
            "count": 0
           },
           {
            "bin_start": -0.4,
            "bin_end": -0.3,
            "count": 0
           },
           {
            "bin_start": -0.3,
            "bin_end": -0.19999999999999996,
            "count": 0
           },
           {
            "bin_start": -0.19999999999999996,
            "bin_end": -0.09999999999999998,
            "count": 0
           },
           {
            "bin_start": -0.09999999999999998,
            "bin_end": 0,
            "count": 0
           },
           {
            "bin_start": 0,
            "bin_end": 0.10000000000000009,
            "count": 5
           },
           {
            "bin_start": 0.10000000000000009,
            "bin_end": 0.20000000000000007,
            "count": 0
           },
           {
            "bin_start": 0.20000000000000007,
            "bin_end": 0.30000000000000004,
            "count": 0
           },
           {
            "bin_start": 0.30000000000000004,
            "bin_end": 0.4,
            "count": 0
           },
           {
            "bin_start": 0.4,
            "bin_end": 0.5,
            "count": 0
           }
          ]
         }
        },
        {
         "name": "CHANGE_YOUR_UI_SETTINGS",
         "dtype": "int64",
         "stats": {
          "unique_count": 1,
          "nan_count": 0,
          "min": "0",
          "max": "0",
          "histogram": [
           {
            "bin_start": -0.5,
            "bin_end": -0.4,
            "count": 0
           },
           {
            "bin_start": -0.4,
            "bin_end": -0.3,
            "count": 0
           },
           {
            "bin_start": -0.3,
            "bin_end": -0.19999999999999996,
            "count": 0
           },
           {
            "bin_start": -0.19999999999999996,
            "bin_end": -0.09999999999999998,
            "count": 0
           },
           {
            "bin_start": -0.09999999999999998,
            "bin_end": 0,
            "count": 0
           },
           {
            "bin_start": 0,
            "bin_end": 0.10000000000000009,
            "count": 5
           },
           {
            "bin_start": 0.10000000000000009,
            "bin_end": 0.20000000000000007,
            "count": 0
           },
           {
            "bin_start": 0.20000000000000007,
            "bin_end": 0.30000000000000004,
            "count": 0
           },
           {
            "bin_start": 0.30000000000000004,
            "bin_end": 0.4,
            "count": 0
           },
           {
            "bin_start": 0.4,
            "bin_end": 0.5,
            "count": 0
           }
          ]
         }
        },
        {
         "name": "DELETE_ALL_APPLICATION_CACHE_DATA",
         "dtype": "int64",
         "stats": {
          "unique_count": 1,
          "nan_count": 0,
          "min": "0",
          "max": "0",
          "histogram": [
           {
            "bin_start": -0.5,
            "bin_end": -0.4,
            "count": 0
           },
           {
            "bin_start": -0.4,
            "bin_end": -0.3,
            "count": 0
           },
           {
            "bin_start": -0.3,
            "bin_end": -0.19999999999999996,
            "count": 0
           },
           {
            "bin_start": -0.19999999999999996,
            "bin_end": -0.09999999999999998,
            "count": 0
           },
           {
            "bin_start": -0.09999999999999998,
            "bin_end": 0,
            "count": 0
           },
           {
            "bin_start": 0,
            "bin_end": 0.10000000000000009,
            "count": 5
           },
           {
            "bin_start": 0.10000000000000009,
            "bin_end": 0.20000000000000007,
            "count": 0
           },
           {
            "bin_start": 0.20000000000000007,
            "bin_end": 0.30000000000000004,
            "count": 0
           },
           {
            "bin_start": 0.30000000000000004,
            "bin_end": 0.4,
            "count": 0
           },
           {
            "bin_start": 0.4,
            "bin_end": 0.5,
            "count": 0
           }
          ]
         }
        },
        {
         "name": "DISABLE_KEYLOCK",
         "dtype": "int64",
         "stats": {
          "unique_count": 1,
          "nan_count": 0,
          "min": "0",
          "max": "0",
          "histogram": [
           {
            "bin_start": -0.5,
            "bin_end": -0.4,
            "count": 0
           },
           {
            "bin_start": -0.4,
            "bin_end": -0.3,
            "count": 0
           },
           {
            "bin_start": -0.3,
            "bin_end": -0.19999999999999996,
            "count": 0
           },
           {
            "bin_start": -0.19999999999999996,
            "bin_end": -0.09999999999999998,
            "count": 0
           },
           {
            "bin_start": -0.09999999999999998,
            "bin_end": 0,
            "count": 0
           },
           {
            "bin_start": 0,
            "bin_end": 0.10000000000000009,
            "count": 5
           },
           {
            "bin_start": 0.10000000000000009,
            "bin_end": 0.20000000000000007,
            "count": 0
           },
           {
            "bin_start": 0.20000000000000007,
            "bin_end": 0.30000000000000004,
            "count": 0
           },
           {
            "bin_start": 0.30000000000000004,
            "bin_end": 0.4,
            "count": 0
           },
           {
            "bin_start": 0.4,
            "bin_end": 0.5,
            "count": 0
           }
          ]
         }
        },
        {
         "name": "DISPLAY_SYSTEM-LEVEL_ALERTS",
         "dtype": "int64",
         "stats": {
          "unique_count": 1,
          "nan_count": 0,
          "min": "0",
          "max": "0",
          "histogram": [
           {
            "bin_start": -0.5,
            "bin_end": -0.4,
            "count": 0
           },
           {
            "bin_start": -0.4,
            "bin_end": -0.3,
            "count": 0
           },
           {
            "bin_start": -0.3,
            "bin_end": -0.19999999999999996,
            "count": 0
           },
           {
            "bin_start": -0.19999999999999996,
            "bin_end": -0.09999999999999998,
            "count": 0
           },
           {
            "bin_start": -0.09999999999999998,
            "bin_end": 0,
            "count": 0
           },
           {
            "bin_start": 0,
            "bin_end": 0.10000000000000009,
            "count": 5
           },
           {
            "bin_start": 0.10000000000000009,
            "bin_end": 0.20000000000000007,
            "count": 0
           },
           {
            "bin_start": 0.20000000000000007,
            "bin_end": 0.30000000000000004,
            "count": 0
           },
           {
            "bin_start": 0.30000000000000004,
            "bin_end": 0.4,
            "count": 0
           },
           {
            "bin_start": 0.4,
            "bin_end": 0.5,
            "count": 0
           }
          ]
         }
        },
        {
         "name": "EXPAND/COLLAPSE_STATUS_BAR",
         "dtype": "int64",
         "stats": {
          "unique_count": 1,
          "nan_count": 0,
          "min": "0",
          "max": "0",
          "histogram": [
           {
            "bin_start": -0.5,
            "bin_end": -0.4,
            "count": 0
           },
           {
            "bin_start": -0.4,
            "bin_end": -0.3,
            "count": 0
           },
           {
            "bin_start": -0.3,
            "bin_end": -0.19999999999999996,
            "count": 0
           },
           {
            "bin_start": -0.19999999999999996,
            "bin_end": -0.09999999999999998,
            "count": 0
           },
           {
            "bin_start": -0.09999999999999998,
            "bin_end": 0,
            "count": 0
           },
           {
            "bin_start": 0,
            "bin_end": 0.10000000000000009,
            "count": 5
           },
           {
            "bin_start": 0.10000000000000009,
            "bin_end": 0.20000000000000007,
            "count": 0
           },
           {
            "bin_start": 0.20000000000000007,
            "bin_end": 0.30000000000000004,
            "count": 0
           },
           {
            "bin_start": 0.30000000000000004,
            "bin_end": 0.4,
            "count": 0
           },
           {
            "bin_start": 0.4,
            "bin_end": 0.5,
            "count": 0
           }
          ]
         }
        },
        {
         "name": "FORCE_STOP_OTHER_APPLICATIONS",
         "dtype": "int64",
         "stats": {
          "unique_count": 1,
          "nan_count": 0,
          "min": "0",
          "max": "0",
          "histogram": [
           {
            "bin_start": -0.5,
            "bin_end": -0.4,
            "count": 0
           },
           {
            "bin_start": -0.4,
            "bin_end": -0.3,
            "count": 0
           },
           {
            "bin_start": -0.3,
            "bin_end": -0.19999999999999996,
            "count": 0
           },
           {
            "bin_start": -0.19999999999999996,
            "bin_end": -0.09999999999999998,
            "count": 0
           },
           {
            "bin_start": -0.09999999999999998,
            "bin_end": 0,
            "count": 0
           },
           {
            "bin_start": 0,
            "bin_end": 0.10000000000000009,
            "count": 5
           },
           {
            "bin_start": 0.10000000000000009,
            "bin_end": 0.20000000000000007,
            "count": 0
           },
           {
            "bin_start": 0.20000000000000007,
            "bin_end": 0.30000000000000004,
            "count": 0
           },
           {
            "bin_start": 0.30000000000000004,
            "bin_end": 0.4,
            "count": 0
           },
           {
            "bin_start": 0.4,
            "bin_end": 0.5,
            "count": 0
           }
          ]
         }
        },
        {
         "name": "FORMAT_EXTERNAL_STORAGE",
         "dtype": "int64",
         "stats": {
          "unique_count": 1,
          "nan_count": 0,
          "min": "0",
          "max": "0",
          "histogram": [
           {
            "bin_start": -0.5,
            "bin_end": -0.4,
            "count": 0
           },
           {
            "bin_start": -0.4,
            "bin_end": -0.3,
            "count": 0
           },
           {
            "bin_start": -0.3,
            "bin_end": -0.19999999999999996,
            "count": 0
           },
           {
            "bin_start": -0.19999999999999996,
            "bin_end": -0.09999999999999998,
            "count": 0
           },
           {
            "bin_start": -0.09999999999999998,
            "bin_end": 0,
            "count": 0
           },
           {
            "bin_start": 0,
            "bin_end": 0.10000000000000009,
            "count": 5
           },
           {
            "bin_start": 0.10000000000000009,
            "bin_end": 0.20000000000000007,
            "count": 0
           },
           {
            "bin_start": 0.20000000000000007,
            "bin_end": 0.30000000000000004,
            "count": 0
           },
           {
            "bin_start": 0.30000000000000004,
            "bin_end": 0.4,
            "count": 0
           },
           {
            "bin_start": 0.4,
            "bin_end": 0.5,
            "count": 0
           }
          ]
         }
        },
        {
         "name": "KILL_BACKGROUND_PROCESSES",
         "dtype": "int64",
         "stats": {
          "unique_count": 1,
          "nan_count": 0,
          "min": "0",
          "max": "0",
          "histogram": [
           {
            "bin_start": -0.5,
            "bin_end": -0.4,
            "count": 0
           },
           {
            "bin_start": -0.4,
            "bin_end": -0.3,
            "count": 0
           },
           {
            "bin_start": -0.3,
            "bin_end": -0.19999999999999996,
            "count": 0
           },
           {
            "bin_start": -0.19999999999999996,
            "bin_end": -0.09999999999999998,
            "count": 0
           },
           {
            "bin_start": -0.09999999999999998,
            "bin_end": 0,
            "count": 0
           },
           {
            "bin_start": 0,
            "bin_end": 0.10000000000000009,
            "count": 5
           },
           {
            "bin_start": 0.10000000000000009,
            "bin_end": 0.20000000000000007,
            "count": 0
           },
           {
            "bin_start": 0.20000000000000007,
            "bin_end": 0.30000000000000004,
            "count": 0
           },
           {
            "bin_start": 0.30000000000000004,
            "bin_end": 0.4,
            "count": 0
           },
           {
            "bin_start": 0.4,
            "bin_end": 0.5,
            "count": 0
           }
          ]
         }
        },
        {
         "name": "MAKE_APPLICATION_ALWAYS_RUN",
         "dtype": "int64",
         "stats": {
          "unique_count": 1,
          "nan_count": 0,
          "min": "0",
          "max": "0",
          "histogram": [
           {
            "bin_start": -0.5,
            "bin_end": -0.4,
            "count": 0
           },
           {
            "bin_start": -0.4,
            "bin_end": -0.3,
            "count": 0
           },
           {
            "bin_start": -0.3,
            "bin_end": -0.19999999999999996,
            "count": 0
           },
           {
            "bin_start": -0.19999999999999996,
            "bin_end": -0.09999999999999998,
            "count": 0
           },
           {
            "bin_start": -0.09999999999999998,
            "bin_end": 0,
            "count": 0
           },
           {
            "bin_start": 0,
            "bin_end": 0.10000000000000009,
            "count": 5
           },
           {
            "bin_start": 0.10000000000000009,
            "bin_end": 0.20000000000000007,
            "count": 0
           },
           {
            "bin_start": 0.20000000000000007,
            "bin_end": 0.30000000000000004,
            "count": 0
           },
           {
            "bin_start": 0.30000000000000004,
            "bin_end": 0.4,
            "count": 0
           },
           {
            "bin_start": 0.4,
            "bin_end": 0.5,
            "count": 0
           }
          ]
         }
        },
        {
         "name": "MEASURE_APPLICATION_STORAGE_SPACE",
         "dtype": "int64",
         "stats": {
          "unique_count": 1,
          "nan_count": 0,
          "min": "0",
          "max": "0",
          "histogram": [
           {
            "bin_start": -0.5,
            "bin_end": -0.4,
            "count": 0
           },
           {
            "bin_start": -0.4,
            "bin_end": -0.3,
            "count": 0
           },
           {
            "bin_start": -0.3,
            "bin_end": -0.19999999999999996,
            "count": 0
           },
           {
            "bin_start": -0.19999999999999996,
            "bin_end": -0.09999999999999998,
            "count": 0
           },
           {
            "bin_start": -0.09999999999999998,
            "bin_end": 0,
            "count": 0
           },
           {
            "bin_start": 0,
            "bin_end": 0.10000000000000009,
            "count": 5
           },
           {
            "bin_start": 0.10000000000000009,
            "bin_end": 0.20000000000000007,
            "count": 0
           },
           {
            "bin_start": 0.20000000000000007,
            "bin_end": 0.30000000000000004,
            "count": 0
           },
           {
            "bin_start": 0.30000000000000004,
            "bin_end": 0.4,
            "count": 0
           },
           {
            "bin_start": 0.4,
            "bin_end": 0.5,
            "count": 0
           }
          ]
         }
        },
        {
         "name": "MODIFY_GLOBAL_ANIMATION_SPEED",
         "dtype": "int64",
         "stats": {
          "unique_count": 1,
          "nan_count": 0,
          "min": "0",
          "max": "0",
          "histogram": [
           {
            "bin_start": -0.5,
            "bin_end": -0.4,
            "count": 0
           },
           {
            "bin_start": -0.4,
            "bin_end": -0.3,
            "count": 0
           },
           {
            "bin_start": -0.3,
            "bin_end": -0.19999999999999996,
            "count": 0
           },
           {
            "bin_start": -0.19999999999999996,
            "bin_end": -0.09999999999999998,
            "count": 0
           },
           {
            "bin_start": -0.09999999999999998,
            "bin_end": 0,
            "count": 0
           },
           {
            "bin_start": 0,
            "bin_end": 0.10000000000000009,
            "count": 5
           },
           {
            "bin_start": 0.10000000000000009,
            "bin_end": 0.20000000000000007,
            "count": 0
           },
           {
            "bin_start": 0.20000000000000007,
            "bin_end": 0.30000000000000004,
            "count": 0
           },
           {
            "bin_start": 0.30000000000000004,
            "bin_end": 0.4,
            "count": 0
           },
           {
            "bin_start": 0.4,
            "bin_end": 0.5,
            "count": 0
           }
          ]
         }
        },
        {
         "name": "MODIFY_GLOBAL_SYSTEM_SETTINGS",
         "dtype": "int64",
         "stats": {
          "unique_count": 1,
          "nan_count": 0,
          "min": "0",
          "max": "0",
          "histogram": [
           {
            "bin_start": -0.5,
            "bin_end": -0.4,
            "count": 0
           },
           {
            "bin_start": -0.4,
            "bin_end": -0.3,
            "count": 0
           },
           {
            "bin_start": -0.3,
            "bin_end": -0.19999999999999996,
            "count": 0
           },
           {
            "bin_start": -0.19999999999999996,
            "bin_end": -0.09999999999999998,
            "count": 0
           },
           {
            "bin_start": -0.09999999999999998,
            "bin_end": 0,
            "count": 0
           },
           {
            "bin_start": 0,
            "bin_end": 0.10000000000000009,
            "count": 5
           },
           {
            "bin_start": 0.10000000000000009,
            "bin_end": 0.20000000000000007,
            "count": 0
           },
           {
            "bin_start": 0.20000000000000007,
            "bin_end": 0.30000000000000004,
            "count": 0
           },
           {
            "bin_start": 0.30000000000000004,
            "bin_end": 0.4,
            "count": 0
           },
           {
            "bin_start": 0.4,
            "bin_end": 0.5,
            "count": 0
           }
          ]
         }
        },
        {
         "name": "MOUNT_AND_UNMOUNT_FILESYSTEMS",
         "dtype": "int64",
         "stats": {
          "unique_count": 1,
          "nan_count": 0,
          "min": "0",
          "max": "0",
          "histogram": [
           {
            "bin_start": -0.5,
            "bin_end": -0.4,
            "count": 0
           },
           {
            "bin_start": -0.4,
            "bin_end": -0.3,
            "count": 0
           },
           {
            "bin_start": -0.3,
            "bin_end": -0.19999999999999996,
            "count": 0
           },
           {
            "bin_start": -0.19999999999999996,
            "bin_end": -0.09999999999999998,
            "count": 0
           },
           {
            "bin_start": -0.09999999999999998,
            "bin_end": 0,
            "count": 0
           },
           {
            "bin_start": 0,
            "bin_end": 0.10000000000000009,
            "count": 5
           },
           {
            "bin_start": 0.10000000000000009,
            "bin_end": 0.20000000000000007,
            "count": 0
           },
           {
            "bin_start": 0.20000000000000007,
            "bin_end": 0.30000000000000004,
            "count": 0
           },
           {
            "bin_start": 0.30000000000000004,
            "bin_end": 0.4,
            "count": 0
           },
           {
            "bin_start": 0.4,
            "bin_end": 0.5,
            "count": 0
           }
          ]
         }
        },
        {
         "name": "PREVENT_DEVICE_FROM_SLEEPING",
         "dtype": "int64",
         "stats": {
          "unique_count": 2,
          "nan_count": 0,
          "min": "0",
          "max": "1",
          "histogram": [
           {
            "bin_start": 0,
            "bin_end": 0.1,
            "count": 2
           },
           {
            "bin_start": 0.1,
            "bin_end": 0.2,
            "count": 0
           },
           {
            "bin_start": 0.2,
            "bin_end": 0.30000000000000004,
            "count": 0
           },
           {
            "bin_start": 0.30000000000000004,
            "bin_end": 0.4,
            "count": 0
           },
           {
            "bin_start": 0.4,
            "bin_end": 0.5,
            "count": 0
           },
           {
            "bin_start": 0.5,
            "bin_end": 0.6000000000000001,
            "count": 0
           },
           {
            "bin_start": 0.6000000000000001,
            "bin_end": 0.7000000000000001,
            "count": 0
           },
           {
            "bin_start": 0.7000000000000001,
            "bin_end": 0.8,
            "count": 0
           },
           {
            "bin_start": 0.8,
            "bin_end": 0.9,
            "count": 0
           },
           {
            "bin_start": 0.9,
            "bin_end": 1,
            "count": 3
           }
          ]
         }
        },
        {
         "name": "READ_SUBSCRIBED_FEEDS",
         "dtype": "int64",
         "stats": {
          "unique_count": 1,
          "nan_count": 0,
          "min": "0",
          "max": "0",
          "histogram": [
           {
            "bin_start": -0.5,
            "bin_end": -0.4,
            "count": 0
           },
           {
            "bin_start": -0.4,
            "bin_end": -0.3,
            "count": 0
           },
           {
            "bin_start": -0.3,
            "bin_end": -0.19999999999999996,
            "count": 0
           },
           {
            "bin_start": -0.19999999999999996,
            "bin_end": -0.09999999999999998,
            "count": 0
           },
           {
            "bin_start": -0.09999999999999998,
            "bin_end": 0,
            "count": 0
           },
           {
            "bin_start": 0,
            "bin_end": 0.10000000000000009,
            "count": 5
           },
           {
            "bin_start": 0.10000000000000009,
            "bin_end": 0.20000000000000007,
            "count": 0
           },
           {
            "bin_start": 0.20000000000000007,
            "bin_end": 0.30000000000000004,
            "count": 0
           },
           {
            "bin_start": 0.30000000000000004,
            "bin_end": 0.4,
            "count": 0
           },
           {
            "bin_start": 0.4,
            "bin_end": 0.5,
            "count": 0
           }
          ]
         }
        },
        {
         "name": "READ_SYNC_SETTINGS",
         "dtype": "int64",
         "stats": {
          "unique_count": 1,
          "nan_count": 0,
          "min": "0",
          "max": "0",
          "histogram": [
           {
            "bin_start": -0.5,
            "bin_end": -0.4,
            "count": 0
           },
           {
            "bin_start": -0.4,
            "bin_end": -0.3,
            "count": 0
           },
           {
            "bin_start": -0.3,
            "bin_end": -0.19999999999999996,
            "count": 0
           },
           {
            "bin_start": -0.19999999999999996,
            "bin_end": -0.09999999999999998,
            "count": 0
           },
           {
            "bin_start": -0.09999999999999998,
            "bin_end": 0,
            "count": 0
           },
           {
            "bin_start": 0,
            "bin_end": 0.10000000000000009,
            "count": 5
           },
           {
            "bin_start": 0.10000000000000009,
            "bin_end": 0.20000000000000007,
            "count": 0
           },
           {
            "bin_start": 0.20000000000000007,
            "bin_end": 0.30000000000000004,
            "count": 0
           },
           {
            "bin_start": 0.30000000000000004,
            "bin_end": 0.4,
            "count": 0
           },
           {
            "bin_start": 0.4,
            "bin_end": 0.5,
            "count": 0
           }
          ]
         }
        },
        {
         "name": "READ_SYNC_STATISTICS",
         "dtype": "int64",
         "stats": {
          "unique_count": 1,
          "nan_count": 0,
          "min": "0",
          "max": "0",
          "histogram": [
           {
            "bin_start": -0.5,
            "bin_end": -0.4,
            "count": 0
           },
           {
            "bin_start": -0.4,
            "bin_end": -0.3,
            "count": 0
           },
           {
            "bin_start": -0.3,
            "bin_end": -0.19999999999999996,
            "count": 0
           },
           {
            "bin_start": -0.19999999999999996,
            "bin_end": -0.09999999999999998,
            "count": 0
           },
           {
            "bin_start": -0.09999999999999998,
            "bin_end": 0,
            "count": 0
           },
           {
            "bin_start": 0,
            "bin_end": 0.10000000000000009,
            "count": 5
           },
           {
            "bin_start": 0.10000000000000009,
            "bin_end": 0.20000000000000007,
            "count": 0
           },
           {
            "bin_start": 0.20000000000000007,
            "bin_end": 0.30000000000000004,
            "count": 0
           },
           {
            "bin_start": 0.30000000000000004,
            "bin_end": 0.4,
            "count": 0
           },
           {
            "bin_start": 0.4,
            "bin_end": 0.5,
            "count": 0
           }
          ]
         }
        },
        {
         "name": "READ/WRITE_TO_RESOURCES_OWNED_BY_DIAG",
         "dtype": "int64",
         "stats": {
          "unique_count": 1,
          "nan_count": 0,
          "min": "0",
          "max": "0",
          "histogram": [
           {
            "bin_start": -0.5,
            "bin_end": -0.4,
            "count": 0
           },
           {
            "bin_start": -0.4,
            "bin_end": -0.3,
            "count": 0
           },
           {
            "bin_start": -0.3,
            "bin_end": -0.19999999999999996,
            "count": 0
           },
           {
            "bin_start": -0.19999999999999996,
            "bin_end": -0.09999999999999998,
            "count": 0
           },
           {
            "bin_start": -0.09999999999999998,
            "bin_end": 0,
            "count": 0
           },
           {
            "bin_start": 0,
            "bin_end": 0.10000000000000009,
            "count": 5
           },
           {
            "bin_start": 0.10000000000000009,
            "bin_end": 0.20000000000000007,
            "count": 0
           },
           {
            "bin_start": 0.20000000000000007,
            "bin_end": 0.30000000000000004,
            "count": 0
           },
           {
            "bin_start": 0.30000000000000004,
            "bin_end": 0.4,
            "count": 0
           },
           {
            "bin_start": 0.4,
            "bin_end": 0.5,
            "count": 0
           }
          ]
         }
        },
        {
         "name": "REORDER_RUNNING_APPLICATIONS",
         "dtype": "int64",
         "stats": {
          "unique_count": 1,
          "nan_count": 0,
          "min": "0",
          "max": "0",
          "histogram": [
           {
            "bin_start": -0.5,
            "bin_end": -0.4,
            "count": 0
           },
           {
            "bin_start": -0.4,
            "bin_end": -0.3,
            "count": 0
           },
           {
            "bin_start": -0.3,
            "bin_end": -0.19999999999999996,
            "count": 0
           },
           {
            "bin_start": -0.19999999999999996,
            "bin_end": -0.09999999999999998,
            "count": 0
           },
           {
            "bin_start": -0.09999999999999998,
            "bin_end": 0,
            "count": 0
           },
           {
            "bin_start": 0,
            "bin_end": 0.10000000000000009,
            "count": 5
           },
           {
            "bin_start": 0.10000000000000009,
            "bin_end": 0.20000000000000007,
            "count": 0
           },
           {
            "bin_start": 0.20000000000000007,
            "bin_end": 0.30000000000000004,
            "count": 0
           },
           {
            "bin_start": 0.30000000000000004,
            "bin_end": 0.4,
            "count": 0
           },
           {
            "bin_start": 0.4,
            "bin_end": 0.5,
            "count": 0
           }
          ]
         }
        },
        {
         "name": "RETRIEVE_RUNNING_APPLICATIONS",
         "dtype": "int64",
         "stats": {
          "unique_count": 1,
          "nan_count": 0,
          "min": "0",
          "max": "0",
          "histogram": [
           {
            "bin_start": -0.5,
            "bin_end": -0.4,
            "count": 0
           },
           {
            "bin_start": -0.4,
            "bin_end": -0.3,
            "count": 0
           },
           {
            "bin_start": -0.3,
            "bin_end": -0.19999999999999996,
            "count": 0
           },
           {
            "bin_start": -0.19999999999999996,
            "bin_end": -0.09999999999999998,
            "count": 0
           },
           {
            "bin_start": -0.09999999999999998,
            "bin_end": 0,
            "count": 0
           },
           {
            "bin_start": 0,
            "bin_end": 0.10000000000000009,
            "count": 5
           },
           {
            "bin_start": 0.10000000000000009,
            "bin_end": 0.20000000000000007,
            "count": 0
           },
           {
            "bin_start": 0.20000000000000007,
            "bin_end": 0.30000000000000004,
            "count": 0
           },
           {
            "bin_start": 0.30000000000000004,
            "bin_end": 0.4,
            "count": 0
           },
           {
            "bin_start": 0.4,
            "bin_end": 0.5,
            "count": 0
           }
          ]
         }
        },
        {
         "name": "SEND_PACKAGE_REMOVED_BROADCAST",
         "dtype": "int64",
         "stats": {
          "unique_count": 1,
          "nan_count": 0,
          "min": "0",
          "max": "0",
          "histogram": [
           {
            "bin_start": -0.5,
            "bin_end": -0.4,
            "count": 0
           },
           {
            "bin_start": -0.4,
            "bin_end": -0.3,
            "count": 0
           },
           {
            "bin_start": -0.3,
            "bin_end": -0.19999999999999996,
            "count": 0
           },
           {
            "bin_start": -0.19999999999999996,
            "bin_end": -0.09999999999999998,
            "count": 0
           },
           {
            "bin_start": -0.09999999999999998,
            "bin_end": 0,
            "count": 0
           },
           {
            "bin_start": 0,
            "bin_end": 0.10000000000000009,
            "count": 5
           },
           {
            "bin_start": 0.10000000000000009,
            "bin_end": 0.20000000000000007,
            "count": 0
           },
           {
            "bin_start": 0.20000000000000007,
            "bin_end": 0.30000000000000004,
            "count": 0
           },
           {
            "bin_start": 0.30000000000000004,
            "bin_end": 0.4,
            "count": 0
           },
           {
            "bin_start": 0.4,
            "bin_end": 0.5,
            "count": 0
           }
          ]
         }
        },
        {
         "name": "SEND_STICKY_BROADCAST",
         "dtype": "int64",
         "stats": {
          "unique_count": 1,
          "nan_count": 0,
          "min": "0",
          "max": "0",
          "histogram": [
           {
            "bin_start": -0.5,
            "bin_end": -0.4,
            "count": 0
           },
           {
            "bin_start": -0.4,
            "bin_end": -0.3,
            "count": 0
           },
           {
            "bin_start": -0.3,
            "bin_end": -0.19999999999999996,
            "count": 0
           },
           {
            "bin_start": -0.19999999999999996,
            "bin_end": -0.09999999999999998,
            "count": 0
           },
           {
            "bin_start": -0.09999999999999998,
            "bin_end": 0,
            "count": 0
           },
           {
            "bin_start": 0,
            "bin_end": 0.10000000000000009,
            "count": 5
           },
           {
            "bin_start": 0.10000000000000009,
            "bin_end": 0.20000000000000007,
            "count": 0
           },
           {
            "bin_start": 0.20000000000000007,
            "bin_end": 0.30000000000000004,
            "count": 0
           },
           {
            "bin_start": 0.30000000000000004,
            "bin_end": 0.4,
            "count": 0
           },
           {
            "bin_start": 0.4,
            "bin_end": 0.5,
            "count": 0
           }
          ]
         }
        },
        {
         "name": "SET_PREFERRED_APPLICATIONS",
         "dtype": "int64",
         "stats": {
          "unique_count": 1,
          "nan_count": 0,
          "min": "0",
          "max": "0",
          "histogram": [
           {
            "bin_start": -0.5,
            "bin_end": -0.4,
            "count": 0
           },
           {
            "bin_start": -0.4,
            "bin_end": -0.3,
            "count": 0
           },
           {
            "bin_start": -0.3,
            "bin_end": -0.19999999999999996,
            "count": 0
           },
           {
            "bin_start": -0.19999999999999996,
            "bin_end": -0.09999999999999998,
            "count": 0
           },
           {
            "bin_start": -0.09999999999999998,
            "bin_end": 0,
            "count": 0
           },
           {
            "bin_start": 0,
            "bin_end": 0.10000000000000009,
            "count": 5
           },
           {
            "bin_start": 0.10000000000000009,
            "bin_end": 0.20000000000000007,
            "count": 0
           },
           {
            "bin_start": 0.20000000000000007,
            "bin_end": 0.30000000000000004,
            "count": 0
           },
           {
            "bin_start": 0.30000000000000004,
            "bin_end": 0.4,
            "count": 0
           },
           {
            "bin_start": 0.4,
            "bin_end": 0.5,
            "count": 0
           }
          ]
         }
        },
        {
         "name": "SET_TIME_ZONE",
         "dtype": "int64",
         "stats": {
          "unique_count": 1,
          "nan_count": 0,
          "min": "0",
          "max": "0",
          "histogram": [
           {
            "bin_start": -0.5,
            "bin_end": -0.4,
            "count": 0
           },
           {
            "bin_start": -0.4,
            "bin_end": -0.3,
            "count": 0
           },
           {
            "bin_start": -0.3,
            "bin_end": -0.19999999999999996,
            "count": 0
           },
           {
            "bin_start": -0.19999999999999996,
            "bin_end": -0.09999999999999998,
            "count": 0
           },
           {
            "bin_start": -0.09999999999999998,
            "bin_end": 0,
            "count": 0
           },
           {
            "bin_start": 0,
            "bin_end": 0.10000000000000009,
            "count": 5
           },
           {
            "bin_start": 0.10000000000000009,
            "bin_end": 0.20000000000000007,
            "count": 0
           },
           {
            "bin_start": 0.20000000000000007,
            "bin_end": 0.30000000000000004,
            "count": 0
           },
           {
            "bin_start": 0.30000000000000004,
            "bin_end": 0.4,
            "count": 0
           },
           {
            "bin_start": 0.4,
            "bin_end": 0.5,
            "count": 0
           }
          ]
         }
        },
        {
         "name": "SET_WALLPAPER",
         "dtype": "int64",
         "stats": {
          "unique_count": 1,
          "nan_count": 0,
          "min": "0",
          "max": "0",
          "histogram": [
           {
            "bin_start": -0.5,
            "bin_end": -0.4,
            "count": 0
           },
           {
            "bin_start": -0.4,
            "bin_end": -0.3,
            "count": 0
           },
           {
            "bin_start": -0.3,
            "bin_end": -0.19999999999999996,
            "count": 0
           },
           {
            "bin_start": -0.19999999999999996,
            "bin_end": -0.09999999999999998,
            "count": 0
           },
           {
            "bin_start": -0.09999999999999998,
            "bin_end": 0,
            "count": 0
           },
           {
            "bin_start": 0,
            "bin_end": 0.10000000000000009,
            "count": 5
           },
           {
            "bin_start": 0.10000000000000009,
            "bin_end": 0.20000000000000007,
            "count": 0
           },
           {
            "bin_start": 0.20000000000000007,
            "bin_end": 0.30000000000000004,
            "count": 0
           },
           {
            "bin_start": 0.30000000000000004,
            "bin_end": 0.4,
            "count": 0
           },
           {
            "bin_start": 0.4,
            "bin_end": 0.5,
            "count": 0
           }
          ]
         }
        },
        {
         "name": "SET_WALLPAPER_SIZE_HINTS.1",
         "dtype": "int64",
         "stats": {
          "unique_count": 1,
          "nan_count": 0,
          "min": "0",
          "max": "0",
          "histogram": [
           {
            "bin_start": -0.5,
            "bin_end": -0.4,
            "count": 0
           },
           {
            "bin_start": -0.4,
            "bin_end": -0.3,
            "count": 0
           },
           {
            "bin_start": -0.3,
            "bin_end": -0.19999999999999996,
            "count": 0
           },
           {
            "bin_start": -0.19999999999999996,
            "bin_end": -0.09999999999999998,
            "count": 0
           },
           {
            "bin_start": -0.09999999999999998,
            "bin_end": 0,
            "count": 0
           },
           {
            "bin_start": 0,
            "bin_end": 0.10000000000000009,
            "count": 5
           },
           {
            "bin_start": 0.10000000000000009,
            "bin_end": 0.20000000000000007,
            "count": 0
           },
           {
            "bin_start": 0.20000000000000007,
            "bin_end": 0.30000000000000004,
            "count": 0
           },
           {
            "bin_start": 0.30000000000000004,
            "bin_end": 0.4,
            "count": 0
           },
           {
            "bin_start": 0.4,
            "bin_end": 0.5,
            "count": 0
           }
          ]
         }
        },
        {
         "name": "WRITE_ACCESS_POINT_NAME_SETTINGS",
         "dtype": "int64",
         "stats": {
          "unique_count": 1,
          "nan_count": 0,
          "min": "0",
          "max": "0",
          "histogram": [
           {
            "bin_start": -0.5,
            "bin_end": -0.4,
            "count": 0
           },
           {
            "bin_start": -0.4,
            "bin_end": -0.3,
            "count": 0
           },
           {
            "bin_start": -0.3,
            "bin_end": -0.19999999999999996,
            "count": 0
           },
           {
            "bin_start": -0.19999999999999996,
            "bin_end": -0.09999999999999998,
            "count": 0
           },
           {
            "bin_start": -0.09999999999999998,
            "bin_end": 0,
            "count": 0
           },
           {
            "bin_start": 0,
            "bin_end": 0.10000000000000009,
            "count": 5
           },
           {
            "bin_start": 0.10000000000000009,
            "bin_end": 0.20000000000000007,
            "count": 0
           },
           {
            "bin_start": 0.20000000000000007,
            "bin_end": 0.30000000000000004,
            "count": 0
           },
           {
            "bin_start": 0.30000000000000004,
            "bin_end": 0.4,
            "count": 0
           },
           {
            "bin_start": 0.4,
            "bin_end": 0.5,
            "count": 0
           }
          ]
         }
        },
        {
         "name": "WRITE_SUBSCRIBED_FEEDS",
         "dtype": "int64",
         "stats": {
          "unique_count": 1,
          "nan_count": 0,
          "min": "0",
          "max": "0",
          "histogram": [
           {
            "bin_start": -0.5,
            "bin_end": -0.4,
            "count": 0
           },
           {
            "bin_start": -0.4,
            "bin_end": -0.3,
            "count": 0
           },
           {
            "bin_start": -0.3,
            "bin_end": -0.19999999999999996,
            "count": 0
           },
           {
            "bin_start": -0.19999999999999996,
            "bin_end": -0.09999999999999998,
            "count": 0
           },
           {
            "bin_start": -0.09999999999999998,
            "bin_end": 0,
            "count": 0
           },
           {
            "bin_start": 0,
            "bin_end": 0.10000000000000009,
            "count": 5
           },
           {
            "bin_start": 0.10000000000000009,
            "bin_end": 0.20000000000000007,
            "count": 0
           },
           {
            "bin_start": 0.20000000000000007,
            "bin_end": 0.30000000000000004,
            "count": 0
           },
           {
            "bin_start": 0.30000000000000004,
            "bin_end": 0.4,
            "count": 0
           },
           {
            "bin_start": 0.4,
            "bin_end": 0.5,
            "count": 0
           }
          ]
         }
        },
        {
         "name": "WRITE_SYNC_SETTINGS",
         "dtype": "int64",
         "stats": {
          "unique_count": 1,
          "nan_count": 0,
          "min": "0",
          "max": "0",
          "histogram": [
           {
            "bin_start": -0.5,
            "bin_end": -0.4,
            "count": 0
           },
           {
            "bin_start": -0.4,
            "bin_end": -0.3,
            "count": 0
           },
           {
            "bin_start": -0.3,
            "bin_end": -0.19999999999999996,
            "count": 0
           },
           {
            "bin_start": -0.19999999999999996,
            "bin_end": -0.09999999999999998,
            "count": 0
           },
           {
            "bin_start": -0.09999999999999998,
            "bin_end": 0,
            "count": 0
           },
           {
            "bin_start": 0,
            "bin_end": 0.10000000000000009,
            "count": 5
           },
           {
            "bin_start": 0.10000000000000009,
            "bin_end": 0.20000000000000007,
            "count": 0
           },
           {
            "bin_start": 0.20000000000000007,
            "bin_end": 0.30000000000000004,
            "count": 0
           },
           {
            "bin_start": 0.30000000000000004,
            "bin_end": 0.4,
            "count": 0
           },
           {
            "bin_start": 0.4,
            "bin_end": 0.5,
            "count": 0
           }
          ]
         }
        },
        {
         "name": "BLOGGER",
         "dtype": "int64",
         "stats": {
          "unique_count": 1,
          "nan_count": 0,
          "min": "0",
          "max": "0",
          "histogram": [
           {
            "bin_start": -0.5,
            "bin_end": -0.4,
            "count": 0
           },
           {
            "bin_start": -0.4,
            "bin_end": -0.3,
            "count": 0
           },
           {
            "bin_start": -0.3,
            "bin_end": -0.19999999999999996,
            "count": 0
           },
           {
            "bin_start": -0.19999999999999996,
            "bin_end": -0.09999999999999998,
            "count": 0
           },
           {
            "bin_start": -0.09999999999999998,
            "bin_end": 0,
            "count": 0
           },
           {
            "bin_start": 0,
            "bin_end": 0.10000000000000009,
            "count": 5
           },
           {
            "bin_start": 0.10000000000000009,
            "bin_end": 0.20000000000000007,
            "count": 0
           },
           {
            "bin_start": 0.20000000000000007,
            "bin_end": 0.30000000000000004,
            "count": 0
           },
           {
            "bin_start": 0.30000000000000004,
            "bin_end": 0.4,
            "count": 0
           },
           {
            "bin_start": 0.4,
            "bin_end": 0.5,
            "count": 0
           }
          ]
         }
        },
        {
         "name": "GOOGLE_APP_ENGINE",
         "dtype": "int64",
         "stats": {
          "unique_count": 1,
          "nan_count": 0,
          "min": "0",
          "max": "0",
          "histogram": [
           {
            "bin_start": -0.5,
            "bin_end": -0.4,
            "count": 0
           },
           {
            "bin_start": -0.4,
            "bin_end": -0.3,
            "count": 0
           },
           {
            "bin_start": -0.3,
            "bin_end": -0.19999999999999996,
            "count": 0
           },
           {
            "bin_start": -0.19999999999999996,
            "bin_end": -0.09999999999999998,
            "count": 0
           },
           {
            "bin_start": -0.09999999999999998,
            "bin_end": 0,
            "count": 0
           },
           {
            "bin_start": 0,
            "bin_end": 0.10000000000000009,
            "count": 5
           },
           {
            "bin_start": 0.10000000000000009,
            "bin_end": 0.20000000000000007,
            "count": 0
           },
           {
            "bin_start": 0.20000000000000007,
            "bin_end": 0.30000000000000004,
            "count": 0
           },
           {
            "bin_start": 0.30000000000000004,
            "bin_end": 0.4,
            "count": 0
           },
           {
            "bin_start": 0.4,
            "bin_end": 0.5,
            "count": 0
           }
          ]
         }
        },
        {
         "name": "GOOGLE_DOCS",
         "dtype": "int64",
         "stats": {
          "unique_count": 1,
          "nan_count": 0,
          "min": "0",
          "max": "0",
          "histogram": [
           {
            "bin_start": -0.5,
            "bin_end": -0.4,
            "count": 0
           },
           {
            "bin_start": -0.4,
            "bin_end": -0.3,
            "count": 0
           },
           {
            "bin_start": -0.3,
            "bin_end": -0.19999999999999996,
            "count": 0
           },
           {
            "bin_start": -0.19999999999999996,
            "bin_end": -0.09999999999999998,
            "count": 0
           },
           {
            "bin_start": -0.09999999999999998,
            "bin_end": 0,
            "count": 0
           },
           {
            "bin_start": 0,
            "bin_end": 0.10000000000000009,
            "count": 5
           },
           {
            "bin_start": 0.10000000000000009,
            "bin_end": 0.20000000000000007,
            "count": 0
           },
           {
            "bin_start": 0.20000000000000007,
            "bin_end": 0.30000000000000004,
            "count": 0
           },
           {
            "bin_start": 0.30000000000000004,
            "bin_end": 0.4,
            "count": 0
           },
           {
            "bin_start": 0.4,
            "bin_end": 0.5,
            "count": 0
           }
          ]
         }
        },
        {
         "name": "GOOGLE_FINANCE",
         "dtype": "int64",
         "stats": {
          "unique_count": 1,
          "nan_count": 0,
          "min": "0",
          "max": "0",
          "histogram": [
           {
            "bin_start": -0.5,
            "bin_end": -0.4,
            "count": 0
           },
           {
            "bin_start": -0.4,
            "bin_end": -0.3,
            "count": 0
           },
           {
            "bin_start": -0.3,
            "bin_end": -0.19999999999999996,
            "count": 0
           },
           {
            "bin_start": -0.19999999999999996,
            "bin_end": -0.09999999999999998,
            "count": 0
           },
           {
            "bin_start": -0.09999999999999998,
            "bin_end": 0,
            "count": 0
           },
           {
            "bin_start": 0,
            "bin_end": 0.10000000000000009,
            "count": 5
           },
           {
            "bin_start": 0.10000000000000009,
            "bin_end": 0.20000000000000007,
            "count": 0
           },
           {
            "bin_start": 0.20000000000000007,
            "bin_end": 0.30000000000000004,
            "count": 0
           },
           {
            "bin_start": 0.30000000000000004,
            "bin_end": 0.4,
            "count": 0
           },
           {
            "bin_start": 0.4,
            "bin_end": 0.5,
            "count": 0
           }
          ]
         }
        },
        {
         "name": "GOOGLE_MAPS",
         "dtype": "int64",
         "stats": {
          "unique_count": 1,
          "nan_count": 0,
          "min": "0",
          "max": "0",
          "histogram": [
           {
            "bin_start": -0.5,
            "bin_end": -0.4,
            "count": 0
           },
           {
            "bin_start": -0.4,
            "bin_end": -0.3,
            "count": 0
           },
           {
            "bin_start": -0.3,
            "bin_end": -0.19999999999999996,
            "count": 0
           },
           {
            "bin_start": -0.19999999999999996,
            "bin_end": -0.09999999999999998,
            "count": 0
           },
           {
            "bin_start": -0.09999999999999998,
            "bin_end": 0,
            "count": 0
           },
           {
            "bin_start": 0,
            "bin_end": 0.10000000000000009,
            "count": 5
           },
           {
            "bin_start": 0.10000000000000009,
            "bin_end": 0.20000000000000007,
            "count": 0
           },
           {
            "bin_start": 0.20000000000000007,
            "bin_end": 0.30000000000000004,
            "count": 0
           },
           {
            "bin_start": 0.30000000000000004,
            "bin_end": 0.4,
            "count": 0
           },
           {
            "bin_start": 0.4,
            "bin_end": 0.5,
            "count": 0
           }
          ]
         }
        },
        {
         "name": "GOOGLE_SPREADSHEETS",
         "dtype": "int64",
         "stats": {
          "unique_count": 1,
          "nan_count": 0,
          "min": "0",
          "max": "0",
          "histogram": [
           {
            "bin_start": -0.5,
            "bin_end": -0.4,
            "count": 0
           },
           {
            "bin_start": -0.4,
            "bin_end": -0.3,
            "count": 0
           },
           {
            "bin_start": -0.3,
            "bin_end": -0.19999999999999996,
            "count": 0
           },
           {
            "bin_start": -0.19999999999999996,
            "bin_end": -0.09999999999999998,
            "count": 0
           },
           {
            "bin_start": -0.09999999999999998,
            "bin_end": 0,
            "count": 0
           },
           {
            "bin_start": 0,
            "bin_end": 0.10000000000000009,
            "count": 5
           },
           {
            "bin_start": 0.10000000000000009,
            "bin_end": 0.20000000000000007,
            "count": 0
           },
           {
            "bin_start": 0.20000000000000007,
            "bin_end": 0.30000000000000004,
            "count": 0
           },
           {
            "bin_start": 0.30000000000000004,
            "bin_end": 0.4,
            "count": 0
           },
           {
            "bin_start": 0.4,
            "bin_end": 0.5,
            "count": 0
           }
          ]
         }
        },
        {
         "name": "GOOGLE_VOICE",
         "dtype": "int64",
         "stats": {
          "unique_count": 1,
          "nan_count": 0,
          "min": "0",
          "max": "0",
          "histogram": [
           {
            "bin_start": -0.5,
            "bin_end": -0.4,
            "count": 0
           },
           {
            "bin_start": -0.4,
            "bin_end": -0.3,
            "count": 0
           },
           {
            "bin_start": -0.3,
            "bin_end": -0.19999999999999996,
            "count": 0
           },
           {
            "bin_start": -0.19999999999999996,
            "bin_end": -0.09999999999999998,
            "count": 0
           },
           {
            "bin_start": -0.09999999999999998,
            "bin_end": 0,
            "count": 0
           },
           {
            "bin_start": 0,
            "bin_end": 0.10000000000000009,
            "count": 5
           },
           {
            "bin_start": 0.10000000000000009,
            "bin_end": 0.20000000000000007,
            "count": 0
           },
           {
            "bin_start": 0.20000000000000007,
            "bin_end": 0.30000000000000004,
            "count": 0
           },
           {
            "bin_start": 0.30000000000000004,
            "bin_end": 0.4,
            "count": 0
           },
           {
            "bin_start": 0.4,
            "bin_end": 0.5,
            "count": 0
           }
          ]
         }
        },
        {
         "name": "GOOGLE_MAIL",
         "dtype": "int64",
         "stats": {
          "unique_count": 1,
          "nan_count": 0,
          "min": "0",
          "max": "0",
          "histogram": [
           {
            "bin_start": -0.5,
            "bin_end": -0.4,
            "count": 0
           },
           {
            "bin_start": -0.4,
            "bin_end": -0.3,
            "count": 0
           },
           {
            "bin_start": -0.3,
            "bin_end": -0.19999999999999996,
            "count": 0
           },
           {
            "bin_start": -0.19999999999999996,
            "bin_end": -0.09999999999999998,
            "count": 0
           },
           {
            "bin_start": -0.09999999999999998,
            "bin_end": 0,
            "count": 0
           },
           {
            "bin_start": 0,
            "bin_end": 0.10000000000000009,
            "count": 5
           },
           {
            "bin_start": 0.10000000000000009,
            "bin_end": 0.20000000000000007,
            "count": 0
           },
           {
            "bin_start": 0.20000000000000007,
            "bin_end": 0.30000000000000004,
            "count": 0
           },
           {
            "bin_start": 0.30000000000000004,
            "bin_end": 0.4,
            "count": 0
           },
           {
            "bin_start": 0.4,
            "bin_end": 0.5,
            "count": 0
           }
          ]
         }
        },
        {
         "name": "PICASA_WEB_ALBUMS",
         "dtype": "int64",
         "stats": {
          "unique_count": 1,
          "nan_count": 0,
          "min": "0",
          "max": "0",
          "histogram": [
           {
            "bin_start": -0.5,
            "bin_end": -0.4,
            "count": 0
           },
           {
            "bin_start": -0.4,
            "bin_end": -0.3,
            "count": 0
           },
           {
            "bin_start": -0.3,
            "bin_end": -0.19999999999999996,
            "count": 0
           },
           {
            "bin_start": -0.19999999999999996,
            "bin_end": -0.09999999999999998,
            "count": 0
           },
           {
            "bin_start": -0.09999999999999998,
            "bin_end": 0,
            "count": 0
           },
           {
            "bin_start": 0,
            "bin_end": 0.10000000000000009,
            "count": 5
           },
           {
            "bin_start": 0.10000000000000009,
            "bin_end": 0.20000000000000007,
            "count": 0
           },
           {
            "bin_start": 0.20000000000000007,
            "bin_end": 0.30000000000000004,
            "count": 0
           },
           {
            "bin_start": 0.30000000000000004,
            "bin_end": 0.4,
            "count": 0
           },
           {
            "bin_start": 0.4,
            "bin_end": 0.5,
            "count": 0
           }
          ]
         }
        },
        {
         "name": "YOUTUBE",
         "dtype": "int64",
         "stats": {
          "unique_count": 1,
          "nan_count": 0,
          "min": "0",
          "max": "0",
          "histogram": [
           {
            "bin_start": -0.5,
            "bin_end": -0.4,
            "count": 0
           },
           {
            "bin_start": -0.4,
            "bin_end": -0.3,
            "count": 0
           },
           {
            "bin_start": -0.3,
            "bin_end": -0.19999999999999996,
            "count": 0
           },
           {
            "bin_start": -0.19999999999999996,
            "bin_end": -0.09999999999999998,
            "count": 0
           },
           {
            "bin_start": -0.09999999999999998,
            "bin_end": 0,
            "count": 0
           },
           {
            "bin_start": 0,
            "bin_end": 0.10000000000000009,
            "count": 5
           },
           {
            "bin_start": 0.10000000000000009,
            "bin_end": 0.20000000000000007,
            "count": 0
           },
           {
            "bin_start": 0.20000000000000007,
            "bin_end": 0.30000000000000004,
            "count": 0
           },
           {
            "bin_start": 0.30000000000000004,
            "bin_end": 0.4,
            "count": 0
           },
           {
            "bin_start": 0.4,
            "bin_end": 0.5,
            "count": 0
           }
          ]
         }
        },
        {
         "name": "YOUTUBE_USERNAMES",
         "dtype": "int64",
         "stats": {
          "unique_count": 1,
          "nan_count": 0,
          "min": "0",
          "max": "0",
          "histogram": [
           {
            "bin_start": -0.5,
            "bin_end": -0.4,
            "count": 0
           },
           {
            "bin_start": -0.4,
            "bin_end": -0.3,
            "count": 0
           },
           {
            "bin_start": -0.3,
            "bin_end": -0.19999999999999996,
            "count": 0
           },
           {
            "bin_start": -0.19999999999999996,
            "bin_end": -0.09999999999999998,
            "count": 0
           },
           {
            "bin_start": -0.09999999999999998,
            "bin_end": 0,
            "count": 0
           },
           {
            "bin_start": 0,
            "bin_end": 0.10000000000000009,
            "count": 5
           },
           {
            "bin_start": 0.10000000000000009,
            "bin_end": 0.20000000000000007,
            "count": 0
           },
           {
            "bin_start": 0.20000000000000007,
            "bin_end": 0.30000000000000004,
            "count": 0
           },
           {
            "bin_start": 0.30000000000000004,
            "bin_end": 0.4,
            "count": 0
           },
           {
            "bin_start": 0.4,
            "bin_end": 0.5,
            "count": 0
           }
          ]
         }
        },
        {
         "name": "ACCESS_ALL_GOOGLE_SERVICES",
         "dtype": "int64",
         "stats": {
          "unique_count": 1,
          "nan_count": 0,
          "min": "0",
          "max": "0",
          "histogram": [
           {
            "bin_start": -0.5,
            "bin_end": -0.4,
            "count": 0
           },
           {
            "bin_start": -0.4,
            "bin_end": -0.3,
            "count": 0
           },
           {
            "bin_start": -0.3,
            "bin_end": -0.19999999999999996,
            "count": 0
           },
           {
            "bin_start": -0.19999999999999996,
            "bin_end": -0.09999999999999998,
            "count": 0
           },
           {
            "bin_start": -0.09999999999999998,
            "bin_end": 0,
            "count": 0
           },
           {
            "bin_start": 0,
            "bin_end": 0.10000000000000009,
            "count": 5
           },
           {
            "bin_start": 0.10000000000000009,
            "bin_end": 0.20000000000000007,
            "count": 0
           },
           {
            "bin_start": 0.20000000000000007,
            "bin_end": 0.30000000000000004,
            "count": 0
           },
           {
            "bin_start": 0.30000000000000004,
            "bin_end": 0.4,
            "count": 0
           },
           {
            "bin_start": 0.4,
            "bin_end": 0.5,
            "count": 0
           }
          ]
         }
        },
        {
         "name": "ACCESS_OTHER_GOOGLE_SERVICES",
         "dtype": "int64",
         "stats": {
          "unique_count": 1,
          "nan_count": 0,
          "min": "0",
          "max": "0",
          "histogram": [
           {
            "bin_start": -0.5,
            "bin_end": -0.4,
            "count": 0
           },
           {
            "bin_start": -0.4,
            "bin_end": -0.3,
            "count": 0
           },
           {
            "bin_start": -0.3,
            "bin_end": -0.19999999999999996,
            "count": 0
           },
           {
            "bin_start": -0.19999999999999996,
            "bin_end": -0.09999999999999998,
            "count": 0
           },
           {
            "bin_start": -0.09999999999999998,
            "bin_end": 0,
            "count": 0
           },
           {
            "bin_start": 0,
            "bin_end": 0.10000000000000009,
            "count": 5
           },
           {
            "bin_start": 0.10000000000000009,
            "bin_end": 0.20000000000000007,
            "count": 0
           },
           {
            "bin_start": 0.20000000000000007,
            "bin_end": 0.30000000000000004,
            "count": 0
           },
           {
            "bin_start": 0.30000000000000004,
            "bin_end": 0.4,
            "count": 0
           },
           {
            "bin_start": 0.4,
            "bin_end": 0.5,
            "count": 0
           }
          ]
         }
        },
        {
         "name": "ACT_AS_AN_ACCOUNT_AUTHENTICATOR.1",
         "dtype": "int64",
         "stats": {
          "unique_count": 1,
          "nan_count": 0,
          "min": "0",
          "max": "0",
          "histogram": [
           {
            "bin_start": -0.5,
            "bin_end": -0.4,
            "count": 0
           },
           {
            "bin_start": -0.4,
            "bin_end": -0.3,
            "count": 0
           },
           {
            "bin_start": -0.3,
            "bin_end": -0.19999999999999996,
            "count": 0
           },
           {
            "bin_start": -0.19999999999999996,
            "bin_end": -0.09999999999999998,
            "count": 0
           },
           {
            "bin_start": -0.09999999999999998,
            "bin_end": 0,
            "count": 0
           },
           {
            "bin_start": 0,
            "bin_end": 0.10000000000000009,
            "count": 5
           },
           {
            "bin_start": 0.10000000000000009,
            "bin_end": 0.20000000000000007,
            "count": 0
           },
           {
            "bin_start": 0.20000000000000007,
            "bin_end": 0.30000000000000004,
            "count": 0
           },
           {
            "bin_start": 0.30000000000000004,
            "bin_end": 0.4,
            "count": 0
           },
           {
            "bin_start": 0.4,
            "bin_end": 0.5,
            "count": 0
           }
          ]
         }
        },
        {
         "name": "ACT_AS_THE_ACCOUNTMANAGERSERVICE",
         "dtype": "int64",
         "stats": {
          "unique_count": 1,
          "nan_count": 0,
          "min": "0",
          "max": "0",
          "histogram": [
           {
            "bin_start": -0.5,
            "bin_end": -0.4,
            "count": 0
           },
           {
            "bin_start": -0.4,
            "bin_end": -0.3,
            "count": 0
           },
           {
            "bin_start": -0.3,
            "bin_end": -0.19999999999999996,
            "count": 0
           },
           {
            "bin_start": -0.19999999999999996,
            "bin_end": -0.09999999999999998,
            "count": 0
           },
           {
            "bin_start": -0.09999999999999998,
            "bin_end": 0,
            "count": 0
           },
           {
            "bin_start": 0,
            "bin_end": 0.10000000000000009,
            "count": 5
           },
           {
            "bin_start": 0.10000000000000009,
            "bin_end": 0.20000000000000007,
            "count": 0
           },
           {
            "bin_start": 0.20000000000000007,
            "bin_end": 0.30000000000000004,
            "count": 0
           },
           {
            "bin_start": 0.30000000000000004,
            "bin_end": 0.4,
            "count": 0
           },
           {
            "bin_start": 0.4,
            "bin_end": 0.5,
            "count": 0
           }
          ]
         }
        },
        {
         "name": "CONTACTS_DATA_IN_GOOGLE_ACCOUNTS",
         "dtype": "int64",
         "stats": {
          "unique_count": 1,
          "nan_count": 0,
          "min": "0",
          "max": "0",
          "histogram": [
           {
            "bin_start": -0.5,
            "bin_end": -0.4,
            "count": 0
           },
           {
            "bin_start": -0.4,
            "bin_end": -0.3,
            "count": 0
           },
           {
            "bin_start": -0.3,
            "bin_end": -0.19999999999999996,
            "count": 0
           },
           {
            "bin_start": -0.19999999999999996,
            "bin_end": -0.09999999999999998,
            "count": 0
           },
           {
            "bin_start": -0.09999999999999998,
            "bin_end": 0,
            "count": 0
           },
           {
            "bin_start": 0,
            "bin_end": 0.10000000000000009,
            "count": 5
           },
           {
            "bin_start": 0.10000000000000009,
            "bin_end": 0.20000000000000007,
            "count": 0
           },
           {
            "bin_start": 0.20000000000000007,
            "bin_end": 0.30000000000000004,
            "count": 0
           },
           {
            "bin_start": 0.30000000000000004,
            "bin_end": 0.4,
            "count": 0
           },
           {
            "bin_start": 0.4,
            "bin_end": 0.5,
            "count": 0
           }
          ]
         }
        },
        {
         "name": "DISCOVER_KNOWN_ACCOUNTS.1",
         "dtype": "int64",
         "stats": {
          "unique_count": 1,
          "nan_count": 0,
          "min": "0",
          "max": "0",
          "histogram": [
           {
            "bin_start": -0.5,
            "bin_end": -0.4,
            "count": 0
           },
           {
            "bin_start": -0.4,
            "bin_end": -0.3,
            "count": 0
           },
           {
            "bin_start": -0.3,
            "bin_end": -0.19999999999999996,
            "count": 0
           },
           {
            "bin_start": -0.19999999999999996,
            "bin_end": -0.09999999999999998,
            "count": 0
           },
           {
            "bin_start": -0.09999999999999998,
            "bin_end": 0,
            "count": 0
           },
           {
            "bin_start": 0,
            "bin_end": 0.10000000000000009,
            "count": 5
           },
           {
            "bin_start": 0.10000000000000009,
            "bin_end": 0.20000000000000007,
            "count": 0
           },
           {
            "bin_start": 0.20000000000000007,
            "bin_end": 0.30000000000000004,
            "count": 0
           },
           {
            "bin_start": 0.30000000000000004,
            "bin_end": 0.4,
            "count": 0
           },
           {
            "bin_start": 0.4,
            "bin_end": 0.5,
            "count": 0
           }
          ]
         }
        },
        {
         "name": "MANAGE_THE_ACCOUNTS_LIST",
         "dtype": "int64",
         "stats": {
          "unique_count": 1,
          "nan_count": 0,
          "min": "0",
          "max": "0",
          "histogram": [
           {
            "bin_start": -0.5,
            "bin_end": -0.4,
            "count": 0
           },
           {
            "bin_start": -0.4,
            "bin_end": -0.3,
            "count": 0
           },
           {
            "bin_start": -0.3,
            "bin_end": -0.19999999999999996,
            "count": 0
           },
           {
            "bin_start": -0.19999999999999996,
            "bin_end": -0.09999999999999998,
            "count": 0
           },
           {
            "bin_start": -0.09999999999999998,
            "bin_end": 0,
            "count": 0
           },
           {
            "bin_start": 0,
            "bin_end": 0.10000000000000009,
            "count": 5
           },
           {
            "bin_start": 0.10000000000000009,
            "bin_end": 0.20000000000000007,
            "count": 0
           },
           {
            "bin_start": 0.20000000000000007,
            "bin_end": 0.30000000000000004,
            "count": 0
           },
           {
            "bin_start": 0.30000000000000004,
            "bin_end": 0.4,
            "count": 0
           },
           {
            "bin_start": 0.4,
            "bin_end": 0.5,
            "count": 0
           }
          ]
         }
        },
        {
         "name": "READ_GOOGLE_SERVICE_CONFIGURATION",
         "dtype": "int64",
         "stats": {
          "unique_count": 1,
          "nan_count": 0,
          "min": "0",
          "max": "0",
          "histogram": [
           {
            "bin_start": -0.5,
            "bin_end": -0.4,
            "count": 0
           },
           {
            "bin_start": -0.4,
            "bin_end": -0.3,
            "count": 0
           },
           {
            "bin_start": -0.3,
            "bin_end": -0.19999999999999996,
            "count": 0
           },
           {
            "bin_start": -0.19999999999999996,
            "bin_end": -0.09999999999999998,
            "count": 0
           },
           {
            "bin_start": -0.09999999999999998,
            "bin_end": 0,
            "count": 0
           },
           {
            "bin_start": 0,
            "bin_end": 0.10000000000000009,
            "count": 5
           },
           {
            "bin_start": 0.10000000000000009,
            "bin_end": 0.20000000000000007,
            "count": 0
           },
           {
            "bin_start": 0.20000000000000007,
            "bin_end": 0.30000000000000004,
            "count": 0
           },
           {
            "bin_start": 0.30000000000000004,
            "bin_end": 0.4,
            "count": 0
           },
           {
            "bin_start": 0.4,
            "bin_end": 0.5,
            "count": 0
           }
          ]
         }
        },
        {
         "name": "USE_THE_AUTHENTICATION_CREDENTIALS_OF_AN_ACCOUNT",
         "dtype": "int64",
         "stats": {
          "unique_count": 1,
          "nan_count": 0,
          "min": "0",
          "max": "0",
          "histogram": [
           {
            "bin_start": -0.5,
            "bin_end": -0.4,
            "count": 0
           },
           {
            "bin_start": -0.4,
            "bin_end": -0.3,
            "count": 0
           },
           {
            "bin_start": -0.3,
            "bin_end": -0.19999999999999996,
            "count": 0
           },
           {
            "bin_start": -0.19999999999999996,
            "bin_end": -0.09999999999999998,
            "count": 0
           },
           {
            "bin_start": -0.09999999999999998,
            "bin_end": 0,
            "count": 0
           },
           {
            "bin_start": 0,
            "bin_end": 0.10000000000000009,
            "count": 5
           },
           {
            "bin_start": 0.10000000000000009,
            "bin_end": 0.20000000000000007,
            "count": 0
           },
           {
            "bin_start": 0.20000000000000007,
            "bin_end": 0.30000000000000004,
            "count": 0
           },
           {
            "bin_start": 0.30000000000000004,
            "bin_end": 0.4,
            "count": 0
           },
           {
            "bin_start": 0.4,
            "bin_end": 0.5,
            "count": 0
           }
          ]
         }
        },
        {
         "name": "VIEW_CONFIGURED_ACCOUNTS",
         "dtype": "int64",
         "stats": {
          "unique_count": 1,
          "nan_count": 0,
          "min": "0",
          "max": "0",
          "histogram": [
           {
            "bin_start": -0.5,
            "bin_end": -0.4,
            "count": 0
           },
           {
            "bin_start": -0.4,
            "bin_end": -0.3,
            "count": 0
           },
           {
            "bin_start": -0.3,
            "bin_end": -0.19999999999999996,
            "count": 0
           },
           {
            "bin_start": -0.19999999999999996,
            "bin_end": -0.09999999999999998,
            "count": 0
           },
           {
            "bin_start": -0.09999999999999998,
            "bin_end": 0,
            "count": 0
           },
           {
            "bin_start": 0,
            "bin_end": 0.10000000000000009,
            "count": 5
           },
           {
            "bin_start": 0.10000000000000009,
            "bin_end": 0.20000000000000007,
            "count": 0
           },
           {
            "bin_start": 0.20000000000000007,
            "bin_end": 0.30000000000000004,
            "count": 0
           },
           {
            "bin_start": 0.30000000000000004,
            "bin_end": 0.4,
            "count": 0
           },
           {
            "bin_start": 0.4,
            "bin_end": 0.5,
            "count": 0
           }
          ]
         }
        },
        {
         "name": "ACCESS_EXTRA_LOCATION_PROVIDER_COMMANDS",
         "dtype": "int64",
         "stats": {
          "unique_count": 1,
          "nan_count": 0,
          "min": "0",
          "max": "0",
          "histogram": [
           {
            "bin_start": -0.5,
            "bin_end": -0.4,
            "count": 0
           },
           {
            "bin_start": -0.4,
            "bin_end": -0.3,
            "count": 0
           },
           {
            "bin_start": -0.3,
            "bin_end": -0.19999999999999996,
            "count": 0
           },
           {
            "bin_start": -0.19999999999999996,
            "bin_end": -0.09999999999999998,
            "count": 0
           },
           {
            "bin_start": -0.09999999999999998,
            "bin_end": 0,
            "count": 0
           },
           {
            "bin_start": 0,
            "bin_end": 0.10000000000000009,
            "count": 5
           },
           {
            "bin_start": 0.10000000000000009,
            "bin_end": 0.20000000000000007,
            "count": 0
           },
           {
            "bin_start": 0.20000000000000007,
            "bin_end": 0.30000000000000004,
            "count": 0
           },
           {
            "bin_start": 0.30000000000000004,
            "bin_end": 0.4,
            "count": 0
           },
           {
            "bin_start": 0.4,
            "bin_end": 0.5,
            "count": 0
           }
          ]
         }
        },
        {
         "name": "COARSE.1",
         "dtype": "int64",
         "stats": {
          "unique_count": 1,
          "nan_count": 0,
          "min": "0",
          "max": "0",
          "histogram": [
           {
            "bin_start": -0.5,
            "bin_end": -0.4,
            "count": 0
           },
           {
            "bin_start": -0.4,
            "bin_end": -0.3,
            "count": 0
           },
           {
            "bin_start": -0.3,
            "bin_end": -0.19999999999999996,
            "count": 0
           },
           {
            "bin_start": -0.19999999999999996,
            "bin_end": -0.09999999999999998,
            "count": 0
           },
           {
            "bin_start": -0.09999999999999998,
            "bin_end": 0,
            "count": 0
           },
           {
            "bin_start": 0,
            "bin_end": 0.10000000000000009,
            "count": 5
           },
           {
            "bin_start": 0.10000000000000009,
            "bin_end": 0.20000000000000007,
            "count": 0
           },
           {
            "bin_start": 0.20000000000000007,
            "bin_end": 0.30000000000000004,
            "count": 0
           },
           {
            "bin_start": 0.30000000000000004,
            "bin_end": 0.4,
            "count": 0
           },
           {
            "bin_start": 0.4,
            "bin_end": 0.5,
            "count": 0
           }
          ]
         }
        },
        {
         "name": "FINE",
         "dtype": "int64",
         "stats": {
          "unique_count": 1,
          "nan_count": 0,
          "min": "0",
          "max": "0",
          "histogram": [
           {
            "bin_start": -0.5,
            "bin_end": -0.4,
            "count": 0
           },
           {
            "bin_start": -0.4,
            "bin_end": -0.3,
            "count": 0
           },
           {
            "bin_start": -0.3,
            "bin_end": -0.19999999999999996,
            "count": 0
           },
           {
            "bin_start": -0.19999999999999996,
            "bin_end": -0.09999999999999998,
            "count": 0
           },
           {
            "bin_start": -0.09999999999999998,
            "bin_end": 0,
            "count": 0
           },
           {
            "bin_start": 0,
            "bin_end": 0.10000000000000009,
            "count": 5
           },
           {
            "bin_start": 0.10000000000000009,
            "bin_end": 0.20000000000000007,
            "count": 0
           },
           {
            "bin_start": 0.20000000000000007,
            "bin_end": 0.30000000000000004,
            "count": 0
           },
           {
            "bin_start": 0.30000000000000004,
            "bin_end": 0.4,
            "count": 0
           },
           {
            "bin_start": 0.4,
            "bin_end": 0.5,
            "count": 0
           }
          ]
         }
        },
        {
         "name": "MOCK_LOCATION_SOURCES_FOR_TESTING.1",
         "dtype": "int64",
         "stats": {
          "unique_count": 1,
          "nan_count": 0,
          "min": "0",
          "max": "0",
          "histogram": [
           {
            "bin_start": -0.5,
            "bin_end": -0.4,
            "count": 0
           },
           {
            "bin_start": -0.4,
            "bin_end": -0.3,
            "count": 0
           },
           {
            "bin_start": -0.3,
            "bin_end": -0.19999999999999996,
            "count": 0
           },
           {
            "bin_start": -0.19999999999999996,
            "bin_end": -0.09999999999999998,
            "count": 0
           },
           {
            "bin_start": -0.09999999999999998,
            "bin_end": 0,
            "count": 0
           },
           {
            "bin_start": 0,
            "bin_end": 0.10000000000000009,
            "count": 5
           },
           {
            "bin_start": 0.10000000000000009,
            "bin_end": 0.20000000000000007,
            "count": 0
           },
           {
            "bin_start": 0.20000000000000007,
            "bin_end": 0.30000000000000004,
            "count": 0
           },
           {
            "bin_start": 0.30000000000000004,
            "bin_end": 0.4,
            "count": 0
           },
           {
            "bin_start": 0.4,
            "bin_end": 0.5,
            "count": 0
           }
          ]
         }
        },
        {
         "name": "READ_EMAIL_ATTACHMENTS",
         "dtype": "int64",
         "stats": {
          "unique_count": 1,
          "nan_count": 0,
          "min": "0",
          "max": "0",
          "histogram": [
           {
            "bin_start": -0.5,
            "bin_end": -0.4,
            "count": 0
           },
           {
            "bin_start": -0.4,
            "bin_end": -0.3,
            "count": 0
           },
           {
            "bin_start": -0.3,
            "bin_end": -0.19999999999999996,
            "count": 0
           },
           {
            "bin_start": -0.19999999999999996,
            "bin_end": -0.09999999999999998,
            "count": 0
           },
           {
            "bin_start": -0.09999999999999998,
            "bin_end": 0,
            "count": 0
           },
           {
            "bin_start": 0,
            "bin_end": 0.10000000000000009,
            "count": 5
           },
           {
            "bin_start": 0.10000000000000009,
            "bin_end": 0.20000000000000007,
            "count": 0
           },
           {
            "bin_start": 0.20000000000000007,
            "bin_end": 0.30000000000000004,
            "count": 0
           },
           {
            "bin_start": 0.30000000000000004,
            "bin_end": 0.4,
            "count": 0
           },
           {
            "bin_start": 0.4,
            "bin_end": 0.5,
            "count": 0
           }
          ]
         }
        },
        {
         "name": "SEND_GMAIL",
         "dtype": "int64",
         "stats": {
          "unique_count": 1,
          "nan_count": 0,
          "min": "0",
          "max": "0",
          "histogram": [
           {
            "bin_start": -0.5,
            "bin_end": -0.4,
            "count": 0
           },
           {
            "bin_start": -0.4,
            "bin_end": -0.3,
            "count": 0
           },
           {
            "bin_start": -0.3,
            "bin_end": -0.19999999999999996,
            "count": 0
           },
           {
            "bin_start": -0.19999999999999996,
            "bin_end": -0.09999999999999998,
            "count": 0
           },
           {
            "bin_start": -0.09999999999999998,
            "bin_end": 0,
            "count": 0
           },
           {
            "bin_start": 0,
            "bin_end": 0.10000000000000009,
            "count": 5
           },
           {
            "bin_start": 0.10000000000000009,
            "bin_end": 0.20000000000000007,
            "count": 0
           },
           {
            "bin_start": 0.20000000000000007,
            "bin_end": 0.30000000000000004,
            "count": 0
           },
           {
            "bin_start": 0.30000000000000004,
            "bin_end": 0.4,
            "count": 0
           },
           {
            "bin_start": 0.4,
            "bin_end": 0.5,
            "count": 0
           }
          ]
         }
        },
        {
         "name": "EDIT_SMS_OR_MMS",
         "dtype": "int64",
         "stats": {
          "unique_count": 1,
          "nan_count": 0,
          "min": "0",
          "max": "0",
          "histogram": [
           {
            "bin_start": -0.5,
            "bin_end": -0.4,
            "count": 0
           },
           {
            "bin_start": -0.4,
            "bin_end": -0.3,
            "count": 0
           },
           {
            "bin_start": -0.3,
            "bin_end": -0.19999999999999996,
            "count": 0
           },
           {
            "bin_start": -0.19999999999999996,
            "bin_end": -0.09999999999999998,
            "count": 0
           },
           {
            "bin_start": -0.09999999999999998,
            "bin_end": 0,
            "count": 0
           },
           {
            "bin_start": 0,
            "bin_end": 0.10000000000000009,
            "count": 5
           },
           {
            "bin_start": 0.10000000000000009,
            "bin_end": 0.20000000000000007,
            "count": 0
           },
           {
            "bin_start": 0.20000000000000007,
            "bin_end": 0.30000000000000004,
            "count": 0
           },
           {
            "bin_start": 0.30000000000000004,
            "bin_end": 0.4,
            "count": 0
           },
           {
            "bin_start": 0.4,
            "bin_end": 0.5,
            "count": 0
           }
          ]
         }
        },
        {
         "name": "MODIFY_GMAIL",
         "dtype": "int64",
         "stats": {
          "unique_count": 1,
          "nan_count": 0,
          "min": "0",
          "max": "0",
          "histogram": [
           {
            "bin_start": -0.5,
            "bin_end": -0.4,
            "count": 0
           },
           {
            "bin_start": -0.4,
            "bin_end": -0.3,
            "count": 0
           },
           {
            "bin_start": -0.3,
            "bin_end": -0.19999999999999996,
            "count": 0
           },
           {
            "bin_start": -0.19999999999999996,
            "bin_end": -0.09999999999999998,
            "count": 0
           },
           {
            "bin_start": -0.09999999999999998,
            "bin_end": 0,
            "count": 0
           },
           {
            "bin_start": 0,
            "bin_end": 0.10000000000000009,
            "count": 5
           },
           {
            "bin_start": 0.10000000000000009,
            "bin_end": 0.20000000000000007,
            "count": 0
           },
           {
            "bin_start": 0.20000000000000007,
            "bin_end": 0.30000000000000004,
            "count": 0
           },
           {
            "bin_start": 0.30000000000000004,
            "bin_end": 0.4,
            "count": 0
           },
           {
            "bin_start": 0.4,
            "bin_end": 0.5,
            "count": 0
           }
          ]
         }
        },
        {
         "name": "READ_GMAIL",
         "dtype": "int64",
         "stats": {
          "unique_count": 1,
          "nan_count": 0,
          "min": "0",
          "max": "0",
          "histogram": [
           {
            "bin_start": -0.5,
            "bin_end": -0.4,
            "count": 0
           },
           {
            "bin_start": -0.4,
            "bin_end": -0.3,
            "count": 0
           },
           {
            "bin_start": -0.3,
            "bin_end": -0.19999999999999996,
            "count": 0
           },
           {
            "bin_start": -0.19999999999999996,
            "bin_end": -0.09999999999999998,
            "count": 0
           },
           {
            "bin_start": -0.09999999999999998,
            "bin_end": 0,
            "count": 0
           },
           {
            "bin_start": 0,
            "bin_end": 0.10000000000000009,
            "count": 5
           },
           {
            "bin_start": 0.10000000000000009,
            "bin_end": 0.20000000000000007,
            "count": 0
           },
           {
            "bin_start": 0.20000000000000007,
            "bin_end": 0.30000000000000004,
            "count": 0
           },
           {
            "bin_start": 0.30000000000000004,
            "bin_end": 0.4,
            "count": 0
           },
           {
            "bin_start": 0.4,
            "bin_end": 0.5,
            "count": 0
           }
          ]
         }
        },
        {
         "name": "READ_GMAIL_ATTACHMENT_PREVIEWS",
         "dtype": "int64",
         "stats": {
          "unique_count": 1,
          "nan_count": 0,
          "min": "0",
          "max": "0",
          "histogram": [
           {
            "bin_start": -0.5,
            "bin_end": -0.4,
            "count": 0
           },
           {
            "bin_start": -0.4,
            "bin_end": -0.3,
            "count": 0
           },
           {
            "bin_start": -0.3,
            "bin_end": -0.19999999999999996,
            "count": 0
           },
           {
            "bin_start": -0.19999999999999996,
            "bin_end": -0.09999999999999998,
            "count": 0
           },
           {
            "bin_start": -0.09999999999999998,
            "bin_end": 0,
            "count": 0
           },
           {
            "bin_start": 0,
            "bin_end": 0.10000000000000009,
            "count": 5
           },
           {
            "bin_start": 0.10000000000000009,
            "bin_end": 0.20000000000000007,
            "count": 0
           },
           {
            "bin_start": 0.20000000000000007,
            "bin_end": 0.30000000000000004,
            "count": 0
           },
           {
            "bin_start": 0.30000000000000004,
            "bin_end": 0.4,
            "count": 0
           },
           {
            "bin_start": 0.4,
            "bin_end": 0.5,
            "count": 0
           }
          ]
         }
        },
        {
         "name": "READ_SMS_OR_MMS",
         "dtype": "int64",
         "stats": {
          "unique_count": 1,
          "nan_count": 0,
          "min": "0",
          "max": "0",
          "histogram": [
           {
            "bin_start": -0.5,
            "bin_end": -0.4,
            "count": 0
           },
           {
            "bin_start": -0.4,
            "bin_end": -0.3,
            "count": 0
           },
           {
            "bin_start": -0.3,
            "bin_end": -0.19999999999999996,
            "count": 0
           },
           {
            "bin_start": -0.19999999999999996,
            "bin_end": -0.09999999999999998,
            "count": 0
           },
           {
            "bin_start": -0.09999999999999998,
            "bin_end": 0,
            "count": 0
           },
           {
            "bin_start": 0,
            "bin_end": 0.10000000000000009,
            "count": 5
           },
           {
            "bin_start": 0.10000000000000009,
            "bin_end": 0.20000000000000007,
            "count": 0
           },
           {
            "bin_start": 0.20000000000000007,
            "bin_end": 0.30000000000000004,
            "count": 0
           },
           {
            "bin_start": 0.30000000000000004,
            "bin_end": 0.4,
            "count": 0
           },
           {
            "bin_start": 0.4,
            "bin_end": 0.5,
            "count": 0
           }
          ]
         }
        },
        {
         "name": "READ_INSTANT_MESSAGES.1",
         "dtype": "int64",
         "stats": {
          "unique_count": 1,
          "nan_count": 0,
          "min": "0",
          "max": "0",
          "histogram": [
           {
            "bin_start": -0.5,
            "bin_end": -0.4,
            "count": 0
           },
           {
            "bin_start": -0.4,
            "bin_end": -0.3,
            "count": 0
           },
           {
            "bin_start": -0.3,
            "bin_end": -0.19999999999999996,
            "count": 0
           },
           {
            "bin_start": -0.19999999999999996,
            "bin_end": -0.09999999999999998,
            "count": 0
           },
           {
            "bin_start": -0.09999999999999998,
            "bin_end": 0,
            "count": 0
           },
           {
            "bin_start": 0,
            "bin_end": 0.10000000000000009,
            "count": 5
           },
           {
            "bin_start": 0.10000000000000009,
            "bin_end": 0.20000000000000007,
            "count": 0
           },
           {
            "bin_start": 0.20000000000000007,
            "bin_end": 0.30000000000000004,
            "count": 0
           },
           {
            "bin_start": 0.30000000000000004,
            "bin_end": 0.4,
            "count": 0
           },
           {
            "bin_start": 0.4,
            "bin_end": 0.5,
            "count": 0
           }
          ]
         }
        },
        {
         "name": "RECEIVE_MMS",
         "dtype": "int64",
         "stats": {
          "unique_count": 1,
          "nan_count": 0,
          "min": "0",
          "max": "0",
          "histogram": [
           {
            "bin_start": -0.5,
            "bin_end": -0.4,
            "count": 0
           },
           {
            "bin_start": -0.4,
            "bin_end": -0.3,
            "count": 0
           },
           {
            "bin_start": -0.3,
            "bin_end": -0.19999999999999996,
            "count": 0
           },
           {
            "bin_start": -0.19999999999999996,
            "bin_end": -0.09999999999999998,
            "count": 0
           },
           {
            "bin_start": -0.09999999999999998,
            "bin_end": 0,
            "count": 0
           },
           {
            "bin_start": 0,
            "bin_end": 0.10000000000000009,
            "count": 5
           },
           {
            "bin_start": 0.10000000000000009,
            "bin_end": 0.20000000000000007,
            "count": 0
           },
           {
            "bin_start": 0.20000000000000007,
            "bin_end": 0.30000000000000004,
            "count": 0
           },
           {
            "bin_start": 0.30000000000000004,
            "bin_end": 0.4,
            "count": 0
           },
           {
            "bin_start": 0.4,
            "bin_end": 0.5,
            "count": 0
           }
          ]
         }
        },
        {
         "name": "RECEIVE_SMS",
         "dtype": "int64",
         "stats": {
          "unique_count": 1,
          "nan_count": 0,
          "min": "0",
          "max": "0",
          "histogram": [
           {
            "bin_start": -0.5,
            "bin_end": -0.4,
            "count": 0
           },
           {
            "bin_start": -0.4,
            "bin_end": -0.3,
            "count": 0
           },
           {
            "bin_start": -0.3,
            "bin_end": -0.19999999999999996,
            "count": 0
           },
           {
            "bin_start": -0.19999999999999996,
            "bin_end": -0.09999999999999998,
            "count": 0
           },
           {
            "bin_start": -0.09999999999999998,
            "bin_end": 0,
            "count": 0
           },
           {
            "bin_start": 0,
            "bin_end": 0.10000000000000009,
            "count": 5
           },
           {
            "bin_start": 0.10000000000000009,
            "bin_end": 0.20000000000000007,
            "count": 0
           },
           {
            "bin_start": 0.20000000000000007,
            "bin_end": 0.30000000000000004,
            "count": 0
           },
           {
            "bin_start": 0.30000000000000004,
            "bin_end": 0.4,
            "count": 0
           },
           {
            "bin_start": 0.4,
            "bin_end": 0.5,
            "count": 0
           }
          ]
         }
        },
        {
         "name": "RECEIVE_WAP",
         "dtype": "int64",
         "stats": {
          "unique_count": 1,
          "nan_count": 0,
          "min": "0",
          "max": "0",
          "histogram": [
           {
            "bin_start": -0.5,
            "bin_end": -0.4,
            "count": 0
           },
           {
            "bin_start": -0.4,
            "bin_end": -0.3,
            "count": 0
           },
           {
            "bin_start": -0.3,
            "bin_end": -0.19999999999999996,
            "count": 0
           },
           {
            "bin_start": -0.19999999999999996,
            "bin_end": -0.09999999999999998,
            "count": 0
           },
           {
            "bin_start": -0.09999999999999998,
            "bin_end": 0,
            "count": 0
           },
           {
            "bin_start": 0,
            "bin_end": 0.10000000000000009,
            "count": 5
           },
           {
            "bin_start": 0.10000000000000009,
            "bin_end": 0.20000000000000007,
            "count": 0
           },
           {
            "bin_start": 0.20000000000000007,
            "bin_end": 0.30000000000000004,
            "count": 0
           },
           {
            "bin_start": 0.30000000000000004,
            "bin_end": 0.4,
            "count": 0
           },
           {
            "bin_start": 0.4,
            "bin_end": 0.5,
            "count": 0
           }
          ]
         }
        },
        {
         "name": "SEND_SMS-RECEIVED_BROADCAST",
         "dtype": "int64",
         "stats": {
          "unique_count": 1,
          "nan_count": 0,
          "min": "0",
          "max": "0",
          "histogram": [
           {
            "bin_start": -0.5,
            "bin_end": -0.4,
            "count": 0
           },
           {
            "bin_start": -0.4,
            "bin_end": -0.3,
            "count": 0
           },
           {
            "bin_start": -0.3,
            "bin_end": -0.19999999999999996,
            "count": 0
           },
           {
            "bin_start": -0.19999999999999996,
            "bin_end": -0.09999999999999998,
            "count": 0
           },
           {
            "bin_start": -0.09999999999999998,
            "bin_end": 0,
            "count": 0
           },
           {
            "bin_start": 0,
            "bin_end": 0.10000000000000009,
            "count": 5
           },
           {
            "bin_start": 0.10000000000000009,
            "bin_end": 0.20000000000000007,
            "count": 0
           },
           {
            "bin_start": 0.20000000000000007,
            "bin_end": 0.30000000000000004,
            "count": 0
           },
           {
            "bin_start": 0.30000000000000004,
            "bin_end": 0.4,
            "count": 0
           },
           {
            "bin_start": 0.4,
            "bin_end": 0.5,
            "count": 0
           }
          ]
         }
        },
        {
         "name": "SEND_WAP-PUSH-RECEIVED_BROADCAST",
         "dtype": "int64",
         "stats": {
          "unique_count": 1,
          "nan_count": 0,
          "min": "0",
          "max": "0",
          "histogram": [
           {
            "bin_start": -0.5,
            "bin_end": -0.4,
            "count": 0
           },
           {
            "bin_start": -0.4,
            "bin_end": -0.3,
            "count": 0
           },
           {
            "bin_start": -0.3,
            "bin_end": -0.19999999999999996,
            "count": 0
           },
           {
            "bin_start": -0.19999999999999996,
            "bin_end": -0.09999999999999998,
            "count": 0
           },
           {
            "bin_start": -0.09999999999999998,
            "bin_end": 0,
            "count": 0
           },
           {
            "bin_start": 0,
            "bin_end": 0.10000000000000009,
            "count": 5
           },
           {
            "bin_start": 0.10000000000000009,
            "bin_end": 0.20000000000000007,
            "count": 0
           },
           {
            "bin_start": 0.20000000000000007,
            "bin_end": 0.30000000000000004,
            "count": 0
           },
           {
            "bin_start": 0.30000000000000004,
            "bin_end": 0.4,
            "count": 0
           },
           {
            "bin_start": 0.4,
            "bin_end": 0.5,
            "count": 0
           }
          ]
         }
        },
        {
         "name": "WRITE_INSTANT_MESSAGES.1",
         "dtype": "int64",
         "stats": {
          "unique_count": 1,
          "nan_count": 0,
          "min": "0",
          "max": "0",
          "histogram": [
           {
            "bin_start": -0.5,
            "bin_end": -0.4,
            "count": 0
           },
           {
            "bin_start": -0.4,
            "bin_end": -0.3,
            "count": 0
           },
           {
            "bin_start": -0.3,
            "bin_end": -0.19999999999999996,
            "count": 0
           },
           {
            "bin_start": -0.19999999999999996,
            "bin_end": -0.09999999999999998,
            "count": 0
           },
           {
            "bin_start": -0.09999999999999998,
            "bin_end": 0,
            "count": 0
           },
           {
            "bin_start": 0,
            "bin_end": 0.10000000000000009,
            "count": 5
           },
           {
            "bin_start": 0.10000000000000009,
            "bin_end": 0.20000000000000007,
            "count": 0
           },
           {
            "bin_start": 0.20000000000000007,
            "bin_end": 0.30000000000000004,
            "count": 0
           },
           {
            "bin_start": 0.30000000000000004,
            "bin_end": 0.4,
            "count": 0
           },
           {
            "bin_start": 0.4,
            "bin_end": 0.5,
            "count": 0
           }
          ]
         }
        },
        {
         "name": "ADD_OR_MODIFY_CALENDAR_EVENTS_AND_SEND_EMAIL_TO_GUESTS",
         "dtype": "int64",
         "stats": {
          "unique_count": 1,
          "nan_count": 0,
          "min": "0",
          "max": "0",
          "histogram": [
           {
            "bin_start": -0.5,
            "bin_end": -0.4,
            "count": 0
           },
           {
            "bin_start": -0.4,
            "bin_end": -0.3,
            "count": 0
           },
           {
            "bin_start": -0.3,
            "bin_end": -0.19999999999999996,
            "count": 0
           },
           {
            "bin_start": -0.19999999999999996,
            "bin_end": -0.09999999999999998,
            "count": 0
           },
           {
            "bin_start": -0.09999999999999998,
            "bin_end": 0,
            "count": 0
           },
           {
            "bin_start": 0,
            "bin_end": 0.10000000000000009,
            "count": 5
           },
           {
            "bin_start": 0.10000000000000009,
            "bin_end": 0.20000000000000007,
            "count": 0
           },
           {
            "bin_start": 0.20000000000000007,
            "bin_end": 0.30000000000000004,
            "count": 0
           },
           {
            "bin_start": 0.30000000000000004,
            "bin_end": 0.4,
            "count": 0
           },
           {
            "bin_start": 0.4,
            "bin_end": 0.5,
            "count": 0
           }
          ]
         }
        },
        {
         "name": "CHOOSE_WIDGETS",
         "dtype": "int64",
         "stats": {
          "unique_count": 1,
          "nan_count": 0,
          "min": "0",
          "max": "0",
          "histogram": [
           {
            "bin_start": -0.5,
            "bin_end": -0.4,
            "count": 0
           },
           {
            "bin_start": -0.4,
            "bin_end": -0.3,
            "count": 0
           },
           {
            "bin_start": -0.3,
            "bin_end": -0.19999999999999996,
            "count": 0
           },
           {
            "bin_start": -0.19999999999999996,
            "bin_end": -0.09999999999999998,
            "count": 0
           },
           {
            "bin_start": -0.09999999999999998,
            "bin_end": 0,
            "count": 0
           },
           {
            "bin_start": 0,
            "bin_end": 0.10000000000000009,
            "count": 5
           },
           {
            "bin_start": 0.10000000000000009,
            "bin_end": 0.20000000000000007,
            "count": 0
           },
           {
            "bin_start": 0.20000000000000007,
            "bin_end": 0.30000000000000004,
            "count": 0
           },
           {
            "bin_start": 0.30000000000000004,
            "bin_end": 0.4,
            "count": 0
           },
           {
            "bin_start": 0.4,
            "bin_end": 0.5,
            "count": 0
           }
          ]
         }
        },
        {
         "name": "READ_BROWSERS_HISTORY_AND_BOOKMARKS",
         "dtype": "int64",
         "stats": {
          "unique_count": 1,
          "nan_count": 0,
          "min": "0",
          "max": "0",
          "histogram": [
           {
            "bin_start": -0.5,
            "bin_end": -0.4,
            "count": 0
           },
           {
            "bin_start": -0.4,
            "bin_end": -0.3,
            "count": 0
           },
           {
            "bin_start": -0.3,
            "bin_end": -0.19999999999999996,
            "count": 0
           },
           {
            "bin_start": -0.19999999999999996,
            "bin_end": -0.09999999999999998,
            "count": 0
           },
           {
            "bin_start": -0.09999999999999998,
            "bin_end": 0,
            "count": 0
           },
           {
            "bin_start": 0,
            "bin_end": 0.10000000000000009,
            "count": 5
           },
           {
            "bin_start": 0.10000000000000009,
            "bin_end": 0.20000000000000007,
            "count": 0
           },
           {
            "bin_start": 0.20000000000000007,
            "bin_end": 0.30000000000000004,
            "count": 0
           },
           {
            "bin_start": 0.30000000000000004,
            "bin_end": 0.4,
            "count": 0
           },
           {
            "bin_start": 0.4,
            "bin_end": 0.5,
            "count": 0
           }
          ]
         }
        },
        {
         "name": "READ_CALENDAR_EVENTS",
         "dtype": "int64",
         "stats": {
          "unique_count": 1,
          "nan_count": 0,
          "min": "0",
          "max": "0",
          "histogram": [
           {
            "bin_start": -0.5,
            "bin_end": -0.4,
            "count": 0
           },
           {
            "bin_start": -0.4,
            "bin_end": -0.3,
            "count": 0
           },
           {
            "bin_start": -0.3,
            "bin_end": -0.19999999999999996,
            "count": 0
           },
           {
            "bin_start": -0.19999999999999996,
            "bin_end": -0.09999999999999998,
            "count": 0
           },
           {
            "bin_start": -0.09999999999999998,
            "bin_end": 0,
            "count": 0
           },
           {
            "bin_start": 0,
            "bin_end": 0.10000000000000009,
            "count": 5
           },
           {
            "bin_start": 0.10000000000000009,
            "bin_end": 0.20000000000000007,
            "count": 0
           },
           {
            "bin_start": 0.20000000000000007,
            "bin_end": 0.30000000000000004,
            "count": 0
           },
           {
            "bin_start": 0.30000000000000004,
            "bin_end": 0.4,
            "count": 0
           },
           {
            "bin_start": 0.4,
            "bin_end": 0.5,
            "count": 0
           }
          ]
         }
        },
        {
         "name": "READ_CONTACT_DATA",
         "dtype": "int64",
         "stats": {
          "unique_count": 2,
          "nan_count": 0,
          "min": "0",
          "max": "1",
          "histogram": [
           {
            "bin_start": 0,
            "bin_end": 0.1,
            "count": 4
           },
           {
            "bin_start": 0.1,
            "bin_end": 0.2,
            "count": 0
           },
           {
            "bin_start": 0.2,
            "bin_end": 0.30000000000000004,
            "count": 0
           },
           {
            "bin_start": 0.30000000000000004,
            "bin_end": 0.4,
            "count": 0
           },
           {
            "bin_start": 0.4,
            "bin_end": 0.5,
            "count": 0
           },
           {
            "bin_start": 0.5,
            "bin_end": 0.6000000000000001,
            "count": 0
           },
           {
            "bin_start": 0.6000000000000001,
            "bin_end": 0.7000000000000001,
            "count": 0
           },
           {
            "bin_start": 0.7000000000000001,
            "bin_end": 0.8,
            "count": 0
           },
           {
            "bin_start": 0.8,
            "bin_end": 0.9,
            "count": 0
           },
           {
            "bin_start": 0.9,
            "bin_end": 1,
            "count": 1
           }
          ]
         }
        },
        {
         "name": "READ_SENSITIVE_LOG_DATA",
         "dtype": "int64",
         "stats": {
          "unique_count": 2,
          "nan_count": 0,
          "min": "0",
          "max": "1",
          "histogram": [
           {
            "bin_start": 0,
            "bin_end": 0.1,
            "count": 4
           },
           {
            "bin_start": 0.1,
            "bin_end": 0.2,
            "count": 0
           },
           {
            "bin_start": 0.2,
            "bin_end": 0.30000000000000004,
            "count": 0
           },
           {
            "bin_start": 0.30000000000000004,
            "bin_end": 0.4,
            "count": 0
           },
           {
            "bin_start": 0.4,
            "bin_end": 0.5,
            "count": 0
           },
           {
            "bin_start": 0.5,
            "bin_end": 0.6000000000000001,
            "count": 0
           },
           {
            "bin_start": 0.6000000000000001,
            "bin_end": 0.7000000000000001,
            "count": 0
           },
           {
            "bin_start": 0.7000000000000001,
            "bin_end": 0.8,
            "count": 0
           },
           {
            "bin_start": 0.8,
            "bin_end": 0.9,
            "count": 0
           },
           {
            "bin_start": 0.9,
            "bin_end": 1,
            "count": 1
           }
          ]
         }
        },
        {
         "name": "READ_USER_DEFINED_DICTIONARY",
         "dtype": "int64",
         "stats": {
          "unique_count": 1,
          "nan_count": 0,
          "min": "0",
          "max": "0",
          "histogram": [
           {
            "bin_start": -0.5,
            "bin_end": -0.4,
            "count": 0
           },
           {
            "bin_start": -0.4,
            "bin_end": -0.3,
            "count": 0
           },
           {
            "bin_start": -0.3,
            "bin_end": -0.19999999999999996,
            "count": 0
           },
           {
            "bin_start": -0.19999999999999996,
            "bin_end": -0.09999999999999998,
            "count": 0
           },
           {
            "bin_start": -0.09999999999999998,
            "bin_end": 0,
            "count": 0
           },
           {
            "bin_start": 0,
            "bin_end": 0.10000000000000009,
            "count": 5
           },
           {
            "bin_start": 0.10000000000000009,
            "bin_end": 0.20000000000000007,
            "count": 0
           },
           {
            "bin_start": 0.20000000000000007,
            "bin_end": 0.30000000000000004,
            "count": 0
           },
           {
            "bin_start": 0.30000000000000004,
            "bin_end": 0.4,
            "count": 0
           },
           {
            "bin_start": 0.4,
            "bin_end": 0.5,
            "count": 0
           }
          ]
         }
        },
        {
         "name": "RETRIEVE_SYSTEM_INTERNAL_STATE",
         "dtype": "int64",
         "stats": {
          "unique_count": 1,
          "nan_count": 0,
          "min": "0",
          "max": "0",
          "histogram": [
           {
            "bin_start": -0.5,
            "bin_end": -0.4,
            "count": 0
           },
           {
            "bin_start": -0.4,
            "bin_end": -0.3,
            "count": 0
           },
           {
            "bin_start": -0.3,
            "bin_end": -0.19999999999999996,
            "count": 0
           },
           {
            "bin_start": -0.19999999999999996,
            "bin_end": -0.09999999999999998,
            "count": 0
           },
           {
            "bin_start": -0.09999999999999998,
            "bin_end": 0,
            "count": 0
           },
           {
            "bin_start": 0,
            "bin_end": 0.10000000000000009,
            "count": 5
           },
           {
            "bin_start": 0.10000000000000009,
            "bin_end": 0.20000000000000007,
            "count": 0
           },
           {
            "bin_start": 0.20000000000000007,
            "bin_end": 0.30000000000000004,
            "count": 0
           },
           {
            "bin_start": 0.30000000000000004,
            "bin_end": 0.4,
            "count": 0
           },
           {
            "bin_start": 0.4,
            "bin_end": 0.5,
            "count": 0
           }
          ]
         }
        },
        {
         "name": "SET_ALARM_IN_ALARM_CLOCK",
         "dtype": "int64",
         "stats": {
          "unique_count": 1,
          "nan_count": 0,
          "min": "0",
          "max": "0",
          "histogram": [
           {
            "bin_start": -0.5,
            "bin_end": -0.4,
            "count": 0
           },
           {
            "bin_start": -0.4,
            "bin_end": -0.3,
            "count": 0
           },
           {
            "bin_start": -0.3,
            "bin_end": -0.19999999999999996,
            "count": 0
           },
           {
            "bin_start": -0.19999999999999996,
            "bin_end": -0.09999999999999998,
            "count": 0
           },
           {
            "bin_start": -0.09999999999999998,
            "bin_end": 0,
            "count": 0
           },
           {
            "bin_start": 0,
            "bin_end": 0.10000000000000009,
            "count": 5
           },
           {
            "bin_start": 0.10000000000000009,
            "bin_end": 0.20000000000000007,
            "count": 0
           },
           {
            "bin_start": 0.20000000000000007,
            "bin_end": 0.30000000000000004,
            "count": 0
           },
           {
            "bin_start": 0.30000000000000004,
            "bin_end": 0.4,
            "count": 0
           },
           {
            "bin_start": 0.4,
            "bin_end": 0.5,
            "count": 0
           }
          ]
         }
        },
        {
         "name": "WRITE_BROWSERS_HISTORY_AND_BOOKMARKS",
         "dtype": "int64",
         "stats": {
          "unique_count": 1,
          "nan_count": 0,
          "min": "0",
          "max": "0",
          "histogram": [
           {
            "bin_start": -0.5,
            "bin_end": -0.4,
            "count": 0
           },
           {
            "bin_start": -0.4,
            "bin_end": -0.3,
            "count": 0
           },
           {
            "bin_start": -0.3,
            "bin_end": -0.19999999999999996,
            "count": 0
           },
           {
            "bin_start": -0.19999999999999996,
            "bin_end": -0.09999999999999998,
            "count": 0
           },
           {
            "bin_start": -0.09999999999999998,
            "bin_end": 0,
            "count": 0
           },
           {
            "bin_start": 0,
            "bin_end": 0.10000000000000009,
            "count": 5
           },
           {
            "bin_start": 0.10000000000000009,
            "bin_end": 0.20000000000000007,
            "count": 0
           },
           {
            "bin_start": 0.20000000000000007,
            "bin_end": 0.30000000000000004,
            "count": 0
           },
           {
            "bin_start": 0.30000000000000004,
            "bin_end": 0.4,
            "count": 0
           },
           {
            "bin_start": 0.4,
            "bin_end": 0.5,
            "count": 0
           }
          ]
         }
        },
        {
         "name": "WRITE_CONTACT_DATA.1",
         "dtype": "int64",
         "stats": {
          "unique_count": 1,
          "nan_count": 0,
          "min": "0",
          "max": "0",
          "histogram": [
           {
            "bin_start": -0.5,
            "bin_end": -0.4,
            "count": 0
           },
           {
            "bin_start": -0.4,
            "bin_end": -0.3,
            "count": 0
           },
           {
            "bin_start": -0.3,
            "bin_end": -0.19999999999999996,
            "count": 0
           },
           {
            "bin_start": -0.19999999999999996,
            "bin_end": -0.09999999999999998,
            "count": 0
           },
           {
            "bin_start": -0.09999999999999998,
            "bin_end": 0,
            "count": 0
           },
           {
            "bin_start": 0,
            "bin_end": 0.10000000000000009,
            "count": 5
           },
           {
            "bin_start": 0.10000000000000009,
            "bin_end": 0.20000000000000007,
            "count": 0
           },
           {
            "bin_start": 0.20000000000000007,
            "bin_end": 0.30000000000000004,
            "count": 0
           },
           {
            "bin_start": 0.30000000000000004,
            "bin_end": 0.4,
            "count": 0
           },
           {
            "bin_start": 0.4,
            "bin_end": 0.5,
            "count": 0
           }
          ]
         }
        },
        {
         "name": "WRITE_TO_USER_DEFINED_DICTIONARY",
         "dtype": "int64",
         "stats": {
          "unique_count": 1,
          "nan_count": 0,
          "min": "0",
          "max": "0",
          "histogram": [
           {
            "bin_start": -0.5,
            "bin_end": -0.4,
            "count": 0
           },
           {
            "bin_start": -0.4,
            "bin_end": -0.3,
            "count": 0
           },
           {
            "bin_start": -0.3,
            "bin_end": -0.19999999999999996,
            "count": 0
           },
           {
            "bin_start": -0.19999999999999996,
            "bin_end": -0.09999999999999998,
            "count": 0
           },
           {
            "bin_start": -0.09999999999999998,
            "bin_end": 0,
            "count": 0
           },
           {
            "bin_start": 0,
            "bin_end": 0.10000000000000009,
            "count": 5
           },
           {
            "bin_start": 0.10000000000000009,
            "bin_end": 0.20000000000000007,
            "count": 0
           },
           {
            "bin_start": 0.20000000000000007,
            "bin_end": 0.30000000000000004,
            "count": 0
           },
           {
            "bin_start": 0.30000000000000004,
            "bin_end": 0.4,
            "count": 0
           },
           {
            "bin_start": 0.4,
            "bin_end": 0.5,
            "count": 0
           }
          ]
         }
        },
        {
         "name": "class",
         "dtype": "int64",
         "stats": {
          "unique_count": 2,
          "nan_count": 0,
          "min": "0",
          "max": "1",
          "histogram": [
           {
            "bin_start": 0,
            "bin_end": 0.1,
            "count": 2
           },
           {
            "bin_start": 0.1,
            "bin_end": 0.2,
            "count": 0
           },
           {
            "bin_start": 0.2,
            "bin_end": 0.30000000000000004,
            "count": 0
           },
           {
            "bin_start": 0.30000000000000004,
            "bin_end": 0.4,
            "count": 0
           },
           {
            "bin_start": 0.4,
            "bin_end": 0.5,
            "count": 0
           },
           {
            "bin_start": 0.5,
            "bin_end": 0.6000000000000001,
            "count": 0
           },
           {
            "bin_start": 0.6000000000000001,
            "bin_end": 0.7000000000000001,
            "count": 0
           },
           {
            "bin_start": 0.7000000000000001,
            "bin_end": 0.8,
            "count": 0
           },
           {
            "bin_start": 0.8,
            "bin_end": 0.9,
            "count": 0
           },
           {
            "bin_start": 0.9,
            "bin_end": 1,
            "count": 3
           }
          ]
         }
        },
        {
         "name": "_deepnote_index_column",
         "dtype": "int64"
        }
       ],
       "rows_top": [
        {
         "ACCESS_DRM_CONTENT": 0,
         "ACCESS_EMAIL_PROVIDER_DATA": 0,
         "ACCESS_ALL_SYSTEM_DOWNLOADS": 0,
         "ACCESS_DOWNLOAD_MANAGER": 0,
         "ADVANCED_DOWNLOAD_MANAGER_FUNCTIONS": 0,
         "AUDIO_FILE_ACCESS": 0,
         "INSTALL_DRM_CONTENT": 0,
         "MODIFY_GOOGLE_SERVICE_CONFIGURATION": 0,
         "MODIFY_GOOGLE_SETTINGS": 0,
         "MOVE_APPLICATION_RESOURCES": 0,
         "READ_GOOGLE_SETTINGS": 0,
         "SEND_DOWNLOAD_NOTIFICATIONS": 0,
         "VOICE_SEARCH_SHORTCUTS": 0,
         "ACCESS_SURFACEFLINGER": 0,
         "ACCESS_CHECKIN_PROPERTIES": 0,
         "ACCESS_THE_CACHE_FILESYSTEM": 0,
         "ACCESS_TO_PASSWORDS_FOR_GOOGLE_ACCOUNTS": 0,
         "ACT_AS_AN_ACCOUNT_AUTHENTICATOR": 0,
         "BIND_TO_A_WALLPAPER": 0,
         "BIND_TO_AN_INPUT_METHOD": 0,
         "CHANGE_SCREEN_ORIENTATION": 0,
         "COARSE": 0,
         "CONTROL_LOCATION_UPDATE_NOTIFICATIONS": 0,
         "CONTROL_SYSTEM_BACKUP_AND_RESTORE": 0,
         "DELETE_APPLICATIONS": 0,
         "DELETE_OTHER_APPLICATIONS_CACHES": 0,
         "DELETE_OTHER_APPLICATIONS_DATA": 0,
         "DIRECTLY_CALL_ANY_PHONE_NUMBERS": 0,
         "DIRECTLY_INSTALL_APPLICATIONS": 0,
         "DISABLE_OR_MODIFY_STATUS_BAR": 0,
         "DISCOVER_KNOWN_ACCOUNTS": 0,
         "DISPLAY_UNAUTHORIZED_WINDOWS": 0,
         "ENABLE_OR_DISABLE_APPLICATION_COMPONENTS": 0,
         "FORCE_APPLICATION_TO_CLOSE": 0,
         "FORCE_DEVICE_REBOOT": 0,
         "FULL_INTERNET_ACCESS": 0,
         "INTERACT_WITH_A_DEVICE_ADMIN": 0,
         "MANAGE_APPLICATION_TOKENS": 0,
         "MOCK_LOCATION_SOURCES_FOR_TESTING": 0,
         "MODIFY_BATTERY_STATISTICS": 0,
         "MODIFY_SECURE_SYSTEM_SETTINGS": 0,
         "MODIFY_THE_GOOGLE_SERVICES_MAP": 0,
         "MODIFY/DELETE_USB_STORAGE_CONTENTS_MODIFY/DELETE_SD_CARD_CONTENTS": 0,
         "MONITOR_AND_CONTROL_ALL_APPLICATION_LAUNCHING": 0,
         "PARTIAL_SHUTDOWN": 0,
         "PERMANENTLY_DISABLE_DEVICE": 0,
         "PERMISSION_TO_INSTALL_A_LOCATION_PROVIDER": 0,
         "POWER_DEVICE_ON_OR_OFF": 0,
         "PRESS_KEYS_AND_CONTROL_BUTTONS": 0,
         "PREVENT_APP_SWITCHES": 0,
         "READ_FRAME_BUFFER": 0,
         "READ_INSTANT_MESSAGES": 0,
         "READ_PHONE_STATE_AND_IDENTITY": 0,
         "RECORD_WHAT_YOU_TYPE_AND_ACTIONS_YOU_TAKE": 0,
         "RESET_SYSTEM_TO_FACTORY_DEFAULTS": 0,
         "RUN_IN_FACTORY_TEST_MODE": 0,
         "SET_TIME": 0,
         "SET_WALLPAPER_SIZE_HINTS": 0,
         "START_IM_SERVICE": 0,
         "UPDATE_COMPONENT_USAGE_STATISTICS": 0,
         "WRITE_CONTACT_DATA": 0,
         "WRITE_INSTANT_MESSAGES": 0,
         "ENABLE_APPLICATION_DEBUGGING": 0,
         "LIMIT_NUMBER_OF_RUNNING_PROCESSES": 0,
         "MAKE_ALL_BACKGROUND_APPLICATIONS_CLOSE": 0,
         "SEND_LINUX_SIGNALS_TO_APPLICATIONS": 0,
         "CHANGE_YOUR_AUDIO_SETTINGS": 0,
         "CONTROL_FLASHLIGHT": 0,
         "CONTROL_VIBRATOR": 0,
         "RECORD_AUDIO": 0,
         "TAKE_PICTURES_AND_VIDEOS": 0,
         "TEST_HARDWARE": 0,
         "BROADCAST_DATA_MESSAGES_TO_APPLICATIONS": 0,
         "CONTROL_NEAR_FIELD_COMMUNICATION": 0,
         "CREATE_BLUETOOTH_CONNECTIONS": 0,
         "DOWNLOAD_FILES_WITHOUT_NOTIFICATION": 0,
         "FULL_INTERNET_ACCESS.1": 1,
         "MAKE/RECEIVE_INTERNET_CALLS": 0,
         "RECEIVE_DATA_FROM_INTERNET": 0,
         "VIEW_WI-FI_STATE": 0,
         "VIEW_NETWORK_STATE": 0,
         "INTERCEPT_OUTGOING_CALLS": 0,
         "MODIFY_PHONE_STATE": 0,
         "READ_PHONE_STATE_AND_IDENTITY.1": 0,
         "DIRECTLY_CALL_PHONE_NUMBERS": 0,
         "SEND_SMS_MESSAGES": 0,
         "MODIFY/DELETE_USB_STORAGE_CONTENTS_MODIFY/DELETE_SD_CARD_CONTENTS.1": 1,
         "ALLOW_WI-FI_MULTICAST_RECEPTION": 0,
         "AUTOMATICALLY_START_AT_BOOT": 1,
         "BLUETOOTH_ADMINISTRATION": 0,
         "CHANGE_WI-FI_STATE": 0,
         "CHANGE_BACKGROUND_DATA_USAGE_SETTING": 0,
         "CHANGE_NETWORK_CONNECTIVITY": 0,
         "CHANGE_YOUR_UI_SETTINGS": 0,
         "DELETE_ALL_APPLICATION_CACHE_DATA": 0,
         "DISABLE_KEYLOCK": 0,
         "DISPLAY_SYSTEM-LEVEL_ALERTS": 0,
         "EXPAND/COLLAPSE_STATUS_BAR": 0,
         "FORCE_STOP_OTHER_APPLICATIONS": 0,
         "FORMAT_EXTERNAL_STORAGE": 0,
         "KILL_BACKGROUND_PROCESSES": 0,
         "MAKE_APPLICATION_ALWAYS_RUN": 0,
         "MEASURE_APPLICATION_STORAGE_SPACE": 0,
         "MODIFY_GLOBAL_ANIMATION_SPEED": 0,
         "MODIFY_GLOBAL_SYSTEM_SETTINGS": 0,
         "MOUNT_AND_UNMOUNT_FILESYSTEMS": 0,
         "PREVENT_DEVICE_FROM_SLEEPING": 1,
         "READ_SUBSCRIBED_FEEDS": 0,
         "READ_SYNC_SETTINGS": 0,
         "READ_SYNC_STATISTICS": 0,
         "READ/WRITE_TO_RESOURCES_OWNED_BY_DIAG": 0,
         "REORDER_RUNNING_APPLICATIONS": 0,
         "RETRIEVE_RUNNING_APPLICATIONS": 0,
         "SEND_PACKAGE_REMOVED_BROADCAST": 0,
         "SEND_STICKY_BROADCAST": 0,
         "SET_PREFERRED_APPLICATIONS": 0,
         "SET_TIME_ZONE": 0,
         "SET_WALLPAPER": 0,
         "SET_WALLPAPER_SIZE_HINTS.1": 0,
         "WRITE_ACCESS_POINT_NAME_SETTINGS": 0,
         "WRITE_SUBSCRIBED_FEEDS": 0,
         "WRITE_SYNC_SETTINGS": 0,
         "BLOGGER": 0,
         "GOOGLE_APP_ENGINE": 0,
         "GOOGLE_DOCS": 0,
         "GOOGLE_FINANCE": 0,
         "GOOGLE_MAPS": 0,
         "GOOGLE_SPREADSHEETS": 0,
         "GOOGLE_VOICE": 0,
         "GOOGLE_MAIL": 0,
         "PICASA_WEB_ALBUMS": 0,
         "YOUTUBE": 0,
         "YOUTUBE_USERNAMES": 0,
         "ACCESS_ALL_GOOGLE_SERVICES": 0,
         "ACCESS_OTHER_GOOGLE_SERVICES": 0,
         "ACT_AS_AN_ACCOUNT_AUTHENTICATOR.1": 0,
         "ACT_AS_THE_ACCOUNTMANAGERSERVICE": 0,
         "CONTACTS_DATA_IN_GOOGLE_ACCOUNTS": 0,
         "DISCOVER_KNOWN_ACCOUNTS.1": 0,
         "MANAGE_THE_ACCOUNTS_LIST": 0,
         "READ_GOOGLE_SERVICE_CONFIGURATION": 0,
         "USE_THE_AUTHENTICATION_CREDENTIALS_OF_AN_ACCOUNT": 0,
         "VIEW_CONFIGURED_ACCOUNTS": 0,
         "ACCESS_EXTRA_LOCATION_PROVIDER_COMMANDS": 0,
         "COARSE.1": 0,
         "FINE": 0,
         "MOCK_LOCATION_SOURCES_FOR_TESTING.1": 0,
         "READ_EMAIL_ATTACHMENTS": 0,
         "SEND_GMAIL": 0,
         "EDIT_SMS_OR_MMS": 0,
         "MODIFY_GMAIL": 0,
         "READ_GMAIL": 0,
         "READ_GMAIL_ATTACHMENT_PREVIEWS": 0,
         "READ_SMS_OR_MMS": 0,
         "READ_INSTANT_MESSAGES.1": 0,
         "RECEIVE_MMS": 0,
         "RECEIVE_SMS": 0,
         "RECEIVE_WAP": 0,
         "SEND_SMS-RECEIVED_BROADCAST": 0,
         "SEND_WAP-PUSH-RECEIVED_BROADCAST": 0,
         "WRITE_INSTANT_MESSAGES.1": 0,
         "ADD_OR_MODIFY_CALENDAR_EVENTS_AND_SEND_EMAIL_TO_GUESTS": 0,
         "CHOOSE_WIDGETS": 0,
         "READ_BROWSERS_HISTORY_AND_BOOKMARKS": 0,
         "READ_CALENDAR_EVENTS": 0,
         "READ_CONTACT_DATA": 0,
         "READ_SENSITIVE_LOG_DATA": 1,
         "READ_USER_DEFINED_DICTIONARY": 0,
         "RETRIEVE_SYSTEM_INTERNAL_STATE": 0,
         "SET_ALARM_IN_ALARM_CLOCK": 0,
         "WRITE_BROWSERS_HISTORY_AND_BOOKMARKS": 0,
         "WRITE_CONTACT_DATA.1": 0,
         "WRITE_TO_USER_DEFINED_DICTIONARY": 0,
         "class": 0,
         "_deepnote_index_column": 0
        },
        {
         "ACCESS_DRM_CONTENT": 0,
         "ACCESS_EMAIL_PROVIDER_DATA": 0,
         "ACCESS_ALL_SYSTEM_DOWNLOADS": 0,
         "ACCESS_DOWNLOAD_MANAGER": 0,
         "ADVANCED_DOWNLOAD_MANAGER_FUNCTIONS": 0,
         "AUDIO_FILE_ACCESS": 0,
         "INSTALL_DRM_CONTENT": 0,
         "MODIFY_GOOGLE_SERVICE_CONFIGURATION": 0,
         "MODIFY_GOOGLE_SETTINGS": 0,
         "MOVE_APPLICATION_RESOURCES": 0,
         "READ_GOOGLE_SETTINGS": 0,
         "SEND_DOWNLOAD_NOTIFICATIONS": 0,
         "VOICE_SEARCH_SHORTCUTS": 0,
         "ACCESS_SURFACEFLINGER": 0,
         "ACCESS_CHECKIN_PROPERTIES": 0,
         "ACCESS_THE_CACHE_FILESYSTEM": 0,
         "ACCESS_TO_PASSWORDS_FOR_GOOGLE_ACCOUNTS": 0,
         "ACT_AS_AN_ACCOUNT_AUTHENTICATOR": 0,
         "BIND_TO_A_WALLPAPER": 0,
         "BIND_TO_AN_INPUT_METHOD": 0,
         "CHANGE_SCREEN_ORIENTATION": 0,
         "COARSE": 0,
         "CONTROL_LOCATION_UPDATE_NOTIFICATIONS": 0,
         "CONTROL_SYSTEM_BACKUP_AND_RESTORE": 0,
         "DELETE_APPLICATIONS": 0,
         "DELETE_OTHER_APPLICATIONS_CACHES": 0,
         "DELETE_OTHER_APPLICATIONS_DATA": 0,
         "DIRECTLY_CALL_ANY_PHONE_NUMBERS": 0,
         "DIRECTLY_INSTALL_APPLICATIONS": 0,
         "DISABLE_OR_MODIFY_STATUS_BAR": 0,
         "DISCOVER_KNOWN_ACCOUNTS": 0,
         "DISPLAY_UNAUTHORIZED_WINDOWS": 0,
         "ENABLE_OR_DISABLE_APPLICATION_COMPONENTS": 0,
         "FORCE_APPLICATION_TO_CLOSE": 0,
         "FORCE_DEVICE_REBOOT": 0,
         "FULL_INTERNET_ACCESS": 0,
         "INTERACT_WITH_A_DEVICE_ADMIN": 0,
         "MANAGE_APPLICATION_TOKENS": 0,
         "MOCK_LOCATION_SOURCES_FOR_TESTING": 0,
         "MODIFY_BATTERY_STATISTICS": 0,
         "MODIFY_SECURE_SYSTEM_SETTINGS": 0,
         "MODIFY_THE_GOOGLE_SERVICES_MAP": 0,
         "MODIFY/DELETE_USB_STORAGE_CONTENTS_MODIFY/DELETE_SD_CARD_CONTENTS": 0,
         "MONITOR_AND_CONTROL_ALL_APPLICATION_LAUNCHING": 0,
         "PARTIAL_SHUTDOWN": 0,
         "PERMANENTLY_DISABLE_DEVICE": 0,
         "PERMISSION_TO_INSTALL_A_LOCATION_PROVIDER": 0,
         "POWER_DEVICE_ON_OR_OFF": 0,
         "PRESS_KEYS_AND_CONTROL_BUTTONS": 0,
         "PREVENT_APP_SWITCHES": 0,
         "READ_FRAME_BUFFER": 0,
         "READ_INSTANT_MESSAGES": 0,
         "READ_PHONE_STATE_AND_IDENTITY": 0,
         "RECORD_WHAT_YOU_TYPE_AND_ACTIONS_YOU_TAKE": 0,
         "RESET_SYSTEM_TO_FACTORY_DEFAULTS": 0,
         "RUN_IN_FACTORY_TEST_MODE": 0,
         "SET_TIME": 0,
         "SET_WALLPAPER_SIZE_HINTS": 0,
         "START_IM_SERVICE": 0,
         "UPDATE_COMPONENT_USAGE_STATISTICS": 0,
         "WRITE_CONTACT_DATA": 0,
         "WRITE_INSTANT_MESSAGES": 0,
         "ENABLE_APPLICATION_DEBUGGING": 0,
         "LIMIT_NUMBER_OF_RUNNING_PROCESSES": 0,
         "MAKE_ALL_BACKGROUND_APPLICATIONS_CLOSE": 0,
         "SEND_LINUX_SIGNALS_TO_APPLICATIONS": 0,
         "CHANGE_YOUR_AUDIO_SETTINGS": 0,
         "CONTROL_FLASHLIGHT": 0,
         "CONTROL_VIBRATOR": 1,
         "RECORD_AUDIO": 0,
         "TAKE_PICTURES_AND_VIDEOS": 0,
         "TEST_HARDWARE": 0,
         "BROADCAST_DATA_MESSAGES_TO_APPLICATIONS": 0,
         "CONTROL_NEAR_FIELD_COMMUNICATION": 0,
         "CREATE_BLUETOOTH_CONNECTIONS": 0,
         "DOWNLOAD_FILES_WITHOUT_NOTIFICATION": 0,
         "FULL_INTERNET_ACCESS.1": 1,
         "MAKE/RECEIVE_INTERNET_CALLS": 0,
         "RECEIVE_DATA_FROM_INTERNET": 0,
         "VIEW_WI-FI_STATE": 0,
         "VIEW_NETWORK_STATE": 1,
         "INTERCEPT_OUTGOING_CALLS": 0,
         "MODIFY_PHONE_STATE": 0,
         "READ_PHONE_STATE_AND_IDENTITY.1": 1,
         "DIRECTLY_CALL_PHONE_NUMBERS": 0,
         "SEND_SMS_MESSAGES": 1,
         "MODIFY/DELETE_USB_STORAGE_CONTENTS_MODIFY/DELETE_SD_CARD_CONTENTS.1": 1,
         "ALLOW_WI-FI_MULTICAST_RECEPTION": 0,
         "AUTOMATICALLY_START_AT_BOOT": 1,
         "BLUETOOTH_ADMINISTRATION": 0,
         "CHANGE_WI-FI_STATE": 0,
         "CHANGE_BACKGROUND_DATA_USAGE_SETTING": 0,
         "CHANGE_NETWORK_CONNECTIVITY": 0,
         "CHANGE_YOUR_UI_SETTINGS": 0,
         "DELETE_ALL_APPLICATION_CACHE_DATA": 0,
         "DISABLE_KEYLOCK": 0,
         "DISPLAY_SYSTEM-LEVEL_ALERTS": 0,
         "EXPAND/COLLAPSE_STATUS_BAR": 0,
         "FORCE_STOP_OTHER_APPLICATIONS": 0,
         "FORMAT_EXTERNAL_STORAGE": 0,
         "KILL_BACKGROUND_PROCESSES": 0,
         "MAKE_APPLICATION_ALWAYS_RUN": 0,
         "MEASURE_APPLICATION_STORAGE_SPACE": 0,
         "MODIFY_GLOBAL_ANIMATION_SPEED": 0,
         "MODIFY_GLOBAL_SYSTEM_SETTINGS": 0,
         "MOUNT_AND_UNMOUNT_FILESYSTEMS": 0,
         "PREVENT_DEVICE_FROM_SLEEPING": 1,
         "READ_SUBSCRIBED_FEEDS": 0,
         "READ_SYNC_SETTINGS": 0,
         "READ_SYNC_STATISTICS": 0,
         "READ/WRITE_TO_RESOURCES_OWNED_BY_DIAG": 0,
         "REORDER_RUNNING_APPLICATIONS": 0,
         "RETRIEVE_RUNNING_APPLICATIONS": 0,
         "SEND_PACKAGE_REMOVED_BROADCAST": 0,
         "SEND_STICKY_BROADCAST": 0,
         "SET_PREFERRED_APPLICATIONS": 0,
         "SET_TIME_ZONE": 0,
         "SET_WALLPAPER": 0,
         "SET_WALLPAPER_SIZE_HINTS.1": 0,
         "WRITE_ACCESS_POINT_NAME_SETTINGS": 0,
         "WRITE_SUBSCRIBED_FEEDS": 0,
         "WRITE_SYNC_SETTINGS": 0,
         "BLOGGER": 0,
         "GOOGLE_APP_ENGINE": 0,
         "GOOGLE_DOCS": 0,
         "GOOGLE_FINANCE": 0,
         "GOOGLE_MAPS": 0,
         "GOOGLE_SPREADSHEETS": 0,
         "GOOGLE_VOICE": 0,
         "GOOGLE_MAIL": 0,
         "PICASA_WEB_ALBUMS": 0,
         "YOUTUBE": 0,
         "YOUTUBE_USERNAMES": 0,
         "ACCESS_ALL_GOOGLE_SERVICES": 0,
         "ACCESS_OTHER_GOOGLE_SERVICES": 0,
         "ACT_AS_AN_ACCOUNT_AUTHENTICATOR.1": 0,
         "ACT_AS_THE_ACCOUNTMANAGERSERVICE": 0,
         "CONTACTS_DATA_IN_GOOGLE_ACCOUNTS": 0,
         "DISCOVER_KNOWN_ACCOUNTS.1": 0,
         "MANAGE_THE_ACCOUNTS_LIST": 0,
         "READ_GOOGLE_SERVICE_CONFIGURATION": 0,
         "USE_THE_AUTHENTICATION_CREDENTIALS_OF_AN_ACCOUNT": 0,
         "VIEW_CONFIGURED_ACCOUNTS": 0,
         "ACCESS_EXTRA_LOCATION_PROVIDER_COMMANDS": 0,
         "COARSE.1": 0,
         "FINE": 0,
         "MOCK_LOCATION_SOURCES_FOR_TESTING.1": 0,
         "READ_EMAIL_ATTACHMENTS": 0,
         "SEND_GMAIL": 0,
         "EDIT_SMS_OR_MMS": 0,
         "MODIFY_GMAIL": 0,
         "READ_GMAIL": 0,
         "READ_GMAIL_ATTACHMENT_PREVIEWS": 0,
         "READ_SMS_OR_MMS": 0,
         "READ_INSTANT_MESSAGES.1": 0,
         "RECEIVE_MMS": 0,
         "RECEIVE_SMS": 0,
         "RECEIVE_WAP": 0,
         "SEND_SMS-RECEIVED_BROADCAST": 0,
         "SEND_WAP-PUSH-RECEIVED_BROADCAST": 0,
         "WRITE_INSTANT_MESSAGES.1": 0,
         "ADD_OR_MODIFY_CALENDAR_EVENTS_AND_SEND_EMAIL_TO_GUESTS": 0,
         "CHOOSE_WIDGETS": 0,
         "READ_BROWSERS_HISTORY_AND_BOOKMARKS": 0,
         "READ_CALENDAR_EVENTS": 0,
         "READ_CONTACT_DATA": 0,
         "READ_SENSITIVE_LOG_DATA": 0,
         "READ_USER_DEFINED_DICTIONARY": 0,
         "RETRIEVE_SYSTEM_INTERNAL_STATE": 0,
         "SET_ALARM_IN_ALARM_CLOCK": 0,
         "WRITE_BROWSERS_HISTORY_AND_BOOKMARKS": 0,
         "WRITE_CONTACT_DATA.1": 0,
         "WRITE_TO_USER_DEFINED_DICTIONARY": 0,
         "class": 1,
         "_deepnote_index_column": 1
        },
        {
         "ACCESS_DRM_CONTENT": 0,
         "ACCESS_EMAIL_PROVIDER_DATA": 0,
         "ACCESS_ALL_SYSTEM_DOWNLOADS": 0,
         "ACCESS_DOWNLOAD_MANAGER": 0,
         "ADVANCED_DOWNLOAD_MANAGER_FUNCTIONS": 0,
         "AUDIO_FILE_ACCESS": 0,
         "INSTALL_DRM_CONTENT": 0,
         "MODIFY_GOOGLE_SERVICE_CONFIGURATION": 0,
         "MODIFY_GOOGLE_SETTINGS": 0,
         "MOVE_APPLICATION_RESOURCES": 0,
         "READ_GOOGLE_SETTINGS": 0,
         "SEND_DOWNLOAD_NOTIFICATIONS": 0,
         "VOICE_SEARCH_SHORTCUTS": 0,
         "ACCESS_SURFACEFLINGER": 0,
         "ACCESS_CHECKIN_PROPERTIES": 0,
         "ACCESS_THE_CACHE_FILESYSTEM": 0,
         "ACCESS_TO_PASSWORDS_FOR_GOOGLE_ACCOUNTS": 0,
         "ACT_AS_AN_ACCOUNT_AUTHENTICATOR": 0,
         "BIND_TO_A_WALLPAPER": 0,
         "BIND_TO_AN_INPUT_METHOD": 0,
         "CHANGE_SCREEN_ORIENTATION": 0,
         "COARSE": 0,
         "CONTROL_LOCATION_UPDATE_NOTIFICATIONS": 0,
         "CONTROL_SYSTEM_BACKUP_AND_RESTORE": 0,
         "DELETE_APPLICATIONS": 0,
         "DELETE_OTHER_APPLICATIONS_CACHES": 0,
         "DELETE_OTHER_APPLICATIONS_DATA": 0,
         "DIRECTLY_CALL_ANY_PHONE_NUMBERS": 0,
         "DIRECTLY_INSTALL_APPLICATIONS": 0,
         "DISABLE_OR_MODIFY_STATUS_BAR": 0,
         "DISCOVER_KNOWN_ACCOUNTS": 0,
         "DISPLAY_UNAUTHORIZED_WINDOWS": 0,
         "ENABLE_OR_DISABLE_APPLICATION_COMPONENTS": 0,
         "FORCE_APPLICATION_TO_CLOSE": 0,
         "FORCE_DEVICE_REBOOT": 0,
         "FULL_INTERNET_ACCESS": 0,
         "INTERACT_WITH_A_DEVICE_ADMIN": 0,
         "MANAGE_APPLICATION_TOKENS": 0,
         "MOCK_LOCATION_SOURCES_FOR_TESTING": 0,
         "MODIFY_BATTERY_STATISTICS": 0,
         "MODIFY_SECURE_SYSTEM_SETTINGS": 0,
         "MODIFY_THE_GOOGLE_SERVICES_MAP": 0,
         "MODIFY/DELETE_USB_STORAGE_CONTENTS_MODIFY/DELETE_SD_CARD_CONTENTS": 0,
         "MONITOR_AND_CONTROL_ALL_APPLICATION_LAUNCHING": 0,
         "PARTIAL_SHUTDOWN": 0,
         "PERMANENTLY_DISABLE_DEVICE": 0,
         "PERMISSION_TO_INSTALL_A_LOCATION_PROVIDER": 0,
         "POWER_DEVICE_ON_OR_OFF": 0,
         "PRESS_KEYS_AND_CONTROL_BUTTONS": 0,
         "PREVENT_APP_SWITCHES": 0,
         "READ_FRAME_BUFFER": 0,
         "READ_INSTANT_MESSAGES": 0,
         "READ_PHONE_STATE_AND_IDENTITY": 0,
         "RECORD_WHAT_YOU_TYPE_AND_ACTIONS_YOU_TAKE": 0,
         "RESET_SYSTEM_TO_FACTORY_DEFAULTS": 0,
         "RUN_IN_FACTORY_TEST_MODE": 0,
         "SET_TIME": 0,
         "SET_WALLPAPER_SIZE_HINTS": 0,
         "START_IM_SERVICE": 0,
         "UPDATE_COMPONENT_USAGE_STATISTICS": 0,
         "WRITE_CONTACT_DATA": 0,
         "WRITE_INSTANT_MESSAGES": 0,
         "ENABLE_APPLICATION_DEBUGGING": 0,
         "LIMIT_NUMBER_OF_RUNNING_PROCESSES": 0,
         "MAKE_ALL_BACKGROUND_APPLICATIONS_CLOSE": 0,
         "SEND_LINUX_SIGNALS_TO_APPLICATIONS": 0,
         "CHANGE_YOUR_AUDIO_SETTINGS": 0,
         "CONTROL_FLASHLIGHT": 0,
         "CONTROL_VIBRATOR": 0,
         "RECORD_AUDIO": 0,
         "TAKE_PICTURES_AND_VIDEOS": 1,
         "TEST_HARDWARE": 0,
         "BROADCAST_DATA_MESSAGES_TO_APPLICATIONS": 0,
         "CONTROL_NEAR_FIELD_COMMUNICATION": 0,
         "CREATE_BLUETOOTH_CONNECTIONS": 0,
         "DOWNLOAD_FILES_WITHOUT_NOTIFICATION": 0,
         "FULL_INTERNET_ACCESS.1": 1,
         "MAKE/RECEIVE_INTERNET_CALLS": 0,
         "RECEIVE_DATA_FROM_INTERNET": 0,
         "VIEW_WI-FI_STATE": 0,
         "VIEW_NETWORK_STATE": 0,
         "INTERCEPT_OUTGOING_CALLS": 0,
         "MODIFY_PHONE_STATE": 0,
         "READ_PHONE_STATE_AND_IDENTITY.1": 0,
         "DIRECTLY_CALL_PHONE_NUMBERS": 0,
         "SEND_SMS_MESSAGES": 0,
         "MODIFY/DELETE_USB_STORAGE_CONTENTS_MODIFY/DELETE_SD_CARD_CONTENTS.1": 0,
         "ALLOW_WI-FI_MULTICAST_RECEPTION": 0,
         "AUTOMATICALLY_START_AT_BOOT": 0,
         "BLUETOOTH_ADMINISTRATION": 0,
         "CHANGE_WI-FI_STATE": 0,
         "CHANGE_BACKGROUND_DATA_USAGE_SETTING": 0,
         "CHANGE_NETWORK_CONNECTIVITY": 0,
         "CHANGE_YOUR_UI_SETTINGS": 0,
         "DELETE_ALL_APPLICATION_CACHE_DATA": 0,
         "DISABLE_KEYLOCK": 0,
         "DISPLAY_SYSTEM-LEVEL_ALERTS": 0,
         "EXPAND/COLLAPSE_STATUS_BAR": 0,
         "FORCE_STOP_OTHER_APPLICATIONS": 0,
         "FORMAT_EXTERNAL_STORAGE": 0,
         "KILL_BACKGROUND_PROCESSES": 0,
         "MAKE_APPLICATION_ALWAYS_RUN": 0,
         "MEASURE_APPLICATION_STORAGE_SPACE": 0,
         "MODIFY_GLOBAL_ANIMATION_SPEED": 0,
         "MODIFY_GLOBAL_SYSTEM_SETTINGS": 0,
         "MOUNT_AND_UNMOUNT_FILESYSTEMS": 0,
         "PREVENT_DEVICE_FROM_SLEEPING": 0,
         "READ_SUBSCRIBED_FEEDS": 0,
         "READ_SYNC_SETTINGS": 0,
         "READ_SYNC_STATISTICS": 0,
         "READ/WRITE_TO_RESOURCES_OWNED_BY_DIAG": 0,
         "REORDER_RUNNING_APPLICATIONS": 0,
         "RETRIEVE_RUNNING_APPLICATIONS": 0,
         "SEND_PACKAGE_REMOVED_BROADCAST": 0,
         "SEND_STICKY_BROADCAST": 0,
         "SET_PREFERRED_APPLICATIONS": 0,
         "SET_TIME_ZONE": 0,
         "SET_WALLPAPER": 0,
         "SET_WALLPAPER_SIZE_HINTS.1": 0,
         "WRITE_ACCESS_POINT_NAME_SETTINGS": 0,
         "WRITE_SUBSCRIBED_FEEDS": 0,
         "WRITE_SYNC_SETTINGS": 0,
         "BLOGGER": 0,
         "GOOGLE_APP_ENGINE": 0,
         "GOOGLE_DOCS": 0,
         "GOOGLE_FINANCE": 0,
         "GOOGLE_MAPS": 0,
         "GOOGLE_SPREADSHEETS": 0,
         "GOOGLE_VOICE": 0,
         "GOOGLE_MAIL": 0,
         "PICASA_WEB_ALBUMS": 0,
         "YOUTUBE": 0,
         "YOUTUBE_USERNAMES": 0,
         "ACCESS_ALL_GOOGLE_SERVICES": 0,
         "ACCESS_OTHER_GOOGLE_SERVICES": 0,
         "ACT_AS_AN_ACCOUNT_AUTHENTICATOR.1": 0,
         "ACT_AS_THE_ACCOUNTMANAGERSERVICE": 0,
         "CONTACTS_DATA_IN_GOOGLE_ACCOUNTS": 0,
         "DISCOVER_KNOWN_ACCOUNTS.1": 0,
         "MANAGE_THE_ACCOUNTS_LIST": 0,
         "READ_GOOGLE_SERVICE_CONFIGURATION": 0,
         "USE_THE_AUTHENTICATION_CREDENTIALS_OF_AN_ACCOUNT": 0,
         "VIEW_CONFIGURED_ACCOUNTS": 0,
         "ACCESS_EXTRA_LOCATION_PROVIDER_COMMANDS": 0,
         "COARSE.1": 0,
         "FINE": 0,
         "MOCK_LOCATION_SOURCES_FOR_TESTING.1": 0,
         "READ_EMAIL_ATTACHMENTS": 0,
         "SEND_GMAIL": 0,
         "EDIT_SMS_OR_MMS": 0,
         "MODIFY_GMAIL": 0,
         "READ_GMAIL": 0,
         "READ_GMAIL_ATTACHMENT_PREVIEWS": 0,
         "READ_SMS_OR_MMS": 0,
         "READ_INSTANT_MESSAGES.1": 0,
         "RECEIVE_MMS": 0,
         "RECEIVE_SMS": 0,
         "RECEIVE_WAP": 0,
         "SEND_SMS-RECEIVED_BROADCAST": 0,
         "SEND_WAP-PUSH-RECEIVED_BROADCAST": 0,
         "WRITE_INSTANT_MESSAGES.1": 0,
         "ADD_OR_MODIFY_CALENDAR_EVENTS_AND_SEND_EMAIL_TO_GUESTS": 0,
         "CHOOSE_WIDGETS": 0,
         "READ_BROWSERS_HISTORY_AND_BOOKMARKS": 0,
         "READ_CALENDAR_EVENTS": 0,
         "READ_CONTACT_DATA": 1,
         "READ_SENSITIVE_LOG_DATA": 0,
         "READ_USER_DEFINED_DICTIONARY": 0,
         "RETRIEVE_SYSTEM_INTERNAL_STATE": 0,
         "SET_ALARM_IN_ALARM_CLOCK": 0,
         "WRITE_BROWSERS_HISTORY_AND_BOOKMARKS": 0,
         "WRITE_CONTACT_DATA.1": 0,
         "WRITE_TO_USER_DEFINED_DICTIONARY": 0,
         "class": 1,
         "_deepnote_index_column": 2
        },
        {
         "ACCESS_DRM_CONTENT": 0,
         "ACCESS_EMAIL_PROVIDER_DATA": 0,
         "ACCESS_ALL_SYSTEM_DOWNLOADS": 0,
         "ACCESS_DOWNLOAD_MANAGER": 0,
         "ADVANCED_DOWNLOAD_MANAGER_FUNCTIONS": 0,
         "AUDIO_FILE_ACCESS": 0,
         "INSTALL_DRM_CONTENT": 0,
         "MODIFY_GOOGLE_SERVICE_CONFIGURATION": 0,
         "MODIFY_GOOGLE_SETTINGS": 0,
         "MOVE_APPLICATION_RESOURCES": 0,
         "READ_GOOGLE_SETTINGS": 0,
         "SEND_DOWNLOAD_NOTIFICATIONS": 0,
         "VOICE_SEARCH_SHORTCUTS": 0,
         "ACCESS_SURFACEFLINGER": 0,
         "ACCESS_CHECKIN_PROPERTIES": 0,
         "ACCESS_THE_CACHE_FILESYSTEM": 0,
         "ACCESS_TO_PASSWORDS_FOR_GOOGLE_ACCOUNTS": 0,
         "ACT_AS_AN_ACCOUNT_AUTHENTICATOR": 0,
         "BIND_TO_A_WALLPAPER": 0,
         "BIND_TO_AN_INPUT_METHOD": 0,
         "CHANGE_SCREEN_ORIENTATION": 0,
         "COARSE": 0,
         "CONTROL_LOCATION_UPDATE_NOTIFICATIONS": 0,
         "CONTROL_SYSTEM_BACKUP_AND_RESTORE": 0,
         "DELETE_APPLICATIONS": 0,
         "DELETE_OTHER_APPLICATIONS_CACHES": 0,
         "DELETE_OTHER_APPLICATIONS_DATA": 0,
         "DIRECTLY_CALL_ANY_PHONE_NUMBERS": 0,
         "DIRECTLY_INSTALL_APPLICATIONS": 0,
         "DISABLE_OR_MODIFY_STATUS_BAR": 0,
         "DISCOVER_KNOWN_ACCOUNTS": 0,
         "DISPLAY_UNAUTHORIZED_WINDOWS": 0,
         "ENABLE_OR_DISABLE_APPLICATION_COMPONENTS": 0,
         "FORCE_APPLICATION_TO_CLOSE": 0,
         "FORCE_DEVICE_REBOOT": 0,
         "FULL_INTERNET_ACCESS": 0,
         "INTERACT_WITH_A_DEVICE_ADMIN": 0,
         "MANAGE_APPLICATION_TOKENS": 0,
         "MOCK_LOCATION_SOURCES_FOR_TESTING": 0,
         "MODIFY_BATTERY_STATISTICS": 0,
         "MODIFY_SECURE_SYSTEM_SETTINGS": 0,
         "MODIFY_THE_GOOGLE_SERVICES_MAP": 0,
         "MODIFY/DELETE_USB_STORAGE_CONTENTS_MODIFY/DELETE_SD_CARD_CONTENTS": 0,
         "MONITOR_AND_CONTROL_ALL_APPLICATION_LAUNCHING": 0,
         "PARTIAL_SHUTDOWN": 0,
         "PERMANENTLY_DISABLE_DEVICE": 0,
         "PERMISSION_TO_INSTALL_A_LOCATION_PROVIDER": 0,
         "POWER_DEVICE_ON_OR_OFF": 0,
         "PRESS_KEYS_AND_CONTROL_BUTTONS": 0,
         "PREVENT_APP_SWITCHES": 0,
         "READ_FRAME_BUFFER": 0,
         "READ_INSTANT_MESSAGES": 0,
         "READ_PHONE_STATE_AND_IDENTITY": 0,
         "RECORD_WHAT_YOU_TYPE_AND_ACTIONS_YOU_TAKE": 0,
         "RESET_SYSTEM_TO_FACTORY_DEFAULTS": 0,
         "RUN_IN_FACTORY_TEST_MODE": 0,
         "SET_TIME": 0,
         "SET_WALLPAPER_SIZE_HINTS": 0,
         "START_IM_SERVICE": 0,
         "UPDATE_COMPONENT_USAGE_STATISTICS": 0,
         "WRITE_CONTACT_DATA": 0,
         "WRITE_INSTANT_MESSAGES": 0,
         "ENABLE_APPLICATION_DEBUGGING": 0,
         "LIMIT_NUMBER_OF_RUNNING_PROCESSES": 0,
         "MAKE_ALL_BACKGROUND_APPLICATIONS_CLOSE": 0,
         "SEND_LINUX_SIGNALS_TO_APPLICATIONS": 0,
         "CHANGE_YOUR_AUDIO_SETTINGS": 0,
         "CONTROL_FLASHLIGHT": 0,
         "CONTROL_VIBRATOR": 1,
         "RECORD_AUDIO": 0,
         "TAKE_PICTURES_AND_VIDEOS": 0,
         "TEST_HARDWARE": 0,
         "BROADCAST_DATA_MESSAGES_TO_APPLICATIONS": 0,
         "CONTROL_NEAR_FIELD_COMMUNICATION": 0,
         "CREATE_BLUETOOTH_CONNECTIONS": 0,
         "DOWNLOAD_FILES_WITHOUT_NOTIFICATION": 0,
         "FULL_INTERNET_ACCESS.1": 1,
         "MAKE/RECEIVE_INTERNET_CALLS": 0,
         "RECEIVE_DATA_FROM_INTERNET": 0,
         "VIEW_WI-FI_STATE": 0,
         "VIEW_NETWORK_STATE": 0,
         "INTERCEPT_OUTGOING_CALLS": 0,
         "MODIFY_PHONE_STATE": 0,
         "READ_PHONE_STATE_AND_IDENTITY.1": 0,
         "DIRECTLY_CALL_PHONE_NUMBERS": 0,
         "SEND_SMS_MESSAGES": 0,
         "MODIFY/DELETE_USB_STORAGE_CONTENTS_MODIFY/DELETE_SD_CARD_CONTENTS.1": 0,
         "ALLOW_WI-FI_MULTICAST_RECEPTION": 0,
         "AUTOMATICALLY_START_AT_BOOT": 0,
         "BLUETOOTH_ADMINISTRATION": 0,
         "CHANGE_WI-FI_STATE": 0,
         "CHANGE_BACKGROUND_DATA_USAGE_SETTING": 0,
         "CHANGE_NETWORK_CONNECTIVITY": 0,
         "CHANGE_YOUR_UI_SETTINGS": 0,
         "DELETE_ALL_APPLICATION_CACHE_DATA": 0,
         "DISABLE_KEYLOCK": 0,
         "DISPLAY_SYSTEM-LEVEL_ALERTS": 0,
         "EXPAND/COLLAPSE_STATUS_BAR": 0,
         "FORCE_STOP_OTHER_APPLICATIONS": 0,
         "FORMAT_EXTERNAL_STORAGE": 0,
         "KILL_BACKGROUND_PROCESSES": 0,
         "MAKE_APPLICATION_ALWAYS_RUN": 0,
         "MEASURE_APPLICATION_STORAGE_SPACE": 0,
         "MODIFY_GLOBAL_ANIMATION_SPEED": 0,
         "MODIFY_GLOBAL_SYSTEM_SETTINGS": 0,
         "MOUNT_AND_UNMOUNT_FILESYSTEMS": 0,
         "PREVENT_DEVICE_FROM_SLEEPING": 0,
         "READ_SUBSCRIBED_FEEDS": 0,
         "READ_SYNC_SETTINGS": 0,
         "READ_SYNC_STATISTICS": 0,
         "READ/WRITE_TO_RESOURCES_OWNED_BY_DIAG": 0,
         "REORDER_RUNNING_APPLICATIONS": 0,
         "RETRIEVE_RUNNING_APPLICATIONS": 0,
         "SEND_PACKAGE_REMOVED_BROADCAST": 0,
         "SEND_STICKY_BROADCAST": 0,
         "SET_PREFERRED_APPLICATIONS": 0,
         "SET_TIME_ZONE": 0,
         "SET_WALLPAPER": 0,
         "SET_WALLPAPER_SIZE_HINTS.1": 0,
         "WRITE_ACCESS_POINT_NAME_SETTINGS": 0,
         "WRITE_SUBSCRIBED_FEEDS": 0,
         "WRITE_SYNC_SETTINGS": 0,
         "BLOGGER": 0,
         "GOOGLE_APP_ENGINE": 0,
         "GOOGLE_DOCS": 0,
         "GOOGLE_FINANCE": 0,
         "GOOGLE_MAPS": 0,
         "GOOGLE_SPREADSHEETS": 0,
         "GOOGLE_VOICE": 0,
         "GOOGLE_MAIL": 0,
         "PICASA_WEB_ALBUMS": 0,
         "YOUTUBE": 0,
         "YOUTUBE_USERNAMES": 0,
         "ACCESS_ALL_GOOGLE_SERVICES": 0,
         "ACCESS_OTHER_GOOGLE_SERVICES": 0,
         "ACT_AS_AN_ACCOUNT_AUTHENTICATOR.1": 0,
         "ACT_AS_THE_ACCOUNTMANAGERSERVICE": 0,
         "CONTACTS_DATA_IN_GOOGLE_ACCOUNTS": 0,
         "DISCOVER_KNOWN_ACCOUNTS.1": 0,
         "MANAGE_THE_ACCOUNTS_LIST": 0,
         "READ_GOOGLE_SERVICE_CONFIGURATION": 0,
         "USE_THE_AUTHENTICATION_CREDENTIALS_OF_AN_ACCOUNT": 0,
         "VIEW_CONFIGURED_ACCOUNTS": 0,
         "ACCESS_EXTRA_LOCATION_PROVIDER_COMMANDS": 0,
         "COARSE.1": 0,
         "FINE": 0,
         "MOCK_LOCATION_SOURCES_FOR_TESTING.1": 0,
         "READ_EMAIL_ATTACHMENTS": 0,
         "SEND_GMAIL": 0,
         "EDIT_SMS_OR_MMS": 0,
         "MODIFY_GMAIL": 0,
         "READ_GMAIL": 0,
         "READ_GMAIL_ATTACHMENT_PREVIEWS": 0,
         "READ_SMS_OR_MMS": 0,
         "READ_INSTANT_MESSAGES.1": 0,
         "RECEIVE_MMS": 0,
         "RECEIVE_SMS": 0,
         "RECEIVE_WAP": 0,
         "SEND_SMS-RECEIVED_BROADCAST": 0,
         "SEND_WAP-PUSH-RECEIVED_BROADCAST": 0,
         "WRITE_INSTANT_MESSAGES.1": 0,
         "ADD_OR_MODIFY_CALENDAR_EVENTS_AND_SEND_EMAIL_TO_GUESTS": 0,
         "CHOOSE_WIDGETS": 0,
         "READ_BROWSERS_HISTORY_AND_BOOKMARKS": 0,
         "READ_CALENDAR_EVENTS": 0,
         "READ_CONTACT_DATA": 0,
         "READ_SENSITIVE_LOG_DATA": 0,
         "READ_USER_DEFINED_DICTIONARY": 0,
         "RETRIEVE_SYSTEM_INTERNAL_STATE": 0,
         "SET_ALARM_IN_ALARM_CLOCK": 0,
         "WRITE_BROWSERS_HISTORY_AND_BOOKMARKS": 0,
         "WRITE_CONTACT_DATA.1": 0,
         "WRITE_TO_USER_DEFINED_DICTIONARY": 0,
         "class": 1,
         "_deepnote_index_column": 3
        },
        {
         "ACCESS_DRM_CONTENT": 0,
         "ACCESS_EMAIL_PROVIDER_DATA": 0,
         "ACCESS_ALL_SYSTEM_DOWNLOADS": 0,
         "ACCESS_DOWNLOAD_MANAGER": 0,
         "ADVANCED_DOWNLOAD_MANAGER_FUNCTIONS": 0,
         "AUDIO_FILE_ACCESS": 0,
         "INSTALL_DRM_CONTENT": 0,
         "MODIFY_GOOGLE_SERVICE_CONFIGURATION": 0,
         "MODIFY_GOOGLE_SETTINGS": 0,
         "MOVE_APPLICATION_RESOURCES": 0,
         "READ_GOOGLE_SETTINGS": 0,
         "SEND_DOWNLOAD_NOTIFICATIONS": 0,
         "VOICE_SEARCH_SHORTCUTS": 0,
         "ACCESS_SURFACEFLINGER": 0,
         "ACCESS_CHECKIN_PROPERTIES": 0,
         "ACCESS_THE_CACHE_FILESYSTEM": 0,
         "ACCESS_TO_PASSWORDS_FOR_GOOGLE_ACCOUNTS": 0,
         "ACT_AS_AN_ACCOUNT_AUTHENTICATOR": 0,
         "BIND_TO_A_WALLPAPER": 0,
         "BIND_TO_AN_INPUT_METHOD": 0,
         "CHANGE_SCREEN_ORIENTATION": 0,
         "COARSE": 0,
         "CONTROL_LOCATION_UPDATE_NOTIFICATIONS": 0,
         "CONTROL_SYSTEM_BACKUP_AND_RESTORE": 0,
         "DELETE_APPLICATIONS": 0,
         "DELETE_OTHER_APPLICATIONS_CACHES": 0,
         "DELETE_OTHER_APPLICATIONS_DATA": 0,
         "DIRECTLY_CALL_ANY_PHONE_NUMBERS": 0,
         "DIRECTLY_INSTALL_APPLICATIONS": 0,
         "DISABLE_OR_MODIFY_STATUS_BAR": 0,
         "DISCOVER_KNOWN_ACCOUNTS": 0,
         "DISPLAY_UNAUTHORIZED_WINDOWS": 0,
         "ENABLE_OR_DISABLE_APPLICATION_COMPONENTS": 0,
         "FORCE_APPLICATION_TO_CLOSE": 0,
         "FORCE_DEVICE_REBOOT": 0,
         "FULL_INTERNET_ACCESS": 0,
         "INTERACT_WITH_A_DEVICE_ADMIN": 0,
         "MANAGE_APPLICATION_TOKENS": 0,
         "MOCK_LOCATION_SOURCES_FOR_TESTING": 0,
         "MODIFY_BATTERY_STATISTICS": 0,
         "MODIFY_SECURE_SYSTEM_SETTINGS": 0,
         "MODIFY_THE_GOOGLE_SERVICES_MAP": 0,
         "MODIFY/DELETE_USB_STORAGE_CONTENTS_MODIFY/DELETE_SD_CARD_CONTENTS": 0,
         "MONITOR_AND_CONTROL_ALL_APPLICATION_LAUNCHING": 0,
         "PARTIAL_SHUTDOWN": 0,
         "PERMANENTLY_DISABLE_DEVICE": 0,
         "PERMISSION_TO_INSTALL_A_LOCATION_PROVIDER": 0,
         "POWER_DEVICE_ON_OR_OFF": 0,
         "PRESS_KEYS_AND_CONTROL_BUTTONS": 0,
         "PREVENT_APP_SWITCHES": 0,
         "READ_FRAME_BUFFER": 0,
         "READ_INSTANT_MESSAGES": 0,
         "READ_PHONE_STATE_AND_IDENTITY": 0,
         "RECORD_WHAT_YOU_TYPE_AND_ACTIONS_YOU_TAKE": 0,
         "RESET_SYSTEM_TO_FACTORY_DEFAULTS": 0,
         "RUN_IN_FACTORY_TEST_MODE": 0,
         "SET_TIME": 0,
         "SET_WALLPAPER_SIZE_HINTS": 0,
         "START_IM_SERVICE": 0,
         "UPDATE_COMPONENT_USAGE_STATISTICS": 0,
         "WRITE_CONTACT_DATA": 0,
         "WRITE_INSTANT_MESSAGES": 0,
         "ENABLE_APPLICATION_DEBUGGING": 0,
         "LIMIT_NUMBER_OF_RUNNING_PROCESSES": 0,
         "MAKE_ALL_BACKGROUND_APPLICATIONS_CLOSE": 0,
         "SEND_LINUX_SIGNALS_TO_APPLICATIONS": 0,
         "CHANGE_YOUR_AUDIO_SETTINGS": 0,
         "CONTROL_FLASHLIGHT": 0,
         "CONTROL_VIBRATOR": 0,
         "RECORD_AUDIO": 0,
         "TAKE_PICTURES_AND_VIDEOS": 0,
         "TEST_HARDWARE": 0,
         "BROADCAST_DATA_MESSAGES_TO_APPLICATIONS": 0,
         "CONTROL_NEAR_FIELD_COMMUNICATION": 0,
         "CREATE_BLUETOOTH_CONNECTIONS": 0,
         "DOWNLOAD_FILES_WITHOUT_NOTIFICATION": 0,
         "FULL_INTERNET_ACCESS.1": 1,
         "MAKE/RECEIVE_INTERNET_CALLS": 0,
         "RECEIVE_DATA_FROM_INTERNET": 0,
         "VIEW_WI-FI_STATE": 1,
         "VIEW_NETWORK_STATE": 1,
         "INTERCEPT_OUTGOING_CALLS": 0,
         "MODIFY_PHONE_STATE": 0,
         "READ_PHONE_STATE_AND_IDENTITY.1": 0,
         "DIRECTLY_CALL_PHONE_NUMBERS": 0,
         "SEND_SMS_MESSAGES": 0,
         "MODIFY/DELETE_USB_STORAGE_CONTENTS_MODIFY/DELETE_SD_CARD_CONTENTS.1": 1,
         "ALLOW_WI-FI_MULTICAST_RECEPTION": 0,
         "AUTOMATICALLY_START_AT_BOOT": 0,
         "BLUETOOTH_ADMINISTRATION": 0,
         "CHANGE_WI-FI_STATE": 0,
         "CHANGE_BACKGROUND_DATA_USAGE_SETTING": 0,
         "CHANGE_NETWORK_CONNECTIVITY": 0,
         "CHANGE_YOUR_UI_SETTINGS": 0,
         "DELETE_ALL_APPLICATION_CACHE_DATA": 0,
         "DISABLE_KEYLOCK": 0,
         "DISPLAY_SYSTEM-LEVEL_ALERTS": 0,
         "EXPAND/COLLAPSE_STATUS_BAR": 0,
         "FORCE_STOP_OTHER_APPLICATIONS": 0,
         "FORMAT_EXTERNAL_STORAGE": 0,
         "KILL_BACKGROUND_PROCESSES": 0,
         "MAKE_APPLICATION_ALWAYS_RUN": 0,
         "MEASURE_APPLICATION_STORAGE_SPACE": 0,
         "MODIFY_GLOBAL_ANIMATION_SPEED": 0,
         "MODIFY_GLOBAL_SYSTEM_SETTINGS": 0,
         "MOUNT_AND_UNMOUNT_FILESYSTEMS": 0,
         "PREVENT_DEVICE_FROM_SLEEPING": 1,
         "READ_SUBSCRIBED_FEEDS": 0,
         "READ_SYNC_SETTINGS": 0,
         "READ_SYNC_STATISTICS": 0,
         "READ/WRITE_TO_RESOURCES_OWNED_BY_DIAG": 0,
         "REORDER_RUNNING_APPLICATIONS": 0,
         "RETRIEVE_RUNNING_APPLICATIONS": 0,
         "SEND_PACKAGE_REMOVED_BROADCAST": 0,
         "SEND_STICKY_BROADCAST": 0,
         "SET_PREFERRED_APPLICATIONS": 0,
         "SET_TIME_ZONE": 0,
         "SET_WALLPAPER": 0,
         "SET_WALLPAPER_SIZE_HINTS.1": 0,
         "WRITE_ACCESS_POINT_NAME_SETTINGS": 0,
         "WRITE_SUBSCRIBED_FEEDS": 0,
         "WRITE_SYNC_SETTINGS": 0,
         "BLOGGER": 0,
         "GOOGLE_APP_ENGINE": 0,
         "GOOGLE_DOCS": 0,
         "GOOGLE_FINANCE": 0,
         "GOOGLE_MAPS": 0,
         "GOOGLE_SPREADSHEETS": 0,
         "GOOGLE_VOICE": 0,
         "GOOGLE_MAIL": 0,
         "PICASA_WEB_ALBUMS": 0,
         "YOUTUBE": 0,
         "YOUTUBE_USERNAMES": 0,
         "ACCESS_ALL_GOOGLE_SERVICES": 0,
         "ACCESS_OTHER_GOOGLE_SERVICES": 0,
         "ACT_AS_AN_ACCOUNT_AUTHENTICATOR.1": 0,
         "ACT_AS_THE_ACCOUNTMANAGERSERVICE": 0,
         "CONTACTS_DATA_IN_GOOGLE_ACCOUNTS": 0,
         "DISCOVER_KNOWN_ACCOUNTS.1": 0,
         "MANAGE_THE_ACCOUNTS_LIST": 0,
         "READ_GOOGLE_SERVICE_CONFIGURATION": 0,
         "USE_THE_AUTHENTICATION_CREDENTIALS_OF_AN_ACCOUNT": 0,
         "VIEW_CONFIGURED_ACCOUNTS": 0,
         "ACCESS_EXTRA_LOCATION_PROVIDER_COMMANDS": 0,
         "COARSE.1": 0,
         "FINE": 0,
         "MOCK_LOCATION_SOURCES_FOR_TESTING.1": 0,
         "READ_EMAIL_ATTACHMENTS": 0,
         "SEND_GMAIL": 0,
         "EDIT_SMS_OR_MMS": 0,
         "MODIFY_GMAIL": 0,
         "READ_GMAIL": 0,
         "READ_GMAIL_ATTACHMENT_PREVIEWS": 0,
         "READ_SMS_OR_MMS": 0,
         "READ_INSTANT_MESSAGES.1": 0,
         "RECEIVE_MMS": 0,
         "RECEIVE_SMS": 0,
         "RECEIVE_WAP": 0,
         "SEND_SMS-RECEIVED_BROADCAST": 0,
         "SEND_WAP-PUSH-RECEIVED_BROADCAST": 0,
         "WRITE_INSTANT_MESSAGES.1": 0,
         "ADD_OR_MODIFY_CALENDAR_EVENTS_AND_SEND_EMAIL_TO_GUESTS": 0,
         "CHOOSE_WIDGETS": 0,
         "READ_BROWSERS_HISTORY_AND_BOOKMARKS": 0,
         "READ_CALENDAR_EVENTS": 0,
         "READ_CONTACT_DATA": 0,
         "READ_SENSITIVE_LOG_DATA": 0,
         "READ_USER_DEFINED_DICTIONARY": 0,
         "RETRIEVE_SYSTEM_INTERNAL_STATE": 0,
         "SET_ALARM_IN_ALARM_CLOCK": 0,
         "WRITE_BROWSERS_HISTORY_AND_BOOKMARKS": 0,
         "WRITE_CONTACT_DATA.1": 0,
         "WRITE_TO_USER_DEFINED_DICTIONARY": 0,
         "class": 0,
         "_deepnote_index_column": 4
        }
       ],
       "rows_bottom": null
      },
      "text/plain": "   ACCESS_DRM_CONTENT  ACCESS_EMAIL_PROVIDER_DATA  \\\n0                   0                           0   \n1                   0                           0   \n2                   0                           0   \n3                   0                           0   \n4                   0                           0   \n\n   ACCESS_ALL_SYSTEM_DOWNLOADS  ACCESS_DOWNLOAD_MANAGER  \\\n0                            0                        0   \n1                            0                        0   \n2                            0                        0   \n3                            0                        0   \n4                            0                        0   \n\n   ADVANCED_DOWNLOAD_MANAGER_FUNCTIONS  AUDIO_FILE_ACCESS  \\\n0                                    0                  0   \n1                                    0                  0   \n2                                    0                  0   \n3                                    0                  0   \n4                                    0                  0   \n\n   INSTALL_DRM_CONTENT  MODIFY_GOOGLE_SERVICE_CONFIGURATION  \\\n0                    0                                    0   \n1                    0                                    0   \n2                    0                                    0   \n3                    0                                    0   \n4                    0                                    0   \n\n   MODIFY_GOOGLE_SETTINGS  MOVE_APPLICATION_RESOURCES  READ_GOOGLE_SETTINGS  \\\n0                       0                           0                     0   \n1                       0                           0                     0   \n2                       0                           0                     0   \n3                       0                           0                     0   \n4                       0                           0                     0   \n\n   SEND_DOWNLOAD_NOTIFICATIONS  VOICE_SEARCH_SHORTCUTS  ACCESS_SURFACEFLINGER  \\\n0                            0                       0                      0   \n1                            0                       0                      0   \n2                            0                       0                      0   \n3                            0                       0                      0   \n4                            0                       0                      0   \n\n   ACCESS_CHECKIN_PROPERTIES  ACCESS_THE_CACHE_FILESYSTEM  \\\n0                          0                            0   \n1                          0                            0   \n2                          0                            0   \n3                          0                            0   \n4                          0                            0   \n\n   ACCESS_TO_PASSWORDS_FOR_GOOGLE_ACCOUNTS  ACT_AS_AN_ACCOUNT_AUTHENTICATOR  \\\n0                                        0                                0   \n1                                        0                                0   \n2                                        0                                0   \n3                                        0                                0   \n4                                        0                                0   \n\n   BIND_TO_A_WALLPAPER  BIND_TO_AN_INPUT_METHOD  CHANGE_SCREEN_ORIENTATION  \\\n0                    0                        0                          0   \n1                    0                        0                          0   \n2                    0                        0                          0   \n3                    0                        0                          0   \n4                    0                        0                          0   \n\n   COARSE  CONTROL_LOCATION_UPDATE_NOTIFICATIONS  \\\n0       0                                      0   \n1       0                                      0   \n2       0                                      0   \n3       0                                      0   \n4       0                                      0   \n\n   CONTROL_SYSTEM_BACKUP_AND_RESTORE  DELETE_APPLICATIONS  \\\n0                                  0                    0   \n1                                  0                    0   \n2                                  0                    0   \n3                                  0                    0   \n4                                  0                    0   \n\n   DELETE_OTHER_APPLICATIONS_CACHES  DELETE_OTHER_APPLICATIONS_DATA  \\\n0                                 0                               0   \n1                                 0                               0   \n2                                 0                               0   \n3                                 0                               0   \n4                                 0                               0   \n\n   DIRECTLY_CALL_ANY_PHONE_NUMBERS  DIRECTLY_INSTALL_APPLICATIONS  \\\n0                                0                              0   \n1                                0                              0   \n2                                0                              0   \n3                                0                              0   \n4                                0                              0   \n\n   DISABLE_OR_MODIFY_STATUS_BAR  DISCOVER_KNOWN_ACCOUNTS  \\\n0                             0                        0   \n1                             0                        0   \n2                             0                        0   \n3                             0                        0   \n4                             0                        0   \n\n   DISPLAY_UNAUTHORIZED_WINDOWS  ENABLE_OR_DISABLE_APPLICATION_COMPONENTS  \\\n0                             0                                         0   \n1                             0                                         0   \n2                             0                                         0   \n3                             0                                         0   \n4                             0                                         0   \n\n   FORCE_APPLICATION_TO_CLOSE  FORCE_DEVICE_REBOOT  FULL_INTERNET_ACCESS  \\\n0                           0                    0                     0   \n1                           0                    0                     0   \n2                           0                    0                     0   \n3                           0                    0                     0   \n4                           0                    0                     0   \n\n   INTERACT_WITH_A_DEVICE_ADMIN  MANAGE_APPLICATION_TOKENS  \\\n0                             0                          0   \n1                             0                          0   \n2                             0                          0   \n3                             0                          0   \n4                             0                          0   \n\n   MOCK_LOCATION_SOURCES_FOR_TESTING  MODIFY_BATTERY_STATISTICS  \\\n0                                  0                          0   \n1                                  0                          0   \n2                                  0                          0   \n3                                  0                          0   \n4                                  0                          0   \n\n   MODIFY_SECURE_SYSTEM_SETTINGS  MODIFY_THE_GOOGLE_SERVICES_MAP  \\\n0                              0                               0   \n1                              0                               0   \n2                              0                               0   \n3                              0                               0   \n4                              0                               0   \n\n   MODIFY/DELETE_USB_STORAGE_CONTENTS_MODIFY/DELETE_SD_CARD_CONTENTS  \\\n0                                                  0                   \n1                                                  0                   \n2                                                  0                   \n3                                                  0                   \n4                                                  0                   \n\n   MONITOR_AND_CONTROL_ALL_APPLICATION_LAUNCHING  PARTIAL_SHUTDOWN  \\\n0                                              0                 0   \n1                                              0                 0   \n2                                              0                 0   \n3                                              0                 0   \n4                                              0                 0   \n\n   PERMANENTLY_DISABLE_DEVICE  PERMISSION_TO_INSTALL_A_LOCATION_PROVIDER  \\\n0                           0                                          0   \n1                           0                                          0   \n2                           0                                          0   \n3                           0                                          0   \n4                           0                                          0   \n\n   POWER_DEVICE_ON_OR_OFF  PRESS_KEYS_AND_CONTROL_BUTTONS  \\\n0                       0                               0   \n1                       0                               0   \n2                       0                               0   \n3                       0                               0   \n4                       0                               0   \n\n   PREVENT_APP_SWITCHES  READ_FRAME_BUFFER  READ_INSTANT_MESSAGES  \\\n0                     0                  0                      0   \n1                     0                  0                      0   \n2                     0                  0                      0   \n3                     0                  0                      0   \n4                     0                  0                      0   \n\n   READ_PHONE_STATE_AND_IDENTITY  RECORD_WHAT_YOU_TYPE_AND_ACTIONS_YOU_TAKE  \\\n0                              0                                          0   \n1                              0                                          0   \n2                              0                                          0   \n3                              0                                          0   \n4                              0                                          0   \n\n   RESET_SYSTEM_TO_FACTORY_DEFAULTS  RUN_IN_FACTORY_TEST_MODE  SET_TIME  \\\n0                                 0                         0         0   \n1                                 0                         0         0   \n2                                 0                         0         0   \n3                                 0                         0         0   \n4                                 0                         0         0   \n\n   SET_WALLPAPER_SIZE_HINTS  START_IM_SERVICE  \\\n0                         0                 0   \n1                         0                 0   \n2                         0                 0   \n3                         0                 0   \n4                         0                 0   \n\n   UPDATE_COMPONENT_USAGE_STATISTICS  WRITE_CONTACT_DATA  \\\n0                                  0                   0   \n1                                  0                   0   \n2                                  0                   0   \n3                                  0                   0   \n4                                  0                   0   \n\n   WRITE_INSTANT_MESSAGES  ENABLE_APPLICATION_DEBUGGING  \\\n0                       0                             0   \n1                       0                             0   \n2                       0                             0   \n3                       0                             0   \n4                       0                             0   \n\n   LIMIT_NUMBER_OF_RUNNING_PROCESSES  MAKE_ALL_BACKGROUND_APPLICATIONS_CLOSE  \\\n0                                  0                                       0   \n1                                  0                                       0   \n2                                  0                                       0   \n3                                  0                                       0   \n4                                  0                                       0   \n\n   SEND_LINUX_SIGNALS_TO_APPLICATIONS  CHANGE_YOUR_AUDIO_SETTINGS  \\\n0                                   0                           0   \n1                                   0                           0   \n2                                   0                           0   \n3                                   0                           0   \n4                                   0                           0   \n\n   CONTROL_FLASHLIGHT  CONTROL_VIBRATOR  RECORD_AUDIO  \\\n0                   0                 0             0   \n1                   0                 1             0   \n2                   0                 0             0   \n3                   0                 1             0   \n4                   0                 0             0   \n\n   TAKE_PICTURES_AND_VIDEOS  TEST_HARDWARE  \\\n0                         0              0   \n1                         0              0   \n2                         1              0   \n3                         0              0   \n4                         0              0   \n\n   BROADCAST_DATA_MESSAGES_TO_APPLICATIONS  CONTROL_NEAR_FIELD_COMMUNICATION  \\\n0                                        0                                 0   \n1                                        0                                 0   \n2                                        0                                 0   \n3                                        0                                 0   \n4                                        0                                 0   \n\n   CREATE_BLUETOOTH_CONNECTIONS  DOWNLOAD_FILES_WITHOUT_NOTIFICATION  \\\n0                             0                                    0   \n1                             0                                    0   \n2                             0                                    0   \n3                             0                                    0   \n4                             0                                    0   \n\n   FULL_INTERNET_ACCESS.1  MAKE/RECEIVE_INTERNET_CALLS  \\\n0                       1                            0   \n1                       1                            0   \n2                       1                            0   \n3                       1                            0   \n4                       1                            0   \n\n   RECEIVE_DATA_FROM_INTERNET  VIEW_WI-FI_STATE  VIEW_NETWORK_STATE  \\\n0                           0                 0                   0   \n1                           0                 0                   1   \n2                           0                 0                   0   \n3                           0                 0                   0   \n4                           0                 1                   1   \n\n   INTERCEPT_OUTGOING_CALLS  MODIFY_PHONE_STATE  \\\n0                         0                   0   \n1                         0                   0   \n2                         0                   0   \n3                         0                   0   \n4                         0                   0   \n\n   READ_PHONE_STATE_AND_IDENTITY.1  DIRECTLY_CALL_PHONE_NUMBERS  \\\n0                                0                            0   \n1                                1                            0   \n2                                0                            0   \n3                                0                            0   \n4                                0                            0   \n\n   SEND_SMS_MESSAGES  \\\n0                  0   \n1                  1   \n2                  0   \n3                  0   \n4                  0   \n\n   MODIFY/DELETE_USB_STORAGE_CONTENTS_MODIFY/DELETE_SD_CARD_CONTENTS.1  \\\n0                                                  1                     \n1                                                  1                     \n2                                                  0                     \n3                                                  0                     \n4                                                  1                     \n\n   ALLOW_WI-FI_MULTICAST_RECEPTION  AUTOMATICALLY_START_AT_BOOT  \\\n0                                0                            1   \n1                                0                            1   \n2                                0                            0   \n3                                0                            0   \n4                                0                            0   \n\n   BLUETOOTH_ADMINISTRATION  CHANGE_WI-FI_STATE  \\\n0                         0                   0   \n1                         0                   0   \n2                         0                   0   \n3                         0                   0   \n4                         0                   0   \n\n   CHANGE_BACKGROUND_DATA_USAGE_SETTING  CHANGE_NETWORK_CONNECTIVITY  \\\n0                                     0                            0   \n1                                     0                            0   \n2                                     0                            0   \n3                                     0                            0   \n4                                     0                            0   \n\n   CHANGE_YOUR_UI_SETTINGS  DELETE_ALL_APPLICATION_CACHE_DATA  \\\n0                        0                                  0   \n1                        0                                  0   \n2                        0                                  0   \n3                        0                                  0   \n4                        0                                  0   \n\n   DISABLE_KEYLOCK  DISPLAY_SYSTEM-LEVEL_ALERTS  EXPAND/COLLAPSE_STATUS_BAR  \\\n0                0                            0                           0   \n1                0                            0                           0   \n2                0                            0                           0   \n3                0                            0                           0   \n4                0                            0                           0   \n\n   FORCE_STOP_OTHER_APPLICATIONS  FORMAT_EXTERNAL_STORAGE  \\\n0                              0                        0   \n1                              0                        0   \n2                              0                        0   \n3                              0                        0   \n4                              0                        0   \n\n   KILL_BACKGROUND_PROCESSES  MAKE_APPLICATION_ALWAYS_RUN  \\\n0                          0                            0   \n1                          0                            0   \n2                          0                            0   \n3                          0                            0   \n4                          0                            0   \n\n   MEASURE_APPLICATION_STORAGE_SPACE  MODIFY_GLOBAL_ANIMATION_SPEED  \\\n0                                  0                              0   \n1                                  0                              0   \n2                                  0                              0   \n3                                  0                              0   \n4                                  0                              0   \n\n   MODIFY_GLOBAL_SYSTEM_SETTINGS  MOUNT_AND_UNMOUNT_FILESYSTEMS  \\\n0                              0                              0   \n1                              0                              0   \n2                              0                              0   \n3                              0                              0   \n4                              0                              0   \n\n   PREVENT_DEVICE_FROM_SLEEPING  READ_SUBSCRIBED_FEEDS  READ_SYNC_SETTINGS  \\\n0                             1                      0                   0   \n1                             1                      0                   0   \n2                             0                      0                   0   \n3                             0                      0                   0   \n4                             1                      0                   0   \n\n   READ_SYNC_STATISTICS  READ/WRITE_TO_RESOURCES_OWNED_BY_DIAG  \\\n0                     0                                      0   \n1                     0                                      0   \n2                     0                                      0   \n3                     0                                      0   \n4                     0                                      0   \n\n   REORDER_RUNNING_APPLICATIONS  RETRIEVE_RUNNING_APPLICATIONS  \\\n0                             0                              0   \n1                             0                              0   \n2                             0                              0   \n3                             0                              0   \n4                             0                              0   \n\n   SEND_PACKAGE_REMOVED_BROADCAST  SEND_STICKY_BROADCAST  \\\n0                               0                      0   \n1                               0                      0   \n2                               0                      0   \n3                               0                      0   \n4                               0                      0   \n\n   SET_PREFERRED_APPLICATIONS  SET_TIME_ZONE  SET_WALLPAPER  \\\n0                           0              0              0   \n1                           0              0              0   \n2                           0              0              0   \n3                           0              0              0   \n4                           0              0              0   \n\n   SET_WALLPAPER_SIZE_HINTS.1  WRITE_ACCESS_POINT_NAME_SETTINGS  \\\n0                           0                                 0   \n1                           0                                 0   \n2                           0                                 0   \n3                           0                                 0   \n4                           0                                 0   \n\n   WRITE_SUBSCRIBED_FEEDS  WRITE_SYNC_SETTINGS  BLOGGER  GOOGLE_APP_ENGINE  \\\n0                       0                    0        0                  0   \n1                       0                    0        0                  0   \n2                       0                    0        0                  0   \n3                       0                    0        0                  0   \n4                       0                    0        0                  0   \n\n   GOOGLE_DOCS  GOOGLE_FINANCE  GOOGLE_MAPS  GOOGLE_SPREADSHEETS  \\\n0            0               0            0                    0   \n1            0               0            0                    0   \n2            0               0            0                    0   \n3            0               0            0                    0   \n4            0               0            0                    0   \n\n   GOOGLE_VOICE  GOOGLE_MAIL  PICASA_WEB_ALBUMS  YOUTUBE  YOUTUBE_USERNAMES  \\\n0             0            0                  0        0                  0   \n1             0            0                  0        0                  0   \n2             0            0                  0        0                  0   \n3             0            0                  0        0                  0   \n4             0            0                  0        0                  0   \n\n   ACCESS_ALL_GOOGLE_SERVICES  ACCESS_OTHER_GOOGLE_SERVICES  \\\n0                           0                             0   \n1                           0                             0   \n2                           0                             0   \n3                           0                             0   \n4                           0                             0   \n\n   ACT_AS_AN_ACCOUNT_AUTHENTICATOR.1  ACT_AS_THE_ACCOUNTMANAGERSERVICE  \\\n0                                  0                                 0   \n1                                  0                                 0   \n2                                  0                                 0   \n3                                  0                                 0   \n4                                  0                                 0   \n\n   CONTACTS_DATA_IN_GOOGLE_ACCOUNTS  DISCOVER_KNOWN_ACCOUNTS.1  \\\n0                                 0                          0   \n1                                 0                          0   \n2                                 0                          0   \n3                                 0                          0   \n4                                 0                          0   \n\n   MANAGE_THE_ACCOUNTS_LIST  READ_GOOGLE_SERVICE_CONFIGURATION  \\\n0                         0                                  0   \n1                         0                                  0   \n2                         0                                  0   \n3                         0                                  0   \n4                         0                                  0   \n\n   USE_THE_AUTHENTICATION_CREDENTIALS_OF_AN_ACCOUNT  VIEW_CONFIGURED_ACCOUNTS  \\\n0                                                 0                         0   \n1                                                 0                         0   \n2                                                 0                         0   \n3                                                 0                         0   \n4                                                 0                         0   \n\n   ACCESS_EXTRA_LOCATION_PROVIDER_COMMANDS  COARSE.1  FINE  \\\n0                                        0         0     0   \n1                                        0         0     0   \n2                                        0         0     0   \n3                                        0         0     0   \n4                                        0         0     0   \n\n   MOCK_LOCATION_SOURCES_FOR_TESTING.1  READ_EMAIL_ATTACHMENTS  SEND_GMAIL  \\\n0                                    0                       0           0   \n1                                    0                       0           0   \n2                                    0                       0           0   \n3                                    0                       0           0   \n4                                    0                       0           0   \n\n   EDIT_SMS_OR_MMS  MODIFY_GMAIL  READ_GMAIL  READ_GMAIL_ATTACHMENT_PREVIEWS  \\\n0                0             0           0                               0   \n1                0             0           0                               0   \n2                0             0           0                               0   \n3                0             0           0                               0   \n4                0             0           0                               0   \n\n   READ_SMS_OR_MMS  READ_INSTANT_MESSAGES.1  RECEIVE_MMS  RECEIVE_SMS  \\\n0                0                        0            0            0   \n1                0                        0            0            0   \n2                0                        0            0            0   \n3                0                        0            0            0   \n4                0                        0            0            0   \n\n   RECEIVE_WAP  SEND_SMS-RECEIVED_BROADCAST  SEND_WAP-PUSH-RECEIVED_BROADCAST  \\\n0            0                            0                                 0   \n1            0                            0                                 0   \n2            0                            0                                 0   \n3            0                            0                                 0   \n4            0                            0                                 0   \n\n   WRITE_INSTANT_MESSAGES.1  \\\n0                         0   \n1                         0   \n2                         0   \n3                         0   \n4                         0   \n\n   ADD_OR_MODIFY_CALENDAR_EVENTS_AND_SEND_EMAIL_TO_GUESTS  CHOOSE_WIDGETS  \\\n0                                                  0                    0   \n1                                                  0                    0   \n2                                                  0                    0   \n3                                                  0                    0   \n4                                                  0                    0   \n\n   READ_BROWSERS_HISTORY_AND_BOOKMARKS  READ_CALENDAR_EVENTS  \\\n0                                    0                     0   \n1                                    0                     0   \n2                                    0                     0   \n3                                    0                     0   \n4                                    0                     0   \n\n   READ_CONTACT_DATA  READ_SENSITIVE_LOG_DATA  READ_USER_DEFINED_DICTIONARY  \\\n0                  0                        1                             0   \n1                  0                        0                             0   \n2                  1                        0                             0   \n3                  0                        0                             0   \n4                  0                        0                             0   \n\n   RETRIEVE_SYSTEM_INTERNAL_STATE  SET_ALARM_IN_ALARM_CLOCK  \\\n0                               0                         0   \n1                               0                         0   \n2                               0                         0   \n3                               0                         0   \n4                               0                         0   \n\n   WRITE_BROWSERS_HISTORY_AND_BOOKMARKS  WRITE_CONTACT_DATA.1  \\\n0                                     0                     0   \n1                                     0                     0   \n2                                     0                     0   \n3                                     0                     0   \n4                                     0                     0   \n\n   WRITE_TO_USER_DEFINED_DICTIONARY  class  \n0                                 0      0  \n1                                 0      1  \n2                                 0      1  \n3                                 0      1  \n4                                 0      0  ",
      "text/html": "<div>\n<style scoped>\n    .dataframe tbody tr th:only-of-type {\n        vertical-align: middle;\n    }\n\n    .dataframe tbody tr th {\n        vertical-align: top;\n    }\n\n    .dataframe thead th {\n        text-align: right;\n    }\n</style>\n<table border=\"1\" class=\"dataframe\">\n  <thead>\n    <tr style=\"text-align: right;\">\n      <th></th>\n      <th>ACCESS_DRM_CONTENT</th>\n      <th>ACCESS_EMAIL_PROVIDER_DATA</th>\n      <th>ACCESS_ALL_SYSTEM_DOWNLOADS</th>\n      <th>ACCESS_DOWNLOAD_MANAGER</th>\n      <th>ADVANCED_DOWNLOAD_MANAGER_FUNCTIONS</th>\n      <th>AUDIO_FILE_ACCESS</th>\n      <th>INSTALL_DRM_CONTENT</th>\n      <th>MODIFY_GOOGLE_SERVICE_CONFIGURATION</th>\n      <th>MODIFY_GOOGLE_SETTINGS</th>\n      <th>MOVE_APPLICATION_RESOURCES</th>\n      <th>READ_GOOGLE_SETTINGS</th>\n      <th>SEND_DOWNLOAD_NOTIFICATIONS</th>\n      <th>VOICE_SEARCH_SHORTCUTS</th>\n      <th>ACCESS_SURFACEFLINGER</th>\n      <th>ACCESS_CHECKIN_PROPERTIES</th>\n      <th>ACCESS_THE_CACHE_FILESYSTEM</th>\n      <th>ACCESS_TO_PASSWORDS_FOR_GOOGLE_ACCOUNTS</th>\n      <th>ACT_AS_AN_ACCOUNT_AUTHENTICATOR</th>\n      <th>BIND_TO_A_WALLPAPER</th>\n      <th>BIND_TO_AN_INPUT_METHOD</th>\n      <th>CHANGE_SCREEN_ORIENTATION</th>\n      <th>COARSE</th>\n      <th>CONTROL_LOCATION_UPDATE_NOTIFICATIONS</th>\n      <th>CONTROL_SYSTEM_BACKUP_AND_RESTORE</th>\n      <th>DELETE_APPLICATIONS</th>\n      <th>DELETE_OTHER_APPLICATIONS_CACHES</th>\n      <th>DELETE_OTHER_APPLICATIONS_DATA</th>\n      <th>DIRECTLY_CALL_ANY_PHONE_NUMBERS</th>\n      <th>DIRECTLY_INSTALL_APPLICATIONS</th>\n      <th>DISABLE_OR_MODIFY_STATUS_BAR</th>\n      <th>DISCOVER_KNOWN_ACCOUNTS</th>\n      <th>DISPLAY_UNAUTHORIZED_WINDOWS</th>\n      <th>ENABLE_OR_DISABLE_APPLICATION_COMPONENTS</th>\n      <th>FORCE_APPLICATION_TO_CLOSE</th>\n      <th>FORCE_DEVICE_REBOOT</th>\n      <th>FULL_INTERNET_ACCESS</th>\n      <th>INTERACT_WITH_A_DEVICE_ADMIN</th>\n      <th>MANAGE_APPLICATION_TOKENS</th>\n      <th>MOCK_LOCATION_SOURCES_FOR_TESTING</th>\n      <th>MODIFY_BATTERY_STATISTICS</th>\n      <th>MODIFY_SECURE_SYSTEM_SETTINGS</th>\n      <th>MODIFY_THE_GOOGLE_SERVICES_MAP</th>\n      <th>MODIFY/DELETE_USB_STORAGE_CONTENTS_MODIFY/DELETE_SD_CARD_CONTENTS</th>\n      <th>MONITOR_AND_CONTROL_ALL_APPLICATION_LAUNCHING</th>\n      <th>PARTIAL_SHUTDOWN</th>\n      <th>PERMANENTLY_DISABLE_DEVICE</th>\n      <th>PERMISSION_TO_INSTALL_A_LOCATION_PROVIDER</th>\n      <th>POWER_DEVICE_ON_OR_OFF</th>\n      <th>PRESS_KEYS_AND_CONTROL_BUTTONS</th>\n      <th>PREVENT_APP_SWITCHES</th>\n      <th>READ_FRAME_BUFFER</th>\n      <th>READ_INSTANT_MESSAGES</th>\n      <th>READ_PHONE_STATE_AND_IDENTITY</th>\n      <th>RECORD_WHAT_YOU_TYPE_AND_ACTIONS_YOU_TAKE</th>\n      <th>RESET_SYSTEM_TO_FACTORY_DEFAULTS</th>\n      <th>RUN_IN_FACTORY_TEST_MODE</th>\n      <th>SET_TIME</th>\n      <th>SET_WALLPAPER_SIZE_HINTS</th>\n      <th>START_IM_SERVICE</th>\n      <th>UPDATE_COMPONENT_USAGE_STATISTICS</th>\n      <th>WRITE_CONTACT_DATA</th>\n      <th>WRITE_INSTANT_MESSAGES</th>\n      <th>ENABLE_APPLICATION_DEBUGGING</th>\n      <th>LIMIT_NUMBER_OF_RUNNING_PROCESSES</th>\n      <th>MAKE_ALL_BACKGROUND_APPLICATIONS_CLOSE</th>\n      <th>SEND_LINUX_SIGNALS_TO_APPLICATIONS</th>\n      <th>CHANGE_YOUR_AUDIO_SETTINGS</th>\n      <th>CONTROL_FLASHLIGHT</th>\n      <th>CONTROL_VIBRATOR</th>\n      <th>RECORD_AUDIO</th>\n      <th>TAKE_PICTURES_AND_VIDEOS</th>\n      <th>TEST_HARDWARE</th>\n      <th>BROADCAST_DATA_MESSAGES_TO_APPLICATIONS</th>\n      <th>CONTROL_NEAR_FIELD_COMMUNICATION</th>\n      <th>CREATE_BLUETOOTH_CONNECTIONS</th>\n      <th>DOWNLOAD_FILES_WITHOUT_NOTIFICATION</th>\n      <th>FULL_INTERNET_ACCESS.1</th>\n      <th>MAKE/RECEIVE_INTERNET_CALLS</th>\n      <th>RECEIVE_DATA_FROM_INTERNET</th>\n      <th>VIEW_WI-FI_STATE</th>\n      <th>VIEW_NETWORK_STATE</th>\n      <th>INTERCEPT_OUTGOING_CALLS</th>\n      <th>MODIFY_PHONE_STATE</th>\n      <th>READ_PHONE_STATE_AND_IDENTITY.1</th>\n      <th>DIRECTLY_CALL_PHONE_NUMBERS</th>\n      <th>SEND_SMS_MESSAGES</th>\n      <th>MODIFY/DELETE_USB_STORAGE_CONTENTS_MODIFY/DELETE_SD_CARD_CONTENTS.1</th>\n      <th>ALLOW_WI-FI_MULTICAST_RECEPTION</th>\n      <th>AUTOMATICALLY_START_AT_BOOT</th>\n      <th>BLUETOOTH_ADMINISTRATION</th>\n      <th>CHANGE_WI-FI_STATE</th>\n      <th>CHANGE_BACKGROUND_DATA_USAGE_SETTING</th>\n      <th>CHANGE_NETWORK_CONNECTIVITY</th>\n      <th>CHANGE_YOUR_UI_SETTINGS</th>\n      <th>DELETE_ALL_APPLICATION_CACHE_DATA</th>\n      <th>DISABLE_KEYLOCK</th>\n      <th>DISPLAY_SYSTEM-LEVEL_ALERTS</th>\n      <th>EXPAND/COLLAPSE_STATUS_BAR</th>\n      <th>FORCE_STOP_OTHER_APPLICATIONS</th>\n      <th>FORMAT_EXTERNAL_STORAGE</th>\n      <th>KILL_BACKGROUND_PROCESSES</th>\n      <th>MAKE_APPLICATION_ALWAYS_RUN</th>\n      <th>MEASURE_APPLICATION_STORAGE_SPACE</th>\n      <th>MODIFY_GLOBAL_ANIMATION_SPEED</th>\n      <th>MODIFY_GLOBAL_SYSTEM_SETTINGS</th>\n      <th>MOUNT_AND_UNMOUNT_FILESYSTEMS</th>\n      <th>PREVENT_DEVICE_FROM_SLEEPING</th>\n      <th>READ_SUBSCRIBED_FEEDS</th>\n      <th>READ_SYNC_SETTINGS</th>\n      <th>READ_SYNC_STATISTICS</th>\n      <th>READ/WRITE_TO_RESOURCES_OWNED_BY_DIAG</th>\n      <th>REORDER_RUNNING_APPLICATIONS</th>\n      <th>RETRIEVE_RUNNING_APPLICATIONS</th>\n      <th>SEND_PACKAGE_REMOVED_BROADCAST</th>\n      <th>SEND_STICKY_BROADCAST</th>\n      <th>SET_PREFERRED_APPLICATIONS</th>\n      <th>SET_TIME_ZONE</th>\n      <th>SET_WALLPAPER</th>\n      <th>SET_WALLPAPER_SIZE_HINTS.1</th>\n      <th>WRITE_ACCESS_POINT_NAME_SETTINGS</th>\n      <th>WRITE_SUBSCRIBED_FEEDS</th>\n      <th>WRITE_SYNC_SETTINGS</th>\n      <th>BLOGGER</th>\n      <th>GOOGLE_APP_ENGINE</th>\n      <th>GOOGLE_DOCS</th>\n      <th>GOOGLE_FINANCE</th>\n      <th>GOOGLE_MAPS</th>\n      <th>GOOGLE_SPREADSHEETS</th>\n      <th>GOOGLE_VOICE</th>\n      <th>GOOGLE_MAIL</th>\n      <th>PICASA_WEB_ALBUMS</th>\n      <th>YOUTUBE</th>\n      <th>YOUTUBE_USERNAMES</th>\n      <th>ACCESS_ALL_GOOGLE_SERVICES</th>\n      <th>ACCESS_OTHER_GOOGLE_SERVICES</th>\n      <th>ACT_AS_AN_ACCOUNT_AUTHENTICATOR.1</th>\n      <th>ACT_AS_THE_ACCOUNTMANAGERSERVICE</th>\n      <th>CONTACTS_DATA_IN_GOOGLE_ACCOUNTS</th>\n      <th>DISCOVER_KNOWN_ACCOUNTS.1</th>\n      <th>MANAGE_THE_ACCOUNTS_LIST</th>\n      <th>READ_GOOGLE_SERVICE_CONFIGURATION</th>\n      <th>USE_THE_AUTHENTICATION_CREDENTIALS_OF_AN_ACCOUNT</th>\n      <th>VIEW_CONFIGURED_ACCOUNTS</th>\n      <th>ACCESS_EXTRA_LOCATION_PROVIDER_COMMANDS</th>\n      <th>COARSE.1</th>\n      <th>FINE</th>\n      <th>MOCK_LOCATION_SOURCES_FOR_TESTING.1</th>\n      <th>READ_EMAIL_ATTACHMENTS</th>\n      <th>SEND_GMAIL</th>\n      <th>EDIT_SMS_OR_MMS</th>\n      <th>MODIFY_GMAIL</th>\n      <th>READ_GMAIL</th>\n      <th>READ_GMAIL_ATTACHMENT_PREVIEWS</th>\n      <th>READ_SMS_OR_MMS</th>\n      <th>READ_INSTANT_MESSAGES.1</th>\n      <th>RECEIVE_MMS</th>\n      <th>RECEIVE_SMS</th>\n      <th>RECEIVE_WAP</th>\n      <th>SEND_SMS-RECEIVED_BROADCAST</th>\n      <th>SEND_WAP-PUSH-RECEIVED_BROADCAST</th>\n      <th>WRITE_INSTANT_MESSAGES.1</th>\n      <th>ADD_OR_MODIFY_CALENDAR_EVENTS_AND_SEND_EMAIL_TO_GUESTS</th>\n      <th>CHOOSE_WIDGETS</th>\n      <th>READ_BROWSERS_HISTORY_AND_BOOKMARKS</th>\n      <th>READ_CALENDAR_EVENTS</th>\n      <th>READ_CONTACT_DATA</th>\n      <th>READ_SENSITIVE_LOG_DATA</th>\n      <th>READ_USER_DEFINED_DICTIONARY</th>\n      <th>RETRIEVE_SYSTEM_INTERNAL_STATE</th>\n      <th>SET_ALARM_IN_ALARM_CLOCK</th>\n      <th>WRITE_BROWSERS_HISTORY_AND_BOOKMARKS</th>\n      <th>WRITE_CONTACT_DATA.1</th>\n      <th>WRITE_TO_USER_DEFINED_DICTIONARY</th>\n      <th>class</th>\n    </tr>\n  </thead>\n  <tbody>\n    <tr>\n      <th>0</th>\n      <td>0</td>\n      <td>0</td>\n      <td>0</td>\n      <td>0</td>\n      <td>0</td>\n      <td>0</td>\n      <td>0</td>\n      <td>0</td>\n      <td>0</td>\n      <td>0</td>\n      <td>0</td>\n      <td>0</td>\n      <td>0</td>\n      <td>0</td>\n      <td>0</td>\n      <td>0</td>\n      <td>0</td>\n      <td>0</td>\n      <td>0</td>\n      <td>0</td>\n      <td>0</td>\n      <td>0</td>\n      <td>0</td>\n      <td>0</td>\n      <td>0</td>\n      <td>0</td>\n      <td>0</td>\n      <td>0</td>\n      <td>0</td>\n      <td>0</td>\n      <td>0</td>\n      <td>0</td>\n      <td>0</td>\n      <td>0</td>\n      <td>0</td>\n      <td>0</td>\n      <td>0</td>\n      <td>0</td>\n      <td>0</td>\n      <td>0</td>\n      <td>0</td>\n      <td>0</td>\n      <td>0</td>\n      <td>0</td>\n      <td>0</td>\n      <td>0</td>\n      <td>0</td>\n      <td>0</td>\n      <td>0</td>\n      <td>0</td>\n      <td>0</td>\n      <td>0</td>\n      <td>0</td>\n      <td>0</td>\n      <td>0</td>\n      <td>0</td>\n      <td>0</td>\n      <td>0</td>\n      <td>0</td>\n      <td>0</td>\n      <td>0</td>\n      <td>0</td>\n      <td>0</td>\n      <td>0</td>\n      <td>0</td>\n      <td>0</td>\n      <td>0</td>\n      <td>0</td>\n      <td>0</td>\n      <td>0</td>\n      <td>0</td>\n      <td>0</td>\n      <td>0</td>\n      <td>0</td>\n      <td>0</td>\n      <td>0</td>\n      <td>1</td>\n      <td>0</td>\n      <td>0</td>\n      <td>0</td>\n      <td>0</td>\n      <td>0</td>\n      <td>0</td>\n      <td>0</td>\n      <td>0</td>\n      <td>0</td>\n      <td>1</td>\n      <td>0</td>\n      <td>1</td>\n      <td>0</td>\n      <td>0</td>\n      <td>0</td>\n      <td>0</td>\n      <td>0</td>\n      <td>0</td>\n      <td>0</td>\n      <td>0</td>\n      <td>0</td>\n      <td>0</td>\n      <td>0</td>\n      <td>0</td>\n      <td>0</td>\n      <td>0</td>\n      <td>0</td>\n      <td>0</td>\n      <td>0</td>\n      <td>1</td>\n      <td>0</td>\n      <td>0</td>\n      <td>0</td>\n      <td>0</td>\n      <td>0</td>\n      <td>0</td>\n      <td>0</td>\n      <td>0</td>\n      <td>0</td>\n      <td>0</td>\n      <td>0</td>\n      <td>0</td>\n      <td>0</td>\n      <td>0</td>\n      <td>0</td>\n      <td>0</td>\n      <td>0</td>\n      <td>0</td>\n      <td>0</td>\n      <td>0</td>\n      <td>0</td>\n      <td>0</td>\n      <td>0</td>\n      <td>0</td>\n      <td>0</td>\n      <td>0</td>\n      <td>0</td>\n      <td>0</td>\n      <td>0</td>\n      <td>0</td>\n      <td>0</td>\n      <td>0</td>\n      <td>0</td>\n      <td>0</td>\n      <td>0</td>\n      <td>0</td>\n      <td>0</td>\n      <td>0</td>\n      <td>0</td>\n      <td>0</td>\n      <td>0</td>\n      <td>0</td>\n      <td>0</td>\n      <td>0</td>\n      <td>0</td>\n      <td>0</td>\n      <td>0</td>\n      <td>0</td>\n      <td>0</td>\n      <td>0</td>\n      <td>0</td>\n      <td>0</td>\n      <td>0</td>\n      <td>0</td>\n      <td>0</td>\n      <td>0</td>\n      <td>0</td>\n      <td>0</td>\n      <td>0</td>\n      <td>1</td>\n      <td>0</td>\n      <td>0</td>\n      <td>0</td>\n      <td>0</td>\n      <td>0</td>\n      <td>0</td>\n      <td>0</td>\n    </tr>\n    <tr>\n      <th>1</th>\n      <td>0</td>\n      <td>0</td>\n      <td>0</td>\n      <td>0</td>\n      <td>0</td>\n      <td>0</td>\n      <td>0</td>\n      <td>0</td>\n      <td>0</td>\n      <td>0</td>\n      <td>0</td>\n      <td>0</td>\n      <td>0</td>\n      <td>0</td>\n      <td>0</td>\n      <td>0</td>\n      <td>0</td>\n      <td>0</td>\n      <td>0</td>\n      <td>0</td>\n      <td>0</td>\n      <td>0</td>\n      <td>0</td>\n      <td>0</td>\n      <td>0</td>\n      <td>0</td>\n      <td>0</td>\n      <td>0</td>\n      <td>0</td>\n      <td>0</td>\n      <td>0</td>\n      <td>0</td>\n      <td>0</td>\n      <td>0</td>\n      <td>0</td>\n      <td>0</td>\n      <td>0</td>\n      <td>0</td>\n      <td>0</td>\n      <td>0</td>\n      <td>0</td>\n      <td>0</td>\n      <td>0</td>\n      <td>0</td>\n      <td>0</td>\n      <td>0</td>\n      <td>0</td>\n      <td>0</td>\n      <td>0</td>\n      <td>0</td>\n      <td>0</td>\n      <td>0</td>\n      <td>0</td>\n      <td>0</td>\n      <td>0</td>\n      <td>0</td>\n      <td>0</td>\n      <td>0</td>\n      <td>0</td>\n      <td>0</td>\n      <td>0</td>\n      <td>0</td>\n      <td>0</td>\n      <td>0</td>\n      <td>0</td>\n      <td>0</td>\n      <td>0</td>\n      <td>0</td>\n      <td>1</td>\n      <td>0</td>\n      <td>0</td>\n      <td>0</td>\n      <td>0</td>\n      <td>0</td>\n      <td>0</td>\n      <td>0</td>\n      <td>1</td>\n      <td>0</td>\n      <td>0</td>\n      <td>0</td>\n      <td>1</td>\n      <td>0</td>\n      <td>0</td>\n      <td>1</td>\n      <td>0</td>\n      <td>1</td>\n      <td>1</td>\n      <td>0</td>\n      <td>1</td>\n      <td>0</td>\n      <td>0</td>\n      <td>0</td>\n      <td>0</td>\n      <td>0</td>\n      <td>0</td>\n      <td>0</td>\n      <td>0</td>\n      <td>0</td>\n      <td>0</td>\n      <td>0</td>\n      <td>0</td>\n      <td>0</td>\n      <td>0</td>\n      <td>0</td>\n      <td>0</td>\n      <td>0</td>\n      <td>1</td>\n      <td>0</td>\n      <td>0</td>\n      <td>0</td>\n      <td>0</td>\n      <td>0</td>\n      <td>0</td>\n      <td>0</td>\n      <td>0</td>\n      <td>0</td>\n      <td>0</td>\n      <td>0</td>\n      <td>0</td>\n      <td>0</td>\n      <td>0</td>\n      <td>0</td>\n      <td>0</td>\n      <td>0</td>\n      <td>0</td>\n      <td>0</td>\n      <td>0</td>\n      <td>0</td>\n      <td>0</td>\n      <td>0</td>\n      <td>0</td>\n      <td>0</td>\n      <td>0</td>\n      <td>0</td>\n      <td>0</td>\n      <td>0</td>\n      <td>0</td>\n      <td>0</td>\n      <td>0</td>\n      <td>0</td>\n      <td>0</td>\n      <td>0</td>\n      <td>0</td>\n      <td>0</td>\n      <td>0</td>\n      <td>0</td>\n      <td>0</td>\n      <td>0</td>\n      <td>0</td>\n      <td>0</td>\n      <td>0</td>\n      <td>0</td>\n      <td>0</td>\n      <td>0</td>\n      <td>0</td>\n      <td>0</td>\n      <td>0</td>\n      <td>0</td>\n      <td>0</td>\n      <td>0</td>\n      <td>0</td>\n      <td>0</td>\n      <td>0</td>\n      <td>0</td>\n      <td>0</td>\n      <td>0</td>\n      <td>0</td>\n      <td>0</td>\n      <td>0</td>\n      <td>0</td>\n      <td>0</td>\n      <td>0</td>\n      <td>0</td>\n      <td>1</td>\n    </tr>\n    <tr>\n      <th>2</th>\n      <td>0</td>\n      <td>0</td>\n      <td>0</td>\n      <td>0</td>\n      <td>0</td>\n      <td>0</td>\n      <td>0</td>\n      <td>0</td>\n      <td>0</td>\n      <td>0</td>\n      <td>0</td>\n      <td>0</td>\n      <td>0</td>\n      <td>0</td>\n      <td>0</td>\n      <td>0</td>\n      <td>0</td>\n      <td>0</td>\n      <td>0</td>\n      <td>0</td>\n      <td>0</td>\n      <td>0</td>\n      <td>0</td>\n      <td>0</td>\n      <td>0</td>\n      <td>0</td>\n      <td>0</td>\n      <td>0</td>\n      <td>0</td>\n      <td>0</td>\n      <td>0</td>\n      <td>0</td>\n      <td>0</td>\n      <td>0</td>\n      <td>0</td>\n      <td>0</td>\n      <td>0</td>\n      <td>0</td>\n      <td>0</td>\n      <td>0</td>\n      <td>0</td>\n      <td>0</td>\n      <td>0</td>\n      <td>0</td>\n      <td>0</td>\n      <td>0</td>\n      <td>0</td>\n      <td>0</td>\n      <td>0</td>\n      <td>0</td>\n      <td>0</td>\n      <td>0</td>\n      <td>0</td>\n      <td>0</td>\n      <td>0</td>\n      <td>0</td>\n      <td>0</td>\n      <td>0</td>\n      <td>0</td>\n      <td>0</td>\n      <td>0</td>\n      <td>0</td>\n      <td>0</td>\n      <td>0</td>\n      <td>0</td>\n      <td>0</td>\n      <td>0</td>\n      <td>0</td>\n      <td>0</td>\n      <td>0</td>\n      <td>1</td>\n      <td>0</td>\n      <td>0</td>\n      <td>0</td>\n      <td>0</td>\n      <td>0</td>\n      <td>1</td>\n      <td>0</td>\n      <td>0</td>\n      <td>0</td>\n      <td>0</td>\n      <td>0</td>\n      <td>0</td>\n      <td>0</td>\n      <td>0</td>\n      <td>0</td>\n      <td>0</td>\n      <td>0</td>\n      <td>0</td>\n      <td>0</td>\n      <td>0</td>\n      <td>0</td>\n      <td>0</td>\n      <td>0</td>\n      <td>0</td>\n      <td>0</td>\n      <td>0</td>\n      <td>0</td>\n      <td>0</td>\n      <td>0</td>\n      <td>0</td>\n      <td>0</td>\n      <td>0</td>\n      <td>0</td>\n      <td>0</td>\n      <td>0</td>\n      <td>0</td>\n      <td>0</td>\n      <td>0</td>\n      <td>0</td>\n      <td>0</td>\n      <td>0</td>\n      <td>0</td>\n      <td>0</td>\n      <td>0</td>\n      <td>0</td>\n      <td>0</td>\n      <td>0</td>\n      <td>0</td>\n      <td>0</td>\n      <td>0</td>\n      <td>0</td>\n      <td>0</td>\n      <td>0</td>\n      <td>0</td>\n      <td>0</td>\n      <td>0</td>\n      <td>0</td>\n      <td>0</td>\n      <td>0</td>\n      <td>0</td>\n      <td>0</td>\n      <td>0</td>\n      <td>0</td>\n      <td>0</td>\n      <td>0</td>\n      <td>0</td>\n      <td>0</td>\n      <td>0</td>\n      <td>0</td>\n      <td>0</td>\n      <td>0</td>\n      <td>0</td>\n      <td>0</td>\n      <td>0</td>\n      <td>0</td>\n      <td>0</td>\n      <td>0</td>\n      <td>0</td>\n      <td>0</td>\n      <td>0</td>\n      <td>0</td>\n      <td>0</td>\n      <td>0</td>\n      <td>0</td>\n      <td>0</td>\n      <td>0</td>\n      <td>0</td>\n      <td>0</td>\n      <td>0</td>\n      <td>0</td>\n      <td>0</td>\n      <td>0</td>\n      <td>0</td>\n      <td>0</td>\n      <td>1</td>\n      <td>0</td>\n      <td>0</td>\n      <td>0</td>\n      <td>0</td>\n      <td>0</td>\n      <td>0</td>\n      <td>0</td>\n      <td>1</td>\n    </tr>\n    <tr>\n      <th>3</th>\n      <td>0</td>\n      <td>0</td>\n      <td>0</td>\n      <td>0</td>\n      <td>0</td>\n      <td>0</td>\n      <td>0</td>\n      <td>0</td>\n      <td>0</td>\n      <td>0</td>\n      <td>0</td>\n      <td>0</td>\n      <td>0</td>\n      <td>0</td>\n      <td>0</td>\n      <td>0</td>\n      <td>0</td>\n      <td>0</td>\n      <td>0</td>\n      <td>0</td>\n      <td>0</td>\n      <td>0</td>\n      <td>0</td>\n      <td>0</td>\n      <td>0</td>\n      <td>0</td>\n      <td>0</td>\n      <td>0</td>\n      <td>0</td>\n      <td>0</td>\n      <td>0</td>\n      <td>0</td>\n      <td>0</td>\n      <td>0</td>\n      <td>0</td>\n      <td>0</td>\n      <td>0</td>\n      <td>0</td>\n      <td>0</td>\n      <td>0</td>\n      <td>0</td>\n      <td>0</td>\n      <td>0</td>\n      <td>0</td>\n      <td>0</td>\n      <td>0</td>\n      <td>0</td>\n      <td>0</td>\n      <td>0</td>\n      <td>0</td>\n      <td>0</td>\n      <td>0</td>\n      <td>0</td>\n      <td>0</td>\n      <td>0</td>\n      <td>0</td>\n      <td>0</td>\n      <td>0</td>\n      <td>0</td>\n      <td>0</td>\n      <td>0</td>\n      <td>0</td>\n      <td>0</td>\n      <td>0</td>\n      <td>0</td>\n      <td>0</td>\n      <td>0</td>\n      <td>0</td>\n      <td>1</td>\n      <td>0</td>\n      <td>0</td>\n      <td>0</td>\n      <td>0</td>\n      <td>0</td>\n      <td>0</td>\n      <td>0</td>\n      <td>1</td>\n      <td>0</td>\n      <td>0</td>\n      <td>0</td>\n      <td>0</td>\n      <td>0</td>\n      <td>0</td>\n      <td>0</td>\n      <td>0</td>\n      <td>0</td>\n      <td>0</td>\n      <td>0</td>\n      <td>0</td>\n      <td>0</td>\n      <td>0</td>\n      <td>0</td>\n      <td>0</td>\n      <td>0</td>\n      <td>0</td>\n      <td>0</td>\n      <td>0</td>\n      <td>0</td>\n      <td>0</td>\n      <td>0</td>\n      <td>0</td>\n      <td>0</td>\n      <td>0</td>\n      <td>0</td>\n      <td>0</td>\n      <td>0</td>\n      <td>0</td>\n      <td>0</td>\n      <td>0</td>\n      <td>0</td>\n      <td>0</td>\n      <td>0</td>\n      <td>0</td>\n      <td>0</td>\n      <td>0</td>\n      <td>0</td>\n      <td>0</td>\n      <td>0</td>\n      <td>0</td>\n      <td>0</td>\n      <td>0</td>\n      <td>0</td>\n      <td>0</td>\n      <td>0</td>\n      <td>0</td>\n      <td>0</td>\n      <td>0</td>\n      <td>0</td>\n      <td>0</td>\n      <td>0</td>\n      <td>0</td>\n      <td>0</td>\n      <td>0</td>\n      <td>0</td>\n      <td>0</td>\n      <td>0</td>\n      <td>0</td>\n      <td>0</td>\n      <td>0</td>\n      <td>0</td>\n      <td>0</td>\n      <td>0</td>\n      <td>0</td>\n      <td>0</td>\n      <td>0</td>\n      <td>0</td>\n      <td>0</td>\n      <td>0</td>\n      <td>0</td>\n      <td>0</td>\n      <td>0</td>\n      <td>0</td>\n      <td>0</td>\n      <td>0</td>\n      <td>0</td>\n      <td>0</td>\n      <td>0</td>\n      <td>0</td>\n      <td>0</td>\n      <td>0</td>\n      <td>0</td>\n      <td>0</td>\n      <td>0</td>\n      <td>0</td>\n      <td>0</td>\n      <td>0</td>\n      <td>0</td>\n      <td>0</td>\n      <td>0</td>\n      <td>0</td>\n      <td>0</td>\n      <td>0</td>\n      <td>0</td>\n      <td>1</td>\n    </tr>\n    <tr>\n      <th>4</th>\n      <td>0</td>\n      <td>0</td>\n      <td>0</td>\n      <td>0</td>\n      <td>0</td>\n      <td>0</td>\n      <td>0</td>\n      <td>0</td>\n      <td>0</td>\n      <td>0</td>\n      <td>0</td>\n      <td>0</td>\n      <td>0</td>\n      <td>0</td>\n      <td>0</td>\n      <td>0</td>\n      <td>0</td>\n      <td>0</td>\n      <td>0</td>\n      <td>0</td>\n      <td>0</td>\n      <td>0</td>\n      <td>0</td>\n      <td>0</td>\n      <td>0</td>\n      <td>0</td>\n      <td>0</td>\n      <td>0</td>\n      <td>0</td>\n      <td>0</td>\n      <td>0</td>\n      <td>0</td>\n      <td>0</td>\n      <td>0</td>\n      <td>0</td>\n      <td>0</td>\n      <td>0</td>\n      <td>0</td>\n      <td>0</td>\n      <td>0</td>\n      <td>0</td>\n      <td>0</td>\n      <td>0</td>\n      <td>0</td>\n      <td>0</td>\n      <td>0</td>\n      <td>0</td>\n      <td>0</td>\n      <td>0</td>\n      <td>0</td>\n      <td>0</td>\n      <td>0</td>\n      <td>0</td>\n      <td>0</td>\n      <td>0</td>\n      <td>0</td>\n      <td>0</td>\n      <td>0</td>\n      <td>0</td>\n      <td>0</td>\n      <td>0</td>\n      <td>0</td>\n      <td>0</td>\n      <td>0</td>\n      <td>0</td>\n      <td>0</td>\n      <td>0</td>\n      <td>0</td>\n      <td>0</td>\n      <td>0</td>\n      <td>0</td>\n      <td>0</td>\n      <td>0</td>\n      <td>0</td>\n      <td>0</td>\n      <td>0</td>\n      <td>1</td>\n      <td>0</td>\n      <td>0</td>\n      <td>1</td>\n      <td>1</td>\n      <td>0</td>\n      <td>0</td>\n      <td>0</td>\n      <td>0</td>\n      <td>0</td>\n      <td>1</td>\n      <td>0</td>\n      <td>0</td>\n      <td>0</td>\n      <td>0</td>\n      <td>0</td>\n      <td>0</td>\n      <td>0</td>\n      <td>0</td>\n      <td>0</td>\n      <td>0</td>\n      <td>0</td>\n      <td>0</td>\n      <td>0</td>\n      <td>0</td>\n      <td>0</td>\n      <td>0</td>\n      <td>0</td>\n      <td>0</td>\n      <td>0</td>\n      <td>1</td>\n      <td>0</td>\n      <td>0</td>\n      <td>0</td>\n      <td>0</td>\n      <td>0</td>\n      <td>0</td>\n      <td>0</td>\n      <td>0</td>\n      <td>0</td>\n      <td>0</td>\n      <td>0</td>\n      <td>0</td>\n      <td>0</td>\n      <td>0</td>\n      <td>0</td>\n      <td>0</td>\n      <td>0</td>\n      <td>0</td>\n      <td>0</td>\n      <td>0</td>\n      <td>0</td>\n      <td>0</td>\n      <td>0</td>\n      <td>0</td>\n      <td>0</td>\n      <td>0</td>\n      <td>0</td>\n      <td>0</td>\n      <td>0</td>\n      <td>0</td>\n      <td>0</td>\n      <td>0</td>\n      <td>0</td>\n      <td>0</td>\n      <td>0</td>\n      <td>0</td>\n      <td>0</td>\n      <td>0</td>\n      <td>0</td>\n      <td>0</td>\n      <td>0</td>\n      <td>0</td>\n      <td>0</td>\n      <td>0</td>\n      <td>0</td>\n      <td>0</td>\n      <td>0</td>\n      <td>0</td>\n      <td>0</td>\n      <td>0</td>\n      <td>0</td>\n      <td>0</td>\n      <td>0</td>\n      <td>0</td>\n      <td>0</td>\n      <td>0</td>\n      <td>0</td>\n      <td>0</td>\n      <td>0</td>\n      <td>0</td>\n      <td>0</td>\n      <td>0</td>\n      <td>0</td>\n      <td>0</td>\n      <td>0</td>\n      <td>0</td>\n      <td>0</td>\n    </tr>\n  </tbody>\n</table>\n</div>"
     },
     "metadata": {}
    }
   ]
  },
  {
   "cell_type": "markdown",
   "source": "**Quantidade de aplicativos benignos e malignos**",
   "metadata": {
    "tags": [],
    "cell_id": "00005-aa838a57-0064-4937-bf32-78fa98be6060",
    "deepnote_cell_type": "markdown"
   }
  },
  {
   "cell_type": "code",
   "metadata": {
    "tags": [],
    "deepnote_to_be_reexecuted": false,
    "source_hash": "f44d174f",
    "execution_start": 1634858558413,
    "execution_millis": 377,
    "cell_id": "00006-78bf2d94-03af-4d00-8a83-a69ebb9a7166",
    "deepnote_cell_type": "code"
   },
   "source": "number = android['class'].value_counts()\nsns.set(rc={\"figure.figsize\":(12, 7)})\nsns.barplot(x = [\"Benigno\",\"Maligno\"], y = number, hue = number, palette = \"Set2\").set(xlabel='', ylabel='')",
   "execution_count": 4,
   "outputs": [
    {
     "output_type": "execute_result",
     "execution_count": 4,
     "data": {
      "text/plain": "[Text(0.5, 0, ''), Text(0, 0.5, '')]"
     },
     "metadata": {}
    },
    {
     "data": {
      "text/plain": "<Figure size 864x504 with 1 Axes>",
      "image/png": "[encoded data removed]"
     },
     "metadata": {
      "image/png": {
       "width": 728,
       "height": 414
      }
     },
     "output_type": "display_data"
    }
   ]
  },
  {
   "cell_type": "markdown",
   "source": "**Proporção de benignos e maligos**",
   "metadata": {
    "tags": [],
    "cell_id": "00007-db6b8ec6-a499-478e-843b-82eb19932b66",
    "deepnote_cell_type": "markdown"
   }
  },
  {
   "cell_type": "code",
   "metadata": {
    "tags": [],
    "deepnote_to_be_reexecuted": false,
    "source_hash": "5feb2ec2",
    "execution_start": 1634858575287,
    "execution_millis": 7,
    "cell_id": "00008-d7444f60-ba11-4bae-8760-7893fe059762",
    "deepnote_cell_type": "code"
   },
   "source": "proportion = number[0] / number[1]\nprint('Maligno 1 : %.2f Benignos'%proportion)",
   "execution_count": 5,
   "outputs": [
    {
     "name": "stdout",
     "text": "Maligno 1 : 2.38 Benignos\n",
     "output_type": "stream"
    }
   ]
  },
  {
   "cell_type": "markdown",
   "source": "**Top 5 permissões mais utilizadas por benignos e malignos**",
   "metadata": {
    "tags": [],
    "cell_id": "00009-121c030d-86a4-47e4-a37a-1f4fe3590a90",
    "deepnote_cell_type": "markdown"
   }
  },
  {
   "cell_type": "code",
   "metadata": {
    "tags": [],
    "deepnote_to_be_reexecuted": false,
    "source_hash": "790e8739",
    "execution_start": 1634858597173,
    "execution_millis": 22,
    "cell_id": "00010-1fa0015b-c474-4fa8-9d4e-1e116e89a379",
    "deepnote_cell_type": "code"
   },
   "source": "permissions_class_sum = android.groupby('class').sum().loc[:,]\npermissions_ben = permissions_class_sum.loc[0].sort_values(ascending=False)[:5]\npermissions_mal = permissions_class_sum.loc[1].sort_values(ascending=False)[:5]",
   "execution_count": 6,
   "outputs": []
  },
  {
   "cell_type": "code",
   "metadata": {
    "tags": [],
    "deepnote_to_be_reexecuted": false,
    "source_hash": "c7bdb518",
    "execution_start": 1634858600086,
    "execution_millis": 824,
    "cell_id": "00011-fad973f8-cab6-41e7-8b51-066d3d2862f7",
    "deepnote_cell_type": "code"
   },
   "source": "fig, axs = plt.subplots(figsize=(12, 8), ncols=1, nrows=2, sharex=True)\n\nsns.barplot(y=permissions_ben.index, x=permissions_ben.values, palette=\"Blues_r\", ax=axs[0])\naxs[0].set_title('Top 5 permissões requeridas por apps Benignos')\naxs[0].grid(linestyle='dotted')\naxs[0].spines['right'].set_visible(False)\naxs[0].spines['top'].set_visible(False)\n\nsns.barplot(y=permissions_mal.index, x=permissions_mal.values, palette='Reds_r', ax=axs[1])\naxs[1].set_title('Top 5 permissões requeridas por apps Malignos')\naxs[1].grid(linestyle='dotted')\naxs[1].spines['right'].set_visible(False)\naxs[1].spines['top'].set_visible(False)",
   "execution_count": 7,
   "outputs": [
    {
     "data": {
      "text/plain": "<Figure size 864x576 with 2 Axes>",
      "image/png": "[encoded data removed]"
     },
     "metadata": {
      "image/png": {
       "width": 1162,
       "height": 484
      }
     },
     "output_type": "display_data"
    }
   ]
  },
  {
   "cell_type": "markdown",
   "source": "**Top 10 permissões mais requeridas**",
   "metadata": {
    "tags": [],
    "cell_id": "00012-e52bca30-ceed-4b3d-9caf-219653b62877",
    "deepnote_cell_type": "markdown"
   }
  },
  {
   "cell_type": "code",
   "metadata": {
    "tags": [],
    "deepnote_to_be_reexecuted": false,
    "source_hash": "dafbfbac",
    "execution_start": 1634858619820,
    "execution_millis": 15,
    "cell_id": "00013-5a7e90f8-e3c0-41d9-b430-c2a1a62767fb",
    "deepnote_cell_type": "code"
   },
   "source": "permissions_sum = android.sum().loc[:,]\npermissions_sum.sort_values(ascending=False)",
   "execution_count": 8,
   "outputs": [
    {
     "output_type": "execute_result",
     "execution_count": 8,
     "data": {
      "text/plain": "FULL_INTERNET_ACCESS.1                                                 19631\nVIEW_NETWORK_STATE                                                     14463\nMODIFY/DELETE_USB_STORAGE_CONTENTS_MODIFY/DELETE_SD_CARD_CONTENTS.1    10053\nREAD_PHONE_STATE_AND_IDENTITY.1                                         9010\nclass                                                                   7026\nCONTROL_VIBRATOR                                                        5738\nCOARSE.1                                                                5324\nFINE                                                                    5185\nPREVENT_DEVICE_FROM_SLEEPING                                            4951\nVIEW_WI-FI_STATE                                                        3051\nAUTOMATICALLY_START_AT_BOOT                                             2667\nREAD_CONTACT_DATA                                                       2197\nTAKE_PICTURES_AND_VIDEOS                                                1698\nDIRECTLY_CALL_PHONE_NUMBERS                                             1632\nDISCOVER_KNOWN_ACCOUNTS.1                                               1561\nRETRIEVE_RUNNING_APPLICATIONS                                           1397\nSET_WALLPAPER                                                           1310\nMODIFY_GLOBAL_SYSTEM_SETTINGS                                           1241\nRECEIVE_DATA_FROM_INTERNET                                              1045\nRECORD_AUDIO                                                             966\nWRITE_CONTACT_DATA.1                                                     939\nSEND_SMS_MESSAGES                                                        782\nCHANGE_WI-FI_STATE                                                       688\nRECEIVE_SMS                                                              685\nCHANGE_YOUR_AUDIO_SETTINGS                                               679\nREAD_SENSITIVE_LOG_DATA                                                  657\nKILL_BACKGROUND_PROCESSES                                                602\nREAD_BROWSERS_HISTORY_AND_BOOKMARKS                                      571\nREAD_SMS_OR_MMS                                                          557\nCREATE_BLUETOOTH_CONNECTIONS                                             546\nDISABLE_KEYLOCK                                                          509\nMOUNT_AND_UNMOUNT_FILESYSTEMS                                            494\nWRITE_BROWSERS_HISTORY_AND_BOOKMARKS                                     475\nBLUETOOTH_ADMINISTRATION                                                 414\nCONTROL_FLASHLIGHT                                                       401\nACCESS_EXTRA_LOCATION_PROVIDER_COMMANDS                                  385\nMOCK_LOCATION_SOURCES_FOR_TESTING.1                                      382\nUSE_THE_AUTHENTICATION_CREDENTIALS_OF_AN_ACCOUNT                         368\nCHANGE_NETWORK_CONNECTIVITY                                              361\nEDIT_SMS_OR_MMS                                                          341\nREAD_CALENDAR_EVENTS                                                     337\nMANAGE_THE_ACCOUNTS_LIST                                                 327\nADD_OR_MODIFY_CALENDAR_EVENTS_AND_SEND_EMAIL_TO_GUESTS                   278\nREAD_SYNC_SETTINGS                                                       276\nWRITE_SYNC_SETTINGS                                                      273\nMODIFY_PHONE_STATE                                                       248\nINTERCEPT_OUTGOING_CALLS                                                 239\nDISPLAY_SYSTEM-LEVEL_ALERTS                                              225\nACT_AS_AN_ACCOUNT_AUTHENTICATOR.1                                        190\nSEND_STICKY_BROADCAST                                                    170\nMODIFY_BATTERY_STATISTICS                                                159\nMODIFY_SECURE_SYSTEM_SETTINGS                                            144\nRECEIVE_MMS                                                              123\nVIEW_CONFIGURED_ACCOUNTS                                                 105\nALLOW_WI-FI_MULTICAST_RECEPTION                                          103\nPOWER_DEVICE_ON_OR_OFF                                                   103\nEXPAND/COLLAPSE_STATUS_BAR                                               101\nDIRECTLY_CALL_ANY_PHONE_NUMBERS                                          101\nWRITE_ACCESS_POINT_NAME_SETTINGS                                          98\nSET_WALLPAPER_SIZE_HINTS.1                                                95\nCHANGE_YOUR_UI_SETTINGS                                                   93\nMAKE_APPLICATION_ALWAYS_RUN                                               91\nMEASURE_APPLICATION_STORAGE_SPACE                                         89\nREAD_SYNC_STATISTICS                                                      87\nDIRECTLY_INSTALL_APPLICATIONS                                             84\nSET_PREFERRED_APPLICATIONS                                                76\nDELETE_ALL_APPLICATION_CACHE_DATA                                         74\nREAD_GMAIL                                                                65\nCHANGE_SCREEN_ORIENTATION                                                 62\nDISABLE_OR_MODIFY_STATUS_BAR                                              57\nCONTROL_LOCATION_UPDATE_NOTIFICATIONS                                     57\nCHOOSE_WIDGETS                                                            52\nWRITE_TO_USER_DEFINED_DICTIONARY                                          49\nREAD_USER_DEFINED_DICTIONARY                                              43\nTEST_HARDWARE                                                             41\nREAD_GOOGLE_SERVICE_CONFIGURATION                                         39\nDELETE_APPLICATIONS                                                       38\nRECEIVE_WAP                                                               37\nACT_AS_THE_ACCOUNTMANAGERSERVICE                                          34\nREAD_EMAIL_ATTACHMENTS                                                    33\nDELETE_OTHER_APPLICATIONS_DATA                                            33\nREORDER_RUNNING_APPLICATIONS                                              33\nCONTROL_NEAR_FIELD_COMMUNICATION                                          28\nACCESS_EMAIL_PROVIDER_DATA                                                28\nACCESS_OTHER_GOOGLE_SERVICES                                              26\nENABLE_OR_DISABLE_APPLICATION_COMPONENTS                                  24\nFORCE_DEVICE_REBOOT                                                       23\nDELETE_OTHER_APPLICATIONS_CACHES                                          22\nWRITE_SUBSCRIBED_FEEDS                                                    22\nGOOGLE_MAIL                                                               22\nSEND_SMS-RECEIVED_BROADCAST                                               21\nREAD_SUBSCRIBED_FEEDS                                                     20\nACCESS_CHECKIN_PROPERTIES                                                 18\nFORMAT_EXTERNAL_STORAGE                                                   17\nACCESS_SURFACEFLINGER                                                     16\nBIND_TO_A_WALLPAPER                                                       16\nMODIFY_GMAIL                                                              14\nRETRIEVE_SYSTEM_INTERNAL_STATE                                            13\nFORCE_STOP_OTHER_APPLICATIONS                                             12\nSET_ALARM_IN_ALARM_CLOCK                                                  12\nREAD_INSTANT_MESSAGES.1                                                   12\nPRESS_KEYS_AND_CONTROL_BUTTONS                                            11\nBIND_TO_AN_INPUT_METHOD                                                   11\nSEND_DOWNLOAD_NOTIFICATIONS                                               11\nREAD_FRAME_BUFFER                                                         10\nINSTALL_DRM_CONTENT                                                       10\nPERMISSION_TO_INSTALL_A_LOCATION_PROVIDER                                  9\nSET_TIME_ZONE                                                              9\nCONTROL_SYSTEM_BACKUP_AND_RESTORE                                          8\nSEND_PACKAGE_REMOVED_BROADCAST                                             8\nINTERACT_WITH_A_DEVICE_ADMIN                                               7\nGOOGLE_SPREADSHEETS                                                        7\nSEND_GMAIL                                                                 7\nGOOGLE_DOCS                                                                7\nACCESS_DOWNLOAD_MANAGER                                                    7\nYOUTUBE_USERNAMES                                                          7\nYOUTUBE                                                                    6\nDISPLAY_UNAUTHORIZED_WINDOWS                                               6\nREAD/WRITE_TO_RESOURCES_OWNED_BY_DIAG                                      6\nCONTACTS_DATA_IN_GOOGLE_ACCOUNTS                                           5\nSEND_WAP-PUSH-RECEIVED_BROADCAST                                           5\nACCESS_ALL_GOOGLE_SERVICES                                                 5\nGOOGLE_MAPS                                                                5\nACCESS_DRM_CONTENT                                                         5\nGOOGLE_APP_ENGINE                                                          5\nMONITOR_AND_CONTROL_ALL_APPLICATION_LAUNCHING                              5\nPREVENT_APP_SWITCHES                                                       5\nMAKE_ALL_BACKGROUND_APPLICATIONS_CLOSE                                     5\nMAKE/RECEIVE_INTERNET_CALLS                                                5\nENABLE_APPLICATION_DEBUGGING                                               5\nMODIFY_GLOBAL_ANIMATION_SPEED                                              5\nPICASA_WEB_ALBUMS                                                          4\nMOVE_APPLICATION_RESOURCES                                                 4\nBROADCAST_DATA_MESSAGES_TO_APPLICATIONS                                    4\nAUDIO_FILE_ACCESS                                                          4\nREAD_GOOGLE_SETTINGS                                                       3\nGOOGLE_FINANCE                                                             3\nACCESS_ALL_SYSTEM_DOWNLOADS                                                3\nPARTIAL_SHUTDOWN                                                           3\nRECORD_WHAT_YOU_TYPE_AND_ACTIONS_YOU_TAKE                                  3\nMODIFY_THE_GOOGLE_SERVICES_MAP                                             3\nFORCE_APPLICATION_TO_CLOSE                                                 3\nLIMIT_NUMBER_OF_RUNNING_PROCESSES                                          2\nACCESS_THE_CACHE_FILESYSTEM                                                2\nGOOGLE_VOICE                                                               2\nSET_TIME                                                                   2\nBLOGGER                                                                    2\nCHANGE_BACKGROUND_DATA_USAGE_SETTING                                       2\nRESET_SYSTEM_TO_FACTORY_DEFAULTS                                           2\nMODIFY_GOOGLE_SERVICE_CONFIGURATION                                        2\nADVANCED_DOWNLOAD_MANAGER_FUNCTIONS                                        1\nWRITE_INSTANT_MESSAGES                                                     1\nMODIFY_GOOGLE_SETTINGS                                                     1\nUPDATE_COMPONENT_USAGE_STATISTICS                                          1\nSEND_LINUX_SIGNALS_TO_APPLICATIONS                                         1\nVOICE_SEARCH_SHORTCUTS                                                     1\nREAD_PHONE_STATE_AND_IDENTITY                                              1\nREAD_INSTANT_MESSAGES                                                      1\nACCESS_TO_PASSWORDS_FOR_GOOGLE_ACCOUNTS                                    1\nREAD_GMAIL_ATTACHMENT_PREVIEWS                                             1\nMANAGE_APPLICATION_TOKENS                                                  1\nCOARSE                                                                     0\nSET_WALLPAPER_SIZE_HINTS                                                   0\nDISCOVER_KNOWN_ACCOUNTS                                                    0\nSTART_IM_SERVICE                                                           0\nFULL_INTERNET_ACCESS                                                       0\nWRITE_CONTACT_DATA                                                         0\nMOCK_LOCATION_SOURCES_FOR_TESTING                                          0\nMODIFY/DELETE_USB_STORAGE_CONTENTS_MODIFY/DELETE_SD_CARD_CONTENTS          0\nACT_AS_AN_ACCOUNT_AUTHENTICATOR                                            0\nPERMANENTLY_DISABLE_DEVICE                                                 0\nWRITE_INSTANT_MESSAGES.1                                                   0\nDOWNLOAD_FILES_WITHOUT_NOTIFICATION                                        0\nRUN_IN_FACTORY_TEST_MODE                                                   0\ndtype: int64"
     },
     "metadata": {}
    }
   ]
  },
  {
   "cell_type": "code",
   "metadata": {
    "tags": [],
    "deepnote_to_be_reexecuted": false,
    "source_hash": "645bd37a",
    "execution_start": 1634858633303,
    "execution_millis": 7,
    "cell_id": "00014-0a61d24d-f125-4cb2-8668-1f2b2cfb9134",
    "deepnote_cell_type": "code"
   },
   "source": "top_permissions_sum = permissions_sum.loc[:].sort_values(ascending=False)[:10]",
   "execution_count": 9,
   "outputs": []
  },
  {
   "cell_type": "code",
   "metadata": {
    "tags": [],
    "deepnote_to_be_reexecuted": false,
    "source_hash": "e2f2c242",
    "execution_start": 1634858635575,
    "execution_millis": 491,
    "cell_id": "00015-227f6c15-b627-48cc-ba87-508ed41c80e0",
    "deepnote_cell_type": "code"
   },
   "source": "fig, axs = plt.subplots(figsize=(12, 8), ncols=1, nrows=1, sharex=True)\n\nsns.barplot(y=top_permissions_sum.index, x=top_permissions_sum.values, palette=\"Blues_r\")",
   "execution_count": 10,
   "outputs": [
    {
     "output_type": "execute_result",
     "execution_count": 10,
     "data": {
      "text/plain": "<AxesSubplot:>"
     },
     "metadata": {}
    },
    {
     "data": {
      "text/plain": "<Figure size 864x576 with 1 Axes>",
      "image/png": "[encoded data removed]"
     },
     "metadata": {
      "image/png": {
       "width": 1162,
       "height": 468
      }
     },
     "output_type": "display_data"
    }
   ]
  },
  {
   "cell_type": "markdown",
   "source": "<a style='text-decoration:none;line-height:16px;display:flex;color:#5B5B62;padding:10px;justify-content:end;' href='https://deepnote.com?utm_source=created-in-deepnote-cell&projectId=3230624e-876d-4f9f-a1ca-0058a560220a' target=\"_blank\">\n<img alt='Created in deepnote.com' style='display:inline;max-height:16px;margin:0px;margin-right:7.5px;' src='data:image/svg+xml;base64,PD94bWwgdmVyc2lvbj0iMS4wIiBlbmNvZGluZz0iVVRGLTgiPz4KPHN2ZyB3aWR0aD0iODBweCIgaGVpZ2h0PSI4MHB4IiB2aWV3Qm94PSIwIDAgODAgODAiIHZlcnNpb249IjEuMSIgeG1sbnM9Imh0dHA6Ly93d3cudzMub3JnLzIwMDAvc3ZnIiB4bWxuczp4bGluaz0iaHR0cDovL3d3dy53My5vcmcvMTk5OS94bGluayI+CiAgICA8IS0tIEdlbmVyYXRvcjogU2tldGNoIDU0LjEgKDc2NDkwKSAtIGh0dHBzOi8vc2tldGNoYXBwLmNvbSAtLT4KICAgIDx0aXRsZT5Hcm91cCAzPC90aXRsZT4KICAgIDxkZXNjPkNyZWF0ZWQgd2l0aCBTa2V0Y2guPC9kZXNjPgogICAgPGcgaWQ9IkxhbmRpbmciIHN0cm9rZT0ibm9uZSIgc3Ryb2tlLXdpZHRoPSIxIiBmaWxsPSJub25lIiBmaWxsLXJ1bGU9ImV2ZW5vZGQiPgogICAgICAgIDxnIGlkPSJBcnRib2FyZCIgdHJhbnNmb3JtPSJ0cmFuc2xhdGUoLTEyMzUuMDAwMDAwLCAtNzkuMDAwMDAwKSI+CiAgICAgICAgICAgIDxnIGlkPSJHcm91cC0zIiB0cmFuc2Zvcm09InRyYW5zbGF0ZSgxMjM1LjAwMDAwMCwgNzkuMDAwMDAwKSI+CiAgICAgICAgICAgICAgICA8cG9seWdvbiBpZD0iUGF0aC0yMCIgZmlsbD0iIzAyNjVCNCIgcG9pbnRzPSIyLjM3NjIzNzYyIDgwIDM4LjA0NzY2NjcgODAgNTcuODIxNzgyMiA3My44MDU3NTkyIDU3LjgyMTc4MjIgMzIuNzU5MjczOSAzOS4xNDAyMjc4IDMxLjY4MzE2ODMiPjwvcG9seWdvbj4KICAgICAgICAgICAgICAgIDxwYXRoIGQ9Ik0zNS4wMDc3MTgsODAgQzQyLjkwNjIwMDcsNzYuNDU0OTM1OCA0Ny41NjQ5MTY3LDcxLjU0MjI2NzEgNDguOTgzODY2LDY1LjI2MTk5MzkgQzUxLjExMjI4OTksNTUuODQxNTg0MiA0MS42NzcxNzk1LDQ5LjIxMjIyODQgMjUuNjIzOTg0Niw0OS4yMTIyMjg0IEMyNS40ODQ5Mjg5LDQ5LjEyNjg0NDggMjkuODI2MTI5Niw0My4yODM4MjQ4IDM4LjY0NzU4NjksMzEuNjgzMTY4MyBMNzIuODcxMjg3MSwzMi41NTQ0MjUgTDY1LjI4MDk3Myw2Ny42NzYzNDIxIEw1MS4xMTIyODk5LDc3LjM3NjE0NCBMMzUuMDA3NzE4LDgwIFoiIGlkPSJQYXRoLTIyIiBmaWxsPSIjMDAyODY4Ij48L3BhdGg+CiAgICAgICAgICAgICAgICA8cGF0aCBkPSJNMCwzNy43MzA0NDA1IEwyNy4xMTQ1MzcsMC4yNTcxMTE0MzYgQzYyLjM3MTUxMjMsLTEuOTkwNzE3MDEgODAsMTAuNTAwMzkyNyA4MCwzNy43MzA0NDA1IEM4MCw2NC45NjA0ODgyIDY0Ljc3NjUwMzgsNzkuMDUwMzQxNCAzNC4zMjk1MTEzLDgwIEM0Ny4wNTUzNDg5LDc3LjU2NzA4MDggNTMuNDE4MjY3Nyw3MC4zMTM2MTAzIDUzLjQxODI2NzcsNTguMjM5NTg4NSBDNTMuNDE4MjY3Nyw0MC4xMjg1NTU3IDM2LjMwMzk1NDQsMzcuNzMwNDQwNSAyNS4yMjc0MTcsMzcuNzMwNDQwNSBDMTcuODQzMDU4NiwzNy43MzA0NDA1IDkuNDMzOTE5NjYsMzcuNzMwNDQwNSAwLDM3LjczMDQ0MDUgWiIgaWQ9IlBhdGgtMTkiIGZpbGw9IiMzNzkzRUYiPjwvcGF0aD4KICAgICAgICAgICAgPC9nPgogICAgICAgIDwvZz4KICAgIDwvZz4KPC9zdmc+' > </img>\nCreated in <span style='font-weight:600;margin-left:4px;'>Deepnote</span></a>",
   "metadata": {
    "tags": [],
    "created_in_deepnote_cell": true,
    "deepnote_cell_type": "markdown"
   }
  }
 ],
 "nbformat": 4,
 "nbformat_minor": 2,
 "metadata": {
  "orig_nbformat": 2,
  "deepnote": {
   "is_reactive": false
  },
  "deepnote_notebook_id": "d9a71bfc-795c-4454-a614-e8507af3d407",
  "deepnote_execution_queue": []
 }
}