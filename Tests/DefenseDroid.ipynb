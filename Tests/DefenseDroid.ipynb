{
 "cells": [
  {
   "cell_type": "code",
   "metadata": {
    "tags": [],
    "deepnote_to_be_reexecuted": false,
    "source_hash": "e3f2bcdc",
    "execution_start": 1631510234930,
    "execution_millis": 178,
    "cell_id": "00000-d2383fed-62bc-4ebd-b308-576ae1462549",
    "deepnote_cell_type": "code"
   },
   "source": "import pandas as pd\nimport numpy as np\nfrom sklearn.utils import shuffle\nfrom sklearn.model_selection import cross_val_score, RandomizedSearchCV\nfrom sklearn.ensemble import RandomForestClassifier\nfrom sklearn.metrics import plot_confusion_matrix, roc_auc_score\nimport matplotlib.pyplot as plt",
   "outputs": [],
   "execution_count": null
  },
  {
   "cell_type": "code",
   "metadata": {
    "tags": [],
    "deepnote_to_be_reexecuted": false,
    "source_hash": "860f5143",
    "execution_start": 1631509167599,
    "execution_millis": 7,
    "cell_id": "00001-bdabdfe3-c68b-443c-8ea6-7c606ffd6b85",
    "deepnote_cell_type": "code"
   },
   "source": "pd.options.display.max_rows = None\npd.options.display.max_columns = None",
   "outputs": [],
   "execution_count": null
  },
  {
   "cell_type": "code",
   "metadata": {
    "tags": [],
    "deepnote_to_be_reexecuted": false,
    "source_hash": "26b2c636",
    "execution_start": 1631509169147,
    "execution_millis": 131,
    "cell_id": "00002-c0740c6b-a849-4a41-b133-287d1a45bb94",
    "deepnote_cell_type": "code"
   },
   "source": "df = pd.read_csv(\"../Low Datasets/Low_DefenseDroid.csv\", index_col=0)",
   "outputs": [],
   "execution_count": null
  },
  {
   "cell_type": "markdown",
   "source": "1 >> 1720\n0 >> 3146",
   "metadata": {
    "tags": [],
    "cell_id": "00003-9e7e98f1-cca5-4358-9057-52e6e4c06535",
    "deepnote_cell_type": "markdown"
   }
  },
  {
   "cell_type": "code",
   "metadata": {
    "tags": [],
    "deepnote_to_be_reexecuted": false,
    "source_hash": "d0705e60",
    "execution_start": 1631509170199,
    "execution_millis": 96,
    "cell_id": "00004-5ca90fe9-bb2c-439c-8835-fb5c15bdecfc",
    "deepnote_cell_type": "code"
   },
   "source": "1720 * 0.3",
   "outputs": [
    {
     "output_type": "execute_result",
     "execution_count": 4,
     "data": {
      "text/plain": "516.0"
     },
     "metadata": {}
    }
   ],
   "execution_count": null
  },
  {
   "cell_type": "code",
   "metadata": {
    "tags": [],
    "deepnote_to_be_reexecuted": false,
    "source_hash": "5baa0482",
    "execution_start": 1631509170513,
    "execution_millis": 33,
    "cell_id": "00005-d59bcb26-8a89-47a6-bb0e-20ac9051ab5c",
    "deepnote_cell_type": "code"
   },
   "source": "3146 * 0.3",
   "outputs": [
    {
     "output_type": "execute_result",
     "execution_count": 5,
     "data": {
      "text/plain": "943.8"
     },
     "metadata": {}
    }
   ],
   "execution_count": null
  },
  {
   "cell_type": "code",
   "metadata": {
    "tags": [],
    "deepnote_to_be_reexecuted": false,
    "source_hash": "2f5a6c99",
    "execution_start": 1631509170947,
    "execution_millis": 40,
    "cell_id": "00006-167a81d7-5e2a-4643-a843-a2d3ea242c3e",
    "deepnote_cell_type": "code"
   },
   "source": "Bval = df[df[\"class\"] == 0].sample(n=944, random_state=42)\nMval = df[df[\"class\"] == 1].sample(n=516, random_state=42)\nvalidation = pd.concat([Bval,Mval])\nindexes = validation[\"class\"].index.tolist()\nvalidation = shuffle(validation)\nvalidation = validation.reset_index()\nvalidation.drop(columns=[\"index\"], inplace=True)\nx_validation = validation.drop(columns=[\"class\"])\ny_validation = validation[\"class\"]",
   "outputs": [],
   "execution_count": null
  },
  {
   "cell_type": "code",
   "metadata": {
    "tags": [],
    "deepnote_to_be_reexecuted": false,
    "source_hash": "7d6a1062",
    "execution_start": 1631509171799,
    "execution_millis": 20,
    "cell_id": "00007-0976ae1b-1176-42ad-9dfd-32f37602468f",
    "deepnote_cell_type": "code"
   },
   "source": "df.drop(index=indexes, inplace=True)",
   "outputs": [],
   "execution_count": null
  },
  {
   "cell_type": "code",
   "metadata": {
    "tags": [],
    "deepnote_to_be_reexecuted": false,
    "source_hash": "fb813d03",
    "execution_start": 1631509172471,
    "execution_millis": 0,
    "cell_id": "00008-98afe00a-d06f-43bc-89f8-6855a1bda3c9",
    "deepnote_cell_type": "code"
   },
   "source": "Btrain = df[df[\"class\"] == 0].sample(n=964, random_state=42)\nMtrain = df[df[\"class\"] == 1].sample(n=964, random_state=42)\ntrain = pd.concat([Btrain,Mtrain])\nindexes = train[\"class\"].index.tolist()\ntrain = shuffle(train)\ntrain = train.reset_index()\ntrain.drop(columns=[\"index\"], inplace=True)\nx_train = train.drop(columns=[\"class\"])\ny_train = train[\"class\"]",
   "outputs": [],
   "execution_count": null
  },
  {
   "cell_type": "code",
   "metadata": {
    "tags": [],
    "deepnote_to_be_reexecuted": false,
    "source_hash": "7d6a1062",
    "execution_start": 1631509172711,
    "execution_millis": 38,
    "cell_id": "00009-218e585c-04db-44e2-a605-a483ef53c506",
    "deepnote_cell_type": "code"
   },
   "source": "df.drop(index=indexes, inplace=True)",
   "outputs": [],
   "execution_count": null
  },
  {
   "cell_type": "code",
   "metadata": {
    "tags": [],
    "deepnote_to_be_reexecuted": false,
    "source_hash": "b611ae17",
    "execution_start": 1631509173122,
    "execution_millis": 20,
    "cell_id": "00010-9d0be24c-3f9a-4d04-958b-ae72014635ac",
    "deepnote_cell_type": "code"
   },
   "source": "df = shuffle(df)",
   "outputs": [],
   "execution_count": null
  },
  {
   "cell_type": "code",
   "metadata": {
    "tags": [],
    "deepnote_to_be_reexecuted": false,
    "source_hash": "f026201e",
    "execution_start": 1631509173993,
    "execution_millis": 4,
    "cell_id": "00011-08569208-4fe9-4435-a4c6-7a22b68eff91",
    "deepnote_cell_type": "code"
   },
   "source": "df = df.reset_index()",
   "outputs": [],
   "execution_count": null
  },
  {
   "cell_type": "code",
   "metadata": {
    "tags": [],
    "deepnote_to_be_reexecuted": false,
    "source_hash": "e0d1af69",
    "execution_start": 1631509175848,
    "execution_millis": 7,
    "cell_id": "00012-9fa7f4c2-23ac-43a7-a7dd-2d22bece1d75",
    "deepnote_cell_type": "code"
   },
   "source": "df.drop(columns=[\"index\"], inplace=True)",
   "outputs": [],
   "execution_count": null
  },
  {
   "cell_type": "code",
   "metadata": {
    "tags": [],
    "deepnote_to_be_reexecuted": false,
    "source_hash": "a61beddf",
    "execution_start": 1631509176254,
    "execution_millis": 0,
    "cell_id": "00013-152bbb57-2baa-4c41-8a65-3586be24c7a1",
    "deepnote_cell_type": "code"
   },
   "source": "x_test = df.drop(columns=[\"class\"])\ny_test = df[\"class\"]",
   "outputs": [],
   "execution_count": null
  },
  {
   "cell_type": "code",
   "metadata": {
    "tags": [],
    "deepnote_to_be_reexecuted": false,
    "source_hash": "ac5eea10",
    "execution_start": 1631509176740,
    "execution_millis": 3,
    "cell_id": "00014-135bbd26-2e7e-4358-b49f-d52bebb954fc",
    "deepnote_cell_type": "code"
   },
   "source": "RF = RandomForestClassifier()",
   "outputs": [],
   "execution_count": null
  },
  {
   "cell_type": "code",
   "metadata": {
    "tags": [],
    "deepnote_to_be_reexecuted": false,
    "source_hash": "321df718",
    "execution_start": 1631509177165,
    "execution_millis": 853,
    "cell_id": "00015-6822e747-2542-44dc-984b-f955b130e95d",
    "deepnote_cell_type": "code"
   },
   "source": "RF.fit(x_train,y_train)",
   "outputs": [
    {
     "output_type": "execute_result",
     "execution_count": 15,
     "data": {
      "text/plain": "RandomForestClassifier()"
     },
     "metadata": {}
    }
   ],
   "execution_count": null
  },
  {
   "cell_type": "code",
   "metadata": {
    "tags": [],
    "deepnote_to_be_reexecuted": false,
    "source_hash": "4d0edeba",
    "execution_start": 1631509178045,
    "execution_millis": 3247,
    "cell_id": "00016-a29c8afd-4b2a-4374-ae8d-a93f32929557",
    "deepnote_cell_type": "code"
   },
   "source": "print(\"Curva ROC >> \", (cross_val_score(RF, x_test, y_test, scoring=\"roc_auc\", cv = 5).mean())*100,\"%\")",
   "outputs": [
    {
     "name": "stdout",
     "text": "Curva ROC >>  87.45534110944234 %\n",
     "output_type": "stream"
    }
   ],
   "execution_count": null
  },
  {
   "cell_type": "code",
   "metadata": {
    "tags": [],
    "deepnote_to_be_reexecuted": false,
    "source_hash": "1e33e39a",
    "execution_start": 1631509181300,
    "execution_millis": 207,
    "cell_id": "00017-8e1205f4-b213-4fc5-8789-9956e3f76415",
    "deepnote_cell_type": "code"
   },
   "source": "print(\"Validacao>>\",roc_auc_score(y_validation, RF.predict(x_validation))*100, \"%\")",
   "outputs": [
    {
     "name": "stdout",
     "text": "Validacao>> 84.3224444882407 %\n",
     "output_type": "stream"
    }
   ],
   "execution_count": null
  },
  {
   "cell_type": "markdown",
   "source": "### Otimização de Hiperparâmetros",
   "metadata": {
    "tags": [],
    "is_collapsed": false,
    "cell_id": "00018-e803a56e-a118-4d70-9e72-a982a0ab04e5",
    "deepnote_cell_type": "text-cell-h3"
   }
  },
  {
   "cell_type": "code",
   "metadata": {
    "tags": [],
    "cell_id": "00019-249806f3-3f90-424f-88c8-c5491eb59935",
    "deepnote_to_be_reexecuted": false,
    "source_hash": "75df6710",
    "execution_start": 1631510240127,
    "execution_millis": 1,
    "deepnote_cell_type": "code"
   },
   "source": "params_grid = {'n_estimators': 1800,\n               'min_samples_split': 2,\n               'min_samples_leaf': 1,\n               'max_features': 'auto',\n               'max_depth': 20,\n               'bootstrap': False}",
   "outputs": [],
   "execution_count": null
  },
  {
   "cell_type": "code",
   "metadata": {
    "tags": [],
    "deepnote_to_be_reexecuted": false,
    "source_hash": "5ebc5283",
    "cell_id": "00020-2b40feca-b1ea-411a-9381-aec70e038c61",
    "execution_start": 1631510240468,
    "execution_millis": 0,
    "deepnote_cell_type": "code"
   },
   "source": "ORF = RandomForestClassifier(**params_grid)",
   "outputs": [],
   "execution_count": null
  },
  {
   "cell_type": "code",
   "metadata": {
    "tags": [],
    "deepnote_to_be_reexecuted": false,
    "source_hash": "5a10b550",
    "cell_id": "00021-b95a8fec-690d-4863-9fe7-793ab606a153",
    "execution_start": 1631510240854,
    "execution_millis": 5090,
    "deepnote_cell_type": "code"
   },
   "source": "ORF.fit(x_train,y_train)",
   "outputs": [
    {
     "output_type": "execute_result",
     "execution_count": 21,
     "data": {
      "text/plain": "RandomForestClassifier(bootstrap=False, max_depth=20, n_estimators=1800)"
     },
     "metadata": {}
    }
   ],
   "execution_count": null
  },
  {
   "cell_type": "code",
   "metadata": {
    "tags": [],
    "deepnote_to_be_reexecuted": false,
    "source_hash": "2a422339",
    "cell_id": "00022-fdeacb71-cebc-4e6f-ae67-438ae9414ee0",
    "execution_start": 1631510245941,
    "execution_millis": 18817,
    "deepnote_cell_type": "code"
   },
   "source": "print(\"Curva ROC >> \", (cross_val_score(ORF, x_test, y_test, scoring=\"roc_auc\", cv = 5).mean())*100,\"%\")",
   "outputs": [
    {
     "name": "stdout",
     "text": "Curva ROC >>  87.56867694593183 %\n",
     "output_type": "stream"
    }
   ],
   "execution_count": null
  },
  {
   "cell_type": "code",
   "metadata": {
    "tags": [],
    "deepnote_to_be_reexecuted": false,
    "source_hash": "9244d587",
    "cell_id": "00023-f11e1968-45f1-41aa-ae45-402c38fa3071",
    "execution_start": 1631510264752,
    "execution_millis": 609,
    "deepnote_cell_type": "code"
   },
   "source": "print(\"Validacao>>\",roc_auc_score(y_validation, ORF.predict(x_validation))*100, \"%\")",
   "outputs": [
    {
     "name": "stdout",
     "text": "Validacao>> 84.85333727499672 %\n",
     "output_type": "stream"
    }
   ],
   "execution_count": null
  },
  {
   "cell_type": "code",
   "metadata": {
    "tags": [],
    "deepnote_to_be_reexecuted": false,
    "source_hash": "12cbe25",
    "cell_id": "00024-a884b2a3-79ca-43c5-b69c-c3d8b377f7b8",
    "execution_start": 1631510265370,
    "execution_millis": 2366,
    "deepnote_cell_type": "code"
   },
   "source": "fig, ((ax1, ax2), (ax3, ax4)) = plt.subplots(2, 2, figsize=(12,8))\nplt.tight_layout()\nax1.set(title=\"Padrão\")\nax2.set(title=\"Otimizado\")\nplot_confusion_matrix(RF, x_validation, y_validation,ax=ax1, cmap = \"Blues\", values_format=\"d\")\nplot_confusion_matrix(ORF, x_validation, y_validation, ax=ax2, cmap= \"Purples\", values_format=\"d\")\nplot_confusion_matrix(RF, x_validation, y_validation,ax=ax3, cmap = \"Blues\", normalize = \"true\")\nplot_confusion_matrix(ORF, x_validation, y_validation, ax=ax4, cmap= \"Purples\", normalize = \"true\")",
   "outputs": [
    {
     "output_type": "execute_result",
     "execution_count": 24,
     "data": {
      "text/plain": "<sklearn.metrics._plot.confusion_matrix.ConfusionMatrixDisplay at 0x7ff471e51ed0>"
     },
     "metadata": {}
    },
    {
     "data": {
      "text/plain": "<Figure size 864x576 with 8 Axes>",
      "image/png": "[encoded data removed]"
     },
     "metadata": {
      "needs_background": "light",
      "image/png": {
       "width": 776,
       "height": 594
      }
     },
     "output_type": "display_data"
    }
   ],
   "execution_count": null
  },
  {
   "cell_type": "markdown",
   "source": "<a style='text-decoration:none;line-height:16px;display:flex;color:#5B5B62;padding:10px;justify-content:end;' href='https://deepnote.com?utm_source=created-in-deepnote-cell&projectId=be34dc1b-561d-4c90-bae1-66eed919bb55' target=\"_blank\">\n<img alt='Created in deepnote.com' style='display:inline;max-height:16px;margin:0px;margin-right:7.5px;' src='data:image/svg+xml;base64,PD94bWwgdmVyc2lvbj0iMS4wIiBlbmNvZGluZz0iVVRGLTgiPz4KPHN2ZyB3aWR0aD0iODBweCIgaGVpZ2h0PSI4MHB4IiB2aWV3Qm94PSIwIDAgODAgODAiIHZlcnNpb249IjEuMSIgeG1sbnM9Imh0dHA6Ly93d3cudzMub3JnLzIwMDAvc3ZnIiB4bWxuczp4bGluaz0iaHR0cDovL3d3dy53My5vcmcvMTk5OS94bGluayI+CiAgICA8IS0tIEdlbmVyYXRvcjogU2tldGNoIDU0LjEgKDc2NDkwKSAtIGh0dHBzOi8vc2tldGNoYXBwLmNvbSAtLT4KICAgIDx0aXRsZT5Hcm91cCAzPC90aXRsZT4KICAgIDxkZXNjPkNyZWF0ZWQgd2l0aCBTa2V0Y2guPC9kZXNjPgogICAgPGcgaWQ9IkxhbmRpbmciIHN0cm9rZT0ibm9uZSIgc3Ryb2tlLXdpZHRoPSIxIiBmaWxsPSJub25lIiBmaWxsLXJ1bGU9ImV2ZW5vZGQiPgogICAgICAgIDxnIGlkPSJBcnRib2FyZCIgdHJhbnNmb3JtPSJ0cmFuc2xhdGUoLTEyMzUuMDAwMDAwLCAtNzkuMDAwMDAwKSI+CiAgICAgICAgICAgIDxnIGlkPSJHcm91cC0zIiB0cmFuc2Zvcm09InRyYW5zbGF0ZSgxMjM1LjAwMDAwMCwgNzkuMDAwMDAwKSI+CiAgICAgICAgICAgICAgICA8cG9seWdvbiBpZD0iUGF0aC0yMCIgZmlsbD0iIzAyNjVCNCIgcG9pbnRzPSIyLjM3NjIzNzYyIDgwIDM4LjA0NzY2NjcgODAgNTcuODIxNzgyMiA3My44MDU3NTkyIDU3LjgyMTc4MjIgMzIuNzU5MjczOSAzOS4xNDAyMjc4IDMxLjY4MzE2ODMiPjwvcG9seWdvbj4KICAgICAgICAgICAgICAgIDxwYXRoIGQ9Ik0zNS4wMDc3MTgsODAgQzQyLjkwNjIwMDcsNzYuNDU0OTM1OCA0Ny41NjQ5MTY3LDcxLjU0MjI2NzEgNDguOTgzODY2LDY1LjI2MTk5MzkgQzUxLjExMjI4OTksNTUuODQxNTg0MiA0MS42NzcxNzk1LDQ5LjIxMjIyODQgMjUuNjIzOTg0Niw0OS4yMTIyMjg0IEMyNS40ODQ5Mjg5LDQ5LjEyNjg0NDggMjkuODI2MTI5Niw0My4yODM4MjQ4IDM4LjY0NzU4NjksMzEuNjgzMTY4MyBMNzIuODcxMjg3MSwzMi41NTQ0MjUgTDY1LjI4MDk3Myw2Ny42NzYzNDIxIEw1MS4xMTIyODk5LDc3LjM3NjE0NCBMMzUuMDA3NzE4LDgwIFoiIGlkPSJQYXRoLTIyIiBmaWxsPSIjMDAyODY4Ij48L3BhdGg+CiAgICAgICAgICAgICAgICA8cGF0aCBkPSJNMCwzNy43MzA0NDA1IEwyNy4xMTQ1MzcsMC4yNTcxMTE0MzYgQzYyLjM3MTUxMjMsLTEuOTkwNzE3MDEgODAsMTAuNTAwMzkyNyA4MCwzNy43MzA0NDA1IEM4MCw2NC45NjA0ODgyIDY0Ljc3NjUwMzgsNzkuMDUwMzQxNCAzNC4zMjk1MTEzLDgwIEM0Ny4wNTUzNDg5LDc3LjU2NzA4MDggNTMuNDE4MjY3Nyw3MC4zMTM2MTAzIDUzLjQxODI2NzcsNTguMjM5NTg4NSBDNTMuNDE4MjY3Nyw0MC4xMjg1NTU3IDM2LjMwMzk1NDQsMzcuNzMwNDQwNSAyNS4yMjc0MTcsMzcuNzMwNDQwNSBDMTcuODQzMDU4NiwzNy43MzA0NDA1IDkuNDMzOTE5NjYsMzcuNzMwNDQwNSAwLDM3LjczMDQ0MDUgWiIgaWQ9IlBhdGgtMTkiIGZpbGw9IiMzNzkzRUYiPjwvcGF0aD4KICAgICAgICAgICAgPC9nPgogICAgICAgIDwvZz4KICAgIDwvZz4KPC9zdmc+' > </img>\nCreated in <span style='font-weight:600;margin-left:4px;'>Deepnote</span></a>",
   "metadata": {
    "tags": [],
    "created_in_deepnote_cell": true,
    "deepnote_cell_type": "markdown"
   }
  }
 ],
 "nbformat": 4,
 "nbformat_minor": 2,
 "metadata": {
  "orig_nbformat": 2,
  "deepnote": {
   "is_reactive": false
  },
  "deepnote_notebook_id": "05f0df6c-41d7-4b64-a886-f7718edf08b6",
  "deepnote_execution_queue": []
 }
}