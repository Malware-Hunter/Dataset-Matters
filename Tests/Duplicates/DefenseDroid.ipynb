{
 "cells": [
  {
   "cell_type": "code",
   "metadata": {
    "tags": [],
    "deepnote_to_be_reexecuted": false,
    "source_hash": "e3f2bcdc",
    "execution_start": 1631548852929,
    "execution_millis": 3511,
    "cell_id": "00000-fea21d81-3a2a-4061-8ce4-b98e53ce043e",
    "deepnote_cell_type": "code"
   },
   "source": "import pandas as pd\nimport numpy as np\nfrom sklearn.utils import shuffle\nfrom sklearn.model_selection import cross_val_score, RandomizedSearchCV\nfrom sklearn.ensemble import RandomForestClassifier\nfrom sklearn.metrics import plot_confusion_matrix, roc_auc_score\nimport matplotlib.pyplot as plt",
   "outputs": [],
   "execution_count": null
  },
  {
   "cell_type": "code",
   "metadata": {
    "tags": [],
    "deepnote_to_be_reexecuted": false,
    "source_hash": "860f5143",
    "execution_start": 1631548856443,
    "execution_millis": 8,
    "cell_id": "00001-98721ebc-5796-44a0-b783-23b8fcb430d8",
    "deepnote_cell_type": "code"
   },
   "source": "pd.options.display.max_rows = None\npd.options.display.max_columns = None",
   "outputs": [],
   "execution_count": null
  },
  {
   "cell_type": "code",
   "metadata": {
    "tags": [],
    "deepnote_to_be_reexecuted": false,
    "source_hash": "8d268e90",
    "execution_start": 1631548856458,
    "execution_millis": 405,
    "cell_id": "00002-f0b49cc8-860d-4cd3-b40e-aa1efdc4b081",
    "deepnote_cell_type": "code"
   },
   "source": "df = pd.read_csv(\"../../Low Datasets/Duplicates/Low_DefenseDroid (duplicates).csv\", index_col=0)",
   "outputs": [],
   "execution_count": null
  },
  {
   "cell_type": "code",
   "metadata": {
    "tags": [],
    "deepnote_to_be_reexecuted": false,
    "source_hash": "31495f6c",
    "execution_start": 1631548856863,
    "execution_millis": 89,
    "cell_id": "00004-35560095-5828-4e3d-a2d6-4f2d54f8527f",
    "deepnote_cell_type": "code"
   },
   "source": "5560 * 0.3",
   "outputs": [
    {
     "output_type": "execute_result",
     "execution_count": 4,
     "data": {
      "text/plain": "1668.0"
     },
     "metadata": {}
    }
   ],
   "execution_count": null
  },
  {
   "cell_type": "code",
   "metadata": {
    "tags": [],
    "deepnote_to_be_reexecuted": false,
    "source_hash": "e416bd5f",
    "execution_start": 1631548856914,
    "execution_millis": 38,
    "cell_id": "00005-7c8c7d30-ccf8-4714-b99b-f1b0c96846ab",
    "deepnote_cell_type": "code"
   },
   "source": "5975 * 0.3",
   "outputs": [
    {
     "output_type": "execute_result",
     "execution_count": 5,
     "data": {
      "text/plain": "1792.5"
     },
     "metadata": {}
    }
   ],
   "execution_count": null
  },
  {
   "cell_type": "code",
   "metadata": {
    "tags": [],
    "deepnote_to_be_reexecuted": false,
    "source_hash": "f0ed6f3a",
    "execution_start": 1631548856934,
    "execution_millis": 143,
    "cell_id": "00006-47de0eb0-c8ae-46e0-95f8-8221fb3c0240",
    "deepnote_cell_type": "code"
   },
   "source": "Bval = df[df[\"class\"] == 0].sample(n=1793, random_state=42)\nMval = df[df[\"class\"] == 1].sample(n=1668, random_state=42)\nvalidation = pd.concat([Bval,Mval])\nindexes = validation[\"class\"].index.tolist()\nvalidation = shuffle(validation)\nvalidation = validation.reset_index()\nvalidation.drop(columns=[\"index\"], inplace=True)\nx_validation = validation.drop(columns=[\"class\"])\ny_validation = validation[\"class\"]",
   "outputs": [],
   "execution_count": null
  },
  {
   "cell_type": "code",
   "metadata": {
    "tags": [],
    "deepnote_to_be_reexecuted": false,
    "source_hash": "7d6a1062",
    "execution_start": 1631548857117,
    "execution_millis": 9,
    "cell_id": "00007-1c4e6c91-6234-4b91-814f-d45826f1d48d",
    "deepnote_cell_type": "code"
   },
   "source": "df.drop(index=indexes, inplace=True)",
   "outputs": [],
   "execution_count": null
  },
  {
   "cell_type": "code",
   "metadata": {
    "tags": [],
    "deepnote_to_be_reexecuted": false,
    "source_hash": "3bc80e91",
    "execution_start": 1631548857166,
    "execution_millis": 121,
    "cell_id": "00008-e7f5d224-f6bb-400b-93b3-aef557acf12b",
    "deepnote_cell_type": "code"
   },
   "source": "Btrain = df[df[\"class\"] == 0].sample(n=3114, random_state=42)\nMtrain = df[df[\"class\"] == 1].sample(n=3114, random_state=42)\ntrain = pd.concat([Btrain,Mtrain])\nindexes = train[\"class\"].index.tolist()\ntrain = shuffle(train)\ntrain = train.reset_index()\ntrain.drop(columns=[\"index\"], inplace=True)\nx_train = train.drop(columns=[\"class\"])\ny_train = train[\"class\"]",
   "outputs": [],
   "execution_count": null
  },
  {
   "cell_type": "code",
   "metadata": {
    "tags": [],
    "deepnote_to_be_reexecuted": false,
    "source_hash": "7d6a1062",
    "execution_start": 1631548857313,
    "execution_millis": 21,
    "cell_id": "00009-0940cd41-cbdd-4d0e-9626-aeffdab5491a",
    "deepnote_cell_type": "code"
   },
   "source": "df.drop(index=indexes, inplace=True)",
   "outputs": [],
   "execution_count": null
  },
  {
   "cell_type": "code",
   "metadata": {
    "tags": [],
    "deepnote_to_be_reexecuted": false,
    "source_hash": "b611ae17",
    "execution_start": 1631548857336,
    "execution_millis": 23,
    "cell_id": "00010-697e5225-978b-4a03-a756-ba6ee2c481fd",
    "deepnote_cell_type": "code"
   },
   "source": "df = shuffle(df)",
   "outputs": [],
   "execution_count": null
  },
  {
   "cell_type": "code",
   "metadata": {
    "tags": [],
    "deepnote_to_be_reexecuted": false,
    "source_hash": "f026201e",
    "execution_start": 1631548857361,
    "execution_millis": 48,
    "cell_id": "00011-5a87bed7-7da7-437c-9ce3-1d6bb31bce19",
    "deepnote_cell_type": "code"
   },
   "source": "df = df.reset_index()",
   "outputs": [],
   "execution_count": null
  },
  {
   "cell_type": "code",
   "metadata": {
    "tags": [],
    "deepnote_to_be_reexecuted": false,
    "source_hash": "e0d1af69",
    "execution_start": 1631548857409,
    "execution_millis": 45,
    "cell_id": "00012-e3261ac4-2871-4546-8ecb-b5dc97b115fe",
    "deepnote_cell_type": "code"
   },
   "source": "df.drop(columns=[\"index\"], inplace=True)",
   "outputs": [],
   "execution_count": null
  },
  {
   "cell_type": "code",
   "metadata": {
    "tags": [],
    "deepnote_to_be_reexecuted": false,
    "source_hash": "a61beddf",
    "execution_start": 1631548857455,
    "execution_millis": 0,
    "cell_id": "00013-47eeccc3-a9f0-4c73-affc-b4a726cd4921",
    "deepnote_cell_type": "code"
   },
   "source": "x_test = df.drop(columns=[\"class\"])\ny_test = df[\"class\"]",
   "outputs": [],
   "execution_count": null
  },
  {
   "cell_type": "code",
   "metadata": {
    "tags": [],
    "deepnote_to_be_reexecuted": false,
    "source_hash": "ac5eea10",
    "execution_start": 1631548857455,
    "execution_millis": 0,
    "cell_id": "00014-8ef64c8e-5cd5-4584-b3f7-f9acea2d6dca",
    "deepnote_cell_type": "code"
   },
   "source": "RF = RandomForestClassifier()",
   "outputs": [],
   "execution_count": null
  },
  {
   "cell_type": "code",
   "metadata": {
    "tags": [],
    "deepnote_to_be_reexecuted": false,
    "source_hash": "321df718",
    "execution_start": 1631548857501,
    "execution_millis": 3253,
    "cell_id": "00015-fde64124-2632-4bdb-b502-c2bc762152bc",
    "deepnote_cell_type": "code"
   },
   "source": "RF.fit(x_train,y_train)",
   "outputs": [
    {
     "output_type": "execute_result",
     "execution_count": 15,
     "data": {
      "text/plain": "RandomForestClassifier()"
     },
     "metadata": {}
    }
   ],
   "execution_count": null
  },
  {
   "cell_type": "code",
   "metadata": {
    "tags": [],
    "deepnote_to_be_reexecuted": false,
    "source_hash": "4d0edeba",
    "execution_start": 1631548860752,
    "execution_millis": 6270,
    "cell_id": "00016-29f0cfc2-54dc-4826-b038-913c60e99ea0",
    "deepnote_cell_type": "code"
   },
   "source": "print(\"Curva ROC >> \", (cross_val_score(RF, x_test, y_test, scoring=\"roc_auc\", cv = 5).mean())*100,\"%\")",
   "outputs": [
    {
     "name": "stdout",
     "text": "Curva ROC >>  89.02743019161534 %\n",
     "output_type": "stream"
    }
   ],
   "execution_count": null
  },
  {
   "cell_type": "code",
   "metadata": {
    "tags": [],
    "deepnote_to_be_reexecuted": false,
    "source_hash": "1e33e39a",
    "execution_start": 1631548867019,
    "execution_millis": 359,
    "cell_id": "00017-7a039b86-2959-45ab-b019-0aed8a4de0f8",
    "deepnote_cell_type": "code"
   },
   "source": "print(\"Validacao>>\",roc_auc_score(y_validation, RF.predict(x_validation))*100, \"%\")",
   "outputs": [
    {
     "name": "stdout",
     "text": "Validacao>> 84.52792701700325 %\n",
     "output_type": "stream"
    }
   ],
   "execution_count": null
  },
  {
   "cell_type": "markdown",
   "source": "### Otimização de Hiperparâmetros",
   "metadata": {
    "tags": [],
    "is_collapsed": false,
    "cell_id": "00018-1e8c3735-e849-4279-afb1-417e92e2a9ad",
    "deepnote_cell_type": "text-cell-h3"
   }
  },
  {
   "cell_type": "code",
   "metadata": {
    "tags": [],
    "deepnote_to_be_reexecuted": false,
    "source_hash": "75df6710",
    "execution_start": 1631548867370,
    "execution_millis": 44,
    "cell_id": "00019-3fda2a0f-bced-4363-a915-128c67dce0f2",
    "deepnote_cell_type": "code"
   },
   "source": "params_grid = {'n_estimators': 1800,\n               'min_samples_split': 2,\n               'min_samples_leaf': 1,\n               'max_features': 'auto',\n               'max_depth': 20,\n               'bootstrap': False}",
   "outputs": [],
   "execution_count": null
  },
  {
   "cell_type": "code",
   "metadata": {
    "tags": [],
    "deepnote_to_be_reexecuted": false,
    "source_hash": "5ebc5283",
    "execution_start": 1631548867414,
    "execution_millis": 0,
    "cell_id": "00020-12e4c40b-ef17-4e11-beb9-575dd6607498",
    "deepnote_cell_type": "code"
   },
   "source": "ORF = RandomForestClassifier(**params_grid)",
   "outputs": [],
   "execution_count": null
  },
  {
   "cell_type": "code",
   "metadata": {
    "tags": [],
    "deepnote_to_be_reexecuted": false,
    "source_hash": "5a10b550",
    "execution_start": 1631548867458,
    "execution_millis": 60562,
    "cell_id": "00021-e15e9310-563e-4895-8aaf-0ea3b6c16ade",
    "deepnote_cell_type": "code"
   },
   "source": "ORF.fit(x_train,y_train)",
   "outputs": [
    {
     "output_type": "execute_result",
     "execution_count": 20,
     "data": {
      "text/plain": "RandomForestClassifier(bootstrap=False, max_depth=20, n_estimators=1800)"
     },
     "metadata": {}
    }
   ],
   "execution_count": null
  },
  {
   "cell_type": "code",
   "metadata": {
    "tags": [],
    "deepnote_to_be_reexecuted": false,
    "source_hash": "2a422339",
    "execution_start": 1631548927966,
    "execution_millis": 110959,
    "cell_id": "00022-ffe58f45-9fd3-43ab-8b16-33bb4f8cc1ea",
    "deepnote_cell_type": "code"
   },
   "source": "print(\"Curva ROC >> \", (cross_val_score(ORF, x_test, y_test, scoring=\"roc_auc\", cv = 5).mean())*100,\"%\")",
   "outputs": [
    {
     "name": "stdout",
     "text": "Curva ROC >>  89.5251873490323 %\n",
     "output_type": "stream"
    }
   ],
   "execution_count": null
  },
  {
   "cell_type": "code",
   "metadata": {
    "tags": [],
    "deepnote_to_be_reexecuted": false,
    "source_hash": "9244d587",
    "execution_start": 1631549038919,
    "execution_millis": 5141,
    "cell_id": "00023-64a51200-33d2-4866-bcd2-c21a824fe25e",
    "deepnote_cell_type": "code"
   },
   "source": "print(\"Validacao>>\",roc_auc_score(y_validation, ORF.predict(x_validation))*100, \"%\")",
   "outputs": [
    {
     "name": "stdout",
     "text": "Validacao>> 84.6143943740713 %\n",
     "output_type": "stream"
    }
   ],
   "execution_count": null
  },
  {
   "cell_type": "code",
   "metadata": {
    "tags": [],
    "deepnote_to_be_reexecuted": false,
    "source_hash": "12cbe25",
    "execution_start": 1631549044078,
    "execution_millis": 14458,
    "cell_id": "00024-8f955bd8-4925-4392-83b6-d1308b2122a4",
    "deepnote_cell_type": "code"
   },
   "source": "fig, ((ax1, ax2), (ax3, ax4)) = plt.subplots(2, 2, figsize=(12,8))\nplt.tight_layout()\nax1.set(title=\"Padrão\")\nax2.set(title=\"Otimizado\")\nplot_confusion_matrix(RF, x_validation, y_validation,ax=ax1, cmap = \"Blues\", values_format=\"d\")\nplot_confusion_matrix(ORF, x_validation, y_validation, ax=ax2, cmap= \"Purples\", values_format=\"d\")\nplot_confusion_matrix(RF, x_validation, y_validation,ax=ax3, cmap = \"Blues\", normalize = \"true\")\nplot_confusion_matrix(ORF, x_validation, y_validation, ax=ax4, cmap= \"Purples\", normalize = \"true\")",
   "outputs": [
    {
     "output_type": "execute_result",
     "execution_count": 23,
     "data": {
      "text/plain": "<sklearn.metrics._plot.confusion_matrix.ConfusionMatrixDisplay at 0x7effae564150>"
     },
     "metadata": {}
    },
    {
     "data": {
      "text/plain": "<Figure size 864x576 with 8 Axes>",
      "image/png": "[encoded data removed]"
     },
     "metadata": {
      "needs_background": "light",
      "image/png": {
       "width": 783,
       "height": 594
      }
     },
     "output_type": "display_data"
    }
   ],
   "execution_count": null
  },
  {
   "cell_type": "markdown",
   "source": "<a style='text-decoration:none;line-height:16px;display:flex;color:#5B5B62;padding:10px;justify-content:end;' href='https://deepnote.com?utm_source=created-in-deepnote-cell&projectId=be34dc1b-561d-4c90-bae1-66eed919bb55' target=\"_blank\">\n<img alt='Created in deepnote.com' style='display:inline;max-height:16px;margin:0px;margin-right:7.5px;' src='data:image/svg+xml;base64,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' > </img>\nCreated in <span style='font-weight:600;margin-left:4px;'>Deepnote</span></a>",
   "metadata": {
    "tags": [],
    "created_in_deepnote_cell": true,
    "deepnote_cell_type": "markdown"
   }
  }
 ],
 "nbformat": 4,
 "nbformat_minor": 2,
 "metadata": {
  "orig_nbformat": 2,
  "deepnote": {
   "is_reactive": false
  },
  "deepnote_notebook_id": "4176ac09-3c35-44e0-bfb0-5bb632a554ee",
  "deepnote_execution_queue": []
 }
}