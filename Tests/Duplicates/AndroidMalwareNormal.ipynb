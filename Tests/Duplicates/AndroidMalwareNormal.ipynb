{
 "cells": [
  {
   "cell_type": "code",
   "metadata": {
    "tags": [],
    "deepnote_to_be_reexecuted": false,
    "source_hash": "2a1537d4",
    "execution_start": 1631548534956,
    "execution_millis": 3304,
    "cell_id": "00000-91d8c37d-746b-4b5f-8816-7321a3adf1df",
    "deepnote_cell_type": "code"
   },
   "source": "import pandas as pd\nimport numpy as np\nimport matplotlib.pyplot as plt\nfrom sklearn.utils import shuffle\nfrom sklearn.model_selection import cross_val_score, RandomizedSearchCV\nfrom sklearn.ensemble import RandomForestClassifier\nfrom sklearn.metrics import plot_confusion_matrix, roc_auc_score",
   "outputs": [],
   "execution_count": null
  },
  {
   "cell_type": "code",
   "metadata": {
    "tags": [],
    "deepnote_to_be_reexecuted": false,
    "source_hash": "860f5143",
    "execution_start": 1631548538262,
    "execution_millis": 14,
    "cell_id": "00001-8947849b-16ce-48aa-aab6-2bcb0ba7aa30",
    "deepnote_cell_type": "code"
   },
   "source": "pd.options.display.max_rows = None\npd.options.display.max_columns = None",
   "outputs": [],
   "execution_count": null
  },
  {
   "cell_type": "code",
   "metadata": {
    "tags": [],
    "deepnote_to_be_reexecuted": false,
    "source_hash": "694c722a",
    "execution_start": 1631548538283,
    "execution_millis": 684,
    "cell_id": "00002-caa02ee0-4677-4793-87a9-d8eff5811a03",
    "deepnote_cell_type": "code"
   },
   "source": "df = pd.read_csv(\"../../Low Datasets/Duplicates/Low_AndroidMalwareNormal (duplicates).csv\", index_col=0)",
   "outputs": [],
   "execution_count": null
  },
  {
   "cell_type": "code",
   "metadata": {
    "tags": [],
    "deepnote_to_be_reexecuted": false,
    "source_hash": "31495f6c",
    "execution_start": 1631548538991,
    "execution_millis": 43,
    "cell_id": "00004-249745b4-c4f2-48d1-a4a4-2ada696496d8",
    "deepnote_cell_type": "code"
   },
   "source": "5560 * 0.3",
   "outputs": [
    {
     "output_type": "execute_result",
     "execution_count": 4,
     "data": {
      "text/plain": "1668.0"
     },
     "metadata": {}
    }
   ],
   "execution_count": null
  },
  {
   "cell_type": "code",
   "metadata": {
    "tags": [],
    "deepnote_to_be_reexecuted": false,
    "source_hash": "e416bd5f",
    "execution_start": 1631548539049,
    "execution_millis": 32,
    "cell_id": "00005-f9f411e6-ee4e-41c8-b3cc-aa55485733ea",
    "deepnote_cell_type": "code"
   },
   "source": "5975 * 0.3",
   "outputs": [
    {
     "output_type": "execute_result",
     "execution_count": 5,
     "data": {
      "text/plain": "1792.5"
     },
     "metadata": {}
    }
   ],
   "execution_count": null
  },
  {
   "cell_type": "code",
   "metadata": {
    "tags": [],
    "deepnote_to_be_reexecuted": false,
    "source_hash": "f0ed6f3a",
    "execution_start": 1631548539089,
    "execution_millis": 136,
    "cell_id": "00006-63dba028-41fc-4420-aeb2-2be470124042",
    "deepnote_cell_type": "code"
   },
   "source": "Bval = df[df[\"class\"] == 0].sample(n=1793, random_state=42)\nMval = df[df[\"class\"] == 1].sample(n=1668, random_state=42)\nvalidation = pd.concat([Bval,Mval])\nindexes = validation[\"class\"].index.tolist()\nvalidation = shuffle(validation)\nvalidation = validation.reset_index()\nvalidation.drop(columns=[\"index\"], inplace=True)\nx_validation = validation.drop(columns=[\"class\"])\ny_validation = validation[\"class\"]",
   "outputs": [],
   "execution_count": null
  },
  {
   "cell_type": "code",
   "metadata": {
    "tags": [],
    "deepnote_to_be_reexecuted": false,
    "source_hash": "7d6a1062",
    "execution_start": 1631548539232,
    "execution_millis": 43,
    "cell_id": "00007-b202f166-9469-4743-85ff-f7990ef4faf3",
    "deepnote_cell_type": "code"
   },
   "source": "df.drop(index=indexes, inplace=True)",
   "outputs": [],
   "execution_count": null
  },
  {
   "cell_type": "code",
   "metadata": {
    "tags": [],
    "cell_id": "00007-5a0ab0c8-350b-4540-a80c-8685d5452f3e",
    "deepnote_to_be_reexecuted": false,
    "source_hash": "88686b1f",
    "execution_start": 1631548539282,
    "execution_millis": 1,
    "deepnote_cell_type": "code"
   },
   "source": "5560*0.7*0.8",
   "outputs": [
    {
     "output_type": "execute_result",
     "execution_count": 8,
     "data": {
      "text/plain": "3113.6"
     },
     "metadata": {}
    }
   ],
   "execution_count": null
  },
  {
   "cell_type": "code",
   "metadata": {
    "tags": [],
    "deepnote_to_be_reexecuted": false,
    "source_hash": "3bc80e91",
    "execution_start": 1631548539341,
    "execution_millis": 154,
    "cell_id": "00008-639cf917-d62b-4624-b4ab-ccae56f16c0e",
    "deepnote_cell_type": "code"
   },
   "source": "Btrain = df[df[\"class\"] == 0].sample(n=3114, random_state=42)\nMtrain = df[df[\"class\"] == 1].sample(n=3114, random_state=42)\ntrain = pd.concat([Btrain,Mtrain])\nindexes = train[\"class\"].index.tolist()\ntrain = shuffle(train)\ntrain = train.reset_index()\ntrain.drop(columns=[\"index\"], inplace=True)\nx_train = train.drop(columns=[\"class\"])\ny_train = train[\"class\"]",
   "outputs": [],
   "execution_count": null
  },
  {
   "cell_type": "code",
   "metadata": {
    "tags": [],
    "deepnote_to_be_reexecuted": false,
    "source_hash": "7d6a1062",
    "execution_start": 1631548539500,
    "execution_millis": 26,
    "cell_id": "00009-1f4834ba-4a88-47fa-a8ec-9eb42afb6152",
    "deepnote_cell_type": "code"
   },
   "source": "df.drop(index=indexes, inplace=True)",
   "outputs": [],
   "execution_count": null
  },
  {
   "cell_type": "code",
   "metadata": {
    "tags": [],
    "deepnote_to_be_reexecuted": false,
    "source_hash": "b611ae17",
    "execution_start": 1631548539531,
    "execution_millis": 14,
    "cell_id": "00010-d4342c20-6d3f-43df-a40a-a65bf383a1ee",
    "deepnote_cell_type": "code"
   },
   "source": "df = shuffle(df)",
   "outputs": [],
   "execution_count": null
  },
  {
   "cell_type": "code",
   "metadata": {
    "tags": [],
    "deepnote_to_be_reexecuted": false,
    "source_hash": "f026201e",
    "execution_start": 1631548539554,
    "execution_millis": 7,
    "cell_id": "00011-466ef5af-5ef9-4a19-9b6e-149892147add",
    "deepnote_cell_type": "code"
   },
   "source": "df = df.reset_index()",
   "outputs": [],
   "execution_count": null
  },
  {
   "cell_type": "code",
   "metadata": {
    "tags": [],
    "deepnote_to_be_reexecuted": false,
    "source_hash": "e0d1af69",
    "execution_start": 1631548539573,
    "execution_millis": 11,
    "cell_id": "00012-c00040ec-b0e6-421a-a2df-06d7da3f13b8",
    "deepnote_cell_type": "code"
   },
   "source": "df.drop(columns=[\"index\"], inplace=True)",
   "outputs": [],
   "execution_count": null
  },
  {
   "cell_type": "code",
   "metadata": {
    "tags": [],
    "deepnote_to_be_reexecuted": false,
    "source_hash": "a61beddf",
    "execution_start": 1631548539592,
    "execution_millis": 11,
    "cell_id": "00013-52a53c49-b715-4e27-97f6-8ef1e1d781f7",
    "deepnote_cell_type": "code"
   },
   "source": "x_test = df.drop(columns=[\"class\"])\ny_test = df[\"class\"]",
   "outputs": [],
   "execution_count": null
  },
  {
   "cell_type": "code",
   "metadata": {
    "tags": [],
    "deepnote_to_be_reexecuted": false,
    "source_hash": "ac5eea10",
    "execution_start": 1631548539606,
    "execution_millis": 494851,
    "cell_id": "00014-6077185e-1db2-42f5-b9ad-cba900d8c761",
    "deepnote_cell_type": "code"
   },
   "source": "RF = RandomForestClassifier()",
   "outputs": [],
   "execution_count": null
  },
  {
   "cell_type": "code",
   "metadata": {
    "tags": [],
    "deepnote_to_be_reexecuted": false,
    "source_hash": "321df718",
    "execution_start": 1631548539625,
    "execution_millis": 4896,
    "cell_id": "00015-1741f7ea-e302-458f-a25a-25337df24ff5",
    "deepnote_cell_type": "code"
   },
   "source": "RF.fit(x_train,y_train)",
   "outputs": [
    {
     "output_type": "execute_result",
     "execution_count": 16,
     "data": {
      "text/plain": "RandomForestClassifier()"
     },
     "metadata": {}
    }
   ],
   "execution_count": null
  },
  {
   "cell_type": "code",
   "metadata": {
    "tags": [],
    "deepnote_to_be_reexecuted": false,
    "source_hash": "4d0edeba",
    "execution_start": 1631548544522,
    "execution_millis": 8602,
    "cell_id": "00016-4ca01b36-413c-4e60-9c25-b94b81d71b26",
    "deepnote_cell_type": "code"
   },
   "source": "print(\"Curva ROC >> \", (cross_val_score(RF, x_test, y_test, scoring=\"roc_auc\", cv = 5).mean())*100,\"%\")",
   "outputs": [
    {
     "name": "stdout",
     "text": "Curva ROC >>  55.405326865454384 %\n",
     "output_type": "stream"
    }
   ],
   "execution_count": null
  },
  {
   "cell_type": "code",
   "metadata": {
    "tags": [],
    "deepnote_to_be_reexecuted": false,
    "source_hash": "1e33e39a",
    "execution_start": 1631548553136,
    "execution_millis": 347,
    "cell_id": "00017-6e1cc893-1977-450f-adca-28bc0534f2c1",
    "deepnote_cell_type": "code"
   },
   "source": "print(\"Validacao>>\",roc_auc_score(y_validation, RF.predict(x_validation))*100, \"%\")",
   "outputs": [
    {
     "name": "stdout",
     "text": "Validacao>> 55.91831610004802 %\n",
     "output_type": "stream"
    }
   ],
   "execution_count": null
  },
  {
   "cell_type": "markdown",
   "source": "### Otimização de Hiperparâmetros",
   "metadata": {
    "tags": [],
    "is_collapsed": false,
    "cell_id": "00018-740e08d7-44d4-4d9f-aab5-5c2c830dba94",
    "deepnote_cell_type": "text-cell-h3"
   }
  },
  {
   "cell_type": "code",
   "metadata": {
    "tags": [],
    "deepnote_to_be_reexecuted": false,
    "source_hash": "75df6710",
    "execution_start": 1631548553513,
    "execution_millis": 10,
    "cell_id": "00019-32ef133a-f262-4d1f-acb2-1354833969ff",
    "deepnote_cell_type": "code"
   },
   "source": "params_grid = {'n_estimators': 1800,\n               'min_samples_split': 2,\n               'min_samples_leaf': 1,\n               'max_features': 'auto',\n               'max_depth': 20,\n               'bootstrap': False}",
   "outputs": [],
   "execution_count": null
  },
  {
   "cell_type": "code",
   "metadata": {
    "tags": [],
    "deepnote_to_be_reexecuted": false,
    "source_hash": "5ebc5283",
    "execution_start": 1631548553525,
    "execution_millis": 17,
    "cell_id": "00020-ba1c8e20-dfbd-4667-8aea-3af016c86d78",
    "deepnote_cell_type": "code"
   },
   "source": "ORF = RandomForestClassifier(**params_grid)",
   "outputs": [],
   "execution_count": null
  },
  {
   "cell_type": "code",
   "metadata": {
    "tags": [],
    "deepnote_to_be_reexecuted": false,
    "source_hash": "5a10b550",
    "execution_start": 1631548553558,
    "execution_millis": 70937,
    "cell_id": "00021-b5982613-56e2-4e9a-8e16-826cc11391e7",
    "deepnote_cell_type": "code"
   },
   "source": "ORF.fit(x_train,y_train)",
   "outputs": [
    {
     "output_type": "execute_result",
     "execution_count": 21,
     "data": {
      "text/plain": "RandomForestClassifier(bootstrap=False, max_depth=20, n_estimators=1800)"
     },
     "metadata": {}
    }
   ],
   "execution_count": null
  },
  {
   "cell_type": "code",
   "metadata": {
    "tags": [],
    "deepnote_to_be_reexecuted": false,
    "source_hash": "2a422339",
    "execution_start": 1631548624487,
    "execution_millis": 120294,
    "cell_id": "00022-f5c9f685-aea1-4f05-b68b-dd576b27a723",
    "deepnote_cell_type": "code"
   },
   "source": "print(\"Curva ROC >> \", (cross_val_score(ORF, x_test, y_test, scoring=\"roc_auc\", cv = 5).mean())*100,\"%\")",
   "outputs": [
    {
     "name": "stdout",
     "text": "Curva ROC >>  55.100021706216005 %\n",
     "output_type": "stream"
    }
   ],
   "execution_count": null
  },
  {
   "cell_type": "code",
   "metadata": {
    "tags": [],
    "deepnote_to_be_reexecuted": false,
    "source_hash": "9244d587",
    "execution_start": 1631548744778,
    "execution_millis": 4887,
    "cell_id": "00023-c6b17d16-6aff-4de5-89ec-52874112439d",
    "deepnote_cell_type": "code"
   },
   "source": "print(\"Validacao>>\",roc_auc_score(y_validation, ORF.predict(x_validation))*100, \"%\")",
   "outputs": [
    {
     "name": "stdout",
     "text": "Validacao>> 55.803377376180485 %\n",
     "output_type": "stream"
    }
   ],
   "execution_count": null
  },
  {
   "cell_type": "code",
   "metadata": {
    "tags": [],
    "deepnote_to_be_reexecuted": false,
    "source_hash": "12cbe25",
    "execution_start": 1631548749682,
    "execution_millis": 15301,
    "cell_id": "00024-264cd9fa-6747-4aca-8490-ea7435416c46",
    "deepnote_cell_type": "code"
   },
   "source": "fig, ((ax1, ax2), (ax3, ax4)) = plt.subplots(2, 2, figsize=(12,8))\nplt.tight_layout()\nax1.set(title=\"Padrão\")\nax2.set(title=\"Otimizado\")\nplot_confusion_matrix(RF, x_validation, y_validation,ax=ax1, cmap = \"Blues\", values_format=\"d\")\nplot_confusion_matrix(ORF, x_validation, y_validation, ax=ax2, cmap= \"Purples\", values_format=\"d\")\nplot_confusion_matrix(RF, x_validation, y_validation,ax=ax3, cmap = \"Blues\", normalize = \"true\")\nplot_confusion_matrix(ORF, x_validation, y_validation, ax=ax4, cmap= \"Purples\", normalize = \"true\")",
   "outputs": [
    {
     "output_type": "execute_result",
     "execution_count": 24,
     "data": {
      "text/plain": "<sklearn.metrics._plot.confusion_matrix.ConfusionMatrixDisplay at 0x7fb4d8d28f90>"
     },
     "metadata": {}
    },
    {
     "data": {
      "text/plain": "<Figure size 864x576 with 8 Axes>",
      "image/png": "[encoded data removed]"
     },
     "metadata": {
      "needs_background": "light",
      "image/png": {
       "width": 783,
       "height": 594
      }
     },
     "output_type": "display_data"
    }
   ],
   "execution_count": null
  },
  {
   "cell_type": "markdown",
   "source": "<a style='text-decoration:none;line-height:16px;display:flex;color:#5B5B62;padding:10px;justify-content:end;' href='https://deepnote.com?utm_source=created-in-deepnote-cell&projectId=be34dc1b-561d-4c90-bae1-66eed919bb55' target=\"_blank\">\n<img alt='Created in deepnote.com' style='display:inline;max-height:16px;margin:0px;margin-right:7.5px;' src='data:image/svg+xml;base64,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' > </img>\nCreated in <span style='font-weight:600;margin-left:4px;'>Deepnote</span></a>",
   "metadata": {
    "tags": [],
    "created_in_deepnote_cell": true,
    "deepnote_cell_type": "markdown"
   }
  }
 ],
 "nbformat": 4,
 "nbformat_minor": 2,
 "metadata": {
  "orig_nbformat": 2,
  "deepnote": {
   "is_reactive": false
  },
  "deepnote_notebook_id": "0a21cfd6-ecdb-44c0-85e3-21eb144983d4",
  "deepnote_execution_queue": []
 }
}