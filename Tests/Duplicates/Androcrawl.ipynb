{
 "cells": [
  {
   "cell_type": "code",
   "metadata": {
    "tags": [],
    "deepnote_to_be_reexecuted": false,
    "source_hash": "e3f2bcdc",
    "execution_start": 1631548315281,
    "execution_millis": 3451,
    "cell_id": "00000-42358f66-124e-4e28-b0ae-572a20a5da11",
    "deepnote_cell_type": "code"
   },
   "source": "import pandas as pd\nimport numpy as np\nfrom sklearn.utils import shuffle\nfrom sklearn.model_selection import cross_val_score, RandomizedSearchCV\nfrom sklearn.ensemble import RandomForestClassifier\nfrom sklearn.metrics import plot_confusion_matrix, roc_auc_score\nimport matplotlib.pyplot as plt",
   "outputs": [],
   "execution_count": null
  },
  {
   "cell_type": "code",
   "metadata": {
    "tags": [],
    "deepnote_to_be_reexecuted": false,
    "source_hash": "860f5143",
    "execution_start": 1631548318736,
    "execution_millis": 12,
    "cell_id": "00001-b722e6f1-79d9-4099-a0f8-a55a5c04476c",
    "deepnote_cell_type": "code"
   },
   "source": "pd.options.display.max_rows = None\npd.options.display.max_columns = None",
   "outputs": [],
   "execution_count": null
  },
  {
   "cell_type": "code",
   "metadata": {
    "tags": [],
    "deepnote_to_be_reexecuted": false,
    "source_hash": "57fa63e2",
    "execution_start": 1631548318753,
    "execution_millis": 203,
    "cell_id": "00002-86f4e7f2-f2ad-49ae-9351-d0d00387e661",
    "deepnote_cell_type": "code"
   },
   "source": "df = pd.read_csv(\"../../Low Datasets/Duplicates/Low_Androcrawl (duplicates).csv\", index_col=0)",
   "outputs": [],
   "execution_count": null
  },
  {
   "cell_type": "code",
   "metadata": {
    "tags": [],
    "cell_id": "00003-ce6cd866-8f14-45e6-92cd-4645a8db6383",
    "deepnote_to_be_reexecuted": false,
    "source_hash": "faeec5c3",
    "execution_start": 1631548318961,
    "execution_millis": 37,
    "deepnote_cell_type": "code"
   },
   "source": "5560*0.3",
   "outputs": [
    {
     "output_type": "execute_result",
     "execution_count": 4,
     "data": {
      "text/plain": "1668.0"
     },
     "metadata": {}
    }
   ],
   "execution_count": null
  },
  {
   "cell_type": "code",
   "metadata": {
    "tags": [],
    "cell_id": "00004-7a3c2b2e-ac8d-4421-a2c6-6686bfc77258",
    "deepnote_to_be_reexecuted": false,
    "source_hash": "ca52eed3",
    "execution_start": 1631548318994,
    "execution_millis": 26,
    "deepnote_cell_type": "code"
   },
   "source": "5975*0.3",
   "outputs": [
    {
     "output_type": "execute_result",
     "execution_count": 5,
     "data": {
      "text/plain": "1792.5"
     },
     "metadata": {}
    }
   ],
   "execution_count": null
  },
  {
   "cell_type": "code",
   "metadata": {
    "tags": [],
    "deepnote_to_be_reexecuted": false,
    "source_hash": "f0ed6f3a",
    "execution_start": 1631548319066,
    "execution_millis": 53,
    "cell_id": "00006-8801eb28-4f1e-4261-b92b-1893f0b72013",
    "deepnote_cell_type": "code"
   },
   "source": "Bval = df[df[\"class\"] == 0].sample(n=1793, random_state=42)\nMval = df[df[\"class\"] == 1].sample(n=1668, random_state=42)\nvalidation = pd.concat([Bval,Mval])\nindexes = validation[\"class\"].index.tolist()\nvalidation = shuffle(validation)\nvalidation = validation.reset_index()\nvalidation.drop(columns=[\"index\"], inplace=True)\nx_validation = validation.drop(columns=[\"class\"])\ny_validation = validation[\"class\"]",
   "outputs": [],
   "execution_count": null
  },
  {
   "cell_type": "code",
   "metadata": {
    "tags": [],
    "deepnote_to_be_reexecuted": false,
    "source_hash": "7d6a1062",
    "execution_start": 1631548319119,
    "execution_millis": 35,
    "cell_id": "00007-076ca2e2-5ddd-4f00-a722-1bb1dbb40f7f",
    "deepnote_cell_type": "code"
   },
   "source": "df.drop(index=indexes, inplace=True)",
   "outputs": [],
   "execution_count": null
  },
  {
   "cell_type": "code",
   "metadata": {
    "tags": [],
    "cell_id": "00007-7b32440e-687f-4ac0-a97f-a0299f1c5b13",
    "deepnote_to_be_reexecuted": false,
    "source_hash": "88686b1f",
    "execution_start": 1631548319154,
    "execution_millis": 4,
    "deepnote_cell_type": "code"
   },
   "source": "5560*0.7*0.8",
   "outputs": [
    {
     "output_type": "execute_result",
     "execution_count": 8,
     "data": {
      "text/plain": "3113.6"
     },
     "metadata": {}
    }
   ],
   "execution_count": null
  },
  {
   "cell_type": "code",
   "metadata": {
    "tags": [],
    "deepnote_to_be_reexecuted": false,
    "source_hash": "3bc80e91",
    "execution_start": 1631548319199,
    "execution_millis": 38,
    "cell_id": "00008-b08be692-2154-4ff1-b889-7d960752a075",
    "deepnote_cell_type": "code"
   },
   "source": "Btrain = df[df[\"class\"] == 0].sample(n=3114, random_state=42)\nMtrain = df[df[\"class\"] == 1].sample(n=3114, random_state=42)\ntrain = pd.concat([Btrain,Mtrain])\nindexes = train[\"class\"].index.tolist()\ntrain = shuffle(train)\ntrain = train.reset_index()\ntrain.drop(columns=[\"index\"], inplace=True)\nx_train = train.drop(columns=[\"class\"])\ny_train = train[\"class\"]",
   "outputs": [],
   "execution_count": null
  },
  {
   "cell_type": "code",
   "metadata": {
    "tags": [],
    "deepnote_to_be_reexecuted": false,
    "source_hash": "7d6a1062",
    "execution_start": 1631548319284,
    "execution_millis": 0,
    "cell_id": "00009-9fba5f61-7ad7-4bd0-9c2f-345d90d8a13f",
    "deepnote_cell_type": "code"
   },
   "source": "df.drop(index=indexes, inplace=True)",
   "outputs": [],
   "execution_count": null
  },
  {
   "cell_type": "code",
   "metadata": {
    "tags": [],
    "deepnote_to_be_reexecuted": false,
    "source_hash": "b611ae17",
    "execution_start": 1631548319285,
    "execution_millis": 0,
    "cell_id": "00010-d293e17b-57d6-453c-828b-de54d0f96be3",
    "deepnote_cell_type": "code"
   },
   "source": "df = shuffle(df)",
   "outputs": [],
   "execution_count": null
  },
  {
   "cell_type": "code",
   "metadata": {
    "tags": [],
    "deepnote_to_be_reexecuted": false,
    "source_hash": "f026201e",
    "execution_start": 1631548319286,
    "execution_millis": 82,
    "cell_id": "00011-71e73783-0204-4328-9b4a-b04576ce8288",
    "deepnote_cell_type": "code"
   },
   "source": "df = df.reset_index()",
   "outputs": [],
   "execution_count": null
  },
  {
   "cell_type": "code",
   "metadata": {
    "tags": [],
    "deepnote_to_be_reexecuted": false,
    "source_hash": "e0d1af69",
    "execution_start": 1631548319368,
    "execution_millis": 3,
    "cell_id": "00012-2c12f518-027a-4b95-b756-8a1a394fdd65",
    "deepnote_cell_type": "code"
   },
   "source": "df.drop(columns=[\"index\"], inplace=True)",
   "outputs": [],
   "execution_count": null
  },
  {
   "cell_type": "code",
   "metadata": {
    "tags": [],
    "deepnote_to_be_reexecuted": false,
    "source_hash": "a61beddf",
    "execution_start": 1631548319371,
    "execution_millis": 11,
    "cell_id": "00013-980378af-d84d-48e0-b844-5a719a5786a5",
    "deepnote_cell_type": "code"
   },
   "source": "x_test = df.drop(columns=[\"class\"])\ny_test = df[\"class\"]",
   "outputs": [],
   "execution_count": null
  },
  {
   "cell_type": "code",
   "metadata": {
    "tags": [],
    "deepnote_to_be_reexecuted": false,
    "source_hash": "ac5eea10",
    "execution_start": 1631548319386,
    "execution_millis": 26,
    "cell_id": "00014-de404745-b82a-45b0-97b8-0a6973416a20",
    "deepnote_cell_type": "code"
   },
   "source": "RF = RandomForestClassifier()",
   "outputs": [],
   "execution_count": null
  },
  {
   "cell_type": "code",
   "metadata": {
    "tags": [],
    "deepnote_to_be_reexecuted": false,
    "source_hash": "321df718",
    "execution_start": 1631548319420,
    "execution_millis": 2531,
    "cell_id": "00015-80db6334-5611-42b0-8d60-7fe4d46e4b22",
    "deepnote_cell_type": "code"
   },
   "source": "RF.fit(x_train,y_train)",
   "outputs": [
    {
     "output_type": "execute_result",
     "execution_count": 16,
     "data": {
      "text/plain": "RandomForestClassifier()"
     },
     "metadata": {}
    }
   ],
   "execution_count": null
  },
  {
   "cell_type": "code",
   "metadata": {
    "tags": [],
    "deepnote_to_be_reexecuted": false,
    "source_hash": "4d0edeba",
    "execution_start": 1631548321955,
    "execution_millis": 5183,
    "cell_id": "00016-857d6aba-d518-4a0b-901d-50d846aca209",
    "deepnote_cell_type": "code"
   },
   "source": "print(\"Curva ROC >> \", (cross_val_score(RF, x_test, y_test, scoring=\"roc_auc\", cv = 5).mean())*100,\"%\")",
   "outputs": [
    {
     "name": "stdout",
     "text": "Curva ROC >>  54.946017981790796 %\n",
     "output_type": "stream"
    }
   ],
   "execution_count": null
  },
  {
   "cell_type": "code",
   "metadata": {
    "tags": [],
    "deepnote_to_be_reexecuted": false,
    "source_hash": "1e33e39a",
    "execution_start": 1631548327136,
    "execution_millis": 224,
    "cell_id": "00017-c19bed0d-fdfc-4e0c-8463-75550c78f2c5",
    "deepnote_cell_type": "code"
   },
   "source": "print(\"Validacao>>\",roc_auc_score(y_validation, RF.predict(x_validation))*100, \"%\")",
   "outputs": [
    {
     "name": "stdout",
     "text": "Validacao>> 55.28915406436703 %\n",
     "output_type": "stream"
    }
   ],
   "execution_count": null
  },
  {
   "cell_type": "markdown",
   "source": "### Otimização de Hiperparâmetros",
   "metadata": {
    "tags": [],
    "is_collapsed": false,
    "cell_id": "00018-c1d2bc3a-a7de-4778-9d33-8f17efaab79f",
    "deepnote_cell_type": "text-cell-h3"
   }
  },
  {
   "cell_type": "code",
   "metadata": {
    "tags": [],
    "deepnote_to_be_reexecuted": false,
    "source_hash": "75df6710",
    "execution_start": 1631548327357,
    "execution_millis": 5,
    "cell_id": "00019-68f9a926-3f6a-41b7-a6cf-32a3fe9be15c",
    "deepnote_cell_type": "code"
   },
   "source": "params_grid = {'n_estimators': 1800,\n               'min_samples_split': 2,\n               'min_samples_leaf': 1,\n               'max_features': 'auto',\n               'max_depth': 20,\n               'bootstrap': False}",
   "outputs": [],
   "execution_count": null
  },
  {
   "cell_type": "code",
   "metadata": {
    "tags": [],
    "deepnote_to_be_reexecuted": false,
    "source_hash": "5ebc5283",
    "execution_start": 1631548327371,
    "execution_millis": 2,
    "cell_id": "00020-a44a9077-f003-4951-a617-e9bee17edaee",
    "deepnote_cell_type": "code"
   },
   "source": "ORF = RandomForestClassifier(**params_grid)",
   "outputs": [],
   "execution_count": null
  },
  {
   "cell_type": "code",
   "metadata": {
    "tags": [],
    "deepnote_to_be_reexecuted": false,
    "source_hash": "5a10b550",
    "execution_start": 1631548327435,
    "execution_millis": 40781,
    "cell_id": "00021-b88a824e-85ba-4aae-90c9-37ee853e6902",
    "deepnote_cell_type": "code"
   },
   "source": "ORF.fit(x_train,y_train)",
   "outputs": [
    {
     "output_type": "execute_result",
     "execution_count": 21,
     "data": {
      "text/plain": "RandomForestClassifier(bootstrap=False, max_depth=20, n_estimators=1800)"
     },
     "metadata": {}
    }
   ],
   "execution_count": null
  },
  {
   "cell_type": "code",
   "metadata": {
    "tags": [],
    "deepnote_to_be_reexecuted": false,
    "source_hash": "2a422339",
    "execution_start": 1631548368216,
    "execution_millis": 127914,
    "cell_id": "00022-8d0e7364-a47b-4168-bb4f-f3f430f8bc5b",
    "deepnote_cell_type": "code"
   },
   "source": "print(\"Curva ROC >> \", (cross_val_score(ORF, x_test, y_test, scoring=\"roc_auc\", cv = 5).mean())*100,\"%\")",
   "outputs": [
    {
     "name": "stdout",
     "text": "Curva ROC >>  53.423367276832344 %\n",
     "output_type": "stream"
    }
   ],
   "execution_count": null
  },
  {
   "cell_type": "code",
   "metadata": {
    "tags": [],
    "deepnote_to_be_reexecuted": false,
    "source_hash": "9244d587",
    "execution_start": 1631548496127,
    "execution_millis": 4817,
    "cell_id": "00023-7a06e965-d162-412d-b454-3c8a46ec91e8",
    "deepnote_cell_type": "code"
   },
   "source": "print(\"Validacao>>\",roc_auc_score(y_validation, ORF.predict(x_validation))*100, \"%\")",
   "outputs": [
    {
     "name": "stdout",
     "text": "Validacao>> 55.80371174337719 %\n",
     "output_type": "stream"
    }
   ],
   "execution_count": null
  },
  {
   "cell_type": "code",
   "metadata": {
    "tags": [],
    "deepnote_to_be_reexecuted": false,
    "source_hash": "12cbe25",
    "execution_start": 1631548500942,
    "execution_millis": 13732,
    "cell_id": "00024-e9c34206-c0e9-43db-b205-390ab71ff211",
    "deepnote_cell_type": "code"
   },
   "source": "fig, ((ax1, ax2), (ax3, ax4)) = plt.subplots(2, 2, figsize=(12,8))\nplt.tight_layout()\nax1.set(title=\"Padrão\")\nax2.set(title=\"Otimizado\")\nplot_confusion_matrix(RF, x_validation, y_validation,ax=ax1, cmap = \"Blues\", values_format=\"d\")\nplot_confusion_matrix(ORF, x_validation, y_validation, ax=ax2, cmap= \"Purples\", values_format=\"d\")\nplot_confusion_matrix(RF, x_validation, y_validation,ax=ax3, cmap = \"Blues\", normalize = \"true\")\nplot_confusion_matrix(ORF, x_validation, y_validation, ax=ax4, cmap= \"Purples\", normalize = \"true\")",
   "outputs": [
    {
     "output_type": "execute_result",
     "execution_count": 24,
     "data": {
      "text/plain": "<sklearn.metrics._plot.confusion_matrix.ConfusionMatrixDisplay at 0x7f757dc357d0>"
     },
     "metadata": {}
    },
    {
     "data": {
      "text/plain": "<Figure size 864x576 with 8 Axes>",
      "image/png": "[encoded data removed]"
     },
     "metadata": {
      "needs_background": "light",
      "image/png": {
       "width": 783,
       "height": 594
      }
     },
     "output_type": "display_data"
    }
   ],
   "execution_count": null
  },
  {
   "cell_type": "markdown",
   "source": "<a style='text-decoration:none;line-height:16px;display:flex;color:#5B5B62;padding:10px;justify-content:end;' href='https://deepnote.com?utm_source=created-in-deepnote-cell&projectId=be34dc1b-561d-4c90-bae1-66eed919bb55' target=\"_blank\">\n<img alt='Created in deepnote.com' style='display:inline;max-height:16px;margin:0px;margin-right:7.5px;' src='data:image/svg+xml;base64,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' > </img>\nCreated in <span style='font-weight:600;margin-left:4px;'>Deepnote</span></a>",
   "metadata": {
    "tags": [],
    "created_in_deepnote_cell": true,
    "deepnote_cell_type": "markdown"
   }
  }
 ],
 "nbformat": 4,
 "nbformat_minor": 2,
 "metadata": {
  "orig_nbformat": 2,
  "deepnote": {
   "is_reactive": false
  },
  "deepnote_notebook_id": "d19cc025-e053-414a-9f9c-10ed3fbbdfe9",
  "deepnote_execution_queue": []
 }
}