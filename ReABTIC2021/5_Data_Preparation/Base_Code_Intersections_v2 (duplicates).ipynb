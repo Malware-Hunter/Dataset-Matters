{
 "cells": [
  {
   "cell_type": "markdown",
   "metadata": {},
   "source": [
    "Códigos para gerar novos datasets com a mesma quantidade de amostras de aplicativos benignos e malignos."
   ]
  },
  {
   "cell_type": "code",
   "execution_count": 4,
   "metadata": {},
   "outputs": [],
   "source": [
    "import pandas as pd\n",
    "import numpy as np\n",
    "from sklearn.utils import shuffle\n",
    "\n",
    "# Tirando limitação de exibição de linhas e colunas dos Datasets\n",
    "pd.options.display.max_rows = None\n",
    "pd.options.display.max_columns = None"
   ]
  },
  {
   "cell_type": "code",
   "execution_count": 5,
   "metadata": {},
   "outputs": [],
   "source": [
    "drebin = pd.read_csv('../3_Permissions_Datasets_Intersection/Intersection_v2/Duplicates/Intersection_Drebin (duplicates).csv')\n",
    "krono = pd.read_csv('../3_Permissions_Datasets_Intersection/Intersection_v2/Duplicates/Intersection_KronoDroid (duplicates).csv')\n",
    "defense = pd.read_csv('../3_Permissions_Datasets_Intersection/Intersection_v2/Duplicates/Intersection_DefenseDroid (duplicates).csv')\n",
    "moto = pd.read_csv('../3_Permissions_Datasets_Intersection/Intersection_v2/Duplicates/Intersection_MotoDroid (duplicates).csv')"
   ]
  },
  {
   "cell_type": "code",
   "execution_count": 6,
   "metadata": {},
   "outputs": [
    {
     "name": "stdout",
     "output_type": "stream",
     "text": [
      "*** DREBIN ***\n",
      "Benignos >> 9476 \n",
      "Malignos >> 5560\n",
      "\n",
      "*** KRONODROID ***\n",
      "Benignos >> 17560 \n",
      "Malignos >> 16755\n",
      "\n",
      "*** DEFENSEDROID ***\n",
      "Benignos >> 5975 \n",
      "Malignos >> 6000\n",
      "\n",
      "*** MOTODROID ***\n",
      "Benignos >> 11172 \n",
      "Malignos >> 11654\n"
     ]
    }
   ],
   "source": [
    "print(\"*** DREBIN ***\\nBenignos >>\",drebin['class'].value_counts()[0],\"\\nMalignos >>\",drebin['class'].value_counts()[1])\n",
    "print(\"\\n*** KRONODROID ***\\nBenignos >>\",krono['class'].value_counts()[0],\"\\nMalignos >>\",krono['class'].value_counts()[1])\n",
    "print(\"\\n*** DEFENSEDROID ***\\nBenignos >>\",defense['class'].value_counts()[0],\"\\nMalignos >>\",defense['class'].value_counts()[1])\n",
    "print(\"\\n*** MOTODROID ***\\nBenignos >>\",moto['class'].value_counts()[0],\"\\nMalignos >>\",moto['class'].value_counts()[1])"
   ]
  },
  {
   "cell_type": "markdown",
   "metadata": {},
   "source": [
    "___________________________________________________________\n",
    "Nivelar a quantidade de amostras para todos os datasets.\n",
    "\n",
    "Benignos >> 5.975 (DefenseDroid)\n",
    "\n",
    "Malignos >> 5.560 (Drebin)\n",
    "___________________________________________________________"
   ]
  },
  {
   "cell_type": "markdown",
   "metadata": {},
   "source": [
    "__________________________________________________________________________________________________________________________\n",
    "Nivelando a mesma quantidade para cada dataset"
   ]
  },
  {
   "cell_type": "code",
   "execution_count": 7,
   "metadata": {},
   "outputs": [],
   "source": [
    "# DREBIN\n",
    "Bdf_drebin = drebin[drebin[\"class\"] == 0].sample(n=5975, random_state=42)\n",
    "Mdf_drebin = drebin[drebin[\"class\"] == 1].sample(n=5560, random_state=42)\n",
    "\n",
    "# KRONO\n",
    "Bdf_krono = krono[krono[\"class\"] == 0].sample(n=5975, random_state=42)\n",
    "Mdf_krono = krono[krono[\"class\"] == 1].sample(n=5560, random_state=42)\n",
    "\n",
    "# DEFENSE\n",
    "Bdf_defense = defense[defense[\"class\"] == 0].sample(n=5975, random_state=42)\n",
    "Mdf_defense = defense[defense[\"class\"] == 1].sample(n=5560, random_state=42)\n",
    "\n",
    "# MOTO\n",
    "Bdf_moto = moto[moto[\"class\"] == 0].sample(n=5975, random_state=42)\n",
    "Mdf_moto = moto[moto[\"class\"] == 1].sample(n=5560, random_state=42)"
   ]
  },
  {
   "cell_type": "markdown",
   "metadata": {},
   "source": [
    "Concatenando os datasets benignos e malignos nivelados de cada conjunto de dados."
   ]
  },
  {
   "cell_type": "code",
   "execution_count": 8,
   "metadata": {},
   "outputs": [],
   "source": [
    "# DREBIN\n",
    "drebin_df = pd.concat([Bdf_drebin, Mdf_drebin])\n",
    "drebin_df = shuffle(drebin_df)\n",
    "drebin_df = drebin_df.reset_index()\n",
    "drebin_df.drop(columns=[\"index\"], inplace=True)\n",
    "\n",
    "# KRONODROID\n",
    "krono_df = pd.concat([Bdf_krono, Mdf_krono])\n",
    "krono_df = shuffle(krono_df)\n",
    "krono_df = krono_df.reset_index()\n",
    "krono_df.drop(columns=[\"index\"], inplace=True)\n",
    "\n",
    "# DEFENSEDROID\n",
    "defense_df = pd.concat([Bdf_defense, Mdf_defense])\n",
    "defense_df = shuffle(defense_df)\n",
    "defense_df = defense_df.reset_index()\n",
    "defense_df.drop(columns=[\"index\"], inplace=True)\n",
    "\n",
    "# MOTODROID\n",
    "moto_df = pd.concat([Bdf_moto, Mdf_moto])\n",
    "moto_df = shuffle(moto_df)\n",
    "moto_df = moto_df.reset_index()\n",
    "moto_df.drop(columns=[\"index\"], inplace=True)"
   ]
  },
  {
   "cell_type": "markdown",
   "metadata": {},
   "source": [
    "### Exportando Datasets nivelados"
   ]
  },
  {
   "cell_type": "code",
   "execution_count": 9,
   "metadata": {},
   "outputs": [],
   "source": [
    "# DREBIN\n",
    "drebin_df.to_csv(\"Leveled_Intersection_v2_Drebin215 (duplicates).csv\", index = False)\n",
    "\n",
    "# KRONODROID\n",
    "krono_df.to_csv(\"Leveled_Intersection_v2_krono (duplicates).csv\", index = False)\n",
    "\n",
    "# DEFENSEDROID\n",
    "defense_df.to_csv(\"Leveled_Intersection_v2_DefenseDroid (duplicates).csv\", index = False)\n",
    "\n",
    "# MOTODROID\n",
    "moto_df.to_csv(\"Leveled_Intersection_v2_MotoDroid (duplicates).csv\", index = False)"
   ]
  }
 ],
 "metadata": {
  "interpreter": {
   "hash": "916dbcbb3f70747c44a77c7bcd40155683ae19c65e1c03b4aa3499c5328201f1"
  },
  "kernelspec": {
   "display_name": "Python 3.8.10 64-bit",
   "language": "python",
   "name": "python3"
  },
  "language_info": {
   "codemirror_mode": {
    "name": "ipython",
    "version": 3
   },
   "file_extension": ".py",
   "mimetype": "text/x-python",
   "name": "python",
   "nbconvert_exporter": "python",
   "pygments_lexer": "ipython3",
   "version": "3.8.10"
  },
  "orig_nbformat": 4
 },
 "nbformat": 4,
 "nbformat_minor": 2
}
