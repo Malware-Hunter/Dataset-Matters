{
 "cells": [
  {
   "cell_type": "code",
   "execution_count": 1,
   "metadata": {},
   "outputs": [],
   "source": [
    "import pandas as pd\n",
    "import numpy as np\n",
    "\n",
    "# Tirando limitação de exibição de linhas e colunas dos datasets\n",
    "pd.options.display.max_rows = None\n",
    "pd.options.display.max_columns = None"
   ]
  },
  {
   "cell_type": "markdown",
   "metadata": {},
   "source": [
    "# Importações"
   ]
  },
  {
   "cell_type": "markdown",
   "metadata": {},
   "source": [
    "### Datasets SigPID\n",
    "Drebin, Androcrawl, AndroidMalwareNormal, KronoDroid, DefenseDroid e MotoDroid."
   ]
  },
  {
   "cell_type": "code",
   "execution_count": 2,
   "metadata": {},
   "outputs": [],
   "source": [
    "drebin_sigpid = pd.read_csv('../4_Datasets_Permissions_After_sigPID/Drebin215_Permissions_sigPID.csv')\n",
    "androcrawl_sigpid = pd.read_csv('../4_Datasets_Permissions_After_sigPID/Androcrawl_Permissions_sigPID.csv')\n",
    "android_sigpid = pd.read_csv('../4_Datasets_Permissions_After_sigPID/AndroidMalwareNormal_Permissions_sigPID.csv')\n",
    "krono_sigpid = pd.read_csv('../4_Datasets_Permissions_After_sigPID/KronoDroid_Permissions_sigPID.csv')\n",
    "defense_sigpid = pd.read_csv('../4_Datasets_Permissions_After_sigPID/DefenseDroid_Permissions_sigPID.csv')\n",
    "moto_sigpid = pd.read_csv('../4_Datasets_Permissions_After_sigPID/MotoDroid_Permissions_sigPID.csv')"
   ]
  },
  {
   "cell_type": "markdown",
   "metadata": {},
   "source": [
    "### Intersecção dos 4 datasets (Vertente 1)\n",
    "Drebin, Androcrawl, AndroidMalwareNormal e DefenseDroid (13 permissões + class)"
   ]
  },
  {
   "cell_type": "code",
   "execution_count": 3,
   "metadata": {},
   "outputs": [],
   "source": [
    "drebin_intersect = pd.read_csv('../3_Permissions_Datasets_Intersection/Intersection_Drebin.csv')\n",
    "androcrawl_intersect = pd.read_csv('../3_Permissions_Datasets_Intersection/Intersection_Androcrawl.csv')\n",
    "android_intersect = pd.read_csv('../3_Permissions_Datasets_Intersection/Intersection_AndroidMalwareNormal.csv')\n",
    "defense_intersect = pd.read_csv('../3_Permissions_Datasets_Intersection/Intersection_DefenseDroid.csv')"
   ]
  },
  {
   "cell_type": "markdown",
   "metadata": {},
   "source": [
    "### Intersecção dos 4 datasets (Vertente 2)\n",
    "Drebin, KronoDroid, DefenseDroid e MotoDroid (55 permissões + class)"
   ]
  },
  {
   "cell_type": "code",
   "execution_count": 4,
   "metadata": {},
   "outputs": [],
   "source": [
    "drebin_DDKM = pd.read_csv('../3_Permissions_Datasets_Intersection/Intersection_v2/Intersection_Drebin.csv')\n",
    "krono_DDKM = pd.read_csv('../3_Permissions_Datasets_Intersection/Intersection_v2/Intersection_KronoDroid.csv')\n",
    "defense_DDKM = pd.read_csv('../3_Permissions_Datasets_Intersection/Intersection_v2/Intersection_DefenseDroid.csv')\n",
    "moto_DDKM = pd.read_csv('../3_Permissions_Datasets_Intersection/Intersection_v2/Intersection_MotoDroid.csv')"
   ]
  },
  {
   "cell_type": "markdown",
   "metadata": {},
   "source": [
    "### Datasets de Permissões\n",
    "Drebin, Androcrawl, AndroidMalwareNormal, Kronodroid, DefenseDroid e MotoDroid"
   ]
  },
  {
   "cell_type": "code",
   "execution_count": 5,
   "metadata": {},
   "outputs": [],
   "source": [
    "drebin_permission = pd.read_csv('../2_Only_Permissions_Datasets/Permission_Drebin215.csv')\n",
    "androcrawl_permission = pd.read_csv('../2_Only_Permissions_Datasets/Permission_Androcrawl.csv')\n",
    "android_permission = pd.read_csv('../2_Only_Permissions_Datasets/Permission_AndroidMalwareNormal.csv')\n",
    "krono_permission = pd.read_csv('../2_Only_Permissions_Datasets/Permission_Kronodroid.csv')\n",
    "defense_permission = pd.read_csv('../2_Only_Permissions_Datasets/Permission_DefenseDroid.csv')\n",
    "moto_permission = pd.read_csv('../2_Only_Permissions_Datasets/Permission_MotoDroid.csv')"
   ]
  },
  {
   "cell_type": "markdown",
   "metadata": {},
   "source": [
    "# Exploração"
   ]
  },
  {
   "cell_type": "markdown",
   "metadata": {},
   "source": [
    "* Analisar % de redução de datasets após o SigPID;\n",
    "* Analisar quantas permissões do SigPID estão presentes nas intersecções dos datasets."
   ]
  },
  {
   "cell_type": "markdown",
   "metadata": {},
   "source": [
    "## Redução dos datasets de permissões após SigPID"
   ]
  },
  {
   "cell_type": "code",
   "execution_count": 6,
   "metadata": {},
   "outputs": [],
   "source": [
    "drebin_reduction = 100 - (drebin_sigpid.shape[1] / drebin_permission.shape[1]) * 100\n",
    "androcrawl_reduction = 100 - (androcrawl_sigpid.shape[1] / androcrawl_permission.shape[1]) * 100\n",
    "android_reduction = 100 - (android_sigpid.shape[1] / android_permission.shape[1]) * 100\n",
    "krono_reduction = 100 - (krono_sigpid.shape[1] / krono_permission.shape[1]) * 100\n",
    "defense_reduction = 100 - (defense_sigpid.shape[1] / defense_permission.shape[1]) * 100\n",
    "moto_reduction = 100 - (moto_sigpid.shape[1] / moto_permission.shape[1]) * 100"
   ]
  },
  {
   "cell_type": "code",
   "execution_count": 7,
   "metadata": {},
   "outputs": [
    {
     "name": "stdout",
     "output_type": "stream",
     "text": [
      "Drebin sofreu uma redução de 23.68421052631578 %\n",
      "Características - 114 >> 87\n",
      "\n",
      "Androcrawl sofreu uma redução de 88.13559322033899 %\n",
      "Características - 59 >> 7\n",
      "\n",
      "AndroidMalwareNormal sofreu uma redução de 95.97701149425288 %\n",
      "Características - 174 >> 7\n",
      "\n",
      "KronoDroid sofreu uma redução de 25.748502994011986 %\n",
      "Características - 167 >> 124\n",
      "\n",
      "DefenseDroid sofreu uma redução de 37.77777777777778 %\n",
      "Características - 135 >> 84\n",
      "\n",
      "MotoDroid sofreu uma redução de 24.13793103448276 %\n",
      "Características - 145 >> 110\n"
     ]
    }
   ],
   "source": [
    "print('Drebin sofreu uma redução de',drebin_reduction,'%\\nCaracterísticas -', drebin_permission.shape[1],'>>',drebin_sigpid.shape[1])\n",
    "print('\\nAndrocrawl sofreu uma redução de',androcrawl_reduction,'%\\nCaracterísticas -', androcrawl_permission.shape[1],'>>',androcrawl_sigpid.shape[1])\n",
    "print('\\nAndroidMalwareNormal sofreu uma redução de',android_reduction,'%\\nCaracterísticas -', android_permission.shape[1],'>>',android_sigpid.shape[1])\n",
    "print('\\nKronoDroid sofreu uma redução de',krono_reduction,'%\\nCaracterísticas -', krono_permission.shape[1],'>>',krono_sigpid.shape[1])\n",
    "print('\\nDefenseDroid sofreu uma redução de',defense_reduction,'%\\nCaracterísticas -', defense_permission.shape[1],'>>',defense_sigpid.shape[1])\n",
    "print('\\nMotoDroid sofreu uma redução de',moto_reduction,'%\\nCaracterísticas -', moto_permission.shape[1],'>>',moto_sigpid.shape[1])"
   ]
  },
  {
   "cell_type": "markdown",
   "metadata": {},
   "source": [
    "## Quantidade de permissões selecionadas pelo SigPID"
   ]
  },
  {
   "cell_type": "markdown",
   "metadata": {},
   "source": [
    "### Vertente 1"
   ]
  },
  {
   "cell_type": "markdown",
   "metadata": {},
   "source": [
    "#### Drebin"
   ]
  },
  {
   "cell_type": "code",
   "execution_count": 8,
   "metadata": {},
   "outputs": [
    {
     "name": "stdout",
     "output_type": "stream",
     "text": [
      "CHANGE_COMPONENT_ENABLED_STATE\n",
      "DISABLE_KEYGUARD\n",
      "KILL_BACKGROUND_PROCESSES\n",
      "STATUS_BAR\n",
      "WRITE_HISTORY_BOOKMARKS\n",
      "DEVICE_POWER\n",
      "EXPAND_STATUS_BAR\n",
      "FLASHLIGHT\n",
      "READ_USER_DICTIONARY\n",
      "SET_ORIENTATION\n",
      "class\n",
      "\n",
      "Quantidade de permissões Drebin >> 11 / 14\n"
     ]
    }
   ],
   "source": [
    "count_col = 0\n",
    "for col in drebin_intersect:\n",
    "    for col2 in drebin_sigpid:\n",
    "        if col == col2:\n",
    "            count_col += 1\n",
    "            print(col)\n",
    "print('\\nQuantidade de permissões Drebin >>',count_col,'/',drebin_intersect.shape[1])"
   ]
  },
  {
   "cell_type": "markdown",
   "metadata": {},
   "source": [
    "#### Androcrawl"
   ]
  },
  {
   "cell_type": "code",
   "execution_count": 9,
   "metadata": {},
   "outputs": [
    {
     "name": "stdout",
     "output_type": "stream",
     "text": [
      "READ_USER_DICTIONARY\n",
      "WRITE_USER_DICTIONARY\n",
      "class\n",
      "\n",
      "Quantidade de permissões Androcrawl >> 3 / 14\n"
     ]
    }
   ],
   "source": [
    "count_col = 0\n",
    "for col in androcrawl_intersect:\n",
    "    for col2 in androcrawl_sigpid:\n",
    "        if col == col2:\n",
    "            count_col += 1\n",
    "            print(col)\n",
    "print('\\nQuantidade de permissões Androcrawl >>',count_col,'/',androcrawl_intersect.shape[1])"
   ]
  },
  {
   "cell_type": "markdown",
   "metadata": {},
   "source": [
    "#### AndroidMalwareNormal"
   ]
  },
  {
   "cell_type": "code",
   "execution_count": 10,
   "metadata": {},
   "outputs": [
    {
     "name": "stdout",
     "output_type": "stream",
     "text": [
      "class\n",
      "\n",
      "Quantidade de permissões android >> 1 / 14\n"
     ]
    }
   ],
   "source": [
    "count_col = 0\n",
    "for col in android_intersect:\n",
    "    for col2 in android_sigpid:\n",
    "        if col == col2:\n",
    "            count_col += 1\n",
    "            print(col)\n",
    "print('\\nQuantidade de permissões android >>',count_col,'/',android_intersect.shape[1])"
   ]
  },
  {
   "cell_type": "markdown",
   "metadata": {},
   "source": [
    "#### DefenseDroid"
   ]
  },
  {
   "cell_type": "code",
   "execution_count": 11,
   "metadata": {},
   "outputs": [
    {
     "name": "stdout",
     "output_type": "stream",
     "text": [
      "CHANGE_COMPONENT_ENABLED_STATE\n",
      "DISABLE_KEYGUARD\n",
      "KILL_BACKGROUND_PROCESSES\n",
      "STATUS_BAR\n",
      "WRITE_HISTORY_BOOKMARKS\n",
      "CONTROL_LOCATION_UPDATES\n",
      "DEVICE_POWER\n",
      "EXPAND_STATUS_BAR\n",
      "FLASHLIGHT\n",
      "READ_USER_DICTIONARY\n",
      "SET_ORIENTATION\n",
      "WRITE_USER_DICTIONARY\n",
      "class\n",
      "\n",
      "Quantidade de permissões defense >> 13 / 14\n"
     ]
    }
   ],
   "source": [
    "count_col = 0\n",
    "for col in defense_intersect:\n",
    "    for col2 in defense_sigpid:\n",
    "        if col == col2:\n",
    "            count_col += 1\n",
    "            print(col)\n",
    "print('\\nQuantidade de permissões defense >>',count_col,'/',defense_intersect.shape[1])"
   ]
  },
  {
   "cell_type": "markdown",
   "metadata": {},
   "source": [
    "### Vertente 2"
   ]
  },
  {
   "cell_type": "markdown",
   "metadata": {},
   "source": [
    "#### Drebin"
   ]
  },
  {
   "cell_type": "code",
   "execution_count": 12,
   "metadata": {},
   "outputs": [
    {
     "name": "stdout",
     "output_type": "stream",
     "text": [
      "GET_ACCOUNTS\n",
      "CAMERA\n",
      "NFC\n",
      "ACCESS_LOCATION_EXTRA_COMMANDS\n",
      "BROADCAST_STICKY\n",
      "RESTART_PACKAGES\n",
      "BLUETOOTH\n",
      "READ_EXTERNAL_STORAGE\n",
      "ACCESS_NETWORK_STATE\n",
      "CHANGE_WIFI_MULTICAST_STATE\n",
      "UPDATE_DEVICE_STATS\n",
      "DELETE_PACKAGES\n",
      "GET_TASKS\n",
      "GLOBAL_SEARCH\n",
      "DELETE_CACHE_FILES\n",
      "BIND_INPUT_METHOD\n",
      "PROCESS_OUTGOING_CALLS\n",
      "CALL_PRIVILEGED\n",
      "BIND_WALLPAPER\n",
      "DUMP\n",
      "BATTERY_STATS\n",
      "ACCESS_COARSE_LOCATION\n",
      "BLUETOOTH_ADMIN\n",
      "BIND_DEVICE_ADMIN\n",
      "KILL_BACKGROUND_PROCESSES\n",
      "STATUS_BAR\n",
      "PERSISTENT_ACTIVITY\n",
      "CHANGE_NETWORK_STATE\n",
      "BROADCAST_WAP_PUSH\n",
      "CALL_PHONE\n",
      "BIND_APPWIDGET\n",
      "CHANGE_CONFIGURATION\n",
      "BROADCAST_SMS\n",
      "EXPAND_STATUS_BAR\n",
      "DISABLE_KEYGUARD\n",
      "GET_PACKAGE_SIZE\n",
      "CHANGE_COMPONENT_ENABLED_STATE\n",
      "CLEAR_APP_CACHE\n",
      "ACCESS_WIFI_STATE\n",
      "WRITE_EXTERNAL_STORAGE\n",
      "ACCESS_FINE_LOCATION\n",
      "SET_PREFERRED_APPLICATIONS\n",
      "WRITE_SECURE_SETTINGS\n",
      "class\n",
      "\n",
      "Quantidade de permissões Drebin >> 44 / 56\n"
     ]
    }
   ],
   "source": [
    "count_col = 0\n",
    "for col in drebin_DDKM:\n",
    "    for col2 in drebin_sigpid:\n",
    "        if col == col2:\n",
    "            count_col += 1\n",
    "            print(col)\n",
    "print('\\nQuantidade de permissões Drebin >>',count_col,'/',drebin_DDKM.shape[1])"
   ]
  },
  {
   "cell_type": "markdown",
   "metadata": {},
   "source": [
    "#### KronoDroid"
   ]
  },
  {
   "cell_type": "code",
   "execution_count": 13,
   "metadata": {},
   "outputs": [
    {
     "name": "stdout",
     "output_type": "stream",
     "text": [
      "GET_ACCOUNTS\n",
      "CAMERA\n",
      "NFC\n",
      "ACCESS_LOCATION_EXTRA_COMMANDS\n",
      "BIND_REMOTEVIEWS\n",
      "BROADCAST_STICKY\n",
      "RESTART_PACKAGES\n",
      "BLUETOOTH\n",
      "READ_CALL_LOG\n",
      "READ_EXTERNAL_STORAGE\n",
      "CHANGE_WIFI_MULTICAST_STATE\n",
      "UPDATE_DEVICE_STATS\n",
      "WRITE_CALL_LOG\n",
      "DELETE_PACKAGES\n",
      "GET_TASKS\n",
      "GLOBAL_SEARCH\n",
      "DELETE_CACHE_FILES\n",
      "BIND_INPUT_METHOD\n",
      "PROCESS_OUTGOING_CALLS\n",
      "CALL_PRIVILEGED\n",
      "BIND_WALLPAPER\n",
      "DUMP\n",
      "BATTERY_STATS\n",
      "ACCESS_COARSE_LOCATION\n",
      "SET_TIME\n",
      "BLUETOOTH_ADMIN\n",
      "BIND_DEVICE_ADMIN\n",
      "KILL_BACKGROUND_PROCESSES\n",
      "STATUS_BAR\n",
      "PERSISTENT_ACTIVITY\n",
      "CHANGE_NETWORK_STATE\n",
      "CONTROL_LOCATION_UPDATES\n",
      "BROADCAST_WAP_PUSH\n",
      "BIND_ACCESSIBILITY_SERVICE\n",
      "CALL_PHONE\n",
      "BIND_APPWIDGET\n",
      "BIND_TEXT_SERVICE\n",
      "INSTALL_LOCATION_PROVIDER\n",
      "MOUNT_FORMAT_FILESYSTEMS\n",
      "CHANGE_CONFIGURATION\n",
      "CHANGE_WIFI_STATE\n",
      "BROADCAST_SMS\n",
      "EXPAND_STATUS_BAR\n",
      "BIND_VPN_SERVICE\n",
      "DISABLE_KEYGUARD\n",
      "GET_PACKAGE_SIZE\n",
      "CHANGE_COMPONENT_ENABLED_STATE\n",
      "CLEAR_APP_CACHE\n",
      "ACCESS_FINE_LOCATION\n",
      "SET_PREFERRED_APPLICATIONS\n",
      "WRITE_SECURE_SETTINGS\n",
      "\n",
      "Quantidade de permissões krono >> 51 / 56\n"
     ]
    }
   ],
   "source": [
    "count_col = 0\n",
    "for col in krono_DDKM:\n",
    "    for col2 in krono_sigpid:\n",
    "        if col == col2:\n",
    "            count_col += 1\n",
    "            print(col)\n",
    "print('\\nQuantidade de permissões krono >>',count_col,'/',krono_DDKM.shape[1])"
   ]
  },
  {
   "cell_type": "markdown",
   "metadata": {},
   "source": [
    "#### DefenseDroid"
   ]
  },
  {
   "cell_type": "code",
   "execution_count": 14,
   "metadata": {},
   "outputs": [
    {
     "name": "stdout",
     "output_type": "stream",
     "text": [
      "NFC\n",
      "ACCESS_LOCATION_EXTRA_COMMANDS\n",
      "BROADCAST_STICKY\n",
      "RESTART_PACKAGES\n",
      "BLUETOOTH\n",
      "READ_CALL_LOG\n",
      "READ_EXTERNAL_STORAGE\n",
      "UPDATE_DEVICE_STATS\n",
      "WRITE_CALL_LOG\n",
      "DELETE_PACKAGES\n",
      "GET_TASKS\n",
      "BIND_INPUT_METHOD\n",
      "CALL_PRIVILEGED\n",
      "BIND_WALLPAPER\n",
      "BATTERY_STATS\n",
      "BIND_DEVICE_ADMIN\n",
      "KILL_BACKGROUND_PROCESSES\n",
      "STATUS_BAR\n",
      "PERSISTENT_ACTIVITY\n",
      "CHANGE_NETWORK_STATE\n",
      "CONTROL_LOCATION_UPDATES\n",
      "BROADCAST_WAP_PUSH\n",
      "BIND_ACCESSIBILITY_SERVICE\n",
      "ADD_VOICEMAIL\n",
      "CALL_PHONE\n",
      "BIND_APPWIDGET\n",
      "MOUNT_FORMAT_FILESYSTEMS\n",
      "CHANGE_CONFIGURATION\n",
      "CHANGE_WIFI_STATE\n",
      "BROADCAST_SMS\n",
      "EXPAND_STATUS_BAR\n",
      "DISABLE_KEYGUARD\n",
      "GET_PACKAGE_SIZE\n",
      "CHANGE_COMPONENT_ENABLED_STATE\n",
      "SET_PREFERRED_APPLICATIONS\n",
      "WRITE_SECURE_SETTINGS\n",
      "class\n",
      "\n",
      "Quantidade de permissões defense >> 37 / 56\n"
     ]
    }
   ],
   "source": [
    "count_col = 0\n",
    "for col in defense_DDKM:\n",
    "    for col2 in defense_sigpid:\n",
    "        if col == col2:\n",
    "            count_col += 1\n",
    "            print(col)\n",
    "print('\\nQuantidade de permissões defense >>',count_col,'/',defense_DDKM.shape[1])"
   ]
  },
  {
   "cell_type": "markdown",
   "metadata": {},
   "source": [
    "#### MotoDroid"
   ]
  },
  {
   "cell_type": "code",
   "execution_count": 16,
   "metadata": {},
   "outputs": [
    {
     "name": "stdout",
     "output_type": "stream",
     "text": [
      "GET_ACCOUNTS\n",
      "CAMERA\n",
      "ACCESS_LOCATION_EXTRA_COMMANDS\n",
      "BIND_REMOTEVIEWS\n",
      "BROADCAST_STICKY\n",
      "RESTART_PACKAGES\n",
      "BLUETOOTH\n",
      "READ_CALL_LOG\n",
      "READ_EXTERNAL_STORAGE\n",
      "CHANGE_WIFI_MULTICAST_STATE\n",
      "UPDATE_DEVICE_STATS\n",
      "WRITE_CALL_LOG\n",
      "DELETE_PACKAGES\n",
      "GET_TASKS\n",
      "DELETE_CACHE_FILES\n",
      "BIND_INPUT_METHOD\n",
      "PROCESS_OUTGOING_CALLS\n",
      "CALL_PRIVILEGED\n",
      "BIND_WALLPAPER\n",
      "DUMP\n",
      "BATTERY_STATS\n",
      "SET_TIME\n",
      "KILL_BACKGROUND_PROCESSES\n",
      "STATUS_BAR\n",
      "PERSISTENT_ACTIVITY\n",
      "CHANGE_NETWORK_STATE\n",
      "CONTROL_LOCATION_UPDATES\n",
      "BIND_ACCESSIBILITY_SERVICE\n",
      "CALL_PHONE\n",
      "BIND_APPWIDGET\n",
      "BIND_TEXT_SERVICE\n",
      "INSTALL_LOCATION_PROVIDER\n",
      "MOUNT_FORMAT_FILESYSTEMS\n",
      "CHANGE_CONFIGURATION\n",
      "CHANGE_WIFI_STATE\n",
      "BROADCAST_SMS\n",
      "EXPAND_STATUS_BAR\n",
      "BIND_VPN_SERVICE\n",
      "DISABLE_KEYGUARD\n",
      "GET_PACKAGE_SIZE\n",
      "CHANGE_COMPONENT_ENABLED_STATE\n",
      "CLEAR_APP_CACHE\n",
      "SET_PREFERRED_APPLICATIONS\n",
      "WRITE_SECURE_SETTINGS\n",
      "class\n",
      "\n",
      "Quantidade de permissões moto >> 45 / 56\n"
     ]
    }
   ],
   "source": [
    "count_col = 0\n",
    "for col in moto_DDKM:\n",
    "    for col2 in moto_sigpid:\n",
    "        if col == col2:\n",
    "            count_col += 1\n",
    "            print(col)\n",
    "print('\\nQuantidade de permissões moto >>',count_col,'/',moto_DDKM.shape[1])"
   ]
  }
 ],
 "metadata": {
  "interpreter": {
   "hash": "916dbcbb3f70747c44a77c7bcd40155683ae19c65e1c03b4aa3499c5328201f1"
  },
  "kernelspec": {
   "display_name": "Python 3.8.10 64-bit",
   "language": "python",
   "name": "python3"
  },
  "language_info": {
   "codemirror_mode": {
    "name": "ipython",
    "version": 3
   },
   "file_extension": ".py",
   "mimetype": "text/x-python",
   "name": "python",
   "nbconvert_exporter": "python",
   "pygments_lexer": "ipython3",
   "version": "3.8.10"
  },
  "orig_nbformat": 4
 },
 "nbformat": 4,
 "nbformat_minor": 2
}
