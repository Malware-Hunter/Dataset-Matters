{
 "cells": [
  {
   "cell_type": "code",
   "execution_count": 1,
   "metadata": {
    "cell_id": "00000-a3822d84-acaf-4ad9-93b5-52e4dd5ba609",
    "deepnote_cell_type": "code",
    "deepnote_to_be_reexecuted": false,
    "execution_millis": 4043,
    "execution_start": 1631232016019,
    "source_hash": "73efdfa6",
    "tags": []
   },
   "outputs": [
    {
     "name": "stdout",
     "output_type": "stream",
     "text": [
      "Requirement already satisfied: imblearn in c:\\users\\barce\\appdata\\local\\programs\\python\\python39\\lib\\site-packages (0.0)\n",
      "Requirement already satisfied: imbalanced-learn in c:\\users\\barce\\appdata\\local\\programs\\python\\python39\\lib\\site-packages (from imblearn) (0.8.0)\n",
      "Requirement already satisfied: numpy>=1.13.3 in c:\\users\\barce\\appdata\\local\\programs\\python\\python39\\lib\\site-packages (from imbalanced-learn->imblearn) (1.21.2)\n",
      "Requirement already satisfied: joblib>=0.11 in c:\\users\\barce\\appdata\\local\\programs\\python\\python39\\lib\\site-packages (from imbalanced-learn->imblearn) (1.0.1)\n",
      "Requirement already satisfied: scikit-learn>=0.24 in c:\\users\\barce\\appdata\\local\\programs\\python\\python39\\lib\\site-packages (from imbalanced-learn->imblearn) (0.24.2)\n",
      "Requirement already satisfied: scipy>=0.19.1 in c:\\users\\barce\\appdata\\local\\programs\\python\\python39\\lib\\site-packages (from imbalanced-learn->imblearn) (1.7.1)\n",
      "Requirement already satisfied: threadpoolctl>=2.0.0 in c:\\users\\barce\\appdata\\local\\programs\\python\\python39\\lib\\site-packages (from scikit-learn>=0.24->imbalanced-learn->imblearn) (2.2.0)\n"
     ]
    }
   ],
   "source": [
    "!pip install imblearn"
   ]
  },
  {
   "cell_type": "code",
   "execution_count": 2,
   "metadata": {
    "cell_id": "00001-73e5ebf8-8647-4c99-a813-20df72e6c3c3",
    "deepnote_cell_type": "code",
    "deepnote_to_be_reexecuted": false,
    "execution_millis": 1713,
    "execution_start": 1631232020066,
    "source_hash": "776d5cb6",
    "tags": []
   },
   "outputs": [],
   "source": [
    "import pandas as pd\n",
    "import numpy as np\n",
    "import matplotlib.pyplot as plt\n",
    "from sklearn.model_selection import train_test_split, cross_val_score, RandomizedSearchCV\n",
    "from sklearn.ensemble import RandomForestClassifier\n",
    "from sklearn.metrics import plot_confusion_matrix, roc_auc_score, plot_roc_curve\n",
    "from imblearn.under_sampling import RandomUnderSampler"
   ]
  },
  {
   "cell_type": "code",
   "execution_count": 3,
   "metadata": {
    "cell_id": "00002-b8c24a55-5328-4ac5-870b-2a42c36abda0",
    "deepnote_cell_type": "code",
    "deepnote_to_be_reexecuted": false,
    "execution_millis": 2,
    "execution_start": 1631232021786,
    "source_hash": "17e575e3",
    "tags": []
   },
   "outputs": [],
   "source": [
    "pd.options.display.max_columns = None\n",
    "pd.options.display.max_rows = None"
   ]
  },
  {
   "cell_type": "code",
   "execution_count": 4,
   "metadata": {
    "cell_id": "00003-96130d35-a1c5-45a8-8f77-01bbc38a5349",
    "deepnote_cell_type": "code",
    "deepnote_to_be_reexecuted": false,
    "execution_millis": 166,
    "execution_start": 1631232021796,
    "source_hash": "b745fec1",
    "tags": []
   },
   "outputs": [],
   "source": [
    "drebin = pd.read_csv(\"../Datasets Intersecção/Interseccao_Drebin.csv\")\n",
    "androcrawl = pd.read_csv(\"../Datasets Intersecção/Interseccao_Androcrawl.csv\")\n",
    "android = pd.read_csv(\"../Datasets Intersecção/Interseccao_AndroidMalwareNormal.csv\")\n",
    "droid = pd.read_csv(\"../Datasets Intersecção/Interseccao_DefenseDroid.csv\")"
   ]
  },
  {
   "cell_type": "code",
   "execution_count": 5,
   "metadata": {
    "cell_id": "00004-4a3ef432-4a43-4fa2-9475-0ca1e4ed34ff",
    "deepnote_cell_type": "code",
    "deepnote_to_be_reexecuted": false,
    "execution_millis": 6,
    "execution_start": 1631232021983,
    "source_hash": "f790ab4c",
    "tags": []
   },
   "outputs": [],
   "source": [
    "drebin.drop(\"Unnamed: 0\", axis=1, inplace=True)\n",
    "androcrawl.drop(\"Unnamed: 0\", axis=1, inplace=True)\n",
    "android.drop(\"Unnamed: 0\", axis=1, inplace=True)\n",
    "droid.drop(\"Unnamed: 0\", axis=1, inplace=True)"
   ]
  },
  {
   "cell_type": "code",
   "execution_count": 6,
   "metadata": {
    "cell_id": "00005-50cdfc66-cbc4-4d68-aefa-6a22b303cd7f",
    "deepnote_cell_type": "code",
    "deepnote_output_heights": [
     268
    ],
    "deepnote_to_be_reexecuted": false,
    "execution_millis": 45,
    "execution_start": 1631232022000,
    "source_hash": "bbdb1f8c",
    "tags": []
   },
   "outputs": [
    {
     "data": {
      "text/plain": [
       "['CHANGE_COMPONENT_ENABLED_STATE',\n",
       " 'CONTROL_LOCATION_UPDATES',\n",
       " 'DEVICE_POWER',\n",
       " 'DISABLE_KEYGUARD',\n",
       " 'EXPAND_STATUS_BAR',\n",
       " 'FLASHLIGHT',\n",
       " 'KILL_BACKGROUND_PROCESSES',\n",
       " 'READ_USER_DICTIONARY',\n",
       " 'SET_ORIENTATION',\n",
       " 'SET_TIME',\n",
       " 'STATUS_BAR',\n",
       " 'WRITE_HISTORY_BOOKMARKS',\n",
       " 'WRITE_USER_DICTIONARY',\n",
       " 'class']"
      ]
     },
     "execution_count": 6,
     "metadata": {},
     "output_type": "execute_result"
    }
   ],
   "source": [
    "sorted(drebin.columns)"
   ]
  },
  {
   "cell_type": "markdown",
   "metadata": {
    "cell_id": "00005-71d352b5-7f99-4583-84f0-188beb0c8656",
    "deepnote_cell_type": "text-cell-h1",
    "is_collapsed": false,
    "tags": []
   },
   "source": [
    "# Separação dos dados"
   ]
  },
  {
   "cell_type": "markdown",
   "metadata": {
    "cell_id": "00006-9963a768-95f6-4a6e-8a25-79c7b3451bee",
    "deepnote_cell_type": "text-cell-h3",
    "is_collapsed": false,
    "tags": []
   },
   "source": [
    "### Separação de conjuntos de treino, teste e validação"
   ]
  },
  {
   "cell_type": "code",
   "execution_count": 7,
   "metadata": {
    "cell_id": "00005-1ac31d15-349b-4256-8e28-e72c8f6ccd34",
    "deepnote_cell_type": "code",
    "deepnote_to_be_reexecuted": false,
    "execution_millis": 1,
    "execution_start": 1631232022045,
    "source_hash": "7285e6fd",
    "tags": []
   },
   "outputs": [],
   "source": [
    "train, validation = train_test_split(drebin,test_size = 0.2,stratify=drebin[\"class\"],random_state=42)"
   ]
  },
  {
   "cell_type": "code",
   "execution_count": 8,
   "metadata": {
    "cell_id": "00006-3bdfc408-f0e4-4637-80ff-fc64c2ccf5ba",
    "deepnote_cell_type": "code",
    "deepnote_to_be_reexecuted": false,
    "execution_millis": 43,
    "execution_start": 1631232022046,
    "source_hash": "605b901e",
    "tags": []
   },
   "outputs": [],
   "source": [
    "X_TRAIN = train.drop(\"class\", axis=1)\n",
    "Y_TRAIN = train[\"class\"]\n",
    "x_train, x_test, y_train, y_test = train_test_split(X_TRAIN, Y_TRAIN, test_size = 0.375, stratify = Y_TRAIN, random_state=42)"
   ]
  },
  {
   "cell_type": "code",
   "execution_count": 9,
   "metadata": {
    "cell_id": "00007-3160bf9b-3f49-4c54-a683-8c8ccfcd15a2",
    "deepnote_cell_type": "code",
    "deepnote_to_be_reexecuted": false,
    "execution_millis": 0,
    "execution_start": 1631232022090,
    "source_hash": "82a80d06",
    "tags": []
   },
   "outputs": [],
   "source": [
    "# Balanceamento de dados de treino\n",
    "rus = RandomUnderSampler()\n",
    "x_train_balanced, y_train_balanced = rus.fit_resample(x_train, y_train)\n",
    "x_train_balanced = pd.DataFrame(x_train_balanced)"
   ]
  },
  {
   "cell_type": "code",
   "execution_count": 10,
   "metadata": {
    "cell_id": "00008-5358ffef-531a-4059-9b7c-f827f6c5eda6",
    "deepnote_cell_type": "code",
    "deepnote_to_be_reexecuted": false,
    "execution_millis": 1,
    "execution_start": 1631232022090,
    "source_hash": "dbf580f6",
    "tags": []
   },
   "outputs": [],
   "source": [
    "x_validation = validation.drop(\"class\", axis=1)\n",
    "y_validation = validation[\"class\"]"
   ]
  },
  {
   "cell_type": "code",
   "execution_count": 11,
   "metadata": {
    "cell_id": "00009-d9a4c302-9f69-4ac0-9f33-5a6c0238460d",
    "deepnote_cell_type": "code",
    "deepnote_to_be_reexecuted": false,
    "execution_millis": 34,
    "execution_start": 1631232022091,
    "source_hash": "2384cb31",
    "tags": []
   },
   "outputs": [],
   "source": [
    "x_androcrawl = androcrawl.drop(\"class\", axis=1)\n",
    "y_androcrawl = androcrawl[\"class\"]"
   ]
  },
  {
   "cell_type": "code",
   "execution_count": 12,
   "metadata": {
    "cell_id": "00010-1b38e003-0334-49c5-b0d5-285c725129f5",
    "deepnote_cell_type": "code",
    "deepnote_to_be_reexecuted": false,
    "execution_millis": 0,
    "execution_start": 1631232022126,
    "source_hash": "d7c6ab22",
    "tags": []
   },
   "outputs": [],
   "source": [
    "x_android = android.drop(\"class\", axis=1)\n",
    "y_android = android[\"class\"]"
   ]
  },
  {
   "cell_type": "code",
   "execution_count": 13,
   "metadata": {
    "cell_id": "00011-5f0f663f-2d3e-4e82-b65a-2d0297fc2c46",
    "deepnote_cell_type": "code",
    "deepnote_to_be_reexecuted": false,
    "execution_millis": 0,
    "execution_start": 1631232022127,
    "source_hash": "9799e451",
    "tags": []
   },
   "outputs": [],
   "source": [
    "x_droid = droid.drop(\"class\", axis=1)\n",
    "y_droid = droid[\"class\"]"
   ]
  },
  {
   "cell_type": "code",
   "execution_count": 14,
   "metadata": {
    "cell_id": "00012-4b931319-8d7e-4dc1-8b6e-557fb08b81af",
    "deepnote_cell_type": "code",
    "deepnote_to_be_reexecuted": false,
    "execution_millis": 1,
    "execution_start": 1631232022128,
    "source_hash": "818e85d5",
    "tags": []
   },
   "outputs": [],
   "source": [
    "D_RandomForest = RandomForestClassifier()\n",
    "B_RandomForest = RandomForestClassifier()"
   ]
  },
  {
   "cell_type": "markdown",
   "metadata": {
    "cell_id": "00014-fb0cefdc-1085-4744-b55c-b6039ba0dd8d",
    "deepnote_cell_type": "markdown",
    "tags": []
   },
   "source": [
    "# HIPERPARÂMETROS PADRÕES"
   ]
  },
  {
   "cell_type": "markdown",
   "metadata": {
    "cell_id": "00016-9d3db509-8b5f-46ad-ba69-17dd2e658018",
    "deepnote_cell_type": "markdown",
    "tags": []
   },
   "source": [
    "### Treino Desbalanceado"
   ]
  },
  {
   "cell_type": "code",
   "execution_count": 15,
   "metadata": {
    "cell_id": "00015-ef54f798-e58c-489d-adfd-2bff1a1f1dd8",
    "deepnote_cell_type": "code",
    "deepnote_output_heights": [
     21
    ],
    "deepnote_to_be_reexecuted": false,
    "execution_millis": 251,
    "execution_start": 1631232022179,
    "source_hash": "b7d609b",
    "tags": []
   },
   "outputs": [
    {
     "data": {
      "text/plain": [
       "RandomForestClassifier()"
      ]
     },
     "execution_count": 15,
     "metadata": {},
     "output_type": "execute_result"
    }
   ],
   "source": [
    "D_RandomForest.fit(x_train,y_train)"
   ]
  },
  {
   "cell_type": "code",
   "execution_count": 16,
   "metadata": {
    "cell_id": "00016-d14718fa-9f14-4a1f-ab5d-76402d9cc371",
    "deepnote_cell_type": "code",
    "deepnote_to_be_reexecuted": false,
    "execution_millis": 6861,
    "execution_start": 1631232022439,
    "source_hash": "f2f2a9a1",
    "tags": []
   },
   "outputs": [
    {
     "name": "stdout",
     "output_type": "stream",
     "text": [
      "Treino desbalanceado\n",
      "Curva ROC >>  65.3846114497214 %\n",
      "Acurácia >>  81.2671095644838 %\n",
      "Precisão >>  81.44909178544111 %\n",
      "F1-Score >>  40.8380367072202 %\n",
      "Recall >>  27.326362957430916 %\n"
     ]
    }
   ],
   "source": [
    "print(\"Treino desbalanceado\")\n",
    "print(\"Curva ROC >> \", (cross_val_score(D_RandomForest, x_test, y_test, scoring=\"roc_auc\", cv = 5).mean())*100,\"%\")\n",
    "print(\"Acurácia >> \", (cross_val_score(D_RandomForest, x_test, y_test, scoring=\"accuracy\", cv = 5).mean())*100,\"%\")\n",
    "print(\"Precisão >> \", (cross_val_score(D_RandomForest, x_test, y_test, scoring=\"precision\", cv = 5).mean())*100,\"%\")\n",
    "print(\"F1-Score >> \", (cross_val_score(D_RandomForest, x_test, y_test, scoring=\"f1\", cv = 5).mean())*100,\"%\")\n",
    "print(\"Recall >> \", (cross_val_score(D_RandomForest, x_test, y_test, scoring=\"recall\", cv = 5).mean())*100,\"%\")"
   ]
  },
  {
   "cell_type": "markdown",
   "metadata": {
    "cell_id": "00019-918560a0-28e4-49bd-8e39-9cd5073ecf99",
    "deepnote_cell_type": "markdown",
    "tags": []
   },
   "source": [
    "### Treino Balanceado"
   ]
  },
  {
   "cell_type": "code",
   "execution_count": 17,
   "metadata": {
    "cell_id": "00018-df135164-81d1-4635-99e2-0fa9b27be4ee",
    "deepnote_cell_type": "code",
    "deepnote_output_heights": [
     21
    ],
    "deepnote_to_be_reexecuted": false,
    "execution_millis": 247,
    "execution_start": 1631232029326,
    "source_hash": "4cbfaf95",
    "tags": []
   },
   "outputs": [
    {
     "data": {
      "text/plain": [
       "RandomForestClassifier()"
      ]
     },
     "execution_count": 17,
     "metadata": {},
     "output_type": "execute_result"
    }
   ],
   "source": [
    "B_RandomForest.fit(x_train_balanced,y_train_balanced)"
   ]
  },
  {
   "cell_type": "code",
   "execution_count": 18,
   "metadata": {
    "cell_id": "00021-acf1dba5-23b2-484f-861e-567ddd13e837",
    "deepnote_cell_type": "code",
    "deepnote_to_be_reexecuted": false,
    "execution_millis": 6851,
    "execution_start": 1631232029587,
    "source_hash": "463c9840",
    "tags": []
   },
   "outputs": [
    {
     "name": "stdout",
     "output_type": "stream",
     "text": [
      "Treino balanceado\n",
      "Curva ROC >>  65.38761107175542 %\n",
      "Acurácia >>  81.22123800485078 %\n",
      "Precisão >>  80.91878875513808 %\n",
      "F1-Score >>  40.777925071324965 %\n",
      "Recall >>  27.326362957430916 %\n"
     ]
    }
   ],
   "source": [
    "print(\"Treino balanceado\")\n",
    "print(\"Curva ROC >> \", (cross_val_score(B_RandomForest, x_test, y_test, scoring=\"roc_auc\", cv = 5).mean())*100,\"%\")\n",
    "print(\"Acurácia >> \", (cross_val_score(B_RandomForest, x_test, y_test, scoring=\"accuracy\", cv = 5).mean())*100,\"%\")\n",
    "print(\"Precisão >> \", (cross_val_score(B_RandomForest, x_test, y_test, scoring=\"precision\", cv = 5).mean())*100,\"%\")\n",
    "print(\"F1-Score >> \", (cross_val_score(B_RandomForest, x_test, y_test, scoring=\"f1\", cv = 5).mean())*100,\"%\")\n",
    "print(\"Recall >> \", (cross_val_score(B_RandomForest, x_test, y_test, scoring=\"recall\", cv = 5).mean())*100,\"%\")"
   ]
  },
  {
   "cell_type": "markdown",
   "metadata": {
    "cell_id": "00023-1f20a05a-c20c-4cff-970c-1501d4012922",
    "deepnote_cell_type": "markdown",
    "tags": []
   },
   "source": [
    "# TESTANDO HIPERPARÂMETROS"
   ]
  },
  {
   "cell_type": "code",
   "execution_count": null,
   "metadata": {
    "cell_id": "00024-6b505590-27e1-4000-ba70-619d88639bf7",
    "deepnote_cell_type": "code",
    "deepnote_to_be_reexecuted": false,
    "execution_millis": 4687878,
    "execution_start": 1631232036450,
    "source_hash": "e36b2527",
    "tags": []
   },
   "outputs": [
    {
     "name": "stdout",
     "output_type": "stream",
     "text": [
      "Fitting 5 folds for each of 100 candidates, totalling 500 fits\n"
     ]
    }
   ],
   "source": [
    "n_estimators = [int(x) for x in np.linspace(start = 200, stop = 2000, num = 10)]\n",
    "max_features = ['auto', 'sqrt']\n",
    "max_depth = [int(x) for x in np.linspace(10, 110, num = 11)]\n",
    "max_depth.append(None)\n",
    "min_samples_split = [2, 5, 10]\n",
    "min_samples_leaf = [1, 2, 4]\n",
    "bootstrap = [True, False]\n",
    "random_grid = {'n_estimators': n_estimators,\n",
    "               'max_features': max_features,\n",
    "               'max_depth': max_depth,\n",
    "               'min_samples_split': min_samples_split,\n",
    "               'min_samples_leaf': min_samples_leaf,\n",
    "               'bootstrap': bootstrap}\n",
    "\n",
    "D_RS = RandomizedSearchCV(D_RandomForest, random_grid, random_state=42, scoring=\"roc_auc\",cv = 5, n_iter=100, n_jobs=-1, verbose=2).fit(x_train,y_train)\n",
    "B_RS = RandomizedSearchCV(B_RandomForest, random_grid, random_state=42, scoring=\"roc_auc\",cv = 5, n_iter = 100, n_jobs=-1, verbose=2).fit(x_train_balanced,y_train_balanced)"
   ]
  },
  {
   "cell_type": "code",
   "execution_count": null,
   "metadata": {
    "cell_id": "00025-e217b19f-644d-4138-acfd-2837df741c9c",
    "deepnote_cell_type": "code",
    "deepnote_output_heights": [
     116
    ],
    "deepnote_to_be_reexecuted": false,
    "execution_millis": 113,
    "execution_start": 1631236724371,
    "source_hash": "65a6459e",
    "tags": []
   },
   "outputs": [],
   "source": [
    "D_RS.best_params_"
   ]
  },
  {
   "cell_type": "code",
   "execution_count": null,
   "metadata": {
    "cell_id": "00026-b4a2e9e8-2b96-48fb-80c1-2c1a51dc3d57",
    "deepnote_cell_type": "code",
    "deepnote_output_heights": [
     116
    ],
    "deepnote_to_be_reexecuted": false,
    "execution_millis": 35,
    "execution_start": 1631236724449,
    "source_hash": "ee2e9ba2",
    "tags": []
   },
   "outputs": [],
   "source": [
    "B_RS.best_params_"
   ]
  },
  {
   "cell_type": "markdown",
   "metadata": {
    "cell_id": "00027-5340ad4d-4498-47e7-857b-ba9ed2ea1f7a",
    "deepnote_cell_type": "markdown",
    "tags": []
   },
   "source": [
    "# HIPERPARÂMETROS OTIMIZADOS"
   ]
  },
  {
   "cell_type": "code",
   "execution_count": null,
   "metadata": {
    "cell_id": "00028-743ae34d-0ea5-4a7c-a0fb-4df7de2121af",
    "deepnote_cell_type": "code",
    "deepnote_to_be_reexecuted": false,
    "execution_millis": 0,
    "execution_start": 1631236724450,
    "source_hash": "21b5f619",
    "tags": []
   },
   "outputs": [],
   "source": [
    "OD_RandomForest = RandomForestClassifier(**D_RS.best_params_)\n",
    "OB_RandomForest = RandomForestClassifier(**B_RS.best_params_)"
   ]
  },
  {
   "cell_type": "code",
   "execution_count": null,
   "metadata": {
    "cell_id": "00029-1cca8183-89e1-45aa-8a6d-22a4df75695b",
    "deepnote_cell_type": "code",
    "deepnote_output_heights": [
     40
    ],
    "deepnote_to_be_reexecuted": false,
    "execution_millis": 6824,
    "execution_start": 1631236724454,
    "source_hash": "30d50c73",
    "tags": []
   },
   "outputs": [],
   "source": [
    "OD_RandomForest.fit(x_train,y_train)"
   ]
  },
  {
   "cell_type": "code",
   "execution_count": null,
   "metadata": {
    "cell_id": "00030-d0f3d768-22ad-49e6-876c-e4b6ad16cbf7",
    "deepnote_cell_type": "code",
    "deepnote_to_be_reexecuted": false,
    "execution_millis": 140481,
    "execution_start": 1631236731276,
    "source_hash": "22bf9351",
    "tags": []
   },
   "outputs": [],
   "source": [
    "print(\"Treino desbalanceado\")\n",
    "print(\"Curva ROC >> \", (cross_val_score(OD_RandomForest, x_test, y_test, scoring=\"roc_auc\", cv = 5).mean())*100,\"%\")\n",
    "print(\"Acurácia >> \", (cross_val_score(OD_RandomForest, x_test, y_test, scoring=\"accuracy\", cv = 5).mean())*100,\"%\")\n",
    "print(\"Precisão >> \", (cross_val_score(OD_RandomForest, x_test, y_test, scoring=\"precision\", cv = 5).mean())*100,\"%\")\n",
    "print(\"F1-Score >> \", (cross_val_score(OD_RandomForest, x_test, y_test, scoring=\"f1\", cv = 5).mean())*100,\"%\")\n",
    "print(\"Recall >> \", (cross_val_score(OD_RandomForest, x_test, y_test, scoring=\"recall\", cv = 5).mean())*100,\"%\")"
   ]
  },
  {
   "cell_type": "code",
   "execution_count": null,
   "metadata": {
    "cell_id": "00031-5e67ac55-9918-4bd4-8287-c501d94d4724",
    "deepnote_cell_type": "code",
    "deepnote_output_heights": [
     40
    ],
    "deepnote_to_be_reexecuted": false,
    "execution_millis": 4685,
    "execution_start": 1631236871868,
    "source_hash": "bfebdc9c",
    "tags": []
   },
   "outputs": [],
   "source": [
    "OB_RandomForest.fit(x_train_balanced, y_train_balanced)"
   ]
  },
  {
   "cell_type": "code",
   "execution_count": null,
   "metadata": {
    "cell_id": "00032-606a9f4e-6283-4ec6-8e42-7d2948e63a85",
    "deepnote_cell_type": "code",
    "deepnote_to_be_reexecuted": false,
    "execution_millis": 125992,
    "execution_start": 1631236876560,
    "source_hash": "3edfa508",
    "tags": []
   },
   "outputs": [],
   "source": [
    "print(\"Treino balanceado\")\n",
    "print(\"Curva ROC >> \", (cross_val_score(OB_RandomForest, x_test, y_test, scoring=\"roc_auc\", cv = 5).mean())*100,\"%\")\n",
    "print(\"Acurácia >> \", (cross_val_score(OB_RandomForest, x_test, y_test, scoring=\"accuracy\", cv = 5).mean())*100,\"%\")\n",
    "print(\"Precisão >> \", (cross_val_score(OB_RandomForest, x_test, y_test, scoring=\"precision\", cv = 5).mean())*100,\"%\")\n",
    "print(\"F1-Score >> \", (cross_val_score(OB_RandomForest, x_test, y_test, scoring=\"f1\", cv = 5).mean())*100,\"%\")\n",
    "print(\"Recall >> \", (cross_val_score(OB_RandomForest, x_test, y_test, scoring=\"recall\", cv = 5).mean())*100,\"%\")"
   ]
  },
  {
   "cell_type": "markdown",
   "metadata": {
    "cell_id": "00032-40218e18-352f-4c7e-b7ff-b6b35ce48945",
    "deepnote_cell_type": "markdown",
    "tags": []
   },
   "source": [
    "# HIPERPARÂMETROS PADRÕES X HIPERPARÂMETROS OTIMIZADOS"
   ]
  },
  {
   "cell_type": "markdown",
   "metadata": {
    "cell_id": "00033-68ec927d-19cd-4e4f-ab39-7bda1ee4279a",
    "deepnote_cell_type": "markdown",
    "tags": []
   },
   "source": [
    "### Desbalanceado"
   ]
  },
  {
   "cell_type": "code",
   "execution_count": null,
   "metadata": {
    "cell_id": "00034-966f855e-d62b-4c76-8eec-fa7d633dc79e",
    "deepnote_cell_type": "code",
    "deepnote_output_heights": [
     21,
     493.3125
    ],
    "deepnote_to_be_reexecuted": false,
    "execution_millis": 6696,
    "execution_start": 1631237002637,
    "source_hash": "7cf36ef8",
    "tags": []
   },
   "outputs": [],
   "source": [
    "fig, ((ax1, ax2), (ax3, ax4), (ax5, ax6)) = plt.subplots(3, 2, figsize=(12,8))\n",
    "plt.tight_layout()\n",
    "ax1.set(title=\"Padrão\")\n",
    "ax2.set(title=\"Otimizado\")\n",
    "plot_confusion_matrix(D_RandomForest, x_validation, y_validation,ax=ax1, cmap = \"Blues\", values_format=\"d\")\n",
    "plot_confusion_matrix(OD_RandomForest, x_validation, y_validation, ax=ax2, cmap= \"Purples\", values_format=\"d\")\n",
    "plot_confusion_matrix(D_RandomForest, x_validation, y_validation,ax=ax3, cmap = \"Blues\", normalize = \"true\")\n",
    "plot_confusion_matrix(OD_RandomForest, x_validation, y_validation, ax=ax4, cmap= \"Purples\", normalize = \"true\")\n",
    "plot_roc_curve(D_RandomForest,x_validation, y_validation, ax=ax5)\n",
    "plot_roc_curve(OD_RandomForest,x_validation, y_validation, ax=ax6)"
   ]
  },
  {
   "cell_type": "code",
   "execution_count": null,
   "metadata": {
    "cell_id": "00035-f7b98494-8079-41b3-807e-2295e1e7ac2f",
    "deepnote_cell_type": "code",
    "deepnote_to_be_reexecuted": false,
    "execution_millis": 104,
    "execution_start": 1631237009339,
    "source_hash": "377249a9",
    "tags": []
   },
   "outputs": [],
   "source": [
    "print(\"PADRÃO - ROC_AUC>>\",roc_auc_score(y_validation, D_RandomForest.predict(x_validation))*100, \"%\")"
   ]
  },
  {
   "cell_type": "code",
   "execution_count": null,
   "metadata": {
    "cell_id": "00036-2dd8316d-b33f-4839-8494-c8fe952518ab",
    "deepnote_cell_type": "code",
    "deepnote_to_be_reexecuted": false,
    "execution_millis": 691,
    "execution_start": 1631237009488,
    "source_hash": "cb3da640",
    "tags": []
   },
   "outputs": [],
   "source": [
    "print(\"OTIMIZADO - ROC_AUC>>\",roc_auc_score(y_validation, OD_RandomForest.predict(x_validation))*100, \"%\")"
   ]
  },
  {
   "cell_type": "markdown",
   "metadata": {
    "cell_id": "00034-3bbe0fb4-9682-45b6-bf27-9501fac55c34",
    "deepnote_cell_type": "markdown",
    "tags": []
   },
   "source": [
    "### Balanceado"
   ]
  },
  {
   "cell_type": "code",
   "execution_count": null,
   "metadata": {
    "cell_id": "00036-3127ed66-f6bd-4c59-b473-b7288335d25f",
    "deepnote_cell_type": "code",
    "deepnote_output_heights": [
     21,
     493.3125
    ],
    "deepnote_to_be_reexecuted": false,
    "execution_millis": 6009,
    "execution_start": 1631237010234,
    "source_hash": "474b4e5b",
    "tags": []
   },
   "outputs": [],
   "source": [
    "fig, ((ax1, ax2), (ax3, ax4), (ax5, ax6)) = plt.subplots(3, 2, figsize=(12,8))\n",
    "plt.tight_layout()\n",
    "ax1.set(title=\"Padrão\")\n",
    "ax2.set(title=\"Otimizado\")\n",
    "plot_confusion_matrix(B_RandomForest, x_validation, y_validation,ax=ax1, cmap = \"Blues\", values_format=\"d\")\n",
    "plot_confusion_matrix(OB_RandomForest, x_validation, y_validation, ax=ax2, cmap= \"Purples\", values_format=\"d\")\n",
    "plot_confusion_matrix(B_RandomForest, x_validation, y_validation,ax=ax3, cmap = \"Blues\", normalize = \"true\")\n",
    "plot_confusion_matrix(OB_RandomForest, x_validation, y_validation, ax=ax4, cmap= \"Purples\", normalize = \"true\")\n",
    "plot_roc_curve(B_RandomForest,x_validation, y_validation, ax=ax5)\n",
    "plot_roc_curve(OB_RandomForest,x_validation, y_validation, ax=ax6)"
   ]
  },
  {
   "cell_type": "code",
   "execution_count": null,
   "metadata": {
    "cell_id": "00039-c4a1f315-41d8-4745-9678-43f35662ae35",
    "deepnote_cell_type": "code",
    "deepnote_to_be_reexecuted": false,
    "execution_millis": 62,
    "execution_start": 1631237016296,
    "source_hash": "b22eb22e",
    "tags": []
   },
   "outputs": [],
   "source": [
    "print(\"PADRÃO - ROC_AUC >>\",roc_auc_score(y_validation, B_RandomForest.predict(x_validation))*100, \"%\")"
   ]
  },
  {
   "cell_type": "code",
   "execution_count": null,
   "metadata": {
    "cell_id": "00040-7e970133-ebaf-41f7-a31d-443140236746",
    "deepnote_cell_type": "code",
    "deepnote_to_be_reexecuted": false,
    "execution_millis": 544,
    "execution_start": 1631237016397,
    "source_hash": "2be9b8cc",
    "tags": []
   },
   "outputs": [],
   "source": [
    "print(\"OTIMIZADO - ROC_AUC >>\",roc_auc_score(y_validation, OB_RandomForest.predict(x_validation))*100, \"%\")"
   ]
  },
  {
   "cell_type": "markdown",
   "metadata": {
    "cell_id": "00041-d2ffad82-22b3-4917-a14b-04eaad70819e",
    "deepnote_cell_type": "markdown",
    "tags": []
   },
   "source": [
    "# VALIDANDO NOS SUBSETS DE INTERSECÇÃO"
   ]
  },
  {
   "cell_type": "markdown",
   "metadata": {
    "cell_id": "00042-e8ec4430-32d5-4729-99b1-d979ea8b8ace",
    "deepnote_cell_type": "markdown",
    "tags": []
   },
   "source": [
    "#### ANDROCRAWL"
   ]
  },
  {
   "cell_type": "code",
   "execution_count": null,
   "metadata": {
    "cell_id": "00043-31225915-a834-46cb-8974-31a3e1061cb5",
    "deepnote_cell_type": "code",
    "deepnote_output_heights": [
     null,
     21,
     493.3125
    ],
    "deepnote_to_be_reexecuted": false,
    "execution_millis": 153236,
    "execution_start": 1631237016943,
    "source_hash": "aed94489",
    "tags": []
   },
   "outputs": [],
   "source": [
    "fig, ((ax1, ax2), (ax3, ax4), (ax5, ax6)) = plt.subplots(3, 2, figsize=(12,8))\n",
    "plt.tight_layout()\n",
    "ax1.set(title=\"Desbalanceado\")\n",
    "ax2.set(title=\"Balanceado\")\n",
    "plot_confusion_matrix(OD_RandomForest, x_androcrawl, y_androcrawl,ax=ax1, cmap = \"Blues\", values_format=\"d\")\n",
    "plot_confusion_matrix(OB_RandomForest, x_androcrawl, y_androcrawl, ax=ax2, cmap= \"Purples\", values_format=\"d\")\n",
    "plot_confusion_matrix(OD_RandomForest, x_androcrawl, y_androcrawl,ax=ax3, cmap = \"Blues\", normalize = \"true\")\n",
    "plot_confusion_matrix(OB_RandomForest, x_androcrawl, y_androcrawl, ax=ax4, cmap= \"Purples\", normalize = \"true\")\n",
    "plot_roc_curve(OD_RandomForest,x_androcrawl, y_androcrawl, ax=ax5)\n",
    "plot_roc_curve(OB_RandomForest,x_androcrawl, y_androcrawl, ax=ax6)"
   ]
  },
  {
   "cell_type": "code",
   "execution_count": null,
   "metadata": {
    "cell_id": "00044-5e9576e4-aa3b-4894-b0f2-03aca01f1b1a",
    "deepnote_cell_type": "code",
    "deepnote_to_be_reexecuted": false,
    "execution_millis": 18660,
    "execution_start": 1631237170168,
    "source_hash": "ce141901",
    "tags": []
   },
   "outputs": [],
   "source": [
    "print(\"ANDROCRAWL - ROC_AUC >>\",roc_auc_score(y_androcrawl, OB_RandomForest.predict(x_androcrawl))*100, \"%\")"
   ]
  },
  {
   "cell_type": "markdown",
   "metadata": {
    "cell_id": "00044-a48846c1-8314-4c1d-8ee2-c5b7ab1ab5b6",
    "deepnote_cell_type": "markdown",
    "tags": []
   },
   "source": [
    "#### ANDROID"
   ]
  },
  {
   "cell_type": "code",
   "execution_count": null,
   "metadata": {
    "cell_id": "00045-60be5bdd-82a4-4e31-b5b2-e30c1e01167a",
    "deepnote_cell_type": "code",
    "deepnote_output_heights": [
     21,
     493.3125
    ],
    "deepnote_to_be_reexecuted": false,
    "execution_millis": 28968,
    "execution_start": 1631237188799,
    "source_hash": "d1ab7faa",
    "tags": []
   },
   "outputs": [],
   "source": [
    "fig, ((ax1, ax2), (ax3, ax4), (ax5, ax6)) = plt.subplots(3, 2, figsize=(12,8))\n",
    "plt.tight_layout()\n",
    "ax1.set(title=\"Desbalanceado\")\n",
    "ax2.set(title=\"Balanceado\")\n",
    "plot_confusion_matrix(OD_RandomForest, x_android, y_android,ax=ax1, cmap = \"Blues\", values_format=\"d\")\n",
    "plot_confusion_matrix(OB_RandomForest, x_android, y_android, ax=ax2, cmap= \"Purples\", values_format=\"d\")\n",
    "plot_confusion_matrix(OD_RandomForest, x_android, y_android,ax=ax3, cmap = \"Blues\", normalize = \"true\")\n",
    "plot_confusion_matrix(OB_RandomForest, x_android, y_android, ax=ax4, cmap= \"Purples\", normalize = \"true\")\n",
    "plot_roc_curve(OD_RandomForest,x_android, y_android, ax=ax5)\n",
    "plot_roc_curve(OB_RandomForest,x_android, y_android, ax=ax6)"
   ]
  },
  {
   "cell_type": "code",
   "execution_count": null,
   "metadata": {
    "cell_id": "00047-095ee64f-e50f-4f8c-bb44-200b9db6a7da",
    "deepnote_cell_type": "code",
    "deepnote_to_be_reexecuted": false,
    "execution_millis": 2973,
    "execution_start": 1631237217780,
    "source_hash": "da413795",
    "tags": []
   },
   "outputs": [],
   "source": [
    "print(\"ANDROID - ROC_AUC >>\",roc_auc_score(y_android, OB_RandomForest.predict(x_android))*100, \"%\")"
   ]
  },
  {
   "cell_type": "markdown",
   "metadata": {
    "cell_id": "00048-49633300-21a9-443b-b924-cad0d7f3de89",
    "deepnote_cell_type": "markdown",
    "tags": []
   },
   "source": [
    "#### DEFENSE DROID"
   ]
  },
  {
   "cell_type": "code",
   "execution_count": null,
   "metadata": {
    "cell_id": "00049-72355a91-c212-4211-84d9-39738720f738",
    "deepnote_cell_type": "code",
    "deepnote_output_heights": [
     21,
     493.3125
    ],
    "deepnote_to_be_reexecuted": false,
    "execution_millis": 13747,
    "execution_start": 1631237220808,
    "source_hash": "a0d56755",
    "tags": []
   },
   "outputs": [],
   "source": [
    "fig, ((ax1, ax2), (ax3, ax4), (ax5, ax6)) = plt.subplots(3, 2, figsize=(12,8))\n",
    "plt.tight_layout()\n",
    "ax1.set(title=\"Desbalanceado\")\n",
    "ax2.set(title=\"Balanceado\")\n",
    "plot_confusion_matrix(OD_RandomForest, x_droid, y_droid,ax=ax1, cmap = \"Blues\", values_format=\"d\")\n",
    "plot_confusion_matrix(OB_RandomForest, x_droid, y_droid, ax=ax2, cmap= \"Purples\", values_format=\"d\")\n",
    "plot_confusion_matrix(OD_RandomForest, x_droid, y_droid,ax=ax3, cmap = \"Blues\", normalize = \"true\")\n",
    "plot_confusion_matrix(OB_RandomForest, x_droid, y_droid, ax=ax4, cmap= \"Purples\", normalize = \"true\")\n",
    "plot_roc_curve(OD_RandomForest,x_droid, y_droid, ax=ax5)\n",
    "plot_roc_curve(OB_RandomForest,x_droid, y_droid, ax=ax6)"
   ]
  },
  {
   "cell_type": "code",
   "execution_count": null,
   "metadata": {
    "cell_id": "00050-0b1a1873-16aa-4251-ad50-184cf0382f00",
    "deepnote_cell_type": "code",
    "deepnote_to_be_reexecuted": false,
    "execution_millis": 1264,
    "execution_start": 1631237234602,
    "source_hash": "86fdff92",
    "tags": []
   },
   "outputs": [],
   "source": [
    "print(\"DEFENSE DROID - ROC_AUC >>\",roc_auc_score(y_droid, OB_RandomForest.predict(x_droid))*100, \"%\")"
   ]
  },
  {
   "cell_type": "markdown",
   "metadata": {
    "cell_id": "00052-ec6b9372-090b-4aac-bc4b-90a2ddad5534",
    "deepnote_cell_type": "text-cell-h3",
    "is_collapsed": false,
    "tags": []
   },
   "source": [
    "### Resultados"
   ]
  },
  {
   "cell_type": "code",
   "execution_count": null,
   "metadata": {
    "cell_id": "00053-749eb5b9-1935-46af-a0ae-fbf3b31a41bf",
    "deepnote_cell_type": "code",
    "deepnote_to_be_reexecuted": false,
    "execution_millis": 22786,
    "execution_start": 1631237235865,
    "source_hash": "5fecd27e",
    "tags": []
   },
   "outputs": [],
   "source": [
    "print(\"DREBIN - ROC_AUC >>\",roc_auc_score(y_validation, OB_RandomForest.predict(x_validation))*100, \"%\")\n",
    "print(\"ANDROCRAWL - ROC_AUC >>\",roc_auc_score(y_androcrawl, OB_RandomForest.predict(x_androcrawl))*100, \"%\")\n",
    "print(\"ANDROID - ROC_AUC >>\",roc_auc_score(y_android, OB_RandomForest.predict(x_android))*100, \"%\")\n",
    "print(\"DEFENSE DROID - ROC_AUC >>\",roc_auc_score(y_droid, OB_RandomForest.predict(x_droid))*100, \"%\")"
   ]
  },
  {
   "cell_type": "code",
   "execution_count": null,
   "metadata": {
    "cell_id": "00054-7f555d8a-fbef-456f-8fbc-e8a527fb081c",
    "deepnote_cell_type": "code",
    "deepnote_to_be_reexecuted": false,
    "execution_millis": 4,
    "execution_start": 1631237258658,
    "source_hash": "b623e53d",
    "tags": []
   },
   "outputs": [],
   "source": []
  },
  {
   "cell_type": "markdown",
   "metadata": {
    "created_in_deepnote_cell": true,
    "deepnote_cell_type": "markdown",
    "tags": []
   },
   "source": [
    "<a style='text-decoration:none;line-height:16px;display:flex;color:#5B5B62;padding:10px;justify-content:end;' href='https://deepnote.com?utm_source=created-in-deepnote-cell&projectId=be34dc1b-561d-4c90-bae1-66eed919bb55' target=\"_blank\">\n",
    "<img alt='Created in deepnote.com' style='display:inline;max-height:16px;margin:0px;margin-right:7.5px;' src='data:image/svg+xml;base64,PD94bWwgdmVyc2lvbj0iMS4wIiBlbmNvZGluZz0iVVRGLTgiPz4KPHN2ZyB3aWR0aD0iODBweCIgaGVpZ2h0PSI4MHB4IiB2aWV3Qm94PSIwIDAgODAgODAiIHZlcnNpb249IjEuMSIgeG1sbnM9Imh0dHA6Ly93d3cudzMub3JnLzIwMDAvc3ZnIiB4bWxuczp4bGluaz0iaHR0cDovL3d3dy53My5vcmcvMTk5OS94bGluayI+CiAgICA8IS0tIEdlbmVyYXRvcjogU2tldGNoIDU0LjEgKDc2NDkwKSAtIGh0dHBzOi8vc2tldGNoYXBwLmNvbSAtLT4KICAgIDx0aXRsZT5Hcm91cCAzPC90aXRsZT4KICAgIDxkZXNjPkNyZWF0ZWQgd2l0aCBTa2V0Y2guPC9kZXNjPgogICAgPGcgaWQ9IkxhbmRpbmciIHN0cm9rZT0ibm9uZSIgc3Ryb2tlLXdpZHRoPSIxIiBmaWxsPSJub25lIiBmaWxsLXJ1bGU9ImV2ZW5vZGQiPgogICAgICAgIDxnIGlkPSJBcnRib2FyZCIgdHJhbnNmb3JtPSJ0cmFuc2xhdGUoLTEyMzUuMDAwMDAwLCAtNzkuMDAwMDAwKSI+CiAgICAgICAgICAgIDxnIGlkPSJHcm91cC0zIiB0cmFuc2Zvcm09InRyYW5zbGF0ZSgxMjM1LjAwMDAwMCwgNzkuMDAwMDAwKSI+CiAgICAgICAgICAgICAgICA8cG9seWdvbiBpZD0iUGF0aC0yMCIgZmlsbD0iIzAyNjVCNCIgcG9pbnRzPSIyLjM3NjIzNzYyIDgwIDM4LjA0NzY2NjcgODAgNTcuODIxNzgyMiA3My44MDU3NTkyIDU3LjgyMTc4MjIgMzIuNzU5MjczOSAzOS4xNDAyMjc4IDMxLjY4MzE2ODMiPjwvcG9seWdvbj4KICAgICAgICAgICAgICAgIDxwYXRoIGQ9Ik0zNS4wMDc3MTgsODAgQzQyLjkwNjIwMDcsNzYuNDU0OTM1OCA0Ny41NjQ5MTY3LDcxLjU0MjI2NzEgNDguOTgzODY2LDY1LjI2MTk5MzkgQzUxLjExMjI4OTksNTUuODQxNTg0MiA0MS42NzcxNzk1LDQ5LjIxMjIyODQgMjUuNjIzOTg0Niw0OS4yMTIyMjg0IEMyNS40ODQ5Mjg5LDQ5LjEyNjg0NDggMjkuODI2MTI5Niw0My4yODM4MjQ4IDM4LjY0NzU4NjksMzEuNjgzMTY4MyBMNzIuODcxMjg3MSwzMi41NTQ0MjUgTDY1LjI4MDk3Myw2Ny42NzYzNDIxIEw1MS4xMTIyODk5LDc3LjM3NjE0NCBMMzUuMDA3NzE4LDgwIFoiIGlkPSJQYXRoLTIyIiBmaWxsPSIjMDAyODY4Ij48L3BhdGg+CiAgICAgICAgICAgICAgICA8cGF0aCBkPSJNMCwzNy43MzA0NDA1IEwyNy4xMTQ1MzcsMC4yNTcxMTE0MzYgQzYyLjM3MTUxMjMsLTEuOTkwNzE3MDEgODAsMTAuNTAwMzkyNyA4MCwzNy43MzA0NDA1IEM4MCw2NC45NjA0ODgyIDY0Ljc3NjUwMzgsNzkuMDUwMzQxNCAzNC4zMjk1MTEzLDgwIEM0Ny4wNTUzNDg5LDc3LjU2NzA4MDggNTMuNDE4MjY3Nyw3MC4zMTM2MTAzIDUzLjQxODI2NzcsNTguMjM5NTg4NSBDNTMuNDE4MjY3Nyw0MC4xMjg1NTU3IDM2LjMwMzk1NDQsMzcuNzMwNDQwNSAyNS4yMjc0MTcsMzcuNzMwNDQwNSBDMTcuODQzMDU4NiwzNy43MzA0NDA1IDkuNDMzOTE5NjYsMzcuNzMwNDQwNSAwLDM3LjczMDQ0MDUgWiIgaWQ9IlBhdGgtMTkiIGZpbGw9IiMzNzkzRUYiPjwvcGF0aD4KICAgICAgICAgICAgPC9nPgogICAgICAgIDwvZz4KICAgIDwvZz4KPC9zdmc+' > </img>\n",
    "Created in <span style='font-weight:600;margin-left:4px;'>Deepnote</span></a>"
   ]
  }
 ],
 "metadata": {
  "deepnote": {
   "is_reactive": false
  },
  "deepnote_execution_queue": [],
  "deepnote_notebook_id": "1b1cdedf-6282-4377-bd1f-5869db36fd31",
  "kernelspec": {
   "display_name": "Python 3 (ipykernel)",
   "language": "python",
   "name": "python3"
  },
  "language_info": {
   "codemirror_mode": {
    "name": "ipython",
    "version": 3
   },
   "file_extension": ".py",
   "mimetype": "text/x-python",
   "name": "python",
   "nbconvert_exporter": "python",
   "pygments_lexer": "ipython3",
   "version": "3.9.6"
  }
 },
 "nbformat": 4,
 "nbformat_minor": 2
}
