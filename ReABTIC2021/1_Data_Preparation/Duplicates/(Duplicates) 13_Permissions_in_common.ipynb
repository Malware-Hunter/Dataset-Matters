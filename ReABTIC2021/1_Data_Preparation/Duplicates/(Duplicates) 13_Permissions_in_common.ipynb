{
 "cells": [
  {
   "cell_type": "code",
   "execution_count": 1,
   "metadata": {
    "cell_id": "00000-4d3846a8-36a2-4c08-a57e-35ad84142278",
    "deepnote_cell_type": "code",
    "deepnote_to_be_reexecuted": false,
    "execution_millis": 43,
    "execution_start": 1631227555834,
    "source_hash": "c76c7c51",
    "tags": []
   },
   "outputs": [],
   "source": [
    "import pandas as pd\n",
    "import numpy as np"
   ]
  },
  {
   "cell_type": "code",
   "execution_count": 2,
   "metadata": {
    "cell_id": "00001-4e4bb1f2-89ec-49d4-af67-a6f0f55f5066",
    "deepnote_cell_type": "code",
    "deepnote_to_be_reexecuted": false,
    "execution_millis": 0,
    "execution_start": 1631227555878,
    "source_hash": "17e575e3",
    "tags": []
   },
   "outputs": [],
   "source": [
    "pd.options.display.max_columns = None\n",
    "pd.options.display.max_rows = None"
   ]
  },
  {
   "cell_type": "code",
   "execution_count": null,
   "metadata": {
    "cell_id": "00002-56b8aef4-384e-4a69-9b63-3502a17ca986",
    "deepnote_cell_type": "code",
    "deepnote_to_be_reexecuted": false,
    "execution_millis": 815,
    "execution_start": 1631227555878,
    "source_hash": "c6de8a49",
    "tags": []
   },
   "outputs": [],
   "source": [
    "drebin = pd.read_csv('../2_Only_Permissions_Datasets (Duplicates)/Permission_Drebin215 (duplicates).csv')\n",
    "androcrawl = pd.read_csv('../2_Only_Permissions_Datasets (Duplicates)/Permission_Androcrawl (duplicates).csv')\n",
    "android = pd.read_csv('../2_Only_Permissions_Datasets (Duplicates)/Permission_AndroidMalwareNormal (duplicates).csv')\n",
    "droid = pd.read_csv('../2_Only_Permissions_Datasets (Duplicates)/Permission_DefenseDroid (duplicates).csv')"
   ]
  },
  {
   "cell_type": "code",
   "execution_count": null,
   "metadata": {
    "cell_id": "00003-cdb937e5-00bc-4294-b4c8-f192450fbd95",
    "deepnote_cell_type": "code",
    "deepnote_to_be_reexecuted": false,
    "execution_millis": 6,
    "execution_start": 1631227556734,
    "source_hash": "614efe9e",
    "tags": []
   },
   "outputs": [],
   "source": [
    "drebin.drop(columns=\"Unnamed: 0\", inplace = True)\n",
    "androcrawl.drop(columns=\"Unnamed: 0\", inplace = True)\n",
    "android.drop(columns=\"Unnamed: 0\", inplace = True)\n",
    "droid.drop(columns=\"Unnamed: 0\", inplace = True)"
   ]
  },
  {
   "cell_type": "markdown",
   "metadata": {
    "cell_id": "00004-731c688b-4986-4861-8660-d4a0c0571952",
    "deepnote_cell_type": "text-cell-h3",
    "is_collapsed": false,
    "tags": []
   },
   "source": [
    "### Drebin (2012)"
   ]
  },
  {
   "cell_type": "code",
   "execution_count": null,
   "metadata": {
    "cell_id": "00005-9eff6860-a04e-4f43-a048-5c61b23a43cb",
    "deepnote_cell_type": "code",
    "deepnote_to_be_reexecuted": false,
    "execution_millis": 236,
    "execution_start": 1631227556890,
    "source_hash": "11cf6f03",
    "tags": []
   },
   "outputs": [
    {
     "data": {
      "application/vnd.deepnote.dataframe.v2+json": {
       "column_count": 114,
       "columns": [
        {
         "dtype": "int64",
         "name": "SEND_SMS",
         "stats": {
          "histogram": [
           {
            "bin_end": 0.1,
            "bin_start": 0,
            "count": 4
           },
           {
            "bin_end": 0.2,
            "bin_start": 0.1,
            "count": 0
           },
           {
            "bin_end": 0.30000000000000004,
            "bin_start": 0.2,
            "count": 0
           },
           {
            "bin_end": 0.4,
            "bin_start": 0.30000000000000004,
            "count": 0
           },
           {
            "bin_end": 0.5,
            "bin_start": 0.4,
            "count": 0
           },
           {
            "bin_end": 0.6000000000000001,
            "bin_start": 0.5,
            "count": 0
           },
           {
            "bin_end": 0.7000000000000001,
            "bin_start": 0.6000000000000001,
            "count": 0
           },
           {
            "bin_end": 0.8,
            "bin_start": 0.7000000000000001,
            "count": 0
           },
           {
            "bin_end": 0.9,
            "bin_start": 0.8,
            "count": 0
           },
           {
            "bin_end": 1,
            "bin_start": 0.9,
            "count": 1
           }
          ],
          "max": "1",
          "min": "0",
          "nan_count": 0,
          "unique_count": 2
         }
        },
        {
         "dtype": "int64",
         "name": "READ_PHONE_STATE",
         "stats": {
          "histogram": [
           {
            "bin_end": 0.1,
            "bin_start": 0,
            "count": 2
           },
           {
            "bin_end": 0.2,
            "bin_start": 0.1,
            "count": 0
           },
           {
            "bin_end": 0.30000000000000004,
            "bin_start": 0.2,
            "count": 0
           },
           {
            "bin_end": 0.4,
            "bin_start": 0.30000000000000004,
            "count": 0
           },
           {
            "bin_end": 0.5,
            "bin_start": 0.4,
            "count": 0
           },
           {
            "bin_end": 0.6000000000000001,
            "bin_start": 0.5,
            "count": 0
           },
           {
            "bin_end": 0.7000000000000001,
            "bin_start": 0.6000000000000001,
            "count": 0
           },
           {
            "bin_end": 0.8,
            "bin_start": 0.7000000000000001,
            "count": 0
           },
           {
            "bin_end": 0.9,
            "bin_start": 0.8,
            "count": 0
           },
           {
            "bin_end": 1,
            "bin_start": 0.9,
            "count": 3
           }
          ],
          "max": "1",
          "min": "0",
          "nan_count": 0,
          "unique_count": 2
         }
        },
        {
         "dtype": "int64",
         "name": "GET_ACCOUNTS",
         "stats": {
          "histogram": [
           {
            "bin_end": 0.1,
            "bin_start": 0,
            "count": 3
           },
           {
            "bin_end": 0.2,
            "bin_start": 0.1,
            "count": 0
           },
           {
            "bin_end": 0.30000000000000004,
            "bin_start": 0.2,
            "count": 0
           },
           {
            "bin_end": 0.4,
            "bin_start": 0.30000000000000004,
            "count": 0
           },
           {
            "bin_end": 0.5,
            "bin_start": 0.4,
            "count": 0
           },
           {
            "bin_end": 0.6000000000000001,
            "bin_start": 0.5,
            "count": 0
           },
           {
            "bin_end": 0.7000000000000001,
            "bin_start": 0.6000000000000001,
            "count": 0
           },
           {
            "bin_end": 0.8,
            "bin_start": 0.7000000000000001,
            "count": 0
           },
           {
            "bin_end": 0.9,
            "bin_start": 0.8,
            "count": 0
           },
           {
            "bin_end": 1,
            "bin_start": 0.9,
            "count": 2
           }
          ],
          "max": "1",
          "min": "0",
          "nan_count": 0,
          "unique_count": 2
         }
        },
        {
         "dtype": "int64",
         "name": "RECEIVE_SMS",
         "stats": {
          "histogram": [
           {
            "bin_end": 0.1,
            "bin_start": 0,
            "count": 3
           },
           {
            "bin_end": 0.2,
            "bin_start": 0.1,
            "count": 0
           },
           {
            "bin_end": 0.30000000000000004,
            "bin_start": 0.2,
            "count": 0
           },
           {
            "bin_end": 0.4,
            "bin_start": 0.30000000000000004,
            "count": 0
           },
           {
            "bin_end": 0.5,
            "bin_start": 0.4,
            "count": 0
           },
           {
            "bin_end": 0.6000000000000001,
            "bin_start": 0.5,
            "count": 0
           },
           {
            "bin_end": 0.7000000000000001,
            "bin_start": 0.6000000000000001,
            "count": 0
           },
           {
            "bin_end": 0.8,
            "bin_start": 0.7000000000000001,
            "count": 0
           },
           {
            "bin_end": 0.9,
            "bin_start": 0.8,
            "count": 0
           },
           {
            "bin_end": 1,
            "bin_start": 0.9,
            "count": 2
           }
          ],
          "max": "1",
          "min": "0",
          "nan_count": 0,
          "unique_count": 2
         }
        },
        {
         "dtype": "int64",
         "name": "READ_SMS",
         "stats": {
          "histogram": [
           {
            "bin_end": 0.1,
            "bin_start": 0,
            "count": 3
           },
           {
            "bin_end": 0.2,
            "bin_start": 0.1,
            "count": 0
           },
           {
            "bin_end": 0.30000000000000004,
            "bin_start": 0.2,
            "count": 0
           },
           {
            "bin_end": 0.4,
            "bin_start": 0.30000000000000004,
            "count": 0
           },
           {
            "bin_end": 0.5,
            "bin_start": 0.4,
            "count": 0
           },
           {
            "bin_end": 0.6000000000000001,
            "bin_start": 0.5,
            "count": 0
           },
           {
            "bin_end": 0.7000000000000001,
            "bin_start": 0.6000000000000001,
            "count": 0
           },
           {
            "bin_end": 0.8,
            "bin_start": 0.7000000000000001,
            "count": 0
           },
           {
            "bin_end": 0.9,
            "bin_start": 0.8,
            "count": 0
           },
           {
            "bin_end": 1,
            "bin_start": 0.9,
            "count": 2
           }
          ],
          "max": "1",
          "min": "0",
          "nan_count": 0,
          "unique_count": 2
         }
        },
        {
         "dtype": "int64",
         "name": "USE_CREDENTIALS",
         "stats": {
          "histogram": [
           {
            "bin_end": 0.1,
            "bin_start": 0,
            "count": 4
           },
           {
            "bin_end": 0.2,
            "bin_start": 0.1,
            "count": 0
           },
           {
            "bin_end": 0.30000000000000004,
            "bin_start": 0.2,
            "count": 0
           },
           {
            "bin_end": 0.4,
            "bin_start": 0.30000000000000004,
            "count": 0
           },
           {
            "bin_end": 0.5,
            "bin_start": 0.4,
            "count": 0
           },
           {
            "bin_end": 0.6000000000000001,
            "bin_start": 0.5,
            "count": 0
           },
           {
            "bin_end": 0.7000000000000001,
            "bin_start": 0.6000000000000001,
            "count": 0
           },
           {
            "bin_end": 0.8,
            "bin_start": 0.7000000000000001,
            "count": 0
           },
           {
            "bin_end": 0.9,
            "bin_start": 0.8,
            "count": 0
           },
           {
            "bin_end": 1,
            "bin_start": 0.9,
            "count": 1
           }
          ],
          "max": "1",
          "min": "0",
          "nan_count": 0,
          "unique_count": 2
         }
        },
        {
         "dtype": "int64",
         "name": "MANAGE_ACCOUNTS",
         "stats": {
          "histogram": [
           {
            "bin_end": 0.1,
            "bin_start": 0,
            "count": 4
           },
           {
            "bin_end": 0.2,
            "bin_start": 0.1,
            "count": 0
           },
           {
            "bin_end": 0.30000000000000004,
            "bin_start": 0.2,
            "count": 0
           },
           {
            "bin_end": 0.4,
            "bin_start": 0.30000000000000004,
            "count": 0
           },
           {
            "bin_end": 0.5,
            "bin_start": 0.4,
            "count": 0
           },
           {
            "bin_end": 0.6000000000000001,
            "bin_start": 0.5,
            "count": 0
           },
           {
            "bin_end": 0.7000000000000001,
            "bin_start": 0.6000000000000001,
            "count": 0
           },
           {
            "bin_end": 0.8,
            "bin_start": 0.7000000000000001,
            "count": 0
           },
           {
            "bin_end": 0.9,
            "bin_start": 0.8,
            "count": 0
           },
           {
            "bin_end": 1,
            "bin_start": 0.9,
            "count": 1
           }
          ],
          "max": "1",
          "min": "0",
          "nan_count": 0,
          "unique_count": 2
         }
        },
        {
         "dtype": "int64",
         "name": "WRITE_SMS",
         "stats": {
          "histogram": [
           {
            "bin_end": 0.1,
            "bin_start": 0,
            "count": 4
           },
           {
            "bin_end": 0.2,
            "bin_start": 0.1,
            "count": 0
           },
           {
            "bin_end": 0.30000000000000004,
            "bin_start": 0.2,
            "count": 0
           },
           {
            "bin_end": 0.4,
            "bin_start": 0.30000000000000004,
            "count": 0
           },
           {
            "bin_end": 0.5,
            "bin_start": 0.4,
            "count": 0
           },
           {
            "bin_end": 0.6000000000000001,
            "bin_start": 0.5,
            "count": 0
           },
           {
            "bin_end": 0.7000000000000001,
            "bin_start": 0.6000000000000001,
            "count": 0
           },
           {
            "bin_end": 0.8,
            "bin_start": 0.7000000000000001,
            "count": 0
           },
           {
            "bin_end": 0.9,
            "bin_start": 0.8,
            "count": 0
           },
           {
            "bin_end": 1,
            "bin_start": 0.9,
            "count": 1
           }
          ],
          "max": "1",
          "min": "0",
          "nan_count": 0,
          "unique_count": 2
         }
        },
        {
         "dtype": "int64",
         "name": "READ_SYNC_SETTINGS",
         "stats": {
          "histogram": [
           {
            "bin_end": 0.1,
            "bin_start": 0,
            "count": 4
           },
           {
            "bin_end": 0.2,
            "bin_start": 0.1,
            "count": 0
           },
           {
            "bin_end": 0.30000000000000004,
            "bin_start": 0.2,
            "count": 0
           },
           {
            "bin_end": 0.4,
            "bin_start": 0.30000000000000004,
            "count": 0
           },
           {
            "bin_end": 0.5,
            "bin_start": 0.4,
            "count": 0
           },
           {
            "bin_end": 0.6000000000000001,
            "bin_start": 0.5,
            "count": 0
           },
           {
            "bin_end": 0.7000000000000001,
            "bin_start": 0.6000000000000001,
            "count": 0
           },
           {
            "bin_end": 0.8,
            "bin_start": 0.7000000000000001,
            "count": 0
           },
           {
            "bin_end": 0.9,
            "bin_start": 0.8,
            "count": 0
           },
           {
            "bin_end": 1,
            "bin_start": 0.9,
            "count": 1
           }
          ],
          "max": "1",
          "min": "0",
          "nan_count": 0,
          "unique_count": 2
         }
        },
        {
         "dtype": "int64",
         "name": "AUTHENTICATE_ACCOUNTS",
         "stats": {
          "histogram": [
           {
            "bin_end": 0.1,
            "bin_start": 0,
            "count": 4
           },
           {
            "bin_end": 0.2,
            "bin_start": 0.1,
            "count": 0
           },
           {
            "bin_end": 0.30000000000000004,
            "bin_start": 0.2,
            "count": 0
           },
           {
            "bin_end": 0.4,
            "bin_start": 0.30000000000000004,
            "count": 0
           },
           {
            "bin_end": 0.5,
            "bin_start": 0.4,
            "count": 0
           },
           {
            "bin_end": 0.6000000000000001,
            "bin_start": 0.5,
            "count": 0
           },
           {
            "bin_end": 0.7000000000000001,
            "bin_start": 0.6000000000000001,
            "count": 0
           },
           {
            "bin_end": 0.8,
            "bin_start": 0.7000000000000001,
            "count": 0
           },
           {
            "bin_end": 0.9,
            "bin_start": 0.8,
            "count": 0
           },
           {
            "bin_end": 1,
            "bin_start": 0.9,
            "count": 1
           }
          ],
          "max": "1",
          "min": "0",
          "nan_count": 0,
          "unique_count": 2
         }
        },
        {
         "dtype": "int64",
         "name": "WRITE_HISTORY_BOOKMARKS",
         "stats": {
          "histogram": [
           {
            "bin_end": 0.1,
            "bin_start": 0,
            "count": 3
           },
           {
            "bin_end": 0.2,
            "bin_start": 0.1,
            "count": 0
           },
           {
            "bin_end": 0.30000000000000004,
            "bin_start": 0.2,
            "count": 0
           },
           {
            "bin_end": 0.4,
            "bin_start": 0.30000000000000004,
            "count": 0
           },
           {
            "bin_end": 0.5,
            "bin_start": 0.4,
            "count": 0
           },
           {
            "bin_end": 0.6000000000000001,
            "bin_start": 0.5,
            "count": 0
           },
           {
            "bin_end": 0.7000000000000001,
            "bin_start": 0.6000000000000001,
            "count": 0
           },
           {
            "bin_end": 0.8,
            "bin_start": 0.7000000000000001,
            "count": 0
           },
           {
            "bin_end": 0.9,
            "bin_start": 0.8,
            "count": 0
           },
           {
            "bin_end": 1,
            "bin_start": 0.9,
            "count": 2
           }
          ],
          "max": "1",
          "min": "0",
          "nan_count": 0,
          "unique_count": 2
         }
        },
        {
         "dtype": "int64",
         "name": "INSTALL_PACKAGES",
         "stats": {
          "histogram": [
           {
            "bin_end": -0.4,
            "bin_start": -0.5,
            "count": 0
           },
           {
            "bin_end": -0.3,
            "bin_start": -0.4,
            "count": 0
           },
           {
            "bin_end": -0.19999999999999996,
            "bin_start": -0.3,
            "count": 0
           },
           {
            "bin_end": -0.09999999999999998,
            "bin_start": -0.19999999999999996,
            "count": 0
           },
           {
            "bin_end": 0,
            "bin_start": -0.09999999999999998,
            "count": 0
           },
           {
            "bin_end": 0.10000000000000009,
            "bin_start": 0,
            "count": 5
           },
           {
            "bin_end": 0.20000000000000007,
            "bin_start": 0.10000000000000009,
            "count": 0
           },
           {
            "bin_end": 0.30000000000000004,
            "bin_start": 0.20000000000000007,
            "count": 0
           },
           {
            "bin_end": 0.4,
            "bin_start": 0.30000000000000004,
            "count": 0
           },
           {
            "bin_end": 0.5,
            "bin_start": 0.4,
            "count": 0
           }
          ],
          "max": "0",
          "min": "0",
          "nan_count": 0,
          "unique_count": 1
         }
        },
        {
         "dtype": "int64",
         "name": "CAMERA",
         "stats": {
          "histogram": [
           {
            "bin_end": 0.1,
            "bin_start": 0,
            "count": 4
           },
           {
            "bin_end": 0.2,
            "bin_start": 0.1,
            "count": 0
           },
           {
            "bin_end": 0.30000000000000004,
            "bin_start": 0.2,
            "count": 0
           },
           {
            "bin_end": 0.4,
            "bin_start": 0.30000000000000004,
            "count": 0
           },
           {
            "bin_end": 0.5,
            "bin_start": 0.4,
            "count": 0
           },
           {
            "bin_end": 0.6000000000000001,
            "bin_start": 0.5,
            "count": 0
           },
           {
            "bin_end": 0.7000000000000001,
            "bin_start": 0.6000000000000001,
            "count": 0
           },
           {
            "bin_end": 0.8,
            "bin_start": 0.7000000000000001,
            "count": 0
           },
           {
            "bin_end": 0.9,
            "bin_start": 0.8,
            "count": 0
           },
           {
            "bin_end": 1,
            "bin_start": 0.9,
            "count": 1
           }
          ],
          "max": "1",
          "min": "0",
          "nan_count": 0,
          "unique_count": 2
         }
        },
        {
         "dtype": "int64",
         "name": "WRITE_SYNC_SETTINGS",
         "stats": {
          "histogram": [
           {
            "bin_end": 0.1,
            "bin_start": 0,
            "count": 4
           },
           {
            "bin_end": 0.2,
            "bin_start": 0.1,
            "count": 0
           },
           {
            "bin_end": 0.30000000000000004,
            "bin_start": 0.2,
            "count": 0
           },
           {
            "bin_end": 0.4,
            "bin_start": 0.30000000000000004,
            "count": 0
           },
           {
            "bin_end": 0.5,
            "bin_start": 0.4,
            "count": 0
           },
           {
            "bin_end": 0.6000000000000001,
            "bin_start": 0.5,
            "count": 0
           },
           {
            "bin_end": 0.7000000000000001,
            "bin_start": 0.6000000000000001,
            "count": 0
           },
           {
            "bin_end": 0.8,
            "bin_start": 0.7000000000000001,
            "count": 0
           },
           {
            "bin_end": 0.9,
            "bin_start": 0.8,
            "count": 0
           },
           {
            "bin_end": 1,
            "bin_start": 0.9,
            "count": 1
           }
          ],
          "max": "1",
          "min": "0",
          "nan_count": 0,
          "unique_count": 2
         }
        },
        {
         "dtype": "int64",
         "name": "READ_HISTORY_BOOKMARKS",
         "stats": {
          "histogram": [
           {
            "bin_end": 0.1,
            "bin_start": 0,
            "count": 3
           },
           {
            "bin_end": 0.2,
            "bin_start": 0.1,
            "count": 0
           },
           {
            "bin_end": 0.30000000000000004,
            "bin_start": 0.2,
            "count": 0
           },
           {
            "bin_end": 0.4,
            "bin_start": 0.30000000000000004,
            "count": 0
           },
           {
            "bin_end": 0.5,
            "bin_start": 0.4,
            "count": 0
           },
           {
            "bin_end": 0.6000000000000001,
            "bin_start": 0.5,
            "count": 0
           },
           {
            "bin_end": 0.7000000000000001,
            "bin_start": 0.6000000000000001,
            "count": 0
           },
           {
            "bin_end": 0.8,
            "bin_start": 0.7000000000000001,
            "count": 0
           },
           {
            "bin_end": 0.9,
            "bin_start": 0.8,
            "count": 0
           },
           {
            "bin_end": 1,
            "bin_start": 0.9,
            "count": 2
           }
          ],
          "max": "1",
          "min": "0",
          "nan_count": 0,
          "unique_count": 2
         }
        },
        {
         "dtype": "int64",
         "name": "INTERNET",
         "stats": {
          "histogram": [
           {
            "bin_end": 0.1,
            "bin_start": 0,
            "count": 1
           },
           {
            "bin_end": 0.2,
            "bin_start": 0.1,
            "count": 0
           },
           {
            "bin_end": 0.30000000000000004,
            "bin_start": 0.2,
            "count": 0
           },
           {
            "bin_end": 0.4,
            "bin_start": 0.30000000000000004,
            "count": 0
           },
           {
            "bin_end": 0.5,
            "bin_start": 0.4,
            "count": 0
           },
           {
            "bin_end": 0.6000000000000001,
            "bin_start": 0.5,
            "count": 0
           },
           {
            "bin_end": 0.7000000000000001,
            "bin_start": 0.6000000000000001,
            "count": 0
           },
           {
            "bin_end": 0.8,
            "bin_start": 0.7000000000000001,
            "count": 0
           },
           {
            "bin_end": 0.9,
            "bin_start": 0.8,
            "count": 0
           },
           {
            "bin_end": 1,
            "bin_start": 0.9,
            "count": 4
           }
          ],
          "max": "1",
          "min": "0",
          "nan_count": 0,
          "unique_count": 2
         }
        },
        {
         "dtype": "int64",
         "name": "RECORD_AUDIO",
         "stats": {
          "histogram": [
           {
            "bin_end": 0.1,
            "bin_start": 0,
            "count": 4
           },
           {
            "bin_end": 0.2,
            "bin_start": 0.1,
            "count": 0
           },
           {
            "bin_end": 0.30000000000000004,
            "bin_start": 0.2,
            "count": 0
           },
           {
            "bin_end": 0.4,
            "bin_start": 0.30000000000000004,
            "count": 0
           },
           {
            "bin_end": 0.5,
            "bin_start": 0.4,
            "count": 0
           },
           {
            "bin_end": 0.6000000000000001,
            "bin_start": 0.5,
            "count": 0
           },
           {
            "bin_end": 0.7000000000000001,
            "bin_start": 0.6000000000000001,
            "count": 0
           },
           {
            "bin_end": 0.8,
            "bin_start": 0.7000000000000001,
            "count": 0
           },
           {
            "bin_end": 0.9,
            "bin_start": 0.8,
            "count": 0
           },
           {
            "bin_end": 1,
            "bin_start": 0.9,
            "count": 1
           }
          ],
          "max": "1",
          "min": "0",
          "nan_count": 0,
          "unique_count": 2
         }
        },
        {
         "dtype": "int64",
         "name": "NFC",
         "stats": {
          "histogram": [
           {
            "bin_end": -0.4,
            "bin_start": -0.5,
            "count": 0
           },
           {
            "bin_end": -0.3,
            "bin_start": -0.4,
            "count": 0
           },
           {
            "bin_end": -0.19999999999999996,
            "bin_start": -0.3,
            "count": 0
           },
           {
            "bin_end": -0.09999999999999998,
            "bin_start": -0.19999999999999996,
            "count": 0
           },
           {
            "bin_end": 0,
            "bin_start": -0.09999999999999998,
            "count": 0
           },
           {
            "bin_end": 0.10000000000000009,
            "bin_start": 0,
            "count": 5
           },
           {
            "bin_end": 0.20000000000000007,
            "bin_start": 0.10000000000000009,
            "count": 0
           },
           {
            "bin_end": 0.30000000000000004,
            "bin_start": 0.20000000000000007,
            "count": 0
           },
           {
            "bin_end": 0.4,
            "bin_start": 0.30000000000000004,
            "count": 0
           },
           {
            "bin_end": 0.5,
            "bin_start": 0.4,
            "count": 0
           }
          ],
          "max": "0",
          "min": "0",
          "nan_count": 0,
          "unique_count": 1
         }
        },
        {
         "dtype": "int64",
         "name": "ACCESS_LOCATION_EXTRA_COMMANDS",
         "stats": {
          "histogram": [
           {
            "bin_end": -0.4,
            "bin_start": -0.5,
            "count": 0
           },
           {
            "bin_end": -0.3,
            "bin_start": -0.4,
            "count": 0
           },
           {
            "bin_end": -0.19999999999999996,
            "bin_start": -0.3,
            "count": 0
           },
           {
            "bin_end": -0.09999999999999998,
            "bin_start": -0.19999999999999996,
            "count": 0
           },
           {
            "bin_end": 0,
            "bin_start": -0.09999999999999998,
            "count": 0
           },
           {
            "bin_end": 0.10000000000000009,
            "bin_start": 0,
            "count": 5
           },
           {
            "bin_end": 0.20000000000000007,
            "bin_start": 0.10000000000000009,
            "count": 0
           },
           {
            "bin_end": 0.30000000000000004,
            "bin_start": 0.20000000000000007,
            "count": 0
           },
           {
            "bin_end": 0.4,
            "bin_start": 0.30000000000000004,
            "count": 0
           },
           {
            "bin_end": 0.5,
            "bin_start": 0.4,
            "count": 0
           }
          ],
          "max": "0",
          "min": "0",
          "nan_count": 0,
          "unique_count": 1
         }
        },
        {
         "dtype": "int64",
         "name": "WRITE_APN_SETTINGS",
         "stats": {
          "histogram": [
           {
            "bin_end": -0.4,
            "bin_start": -0.5,
            "count": 0
           },
           {
            "bin_end": -0.3,
            "bin_start": -0.4,
            "count": 0
           },
           {
            "bin_end": -0.19999999999999996,
            "bin_start": -0.3,
            "count": 0
           },
           {
            "bin_end": -0.09999999999999998,
            "bin_start": -0.19999999999999996,
            "count": 0
           },
           {
            "bin_end": 0,
            "bin_start": -0.09999999999999998,
            "count": 0
           },
           {
            "bin_end": 0.10000000000000009,
            "bin_start": 0,
            "count": 5
           },
           {
            "bin_end": 0.20000000000000007,
            "bin_start": 0.10000000000000009,
            "count": 0
           },
           {
            "bin_end": 0.30000000000000004,
            "bin_start": 0.20000000000000007,
            "count": 0
           },
           {
            "bin_end": 0.4,
            "bin_start": 0.30000000000000004,
            "count": 0
           },
           {
            "bin_end": 0.5,
            "bin_start": 0.4,
            "count": 0
           }
          ],
          "max": "0",
          "min": "0",
          "nan_count": 0,
          "unique_count": 1
         }
        },
        {
         "dtype": "int64",
         "name": "BIND_REMOTEVIEWS",
         "stats": {
          "histogram": [
           {
            "bin_end": -0.4,
            "bin_start": -0.5,
            "count": 0
           },
           {
            "bin_end": -0.3,
            "bin_start": -0.4,
            "count": 0
           },
           {
            "bin_end": -0.19999999999999996,
            "bin_start": -0.3,
            "count": 0
           },
           {
            "bin_end": -0.09999999999999998,
            "bin_start": -0.19999999999999996,
            "count": 0
           },
           {
            "bin_end": 0,
            "bin_start": -0.09999999999999998,
            "count": 0
           },
           {
            "bin_end": 0.10000000000000009,
            "bin_start": 0,
            "count": 5
           },
           {
            "bin_end": 0.20000000000000007,
            "bin_start": 0.10000000000000009,
            "count": 0
           },
           {
            "bin_end": 0.30000000000000004,
            "bin_start": 0.20000000000000007,
            "count": 0
           },
           {
            "bin_end": 0.4,
            "bin_start": 0.30000000000000004,
            "count": 0
           },
           {
            "bin_end": 0.5,
            "bin_start": 0.4,
            "count": 0
           }
          ],
          "max": "0",
          "min": "0",
          "nan_count": 0,
          "unique_count": 1
         }
        },
        {
         "dtype": "int64",
         "name": "READ_PROFILE",
         "stats": {
          "histogram": [
           {
            "bin_end": 0.1,
            "bin_start": 0,
            "count": 4
           },
           {
            "bin_end": 0.2,
            "bin_start": 0.1,
            "count": 0
           },
           {
            "bin_end": 0.30000000000000004,
            "bin_start": 0.2,
            "count": 0
           },
           {
            "bin_end": 0.4,
            "bin_start": 0.30000000000000004,
            "count": 0
           },
           {
            "bin_end": 0.5,
            "bin_start": 0.4,
            "count": 0
           },
           {
            "bin_end": 0.6000000000000001,
            "bin_start": 0.5,
            "count": 0
           },
           {
            "bin_end": 0.7000000000000001,
            "bin_start": 0.6000000000000001,
            "count": 0
           },
           {
            "bin_end": 0.8,
            "bin_start": 0.7000000000000001,
            "count": 0
           },
           {
            "bin_end": 0.9,
            "bin_start": 0.8,
            "count": 0
           },
           {
            "bin_end": 1,
            "bin_start": 0.9,
            "count": 1
           }
          ],
          "max": "1",
          "min": "0",
          "nan_count": 0,
          "unique_count": 2
         }
        },
        {
         "dtype": "int64",
         "name": "MODIFY_AUDIO_SETTINGS",
         "stats": {
          "histogram": [
           {
            "bin_end": 0.1,
            "bin_start": 0,
            "count": 4
           },
           {
            "bin_end": 0.2,
            "bin_start": 0.1,
            "count": 0
           },
           {
            "bin_end": 0.30000000000000004,
            "bin_start": 0.2,
            "count": 0
           },
           {
            "bin_end": 0.4,
            "bin_start": 0.30000000000000004,
            "count": 0
           },
           {
            "bin_end": 0.5,
            "bin_start": 0.4,
            "count": 0
           },
           {
            "bin_end": 0.6000000000000001,
            "bin_start": 0.5,
            "count": 0
           },
           {
            "bin_end": 0.7000000000000001,
            "bin_start": 0.6000000000000001,
            "count": 0
           },
           {
            "bin_end": 0.8,
            "bin_start": 0.7000000000000001,
            "count": 0
           },
           {
            "bin_end": 0.9,
            "bin_start": 0.8,
            "count": 0
           },
           {
            "bin_end": 1,
            "bin_start": 0.9,
            "count": 1
           }
          ],
          "max": "1",
          "min": "0",
          "nan_count": 0,
          "unique_count": 2
         }
        },
        {
         "dtype": "int64",
         "name": "READ_SYNC_STATS",
         "stats": {
          "histogram": [
           {
            "bin_end": -0.4,
            "bin_start": -0.5,
            "count": 0
           },
           {
            "bin_end": -0.3,
            "bin_start": -0.4,
            "count": 0
           },
           {
            "bin_end": -0.19999999999999996,
            "bin_start": -0.3,
            "count": 0
           },
           {
            "bin_end": -0.09999999999999998,
            "bin_start": -0.19999999999999996,
            "count": 0
           },
           {
            "bin_end": 0,
            "bin_start": -0.09999999999999998,
            "count": 0
           },
           {
            "bin_end": 0.10000000000000009,
            "bin_start": 0,
            "count": 5
           },
           {
            "bin_end": 0.20000000000000007,
            "bin_start": 0.10000000000000009,
            "count": 0
           },
           {
            "bin_end": 0.30000000000000004,
            "bin_start": 0.20000000000000007,
            "count": 0
           },
           {
            "bin_end": 0.4,
            "bin_start": 0.30000000000000004,
            "count": 0
           },
           {
            "bin_end": 0.5,
            "bin_start": 0.4,
            "count": 0
           }
          ],
          "max": "0",
          "min": "0",
          "nan_count": 0,
          "unique_count": 1
         }
        },
        {
         "dtype": "int64",
         "name": "BROADCAST_STICKY",
         "stats": {
          "histogram": [
           {
            "bin_end": 0.1,
            "bin_start": 0,
            "count": 4
           },
           {
            "bin_end": 0.2,
            "bin_start": 0.1,
            "count": 0
           },
           {
            "bin_end": 0.30000000000000004,
            "bin_start": 0.2,
            "count": 0
           },
           {
            "bin_end": 0.4,
            "bin_start": 0.30000000000000004,
            "count": 0
           },
           {
            "bin_end": 0.5,
            "bin_start": 0.4,
            "count": 0
           },
           {
            "bin_end": 0.6000000000000001,
            "bin_start": 0.5,
            "count": 0
           },
           {
            "bin_end": 0.7000000000000001,
            "bin_start": 0.6000000000000001,
            "count": 0
           },
           {
            "bin_end": 0.8,
            "bin_start": 0.7000000000000001,
            "count": 0
           },
           {
            "bin_end": 0.9,
            "bin_start": 0.8,
            "count": 0
           },
           {
            "bin_end": 1,
            "bin_start": 0.9,
            "count": 1
           }
          ],
          "max": "1",
          "min": "0",
          "nan_count": 0,
          "unique_count": 2
         }
        },
        {
         "dtype": "int64",
         "name": "WAKE_LOCK",
         "stats": {
          "histogram": [
           {
            "bin_end": 0.1,
            "bin_start": 0,
            "count": 2
           },
           {
            "bin_end": 0.2,
            "bin_start": 0.1,
            "count": 0
           },
           {
            "bin_end": 0.30000000000000004,
            "bin_start": 0.2,
            "count": 0
           },
           {
            "bin_end": 0.4,
            "bin_start": 0.30000000000000004,
            "count": 0
           },
           {
            "bin_end": 0.5,
            "bin_start": 0.4,
            "count": 0
           },
           {
            "bin_end": 0.6000000000000001,
            "bin_start": 0.5,
            "count": 0
           },
           {
            "bin_end": 0.7000000000000001,
            "bin_start": 0.6000000000000001,
            "count": 0
           },
           {
            "bin_end": 0.8,
            "bin_start": 0.7000000000000001,
            "count": 0
           },
           {
            "bin_end": 0.9,
            "bin_start": 0.8,
            "count": 0
           },
           {
            "bin_end": 1,
            "bin_start": 0.9,
            "count": 3
           }
          ],
          "max": "1",
          "min": "0",
          "nan_count": 0,
          "unique_count": 2
         }
        },
        {
         "dtype": "int64",
         "name": "RECEIVE_BOOT_COMPLETED",
         "stats": {
          "histogram": [
           {
            "bin_end": 0.1,
            "bin_start": 0,
            "count": 2
           },
           {
            "bin_end": 0.2,
            "bin_start": 0.1,
            "count": 0
           },
           {
            "bin_end": 0.30000000000000004,
            "bin_start": 0.2,
            "count": 0
           },
           {
            "bin_end": 0.4,
            "bin_start": 0.30000000000000004,
            "count": 0
           },
           {
            "bin_end": 0.5,
            "bin_start": 0.4,
            "count": 0
           },
           {
            "bin_end": 0.6000000000000001,
            "bin_start": 0.5,
            "count": 0
           },
           {
            "bin_end": 0.7000000000000001,
            "bin_start": 0.6000000000000001,
            "count": 0
           },
           {
            "bin_end": 0.8,
            "bin_start": 0.7000000000000001,
            "count": 0
           },
           {
            "bin_end": 0.9,
            "bin_start": 0.8,
            "count": 0
           },
           {
            "bin_end": 1,
            "bin_start": 0.9,
            "count": 3
           }
          ],
          "max": "1",
          "min": "0",
          "nan_count": 0,
          "unique_count": 2
         }
        },
        {
         "dtype": "int64",
         "name": "RESTART_PACKAGES",
         "stats": {
          "histogram": [
           {
            "bin_end": -0.4,
            "bin_start": -0.5,
            "count": 0
           },
           {
            "bin_end": -0.3,
            "bin_start": -0.4,
            "count": 0
           },
           {
            "bin_end": -0.19999999999999996,
            "bin_start": -0.3,
            "count": 0
           },
           {
            "bin_end": -0.09999999999999998,
            "bin_start": -0.19999999999999996,
            "count": 0
           },
           {
            "bin_end": 0,
            "bin_start": -0.09999999999999998,
            "count": 0
           },
           {
            "bin_end": 0.10000000000000009,
            "bin_start": 0,
            "count": 5
           },
           {
            "bin_end": 0.20000000000000007,
            "bin_start": 0.10000000000000009,
            "count": 0
           },
           {
            "bin_end": 0.30000000000000004,
            "bin_start": 0.20000000000000007,
            "count": 0
           },
           {
            "bin_end": 0.4,
            "bin_start": 0.30000000000000004,
            "count": 0
           },
           {
            "bin_end": 0.5,
            "bin_start": 0.4,
            "count": 0
           }
          ],
          "max": "0",
          "min": "0",
          "nan_count": 0,
          "unique_count": 1
         }
        },
        {
         "dtype": "int64",
         "name": "BLUETOOTH",
         "stats": {
          "histogram": [
           {
            "bin_end": 0.1,
            "bin_start": 0,
            "count": 4
           },
           {
            "bin_end": 0.2,
            "bin_start": 0.1,
            "count": 0
           },
           {
            "bin_end": 0.30000000000000004,
            "bin_start": 0.2,
            "count": 0
           },
           {
            "bin_end": 0.4,
            "bin_start": 0.30000000000000004,
            "count": 0
           },
           {
            "bin_end": 0.5,
            "bin_start": 0.4,
            "count": 0
           },
           {
            "bin_end": 0.6000000000000001,
            "bin_start": 0.5,
            "count": 0
           },
           {
            "bin_end": 0.7000000000000001,
            "bin_start": 0.6000000000000001,
            "count": 0
           },
           {
            "bin_end": 0.8,
            "bin_start": 0.7000000000000001,
            "count": 0
           },
           {
            "bin_end": 0.9,
            "bin_start": 0.8,
            "count": 0
           },
           {
            "bin_end": 1,
            "bin_start": 0.9,
            "count": 1
           }
          ],
          "max": "1",
          "min": "0",
          "nan_count": 0,
          "unique_count": 2
         }
        },
        {
         "dtype": "int64",
         "name": "READ_CALENDAR",
         "stats": {
          "histogram": [
           {
            "bin_end": 0.1,
            "bin_start": 0,
            "count": 4
           },
           {
            "bin_end": 0.2,
            "bin_start": 0.1,
            "count": 0
           },
           {
            "bin_end": 0.30000000000000004,
            "bin_start": 0.2,
            "count": 0
           },
           {
            "bin_end": 0.4,
            "bin_start": 0.30000000000000004,
            "count": 0
           },
           {
            "bin_end": 0.5,
            "bin_start": 0.4,
            "count": 0
           },
           {
            "bin_end": 0.6000000000000001,
            "bin_start": 0.5,
            "count": 0
           },
           {
            "bin_end": 0.7000000000000001,
            "bin_start": 0.6000000000000001,
            "count": 0
           },
           {
            "bin_end": 0.8,
            "bin_start": 0.7000000000000001,
            "count": 0
           },
           {
            "bin_end": 0.9,
            "bin_start": 0.8,
            "count": 0
           },
           {
            "bin_end": 1,
            "bin_start": 0.9,
            "count": 1
           }
          ],
          "max": "1",
          "min": "0",
          "nan_count": 0,
          "unique_count": 2
         }
        },
        {
         "dtype": "int64",
         "name": "READ_CALL_LOG",
         "stats": {
          "histogram": [
           {
            "bin_end": 0.1,
            "bin_start": 0,
            "count": 4
           },
           {
            "bin_end": 0.2,
            "bin_start": 0.1,
            "count": 0
           },
           {
            "bin_end": 0.30000000000000004,
            "bin_start": 0.2,
            "count": 0
           },
           {
            "bin_end": 0.4,
            "bin_start": 0.30000000000000004,
            "count": 0
           },
           {
            "bin_end": 0.5,
            "bin_start": 0.4,
            "count": 0
           },
           {
            "bin_end": 0.6000000000000001,
            "bin_start": 0.5,
            "count": 0
           },
           {
            "bin_end": 0.7000000000000001,
            "bin_start": 0.6000000000000001,
            "count": 0
           },
           {
            "bin_end": 0.8,
            "bin_start": 0.7000000000000001,
            "count": 0
           },
           {
            "bin_end": 0.9,
            "bin_start": 0.8,
            "count": 0
           },
           {
            "bin_end": 1,
            "bin_start": 0.9,
            "count": 1
           }
          ],
          "max": "1",
          "min": "0",
          "nan_count": 0,
          "unique_count": 2
         }
        },
        {
         "dtype": "int64",
         "name": "SUBSCRIBED_FEEDS_WRITE",
         "stats": {
          "histogram": [
           {
            "bin_end": 0.1,
            "bin_start": 0,
            "count": 4
           },
           {
            "bin_end": 0.2,
            "bin_start": 0.1,
            "count": 0
           },
           {
            "bin_end": 0.30000000000000004,
            "bin_start": 0.2,
            "count": 0
           },
           {
            "bin_end": 0.4,
            "bin_start": 0.30000000000000004,
            "count": 0
           },
           {
            "bin_end": 0.5,
            "bin_start": 0.4,
            "count": 0
           },
           {
            "bin_end": 0.6000000000000001,
            "bin_start": 0.5,
            "count": 0
           },
           {
            "bin_end": 0.7000000000000001,
            "bin_start": 0.6000000000000001,
            "count": 0
           },
           {
            "bin_end": 0.8,
            "bin_start": 0.7000000000000001,
            "count": 0
           },
           {
            "bin_end": 0.9,
            "bin_start": 0.8,
            "count": 0
           },
           {
            "bin_end": 1,
            "bin_start": 0.9,
            "count": 1
           }
          ],
          "max": "1",
          "min": "0",
          "nan_count": 0,
          "unique_count": 2
         }
        },
        {
         "dtype": "int64",
         "name": "READ_EXTERNAL_STORAGE",
         "stats": {
          "histogram": [
           {
            "bin_end": 0.1,
            "bin_start": 0,
            "count": 4
           },
           {
            "bin_end": 0.2,
            "bin_start": 0.1,
            "count": 0
           },
           {
            "bin_end": 0.30000000000000004,
            "bin_start": 0.2,
            "count": 0
           },
           {
            "bin_end": 0.4,
            "bin_start": 0.30000000000000004,
            "count": 0
           },
           {
            "bin_end": 0.5,
            "bin_start": 0.4,
            "count": 0
           },
           {
            "bin_end": 0.6000000000000001,
            "bin_start": 0.5,
            "count": 0
           },
           {
            "bin_end": 0.7000000000000001,
            "bin_start": 0.6000000000000001,
            "count": 0
           },
           {
            "bin_end": 0.8,
            "bin_start": 0.7000000000000001,
            "count": 0
           },
           {
            "bin_end": 0.9,
            "bin_start": 0.8,
            "count": 0
           },
           {
            "bin_end": 1,
            "bin_start": 0.9,
            "count": 1
           }
          ],
          "max": "1",
          "min": "0",
          "nan_count": 0,
          "unique_count": 2
         }
        },
        {
         "dtype": "int64",
         "name": "VIBRATE",
         "stats": {
          "histogram": [
           {
            "bin_end": 0.1,
            "bin_start": 0,
            "count": 4
           },
           {
            "bin_end": 0.2,
            "bin_start": 0.1,
            "count": 0
           },
           {
            "bin_end": 0.30000000000000004,
            "bin_start": 0.2,
            "count": 0
           },
           {
            "bin_end": 0.4,
            "bin_start": 0.30000000000000004,
            "count": 0
           },
           {
            "bin_end": 0.5,
            "bin_start": 0.4,
            "count": 0
           },
           {
            "bin_end": 0.6000000000000001,
            "bin_start": 0.5,
            "count": 0
           },
           {
            "bin_end": 0.7000000000000001,
            "bin_start": 0.6000000000000001,
            "count": 0
           },
           {
            "bin_end": 0.8,
            "bin_start": 0.7000000000000001,
            "count": 0
           },
           {
            "bin_end": 0.9,
            "bin_start": 0.8,
            "count": 0
           },
           {
            "bin_end": 1,
            "bin_start": 0.9,
            "count": 1
           }
          ],
          "max": "1",
          "min": "0",
          "nan_count": 0,
          "unique_count": 2
         }
        },
        {
         "dtype": "int64",
         "name": "ACCESS_NETWORK_STATE",
         "stats": {
          "histogram": [
           {
            "bin_end": 0.1,
            "bin_start": 0,
            "count": 2
           },
           {
            "bin_end": 0.2,
            "bin_start": 0.1,
            "count": 0
           },
           {
            "bin_end": 0.30000000000000004,
            "bin_start": 0.2,
            "count": 0
           },
           {
            "bin_end": 0.4,
            "bin_start": 0.30000000000000004,
            "count": 0
           },
           {
            "bin_end": 0.5,
            "bin_start": 0.4,
            "count": 0
           },
           {
            "bin_end": 0.6000000000000001,
            "bin_start": 0.5,
            "count": 0
           },
           {
            "bin_end": 0.7000000000000001,
            "bin_start": 0.6000000000000001,
            "count": 0
           },
           {
            "bin_end": 0.8,
            "bin_start": 0.7000000000000001,
            "count": 0
           },
           {
            "bin_end": 0.9,
            "bin_start": 0.8,
            "count": 0
           },
           {
            "bin_end": 1,
            "bin_start": 0.9,
            "count": 3
           }
          ],
          "max": "1",
          "min": "0",
          "nan_count": 0,
          "unique_count": 2
         }
        },
        {
         "dtype": "int64",
         "name": "SUBSCRIBED_FEEDS_READ",
         "stats": {
          "histogram": [
           {
            "bin_end": 0.1,
            "bin_start": 0,
            "count": 4
           },
           {
            "bin_end": 0.2,
            "bin_start": 0.1,
            "count": 0
           },
           {
            "bin_end": 0.30000000000000004,
            "bin_start": 0.2,
            "count": 0
           },
           {
            "bin_end": 0.4,
            "bin_start": 0.30000000000000004,
            "count": 0
           },
           {
            "bin_end": 0.5,
            "bin_start": 0.4,
            "count": 0
           },
           {
            "bin_end": 0.6000000000000001,
            "bin_start": 0.5,
            "count": 0
           },
           {
            "bin_end": 0.7000000000000001,
            "bin_start": 0.6000000000000001,
            "count": 0
           },
           {
            "bin_end": 0.8,
            "bin_start": 0.7000000000000001,
            "count": 0
           },
           {
            "bin_end": 0.9,
            "bin_start": 0.8,
            "count": 0
           },
           {
            "bin_end": 1,
            "bin_start": 0.9,
            "count": 1
           }
          ],
          "max": "1",
          "min": "0",
          "nan_count": 0,
          "unique_count": 2
         }
        },
        {
         "dtype": "int64",
         "name": "CHANGE_WIFI_MULTICAST_STATE",
         "stats": {
          "histogram": [
           {
            "bin_end": -0.4,
            "bin_start": -0.5,
            "count": 0
           },
           {
            "bin_end": -0.3,
            "bin_start": -0.4,
            "count": 0
           },
           {
            "bin_end": -0.19999999999999996,
            "bin_start": -0.3,
            "count": 0
           },
           {
            "bin_end": -0.09999999999999998,
            "bin_start": -0.19999999999999996,
            "count": 0
           },
           {
            "bin_end": 0,
            "bin_start": -0.09999999999999998,
            "count": 0
           },
           {
            "bin_end": 0.10000000000000009,
            "bin_start": 0,
            "count": 5
           },
           {
            "bin_end": 0.20000000000000007,
            "bin_start": 0.10000000000000009,
            "count": 0
           },
           {
            "bin_end": 0.30000000000000004,
            "bin_start": 0.20000000000000007,
            "count": 0
           },
           {
            "bin_end": 0.4,
            "bin_start": 0.30000000000000004,
            "count": 0
           },
           {
            "bin_end": 0.5,
            "bin_start": 0.4,
            "count": 0
           }
          ],
          "max": "0",
          "min": "0",
          "nan_count": 0,
          "unique_count": 1
         }
        },
        {
         "dtype": "int64",
         "name": "WRITE_CALENDAR",
         "stats": {
          "histogram": [
           {
            "bin_end": 0.1,
            "bin_start": 0,
            "count": 4
           },
           {
            "bin_end": 0.2,
            "bin_start": 0.1,
            "count": 0
           },
           {
            "bin_end": 0.30000000000000004,
            "bin_start": 0.2,
            "count": 0
           },
           {
            "bin_end": 0.4,
            "bin_start": 0.30000000000000004,
            "count": 0
           },
           {
            "bin_end": 0.5,
            "bin_start": 0.4,
            "count": 0
           },
           {
            "bin_end": 0.6000000000000001,
            "bin_start": 0.5,
            "count": 0
           },
           {
            "bin_end": 0.7000000000000001,
            "bin_start": 0.6000000000000001,
            "count": 0
           },
           {
            "bin_end": 0.8,
            "bin_start": 0.7000000000000001,
            "count": 0
           },
           {
            "bin_end": 0.9,
            "bin_start": 0.8,
            "count": 0
           },
           {
            "bin_end": 1,
            "bin_start": 0.9,
            "count": 1
           }
          ],
          "max": "1",
          "min": "0",
          "nan_count": 0,
          "unique_count": 2
         }
        },
        {
         "dtype": "int64",
         "name": "MASTER_CLEAR",
         "stats": {
          "histogram": [
           {
            "bin_end": -0.4,
            "bin_start": -0.5,
            "count": 0
           },
           {
            "bin_end": -0.3,
            "bin_start": -0.4,
            "count": 0
           },
           {
            "bin_end": -0.19999999999999996,
            "bin_start": -0.3,
            "count": 0
           },
           {
            "bin_end": -0.09999999999999998,
            "bin_start": -0.19999999999999996,
            "count": 0
           },
           {
            "bin_end": 0,
            "bin_start": -0.09999999999999998,
            "count": 0
           },
           {
            "bin_end": 0.10000000000000009,
            "bin_start": 0,
            "count": 5
           },
           {
            "bin_end": 0.20000000000000007,
            "bin_start": 0.10000000000000009,
            "count": 0
           },
           {
            "bin_end": 0.30000000000000004,
            "bin_start": 0.20000000000000007,
            "count": 0
           },
           {
            "bin_end": 0.4,
            "bin_start": 0.30000000000000004,
            "count": 0
           },
           {
            "bin_end": 0.5,
            "bin_start": 0.4,
            "count": 0
           }
          ],
          "max": "0",
          "min": "0",
          "nan_count": 0,
          "unique_count": 1
         }
        },
        {
         "dtype": "int64",
         "name": "UPDATE_DEVICE_STATS",
         "stats": {
          "histogram": [
           {
            "bin_end": -0.4,
            "bin_start": -0.5,
            "count": 0
           },
           {
            "bin_end": -0.3,
            "bin_start": -0.4,
            "count": 0
           },
           {
            "bin_end": -0.19999999999999996,
            "bin_start": -0.3,
            "count": 0
           },
           {
            "bin_end": -0.09999999999999998,
            "bin_start": -0.19999999999999996,
            "count": 0
           },
           {
            "bin_end": 0,
            "bin_start": -0.09999999999999998,
            "count": 0
           },
           {
            "bin_end": 0.10000000000000009,
            "bin_start": 0,
            "count": 5
           },
           {
            "bin_end": 0.20000000000000007,
            "bin_start": 0.10000000000000009,
            "count": 0
           },
           {
            "bin_end": 0.30000000000000004,
            "bin_start": 0.20000000000000007,
            "count": 0
           },
           {
            "bin_end": 0.4,
            "bin_start": 0.30000000000000004,
            "count": 0
           },
           {
            "bin_end": 0.5,
            "bin_start": 0.4,
            "count": 0
           }
          ],
          "max": "0",
          "min": "0",
          "nan_count": 0,
          "unique_count": 1
         }
        },
        {
         "dtype": "int64",
         "name": "WRITE_CALL_LOG",
         "stats": {
          "histogram": [
           {
            "bin_end": -0.4,
            "bin_start": -0.5,
            "count": 0
           },
           {
            "bin_end": -0.3,
            "bin_start": -0.4,
            "count": 0
           },
           {
            "bin_end": -0.19999999999999996,
            "bin_start": -0.3,
            "count": 0
           },
           {
            "bin_end": -0.09999999999999998,
            "bin_start": -0.19999999999999996,
            "count": 0
           },
           {
            "bin_end": 0,
            "bin_start": -0.09999999999999998,
            "count": 0
           },
           {
            "bin_end": 0.10000000000000009,
            "bin_start": 0,
            "count": 5
           },
           {
            "bin_end": 0.20000000000000007,
            "bin_start": 0.10000000000000009,
            "count": 0
           },
           {
            "bin_end": 0.30000000000000004,
            "bin_start": 0.20000000000000007,
            "count": 0
           },
           {
            "bin_end": 0.4,
            "bin_start": 0.30000000000000004,
            "count": 0
           },
           {
            "bin_end": 0.5,
            "bin_start": 0.4,
            "count": 0
           }
          ],
          "max": "0",
          "min": "0",
          "nan_count": 0,
          "unique_count": 1
         }
        },
        {
         "dtype": "int64",
         "name": "DELETE_PACKAGES",
         "stats": {
          "histogram": [
           {
            "bin_end": -0.4,
            "bin_start": -0.5,
            "count": 0
           },
           {
            "bin_end": -0.3,
            "bin_start": -0.4,
            "count": 0
           },
           {
            "bin_end": -0.19999999999999996,
            "bin_start": -0.3,
            "count": 0
           },
           {
            "bin_end": -0.09999999999999998,
            "bin_start": -0.19999999999999996,
            "count": 0
           },
           {
            "bin_end": 0,
            "bin_start": -0.09999999999999998,
            "count": 0
           },
           {
            "bin_end": 0.10000000000000009,
            "bin_start": 0,
            "count": 5
           },
           {
            "bin_end": 0.20000000000000007,
            "bin_start": 0.10000000000000009,
            "count": 0
           },
           {
            "bin_end": 0.30000000000000004,
            "bin_start": 0.20000000000000007,
            "count": 0
           },
           {
            "bin_end": 0.4,
            "bin_start": 0.30000000000000004,
            "count": 0
           },
           {
            "bin_end": 0.5,
            "bin_start": 0.4,
            "count": 0
           }
          ],
          "max": "0",
          "min": "0",
          "nan_count": 0,
          "unique_count": 1
         }
        },
        {
         "dtype": "int64",
         "name": "GET_TASKS",
         "stats": {
          "histogram": [
           {
            "bin_end": 0.1,
            "bin_start": 0,
            "count": 4
           },
           {
            "bin_end": 0.2,
            "bin_start": 0.1,
            "count": 0
           },
           {
            "bin_end": 0.30000000000000004,
            "bin_start": 0.2,
            "count": 0
           },
           {
            "bin_end": 0.4,
            "bin_start": 0.30000000000000004,
            "count": 0
           },
           {
            "bin_end": 0.5,
            "bin_start": 0.4,
            "count": 0
           },
           {
            "bin_end": 0.6000000000000001,
            "bin_start": 0.5,
            "count": 0
           },
           {
            "bin_end": 0.7000000000000001,
            "bin_start": 0.6000000000000001,
            "count": 0
           },
           {
            "bin_end": 0.8,
            "bin_start": 0.7000000000000001,
            "count": 0
           },
           {
            "bin_end": 0.9,
            "bin_start": 0.8,
            "count": 0
           },
           {
            "bin_end": 1,
            "bin_start": 0.9,
            "count": 1
           }
          ],
          "max": "1",
          "min": "0",
          "nan_count": 0,
          "unique_count": 2
         }
        },
        {
         "dtype": "int64",
         "name": "GLOBAL_SEARCH",
         "stats": {
          "histogram": [
           {
            "bin_end": -0.4,
            "bin_start": -0.5,
            "count": 0
           },
           {
            "bin_end": -0.3,
            "bin_start": -0.4,
            "count": 0
           },
           {
            "bin_end": -0.19999999999999996,
            "bin_start": -0.3,
            "count": 0
           },
           {
            "bin_end": -0.09999999999999998,
            "bin_start": -0.19999999999999996,
            "count": 0
           },
           {
            "bin_end": 0,
            "bin_start": -0.09999999999999998,
            "count": 0
           },
           {
            "bin_end": 0.10000000000000009,
            "bin_start": 0,
            "count": 5
           },
           {
            "bin_end": 0.20000000000000007,
            "bin_start": 0.10000000000000009,
            "count": 0
           },
           {
            "bin_end": 0.30000000000000004,
            "bin_start": 0.20000000000000007,
            "count": 0
           },
           {
            "bin_end": 0.4,
            "bin_start": 0.30000000000000004,
            "count": 0
           },
           {
            "bin_end": 0.5,
            "bin_start": 0.4,
            "count": 0
           }
          ],
          "max": "0",
          "min": "0",
          "nan_count": 0,
          "unique_count": 1
         }
        },
        {
         "dtype": "int64",
         "name": "DELETE_CACHE_FILES",
         "stats": {
          "histogram": [
           {
            "bin_end": 0.1,
            "bin_start": 0,
            "count": 4
           },
           {
            "bin_end": 0.2,
            "bin_start": 0.1,
            "count": 0
           },
           {
            "bin_end": 0.30000000000000004,
            "bin_start": 0.2,
            "count": 0
           },
           {
            "bin_end": 0.4,
            "bin_start": 0.30000000000000004,
            "count": 0
           },
           {
            "bin_end": 0.5,
            "bin_start": 0.4,
            "count": 0
           },
           {
            "bin_end": 0.6000000000000001,
            "bin_start": 0.5,
            "count": 0
           },
           {
            "bin_end": 0.7000000000000001,
            "bin_start": 0.6000000000000001,
            "count": 0
           },
           {
            "bin_end": 0.8,
            "bin_start": 0.7000000000000001,
            "count": 0
           },
           {
            "bin_end": 0.9,
            "bin_start": 0.8,
            "count": 0
           },
           {
            "bin_end": 1,
            "bin_start": 0.9,
            "count": 1
           }
          ],
          "max": "1",
          "min": "0",
          "nan_count": 0,
          "unique_count": 2
         }
        },
        {
         "dtype": "int64",
         "name": "WRITE_USER_DICTIONARY",
         "stats": {
          "histogram": [
           {
            "bin_end": -0.4,
            "bin_start": -0.5,
            "count": 0
           },
           {
            "bin_end": -0.3,
            "bin_start": -0.4,
            "count": 0
           },
           {
            "bin_end": -0.19999999999999996,
            "bin_start": -0.3,
            "count": 0
           },
           {
            "bin_end": -0.09999999999999998,
            "bin_start": -0.19999999999999996,
            "count": 0
           },
           {
            "bin_end": 0,
            "bin_start": -0.09999999999999998,
            "count": 0
           },
           {
            "bin_end": 0.10000000000000009,
            "bin_start": 0,
            "count": 5
           },
           {
            "bin_end": 0.20000000000000007,
            "bin_start": 0.10000000000000009,
            "count": 0
           },
           {
            "bin_end": 0.30000000000000004,
            "bin_start": 0.20000000000000007,
            "count": 0
           },
           {
            "bin_end": 0.4,
            "bin_start": 0.30000000000000004,
            "count": 0
           },
           {
            "bin_end": 0.5,
            "bin_start": 0.4,
            "count": 0
           }
          ],
          "max": "0",
          "min": "0",
          "nan_count": 0,
          "unique_count": 1
         }
        },
        {
         "dtype": "int64",
         "name": "REORDER_TASKS",
         "stats": {
          "histogram": [
           {
            "bin_end": -0.4,
            "bin_start": -0.5,
            "count": 0
           },
           {
            "bin_end": -0.3,
            "bin_start": -0.4,
            "count": 0
           },
           {
            "bin_end": -0.19999999999999996,
            "bin_start": -0.3,
            "count": 0
           },
           {
            "bin_end": -0.09999999999999998,
            "bin_start": -0.19999999999999996,
            "count": 0
           },
           {
            "bin_end": 0,
            "bin_start": -0.09999999999999998,
            "count": 0
           },
           {
            "bin_end": 0.10000000000000009,
            "bin_start": 0,
            "count": 5
           },
           {
            "bin_end": 0.20000000000000007,
            "bin_start": 0.10000000000000009,
            "count": 0
           },
           {
            "bin_end": 0.30000000000000004,
            "bin_start": 0.20000000000000007,
            "count": 0
           },
           {
            "bin_end": 0.4,
            "bin_start": 0.30000000000000004,
            "count": 0
           },
           {
            "bin_end": 0.5,
            "bin_start": 0.4,
            "count": 0
           }
          ],
          "max": "0",
          "min": "0",
          "nan_count": 0,
          "unique_count": 1
         }
        },
        {
         "dtype": "int64",
         "name": "WRITE_PROFILE",
         "stats": {
          "histogram": [
           {
            "bin_end": 0.1,
            "bin_start": 0,
            "count": 4
           },
           {
            "bin_end": 0.2,
            "bin_start": 0.1,
            "count": 0
           },
           {
            "bin_end": 0.30000000000000004,
            "bin_start": 0.2,
            "count": 0
           },
           {
            "bin_end": 0.4,
            "bin_start": 0.30000000000000004,
            "count": 0
           },
           {
            "bin_end": 0.5,
            "bin_start": 0.4,
            "count": 0
           },
           {
            "bin_end": 0.6000000000000001,
            "bin_start": 0.5,
            "count": 0
           },
           {
            "bin_end": 0.7000000000000001,
            "bin_start": 0.6000000000000001,
            "count": 0
           },
           {
            "bin_end": 0.8,
            "bin_start": 0.7000000000000001,
            "count": 0
           },
           {
            "bin_end": 0.9,
            "bin_start": 0.8,
            "count": 0
           },
           {
            "bin_end": 1,
            "bin_start": 0.9,
            "count": 1
           }
          ],
          "max": "1",
          "min": "0",
          "nan_count": 0,
          "unique_count": 2
         }
        },
        {
         "dtype": "int64",
         "name": "SET_WALLPAPER",
         "stats": {
          "histogram": [
           {
            "bin_end": 0.1,
            "bin_start": 0,
            "count": 4
           },
           {
            "bin_end": 0.2,
            "bin_start": 0.1,
            "count": 0
           },
           {
            "bin_end": 0.30000000000000004,
            "bin_start": 0.2,
            "count": 0
           },
           {
            "bin_end": 0.4,
            "bin_start": 0.30000000000000004,
            "count": 0
           },
           {
            "bin_end": 0.5,
            "bin_start": 0.4,
            "count": 0
           },
           {
            "bin_end": 0.6000000000000001,
            "bin_start": 0.5,
            "count": 0
           },
           {
            "bin_end": 0.7000000000000001,
            "bin_start": 0.6000000000000001,
            "count": 0
           },
           {
            "bin_end": 0.8,
            "bin_start": 0.7000000000000001,
            "count": 0
           },
           {
            "bin_end": 0.9,
            "bin_start": 0.8,
            "count": 0
           },
           {
            "bin_end": 1,
            "bin_start": 0.9,
            "count": 1
           }
          ],
          "max": "1",
          "min": "0",
          "nan_count": 0,
          "unique_count": 2
         }
        },
        {
         "dtype": "int64",
         "name": "BIND_INPUT_METHOD",
         "stats": {
          "histogram": [
           {
            "bin_end": -0.4,
            "bin_start": -0.5,
            "count": 0
           },
           {
            "bin_end": -0.3,
            "bin_start": -0.4,
            "count": 0
           },
           {
            "bin_end": -0.19999999999999996,
            "bin_start": -0.3,
            "count": 0
           },
           {
            "bin_end": -0.09999999999999998,
            "bin_start": -0.19999999999999996,
            "count": 0
           },
           {
            "bin_end": 0,
            "bin_start": -0.09999999999999998,
            "count": 0
           },
           {
            "bin_end": 0.10000000000000009,
            "bin_start": 0,
            "count": 5
           },
           {
            "bin_end": 0.20000000000000007,
            "bin_start": 0.10000000000000009,
            "count": 0
           },
           {
            "bin_end": 0.30000000000000004,
            "bin_start": 0.20000000000000007,
            "count": 0
           },
           {
            "bin_end": 0.4,
            "bin_start": 0.30000000000000004,
            "count": 0
           },
           {
            "bin_end": 0.5,
            "bin_start": 0.4,
            "count": 0
           }
          ],
          "max": "0",
          "min": "0",
          "nan_count": 0,
          "unique_count": 1
         }
        },
        {
         "dtype": "int64",
         "name": "READ_SOCIAL_STREAM",
         "stats": {
          "histogram": [
           {
            "bin_end": 0.1,
            "bin_start": 0,
            "count": 4
           },
           {
            "bin_end": 0.2,
            "bin_start": 0.1,
            "count": 0
           },
           {
            "bin_end": 0.30000000000000004,
            "bin_start": 0.2,
            "count": 0
           },
           {
            "bin_end": 0.4,
            "bin_start": 0.30000000000000004,
            "count": 0
           },
           {
            "bin_end": 0.5,
            "bin_start": 0.4,
            "count": 0
           },
           {
            "bin_end": 0.6000000000000001,
            "bin_start": 0.5,
            "count": 0
           },
           {
            "bin_end": 0.7000000000000001,
            "bin_start": 0.6000000000000001,
            "count": 0
           },
           {
            "bin_end": 0.8,
            "bin_start": 0.7000000000000001,
            "count": 0
           },
           {
            "bin_end": 0.9,
            "bin_start": 0.8,
            "count": 0
           },
           {
            "bin_end": 1,
            "bin_start": 0.9,
            "count": 1
           }
          ],
          "max": "1",
          "min": "0",
          "nan_count": 0,
          "unique_count": 2
         }
        },
        {
         "dtype": "int64",
         "name": "READ_USER_DICTIONARY",
         "stats": {
          "histogram": [
           {
            "bin_end": -0.4,
            "bin_start": -0.5,
            "count": 0
           },
           {
            "bin_end": -0.3,
            "bin_start": -0.4,
            "count": 0
           },
           {
            "bin_end": -0.19999999999999996,
            "bin_start": -0.3,
            "count": 0
           },
           {
            "bin_end": -0.09999999999999998,
            "bin_start": -0.19999999999999996,
            "count": 0
           },
           {
            "bin_end": 0,
            "bin_start": -0.09999999999999998,
            "count": 0
           },
           {
            "bin_end": 0.10000000000000009,
            "bin_start": 0,
            "count": 5
           },
           {
            "bin_end": 0.20000000000000007,
            "bin_start": 0.10000000000000009,
            "count": 0
           },
           {
            "bin_end": 0.30000000000000004,
            "bin_start": 0.20000000000000007,
            "count": 0
           },
           {
            "bin_end": 0.4,
            "bin_start": 0.30000000000000004,
            "count": 0
           },
           {
            "bin_end": 0.5,
            "bin_start": 0.4,
            "count": 0
           }
          ],
          "max": "0",
          "min": "0",
          "nan_count": 0,
          "unique_count": 1
         }
        },
        {
         "dtype": "int64",
         "name": "PROCESS_OUTGOING_CALLS",
         "stats": {
          "histogram": [
           {
            "bin_end": 0.1,
            "bin_start": 0,
            "count": 4
           },
           {
            "bin_end": 0.2,
            "bin_start": 0.1,
            "count": 0
           },
           {
            "bin_end": 0.30000000000000004,
            "bin_start": 0.2,
            "count": 0
           },
           {
            "bin_end": 0.4,
            "bin_start": 0.30000000000000004,
            "count": 0
           },
           {
            "bin_end": 0.5,
            "bin_start": 0.4,
            "count": 0
           },
           {
            "bin_end": 0.6000000000000001,
            "bin_start": 0.5,
            "count": 0
           },
           {
            "bin_end": 0.7000000000000001,
            "bin_start": 0.6000000000000001,
            "count": 0
           },
           {
            "bin_end": 0.8,
            "bin_start": 0.7000000000000001,
            "count": 0
           },
           {
            "bin_end": 0.9,
            "bin_start": 0.8,
            "count": 0
           },
           {
            "bin_end": 1,
            "bin_start": 0.9,
            "count": 1
           }
          ],
          "max": "1",
          "min": "0",
          "nan_count": 0,
          "unique_count": 2
         }
        },
        {
         "dtype": "int64",
         "name": "CALL_PRIVILEGED",
         "stats": {
          "histogram": [
           {
            "bin_end": 0.1,
            "bin_start": 0,
            "count": 3
           },
           {
            "bin_end": 0.2,
            "bin_start": 0.1,
            "count": 0
           },
           {
            "bin_end": 0.30000000000000004,
            "bin_start": 0.2,
            "count": 0
           },
           {
            "bin_end": 0.4,
            "bin_start": 0.30000000000000004,
            "count": 0
           },
           {
            "bin_end": 0.5,
            "bin_start": 0.4,
            "count": 0
           },
           {
            "bin_end": 0.6000000000000001,
            "bin_start": 0.5,
            "count": 0
           },
           {
            "bin_end": 0.7000000000000001,
            "bin_start": 0.6000000000000001,
            "count": 0
           },
           {
            "bin_end": 0.8,
            "bin_start": 0.7000000000000001,
            "count": 0
           },
           {
            "bin_end": 0.9,
            "bin_start": 0.8,
            "count": 0
           },
           {
            "bin_end": 1,
            "bin_start": 0.9,
            "count": 2
           }
          ],
          "max": "1",
          "min": "0",
          "nan_count": 0,
          "unique_count": 2
         }
        },
        {
         "dtype": "int64",
         "name": "BIND_WALLPAPER",
         "stats": {
          "histogram": [
           {
            "bin_end": -0.4,
            "bin_start": -0.5,
            "count": 0
           },
           {
            "bin_end": -0.3,
            "bin_start": -0.4,
            "count": 0
           },
           {
            "bin_end": -0.19999999999999996,
            "bin_start": -0.3,
            "count": 0
           },
           {
            "bin_end": -0.09999999999999998,
            "bin_start": -0.19999999999999996,
            "count": 0
           },
           {
            "bin_end": 0,
            "bin_start": -0.09999999999999998,
            "count": 0
           },
           {
            "bin_end": 0.10000000000000009,
            "bin_start": 0,
            "count": 5
           },
           {
            "bin_end": 0.20000000000000007,
            "bin_start": 0.10000000000000009,
            "count": 0
           },
           {
            "bin_end": 0.30000000000000004,
            "bin_start": 0.20000000000000007,
            "count": 0
           },
           {
            "bin_end": 0.4,
            "bin_start": 0.30000000000000004,
            "count": 0
           },
           {
            "bin_end": 0.5,
            "bin_start": 0.4,
            "count": 0
           }
          ],
          "max": "0",
          "min": "0",
          "nan_count": 0,
          "unique_count": 1
         }
        },
        {
         "dtype": "int64",
         "name": "RECEIVE_WAP_PUSH",
         "stats": {
          "histogram": [
           {
            "bin_end": -0.4,
            "bin_start": -0.5,
            "count": 0
           },
           {
            "bin_end": -0.3,
            "bin_start": -0.4,
            "count": 0
           },
           {
            "bin_end": -0.19999999999999996,
            "bin_start": -0.3,
            "count": 0
           },
           {
            "bin_end": -0.09999999999999998,
            "bin_start": -0.19999999999999996,
            "count": 0
           },
           {
            "bin_end": 0,
            "bin_start": -0.09999999999999998,
            "count": 0
           },
           {
            "bin_end": 0.10000000000000009,
            "bin_start": 0,
            "count": 5
           },
           {
            "bin_end": 0.20000000000000007,
            "bin_start": 0.10000000000000009,
            "count": 0
           },
           {
            "bin_end": 0.30000000000000004,
            "bin_start": 0.20000000000000007,
            "count": 0
           },
           {
            "bin_end": 0.4,
            "bin_start": 0.30000000000000004,
            "count": 0
           },
           {
            "bin_end": 0.5,
            "bin_start": 0.4,
            "count": 0
           }
          ],
          "max": "0",
          "min": "0",
          "nan_count": 0,
          "unique_count": 1
         }
        },
        {
         "dtype": "int64",
         "name": "DUMP",
         "stats": {
          "histogram": [
           {
            "bin_end": 0.1,
            "bin_start": 0,
            "count": 4
           },
           {
            "bin_end": 0.2,
            "bin_start": 0.1,
            "count": 0
           },
           {
            "bin_end": 0.30000000000000004,
            "bin_start": 0.2,
            "count": 0
           },
           {
            "bin_end": 0.4,
            "bin_start": 0.30000000000000004,
            "count": 0
           },
           {
            "bin_end": 0.5,
            "bin_start": 0.4,
            "count": 0
           },
           {
            "bin_end": 0.6000000000000001,
            "bin_start": 0.5,
            "count": 0
           },
           {
            "bin_end": 0.7000000000000001,
            "bin_start": 0.6000000000000001,
            "count": 0
           },
           {
            "bin_end": 0.8,
            "bin_start": 0.7000000000000001,
            "count": 0
           },
           {
            "bin_end": 0.9,
            "bin_start": 0.8,
            "count": 0
           },
           {
            "bin_end": 1,
            "bin_start": 0.9,
            "count": 1
           }
          ],
          "max": "1",
          "min": "0",
          "nan_count": 0,
          "unique_count": 2
         }
        },
        {
         "dtype": "int64",
         "name": "BATTERY_STATS",
         "stats": {
          "histogram": [
           {
            "bin_end": -0.4,
            "bin_start": -0.5,
            "count": 0
           },
           {
            "bin_end": -0.3,
            "bin_start": -0.4,
            "count": 0
           },
           {
            "bin_end": -0.19999999999999996,
            "bin_start": -0.3,
            "count": 0
           },
           {
            "bin_end": -0.09999999999999998,
            "bin_start": -0.19999999999999996,
            "count": 0
           },
           {
            "bin_end": 0,
            "bin_start": -0.09999999999999998,
            "count": 0
           },
           {
            "bin_end": 0.10000000000000009,
            "bin_start": 0,
            "count": 5
           },
           {
            "bin_end": 0.20000000000000007,
            "bin_start": 0.10000000000000009,
            "count": 0
           },
           {
            "bin_end": 0.30000000000000004,
            "bin_start": 0.20000000000000007,
            "count": 0
           },
           {
            "bin_end": 0.4,
            "bin_start": 0.30000000000000004,
            "count": 0
           },
           {
            "bin_end": 0.5,
            "bin_start": 0.4,
            "count": 0
           }
          ],
          "max": "0",
          "min": "0",
          "nan_count": 0,
          "unique_count": 1
         }
        },
        {
         "dtype": "int64",
         "name": "ACCESS_COARSE_LOCATION",
         "stats": {
          "histogram": [
           {
            "bin_end": 0.1,
            "bin_start": 0,
            "count": 3
           },
           {
            "bin_end": 0.2,
            "bin_start": 0.1,
            "count": 0
           },
           {
            "bin_end": 0.30000000000000004,
            "bin_start": 0.2,
            "count": 0
           },
           {
            "bin_end": 0.4,
            "bin_start": 0.30000000000000004,
            "count": 0
           },
           {
            "bin_end": 0.5,
            "bin_start": 0.4,
            "count": 0
           },
           {
            "bin_end": 0.6000000000000001,
            "bin_start": 0.5,
            "count": 0
           },
           {
            "bin_end": 0.7000000000000001,
            "bin_start": 0.6000000000000001,
            "count": 0
           },
           {
            "bin_end": 0.8,
            "bin_start": 0.7000000000000001,
            "count": 0
           },
           {
            "bin_end": 0.9,
            "bin_start": 0.8,
            "count": 0
           },
           {
            "bin_end": 1,
            "bin_start": 0.9,
            "count": 2
           }
          ],
          "max": "1",
          "min": "0",
          "nan_count": 0,
          "unique_count": 2
         }
        },
        {
         "dtype": "int64",
         "name": "SET_TIME",
         "stats": {
          "histogram": [
           {
            "bin_end": -0.4,
            "bin_start": -0.5,
            "count": 0
           },
           {
            "bin_end": -0.3,
            "bin_start": -0.4,
            "count": 0
           },
           {
            "bin_end": -0.19999999999999996,
            "bin_start": -0.3,
            "count": 0
           },
           {
            "bin_end": -0.09999999999999998,
            "bin_start": -0.19999999999999996,
            "count": 0
           },
           {
            "bin_end": 0,
            "bin_start": -0.09999999999999998,
            "count": 0
           },
           {
            "bin_end": 0.10000000000000009,
            "bin_start": 0,
            "count": 5
           },
           {
            "bin_end": 0.20000000000000007,
            "bin_start": 0.10000000000000009,
            "count": 0
           },
           {
            "bin_end": 0.30000000000000004,
            "bin_start": 0.20000000000000007,
            "count": 0
           },
           {
            "bin_end": 0.4,
            "bin_start": 0.30000000000000004,
            "count": 0
           },
           {
            "bin_end": 0.5,
            "bin_start": 0.4,
            "count": 0
           }
          ],
          "max": "0",
          "min": "0",
          "nan_count": 0,
          "unique_count": 1
         }
        },
        {
         "dtype": "int64",
         "name": "WRITE_SOCIAL_STREAM",
         "stats": {
          "histogram": [
           {
            "bin_end": 0.1,
            "bin_start": 0,
            "count": 4
           },
           {
            "bin_end": 0.2,
            "bin_start": 0.1,
            "count": 0
           },
           {
            "bin_end": 0.30000000000000004,
            "bin_start": 0.2,
            "count": 0
           },
           {
            "bin_end": 0.4,
            "bin_start": 0.30000000000000004,
            "count": 0
           },
           {
            "bin_end": 0.5,
            "bin_start": 0.4,
            "count": 0
           },
           {
            "bin_end": 0.6000000000000001,
            "bin_start": 0.5,
            "count": 0
           },
           {
            "bin_end": 0.7000000000000001,
            "bin_start": 0.6000000000000001,
            "count": 0
           },
           {
            "bin_end": 0.8,
            "bin_start": 0.7000000000000001,
            "count": 0
           },
           {
            "bin_end": 0.9,
            "bin_start": 0.8,
            "count": 0
           },
           {
            "bin_end": 1,
            "bin_start": 0.9,
            "count": 1
           }
          ],
          "max": "1",
          "min": "0",
          "nan_count": 0,
          "unique_count": 2
         }
        },
        {
         "dtype": "int64",
         "name": "WRITE_SETTINGS",
         "stats": {
          "histogram": [
           {
            "bin_end": 0.1,
            "bin_start": 0,
            "count": 3
           },
           {
            "bin_end": 0.2,
            "bin_start": 0.1,
            "count": 0
           },
           {
            "bin_end": 0.30000000000000004,
            "bin_start": 0.2,
            "count": 0
           },
           {
            "bin_end": 0.4,
            "bin_start": 0.30000000000000004,
            "count": 0
           },
           {
            "bin_end": 0.5,
            "bin_start": 0.4,
            "count": 0
           },
           {
            "bin_end": 0.6000000000000001,
            "bin_start": 0.5,
            "count": 0
           },
           {
            "bin_end": 0.7000000000000001,
            "bin_start": 0.6000000000000001,
            "count": 0
           },
           {
            "bin_end": 0.8,
            "bin_start": 0.7000000000000001,
            "count": 0
           },
           {
            "bin_end": 0.9,
            "bin_start": 0.8,
            "count": 0
           },
           {
            "bin_end": 1,
            "bin_start": 0.9,
            "count": 2
           }
          ],
          "max": "1",
          "min": "0",
          "nan_count": 0,
          "unique_count": 2
         }
        },
        {
         "dtype": "int64",
         "name": "REBOOT",
         "stats": {
          "histogram": [
           {
            "bin_end": 0.1,
            "bin_start": 0,
            "count": 4
           },
           {
            "bin_end": 0.2,
            "bin_start": 0.1,
            "count": 0
           },
           {
            "bin_end": 0.30000000000000004,
            "bin_start": 0.2,
            "count": 0
           },
           {
            "bin_end": 0.4,
            "bin_start": 0.30000000000000004,
            "count": 0
           },
           {
            "bin_end": 0.5,
            "bin_start": 0.4,
            "count": 0
           },
           {
            "bin_end": 0.6000000000000001,
            "bin_start": 0.5,
            "count": 0
           },
           {
            "bin_end": 0.7000000000000001,
            "bin_start": 0.6000000000000001,
            "count": 0
           },
           {
            "bin_end": 0.8,
            "bin_start": 0.7000000000000001,
            "count": 0
           },
           {
            "bin_end": 0.9,
            "bin_start": 0.8,
            "count": 0
           },
           {
            "bin_end": 1,
            "bin_start": 0.9,
            "count": 1
           }
          ],
          "max": "1",
          "min": "0",
          "nan_count": 0,
          "unique_count": 2
         }
        },
        {
         "dtype": "int64",
         "name": "BLUETOOTH_ADMIN",
         "stats": {
          "histogram": [
           {
            "bin_end": 0.1,
            "bin_start": 0,
            "count": 4
           },
           {
            "bin_end": 0.2,
            "bin_start": 0.1,
            "count": 0
           },
           {
            "bin_end": 0.30000000000000004,
            "bin_start": 0.2,
            "count": 0
           },
           {
            "bin_end": 0.4,
            "bin_start": 0.30000000000000004,
            "count": 0
           },
           {
            "bin_end": 0.5,
            "bin_start": 0.4,
            "count": 0
           },
           {
            "bin_end": 0.6000000000000001,
            "bin_start": 0.5,
            "count": 0
           },
           {
            "bin_end": 0.7000000000000001,
            "bin_start": 0.6000000000000001,
            "count": 0
           },
           {
            "bin_end": 0.8,
            "bin_start": 0.7000000000000001,
            "count": 0
           },
           {
            "bin_end": 0.9,
            "bin_start": 0.8,
            "count": 0
           },
           {
            "bin_end": 1,
            "bin_start": 0.9,
            "count": 1
           }
          ],
          "max": "1",
          "min": "0",
          "nan_count": 0,
          "unique_count": 2
         }
        },
        {
         "dtype": "int64",
         "name": "BIND_DEVICE_ADMIN",
         "stats": {
          "histogram": [
           {
            "bin_end": 0.1,
            "bin_start": 0,
            "count": 4
           },
           {
            "bin_end": 0.2,
            "bin_start": 0.1,
            "count": 0
           },
           {
            "bin_end": 0.30000000000000004,
            "bin_start": 0.2,
            "count": 0
           },
           {
            "bin_end": 0.4,
            "bin_start": 0.30000000000000004,
            "count": 0
           },
           {
            "bin_end": 0.5,
            "bin_start": 0.4,
            "count": 0
           },
           {
            "bin_end": 0.6000000000000001,
            "bin_start": 0.5,
            "count": 0
           },
           {
            "bin_end": 0.7000000000000001,
            "bin_start": 0.6000000000000001,
            "count": 0
           },
           {
            "bin_end": 0.8,
            "bin_start": 0.7000000000000001,
            "count": 0
           },
           {
            "bin_end": 0.9,
            "bin_start": 0.8,
            "count": 0
           },
           {
            "bin_end": 1,
            "bin_start": 0.9,
            "count": 1
           }
          ],
          "max": "1",
          "min": "0",
          "nan_count": 0,
          "unique_count": 2
         }
        },
        {
         "dtype": "int64",
         "name": "WRITE_GSERVICES",
         "stats": {
          "histogram": [
           {
            "bin_end": -0.4,
            "bin_start": -0.5,
            "count": 0
           },
           {
            "bin_end": -0.3,
            "bin_start": -0.4,
            "count": 0
           },
           {
            "bin_end": -0.19999999999999996,
            "bin_start": -0.3,
            "count": 0
           },
           {
            "bin_end": -0.09999999999999998,
            "bin_start": -0.19999999999999996,
            "count": 0
           },
           {
            "bin_end": 0,
            "bin_start": -0.09999999999999998,
            "count": 0
           },
           {
            "bin_end": 0.10000000000000009,
            "bin_start": 0,
            "count": 5
           },
           {
            "bin_end": 0.20000000000000007,
            "bin_start": 0.10000000000000009,
            "count": 0
           },
           {
            "bin_end": 0.30000000000000004,
            "bin_start": 0.20000000000000007,
            "count": 0
           },
           {
            "bin_end": 0.4,
            "bin_start": 0.30000000000000004,
            "count": 0
           },
           {
            "bin_end": 0.5,
            "bin_start": 0.4,
            "count": 0
           }
          ],
          "max": "0",
          "min": "0",
          "nan_count": 0,
          "unique_count": 1
         }
        },
        {
         "dtype": "int64",
         "name": "KILL_BACKGROUND_PROCESSES",
         "stats": {
          "histogram": [
           {
            "bin_end": -0.4,
            "bin_start": -0.5,
            "count": 0
           },
           {
            "bin_end": -0.3,
            "bin_start": -0.4,
            "count": 0
           },
           {
            "bin_end": -0.19999999999999996,
            "bin_start": -0.3,
            "count": 0
           },
           {
            "bin_end": -0.09999999999999998,
            "bin_start": -0.19999999999999996,
            "count": 0
           },
           {
            "bin_end": 0,
            "bin_start": -0.09999999999999998,
            "count": 0
           },
           {
            "bin_end": 0.10000000000000009,
            "bin_start": 0,
            "count": 5
           },
           {
            "bin_end": 0.20000000000000007,
            "bin_start": 0.10000000000000009,
            "count": 0
           },
           {
            "bin_end": 0.30000000000000004,
            "bin_start": 0.20000000000000007,
            "count": 0
           },
           {
            "bin_end": 0.4,
            "bin_start": 0.30000000000000004,
            "count": 0
           },
           {
            "bin_end": 0.5,
            "bin_start": 0.4,
            "count": 0
           }
          ],
          "max": "0",
          "min": "0",
          "nan_count": 0,
          "unique_count": 1
         }
        },
        {
         "dtype": "int64",
         "name": "CLEAR_APP_USER_DATA",
         "stats": {
          "histogram": [
           {
            "bin_end": -0.4,
            "bin_start": -0.5,
            "count": 0
           },
           {
            "bin_end": -0.3,
            "bin_start": -0.4,
            "count": 0
           },
           {
            "bin_end": -0.19999999999999996,
            "bin_start": -0.3,
            "count": 0
           },
           {
            "bin_end": -0.09999999999999998,
            "bin_start": -0.19999999999999996,
            "count": 0
           },
           {
            "bin_end": 0,
            "bin_start": -0.09999999999999998,
            "count": 0
           },
           {
            "bin_end": 0.10000000000000009,
            "bin_start": 0,
            "count": 5
           },
           {
            "bin_end": 0.20000000000000007,
            "bin_start": 0.10000000000000009,
            "count": 0
           },
           {
            "bin_end": 0.30000000000000004,
            "bin_start": 0.20000000000000007,
            "count": 0
           },
           {
            "bin_end": 0.4,
            "bin_start": 0.30000000000000004,
            "count": 0
           },
           {
            "bin_end": 0.5,
            "bin_start": 0.4,
            "count": 0
           }
          ],
          "max": "0",
          "min": "0",
          "nan_count": 0,
          "unique_count": 1
         }
        },
        {
         "dtype": "int64",
         "name": "STATUS_BAR",
         "stats": {
          "histogram": [
           {
            "bin_end": -0.4,
            "bin_start": -0.5,
            "count": 0
           },
           {
            "bin_end": -0.3,
            "bin_start": -0.4,
            "count": 0
           },
           {
            "bin_end": -0.19999999999999996,
            "bin_start": -0.3,
            "count": 0
           },
           {
            "bin_end": -0.09999999999999998,
            "bin_start": -0.19999999999999996,
            "count": 0
           },
           {
            "bin_end": 0,
            "bin_start": -0.09999999999999998,
            "count": 0
           },
           {
            "bin_end": 0.10000000000000009,
            "bin_start": 0,
            "count": 5
           },
           {
            "bin_end": 0.20000000000000007,
            "bin_start": 0.10000000000000009,
            "count": 0
           },
           {
            "bin_end": 0.30000000000000004,
            "bin_start": 0.20000000000000007,
            "count": 0
           },
           {
            "bin_end": 0.4,
            "bin_start": 0.30000000000000004,
            "count": 0
           },
           {
            "bin_end": 0.5,
            "bin_start": 0.4,
            "count": 0
           }
          ],
          "max": "0",
          "min": "0",
          "nan_count": 0,
          "unique_count": 1
         }
        },
        {
         "dtype": "int64",
         "name": "PERSISTENT_ACTIVITY",
         "stats": {
          "histogram": [
           {
            "bin_end": -0.4,
            "bin_start": -0.5,
            "count": 0
           },
           {
            "bin_end": -0.3,
            "bin_start": -0.4,
            "count": 0
           },
           {
            "bin_end": -0.19999999999999996,
            "bin_start": -0.3,
            "count": 0
           },
           {
            "bin_end": -0.09999999999999998,
            "bin_start": -0.19999999999999996,
            "count": 0
           },
           {
            "bin_end": 0,
            "bin_start": -0.09999999999999998,
            "count": 0
           },
           {
            "bin_end": 0.10000000000000009,
            "bin_start": 0,
            "count": 5
           },
           {
            "bin_end": 0.20000000000000007,
            "bin_start": 0.10000000000000009,
            "count": 0
           },
           {
            "bin_end": 0.30000000000000004,
            "bin_start": 0.20000000000000007,
            "count": 0
           },
           {
            "bin_end": 0.4,
            "bin_start": 0.30000000000000004,
            "count": 0
           },
           {
            "bin_end": 0.5,
            "bin_start": 0.4,
            "count": 0
           }
          ],
          "max": "0",
          "min": "0",
          "nan_count": 0,
          "unique_count": 1
         }
        },
        {
         "dtype": "int64",
         "name": "CHANGE_NETWORK_STATE",
         "stats": {
          "histogram": [
           {
            "bin_end": 0.1,
            "bin_start": 0,
            "count": 3
           },
           {
            "bin_end": 0.2,
            "bin_start": 0.1,
            "count": 0
           },
           {
            "bin_end": 0.30000000000000004,
            "bin_start": 0.2,
            "count": 0
           },
           {
            "bin_end": 0.4,
            "bin_start": 0.30000000000000004,
            "count": 0
           },
           {
            "bin_end": 0.5,
            "bin_start": 0.4,
            "count": 0
           },
           {
            "bin_end": 0.6000000000000001,
            "bin_start": 0.5,
            "count": 0
           },
           {
            "bin_end": 0.7000000000000001,
            "bin_start": 0.6000000000000001,
            "count": 0
           },
           {
            "bin_end": 0.8,
            "bin_start": 0.7000000000000001,
            "count": 0
           },
           {
            "bin_end": 0.9,
            "bin_start": 0.8,
            "count": 0
           },
           {
            "bin_end": 1,
            "bin_start": 0.9,
            "count": 2
           }
          ],
          "max": "1",
          "min": "0",
          "nan_count": 0,
          "unique_count": 2
         }
        },
        {
         "dtype": "int64",
         "name": "RECEIVE_MMS",
         "stats": {
          "histogram": [
           {
            "bin_end": -0.4,
            "bin_start": -0.5,
            "count": 0
           },
           {
            "bin_end": -0.3,
            "bin_start": -0.4,
            "count": 0
           },
           {
            "bin_end": -0.19999999999999996,
            "bin_start": -0.3,
            "count": 0
           },
           {
            "bin_end": -0.09999999999999998,
            "bin_start": -0.19999999999999996,
            "count": 0
           },
           {
            "bin_end": 0,
            "bin_start": -0.09999999999999998,
            "count": 0
           },
           {
            "bin_end": 0.10000000000000009,
            "bin_start": 0,
            "count": 5
           },
           {
            "bin_end": 0.20000000000000007,
            "bin_start": 0.10000000000000009,
            "count": 0
           },
           {
            "bin_end": 0.30000000000000004,
            "bin_start": 0.20000000000000007,
            "count": 0
           },
           {
            "bin_end": 0.4,
            "bin_start": 0.30000000000000004,
            "count": 0
           },
           {
            "bin_end": 0.5,
            "bin_start": 0.4,
            "count": 0
           }
          ],
          "max": "0",
          "min": "0",
          "nan_count": 0,
          "unique_count": 1
         }
        },
        {
         "dtype": "int64",
         "name": "SET_TIME_ZONE",
         "stats": {
          "histogram": [
           {
            "bin_end": -0.4,
            "bin_start": -0.5,
            "count": 0
           },
           {
            "bin_end": -0.3,
            "bin_start": -0.4,
            "count": 0
           },
           {
            "bin_end": -0.19999999999999996,
            "bin_start": -0.3,
            "count": 0
           },
           {
            "bin_end": -0.09999999999999998,
            "bin_start": -0.19999999999999996,
            "count": 0
           },
           {
            "bin_end": 0,
            "bin_start": -0.09999999999999998,
            "count": 0
           },
           {
            "bin_end": 0.10000000000000009,
            "bin_start": 0,
            "count": 5
           },
           {
            "bin_end": 0.20000000000000007,
            "bin_start": 0.10000000000000009,
            "count": 0
           },
           {
            "bin_end": 0.30000000000000004,
            "bin_start": 0.20000000000000007,
            "count": 0
           },
           {
            "bin_end": 0.4,
            "bin_start": 0.30000000000000004,
            "count": 0
           },
           {
            "bin_end": 0.5,
            "bin_start": 0.4,
            "count": 0
           }
          ],
          "max": "0",
          "min": "0",
          "nan_count": 0,
          "unique_count": 1
         }
        },
        {
         "dtype": "int64",
         "name": "CONTROL_LOCATION_UPDATES",
         "stats": {
          "histogram": [
           {
            "bin_end": -0.4,
            "bin_start": -0.5,
            "count": 0
           },
           {
            "bin_end": -0.3,
            "bin_start": -0.4,
            "count": 0
           },
           {
            "bin_end": -0.19999999999999996,
            "bin_start": -0.3,
            "count": 0
           },
           {
            "bin_end": -0.09999999999999998,
            "bin_start": -0.19999999999999996,
            "count": 0
           },
           {
            "bin_end": 0,
            "bin_start": -0.09999999999999998,
            "count": 0
           },
           {
            "bin_end": 0.10000000000000009,
            "bin_start": 0,
            "count": 5
           },
           {
            "bin_end": 0.20000000000000007,
            "bin_start": 0.10000000000000009,
            "count": 0
           },
           {
            "bin_end": 0.30000000000000004,
            "bin_start": 0.20000000000000007,
            "count": 0
           },
           {
            "bin_end": 0.4,
            "bin_start": 0.30000000000000004,
            "count": 0
           },
           {
            "bin_end": 0.5,
            "bin_start": 0.4,
            "count": 0
           }
          ],
          "max": "0",
          "min": "0",
          "nan_count": 0,
          "unique_count": 1
         }
        },
        {
         "dtype": "int64",
         "name": "BROADCAST_WAP_PUSH",
         "stats": {
          "histogram": [
           {
            "bin_end": -0.4,
            "bin_start": -0.5,
            "count": 0
           },
           {
            "bin_end": -0.3,
            "bin_start": -0.4,
            "count": 0
           },
           {
            "bin_end": -0.19999999999999996,
            "bin_start": -0.3,
            "count": 0
           },
           {
            "bin_end": -0.09999999999999998,
            "bin_start": -0.19999999999999996,
            "count": 0
           },
           {
            "bin_end": 0,
            "bin_start": -0.09999999999999998,
            "count": 0
           },
           {
            "bin_end": 0.10000000000000009,
            "bin_start": 0,
            "count": 5
           },
           {
            "bin_end": 0.20000000000000007,
            "bin_start": 0.10000000000000009,
            "count": 0
           },
           {
            "bin_end": 0.30000000000000004,
            "bin_start": 0.20000000000000007,
            "count": 0
           },
           {
            "bin_end": 0.4,
            "bin_start": 0.30000000000000004,
            "count": 0
           },
           {
            "bin_end": 0.5,
            "bin_start": 0.4,
            "count": 0
           }
          ],
          "max": "0",
          "min": "0",
          "nan_count": 0,
          "unique_count": 1
         }
        },
        {
         "dtype": "int64",
         "name": "BIND_ACCESSIBILITY_SERVICE",
         "stats": {
          "histogram": [
           {
            "bin_end": -0.4,
            "bin_start": -0.5,
            "count": 0
           },
           {
            "bin_end": -0.3,
            "bin_start": -0.4,
            "count": 0
           },
           {
            "bin_end": -0.19999999999999996,
            "bin_start": -0.3,
            "count": 0
           },
           {
            "bin_end": -0.09999999999999998,
            "bin_start": -0.19999999999999996,
            "count": 0
           },
           {
            "bin_end": 0,
            "bin_start": -0.09999999999999998,
            "count": 0
           },
           {
            "bin_end": 0.10000000000000009,
            "bin_start": 0,
            "count": 5
           },
           {
            "bin_end": 0.20000000000000007,
            "bin_start": 0.10000000000000009,
            "count": 0
           },
           {
            "bin_end": 0.30000000000000004,
            "bin_start": 0.20000000000000007,
            "count": 0
           },
           {
            "bin_end": 0.4,
            "bin_start": 0.30000000000000004,
            "count": 0
           },
           {
            "bin_end": 0.5,
            "bin_start": 0.4,
            "count": 0
           }
          ],
          "max": "0",
          "min": "0",
          "nan_count": 0,
          "unique_count": 1
         }
        },
        {
         "dtype": "int64",
         "name": "ADD_VOICEMAIL",
         "stats": {
          "histogram": [
           {
            "bin_end": -0.4,
            "bin_start": -0.5,
            "count": 0
           },
           {
            "bin_end": -0.3,
            "bin_start": -0.4,
            "count": 0
           },
           {
            "bin_end": -0.19999999999999996,
            "bin_start": -0.3,
            "count": 0
           },
           {
            "bin_end": -0.09999999999999998,
            "bin_start": -0.19999999999999996,
            "count": 0
           },
           {
            "bin_end": 0,
            "bin_start": -0.09999999999999998,
            "count": 0
           },
           {
            "bin_end": 0.10000000000000009,
            "bin_start": 0,
            "count": 5
           },
           {
            "bin_end": 0.20000000000000007,
            "bin_start": 0.10000000000000009,
            "count": 0
           },
           {
            "bin_end": 0.30000000000000004,
            "bin_start": 0.20000000000000007,
            "count": 0
           },
           {
            "bin_end": 0.4,
            "bin_start": 0.30000000000000004,
            "count": 0
           },
           {
            "bin_end": 0.5,
            "bin_start": 0.4,
            "count": 0
           }
          ],
          "max": "0",
          "min": "0",
          "nan_count": 0,
          "unique_count": 1
         }
        },
        {
         "dtype": "int64",
         "name": "CALL_PHONE",
         "stats": {
          "histogram": [
           {
            "bin_end": 0.1,
            "bin_start": 0,
            "count": 2
           },
           {
            "bin_end": 0.2,
            "bin_start": 0.1,
            "count": 0
           },
           {
            "bin_end": 0.30000000000000004,
            "bin_start": 0.2,
            "count": 0
           },
           {
            "bin_end": 0.4,
            "bin_start": 0.30000000000000004,
            "count": 0
           },
           {
            "bin_end": 0.5,
            "bin_start": 0.4,
            "count": 0
           },
           {
            "bin_end": 0.6000000000000001,
            "bin_start": 0.5,
            "count": 0
           },
           {
            "bin_end": 0.7000000000000001,
            "bin_start": 0.6000000000000001,
            "count": 0
           },
           {
            "bin_end": 0.8,
            "bin_start": 0.7000000000000001,
            "count": 0
           },
           {
            "bin_end": 0.9,
            "bin_start": 0.8,
            "count": 0
           },
           {
            "bin_end": 1,
            "bin_start": 0.9,
            "count": 3
           }
          ],
          "max": "1",
          "min": "0",
          "nan_count": 0,
          "unique_count": 2
         }
        },
        {
         "dtype": "int64",
         "name": "BIND_APPWIDGET",
         "stats": {
          "histogram": [
           {
            "bin_end": -0.4,
            "bin_start": -0.5,
            "count": 0
           },
           {
            "bin_end": -0.3,
            "bin_start": -0.4,
            "count": 0
           },
           {
            "bin_end": -0.19999999999999996,
            "bin_start": -0.3,
            "count": 0
           },
           {
            "bin_end": -0.09999999999999998,
            "bin_start": -0.19999999999999996,
            "count": 0
           },
           {
            "bin_end": 0,
            "bin_start": -0.09999999999999998,
            "count": 0
           },
           {
            "bin_end": 0.10000000000000009,
            "bin_start": 0,
            "count": 5
           },
           {
            "bin_end": 0.20000000000000007,
            "bin_start": 0.10000000000000009,
            "count": 0
           },
           {
            "bin_end": 0.30000000000000004,
            "bin_start": 0.20000000000000007,
            "count": 0
           },
           {
            "bin_end": 0.4,
            "bin_start": 0.30000000000000004,
            "count": 0
           },
           {
            "bin_end": 0.5,
            "bin_start": 0.4,
            "count": 0
           }
          ],
          "max": "0",
          "min": "0",
          "nan_count": 0,
          "unique_count": 1
         }
        },
        {
         "dtype": "int64",
         "name": "FLASHLIGHT",
         "stats": {
          "histogram": [
           {
            "bin_end": -0.4,
            "bin_start": -0.5,
            "count": 0
           },
           {
            "bin_end": -0.3,
            "bin_start": -0.4,
            "count": 0
           },
           {
            "bin_end": -0.19999999999999996,
            "bin_start": -0.3,
            "count": 0
           },
           {
            "bin_end": -0.09999999999999998,
            "bin_start": -0.19999999999999996,
            "count": 0
           },
           {
            "bin_end": 0,
            "bin_start": -0.09999999999999998,
            "count": 0
           },
           {
            "bin_end": 0.10000000000000009,
            "bin_start": 0,
            "count": 5
           },
           {
            "bin_end": 0.20000000000000007,
            "bin_start": 0.10000000000000009,
            "count": 0
           },
           {
            "bin_end": 0.30000000000000004,
            "bin_start": 0.20000000000000007,
            "count": 0
           },
           {
            "bin_end": 0.4,
            "bin_start": 0.30000000000000004,
            "count": 0
           },
           {
            "bin_end": 0.5,
            "bin_start": 0.4,
            "count": 0
           }
          ],
          "max": "0",
          "min": "0",
          "nan_count": 0,
          "unique_count": 1
         }
        },
        {
         "dtype": "int64",
         "name": "READ_LOGS",
         "stats": {
          "histogram": [
           {
            "bin_end": 0.1,
            "bin_start": 0,
            "count": 3
           },
           {
            "bin_end": 0.2,
            "bin_start": 0.1,
            "count": 0
           },
           {
            "bin_end": 0.30000000000000004,
            "bin_start": 0.2,
            "count": 0
           },
           {
            "bin_end": 0.4,
            "bin_start": 0.30000000000000004,
            "count": 0
           },
           {
            "bin_end": 0.5,
            "bin_start": 0.4,
            "count": 0
           },
           {
            "bin_end": 0.6000000000000001,
            "bin_start": 0.5,
            "count": 0
           },
           {
            "bin_end": 0.7000000000000001,
            "bin_start": 0.6000000000000001,
            "count": 0
           },
           {
            "bin_end": 0.8,
            "bin_start": 0.7000000000000001,
            "count": 0
           },
           {
            "bin_end": 0.9,
            "bin_start": 0.8,
            "count": 0
           },
           {
            "bin_end": 1,
            "bin_start": 0.9,
            "count": 2
           }
          ],
          "max": "1",
          "min": "0",
          "nan_count": 0,
          "unique_count": 2
         }
        },
        {
         "dtype": "int64",
         "name": "SET_PROCESS_LIMIT",
         "stats": {
          "histogram": [
           {
            "bin_end": -0.4,
            "bin_start": -0.5,
            "count": 0
           },
           {
            "bin_end": -0.3,
            "bin_start": -0.4,
            "count": 0
           },
           {
            "bin_end": -0.19999999999999996,
            "bin_start": -0.3,
            "count": 0
           },
           {
            "bin_end": -0.09999999999999998,
            "bin_start": -0.19999999999999996,
            "count": 0
           },
           {
            "bin_end": 0,
            "bin_start": -0.09999999999999998,
            "count": 0
           },
           {
            "bin_end": 0.10000000000000009,
            "bin_start": 0,
            "count": 5
           },
           {
            "bin_end": 0.20000000000000007,
            "bin_start": 0.10000000000000009,
            "count": 0
           },
           {
            "bin_end": 0.30000000000000004,
            "bin_start": 0.20000000000000007,
            "count": 0
           },
           {
            "bin_end": 0.4,
            "bin_start": 0.30000000000000004,
            "count": 0
           },
           {
            "bin_end": 0.5,
            "bin_start": 0.4,
            "count": 0
           }
          ],
          "max": "0",
          "min": "0",
          "nan_count": 0,
          "unique_count": 1
         }
        },
        {
         "dtype": "int64",
         "name": "MOUNT_UNMOUNT_FILESYSTEMS",
         "stats": {
          "histogram": [
           {
            "bin_end": -0.4,
            "bin_start": -0.5,
            "count": 0
           },
           {
            "bin_end": -0.3,
            "bin_start": -0.4,
            "count": 0
           },
           {
            "bin_end": -0.19999999999999996,
            "bin_start": -0.3,
            "count": 0
           },
           {
            "bin_end": -0.09999999999999998,
            "bin_start": -0.19999999999999996,
            "count": 0
           },
           {
            "bin_end": 0,
            "bin_start": -0.09999999999999998,
            "count": 0
           },
           {
            "bin_end": 0.10000000000000009,
            "bin_start": 0,
            "count": 5
           },
           {
            "bin_end": 0.20000000000000007,
            "bin_start": 0.10000000000000009,
            "count": 0
           },
           {
            "bin_end": 0.30000000000000004,
            "bin_start": 0.20000000000000007,
            "count": 0
           },
           {
            "bin_end": 0.4,
            "bin_start": 0.30000000000000004,
            "count": 0
           },
           {
            "bin_end": 0.5,
            "bin_start": 0.4,
            "count": 0
           }
          ],
          "max": "0",
          "min": "0",
          "nan_count": 0,
          "unique_count": 1
         }
        },
        {
         "dtype": "int64",
         "name": "BIND_TEXT_SERVICE",
         "stats": {
          "histogram": [
           {
            "bin_end": -0.4,
            "bin_start": -0.5,
            "count": 0
           },
           {
            "bin_end": -0.3,
            "bin_start": -0.4,
            "count": 0
           },
           {
            "bin_end": -0.19999999999999996,
            "bin_start": -0.3,
            "count": 0
           },
           {
            "bin_end": -0.09999999999999998,
            "bin_start": -0.19999999999999996,
            "count": 0
           },
           {
            "bin_end": 0,
            "bin_start": -0.09999999999999998,
            "count": 0
           },
           {
            "bin_end": 0.10000000000000009,
            "bin_start": 0,
            "count": 5
           },
           {
            "bin_end": 0.20000000000000007,
            "bin_start": 0.10000000000000009,
            "count": 0
           },
           {
            "bin_end": 0.30000000000000004,
            "bin_start": 0.20000000000000007,
            "count": 0
           },
           {
            "bin_end": 0.4,
            "bin_start": 0.30000000000000004,
            "count": 0
           },
           {
            "bin_end": 0.5,
            "bin_start": 0.4,
            "count": 0
           }
          ],
          "max": "0",
          "min": "0",
          "nan_count": 0,
          "unique_count": 1
         }
        },
        {
         "dtype": "int64",
         "name": "INSTALL_LOCATION_PROVIDER",
         "stats": {
          "histogram": [
           {
            "bin_end": -0.4,
            "bin_start": -0.5,
            "count": 0
           },
           {
            "bin_end": -0.3,
            "bin_start": -0.4,
            "count": 0
           },
           {
            "bin_end": -0.19999999999999996,
            "bin_start": -0.3,
            "count": 0
           },
           {
            "bin_end": -0.09999999999999998,
            "bin_start": -0.19999999999999996,
            "count": 0
           },
           {
            "bin_end": 0,
            "bin_start": -0.09999999999999998,
            "count": 0
           },
           {
            "bin_end": 0.10000000000000009,
            "bin_start": 0,
            "count": 5
           },
           {
            "bin_end": 0.20000000000000007,
            "bin_start": 0.10000000000000009,
            "count": 0
           },
           {
            "bin_end": 0.30000000000000004,
            "bin_start": 0.20000000000000007,
            "count": 0
           },
           {
            "bin_end": 0.4,
            "bin_start": 0.30000000000000004,
            "count": 0
           },
           {
            "bin_end": 0.5,
            "bin_start": 0.4,
            "count": 0
           }
          ],
          "max": "0",
          "min": "0",
          "nan_count": 0,
          "unique_count": 1
         }
        },
        {
         "dtype": "int64",
         "name": "SYSTEM_ALERT_WINDOW",
         "stats": {
          "histogram": [
           {
            "bin_end": 0.1,
            "bin_start": 0,
            "count": 4
           },
           {
            "bin_end": 0.2,
            "bin_start": 0.1,
            "count": 0
           },
           {
            "bin_end": 0.30000000000000004,
            "bin_start": 0.2,
            "count": 0
           },
           {
            "bin_end": 0.4,
            "bin_start": 0.30000000000000004,
            "count": 0
           },
           {
            "bin_end": 0.5,
            "bin_start": 0.4,
            "count": 0
           },
           {
            "bin_end": 0.6000000000000001,
            "bin_start": 0.5,
            "count": 0
           },
           {
            "bin_end": 0.7000000000000001,
            "bin_start": 0.6000000000000001,
            "count": 0
           },
           {
            "bin_end": 0.8,
            "bin_start": 0.7000000000000001,
            "count": 0
           },
           {
            "bin_end": 0.9,
            "bin_start": 0.8,
            "count": 0
           },
           {
            "bin_end": 1,
            "bin_start": 0.9,
            "count": 1
           }
          ],
          "max": "1",
          "min": "0",
          "nan_count": 0,
          "unique_count": 2
         }
        },
        {
         "dtype": "int64",
         "name": "MOUNT_FORMAT_FILESYSTEMS",
         "stats": {
          "histogram": [
           {
            "bin_end": -0.4,
            "bin_start": -0.5,
            "count": 0
           },
           {
            "bin_end": -0.3,
            "bin_start": -0.4,
            "count": 0
           },
           {
            "bin_end": -0.19999999999999996,
            "bin_start": -0.3,
            "count": 0
           },
           {
            "bin_end": -0.09999999999999998,
            "bin_start": -0.19999999999999996,
            "count": 0
           },
           {
            "bin_end": 0,
            "bin_start": -0.09999999999999998,
            "count": 0
           },
           {
            "bin_end": 0.10000000000000009,
            "bin_start": 0,
            "count": 5
           },
           {
            "bin_end": 0.20000000000000007,
            "bin_start": 0.10000000000000009,
            "count": 0
           },
           {
            "bin_end": 0.30000000000000004,
            "bin_start": 0.20000000000000007,
            "count": 0
           },
           {
            "bin_end": 0.4,
            "bin_start": 0.30000000000000004,
            "count": 0
           },
           {
            "bin_end": 0.5,
            "bin_start": 0.4,
            "count": 0
           }
          ],
          "max": "0",
          "min": "0",
          "nan_count": 0,
          "unique_count": 1
         }
        },
        {
         "dtype": "int64",
         "name": "CHANGE_CONFIGURATION",
         "stats": {
          "histogram": [
           {
            "bin_end": -0.4,
            "bin_start": -0.5,
            "count": 0
           },
           {
            "bin_end": -0.3,
            "bin_start": -0.4,
            "count": 0
           },
           {
            "bin_end": -0.19999999999999996,
            "bin_start": -0.3,
            "count": 0
           },
           {
            "bin_end": -0.09999999999999998,
            "bin_start": -0.19999999999999996,
            "count": 0
           },
           {
            "bin_end": 0,
            "bin_start": -0.09999999999999998,
            "count": 0
           },
           {
            "bin_end": 0.10000000000000009,
            "bin_start": 0,
            "count": 5
           },
           {
            "bin_end": 0.20000000000000007,
            "bin_start": 0.10000000000000009,
            "count": 0
           },
           {
            "bin_end": 0.30000000000000004,
            "bin_start": 0.20000000000000007,
            "count": 0
           },
           {
            "bin_end": 0.4,
            "bin_start": 0.30000000000000004,
            "count": 0
           },
           {
            "bin_end": 0.5,
            "bin_start": 0.4,
            "count": 0
           }
          ],
          "max": "0",
          "min": "0",
          "nan_count": 0,
          "unique_count": 1
         }
        },
        {
         "dtype": "int64",
         "name": "CHANGE_WIFI_STATE",
         "stats": {
          "histogram": [
           {
            "bin_end": 0.1,
            "bin_start": 0,
            "count": 2
           },
           {
            "bin_end": 0.2,
            "bin_start": 0.1,
            "count": 0
           },
           {
            "bin_end": 0.30000000000000004,
            "bin_start": 0.2,
            "count": 0
           },
           {
            "bin_end": 0.4,
            "bin_start": 0.30000000000000004,
            "count": 0
           },
           {
            "bin_end": 0.5,
            "bin_start": 0.4,
            "count": 0
           },
           {
            "bin_end": 0.6000000000000001,
            "bin_start": 0.5,
            "count": 0
           },
           {
            "bin_end": 0.7000000000000001,
            "bin_start": 0.6000000000000001,
            "count": 0
           },
           {
            "bin_end": 0.8,
            "bin_start": 0.7000000000000001,
            "count": 0
           },
           {
            "bin_end": 0.9,
            "bin_start": 0.8,
            "count": 0
           },
           {
            "bin_end": 1,
            "bin_start": 0.9,
            "count": 3
           }
          ],
          "max": "1",
          "min": "0",
          "nan_count": 0,
          "unique_count": 2
         }
        },
        {
         "dtype": "int64",
         "name": "READ_FRAME_BUFFER",
         "stats": {
          "histogram": [
           {
            "bin_end": 0.1,
            "bin_start": 0,
            "count": 4
           },
           {
            "bin_end": 0.2,
            "bin_start": 0.1,
            "count": 0
           },
           {
            "bin_end": 0.30000000000000004,
            "bin_start": 0.2,
            "count": 0
           },
           {
            "bin_end": 0.4,
            "bin_start": 0.30000000000000004,
            "count": 0
           },
           {
            "bin_end": 0.5,
            "bin_start": 0.4,
            "count": 0
           },
           {
            "bin_end": 0.6000000000000001,
            "bin_start": 0.5,
            "count": 0
           },
           {
            "bin_end": 0.7000000000000001,
            "bin_start": 0.6000000000000001,
            "count": 0
           },
           {
            "bin_end": 0.8,
            "bin_start": 0.7000000000000001,
            "count": 0
           },
           {
            "bin_end": 0.9,
            "bin_start": 0.8,
            "count": 0
           },
           {
            "bin_end": 1,
            "bin_start": 0.9,
            "count": 1
           }
          ],
          "max": "1",
          "min": "0",
          "nan_count": 0,
          "unique_count": 2
         }
        },
        {
         "dtype": "int64",
         "name": "ACCESS_SURFACE_FLINGER",
         "stats": {
          "histogram": [
           {
            "bin_end": -0.4,
            "bin_start": -0.5,
            "count": 0
           },
           {
            "bin_end": -0.3,
            "bin_start": -0.4,
            "count": 0
           },
           {
            "bin_end": -0.19999999999999996,
            "bin_start": -0.3,
            "count": 0
           },
           {
            "bin_end": -0.09999999999999998,
            "bin_start": -0.19999999999999996,
            "count": 0
           },
           {
            "bin_end": 0,
            "bin_start": -0.09999999999999998,
            "count": 0
           },
           {
            "bin_end": 0.10000000000000009,
            "bin_start": 0,
            "count": 5
           },
           {
            "bin_end": 0.20000000000000007,
            "bin_start": 0.10000000000000009,
            "count": 0
           },
           {
            "bin_end": 0.30000000000000004,
            "bin_start": 0.20000000000000007,
            "count": 0
           },
           {
            "bin_end": 0.4,
            "bin_start": 0.30000000000000004,
            "count": 0
           },
           {
            "bin_end": 0.5,
            "bin_start": 0.4,
            "count": 0
           }
          ],
          "max": "0",
          "min": "0",
          "nan_count": 0,
          "unique_count": 1
         }
        },
        {
         "dtype": "int64",
         "name": "BROADCAST_SMS",
         "stats": {
          "histogram": [
           {
            "bin_end": -0.4,
            "bin_start": -0.5,
            "count": 0
           },
           {
            "bin_end": -0.3,
            "bin_start": -0.4,
            "count": 0
           },
           {
            "bin_end": -0.19999999999999996,
            "bin_start": -0.3,
            "count": 0
           },
           {
            "bin_end": -0.09999999999999998,
            "bin_start": -0.19999999999999996,
            "count": 0
           },
           {
            "bin_end": 0,
            "bin_start": -0.09999999999999998,
            "count": 0
           },
           {
            "bin_end": 0.10000000000000009,
            "bin_start": 0,
            "count": 5
           },
           {
            "bin_end": 0.20000000000000007,
            "bin_start": 0.10000000000000009,
            "count": 0
           },
           {
            "bin_end": 0.30000000000000004,
            "bin_start": 0.20000000000000007,
            "count": 0
           },
           {
            "bin_end": 0.4,
            "bin_start": 0.30000000000000004,
            "count": 0
           },
           {
            "bin_end": 0.5,
            "bin_start": 0.4,
            "count": 0
           }
          ],
          "max": "0",
          "min": "0",
          "nan_count": 0,
          "unique_count": 1
         }
        },
        {
         "dtype": "int64",
         "name": "EXPAND_STATUS_BAR",
         "stats": {
          "histogram": [
           {
            "bin_end": -0.4,
            "bin_start": -0.5,
            "count": 0
           },
           {
            "bin_end": -0.3,
            "bin_start": -0.4,
            "count": 0
           },
           {
            "bin_end": -0.19999999999999996,
            "bin_start": -0.3,
            "count": 0
           },
           {
            "bin_end": -0.09999999999999998,
            "bin_start": -0.19999999999999996,
            "count": 0
           },
           {
            "bin_end": 0,
            "bin_start": -0.09999999999999998,
            "count": 0
           },
           {
            "bin_end": 0.10000000000000009,
            "bin_start": 0,
            "count": 5
           },
           {
            "bin_end": 0.20000000000000007,
            "bin_start": 0.10000000000000009,
            "count": 0
           },
           {
            "bin_end": 0.30000000000000004,
            "bin_start": 0.20000000000000007,
            "count": 0
           },
           {
            "bin_end": 0.4,
            "bin_start": 0.30000000000000004,
            "count": 0
           },
           {
            "bin_end": 0.5,
            "bin_start": 0.4,
            "count": 0
           }
          ],
          "max": "0",
          "min": "0",
          "nan_count": 0,
          "unique_count": 1
         }
        },
        {
         "dtype": "int64",
         "name": "INTERNAL_SYSTEM_WINDOW",
         "stats": {
          "histogram": [
           {
            "bin_end": -0.4,
            "bin_start": -0.5,
            "count": 0
           },
           {
            "bin_end": -0.3,
            "bin_start": -0.4,
            "count": 0
           },
           {
            "bin_end": -0.19999999999999996,
            "bin_start": -0.3,
            "count": 0
           },
           {
            "bin_end": -0.09999999999999998,
            "bin_start": -0.19999999999999996,
            "count": 0
           },
           {
            "bin_end": 0,
            "bin_start": -0.09999999999999998,
            "count": 0
           },
           {
            "bin_end": 0.10000000000000009,
            "bin_start": 0,
            "count": 5
           },
           {
            "bin_end": 0.20000000000000007,
            "bin_start": 0.10000000000000009,
            "count": 0
           },
           {
            "bin_end": 0.30000000000000004,
            "bin_start": 0.20000000000000007,
            "count": 0
           },
           {
            "bin_end": 0.4,
            "bin_start": 0.30000000000000004,
            "count": 0
           },
           {
            "bin_end": 0.5,
            "bin_start": 0.4,
            "count": 0
           }
          ],
          "max": "0",
          "min": "0",
          "nan_count": 0,
          "unique_count": 1
         }
        },
        {
         "dtype": "int64",
         "name": "SET_ACTIVITY_WATCHER",
         "stats": {
          "histogram": [
           {
            "bin_end": -0.4,
            "bin_start": -0.5,
            "count": 0
           },
           {
            "bin_end": -0.3,
            "bin_start": -0.4,
            "count": 0
           },
           {
            "bin_end": -0.19999999999999996,
            "bin_start": -0.3,
            "count": 0
           },
           {
            "bin_end": -0.09999999999999998,
            "bin_start": -0.19999999999999996,
            "count": 0
           },
           {
            "bin_end": 0,
            "bin_start": -0.09999999999999998,
            "count": 0
           },
           {
            "bin_end": 0.10000000000000009,
            "bin_start": 0,
            "count": 5
           },
           {
            "bin_end": 0.20000000000000007,
            "bin_start": 0.10000000000000009,
            "count": 0
           },
           {
            "bin_end": 0.30000000000000004,
            "bin_start": 0.20000000000000007,
            "count": 0
           },
           {
            "bin_end": 0.4,
            "bin_start": 0.30000000000000004,
            "count": 0
           },
           {
            "bin_end": 0.5,
            "bin_start": 0.4,
            "count": 0
           }
          ],
          "max": "0",
          "min": "0",
          "nan_count": 0,
          "unique_count": 1
         }
        },
        {
         "dtype": "int64",
         "name": "WRITE_CONTACTS",
         "stats": {
          "histogram": [
           {
            "bin_end": 0.1,
            "bin_start": 0,
            "count": 3
           },
           {
            "bin_end": 0.2,
            "bin_start": 0.1,
            "count": 0
           },
           {
            "bin_end": 0.30000000000000004,
            "bin_start": 0.2,
            "count": 0
           },
           {
            "bin_end": 0.4,
            "bin_start": 0.30000000000000004,
            "count": 0
           },
           {
            "bin_end": 0.5,
            "bin_start": 0.4,
            "count": 0
           },
           {
            "bin_end": 0.6000000000000001,
            "bin_start": 0.5,
            "count": 0
           },
           {
            "bin_end": 0.7000000000000001,
            "bin_start": 0.6000000000000001,
            "count": 0
           },
           {
            "bin_end": 0.8,
            "bin_start": 0.7000000000000001,
            "count": 0
           },
           {
            "bin_end": 0.9,
            "bin_start": 0.8,
            "count": 0
           },
           {
            "bin_end": 1,
            "bin_start": 0.9,
            "count": 2
           }
          ],
          "max": "1",
          "min": "0",
          "nan_count": 0,
          "unique_count": 2
         }
        },
        {
         "dtype": "int64",
         "name": "BIND_VPN_SERVICE",
         "stats": {
          "histogram": [
           {
            "bin_end": -0.4,
            "bin_start": -0.5,
            "count": 0
           },
           {
            "bin_end": -0.3,
            "bin_start": -0.4,
            "count": 0
           },
           {
            "bin_end": -0.19999999999999996,
            "bin_start": -0.3,
            "count": 0
           },
           {
            "bin_end": -0.09999999999999998,
            "bin_start": -0.19999999999999996,
            "count": 0
           },
           {
            "bin_end": 0,
            "bin_start": -0.09999999999999998,
            "count": 0
           },
           {
            "bin_end": 0.10000000000000009,
            "bin_start": 0,
            "count": 5
           },
           {
            "bin_end": 0.20000000000000007,
            "bin_start": 0.10000000000000009,
            "count": 0
           },
           {
            "bin_end": 0.30000000000000004,
            "bin_start": 0.20000000000000007,
            "count": 0
           },
           {
            "bin_end": 0.4,
            "bin_start": 0.30000000000000004,
            "count": 0
           },
           {
            "bin_end": 0.5,
            "bin_start": 0.4,
            "count": 0
           }
          ],
          "max": "0",
          "min": "0",
          "nan_count": 0,
          "unique_count": 1
         }
        },
        {
         "dtype": "int64",
         "name": "DISABLE_KEYGUARD",
         "stats": {
          "histogram": [
           {
            "bin_end": 0.1,
            "bin_start": 0,
            "count": 3
           },
           {
            "bin_end": 0.2,
            "bin_start": 0.1,
            "count": 0
           },
           {
            "bin_end": 0.30000000000000004,
            "bin_start": 0.2,
            "count": 0
           },
           {
            "bin_end": 0.4,
            "bin_start": 0.30000000000000004,
            "count": 0
           },
           {
            "bin_end": 0.5,
            "bin_start": 0.4,
            "count": 0
           },
           {
            "bin_end": 0.6000000000000001,
            "bin_start": 0.5,
            "count": 0
           },
           {
            "bin_end": 0.7000000000000001,
            "bin_start": 0.6000000000000001,
            "count": 0
           },
           {
            "bin_end": 0.8,
            "bin_start": 0.7000000000000001,
            "count": 0
           },
           {
            "bin_end": 0.9,
            "bin_start": 0.8,
            "count": 0
           },
           {
            "bin_end": 1,
            "bin_start": 0.9,
            "count": 2
           }
          ],
          "max": "1",
          "min": "0",
          "nan_count": 0,
          "unique_count": 2
         }
        },
        {
         "dtype": "int64",
         "name": "ACCESS_MOCK_LOCATION",
         "stats": {
          "histogram": [
           {
            "bin_end": -0.4,
            "bin_start": -0.5,
            "count": 0
           },
           {
            "bin_end": -0.3,
            "bin_start": -0.4,
            "count": 0
           },
           {
            "bin_end": -0.19999999999999996,
            "bin_start": -0.3,
            "count": 0
           },
           {
            "bin_end": -0.09999999999999998,
            "bin_start": -0.19999999999999996,
            "count": 0
           },
           {
            "bin_end": 0,
            "bin_start": -0.09999999999999998,
            "count": 0
           },
           {
            "bin_end": 0.10000000000000009,
            "bin_start": 0,
            "count": 5
           },
           {
            "bin_end": 0.20000000000000007,
            "bin_start": 0.10000000000000009,
            "count": 0
           },
           {
            "bin_end": 0.30000000000000004,
            "bin_start": 0.20000000000000007,
            "count": 0
           },
           {
            "bin_end": 0.4,
            "bin_start": 0.30000000000000004,
            "count": 0
           },
           {
            "bin_end": 0.5,
            "bin_start": 0.4,
            "count": 0
           }
          ],
          "max": "0",
          "min": "0",
          "nan_count": 0,
          "unique_count": 1
         }
        },
        {
         "dtype": "int64",
         "name": "GET_PACKAGE_SIZE",
         "stats": {
          "histogram": [
           {
            "bin_end": -0.4,
            "bin_start": -0.5,
            "count": 0
           },
           {
            "bin_end": -0.3,
            "bin_start": -0.4,
            "count": 0
           },
           {
            "bin_end": -0.19999999999999996,
            "bin_start": -0.3,
            "count": 0
           },
           {
            "bin_end": -0.09999999999999998,
            "bin_start": -0.19999999999999996,
            "count": 0
           },
           {
            "bin_end": 0,
            "bin_start": -0.09999999999999998,
            "count": 0
           },
           {
            "bin_end": 0.10000000000000009,
            "bin_start": 0,
            "count": 5
           },
           {
            "bin_end": 0.20000000000000007,
            "bin_start": 0.10000000000000009,
            "count": 0
           },
           {
            "bin_end": 0.30000000000000004,
            "bin_start": 0.20000000000000007,
            "count": 0
           },
           {
            "bin_end": 0.4,
            "bin_start": 0.30000000000000004,
            "count": 0
           },
           {
            "bin_end": 0.5,
            "bin_start": 0.4,
            "count": 0
           }
          ],
          "max": "0",
          "min": "0",
          "nan_count": 0,
          "unique_count": 1
         }
        },
        {
         "dtype": "int64",
         "name": "MODIFY_PHONE_STATE",
         "stats": {
          "histogram": [
           {
            "bin_end": 0.1,
            "bin_start": 0,
            "count": 3
           },
           {
            "bin_end": 0.2,
            "bin_start": 0.1,
            "count": 0
           },
           {
            "bin_end": 0.30000000000000004,
            "bin_start": 0.2,
            "count": 0
           },
           {
            "bin_end": 0.4,
            "bin_start": 0.30000000000000004,
            "count": 0
           },
           {
            "bin_end": 0.5,
            "bin_start": 0.4,
            "count": 0
           },
           {
            "bin_end": 0.6000000000000001,
            "bin_start": 0.5,
            "count": 0
           },
           {
            "bin_end": 0.7000000000000001,
            "bin_start": 0.6000000000000001,
            "count": 0
           },
           {
            "bin_end": 0.8,
            "bin_start": 0.7000000000000001,
            "count": 0
           },
           {
            "bin_end": 0.9,
            "bin_start": 0.8,
            "count": 0
           },
           {
            "bin_end": 1,
            "bin_start": 0.9,
            "count": 2
           }
          ],
          "max": "1",
          "min": "0",
          "nan_count": 0,
          "unique_count": 2
         }
        },
        {
         "dtype": "int64",
         "name": "CHANGE_COMPONENT_ENABLED_STATE",
         "stats": {
          "histogram": [
           {
            "bin_end": -0.4,
            "bin_start": -0.5,
            "count": 0
           },
           {
            "bin_end": -0.3,
            "bin_start": -0.4,
            "count": 0
           },
           {
            "bin_end": -0.19999999999999996,
            "bin_start": -0.3,
            "count": 0
           },
           {
            "bin_end": -0.09999999999999998,
            "bin_start": -0.19999999999999996,
            "count": 0
           },
           {
            "bin_end": 0,
            "bin_start": -0.09999999999999998,
            "count": 0
           },
           {
            "bin_end": 0.10000000000000009,
            "bin_start": 0,
            "count": 5
           },
           {
            "bin_end": 0.20000000000000007,
            "bin_start": 0.10000000000000009,
            "count": 0
           },
           {
            "bin_end": 0.30000000000000004,
            "bin_start": 0.20000000000000007,
            "count": 0
           },
           {
            "bin_end": 0.4,
            "bin_start": 0.30000000000000004,
            "count": 0
           },
           {
            "bin_end": 0.5,
            "bin_start": 0.4,
            "count": 0
           }
          ],
          "max": "0",
          "min": "0",
          "nan_count": 0,
          "unique_count": 1
         }
        },
        {
         "dtype": "int64",
         "name": "CLEAR_APP_CACHE",
         "stats": {
          "histogram": [
           {
            "bin_end": -0.4,
            "bin_start": -0.5,
            "count": 0
           },
           {
            "bin_end": -0.3,
            "bin_start": -0.4,
            "count": 0
           },
           {
            "bin_end": -0.19999999999999996,
            "bin_start": -0.3,
            "count": 0
           },
           {
            "bin_end": -0.09999999999999998,
            "bin_start": -0.19999999999999996,
            "count": 0
           },
           {
            "bin_end": 0,
            "bin_start": -0.09999999999999998,
            "count": 0
           },
           {
            "bin_end": 0.10000000000000009,
            "bin_start": 0,
            "count": 5
           },
           {
            "bin_end": 0.20000000000000007,
            "bin_start": 0.10000000000000009,
            "count": 0
           },
           {
            "bin_end": 0.30000000000000004,
            "bin_start": 0.20000000000000007,
            "count": 0
           },
           {
            "bin_end": 0.4,
            "bin_start": 0.30000000000000004,
            "count": 0
           },
           {
            "bin_end": 0.5,
            "bin_start": 0.4,
            "count": 0
           }
          ],
          "max": "0",
          "min": "0",
          "nan_count": 0,
          "unique_count": 1
         }
        },
        {
         "dtype": "int64",
         "name": "SET_ORIENTATION",
         "stats": {
          "histogram": [
           {
            "bin_end": -0.4,
            "bin_start": -0.5,
            "count": 0
           },
           {
            "bin_end": -0.3,
            "bin_start": -0.4,
            "count": 0
           },
           {
            "bin_end": -0.19999999999999996,
            "bin_start": -0.3,
            "count": 0
           },
           {
            "bin_end": -0.09999999999999998,
            "bin_start": -0.19999999999999996,
            "count": 0
           },
           {
            "bin_end": 0,
            "bin_start": -0.09999999999999998,
            "count": 0
           },
           {
            "bin_end": 0.10000000000000009,
            "bin_start": 0,
            "count": 5
           },
           {
            "bin_end": 0.20000000000000007,
            "bin_start": 0.10000000000000009,
            "count": 0
           },
           {
            "bin_end": 0.30000000000000004,
            "bin_start": 0.20000000000000007,
            "count": 0
           },
           {
            "bin_end": 0.4,
            "bin_start": 0.30000000000000004,
            "count": 0
           },
           {
            "bin_end": 0.5,
            "bin_start": 0.4,
            "count": 0
           }
          ],
          "max": "0",
          "min": "0",
          "nan_count": 0,
          "unique_count": 1
         }
        },
        {
         "dtype": "int64",
         "name": "READ_CONTACTS",
         "stats": {
          "histogram": [
           {
            "bin_end": 0.1,
            "bin_start": 0,
            "count": 3
           },
           {
            "bin_end": 0.2,
            "bin_start": 0.1,
            "count": 0
           },
           {
            "bin_end": 0.30000000000000004,
            "bin_start": 0.2,
            "count": 0
           },
           {
            "bin_end": 0.4,
            "bin_start": 0.30000000000000004,
            "count": 0
           },
           {
            "bin_end": 0.5,
            "bin_start": 0.4,
            "count": 0
           },
           {
            "bin_end": 0.6000000000000001,
            "bin_start": 0.5,
            "count": 0
           },
           {
            "bin_end": 0.7000000000000001,
            "bin_start": 0.6000000000000001,
            "count": 0
           },
           {
            "bin_end": 0.8,
            "bin_start": 0.7000000000000001,
            "count": 0
           },
           {
            "bin_end": 0.9,
            "bin_start": 0.8,
            "count": 0
           },
           {
            "bin_end": 1,
            "bin_start": 0.9,
            "count": 2
           }
          ],
          "max": "1",
          "min": "0",
          "nan_count": 0,
          "unique_count": 2
         }
        },
        {
         "dtype": "int64",
         "name": "DEVICE_POWER",
         "stats": {
          "histogram": [
           {
            "bin_end": -0.4,
            "bin_start": -0.5,
            "count": 0
           },
           {
            "bin_end": -0.3,
            "bin_start": -0.4,
            "count": 0
           },
           {
            "bin_end": -0.19999999999999996,
            "bin_start": -0.3,
            "count": 0
           },
           {
            "bin_end": -0.09999999999999998,
            "bin_start": -0.19999999999999996,
            "count": 0
           },
           {
            "bin_end": 0,
            "bin_start": -0.09999999999999998,
            "count": 0
           },
           {
            "bin_end": 0.10000000000000009,
            "bin_start": 0,
            "count": 5
           },
           {
            "bin_end": 0.20000000000000007,
            "bin_start": 0.10000000000000009,
            "count": 0
           },
           {
            "bin_end": 0.30000000000000004,
            "bin_start": 0.20000000000000007,
            "count": 0
           },
           {
            "bin_end": 0.4,
            "bin_start": 0.30000000000000004,
            "count": 0
           },
           {
            "bin_end": 0.5,
            "bin_start": 0.4,
            "count": 0
           }
          ],
          "max": "0",
          "min": "0",
          "nan_count": 0,
          "unique_count": 1
         }
        },
        {
         "dtype": "int64",
         "name": "HARDWARE_TEST",
         "stats": {
          "histogram": [
           {
            "bin_end": -0.4,
            "bin_start": -0.5,
            "count": 0
           },
           {
            "bin_end": -0.3,
            "bin_start": -0.4,
            "count": 0
           },
           {
            "bin_end": -0.19999999999999996,
            "bin_start": -0.3,
            "count": 0
           },
           {
            "bin_end": -0.09999999999999998,
            "bin_start": -0.19999999999999996,
            "count": 0
           },
           {
            "bin_end": 0,
            "bin_start": -0.09999999999999998,
            "count": 0
           },
           {
            "bin_end": 0.10000000000000009,
            "bin_start": 0,
            "count": 5
           },
           {
            "bin_end": 0.20000000000000007,
            "bin_start": 0.10000000000000009,
            "count": 0
           },
           {
            "bin_end": 0.30000000000000004,
            "bin_start": 0.20000000000000007,
            "count": 0
           },
           {
            "bin_end": 0.4,
            "bin_start": 0.30000000000000004,
            "count": 0
           },
           {
            "bin_end": 0.5,
            "bin_start": 0.4,
            "count": 0
           }
          ],
          "max": "0",
          "min": "0",
          "nan_count": 0,
          "unique_count": 1
         }
        },
        {
         "dtype": "int64",
         "name": "ACCESS_WIFI_STATE",
         "stats": {
          "histogram": [
           {
            "bin_end": 0.1,
            "bin_start": 0,
            "count": 1
           },
           {
            "bin_end": 0.2,
            "bin_start": 0.1,
            "count": 0
           },
           {
            "bin_end": 0.30000000000000004,
            "bin_start": 0.2,
            "count": 0
           },
           {
            "bin_end": 0.4,
            "bin_start": 0.30000000000000004,
            "count": 0
           },
           {
            "bin_end": 0.5,
            "bin_start": 0.4,
            "count": 0
           },
           {
            "bin_end": 0.6000000000000001,
            "bin_start": 0.5,
            "count": 0
           },
           {
            "bin_end": 0.7000000000000001,
            "bin_start": 0.6000000000000001,
            "count": 0
           },
           {
            "bin_end": 0.8,
            "bin_start": 0.7000000000000001,
            "count": 0
           },
           {
            "bin_end": 0.9,
            "bin_start": 0.8,
            "count": 0
           },
           {
            "bin_end": 1,
            "bin_start": 0.9,
            "count": 4
           }
          ],
          "max": "1",
          "min": "0",
          "nan_count": 0,
          "unique_count": 2
         }
        },
        {
         "dtype": "int64",
         "name": "WRITE_EXTERNAL_STORAGE",
         "stats": {
          "histogram": [
           {
            "bin_end": 0.1,
            "bin_start": 0,
            "count": 2
           },
           {
            "bin_end": 0.2,
            "bin_start": 0.1,
            "count": 0
           },
           {
            "bin_end": 0.30000000000000004,
            "bin_start": 0.2,
            "count": 0
           },
           {
            "bin_end": 0.4,
            "bin_start": 0.30000000000000004,
            "count": 0
           },
           {
            "bin_end": 0.5,
            "bin_start": 0.4,
            "count": 0
           },
           {
            "bin_end": 0.6000000000000001,
            "bin_start": 0.5,
            "count": 0
           },
           {
            "bin_end": 0.7000000000000001,
            "bin_start": 0.6000000000000001,
            "count": 0
           },
           {
            "bin_end": 0.8,
            "bin_start": 0.7000000000000001,
            "count": 0
           },
           {
            "bin_end": 0.9,
            "bin_start": 0.8,
            "count": 0
           },
           {
            "bin_end": 1,
            "bin_start": 0.9,
            "count": 3
           }
          ],
          "max": "1",
          "min": "0",
          "nan_count": 0,
          "unique_count": 2
         }
        },
        {
         "dtype": "int64",
         "name": "ACCESS_FINE_LOCATION",
         "stats": {
          "histogram": [
           {
            "bin_end": 0.1,
            "bin_start": 0,
            "count": 3
           },
           {
            "bin_end": 0.2,
            "bin_start": 0.1,
            "count": 0
           },
           {
            "bin_end": 0.30000000000000004,
            "bin_start": 0.2,
            "count": 0
           },
           {
            "bin_end": 0.4,
            "bin_start": 0.30000000000000004,
            "count": 0
           },
           {
            "bin_end": 0.5,
            "bin_start": 0.4,
            "count": 0
           },
           {
            "bin_end": 0.6000000000000001,
            "bin_start": 0.5,
            "count": 0
           },
           {
            "bin_end": 0.7000000000000001,
            "bin_start": 0.6000000000000001,
            "count": 0
           },
           {
            "bin_end": 0.8,
            "bin_start": 0.7000000000000001,
            "count": 0
           },
           {
            "bin_end": 0.9,
            "bin_start": 0.8,
            "count": 0
           },
           {
            "bin_end": 1,
            "bin_start": 0.9,
            "count": 2
           }
          ],
          "max": "1",
          "min": "0",
          "nan_count": 0,
          "unique_count": 2
         }
        },
        {
         "dtype": "int64",
         "name": "SET_WALLPAPER_HINTS",
         "stats": {
          "histogram": [
           {
            "bin_end": -0.4,
            "bin_start": -0.5,
            "count": 0
           },
           {
            "bin_end": -0.3,
            "bin_start": -0.4,
            "count": 0
           },
           {
            "bin_end": -0.19999999999999996,
            "bin_start": -0.3,
            "count": 0
           },
           {
            "bin_end": -0.09999999999999998,
            "bin_start": -0.19999999999999996,
            "count": 0
           },
           {
            "bin_end": 0,
            "bin_start": -0.09999999999999998,
            "count": 0
           },
           {
            "bin_end": 0.10000000000000009,
            "bin_start": 0,
            "count": 5
           },
           {
            "bin_end": 0.20000000000000007,
            "bin_start": 0.10000000000000009,
            "count": 0
           },
           {
            "bin_end": 0.30000000000000004,
            "bin_start": 0.20000000000000007,
            "count": 0
           },
           {
            "bin_end": 0.4,
            "bin_start": 0.30000000000000004,
            "count": 0
           },
           {
            "bin_end": 0.5,
            "bin_start": 0.4,
            "count": 0
           }
          ],
          "max": "0",
          "min": "0",
          "nan_count": 0,
          "unique_count": 1
         }
        },
        {
         "dtype": "int64",
         "name": "SET_PREFERRED_APPLICATIONS",
         "stats": {
          "histogram": [
           {
            "bin_end": -0.4,
            "bin_start": -0.5,
            "count": 0
           },
           {
            "bin_end": -0.3,
            "bin_start": -0.4,
            "count": 0
           },
           {
            "bin_end": -0.19999999999999996,
            "bin_start": -0.3,
            "count": 0
           },
           {
            "bin_end": -0.09999999999999998,
            "bin_start": -0.19999999999999996,
            "count": 0
           },
           {
            "bin_end": 0,
            "bin_start": -0.09999999999999998,
            "count": 0
           },
           {
            "bin_end": 0.10000000000000009,
            "bin_start": 0,
            "count": 5
           },
           {
            "bin_end": 0.20000000000000007,
            "bin_start": 0.10000000000000009,
            "count": 0
           },
           {
            "bin_end": 0.30000000000000004,
            "bin_start": 0.20000000000000007,
            "count": 0
           },
           {
            "bin_end": 0.4,
            "bin_start": 0.30000000000000004,
            "count": 0
           },
           {
            "bin_end": 0.5,
            "bin_start": 0.4,
            "count": 0
           }
          ],
          "max": "0",
          "min": "0",
          "nan_count": 0,
          "unique_count": 1
         }
        },
        {
         "dtype": "int64",
         "name": "WRITE_SECURE_SETTINGS",
         "stats": {
          "histogram": [
           {
            "bin_end": 0.1,
            "bin_start": 0,
            "count": 3
           },
           {
            "bin_end": 0.2,
            "bin_start": 0.1,
            "count": 0
           },
           {
            "bin_end": 0.30000000000000004,
            "bin_start": 0.2,
            "count": 0
           },
           {
            "bin_end": 0.4,
            "bin_start": 0.30000000000000004,
            "count": 0
           },
           {
            "bin_end": 0.5,
            "bin_start": 0.4,
            "count": 0
           },
           {
            "bin_end": 0.6000000000000001,
            "bin_start": 0.5,
            "count": 0
           },
           {
            "bin_end": 0.7000000000000001,
            "bin_start": 0.6000000000000001,
            "count": 0
           },
           {
            "bin_end": 0.8,
            "bin_start": 0.7000000000000001,
            "count": 0
           },
           {
            "bin_end": 0.9,
            "bin_start": 0.8,
            "count": 0
           },
           {
            "bin_end": 1,
            "bin_start": 0.9,
            "count": 2
           }
          ],
          "max": "1",
          "min": "0",
          "nan_count": 0,
          "unique_count": 2
         }
        },
        {
         "dtype": "int64",
         "name": "class",
         "stats": {
          "histogram": [
           {
            "bin_end": 0.1,
            "bin_start": 0,
            "count": 2
           },
           {
            "bin_end": 0.2,
            "bin_start": 0.1,
            "count": 0
           },
           {
            "bin_end": 0.30000000000000004,
            "bin_start": 0.2,
            "count": 0
           },
           {
            "bin_end": 0.4,
            "bin_start": 0.30000000000000004,
            "count": 0
           },
           {
            "bin_end": 0.5,
            "bin_start": 0.4,
            "count": 0
           },
           {
            "bin_end": 0.6000000000000001,
            "bin_start": 0.5,
            "count": 0
           },
           {
            "bin_end": 0.7000000000000001,
            "bin_start": 0.6000000000000001,
            "count": 0
           },
           {
            "bin_end": 0.8,
            "bin_start": 0.7000000000000001,
            "count": 0
           },
           {
            "bin_end": 0.9,
            "bin_start": 0.8,
            "count": 0
           },
           {
            "bin_end": 1,
            "bin_start": 0.9,
            "count": 3
           }
          ],
          "max": "1",
          "min": "0",
          "nan_count": 0,
          "unique_count": 2
         }
        },
        {
         "dtype": "int64",
         "name": "_deepnote_index_column"
        }
       ],
       "row_count": 5,
       "rows_bottom": null,
       "rows_top": [
        {
         "ACCESS_COARSE_LOCATION": 0,
         "ACCESS_FINE_LOCATION": 0,
         "ACCESS_LOCATION_EXTRA_COMMANDS": 0,
         "ACCESS_MOCK_LOCATION": 0,
         "ACCESS_NETWORK_STATE": 1,
         "ACCESS_SURFACE_FLINGER": 0,
         "ACCESS_WIFI_STATE": 1,
         "ADD_VOICEMAIL": 0,
         "AUTHENTICATE_ACCOUNTS": 0,
         "BATTERY_STATS": 0,
         "BIND_ACCESSIBILITY_SERVICE": 0,
         "BIND_APPWIDGET": 0,
         "BIND_DEVICE_ADMIN": 0,
         "BIND_INPUT_METHOD": 0,
         "BIND_REMOTEVIEWS": 0,
         "BIND_TEXT_SERVICE": 0,
         "BIND_VPN_SERVICE": 0,
         "BIND_WALLPAPER": 0,
         "BLUETOOTH": 0,
         "BLUETOOTH_ADMIN": 0,
         "BROADCAST_SMS": 0,
         "BROADCAST_STICKY": 0,
         "BROADCAST_WAP_PUSH": 0,
         "CALL_PHONE": 1,
         "CALL_PRIVILEGED": 0,
         "CAMERA": 0,
         "CHANGE_COMPONENT_ENABLED_STATE": 0,
         "CHANGE_CONFIGURATION": 0,
         "CHANGE_NETWORK_STATE": 0,
         "CHANGE_WIFI_MULTICAST_STATE": 0,
         "CHANGE_WIFI_STATE": 0,
         "CLEAR_APP_CACHE": 0,
         "CLEAR_APP_USER_DATA": 0,
         "CONTROL_LOCATION_UPDATES": 0,
         "DELETE_CACHE_FILES": 0,
         "DELETE_PACKAGES": 0,
         "DEVICE_POWER": 0,
         "DISABLE_KEYGUARD": 0,
         "DUMP": 0,
         "EXPAND_STATUS_BAR": 0,
         "FLASHLIGHT": 0,
         "GET_ACCOUNTS": 1,
         "GET_PACKAGE_SIZE": 0,
         "GET_TASKS": 0,
         "GLOBAL_SEARCH": 0,
         "HARDWARE_TEST": 0,
         "INSTALL_LOCATION_PROVIDER": 0,
         "INSTALL_PACKAGES": 0,
         "INTERNAL_SYSTEM_WINDOW": 0,
         "INTERNET": 1,
         "KILL_BACKGROUND_PROCESSES": 0,
         "MANAGE_ACCOUNTS": 0,
         "MASTER_CLEAR": 0,
         "MODIFY_AUDIO_SETTINGS": 0,
         "MODIFY_PHONE_STATE": 0,
         "MOUNT_FORMAT_FILESYSTEMS": 0,
         "MOUNT_UNMOUNT_FILESYSTEMS": 0,
         "NFC": 0,
         "PERSISTENT_ACTIVITY": 0,
         "PROCESS_OUTGOING_CALLS": 0,
         "READ_CALENDAR": 0,
         "READ_CALL_LOG": 0,
         "READ_CONTACTS": 0,
         "READ_EXTERNAL_STORAGE": 0,
         "READ_FRAME_BUFFER": 0,
         "READ_HISTORY_BOOKMARKS": 1,
         "READ_LOGS": 0,
         "READ_PHONE_STATE": 1,
         "READ_PROFILE": 0,
         "READ_SMS": 0,
         "READ_SOCIAL_STREAM": 0,
         "READ_SYNC_SETTINGS": 0,
         "READ_SYNC_STATS": 0,
         "READ_USER_DICTIONARY": 0,
         "REBOOT": 0,
         "RECEIVE_BOOT_COMPLETED": 1,
         "RECEIVE_MMS": 0,
         "RECEIVE_SMS": 0,
         "RECEIVE_WAP_PUSH": 0,
         "RECORD_AUDIO": 0,
         "REORDER_TASKS": 0,
         "RESTART_PACKAGES": 0,
         "SEND_SMS": 0,
         "SET_ACTIVITY_WATCHER": 0,
         "SET_ORIENTATION": 0,
         "SET_PREFERRED_APPLICATIONS": 0,
         "SET_PROCESS_LIMIT": 0,
         "SET_TIME": 0,
         "SET_TIME_ZONE": 0,
         "SET_WALLPAPER": 1,
         "SET_WALLPAPER_HINTS": 0,
         "STATUS_BAR": 0,
         "SUBSCRIBED_FEEDS_READ": 0,
         "SUBSCRIBED_FEEDS_WRITE": 0,
         "SYSTEM_ALERT_WINDOW": 0,
         "UPDATE_DEVICE_STATS": 0,
         "USE_CREDENTIALS": 0,
         "VIBRATE": 0,
         "WAKE_LOCK": 1,
         "WRITE_APN_SETTINGS": 0,
         "WRITE_CALENDAR": 0,
         "WRITE_CALL_LOG": 0,
         "WRITE_CONTACTS": 0,
         "WRITE_EXTERNAL_STORAGE": 0,
         "WRITE_GSERVICES": 0,
         "WRITE_HISTORY_BOOKMARKS": 1,
         "WRITE_PROFILE": 0,
         "WRITE_SECURE_SETTINGS": 0,
         "WRITE_SETTINGS": 0,
         "WRITE_SMS": 0,
         "WRITE_SOCIAL_STREAM": 0,
         "WRITE_SYNC_SETTINGS": 0,
         "WRITE_USER_DICTIONARY": 0,
         "_deepnote_index_column": 0,
         "class": 1
        },
        {
         "ACCESS_COARSE_LOCATION": 0,
         "ACCESS_FINE_LOCATION": 0,
         "ACCESS_LOCATION_EXTRA_COMMANDS": 0,
         "ACCESS_MOCK_LOCATION": 0,
         "ACCESS_NETWORK_STATE": 0,
         "ACCESS_SURFACE_FLINGER": 0,
         "ACCESS_WIFI_STATE": 0,
         "ADD_VOICEMAIL": 0,
         "AUTHENTICATE_ACCOUNTS": 0,
         "BATTERY_STATS": 0,
         "BIND_ACCESSIBILITY_SERVICE": 0,
         "BIND_APPWIDGET": 0,
         "BIND_DEVICE_ADMIN": 0,
         "BIND_INPUT_METHOD": 0,
         "BIND_REMOTEVIEWS": 0,
         "BIND_TEXT_SERVICE": 0,
         "BIND_VPN_SERVICE": 0,
         "BIND_WALLPAPER": 0,
         "BLUETOOTH": 0,
         "BLUETOOTH_ADMIN": 0,
         "BROADCAST_SMS": 0,
         "BROADCAST_STICKY": 0,
         "BROADCAST_WAP_PUSH": 0,
         "CALL_PHONE": 0,
         "CALL_PRIVILEGED": 0,
         "CAMERA": 0,
         "CHANGE_COMPONENT_ENABLED_STATE": 0,
         "CHANGE_CONFIGURATION": 0,
         "CHANGE_NETWORK_STATE": 0,
         "CHANGE_WIFI_MULTICAST_STATE": 0,
         "CHANGE_WIFI_STATE": 0,
         "CLEAR_APP_CACHE": 0,
         "CLEAR_APP_USER_DATA": 0,
         "CONTROL_LOCATION_UPDATES": 0,
         "DELETE_CACHE_FILES": 0,
         "DELETE_PACKAGES": 0,
         "DEVICE_POWER": 0,
         "DISABLE_KEYGUARD": 0,
         "DUMP": 0,
         "EXPAND_STATUS_BAR": 0,
         "FLASHLIGHT": 0,
         "GET_ACCOUNTS": 0,
         "GET_PACKAGE_SIZE": 0,
         "GET_TASKS": 0,
         "GLOBAL_SEARCH": 0,
         "HARDWARE_TEST": 0,
         "INSTALL_LOCATION_PROVIDER": 0,
         "INSTALL_PACKAGES": 0,
         "INTERNAL_SYSTEM_WINDOW": 0,
         "INTERNET": 0,
         "KILL_BACKGROUND_PROCESSES": 0,
         "MANAGE_ACCOUNTS": 0,
         "MASTER_CLEAR": 0,
         "MODIFY_AUDIO_SETTINGS": 0,
         "MODIFY_PHONE_STATE": 0,
         "MOUNT_FORMAT_FILESYSTEMS": 0,
         "MOUNT_UNMOUNT_FILESYSTEMS": 0,
         "NFC": 0,
         "PERSISTENT_ACTIVITY": 0,
         "PROCESS_OUTGOING_CALLS": 0,
         "READ_CALENDAR": 0,
         "READ_CALL_LOG": 0,
         "READ_CONTACTS": 0,
         "READ_EXTERNAL_STORAGE": 0,
         "READ_FRAME_BUFFER": 0,
         "READ_HISTORY_BOOKMARKS": 0,
         "READ_LOGS": 0,
         "READ_PHONE_STATE": 0,
         "READ_PROFILE": 0,
         "READ_SMS": 0,
         "READ_SOCIAL_STREAM": 0,
         "READ_SYNC_SETTINGS": 0,
         "READ_SYNC_STATS": 0,
         "READ_USER_DICTIONARY": 0,
         "REBOOT": 0,
         "RECEIVE_BOOT_COMPLETED": 0,
         "RECEIVE_MMS": 0,
         "RECEIVE_SMS": 0,
         "RECEIVE_WAP_PUSH": 0,
         "RECORD_AUDIO": 0,
         "REORDER_TASKS": 0,
         "RESTART_PACKAGES": 0,
         "SEND_SMS": 0,
         "SET_ACTIVITY_WATCHER": 0,
         "SET_ORIENTATION": 0,
         "SET_PREFERRED_APPLICATIONS": 0,
         "SET_PROCESS_LIMIT": 0,
         "SET_TIME": 0,
         "SET_TIME_ZONE": 0,
         "SET_WALLPAPER": 0,
         "SET_WALLPAPER_HINTS": 0,
         "STATUS_BAR": 0,
         "SUBSCRIBED_FEEDS_READ": 0,
         "SUBSCRIBED_FEEDS_WRITE": 0,
         "SYSTEM_ALERT_WINDOW": 0,
         "UPDATE_DEVICE_STATS": 0,
         "USE_CREDENTIALS": 0,
         "VIBRATE": 0,
         "WAKE_LOCK": 0,
         "WRITE_APN_SETTINGS": 0,
         "WRITE_CALENDAR": 0,
         "WRITE_CALL_LOG": 0,
         "WRITE_CONTACTS": 0,
         "WRITE_EXTERNAL_STORAGE": 0,
         "WRITE_GSERVICES": 0,
         "WRITE_HISTORY_BOOKMARKS": 0,
         "WRITE_PROFILE": 0,
         "WRITE_SECURE_SETTINGS": 0,
         "WRITE_SETTINGS": 0,
         "WRITE_SMS": 0,
         "WRITE_SOCIAL_STREAM": 0,
         "WRITE_SYNC_SETTINGS": 0,
         "WRITE_USER_DICTIONARY": 0,
         "_deepnote_index_column": 1,
         "class": 0
        },
        {
         "ACCESS_COARSE_LOCATION": 1,
         "ACCESS_FINE_LOCATION": 1,
         "ACCESS_LOCATION_EXTRA_COMMANDS": 0,
         "ACCESS_MOCK_LOCATION": 0,
         "ACCESS_NETWORK_STATE": 1,
         "ACCESS_SURFACE_FLINGER": 0,
         "ACCESS_WIFI_STATE": 1,
         "ADD_VOICEMAIL": 0,
         "AUTHENTICATE_ACCOUNTS": 0,
         "BATTERY_STATS": 0,
         "BIND_ACCESSIBILITY_SERVICE": 0,
         "BIND_APPWIDGET": 0,
         "BIND_DEVICE_ADMIN": 0,
         "BIND_INPUT_METHOD": 0,
         "BIND_REMOTEVIEWS": 0,
         "BIND_TEXT_SERVICE": 0,
         "BIND_VPN_SERVICE": 0,
         "BIND_WALLPAPER": 0,
         "BLUETOOTH": 0,
         "BLUETOOTH_ADMIN": 0,
         "BROADCAST_SMS": 0,
         "BROADCAST_STICKY": 0,
         "BROADCAST_WAP_PUSH": 0,
         "CALL_PHONE": 1,
         "CALL_PRIVILEGED": 1,
         "CAMERA": 0,
         "CHANGE_COMPONENT_ENABLED_STATE": 0,
         "CHANGE_CONFIGURATION": 0,
         "CHANGE_NETWORK_STATE": 1,
         "CHANGE_WIFI_MULTICAST_STATE": 0,
         "CHANGE_WIFI_STATE": 1,
         "CLEAR_APP_CACHE": 0,
         "CLEAR_APP_USER_DATA": 0,
         "CONTROL_LOCATION_UPDATES": 0,
         "DELETE_CACHE_FILES": 1,
         "DELETE_PACKAGES": 0,
         "DEVICE_POWER": 0,
         "DISABLE_KEYGUARD": 1,
         "DUMP": 0,
         "EXPAND_STATUS_BAR": 0,
         "FLASHLIGHT": 0,
         "GET_ACCOUNTS": 0,
         "GET_PACKAGE_SIZE": 0,
         "GET_TASKS": 0,
         "GLOBAL_SEARCH": 0,
         "HARDWARE_TEST": 0,
         "INSTALL_LOCATION_PROVIDER": 0,
         "INSTALL_PACKAGES": 0,
         "INTERNAL_SYSTEM_WINDOW": 0,
         "INTERNET": 1,
         "KILL_BACKGROUND_PROCESSES": 0,
         "MANAGE_ACCOUNTS": 0,
         "MASTER_CLEAR": 0,
         "MODIFY_AUDIO_SETTINGS": 1,
         "MODIFY_PHONE_STATE": 1,
         "MOUNT_FORMAT_FILESYSTEMS": 0,
         "MOUNT_UNMOUNT_FILESYSTEMS": 0,
         "NFC": 0,
         "PERSISTENT_ACTIVITY": 0,
         "PROCESS_OUTGOING_CALLS": 1,
         "READ_CALENDAR": 1,
         "READ_CALL_LOG": 0,
         "READ_CONTACTS": 1,
         "READ_EXTERNAL_STORAGE": 0,
         "READ_FRAME_BUFFER": 0,
         "READ_HISTORY_BOOKMARKS": 1,
         "READ_LOGS": 1,
         "READ_PHONE_STATE": 1,
         "READ_PROFILE": 0,
         "READ_SMS": 1,
         "READ_SOCIAL_STREAM": 0,
         "READ_SYNC_SETTINGS": 0,
         "READ_SYNC_STATS": 0,
         "READ_USER_DICTIONARY": 0,
         "REBOOT": 0,
         "RECEIVE_BOOT_COMPLETED": 1,
         "RECEIVE_MMS": 0,
         "RECEIVE_SMS": 1,
         "RECEIVE_WAP_PUSH": 0,
         "RECORD_AUDIO": 0,
         "REORDER_TASKS": 0,
         "RESTART_PACKAGES": 0,
         "SEND_SMS": 1,
         "SET_ACTIVITY_WATCHER": 0,
         "SET_ORIENTATION": 0,
         "SET_PREFERRED_APPLICATIONS": 0,
         "SET_PROCESS_LIMIT": 0,
         "SET_TIME": 0,
         "SET_TIME_ZONE": 0,
         "SET_WALLPAPER": 0,
         "SET_WALLPAPER_HINTS": 0,
         "STATUS_BAR": 0,
         "SUBSCRIBED_FEEDS_READ": 0,
         "SUBSCRIBED_FEEDS_WRITE": 0,
         "SYSTEM_ALERT_WINDOW": 0,
         "UPDATE_DEVICE_STATS": 0,
         "USE_CREDENTIALS": 0,
         "VIBRATE": 0,
         "WAKE_LOCK": 0,
         "WRITE_APN_SETTINGS": 0,
         "WRITE_CALENDAR": 1,
         "WRITE_CALL_LOG": 0,
         "WRITE_CONTACTS": 1,
         "WRITE_EXTERNAL_STORAGE": 1,
         "WRITE_GSERVICES": 0,
         "WRITE_HISTORY_BOOKMARKS": 1,
         "WRITE_PROFILE": 0,
         "WRITE_SECURE_SETTINGS": 1,
         "WRITE_SETTINGS": 1,
         "WRITE_SMS": 1,
         "WRITE_SOCIAL_STREAM": 0,
         "WRITE_SYNC_SETTINGS": 0,
         "WRITE_USER_DICTIONARY": 0,
         "_deepnote_index_column": 2,
         "class": 1
        },
        {
         "ACCESS_COARSE_LOCATION": 0,
         "ACCESS_FINE_LOCATION": 0,
         "ACCESS_LOCATION_EXTRA_COMMANDS": 0,
         "ACCESS_MOCK_LOCATION": 0,
         "ACCESS_NETWORK_STATE": 0,
         "ACCESS_SURFACE_FLINGER": 0,
         "ACCESS_WIFI_STATE": 1,
         "ADD_VOICEMAIL": 0,
         "AUTHENTICATE_ACCOUNTS": 0,
         "BATTERY_STATS": 0,
         "BIND_ACCESSIBILITY_SERVICE": 0,
         "BIND_APPWIDGET": 0,
         "BIND_DEVICE_ADMIN": 0,
         "BIND_INPUT_METHOD": 0,
         "BIND_REMOTEVIEWS": 0,
         "BIND_TEXT_SERVICE": 0,
         "BIND_VPN_SERVICE": 0,
         "BIND_WALLPAPER": 0,
         "BLUETOOTH": 0,
         "BLUETOOTH_ADMIN": 0,
         "BROADCAST_SMS": 0,
         "BROADCAST_STICKY": 0,
         "BROADCAST_WAP_PUSH": 0,
         "CALL_PHONE": 0,
         "CALL_PRIVILEGED": 0,
         "CAMERA": 0,
         "CHANGE_COMPONENT_ENABLED_STATE": 0,
         "CHANGE_CONFIGURATION": 0,
         "CHANGE_NETWORK_STATE": 0,
         "CHANGE_WIFI_MULTICAST_STATE": 0,
         "CHANGE_WIFI_STATE": 1,
         "CLEAR_APP_CACHE": 0,
         "CLEAR_APP_USER_DATA": 0,
         "CONTROL_LOCATION_UPDATES": 0,
         "DELETE_CACHE_FILES": 0,
         "DELETE_PACKAGES": 0,
         "DEVICE_POWER": 0,
         "DISABLE_KEYGUARD": 0,
         "DUMP": 0,
         "EXPAND_STATUS_BAR": 0,
         "FLASHLIGHT": 0,
         "GET_ACCOUNTS": 0,
         "GET_PACKAGE_SIZE": 0,
         "GET_TASKS": 0,
         "GLOBAL_SEARCH": 0,
         "HARDWARE_TEST": 0,
         "INSTALL_LOCATION_PROVIDER": 0,
         "INSTALL_PACKAGES": 0,
         "INTERNAL_SYSTEM_WINDOW": 0,
         "INTERNET": 1,
         "KILL_BACKGROUND_PROCESSES": 0,
         "MANAGE_ACCOUNTS": 0,
         "MASTER_CLEAR": 0,
         "MODIFY_AUDIO_SETTINGS": 0,
         "MODIFY_PHONE_STATE": 0,
         "MOUNT_FORMAT_FILESYSTEMS": 0,
         "MOUNT_UNMOUNT_FILESYSTEMS": 0,
         "NFC": 0,
         "PERSISTENT_ACTIVITY": 0,
         "PROCESS_OUTGOING_CALLS": 0,
         "READ_CALENDAR": 0,
         "READ_CALL_LOG": 0,
         "READ_CONTACTS": 0,
         "READ_EXTERNAL_STORAGE": 0,
         "READ_FRAME_BUFFER": 0,
         "READ_HISTORY_BOOKMARKS": 0,
         "READ_LOGS": 0,
         "READ_PHONE_STATE": 0,
         "READ_PROFILE": 0,
         "READ_SMS": 0,
         "READ_SOCIAL_STREAM": 0,
         "READ_SYNC_SETTINGS": 0,
         "READ_SYNC_STATS": 0,
         "READ_USER_DICTIONARY": 0,
         "REBOOT": 0,
         "RECEIVE_BOOT_COMPLETED": 0,
         "RECEIVE_MMS": 0,
         "RECEIVE_SMS": 0,
         "RECEIVE_WAP_PUSH": 0,
         "RECORD_AUDIO": 0,
         "REORDER_TASKS": 0,
         "RESTART_PACKAGES": 0,
         "SEND_SMS": 0,
         "SET_ACTIVITY_WATCHER": 0,
         "SET_ORIENTATION": 0,
         "SET_PREFERRED_APPLICATIONS": 0,
         "SET_PROCESS_LIMIT": 0,
         "SET_TIME": 0,
         "SET_TIME_ZONE": 0,
         "SET_WALLPAPER": 0,
         "SET_WALLPAPER_HINTS": 0,
         "STATUS_BAR": 0,
         "SUBSCRIBED_FEEDS_READ": 0,
         "SUBSCRIBED_FEEDS_WRITE": 0,
         "SYSTEM_ALERT_WINDOW": 0,
         "UPDATE_DEVICE_STATS": 0,
         "USE_CREDENTIALS": 0,
         "VIBRATE": 0,
         "WAKE_LOCK": 1,
         "WRITE_APN_SETTINGS": 0,
         "WRITE_CALENDAR": 0,
         "WRITE_CALL_LOG": 0,
         "WRITE_CONTACTS": 0,
         "WRITE_EXTERNAL_STORAGE": 1,
         "WRITE_GSERVICES": 0,
         "WRITE_HISTORY_BOOKMARKS": 0,
         "WRITE_PROFILE": 0,
         "WRITE_SECURE_SETTINGS": 0,
         "WRITE_SETTINGS": 0,
         "WRITE_SMS": 0,
         "WRITE_SOCIAL_STREAM": 0,
         "WRITE_SYNC_SETTINGS": 0,
         "WRITE_USER_DICTIONARY": 0,
         "_deepnote_index_column": 3,
         "class": 1
        },
        {
         "ACCESS_COARSE_LOCATION": 1,
         "ACCESS_FINE_LOCATION": 1,
         "ACCESS_LOCATION_EXTRA_COMMANDS": 0,
         "ACCESS_MOCK_LOCATION": 0,
         "ACCESS_NETWORK_STATE": 1,
         "ACCESS_SURFACE_FLINGER": 0,
         "ACCESS_WIFI_STATE": 1,
         "ADD_VOICEMAIL": 0,
         "AUTHENTICATE_ACCOUNTS": 1,
         "BATTERY_STATS": 0,
         "BIND_ACCESSIBILITY_SERVICE": 0,
         "BIND_APPWIDGET": 0,
         "BIND_DEVICE_ADMIN": 1,
         "BIND_INPUT_METHOD": 0,
         "BIND_REMOTEVIEWS": 0,
         "BIND_TEXT_SERVICE": 0,
         "BIND_VPN_SERVICE": 0,
         "BIND_WALLPAPER": 0,
         "BLUETOOTH": 1,
         "BLUETOOTH_ADMIN": 1,
         "BROADCAST_SMS": 0,
         "BROADCAST_STICKY": 1,
         "BROADCAST_WAP_PUSH": 0,
         "CALL_PHONE": 1,
         "CALL_PRIVILEGED": 1,
         "CAMERA": 1,
         "CHANGE_COMPONENT_ENABLED_STATE": 0,
         "CHANGE_CONFIGURATION": 0,
         "CHANGE_NETWORK_STATE": 1,
         "CHANGE_WIFI_MULTICAST_STATE": 0,
         "CHANGE_WIFI_STATE": 1,
         "CLEAR_APP_CACHE": 0,
         "CLEAR_APP_USER_DATA": 0,
         "CONTROL_LOCATION_UPDATES": 0,
         "DELETE_CACHE_FILES": 0,
         "DELETE_PACKAGES": 0,
         "DEVICE_POWER": 0,
         "DISABLE_KEYGUARD": 1,
         "DUMP": 1,
         "EXPAND_STATUS_BAR": 0,
         "FLASHLIGHT": 0,
         "GET_ACCOUNTS": 1,
         "GET_PACKAGE_SIZE": 0,
         "GET_TASKS": 1,
         "GLOBAL_SEARCH": 0,
         "HARDWARE_TEST": 0,
         "INSTALL_LOCATION_PROVIDER": 0,
         "INSTALL_PACKAGES": 0,
         "INTERNAL_SYSTEM_WINDOW": 0,
         "INTERNET": 1,
         "KILL_BACKGROUND_PROCESSES": 0,
         "MANAGE_ACCOUNTS": 1,
         "MASTER_CLEAR": 0,
         "MODIFY_AUDIO_SETTINGS": 0,
         "MODIFY_PHONE_STATE": 1,
         "MOUNT_FORMAT_FILESYSTEMS": 0,
         "MOUNT_UNMOUNT_FILESYSTEMS": 0,
         "NFC": 0,
         "PERSISTENT_ACTIVITY": 0,
         "PROCESS_OUTGOING_CALLS": 0,
         "READ_CALENDAR": 0,
         "READ_CALL_LOG": 1,
         "READ_CONTACTS": 1,
         "READ_EXTERNAL_STORAGE": 1,
         "READ_FRAME_BUFFER": 1,
         "READ_HISTORY_BOOKMARKS": 0,
         "READ_LOGS": 1,
         "READ_PHONE_STATE": 1,
         "READ_PROFILE": 1,
         "READ_SMS": 1,
         "READ_SOCIAL_STREAM": 1,
         "READ_SYNC_SETTINGS": 1,
         "READ_SYNC_STATS": 0,
         "READ_USER_DICTIONARY": 0,
         "REBOOT": 1,
         "RECEIVE_BOOT_COMPLETED": 1,
         "RECEIVE_MMS": 0,
         "RECEIVE_SMS": 1,
         "RECEIVE_WAP_PUSH": 0,
         "RECORD_AUDIO": 1,
         "REORDER_TASKS": 0,
         "RESTART_PACKAGES": 0,
         "SEND_SMS": 0,
         "SET_ACTIVITY_WATCHER": 0,
         "SET_ORIENTATION": 0,
         "SET_PREFERRED_APPLICATIONS": 0,
         "SET_PROCESS_LIMIT": 0,
         "SET_TIME": 0,
         "SET_TIME_ZONE": 0,
         "SET_WALLPAPER": 0,
         "SET_WALLPAPER_HINTS": 0,
         "STATUS_BAR": 0,
         "SUBSCRIBED_FEEDS_READ": 1,
         "SUBSCRIBED_FEEDS_WRITE": 1,
         "SYSTEM_ALERT_WINDOW": 1,
         "UPDATE_DEVICE_STATS": 0,
         "USE_CREDENTIALS": 1,
         "VIBRATE": 1,
         "WAKE_LOCK": 1,
         "WRITE_APN_SETTINGS": 0,
         "WRITE_CALENDAR": 0,
         "WRITE_CALL_LOG": 0,
         "WRITE_CONTACTS": 1,
         "WRITE_EXTERNAL_STORAGE": 1,
         "WRITE_GSERVICES": 0,
         "WRITE_HISTORY_BOOKMARKS": 0,
         "WRITE_PROFILE": 1,
         "WRITE_SECURE_SETTINGS": 1,
         "WRITE_SETTINGS": 1,
         "WRITE_SMS": 0,
         "WRITE_SOCIAL_STREAM": 1,
         "WRITE_SYNC_SETTINGS": 1,
         "WRITE_USER_DICTIONARY": 0,
         "_deepnote_index_column": 4,
         "class": 0
        }
       ]
      },
      "text/html": [
       "<div>\n",
       "<style scoped>\n",
       "    .dataframe tbody tr th:only-of-type {\n",
       "        vertical-align: middle;\n",
       "    }\n",
       "\n",
       "    .dataframe tbody tr th {\n",
       "        vertical-align: top;\n",
       "    }\n",
       "\n",
       "    .dataframe thead th {\n",
       "        text-align: right;\n",
       "    }\n",
       "</style>\n",
       "<table border=\"1\" class=\"dataframe\">\n",
       "  <thead>\n",
       "    <tr style=\"text-align: right;\">\n",
       "      <th></th>\n",
       "      <th>SEND_SMS</th>\n",
       "      <th>READ_PHONE_STATE</th>\n",
       "      <th>GET_ACCOUNTS</th>\n",
       "      <th>RECEIVE_SMS</th>\n",
       "      <th>READ_SMS</th>\n",
       "      <th>USE_CREDENTIALS</th>\n",
       "      <th>MANAGE_ACCOUNTS</th>\n",
       "      <th>WRITE_SMS</th>\n",
       "      <th>READ_SYNC_SETTINGS</th>\n",
       "      <th>AUTHENTICATE_ACCOUNTS</th>\n",
       "      <th>WRITE_HISTORY_BOOKMARKS</th>\n",
       "      <th>INSTALL_PACKAGES</th>\n",
       "      <th>CAMERA</th>\n",
       "      <th>WRITE_SYNC_SETTINGS</th>\n",
       "      <th>READ_HISTORY_BOOKMARKS</th>\n",
       "      <th>INTERNET</th>\n",
       "      <th>RECORD_AUDIO</th>\n",
       "      <th>NFC</th>\n",
       "      <th>ACCESS_LOCATION_EXTRA_COMMANDS</th>\n",
       "      <th>WRITE_APN_SETTINGS</th>\n",
       "      <th>BIND_REMOTEVIEWS</th>\n",
       "      <th>READ_PROFILE</th>\n",
       "      <th>MODIFY_AUDIO_SETTINGS</th>\n",
       "      <th>READ_SYNC_STATS</th>\n",
       "      <th>BROADCAST_STICKY</th>\n",
       "      <th>WAKE_LOCK</th>\n",
       "      <th>RECEIVE_BOOT_COMPLETED</th>\n",
       "      <th>RESTART_PACKAGES</th>\n",
       "      <th>BLUETOOTH</th>\n",
       "      <th>READ_CALENDAR</th>\n",
       "      <th>READ_CALL_LOG</th>\n",
       "      <th>SUBSCRIBED_FEEDS_WRITE</th>\n",
       "      <th>READ_EXTERNAL_STORAGE</th>\n",
       "      <th>VIBRATE</th>\n",
       "      <th>ACCESS_NETWORK_STATE</th>\n",
       "      <th>SUBSCRIBED_FEEDS_READ</th>\n",
       "      <th>CHANGE_WIFI_MULTICAST_STATE</th>\n",
       "      <th>WRITE_CALENDAR</th>\n",
       "      <th>MASTER_CLEAR</th>\n",
       "      <th>UPDATE_DEVICE_STATS</th>\n",
       "      <th>WRITE_CALL_LOG</th>\n",
       "      <th>DELETE_PACKAGES</th>\n",
       "      <th>GET_TASKS</th>\n",
       "      <th>GLOBAL_SEARCH</th>\n",
       "      <th>DELETE_CACHE_FILES</th>\n",
       "      <th>WRITE_USER_DICTIONARY</th>\n",
       "      <th>REORDER_TASKS</th>\n",
       "      <th>WRITE_PROFILE</th>\n",
       "      <th>SET_WALLPAPER</th>\n",
       "      <th>BIND_INPUT_METHOD</th>\n",
       "      <th>READ_SOCIAL_STREAM</th>\n",
       "      <th>READ_USER_DICTIONARY</th>\n",
       "      <th>PROCESS_OUTGOING_CALLS</th>\n",
       "      <th>CALL_PRIVILEGED</th>\n",
       "      <th>BIND_WALLPAPER</th>\n",
       "      <th>RECEIVE_WAP_PUSH</th>\n",
       "      <th>DUMP</th>\n",
       "      <th>BATTERY_STATS</th>\n",
       "      <th>ACCESS_COARSE_LOCATION</th>\n",
       "      <th>SET_TIME</th>\n",
       "      <th>WRITE_SOCIAL_STREAM</th>\n",
       "      <th>WRITE_SETTINGS</th>\n",
       "      <th>REBOOT</th>\n",
       "      <th>BLUETOOTH_ADMIN</th>\n",
       "      <th>BIND_DEVICE_ADMIN</th>\n",
       "      <th>WRITE_GSERVICES</th>\n",
       "      <th>KILL_BACKGROUND_PROCESSES</th>\n",
       "      <th>CLEAR_APP_USER_DATA</th>\n",
       "      <th>STATUS_BAR</th>\n",
       "      <th>PERSISTENT_ACTIVITY</th>\n",
       "      <th>CHANGE_NETWORK_STATE</th>\n",
       "      <th>RECEIVE_MMS</th>\n",
       "      <th>SET_TIME_ZONE</th>\n",
       "      <th>CONTROL_LOCATION_UPDATES</th>\n",
       "      <th>BROADCAST_WAP_PUSH</th>\n",
       "      <th>BIND_ACCESSIBILITY_SERVICE</th>\n",
       "      <th>ADD_VOICEMAIL</th>\n",
       "      <th>CALL_PHONE</th>\n",
       "      <th>BIND_APPWIDGET</th>\n",
       "      <th>FLASHLIGHT</th>\n",
       "      <th>READ_LOGS</th>\n",
       "      <th>SET_PROCESS_LIMIT</th>\n",
       "      <th>MOUNT_UNMOUNT_FILESYSTEMS</th>\n",
       "      <th>BIND_TEXT_SERVICE</th>\n",
       "      <th>INSTALL_LOCATION_PROVIDER</th>\n",
       "      <th>SYSTEM_ALERT_WINDOW</th>\n",
       "      <th>MOUNT_FORMAT_FILESYSTEMS</th>\n",
       "      <th>CHANGE_CONFIGURATION</th>\n",
       "      <th>CHANGE_WIFI_STATE</th>\n",
       "      <th>READ_FRAME_BUFFER</th>\n",
       "      <th>ACCESS_SURFACE_FLINGER</th>\n",
       "      <th>BROADCAST_SMS</th>\n",
       "      <th>EXPAND_STATUS_BAR</th>\n",
       "      <th>INTERNAL_SYSTEM_WINDOW</th>\n",
       "      <th>SET_ACTIVITY_WATCHER</th>\n",
       "      <th>WRITE_CONTACTS</th>\n",
       "      <th>BIND_VPN_SERVICE</th>\n",
       "      <th>DISABLE_KEYGUARD</th>\n",
       "      <th>ACCESS_MOCK_LOCATION</th>\n",
       "      <th>GET_PACKAGE_SIZE</th>\n",
       "      <th>MODIFY_PHONE_STATE</th>\n",
       "      <th>CHANGE_COMPONENT_ENABLED_STATE</th>\n",
       "      <th>CLEAR_APP_CACHE</th>\n",
       "      <th>SET_ORIENTATION</th>\n",
       "      <th>READ_CONTACTS</th>\n",
       "      <th>DEVICE_POWER</th>\n",
       "      <th>HARDWARE_TEST</th>\n",
       "      <th>ACCESS_WIFI_STATE</th>\n",
       "      <th>WRITE_EXTERNAL_STORAGE</th>\n",
       "      <th>ACCESS_FINE_LOCATION</th>\n",
       "      <th>SET_WALLPAPER_HINTS</th>\n",
       "      <th>SET_PREFERRED_APPLICATIONS</th>\n",
       "      <th>WRITE_SECURE_SETTINGS</th>\n",
       "      <th>class</th>\n",
       "    </tr>\n",
       "  </thead>\n",
       "  <tbody>\n",
       "    <tr>\n",
       "      <th>0</th>\n",
       "      <td>0</td>\n",
       "      <td>1</td>\n",
       "      <td>1</td>\n",
       "      <td>0</td>\n",
       "      <td>0</td>\n",
       "      <td>0</td>\n",
       "      <td>0</td>\n",
       "      <td>0</td>\n",
       "      <td>0</td>\n",
       "      <td>0</td>\n",
       "      <td>1</td>\n",
       "      <td>0</td>\n",
       "      <td>0</td>\n",
       "      <td>0</td>\n",
       "      <td>1</td>\n",
       "      <td>1</td>\n",
       "      <td>0</td>\n",
       "      <td>0</td>\n",
       "      <td>0</td>\n",
       "      <td>0</td>\n",
       "      <td>0</td>\n",
       "      <td>0</td>\n",
       "      <td>0</td>\n",
       "      <td>0</td>\n",
       "      <td>0</td>\n",
       "      <td>1</td>\n",
       "      <td>1</td>\n",
       "      <td>0</td>\n",
       "      <td>0</td>\n",
       "      <td>0</td>\n",
       "      <td>0</td>\n",
       "      <td>0</td>\n",
       "      <td>0</td>\n",
       "      <td>0</td>\n",
       "      <td>1</td>\n",
       "      <td>0</td>\n",
       "      <td>0</td>\n",
       "      <td>0</td>\n",
       "      <td>0</td>\n",
       "      <td>0</td>\n",
       "      <td>0</td>\n",
       "      <td>0</td>\n",
       "      <td>0</td>\n",
       "      <td>0</td>\n",
       "      <td>0</td>\n",
       "      <td>0</td>\n",
       "      <td>0</td>\n",
       "      <td>0</td>\n",
       "      <td>1</td>\n",
       "      <td>0</td>\n",
       "      <td>0</td>\n",
       "      <td>0</td>\n",
       "      <td>0</td>\n",
       "      <td>0</td>\n",
       "      <td>0</td>\n",
       "      <td>0</td>\n",
       "      <td>0</td>\n",
       "      <td>0</td>\n",
       "      <td>0</td>\n",
       "      <td>0</td>\n",
       "      <td>0</td>\n",
       "      <td>0</td>\n",
       "      <td>0</td>\n",
       "      <td>0</td>\n",
       "      <td>0</td>\n",
       "      <td>0</td>\n",
       "      <td>0</td>\n",
       "      <td>0</td>\n",
       "      <td>0</td>\n",
       "      <td>0</td>\n",
       "      <td>0</td>\n",
       "      <td>0</td>\n",
       "      <td>0</td>\n",
       "      <td>0</td>\n",
       "      <td>0</td>\n",
       "      <td>0</td>\n",
       "      <td>0</td>\n",
       "      <td>1</td>\n",
       "      <td>0</td>\n",
       "      <td>0</td>\n",
       "      <td>0</td>\n",
       "      <td>0</td>\n",
       "      <td>0</td>\n",
       "      <td>0</td>\n",
       "      <td>0</td>\n",
       "      <td>0</td>\n",
       "      <td>0</td>\n",
       "      <td>0</td>\n",
       "      <td>0</td>\n",
       "      <td>0</td>\n",
       "      <td>0</td>\n",
       "      <td>0</td>\n",
       "      <td>0</td>\n",
       "      <td>0</td>\n",
       "      <td>0</td>\n",
       "      <td>0</td>\n",
       "      <td>0</td>\n",
       "      <td>0</td>\n",
       "      <td>0</td>\n",
       "      <td>0</td>\n",
       "      <td>0</td>\n",
       "      <td>0</td>\n",
       "      <td>0</td>\n",
       "      <td>0</td>\n",
       "      <td>0</td>\n",
       "      <td>0</td>\n",
       "      <td>0</td>\n",
       "      <td>1</td>\n",
       "      <td>0</td>\n",
       "      <td>0</td>\n",
       "      <td>0</td>\n",
       "      <td>0</td>\n",
       "      <td>0</td>\n",
       "      <td>1</td>\n",
       "    </tr>\n",
       "    <tr>\n",
       "      <th>1</th>\n",
       "      <td>0</td>\n",
       "      <td>0</td>\n",
       "      <td>0</td>\n",
       "      <td>0</td>\n",
       "      <td>0</td>\n",
       "      <td>0</td>\n",
       "      <td>0</td>\n",
       "      <td>0</td>\n",
       "      <td>0</td>\n",
       "      <td>0</td>\n",
       "      <td>0</td>\n",
       "      <td>0</td>\n",
       "      <td>0</td>\n",
       "      <td>0</td>\n",
       "      <td>0</td>\n",
       "      <td>0</td>\n",
       "      <td>0</td>\n",
       "      <td>0</td>\n",
       "      <td>0</td>\n",
       "      <td>0</td>\n",
       "      <td>0</td>\n",
       "      <td>0</td>\n",
       "      <td>0</td>\n",
       "      <td>0</td>\n",
       "      <td>0</td>\n",
       "      <td>0</td>\n",
       "      <td>0</td>\n",
       "      <td>0</td>\n",
       "      <td>0</td>\n",
       "      <td>0</td>\n",
       "      <td>0</td>\n",
       "      <td>0</td>\n",
       "      <td>0</td>\n",
       "      <td>0</td>\n",
       "      <td>0</td>\n",
       "      <td>0</td>\n",
       "      <td>0</td>\n",
       "      <td>0</td>\n",
       "      <td>0</td>\n",
       "      <td>0</td>\n",
       "      <td>0</td>\n",
       "      <td>0</td>\n",
       "      <td>0</td>\n",
       "      <td>0</td>\n",
       "      <td>0</td>\n",
       "      <td>0</td>\n",
       "      <td>0</td>\n",
       "      <td>0</td>\n",
       "      <td>0</td>\n",
       "      <td>0</td>\n",
       "      <td>0</td>\n",
       "      <td>0</td>\n",
       "      <td>0</td>\n",
       "      <td>0</td>\n",
       "      <td>0</td>\n",
       "      <td>0</td>\n",
       "      <td>0</td>\n",
       "      <td>0</td>\n",
       "      <td>0</td>\n",
       "      <td>0</td>\n",
       "      <td>0</td>\n",
       "      <td>0</td>\n",
       "      <td>0</td>\n",
       "      <td>0</td>\n",
       "      <td>0</td>\n",
       "      <td>0</td>\n",
       "      <td>0</td>\n",
       "      <td>0</td>\n",
       "      <td>0</td>\n",
       "      <td>0</td>\n",
       "      <td>0</td>\n",
       "      <td>0</td>\n",
       "      <td>0</td>\n",
       "      <td>0</td>\n",
       "      <td>0</td>\n",
       "      <td>0</td>\n",
       "      <td>0</td>\n",
       "      <td>0</td>\n",
       "      <td>0</td>\n",
       "      <td>0</td>\n",
       "      <td>0</td>\n",
       "      <td>0</td>\n",
       "      <td>0</td>\n",
       "      <td>0</td>\n",
       "      <td>0</td>\n",
       "      <td>0</td>\n",
       "      <td>0</td>\n",
       "      <td>0</td>\n",
       "      <td>0</td>\n",
       "      <td>0</td>\n",
       "      <td>0</td>\n",
       "      <td>0</td>\n",
       "      <td>0</td>\n",
       "      <td>0</td>\n",
       "      <td>0</td>\n",
       "      <td>0</td>\n",
       "      <td>0</td>\n",
       "      <td>0</td>\n",
       "      <td>0</td>\n",
       "      <td>0</td>\n",
       "      <td>0</td>\n",
       "      <td>0</td>\n",
       "      <td>0</td>\n",
       "      <td>0</td>\n",
       "      <td>0</td>\n",
       "      <td>0</td>\n",
       "      <td>0</td>\n",
       "      <td>0</td>\n",
       "      <td>0</td>\n",
       "      <td>0</td>\n",
       "      <td>0</td>\n",
       "      <td>0</td>\n",
       "      <td>0</td>\n",
       "      <td>0</td>\n",
       "    </tr>\n",
       "    <tr>\n",
       "      <th>2</th>\n",
       "      <td>1</td>\n",
       "      <td>1</td>\n",
       "      <td>0</td>\n",
       "      <td>1</td>\n",
       "      <td>1</td>\n",
       "      <td>0</td>\n",
       "      <td>0</td>\n",
       "      <td>1</td>\n",
       "      <td>0</td>\n",
       "      <td>0</td>\n",
       "      <td>1</td>\n",
       "      <td>0</td>\n",
       "      <td>0</td>\n",
       "      <td>0</td>\n",
       "      <td>1</td>\n",
       "      <td>1</td>\n",
       "      <td>0</td>\n",
       "      <td>0</td>\n",
       "      <td>0</td>\n",
       "      <td>0</td>\n",
       "      <td>0</td>\n",
       "      <td>0</td>\n",
       "      <td>1</td>\n",
       "      <td>0</td>\n",
       "      <td>0</td>\n",
       "      <td>0</td>\n",
       "      <td>1</td>\n",
       "      <td>0</td>\n",
       "      <td>0</td>\n",
       "      <td>1</td>\n",
       "      <td>0</td>\n",
       "      <td>0</td>\n",
       "      <td>0</td>\n",
       "      <td>0</td>\n",
       "      <td>1</td>\n",
       "      <td>0</td>\n",
       "      <td>0</td>\n",
       "      <td>1</td>\n",
       "      <td>0</td>\n",
       "      <td>0</td>\n",
       "      <td>0</td>\n",
       "      <td>0</td>\n",
       "      <td>0</td>\n",
       "      <td>0</td>\n",
       "      <td>1</td>\n",
       "      <td>0</td>\n",
       "      <td>0</td>\n",
       "      <td>0</td>\n",
       "      <td>0</td>\n",
       "      <td>0</td>\n",
       "      <td>0</td>\n",
       "      <td>0</td>\n",
       "      <td>1</td>\n",
       "      <td>1</td>\n",
       "      <td>0</td>\n",
       "      <td>0</td>\n",
       "      <td>0</td>\n",
       "      <td>0</td>\n",
       "      <td>1</td>\n",
       "      <td>0</td>\n",
       "      <td>0</td>\n",
       "      <td>1</td>\n",
       "      <td>0</td>\n",
       "      <td>0</td>\n",
       "      <td>0</td>\n",
       "      <td>0</td>\n",
       "      <td>0</td>\n",
       "      <td>0</td>\n",
       "      <td>0</td>\n",
       "      <td>0</td>\n",
       "      <td>1</td>\n",
       "      <td>0</td>\n",
       "      <td>0</td>\n",
       "      <td>0</td>\n",
       "      <td>0</td>\n",
       "      <td>0</td>\n",
       "      <td>0</td>\n",
       "      <td>1</td>\n",
       "      <td>0</td>\n",
       "      <td>0</td>\n",
       "      <td>1</td>\n",
       "      <td>0</td>\n",
       "      <td>0</td>\n",
       "      <td>0</td>\n",
       "      <td>0</td>\n",
       "      <td>0</td>\n",
       "      <td>0</td>\n",
       "      <td>0</td>\n",
       "      <td>1</td>\n",
       "      <td>0</td>\n",
       "      <td>0</td>\n",
       "      <td>0</td>\n",
       "      <td>0</td>\n",
       "      <td>0</td>\n",
       "      <td>0</td>\n",
       "      <td>1</td>\n",
       "      <td>0</td>\n",
       "      <td>1</td>\n",
       "      <td>0</td>\n",
       "      <td>0</td>\n",
       "      <td>1</td>\n",
       "      <td>0</td>\n",
       "      <td>0</td>\n",
       "      <td>0</td>\n",
       "      <td>1</td>\n",
       "      <td>0</td>\n",
       "      <td>0</td>\n",
       "      <td>1</td>\n",
       "      <td>1</td>\n",
       "      <td>1</td>\n",
       "      <td>0</td>\n",
       "      <td>0</td>\n",
       "      <td>1</td>\n",
       "      <td>1</td>\n",
       "    </tr>\n",
       "    <tr>\n",
       "      <th>3</th>\n",
       "      <td>0</td>\n",
       "      <td>0</td>\n",
       "      <td>0</td>\n",
       "      <td>0</td>\n",
       "      <td>0</td>\n",
       "      <td>0</td>\n",
       "      <td>0</td>\n",
       "      <td>0</td>\n",
       "      <td>0</td>\n",
       "      <td>0</td>\n",
       "      <td>0</td>\n",
       "      <td>0</td>\n",
       "      <td>0</td>\n",
       "      <td>0</td>\n",
       "      <td>0</td>\n",
       "      <td>1</td>\n",
       "      <td>0</td>\n",
       "      <td>0</td>\n",
       "      <td>0</td>\n",
       "      <td>0</td>\n",
       "      <td>0</td>\n",
       "      <td>0</td>\n",
       "      <td>0</td>\n",
       "      <td>0</td>\n",
       "      <td>0</td>\n",
       "      <td>1</td>\n",
       "      <td>0</td>\n",
       "      <td>0</td>\n",
       "      <td>0</td>\n",
       "      <td>0</td>\n",
       "      <td>0</td>\n",
       "      <td>0</td>\n",
       "      <td>0</td>\n",
       "      <td>0</td>\n",
       "      <td>0</td>\n",
       "      <td>0</td>\n",
       "      <td>0</td>\n",
       "      <td>0</td>\n",
       "      <td>0</td>\n",
       "      <td>0</td>\n",
       "      <td>0</td>\n",
       "      <td>0</td>\n",
       "      <td>0</td>\n",
       "      <td>0</td>\n",
       "      <td>0</td>\n",
       "      <td>0</td>\n",
       "      <td>0</td>\n",
       "      <td>0</td>\n",
       "      <td>0</td>\n",
       "      <td>0</td>\n",
       "      <td>0</td>\n",
       "      <td>0</td>\n",
       "      <td>0</td>\n",
       "      <td>0</td>\n",
       "      <td>0</td>\n",
       "      <td>0</td>\n",
       "      <td>0</td>\n",
       "      <td>0</td>\n",
       "      <td>0</td>\n",
       "      <td>0</td>\n",
       "      <td>0</td>\n",
       "      <td>0</td>\n",
       "      <td>0</td>\n",
       "      <td>0</td>\n",
       "      <td>0</td>\n",
       "      <td>0</td>\n",
       "      <td>0</td>\n",
       "      <td>0</td>\n",
       "      <td>0</td>\n",
       "      <td>0</td>\n",
       "      <td>0</td>\n",
       "      <td>0</td>\n",
       "      <td>0</td>\n",
       "      <td>0</td>\n",
       "      <td>0</td>\n",
       "      <td>0</td>\n",
       "      <td>0</td>\n",
       "      <td>0</td>\n",
       "      <td>0</td>\n",
       "      <td>0</td>\n",
       "      <td>0</td>\n",
       "      <td>0</td>\n",
       "      <td>0</td>\n",
       "      <td>0</td>\n",
       "      <td>0</td>\n",
       "      <td>0</td>\n",
       "      <td>0</td>\n",
       "      <td>0</td>\n",
       "      <td>1</td>\n",
       "      <td>0</td>\n",
       "      <td>0</td>\n",
       "      <td>0</td>\n",
       "      <td>0</td>\n",
       "      <td>0</td>\n",
       "      <td>0</td>\n",
       "      <td>0</td>\n",
       "      <td>0</td>\n",
       "      <td>0</td>\n",
       "      <td>0</td>\n",
       "      <td>0</td>\n",
       "      <td>0</td>\n",
       "      <td>0</td>\n",
       "      <td>0</td>\n",
       "      <td>0</td>\n",
       "      <td>0</td>\n",
       "      <td>0</td>\n",
       "      <td>0</td>\n",
       "      <td>1</td>\n",
       "      <td>1</td>\n",
       "      <td>0</td>\n",
       "      <td>0</td>\n",
       "      <td>0</td>\n",
       "      <td>0</td>\n",
       "      <td>1</td>\n",
       "    </tr>\n",
       "    <tr>\n",
       "      <th>4</th>\n",
       "      <td>0</td>\n",
       "      <td>1</td>\n",
       "      <td>1</td>\n",
       "      <td>1</td>\n",
       "      <td>1</td>\n",
       "      <td>1</td>\n",
       "      <td>1</td>\n",
       "      <td>0</td>\n",
       "      <td>1</td>\n",
       "      <td>1</td>\n",
       "      <td>0</td>\n",
       "      <td>0</td>\n",
       "      <td>1</td>\n",
       "      <td>1</td>\n",
       "      <td>0</td>\n",
       "      <td>1</td>\n",
       "      <td>1</td>\n",
       "      <td>0</td>\n",
       "      <td>0</td>\n",
       "      <td>0</td>\n",
       "      <td>0</td>\n",
       "      <td>1</td>\n",
       "      <td>0</td>\n",
       "      <td>0</td>\n",
       "      <td>1</td>\n",
       "      <td>1</td>\n",
       "      <td>1</td>\n",
       "      <td>0</td>\n",
       "      <td>1</td>\n",
       "      <td>0</td>\n",
       "      <td>1</td>\n",
       "      <td>1</td>\n",
       "      <td>1</td>\n",
       "      <td>1</td>\n",
       "      <td>1</td>\n",
       "      <td>1</td>\n",
       "      <td>0</td>\n",
       "      <td>0</td>\n",
       "      <td>0</td>\n",
       "      <td>0</td>\n",
       "      <td>0</td>\n",
       "      <td>0</td>\n",
       "      <td>1</td>\n",
       "      <td>0</td>\n",
       "      <td>0</td>\n",
       "      <td>0</td>\n",
       "      <td>0</td>\n",
       "      <td>1</td>\n",
       "      <td>0</td>\n",
       "      <td>0</td>\n",
       "      <td>1</td>\n",
       "      <td>0</td>\n",
       "      <td>0</td>\n",
       "      <td>1</td>\n",
       "      <td>0</td>\n",
       "      <td>0</td>\n",
       "      <td>1</td>\n",
       "      <td>0</td>\n",
       "      <td>1</td>\n",
       "      <td>0</td>\n",
       "      <td>1</td>\n",
       "      <td>1</td>\n",
       "      <td>1</td>\n",
       "      <td>1</td>\n",
       "      <td>1</td>\n",
       "      <td>0</td>\n",
       "      <td>0</td>\n",
       "      <td>0</td>\n",
       "      <td>0</td>\n",
       "      <td>0</td>\n",
       "      <td>1</td>\n",
       "      <td>0</td>\n",
       "      <td>0</td>\n",
       "      <td>0</td>\n",
       "      <td>0</td>\n",
       "      <td>0</td>\n",
       "      <td>0</td>\n",
       "      <td>1</td>\n",
       "      <td>0</td>\n",
       "      <td>0</td>\n",
       "      <td>1</td>\n",
       "      <td>0</td>\n",
       "      <td>0</td>\n",
       "      <td>0</td>\n",
       "      <td>0</td>\n",
       "      <td>1</td>\n",
       "      <td>0</td>\n",
       "      <td>0</td>\n",
       "      <td>1</td>\n",
       "      <td>1</td>\n",
       "      <td>0</td>\n",
       "      <td>0</td>\n",
       "      <td>0</td>\n",
       "      <td>0</td>\n",
       "      <td>0</td>\n",
       "      <td>1</td>\n",
       "      <td>0</td>\n",
       "      <td>1</td>\n",
       "      <td>0</td>\n",
       "      <td>0</td>\n",
       "      <td>1</td>\n",
       "      <td>0</td>\n",
       "      <td>0</td>\n",
       "      <td>0</td>\n",
       "      <td>1</td>\n",
       "      <td>0</td>\n",
       "      <td>0</td>\n",
       "      <td>1</td>\n",
       "      <td>1</td>\n",
       "      <td>1</td>\n",
       "      <td>0</td>\n",
       "      <td>0</td>\n",
       "      <td>1</td>\n",
       "      <td>0</td>\n",
       "    </tr>\n",
       "  </tbody>\n",
       "</table>\n",
       "</div>"
      ],
      "text/plain": [
       "   SEND_SMS  READ_PHONE_STATE  GET_ACCOUNTS  RECEIVE_SMS  READ_SMS  \\\n",
       "0         0                 1             1            0         0   \n",
       "1         0                 0             0            0         0   \n",
       "2         1                 1             0            1         1   \n",
       "3         0                 0             0            0         0   \n",
       "4         0                 1             1            1         1   \n",
       "\n",
       "   USE_CREDENTIALS  MANAGE_ACCOUNTS  WRITE_SMS  READ_SYNC_SETTINGS  \\\n",
       "0                0                0          0                   0   \n",
       "1                0                0          0                   0   \n",
       "2                0                0          1                   0   \n",
       "3                0                0          0                   0   \n",
       "4                1                1          0                   1   \n",
       "\n",
       "   AUTHENTICATE_ACCOUNTS  WRITE_HISTORY_BOOKMARKS  INSTALL_PACKAGES  CAMERA  \\\n",
       "0                      0                        1                 0       0   \n",
       "1                      0                        0                 0       0   \n",
       "2                      0                        1                 0       0   \n",
       "3                      0                        0                 0       0   \n",
       "4                      1                        0                 0       1   \n",
       "\n",
       "   WRITE_SYNC_SETTINGS  READ_HISTORY_BOOKMARKS  INTERNET  RECORD_AUDIO  NFC  \\\n",
       "0                    0                       1         1             0    0   \n",
       "1                    0                       0         0             0    0   \n",
       "2                    0                       1         1             0    0   \n",
       "3                    0                       0         1             0    0   \n",
       "4                    1                       0         1             1    0   \n",
       "\n",
       "   ACCESS_LOCATION_EXTRA_COMMANDS  WRITE_APN_SETTINGS  BIND_REMOTEVIEWS  \\\n",
       "0                               0                   0                 0   \n",
       "1                               0                   0                 0   \n",
       "2                               0                   0                 0   \n",
       "3                               0                   0                 0   \n",
       "4                               0                   0                 0   \n",
       "\n",
       "   READ_PROFILE  MODIFY_AUDIO_SETTINGS  READ_SYNC_STATS  BROADCAST_STICKY  \\\n",
       "0             0                      0                0                 0   \n",
       "1             0                      0                0                 0   \n",
       "2             0                      1                0                 0   \n",
       "3             0                      0                0                 0   \n",
       "4             1                      0                0                 1   \n",
       "\n",
       "   WAKE_LOCK  RECEIVE_BOOT_COMPLETED  RESTART_PACKAGES  BLUETOOTH  \\\n",
       "0          1                       1                 0          0   \n",
       "1          0                       0                 0          0   \n",
       "2          0                       1                 0          0   \n",
       "3          1                       0                 0          0   \n",
       "4          1                       1                 0          1   \n",
       "\n",
       "   READ_CALENDAR  READ_CALL_LOG  SUBSCRIBED_FEEDS_WRITE  \\\n",
       "0              0              0                       0   \n",
       "1              0              0                       0   \n",
       "2              1              0                       0   \n",
       "3              0              0                       0   \n",
       "4              0              1                       1   \n",
       "\n",
       "   READ_EXTERNAL_STORAGE  VIBRATE  ACCESS_NETWORK_STATE  \\\n",
       "0                      0        0                     1   \n",
       "1                      0        0                     0   \n",
       "2                      0        0                     1   \n",
       "3                      0        0                     0   \n",
       "4                      1        1                     1   \n",
       "\n",
       "   SUBSCRIBED_FEEDS_READ  CHANGE_WIFI_MULTICAST_STATE  WRITE_CALENDAR  \\\n",
       "0                      0                            0               0   \n",
       "1                      0                            0               0   \n",
       "2                      0                            0               1   \n",
       "3                      0                            0               0   \n",
       "4                      1                            0               0   \n",
       "\n",
       "   MASTER_CLEAR  UPDATE_DEVICE_STATS  WRITE_CALL_LOG  DELETE_PACKAGES  \\\n",
       "0             0                    0               0                0   \n",
       "1             0                    0               0                0   \n",
       "2             0                    0               0                0   \n",
       "3             0                    0               0                0   \n",
       "4             0                    0               0                0   \n",
       "\n",
       "   GET_TASKS  GLOBAL_SEARCH  DELETE_CACHE_FILES  WRITE_USER_DICTIONARY  \\\n",
       "0          0              0                   0                      0   \n",
       "1          0              0                   0                      0   \n",
       "2          0              0                   1                      0   \n",
       "3          0              0                   0                      0   \n",
       "4          1              0                   0                      0   \n",
       "\n",
       "   REORDER_TASKS  WRITE_PROFILE  SET_WALLPAPER  BIND_INPUT_METHOD  \\\n",
       "0              0              0              1                  0   \n",
       "1              0              0              0                  0   \n",
       "2              0              0              0                  0   \n",
       "3              0              0              0                  0   \n",
       "4              0              1              0                  0   \n",
       "\n",
       "   READ_SOCIAL_STREAM  READ_USER_DICTIONARY  PROCESS_OUTGOING_CALLS  \\\n",
       "0                   0                     0                       0   \n",
       "1                   0                     0                       0   \n",
       "2                   0                     0                       1   \n",
       "3                   0                     0                       0   \n",
       "4                   1                     0                       0   \n",
       "\n",
       "   CALL_PRIVILEGED  BIND_WALLPAPER  RECEIVE_WAP_PUSH  DUMP  BATTERY_STATS  \\\n",
       "0                0               0                 0     0              0   \n",
       "1                0               0                 0     0              0   \n",
       "2                1               0                 0     0              0   \n",
       "3                0               0                 0     0              0   \n",
       "4                1               0                 0     1              0   \n",
       "\n",
       "   ACCESS_COARSE_LOCATION  SET_TIME  WRITE_SOCIAL_STREAM  WRITE_SETTINGS  \\\n",
       "0                       0         0                    0               0   \n",
       "1                       0         0                    0               0   \n",
       "2                       1         0                    0               1   \n",
       "3                       0         0                    0               0   \n",
       "4                       1         0                    1               1   \n",
       "\n",
       "   REBOOT  BLUETOOTH_ADMIN  BIND_DEVICE_ADMIN  WRITE_GSERVICES  \\\n",
       "0       0                0                  0                0   \n",
       "1       0                0                  0                0   \n",
       "2       0                0                  0                0   \n",
       "3       0                0                  0                0   \n",
       "4       1                1                  1                0   \n",
       "\n",
       "   KILL_BACKGROUND_PROCESSES  CLEAR_APP_USER_DATA  STATUS_BAR  \\\n",
       "0                          0                    0           0   \n",
       "1                          0                    0           0   \n",
       "2                          0                    0           0   \n",
       "3                          0                    0           0   \n",
       "4                          0                    0           0   \n",
       "\n",
       "   PERSISTENT_ACTIVITY  CHANGE_NETWORK_STATE  RECEIVE_MMS  SET_TIME_ZONE  \\\n",
       "0                    0                     0            0              0   \n",
       "1                    0                     0            0              0   \n",
       "2                    0                     1            0              0   \n",
       "3                    0                     0            0              0   \n",
       "4                    0                     1            0              0   \n",
       "\n",
       "   CONTROL_LOCATION_UPDATES  BROADCAST_WAP_PUSH  BIND_ACCESSIBILITY_SERVICE  \\\n",
       "0                         0                   0                           0   \n",
       "1                         0                   0                           0   \n",
       "2                         0                   0                           0   \n",
       "3                         0                   0                           0   \n",
       "4                         0                   0                           0   \n",
       "\n",
       "   ADD_VOICEMAIL  CALL_PHONE  BIND_APPWIDGET  FLASHLIGHT  READ_LOGS  \\\n",
       "0              0           1               0           0          0   \n",
       "1              0           0               0           0          0   \n",
       "2              0           1               0           0          1   \n",
       "3              0           0               0           0          0   \n",
       "4              0           1               0           0          1   \n",
       "\n",
       "   SET_PROCESS_LIMIT  MOUNT_UNMOUNT_FILESYSTEMS  BIND_TEXT_SERVICE  \\\n",
       "0                  0                          0                  0   \n",
       "1                  0                          0                  0   \n",
       "2                  0                          0                  0   \n",
       "3                  0                          0                  0   \n",
       "4                  0                          0                  0   \n",
       "\n",
       "   INSTALL_LOCATION_PROVIDER  SYSTEM_ALERT_WINDOW  MOUNT_FORMAT_FILESYSTEMS  \\\n",
       "0                          0                    0                         0   \n",
       "1                          0                    0                         0   \n",
       "2                          0                    0                         0   \n",
       "3                          0                    0                         0   \n",
       "4                          0                    1                         0   \n",
       "\n",
       "   CHANGE_CONFIGURATION  CHANGE_WIFI_STATE  READ_FRAME_BUFFER  \\\n",
       "0                     0                  0                  0   \n",
       "1                     0                  0                  0   \n",
       "2                     0                  1                  0   \n",
       "3                     0                  1                  0   \n",
       "4                     0                  1                  1   \n",
       "\n",
       "   ACCESS_SURFACE_FLINGER  BROADCAST_SMS  EXPAND_STATUS_BAR  \\\n",
       "0                       0              0                  0   \n",
       "1                       0              0                  0   \n",
       "2                       0              0                  0   \n",
       "3                       0              0                  0   \n",
       "4                       0              0                  0   \n",
       "\n",
       "   INTERNAL_SYSTEM_WINDOW  SET_ACTIVITY_WATCHER  WRITE_CONTACTS  \\\n",
       "0                       0                     0               0   \n",
       "1                       0                     0               0   \n",
       "2                       0                     0               1   \n",
       "3                       0                     0               0   \n",
       "4                       0                     0               1   \n",
       "\n",
       "   BIND_VPN_SERVICE  DISABLE_KEYGUARD  ACCESS_MOCK_LOCATION  GET_PACKAGE_SIZE  \\\n",
       "0                 0                 0                     0                 0   \n",
       "1                 0                 0                     0                 0   \n",
       "2                 0                 1                     0                 0   \n",
       "3                 0                 0                     0                 0   \n",
       "4                 0                 1                     0                 0   \n",
       "\n",
       "   MODIFY_PHONE_STATE  CHANGE_COMPONENT_ENABLED_STATE  CLEAR_APP_CACHE  \\\n",
       "0                   0                               0                0   \n",
       "1                   0                               0                0   \n",
       "2                   1                               0                0   \n",
       "3                   0                               0                0   \n",
       "4                   1                               0                0   \n",
       "\n",
       "   SET_ORIENTATION  READ_CONTACTS  DEVICE_POWER  HARDWARE_TEST  \\\n",
       "0                0              0             0              0   \n",
       "1                0              0             0              0   \n",
       "2                0              1             0              0   \n",
       "3                0              0             0              0   \n",
       "4                0              1             0              0   \n",
       "\n",
       "   ACCESS_WIFI_STATE  WRITE_EXTERNAL_STORAGE  ACCESS_FINE_LOCATION  \\\n",
       "0                  1                       0                     0   \n",
       "1                  0                       0                     0   \n",
       "2                  1                       1                     1   \n",
       "3                  1                       1                     0   \n",
       "4                  1                       1                     1   \n",
       "\n",
       "   SET_WALLPAPER_HINTS  SET_PREFERRED_APPLICATIONS  WRITE_SECURE_SETTINGS  \\\n",
       "0                    0                           0                      0   \n",
       "1                    0                           0                      0   \n",
       "2                    0                           0                      1   \n",
       "3                    0                           0                      0   \n",
       "4                    0                           0                      1   \n",
       "\n",
       "   class  \n",
       "0      1  \n",
       "1      0  \n",
       "2      1  \n",
       "3      1  \n",
       "4      0  "
      ]
     },
     "execution_count": 5,
     "metadata": {},
     "output_type": "execute_result"
    }
   ],
   "source": [
    "drebin.head()"
   ]
  },
  {
   "cell_type": "markdown",
   "metadata": {
    "cell_id": "00006-e50cdea0-5107-406e-b6c0-f481fe2c13a1",
    "deepnote_cell_type": "text-cell-h3",
    "is_collapsed": false,
    "tags": []
   },
   "source": [
    "### Androcrawl (2014/2015)"
   ]
  },
  {
   "cell_type": "code",
   "execution_count": null,
   "metadata": {
    "cell_id": "00007-52910843-ab22-4d1d-b3e7-9d39945fe920",
    "deepnote_cell_type": "code",
    "deepnote_to_be_reexecuted": false,
    "execution_millis": 134,
    "execution_start": 1631227557183,
    "source_hash": "7fe51a23",
    "tags": []
   },
   "outputs": [
    {
     "data": {
      "application/vnd.deepnote.dataframe.v2+json": {
       "column_count": 59,
       "columns": [
        {
         "dtype": "int64",
         "name": "ACCESS_SUPERUSER",
         "stats": {
          "histogram": [
           {
            "bin_end": -0.4,
            "bin_start": -0.5,
            "count": 0
           },
           {
            "bin_end": -0.3,
            "bin_start": -0.4,
            "count": 0
           },
           {
            "bin_end": -0.19999999999999996,
            "bin_start": -0.3,
            "count": 0
           },
           {
            "bin_end": -0.09999999999999998,
            "bin_start": -0.19999999999999996,
            "count": 0
           },
           {
            "bin_end": 0,
            "bin_start": -0.09999999999999998,
            "count": 0
           },
           {
            "bin_end": 0.10000000000000009,
            "bin_start": 0,
            "count": 5
           },
           {
            "bin_end": 0.20000000000000007,
            "bin_start": 0.10000000000000009,
            "count": 0
           },
           {
            "bin_end": 0.30000000000000004,
            "bin_start": 0.20000000000000007,
            "count": 0
           },
           {
            "bin_end": 0.4,
            "bin_start": 0.30000000000000004,
            "count": 0
           },
           {
            "bin_end": 0.5,
            "bin_start": 0.4,
            "count": 0
           }
          ],
          "max": "0",
          "min": "0",
          "nan_count": 0,
          "unique_count": 1
         }
        },
        {
         "dtype": "int64",
         "name": "BLUETOOTH_PRIVILEGED",
         "stats": {
          "histogram": [
           {
            "bin_end": -0.4,
            "bin_start": -0.5,
            "count": 0
           },
           {
            "bin_end": -0.3,
            "bin_start": -0.4,
            "count": 0
           },
           {
            "bin_end": -0.19999999999999996,
            "bin_start": -0.3,
            "count": 0
           },
           {
            "bin_end": -0.09999999999999998,
            "bin_start": -0.19999999999999996,
            "count": 0
           },
           {
            "bin_end": 0,
            "bin_start": -0.09999999999999998,
            "count": 0
           },
           {
            "bin_end": 0.10000000000000009,
            "bin_start": 0,
            "count": 5
           },
           {
            "bin_end": 0.20000000000000007,
            "bin_start": 0.10000000000000009,
            "count": 0
           },
           {
            "bin_end": 0.30000000000000004,
            "bin_start": 0.20000000000000007,
            "count": 0
           },
           {
            "bin_end": 0.4,
            "bin_start": 0.30000000000000004,
            "count": 0
           },
           {
            "bin_end": 0.5,
            "bin_start": 0.4,
            "count": 0
           }
          ],
          "max": "0",
          "min": "0",
          "nan_count": 0,
          "unique_count": 1
         }
        },
        {
         "dtype": "int64",
         "name": "BRICK",
         "stats": {
          "histogram": [
           {
            "bin_end": -0.4,
            "bin_start": -0.5,
            "count": 0
           },
           {
            "bin_end": -0.3,
            "bin_start": -0.4,
            "count": 0
           },
           {
            "bin_end": -0.19999999999999996,
            "bin_start": -0.3,
            "count": 0
           },
           {
            "bin_end": -0.09999999999999998,
            "bin_start": -0.19999999999999996,
            "count": 0
           },
           {
            "bin_end": 0,
            "bin_start": -0.09999999999999998,
            "count": 0
           },
           {
            "bin_end": 0.10000000000000009,
            "bin_start": 0,
            "count": 5
           },
           {
            "bin_end": 0.20000000000000007,
            "bin_start": 0.10000000000000009,
            "count": 0
           },
           {
            "bin_end": 0.30000000000000004,
            "bin_start": 0.20000000000000007,
            "count": 0
           },
           {
            "bin_end": 0.4,
            "bin_start": 0.30000000000000004,
            "count": 0
           },
           {
            "bin_end": 0.5,
            "bin_start": 0.4,
            "count": 0
           }
          ],
          "max": "0",
          "min": "0",
          "nan_count": 0,
          "unique_count": 1
         }
        },
        {
         "dtype": "int64",
         "name": "CHANGE_COMPONENT_ENABLED_STATE",
         "stats": {
          "histogram": [
           {
            "bin_end": -0.4,
            "bin_start": -0.5,
            "count": 0
           },
           {
            "bin_end": -0.3,
            "bin_start": -0.4,
            "count": 0
           },
           {
            "bin_end": -0.19999999999999996,
            "bin_start": -0.3,
            "count": 0
           },
           {
            "bin_end": -0.09999999999999998,
            "bin_start": -0.19999999999999996,
            "count": 0
           },
           {
            "bin_end": 0,
            "bin_start": -0.09999999999999998,
            "count": 0
           },
           {
            "bin_end": 0.10000000000000009,
            "bin_start": 0,
            "count": 5
           },
           {
            "bin_end": 0.20000000000000007,
            "bin_start": 0.10000000000000009,
            "count": 0
           },
           {
            "bin_end": 0.30000000000000004,
            "bin_start": 0.20000000000000007,
            "count": 0
           },
           {
            "bin_end": 0.4,
            "bin_start": 0.30000000000000004,
            "count": 0
           },
           {
            "bin_end": 0.5,
            "bin_start": 0.4,
            "count": 0
           }
          ],
          "max": "0",
          "min": "0",
          "nan_count": 0,
          "unique_count": 1
         }
        },
        {
         "dtype": "int64",
         "name": "CLEAR_APP_USER_DATA",
         "stats": {
          "histogram": [
           {
            "bin_end": -0.4,
            "bin_start": -0.5,
            "count": 0
           },
           {
            "bin_end": -0.3,
            "bin_start": -0.4,
            "count": 0
           },
           {
            "bin_end": -0.19999999999999996,
            "bin_start": -0.3,
            "count": 0
           },
           {
            "bin_end": -0.09999999999999998,
            "bin_start": -0.19999999999999996,
            "count": 0
           },
           {
            "bin_end": 0,
            "bin_start": -0.09999999999999998,
            "count": 0
           },
           {
            "bin_end": 0.10000000000000009,
            "bin_start": 0,
            "count": 5
           },
           {
            "bin_end": 0.20000000000000007,
            "bin_start": 0.10000000000000009,
            "count": 0
           },
           {
            "bin_end": 0.30000000000000004,
            "bin_start": 0.20000000000000007,
            "count": 0
           },
           {
            "bin_end": 0.4,
            "bin_start": 0.30000000000000004,
            "count": 0
           },
           {
            "bin_end": 0.5,
            "bin_start": 0.4,
            "count": 0
           }
          ],
          "max": "0",
          "min": "0",
          "nan_count": 0,
          "unique_count": 1
         }
        },
        {
         "dtype": "int64",
         "name": "DELETE_CACHE_FILES",
         "stats": {
          "histogram": [
           {
            "bin_end": -0.4,
            "bin_start": -0.5,
            "count": 0
           },
           {
            "bin_end": -0.3,
            "bin_start": -0.4,
            "count": 0
           },
           {
            "bin_end": -0.19999999999999996,
            "bin_start": -0.3,
            "count": 0
           },
           {
            "bin_end": -0.09999999999999998,
            "bin_start": -0.19999999999999996,
            "count": 0
           },
           {
            "bin_end": 0,
            "bin_start": -0.09999999999999998,
            "count": 0
           },
           {
            "bin_end": 0.10000000000000009,
            "bin_start": 0,
            "count": 5
           },
           {
            "bin_end": 0.20000000000000007,
            "bin_start": 0.10000000000000009,
            "count": 0
           },
           {
            "bin_end": 0.30000000000000004,
            "bin_start": 0.20000000000000007,
            "count": 0
           },
           {
            "bin_end": 0.4,
            "bin_start": 0.30000000000000004,
            "count": 0
           },
           {
            "bin_end": 0.5,
            "bin_start": 0.4,
            "count": 0
           }
          ],
          "max": "0",
          "min": "0",
          "nan_count": 0,
          "unique_count": 1
         }
        },
        {
         "dtype": "int64",
         "name": "DELETE_PACKAGES",
         "stats": {
          "histogram": [
           {
            "bin_end": -0.4,
            "bin_start": -0.5,
            "count": 0
           },
           {
            "bin_end": -0.3,
            "bin_start": -0.4,
            "count": 0
           },
           {
            "bin_end": -0.19999999999999996,
            "bin_start": -0.3,
            "count": 0
           },
           {
            "bin_end": -0.09999999999999998,
            "bin_start": -0.19999999999999996,
            "count": 0
           },
           {
            "bin_end": 0,
            "bin_start": -0.09999999999999998,
            "count": 0
           },
           {
            "bin_end": 0.10000000000000009,
            "bin_start": 0,
            "count": 5
           },
           {
            "bin_end": 0.20000000000000007,
            "bin_start": 0.10000000000000009,
            "count": 0
           },
           {
            "bin_end": 0.30000000000000004,
            "bin_start": 0.20000000000000007,
            "count": 0
           },
           {
            "bin_end": 0.4,
            "bin_start": 0.30000000000000004,
            "count": 0
           },
           {
            "bin_end": 0.5,
            "bin_start": 0.4,
            "count": 0
           }
          ],
          "max": "0",
          "min": "0",
          "nan_count": 0,
          "unique_count": 1
         }
        },
        {
         "dtype": "int64",
         "name": "DISABLE_KEYGUARD",
         "stats": {
          "histogram": [
           {
            "bin_end": -0.4,
            "bin_start": -0.5,
            "count": 0
           },
           {
            "bin_end": -0.3,
            "bin_start": -0.4,
            "count": 0
           },
           {
            "bin_end": -0.19999999999999996,
            "bin_start": -0.3,
            "count": 0
           },
           {
            "bin_end": -0.09999999999999998,
            "bin_start": -0.19999999999999996,
            "count": 0
           },
           {
            "bin_end": 0,
            "bin_start": -0.09999999999999998,
            "count": 0
           },
           {
            "bin_end": 0.10000000000000009,
            "bin_start": 0,
            "count": 5
           },
           {
            "bin_end": 0.20000000000000007,
            "bin_start": 0.10000000000000009,
            "count": 0
           },
           {
            "bin_end": 0.30000000000000004,
            "bin_start": 0.20000000000000007,
            "count": 0
           },
           {
            "bin_end": 0.4,
            "bin_start": 0.30000000000000004,
            "count": 0
           },
           {
            "bin_end": 0.5,
            "bin_start": 0.4,
            "count": 0
           }
          ],
          "max": "0",
          "min": "0",
          "nan_count": 0,
          "unique_count": 1
         }
        },
        {
         "dtype": "int64",
         "name": "FACTORY_TEST",
         "stats": {
          "histogram": [
           {
            "bin_end": -0.4,
            "bin_start": -0.5,
            "count": 0
           },
           {
            "bin_end": -0.3,
            "bin_start": -0.4,
            "count": 0
           },
           {
            "bin_end": -0.19999999999999996,
            "bin_start": -0.3,
            "count": 0
           },
           {
            "bin_end": -0.09999999999999998,
            "bin_start": -0.19999999999999996,
            "count": 0
           },
           {
            "bin_end": 0,
            "bin_start": -0.09999999999999998,
            "count": 0
           },
           {
            "bin_end": 0.10000000000000009,
            "bin_start": 0,
            "count": 5
           },
           {
            "bin_end": 0.20000000000000007,
            "bin_start": 0.10000000000000009,
            "count": 0
           },
           {
            "bin_end": 0.30000000000000004,
            "bin_start": 0.20000000000000007,
            "count": 0
           },
           {
            "bin_end": 0.4,
            "bin_start": 0.30000000000000004,
            "count": 0
           },
           {
            "bin_end": 0.5,
            "bin_start": 0.4,
            "count": 0
           }
          ],
          "max": "0",
          "min": "0",
          "nan_count": 0,
          "unique_count": 1
         }
        },
        {
         "dtype": "int64",
         "name": "INSTALL_PACKAGES",
         "stats": {
          "histogram": [
           {
            "bin_end": -0.4,
            "bin_start": -0.5,
            "count": 0
           },
           {
            "bin_end": -0.3,
            "bin_start": -0.4,
            "count": 0
           },
           {
            "bin_end": -0.19999999999999996,
            "bin_start": -0.3,
            "count": 0
           },
           {
            "bin_end": -0.09999999999999998,
            "bin_start": -0.19999999999999996,
            "count": 0
           },
           {
            "bin_end": 0,
            "bin_start": -0.09999999999999998,
            "count": 0
           },
           {
            "bin_end": 0.10000000000000009,
            "bin_start": 0,
            "count": 5
           },
           {
            "bin_end": 0.20000000000000007,
            "bin_start": 0.10000000000000009,
            "count": 0
           },
           {
            "bin_end": 0.30000000000000004,
            "bin_start": 0.20000000000000007,
            "count": 0
           },
           {
            "bin_end": 0.4,
            "bin_start": 0.30000000000000004,
            "count": 0
           },
           {
            "bin_end": 0.5,
            "bin_start": 0.4,
            "count": 0
           }
          ],
          "max": "0",
          "min": "0",
          "nan_count": 0,
          "unique_count": 1
         }
        },
        {
         "dtype": "int64",
         "name": "INJECT_EVENTS",
         "stats": {
          "histogram": [
           {
            "bin_end": -0.4,
            "bin_start": -0.5,
            "count": 0
           },
           {
            "bin_end": -0.3,
            "bin_start": -0.4,
            "count": 0
           },
           {
            "bin_end": -0.19999999999999996,
            "bin_start": -0.3,
            "count": 0
           },
           {
            "bin_end": -0.09999999999999998,
            "bin_start": -0.19999999999999996,
            "count": 0
           },
           {
            "bin_end": 0,
            "bin_start": -0.09999999999999998,
            "count": 0
           },
           {
            "bin_end": 0.10000000000000009,
            "bin_start": 0,
            "count": 5
           },
           {
            "bin_end": 0.20000000000000007,
            "bin_start": 0.10000000000000009,
            "count": 0
           },
           {
            "bin_end": 0.30000000000000004,
            "bin_start": 0.20000000000000007,
            "count": 0
           },
           {
            "bin_end": 0.4,
            "bin_start": 0.30000000000000004,
            "count": 0
           },
           {
            "bin_end": 0.5,
            "bin_start": 0.4,
            "count": 0
           }
          ],
          "max": "0",
          "min": "0",
          "nan_count": 0,
          "unique_count": 1
         }
        },
        {
         "dtype": "int64",
         "name": "INTERNAL_SYSTEM_WINDOW",
         "stats": {
          "histogram": [
           {
            "bin_end": -0.4,
            "bin_start": -0.5,
            "count": 0
           },
           {
            "bin_end": -0.3,
            "bin_start": -0.4,
            "count": 0
           },
           {
            "bin_end": -0.19999999999999996,
            "bin_start": -0.3,
            "count": 0
           },
           {
            "bin_end": -0.09999999999999998,
            "bin_start": -0.19999999999999996,
            "count": 0
           },
           {
            "bin_end": 0,
            "bin_start": -0.09999999999999998,
            "count": 0
           },
           {
            "bin_end": 0.10000000000000009,
            "bin_start": 0,
            "count": 5
           },
           {
            "bin_end": 0.20000000000000007,
            "bin_start": 0.10000000000000009,
            "count": 0
           },
           {
            "bin_end": 0.30000000000000004,
            "bin_start": 0.20000000000000007,
            "count": 0
           },
           {
            "bin_end": 0.4,
            "bin_start": 0.30000000000000004,
            "count": 0
           },
           {
            "bin_end": 0.5,
            "bin_start": 0.4,
            "count": 0
           }
          ],
          "max": "0",
          "min": "0",
          "nan_count": 0,
          "unique_count": 1
         }
        },
        {
         "dtype": "int64",
         "name": "KILL_BACKGROUND_PROCESSES",
         "stats": {
          "histogram": [
           {
            "bin_end": -0.4,
            "bin_start": -0.5,
            "count": 0
           },
           {
            "bin_end": -0.3,
            "bin_start": -0.4,
            "count": 0
           },
           {
            "bin_end": -0.19999999999999996,
            "bin_start": -0.3,
            "count": 0
           },
           {
            "bin_end": -0.09999999999999998,
            "bin_start": -0.19999999999999996,
            "count": 0
           },
           {
            "bin_end": 0,
            "bin_start": -0.09999999999999998,
            "count": 0
           },
           {
            "bin_end": 0.10000000000000009,
            "bin_start": 0,
            "count": 5
           },
           {
            "bin_end": 0.20000000000000007,
            "bin_start": 0.10000000000000009,
            "count": 0
           },
           {
            "bin_end": 0.30000000000000004,
            "bin_start": 0.20000000000000007,
            "count": 0
           },
           {
            "bin_end": 0.4,
            "bin_start": 0.30000000000000004,
            "count": 0
           },
           {
            "bin_end": 0.5,
            "bin_start": 0.4,
            "count": 0
           }
          ],
          "max": "0",
          "min": "0",
          "nan_count": 0,
          "unique_count": 1
         }
        },
        {
         "dtype": "int64",
         "name": "MASTER_CLEAR",
         "stats": {
          "histogram": [
           {
            "bin_end": -0.4,
            "bin_start": -0.5,
            "count": 0
           },
           {
            "bin_end": -0.3,
            "bin_start": -0.4,
            "count": 0
           },
           {
            "bin_end": -0.19999999999999996,
            "bin_start": -0.3,
            "count": 0
           },
           {
            "bin_end": -0.09999999999999998,
            "bin_start": -0.19999999999999996,
            "count": 0
           },
           {
            "bin_end": 0,
            "bin_start": -0.09999999999999998,
            "count": 0
           },
           {
            "bin_end": 0.10000000000000009,
            "bin_start": 0,
            "count": 5
           },
           {
            "bin_end": 0.20000000000000007,
            "bin_start": 0.10000000000000009,
            "count": 0
           },
           {
            "bin_end": 0.30000000000000004,
            "bin_start": 0.20000000000000007,
            "count": 0
           },
           {
            "bin_end": 0.4,
            "bin_start": 0.30000000000000004,
            "count": 0
           },
           {
            "bin_end": 0.5,
            "bin_start": 0.4,
            "count": 0
           }
          ],
          "max": "0",
          "min": "0",
          "nan_count": 0,
          "unique_count": 1
         }
        },
        {
         "dtype": "int64",
         "name": "MODIFY_PHONE_STATE",
         "stats": {
          "histogram": [
           {
            "bin_end": -0.4,
            "bin_start": -0.5,
            "count": 0
           },
           {
            "bin_end": -0.3,
            "bin_start": -0.4,
            "count": 0
           },
           {
            "bin_end": -0.19999999999999996,
            "bin_start": -0.3,
            "count": 0
           },
           {
            "bin_end": -0.09999999999999998,
            "bin_start": -0.19999999999999996,
            "count": 0
           },
           {
            "bin_end": 0,
            "bin_start": -0.09999999999999998,
            "count": 0
           },
           {
            "bin_end": 0.10000000000000009,
            "bin_start": 0,
            "count": 5
           },
           {
            "bin_end": 0.20000000000000007,
            "bin_start": 0.10000000000000009,
            "count": 0
           },
           {
            "bin_end": 0.30000000000000004,
            "bin_start": 0.20000000000000007,
            "count": 0
           },
           {
            "bin_end": 0.4,
            "bin_start": 0.30000000000000004,
            "count": 0
           },
           {
            "bin_end": 0.5,
            "bin_start": 0.4,
            "count": 0
           }
          ],
          "max": "0",
          "min": "0",
          "nan_count": 0,
          "unique_count": 1
         }
        },
        {
         "dtype": "int64",
         "name": "MOUNT_FORMAT_FILESYSTEM",
         "stats": {
          "histogram": [
           {
            "bin_end": -0.4,
            "bin_start": -0.5,
            "count": 0
           },
           {
            "bin_end": -0.3,
            "bin_start": -0.4,
            "count": 0
           },
           {
            "bin_end": -0.19999999999999996,
            "bin_start": -0.3,
            "count": 0
           },
           {
            "bin_end": -0.09999999999999998,
            "bin_start": -0.19999999999999996,
            "count": 0
           },
           {
            "bin_end": 0,
            "bin_start": -0.09999999999999998,
            "count": 0
           },
           {
            "bin_end": 0.10000000000000009,
            "bin_start": 0,
            "count": 5
           },
           {
            "bin_end": 0.20000000000000007,
            "bin_start": 0.10000000000000009,
            "count": 0
           },
           {
            "bin_end": 0.30000000000000004,
            "bin_start": 0.20000000000000007,
            "count": 0
           },
           {
            "bin_end": 0.4,
            "bin_start": 0.30000000000000004,
            "count": 0
           },
           {
            "bin_end": 0.5,
            "bin_start": 0.4,
            "count": 0
           }
          ],
          "max": "0",
          "min": "0",
          "nan_count": 0,
          "unique_count": 1
         }
        },
        {
         "dtype": "int64",
         "name": "MOUNT_UNMOUNT_FILESYSTEM",
         "stats": {
          "histogram": [
           {
            "bin_end": -0.4,
            "bin_start": -0.5,
            "count": 0
           },
           {
            "bin_end": -0.3,
            "bin_start": -0.4,
            "count": 0
           },
           {
            "bin_end": -0.19999999999999996,
            "bin_start": -0.3,
            "count": 0
           },
           {
            "bin_end": -0.09999999999999998,
            "bin_start": -0.19999999999999996,
            "count": 0
           },
           {
            "bin_end": 0,
            "bin_start": -0.09999999999999998,
            "count": 0
           },
           {
            "bin_end": 0.10000000000000009,
            "bin_start": 0,
            "count": 5
           },
           {
            "bin_end": 0.20000000000000007,
            "bin_start": 0.10000000000000009,
            "count": 0
           },
           {
            "bin_end": 0.30000000000000004,
            "bin_start": 0.20000000000000007,
            "count": 0
           },
           {
            "bin_end": 0.4,
            "bin_start": 0.30000000000000004,
            "count": 0
           },
           {
            "bin_end": 0.5,
            "bin_start": 0.4,
            "count": 0
           }
          ],
          "max": "0",
          "min": "0",
          "nan_count": 0,
          "unique_count": 1
         }
        },
        {
         "dtype": "int64",
         "name": "PROCESS_OUTGOING_CALLS",
         "stats": {
          "histogram": [
           {
            "bin_end": -0.4,
            "bin_start": -0.5,
            "count": 0
           },
           {
            "bin_end": -0.3,
            "bin_start": -0.4,
            "count": 0
           },
           {
            "bin_end": -0.19999999999999996,
            "bin_start": -0.3,
            "count": 0
           },
           {
            "bin_end": -0.09999999999999998,
            "bin_start": -0.19999999999999996,
            "count": 0
           },
           {
            "bin_end": 0,
            "bin_start": -0.09999999999999998,
            "count": 0
           },
           {
            "bin_end": 0.10000000000000009,
            "bin_start": 0,
            "count": 5
           },
           {
            "bin_end": 0.20000000000000007,
            "bin_start": 0.10000000000000009,
            "count": 0
           },
           {
            "bin_end": 0.30000000000000004,
            "bin_start": 0.20000000000000007,
            "count": 0
           },
           {
            "bin_end": 0.4,
            "bin_start": 0.30000000000000004,
            "count": 0
           },
           {
            "bin_end": 0.5,
            "bin_start": 0.4,
            "count": 0
           }
          ],
          "max": "0",
          "min": "0",
          "nan_count": 0,
          "unique_count": 1
         }
        },
        {
         "dtype": "int64",
         "name": "READ_LOGS",
         "stats": {
          "histogram": [
           {
            "bin_end": -0.4,
            "bin_start": -0.5,
            "count": 0
           },
           {
            "bin_end": -0.3,
            "bin_start": -0.4,
            "count": 0
           },
           {
            "bin_end": -0.19999999999999996,
            "bin_start": -0.3,
            "count": 0
           },
           {
            "bin_end": -0.09999999999999998,
            "bin_start": -0.19999999999999996,
            "count": 0
           },
           {
            "bin_end": 0,
            "bin_start": -0.09999999999999998,
            "count": 0
           },
           {
            "bin_end": 0.10000000000000009,
            "bin_start": 0,
            "count": 5
           },
           {
            "bin_end": 0.20000000000000007,
            "bin_start": 0.10000000000000009,
            "count": 0
           },
           {
            "bin_end": 0.30000000000000004,
            "bin_start": 0.20000000000000007,
            "count": 0
           },
           {
            "bin_end": 0.4,
            "bin_start": 0.30000000000000004,
            "count": 0
           },
           {
            "bin_end": 0.5,
            "bin_start": 0.4,
            "count": 0
           }
          ],
          "max": "0",
          "min": "0",
          "nan_count": 0,
          "unique_count": 1
         }
        },
        {
         "dtype": "int64",
         "name": "REBOOT",
         "stats": {
          "histogram": [
           {
            "bin_end": -0.4,
            "bin_start": -0.5,
            "count": 0
           },
           {
            "bin_end": -0.3,
            "bin_start": -0.4,
            "count": 0
           },
           {
            "bin_end": -0.19999999999999996,
            "bin_start": -0.3,
            "count": 0
           },
           {
            "bin_end": -0.09999999999999998,
            "bin_start": -0.19999999999999996,
            "count": 0
           },
           {
            "bin_end": 0,
            "bin_start": -0.09999999999999998,
            "count": 0
           },
           {
            "bin_end": 0.10000000000000009,
            "bin_start": 0,
            "count": 5
           },
           {
            "bin_end": 0.20000000000000007,
            "bin_start": 0.10000000000000009,
            "count": 0
           },
           {
            "bin_end": 0.30000000000000004,
            "bin_start": 0.20000000000000007,
            "count": 0
           },
           {
            "bin_end": 0.4,
            "bin_start": 0.30000000000000004,
            "count": 0
           },
           {
            "bin_end": 0.5,
            "bin_start": 0.4,
            "count": 0
           }
          ],
          "max": "0",
          "min": "0",
          "nan_count": 0,
          "unique_count": 1
         }
        },
        {
         "dtype": "int64",
         "name": "RECEIVE_BOOT_COMPLETED",
         "stats": {
          "histogram": [
           {
            "bin_end": 0.1,
            "bin_start": 0,
            "count": 4
           },
           {
            "bin_end": 0.2,
            "bin_start": 0.1,
            "count": 0
           },
           {
            "bin_end": 0.30000000000000004,
            "bin_start": 0.2,
            "count": 0
           },
           {
            "bin_end": 0.4,
            "bin_start": 0.30000000000000004,
            "count": 0
           },
           {
            "bin_end": 0.5,
            "bin_start": 0.4,
            "count": 0
           },
           {
            "bin_end": 0.6000000000000001,
            "bin_start": 0.5,
            "count": 0
           },
           {
            "bin_end": 0.7000000000000001,
            "bin_start": 0.6000000000000001,
            "count": 0
           },
           {
            "bin_end": 0.8,
            "bin_start": 0.7000000000000001,
            "count": 0
           },
           {
            "bin_end": 0.9,
            "bin_start": 0.8,
            "count": 0
           },
           {
            "bin_end": 1,
            "bin_start": 0.9,
            "count": 1
           }
          ],
          "max": "1",
          "min": "0",
          "nan_count": 0,
          "unique_count": 2
         }
        },
        {
         "dtype": "int64",
         "name": "STATUS_BAR",
         "stats": {
          "histogram": [
           {
            "bin_end": -0.4,
            "bin_start": -0.5,
            "count": 0
           },
           {
            "bin_end": -0.3,
            "bin_start": -0.4,
            "count": 0
           },
           {
            "bin_end": -0.19999999999999996,
            "bin_start": -0.3,
            "count": 0
           },
           {
            "bin_end": -0.09999999999999998,
            "bin_start": -0.19999999999999996,
            "count": 0
           },
           {
            "bin_end": 0,
            "bin_start": -0.09999999999999998,
            "count": 0
           },
           {
            "bin_end": 0.10000000000000009,
            "bin_start": 0,
            "count": 5
           },
           {
            "bin_end": 0.20000000000000007,
            "bin_start": 0.10000000000000009,
            "count": 0
           },
           {
            "bin_end": 0.30000000000000004,
            "bin_start": 0.20000000000000007,
            "count": 0
           },
           {
            "bin_end": 0.4,
            "bin_start": 0.30000000000000004,
            "count": 0
           },
           {
            "bin_end": 0.5,
            "bin_start": 0.4,
            "count": 0
           }
          ],
          "max": "0",
          "min": "0",
          "nan_count": 0,
          "unique_count": 1
         }
        },
        {
         "dtype": "int64",
         "name": "WRITE_EXTERNAL_STORAGE",
         "stats": {
          "histogram": [
           {
            "bin_end": 0.1,
            "bin_start": 0,
            "count": 4
           },
           {
            "bin_end": 0.2,
            "bin_start": 0.1,
            "count": 0
           },
           {
            "bin_end": 0.30000000000000004,
            "bin_start": 0.2,
            "count": 0
           },
           {
            "bin_end": 0.4,
            "bin_start": 0.30000000000000004,
            "count": 0
           },
           {
            "bin_end": 0.5,
            "bin_start": 0.4,
            "count": 0
           },
           {
            "bin_end": 0.6000000000000001,
            "bin_start": 0.5,
            "count": 0
           },
           {
            "bin_end": 0.7000000000000001,
            "bin_start": 0.6000000000000001,
            "count": 0
           },
           {
            "bin_end": 0.8,
            "bin_start": 0.7000000000000001,
            "count": 0
           },
           {
            "bin_end": 0.9,
            "bin_start": 0.8,
            "count": 0
           },
           {
            "bin_end": 1,
            "bin_start": 0.9,
            "count": 1
           }
          ],
          "max": "1",
          "min": "0",
          "nan_count": 0,
          "unique_count": 2
         }
        },
        {
         "dtype": "int64",
         "name": "WRITE_HISTORY_BOOKMARKS",
         "stats": {
          "histogram": [
           {
            "bin_end": -0.4,
            "bin_start": -0.5,
            "count": 0
           },
           {
            "bin_end": -0.3,
            "bin_start": -0.4,
            "count": 0
           },
           {
            "bin_end": -0.19999999999999996,
            "bin_start": -0.3,
            "count": 0
           },
           {
            "bin_end": -0.09999999999999998,
            "bin_start": -0.19999999999999996,
            "count": 0
           },
           {
            "bin_end": 0,
            "bin_start": -0.09999999999999998,
            "count": 0
           },
           {
            "bin_end": 0.10000000000000009,
            "bin_start": 0,
            "count": 5
           },
           {
            "bin_end": 0.20000000000000007,
            "bin_start": 0.10000000000000009,
            "count": 0
           },
           {
            "bin_end": 0.30000000000000004,
            "bin_start": 0.20000000000000007,
            "count": 0
           },
           {
            "bin_end": 0.4,
            "bin_start": 0.30000000000000004,
            "count": 0
           },
           {
            "bin_end": 0.5,
            "bin_start": 0.4,
            "count": 0
           }
          ],
          "max": "0",
          "min": "0",
          "nan_count": 0,
          "unique_count": 1
         }
        },
        {
         "dtype": "int64",
         "name": "WRITE_PROFILE",
         "stats": {
          "histogram": [
           {
            "bin_end": -0.4,
            "bin_start": -0.5,
            "count": 0
           },
           {
            "bin_end": -0.3,
            "bin_start": -0.4,
            "count": 0
           },
           {
            "bin_end": -0.19999999999999996,
            "bin_start": -0.3,
            "count": 0
           },
           {
            "bin_end": -0.09999999999999998,
            "bin_start": -0.19999999999999996,
            "count": 0
           },
           {
            "bin_end": 0,
            "bin_start": -0.09999999999999998,
            "count": 0
           },
           {
            "bin_end": 0.10000000000000009,
            "bin_start": 0,
            "count": 5
           },
           {
            "bin_end": 0.20000000000000007,
            "bin_start": 0.10000000000000009,
            "count": 0
           },
           {
            "bin_end": 0.30000000000000004,
            "bin_start": 0.20000000000000007,
            "count": 0
           },
           {
            "bin_end": 0.4,
            "bin_start": 0.30000000000000004,
            "count": 0
           },
           {
            "bin_end": 0.5,
            "bin_start": 0.4,
            "count": 0
           }
          ],
          "max": "0",
          "min": "0",
          "nan_count": 0,
          "unique_count": 1
         }
        },
        {
         "dtype": "int64",
         "name": "WRITE_SECURE_SETTINGS",
         "stats": {
          "histogram": [
           {
            "bin_end": -0.4,
            "bin_start": -0.5,
            "count": 0
           },
           {
            "bin_end": -0.3,
            "bin_start": -0.4,
            "count": 0
           },
           {
            "bin_end": -0.19999999999999996,
            "bin_start": -0.3,
            "count": 0
           },
           {
            "bin_end": -0.09999999999999998,
            "bin_start": -0.19999999999999996,
            "count": 0
           },
           {
            "bin_end": 0,
            "bin_start": -0.09999999999999998,
            "count": 0
           },
           {
            "bin_end": 0.10000000000000009,
            "bin_start": 0,
            "count": 5
           },
           {
            "bin_end": 0.20000000000000007,
            "bin_start": 0.10000000000000009,
            "count": 0
           },
           {
            "bin_end": 0.30000000000000004,
            "bin_start": 0.20000000000000007,
            "count": 0
           },
           {
            "bin_end": 0.4,
            "bin_start": 0.30000000000000004,
            "count": 0
           },
           {
            "bin_end": 0.5,
            "bin_start": 0.4,
            "count": 0
           }
          ],
          "max": "0",
          "min": "0",
          "nan_count": 0,
          "unique_count": 1
         }
        },
        {
         "dtype": "int64",
         "name": "ACCESS_SURFACE_FLINGER",
         "stats": {
          "histogram": [
           {
            "bin_end": -0.4,
            "bin_start": -0.5,
            "count": 0
           },
           {
            "bin_end": -0.3,
            "bin_start": -0.4,
            "count": 0
           },
           {
            "bin_end": -0.19999999999999996,
            "bin_start": -0.3,
            "count": 0
           },
           {
            "bin_end": -0.09999999999999998,
            "bin_start": -0.19999999999999996,
            "count": 0
           },
           {
            "bin_end": 0,
            "bin_start": -0.09999999999999998,
            "count": 0
           },
           {
            "bin_end": 0.10000000000000009,
            "bin_start": 0,
            "count": 5
           },
           {
            "bin_end": 0.20000000000000007,
            "bin_start": 0.10000000000000009,
            "count": 0
           },
           {
            "bin_end": 0.30000000000000004,
            "bin_start": 0.20000000000000007,
            "count": 0
           },
           {
            "bin_end": 0.4,
            "bin_start": 0.30000000000000004,
            "count": 0
           },
           {
            "bin_end": 0.5,
            "bin_start": 0.4,
            "count": 0
           }
          ],
          "max": "0",
          "min": "0",
          "nan_count": 0,
          "unique_count": 1
         }
        },
        {
         "dtype": "int64",
         "name": "ACCOUNT_MANAGER",
         "stats": {
          "histogram": [
           {
            "bin_end": -0.4,
            "bin_start": -0.5,
            "count": 0
           },
           {
            "bin_end": -0.3,
            "bin_start": -0.4,
            "count": 0
           },
           {
            "bin_end": -0.19999999999999996,
            "bin_start": -0.3,
            "count": 0
           },
           {
            "bin_end": -0.09999999999999998,
            "bin_start": -0.19999999999999996,
            "count": 0
           },
           {
            "bin_end": 0,
            "bin_start": -0.09999999999999998,
            "count": 0
           },
           {
            "bin_end": 0.10000000000000009,
            "bin_start": 0,
            "count": 5
           },
           {
            "bin_end": 0.20000000000000007,
            "bin_start": 0.10000000000000009,
            "count": 0
           },
           {
            "bin_end": 0.30000000000000004,
            "bin_start": 0.20000000000000007,
            "count": 0
           },
           {
            "bin_end": 0.4,
            "bin_start": 0.30000000000000004,
            "count": 0
           },
           {
            "bin_end": 0.5,
            "bin_start": 0.4,
            "count": 0
           }
          ],
          "max": "0",
          "min": "0",
          "nan_count": 0,
          "unique_count": 1
         }
        },
        {
         "dtype": "int64",
         "name": "ADD_VOICEMAIL",
         "stats": {
          "histogram": [
           {
            "bin_end": -0.4,
            "bin_start": -0.5,
            "count": 0
           },
           {
            "bin_end": -0.3,
            "bin_start": -0.4,
            "count": 0
           },
           {
            "bin_end": -0.19999999999999996,
            "bin_start": -0.3,
            "count": 0
           },
           {
            "bin_end": -0.09999999999999998,
            "bin_start": -0.19999999999999996,
            "count": 0
           },
           {
            "bin_end": 0,
            "bin_start": -0.09999999999999998,
            "count": 0
           },
           {
            "bin_end": 0.10000000000000009,
            "bin_start": 0,
            "count": 5
           },
           {
            "bin_end": 0.20000000000000007,
            "bin_start": 0.10000000000000009,
            "count": 0
           },
           {
            "bin_end": 0.30000000000000004,
            "bin_start": 0.20000000000000007,
            "count": 0
           },
           {
            "bin_end": 0.4,
            "bin_start": 0.30000000000000004,
            "count": 0
           },
           {
            "bin_end": 0.5,
            "bin_start": 0.4,
            "count": 0
           }
          ],
          "max": "0",
          "min": "0",
          "nan_count": 0,
          "unique_count": 1
         }
        },
        {
         "dtype": "int64",
         "name": "CONTROL_LOCATION_UPDATES",
         "stats": {
          "histogram": [
           {
            "bin_end": -0.4,
            "bin_start": -0.5,
            "count": 0
           },
           {
            "bin_end": -0.3,
            "bin_start": -0.4,
            "count": 0
           },
           {
            "bin_end": -0.19999999999999996,
            "bin_start": -0.3,
            "count": 0
           },
           {
            "bin_end": -0.09999999999999998,
            "bin_start": -0.19999999999999996,
            "count": 0
           },
           {
            "bin_end": 0,
            "bin_start": -0.09999999999999998,
            "count": 0
           },
           {
            "bin_end": 0.10000000000000009,
            "bin_start": 0,
            "count": 5
           },
           {
            "bin_end": 0.20000000000000007,
            "bin_start": 0.10000000000000009,
            "count": 0
           },
           {
            "bin_end": 0.30000000000000004,
            "bin_start": 0.20000000000000007,
            "count": 0
           },
           {
            "bin_end": 0.4,
            "bin_start": 0.30000000000000004,
            "count": 0
           },
           {
            "bin_end": 0.5,
            "bin_start": 0.4,
            "count": 0
           }
          ],
          "max": "0",
          "min": "0",
          "nan_count": 0,
          "unique_count": 1
         }
        },
        {
         "dtype": "int64",
         "name": "DEVICE_POWER",
         "stats": {
          "histogram": [
           {
            "bin_end": -0.4,
            "bin_start": -0.5,
            "count": 0
           },
           {
            "bin_end": -0.3,
            "bin_start": -0.4,
            "count": 0
           },
           {
            "bin_end": -0.19999999999999996,
            "bin_start": -0.3,
            "count": 0
           },
           {
            "bin_end": -0.09999999999999998,
            "bin_start": -0.19999999999999996,
            "count": 0
           },
           {
            "bin_end": 0,
            "bin_start": -0.09999999999999998,
            "count": 0
           },
           {
            "bin_end": 0.10000000000000009,
            "bin_start": 0,
            "count": 5
           },
           {
            "bin_end": 0.20000000000000007,
            "bin_start": 0.10000000000000009,
            "count": 0
           },
           {
            "bin_end": 0.30000000000000004,
            "bin_start": 0.20000000000000007,
            "count": 0
           },
           {
            "bin_end": 0.4,
            "bin_start": 0.30000000000000004,
            "count": 0
           },
           {
            "bin_end": 0.5,
            "bin_start": 0.4,
            "count": 0
           }
          ],
          "max": "0",
          "min": "0",
          "nan_count": 0,
          "unique_count": 1
         }
        },
        {
         "dtype": "int64",
         "name": "EXPAND_STATUS_BAR",
         "stats": {
          "histogram": [
           {
            "bin_end": -0.4,
            "bin_start": -0.5,
            "count": 0
           },
           {
            "bin_end": -0.3,
            "bin_start": -0.4,
            "count": 0
           },
           {
            "bin_end": -0.19999999999999996,
            "bin_start": -0.3,
            "count": 0
           },
           {
            "bin_end": -0.09999999999999998,
            "bin_start": -0.19999999999999996,
            "count": 0
           },
           {
            "bin_end": 0,
            "bin_start": -0.09999999999999998,
            "count": 0
           },
           {
            "bin_end": 0.10000000000000009,
            "bin_start": 0,
            "count": 5
           },
           {
            "bin_end": 0.20000000000000007,
            "bin_start": 0.10000000000000009,
            "count": 0
           },
           {
            "bin_end": 0.30000000000000004,
            "bin_start": 0.20000000000000007,
            "count": 0
           },
           {
            "bin_end": 0.4,
            "bin_start": 0.30000000000000004,
            "count": 0
           },
           {
            "bin_end": 0.5,
            "bin_start": 0.4,
            "count": 0
           }
          ],
          "max": "0",
          "min": "0",
          "nan_count": 0,
          "unique_count": 1
         }
        },
        {
         "dtype": "int64",
         "name": "FLASHLIGHT",
         "stats": {
          "histogram": [
           {
            "bin_end": -0.4,
            "bin_start": -0.5,
            "count": 0
           },
           {
            "bin_end": -0.3,
            "bin_start": -0.4,
            "count": 0
           },
           {
            "bin_end": -0.19999999999999996,
            "bin_start": -0.3,
            "count": 0
           },
           {
            "bin_end": -0.09999999999999998,
            "bin_start": -0.19999999999999996,
            "count": 0
           },
           {
            "bin_end": 0,
            "bin_start": -0.09999999999999998,
            "count": 0
           },
           {
            "bin_end": 0.10000000000000009,
            "bin_start": 0,
            "count": 5
           },
           {
            "bin_end": 0.20000000000000007,
            "bin_start": 0.10000000000000009,
            "count": 0
           },
           {
            "bin_end": 0.30000000000000004,
            "bin_start": 0.20000000000000007,
            "count": 0
           },
           {
            "bin_end": 0.4,
            "bin_start": 0.30000000000000004,
            "count": 0
           },
           {
            "bin_end": 0.5,
            "bin_start": 0.4,
            "count": 0
           }
          ],
          "max": "0",
          "min": "0",
          "nan_count": 0,
          "unique_count": 1
         }
        },
        {
         "dtype": "int64",
         "name": "FORCE_BACK",
         "stats": {
          "histogram": [
           {
            "bin_end": -0.4,
            "bin_start": -0.5,
            "count": 0
           },
           {
            "bin_end": -0.3,
            "bin_start": -0.4,
            "count": 0
           },
           {
            "bin_end": -0.19999999999999996,
            "bin_start": -0.3,
            "count": 0
           },
           {
            "bin_end": -0.09999999999999998,
            "bin_start": -0.19999999999999996,
            "count": 0
           },
           {
            "bin_end": 0,
            "bin_start": -0.09999999999999998,
            "count": 0
           },
           {
            "bin_end": 0.10000000000000009,
            "bin_start": 0,
            "count": 5
           },
           {
            "bin_end": 0.20000000000000007,
            "bin_start": 0.10000000000000009,
            "count": 0
           },
           {
            "bin_end": 0.30000000000000004,
            "bin_start": 0.20000000000000007,
            "count": 0
           },
           {
            "bin_end": 0.4,
            "bin_start": 0.30000000000000004,
            "count": 0
           },
           {
            "bin_end": 0.5,
            "bin_start": 0.4,
            "count": 0
           }
          ],
          "max": "0",
          "min": "0",
          "nan_count": 0,
          "unique_count": 1
         }
        },
        {
         "dtype": "int64",
         "name": "GET_PACKAGE_SIZE",
         "stats": {
          "histogram": [
           {
            "bin_end": -0.4,
            "bin_start": -0.5,
            "count": 0
           },
           {
            "bin_end": -0.3,
            "bin_start": -0.4,
            "count": 0
           },
           {
            "bin_end": -0.19999999999999996,
            "bin_start": -0.3,
            "count": 0
           },
           {
            "bin_end": -0.09999999999999998,
            "bin_start": -0.19999999999999996,
            "count": 0
           },
           {
            "bin_end": 0,
            "bin_start": -0.09999999999999998,
            "count": 0
           },
           {
            "bin_end": 0.10000000000000009,
            "bin_start": 0,
            "count": 5
           },
           {
            "bin_end": 0.20000000000000007,
            "bin_start": 0.10000000000000009,
            "count": 0
           },
           {
            "bin_end": 0.30000000000000004,
            "bin_start": 0.20000000000000007,
            "count": 0
           },
           {
            "bin_end": 0.4,
            "bin_start": 0.30000000000000004,
            "count": 0
           },
           {
            "bin_end": 0.5,
            "bin_start": 0.4,
            "count": 0
           }
          ],
          "max": "0",
          "min": "0",
          "nan_count": 0,
          "unique_count": 1
         }
        },
        {
         "dtype": "int64",
         "name": "GET_TOP_ACTIVITY_INFO",
         "stats": {
          "histogram": [
           {
            "bin_end": -0.4,
            "bin_start": -0.5,
            "count": 0
           },
           {
            "bin_end": -0.3,
            "bin_start": -0.4,
            "count": 0
           },
           {
            "bin_end": -0.19999999999999996,
            "bin_start": -0.3,
            "count": 0
           },
           {
            "bin_end": -0.09999999999999998,
            "bin_start": -0.19999999999999996,
            "count": 0
           },
           {
            "bin_end": 0,
            "bin_start": -0.09999999999999998,
            "count": 0
           },
           {
            "bin_end": 0.10000000000000009,
            "bin_start": 0,
            "count": 5
           },
           {
            "bin_end": 0.20000000000000007,
            "bin_start": 0.10000000000000009,
            "count": 0
           },
           {
            "bin_end": 0.30000000000000004,
            "bin_start": 0.20000000000000007,
            "count": 0
           },
           {
            "bin_end": 0.4,
            "bin_start": 0.30000000000000004,
            "count": 0
           },
           {
            "bin_end": 0.5,
            "bin_start": 0.4,
            "count": 0
           }
          ],
          "max": "0",
          "min": "0",
          "nan_count": 0,
          "unique_count": 1
         }
        },
        {
         "dtype": "int64",
         "name": "GLOBAL_SEARCH",
         "stats": {
          "histogram": [
           {
            "bin_end": -0.4,
            "bin_start": -0.5,
            "count": 0
           },
           {
            "bin_end": -0.3,
            "bin_start": -0.4,
            "count": 0
           },
           {
            "bin_end": -0.19999999999999996,
            "bin_start": -0.3,
            "count": 0
           },
           {
            "bin_end": -0.09999999999999998,
            "bin_start": -0.19999999999999996,
            "count": 0
           },
           {
            "bin_end": 0,
            "bin_start": -0.09999999999999998,
            "count": 0
           },
           {
            "bin_end": 0.10000000000000009,
            "bin_start": 0,
            "count": 5
           },
           {
            "bin_end": 0.20000000000000007,
            "bin_start": 0.10000000000000009,
            "count": 0
           },
           {
            "bin_end": 0.30000000000000004,
            "bin_start": 0.20000000000000007,
            "count": 0
           },
           {
            "bin_end": 0.4,
            "bin_start": 0.30000000000000004,
            "count": 0
           },
           {
            "bin_end": 0.5,
            "bin_start": 0.4,
            "count": 0
           }
          ],
          "max": "0",
          "min": "0",
          "nan_count": 0,
          "unique_count": 1
         }
        },
        {
         "dtype": "int64",
         "name": "INSTALL_SHORTCUT",
         "stats": {
          "histogram": [
           {
            "bin_end": 0.1,
            "bin_start": 0,
            "count": 4
           },
           {
            "bin_end": 0.2,
            "bin_start": 0.1,
            "count": 0
           },
           {
            "bin_end": 0.30000000000000004,
            "bin_start": 0.2,
            "count": 0
           },
           {
            "bin_end": 0.4,
            "bin_start": 0.30000000000000004,
            "count": 0
           },
           {
            "bin_end": 0.5,
            "bin_start": 0.4,
            "count": 0
           },
           {
            "bin_end": 0.6000000000000001,
            "bin_start": 0.5,
            "count": 0
           },
           {
            "bin_end": 0.7000000000000001,
            "bin_start": 0.6000000000000001,
            "count": 0
           },
           {
            "bin_end": 0.8,
            "bin_start": 0.7000000000000001,
            "count": 0
           },
           {
            "bin_end": 0.9,
            "bin_start": 0.8,
            "count": 0
           },
           {
            "bin_end": 1,
            "bin_start": 0.9,
            "count": 1
           }
          ],
          "max": "1",
          "min": "0",
          "nan_count": 0,
          "unique_count": 2
         }
        },
        {
         "dtype": "int64",
         "name": "MANAGE_DOCUMENTS",
         "stats": {
          "histogram": [
           {
            "bin_end": -0.4,
            "bin_start": -0.5,
            "count": 0
           },
           {
            "bin_end": -0.3,
            "bin_start": -0.4,
            "count": 0
           },
           {
            "bin_end": -0.19999999999999996,
            "bin_start": -0.3,
            "count": 0
           },
           {
            "bin_end": -0.09999999999999998,
            "bin_start": -0.19999999999999996,
            "count": 0
           },
           {
            "bin_end": 0,
            "bin_start": -0.09999999999999998,
            "count": 0
           },
           {
            "bin_end": 0.10000000000000009,
            "bin_start": 0,
            "count": 5
           },
           {
            "bin_end": 0.20000000000000007,
            "bin_start": 0.10000000000000009,
            "count": 0
           },
           {
            "bin_end": 0.30000000000000004,
            "bin_start": 0.20000000000000007,
            "count": 0
           },
           {
            "bin_end": 0.4,
            "bin_start": 0.30000000000000004,
            "count": 0
           },
           {
            "bin_end": 0.5,
            "bin_start": 0.4,
            "count": 0
           }
          ],
          "max": "0",
          "min": "0",
          "nan_count": 0,
          "unique_count": 1
         }
        },
        {
         "dtype": "int64",
         "name": "MEDIA_CONTENT_CONTROL",
         "stats": {
          "histogram": [
           {
            "bin_end": -0.4,
            "bin_start": -0.5,
            "count": 0
           },
           {
            "bin_end": -0.3,
            "bin_start": -0.4,
            "count": 0
           },
           {
            "bin_end": -0.19999999999999996,
            "bin_start": -0.3,
            "count": 0
           },
           {
            "bin_end": -0.09999999999999998,
            "bin_start": -0.19999999999999996,
            "count": 0
           },
           {
            "bin_end": 0,
            "bin_start": -0.09999999999999998,
            "count": 0
           },
           {
            "bin_end": 0.10000000000000009,
            "bin_start": 0,
            "count": 5
           },
           {
            "bin_end": 0.20000000000000007,
            "bin_start": 0.10000000000000009,
            "count": 0
           },
           {
            "bin_end": 0.30000000000000004,
            "bin_start": 0.20000000000000007,
            "count": 0
           },
           {
            "bin_end": 0.4,
            "bin_start": 0.30000000000000004,
            "count": 0
           },
           {
            "bin_end": 0.5,
            "bin_start": 0.4,
            "count": 0
           }
          ],
          "max": "0",
          "min": "0",
          "nan_count": 0,
          "unique_count": 1
         }
        },
        {
         "dtype": "int64",
         "name": "MODIFY_AUDIO_SETTINGS",
         "stats": {
          "histogram": [
           {
            "bin_end": -0.4,
            "bin_start": -0.5,
            "count": 0
           },
           {
            "bin_end": -0.3,
            "bin_start": -0.4,
            "count": 0
           },
           {
            "bin_end": -0.19999999999999996,
            "bin_start": -0.3,
            "count": 0
           },
           {
            "bin_end": -0.09999999999999998,
            "bin_start": -0.19999999999999996,
            "count": 0
           },
           {
            "bin_end": 0,
            "bin_start": -0.09999999999999998,
            "count": 0
           },
           {
            "bin_end": 0.10000000000000009,
            "bin_start": 0,
            "count": 5
           },
           {
            "bin_end": 0.20000000000000007,
            "bin_start": 0.10000000000000009,
            "count": 0
           },
           {
            "bin_end": 0.30000000000000004,
            "bin_start": 0.20000000000000007,
            "count": 0
           },
           {
            "bin_end": 0.4,
            "bin_start": 0.30000000000000004,
            "count": 0
           },
           {
            "bin_end": 0.5,
            "bin_start": 0.4,
            "count": 0
           }
          ],
          "max": "0",
          "min": "0",
          "nan_count": 0,
          "unique_count": 1
         }
        },
        {
         "dtype": "int64",
         "name": "READ_USER_DICTIONARY",
         "stats": {
          "histogram": [
           {
            "bin_end": -0.4,
            "bin_start": -0.5,
            "count": 0
           },
           {
            "bin_end": -0.3,
            "bin_start": -0.4,
            "count": 0
           },
           {
            "bin_end": -0.19999999999999996,
            "bin_start": -0.3,
            "count": 0
           },
           {
            "bin_end": -0.09999999999999998,
            "bin_start": -0.19999999999999996,
            "count": 0
           },
           {
            "bin_end": 0,
            "bin_start": -0.09999999999999998,
            "count": 0
           },
           {
            "bin_end": 0.10000000000000009,
            "bin_start": 0,
            "count": 5
           },
           {
            "bin_end": 0.20000000000000007,
            "bin_start": 0.10000000000000009,
            "count": 0
           },
           {
            "bin_end": 0.30000000000000004,
            "bin_start": 0.20000000000000007,
            "count": 0
           },
           {
            "bin_end": 0.4,
            "bin_start": 0.30000000000000004,
            "count": 0
           },
           {
            "bin_end": 0.5,
            "bin_start": 0.4,
            "count": 0
           }
          ],
          "max": "0",
          "min": "0",
          "nan_count": 0,
          "unique_count": 1
         }
        },
        {
         "dtype": "int64",
         "name": "REORDER_TASKS",
         "stats": {
          "histogram": [
           {
            "bin_end": -0.4,
            "bin_start": -0.5,
            "count": 0
           },
           {
            "bin_end": -0.3,
            "bin_start": -0.4,
            "count": 0
           },
           {
            "bin_end": -0.19999999999999996,
            "bin_start": -0.3,
            "count": 0
           },
           {
            "bin_end": -0.09999999999999998,
            "bin_start": -0.19999999999999996,
            "count": 0
           },
           {
            "bin_end": 0,
            "bin_start": -0.09999999999999998,
            "count": 0
           },
           {
            "bin_end": 0.10000000000000009,
            "bin_start": 0,
            "count": 5
           },
           {
            "bin_end": 0.20000000000000007,
            "bin_start": 0.10000000000000009,
            "count": 0
           },
           {
            "bin_end": 0.30000000000000004,
            "bin_start": 0.20000000000000007,
            "count": 0
           },
           {
            "bin_end": 0.4,
            "bin_start": 0.30000000000000004,
            "count": 0
           },
           {
            "bin_end": 0.5,
            "bin_start": 0.4,
            "count": 0
           }
          ],
          "max": "0",
          "min": "0",
          "nan_count": 0,
          "unique_count": 1
         }
        },
        {
         "dtype": "int64",
         "name": "SEND_RESPOND_VIA_MESSAGE",
         "stats": {
          "histogram": [
           {
            "bin_end": -0.4,
            "bin_start": -0.5,
            "count": 0
           },
           {
            "bin_end": -0.3,
            "bin_start": -0.4,
            "count": 0
           },
           {
            "bin_end": -0.19999999999999996,
            "bin_start": -0.3,
            "count": 0
           },
           {
            "bin_end": -0.09999999999999998,
            "bin_start": -0.19999999999999996,
            "count": 0
           },
           {
            "bin_end": 0,
            "bin_start": -0.09999999999999998,
            "count": 0
           },
           {
            "bin_end": 0.10000000000000009,
            "bin_start": 0,
            "count": 5
           },
           {
            "bin_end": 0.20000000000000007,
            "bin_start": 0.10000000000000009,
            "count": 0
           },
           {
            "bin_end": 0.30000000000000004,
            "bin_start": 0.20000000000000007,
            "count": 0
           },
           {
            "bin_end": 0.4,
            "bin_start": 0.30000000000000004,
            "count": 0
           },
           {
            "bin_end": 0.5,
            "bin_start": 0.4,
            "count": 0
           }
          ],
          "max": "0",
          "min": "0",
          "nan_count": 0,
          "unique_count": 1
         }
        },
        {
         "dtype": "int64",
         "name": "SET_ALARM",
         "stats": {
          "histogram": [
           {
            "bin_end": -0.4,
            "bin_start": -0.5,
            "count": 0
           },
           {
            "bin_end": -0.3,
            "bin_start": -0.4,
            "count": 0
           },
           {
            "bin_end": -0.19999999999999996,
            "bin_start": -0.3,
            "count": 0
           },
           {
            "bin_end": -0.09999999999999998,
            "bin_start": -0.19999999999999996,
            "count": 0
           },
           {
            "bin_end": 0,
            "bin_start": -0.09999999999999998,
            "count": 0
           },
           {
            "bin_end": 0.10000000000000009,
            "bin_start": 0,
            "count": 5
           },
           {
            "bin_end": 0.20000000000000007,
            "bin_start": 0.10000000000000009,
            "count": 0
           },
           {
            "bin_end": 0.30000000000000004,
            "bin_start": 0.20000000000000007,
            "count": 0
           },
           {
            "bin_end": 0.4,
            "bin_start": 0.30000000000000004,
            "count": 0
           },
           {
            "bin_end": 0.5,
            "bin_start": 0.4,
            "count": 0
           }
          ],
          "max": "0",
          "min": "0",
          "nan_count": 0,
          "unique_count": 1
         }
        },
        {
         "dtype": "int64",
         "name": "SET_ANIMATION_SCALE",
         "stats": {
          "histogram": [
           {
            "bin_end": -0.4,
            "bin_start": -0.5,
            "count": 0
           },
           {
            "bin_end": -0.3,
            "bin_start": -0.4,
            "count": 0
           },
           {
            "bin_end": -0.19999999999999996,
            "bin_start": -0.3,
            "count": 0
           },
           {
            "bin_end": -0.09999999999999998,
            "bin_start": -0.19999999999999996,
            "count": 0
           },
           {
            "bin_end": 0,
            "bin_start": -0.09999999999999998,
            "count": 0
           },
           {
            "bin_end": 0.10000000000000009,
            "bin_start": 0,
            "count": 5
           },
           {
            "bin_end": 0.20000000000000007,
            "bin_start": 0.10000000000000009,
            "count": 0
           },
           {
            "bin_end": 0.30000000000000004,
            "bin_start": 0.20000000000000007,
            "count": 0
           },
           {
            "bin_end": 0.4,
            "bin_start": 0.30000000000000004,
            "count": 0
           },
           {
            "bin_end": 0.5,
            "bin_start": 0.4,
            "count": 0
           }
          ],
          "max": "0",
          "min": "0",
          "nan_count": 0,
          "unique_count": 1
         }
        },
        {
         "dtype": "int64",
         "name": "SET_ORIENTATION",
         "stats": {
          "histogram": [
           {
            "bin_end": -0.4,
            "bin_start": -0.5,
            "count": 0
           },
           {
            "bin_end": -0.3,
            "bin_start": -0.4,
            "count": 0
           },
           {
            "bin_end": -0.19999999999999996,
            "bin_start": -0.3,
            "count": 0
           },
           {
            "bin_end": -0.09999999999999998,
            "bin_start": -0.19999999999999996,
            "count": 0
           },
           {
            "bin_end": 0,
            "bin_start": -0.09999999999999998,
            "count": 0
           },
           {
            "bin_end": 0.10000000000000009,
            "bin_start": 0,
            "count": 5
           },
           {
            "bin_end": 0.20000000000000007,
            "bin_start": 0.10000000000000009,
            "count": 0
           },
           {
            "bin_end": 0.30000000000000004,
            "bin_start": 0.20000000000000007,
            "count": 0
           },
           {
            "bin_end": 0.4,
            "bin_start": 0.30000000000000004,
            "count": 0
           },
           {
            "bin_end": 0.5,
            "bin_start": 0.4,
            "count": 0
           }
          ],
          "max": "0",
          "min": "0",
          "nan_count": 0,
          "unique_count": 1
         }
        },
        {
         "dtype": "int64",
         "name": "SET_POINTER_SPEED",
         "stats": {
          "histogram": [
           {
            "bin_end": -0.4,
            "bin_start": -0.5,
            "count": 0
           },
           {
            "bin_end": -0.3,
            "bin_start": -0.4,
            "count": 0
           },
           {
            "bin_end": -0.19999999999999996,
            "bin_start": -0.3,
            "count": 0
           },
           {
            "bin_end": -0.09999999999999998,
            "bin_start": -0.19999999999999996,
            "count": 0
           },
           {
            "bin_end": 0,
            "bin_start": -0.09999999999999998,
            "count": 0
           },
           {
            "bin_end": 0.10000000000000009,
            "bin_start": 0,
            "count": 5
           },
           {
            "bin_end": 0.20000000000000007,
            "bin_start": 0.10000000000000009,
            "count": 0
           },
           {
            "bin_end": 0.30000000000000004,
            "bin_start": 0.20000000000000007,
            "count": 0
           },
           {
            "bin_end": 0.4,
            "bin_start": 0.30000000000000004,
            "count": 0
           },
           {
            "bin_end": 0.5,
            "bin_start": 0.4,
            "count": 0
           }
          ],
          "max": "0",
          "min": "0",
          "nan_count": 0,
          "unique_count": 1
         }
        },
        {
         "dtype": "int64",
         "name": "SET_TIME",
         "stats": {
          "histogram": [
           {
            "bin_end": -0.4,
            "bin_start": -0.5,
            "count": 0
           },
           {
            "bin_end": -0.3,
            "bin_start": -0.4,
            "count": 0
           },
           {
            "bin_end": -0.19999999999999996,
            "bin_start": -0.3,
            "count": 0
           },
           {
            "bin_end": -0.09999999999999998,
            "bin_start": -0.19999999999999996,
            "count": 0
           },
           {
            "bin_end": 0,
            "bin_start": -0.09999999999999998,
            "count": 0
           },
           {
            "bin_end": 0.10000000000000009,
            "bin_start": 0,
            "count": 5
           },
           {
            "bin_end": 0.20000000000000007,
            "bin_start": 0.10000000000000009,
            "count": 0
           },
           {
            "bin_end": 0.30000000000000004,
            "bin_start": 0.20000000000000007,
            "count": 0
           },
           {
            "bin_end": 0.4,
            "bin_start": 0.30000000000000004,
            "count": 0
           },
           {
            "bin_end": 0.5,
            "bin_start": 0.4,
            "count": 0
           }
          ],
          "max": "0",
          "min": "0",
          "nan_count": 0,
          "unique_count": 1
         }
        },
        {
         "dtype": "int64",
         "name": "SET_TIME_ZONE",
         "stats": {
          "histogram": [
           {
            "bin_end": -0.4,
            "bin_start": -0.5,
            "count": 0
           },
           {
            "bin_end": -0.3,
            "bin_start": -0.4,
            "count": 0
           },
           {
            "bin_end": -0.19999999999999996,
            "bin_start": -0.3,
            "count": 0
           },
           {
            "bin_end": -0.09999999999999998,
            "bin_start": -0.19999999999999996,
            "count": 0
           },
           {
            "bin_end": 0,
            "bin_start": -0.09999999999999998,
            "count": 0
           },
           {
            "bin_end": 0.10000000000000009,
            "bin_start": 0,
            "count": 5
           },
           {
            "bin_end": 0.20000000000000007,
            "bin_start": 0.10000000000000009,
            "count": 0
           },
           {
            "bin_end": 0.30000000000000004,
            "bin_start": 0.20000000000000007,
            "count": 0
           },
           {
            "bin_end": 0.4,
            "bin_start": 0.30000000000000004,
            "count": 0
           },
           {
            "bin_end": 0.5,
            "bin_start": 0.4,
            "count": 0
           }
          ],
          "max": "0",
          "min": "0",
          "nan_count": 0,
          "unique_count": 1
         }
        },
        {
         "dtype": "int64",
         "name": "SET_WALLPAPER",
         "stats": {
          "histogram": [
           {
            "bin_end": -0.4,
            "bin_start": -0.5,
            "count": 0
           },
           {
            "bin_end": -0.3,
            "bin_start": -0.4,
            "count": 0
           },
           {
            "bin_end": -0.19999999999999996,
            "bin_start": -0.3,
            "count": 0
           },
           {
            "bin_end": -0.09999999999999998,
            "bin_start": -0.19999999999999996,
            "count": 0
           },
           {
            "bin_end": 0,
            "bin_start": -0.09999999999999998,
            "count": 0
           },
           {
            "bin_end": 0.10000000000000009,
            "bin_start": 0,
            "count": 5
           },
           {
            "bin_end": 0.20000000000000007,
            "bin_start": 0.10000000000000009,
            "count": 0
           },
           {
            "bin_end": 0.30000000000000004,
            "bin_start": 0.20000000000000007,
            "count": 0
           },
           {
            "bin_end": 0.4,
            "bin_start": 0.30000000000000004,
            "count": 0
           },
           {
            "bin_end": 0.5,
            "bin_start": 0.4,
            "count": 0
           }
          ],
          "max": "0",
          "min": "0",
          "nan_count": 0,
          "unique_count": 1
         }
        },
        {
         "dtype": "int64",
         "name": "UNINSTALL_SHORTCUT",
         "stats": {
          "histogram": [
           {
            "bin_end": -0.4,
            "bin_start": -0.5,
            "count": 0
           },
           {
            "bin_end": -0.3,
            "bin_start": -0.4,
            "count": 0
           },
           {
            "bin_end": -0.19999999999999996,
            "bin_start": -0.3,
            "count": 0
           },
           {
            "bin_end": -0.09999999999999998,
            "bin_start": -0.19999999999999996,
            "count": 0
           },
           {
            "bin_end": 0,
            "bin_start": -0.09999999999999998,
            "count": 0
           },
           {
            "bin_end": 0.10000000000000009,
            "bin_start": 0,
            "count": 5
           },
           {
            "bin_end": 0.20000000000000007,
            "bin_start": 0.10000000000000009,
            "count": 0
           },
           {
            "bin_end": 0.30000000000000004,
            "bin_start": 0.20000000000000007,
            "count": 0
           },
           {
            "bin_end": 0.4,
            "bin_start": 0.30000000000000004,
            "count": 0
           },
           {
            "bin_end": 0.5,
            "bin_start": 0.4,
            "count": 0
           }
          ],
          "max": "0",
          "min": "0",
          "nan_count": 0,
          "unique_count": 1
         }
        },
        {
         "dtype": "int64",
         "name": "VIBRATE",
         "stats": {
          "histogram": [
           {
            "bin_end": 0.1,
            "bin_start": 0,
            "count": 3
           },
           {
            "bin_end": 0.2,
            "bin_start": 0.1,
            "count": 0
           },
           {
            "bin_end": 0.30000000000000004,
            "bin_start": 0.2,
            "count": 0
           },
           {
            "bin_end": 0.4,
            "bin_start": 0.30000000000000004,
            "count": 0
           },
           {
            "bin_end": 0.5,
            "bin_start": 0.4,
            "count": 0
           },
           {
            "bin_end": 0.6000000000000001,
            "bin_start": 0.5,
            "count": 0
           },
           {
            "bin_end": 0.7000000000000001,
            "bin_start": 0.6000000000000001,
            "count": 0
           },
           {
            "bin_end": 0.8,
            "bin_start": 0.7000000000000001,
            "count": 0
           },
           {
            "bin_end": 0.9,
            "bin_start": 0.8,
            "count": 0
           },
           {
            "bin_end": 1,
            "bin_start": 0.9,
            "count": 2
           }
          ],
          "max": "1",
          "min": "0",
          "nan_count": 0,
          "unique_count": 2
         }
        },
        {
         "dtype": "int64",
         "name": "WAKE_LOCK",
         "stats": {
          "histogram": [
           {
            "bin_end": 0.1,
            "bin_start": 0,
            "count": 3
           },
           {
            "bin_end": 0.2,
            "bin_start": 0.1,
            "count": 0
           },
           {
            "bin_end": 0.30000000000000004,
            "bin_start": 0.2,
            "count": 0
           },
           {
            "bin_end": 0.4,
            "bin_start": 0.30000000000000004,
            "count": 0
           },
           {
            "bin_end": 0.5,
            "bin_start": 0.4,
            "count": 0
           },
           {
            "bin_end": 0.6000000000000001,
            "bin_start": 0.5,
            "count": 0
           },
           {
            "bin_end": 0.7000000000000001,
            "bin_start": 0.6000000000000001,
            "count": 0
           },
           {
            "bin_end": 0.8,
            "bin_start": 0.7000000000000001,
            "count": 0
           },
           {
            "bin_end": 0.9,
            "bin_start": 0.8,
            "count": 0
           },
           {
            "bin_end": 1,
            "bin_start": 0.9,
            "count": 2
           }
          ],
          "max": "1",
          "min": "0",
          "nan_count": 0,
          "unique_count": 2
         }
        },
        {
         "dtype": "int64",
         "name": "WRITE_CALENDAR",
         "stats": {
          "histogram": [
           {
            "bin_end": -0.4,
            "bin_start": -0.5,
            "count": 0
           },
           {
            "bin_end": -0.3,
            "bin_start": -0.4,
            "count": 0
           },
           {
            "bin_end": -0.19999999999999996,
            "bin_start": -0.3,
            "count": 0
           },
           {
            "bin_end": -0.09999999999999998,
            "bin_start": -0.19999999999999996,
            "count": 0
           },
           {
            "bin_end": 0,
            "bin_start": -0.09999999999999998,
            "count": 0
           },
           {
            "bin_end": 0.10000000000000009,
            "bin_start": 0,
            "count": 5
           },
           {
            "bin_end": 0.20000000000000007,
            "bin_start": 0.10000000000000009,
            "count": 0
           },
           {
            "bin_end": 0.30000000000000004,
            "bin_start": 0.20000000000000007,
            "count": 0
           },
           {
            "bin_end": 0.4,
            "bin_start": 0.30000000000000004,
            "count": 0
           },
           {
            "bin_end": 0.5,
            "bin_start": 0.4,
            "count": 0
           }
          ],
          "max": "0",
          "min": "0",
          "nan_count": 0,
          "unique_count": 1
         }
        },
        {
         "dtype": "int64",
         "name": "WRITE_CALL_LOG",
         "stats": {
          "histogram": [
           {
            "bin_end": -0.4,
            "bin_start": -0.5,
            "count": 0
           },
           {
            "bin_end": -0.3,
            "bin_start": -0.4,
            "count": 0
           },
           {
            "bin_end": -0.19999999999999996,
            "bin_start": -0.3,
            "count": 0
           },
           {
            "bin_end": -0.09999999999999998,
            "bin_start": -0.19999999999999996,
            "count": 0
           },
           {
            "bin_end": 0,
            "bin_start": -0.09999999999999998,
            "count": 0
           },
           {
            "bin_end": 0.10000000000000009,
            "bin_start": 0,
            "count": 5
           },
           {
            "bin_end": 0.20000000000000007,
            "bin_start": 0.10000000000000009,
            "count": 0
           },
           {
            "bin_end": 0.30000000000000004,
            "bin_start": 0.20000000000000007,
            "count": 0
           },
           {
            "bin_end": 0.4,
            "bin_start": 0.30000000000000004,
            "count": 0
           },
           {
            "bin_end": 0.5,
            "bin_start": 0.4,
            "count": 0
           }
          ],
          "max": "0",
          "min": "0",
          "nan_count": 0,
          "unique_count": 1
         }
        },
        {
         "dtype": "int64",
         "name": "WRITE_CONTACTS",
         "stats": {
          "histogram": [
           {
            "bin_end": -0.4,
            "bin_start": -0.5,
            "count": 0
           },
           {
            "bin_end": -0.3,
            "bin_start": -0.4,
            "count": 0
           },
           {
            "bin_end": -0.19999999999999996,
            "bin_start": -0.3,
            "count": 0
           },
           {
            "bin_end": -0.09999999999999998,
            "bin_start": -0.19999999999999996,
            "count": 0
           },
           {
            "bin_end": 0,
            "bin_start": -0.09999999999999998,
            "count": 0
           },
           {
            "bin_end": 0.10000000000000009,
            "bin_start": 0,
            "count": 5
           },
           {
            "bin_end": 0.20000000000000007,
            "bin_start": 0.10000000000000009,
            "count": 0
           },
           {
            "bin_end": 0.30000000000000004,
            "bin_start": 0.20000000000000007,
            "count": 0
           },
           {
            "bin_end": 0.4,
            "bin_start": 0.30000000000000004,
            "count": 0
           },
           {
            "bin_end": 0.5,
            "bin_start": 0.4,
            "count": 0
           }
          ],
          "max": "0",
          "min": "0",
          "nan_count": 0,
          "unique_count": 1
         }
        },
        {
         "dtype": "int64",
         "name": "WRITE_USER_DICTIONARY",
         "stats": {
          "histogram": [
           {
            "bin_end": -0.4,
            "bin_start": -0.5,
            "count": 0
           },
           {
            "bin_end": -0.3,
            "bin_start": -0.4,
            "count": 0
           },
           {
            "bin_end": -0.19999999999999996,
            "bin_start": -0.3,
            "count": 0
           },
           {
            "bin_end": -0.09999999999999998,
            "bin_start": -0.19999999999999996,
            "count": 0
           },
           {
            "bin_end": 0,
            "bin_start": -0.09999999999999998,
            "count": 0
           },
           {
            "bin_end": 0.10000000000000009,
            "bin_start": 0,
            "count": 5
           },
           {
            "bin_end": 0.20000000000000007,
            "bin_start": 0.10000000000000009,
            "count": 0
           },
           {
            "bin_end": 0.30000000000000004,
            "bin_start": 0.20000000000000007,
            "count": 0
           },
           {
            "bin_end": 0.4,
            "bin_start": 0.30000000000000004,
            "count": 0
           },
           {
            "bin_end": 0.5,
            "bin_start": 0.4,
            "count": 0
           }
          ],
          "max": "0",
          "min": "0",
          "nan_count": 0,
          "unique_count": 1
         }
        },
        {
         "dtype": "int64",
         "name": "class",
         "stats": {
          "histogram": [
           {
            "bin_end": -0.4,
            "bin_start": -0.5,
            "count": 0
           },
           {
            "bin_end": -0.3,
            "bin_start": -0.4,
            "count": 0
           },
           {
            "bin_end": -0.19999999999999996,
            "bin_start": -0.3,
            "count": 0
           },
           {
            "bin_end": -0.09999999999999998,
            "bin_start": -0.19999999999999996,
            "count": 0
           },
           {
            "bin_end": 0,
            "bin_start": -0.09999999999999998,
            "count": 0
           },
           {
            "bin_end": 0.10000000000000009,
            "bin_start": 0,
            "count": 5
           },
           {
            "bin_end": 0.20000000000000007,
            "bin_start": 0.10000000000000009,
            "count": 0
           },
           {
            "bin_end": 0.30000000000000004,
            "bin_start": 0.20000000000000007,
            "count": 0
           },
           {
            "bin_end": 0.4,
            "bin_start": 0.30000000000000004,
            "count": 0
           },
           {
            "bin_end": 0.5,
            "bin_start": 0.4,
            "count": 0
           }
          ],
          "max": "0",
          "min": "0",
          "nan_count": 0,
          "unique_count": 1
         }
        },
        {
         "dtype": "int64",
         "name": "_deepnote_index_column"
        }
       ],
       "row_count": 5,
       "rows_bottom": null,
       "rows_top": [
        {
         "ACCESS_SUPERUSER": 0,
         "ACCESS_SURFACE_FLINGER": 0,
         "ACCOUNT_MANAGER": 0,
         "ADD_VOICEMAIL": 0,
         "BLUETOOTH_PRIVILEGED": 0,
         "BRICK": 0,
         "CHANGE_COMPONENT_ENABLED_STATE": 0,
         "CLEAR_APP_USER_DATA": 0,
         "CONTROL_LOCATION_UPDATES": 0,
         "DELETE_CACHE_FILES": 0,
         "DELETE_PACKAGES": 0,
         "DEVICE_POWER": 0,
         "DISABLE_KEYGUARD": 0,
         "EXPAND_STATUS_BAR": 0,
         "FACTORY_TEST": 0,
         "FLASHLIGHT": 0,
         "FORCE_BACK": 0,
         "GET_PACKAGE_SIZE": 0,
         "GET_TOP_ACTIVITY_INFO": 0,
         "GLOBAL_SEARCH": 0,
         "INJECT_EVENTS": 0,
         "INSTALL_PACKAGES": 0,
         "INSTALL_SHORTCUT": 0,
         "INTERNAL_SYSTEM_WINDOW": 0,
         "KILL_BACKGROUND_PROCESSES": 0,
         "MANAGE_DOCUMENTS": 0,
         "MASTER_CLEAR": 0,
         "MEDIA_CONTENT_CONTROL": 0,
         "MODIFY_AUDIO_SETTINGS": 0,
         "MODIFY_PHONE_STATE": 0,
         "MOUNT_FORMAT_FILESYSTEM": 0,
         "MOUNT_UNMOUNT_FILESYSTEM": 0,
         "PROCESS_OUTGOING_CALLS": 0,
         "READ_LOGS": 0,
         "READ_USER_DICTIONARY": 0,
         "REBOOT": 0,
         "RECEIVE_BOOT_COMPLETED": 0,
         "REORDER_TASKS": 0,
         "SEND_RESPOND_VIA_MESSAGE": 0,
         "SET_ALARM": 0,
         "SET_ANIMATION_SCALE": 0,
         "SET_ORIENTATION": 0,
         "SET_POINTER_SPEED": 0,
         "SET_TIME": 0,
         "SET_TIME_ZONE": 0,
         "SET_WALLPAPER": 0,
         "STATUS_BAR": 0,
         "UNINSTALL_SHORTCUT": 0,
         "VIBRATE": 0,
         "WAKE_LOCK": 0,
         "WRITE_CALENDAR": 0,
         "WRITE_CALL_LOG": 0,
         "WRITE_CONTACTS": 0,
         "WRITE_EXTERNAL_STORAGE": 0,
         "WRITE_HISTORY_BOOKMARKS": 0,
         "WRITE_PROFILE": 0,
         "WRITE_SECURE_SETTINGS": 0,
         "WRITE_USER_DICTIONARY": 0,
         "_deepnote_index_column": 0,
         "class": 0
        },
        {
         "ACCESS_SUPERUSER": 0,
         "ACCESS_SURFACE_FLINGER": 0,
         "ACCOUNT_MANAGER": 0,
         "ADD_VOICEMAIL": 0,
         "BLUETOOTH_PRIVILEGED": 0,
         "BRICK": 0,
         "CHANGE_COMPONENT_ENABLED_STATE": 0,
         "CLEAR_APP_USER_DATA": 0,
         "CONTROL_LOCATION_UPDATES": 0,
         "DELETE_CACHE_FILES": 0,
         "DELETE_PACKAGES": 0,
         "DEVICE_POWER": 0,
         "DISABLE_KEYGUARD": 0,
         "EXPAND_STATUS_BAR": 0,
         "FACTORY_TEST": 0,
         "FLASHLIGHT": 0,
         "FORCE_BACK": 0,
         "GET_PACKAGE_SIZE": 0,
         "GET_TOP_ACTIVITY_INFO": 0,
         "GLOBAL_SEARCH": 0,
         "INJECT_EVENTS": 0,
         "INSTALL_PACKAGES": 0,
         "INSTALL_SHORTCUT": 0,
         "INTERNAL_SYSTEM_WINDOW": 0,
         "KILL_BACKGROUND_PROCESSES": 0,
         "MANAGE_DOCUMENTS": 0,
         "MASTER_CLEAR": 0,
         "MEDIA_CONTENT_CONTROL": 0,
         "MODIFY_AUDIO_SETTINGS": 0,
         "MODIFY_PHONE_STATE": 0,
         "MOUNT_FORMAT_FILESYSTEM": 0,
         "MOUNT_UNMOUNT_FILESYSTEM": 0,
         "PROCESS_OUTGOING_CALLS": 0,
         "READ_LOGS": 0,
         "READ_USER_DICTIONARY": 0,
         "REBOOT": 0,
         "RECEIVE_BOOT_COMPLETED": 0,
         "REORDER_TASKS": 0,
         "SEND_RESPOND_VIA_MESSAGE": 0,
         "SET_ALARM": 0,
         "SET_ANIMATION_SCALE": 0,
         "SET_ORIENTATION": 0,
         "SET_POINTER_SPEED": 0,
         "SET_TIME": 0,
         "SET_TIME_ZONE": 0,
         "SET_WALLPAPER": 0,
         "STATUS_BAR": 0,
         "UNINSTALL_SHORTCUT": 0,
         "VIBRATE": 0,
         "WAKE_LOCK": 0,
         "WRITE_CALENDAR": 0,
         "WRITE_CALL_LOG": 0,
         "WRITE_CONTACTS": 0,
         "WRITE_EXTERNAL_STORAGE": 0,
         "WRITE_HISTORY_BOOKMARKS": 0,
         "WRITE_PROFILE": 0,
         "WRITE_SECURE_SETTINGS": 0,
         "WRITE_USER_DICTIONARY": 0,
         "_deepnote_index_column": 1,
         "class": 0
        },
        {
         "ACCESS_SUPERUSER": 0,
         "ACCESS_SURFACE_FLINGER": 0,
         "ACCOUNT_MANAGER": 0,
         "ADD_VOICEMAIL": 0,
         "BLUETOOTH_PRIVILEGED": 0,
         "BRICK": 0,
         "CHANGE_COMPONENT_ENABLED_STATE": 0,
         "CLEAR_APP_USER_DATA": 0,
         "CONTROL_LOCATION_UPDATES": 0,
         "DELETE_CACHE_FILES": 0,
         "DELETE_PACKAGES": 0,
         "DEVICE_POWER": 0,
         "DISABLE_KEYGUARD": 0,
         "EXPAND_STATUS_BAR": 0,
         "FACTORY_TEST": 0,
         "FLASHLIGHT": 0,
         "FORCE_BACK": 0,
         "GET_PACKAGE_SIZE": 0,
         "GET_TOP_ACTIVITY_INFO": 0,
         "GLOBAL_SEARCH": 0,
         "INJECT_EVENTS": 0,
         "INSTALL_PACKAGES": 0,
         "INSTALL_SHORTCUT": 0,
         "INTERNAL_SYSTEM_WINDOW": 0,
         "KILL_BACKGROUND_PROCESSES": 0,
         "MANAGE_DOCUMENTS": 0,
         "MASTER_CLEAR": 0,
         "MEDIA_CONTENT_CONTROL": 0,
         "MODIFY_AUDIO_SETTINGS": 0,
         "MODIFY_PHONE_STATE": 0,
         "MOUNT_FORMAT_FILESYSTEM": 0,
         "MOUNT_UNMOUNT_FILESYSTEM": 0,
         "PROCESS_OUTGOING_CALLS": 0,
         "READ_LOGS": 0,
         "READ_USER_DICTIONARY": 0,
         "REBOOT": 0,
         "RECEIVE_BOOT_COMPLETED": 0,
         "REORDER_TASKS": 0,
         "SEND_RESPOND_VIA_MESSAGE": 0,
         "SET_ALARM": 0,
         "SET_ANIMATION_SCALE": 0,
         "SET_ORIENTATION": 0,
         "SET_POINTER_SPEED": 0,
         "SET_TIME": 0,
         "SET_TIME_ZONE": 0,
         "SET_WALLPAPER": 0,
         "STATUS_BAR": 0,
         "UNINSTALL_SHORTCUT": 0,
         "VIBRATE": 0,
         "WAKE_LOCK": 0,
         "WRITE_CALENDAR": 0,
         "WRITE_CALL_LOG": 0,
         "WRITE_CONTACTS": 0,
         "WRITE_EXTERNAL_STORAGE": 0,
         "WRITE_HISTORY_BOOKMARKS": 0,
         "WRITE_PROFILE": 0,
         "WRITE_SECURE_SETTINGS": 0,
         "WRITE_USER_DICTIONARY": 0,
         "_deepnote_index_column": 2,
         "class": 0
        },
        {
         "ACCESS_SUPERUSER": 0,
         "ACCESS_SURFACE_FLINGER": 0,
         "ACCOUNT_MANAGER": 0,
         "ADD_VOICEMAIL": 0,
         "BLUETOOTH_PRIVILEGED": 0,
         "BRICK": 0,
         "CHANGE_COMPONENT_ENABLED_STATE": 0,
         "CLEAR_APP_USER_DATA": 0,
         "CONTROL_LOCATION_UPDATES": 0,
         "DELETE_CACHE_FILES": 0,
         "DELETE_PACKAGES": 0,
         "DEVICE_POWER": 0,
         "DISABLE_KEYGUARD": 0,
         "EXPAND_STATUS_BAR": 0,
         "FACTORY_TEST": 0,
         "FLASHLIGHT": 0,
         "FORCE_BACK": 0,
         "GET_PACKAGE_SIZE": 0,
         "GET_TOP_ACTIVITY_INFO": 0,
         "GLOBAL_SEARCH": 0,
         "INJECT_EVENTS": 0,
         "INSTALL_PACKAGES": 0,
         "INSTALL_SHORTCUT": 0,
         "INTERNAL_SYSTEM_WINDOW": 0,
         "KILL_BACKGROUND_PROCESSES": 0,
         "MANAGE_DOCUMENTS": 0,
         "MASTER_CLEAR": 0,
         "MEDIA_CONTENT_CONTROL": 0,
         "MODIFY_AUDIO_SETTINGS": 0,
         "MODIFY_PHONE_STATE": 0,
         "MOUNT_FORMAT_FILESYSTEM": 0,
         "MOUNT_UNMOUNT_FILESYSTEM": 0,
         "PROCESS_OUTGOING_CALLS": 0,
         "READ_LOGS": 0,
         "READ_USER_DICTIONARY": 0,
         "REBOOT": 0,
         "RECEIVE_BOOT_COMPLETED": 0,
         "REORDER_TASKS": 0,
         "SEND_RESPOND_VIA_MESSAGE": 0,
         "SET_ALARM": 0,
         "SET_ANIMATION_SCALE": 0,
         "SET_ORIENTATION": 0,
         "SET_POINTER_SPEED": 0,
         "SET_TIME": 0,
         "SET_TIME_ZONE": 0,
         "SET_WALLPAPER": 0,
         "STATUS_BAR": 0,
         "UNINSTALL_SHORTCUT": 0,
         "VIBRATE": 1,
         "WAKE_LOCK": 1,
         "WRITE_CALENDAR": 0,
         "WRITE_CALL_LOG": 0,
         "WRITE_CONTACTS": 0,
         "WRITE_EXTERNAL_STORAGE": 0,
         "WRITE_HISTORY_BOOKMARKS": 0,
         "WRITE_PROFILE": 0,
         "WRITE_SECURE_SETTINGS": 0,
         "WRITE_USER_DICTIONARY": 0,
         "_deepnote_index_column": 3,
         "class": 0
        },
        {
         "ACCESS_SUPERUSER": 0,
         "ACCESS_SURFACE_FLINGER": 0,
         "ACCOUNT_MANAGER": 0,
         "ADD_VOICEMAIL": 0,
         "BLUETOOTH_PRIVILEGED": 0,
         "BRICK": 0,
         "CHANGE_COMPONENT_ENABLED_STATE": 0,
         "CLEAR_APP_USER_DATA": 0,
         "CONTROL_LOCATION_UPDATES": 0,
         "DELETE_CACHE_FILES": 0,
         "DELETE_PACKAGES": 0,
         "DEVICE_POWER": 0,
         "DISABLE_KEYGUARD": 0,
         "EXPAND_STATUS_BAR": 0,
         "FACTORY_TEST": 0,
         "FLASHLIGHT": 0,
         "FORCE_BACK": 0,
         "GET_PACKAGE_SIZE": 0,
         "GET_TOP_ACTIVITY_INFO": 0,
         "GLOBAL_SEARCH": 0,
         "INJECT_EVENTS": 0,
         "INSTALL_PACKAGES": 0,
         "INSTALL_SHORTCUT": 1,
         "INTERNAL_SYSTEM_WINDOW": 0,
         "KILL_BACKGROUND_PROCESSES": 0,
         "MANAGE_DOCUMENTS": 0,
         "MASTER_CLEAR": 0,
         "MEDIA_CONTENT_CONTROL": 0,
         "MODIFY_AUDIO_SETTINGS": 0,
         "MODIFY_PHONE_STATE": 0,
         "MOUNT_FORMAT_FILESYSTEM": 0,
         "MOUNT_UNMOUNT_FILESYSTEM": 0,
         "PROCESS_OUTGOING_CALLS": 0,
         "READ_LOGS": 0,
         "READ_USER_DICTIONARY": 0,
         "REBOOT": 0,
         "RECEIVE_BOOT_COMPLETED": 1,
         "REORDER_TASKS": 0,
         "SEND_RESPOND_VIA_MESSAGE": 0,
         "SET_ALARM": 0,
         "SET_ANIMATION_SCALE": 0,
         "SET_ORIENTATION": 0,
         "SET_POINTER_SPEED": 0,
         "SET_TIME": 0,
         "SET_TIME_ZONE": 0,
         "SET_WALLPAPER": 0,
         "STATUS_BAR": 0,
         "UNINSTALL_SHORTCUT": 0,
         "VIBRATE": 1,
         "WAKE_LOCK": 1,
         "WRITE_CALENDAR": 0,
         "WRITE_CALL_LOG": 0,
         "WRITE_CONTACTS": 0,
         "WRITE_EXTERNAL_STORAGE": 1,
         "WRITE_HISTORY_BOOKMARKS": 0,
         "WRITE_PROFILE": 0,
         "WRITE_SECURE_SETTINGS": 0,
         "WRITE_USER_DICTIONARY": 0,
         "_deepnote_index_column": 4,
         "class": 0
        }
       ]
      },
      "text/html": [
       "<div>\n",
       "<style scoped>\n",
       "    .dataframe tbody tr th:only-of-type {\n",
       "        vertical-align: middle;\n",
       "    }\n",
       "\n",
       "    .dataframe tbody tr th {\n",
       "        vertical-align: top;\n",
       "    }\n",
       "\n",
       "    .dataframe thead th {\n",
       "        text-align: right;\n",
       "    }\n",
       "</style>\n",
       "<table border=\"1\" class=\"dataframe\">\n",
       "  <thead>\n",
       "    <tr style=\"text-align: right;\">\n",
       "      <th></th>\n",
       "      <th>ACCESS_SUPERUSER</th>\n",
       "      <th>BLUETOOTH_PRIVILEGED</th>\n",
       "      <th>BRICK</th>\n",
       "      <th>CHANGE_COMPONENT_ENABLED_STATE</th>\n",
       "      <th>CLEAR_APP_USER_DATA</th>\n",
       "      <th>DELETE_CACHE_FILES</th>\n",
       "      <th>DELETE_PACKAGES</th>\n",
       "      <th>DISABLE_KEYGUARD</th>\n",
       "      <th>FACTORY_TEST</th>\n",
       "      <th>INSTALL_PACKAGES</th>\n",
       "      <th>INJECT_EVENTS</th>\n",
       "      <th>INTERNAL_SYSTEM_WINDOW</th>\n",
       "      <th>KILL_BACKGROUND_PROCESSES</th>\n",
       "      <th>MASTER_CLEAR</th>\n",
       "      <th>MODIFY_PHONE_STATE</th>\n",
       "      <th>MOUNT_FORMAT_FILESYSTEM</th>\n",
       "      <th>MOUNT_UNMOUNT_FILESYSTEM</th>\n",
       "      <th>PROCESS_OUTGOING_CALLS</th>\n",
       "      <th>READ_LOGS</th>\n",
       "      <th>REBOOT</th>\n",
       "      <th>RECEIVE_BOOT_COMPLETED</th>\n",
       "      <th>STATUS_BAR</th>\n",
       "      <th>WRITE_EXTERNAL_STORAGE</th>\n",
       "      <th>WRITE_HISTORY_BOOKMARKS</th>\n",
       "      <th>WRITE_PROFILE</th>\n",
       "      <th>WRITE_SECURE_SETTINGS</th>\n",
       "      <th>ACCESS_SURFACE_FLINGER</th>\n",
       "      <th>ACCOUNT_MANAGER</th>\n",
       "      <th>ADD_VOICEMAIL</th>\n",
       "      <th>CONTROL_LOCATION_UPDATES</th>\n",
       "      <th>DEVICE_POWER</th>\n",
       "      <th>EXPAND_STATUS_BAR</th>\n",
       "      <th>FLASHLIGHT</th>\n",
       "      <th>FORCE_BACK</th>\n",
       "      <th>GET_PACKAGE_SIZE</th>\n",
       "      <th>GET_TOP_ACTIVITY_INFO</th>\n",
       "      <th>GLOBAL_SEARCH</th>\n",
       "      <th>INSTALL_SHORTCUT</th>\n",
       "      <th>MANAGE_DOCUMENTS</th>\n",
       "      <th>MEDIA_CONTENT_CONTROL</th>\n",
       "      <th>MODIFY_AUDIO_SETTINGS</th>\n",
       "      <th>READ_USER_DICTIONARY</th>\n",
       "      <th>REORDER_TASKS</th>\n",
       "      <th>SEND_RESPOND_VIA_MESSAGE</th>\n",
       "      <th>SET_ALARM</th>\n",
       "      <th>SET_ANIMATION_SCALE</th>\n",
       "      <th>SET_ORIENTATION</th>\n",
       "      <th>SET_POINTER_SPEED</th>\n",
       "      <th>SET_TIME</th>\n",
       "      <th>SET_TIME_ZONE</th>\n",
       "      <th>SET_WALLPAPER</th>\n",
       "      <th>UNINSTALL_SHORTCUT</th>\n",
       "      <th>VIBRATE</th>\n",
       "      <th>WAKE_LOCK</th>\n",
       "      <th>WRITE_CALENDAR</th>\n",
       "      <th>WRITE_CALL_LOG</th>\n",
       "      <th>WRITE_CONTACTS</th>\n",
       "      <th>WRITE_USER_DICTIONARY</th>\n",
       "      <th>class</th>\n",
       "    </tr>\n",
       "  </thead>\n",
       "  <tbody>\n",
       "    <tr>\n",
       "      <th>0</th>\n",
       "      <td>0</td>\n",
       "      <td>0</td>\n",
       "      <td>0</td>\n",
       "      <td>0</td>\n",
       "      <td>0</td>\n",
       "      <td>0</td>\n",
       "      <td>0</td>\n",
       "      <td>0</td>\n",
       "      <td>0</td>\n",
       "      <td>0</td>\n",
       "      <td>0</td>\n",
       "      <td>0</td>\n",
       "      <td>0</td>\n",
       "      <td>0</td>\n",
       "      <td>0</td>\n",
       "      <td>0</td>\n",
       "      <td>0</td>\n",
       "      <td>0</td>\n",
       "      <td>0</td>\n",
       "      <td>0</td>\n",
       "      <td>0</td>\n",
       "      <td>0</td>\n",
       "      <td>0</td>\n",
       "      <td>0</td>\n",
       "      <td>0</td>\n",
       "      <td>0</td>\n",
       "      <td>0</td>\n",
       "      <td>0</td>\n",
       "      <td>0</td>\n",
       "      <td>0</td>\n",
       "      <td>0</td>\n",
       "      <td>0</td>\n",
       "      <td>0</td>\n",
       "      <td>0</td>\n",
       "      <td>0</td>\n",
       "      <td>0</td>\n",
       "      <td>0</td>\n",
       "      <td>0</td>\n",
       "      <td>0</td>\n",
       "      <td>0</td>\n",
       "      <td>0</td>\n",
       "      <td>0</td>\n",
       "      <td>0</td>\n",
       "      <td>0</td>\n",
       "      <td>0</td>\n",
       "      <td>0</td>\n",
       "      <td>0</td>\n",
       "      <td>0</td>\n",
       "      <td>0</td>\n",
       "      <td>0</td>\n",
       "      <td>0</td>\n",
       "      <td>0</td>\n",
       "      <td>0</td>\n",
       "      <td>0</td>\n",
       "      <td>0</td>\n",
       "      <td>0</td>\n",
       "      <td>0</td>\n",
       "      <td>0</td>\n",
       "      <td>0</td>\n",
       "    </tr>\n",
       "    <tr>\n",
       "      <th>1</th>\n",
       "      <td>0</td>\n",
       "      <td>0</td>\n",
       "      <td>0</td>\n",
       "      <td>0</td>\n",
       "      <td>0</td>\n",
       "      <td>0</td>\n",
       "      <td>0</td>\n",
       "      <td>0</td>\n",
       "      <td>0</td>\n",
       "      <td>0</td>\n",
       "      <td>0</td>\n",
       "      <td>0</td>\n",
       "      <td>0</td>\n",
       "      <td>0</td>\n",
       "      <td>0</td>\n",
       "      <td>0</td>\n",
       "      <td>0</td>\n",
       "      <td>0</td>\n",
       "      <td>0</td>\n",
       "      <td>0</td>\n",
       "      <td>0</td>\n",
       "      <td>0</td>\n",
       "      <td>0</td>\n",
       "      <td>0</td>\n",
       "      <td>0</td>\n",
       "      <td>0</td>\n",
       "      <td>0</td>\n",
       "      <td>0</td>\n",
       "      <td>0</td>\n",
       "      <td>0</td>\n",
       "      <td>0</td>\n",
       "      <td>0</td>\n",
       "      <td>0</td>\n",
       "      <td>0</td>\n",
       "      <td>0</td>\n",
       "      <td>0</td>\n",
       "      <td>0</td>\n",
       "      <td>0</td>\n",
       "      <td>0</td>\n",
       "      <td>0</td>\n",
       "      <td>0</td>\n",
       "      <td>0</td>\n",
       "      <td>0</td>\n",
       "      <td>0</td>\n",
       "      <td>0</td>\n",
       "      <td>0</td>\n",
       "      <td>0</td>\n",
       "      <td>0</td>\n",
       "      <td>0</td>\n",
       "      <td>0</td>\n",
       "      <td>0</td>\n",
       "      <td>0</td>\n",
       "      <td>0</td>\n",
       "      <td>0</td>\n",
       "      <td>0</td>\n",
       "      <td>0</td>\n",
       "      <td>0</td>\n",
       "      <td>0</td>\n",
       "      <td>0</td>\n",
       "    </tr>\n",
       "    <tr>\n",
       "      <th>2</th>\n",
       "      <td>0</td>\n",
       "      <td>0</td>\n",
       "      <td>0</td>\n",
       "      <td>0</td>\n",
       "      <td>0</td>\n",
       "      <td>0</td>\n",
       "      <td>0</td>\n",
       "      <td>0</td>\n",
       "      <td>0</td>\n",
       "      <td>0</td>\n",
       "      <td>0</td>\n",
       "      <td>0</td>\n",
       "      <td>0</td>\n",
       "      <td>0</td>\n",
       "      <td>0</td>\n",
       "      <td>0</td>\n",
       "      <td>0</td>\n",
       "      <td>0</td>\n",
       "      <td>0</td>\n",
       "      <td>0</td>\n",
       "      <td>0</td>\n",
       "      <td>0</td>\n",
       "      <td>0</td>\n",
       "      <td>0</td>\n",
       "      <td>0</td>\n",
       "      <td>0</td>\n",
       "      <td>0</td>\n",
       "      <td>0</td>\n",
       "      <td>0</td>\n",
       "      <td>0</td>\n",
       "      <td>0</td>\n",
       "      <td>0</td>\n",
       "      <td>0</td>\n",
       "      <td>0</td>\n",
       "      <td>0</td>\n",
       "      <td>0</td>\n",
       "      <td>0</td>\n",
       "      <td>0</td>\n",
       "      <td>0</td>\n",
       "      <td>0</td>\n",
       "      <td>0</td>\n",
       "      <td>0</td>\n",
       "      <td>0</td>\n",
       "      <td>0</td>\n",
       "      <td>0</td>\n",
       "      <td>0</td>\n",
       "      <td>0</td>\n",
       "      <td>0</td>\n",
       "      <td>0</td>\n",
       "      <td>0</td>\n",
       "      <td>0</td>\n",
       "      <td>0</td>\n",
       "      <td>0</td>\n",
       "      <td>0</td>\n",
       "      <td>0</td>\n",
       "      <td>0</td>\n",
       "      <td>0</td>\n",
       "      <td>0</td>\n",
       "      <td>0</td>\n",
       "    </tr>\n",
       "    <tr>\n",
       "      <th>3</th>\n",
       "      <td>0</td>\n",
       "      <td>0</td>\n",
       "      <td>0</td>\n",
       "      <td>0</td>\n",
       "      <td>0</td>\n",
       "      <td>0</td>\n",
       "      <td>0</td>\n",
       "      <td>0</td>\n",
       "      <td>0</td>\n",
       "      <td>0</td>\n",
       "      <td>0</td>\n",
       "      <td>0</td>\n",
       "      <td>0</td>\n",
       "      <td>0</td>\n",
       "      <td>0</td>\n",
       "      <td>0</td>\n",
       "      <td>0</td>\n",
       "      <td>0</td>\n",
       "      <td>0</td>\n",
       "      <td>0</td>\n",
       "      <td>0</td>\n",
       "      <td>0</td>\n",
       "      <td>0</td>\n",
       "      <td>0</td>\n",
       "      <td>0</td>\n",
       "      <td>0</td>\n",
       "      <td>0</td>\n",
       "      <td>0</td>\n",
       "      <td>0</td>\n",
       "      <td>0</td>\n",
       "      <td>0</td>\n",
       "      <td>0</td>\n",
       "      <td>0</td>\n",
       "      <td>0</td>\n",
       "      <td>0</td>\n",
       "      <td>0</td>\n",
       "      <td>0</td>\n",
       "      <td>0</td>\n",
       "      <td>0</td>\n",
       "      <td>0</td>\n",
       "      <td>0</td>\n",
       "      <td>0</td>\n",
       "      <td>0</td>\n",
       "      <td>0</td>\n",
       "      <td>0</td>\n",
       "      <td>0</td>\n",
       "      <td>0</td>\n",
       "      <td>0</td>\n",
       "      <td>0</td>\n",
       "      <td>0</td>\n",
       "      <td>0</td>\n",
       "      <td>0</td>\n",
       "      <td>1</td>\n",
       "      <td>1</td>\n",
       "      <td>0</td>\n",
       "      <td>0</td>\n",
       "      <td>0</td>\n",
       "      <td>0</td>\n",
       "      <td>0</td>\n",
       "    </tr>\n",
       "    <tr>\n",
       "      <th>4</th>\n",
       "      <td>0</td>\n",
       "      <td>0</td>\n",
       "      <td>0</td>\n",
       "      <td>0</td>\n",
       "      <td>0</td>\n",
       "      <td>0</td>\n",
       "      <td>0</td>\n",
       "      <td>0</td>\n",
       "      <td>0</td>\n",
       "      <td>0</td>\n",
       "      <td>0</td>\n",
       "      <td>0</td>\n",
       "      <td>0</td>\n",
       "      <td>0</td>\n",
       "      <td>0</td>\n",
       "      <td>0</td>\n",
       "      <td>0</td>\n",
       "      <td>0</td>\n",
       "      <td>0</td>\n",
       "      <td>0</td>\n",
       "      <td>1</td>\n",
       "      <td>0</td>\n",
       "      <td>1</td>\n",
       "      <td>0</td>\n",
       "      <td>0</td>\n",
       "      <td>0</td>\n",
       "      <td>0</td>\n",
       "      <td>0</td>\n",
       "      <td>0</td>\n",
       "      <td>0</td>\n",
       "      <td>0</td>\n",
       "      <td>0</td>\n",
       "      <td>0</td>\n",
       "      <td>0</td>\n",
       "      <td>0</td>\n",
       "      <td>0</td>\n",
       "      <td>0</td>\n",
       "      <td>1</td>\n",
       "      <td>0</td>\n",
       "      <td>0</td>\n",
       "      <td>0</td>\n",
       "      <td>0</td>\n",
       "      <td>0</td>\n",
       "      <td>0</td>\n",
       "      <td>0</td>\n",
       "      <td>0</td>\n",
       "      <td>0</td>\n",
       "      <td>0</td>\n",
       "      <td>0</td>\n",
       "      <td>0</td>\n",
       "      <td>0</td>\n",
       "      <td>0</td>\n",
       "      <td>1</td>\n",
       "      <td>1</td>\n",
       "      <td>0</td>\n",
       "      <td>0</td>\n",
       "      <td>0</td>\n",
       "      <td>0</td>\n",
       "      <td>0</td>\n",
       "    </tr>\n",
       "  </tbody>\n",
       "</table>\n",
       "</div>"
      ],
      "text/plain": [
       "   ACCESS_SUPERUSER  BLUETOOTH_PRIVILEGED  BRICK  \\\n",
       "0                 0                     0      0   \n",
       "1                 0                     0      0   \n",
       "2                 0                     0      0   \n",
       "3                 0                     0      0   \n",
       "4                 0                     0      0   \n",
       "\n",
       "   CHANGE_COMPONENT_ENABLED_STATE  CLEAR_APP_USER_DATA  DELETE_CACHE_FILES  \\\n",
       "0                               0                    0                   0   \n",
       "1                               0                    0                   0   \n",
       "2                               0                    0                   0   \n",
       "3                               0                    0                   0   \n",
       "4                               0                    0                   0   \n",
       "\n",
       "   DELETE_PACKAGES  DISABLE_KEYGUARD  FACTORY_TEST  INSTALL_PACKAGES  \\\n",
       "0                0                 0             0                 0   \n",
       "1                0                 0             0                 0   \n",
       "2                0                 0             0                 0   \n",
       "3                0                 0             0                 0   \n",
       "4                0                 0             0                 0   \n",
       "\n",
       "   INJECT_EVENTS  INTERNAL_SYSTEM_WINDOW  KILL_BACKGROUND_PROCESSES  \\\n",
       "0              0                       0                          0   \n",
       "1              0                       0                          0   \n",
       "2              0                       0                          0   \n",
       "3              0                       0                          0   \n",
       "4              0                       0                          0   \n",
       "\n",
       "   MASTER_CLEAR  MODIFY_PHONE_STATE  MOUNT_FORMAT_FILESYSTEM  \\\n",
       "0             0                   0                        0   \n",
       "1             0                   0                        0   \n",
       "2             0                   0                        0   \n",
       "3             0                   0                        0   \n",
       "4             0                   0                        0   \n",
       "\n",
       "   MOUNT_UNMOUNT_FILESYSTEM  PROCESS_OUTGOING_CALLS  READ_LOGS  REBOOT  \\\n",
       "0                         0                       0          0       0   \n",
       "1                         0                       0          0       0   \n",
       "2                         0                       0          0       0   \n",
       "3                         0                       0          0       0   \n",
       "4                         0                       0          0       0   \n",
       "\n",
       "   RECEIVE_BOOT_COMPLETED  STATUS_BAR  WRITE_EXTERNAL_STORAGE  \\\n",
       "0                       0           0                       0   \n",
       "1                       0           0                       0   \n",
       "2                       0           0                       0   \n",
       "3                       0           0                       0   \n",
       "4                       1           0                       1   \n",
       "\n",
       "   WRITE_HISTORY_BOOKMARKS  WRITE_PROFILE  WRITE_SECURE_SETTINGS  \\\n",
       "0                        0              0                      0   \n",
       "1                        0              0                      0   \n",
       "2                        0              0                      0   \n",
       "3                        0              0                      0   \n",
       "4                        0              0                      0   \n",
       "\n",
       "   ACCESS_SURFACE_FLINGER  ACCOUNT_MANAGER  ADD_VOICEMAIL  \\\n",
       "0                       0                0              0   \n",
       "1                       0                0              0   \n",
       "2                       0                0              0   \n",
       "3                       0                0              0   \n",
       "4                       0                0              0   \n",
       "\n",
       "   CONTROL_LOCATION_UPDATES  DEVICE_POWER  EXPAND_STATUS_BAR  FLASHLIGHT  \\\n",
       "0                         0             0                  0           0   \n",
       "1                         0             0                  0           0   \n",
       "2                         0             0                  0           0   \n",
       "3                         0             0                  0           0   \n",
       "4                         0             0                  0           0   \n",
       "\n",
       "   FORCE_BACK  GET_PACKAGE_SIZE  GET_TOP_ACTIVITY_INFO  GLOBAL_SEARCH  \\\n",
       "0           0                 0                      0              0   \n",
       "1           0                 0                      0              0   \n",
       "2           0                 0                      0              0   \n",
       "3           0                 0                      0              0   \n",
       "4           0                 0                      0              0   \n",
       "\n",
       "   INSTALL_SHORTCUT  MANAGE_DOCUMENTS  MEDIA_CONTENT_CONTROL  \\\n",
       "0                 0                 0                      0   \n",
       "1                 0                 0                      0   \n",
       "2                 0                 0                      0   \n",
       "3                 0                 0                      0   \n",
       "4                 1                 0                      0   \n",
       "\n",
       "   MODIFY_AUDIO_SETTINGS  READ_USER_DICTIONARY  REORDER_TASKS  \\\n",
       "0                      0                     0              0   \n",
       "1                      0                     0              0   \n",
       "2                      0                     0              0   \n",
       "3                      0                     0              0   \n",
       "4                      0                     0              0   \n",
       "\n",
       "   SEND_RESPOND_VIA_MESSAGE  SET_ALARM  SET_ANIMATION_SCALE  SET_ORIENTATION  \\\n",
       "0                         0          0                    0                0   \n",
       "1                         0          0                    0                0   \n",
       "2                         0          0                    0                0   \n",
       "3                         0          0                    0                0   \n",
       "4                         0          0                    0                0   \n",
       "\n",
       "   SET_POINTER_SPEED  SET_TIME  SET_TIME_ZONE  SET_WALLPAPER  \\\n",
       "0                  0         0              0              0   \n",
       "1                  0         0              0              0   \n",
       "2                  0         0              0              0   \n",
       "3                  0         0              0              0   \n",
       "4                  0         0              0              0   \n",
       "\n",
       "   UNINSTALL_SHORTCUT  VIBRATE  WAKE_LOCK  WRITE_CALENDAR  WRITE_CALL_LOG  \\\n",
       "0                   0        0          0               0               0   \n",
       "1                   0        0          0               0               0   \n",
       "2                   0        0          0               0               0   \n",
       "3                   0        1          1               0               0   \n",
       "4                   0        1          1               0               0   \n",
       "\n",
       "   WRITE_CONTACTS  WRITE_USER_DICTIONARY  class  \n",
       "0               0                      0      0  \n",
       "1               0                      0      0  \n",
       "2               0                      0      0  \n",
       "3               0                      0      0  \n",
       "4               0                      0      0  "
      ]
     },
     "execution_count": 6,
     "metadata": {},
     "output_type": "execute_result"
    }
   ],
   "source": [
    "androcrawl.head()"
   ]
  },
  {
   "cell_type": "markdown",
   "metadata": {
    "cell_id": "00008-a6e0fa26-134b-43c8-be77-e57dead51563",
    "deepnote_cell_type": "text-cell-h3",
    "is_collapsed": false,
    "tags": []
   },
   "source": [
    "### AndroidMalwareNormal (2018)"
   ]
  },
  {
   "cell_type": "code",
   "execution_count": null,
   "metadata": {
    "cell_id": "00009-c8ab505a-3de4-4480-872d-f368390197e0",
    "deepnote_cell_type": "code",
    "deepnote_to_be_reexecuted": false,
    "execution_millis": 532,
    "execution_start": 1631227557334,
    "source_hash": "1c16f40c",
    "tags": []
   },
   "outputs": [
    {
     "data": {
      "application/vnd.deepnote.dataframe.v2+json": {
       "column_count": 174,
       "columns": [
        {
         "dtype": "int64",
         "name": "ACCESS_DRM_CONTENT",
         "stats": {
          "histogram": [
           {
            "bin_end": -0.4,
            "bin_start": -0.5,
            "count": 0
           },
           {
            "bin_end": -0.3,
            "bin_start": -0.4,
            "count": 0
           },
           {
            "bin_end": -0.19999999999999996,
            "bin_start": -0.3,
            "count": 0
           },
           {
            "bin_end": -0.09999999999999998,
            "bin_start": -0.19999999999999996,
            "count": 0
           },
           {
            "bin_end": 0,
            "bin_start": -0.09999999999999998,
            "count": 0
           },
           {
            "bin_end": 0.10000000000000009,
            "bin_start": 0,
            "count": 5
           },
           {
            "bin_end": 0.20000000000000007,
            "bin_start": 0.10000000000000009,
            "count": 0
           },
           {
            "bin_end": 0.30000000000000004,
            "bin_start": 0.20000000000000007,
            "count": 0
           },
           {
            "bin_end": 0.4,
            "bin_start": 0.30000000000000004,
            "count": 0
           },
           {
            "bin_end": 0.5,
            "bin_start": 0.4,
            "count": 0
           }
          ],
          "max": "0",
          "min": "0",
          "nan_count": 0,
          "unique_count": 1
         }
        },
        {
         "dtype": "int64",
         "name": "ACCESS_EMAIL_PROVIDER_DATA",
         "stats": {
          "histogram": [
           {
            "bin_end": -0.4,
            "bin_start": -0.5,
            "count": 0
           },
           {
            "bin_end": -0.3,
            "bin_start": -0.4,
            "count": 0
           },
           {
            "bin_end": -0.19999999999999996,
            "bin_start": -0.3,
            "count": 0
           },
           {
            "bin_end": -0.09999999999999998,
            "bin_start": -0.19999999999999996,
            "count": 0
           },
           {
            "bin_end": 0,
            "bin_start": -0.09999999999999998,
            "count": 0
           },
           {
            "bin_end": 0.10000000000000009,
            "bin_start": 0,
            "count": 5
           },
           {
            "bin_end": 0.20000000000000007,
            "bin_start": 0.10000000000000009,
            "count": 0
           },
           {
            "bin_end": 0.30000000000000004,
            "bin_start": 0.20000000000000007,
            "count": 0
           },
           {
            "bin_end": 0.4,
            "bin_start": 0.30000000000000004,
            "count": 0
           },
           {
            "bin_end": 0.5,
            "bin_start": 0.4,
            "count": 0
           }
          ],
          "max": "0",
          "min": "0",
          "nan_count": 0,
          "unique_count": 1
         }
        },
        {
         "dtype": "int64",
         "name": "ACCESS_ALL_SYSTEM_DOWNLOADS",
         "stats": {
          "histogram": [
           {
            "bin_end": -0.4,
            "bin_start": -0.5,
            "count": 0
           },
           {
            "bin_end": -0.3,
            "bin_start": -0.4,
            "count": 0
           },
           {
            "bin_end": -0.19999999999999996,
            "bin_start": -0.3,
            "count": 0
           },
           {
            "bin_end": -0.09999999999999998,
            "bin_start": -0.19999999999999996,
            "count": 0
           },
           {
            "bin_end": 0,
            "bin_start": -0.09999999999999998,
            "count": 0
           },
           {
            "bin_end": 0.10000000000000009,
            "bin_start": 0,
            "count": 5
           },
           {
            "bin_end": 0.20000000000000007,
            "bin_start": 0.10000000000000009,
            "count": 0
           },
           {
            "bin_end": 0.30000000000000004,
            "bin_start": 0.20000000000000007,
            "count": 0
           },
           {
            "bin_end": 0.4,
            "bin_start": 0.30000000000000004,
            "count": 0
           },
           {
            "bin_end": 0.5,
            "bin_start": 0.4,
            "count": 0
           }
          ],
          "max": "0",
          "min": "0",
          "nan_count": 0,
          "unique_count": 1
         }
        },
        {
         "dtype": "int64",
         "name": "ACCESS_DOWNLOAD_MANAGER",
         "stats": {
          "histogram": [
           {
            "bin_end": -0.4,
            "bin_start": -0.5,
            "count": 0
           },
           {
            "bin_end": -0.3,
            "bin_start": -0.4,
            "count": 0
           },
           {
            "bin_end": -0.19999999999999996,
            "bin_start": -0.3,
            "count": 0
           },
           {
            "bin_end": -0.09999999999999998,
            "bin_start": -0.19999999999999996,
            "count": 0
           },
           {
            "bin_end": 0,
            "bin_start": -0.09999999999999998,
            "count": 0
           },
           {
            "bin_end": 0.10000000000000009,
            "bin_start": 0,
            "count": 5
           },
           {
            "bin_end": 0.20000000000000007,
            "bin_start": 0.10000000000000009,
            "count": 0
           },
           {
            "bin_end": 0.30000000000000004,
            "bin_start": 0.20000000000000007,
            "count": 0
           },
           {
            "bin_end": 0.4,
            "bin_start": 0.30000000000000004,
            "count": 0
           },
           {
            "bin_end": 0.5,
            "bin_start": 0.4,
            "count": 0
           }
          ],
          "max": "0",
          "min": "0",
          "nan_count": 0,
          "unique_count": 1
         }
        },
        {
         "dtype": "int64",
         "name": "ADVANCED_DOWNLOAD_MANAGER_FUNCTIONS",
         "stats": {
          "histogram": [
           {
            "bin_end": -0.4,
            "bin_start": -0.5,
            "count": 0
           },
           {
            "bin_end": -0.3,
            "bin_start": -0.4,
            "count": 0
           },
           {
            "bin_end": -0.19999999999999996,
            "bin_start": -0.3,
            "count": 0
           },
           {
            "bin_end": -0.09999999999999998,
            "bin_start": -0.19999999999999996,
            "count": 0
           },
           {
            "bin_end": 0,
            "bin_start": -0.09999999999999998,
            "count": 0
           },
           {
            "bin_end": 0.10000000000000009,
            "bin_start": 0,
            "count": 5
           },
           {
            "bin_end": 0.20000000000000007,
            "bin_start": 0.10000000000000009,
            "count": 0
           },
           {
            "bin_end": 0.30000000000000004,
            "bin_start": 0.20000000000000007,
            "count": 0
           },
           {
            "bin_end": 0.4,
            "bin_start": 0.30000000000000004,
            "count": 0
           },
           {
            "bin_end": 0.5,
            "bin_start": 0.4,
            "count": 0
           }
          ],
          "max": "0",
          "min": "0",
          "nan_count": 0,
          "unique_count": 1
         }
        },
        {
         "dtype": "int64",
         "name": "AUDIO_FILE_ACCESS",
         "stats": {
          "histogram": [
           {
            "bin_end": -0.4,
            "bin_start": -0.5,
            "count": 0
           },
           {
            "bin_end": -0.3,
            "bin_start": -0.4,
            "count": 0
           },
           {
            "bin_end": -0.19999999999999996,
            "bin_start": -0.3,
            "count": 0
           },
           {
            "bin_end": -0.09999999999999998,
            "bin_start": -0.19999999999999996,
            "count": 0
           },
           {
            "bin_end": 0,
            "bin_start": -0.09999999999999998,
            "count": 0
           },
           {
            "bin_end": 0.10000000000000009,
            "bin_start": 0,
            "count": 5
           },
           {
            "bin_end": 0.20000000000000007,
            "bin_start": 0.10000000000000009,
            "count": 0
           },
           {
            "bin_end": 0.30000000000000004,
            "bin_start": 0.20000000000000007,
            "count": 0
           },
           {
            "bin_end": 0.4,
            "bin_start": 0.30000000000000004,
            "count": 0
           },
           {
            "bin_end": 0.5,
            "bin_start": 0.4,
            "count": 0
           }
          ],
          "max": "0",
          "min": "0",
          "nan_count": 0,
          "unique_count": 1
         }
        },
        {
         "dtype": "int64",
         "name": "INSTALL_DRM_CONTENT",
         "stats": {
          "histogram": [
           {
            "bin_end": -0.4,
            "bin_start": -0.5,
            "count": 0
           },
           {
            "bin_end": -0.3,
            "bin_start": -0.4,
            "count": 0
           },
           {
            "bin_end": -0.19999999999999996,
            "bin_start": -0.3,
            "count": 0
           },
           {
            "bin_end": -0.09999999999999998,
            "bin_start": -0.19999999999999996,
            "count": 0
           },
           {
            "bin_end": 0,
            "bin_start": -0.09999999999999998,
            "count": 0
           },
           {
            "bin_end": 0.10000000000000009,
            "bin_start": 0,
            "count": 5
           },
           {
            "bin_end": 0.20000000000000007,
            "bin_start": 0.10000000000000009,
            "count": 0
           },
           {
            "bin_end": 0.30000000000000004,
            "bin_start": 0.20000000000000007,
            "count": 0
           },
           {
            "bin_end": 0.4,
            "bin_start": 0.30000000000000004,
            "count": 0
           },
           {
            "bin_end": 0.5,
            "bin_start": 0.4,
            "count": 0
           }
          ],
          "max": "0",
          "min": "0",
          "nan_count": 0,
          "unique_count": 1
         }
        },
        {
         "dtype": "int64",
         "name": "MODIFY_GOOGLE_SERVICE_CONFIGURATION",
         "stats": {
          "histogram": [
           {
            "bin_end": -0.4,
            "bin_start": -0.5,
            "count": 0
           },
           {
            "bin_end": -0.3,
            "bin_start": -0.4,
            "count": 0
           },
           {
            "bin_end": -0.19999999999999996,
            "bin_start": -0.3,
            "count": 0
           },
           {
            "bin_end": -0.09999999999999998,
            "bin_start": -0.19999999999999996,
            "count": 0
           },
           {
            "bin_end": 0,
            "bin_start": -0.09999999999999998,
            "count": 0
           },
           {
            "bin_end": 0.10000000000000009,
            "bin_start": 0,
            "count": 5
           },
           {
            "bin_end": 0.20000000000000007,
            "bin_start": 0.10000000000000009,
            "count": 0
           },
           {
            "bin_end": 0.30000000000000004,
            "bin_start": 0.20000000000000007,
            "count": 0
           },
           {
            "bin_end": 0.4,
            "bin_start": 0.30000000000000004,
            "count": 0
           },
           {
            "bin_end": 0.5,
            "bin_start": 0.4,
            "count": 0
           }
          ],
          "max": "0",
          "min": "0",
          "nan_count": 0,
          "unique_count": 1
         }
        },
        {
         "dtype": "int64",
         "name": "MODIFY_GOOGLE_SETTINGS",
         "stats": {
          "histogram": [
           {
            "bin_end": -0.4,
            "bin_start": -0.5,
            "count": 0
           },
           {
            "bin_end": -0.3,
            "bin_start": -0.4,
            "count": 0
           },
           {
            "bin_end": -0.19999999999999996,
            "bin_start": -0.3,
            "count": 0
           },
           {
            "bin_end": -0.09999999999999998,
            "bin_start": -0.19999999999999996,
            "count": 0
           },
           {
            "bin_end": 0,
            "bin_start": -0.09999999999999998,
            "count": 0
           },
           {
            "bin_end": 0.10000000000000009,
            "bin_start": 0,
            "count": 5
           },
           {
            "bin_end": 0.20000000000000007,
            "bin_start": 0.10000000000000009,
            "count": 0
           },
           {
            "bin_end": 0.30000000000000004,
            "bin_start": 0.20000000000000007,
            "count": 0
           },
           {
            "bin_end": 0.4,
            "bin_start": 0.30000000000000004,
            "count": 0
           },
           {
            "bin_end": 0.5,
            "bin_start": 0.4,
            "count": 0
           }
          ],
          "max": "0",
          "min": "0",
          "nan_count": 0,
          "unique_count": 1
         }
        },
        {
         "dtype": "int64",
         "name": "MOVE_APPLICATION_RESOURCES",
         "stats": {
          "histogram": [
           {
            "bin_end": -0.4,
            "bin_start": -0.5,
            "count": 0
           },
           {
            "bin_end": -0.3,
            "bin_start": -0.4,
            "count": 0
           },
           {
            "bin_end": -0.19999999999999996,
            "bin_start": -0.3,
            "count": 0
           },
           {
            "bin_end": -0.09999999999999998,
            "bin_start": -0.19999999999999996,
            "count": 0
           },
           {
            "bin_end": 0,
            "bin_start": -0.09999999999999998,
            "count": 0
           },
           {
            "bin_end": 0.10000000000000009,
            "bin_start": 0,
            "count": 5
           },
           {
            "bin_end": 0.20000000000000007,
            "bin_start": 0.10000000000000009,
            "count": 0
           },
           {
            "bin_end": 0.30000000000000004,
            "bin_start": 0.20000000000000007,
            "count": 0
           },
           {
            "bin_end": 0.4,
            "bin_start": 0.30000000000000004,
            "count": 0
           },
           {
            "bin_end": 0.5,
            "bin_start": 0.4,
            "count": 0
           }
          ],
          "max": "0",
          "min": "0",
          "nan_count": 0,
          "unique_count": 1
         }
        },
        {
         "dtype": "int64",
         "name": "READ_GOOGLE_SETTINGS",
         "stats": {
          "histogram": [
           {
            "bin_end": -0.4,
            "bin_start": -0.5,
            "count": 0
           },
           {
            "bin_end": -0.3,
            "bin_start": -0.4,
            "count": 0
           },
           {
            "bin_end": -0.19999999999999996,
            "bin_start": -0.3,
            "count": 0
           },
           {
            "bin_end": -0.09999999999999998,
            "bin_start": -0.19999999999999996,
            "count": 0
           },
           {
            "bin_end": 0,
            "bin_start": -0.09999999999999998,
            "count": 0
           },
           {
            "bin_end": 0.10000000000000009,
            "bin_start": 0,
            "count": 5
           },
           {
            "bin_end": 0.20000000000000007,
            "bin_start": 0.10000000000000009,
            "count": 0
           },
           {
            "bin_end": 0.30000000000000004,
            "bin_start": 0.20000000000000007,
            "count": 0
           },
           {
            "bin_end": 0.4,
            "bin_start": 0.30000000000000004,
            "count": 0
           },
           {
            "bin_end": 0.5,
            "bin_start": 0.4,
            "count": 0
           }
          ],
          "max": "0",
          "min": "0",
          "nan_count": 0,
          "unique_count": 1
         }
        },
        {
         "dtype": "int64",
         "name": "SEND_DOWNLOAD_NOTIFICATIONS",
         "stats": {
          "histogram": [
           {
            "bin_end": -0.4,
            "bin_start": -0.5,
            "count": 0
           },
           {
            "bin_end": -0.3,
            "bin_start": -0.4,
            "count": 0
           },
           {
            "bin_end": -0.19999999999999996,
            "bin_start": -0.3,
            "count": 0
           },
           {
            "bin_end": -0.09999999999999998,
            "bin_start": -0.19999999999999996,
            "count": 0
           },
           {
            "bin_end": 0,
            "bin_start": -0.09999999999999998,
            "count": 0
           },
           {
            "bin_end": 0.10000000000000009,
            "bin_start": 0,
            "count": 5
           },
           {
            "bin_end": 0.20000000000000007,
            "bin_start": 0.10000000000000009,
            "count": 0
           },
           {
            "bin_end": 0.30000000000000004,
            "bin_start": 0.20000000000000007,
            "count": 0
           },
           {
            "bin_end": 0.4,
            "bin_start": 0.30000000000000004,
            "count": 0
           },
           {
            "bin_end": 0.5,
            "bin_start": 0.4,
            "count": 0
           }
          ],
          "max": "0",
          "min": "0",
          "nan_count": 0,
          "unique_count": 1
         }
        },
        {
         "dtype": "int64",
         "name": "VOICE_SEARCH_SHORTCUTS",
         "stats": {
          "histogram": [
           {
            "bin_end": -0.4,
            "bin_start": -0.5,
            "count": 0
           },
           {
            "bin_end": -0.3,
            "bin_start": -0.4,
            "count": 0
           },
           {
            "bin_end": -0.19999999999999996,
            "bin_start": -0.3,
            "count": 0
           },
           {
            "bin_end": -0.09999999999999998,
            "bin_start": -0.19999999999999996,
            "count": 0
           },
           {
            "bin_end": 0,
            "bin_start": -0.09999999999999998,
            "count": 0
           },
           {
            "bin_end": 0.10000000000000009,
            "bin_start": 0,
            "count": 5
           },
           {
            "bin_end": 0.20000000000000007,
            "bin_start": 0.10000000000000009,
            "count": 0
           },
           {
            "bin_end": 0.30000000000000004,
            "bin_start": 0.20000000000000007,
            "count": 0
           },
           {
            "bin_end": 0.4,
            "bin_start": 0.30000000000000004,
            "count": 0
           },
           {
            "bin_end": 0.5,
            "bin_start": 0.4,
            "count": 0
           }
          ],
          "max": "0",
          "min": "0",
          "nan_count": 0,
          "unique_count": 1
         }
        },
        {
         "dtype": "int64",
         "name": "ACCESS_SURFACEFLINGER",
         "stats": {
          "histogram": [
           {
            "bin_end": -0.4,
            "bin_start": -0.5,
            "count": 0
           },
           {
            "bin_end": -0.3,
            "bin_start": -0.4,
            "count": 0
           },
           {
            "bin_end": -0.19999999999999996,
            "bin_start": -0.3,
            "count": 0
           },
           {
            "bin_end": -0.09999999999999998,
            "bin_start": -0.19999999999999996,
            "count": 0
           },
           {
            "bin_end": 0,
            "bin_start": -0.09999999999999998,
            "count": 0
           },
           {
            "bin_end": 0.10000000000000009,
            "bin_start": 0,
            "count": 5
           },
           {
            "bin_end": 0.20000000000000007,
            "bin_start": 0.10000000000000009,
            "count": 0
           },
           {
            "bin_end": 0.30000000000000004,
            "bin_start": 0.20000000000000007,
            "count": 0
           },
           {
            "bin_end": 0.4,
            "bin_start": 0.30000000000000004,
            "count": 0
           },
           {
            "bin_end": 0.5,
            "bin_start": 0.4,
            "count": 0
           }
          ],
          "max": "0",
          "min": "0",
          "nan_count": 0,
          "unique_count": 1
         }
        },
        {
         "dtype": "int64",
         "name": "ACCESS_CHECKIN_PROPERTIES",
         "stats": {
          "histogram": [
           {
            "bin_end": -0.4,
            "bin_start": -0.5,
            "count": 0
           },
           {
            "bin_end": -0.3,
            "bin_start": -0.4,
            "count": 0
           },
           {
            "bin_end": -0.19999999999999996,
            "bin_start": -0.3,
            "count": 0
           },
           {
            "bin_end": -0.09999999999999998,
            "bin_start": -0.19999999999999996,
            "count": 0
           },
           {
            "bin_end": 0,
            "bin_start": -0.09999999999999998,
            "count": 0
           },
           {
            "bin_end": 0.10000000000000009,
            "bin_start": 0,
            "count": 5
           },
           {
            "bin_end": 0.20000000000000007,
            "bin_start": 0.10000000000000009,
            "count": 0
           },
           {
            "bin_end": 0.30000000000000004,
            "bin_start": 0.20000000000000007,
            "count": 0
           },
           {
            "bin_end": 0.4,
            "bin_start": 0.30000000000000004,
            "count": 0
           },
           {
            "bin_end": 0.5,
            "bin_start": 0.4,
            "count": 0
           }
          ],
          "max": "0",
          "min": "0",
          "nan_count": 0,
          "unique_count": 1
         }
        },
        {
         "dtype": "int64",
         "name": "ACCESS_THE_CACHE_FILESYSTEM",
         "stats": {
          "histogram": [
           {
            "bin_end": -0.4,
            "bin_start": -0.5,
            "count": 0
           },
           {
            "bin_end": -0.3,
            "bin_start": -0.4,
            "count": 0
           },
           {
            "bin_end": -0.19999999999999996,
            "bin_start": -0.3,
            "count": 0
           },
           {
            "bin_end": -0.09999999999999998,
            "bin_start": -0.19999999999999996,
            "count": 0
           },
           {
            "bin_end": 0,
            "bin_start": -0.09999999999999998,
            "count": 0
           },
           {
            "bin_end": 0.10000000000000009,
            "bin_start": 0,
            "count": 5
           },
           {
            "bin_end": 0.20000000000000007,
            "bin_start": 0.10000000000000009,
            "count": 0
           },
           {
            "bin_end": 0.30000000000000004,
            "bin_start": 0.20000000000000007,
            "count": 0
           },
           {
            "bin_end": 0.4,
            "bin_start": 0.30000000000000004,
            "count": 0
           },
           {
            "bin_end": 0.5,
            "bin_start": 0.4,
            "count": 0
           }
          ],
          "max": "0",
          "min": "0",
          "nan_count": 0,
          "unique_count": 1
         }
        },
        {
         "dtype": "int64",
         "name": "ACCESS_TO_PASSWORDS_FOR_GOOGLE_ACCOUNTS",
         "stats": {
          "histogram": [
           {
            "bin_end": -0.4,
            "bin_start": -0.5,
            "count": 0
           },
           {
            "bin_end": -0.3,
            "bin_start": -0.4,
            "count": 0
           },
           {
            "bin_end": -0.19999999999999996,
            "bin_start": -0.3,
            "count": 0
           },
           {
            "bin_end": -0.09999999999999998,
            "bin_start": -0.19999999999999996,
            "count": 0
           },
           {
            "bin_end": 0,
            "bin_start": -0.09999999999999998,
            "count": 0
           },
           {
            "bin_end": 0.10000000000000009,
            "bin_start": 0,
            "count": 5
           },
           {
            "bin_end": 0.20000000000000007,
            "bin_start": 0.10000000000000009,
            "count": 0
           },
           {
            "bin_end": 0.30000000000000004,
            "bin_start": 0.20000000000000007,
            "count": 0
           },
           {
            "bin_end": 0.4,
            "bin_start": 0.30000000000000004,
            "count": 0
           },
           {
            "bin_end": 0.5,
            "bin_start": 0.4,
            "count": 0
           }
          ],
          "max": "0",
          "min": "0",
          "nan_count": 0,
          "unique_count": 1
         }
        },
        {
         "dtype": "int64",
         "name": "ACT_AS_AN_ACCOUNT_AUTHENTICATOR",
         "stats": {
          "histogram": [
           {
            "bin_end": -0.4,
            "bin_start": -0.5,
            "count": 0
           },
           {
            "bin_end": -0.3,
            "bin_start": -0.4,
            "count": 0
           },
           {
            "bin_end": -0.19999999999999996,
            "bin_start": -0.3,
            "count": 0
           },
           {
            "bin_end": -0.09999999999999998,
            "bin_start": -0.19999999999999996,
            "count": 0
           },
           {
            "bin_end": 0,
            "bin_start": -0.09999999999999998,
            "count": 0
           },
           {
            "bin_end": 0.10000000000000009,
            "bin_start": 0,
            "count": 5
           },
           {
            "bin_end": 0.20000000000000007,
            "bin_start": 0.10000000000000009,
            "count": 0
           },
           {
            "bin_end": 0.30000000000000004,
            "bin_start": 0.20000000000000007,
            "count": 0
           },
           {
            "bin_end": 0.4,
            "bin_start": 0.30000000000000004,
            "count": 0
           },
           {
            "bin_end": 0.5,
            "bin_start": 0.4,
            "count": 0
           }
          ],
          "max": "0",
          "min": "0",
          "nan_count": 0,
          "unique_count": 1
         }
        },
        {
         "dtype": "int64",
         "name": "BIND_TO_A_WALLPAPER",
         "stats": {
          "histogram": [
           {
            "bin_end": -0.4,
            "bin_start": -0.5,
            "count": 0
           },
           {
            "bin_end": -0.3,
            "bin_start": -0.4,
            "count": 0
           },
           {
            "bin_end": -0.19999999999999996,
            "bin_start": -0.3,
            "count": 0
           },
           {
            "bin_end": -0.09999999999999998,
            "bin_start": -0.19999999999999996,
            "count": 0
           },
           {
            "bin_end": 0,
            "bin_start": -0.09999999999999998,
            "count": 0
           },
           {
            "bin_end": 0.10000000000000009,
            "bin_start": 0,
            "count": 5
           },
           {
            "bin_end": 0.20000000000000007,
            "bin_start": 0.10000000000000009,
            "count": 0
           },
           {
            "bin_end": 0.30000000000000004,
            "bin_start": 0.20000000000000007,
            "count": 0
           },
           {
            "bin_end": 0.4,
            "bin_start": 0.30000000000000004,
            "count": 0
           },
           {
            "bin_end": 0.5,
            "bin_start": 0.4,
            "count": 0
           }
          ],
          "max": "0",
          "min": "0",
          "nan_count": 0,
          "unique_count": 1
         }
        },
        {
         "dtype": "int64",
         "name": "BIND_TO_AN_INPUT_METHOD",
         "stats": {
          "histogram": [
           {
            "bin_end": -0.4,
            "bin_start": -0.5,
            "count": 0
           },
           {
            "bin_end": -0.3,
            "bin_start": -0.4,
            "count": 0
           },
           {
            "bin_end": -0.19999999999999996,
            "bin_start": -0.3,
            "count": 0
           },
           {
            "bin_end": -0.09999999999999998,
            "bin_start": -0.19999999999999996,
            "count": 0
           },
           {
            "bin_end": 0,
            "bin_start": -0.09999999999999998,
            "count": 0
           },
           {
            "bin_end": 0.10000000000000009,
            "bin_start": 0,
            "count": 5
           },
           {
            "bin_end": 0.20000000000000007,
            "bin_start": 0.10000000000000009,
            "count": 0
           },
           {
            "bin_end": 0.30000000000000004,
            "bin_start": 0.20000000000000007,
            "count": 0
           },
           {
            "bin_end": 0.4,
            "bin_start": 0.30000000000000004,
            "count": 0
           },
           {
            "bin_end": 0.5,
            "bin_start": 0.4,
            "count": 0
           }
          ],
          "max": "0",
          "min": "0",
          "nan_count": 0,
          "unique_count": 1
         }
        },
        {
         "dtype": "int64",
         "name": "CHANGE_SCREEN_ORIENTATION",
         "stats": {
          "histogram": [
           {
            "bin_end": -0.4,
            "bin_start": -0.5,
            "count": 0
           },
           {
            "bin_end": -0.3,
            "bin_start": -0.4,
            "count": 0
           },
           {
            "bin_end": -0.19999999999999996,
            "bin_start": -0.3,
            "count": 0
           },
           {
            "bin_end": -0.09999999999999998,
            "bin_start": -0.19999999999999996,
            "count": 0
           },
           {
            "bin_end": 0,
            "bin_start": -0.09999999999999998,
            "count": 0
           },
           {
            "bin_end": 0.10000000000000009,
            "bin_start": 0,
            "count": 5
           },
           {
            "bin_end": 0.20000000000000007,
            "bin_start": 0.10000000000000009,
            "count": 0
           },
           {
            "bin_end": 0.30000000000000004,
            "bin_start": 0.20000000000000007,
            "count": 0
           },
           {
            "bin_end": 0.4,
            "bin_start": 0.30000000000000004,
            "count": 0
           },
           {
            "bin_end": 0.5,
            "bin_start": 0.4,
            "count": 0
           }
          ],
          "max": "0",
          "min": "0",
          "nan_count": 0,
          "unique_count": 1
         }
        },
        {
         "dtype": "int64",
         "name": "COARSE",
         "stats": {
          "histogram": [
           {
            "bin_end": -0.4,
            "bin_start": -0.5,
            "count": 0
           },
           {
            "bin_end": -0.3,
            "bin_start": -0.4,
            "count": 0
           },
           {
            "bin_end": -0.19999999999999996,
            "bin_start": -0.3,
            "count": 0
           },
           {
            "bin_end": -0.09999999999999998,
            "bin_start": -0.19999999999999996,
            "count": 0
           },
           {
            "bin_end": 0,
            "bin_start": -0.09999999999999998,
            "count": 0
           },
           {
            "bin_end": 0.10000000000000009,
            "bin_start": 0,
            "count": 5
           },
           {
            "bin_end": 0.20000000000000007,
            "bin_start": 0.10000000000000009,
            "count": 0
           },
           {
            "bin_end": 0.30000000000000004,
            "bin_start": 0.20000000000000007,
            "count": 0
           },
           {
            "bin_end": 0.4,
            "bin_start": 0.30000000000000004,
            "count": 0
           },
           {
            "bin_end": 0.5,
            "bin_start": 0.4,
            "count": 0
           }
          ],
          "max": "0",
          "min": "0",
          "nan_count": 0,
          "unique_count": 1
         }
        },
        {
         "dtype": "int64",
         "name": "CONTROL_LOCATION_UPDATE_NOTIFICATIONS",
         "stats": {
          "histogram": [
           {
            "bin_end": -0.4,
            "bin_start": -0.5,
            "count": 0
           },
           {
            "bin_end": -0.3,
            "bin_start": -0.4,
            "count": 0
           },
           {
            "bin_end": -0.19999999999999996,
            "bin_start": -0.3,
            "count": 0
           },
           {
            "bin_end": -0.09999999999999998,
            "bin_start": -0.19999999999999996,
            "count": 0
           },
           {
            "bin_end": 0,
            "bin_start": -0.09999999999999998,
            "count": 0
           },
           {
            "bin_end": 0.10000000000000009,
            "bin_start": 0,
            "count": 5
           },
           {
            "bin_end": 0.20000000000000007,
            "bin_start": 0.10000000000000009,
            "count": 0
           },
           {
            "bin_end": 0.30000000000000004,
            "bin_start": 0.20000000000000007,
            "count": 0
           },
           {
            "bin_end": 0.4,
            "bin_start": 0.30000000000000004,
            "count": 0
           },
           {
            "bin_end": 0.5,
            "bin_start": 0.4,
            "count": 0
           }
          ],
          "max": "0",
          "min": "0",
          "nan_count": 0,
          "unique_count": 1
         }
        },
        {
         "dtype": "int64",
         "name": "CONTROL_SYSTEM_BACKUP_AND_RESTORE",
         "stats": {
          "histogram": [
           {
            "bin_end": -0.4,
            "bin_start": -0.5,
            "count": 0
           },
           {
            "bin_end": -0.3,
            "bin_start": -0.4,
            "count": 0
           },
           {
            "bin_end": -0.19999999999999996,
            "bin_start": -0.3,
            "count": 0
           },
           {
            "bin_end": -0.09999999999999998,
            "bin_start": -0.19999999999999996,
            "count": 0
           },
           {
            "bin_end": 0,
            "bin_start": -0.09999999999999998,
            "count": 0
           },
           {
            "bin_end": 0.10000000000000009,
            "bin_start": 0,
            "count": 5
           },
           {
            "bin_end": 0.20000000000000007,
            "bin_start": 0.10000000000000009,
            "count": 0
           },
           {
            "bin_end": 0.30000000000000004,
            "bin_start": 0.20000000000000007,
            "count": 0
           },
           {
            "bin_end": 0.4,
            "bin_start": 0.30000000000000004,
            "count": 0
           },
           {
            "bin_end": 0.5,
            "bin_start": 0.4,
            "count": 0
           }
          ],
          "max": "0",
          "min": "0",
          "nan_count": 0,
          "unique_count": 1
         }
        },
        {
         "dtype": "int64",
         "name": "DELETE_APPLICATIONS",
         "stats": {
          "histogram": [
           {
            "bin_end": -0.4,
            "bin_start": -0.5,
            "count": 0
           },
           {
            "bin_end": -0.3,
            "bin_start": -0.4,
            "count": 0
           },
           {
            "bin_end": -0.19999999999999996,
            "bin_start": -0.3,
            "count": 0
           },
           {
            "bin_end": -0.09999999999999998,
            "bin_start": -0.19999999999999996,
            "count": 0
           },
           {
            "bin_end": 0,
            "bin_start": -0.09999999999999998,
            "count": 0
           },
           {
            "bin_end": 0.10000000000000009,
            "bin_start": 0,
            "count": 5
           },
           {
            "bin_end": 0.20000000000000007,
            "bin_start": 0.10000000000000009,
            "count": 0
           },
           {
            "bin_end": 0.30000000000000004,
            "bin_start": 0.20000000000000007,
            "count": 0
           },
           {
            "bin_end": 0.4,
            "bin_start": 0.30000000000000004,
            "count": 0
           },
           {
            "bin_end": 0.5,
            "bin_start": 0.4,
            "count": 0
           }
          ],
          "max": "0",
          "min": "0",
          "nan_count": 0,
          "unique_count": 1
         }
        },
        {
         "dtype": "int64",
         "name": "DELETE_OTHER_APPLICATIONS_CACHES",
         "stats": {
          "histogram": [
           {
            "bin_end": -0.4,
            "bin_start": -0.5,
            "count": 0
           },
           {
            "bin_end": -0.3,
            "bin_start": -0.4,
            "count": 0
           },
           {
            "bin_end": -0.19999999999999996,
            "bin_start": -0.3,
            "count": 0
           },
           {
            "bin_end": -0.09999999999999998,
            "bin_start": -0.19999999999999996,
            "count": 0
           },
           {
            "bin_end": 0,
            "bin_start": -0.09999999999999998,
            "count": 0
           },
           {
            "bin_end": 0.10000000000000009,
            "bin_start": 0,
            "count": 5
           },
           {
            "bin_end": 0.20000000000000007,
            "bin_start": 0.10000000000000009,
            "count": 0
           },
           {
            "bin_end": 0.30000000000000004,
            "bin_start": 0.20000000000000007,
            "count": 0
           },
           {
            "bin_end": 0.4,
            "bin_start": 0.30000000000000004,
            "count": 0
           },
           {
            "bin_end": 0.5,
            "bin_start": 0.4,
            "count": 0
           }
          ],
          "max": "0",
          "min": "0",
          "nan_count": 0,
          "unique_count": 1
         }
        },
        {
         "dtype": "int64",
         "name": "DELETE_OTHER_APPLICATIONS_DATA",
         "stats": {
          "histogram": [
           {
            "bin_end": -0.4,
            "bin_start": -0.5,
            "count": 0
           },
           {
            "bin_end": -0.3,
            "bin_start": -0.4,
            "count": 0
           },
           {
            "bin_end": -0.19999999999999996,
            "bin_start": -0.3,
            "count": 0
           },
           {
            "bin_end": -0.09999999999999998,
            "bin_start": -0.19999999999999996,
            "count": 0
           },
           {
            "bin_end": 0,
            "bin_start": -0.09999999999999998,
            "count": 0
           },
           {
            "bin_end": 0.10000000000000009,
            "bin_start": 0,
            "count": 5
           },
           {
            "bin_end": 0.20000000000000007,
            "bin_start": 0.10000000000000009,
            "count": 0
           },
           {
            "bin_end": 0.30000000000000004,
            "bin_start": 0.20000000000000007,
            "count": 0
           },
           {
            "bin_end": 0.4,
            "bin_start": 0.30000000000000004,
            "count": 0
           },
           {
            "bin_end": 0.5,
            "bin_start": 0.4,
            "count": 0
           }
          ],
          "max": "0",
          "min": "0",
          "nan_count": 0,
          "unique_count": 1
         }
        },
        {
         "dtype": "int64",
         "name": "DIRECTLY_CALL_ANY_PHONE_NUMBERS",
         "stats": {
          "histogram": [
           {
            "bin_end": -0.4,
            "bin_start": -0.5,
            "count": 0
           },
           {
            "bin_end": -0.3,
            "bin_start": -0.4,
            "count": 0
           },
           {
            "bin_end": -0.19999999999999996,
            "bin_start": -0.3,
            "count": 0
           },
           {
            "bin_end": -0.09999999999999998,
            "bin_start": -0.19999999999999996,
            "count": 0
           },
           {
            "bin_end": 0,
            "bin_start": -0.09999999999999998,
            "count": 0
           },
           {
            "bin_end": 0.10000000000000009,
            "bin_start": 0,
            "count": 5
           },
           {
            "bin_end": 0.20000000000000007,
            "bin_start": 0.10000000000000009,
            "count": 0
           },
           {
            "bin_end": 0.30000000000000004,
            "bin_start": 0.20000000000000007,
            "count": 0
           },
           {
            "bin_end": 0.4,
            "bin_start": 0.30000000000000004,
            "count": 0
           },
           {
            "bin_end": 0.5,
            "bin_start": 0.4,
            "count": 0
           }
          ],
          "max": "0",
          "min": "0",
          "nan_count": 0,
          "unique_count": 1
         }
        },
        {
         "dtype": "int64",
         "name": "DIRECTLY_INSTALL_APPLICATIONS",
         "stats": {
          "histogram": [
           {
            "bin_end": -0.4,
            "bin_start": -0.5,
            "count": 0
           },
           {
            "bin_end": -0.3,
            "bin_start": -0.4,
            "count": 0
           },
           {
            "bin_end": -0.19999999999999996,
            "bin_start": -0.3,
            "count": 0
           },
           {
            "bin_end": -0.09999999999999998,
            "bin_start": -0.19999999999999996,
            "count": 0
           },
           {
            "bin_end": 0,
            "bin_start": -0.09999999999999998,
            "count": 0
           },
           {
            "bin_end": 0.10000000000000009,
            "bin_start": 0,
            "count": 5
           },
           {
            "bin_end": 0.20000000000000007,
            "bin_start": 0.10000000000000009,
            "count": 0
           },
           {
            "bin_end": 0.30000000000000004,
            "bin_start": 0.20000000000000007,
            "count": 0
           },
           {
            "bin_end": 0.4,
            "bin_start": 0.30000000000000004,
            "count": 0
           },
           {
            "bin_end": 0.5,
            "bin_start": 0.4,
            "count": 0
           }
          ],
          "max": "0",
          "min": "0",
          "nan_count": 0,
          "unique_count": 1
         }
        },
        {
         "dtype": "int64",
         "name": "DISABLE_OR_MODIFY_STATUS_BAR",
         "stats": {
          "histogram": [
           {
            "bin_end": -0.4,
            "bin_start": -0.5,
            "count": 0
           },
           {
            "bin_end": -0.3,
            "bin_start": -0.4,
            "count": 0
           },
           {
            "bin_end": -0.19999999999999996,
            "bin_start": -0.3,
            "count": 0
           },
           {
            "bin_end": -0.09999999999999998,
            "bin_start": -0.19999999999999996,
            "count": 0
           },
           {
            "bin_end": 0,
            "bin_start": -0.09999999999999998,
            "count": 0
           },
           {
            "bin_end": 0.10000000000000009,
            "bin_start": 0,
            "count": 5
           },
           {
            "bin_end": 0.20000000000000007,
            "bin_start": 0.10000000000000009,
            "count": 0
           },
           {
            "bin_end": 0.30000000000000004,
            "bin_start": 0.20000000000000007,
            "count": 0
           },
           {
            "bin_end": 0.4,
            "bin_start": 0.30000000000000004,
            "count": 0
           },
           {
            "bin_end": 0.5,
            "bin_start": 0.4,
            "count": 0
           }
          ],
          "max": "0",
          "min": "0",
          "nan_count": 0,
          "unique_count": 1
         }
        },
        {
         "dtype": "int64",
         "name": "DISCOVER_KNOWN_ACCOUNTS",
         "stats": {
          "histogram": [
           {
            "bin_end": -0.4,
            "bin_start": -0.5,
            "count": 0
           },
           {
            "bin_end": -0.3,
            "bin_start": -0.4,
            "count": 0
           },
           {
            "bin_end": -0.19999999999999996,
            "bin_start": -0.3,
            "count": 0
           },
           {
            "bin_end": -0.09999999999999998,
            "bin_start": -0.19999999999999996,
            "count": 0
           },
           {
            "bin_end": 0,
            "bin_start": -0.09999999999999998,
            "count": 0
           },
           {
            "bin_end": 0.10000000000000009,
            "bin_start": 0,
            "count": 5
           },
           {
            "bin_end": 0.20000000000000007,
            "bin_start": 0.10000000000000009,
            "count": 0
           },
           {
            "bin_end": 0.30000000000000004,
            "bin_start": 0.20000000000000007,
            "count": 0
           },
           {
            "bin_end": 0.4,
            "bin_start": 0.30000000000000004,
            "count": 0
           },
           {
            "bin_end": 0.5,
            "bin_start": 0.4,
            "count": 0
           }
          ],
          "max": "0",
          "min": "0",
          "nan_count": 0,
          "unique_count": 1
         }
        },
        {
         "dtype": "int64",
         "name": "DISPLAY_UNAUTHORIZED_WINDOWS",
         "stats": {
          "histogram": [
           {
            "bin_end": -0.4,
            "bin_start": -0.5,
            "count": 0
           },
           {
            "bin_end": -0.3,
            "bin_start": -0.4,
            "count": 0
           },
           {
            "bin_end": -0.19999999999999996,
            "bin_start": -0.3,
            "count": 0
           },
           {
            "bin_end": -0.09999999999999998,
            "bin_start": -0.19999999999999996,
            "count": 0
           },
           {
            "bin_end": 0,
            "bin_start": -0.09999999999999998,
            "count": 0
           },
           {
            "bin_end": 0.10000000000000009,
            "bin_start": 0,
            "count": 5
           },
           {
            "bin_end": 0.20000000000000007,
            "bin_start": 0.10000000000000009,
            "count": 0
           },
           {
            "bin_end": 0.30000000000000004,
            "bin_start": 0.20000000000000007,
            "count": 0
           },
           {
            "bin_end": 0.4,
            "bin_start": 0.30000000000000004,
            "count": 0
           },
           {
            "bin_end": 0.5,
            "bin_start": 0.4,
            "count": 0
           }
          ],
          "max": "0",
          "min": "0",
          "nan_count": 0,
          "unique_count": 1
         }
        },
        {
         "dtype": "int64",
         "name": "ENABLE_OR_DISABLE_APPLICATION_COMPONENTS",
         "stats": {
          "histogram": [
           {
            "bin_end": -0.4,
            "bin_start": -0.5,
            "count": 0
           },
           {
            "bin_end": -0.3,
            "bin_start": -0.4,
            "count": 0
           },
           {
            "bin_end": -0.19999999999999996,
            "bin_start": -0.3,
            "count": 0
           },
           {
            "bin_end": -0.09999999999999998,
            "bin_start": -0.19999999999999996,
            "count": 0
           },
           {
            "bin_end": 0,
            "bin_start": -0.09999999999999998,
            "count": 0
           },
           {
            "bin_end": 0.10000000000000009,
            "bin_start": 0,
            "count": 5
           },
           {
            "bin_end": 0.20000000000000007,
            "bin_start": 0.10000000000000009,
            "count": 0
           },
           {
            "bin_end": 0.30000000000000004,
            "bin_start": 0.20000000000000007,
            "count": 0
           },
           {
            "bin_end": 0.4,
            "bin_start": 0.30000000000000004,
            "count": 0
           },
           {
            "bin_end": 0.5,
            "bin_start": 0.4,
            "count": 0
           }
          ],
          "max": "0",
          "min": "0",
          "nan_count": 0,
          "unique_count": 1
         }
        },
        {
         "dtype": "int64",
         "name": "FORCE_APPLICATION_TO_CLOSE",
         "stats": {
          "histogram": [
           {
            "bin_end": -0.4,
            "bin_start": -0.5,
            "count": 0
           },
           {
            "bin_end": -0.3,
            "bin_start": -0.4,
            "count": 0
           },
           {
            "bin_end": -0.19999999999999996,
            "bin_start": -0.3,
            "count": 0
           },
           {
            "bin_end": -0.09999999999999998,
            "bin_start": -0.19999999999999996,
            "count": 0
           },
           {
            "bin_end": 0,
            "bin_start": -0.09999999999999998,
            "count": 0
           },
           {
            "bin_end": 0.10000000000000009,
            "bin_start": 0,
            "count": 5
           },
           {
            "bin_end": 0.20000000000000007,
            "bin_start": 0.10000000000000009,
            "count": 0
           },
           {
            "bin_end": 0.30000000000000004,
            "bin_start": 0.20000000000000007,
            "count": 0
           },
           {
            "bin_end": 0.4,
            "bin_start": 0.30000000000000004,
            "count": 0
           },
           {
            "bin_end": 0.5,
            "bin_start": 0.4,
            "count": 0
           }
          ],
          "max": "0",
          "min": "0",
          "nan_count": 0,
          "unique_count": 1
         }
        },
        {
         "dtype": "int64",
         "name": "FORCE_DEVICE_REBOOT",
         "stats": {
          "histogram": [
           {
            "bin_end": -0.4,
            "bin_start": -0.5,
            "count": 0
           },
           {
            "bin_end": -0.3,
            "bin_start": -0.4,
            "count": 0
           },
           {
            "bin_end": -0.19999999999999996,
            "bin_start": -0.3,
            "count": 0
           },
           {
            "bin_end": -0.09999999999999998,
            "bin_start": -0.19999999999999996,
            "count": 0
           },
           {
            "bin_end": 0,
            "bin_start": -0.09999999999999998,
            "count": 0
           },
           {
            "bin_end": 0.10000000000000009,
            "bin_start": 0,
            "count": 5
           },
           {
            "bin_end": 0.20000000000000007,
            "bin_start": 0.10000000000000009,
            "count": 0
           },
           {
            "bin_end": 0.30000000000000004,
            "bin_start": 0.20000000000000007,
            "count": 0
           },
           {
            "bin_end": 0.4,
            "bin_start": 0.30000000000000004,
            "count": 0
           },
           {
            "bin_end": 0.5,
            "bin_start": 0.4,
            "count": 0
           }
          ],
          "max": "0",
          "min": "0",
          "nan_count": 0,
          "unique_count": 1
         }
        },
        {
         "dtype": "int64",
         "name": "FULL_INTERNET_ACCESS",
         "stats": {
          "histogram": [
           {
            "bin_end": -0.4,
            "bin_start": -0.5,
            "count": 0
           },
           {
            "bin_end": -0.3,
            "bin_start": -0.4,
            "count": 0
           },
           {
            "bin_end": -0.19999999999999996,
            "bin_start": -0.3,
            "count": 0
           },
           {
            "bin_end": -0.09999999999999998,
            "bin_start": -0.19999999999999996,
            "count": 0
           },
           {
            "bin_end": 0,
            "bin_start": -0.09999999999999998,
            "count": 0
           },
           {
            "bin_end": 0.10000000000000009,
            "bin_start": 0,
            "count": 5
           },
           {
            "bin_end": 0.20000000000000007,
            "bin_start": 0.10000000000000009,
            "count": 0
           },
           {
            "bin_end": 0.30000000000000004,
            "bin_start": 0.20000000000000007,
            "count": 0
           },
           {
            "bin_end": 0.4,
            "bin_start": 0.30000000000000004,
            "count": 0
           },
           {
            "bin_end": 0.5,
            "bin_start": 0.4,
            "count": 0
           }
          ],
          "max": "0",
          "min": "0",
          "nan_count": 0,
          "unique_count": 1
         }
        },
        {
         "dtype": "int64",
         "name": "INTERACT_WITH_A_DEVICE_ADMIN",
         "stats": {
          "histogram": [
           {
            "bin_end": -0.4,
            "bin_start": -0.5,
            "count": 0
           },
           {
            "bin_end": -0.3,
            "bin_start": -0.4,
            "count": 0
           },
           {
            "bin_end": -0.19999999999999996,
            "bin_start": -0.3,
            "count": 0
           },
           {
            "bin_end": -0.09999999999999998,
            "bin_start": -0.19999999999999996,
            "count": 0
           },
           {
            "bin_end": 0,
            "bin_start": -0.09999999999999998,
            "count": 0
           },
           {
            "bin_end": 0.10000000000000009,
            "bin_start": 0,
            "count": 5
           },
           {
            "bin_end": 0.20000000000000007,
            "bin_start": 0.10000000000000009,
            "count": 0
           },
           {
            "bin_end": 0.30000000000000004,
            "bin_start": 0.20000000000000007,
            "count": 0
           },
           {
            "bin_end": 0.4,
            "bin_start": 0.30000000000000004,
            "count": 0
           },
           {
            "bin_end": 0.5,
            "bin_start": 0.4,
            "count": 0
           }
          ],
          "max": "0",
          "min": "0",
          "nan_count": 0,
          "unique_count": 1
         }
        },
        {
         "dtype": "int64",
         "name": "MANAGE_APPLICATION_TOKENS",
         "stats": {
          "histogram": [
           {
            "bin_end": -0.4,
            "bin_start": -0.5,
            "count": 0
           },
           {
            "bin_end": -0.3,
            "bin_start": -0.4,
            "count": 0
           },
           {
            "bin_end": -0.19999999999999996,
            "bin_start": -0.3,
            "count": 0
           },
           {
            "bin_end": -0.09999999999999998,
            "bin_start": -0.19999999999999996,
            "count": 0
           },
           {
            "bin_end": 0,
            "bin_start": -0.09999999999999998,
            "count": 0
           },
           {
            "bin_end": 0.10000000000000009,
            "bin_start": 0,
            "count": 5
           },
           {
            "bin_end": 0.20000000000000007,
            "bin_start": 0.10000000000000009,
            "count": 0
           },
           {
            "bin_end": 0.30000000000000004,
            "bin_start": 0.20000000000000007,
            "count": 0
           },
           {
            "bin_end": 0.4,
            "bin_start": 0.30000000000000004,
            "count": 0
           },
           {
            "bin_end": 0.5,
            "bin_start": 0.4,
            "count": 0
           }
          ],
          "max": "0",
          "min": "0",
          "nan_count": 0,
          "unique_count": 1
         }
        },
        {
         "dtype": "int64",
         "name": "MOCK_LOCATION_SOURCES_FOR_TESTING",
         "stats": {
          "histogram": [
           {
            "bin_end": -0.4,
            "bin_start": -0.5,
            "count": 0
           },
           {
            "bin_end": -0.3,
            "bin_start": -0.4,
            "count": 0
           },
           {
            "bin_end": -0.19999999999999996,
            "bin_start": -0.3,
            "count": 0
           },
           {
            "bin_end": -0.09999999999999998,
            "bin_start": -0.19999999999999996,
            "count": 0
           },
           {
            "bin_end": 0,
            "bin_start": -0.09999999999999998,
            "count": 0
           },
           {
            "bin_end": 0.10000000000000009,
            "bin_start": 0,
            "count": 5
           },
           {
            "bin_end": 0.20000000000000007,
            "bin_start": 0.10000000000000009,
            "count": 0
           },
           {
            "bin_end": 0.30000000000000004,
            "bin_start": 0.20000000000000007,
            "count": 0
           },
           {
            "bin_end": 0.4,
            "bin_start": 0.30000000000000004,
            "count": 0
           },
           {
            "bin_end": 0.5,
            "bin_start": 0.4,
            "count": 0
           }
          ],
          "max": "0",
          "min": "0",
          "nan_count": 0,
          "unique_count": 1
         }
        },
        {
         "dtype": "int64",
         "name": "MODIFY_BATTERY_STATISTICS",
         "stats": {
          "histogram": [
           {
            "bin_end": -0.4,
            "bin_start": -0.5,
            "count": 0
           },
           {
            "bin_end": -0.3,
            "bin_start": -0.4,
            "count": 0
           },
           {
            "bin_end": -0.19999999999999996,
            "bin_start": -0.3,
            "count": 0
           },
           {
            "bin_end": -0.09999999999999998,
            "bin_start": -0.19999999999999996,
            "count": 0
           },
           {
            "bin_end": 0,
            "bin_start": -0.09999999999999998,
            "count": 0
           },
           {
            "bin_end": 0.10000000000000009,
            "bin_start": 0,
            "count": 5
           },
           {
            "bin_end": 0.20000000000000007,
            "bin_start": 0.10000000000000009,
            "count": 0
           },
           {
            "bin_end": 0.30000000000000004,
            "bin_start": 0.20000000000000007,
            "count": 0
           },
           {
            "bin_end": 0.4,
            "bin_start": 0.30000000000000004,
            "count": 0
           },
           {
            "bin_end": 0.5,
            "bin_start": 0.4,
            "count": 0
           }
          ],
          "max": "0",
          "min": "0",
          "nan_count": 0,
          "unique_count": 1
         }
        },
        {
         "dtype": "int64",
         "name": "MODIFY_SECURE_SYSTEM_SETTINGS",
         "stats": {
          "histogram": [
           {
            "bin_end": -0.4,
            "bin_start": -0.5,
            "count": 0
           },
           {
            "bin_end": -0.3,
            "bin_start": -0.4,
            "count": 0
           },
           {
            "bin_end": -0.19999999999999996,
            "bin_start": -0.3,
            "count": 0
           },
           {
            "bin_end": -0.09999999999999998,
            "bin_start": -0.19999999999999996,
            "count": 0
           },
           {
            "bin_end": 0,
            "bin_start": -0.09999999999999998,
            "count": 0
           },
           {
            "bin_end": 0.10000000000000009,
            "bin_start": 0,
            "count": 5
           },
           {
            "bin_end": 0.20000000000000007,
            "bin_start": 0.10000000000000009,
            "count": 0
           },
           {
            "bin_end": 0.30000000000000004,
            "bin_start": 0.20000000000000007,
            "count": 0
           },
           {
            "bin_end": 0.4,
            "bin_start": 0.30000000000000004,
            "count": 0
           },
           {
            "bin_end": 0.5,
            "bin_start": 0.4,
            "count": 0
           }
          ],
          "max": "0",
          "min": "0",
          "nan_count": 0,
          "unique_count": 1
         }
        },
        {
         "dtype": "int64",
         "name": "MODIFY_THE_GOOGLE_SERVICES_MAP",
         "stats": {
          "histogram": [
           {
            "bin_end": -0.4,
            "bin_start": -0.5,
            "count": 0
           },
           {
            "bin_end": -0.3,
            "bin_start": -0.4,
            "count": 0
           },
           {
            "bin_end": -0.19999999999999996,
            "bin_start": -0.3,
            "count": 0
           },
           {
            "bin_end": -0.09999999999999998,
            "bin_start": -0.19999999999999996,
            "count": 0
           },
           {
            "bin_end": 0,
            "bin_start": -0.09999999999999998,
            "count": 0
           },
           {
            "bin_end": 0.10000000000000009,
            "bin_start": 0,
            "count": 5
           },
           {
            "bin_end": 0.20000000000000007,
            "bin_start": 0.10000000000000009,
            "count": 0
           },
           {
            "bin_end": 0.30000000000000004,
            "bin_start": 0.20000000000000007,
            "count": 0
           },
           {
            "bin_end": 0.4,
            "bin_start": 0.30000000000000004,
            "count": 0
           },
           {
            "bin_end": 0.5,
            "bin_start": 0.4,
            "count": 0
           }
          ],
          "max": "0",
          "min": "0",
          "nan_count": 0,
          "unique_count": 1
         }
        },
        {
         "dtype": "int64",
         "name": "MODIFY/DELETE_USB_STORAGE_CONTENTS_MODIFY/DELETE_SD_CARD_CONTENTS",
         "stats": {
          "histogram": [
           {
            "bin_end": -0.4,
            "bin_start": -0.5,
            "count": 0
           },
           {
            "bin_end": -0.3,
            "bin_start": -0.4,
            "count": 0
           },
           {
            "bin_end": -0.19999999999999996,
            "bin_start": -0.3,
            "count": 0
           },
           {
            "bin_end": -0.09999999999999998,
            "bin_start": -0.19999999999999996,
            "count": 0
           },
           {
            "bin_end": 0,
            "bin_start": -0.09999999999999998,
            "count": 0
           },
           {
            "bin_end": 0.10000000000000009,
            "bin_start": 0,
            "count": 5
           },
           {
            "bin_end": 0.20000000000000007,
            "bin_start": 0.10000000000000009,
            "count": 0
           },
           {
            "bin_end": 0.30000000000000004,
            "bin_start": 0.20000000000000007,
            "count": 0
           },
           {
            "bin_end": 0.4,
            "bin_start": 0.30000000000000004,
            "count": 0
           },
           {
            "bin_end": 0.5,
            "bin_start": 0.4,
            "count": 0
           }
          ],
          "max": "0",
          "min": "0",
          "nan_count": 0,
          "unique_count": 1
         }
        },
        {
         "dtype": "int64",
         "name": "MONITOR_AND_CONTROL_ALL_APPLICATION_LAUNCHING",
         "stats": {
          "histogram": [
           {
            "bin_end": -0.4,
            "bin_start": -0.5,
            "count": 0
           },
           {
            "bin_end": -0.3,
            "bin_start": -0.4,
            "count": 0
           },
           {
            "bin_end": -0.19999999999999996,
            "bin_start": -0.3,
            "count": 0
           },
           {
            "bin_end": -0.09999999999999998,
            "bin_start": -0.19999999999999996,
            "count": 0
           },
           {
            "bin_end": 0,
            "bin_start": -0.09999999999999998,
            "count": 0
           },
           {
            "bin_end": 0.10000000000000009,
            "bin_start": 0,
            "count": 5
           },
           {
            "bin_end": 0.20000000000000007,
            "bin_start": 0.10000000000000009,
            "count": 0
           },
           {
            "bin_end": 0.30000000000000004,
            "bin_start": 0.20000000000000007,
            "count": 0
           },
           {
            "bin_end": 0.4,
            "bin_start": 0.30000000000000004,
            "count": 0
           },
           {
            "bin_end": 0.5,
            "bin_start": 0.4,
            "count": 0
           }
          ],
          "max": "0",
          "min": "0",
          "nan_count": 0,
          "unique_count": 1
         }
        },
        {
         "dtype": "int64",
         "name": "PARTIAL_SHUTDOWN",
         "stats": {
          "histogram": [
           {
            "bin_end": -0.4,
            "bin_start": -0.5,
            "count": 0
           },
           {
            "bin_end": -0.3,
            "bin_start": -0.4,
            "count": 0
           },
           {
            "bin_end": -0.19999999999999996,
            "bin_start": -0.3,
            "count": 0
           },
           {
            "bin_end": -0.09999999999999998,
            "bin_start": -0.19999999999999996,
            "count": 0
           },
           {
            "bin_end": 0,
            "bin_start": -0.09999999999999998,
            "count": 0
           },
           {
            "bin_end": 0.10000000000000009,
            "bin_start": 0,
            "count": 5
           },
           {
            "bin_end": 0.20000000000000007,
            "bin_start": 0.10000000000000009,
            "count": 0
           },
           {
            "bin_end": 0.30000000000000004,
            "bin_start": 0.20000000000000007,
            "count": 0
           },
           {
            "bin_end": 0.4,
            "bin_start": 0.30000000000000004,
            "count": 0
           },
           {
            "bin_end": 0.5,
            "bin_start": 0.4,
            "count": 0
           }
          ],
          "max": "0",
          "min": "0",
          "nan_count": 0,
          "unique_count": 1
         }
        },
        {
         "dtype": "int64",
         "name": "PERMANENTLY_DISABLE_DEVICE",
         "stats": {
          "histogram": [
           {
            "bin_end": -0.4,
            "bin_start": -0.5,
            "count": 0
           },
           {
            "bin_end": -0.3,
            "bin_start": -0.4,
            "count": 0
           },
           {
            "bin_end": -0.19999999999999996,
            "bin_start": -0.3,
            "count": 0
           },
           {
            "bin_end": -0.09999999999999998,
            "bin_start": -0.19999999999999996,
            "count": 0
           },
           {
            "bin_end": 0,
            "bin_start": -0.09999999999999998,
            "count": 0
           },
           {
            "bin_end": 0.10000000000000009,
            "bin_start": 0,
            "count": 5
           },
           {
            "bin_end": 0.20000000000000007,
            "bin_start": 0.10000000000000009,
            "count": 0
           },
           {
            "bin_end": 0.30000000000000004,
            "bin_start": 0.20000000000000007,
            "count": 0
           },
           {
            "bin_end": 0.4,
            "bin_start": 0.30000000000000004,
            "count": 0
           },
           {
            "bin_end": 0.5,
            "bin_start": 0.4,
            "count": 0
           }
          ],
          "max": "0",
          "min": "0",
          "nan_count": 0,
          "unique_count": 1
         }
        },
        {
         "dtype": "int64",
         "name": "PERMISSION_TO_INSTALL_A_LOCATION_PROVIDER",
         "stats": {
          "histogram": [
           {
            "bin_end": -0.4,
            "bin_start": -0.5,
            "count": 0
           },
           {
            "bin_end": -0.3,
            "bin_start": -0.4,
            "count": 0
           },
           {
            "bin_end": -0.19999999999999996,
            "bin_start": -0.3,
            "count": 0
           },
           {
            "bin_end": -0.09999999999999998,
            "bin_start": -0.19999999999999996,
            "count": 0
           },
           {
            "bin_end": 0,
            "bin_start": -0.09999999999999998,
            "count": 0
           },
           {
            "bin_end": 0.10000000000000009,
            "bin_start": 0,
            "count": 5
           },
           {
            "bin_end": 0.20000000000000007,
            "bin_start": 0.10000000000000009,
            "count": 0
           },
           {
            "bin_end": 0.30000000000000004,
            "bin_start": 0.20000000000000007,
            "count": 0
           },
           {
            "bin_end": 0.4,
            "bin_start": 0.30000000000000004,
            "count": 0
           },
           {
            "bin_end": 0.5,
            "bin_start": 0.4,
            "count": 0
           }
          ],
          "max": "0",
          "min": "0",
          "nan_count": 0,
          "unique_count": 1
         }
        },
        {
         "dtype": "int64",
         "name": "POWER_DEVICE_ON_OR_OFF",
         "stats": {
          "histogram": [
           {
            "bin_end": -0.4,
            "bin_start": -0.5,
            "count": 0
           },
           {
            "bin_end": -0.3,
            "bin_start": -0.4,
            "count": 0
           },
           {
            "bin_end": -0.19999999999999996,
            "bin_start": -0.3,
            "count": 0
           },
           {
            "bin_end": -0.09999999999999998,
            "bin_start": -0.19999999999999996,
            "count": 0
           },
           {
            "bin_end": 0,
            "bin_start": -0.09999999999999998,
            "count": 0
           },
           {
            "bin_end": 0.10000000000000009,
            "bin_start": 0,
            "count": 5
           },
           {
            "bin_end": 0.20000000000000007,
            "bin_start": 0.10000000000000009,
            "count": 0
           },
           {
            "bin_end": 0.30000000000000004,
            "bin_start": 0.20000000000000007,
            "count": 0
           },
           {
            "bin_end": 0.4,
            "bin_start": 0.30000000000000004,
            "count": 0
           },
           {
            "bin_end": 0.5,
            "bin_start": 0.4,
            "count": 0
           }
          ],
          "max": "0",
          "min": "0",
          "nan_count": 0,
          "unique_count": 1
         }
        },
        {
         "dtype": "int64",
         "name": "PRESS_KEYS_AND_CONTROL_BUTTONS",
         "stats": {
          "histogram": [
           {
            "bin_end": -0.4,
            "bin_start": -0.5,
            "count": 0
           },
           {
            "bin_end": -0.3,
            "bin_start": -0.4,
            "count": 0
           },
           {
            "bin_end": -0.19999999999999996,
            "bin_start": -0.3,
            "count": 0
           },
           {
            "bin_end": -0.09999999999999998,
            "bin_start": -0.19999999999999996,
            "count": 0
           },
           {
            "bin_end": 0,
            "bin_start": -0.09999999999999998,
            "count": 0
           },
           {
            "bin_end": 0.10000000000000009,
            "bin_start": 0,
            "count": 5
           },
           {
            "bin_end": 0.20000000000000007,
            "bin_start": 0.10000000000000009,
            "count": 0
           },
           {
            "bin_end": 0.30000000000000004,
            "bin_start": 0.20000000000000007,
            "count": 0
           },
           {
            "bin_end": 0.4,
            "bin_start": 0.30000000000000004,
            "count": 0
           },
           {
            "bin_end": 0.5,
            "bin_start": 0.4,
            "count": 0
           }
          ],
          "max": "0",
          "min": "0",
          "nan_count": 0,
          "unique_count": 1
         }
        },
        {
         "dtype": "int64",
         "name": "PREVENT_APP_SWITCHES",
         "stats": {
          "histogram": [
           {
            "bin_end": -0.4,
            "bin_start": -0.5,
            "count": 0
           },
           {
            "bin_end": -0.3,
            "bin_start": -0.4,
            "count": 0
           },
           {
            "bin_end": -0.19999999999999996,
            "bin_start": -0.3,
            "count": 0
           },
           {
            "bin_end": -0.09999999999999998,
            "bin_start": -0.19999999999999996,
            "count": 0
           },
           {
            "bin_end": 0,
            "bin_start": -0.09999999999999998,
            "count": 0
           },
           {
            "bin_end": 0.10000000000000009,
            "bin_start": 0,
            "count": 5
           },
           {
            "bin_end": 0.20000000000000007,
            "bin_start": 0.10000000000000009,
            "count": 0
           },
           {
            "bin_end": 0.30000000000000004,
            "bin_start": 0.20000000000000007,
            "count": 0
           },
           {
            "bin_end": 0.4,
            "bin_start": 0.30000000000000004,
            "count": 0
           },
           {
            "bin_end": 0.5,
            "bin_start": 0.4,
            "count": 0
           }
          ],
          "max": "0",
          "min": "0",
          "nan_count": 0,
          "unique_count": 1
         }
        },
        {
         "dtype": "int64",
         "name": "READ_FRAME_BUFFER",
         "stats": {
          "histogram": [
           {
            "bin_end": -0.4,
            "bin_start": -0.5,
            "count": 0
           },
           {
            "bin_end": -0.3,
            "bin_start": -0.4,
            "count": 0
           },
           {
            "bin_end": -0.19999999999999996,
            "bin_start": -0.3,
            "count": 0
           },
           {
            "bin_end": -0.09999999999999998,
            "bin_start": -0.19999999999999996,
            "count": 0
           },
           {
            "bin_end": 0,
            "bin_start": -0.09999999999999998,
            "count": 0
           },
           {
            "bin_end": 0.10000000000000009,
            "bin_start": 0,
            "count": 5
           },
           {
            "bin_end": 0.20000000000000007,
            "bin_start": 0.10000000000000009,
            "count": 0
           },
           {
            "bin_end": 0.30000000000000004,
            "bin_start": 0.20000000000000007,
            "count": 0
           },
           {
            "bin_end": 0.4,
            "bin_start": 0.30000000000000004,
            "count": 0
           },
           {
            "bin_end": 0.5,
            "bin_start": 0.4,
            "count": 0
           }
          ],
          "max": "0",
          "min": "0",
          "nan_count": 0,
          "unique_count": 1
         }
        },
        {
         "dtype": "int64",
         "name": "READ_INSTANT_MESSAGES",
         "stats": {
          "histogram": [
           {
            "bin_end": -0.4,
            "bin_start": -0.5,
            "count": 0
           },
           {
            "bin_end": -0.3,
            "bin_start": -0.4,
            "count": 0
           },
           {
            "bin_end": -0.19999999999999996,
            "bin_start": -0.3,
            "count": 0
           },
           {
            "bin_end": -0.09999999999999998,
            "bin_start": -0.19999999999999996,
            "count": 0
           },
           {
            "bin_end": 0,
            "bin_start": -0.09999999999999998,
            "count": 0
           },
           {
            "bin_end": 0.10000000000000009,
            "bin_start": 0,
            "count": 5
           },
           {
            "bin_end": 0.20000000000000007,
            "bin_start": 0.10000000000000009,
            "count": 0
           },
           {
            "bin_end": 0.30000000000000004,
            "bin_start": 0.20000000000000007,
            "count": 0
           },
           {
            "bin_end": 0.4,
            "bin_start": 0.30000000000000004,
            "count": 0
           },
           {
            "bin_end": 0.5,
            "bin_start": 0.4,
            "count": 0
           }
          ],
          "max": "0",
          "min": "0",
          "nan_count": 0,
          "unique_count": 1
         }
        },
        {
         "dtype": "int64",
         "name": "READ_PHONE_STATE_AND_IDENTITY",
         "stats": {
          "histogram": [
           {
            "bin_end": -0.4,
            "bin_start": -0.5,
            "count": 0
           },
           {
            "bin_end": -0.3,
            "bin_start": -0.4,
            "count": 0
           },
           {
            "bin_end": -0.19999999999999996,
            "bin_start": -0.3,
            "count": 0
           },
           {
            "bin_end": -0.09999999999999998,
            "bin_start": -0.19999999999999996,
            "count": 0
           },
           {
            "bin_end": 0,
            "bin_start": -0.09999999999999998,
            "count": 0
           },
           {
            "bin_end": 0.10000000000000009,
            "bin_start": 0,
            "count": 5
           },
           {
            "bin_end": 0.20000000000000007,
            "bin_start": 0.10000000000000009,
            "count": 0
           },
           {
            "bin_end": 0.30000000000000004,
            "bin_start": 0.20000000000000007,
            "count": 0
           },
           {
            "bin_end": 0.4,
            "bin_start": 0.30000000000000004,
            "count": 0
           },
           {
            "bin_end": 0.5,
            "bin_start": 0.4,
            "count": 0
           }
          ],
          "max": "0",
          "min": "0",
          "nan_count": 0,
          "unique_count": 1
         }
        },
        {
         "dtype": "int64",
         "name": "RECORD_WHAT_YOU_TYPE_AND_ACTIONS_YOU_TAKE",
         "stats": {
          "histogram": [
           {
            "bin_end": -0.4,
            "bin_start": -0.5,
            "count": 0
           },
           {
            "bin_end": -0.3,
            "bin_start": -0.4,
            "count": 0
           },
           {
            "bin_end": -0.19999999999999996,
            "bin_start": -0.3,
            "count": 0
           },
           {
            "bin_end": -0.09999999999999998,
            "bin_start": -0.19999999999999996,
            "count": 0
           },
           {
            "bin_end": 0,
            "bin_start": -0.09999999999999998,
            "count": 0
           },
           {
            "bin_end": 0.10000000000000009,
            "bin_start": 0,
            "count": 5
           },
           {
            "bin_end": 0.20000000000000007,
            "bin_start": 0.10000000000000009,
            "count": 0
           },
           {
            "bin_end": 0.30000000000000004,
            "bin_start": 0.20000000000000007,
            "count": 0
           },
           {
            "bin_end": 0.4,
            "bin_start": 0.30000000000000004,
            "count": 0
           },
           {
            "bin_end": 0.5,
            "bin_start": 0.4,
            "count": 0
           }
          ],
          "max": "0",
          "min": "0",
          "nan_count": 0,
          "unique_count": 1
         }
        },
        {
         "dtype": "int64",
         "name": "RESET_SYSTEM_TO_FACTORY_DEFAULTS",
         "stats": {
          "histogram": [
           {
            "bin_end": -0.4,
            "bin_start": -0.5,
            "count": 0
           },
           {
            "bin_end": -0.3,
            "bin_start": -0.4,
            "count": 0
           },
           {
            "bin_end": -0.19999999999999996,
            "bin_start": -0.3,
            "count": 0
           },
           {
            "bin_end": -0.09999999999999998,
            "bin_start": -0.19999999999999996,
            "count": 0
           },
           {
            "bin_end": 0,
            "bin_start": -0.09999999999999998,
            "count": 0
           },
           {
            "bin_end": 0.10000000000000009,
            "bin_start": 0,
            "count": 5
           },
           {
            "bin_end": 0.20000000000000007,
            "bin_start": 0.10000000000000009,
            "count": 0
           },
           {
            "bin_end": 0.30000000000000004,
            "bin_start": 0.20000000000000007,
            "count": 0
           },
           {
            "bin_end": 0.4,
            "bin_start": 0.30000000000000004,
            "count": 0
           },
           {
            "bin_end": 0.5,
            "bin_start": 0.4,
            "count": 0
           }
          ],
          "max": "0",
          "min": "0",
          "nan_count": 0,
          "unique_count": 1
         }
        },
        {
         "dtype": "int64",
         "name": "RUN_IN_FACTORY_TEST_MODE",
         "stats": {
          "histogram": [
           {
            "bin_end": -0.4,
            "bin_start": -0.5,
            "count": 0
           },
           {
            "bin_end": -0.3,
            "bin_start": -0.4,
            "count": 0
           },
           {
            "bin_end": -0.19999999999999996,
            "bin_start": -0.3,
            "count": 0
           },
           {
            "bin_end": -0.09999999999999998,
            "bin_start": -0.19999999999999996,
            "count": 0
           },
           {
            "bin_end": 0,
            "bin_start": -0.09999999999999998,
            "count": 0
           },
           {
            "bin_end": 0.10000000000000009,
            "bin_start": 0,
            "count": 5
           },
           {
            "bin_end": 0.20000000000000007,
            "bin_start": 0.10000000000000009,
            "count": 0
           },
           {
            "bin_end": 0.30000000000000004,
            "bin_start": 0.20000000000000007,
            "count": 0
           },
           {
            "bin_end": 0.4,
            "bin_start": 0.30000000000000004,
            "count": 0
           },
           {
            "bin_end": 0.5,
            "bin_start": 0.4,
            "count": 0
           }
          ],
          "max": "0",
          "min": "0",
          "nan_count": 0,
          "unique_count": 1
         }
        },
        {
         "dtype": "int64",
         "name": "SET_TIME",
         "stats": {
          "histogram": [
           {
            "bin_end": -0.4,
            "bin_start": -0.5,
            "count": 0
           },
           {
            "bin_end": -0.3,
            "bin_start": -0.4,
            "count": 0
           },
           {
            "bin_end": -0.19999999999999996,
            "bin_start": -0.3,
            "count": 0
           },
           {
            "bin_end": -0.09999999999999998,
            "bin_start": -0.19999999999999996,
            "count": 0
           },
           {
            "bin_end": 0,
            "bin_start": -0.09999999999999998,
            "count": 0
           },
           {
            "bin_end": 0.10000000000000009,
            "bin_start": 0,
            "count": 5
           },
           {
            "bin_end": 0.20000000000000007,
            "bin_start": 0.10000000000000009,
            "count": 0
           },
           {
            "bin_end": 0.30000000000000004,
            "bin_start": 0.20000000000000007,
            "count": 0
           },
           {
            "bin_end": 0.4,
            "bin_start": 0.30000000000000004,
            "count": 0
           },
           {
            "bin_end": 0.5,
            "bin_start": 0.4,
            "count": 0
           }
          ],
          "max": "0",
          "min": "0",
          "nan_count": 0,
          "unique_count": 1
         }
        },
        {
         "dtype": "int64",
         "name": "SET_WALLPAPER_SIZE_HINTS",
         "stats": {
          "histogram": [
           {
            "bin_end": -0.4,
            "bin_start": -0.5,
            "count": 0
           },
           {
            "bin_end": -0.3,
            "bin_start": -0.4,
            "count": 0
           },
           {
            "bin_end": -0.19999999999999996,
            "bin_start": -0.3,
            "count": 0
           },
           {
            "bin_end": -0.09999999999999998,
            "bin_start": -0.19999999999999996,
            "count": 0
           },
           {
            "bin_end": 0,
            "bin_start": -0.09999999999999998,
            "count": 0
           },
           {
            "bin_end": 0.10000000000000009,
            "bin_start": 0,
            "count": 5
           },
           {
            "bin_end": 0.20000000000000007,
            "bin_start": 0.10000000000000009,
            "count": 0
           },
           {
            "bin_end": 0.30000000000000004,
            "bin_start": 0.20000000000000007,
            "count": 0
           },
           {
            "bin_end": 0.4,
            "bin_start": 0.30000000000000004,
            "count": 0
           },
           {
            "bin_end": 0.5,
            "bin_start": 0.4,
            "count": 0
           }
          ],
          "max": "0",
          "min": "0",
          "nan_count": 0,
          "unique_count": 1
         }
        },
        {
         "dtype": "int64",
         "name": "START_IM_SERVICE",
         "stats": {
          "histogram": [
           {
            "bin_end": -0.4,
            "bin_start": -0.5,
            "count": 0
           },
           {
            "bin_end": -0.3,
            "bin_start": -0.4,
            "count": 0
           },
           {
            "bin_end": -0.19999999999999996,
            "bin_start": -0.3,
            "count": 0
           },
           {
            "bin_end": -0.09999999999999998,
            "bin_start": -0.19999999999999996,
            "count": 0
           },
           {
            "bin_end": 0,
            "bin_start": -0.09999999999999998,
            "count": 0
           },
           {
            "bin_end": 0.10000000000000009,
            "bin_start": 0,
            "count": 5
           },
           {
            "bin_end": 0.20000000000000007,
            "bin_start": 0.10000000000000009,
            "count": 0
           },
           {
            "bin_end": 0.30000000000000004,
            "bin_start": 0.20000000000000007,
            "count": 0
           },
           {
            "bin_end": 0.4,
            "bin_start": 0.30000000000000004,
            "count": 0
           },
           {
            "bin_end": 0.5,
            "bin_start": 0.4,
            "count": 0
           }
          ],
          "max": "0",
          "min": "0",
          "nan_count": 0,
          "unique_count": 1
         }
        },
        {
         "dtype": "int64",
         "name": "UPDATE_COMPONENT_USAGE_STATISTICS",
         "stats": {
          "histogram": [
           {
            "bin_end": -0.4,
            "bin_start": -0.5,
            "count": 0
           },
           {
            "bin_end": -0.3,
            "bin_start": -0.4,
            "count": 0
           },
           {
            "bin_end": -0.19999999999999996,
            "bin_start": -0.3,
            "count": 0
           },
           {
            "bin_end": -0.09999999999999998,
            "bin_start": -0.19999999999999996,
            "count": 0
           },
           {
            "bin_end": 0,
            "bin_start": -0.09999999999999998,
            "count": 0
           },
           {
            "bin_end": 0.10000000000000009,
            "bin_start": 0,
            "count": 5
           },
           {
            "bin_end": 0.20000000000000007,
            "bin_start": 0.10000000000000009,
            "count": 0
           },
           {
            "bin_end": 0.30000000000000004,
            "bin_start": 0.20000000000000007,
            "count": 0
           },
           {
            "bin_end": 0.4,
            "bin_start": 0.30000000000000004,
            "count": 0
           },
           {
            "bin_end": 0.5,
            "bin_start": 0.4,
            "count": 0
           }
          ],
          "max": "0",
          "min": "0",
          "nan_count": 0,
          "unique_count": 1
         }
        },
        {
         "dtype": "int64",
         "name": "WRITE_CONTACT_DATA",
         "stats": {
          "histogram": [
           {
            "bin_end": -0.4,
            "bin_start": -0.5,
            "count": 0
           },
           {
            "bin_end": -0.3,
            "bin_start": -0.4,
            "count": 0
           },
           {
            "bin_end": -0.19999999999999996,
            "bin_start": -0.3,
            "count": 0
           },
           {
            "bin_end": -0.09999999999999998,
            "bin_start": -0.19999999999999996,
            "count": 0
           },
           {
            "bin_end": 0,
            "bin_start": -0.09999999999999998,
            "count": 0
           },
           {
            "bin_end": 0.10000000000000009,
            "bin_start": 0,
            "count": 5
           },
           {
            "bin_end": 0.20000000000000007,
            "bin_start": 0.10000000000000009,
            "count": 0
           },
           {
            "bin_end": 0.30000000000000004,
            "bin_start": 0.20000000000000007,
            "count": 0
           },
           {
            "bin_end": 0.4,
            "bin_start": 0.30000000000000004,
            "count": 0
           },
           {
            "bin_end": 0.5,
            "bin_start": 0.4,
            "count": 0
           }
          ],
          "max": "0",
          "min": "0",
          "nan_count": 0,
          "unique_count": 1
         }
        },
        {
         "dtype": "int64",
         "name": "WRITE_INSTANT_MESSAGES",
         "stats": {
          "histogram": [
           {
            "bin_end": -0.4,
            "bin_start": -0.5,
            "count": 0
           },
           {
            "bin_end": -0.3,
            "bin_start": -0.4,
            "count": 0
           },
           {
            "bin_end": -0.19999999999999996,
            "bin_start": -0.3,
            "count": 0
           },
           {
            "bin_end": -0.09999999999999998,
            "bin_start": -0.19999999999999996,
            "count": 0
           },
           {
            "bin_end": 0,
            "bin_start": -0.09999999999999998,
            "count": 0
           },
           {
            "bin_end": 0.10000000000000009,
            "bin_start": 0,
            "count": 5
           },
           {
            "bin_end": 0.20000000000000007,
            "bin_start": 0.10000000000000009,
            "count": 0
           },
           {
            "bin_end": 0.30000000000000004,
            "bin_start": 0.20000000000000007,
            "count": 0
           },
           {
            "bin_end": 0.4,
            "bin_start": 0.30000000000000004,
            "count": 0
           },
           {
            "bin_end": 0.5,
            "bin_start": 0.4,
            "count": 0
           }
          ],
          "max": "0",
          "min": "0",
          "nan_count": 0,
          "unique_count": 1
         }
        },
        {
         "dtype": "int64",
         "name": "ENABLE_APPLICATION_DEBUGGING",
         "stats": {
          "histogram": [
           {
            "bin_end": -0.4,
            "bin_start": -0.5,
            "count": 0
           },
           {
            "bin_end": -0.3,
            "bin_start": -0.4,
            "count": 0
           },
           {
            "bin_end": -0.19999999999999996,
            "bin_start": -0.3,
            "count": 0
           },
           {
            "bin_end": -0.09999999999999998,
            "bin_start": -0.19999999999999996,
            "count": 0
           },
           {
            "bin_end": 0,
            "bin_start": -0.09999999999999998,
            "count": 0
           },
           {
            "bin_end": 0.10000000000000009,
            "bin_start": 0,
            "count": 5
           },
           {
            "bin_end": 0.20000000000000007,
            "bin_start": 0.10000000000000009,
            "count": 0
           },
           {
            "bin_end": 0.30000000000000004,
            "bin_start": 0.20000000000000007,
            "count": 0
           },
           {
            "bin_end": 0.4,
            "bin_start": 0.30000000000000004,
            "count": 0
           },
           {
            "bin_end": 0.5,
            "bin_start": 0.4,
            "count": 0
           }
          ],
          "max": "0",
          "min": "0",
          "nan_count": 0,
          "unique_count": 1
         }
        },
        {
         "dtype": "int64",
         "name": "LIMIT_NUMBER_OF_RUNNING_PROCESSES",
         "stats": {
          "histogram": [
           {
            "bin_end": -0.4,
            "bin_start": -0.5,
            "count": 0
           },
           {
            "bin_end": -0.3,
            "bin_start": -0.4,
            "count": 0
           },
           {
            "bin_end": -0.19999999999999996,
            "bin_start": -0.3,
            "count": 0
           },
           {
            "bin_end": -0.09999999999999998,
            "bin_start": -0.19999999999999996,
            "count": 0
           },
           {
            "bin_end": 0,
            "bin_start": -0.09999999999999998,
            "count": 0
           },
           {
            "bin_end": 0.10000000000000009,
            "bin_start": 0,
            "count": 5
           },
           {
            "bin_end": 0.20000000000000007,
            "bin_start": 0.10000000000000009,
            "count": 0
           },
           {
            "bin_end": 0.30000000000000004,
            "bin_start": 0.20000000000000007,
            "count": 0
           },
           {
            "bin_end": 0.4,
            "bin_start": 0.30000000000000004,
            "count": 0
           },
           {
            "bin_end": 0.5,
            "bin_start": 0.4,
            "count": 0
           }
          ],
          "max": "0",
          "min": "0",
          "nan_count": 0,
          "unique_count": 1
         }
        },
        {
         "dtype": "int64",
         "name": "MAKE_ALL_BACKGROUND_APPLICATIONS_CLOSE",
         "stats": {
          "histogram": [
           {
            "bin_end": -0.4,
            "bin_start": -0.5,
            "count": 0
           },
           {
            "bin_end": -0.3,
            "bin_start": -0.4,
            "count": 0
           },
           {
            "bin_end": -0.19999999999999996,
            "bin_start": -0.3,
            "count": 0
           },
           {
            "bin_end": -0.09999999999999998,
            "bin_start": -0.19999999999999996,
            "count": 0
           },
           {
            "bin_end": 0,
            "bin_start": -0.09999999999999998,
            "count": 0
           },
           {
            "bin_end": 0.10000000000000009,
            "bin_start": 0,
            "count": 5
           },
           {
            "bin_end": 0.20000000000000007,
            "bin_start": 0.10000000000000009,
            "count": 0
           },
           {
            "bin_end": 0.30000000000000004,
            "bin_start": 0.20000000000000007,
            "count": 0
           },
           {
            "bin_end": 0.4,
            "bin_start": 0.30000000000000004,
            "count": 0
           },
           {
            "bin_end": 0.5,
            "bin_start": 0.4,
            "count": 0
           }
          ],
          "max": "0",
          "min": "0",
          "nan_count": 0,
          "unique_count": 1
         }
        },
        {
         "dtype": "int64",
         "name": "SEND_LINUX_SIGNALS_TO_APPLICATIONS",
         "stats": {
          "histogram": [
           {
            "bin_end": -0.4,
            "bin_start": -0.5,
            "count": 0
           },
           {
            "bin_end": -0.3,
            "bin_start": -0.4,
            "count": 0
           },
           {
            "bin_end": -0.19999999999999996,
            "bin_start": -0.3,
            "count": 0
           },
           {
            "bin_end": -0.09999999999999998,
            "bin_start": -0.19999999999999996,
            "count": 0
           },
           {
            "bin_end": 0,
            "bin_start": -0.09999999999999998,
            "count": 0
           },
           {
            "bin_end": 0.10000000000000009,
            "bin_start": 0,
            "count": 5
           },
           {
            "bin_end": 0.20000000000000007,
            "bin_start": 0.10000000000000009,
            "count": 0
           },
           {
            "bin_end": 0.30000000000000004,
            "bin_start": 0.20000000000000007,
            "count": 0
           },
           {
            "bin_end": 0.4,
            "bin_start": 0.30000000000000004,
            "count": 0
           },
           {
            "bin_end": 0.5,
            "bin_start": 0.4,
            "count": 0
           }
          ],
          "max": "0",
          "min": "0",
          "nan_count": 0,
          "unique_count": 1
         }
        },
        {
         "dtype": "int64",
         "name": "CHANGE_YOUR_AUDIO_SETTINGS",
         "stats": {
          "histogram": [
           {
            "bin_end": -0.4,
            "bin_start": -0.5,
            "count": 0
           },
           {
            "bin_end": -0.3,
            "bin_start": -0.4,
            "count": 0
           },
           {
            "bin_end": -0.19999999999999996,
            "bin_start": -0.3,
            "count": 0
           },
           {
            "bin_end": -0.09999999999999998,
            "bin_start": -0.19999999999999996,
            "count": 0
           },
           {
            "bin_end": 0,
            "bin_start": -0.09999999999999998,
            "count": 0
           },
           {
            "bin_end": 0.10000000000000009,
            "bin_start": 0,
            "count": 5
           },
           {
            "bin_end": 0.20000000000000007,
            "bin_start": 0.10000000000000009,
            "count": 0
           },
           {
            "bin_end": 0.30000000000000004,
            "bin_start": 0.20000000000000007,
            "count": 0
           },
           {
            "bin_end": 0.4,
            "bin_start": 0.30000000000000004,
            "count": 0
           },
           {
            "bin_end": 0.5,
            "bin_start": 0.4,
            "count": 0
           }
          ],
          "max": "0",
          "min": "0",
          "nan_count": 0,
          "unique_count": 1
         }
        },
        {
         "dtype": "int64",
         "name": "CONTROL_FLASHLIGHT",
         "stats": {
          "histogram": [
           {
            "bin_end": 0.1,
            "bin_start": 0,
            "count": 4
           },
           {
            "bin_end": 0.2,
            "bin_start": 0.1,
            "count": 0
           },
           {
            "bin_end": 0.30000000000000004,
            "bin_start": 0.2,
            "count": 0
           },
           {
            "bin_end": 0.4,
            "bin_start": 0.30000000000000004,
            "count": 0
           },
           {
            "bin_end": 0.5,
            "bin_start": 0.4,
            "count": 0
           },
           {
            "bin_end": 0.6000000000000001,
            "bin_start": 0.5,
            "count": 0
           },
           {
            "bin_end": 0.7000000000000001,
            "bin_start": 0.6000000000000001,
            "count": 0
           },
           {
            "bin_end": 0.8,
            "bin_start": 0.7000000000000001,
            "count": 0
           },
           {
            "bin_end": 0.9,
            "bin_start": 0.8,
            "count": 0
           },
           {
            "bin_end": 1,
            "bin_start": 0.9,
            "count": 1
           }
          ],
          "max": "1",
          "min": "0",
          "nan_count": 0,
          "unique_count": 2
         }
        },
        {
         "dtype": "int64",
         "name": "CONTROL_VIBRATOR",
         "stats": {
          "histogram": [
           {
            "bin_end": 0.1,
            "bin_start": 0,
            "count": 4
           },
           {
            "bin_end": 0.2,
            "bin_start": 0.1,
            "count": 0
           },
           {
            "bin_end": 0.30000000000000004,
            "bin_start": 0.2,
            "count": 0
           },
           {
            "bin_end": 0.4,
            "bin_start": 0.30000000000000004,
            "count": 0
           },
           {
            "bin_end": 0.5,
            "bin_start": 0.4,
            "count": 0
           },
           {
            "bin_end": 0.6000000000000001,
            "bin_start": 0.5,
            "count": 0
           },
           {
            "bin_end": 0.7000000000000001,
            "bin_start": 0.6000000000000001,
            "count": 0
           },
           {
            "bin_end": 0.8,
            "bin_start": 0.7000000000000001,
            "count": 0
           },
           {
            "bin_end": 0.9,
            "bin_start": 0.8,
            "count": 0
           },
           {
            "bin_end": 1,
            "bin_start": 0.9,
            "count": 1
           }
          ],
          "max": "1",
          "min": "0",
          "nan_count": 0,
          "unique_count": 2
         }
        },
        {
         "dtype": "int64",
         "name": "RECORD_AUDIO",
         "stats": {
          "histogram": [
           {
            "bin_end": 0.1,
            "bin_start": 0,
            "count": 4
           },
           {
            "bin_end": 0.2,
            "bin_start": 0.1,
            "count": 0
           },
           {
            "bin_end": 0.30000000000000004,
            "bin_start": 0.2,
            "count": 0
           },
           {
            "bin_end": 0.4,
            "bin_start": 0.30000000000000004,
            "count": 0
           },
           {
            "bin_end": 0.5,
            "bin_start": 0.4,
            "count": 0
           },
           {
            "bin_end": 0.6000000000000001,
            "bin_start": 0.5,
            "count": 0
           },
           {
            "bin_end": 0.7000000000000001,
            "bin_start": 0.6000000000000001,
            "count": 0
           },
           {
            "bin_end": 0.8,
            "bin_start": 0.7000000000000001,
            "count": 0
           },
           {
            "bin_end": 0.9,
            "bin_start": 0.8,
            "count": 0
           },
           {
            "bin_end": 1,
            "bin_start": 0.9,
            "count": 1
           }
          ],
          "max": "1",
          "min": "0",
          "nan_count": 0,
          "unique_count": 2
         }
        },
        {
         "dtype": "int64",
         "name": "TAKE_PICTURES_AND_VIDEOS",
         "stats": {
          "histogram": [
           {
            "bin_end": 0.1,
            "bin_start": 0,
            "count": 4
           },
           {
            "bin_end": 0.2,
            "bin_start": 0.1,
            "count": 0
           },
           {
            "bin_end": 0.30000000000000004,
            "bin_start": 0.2,
            "count": 0
           },
           {
            "bin_end": 0.4,
            "bin_start": 0.30000000000000004,
            "count": 0
           },
           {
            "bin_end": 0.5,
            "bin_start": 0.4,
            "count": 0
           },
           {
            "bin_end": 0.6000000000000001,
            "bin_start": 0.5,
            "count": 0
           },
           {
            "bin_end": 0.7000000000000001,
            "bin_start": 0.6000000000000001,
            "count": 0
           },
           {
            "bin_end": 0.8,
            "bin_start": 0.7000000000000001,
            "count": 0
           },
           {
            "bin_end": 0.9,
            "bin_start": 0.8,
            "count": 0
           },
           {
            "bin_end": 1,
            "bin_start": 0.9,
            "count": 1
           }
          ],
          "max": "1",
          "min": "0",
          "nan_count": 0,
          "unique_count": 2
         }
        },
        {
         "dtype": "int64",
         "name": "TEST_HARDWARE",
         "stats": {
          "histogram": [
           {
            "bin_end": -0.4,
            "bin_start": -0.5,
            "count": 0
           },
           {
            "bin_end": -0.3,
            "bin_start": -0.4,
            "count": 0
           },
           {
            "bin_end": -0.19999999999999996,
            "bin_start": -0.3,
            "count": 0
           },
           {
            "bin_end": -0.09999999999999998,
            "bin_start": -0.19999999999999996,
            "count": 0
           },
           {
            "bin_end": 0,
            "bin_start": -0.09999999999999998,
            "count": 0
           },
           {
            "bin_end": 0.10000000000000009,
            "bin_start": 0,
            "count": 5
           },
           {
            "bin_end": 0.20000000000000007,
            "bin_start": 0.10000000000000009,
            "count": 0
           },
           {
            "bin_end": 0.30000000000000004,
            "bin_start": 0.20000000000000007,
            "count": 0
           },
           {
            "bin_end": 0.4,
            "bin_start": 0.30000000000000004,
            "count": 0
           },
           {
            "bin_end": 0.5,
            "bin_start": 0.4,
            "count": 0
           }
          ],
          "max": "0",
          "min": "0",
          "nan_count": 0,
          "unique_count": 1
         }
        },
        {
         "dtype": "int64",
         "name": "BROADCAST_DATA_MESSAGES_TO_APPLICATIONS",
         "stats": {
          "histogram": [
           {
            "bin_end": -0.4,
            "bin_start": -0.5,
            "count": 0
           },
           {
            "bin_end": -0.3,
            "bin_start": -0.4,
            "count": 0
           },
           {
            "bin_end": -0.19999999999999996,
            "bin_start": -0.3,
            "count": 0
           },
           {
            "bin_end": -0.09999999999999998,
            "bin_start": -0.19999999999999996,
            "count": 0
           },
           {
            "bin_end": 0,
            "bin_start": -0.09999999999999998,
            "count": 0
           },
           {
            "bin_end": 0.10000000000000009,
            "bin_start": 0,
            "count": 5
           },
           {
            "bin_end": 0.20000000000000007,
            "bin_start": 0.10000000000000009,
            "count": 0
           },
           {
            "bin_end": 0.30000000000000004,
            "bin_start": 0.20000000000000007,
            "count": 0
           },
           {
            "bin_end": 0.4,
            "bin_start": 0.30000000000000004,
            "count": 0
           },
           {
            "bin_end": 0.5,
            "bin_start": 0.4,
            "count": 0
           }
          ],
          "max": "0",
          "min": "0",
          "nan_count": 0,
          "unique_count": 1
         }
        },
        {
         "dtype": "int64",
         "name": "CONTROL_NEAR_FIELD_COMMUNICATION",
         "stats": {
          "histogram": [
           {
            "bin_end": -0.4,
            "bin_start": -0.5,
            "count": 0
           },
           {
            "bin_end": -0.3,
            "bin_start": -0.4,
            "count": 0
           },
           {
            "bin_end": -0.19999999999999996,
            "bin_start": -0.3,
            "count": 0
           },
           {
            "bin_end": -0.09999999999999998,
            "bin_start": -0.19999999999999996,
            "count": 0
           },
           {
            "bin_end": 0,
            "bin_start": -0.09999999999999998,
            "count": 0
           },
           {
            "bin_end": 0.10000000000000009,
            "bin_start": 0,
            "count": 5
           },
           {
            "bin_end": 0.20000000000000007,
            "bin_start": 0.10000000000000009,
            "count": 0
           },
           {
            "bin_end": 0.30000000000000004,
            "bin_start": 0.20000000000000007,
            "count": 0
           },
           {
            "bin_end": 0.4,
            "bin_start": 0.30000000000000004,
            "count": 0
           },
           {
            "bin_end": 0.5,
            "bin_start": 0.4,
            "count": 0
           }
          ],
          "max": "0",
          "min": "0",
          "nan_count": 0,
          "unique_count": 1
         }
        },
        {
         "dtype": "int64",
         "name": "CREATE_BLUETOOTH_CONNECTIONS",
         "stats": {
          "histogram": [
           {
            "bin_end": -0.4,
            "bin_start": -0.5,
            "count": 0
           },
           {
            "bin_end": -0.3,
            "bin_start": -0.4,
            "count": 0
           },
           {
            "bin_end": -0.19999999999999996,
            "bin_start": -0.3,
            "count": 0
           },
           {
            "bin_end": -0.09999999999999998,
            "bin_start": -0.19999999999999996,
            "count": 0
           },
           {
            "bin_end": 0,
            "bin_start": -0.09999999999999998,
            "count": 0
           },
           {
            "bin_end": 0.10000000000000009,
            "bin_start": 0,
            "count": 5
           },
           {
            "bin_end": 0.20000000000000007,
            "bin_start": 0.10000000000000009,
            "count": 0
           },
           {
            "bin_end": 0.30000000000000004,
            "bin_start": 0.20000000000000007,
            "count": 0
           },
           {
            "bin_end": 0.4,
            "bin_start": 0.30000000000000004,
            "count": 0
           },
           {
            "bin_end": 0.5,
            "bin_start": 0.4,
            "count": 0
           }
          ],
          "max": "0",
          "min": "0",
          "nan_count": 0,
          "unique_count": 1
         }
        },
        {
         "dtype": "int64",
         "name": "DOWNLOAD_FILES_WITHOUT_NOTIFICATION",
         "stats": {
          "histogram": [
           {
            "bin_end": -0.4,
            "bin_start": -0.5,
            "count": 0
           },
           {
            "bin_end": -0.3,
            "bin_start": -0.4,
            "count": 0
           },
           {
            "bin_end": -0.19999999999999996,
            "bin_start": -0.3,
            "count": 0
           },
           {
            "bin_end": -0.09999999999999998,
            "bin_start": -0.19999999999999996,
            "count": 0
           },
           {
            "bin_end": 0,
            "bin_start": -0.09999999999999998,
            "count": 0
           },
           {
            "bin_end": 0.10000000000000009,
            "bin_start": 0,
            "count": 5
           },
           {
            "bin_end": 0.20000000000000007,
            "bin_start": 0.10000000000000009,
            "count": 0
           },
           {
            "bin_end": 0.30000000000000004,
            "bin_start": 0.20000000000000007,
            "count": 0
           },
           {
            "bin_end": 0.4,
            "bin_start": 0.30000000000000004,
            "count": 0
           },
           {
            "bin_end": 0.5,
            "bin_start": 0.4,
            "count": 0
           }
          ],
          "max": "0",
          "min": "0",
          "nan_count": 0,
          "unique_count": 1
         }
        },
        {
         "dtype": "int64",
         "name": "FULL_INTERNET_ACCESS.1",
         "stats": {
          "histogram": [
           {
            "bin_end": 0.6,
            "bin_start": 0.5,
            "count": 0
           },
           {
            "bin_end": 0.7,
            "bin_start": 0.6,
            "count": 0
           },
           {
            "bin_end": 0.8,
            "bin_start": 0.7,
            "count": 0
           },
           {
            "bin_end": 0.9,
            "bin_start": 0.8,
            "count": 0
           },
           {
            "bin_end": 1,
            "bin_start": 0.9,
            "count": 0
           },
           {
            "bin_end": 1.1,
            "bin_start": 1,
            "count": 5
           },
           {
            "bin_end": 1.2000000000000002,
            "bin_start": 1.1,
            "count": 0
           },
           {
            "bin_end": 1.3,
            "bin_start": 1.2000000000000002,
            "count": 0
           },
           {
            "bin_end": 1.4,
            "bin_start": 1.3,
            "count": 0
           },
           {
            "bin_end": 1.5,
            "bin_start": 1.4,
            "count": 0
           }
          ],
          "max": "1",
          "min": "1",
          "nan_count": 0,
          "unique_count": 1
         }
        },
        {
         "dtype": "int64",
         "name": "MAKE/RECEIVE_INTERNET_CALLS",
         "stats": {
          "histogram": [
           {
            "bin_end": -0.4,
            "bin_start": -0.5,
            "count": 0
           },
           {
            "bin_end": -0.3,
            "bin_start": -0.4,
            "count": 0
           },
           {
            "bin_end": -0.19999999999999996,
            "bin_start": -0.3,
            "count": 0
           },
           {
            "bin_end": -0.09999999999999998,
            "bin_start": -0.19999999999999996,
            "count": 0
           },
           {
            "bin_end": 0,
            "bin_start": -0.09999999999999998,
            "count": 0
           },
           {
            "bin_end": 0.10000000000000009,
            "bin_start": 0,
            "count": 5
           },
           {
            "bin_end": 0.20000000000000007,
            "bin_start": 0.10000000000000009,
            "count": 0
           },
           {
            "bin_end": 0.30000000000000004,
            "bin_start": 0.20000000000000007,
            "count": 0
           },
           {
            "bin_end": 0.4,
            "bin_start": 0.30000000000000004,
            "count": 0
           },
           {
            "bin_end": 0.5,
            "bin_start": 0.4,
            "count": 0
           }
          ],
          "max": "0",
          "min": "0",
          "nan_count": 0,
          "unique_count": 1
         }
        },
        {
         "dtype": "int64",
         "name": "RECEIVE_DATA_FROM_INTERNET",
         "stats": {
          "histogram": [
           {
            "bin_end": -0.4,
            "bin_start": -0.5,
            "count": 0
           },
           {
            "bin_end": -0.3,
            "bin_start": -0.4,
            "count": 0
           },
           {
            "bin_end": -0.19999999999999996,
            "bin_start": -0.3,
            "count": 0
           },
           {
            "bin_end": -0.09999999999999998,
            "bin_start": -0.19999999999999996,
            "count": 0
           },
           {
            "bin_end": 0,
            "bin_start": -0.09999999999999998,
            "count": 0
           },
           {
            "bin_end": 0.10000000000000009,
            "bin_start": 0,
            "count": 5
           },
           {
            "bin_end": 0.20000000000000007,
            "bin_start": 0.10000000000000009,
            "count": 0
           },
           {
            "bin_end": 0.30000000000000004,
            "bin_start": 0.20000000000000007,
            "count": 0
           },
           {
            "bin_end": 0.4,
            "bin_start": 0.30000000000000004,
            "count": 0
           },
           {
            "bin_end": 0.5,
            "bin_start": 0.4,
            "count": 0
           }
          ],
          "max": "0",
          "min": "0",
          "nan_count": 0,
          "unique_count": 1
         }
        },
        {
         "dtype": "int64",
         "name": "VIEW_WI-FI_STATE",
         "stats": {
          "histogram": [
           {
            "bin_end": -0.4,
            "bin_start": -0.5,
            "count": 0
           },
           {
            "bin_end": -0.3,
            "bin_start": -0.4,
            "count": 0
           },
           {
            "bin_end": -0.19999999999999996,
            "bin_start": -0.3,
            "count": 0
           },
           {
            "bin_end": -0.09999999999999998,
            "bin_start": -0.19999999999999996,
            "count": 0
           },
           {
            "bin_end": 0,
            "bin_start": -0.09999999999999998,
            "count": 0
           },
           {
            "bin_end": 0.10000000000000009,
            "bin_start": 0,
            "count": 5
           },
           {
            "bin_end": 0.20000000000000007,
            "bin_start": 0.10000000000000009,
            "count": 0
           },
           {
            "bin_end": 0.30000000000000004,
            "bin_start": 0.20000000000000007,
            "count": 0
           },
           {
            "bin_end": 0.4,
            "bin_start": 0.30000000000000004,
            "count": 0
           },
           {
            "bin_end": 0.5,
            "bin_start": 0.4,
            "count": 0
           }
          ],
          "max": "0",
          "min": "0",
          "nan_count": 0,
          "unique_count": 1
         }
        },
        {
         "dtype": "int64",
         "name": "VIEW_NETWORK_STATE",
         "stats": {
          "histogram": [
           {
            "bin_end": 0.1,
            "bin_start": 0,
            "count": 2
           },
           {
            "bin_end": 0.2,
            "bin_start": 0.1,
            "count": 0
           },
           {
            "bin_end": 0.30000000000000004,
            "bin_start": 0.2,
            "count": 0
           },
           {
            "bin_end": 0.4,
            "bin_start": 0.30000000000000004,
            "count": 0
           },
           {
            "bin_end": 0.5,
            "bin_start": 0.4,
            "count": 0
           },
           {
            "bin_end": 0.6000000000000001,
            "bin_start": 0.5,
            "count": 0
           },
           {
            "bin_end": 0.7000000000000001,
            "bin_start": 0.6000000000000001,
            "count": 0
           },
           {
            "bin_end": 0.8,
            "bin_start": 0.7000000000000001,
            "count": 0
           },
           {
            "bin_end": 0.9,
            "bin_start": 0.8,
            "count": 0
           },
           {
            "bin_end": 1,
            "bin_start": 0.9,
            "count": 3
           }
          ],
          "max": "1",
          "min": "0",
          "nan_count": 0,
          "unique_count": 2
         }
        },
        {
         "dtype": "int64",
         "name": "INTERCEPT_OUTGOING_CALLS",
         "stats": {
          "histogram": [
           {
            "bin_end": -0.4,
            "bin_start": -0.5,
            "count": 0
           },
           {
            "bin_end": -0.3,
            "bin_start": -0.4,
            "count": 0
           },
           {
            "bin_end": -0.19999999999999996,
            "bin_start": -0.3,
            "count": 0
           },
           {
            "bin_end": -0.09999999999999998,
            "bin_start": -0.19999999999999996,
            "count": 0
           },
           {
            "bin_end": 0,
            "bin_start": -0.09999999999999998,
            "count": 0
           },
           {
            "bin_end": 0.10000000000000009,
            "bin_start": 0,
            "count": 5
           },
           {
            "bin_end": 0.20000000000000007,
            "bin_start": 0.10000000000000009,
            "count": 0
           },
           {
            "bin_end": 0.30000000000000004,
            "bin_start": 0.20000000000000007,
            "count": 0
           },
           {
            "bin_end": 0.4,
            "bin_start": 0.30000000000000004,
            "count": 0
           },
           {
            "bin_end": 0.5,
            "bin_start": 0.4,
            "count": 0
           }
          ],
          "max": "0",
          "min": "0",
          "nan_count": 0,
          "unique_count": 1
         }
        },
        {
         "dtype": "int64",
         "name": "MODIFY_PHONE_STATE",
         "stats": {
          "histogram": [
           {
            "bin_end": -0.4,
            "bin_start": -0.5,
            "count": 0
           },
           {
            "bin_end": -0.3,
            "bin_start": -0.4,
            "count": 0
           },
           {
            "bin_end": -0.19999999999999996,
            "bin_start": -0.3,
            "count": 0
           },
           {
            "bin_end": -0.09999999999999998,
            "bin_start": -0.19999999999999996,
            "count": 0
           },
           {
            "bin_end": 0,
            "bin_start": -0.09999999999999998,
            "count": 0
           },
           {
            "bin_end": 0.10000000000000009,
            "bin_start": 0,
            "count": 5
           },
           {
            "bin_end": 0.20000000000000007,
            "bin_start": 0.10000000000000009,
            "count": 0
           },
           {
            "bin_end": 0.30000000000000004,
            "bin_start": 0.20000000000000007,
            "count": 0
           },
           {
            "bin_end": 0.4,
            "bin_start": 0.30000000000000004,
            "count": 0
           },
           {
            "bin_end": 0.5,
            "bin_start": 0.4,
            "count": 0
           }
          ],
          "max": "0",
          "min": "0",
          "nan_count": 0,
          "unique_count": 1
         }
        },
        {
         "dtype": "int64",
         "name": "READ_PHONE_STATE_AND_IDENTITY.1",
         "stats": {
          "histogram": [
           {
            "bin_end": 0.1,
            "bin_start": 0,
            "count": 4
           },
           {
            "bin_end": 0.2,
            "bin_start": 0.1,
            "count": 0
           },
           {
            "bin_end": 0.30000000000000004,
            "bin_start": 0.2,
            "count": 0
           },
           {
            "bin_end": 0.4,
            "bin_start": 0.30000000000000004,
            "count": 0
           },
           {
            "bin_end": 0.5,
            "bin_start": 0.4,
            "count": 0
           },
           {
            "bin_end": 0.6000000000000001,
            "bin_start": 0.5,
            "count": 0
           },
           {
            "bin_end": 0.7000000000000001,
            "bin_start": 0.6000000000000001,
            "count": 0
           },
           {
            "bin_end": 0.8,
            "bin_start": 0.7000000000000001,
            "count": 0
           },
           {
            "bin_end": 0.9,
            "bin_start": 0.8,
            "count": 0
           },
           {
            "bin_end": 1,
            "bin_start": 0.9,
            "count": 1
           }
          ],
          "max": "1",
          "min": "0",
          "nan_count": 0,
          "unique_count": 2
         }
        },
        {
         "dtype": "int64",
         "name": "DIRECTLY_CALL_PHONE_NUMBERS",
         "stats": {
          "histogram": [
           {
            "bin_end": 0.1,
            "bin_start": 0,
            "count": 4
           },
           {
            "bin_end": 0.2,
            "bin_start": 0.1,
            "count": 0
           },
           {
            "bin_end": 0.30000000000000004,
            "bin_start": 0.2,
            "count": 0
           },
           {
            "bin_end": 0.4,
            "bin_start": 0.30000000000000004,
            "count": 0
           },
           {
            "bin_end": 0.5,
            "bin_start": 0.4,
            "count": 0
           },
           {
            "bin_end": 0.6000000000000001,
            "bin_start": 0.5,
            "count": 0
           },
           {
            "bin_end": 0.7000000000000001,
            "bin_start": 0.6000000000000001,
            "count": 0
           },
           {
            "bin_end": 0.8,
            "bin_start": 0.7000000000000001,
            "count": 0
           },
           {
            "bin_end": 0.9,
            "bin_start": 0.8,
            "count": 0
           },
           {
            "bin_end": 1,
            "bin_start": 0.9,
            "count": 1
           }
          ],
          "max": "1",
          "min": "0",
          "nan_count": 0,
          "unique_count": 2
         }
        },
        {
         "dtype": "int64",
         "name": "SEND_SMS_MESSAGES",
         "stats": {
          "histogram": [
           {
            "bin_end": -0.4,
            "bin_start": -0.5,
            "count": 0
           },
           {
            "bin_end": -0.3,
            "bin_start": -0.4,
            "count": 0
           },
           {
            "bin_end": -0.19999999999999996,
            "bin_start": -0.3,
            "count": 0
           },
           {
            "bin_end": -0.09999999999999998,
            "bin_start": -0.19999999999999996,
            "count": 0
           },
           {
            "bin_end": 0,
            "bin_start": -0.09999999999999998,
            "count": 0
           },
           {
            "bin_end": 0.10000000000000009,
            "bin_start": 0,
            "count": 5
           },
           {
            "bin_end": 0.20000000000000007,
            "bin_start": 0.10000000000000009,
            "count": 0
           },
           {
            "bin_end": 0.30000000000000004,
            "bin_start": 0.20000000000000007,
            "count": 0
           },
           {
            "bin_end": 0.4,
            "bin_start": 0.30000000000000004,
            "count": 0
           },
           {
            "bin_end": 0.5,
            "bin_start": 0.4,
            "count": 0
           }
          ],
          "max": "0",
          "min": "0",
          "nan_count": 0,
          "unique_count": 1
         }
        },
        {
         "dtype": "int64",
         "name": "MODIFY/DELETE_USB_STORAGE_CONTENTS_MODIFY/DELETE_SD_CARD_CONTENTS.1",
         "stats": {
          "histogram": [
           {
            "bin_end": -0.4,
            "bin_start": -0.5,
            "count": 0
           },
           {
            "bin_end": -0.3,
            "bin_start": -0.4,
            "count": 0
           },
           {
            "bin_end": -0.19999999999999996,
            "bin_start": -0.3,
            "count": 0
           },
           {
            "bin_end": -0.09999999999999998,
            "bin_start": -0.19999999999999996,
            "count": 0
           },
           {
            "bin_end": 0,
            "bin_start": -0.09999999999999998,
            "count": 0
           },
           {
            "bin_end": 0.10000000000000009,
            "bin_start": 0,
            "count": 5
           },
           {
            "bin_end": 0.20000000000000007,
            "bin_start": 0.10000000000000009,
            "count": 0
           },
           {
            "bin_end": 0.30000000000000004,
            "bin_start": 0.20000000000000007,
            "count": 0
           },
           {
            "bin_end": 0.4,
            "bin_start": 0.30000000000000004,
            "count": 0
           },
           {
            "bin_end": 0.5,
            "bin_start": 0.4,
            "count": 0
           }
          ],
          "max": "0",
          "min": "0",
          "nan_count": 0,
          "unique_count": 1
         }
        },
        {
         "dtype": "int64",
         "name": "ALLOW_WI-FI_MULTICAST_RECEPTION",
         "stats": {
          "histogram": [
           {
            "bin_end": -0.4,
            "bin_start": -0.5,
            "count": 0
           },
           {
            "bin_end": -0.3,
            "bin_start": -0.4,
            "count": 0
           },
           {
            "bin_end": -0.19999999999999996,
            "bin_start": -0.3,
            "count": 0
           },
           {
            "bin_end": -0.09999999999999998,
            "bin_start": -0.19999999999999996,
            "count": 0
           },
           {
            "bin_end": 0,
            "bin_start": -0.09999999999999998,
            "count": 0
           },
           {
            "bin_end": 0.10000000000000009,
            "bin_start": 0,
            "count": 5
           },
           {
            "bin_end": 0.20000000000000007,
            "bin_start": 0.10000000000000009,
            "count": 0
           },
           {
            "bin_end": 0.30000000000000004,
            "bin_start": 0.20000000000000007,
            "count": 0
           },
           {
            "bin_end": 0.4,
            "bin_start": 0.30000000000000004,
            "count": 0
           },
           {
            "bin_end": 0.5,
            "bin_start": 0.4,
            "count": 0
           }
          ],
          "max": "0",
          "min": "0",
          "nan_count": 0,
          "unique_count": 1
         }
        },
        {
         "dtype": "int64",
         "name": "AUTOMATICALLY_START_AT_BOOT",
         "stats": {
          "histogram": [
           {
            "bin_end": 0.1,
            "bin_start": 0,
            "count": 4
           },
           {
            "bin_end": 0.2,
            "bin_start": 0.1,
            "count": 0
           },
           {
            "bin_end": 0.30000000000000004,
            "bin_start": 0.2,
            "count": 0
           },
           {
            "bin_end": 0.4,
            "bin_start": 0.30000000000000004,
            "count": 0
           },
           {
            "bin_end": 0.5,
            "bin_start": 0.4,
            "count": 0
           },
           {
            "bin_end": 0.6000000000000001,
            "bin_start": 0.5,
            "count": 0
           },
           {
            "bin_end": 0.7000000000000001,
            "bin_start": 0.6000000000000001,
            "count": 0
           },
           {
            "bin_end": 0.8,
            "bin_start": 0.7000000000000001,
            "count": 0
           },
           {
            "bin_end": 0.9,
            "bin_start": 0.8,
            "count": 0
           },
           {
            "bin_end": 1,
            "bin_start": 0.9,
            "count": 1
           }
          ],
          "max": "1",
          "min": "0",
          "nan_count": 0,
          "unique_count": 2
         }
        },
        {
         "dtype": "int64",
         "name": "BLUETOOTH_ADMINISTRATION",
         "stats": {
          "histogram": [
           {
            "bin_end": -0.4,
            "bin_start": -0.5,
            "count": 0
           },
           {
            "bin_end": -0.3,
            "bin_start": -0.4,
            "count": 0
           },
           {
            "bin_end": -0.19999999999999996,
            "bin_start": -0.3,
            "count": 0
           },
           {
            "bin_end": -0.09999999999999998,
            "bin_start": -0.19999999999999996,
            "count": 0
           },
           {
            "bin_end": 0,
            "bin_start": -0.09999999999999998,
            "count": 0
           },
           {
            "bin_end": 0.10000000000000009,
            "bin_start": 0,
            "count": 5
           },
           {
            "bin_end": 0.20000000000000007,
            "bin_start": 0.10000000000000009,
            "count": 0
           },
           {
            "bin_end": 0.30000000000000004,
            "bin_start": 0.20000000000000007,
            "count": 0
           },
           {
            "bin_end": 0.4,
            "bin_start": 0.30000000000000004,
            "count": 0
           },
           {
            "bin_end": 0.5,
            "bin_start": 0.4,
            "count": 0
           }
          ],
          "max": "0",
          "min": "0",
          "nan_count": 0,
          "unique_count": 1
         }
        },
        {
         "dtype": "int64",
         "name": "CHANGE_WI-FI_STATE",
         "stats": {
          "histogram": [
           {
            "bin_end": -0.4,
            "bin_start": -0.5,
            "count": 0
           },
           {
            "bin_end": -0.3,
            "bin_start": -0.4,
            "count": 0
           },
           {
            "bin_end": -0.19999999999999996,
            "bin_start": -0.3,
            "count": 0
           },
           {
            "bin_end": -0.09999999999999998,
            "bin_start": -0.19999999999999996,
            "count": 0
           },
           {
            "bin_end": 0,
            "bin_start": -0.09999999999999998,
            "count": 0
           },
           {
            "bin_end": 0.10000000000000009,
            "bin_start": 0,
            "count": 5
           },
           {
            "bin_end": 0.20000000000000007,
            "bin_start": 0.10000000000000009,
            "count": 0
           },
           {
            "bin_end": 0.30000000000000004,
            "bin_start": 0.20000000000000007,
            "count": 0
           },
           {
            "bin_end": 0.4,
            "bin_start": 0.30000000000000004,
            "count": 0
           },
           {
            "bin_end": 0.5,
            "bin_start": 0.4,
            "count": 0
           }
          ],
          "max": "0",
          "min": "0",
          "nan_count": 0,
          "unique_count": 1
         }
        },
        {
         "dtype": "int64",
         "name": "CHANGE_BACKGROUND_DATA_USAGE_SETTING",
         "stats": {
          "histogram": [
           {
            "bin_end": -0.4,
            "bin_start": -0.5,
            "count": 0
           },
           {
            "bin_end": -0.3,
            "bin_start": -0.4,
            "count": 0
           },
           {
            "bin_end": -0.19999999999999996,
            "bin_start": -0.3,
            "count": 0
           },
           {
            "bin_end": -0.09999999999999998,
            "bin_start": -0.19999999999999996,
            "count": 0
           },
           {
            "bin_end": 0,
            "bin_start": -0.09999999999999998,
            "count": 0
           },
           {
            "bin_end": 0.10000000000000009,
            "bin_start": 0,
            "count": 5
           },
           {
            "bin_end": 0.20000000000000007,
            "bin_start": 0.10000000000000009,
            "count": 0
           },
           {
            "bin_end": 0.30000000000000004,
            "bin_start": 0.20000000000000007,
            "count": 0
           },
           {
            "bin_end": 0.4,
            "bin_start": 0.30000000000000004,
            "count": 0
           },
           {
            "bin_end": 0.5,
            "bin_start": 0.4,
            "count": 0
           }
          ],
          "max": "0",
          "min": "0",
          "nan_count": 0,
          "unique_count": 1
         }
        },
        {
         "dtype": "int64",
         "name": "CHANGE_NETWORK_CONNECTIVITY",
         "stats": {
          "histogram": [
           {
            "bin_end": -0.4,
            "bin_start": -0.5,
            "count": 0
           },
           {
            "bin_end": -0.3,
            "bin_start": -0.4,
            "count": 0
           },
           {
            "bin_end": -0.19999999999999996,
            "bin_start": -0.3,
            "count": 0
           },
           {
            "bin_end": -0.09999999999999998,
            "bin_start": -0.19999999999999996,
            "count": 0
           },
           {
            "bin_end": 0,
            "bin_start": -0.09999999999999998,
            "count": 0
           },
           {
            "bin_end": 0.10000000000000009,
            "bin_start": 0,
            "count": 5
           },
           {
            "bin_end": 0.20000000000000007,
            "bin_start": 0.10000000000000009,
            "count": 0
           },
           {
            "bin_end": 0.30000000000000004,
            "bin_start": 0.20000000000000007,
            "count": 0
           },
           {
            "bin_end": 0.4,
            "bin_start": 0.30000000000000004,
            "count": 0
           },
           {
            "bin_end": 0.5,
            "bin_start": 0.4,
            "count": 0
           }
          ],
          "max": "0",
          "min": "0",
          "nan_count": 0,
          "unique_count": 1
         }
        },
        {
         "dtype": "int64",
         "name": "CHANGE_YOUR_UI_SETTINGS",
         "stats": {
          "histogram": [
           {
            "bin_end": -0.4,
            "bin_start": -0.5,
            "count": 0
           },
           {
            "bin_end": -0.3,
            "bin_start": -0.4,
            "count": 0
           },
           {
            "bin_end": -0.19999999999999996,
            "bin_start": -0.3,
            "count": 0
           },
           {
            "bin_end": -0.09999999999999998,
            "bin_start": -0.19999999999999996,
            "count": 0
           },
           {
            "bin_end": 0,
            "bin_start": -0.09999999999999998,
            "count": 0
           },
           {
            "bin_end": 0.10000000000000009,
            "bin_start": 0,
            "count": 5
           },
           {
            "bin_end": 0.20000000000000007,
            "bin_start": 0.10000000000000009,
            "count": 0
           },
           {
            "bin_end": 0.30000000000000004,
            "bin_start": 0.20000000000000007,
            "count": 0
           },
           {
            "bin_end": 0.4,
            "bin_start": 0.30000000000000004,
            "count": 0
           },
           {
            "bin_end": 0.5,
            "bin_start": 0.4,
            "count": 0
           }
          ],
          "max": "0",
          "min": "0",
          "nan_count": 0,
          "unique_count": 1
         }
        },
        {
         "dtype": "int64",
         "name": "DELETE_ALL_APPLICATION_CACHE_DATA",
         "stats": {
          "histogram": [
           {
            "bin_end": -0.4,
            "bin_start": -0.5,
            "count": 0
           },
           {
            "bin_end": -0.3,
            "bin_start": -0.4,
            "count": 0
           },
           {
            "bin_end": -0.19999999999999996,
            "bin_start": -0.3,
            "count": 0
           },
           {
            "bin_end": -0.09999999999999998,
            "bin_start": -0.19999999999999996,
            "count": 0
           },
           {
            "bin_end": 0,
            "bin_start": -0.09999999999999998,
            "count": 0
           },
           {
            "bin_end": 0.10000000000000009,
            "bin_start": 0,
            "count": 5
           },
           {
            "bin_end": 0.20000000000000007,
            "bin_start": 0.10000000000000009,
            "count": 0
           },
           {
            "bin_end": 0.30000000000000004,
            "bin_start": 0.20000000000000007,
            "count": 0
           },
           {
            "bin_end": 0.4,
            "bin_start": 0.30000000000000004,
            "count": 0
           },
           {
            "bin_end": 0.5,
            "bin_start": 0.4,
            "count": 0
           }
          ],
          "max": "0",
          "min": "0",
          "nan_count": 0,
          "unique_count": 1
         }
        },
        {
         "dtype": "int64",
         "name": "DISABLE_KEYLOCK",
         "stats": {
          "histogram": [
           {
            "bin_end": -0.4,
            "bin_start": -0.5,
            "count": 0
           },
           {
            "bin_end": -0.3,
            "bin_start": -0.4,
            "count": 0
           },
           {
            "bin_end": -0.19999999999999996,
            "bin_start": -0.3,
            "count": 0
           },
           {
            "bin_end": -0.09999999999999998,
            "bin_start": -0.19999999999999996,
            "count": 0
           },
           {
            "bin_end": 0,
            "bin_start": -0.09999999999999998,
            "count": 0
           },
           {
            "bin_end": 0.10000000000000009,
            "bin_start": 0,
            "count": 5
           },
           {
            "bin_end": 0.20000000000000007,
            "bin_start": 0.10000000000000009,
            "count": 0
           },
           {
            "bin_end": 0.30000000000000004,
            "bin_start": 0.20000000000000007,
            "count": 0
           },
           {
            "bin_end": 0.4,
            "bin_start": 0.30000000000000004,
            "count": 0
           },
           {
            "bin_end": 0.5,
            "bin_start": 0.4,
            "count": 0
           }
          ],
          "max": "0",
          "min": "0",
          "nan_count": 0,
          "unique_count": 1
         }
        },
        {
         "dtype": "int64",
         "name": "DISPLAY_SYSTEM-LEVEL_ALERTS",
         "stats": {
          "histogram": [
           {
            "bin_end": -0.4,
            "bin_start": -0.5,
            "count": 0
           },
           {
            "bin_end": -0.3,
            "bin_start": -0.4,
            "count": 0
           },
           {
            "bin_end": -0.19999999999999996,
            "bin_start": -0.3,
            "count": 0
           },
           {
            "bin_end": -0.09999999999999998,
            "bin_start": -0.19999999999999996,
            "count": 0
           },
           {
            "bin_end": 0,
            "bin_start": -0.09999999999999998,
            "count": 0
           },
           {
            "bin_end": 0.10000000000000009,
            "bin_start": 0,
            "count": 5
           },
           {
            "bin_end": 0.20000000000000007,
            "bin_start": 0.10000000000000009,
            "count": 0
           },
           {
            "bin_end": 0.30000000000000004,
            "bin_start": 0.20000000000000007,
            "count": 0
           },
           {
            "bin_end": 0.4,
            "bin_start": 0.30000000000000004,
            "count": 0
           },
           {
            "bin_end": 0.5,
            "bin_start": 0.4,
            "count": 0
           }
          ],
          "max": "0",
          "min": "0",
          "nan_count": 0,
          "unique_count": 1
         }
        },
        {
         "dtype": "int64",
         "name": "EXPAND/COLLAPSE_STATUS_BAR",
         "stats": {
          "histogram": [
           {
            "bin_end": -0.4,
            "bin_start": -0.5,
            "count": 0
           },
           {
            "bin_end": -0.3,
            "bin_start": -0.4,
            "count": 0
           },
           {
            "bin_end": -0.19999999999999996,
            "bin_start": -0.3,
            "count": 0
           },
           {
            "bin_end": -0.09999999999999998,
            "bin_start": -0.19999999999999996,
            "count": 0
           },
           {
            "bin_end": 0,
            "bin_start": -0.09999999999999998,
            "count": 0
           },
           {
            "bin_end": 0.10000000000000009,
            "bin_start": 0,
            "count": 5
           },
           {
            "bin_end": 0.20000000000000007,
            "bin_start": 0.10000000000000009,
            "count": 0
           },
           {
            "bin_end": 0.30000000000000004,
            "bin_start": 0.20000000000000007,
            "count": 0
           },
           {
            "bin_end": 0.4,
            "bin_start": 0.30000000000000004,
            "count": 0
           },
           {
            "bin_end": 0.5,
            "bin_start": 0.4,
            "count": 0
           }
          ],
          "max": "0",
          "min": "0",
          "nan_count": 0,
          "unique_count": 1
         }
        },
        {
         "dtype": "int64",
         "name": "FORCE_STOP_OTHER_APPLICATIONS",
         "stats": {
          "histogram": [
           {
            "bin_end": -0.4,
            "bin_start": -0.5,
            "count": 0
           },
           {
            "bin_end": -0.3,
            "bin_start": -0.4,
            "count": 0
           },
           {
            "bin_end": -0.19999999999999996,
            "bin_start": -0.3,
            "count": 0
           },
           {
            "bin_end": -0.09999999999999998,
            "bin_start": -0.19999999999999996,
            "count": 0
           },
           {
            "bin_end": 0,
            "bin_start": -0.09999999999999998,
            "count": 0
           },
           {
            "bin_end": 0.10000000000000009,
            "bin_start": 0,
            "count": 5
           },
           {
            "bin_end": 0.20000000000000007,
            "bin_start": 0.10000000000000009,
            "count": 0
           },
           {
            "bin_end": 0.30000000000000004,
            "bin_start": 0.20000000000000007,
            "count": 0
           },
           {
            "bin_end": 0.4,
            "bin_start": 0.30000000000000004,
            "count": 0
           },
           {
            "bin_end": 0.5,
            "bin_start": 0.4,
            "count": 0
           }
          ],
          "max": "0",
          "min": "0",
          "nan_count": 0,
          "unique_count": 1
         }
        },
        {
         "dtype": "int64",
         "name": "FORMAT_EXTERNAL_STORAGE",
         "stats": {
          "histogram": [
           {
            "bin_end": -0.4,
            "bin_start": -0.5,
            "count": 0
           },
           {
            "bin_end": -0.3,
            "bin_start": -0.4,
            "count": 0
           },
           {
            "bin_end": -0.19999999999999996,
            "bin_start": -0.3,
            "count": 0
           },
           {
            "bin_end": -0.09999999999999998,
            "bin_start": -0.19999999999999996,
            "count": 0
           },
           {
            "bin_end": 0,
            "bin_start": -0.09999999999999998,
            "count": 0
           },
           {
            "bin_end": 0.10000000000000009,
            "bin_start": 0,
            "count": 5
           },
           {
            "bin_end": 0.20000000000000007,
            "bin_start": 0.10000000000000009,
            "count": 0
           },
           {
            "bin_end": 0.30000000000000004,
            "bin_start": 0.20000000000000007,
            "count": 0
           },
           {
            "bin_end": 0.4,
            "bin_start": 0.30000000000000004,
            "count": 0
           },
           {
            "bin_end": 0.5,
            "bin_start": 0.4,
            "count": 0
           }
          ],
          "max": "0",
          "min": "0",
          "nan_count": 0,
          "unique_count": 1
         }
        },
        {
         "dtype": "int64",
         "name": "KILL_BACKGROUND_PROCESSES",
         "stats": {
          "histogram": [
           {
            "bin_end": -0.4,
            "bin_start": -0.5,
            "count": 0
           },
           {
            "bin_end": -0.3,
            "bin_start": -0.4,
            "count": 0
           },
           {
            "bin_end": -0.19999999999999996,
            "bin_start": -0.3,
            "count": 0
           },
           {
            "bin_end": -0.09999999999999998,
            "bin_start": -0.19999999999999996,
            "count": 0
           },
           {
            "bin_end": 0,
            "bin_start": -0.09999999999999998,
            "count": 0
           },
           {
            "bin_end": 0.10000000000000009,
            "bin_start": 0,
            "count": 5
           },
           {
            "bin_end": 0.20000000000000007,
            "bin_start": 0.10000000000000009,
            "count": 0
           },
           {
            "bin_end": 0.30000000000000004,
            "bin_start": 0.20000000000000007,
            "count": 0
           },
           {
            "bin_end": 0.4,
            "bin_start": 0.30000000000000004,
            "count": 0
           },
           {
            "bin_end": 0.5,
            "bin_start": 0.4,
            "count": 0
           }
          ],
          "max": "0",
          "min": "0",
          "nan_count": 0,
          "unique_count": 1
         }
        },
        {
         "dtype": "int64",
         "name": "MAKE_APPLICATION_ALWAYS_RUN",
         "stats": {
          "histogram": [
           {
            "bin_end": -0.4,
            "bin_start": -0.5,
            "count": 0
           },
           {
            "bin_end": -0.3,
            "bin_start": -0.4,
            "count": 0
           },
           {
            "bin_end": -0.19999999999999996,
            "bin_start": -0.3,
            "count": 0
           },
           {
            "bin_end": -0.09999999999999998,
            "bin_start": -0.19999999999999996,
            "count": 0
           },
           {
            "bin_end": 0,
            "bin_start": -0.09999999999999998,
            "count": 0
           },
           {
            "bin_end": 0.10000000000000009,
            "bin_start": 0,
            "count": 5
           },
           {
            "bin_end": 0.20000000000000007,
            "bin_start": 0.10000000000000009,
            "count": 0
           },
           {
            "bin_end": 0.30000000000000004,
            "bin_start": 0.20000000000000007,
            "count": 0
           },
           {
            "bin_end": 0.4,
            "bin_start": 0.30000000000000004,
            "count": 0
           },
           {
            "bin_end": 0.5,
            "bin_start": 0.4,
            "count": 0
           }
          ],
          "max": "0",
          "min": "0",
          "nan_count": 0,
          "unique_count": 1
         }
        },
        {
         "dtype": "int64",
         "name": "MEASURE_APPLICATION_STORAGE_SPACE",
         "stats": {
          "histogram": [
           {
            "bin_end": -0.4,
            "bin_start": -0.5,
            "count": 0
           },
           {
            "bin_end": -0.3,
            "bin_start": -0.4,
            "count": 0
           },
           {
            "bin_end": -0.19999999999999996,
            "bin_start": -0.3,
            "count": 0
           },
           {
            "bin_end": -0.09999999999999998,
            "bin_start": -0.19999999999999996,
            "count": 0
           },
           {
            "bin_end": 0,
            "bin_start": -0.09999999999999998,
            "count": 0
           },
           {
            "bin_end": 0.10000000000000009,
            "bin_start": 0,
            "count": 5
           },
           {
            "bin_end": 0.20000000000000007,
            "bin_start": 0.10000000000000009,
            "count": 0
           },
           {
            "bin_end": 0.30000000000000004,
            "bin_start": 0.20000000000000007,
            "count": 0
           },
           {
            "bin_end": 0.4,
            "bin_start": 0.30000000000000004,
            "count": 0
           },
           {
            "bin_end": 0.5,
            "bin_start": 0.4,
            "count": 0
           }
          ],
          "max": "0",
          "min": "0",
          "nan_count": 0,
          "unique_count": 1
         }
        },
        {
         "dtype": "int64",
         "name": "MODIFY_GLOBAL_ANIMATION_SPEED",
         "stats": {
          "histogram": [
           {
            "bin_end": -0.4,
            "bin_start": -0.5,
            "count": 0
           },
           {
            "bin_end": -0.3,
            "bin_start": -0.4,
            "count": 0
           },
           {
            "bin_end": -0.19999999999999996,
            "bin_start": -0.3,
            "count": 0
           },
           {
            "bin_end": -0.09999999999999998,
            "bin_start": -0.19999999999999996,
            "count": 0
           },
           {
            "bin_end": 0,
            "bin_start": -0.09999999999999998,
            "count": 0
           },
           {
            "bin_end": 0.10000000000000009,
            "bin_start": 0,
            "count": 5
           },
           {
            "bin_end": 0.20000000000000007,
            "bin_start": 0.10000000000000009,
            "count": 0
           },
           {
            "bin_end": 0.30000000000000004,
            "bin_start": 0.20000000000000007,
            "count": 0
           },
           {
            "bin_end": 0.4,
            "bin_start": 0.30000000000000004,
            "count": 0
           },
           {
            "bin_end": 0.5,
            "bin_start": 0.4,
            "count": 0
           }
          ],
          "max": "0",
          "min": "0",
          "nan_count": 0,
          "unique_count": 1
         }
        },
        {
         "dtype": "int64",
         "name": "MODIFY_GLOBAL_SYSTEM_SETTINGS",
         "stats": {
          "histogram": [
           {
            "bin_end": -0.4,
            "bin_start": -0.5,
            "count": 0
           },
           {
            "bin_end": -0.3,
            "bin_start": -0.4,
            "count": 0
           },
           {
            "bin_end": -0.19999999999999996,
            "bin_start": -0.3,
            "count": 0
           },
           {
            "bin_end": -0.09999999999999998,
            "bin_start": -0.19999999999999996,
            "count": 0
           },
           {
            "bin_end": 0,
            "bin_start": -0.09999999999999998,
            "count": 0
           },
           {
            "bin_end": 0.10000000000000009,
            "bin_start": 0,
            "count": 5
           },
           {
            "bin_end": 0.20000000000000007,
            "bin_start": 0.10000000000000009,
            "count": 0
           },
           {
            "bin_end": 0.30000000000000004,
            "bin_start": 0.20000000000000007,
            "count": 0
           },
           {
            "bin_end": 0.4,
            "bin_start": 0.30000000000000004,
            "count": 0
           },
           {
            "bin_end": 0.5,
            "bin_start": 0.4,
            "count": 0
           }
          ],
          "max": "0",
          "min": "0",
          "nan_count": 0,
          "unique_count": 1
         }
        },
        {
         "dtype": "int64",
         "name": "MOUNT_AND_UNMOUNT_FILESYSTEMS",
         "stats": {
          "histogram": [
           {
            "bin_end": -0.4,
            "bin_start": -0.5,
            "count": 0
           },
           {
            "bin_end": -0.3,
            "bin_start": -0.4,
            "count": 0
           },
           {
            "bin_end": -0.19999999999999996,
            "bin_start": -0.3,
            "count": 0
           },
           {
            "bin_end": -0.09999999999999998,
            "bin_start": -0.19999999999999996,
            "count": 0
           },
           {
            "bin_end": 0,
            "bin_start": -0.09999999999999998,
            "count": 0
           },
           {
            "bin_end": 0.10000000000000009,
            "bin_start": 0,
            "count": 5
           },
           {
            "bin_end": 0.20000000000000007,
            "bin_start": 0.10000000000000009,
            "count": 0
           },
           {
            "bin_end": 0.30000000000000004,
            "bin_start": 0.20000000000000007,
            "count": 0
           },
           {
            "bin_end": 0.4,
            "bin_start": 0.30000000000000004,
            "count": 0
           },
           {
            "bin_end": 0.5,
            "bin_start": 0.4,
            "count": 0
           }
          ],
          "max": "0",
          "min": "0",
          "nan_count": 0,
          "unique_count": 1
         }
        },
        {
         "dtype": "int64",
         "name": "PREVENT_DEVICE_FROM_SLEEPING",
         "stats": {
          "histogram": [
           {
            "bin_end": 0.1,
            "bin_start": 0,
            "count": 3
           },
           {
            "bin_end": 0.2,
            "bin_start": 0.1,
            "count": 0
           },
           {
            "bin_end": 0.30000000000000004,
            "bin_start": 0.2,
            "count": 0
           },
           {
            "bin_end": 0.4,
            "bin_start": 0.30000000000000004,
            "count": 0
           },
           {
            "bin_end": 0.5,
            "bin_start": 0.4,
            "count": 0
           },
           {
            "bin_end": 0.6000000000000001,
            "bin_start": 0.5,
            "count": 0
           },
           {
            "bin_end": 0.7000000000000001,
            "bin_start": 0.6000000000000001,
            "count": 0
           },
           {
            "bin_end": 0.8,
            "bin_start": 0.7000000000000001,
            "count": 0
           },
           {
            "bin_end": 0.9,
            "bin_start": 0.8,
            "count": 0
           },
           {
            "bin_end": 1,
            "bin_start": 0.9,
            "count": 2
           }
          ],
          "max": "1",
          "min": "0",
          "nan_count": 0,
          "unique_count": 2
         }
        },
        {
         "dtype": "int64",
         "name": "READ_SUBSCRIBED_FEEDS",
         "stats": {
          "histogram": [
           {
            "bin_end": -0.4,
            "bin_start": -0.5,
            "count": 0
           },
           {
            "bin_end": -0.3,
            "bin_start": -0.4,
            "count": 0
           },
           {
            "bin_end": -0.19999999999999996,
            "bin_start": -0.3,
            "count": 0
           },
           {
            "bin_end": -0.09999999999999998,
            "bin_start": -0.19999999999999996,
            "count": 0
           },
           {
            "bin_end": 0,
            "bin_start": -0.09999999999999998,
            "count": 0
           },
           {
            "bin_end": 0.10000000000000009,
            "bin_start": 0,
            "count": 5
           },
           {
            "bin_end": 0.20000000000000007,
            "bin_start": 0.10000000000000009,
            "count": 0
           },
           {
            "bin_end": 0.30000000000000004,
            "bin_start": 0.20000000000000007,
            "count": 0
           },
           {
            "bin_end": 0.4,
            "bin_start": 0.30000000000000004,
            "count": 0
           },
           {
            "bin_end": 0.5,
            "bin_start": 0.4,
            "count": 0
           }
          ],
          "max": "0",
          "min": "0",
          "nan_count": 0,
          "unique_count": 1
         }
        },
        {
         "dtype": "int64",
         "name": "READ_SYNC_SETTINGS",
         "stats": {
          "histogram": [
           {
            "bin_end": -0.4,
            "bin_start": -0.5,
            "count": 0
           },
           {
            "bin_end": -0.3,
            "bin_start": -0.4,
            "count": 0
           },
           {
            "bin_end": -0.19999999999999996,
            "bin_start": -0.3,
            "count": 0
           },
           {
            "bin_end": -0.09999999999999998,
            "bin_start": -0.19999999999999996,
            "count": 0
           },
           {
            "bin_end": 0,
            "bin_start": -0.09999999999999998,
            "count": 0
           },
           {
            "bin_end": 0.10000000000000009,
            "bin_start": 0,
            "count": 5
           },
           {
            "bin_end": 0.20000000000000007,
            "bin_start": 0.10000000000000009,
            "count": 0
           },
           {
            "bin_end": 0.30000000000000004,
            "bin_start": 0.20000000000000007,
            "count": 0
           },
           {
            "bin_end": 0.4,
            "bin_start": 0.30000000000000004,
            "count": 0
           },
           {
            "bin_end": 0.5,
            "bin_start": 0.4,
            "count": 0
           }
          ],
          "max": "0",
          "min": "0",
          "nan_count": 0,
          "unique_count": 1
         }
        },
        {
         "dtype": "int64",
         "name": "READ_SYNC_STATISTICS",
         "stats": {
          "histogram": [
           {
            "bin_end": -0.4,
            "bin_start": -0.5,
            "count": 0
           },
           {
            "bin_end": -0.3,
            "bin_start": -0.4,
            "count": 0
           },
           {
            "bin_end": -0.19999999999999996,
            "bin_start": -0.3,
            "count": 0
           },
           {
            "bin_end": -0.09999999999999998,
            "bin_start": -0.19999999999999996,
            "count": 0
           },
           {
            "bin_end": 0,
            "bin_start": -0.09999999999999998,
            "count": 0
           },
           {
            "bin_end": 0.10000000000000009,
            "bin_start": 0,
            "count": 5
           },
           {
            "bin_end": 0.20000000000000007,
            "bin_start": 0.10000000000000009,
            "count": 0
           },
           {
            "bin_end": 0.30000000000000004,
            "bin_start": 0.20000000000000007,
            "count": 0
           },
           {
            "bin_end": 0.4,
            "bin_start": 0.30000000000000004,
            "count": 0
           },
           {
            "bin_end": 0.5,
            "bin_start": 0.4,
            "count": 0
           }
          ],
          "max": "0",
          "min": "0",
          "nan_count": 0,
          "unique_count": 1
         }
        },
        {
         "dtype": "int64",
         "name": "READ/WRITE_TO_RESOURCES_OWNED_BY_DIAG",
         "stats": {
          "histogram": [
           {
            "bin_end": -0.4,
            "bin_start": -0.5,
            "count": 0
           },
           {
            "bin_end": -0.3,
            "bin_start": -0.4,
            "count": 0
           },
           {
            "bin_end": -0.19999999999999996,
            "bin_start": -0.3,
            "count": 0
           },
           {
            "bin_end": -0.09999999999999998,
            "bin_start": -0.19999999999999996,
            "count": 0
           },
           {
            "bin_end": 0,
            "bin_start": -0.09999999999999998,
            "count": 0
           },
           {
            "bin_end": 0.10000000000000009,
            "bin_start": 0,
            "count": 5
           },
           {
            "bin_end": 0.20000000000000007,
            "bin_start": 0.10000000000000009,
            "count": 0
           },
           {
            "bin_end": 0.30000000000000004,
            "bin_start": 0.20000000000000007,
            "count": 0
           },
           {
            "bin_end": 0.4,
            "bin_start": 0.30000000000000004,
            "count": 0
           },
           {
            "bin_end": 0.5,
            "bin_start": 0.4,
            "count": 0
           }
          ],
          "max": "0",
          "min": "0",
          "nan_count": 0,
          "unique_count": 1
         }
        },
        {
         "dtype": "int64",
         "name": "REORDER_RUNNING_APPLICATIONS",
         "stats": {
          "histogram": [
           {
            "bin_end": -0.4,
            "bin_start": -0.5,
            "count": 0
           },
           {
            "bin_end": -0.3,
            "bin_start": -0.4,
            "count": 0
           },
           {
            "bin_end": -0.19999999999999996,
            "bin_start": -0.3,
            "count": 0
           },
           {
            "bin_end": -0.09999999999999998,
            "bin_start": -0.19999999999999996,
            "count": 0
           },
           {
            "bin_end": 0,
            "bin_start": -0.09999999999999998,
            "count": 0
           },
           {
            "bin_end": 0.10000000000000009,
            "bin_start": 0,
            "count": 5
           },
           {
            "bin_end": 0.20000000000000007,
            "bin_start": 0.10000000000000009,
            "count": 0
           },
           {
            "bin_end": 0.30000000000000004,
            "bin_start": 0.20000000000000007,
            "count": 0
           },
           {
            "bin_end": 0.4,
            "bin_start": 0.30000000000000004,
            "count": 0
           },
           {
            "bin_end": 0.5,
            "bin_start": 0.4,
            "count": 0
           }
          ],
          "max": "0",
          "min": "0",
          "nan_count": 0,
          "unique_count": 1
         }
        },
        {
         "dtype": "int64",
         "name": "RETRIEVE_RUNNING_APPLICATIONS",
         "stats": {
          "histogram": [
           {
            "bin_end": -0.4,
            "bin_start": -0.5,
            "count": 0
           },
           {
            "bin_end": -0.3,
            "bin_start": -0.4,
            "count": 0
           },
           {
            "bin_end": -0.19999999999999996,
            "bin_start": -0.3,
            "count": 0
           },
           {
            "bin_end": -0.09999999999999998,
            "bin_start": -0.19999999999999996,
            "count": 0
           },
           {
            "bin_end": 0,
            "bin_start": -0.09999999999999998,
            "count": 0
           },
           {
            "bin_end": 0.10000000000000009,
            "bin_start": 0,
            "count": 5
           },
           {
            "bin_end": 0.20000000000000007,
            "bin_start": 0.10000000000000009,
            "count": 0
           },
           {
            "bin_end": 0.30000000000000004,
            "bin_start": 0.20000000000000007,
            "count": 0
           },
           {
            "bin_end": 0.4,
            "bin_start": 0.30000000000000004,
            "count": 0
           },
           {
            "bin_end": 0.5,
            "bin_start": 0.4,
            "count": 0
           }
          ],
          "max": "0",
          "min": "0",
          "nan_count": 0,
          "unique_count": 1
         }
        },
        {
         "dtype": "int64",
         "name": "SEND_PACKAGE_REMOVED_BROADCAST",
         "stats": {
          "histogram": [
           {
            "bin_end": -0.4,
            "bin_start": -0.5,
            "count": 0
           },
           {
            "bin_end": -0.3,
            "bin_start": -0.4,
            "count": 0
           },
           {
            "bin_end": -0.19999999999999996,
            "bin_start": -0.3,
            "count": 0
           },
           {
            "bin_end": -0.09999999999999998,
            "bin_start": -0.19999999999999996,
            "count": 0
           },
           {
            "bin_end": 0,
            "bin_start": -0.09999999999999998,
            "count": 0
           },
           {
            "bin_end": 0.10000000000000009,
            "bin_start": 0,
            "count": 5
           },
           {
            "bin_end": 0.20000000000000007,
            "bin_start": 0.10000000000000009,
            "count": 0
           },
           {
            "bin_end": 0.30000000000000004,
            "bin_start": 0.20000000000000007,
            "count": 0
           },
           {
            "bin_end": 0.4,
            "bin_start": 0.30000000000000004,
            "count": 0
           },
           {
            "bin_end": 0.5,
            "bin_start": 0.4,
            "count": 0
           }
          ],
          "max": "0",
          "min": "0",
          "nan_count": 0,
          "unique_count": 1
         }
        },
        {
         "dtype": "int64",
         "name": "SEND_STICKY_BROADCAST",
         "stats": {
          "histogram": [
           {
            "bin_end": -0.4,
            "bin_start": -0.5,
            "count": 0
           },
           {
            "bin_end": -0.3,
            "bin_start": -0.4,
            "count": 0
           },
           {
            "bin_end": -0.19999999999999996,
            "bin_start": -0.3,
            "count": 0
           },
           {
            "bin_end": -0.09999999999999998,
            "bin_start": -0.19999999999999996,
            "count": 0
           },
           {
            "bin_end": 0,
            "bin_start": -0.09999999999999998,
            "count": 0
           },
           {
            "bin_end": 0.10000000000000009,
            "bin_start": 0,
            "count": 5
           },
           {
            "bin_end": 0.20000000000000007,
            "bin_start": 0.10000000000000009,
            "count": 0
           },
           {
            "bin_end": 0.30000000000000004,
            "bin_start": 0.20000000000000007,
            "count": 0
           },
           {
            "bin_end": 0.4,
            "bin_start": 0.30000000000000004,
            "count": 0
           },
           {
            "bin_end": 0.5,
            "bin_start": 0.4,
            "count": 0
           }
          ],
          "max": "0",
          "min": "0",
          "nan_count": 0,
          "unique_count": 1
         }
        },
        {
         "dtype": "int64",
         "name": "SET_PREFERRED_APPLICATIONS",
         "stats": {
          "histogram": [
           {
            "bin_end": -0.4,
            "bin_start": -0.5,
            "count": 0
           },
           {
            "bin_end": -0.3,
            "bin_start": -0.4,
            "count": 0
           },
           {
            "bin_end": -0.19999999999999996,
            "bin_start": -0.3,
            "count": 0
           },
           {
            "bin_end": -0.09999999999999998,
            "bin_start": -0.19999999999999996,
            "count": 0
           },
           {
            "bin_end": 0,
            "bin_start": -0.09999999999999998,
            "count": 0
           },
           {
            "bin_end": 0.10000000000000009,
            "bin_start": 0,
            "count": 5
           },
           {
            "bin_end": 0.20000000000000007,
            "bin_start": 0.10000000000000009,
            "count": 0
           },
           {
            "bin_end": 0.30000000000000004,
            "bin_start": 0.20000000000000007,
            "count": 0
           },
           {
            "bin_end": 0.4,
            "bin_start": 0.30000000000000004,
            "count": 0
           },
           {
            "bin_end": 0.5,
            "bin_start": 0.4,
            "count": 0
           }
          ],
          "max": "0",
          "min": "0",
          "nan_count": 0,
          "unique_count": 1
         }
        },
        {
         "dtype": "int64",
         "name": "SET_TIME_ZONE",
         "stats": {
          "histogram": [
           {
            "bin_end": -0.4,
            "bin_start": -0.5,
            "count": 0
           },
           {
            "bin_end": -0.3,
            "bin_start": -0.4,
            "count": 0
           },
           {
            "bin_end": -0.19999999999999996,
            "bin_start": -0.3,
            "count": 0
           },
           {
            "bin_end": -0.09999999999999998,
            "bin_start": -0.19999999999999996,
            "count": 0
           },
           {
            "bin_end": 0,
            "bin_start": -0.09999999999999998,
            "count": 0
           },
           {
            "bin_end": 0.10000000000000009,
            "bin_start": 0,
            "count": 5
           },
           {
            "bin_end": 0.20000000000000007,
            "bin_start": 0.10000000000000009,
            "count": 0
           },
           {
            "bin_end": 0.30000000000000004,
            "bin_start": 0.20000000000000007,
            "count": 0
           },
           {
            "bin_end": 0.4,
            "bin_start": 0.30000000000000004,
            "count": 0
           },
           {
            "bin_end": 0.5,
            "bin_start": 0.4,
            "count": 0
           }
          ],
          "max": "0",
          "min": "0",
          "nan_count": 0,
          "unique_count": 1
         }
        },
        {
         "dtype": "int64",
         "name": "SET_WALLPAPER",
         "stats": {
          "histogram": [
           {
            "bin_end": -0.4,
            "bin_start": -0.5,
            "count": 0
           },
           {
            "bin_end": -0.3,
            "bin_start": -0.4,
            "count": 0
           },
           {
            "bin_end": -0.19999999999999996,
            "bin_start": -0.3,
            "count": 0
           },
           {
            "bin_end": -0.09999999999999998,
            "bin_start": -0.19999999999999996,
            "count": 0
           },
           {
            "bin_end": 0,
            "bin_start": -0.09999999999999998,
            "count": 0
           },
           {
            "bin_end": 0.10000000000000009,
            "bin_start": 0,
            "count": 5
           },
           {
            "bin_end": 0.20000000000000007,
            "bin_start": 0.10000000000000009,
            "count": 0
           },
           {
            "bin_end": 0.30000000000000004,
            "bin_start": 0.20000000000000007,
            "count": 0
           },
           {
            "bin_end": 0.4,
            "bin_start": 0.30000000000000004,
            "count": 0
           },
           {
            "bin_end": 0.5,
            "bin_start": 0.4,
            "count": 0
           }
          ],
          "max": "0",
          "min": "0",
          "nan_count": 0,
          "unique_count": 1
         }
        },
        {
         "dtype": "int64",
         "name": "SET_WALLPAPER_SIZE_HINTS.1",
         "stats": {
          "histogram": [
           {
            "bin_end": -0.4,
            "bin_start": -0.5,
            "count": 0
           },
           {
            "bin_end": -0.3,
            "bin_start": -0.4,
            "count": 0
           },
           {
            "bin_end": -0.19999999999999996,
            "bin_start": -0.3,
            "count": 0
           },
           {
            "bin_end": -0.09999999999999998,
            "bin_start": -0.19999999999999996,
            "count": 0
           },
           {
            "bin_end": 0,
            "bin_start": -0.09999999999999998,
            "count": 0
           },
           {
            "bin_end": 0.10000000000000009,
            "bin_start": 0,
            "count": 5
           },
           {
            "bin_end": 0.20000000000000007,
            "bin_start": 0.10000000000000009,
            "count": 0
           },
           {
            "bin_end": 0.30000000000000004,
            "bin_start": 0.20000000000000007,
            "count": 0
           },
           {
            "bin_end": 0.4,
            "bin_start": 0.30000000000000004,
            "count": 0
           },
           {
            "bin_end": 0.5,
            "bin_start": 0.4,
            "count": 0
           }
          ],
          "max": "0",
          "min": "0",
          "nan_count": 0,
          "unique_count": 1
         }
        },
        {
         "dtype": "int64",
         "name": "WRITE_ACCESS_POINT_NAME_SETTINGS",
         "stats": {
          "histogram": [
           {
            "bin_end": -0.4,
            "bin_start": -0.5,
            "count": 0
           },
           {
            "bin_end": -0.3,
            "bin_start": -0.4,
            "count": 0
           },
           {
            "bin_end": -0.19999999999999996,
            "bin_start": -0.3,
            "count": 0
           },
           {
            "bin_end": -0.09999999999999998,
            "bin_start": -0.19999999999999996,
            "count": 0
           },
           {
            "bin_end": 0,
            "bin_start": -0.09999999999999998,
            "count": 0
           },
           {
            "bin_end": 0.10000000000000009,
            "bin_start": 0,
            "count": 5
           },
           {
            "bin_end": 0.20000000000000007,
            "bin_start": 0.10000000000000009,
            "count": 0
           },
           {
            "bin_end": 0.30000000000000004,
            "bin_start": 0.20000000000000007,
            "count": 0
           },
           {
            "bin_end": 0.4,
            "bin_start": 0.30000000000000004,
            "count": 0
           },
           {
            "bin_end": 0.5,
            "bin_start": 0.4,
            "count": 0
           }
          ],
          "max": "0",
          "min": "0",
          "nan_count": 0,
          "unique_count": 1
         }
        },
        {
         "dtype": "int64",
         "name": "WRITE_SUBSCRIBED_FEEDS",
         "stats": {
          "histogram": [
           {
            "bin_end": -0.4,
            "bin_start": -0.5,
            "count": 0
           },
           {
            "bin_end": -0.3,
            "bin_start": -0.4,
            "count": 0
           },
           {
            "bin_end": -0.19999999999999996,
            "bin_start": -0.3,
            "count": 0
           },
           {
            "bin_end": -0.09999999999999998,
            "bin_start": -0.19999999999999996,
            "count": 0
           },
           {
            "bin_end": 0,
            "bin_start": -0.09999999999999998,
            "count": 0
           },
           {
            "bin_end": 0.10000000000000009,
            "bin_start": 0,
            "count": 5
           },
           {
            "bin_end": 0.20000000000000007,
            "bin_start": 0.10000000000000009,
            "count": 0
           },
           {
            "bin_end": 0.30000000000000004,
            "bin_start": 0.20000000000000007,
            "count": 0
           },
           {
            "bin_end": 0.4,
            "bin_start": 0.30000000000000004,
            "count": 0
           },
           {
            "bin_end": 0.5,
            "bin_start": 0.4,
            "count": 0
           }
          ],
          "max": "0",
          "min": "0",
          "nan_count": 0,
          "unique_count": 1
         }
        },
        {
         "dtype": "int64",
         "name": "WRITE_SYNC_SETTINGS",
         "stats": {
          "histogram": [
           {
            "bin_end": -0.4,
            "bin_start": -0.5,
            "count": 0
           },
           {
            "bin_end": -0.3,
            "bin_start": -0.4,
            "count": 0
           },
           {
            "bin_end": -0.19999999999999996,
            "bin_start": -0.3,
            "count": 0
           },
           {
            "bin_end": -0.09999999999999998,
            "bin_start": -0.19999999999999996,
            "count": 0
           },
           {
            "bin_end": 0,
            "bin_start": -0.09999999999999998,
            "count": 0
           },
           {
            "bin_end": 0.10000000000000009,
            "bin_start": 0,
            "count": 5
           },
           {
            "bin_end": 0.20000000000000007,
            "bin_start": 0.10000000000000009,
            "count": 0
           },
           {
            "bin_end": 0.30000000000000004,
            "bin_start": 0.20000000000000007,
            "count": 0
           },
           {
            "bin_end": 0.4,
            "bin_start": 0.30000000000000004,
            "count": 0
           },
           {
            "bin_end": 0.5,
            "bin_start": 0.4,
            "count": 0
           }
          ],
          "max": "0",
          "min": "0",
          "nan_count": 0,
          "unique_count": 1
         }
        },
        {
         "dtype": "int64",
         "name": "BLOGGER",
         "stats": {
          "histogram": [
           {
            "bin_end": -0.4,
            "bin_start": -0.5,
            "count": 0
           },
           {
            "bin_end": -0.3,
            "bin_start": -0.4,
            "count": 0
           },
           {
            "bin_end": -0.19999999999999996,
            "bin_start": -0.3,
            "count": 0
           },
           {
            "bin_end": -0.09999999999999998,
            "bin_start": -0.19999999999999996,
            "count": 0
           },
           {
            "bin_end": 0,
            "bin_start": -0.09999999999999998,
            "count": 0
           },
           {
            "bin_end": 0.10000000000000009,
            "bin_start": 0,
            "count": 5
           },
           {
            "bin_end": 0.20000000000000007,
            "bin_start": 0.10000000000000009,
            "count": 0
           },
           {
            "bin_end": 0.30000000000000004,
            "bin_start": 0.20000000000000007,
            "count": 0
           },
           {
            "bin_end": 0.4,
            "bin_start": 0.30000000000000004,
            "count": 0
           },
           {
            "bin_end": 0.5,
            "bin_start": 0.4,
            "count": 0
           }
          ],
          "max": "0",
          "min": "0",
          "nan_count": 0,
          "unique_count": 1
         }
        },
        {
         "dtype": "int64",
         "name": "GOOGLE_APP_ENGINE",
         "stats": {
          "histogram": [
           {
            "bin_end": -0.4,
            "bin_start": -0.5,
            "count": 0
           },
           {
            "bin_end": -0.3,
            "bin_start": -0.4,
            "count": 0
           },
           {
            "bin_end": -0.19999999999999996,
            "bin_start": -0.3,
            "count": 0
           },
           {
            "bin_end": -0.09999999999999998,
            "bin_start": -0.19999999999999996,
            "count": 0
           },
           {
            "bin_end": 0,
            "bin_start": -0.09999999999999998,
            "count": 0
           },
           {
            "bin_end": 0.10000000000000009,
            "bin_start": 0,
            "count": 5
           },
           {
            "bin_end": 0.20000000000000007,
            "bin_start": 0.10000000000000009,
            "count": 0
           },
           {
            "bin_end": 0.30000000000000004,
            "bin_start": 0.20000000000000007,
            "count": 0
           },
           {
            "bin_end": 0.4,
            "bin_start": 0.30000000000000004,
            "count": 0
           },
           {
            "bin_end": 0.5,
            "bin_start": 0.4,
            "count": 0
           }
          ],
          "max": "0",
          "min": "0",
          "nan_count": 0,
          "unique_count": 1
         }
        },
        {
         "dtype": "int64",
         "name": "GOOGLE_DOCS",
         "stats": {
          "histogram": [
           {
            "bin_end": -0.4,
            "bin_start": -0.5,
            "count": 0
           },
           {
            "bin_end": -0.3,
            "bin_start": -0.4,
            "count": 0
           },
           {
            "bin_end": -0.19999999999999996,
            "bin_start": -0.3,
            "count": 0
           },
           {
            "bin_end": -0.09999999999999998,
            "bin_start": -0.19999999999999996,
            "count": 0
           },
           {
            "bin_end": 0,
            "bin_start": -0.09999999999999998,
            "count": 0
           },
           {
            "bin_end": 0.10000000000000009,
            "bin_start": 0,
            "count": 5
           },
           {
            "bin_end": 0.20000000000000007,
            "bin_start": 0.10000000000000009,
            "count": 0
           },
           {
            "bin_end": 0.30000000000000004,
            "bin_start": 0.20000000000000007,
            "count": 0
           },
           {
            "bin_end": 0.4,
            "bin_start": 0.30000000000000004,
            "count": 0
           },
           {
            "bin_end": 0.5,
            "bin_start": 0.4,
            "count": 0
           }
          ],
          "max": "0",
          "min": "0",
          "nan_count": 0,
          "unique_count": 1
         }
        },
        {
         "dtype": "int64",
         "name": "GOOGLE_FINANCE",
         "stats": {
          "histogram": [
           {
            "bin_end": -0.4,
            "bin_start": -0.5,
            "count": 0
           },
           {
            "bin_end": -0.3,
            "bin_start": -0.4,
            "count": 0
           },
           {
            "bin_end": -0.19999999999999996,
            "bin_start": -0.3,
            "count": 0
           },
           {
            "bin_end": -0.09999999999999998,
            "bin_start": -0.19999999999999996,
            "count": 0
           },
           {
            "bin_end": 0,
            "bin_start": -0.09999999999999998,
            "count": 0
           },
           {
            "bin_end": 0.10000000000000009,
            "bin_start": 0,
            "count": 5
           },
           {
            "bin_end": 0.20000000000000007,
            "bin_start": 0.10000000000000009,
            "count": 0
           },
           {
            "bin_end": 0.30000000000000004,
            "bin_start": 0.20000000000000007,
            "count": 0
           },
           {
            "bin_end": 0.4,
            "bin_start": 0.30000000000000004,
            "count": 0
           },
           {
            "bin_end": 0.5,
            "bin_start": 0.4,
            "count": 0
           }
          ],
          "max": "0",
          "min": "0",
          "nan_count": 0,
          "unique_count": 1
         }
        },
        {
         "dtype": "int64",
         "name": "GOOGLE_MAPS",
         "stats": {
          "histogram": [
           {
            "bin_end": -0.4,
            "bin_start": -0.5,
            "count": 0
           },
           {
            "bin_end": -0.3,
            "bin_start": -0.4,
            "count": 0
           },
           {
            "bin_end": -0.19999999999999996,
            "bin_start": -0.3,
            "count": 0
           },
           {
            "bin_end": -0.09999999999999998,
            "bin_start": -0.19999999999999996,
            "count": 0
           },
           {
            "bin_end": 0,
            "bin_start": -0.09999999999999998,
            "count": 0
           },
           {
            "bin_end": 0.10000000000000009,
            "bin_start": 0,
            "count": 5
           },
           {
            "bin_end": 0.20000000000000007,
            "bin_start": 0.10000000000000009,
            "count": 0
           },
           {
            "bin_end": 0.30000000000000004,
            "bin_start": 0.20000000000000007,
            "count": 0
           },
           {
            "bin_end": 0.4,
            "bin_start": 0.30000000000000004,
            "count": 0
           },
           {
            "bin_end": 0.5,
            "bin_start": 0.4,
            "count": 0
           }
          ],
          "max": "0",
          "min": "0",
          "nan_count": 0,
          "unique_count": 1
         }
        },
        {
         "dtype": "int64",
         "name": "GOOGLE_SPREADSHEETS",
         "stats": {
          "histogram": [
           {
            "bin_end": -0.4,
            "bin_start": -0.5,
            "count": 0
           },
           {
            "bin_end": -0.3,
            "bin_start": -0.4,
            "count": 0
           },
           {
            "bin_end": -0.19999999999999996,
            "bin_start": -0.3,
            "count": 0
           },
           {
            "bin_end": -0.09999999999999998,
            "bin_start": -0.19999999999999996,
            "count": 0
           },
           {
            "bin_end": 0,
            "bin_start": -0.09999999999999998,
            "count": 0
           },
           {
            "bin_end": 0.10000000000000009,
            "bin_start": 0,
            "count": 5
           },
           {
            "bin_end": 0.20000000000000007,
            "bin_start": 0.10000000000000009,
            "count": 0
           },
           {
            "bin_end": 0.30000000000000004,
            "bin_start": 0.20000000000000007,
            "count": 0
           },
           {
            "bin_end": 0.4,
            "bin_start": 0.30000000000000004,
            "count": 0
           },
           {
            "bin_end": 0.5,
            "bin_start": 0.4,
            "count": 0
           }
          ],
          "max": "0",
          "min": "0",
          "nan_count": 0,
          "unique_count": 1
         }
        },
        {
         "dtype": "int64",
         "name": "GOOGLE_VOICE",
         "stats": {
          "histogram": [
           {
            "bin_end": -0.4,
            "bin_start": -0.5,
            "count": 0
           },
           {
            "bin_end": -0.3,
            "bin_start": -0.4,
            "count": 0
           },
           {
            "bin_end": -0.19999999999999996,
            "bin_start": -0.3,
            "count": 0
           },
           {
            "bin_end": -0.09999999999999998,
            "bin_start": -0.19999999999999996,
            "count": 0
           },
           {
            "bin_end": 0,
            "bin_start": -0.09999999999999998,
            "count": 0
           },
           {
            "bin_end": 0.10000000000000009,
            "bin_start": 0,
            "count": 5
           },
           {
            "bin_end": 0.20000000000000007,
            "bin_start": 0.10000000000000009,
            "count": 0
           },
           {
            "bin_end": 0.30000000000000004,
            "bin_start": 0.20000000000000007,
            "count": 0
           },
           {
            "bin_end": 0.4,
            "bin_start": 0.30000000000000004,
            "count": 0
           },
           {
            "bin_end": 0.5,
            "bin_start": 0.4,
            "count": 0
           }
          ],
          "max": "0",
          "min": "0",
          "nan_count": 0,
          "unique_count": 1
         }
        },
        {
         "dtype": "int64",
         "name": "GOOGLE_MAIL",
         "stats": {
          "histogram": [
           {
            "bin_end": -0.4,
            "bin_start": -0.5,
            "count": 0
           },
           {
            "bin_end": -0.3,
            "bin_start": -0.4,
            "count": 0
           },
           {
            "bin_end": -0.19999999999999996,
            "bin_start": -0.3,
            "count": 0
           },
           {
            "bin_end": -0.09999999999999998,
            "bin_start": -0.19999999999999996,
            "count": 0
           },
           {
            "bin_end": 0,
            "bin_start": -0.09999999999999998,
            "count": 0
           },
           {
            "bin_end": 0.10000000000000009,
            "bin_start": 0,
            "count": 5
           },
           {
            "bin_end": 0.20000000000000007,
            "bin_start": 0.10000000000000009,
            "count": 0
           },
           {
            "bin_end": 0.30000000000000004,
            "bin_start": 0.20000000000000007,
            "count": 0
           },
           {
            "bin_end": 0.4,
            "bin_start": 0.30000000000000004,
            "count": 0
           },
           {
            "bin_end": 0.5,
            "bin_start": 0.4,
            "count": 0
           }
          ],
          "max": "0",
          "min": "0",
          "nan_count": 0,
          "unique_count": 1
         }
        },
        {
         "dtype": "int64",
         "name": "PICASA_WEB_ALBUMS",
         "stats": {
          "histogram": [
           {
            "bin_end": -0.4,
            "bin_start": -0.5,
            "count": 0
           },
           {
            "bin_end": -0.3,
            "bin_start": -0.4,
            "count": 0
           },
           {
            "bin_end": -0.19999999999999996,
            "bin_start": -0.3,
            "count": 0
           },
           {
            "bin_end": -0.09999999999999998,
            "bin_start": -0.19999999999999996,
            "count": 0
           },
           {
            "bin_end": 0,
            "bin_start": -0.09999999999999998,
            "count": 0
           },
           {
            "bin_end": 0.10000000000000009,
            "bin_start": 0,
            "count": 5
           },
           {
            "bin_end": 0.20000000000000007,
            "bin_start": 0.10000000000000009,
            "count": 0
           },
           {
            "bin_end": 0.30000000000000004,
            "bin_start": 0.20000000000000007,
            "count": 0
           },
           {
            "bin_end": 0.4,
            "bin_start": 0.30000000000000004,
            "count": 0
           },
           {
            "bin_end": 0.5,
            "bin_start": 0.4,
            "count": 0
           }
          ],
          "max": "0",
          "min": "0",
          "nan_count": 0,
          "unique_count": 1
         }
        },
        {
         "dtype": "int64",
         "name": "YOUTUBE",
         "stats": {
          "histogram": [
           {
            "bin_end": -0.4,
            "bin_start": -0.5,
            "count": 0
           },
           {
            "bin_end": -0.3,
            "bin_start": -0.4,
            "count": 0
           },
           {
            "bin_end": -0.19999999999999996,
            "bin_start": -0.3,
            "count": 0
           },
           {
            "bin_end": -0.09999999999999998,
            "bin_start": -0.19999999999999996,
            "count": 0
           },
           {
            "bin_end": 0,
            "bin_start": -0.09999999999999998,
            "count": 0
           },
           {
            "bin_end": 0.10000000000000009,
            "bin_start": 0,
            "count": 5
           },
           {
            "bin_end": 0.20000000000000007,
            "bin_start": 0.10000000000000009,
            "count": 0
           },
           {
            "bin_end": 0.30000000000000004,
            "bin_start": 0.20000000000000007,
            "count": 0
           },
           {
            "bin_end": 0.4,
            "bin_start": 0.30000000000000004,
            "count": 0
           },
           {
            "bin_end": 0.5,
            "bin_start": 0.4,
            "count": 0
           }
          ],
          "max": "0",
          "min": "0",
          "nan_count": 0,
          "unique_count": 1
         }
        },
        {
         "dtype": "int64",
         "name": "YOUTUBE_USERNAMES",
         "stats": {
          "histogram": [
           {
            "bin_end": -0.4,
            "bin_start": -0.5,
            "count": 0
           },
           {
            "bin_end": -0.3,
            "bin_start": -0.4,
            "count": 0
           },
           {
            "bin_end": -0.19999999999999996,
            "bin_start": -0.3,
            "count": 0
           },
           {
            "bin_end": -0.09999999999999998,
            "bin_start": -0.19999999999999996,
            "count": 0
           },
           {
            "bin_end": 0,
            "bin_start": -0.09999999999999998,
            "count": 0
           },
           {
            "bin_end": 0.10000000000000009,
            "bin_start": 0,
            "count": 5
           },
           {
            "bin_end": 0.20000000000000007,
            "bin_start": 0.10000000000000009,
            "count": 0
           },
           {
            "bin_end": 0.30000000000000004,
            "bin_start": 0.20000000000000007,
            "count": 0
           },
           {
            "bin_end": 0.4,
            "bin_start": 0.30000000000000004,
            "count": 0
           },
           {
            "bin_end": 0.5,
            "bin_start": 0.4,
            "count": 0
           }
          ],
          "max": "0",
          "min": "0",
          "nan_count": 0,
          "unique_count": 1
         }
        },
        {
         "dtype": "int64",
         "name": "ACCESS_ALL_GOOGLE_SERVICES",
         "stats": {
          "histogram": [
           {
            "bin_end": -0.4,
            "bin_start": -0.5,
            "count": 0
           },
           {
            "bin_end": -0.3,
            "bin_start": -0.4,
            "count": 0
           },
           {
            "bin_end": -0.19999999999999996,
            "bin_start": -0.3,
            "count": 0
           },
           {
            "bin_end": -0.09999999999999998,
            "bin_start": -0.19999999999999996,
            "count": 0
           },
           {
            "bin_end": 0,
            "bin_start": -0.09999999999999998,
            "count": 0
           },
           {
            "bin_end": 0.10000000000000009,
            "bin_start": 0,
            "count": 5
           },
           {
            "bin_end": 0.20000000000000007,
            "bin_start": 0.10000000000000009,
            "count": 0
           },
           {
            "bin_end": 0.30000000000000004,
            "bin_start": 0.20000000000000007,
            "count": 0
           },
           {
            "bin_end": 0.4,
            "bin_start": 0.30000000000000004,
            "count": 0
           },
           {
            "bin_end": 0.5,
            "bin_start": 0.4,
            "count": 0
           }
          ],
          "max": "0",
          "min": "0",
          "nan_count": 0,
          "unique_count": 1
         }
        },
        {
         "dtype": "int64",
         "name": "ACCESS_OTHER_GOOGLE_SERVICES",
         "stats": {
          "histogram": [
           {
            "bin_end": -0.4,
            "bin_start": -0.5,
            "count": 0
           },
           {
            "bin_end": -0.3,
            "bin_start": -0.4,
            "count": 0
           },
           {
            "bin_end": -0.19999999999999996,
            "bin_start": -0.3,
            "count": 0
           },
           {
            "bin_end": -0.09999999999999998,
            "bin_start": -0.19999999999999996,
            "count": 0
           },
           {
            "bin_end": 0,
            "bin_start": -0.09999999999999998,
            "count": 0
           },
           {
            "bin_end": 0.10000000000000009,
            "bin_start": 0,
            "count": 5
           },
           {
            "bin_end": 0.20000000000000007,
            "bin_start": 0.10000000000000009,
            "count": 0
           },
           {
            "bin_end": 0.30000000000000004,
            "bin_start": 0.20000000000000007,
            "count": 0
           },
           {
            "bin_end": 0.4,
            "bin_start": 0.30000000000000004,
            "count": 0
           },
           {
            "bin_end": 0.5,
            "bin_start": 0.4,
            "count": 0
           }
          ],
          "max": "0",
          "min": "0",
          "nan_count": 0,
          "unique_count": 1
         }
        },
        {
         "dtype": "int64",
         "name": "ACT_AS_AN_ACCOUNT_AUTHENTICATOR.1",
         "stats": {
          "histogram": [
           {
            "bin_end": -0.4,
            "bin_start": -0.5,
            "count": 0
           },
           {
            "bin_end": -0.3,
            "bin_start": -0.4,
            "count": 0
           },
           {
            "bin_end": -0.19999999999999996,
            "bin_start": -0.3,
            "count": 0
           },
           {
            "bin_end": -0.09999999999999998,
            "bin_start": -0.19999999999999996,
            "count": 0
           },
           {
            "bin_end": 0,
            "bin_start": -0.09999999999999998,
            "count": 0
           },
           {
            "bin_end": 0.10000000000000009,
            "bin_start": 0,
            "count": 5
           },
           {
            "bin_end": 0.20000000000000007,
            "bin_start": 0.10000000000000009,
            "count": 0
           },
           {
            "bin_end": 0.30000000000000004,
            "bin_start": 0.20000000000000007,
            "count": 0
           },
           {
            "bin_end": 0.4,
            "bin_start": 0.30000000000000004,
            "count": 0
           },
           {
            "bin_end": 0.5,
            "bin_start": 0.4,
            "count": 0
           }
          ],
          "max": "0",
          "min": "0",
          "nan_count": 0,
          "unique_count": 1
         }
        },
        {
         "dtype": "int64",
         "name": "ACT_AS_THE_ACCOUNTMANAGERSERVICE",
         "stats": {
          "histogram": [
           {
            "bin_end": -0.4,
            "bin_start": -0.5,
            "count": 0
           },
           {
            "bin_end": -0.3,
            "bin_start": -0.4,
            "count": 0
           },
           {
            "bin_end": -0.19999999999999996,
            "bin_start": -0.3,
            "count": 0
           },
           {
            "bin_end": -0.09999999999999998,
            "bin_start": -0.19999999999999996,
            "count": 0
           },
           {
            "bin_end": 0,
            "bin_start": -0.09999999999999998,
            "count": 0
           },
           {
            "bin_end": 0.10000000000000009,
            "bin_start": 0,
            "count": 5
           },
           {
            "bin_end": 0.20000000000000007,
            "bin_start": 0.10000000000000009,
            "count": 0
           },
           {
            "bin_end": 0.30000000000000004,
            "bin_start": 0.20000000000000007,
            "count": 0
           },
           {
            "bin_end": 0.4,
            "bin_start": 0.30000000000000004,
            "count": 0
           },
           {
            "bin_end": 0.5,
            "bin_start": 0.4,
            "count": 0
           }
          ],
          "max": "0",
          "min": "0",
          "nan_count": 0,
          "unique_count": 1
         }
        },
        {
         "dtype": "int64",
         "name": "CONTACTS_DATA_IN_GOOGLE_ACCOUNTS",
         "stats": {
          "histogram": [
           {
            "bin_end": -0.4,
            "bin_start": -0.5,
            "count": 0
           },
           {
            "bin_end": -0.3,
            "bin_start": -0.4,
            "count": 0
           },
           {
            "bin_end": -0.19999999999999996,
            "bin_start": -0.3,
            "count": 0
           },
           {
            "bin_end": -0.09999999999999998,
            "bin_start": -0.19999999999999996,
            "count": 0
           },
           {
            "bin_end": 0,
            "bin_start": -0.09999999999999998,
            "count": 0
           },
           {
            "bin_end": 0.10000000000000009,
            "bin_start": 0,
            "count": 5
           },
           {
            "bin_end": 0.20000000000000007,
            "bin_start": 0.10000000000000009,
            "count": 0
           },
           {
            "bin_end": 0.30000000000000004,
            "bin_start": 0.20000000000000007,
            "count": 0
           },
           {
            "bin_end": 0.4,
            "bin_start": 0.30000000000000004,
            "count": 0
           },
           {
            "bin_end": 0.5,
            "bin_start": 0.4,
            "count": 0
           }
          ],
          "max": "0",
          "min": "0",
          "nan_count": 0,
          "unique_count": 1
         }
        },
        {
         "dtype": "int64",
         "name": "DISCOVER_KNOWN_ACCOUNTS.1",
         "stats": {
          "histogram": [
           {
            "bin_end": -0.4,
            "bin_start": -0.5,
            "count": 0
           },
           {
            "bin_end": -0.3,
            "bin_start": -0.4,
            "count": 0
           },
           {
            "bin_end": -0.19999999999999996,
            "bin_start": -0.3,
            "count": 0
           },
           {
            "bin_end": -0.09999999999999998,
            "bin_start": -0.19999999999999996,
            "count": 0
           },
           {
            "bin_end": 0,
            "bin_start": -0.09999999999999998,
            "count": 0
           },
           {
            "bin_end": 0.10000000000000009,
            "bin_start": 0,
            "count": 5
           },
           {
            "bin_end": 0.20000000000000007,
            "bin_start": 0.10000000000000009,
            "count": 0
           },
           {
            "bin_end": 0.30000000000000004,
            "bin_start": 0.20000000000000007,
            "count": 0
           },
           {
            "bin_end": 0.4,
            "bin_start": 0.30000000000000004,
            "count": 0
           },
           {
            "bin_end": 0.5,
            "bin_start": 0.4,
            "count": 0
           }
          ],
          "max": "0",
          "min": "0",
          "nan_count": 0,
          "unique_count": 1
         }
        },
        {
         "dtype": "int64",
         "name": "MANAGE_THE_ACCOUNTS_LIST",
         "stats": {
          "histogram": [
           {
            "bin_end": -0.4,
            "bin_start": -0.5,
            "count": 0
           },
           {
            "bin_end": -0.3,
            "bin_start": -0.4,
            "count": 0
           },
           {
            "bin_end": -0.19999999999999996,
            "bin_start": -0.3,
            "count": 0
           },
           {
            "bin_end": -0.09999999999999998,
            "bin_start": -0.19999999999999996,
            "count": 0
           },
           {
            "bin_end": 0,
            "bin_start": -0.09999999999999998,
            "count": 0
           },
           {
            "bin_end": 0.10000000000000009,
            "bin_start": 0,
            "count": 5
           },
           {
            "bin_end": 0.20000000000000007,
            "bin_start": 0.10000000000000009,
            "count": 0
           },
           {
            "bin_end": 0.30000000000000004,
            "bin_start": 0.20000000000000007,
            "count": 0
           },
           {
            "bin_end": 0.4,
            "bin_start": 0.30000000000000004,
            "count": 0
           },
           {
            "bin_end": 0.5,
            "bin_start": 0.4,
            "count": 0
           }
          ],
          "max": "0",
          "min": "0",
          "nan_count": 0,
          "unique_count": 1
         }
        },
        {
         "dtype": "int64",
         "name": "READ_GOOGLE_SERVICE_CONFIGURATION",
         "stats": {
          "histogram": [
           {
            "bin_end": -0.4,
            "bin_start": -0.5,
            "count": 0
           },
           {
            "bin_end": -0.3,
            "bin_start": -0.4,
            "count": 0
           },
           {
            "bin_end": -0.19999999999999996,
            "bin_start": -0.3,
            "count": 0
           },
           {
            "bin_end": -0.09999999999999998,
            "bin_start": -0.19999999999999996,
            "count": 0
           },
           {
            "bin_end": 0,
            "bin_start": -0.09999999999999998,
            "count": 0
           },
           {
            "bin_end": 0.10000000000000009,
            "bin_start": 0,
            "count": 5
           },
           {
            "bin_end": 0.20000000000000007,
            "bin_start": 0.10000000000000009,
            "count": 0
           },
           {
            "bin_end": 0.30000000000000004,
            "bin_start": 0.20000000000000007,
            "count": 0
           },
           {
            "bin_end": 0.4,
            "bin_start": 0.30000000000000004,
            "count": 0
           },
           {
            "bin_end": 0.5,
            "bin_start": 0.4,
            "count": 0
           }
          ],
          "max": "0",
          "min": "0",
          "nan_count": 0,
          "unique_count": 1
         }
        },
        {
         "dtype": "int64",
         "name": "USE_THE_AUTHENTICATION_CREDENTIALS_OF_AN_ACCOUNT",
         "stats": {
          "histogram": [
           {
            "bin_end": -0.4,
            "bin_start": -0.5,
            "count": 0
           },
           {
            "bin_end": -0.3,
            "bin_start": -0.4,
            "count": 0
           },
           {
            "bin_end": -0.19999999999999996,
            "bin_start": -0.3,
            "count": 0
           },
           {
            "bin_end": -0.09999999999999998,
            "bin_start": -0.19999999999999996,
            "count": 0
           },
           {
            "bin_end": 0,
            "bin_start": -0.09999999999999998,
            "count": 0
           },
           {
            "bin_end": 0.10000000000000009,
            "bin_start": 0,
            "count": 5
           },
           {
            "bin_end": 0.20000000000000007,
            "bin_start": 0.10000000000000009,
            "count": 0
           },
           {
            "bin_end": 0.30000000000000004,
            "bin_start": 0.20000000000000007,
            "count": 0
           },
           {
            "bin_end": 0.4,
            "bin_start": 0.30000000000000004,
            "count": 0
           },
           {
            "bin_end": 0.5,
            "bin_start": 0.4,
            "count": 0
           }
          ],
          "max": "0",
          "min": "0",
          "nan_count": 0,
          "unique_count": 1
         }
        },
        {
         "dtype": "int64",
         "name": "VIEW_CONFIGURED_ACCOUNTS",
         "stats": {
          "histogram": [
           {
            "bin_end": -0.4,
            "bin_start": -0.5,
            "count": 0
           },
           {
            "bin_end": -0.3,
            "bin_start": -0.4,
            "count": 0
           },
           {
            "bin_end": -0.19999999999999996,
            "bin_start": -0.3,
            "count": 0
           },
           {
            "bin_end": -0.09999999999999998,
            "bin_start": -0.19999999999999996,
            "count": 0
           },
           {
            "bin_end": 0,
            "bin_start": -0.09999999999999998,
            "count": 0
           },
           {
            "bin_end": 0.10000000000000009,
            "bin_start": 0,
            "count": 5
           },
           {
            "bin_end": 0.20000000000000007,
            "bin_start": 0.10000000000000009,
            "count": 0
           },
           {
            "bin_end": 0.30000000000000004,
            "bin_start": 0.20000000000000007,
            "count": 0
           },
           {
            "bin_end": 0.4,
            "bin_start": 0.30000000000000004,
            "count": 0
           },
           {
            "bin_end": 0.5,
            "bin_start": 0.4,
            "count": 0
           }
          ],
          "max": "0",
          "min": "0",
          "nan_count": 0,
          "unique_count": 1
         }
        },
        {
         "dtype": "int64",
         "name": "ACCESS_EXTRA_LOCATION_PROVIDER_COMMANDS",
         "stats": {
          "histogram": [
           {
            "bin_end": -0.4,
            "bin_start": -0.5,
            "count": 0
           },
           {
            "bin_end": -0.3,
            "bin_start": -0.4,
            "count": 0
           },
           {
            "bin_end": -0.19999999999999996,
            "bin_start": -0.3,
            "count": 0
           },
           {
            "bin_end": -0.09999999999999998,
            "bin_start": -0.19999999999999996,
            "count": 0
           },
           {
            "bin_end": 0,
            "bin_start": -0.09999999999999998,
            "count": 0
           },
           {
            "bin_end": 0.10000000000000009,
            "bin_start": 0,
            "count": 5
           },
           {
            "bin_end": 0.20000000000000007,
            "bin_start": 0.10000000000000009,
            "count": 0
           },
           {
            "bin_end": 0.30000000000000004,
            "bin_start": 0.20000000000000007,
            "count": 0
           },
           {
            "bin_end": 0.4,
            "bin_start": 0.30000000000000004,
            "count": 0
           },
           {
            "bin_end": 0.5,
            "bin_start": 0.4,
            "count": 0
           }
          ],
          "max": "0",
          "min": "0",
          "nan_count": 0,
          "unique_count": 1
         }
        },
        {
         "dtype": "int64",
         "name": "COARSE.1",
         "stats": {
          "histogram": [
           {
            "bin_end": 0.1,
            "bin_start": 0,
            "count": 2
           },
           {
            "bin_end": 0.2,
            "bin_start": 0.1,
            "count": 0
           },
           {
            "bin_end": 0.30000000000000004,
            "bin_start": 0.2,
            "count": 0
           },
           {
            "bin_end": 0.4,
            "bin_start": 0.30000000000000004,
            "count": 0
           },
           {
            "bin_end": 0.5,
            "bin_start": 0.4,
            "count": 0
           },
           {
            "bin_end": 0.6000000000000001,
            "bin_start": 0.5,
            "count": 0
           },
           {
            "bin_end": 0.7000000000000001,
            "bin_start": 0.6000000000000001,
            "count": 0
           },
           {
            "bin_end": 0.8,
            "bin_start": 0.7000000000000001,
            "count": 0
           },
           {
            "bin_end": 0.9,
            "bin_start": 0.8,
            "count": 0
           },
           {
            "bin_end": 1,
            "bin_start": 0.9,
            "count": 3
           }
          ],
          "max": "1",
          "min": "0",
          "nan_count": 0,
          "unique_count": 2
         }
        },
        {
         "dtype": "int64",
         "name": "FINE",
         "stats": {
          "histogram": [
           {
            "bin_end": 0.1,
            "bin_start": 0,
            "count": 4
           },
           {
            "bin_end": 0.2,
            "bin_start": 0.1,
            "count": 0
           },
           {
            "bin_end": 0.30000000000000004,
            "bin_start": 0.2,
            "count": 0
           },
           {
            "bin_end": 0.4,
            "bin_start": 0.30000000000000004,
            "count": 0
           },
           {
            "bin_end": 0.5,
            "bin_start": 0.4,
            "count": 0
           },
           {
            "bin_end": 0.6000000000000001,
            "bin_start": 0.5,
            "count": 0
           },
           {
            "bin_end": 0.7000000000000001,
            "bin_start": 0.6000000000000001,
            "count": 0
           },
           {
            "bin_end": 0.8,
            "bin_start": 0.7000000000000001,
            "count": 0
           },
           {
            "bin_end": 0.9,
            "bin_start": 0.8,
            "count": 0
           },
           {
            "bin_end": 1,
            "bin_start": 0.9,
            "count": 1
           }
          ],
          "max": "1",
          "min": "0",
          "nan_count": 0,
          "unique_count": 2
         }
        },
        {
         "dtype": "int64",
         "name": "MOCK_LOCATION_SOURCES_FOR_TESTING.1",
         "stats": {
          "histogram": [
           {
            "bin_end": -0.4,
            "bin_start": -0.5,
            "count": 0
           },
           {
            "bin_end": -0.3,
            "bin_start": -0.4,
            "count": 0
           },
           {
            "bin_end": -0.19999999999999996,
            "bin_start": -0.3,
            "count": 0
           },
           {
            "bin_end": -0.09999999999999998,
            "bin_start": -0.19999999999999996,
            "count": 0
           },
           {
            "bin_end": 0,
            "bin_start": -0.09999999999999998,
            "count": 0
           },
           {
            "bin_end": 0.10000000000000009,
            "bin_start": 0,
            "count": 5
           },
           {
            "bin_end": 0.20000000000000007,
            "bin_start": 0.10000000000000009,
            "count": 0
           },
           {
            "bin_end": 0.30000000000000004,
            "bin_start": 0.20000000000000007,
            "count": 0
           },
           {
            "bin_end": 0.4,
            "bin_start": 0.30000000000000004,
            "count": 0
           },
           {
            "bin_end": 0.5,
            "bin_start": 0.4,
            "count": 0
           }
          ],
          "max": "0",
          "min": "0",
          "nan_count": 0,
          "unique_count": 1
         }
        },
        {
         "dtype": "int64",
         "name": "READ_EMAIL_ATTACHMENTS",
         "stats": {
          "histogram": [
           {
            "bin_end": -0.4,
            "bin_start": -0.5,
            "count": 0
           },
           {
            "bin_end": -0.3,
            "bin_start": -0.4,
            "count": 0
           },
           {
            "bin_end": -0.19999999999999996,
            "bin_start": -0.3,
            "count": 0
           },
           {
            "bin_end": -0.09999999999999998,
            "bin_start": -0.19999999999999996,
            "count": 0
           },
           {
            "bin_end": 0,
            "bin_start": -0.09999999999999998,
            "count": 0
           },
           {
            "bin_end": 0.10000000000000009,
            "bin_start": 0,
            "count": 5
           },
           {
            "bin_end": 0.20000000000000007,
            "bin_start": 0.10000000000000009,
            "count": 0
           },
           {
            "bin_end": 0.30000000000000004,
            "bin_start": 0.20000000000000007,
            "count": 0
           },
           {
            "bin_end": 0.4,
            "bin_start": 0.30000000000000004,
            "count": 0
           },
           {
            "bin_end": 0.5,
            "bin_start": 0.4,
            "count": 0
           }
          ],
          "max": "0",
          "min": "0",
          "nan_count": 0,
          "unique_count": 1
         }
        },
        {
         "dtype": "int64",
         "name": "SEND_GMAIL",
         "stats": {
          "histogram": [
           {
            "bin_end": -0.4,
            "bin_start": -0.5,
            "count": 0
           },
           {
            "bin_end": -0.3,
            "bin_start": -0.4,
            "count": 0
           },
           {
            "bin_end": -0.19999999999999996,
            "bin_start": -0.3,
            "count": 0
           },
           {
            "bin_end": -0.09999999999999998,
            "bin_start": -0.19999999999999996,
            "count": 0
           },
           {
            "bin_end": 0,
            "bin_start": -0.09999999999999998,
            "count": 0
           },
           {
            "bin_end": 0.10000000000000009,
            "bin_start": 0,
            "count": 5
           },
           {
            "bin_end": 0.20000000000000007,
            "bin_start": 0.10000000000000009,
            "count": 0
           },
           {
            "bin_end": 0.30000000000000004,
            "bin_start": 0.20000000000000007,
            "count": 0
           },
           {
            "bin_end": 0.4,
            "bin_start": 0.30000000000000004,
            "count": 0
           },
           {
            "bin_end": 0.5,
            "bin_start": 0.4,
            "count": 0
           }
          ],
          "max": "0",
          "min": "0",
          "nan_count": 0,
          "unique_count": 1
         }
        },
        {
         "dtype": "int64",
         "name": "EDIT_SMS_OR_MMS",
         "stats": {
          "histogram": [
           {
            "bin_end": -0.4,
            "bin_start": -0.5,
            "count": 0
           },
           {
            "bin_end": -0.3,
            "bin_start": -0.4,
            "count": 0
           },
           {
            "bin_end": -0.19999999999999996,
            "bin_start": -0.3,
            "count": 0
           },
           {
            "bin_end": -0.09999999999999998,
            "bin_start": -0.19999999999999996,
            "count": 0
           },
           {
            "bin_end": 0,
            "bin_start": -0.09999999999999998,
            "count": 0
           },
           {
            "bin_end": 0.10000000000000009,
            "bin_start": 0,
            "count": 5
           },
           {
            "bin_end": 0.20000000000000007,
            "bin_start": 0.10000000000000009,
            "count": 0
           },
           {
            "bin_end": 0.30000000000000004,
            "bin_start": 0.20000000000000007,
            "count": 0
           },
           {
            "bin_end": 0.4,
            "bin_start": 0.30000000000000004,
            "count": 0
           },
           {
            "bin_end": 0.5,
            "bin_start": 0.4,
            "count": 0
           }
          ],
          "max": "0",
          "min": "0",
          "nan_count": 0,
          "unique_count": 1
         }
        },
        {
         "dtype": "int64",
         "name": "MODIFY_GMAIL",
         "stats": {
          "histogram": [
           {
            "bin_end": -0.4,
            "bin_start": -0.5,
            "count": 0
           },
           {
            "bin_end": -0.3,
            "bin_start": -0.4,
            "count": 0
           },
           {
            "bin_end": -0.19999999999999996,
            "bin_start": -0.3,
            "count": 0
           },
           {
            "bin_end": -0.09999999999999998,
            "bin_start": -0.19999999999999996,
            "count": 0
           },
           {
            "bin_end": 0,
            "bin_start": -0.09999999999999998,
            "count": 0
           },
           {
            "bin_end": 0.10000000000000009,
            "bin_start": 0,
            "count": 5
           },
           {
            "bin_end": 0.20000000000000007,
            "bin_start": 0.10000000000000009,
            "count": 0
           },
           {
            "bin_end": 0.30000000000000004,
            "bin_start": 0.20000000000000007,
            "count": 0
           },
           {
            "bin_end": 0.4,
            "bin_start": 0.30000000000000004,
            "count": 0
           },
           {
            "bin_end": 0.5,
            "bin_start": 0.4,
            "count": 0
           }
          ],
          "max": "0",
          "min": "0",
          "nan_count": 0,
          "unique_count": 1
         }
        },
        {
         "dtype": "int64",
         "name": "READ_GMAIL",
         "stats": {
          "histogram": [
           {
            "bin_end": -0.4,
            "bin_start": -0.5,
            "count": 0
           },
           {
            "bin_end": -0.3,
            "bin_start": -0.4,
            "count": 0
           },
           {
            "bin_end": -0.19999999999999996,
            "bin_start": -0.3,
            "count": 0
           },
           {
            "bin_end": -0.09999999999999998,
            "bin_start": -0.19999999999999996,
            "count": 0
           },
           {
            "bin_end": 0,
            "bin_start": -0.09999999999999998,
            "count": 0
           },
           {
            "bin_end": 0.10000000000000009,
            "bin_start": 0,
            "count": 5
           },
           {
            "bin_end": 0.20000000000000007,
            "bin_start": 0.10000000000000009,
            "count": 0
           },
           {
            "bin_end": 0.30000000000000004,
            "bin_start": 0.20000000000000007,
            "count": 0
           },
           {
            "bin_end": 0.4,
            "bin_start": 0.30000000000000004,
            "count": 0
           },
           {
            "bin_end": 0.5,
            "bin_start": 0.4,
            "count": 0
           }
          ],
          "max": "0",
          "min": "0",
          "nan_count": 0,
          "unique_count": 1
         }
        },
        {
         "dtype": "int64",
         "name": "READ_GMAIL_ATTACHMENT_PREVIEWS",
         "stats": {
          "histogram": [
           {
            "bin_end": -0.4,
            "bin_start": -0.5,
            "count": 0
           },
           {
            "bin_end": -0.3,
            "bin_start": -0.4,
            "count": 0
           },
           {
            "bin_end": -0.19999999999999996,
            "bin_start": -0.3,
            "count": 0
           },
           {
            "bin_end": -0.09999999999999998,
            "bin_start": -0.19999999999999996,
            "count": 0
           },
           {
            "bin_end": 0,
            "bin_start": -0.09999999999999998,
            "count": 0
           },
           {
            "bin_end": 0.10000000000000009,
            "bin_start": 0,
            "count": 5
           },
           {
            "bin_end": 0.20000000000000007,
            "bin_start": 0.10000000000000009,
            "count": 0
           },
           {
            "bin_end": 0.30000000000000004,
            "bin_start": 0.20000000000000007,
            "count": 0
           },
           {
            "bin_end": 0.4,
            "bin_start": 0.30000000000000004,
            "count": 0
           },
           {
            "bin_end": 0.5,
            "bin_start": 0.4,
            "count": 0
           }
          ],
          "max": "0",
          "min": "0",
          "nan_count": 0,
          "unique_count": 1
         }
        },
        {
         "dtype": "int64",
         "name": "READ_SMS_OR_MMS",
         "stats": {
          "histogram": [
           {
            "bin_end": -0.4,
            "bin_start": -0.5,
            "count": 0
           },
           {
            "bin_end": -0.3,
            "bin_start": -0.4,
            "count": 0
           },
           {
            "bin_end": -0.19999999999999996,
            "bin_start": -0.3,
            "count": 0
           },
           {
            "bin_end": -0.09999999999999998,
            "bin_start": -0.19999999999999996,
            "count": 0
           },
           {
            "bin_end": 0,
            "bin_start": -0.09999999999999998,
            "count": 0
           },
           {
            "bin_end": 0.10000000000000009,
            "bin_start": 0,
            "count": 5
           },
           {
            "bin_end": 0.20000000000000007,
            "bin_start": 0.10000000000000009,
            "count": 0
           },
           {
            "bin_end": 0.30000000000000004,
            "bin_start": 0.20000000000000007,
            "count": 0
           },
           {
            "bin_end": 0.4,
            "bin_start": 0.30000000000000004,
            "count": 0
           },
           {
            "bin_end": 0.5,
            "bin_start": 0.4,
            "count": 0
           }
          ],
          "max": "0",
          "min": "0",
          "nan_count": 0,
          "unique_count": 1
         }
        },
        {
         "dtype": "int64",
         "name": "READ_INSTANT_MESSAGES.1",
         "stats": {
          "histogram": [
           {
            "bin_end": -0.4,
            "bin_start": -0.5,
            "count": 0
           },
           {
            "bin_end": -0.3,
            "bin_start": -0.4,
            "count": 0
           },
           {
            "bin_end": -0.19999999999999996,
            "bin_start": -0.3,
            "count": 0
           },
           {
            "bin_end": -0.09999999999999998,
            "bin_start": -0.19999999999999996,
            "count": 0
           },
           {
            "bin_end": 0,
            "bin_start": -0.09999999999999998,
            "count": 0
           },
           {
            "bin_end": 0.10000000000000009,
            "bin_start": 0,
            "count": 5
           },
           {
            "bin_end": 0.20000000000000007,
            "bin_start": 0.10000000000000009,
            "count": 0
           },
           {
            "bin_end": 0.30000000000000004,
            "bin_start": 0.20000000000000007,
            "count": 0
           },
           {
            "bin_end": 0.4,
            "bin_start": 0.30000000000000004,
            "count": 0
           },
           {
            "bin_end": 0.5,
            "bin_start": 0.4,
            "count": 0
           }
          ],
          "max": "0",
          "min": "0",
          "nan_count": 0,
          "unique_count": 1
         }
        },
        {
         "dtype": "int64",
         "name": "RECEIVE_MMS",
         "stats": {
          "histogram": [
           {
            "bin_end": -0.4,
            "bin_start": -0.5,
            "count": 0
           },
           {
            "bin_end": -0.3,
            "bin_start": -0.4,
            "count": 0
           },
           {
            "bin_end": -0.19999999999999996,
            "bin_start": -0.3,
            "count": 0
           },
           {
            "bin_end": -0.09999999999999998,
            "bin_start": -0.19999999999999996,
            "count": 0
           },
           {
            "bin_end": 0,
            "bin_start": -0.09999999999999998,
            "count": 0
           },
           {
            "bin_end": 0.10000000000000009,
            "bin_start": 0,
            "count": 5
           },
           {
            "bin_end": 0.20000000000000007,
            "bin_start": 0.10000000000000009,
            "count": 0
           },
           {
            "bin_end": 0.30000000000000004,
            "bin_start": 0.20000000000000007,
            "count": 0
           },
           {
            "bin_end": 0.4,
            "bin_start": 0.30000000000000004,
            "count": 0
           },
           {
            "bin_end": 0.5,
            "bin_start": 0.4,
            "count": 0
           }
          ],
          "max": "0",
          "min": "0",
          "nan_count": 0,
          "unique_count": 1
         }
        },
        {
         "dtype": "int64",
         "name": "RECEIVE_SMS",
         "stats": {
          "histogram": [
           {
            "bin_end": -0.4,
            "bin_start": -0.5,
            "count": 0
           },
           {
            "bin_end": -0.3,
            "bin_start": -0.4,
            "count": 0
           },
           {
            "bin_end": -0.19999999999999996,
            "bin_start": -0.3,
            "count": 0
           },
           {
            "bin_end": -0.09999999999999998,
            "bin_start": -0.19999999999999996,
            "count": 0
           },
           {
            "bin_end": 0,
            "bin_start": -0.09999999999999998,
            "count": 0
           },
           {
            "bin_end": 0.10000000000000009,
            "bin_start": 0,
            "count": 5
           },
           {
            "bin_end": 0.20000000000000007,
            "bin_start": 0.10000000000000009,
            "count": 0
           },
           {
            "bin_end": 0.30000000000000004,
            "bin_start": 0.20000000000000007,
            "count": 0
           },
           {
            "bin_end": 0.4,
            "bin_start": 0.30000000000000004,
            "count": 0
           },
           {
            "bin_end": 0.5,
            "bin_start": 0.4,
            "count": 0
           }
          ],
          "max": "0",
          "min": "0",
          "nan_count": 0,
          "unique_count": 1
         }
        },
        {
         "dtype": "int64",
         "name": "RECEIVE_WAP",
         "stats": {
          "histogram": [
           {
            "bin_end": -0.4,
            "bin_start": -0.5,
            "count": 0
           },
           {
            "bin_end": -0.3,
            "bin_start": -0.4,
            "count": 0
           },
           {
            "bin_end": -0.19999999999999996,
            "bin_start": -0.3,
            "count": 0
           },
           {
            "bin_end": -0.09999999999999998,
            "bin_start": -0.19999999999999996,
            "count": 0
           },
           {
            "bin_end": 0,
            "bin_start": -0.09999999999999998,
            "count": 0
           },
           {
            "bin_end": 0.10000000000000009,
            "bin_start": 0,
            "count": 5
           },
           {
            "bin_end": 0.20000000000000007,
            "bin_start": 0.10000000000000009,
            "count": 0
           },
           {
            "bin_end": 0.30000000000000004,
            "bin_start": 0.20000000000000007,
            "count": 0
           },
           {
            "bin_end": 0.4,
            "bin_start": 0.30000000000000004,
            "count": 0
           },
           {
            "bin_end": 0.5,
            "bin_start": 0.4,
            "count": 0
           }
          ],
          "max": "0",
          "min": "0",
          "nan_count": 0,
          "unique_count": 1
         }
        },
        {
         "dtype": "int64",
         "name": "SEND_SMS-RECEIVED_BROADCAST",
         "stats": {
          "histogram": [
           {
            "bin_end": -0.4,
            "bin_start": -0.5,
            "count": 0
           },
           {
            "bin_end": -0.3,
            "bin_start": -0.4,
            "count": 0
           },
           {
            "bin_end": -0.19999999999999996,
            "bin_start": -0.3,
            "count": 0
           },
           {
            "bin_end": -0.09999999999999998,
            "bin_start": -0.19999999999999996,
            "count": 0
           },
           {
            "bin_end": 0,
            "bin_start": -0.09999999999999998,
            "count": 0
           },
           {
            "bin_end": 0.10000000000000009,
            "bin_start": 0,
            "count": 5
           },
           {
            "bin_end": 0.20000000000000007,
            "bin_start": 0.10000000000000009,
            "count": 0
           },
           {
            "bin_end": 0.30000000000000004,
            "bin_start": 0.20000000000000007,
            "count": 0
           },
           {
            "bin_end": 0.4,
            "bin_start": 0.30000000000000004,
            "count": 0
           },
           {
            "bin_end": 0.5,
            "bin_start": 0.4,
            "count": 0
           }
          ],
          "max": "0",
          "min": "0",
          "nan_count": 0,
          "unique_count": 1
         }
        },
        {
         "dtype": "int64",
         "name": "SEND_WAP-PUSH-RECEIVED_BROADCAST",
         "stats": {
          "histogram": [
           {
            "bin_end": -0.4,
            "bin_start": -0.5,
            "count": 0
           },
           {
            "bin_end": -0.3,
            "bin_start": -0.4,
            "count": 0
           },
           {
            "bin_end": -0.19999999999999996,
            "bin_start": -0.3,
            "count": 0
           },
           {
            "bin_end": -0.09999999999999998,
            "bin_start": -0.19999999999999996,
            "count": 0
           },
           {
            "bin_end": 0,
            "bin_start": -0.09999999999999998,
            "count": 0
           },
           {
            "bin_end": 0.10000000000000009,
            "bin_start": 0,
            "count": 5
           },
           {
            "bin_end": 0.20000000000000007,
            "bin_start": 0.10000000000000009,
            "count": 0
           },
           {
            "bin_end": 0.30000000000000004,
            "bin_start": 0.20000000000000007,
            "count": 0
           },
           {
            "bin_end": 0.4,
            "bin_start": 0.30000000000000004,
            "count": 0
           },
           {
            "bin_end": 0.5,
            "bin_start": 0.4,
            "count": 0
           }
          ],
          "max": "0",
          "min": "0",
          "nan_count": 0,
          "unique_count": 1
         }
        },
        {
         "dtype": "int64",
         "name": "WRITE_INSTANT_MESSAGES.1",
         "stats": {
          "histogram": [
           {
            "bin_end": -0.4,
            "bin_start": -0.5,
            "count": 0
           },
           {
            "bin_end": -0.3,
            "bin_start": -0.4,
            "count": 0
           },
           {
            "bin_end": -0.19999999999999996,
            "bin_start": -0.3,
            "count": 0
           },
           {
            "bin_end": -0.09999999999999998,
            "bin_start": -0.19999999999999996,
            "count": 0
           },
           {
            "bin_end": 0,
            "bin_start": -0.09999999999999998,
            "count": 0
           },
           {
            "bin_end": 0.10000000000000009,
            "bin_start": 0,
            "count": 5
           },
           {
            "bin_end": 0.20000000000000007,
            "bin_start": 0.10000000000000009,
            "count": 0
           },
           {
            "bin_end": 0.30000000000000004,
            "bin_start": 0.20000000000000007,
            "count": 0
           },
           {
            "bin_end": 0.4,
            "bin_start": 0.30000000000000004,
            "count": 0
           },
           {
            "bin_end": 0.5,
            "bin_start": 0.4,
            "count": 0
           }
          ],
          "max": "0",
          "min": "0",
          "nan_count": 0,
          "unique_count": 1
         }
        },
        {
         "dtype": "int64",
         "name": "ADD_OR_MODIFY_CALENDAR_EVENTS_AND_SEND_EMAIL_TO_GUESTS",
         "stats": {
          "histogram": [
           {
            "bin_end": -0.4,
            "bin_start": -0.5,
            "count": 0
           },
           {
            "bin_end": -0.3,
            "bin_start": -0.4,
            "count": 0
           },
           {
            "bin_end": -0.19999999999999996,
            "bin_start": -0.3,
            "count": 0
           },
           {
            "bin_end": -0.09999999999999998,
            "bin_start": -0.19999999999999996,
            "count": 0
           },
           {
            "bin_end": 0,
            "bin_start": -0.09999999999999998,
            "count": 0
           },
           {
            "bin_end": 0.10000000000000009,
            "bin_start": 0,
            "count": 5
           },
           {
            "bin_end": 0.20000000000000007,
            "bin_start": 0.10000000000000009,
            "count": 0
           },
           {
            "bin_end": 0.30000000000000004,
            "bin_start": 0.20000000000000007,
            "count": 0
           },
           {
            "bin_end": 0.4,
            "bin_start": 0.30000000000000004,
            "count": 0
           },
           {
            "bin_end": 0.5,
            "bin_start": 0.4,
            "count": 0
           }
          ],
          "max": "0",
          "min": "0",
          "nan_count": 0,
          "unique_count": 1
         }
        },
        {
         "dtype": "int64",
         "name": "CHOOSE_WIDGETS",
         "stats": {
          "histogram": [
           {
            "bin_end": -0.4,
            "bin_start": -0.5,
            "count": 0
           },
           {
            "bin_end": -0.3,
            "bin_start": -0.4,
            "count": 0
           },
           {
            "bin_end": -0.19999999999999996,
            "bin_start": -0.3,
            "count": 0
           },
           {
            "bin_end": -0.09999999999999998,
            "bin_start": -0.19999999999999996,
            "count": 0
           },
           {
            "bin_end": 0,
            "bin_start": -0.09999999999999998,
            "count": 0
           },
           {
            "bin_end": 0.10000000000000009,
            "bin_start": 0,
            "count": 5
           },
           {
            "bin_end": 0.20000000000000007,
            "bin_start": 0.10000000000000009,
            "count": 0
           },
           {
            "bin_end": 0.30000000000000004,
            "bin_start": 0.20000000000000007,
            "count": 0
           },
           {
            "bin_end": 0.4,
            "bin_start": 0.30000000000000004,
            "count": 0
           },
           {
            "bin_end": 0.5,
            "bin_start": 0.4,
            "count": 0
           }
          ],
          "max": "0",
          "min": "0",
          "nan_count": 0,
          "unique_count": 1
         }
        },
        {
         "dtype": "int64",
         "name": "READ_BROWSERS_HISTORY_AND_BOOKMARKS",
         "stats": {
          "histogram": [
           {
            "bin_end": -0.4,
            "bin_start": -0.5,
            "count": 0
           },
           {
            "bin_end": -0.3,
            "bin_start": -0.4,
            "count": 0
           },
           {
            "bin_end": -0.19999999999999996,
            "bin_start": -0.3,
            "count": 0
           },
           {
            "bin_end": -0.09999999999999998,
            "bin_start": -0.19999999999999996,
            "count": 0
           },
           {
            "bin_end": 0,
            "bin_start": -0.09999999999999998,
            "count": 0
           },
           {
            "bin_end": 0.10000000000000009,
            "bin_start": 0,
            "count": 5
           },
           {
            "bin_end": 0.20000000000000007,
            "bin_start": 0.10000000000000009,
            "count": 0
           },
           {
            "bin_end": 0.30000000000000004,
            "bin_start": 0.20000000000000007,
            "count": 0
           },
           {
            "bin_end": 0.4,
            "bin_start": 0.30000000000000004,
            "count": 0
           },
           {
            "bin_end": 0.5,
            "bin_start": 0.4,
            "count": 0
           }
          ],
          "max": "0",
          "min": "0",
          "nan_count": 0,
          "unique_count": 1
         }
        },
        {
         "dtype": "int64",
         "name": "READ_CALENDAR_EVENTS",
         "stats": {
          "histogram": [
           {
            "bin_end": -0.4,
            "bin_start": -0.5,
            "count": 0
           },
           {
            "bin_end": -0.3,
            "bin_start": -0.4,
            "count": 0
           },
           {
            "bin_end": -0.19999999999999996,
            "bin_start": -0.3,
            "count": 0
           },
           {
            "bin_end": -0.09999999999999998,
            "bin_start": -0.19999999999999996,
            "count": 0
           },
           {
            "bin_end": 0,
            "bin_start": -0.09999999999999998,
            "count": 0
           },
           {
            "bin_end": 0.10000000000000009,
            "bin_start": 0,
            "count": 5
           },
           {
            "bin_end": 0.20000000000000007,
            "bin_start": 0.10000000000000009,
            "count": 0
           },
           {
            "bin_end": 0.30000000000000004,
            "bin_start": 0.20000000000000007,
            "count": 0
           },
           {
            "bin_end": 0.4,
            "bin_start": 0.30000000000000004,
            "count": 0
           },
           {
            "bin_end": 0.5,
            "bin_start": 0.4,
            "count": 0
           }
          ],
          "max": "0",
          "min": "0",
          "nan_count": 0,
          "unique_count": 1
         }
        },
        {
         "dtype": "int64",
         "name": "READ_CONTACT_DATA",
         "stats": {
          "histogram": [
           {
            "bin_end": -0.4,
            "bin_start": -0.5,
            "count": 0
           },
           {
            "bin_end": -0.3,
            "bin_start": -0.4,
            "count": 0
           },
           {
            "bin_end": -0.19999999999999996,
            "bin_start": -0.3,
            "count": 0
           },
           {
            "bin_end": -0.09999999999999998,
            "bin_start": -0.19999999999999996,
            "count": 0
           },
           {
            "bin_end": 0,
            "bin_start": -0.09999999999999998,
            "count": 0
           },
           {
            "bin_end": 0.10000000000000009,
            "bin_start": 0,
            "count": 5
           },
           {
            "bin_end": 0.20000000000000007,
            "bin_start": 0.10000000000000009,
            "count": 0
           },
           {
            "bin_end": 0.30000000000000004,
            "bin_start": 0.20000000000000007,
            "count": 0
           },
           {
            "bin_end": 0.4,
            "bin_start": 0.30000000000000004,
            "count": 0
           },
           {
            "bin_end": 0.5,
            "bin_start": 0.4,
            "count": 0
           }
          ],
          "max": "0",
          "min": "0",
          "nan_count": 0,
          "unique_count": 1
         }
        },
        {
         "dtype": "int64",
         "name": "READ_SENSITIVE_LOG_DATA",
         "stats": {
          "histogram": [
           {
            "bin_end": -0.4,
            "bin_start": -0.5,
            "count": 0
           },
           {
            "bin_end": -0.3,
            "bin_start": -0.4,
            "count": 0
           },
           {
            "bin_end": -0.19999999999999996,
            "bin_start": -0.3,
            "count": 0
           },
           {
            "bin_end": -0.09999999999999998,
            "bin_start": -0.19999999999999996,
            "count": 0
           },
           {
            "bin_end": 0,
            "bin_start": -0.09999999999999998,
            "count": 0
           },
           {
            "bin_end": 0.10000000000000009,
            "bin_start": 0,
            "count": 5
           },
           {
            "bin_end": 0.20000000000000007,
            "bin_start": 0.10000000000000009,
            "count": 0
           },
           {
            "bin_end": 0.30000000000000004,
            "bin_start": 0.20000000000000007,
            "count": 0
           },
           {
            "bin_end": 0.4,
            "bin_start": 0.30000000000000004,
            "count": 0
           },
           {
            "bin_end": 0.5,
            "bin_start": 0.4,
            "count": 0
           }
          ],
          "max": "0",
          "min": "0",
          "nan_count": 0,
          "unique_count": 1
         }
        },
        {
         "dtype": "int64",
         "name": "READ_USER_DEFINED_DICTIONARY",
         "stats": {
          "histogram": [
           {
            "bin_end": -0.4,
            "bin_start": -0.5,
            "count": 0
           },
           {
            "bin_end": -0.3,
            "bin_start": -0.4,
            "count": 0
           },
           {
            "bin_end": -0.19999999999999996,
            "bin_start": -0.3,
            "count": 0
           },
           {
            "bin_end": -0.09999999999999998,
            "bin_start": -0.19999999999999996,
            "count": 0
           },
           {
            "bin_end": 0,
            "bin_start": -0.09999999999999998,
            "count": 0
           },
           {
            "bin_end": 0.10000000000000009,
            "bin_start": 0,
            "count": 5
           },
           {
            "bin_end": 0.20000000000000007,
            "bin_start": 0.10000000000000009,
            "count": 0
           },
           {
            "bin_end": 0.30000000000000004,
            "bin_start": 0.20000000000000007,
            "count": 0
           },
           {
            "bin_end": 0.4,
            "bin_start": 0.30000000000000004,
            "count": 0
           },
           {
            "bin_end": 0.5,
            "bin_start": 0.4,
            "count": 0
           }
          ],
          "max": "0",
          "min": "0",
          "nan_count": 0,
          "unique_count": 1
         }
        },
        {
         "dtype": "int64",
         "name": "RETRIEVE_SYSTEM_INTERNAL_STATE",
         "stats": {
          "histogram": [
           {
            "bin_end": -0.4,
            "bin_start": -0.5,
            "count": 0
           },
           {
            "bin_end": -0.3,
            "bin_start": -0.4,
            "count": 0
           },
           {
            "bin_end": -0.19999999999999996,
            "bin_start": -0.3,
            "count": 0
           },
           {
            "bin_end": -0.09999999999999998,
            "bin_start": -0.19999999999999996,
            "count": 0
           },
           {
            "bin_end": 0,
            "bin_start": -0.09999999999999998,
            "count": 0
           },
           {
            "bin_end": 0.10000000000000009,
            "bin_start": 0,
            "count": 5
           },
           {
            "bin_end": 0.20000000000000007,
            "bin_start": 0.10000000000000009,
            "count": 0
           },
           {
            "bin_end": 0.30000000000000004,
            "bin_start": 0.20000000000000007,
            "count": 0
           },
           {
            "bin_end": 0.4,
            "bin_start": 0.30000000000000004,
            "count": 0
           },
           {
            "bin_end": 0.5,
            "bin_start": 0.4,
            "count": 0
           }
          ],
          "max": "0",
          "min": "0",
          "nan_count": 0,
          "unique_count": 1
         }
        },
        {
         "dtype": "int64",
         "name": "SET_ALARM_IN_ALARM_CLOCK",
         "stats": {
          "histogram": [
           {
            "bin_end": -0.4,
            "bin_start": -0.5,
            "count": 0
           },
           {
            "bin_end": -0.3,
            "bin_start": -0.4,
            "count": 0
           },
           {
            "bin_end": -0.19999999999999996,
            "bin_start": -0.3,
            "count": 0
           },
           {
            "bin_end": -0.09999999999999998,
            "bin_start": -0.19999999999999996,
            "count": 0
           },
           {
            "bin_end": 0,
            "bin_start": -0.09999999999999998,
            "count": 0
           },
           {
            "bin_end": 0.10000000000000009,
            "bin_start": 0,
            "count": 5
           },
           {
            "bin_end": 0.20000000000000007,
            "bin_start": 0.10000000000000009,
            "count": 0
           },
           {
            "bin_end": 0.30000000000000004,
            "bin_start": 0.20000000000000007,
            "count": 0
           },
           {
            "bin_end": 0.4,
            "bin_start": 0.30000000000000004,
            "count": 0
           },
           {
            "bin_end": 0.5,
            "bin_start": 0.4,
            "count": 0
           }
          ],
          "max": "0",
          "min": "0",
          "nan_count": 0,
          "unique_count": 1
         }
        },
        {
         "dtype": "int64",
         "name": "WRITE_BROWSERS_HISTORY_AND_BOOKMARKS",
         "stats": {
          "histogram": [
           {
            "bin_end": -0.4,
            "bin_start": -0.5,
            "count": 0
           },
           {
            "bin_end": -0.3,
            "bin_start": -0.4,
            "count": 0
           },
           {
            "bin_end": -0.19999999999999996,
            "bin_start": -0.3,
            "count": 0
           },
           {
            "bin_end": -0.09999999999999998,
            "bin_start": -0.19999999999999996,
            "count": 0
           },
           {
            "bin_end": 0,
            "bin_start": -0.09999999999999998,
            "count": 0
           },
           {
            "bin_end": 0.10000000000000009,
            "bin_start": 0,
            "count": 5
           },
           {
            "bin_end": 0.20000000000000007,
            "bin_start": 0.10000000000000009,
            "count": 0
           },
           {
            "bin_end": 0.30000000000000004,
            "bin_start": 0.20000000000000007,
            "count": 0
           },
           {
            "bin_end": 0.4,
            "bin_start": 0.30000000000000004,
            "count": 0
           },
           {
            "bin_end": 0.5,
            "bin_start": 0.4,
            "count": 0
           }
          ],
          "max": "0",
          "min": "0",
          "nan_count": 0,
          "unique_count": 1
         }
        },
        {
         "dtype": "int64",
         "name": "WRITE_CONTACT_DATA.1",
         "stats": {
          "histogram": [
           {
            "bin_end": -0.4,
            "bin_start": -0.5,
            "count": 0
           },
           {
            "bin_end": -0.3,
            "bin_start": -0.4,
            "count": 0
           },
           {
            "bin_end": -0.19999999999999996,
            "bin_start": -0.3,
            "count": 0
           },
           {
            "bin_end": -0.09999999999999998,
            "bin_start": -0.19999999999999996,
            "count": 0
           },
           {
            "bin_end": 0,
            "bin_start": -0.09999999999999998,
            "count": 0
           },
           {
            "bin_end": 0.10000000000000009,
            "bin_start": 0,
            "count": 5
           },
           {
            "bin_end": 0.20000000000000007,
            "bin_start": 0.10000000000000009,
            "count": 0
           },
           {
            "bin_end": 0.30000000000000004,
            "bin_start": 0.20000000000000007,
            "count": 0
           },
           {
            "bin_end": 0.4,
            "bin_start": 0.30000000000000004,
            "count": 0
           },
           {
            "bin_end": 0.5,
            "bin_start": 0.4,
            "count": 0
           }
          ],
          "max": "0",
          "min": "0",
          "nan_count": 0,
          "unique_count": 1
         }
        },
        {
         "dtype": "int64",
         "name": "WRITE_TO_USER_DEFINED_DICTIONARY",
         "stats": {
          "histogram": [
           {
            "bin_end": -0.4,
            "bin_start": -0.5,
            "count": 0
           },
           {
            "bin_end": -0.3,
            "bin_start": -0.4,
            "count": 0
           },
           {
            "bin_end": -0.19999999999999996,
            "bin_start": -0.3,
            "count": 0
           },
           {
            "bin_end": -0.09999999999999998,
            "bin_start": -0.19999999999999996,
            "count": 0
           },
           {
            "bin_end": 0,
            "bin_start": -0.09999999999999998,
            "count": 0
           },
           {
            "bin_end": 0.10000000000000009,
            "bin_start": 0,
            "count": 5
           },
           {
            "bin_end": 0.20000000000000007,
            "bin_start": 0.10000000000000009,
            "count": 0
           },
           {
            "bin_end": 0.30000000000000004,
            "bin_start": 0.20000000000000007,
            "count": 0
           },
           {
            "bin_end": 0.4,
            "bin_start": 0.30000000000000004,
            "count": 0
           },
           {
            "bin_end": 0.5,
            "bin_start": 0.4,
            "count": 0
           }
          ],
          "max": "0",
          "min": "0",
          "nan_count": 0,
          "unique_count": 1
         }
        },
        {
         "dtype": "int64",
         "name": "class",
         "stats": {
          "histogram": [
           {
            "bin_end": 0.1,
            "bin_start": 0,
            "count": 4
           },
           {
            "bin_end": 0.2,
            "bin_start": 0.1,
            "count": 0
           },
           {
            "bin_end": 0.30000000000000004,
            "bin_start": 0.2,
            "count": 0
           },
           {
            "bin_end": 0.4,
            "bin_start": 0.30000000000000004,
            "count": 0
           },
           {
            "bin_end": 0.5,
            "bin_start": 0.4,
            "count": 0
           },
           {
            "bin_end": 0.6000000000000001,
            "bin_start": 0.5,
            "count": 0
           },
           {
            "bin_end": 0.7000000000000001,
            "bin_start": 0.6000000000000001,
            "count": 0
           },
           {
            "bin_end": 0.8,
            "bin_start": 0.7000000000000001,
            "count": 0
           },
           {
            "bin_end": 0.9,
            "bin_start": 0.8,
            "count": 0
           },
           {
            "bin_end": 1,
            "bin_start": 0.9,
            "count": 1
           }
          ],
          "max": "1",
          "min": "0",
          "nan_count": 0,
          "unique_count": 2
         }
        },
        {
         "dtype": "int64",
         "name": "_deepnote_index_column"
        }
       ],
       "row_count": 5,
       "rows_bottom": null,
       "rows_top": [
        {
         "ACCESS_ALL_GOOGLE_SERVICES": 0,
         "ACCESS_ALL_SYSTEM_DOWNLOADS": 0,
         "ACCESS_CHECKIN_PROPERTIES": 0,
         "ACCESS_DOWNLOAD_MANAGER": 0,
         "ACCESS_DRM_CONTENT": 0,
         "ACCESS_EMAIL_PROVIDER_DATA": 0,
         "ACCESS_EXTRA_LOCATION_PROVIDER_COMMANDS": 0,
         "ACCESS_OTHER_GOOGLE_SERVICES": 0,
         "ACCESS_SURFACEFLINGER": 0,
         "ACCESS_THE_CACHE_FILESYSTEM": 0,
         "ACCESS_TO_PASSWORDS_FOR_GOOGLE_ACCOUNTS": 0,
         "ACT_AS_AN_ACCOUNT_AUTHENTICATOR": 0,
         "ACT_AS_AN_ACCOUNT_AUTHENTICATOR.1": 0,
         "ACT_AS_THE_ACCOUNTMANAGERSERVICE": 0,
         "ADD_OR_MODIFY_CALENDAR_EVENTS_AND_SEND_EMAIL_TO_GUESTS": 0,
         "ADVANCED_DOWNLOAD_MANAGER_FUNCTIONS": 0,
         "ALLOW_WI-FI_MULTICAST_RECEPTION": 0,
         "AUDIO_FILE_ACCESS": 0,
         "AUTOMATICALLY_START_AT_BOOT": 0,
         "BIND_TO_AN_INPUT_METHOD": 0,
         "BIND_TO_A_WALLPAPER": 0,
         "BLOGGER": 0,
         "BLUETOOTH_ADMINISTRATION": 0,
         "BROADCAST_DATA_MESSAGES_TO_APPLICATIONS": 0,
         "CHANGE_BACKGROUND_DATA_USAGE_SETTING": 0,
         "CHANGE_NETWORK_CONNECTIVITY": 0,
         "CHANGE_SCREEN_ORIENTATION": 0,
         "CHANGE_WI-FI_STATE": 0,
         "CHANGE_YOUR_AUDIO_SETTINGS": 0,
         "CHANGE_YOUR_UI_SETTINGS": 0,
         "CHOOSE_WIDGETS": 0,
         "COARSE": 0,
         "COARSE.1": 1,
         "CONTACTS_DATA_IN_GOOGLE_ACCOUNTS": 0,
         "CONTROL_FLASHLIGHT": 0,
         "CONTROL_LOCATION_UPDATE_NOTIFICATIONS": 0,
         "CONTROL_NEAR_FIELD_COMMUNICATION": 0,
         "CONTROL_SYSTEM_BACKUP_AND_RESTORE": 0,
         "CONTROL_VIBRATOR": 0,
         "CREATE_BLUETOOTH_CONNECTIONS": 0,
         "DELETE_ALL_APPLICATION_CACHE_DATA": 0,
         "DELETE_APPLICATIONS": 0,
         "DELETE_OTHER_APPLICATIONS_CACHES": 0,
         "DELETE_OTHER_APPLICATIONS_DATA": 0,
         "DIRECTLY_CALL_ANY_PHONE_NUMBERS": 0,
         "DIRECTLY_CALL_PHONE_NUMBERS": 0,
         "DIRECTLY_INSTALL_APPLICATIONS": 0,
         "DISABLE_KEYLOCK": 0,
         "DISABLE_OR_MODIFY_STATUS_BAR": 0,
         "DISCOVER_KNOWN_ACCOUNTS": 0,
         "DISCOVER_KNOWN_ACCOUNTS.1": 0,
         "DISPLAY_SYSTEM-LEVEL_ALERTS": 0,
         "DISPLAY_UNAUTHORIZED_WINDOWS": 0,
         "DOWNLOAD_FILES_WITHOUT_NOTIFICATION": 0,
         "EDIT_SMS_OR_MMS": 0,
         "ENABLE_APPLICATION_DEBUGGING": 0,
         "ENABLE_OR_DISABLE_APPLICATION_COMPONENTS": 0,
         "EXPAND/COLLAPSE_STATUS_BAR": 0,
         "FINE": 0,
         "FORCE_APPLICATION_TO_CLOSE": 0,
         "FORCE_DEVICE_REBOOT": 0,
         "FORCE_STOP_OTHER_APPLICATIONS": 0,
         "FORMAT_EXTERNAL_STORAGE": 0,
         "FULL_INTERNET_ACCESS": 0,
         "FULL_INTERNET_ACCESS.1": 1,
         "GOOGLE_APP_ENGINE": 0,
         "GOOGLE_DOCS": 0,
         "GOOGLE_FINANCE": 0,
         "GOOGLE_MAIL": 0,
         "GOOGLE_MAPS": 0,
         "GOOGLE_SPREADSHEETS": 0,
         "GOOGLE_VOICE": 0,
         "INSTALL_DRM_CONTENT": 0,
         "INTERACT_WITH_A_DEVICE_ADMIN": 0,
         "INTERCEPT_OUTGOING_CALLS": 0,
         "KILL_BACKGROUND_PROCESSES": 0,
         "LIMIT_NUMBER_OF_RUNNING_PROCESSES": 0,
         "MAKE/RECEIVE_INTERNET_CALLS": 0,
         "MAKE_ALL_BACKGROUND_APPLICATIONS_CLOSE": 0,
         "MAKE_APPLICATION_ALWAYS_RUN": 0,
         "MANAGE_APPLICATION_TOKENS": 0,
         "MANAGE_THE_ACCOUNTS_LIST": 0,
         "MEASURE_APPLICATION_STORAGE_SPACE": 0,
         "MOCK_LOCATION_SOURCES_FOR_TESTING": 0,
         "MOCK_LOCATION_SOURCES_FOR_TESTING.1": 0,
         "MODIFY/DELETE_USB_STORAGE_CONTENTS_MODIFY/DELETE_SD_CARD_CONTENTS": 0,
         "MODIFY/DELETE_USB_STORAGE_CONTENTS_MODIFY/DELETE_SD_CARD_CONTENTS.1": 0,
         "MODIFY_BATTERY_STATISTICS": 0,
         "MODIFY_GLOBAL_ANIMATION_SPEED": 0,
         "MODIFY_GLOBAL_SYSTEM_SETTINGS": 0,
         "MODIFY_GMAIL": 0,
         "MODIFY_GOOGLE_SERVICE_CONFIGURATION": 0,
         "MODIFY_GOOGLE_SETTINGS": 0,
         "MODIFY_PHONE_STATE": 0,
         "MODIFY_SECURE_SYSTEM_SETTINGS": 0,
         "MODIFY_THE_GOOGLE_SERVICES_MAP": 0,
         "MONITOR_AND_CONTROL_ALL_APPLICATION_LAUNCHING": 0,
         "MOUNT_AND_UNMOUNT_FILESYSTEMS": 0,
         "MOVE_APPLICATION_RESOURCES": 0,
         "PARTIAL_SHUTDOWN": 0,
         "PERMANENTLY_DISABLE_DEVICE": 0,
         "PERMISSION_TO_INSTALL_A_LOCATION_PROVIDER": 0,
         "PICASA_WEB_ALBUMS": 0,
         "POWER_DEVICE_ON_OR_OFF": 0,
         "PRESS_KEYS_AND_CONTROL_BUTTONS": 0,
         "PREVENT_APP_SWITCHES": 0,
         "PREVENT_DEVICE_FROM_SLEEPING": 0,
         "READ/WRITE_TO_RESOURCES_OWNED_BY_DIAG": 0,
         "READ_BROWSERS_HISTORY_AND_BOOKMARKS": 0,
         "READ_CALENDAR_EVENTS": 0,
         "READ_CONTACT_DATA": 0,
         "READ_EMAIL_ATTACHMENTS": 0,
         "READ_FRAME_BUFFER": 0,
         "READ_GMAIL": 0,
         "READ_GMAIL_ATTACHMENT_PREVIEWS": 0,
         "READ_GOOGLE_SERVICE_CONFIGURATION": 0,
         "READ_GOOGLE_SETTINGS": 0,
         "READ_INSTANT_MESSAGES": 0,
         "READ_INSTANT_MESSAGES.1": 0,
         "READ_PHONE_STATE_AND_IDENTITY": 0,
         "READ_PHONE_STATE_AND_IDENTITY.1": 0,
         "READ_SENSITIVE_LOG_DATA": 0,
         "READ_SMS_OR_MMS": 0,
         "READ_SUBSCRIBED_FEEDS": 0,
         "READ_SYNC_SETTINGS": 0,
         "READ_SYNC_STATISTICS": 0,
         "READ_USER_DEFINED_DICTIONARY": 0,
         "RECEIVE_DATA_FROM_INTERNET": 0,
         "RECEIVE_MMS": 0,
         "RECEIVE_SMS": 0,
         "RECEIVE_WAP": 0,
         "RECORD_AUDIO": 0,
         "RECORD_WHAT_YOU_TYPE_AND_ACTIONS_YOU_TAKE": 0,
         "REORDER_RUNNING_APPLICATIONS": 0,
         "RESET_SYSTEM_TO_FACTORY_DEFAULTS": 0,
         "RETRIEVE_RUNNING_APPLICATIONS": 0,
         "RETRIEVE_SYSTEM_INTERNAL_STATE": 0,
         "RUN_IN_FACTORY_TEST_MODE": 0,
         "SEND_DOWNLOAD_NOTIFICATIONS": 0,
         "SEND_GMAIL": 0,
         "SEND_LINUX_SIGNALS_TO_APPLICATIONS": 0,
         "SEND_PACKAGE_REMOVED_BROADCAST": 0,
         "SEND_SMS-RECEIVED_BROADCAST": 0,
         "SEND_SMS_MESSAGES": 0,
         "SEND_STICKY_BROADCAST": 0,
         "SEND_WAP-PUSH-RECEIVED_BROADCAST": 0,
         "SET_ALARM_IN_ALARM_CLOCK": 0,
         "SET_PREFERRED_APPLICATIONS": 0,
         "SET_TIME": 0,
         "SET_TIME_ZONE": 0,
         "SET_WALLPAPER": 0,
         "SET_WALLPAPER_SIZE_HINTS": 0,
         "SET_WALLPAPER_SIZE_HINTS.1": 0,
         "START_IM_SERVICE": 0,
         "TAKE_PICTURES_AND_VIDEOS": 0,
         "TEST_HARDWARE": 0,
         "UPDATE_COMPONENT_USAGE_STATISTICS": 0,
         "USE_THE_AUTHENTICATION_CREDENTIALS_OF_AN_ACCOUNT": 0,
         "VIEW_CONFIGURED_ACCOUNTS": 0,
         "VIEW_NETWORK_STATE": 0,
         "VIEW_WI-FI_STATE": 0,
         "VOICE_SEARCH_SHORTCUTS": 0,
         "WRITE_ACCESS_POINT_NAME_SETTINGS": 0,
         "WRITE_BROWSERS_HISTORY_AND_BOOKMARKS": 0,
         "WRITE_CONTACT_DATA": 0,
         "WRITE_CONTACT_DATA.1": 0,
         "WRITE_INSTANT_MESSAGES": 0,
         "WRITE_INSTANT_MESSAGES.1": 0,
         "WRITE_SUBSCRIBED_FEEDS": 0,
         "WRITE_SYNC_SETTINGS": 0,
         "WRITE_TO_USER_DEFINED_DICTIONARY": 0,
         "YOUTUBE": 0,
         "YOUTUBE_USERNAMES": 0,
         "_deepnote_index_column": 0,
         "class": 0
        },
        {
         "ACCESS_ALL_GOOGLE_SERVICES": 0,
         "ACCESS_ALL_SYSTEM_DOWNLOADS": 0,
         "ACCESS_CHECKIN_PROPERTIES": 0,
         "ACCESS_DOWNLOAD_MANAGER": 0,
         "ACCESS_DRM_CONTENT": 0,
         "ACCESS_EMAIL_PROVIDER_DATA": 0,
         "ACCESS_EXTRA_LOCATION_PROVIDER_COMMANDS": 0,
         "ACCESS_OTHER_GOOGLE_SERVICES": 0,
         "ACCESS_SURFACEFLINGER": 0,
         "ACCESS_THE_CACHE_FILESYSTEM": 0,
         "ACCESS_TO_PASSWORDS_FOR_GOOGLE_ACCOUNTS": 0,
         "ACT_AS_AN_ACCOUNT_AUTHENTICATOR": 0,
         "ACT_AS_AN_ACCOUNT_AUTHENTICATOR.1": 0,
         "ACT_AS_THE_ACCOUNTMANAGERSERVICE": 0,
         "ADD_OR_MODIFY_CALENDAR_EVENTS_AND_SEND_EMAIL_TO_GUESTS": 0,
         "ADVANCED_DOWNLOAD_MANAGER_FUNCTIONS": 0,
         "ALLOW_WI-FI_MULTICAST_RECEPTION": 0,
         "AUDIO_FILE_ACCESS": 0,
         "AUTOMATICALLY_START_AT_BOOT": 0,
         "BIND_TO_AN_INPUT_METHOD": 0,
         "BIND_TO_A_WALLPAPER": 0,
         "BLOGGER": 0,
         "BLUETOOTH_ADMINISTRATION": 0,
         "BROADCAST_DATA_MESSAGES_TO_APPLICATIONS": 0,
         "CHANGE_BACKGROUND_DATA_USAGE_SETTING": 0,
         "CHANGE_NETWORK_CONNECTIVITY": 0,
         "CHANGE_SCREEN_ORIENTATION": 0,
         "CHANGE_WI-FI_STATE": 0,
         "CHANGE_YOUR_AUDIO_SETTINGS": 0,
         "CHANGE_YOUR_UI_SETTINGS": 0,
         "CHOOSE_WIDGETS": 0,
         "COARSE": 0,
         "COARSE.1": 1,
         "CONTACTS_DATA_IN_GOOGLE_ACCOUNTS": 0,
         "CONTROL_FLASHLIGHT": 0,
         "CONTROL_LOCATION_UPDATE_NOTIFICATIONS": 0,
         "CONTROL_NEAR_FIELD_COMMUNICATION": 0,
         "CONTROL_SYSTEM_BACKUP_AND_RESTORE": 0,
         "CONTROL_VIBRATOR": 0,
         "CREATE_BLUETOOTH_CONNECTIONS": 0,
         "DELETE_ALL_APPLICATION_CACHE_DATA": 0,
         "DELETE_APPLICATIONS": 0,
         "DELETE_OTHER_APPLICATIONS_CACHES": 0,
         "DELETE_OTHER_APPLICATIONS_DATA": 0,
         "DIRECTLY_CALL_ANY_PHONE_NUMBERS": 0,
         "DIRECTLY_CALL_PHONE_NUMBERS": 0,
         "DIRECTLY_INSTALL_APPLICATIONS": 0,
         "DISABLE_KEYLOCK": 0,
         "DISABLE_OR_MODIFY_STATUS_BAR": 0,
         "DISCOVER_KNOWN_ACCOUNTS": 0,
         "DISCOVER_KNOWN_ACCOUNTS.1": 0,
         "DISPLAY_SYSTEM-LEVEL_ALERTS": 0,
         "DISPLAY_UNAUTHORIZED_WINDOWS": 0,
         "DOWNLOAD_FILES_WITHOUT_NOTIFICATION": 0,
         "EDIT_SMS_OR_MMS": 0,
         "ENABLE_APPLICATION_DEBUGGING": 0,
         "ENABLE_OR_DISABLE_APPLICATION_COMPONENTS": 0,
         "EXPAND/COLLAPSE_STATUS_BAR": 0,
         "FINE": 0,
         "FORCE_APPLICATION_TO_CLOSE": 0,
         "FORCE_DEVICE_REBOOT": 0,
         "FORCE_STOP_OTHER_APPLICATIONS": 0,
         "FORMAT_EXTERNAL_STORAGE": 0,
         "FULL_INTERNET_ACCESS": 0,
         "FULL_INTERNET_ACCESS.1": 1,
         "GOOGLE_APP_ENGINE": 0,
         "GOOGLE_DOCS": 0,
         "GOOGLE_FINANCE": 0,
         "GOOGLE_MAIL": 0,
         "GOOGLE_MAPS": 0,
         "GOOGLE_SPREADSHEETS": 0,
         "GOOGLE_VOICE": 0,
         "INSTALL_DRM_CONTENT": 0,
         "INTERACT_WITH_A_DEVICE_ADMIN": 0,
         "INTERCEPT_OUTGOING_CALLS": 0,
         "KILL_BACKGROUND_PROCESSES": 0,
         "LIMIT_NUMBER_OF_RUNNING_PROCESSES": 0,
         "MAKE/RECEIVE_INTERNET_CALLS": 0,
         "MAKE_ALL_BACKGROUND_APPLICATIONS_CLOSE": 0,
         "MAKE_APPLICATION_ALWAYS_RUN": 0,
         "MANAGE_APPLICATION_TOKENS": 0,
         "MANAGE_THE_ACCOUNTS_LIST": 0,
         "MEASURE_APPLICATION_STORAGE_SPACE": 0,
         "MOCK_LOCATION_SOURCES_FOR_TESTING": 0,
         "MOCK_LOCATION_SOURCES_FOR_TESTING.1": 0,
         "MODIFY/DELETE_USB_STORAGE_CONTENTS_MODIFY/DELETE_SD_CARD_CONTENTS": 0,
         "MODIFY/DELETE_USB_STORAGE_CONTENTS_MODIFY/DELETE_SD_CARD_CONTENTS.1": 0,
         "MODIFY_BATTERY_STATISTICS": 0,
         "MODIFY_GLOBAL_ANIMATION_SPEED": 0,
         "MODIFY_GLOBAL_SYSTEM_SETTINGS": 0,
         "MODIFY_GMAIL": 0,
         "MODIFY_GOOGLE_SERVICE_CONFIGURATION": 0,
         "MODIFY_GOOGLE_SETTINGS": 0,
         "MODIFY_PHONE_STATE": 0,
         "MODIFY_SECURE_SYSTEM_SETTINGS": 0,
         "MODIFY_THE_GOOGLE_SERVICES_MAP": 0,
         "MONITOR_AND_CONTROL_ALL_APPLICATION_LAUNCHING": 0,
         "MOUNT_AND_UNMOUNT_FILESYSTEMS": 0,
         "MOVE_APPLICATION_RESOURCES": 0,
         "PARTIAL_SHUTDOWN": 0,
         "PERMANENTLY_DISABLE_DEVICE": 0,
         "PERMISSION_TO_INSTALL_A_LOCATION_PROVIDER": 0,
         "PICASA_WEB_ALBUMS": 0,
         "POWER_DEVICE_ON_OR_OFF": 0,
         "PRESS_KEYS_AND_CONTROL_BUTTONS": 0,
         "PREVENT_APP_SWITCHES": 0,
         "PREVENT_DEVICE_FROM_SLEEPING": 0,
         "READ/WRITE_TO_RESOURCES_OWNED_BY_DIAG": 0,
         "READ_BROWSERS_HISTORY_AND_BOOKMARKS": 0,
         "READ_CALENDAR_EVENTS": 0,
         "READ_CONTACT_DATA": 0,
         "READ_EMAIL_ATTACHMENTS": 0,
         "READ_FRAME_BUFFER": 0,
         "READ_GMAIL": 0,
         "READ_GMAIL_ATTACHMENT_PREVIEWS": 0,
         "READ_GOOGLE_SERVICE_CONFIGURATION": 0,
         "READ_GOOGLE_SETTINGS": 0,
         "READ_INSTANT_MESSAGES": 0,
         "READ_INSTANT_MESSAGES.1": 0,
         "READ_PHONE_STATE_AND_IDENTITY": 0,
         "READ_PHONE_STATE_AND_IDENTITY.1": 0,
         "READ_SENSITIVE_LOG_DATA": 0,
         "READ_SMS_OR_MMS": 0,
         "READ_SUBSCRIBED_FEEDS": 0,
         "READ_SYNC_SETTINGS": 0,
         "READ_SYNC_STATISTICS": 0,
         "READ_USER_DEFINED_DICTIONARY": 0,
         "RECEIVE_DATA_FROM_INTERNET": 0,
         "RECEIVE_MMS": 0,
         "RECEIVE_SMS": 0,
         "RECEIVE_WAP": 0,
         "RECORD_AUDIO": 0,
         "RECORD_WHAT_YOU_TYPE_AND_ACTIONS_YOU_TAKE": 0,
         "REORDER_RUNNING_APPLICATIONS": 0,
         "RESET_SYSTEM_TO_FACTORY_DEFAULTS": 0,
         "RETRIEVE_RUNNING_APPLICATIONS": 0,
         "RETRIEVE_SYSTEM_INTERNAL_STATE": 0,
         "RUN_IN_FACTORY_TEST_MODE": 0,
         "SEND_DOWNLOAD_NOTIFICATIONS": 0,
         "SEND_GMAIL": 0,
         "SEND_LINUX_SIGNALS_TO_APPLICATIONS": 0,
         "SEND_PACKAGE_REMOVED_BROADCAST": 0,
         "SEND_SMS-RECEIVED_BROADCAST": 0,
         "SEND_SMS_MESSAGES": 0,
         "SEND_STICKY_BROADCAST": 0,
         "SEND_WAP-PUSH-RECEIVED_BROADCAST": 0,
         "SET_ALARM_IN_ALARM_CLOCK": 0,
         "SET_PREFERRED_APPLICATIONS": 0,
         "SET_TIME": 0,
         "SET_TIME_ZONE": 0,
         "SET_WALLPAPER": 0,
         "SET_WALLPAPER_SIZE_HINTS": 0,
         "SET_WALLPAPER_SIZE_HINTS.1": 0,
         "START_IM_SERVICE": 0,
         "TAKE_PICTURES_AND_VIDEOS": 0,
         "TEST_HARDWARE": 0,
         "UPDATE_COMPONENT_USAGE_STATISTICS": 0,
         "USE_THE_AUTHENTICATION_CREDENTIALS_OF_AN_ACCOUNT": 0,
         "VIEW_CONFIGURED_ACCOUNTS": 0,
         "VIEW_NETWORK_STATE": 1,
         "VIEW_WI-FI_STATE": 0,
         "VOICE_SEARCH_SHORTCUTS": 0,
         "WRITE_ACCESS_POINT_NAME_SETTINGS": 0,
         "WRITE_BROWSERS_HISTORY_AND_BOOKMARKS": 0,
         "WRITE_CONTACT_DATA": 0,
         "WRITE_CONTACT_DATA.1": 0,
         "WRITE_INSTANT_MESSAGES": 0,
         "WRITE_INSTANT_MESSAGES.1": 0,
         "WRITE_SUBSCRIBED_FEEDS": 0,
         "WRITE_SYNC_SETTINGS": 0,
         "WRITE_TO_USER_DEFINED_DICTIONARY": 0,
         "YOUTUBE": 0,
         "YOUTUBE_USERNAMES": 0,
         "_deepnote_index_column": 1,
         "class": 1
        },
        {
         "ACCESS_ALL_GOOGLE_SERVICES": 0,
         "ACCESS_ALL_SYSTEM_DOWNLOADS": 0,
         "ACCESS_CHECKIN_PROPERTIES": 0,
         "ACCESS_DOWNLOAD_MANAGER": 0,
         "ACCESS_DRM_CONTENT": 0,
         "ACCESS_EMAIL_PROVIDER_DATA": 0,
         "ACCESS_EXTRA_LOCATION_PROVIDER_COMMANDS": 0,
         "ACCESS_OTHER_GOOGLE_SERVICES": 0,
         "ACCESS_SURFACEFLINGER": 0,
         "ACCESS_THE_CACHE_FILESYSTEM": 0,
         "ACCESS_TO_PASSWORDS_FOR_GOOGLE_ACCOUNTS": 0,
         "ACT_AS_AN_ACCOUNT_AUTHENTICATOR": 0,
         "ACT_AS_AN_ACCOUNT_AUTHENTICATOR.1": 0,
         "ACT_AS_THE_ACCOUNTMANAGERSERVICE": 0,
         "ADD_OR_MODIFY_CALENDAR_EVENTS_AND_SEND_EMAIL_TO_GUESTS": 0,
         "ADVANCED_DOWNLOAD_MANAGER_FUNCTIONS": 0,
         "ALLOW_WI-FI_MULTICAST_RECEPTION": 0,
         "AUDIO_FILE_ACCESS": 0,
         "AUTOMATICALLY_START_AT_BOOT": 0,
         "BIND_TO_AN_INPUT_METHOD": 0,
         "BIND_TO_A_WALLPAPER": 0,
         "BLOGGER": 0,
         "BLUETOOTH_ADMINISTRATION": 0,
         "BROADCAST_DATA_MESSAGES_TO_APPLICATIONS": 0,
         "CHANGE_BACKGROUND_DATA_USAGE_SETTING": 0,
         "CHANGE_NETWORK_CONNECTIVITY": 0,
         "CHANGE_SCREEN_ORIENTATION": 0,
         "CHANGE_WI-FI_STATE": 0,
         "CHANGE_YOUR_AUDIO_SETTINGS": 0,
         "CHANGE_YOUR_UI_SETTINGS": 0,
         "CHOOSE_WIDGETS": 0,
         "COARSE": 0,
         "COARSE.1": 1,
         "CONTACTS_DATA_IN_GOOGLE_ACCOUNTS": 0,
         "CONTROL_FLASHLIGHT": 0,
         "CONTROL_LOCATION_UPDATE_NOTIFICATIONS": 0,
         "CONTROL_NEAR_FIELD_COMMUNICATION": 0,
         "CONTROL_SYSTEM_BACKUP_AND_RESTORE": 0,
         "CONTROL_VIBRATOR": 0,
         "CREATE_BLUETOOTH_CONNECTIONS": 0,
         "DELETE_ALL_APPLICATION_CACHE_DATA": 0,
         "DELETE_APPLICATIONS": 0,
         "DELETE_OTHER_APPLICATIONS_CACHES": 0,
         "DELETE_OTHER_APPLICATIONS_DATA": 0,
         "DIRECTLY_CALL_ANY_PHONE_NUMBERS": 0,
         "DIRECTLY_CALL_PHONE_NUMBERS": 1,
         "DIRECTLY_INSTALL_APPLICATIONS": 0,
         "DISABLE_KEYLOCK": 0,
         "DISABLE_OR_MODIFY_STATUS_BAR": 0,
         "DISCOVER_KNOWN_ACCOUNTS": 0,
         "DISCOVER_KNOWN_ACCOUNTS.1": 0,
         "DISPLAY_SYSTEM-LEVEL_ALERTS": 0,
         "DISPLAY_UNAUTHORIZED_WINDOWS": 0,
         "DOWNLOAD_FILES_WITHOUT_NOTIFICATION": 0,
         "EDIT_SMS_OR_MMS": 0,
         "ENABLE_APPLICATION_DEBUGGING": 0,
         "ENABLE_OR_DISABLE_APPLICATION_COMPONENTS": 0,
         "EXPAND/COLLAPSE_STATUS_BAR": 0,
         "FINE": 1,
         "FORCE_APPLICATION_TO_CLOSE": 0,
         "FORCE_DEVICE_REBOOT": 0,
         "FORCE_STOP_OTHER_APPLICATIONS": 0,
         "FORMAT_EXTERNAL_STORAGE": 0,
         "FULL_INTERNET_ACCESS": 0,
         "FULL_INTERNET_ACCESS.1": 1,
         "GOOGLE_APP_ENGINE": 0,
         "GOOGLE_DOCS": 0,
         "GOOGLE_FINANCE": 0,
         "GOOGLE_MAIL": 0,
         "GOOGLE_MAPS": 0,
         "GOOGLE_SPREADSHEETS": 0,
         "GOOGLE_VOICE": 0,
         "INSTALL_DRM_CONTENT": 0,
         "INTERACT_WITH_A_DEVICE_ADMIN": 0,
         "INTERCEPT_OUTGOING_CALLS": 0,
         "KILL_BACKGROUND_PROCESSES": 0,
         "LIMIT_NUMBER_OF_RUNNING_PROCESSES": 0,
         "MAKE/RECEIVE_INTERNET_CALLS": 0,
         "MAKE_ALL_BACKGROUND_APPLICATIONS_CLOSE": 0,
         "MAKE_APPLICATION_ALWAYS_RUN": 0,
         "MANAGE_APPLICATION_TOKENS": 0,
         "MANAGE_THE_ACCOUNTS_LIST": 0,
         "MEASURE_APPLICATION_STORAGE_SPACE": 0,
         "MOCK_LOCATION_SOURCES_FOR_TESTING": 0,
         "MOCK_LOCATION_SOURCES_FOR_TESTING.1": 0,
         "MODIFY/DELETE_USB_STORAGE_CONTENTS_MODIFY/DELETE_SD_CARD_CONTENTS": 0,
         "MODIFY/DELETE_USB_STORAGE_CONTENTS_MODIFY/DELETE_SD_CARD_CONTENTS.1": 0,
         "MODIFY_BATTERY_STATISTICS": 0,
         "MODIFY_GLOBAL_ANIMATION_SPEED": 0,
         "MODIFY_GLOBAL_SYSTEM_SETTINGS": 0,
         "MODIFY_GMAIL": 0,
         "MODIFY_GOOGLE_SERVICE_CONFIGURATION": 0,
         "MODIFY_GOOGLE_SETTINGS": 0,
         "MODIFY_PHONE_STATE": 0,
         "MODIFY_SECURE_SYSTEM_SETTINGS": 0,
         "MODIFY_THE_GOOGLE_SERVICES_MAP": 0,
         "MONITOR_AND_CONTROL_ALL_APPLICATION_LAUNCHING": 0,
         "MOUNT_AND_UNMOUNT_FILESYSTEMS": 0,
         "MOVE_APPLICATION_RESOURCES": 0,
         "PARTIAL_SHUTDOWN": 0,
         "PERMANENTLY_DISABLE_DEVICE": 0,
         "PERMISSION_TO_INSTALL_A_LOCATION_PROVIDER": 0,
         "PICASA_WEB_ALBUMS": 0,
         "POWER_DEVICE_ON_OR_OFF": 0,
         "PRESS_KEYS_AND_CONTROL_BUTTONS": 0,
         "PREVENT_APP_SWITCHES": 0,
         "PREVENT_DEVICE_FROM_SLEEPING": 0,
         "READ/WRITE_TO_RESOURCES_OWNED_BY_DIAG": 0,
         "READ_BROWSERS_HISTORY_AND_BOOKMARKS": 0,
         "READ_CALENDAR_EVENTS": 0,
         "READ_CONTACT_DATA": 0,
         "READ_EMAIL_ATTACHMENTS": 0,
         "READ_FRAME_BUFFER": 0,
         "READ_GMAIL": 0,
         "READ_GMAIL_ATTACHMENT_PREVIEWS": 0,
         "READ_GOOGLE_SERVICE_CONFIGURATION": 0,
         "READ_GOOGLE_SETTINGS": 0,
         "READ_INSTANT_MESSAGES": 0,
         "READ_INSTANT_MESSAGES.1": 0,
         "READ_PHONE_STATE_AND_IDENTITY": 0,
         "READ_PHONE_STATE_AND_IDENTITY.1": 1,
         "READ_SENSITIVE_LOG_DATA": 0,
         "READ_SMS_OR_MMS": 0,
         "READ_SUBSCRIBED_FEEDS": 0,
         "READ_SYNC_SETTINGS": 0,
         "READ_SYNC_STATISTICS": 0,
         "READ_USER_DEFINED_DICTIONARY": 0,
         "RECEIVE_DATA_FROM_INTERNET": 0,
         "RECEIVE_MMS": 0,
         "RECEIVE_SMS": 0,
         "RECEIVE_WAP": 0,
         "RECORD_AUDIO": 0,
         "RECORD_WHAT_YOU_TYPE_AND_ACTIONS_YOU_TAKE": 0,
         "REORDER_RUNNING_APPLICATIONS": 0,
         "RESET_SYSTEM_TO_FACTORY_DEFAULTS": 0,
         "RETRIEVE_RUNNING_APPLICATIONS": 0,
         "RETRIEVE_SYSTEM_INTERNAL_STATE": 0,
         "RUN_IN_FACTORY_TEST_MODE": 0,
         "SEND_DOWNLOAD_NOTIFICATIONS": 0,
         "SEND_GMAIL": 0,
         "SEND_LINUX_SIGNALS_TO_APPLICATIONS": 0,
         "SEND_PACKAGE_REMOVED_BROADCAST": 0,
         "SEND_SMS-RECEIVED_BROADCAST": 0,
         "SEND_SMS_MESSAGES": 0,
         "SEND_STICKY_BROADCAST": 0,
         "SEND_WAP-PUSH-RECEIVED_BROADCAST": 0,
         "SET_ALARM_IN_ALARM_CLOCK": 0,
         "SET_PREFERRED_APPLICATIONS": 0,
         "SET_TIME": 0,
         "SET_TIME_ZONE": 0,
         "SET_WALLPAPER": 0,
         "SET_WALLPAPER_SIZE_HINTS": 0,
         "SET_WALLPAPER_SIZE_HINTS.1": 0,
         "START_IM_SERVICE": 0,
         "TAKE_PICTURES_AND_VIDEOS": 0,
         "TEST_HARDWARE": 0,
         "UPDATE_COMPONENT_USAGE_STATISTICS": 0,
         "USE_THE_AUTHENTICATION_CREDENTIALS_OF_AN_ACCOUNT": 0,
         "VIEW_CONFIGURED_ACCOUNTS": 0,
         "VIEW_NETWORK_STATE": 1,
         "VIEW_WI-FI_STATE": 0,
         "VOICE_SEARCH_SHORTCUTS": 0,
         "WRITE_ACCESS_POINT_NAME_SETTINGS": 0,
         "WRITE_BROWSERS_HISTORY_AND_BOOKMARKS": 0,
         "WRITE_CONTACT_DATA": 0,
         "WRITE_CONTACT_DATA.1": 0,
         "WRITE_INSTANT_MESSAGES": 0,
         "WRITE_INSTANT_MESSAGES.1": 0,
         "WRITE_SUBSCRIBED_FEEDS": 0,
         "WRITE_SYNC_SETTINGS": 0,
         "WRITE_TO_USER_DEFINED_DICTIONARY": 0,
         "YOUTUBE": 0,
         "YOUTUBE_USERNAMES": 0,
         "_deepnote_index_column": 2,
         "class": 0
        },
        {
         "ACCESS_ALL_GOOGLE_SERVICES": 0,
         "ACCESS_ALL_SYSTEM_DOWNLOADS": 0,
         "ACCESS_CHECKIN_PROPERTIES": 0,
         "ACCESS_DOWNLOAD_MANAGER": 0,
         "ACCESS_DRM_CONTENT": 0,
         "ACCESS_EMAIL_PROVIDER_DATA": 0,
         "ACCESS_EXTRA_LOCATION_PROVIDER_COMMANDS": 0,
         "ACCESS_OTHER_GOOGLE_SERVICES": 0,
         "ACCESS_SURFACEFLINGER": 0,
         "ACCESS_THE_CACHE_FILESYSTEM": 0,
         "ACCESS_TO_PASSWORDS_FOR_GOOGLE_ACCOUNTS": 0,
         "ACT_AS_AN_ACCOUNT_AUTHENTICATOR": 0,
         "ACT_AS_AN_ACCOUNT_AUTHENTICATOR.1": 0,
         "ACT_AS_THE_ACCOUNTMANAGERSERVICE": 0,
         "ADD_OR_MODIFY_CALENDAR_EVENTS_AND_SEND_EMAIL_TO_GUESTS": 0,
         "ADVANCED_DOWNLOAD_MANAGER_FUNCTIONS": 0,
         "ALLOW_WI-FI_MULTICAST_RECEPTION": 0,
         "AUDIO_FILE_ACCESS": 0,
         "AUTOMATICALLY_START_AT_BOOT": 0,
         "BIND_TO_AN_INPUT_METHOD": 0,
         "BIND_TO_A_WALLPAPER": 0,
         "BLOGGER": 0,
         "BLUETOOTH_ADMINISTRATION": 0,
         "BROADCAST_DATA_MESSAGES_TO_APPLICATIONS": 0,
         "CHANGE_BACKGROUND_DATA_USAGE_SETTING": 0,
         "CHANGE_NETWORK_CONNECTIVITY": 0,
         "CHANGE_SCREEN_ORIENTATION": 0,
         "CHANGE_WI-FI_STATE": 0,
         "CHANGE_YOUR_AUDIO_SETTINGS": 0,
         "CHANGE_YOUR_UI_SETTINGS": 0,
         "CHOOSE_WIDGETS": 0,
         "COARSE": 0,
         "COARSE.1": 0,
         "CONTACTS_DATA_IN_GOOGLE_ACCOUNTS": 0,
         "CONTROL_FLASHLIGHT": 1,
         "CONTROL_LOCATION_UPDATE_NOTIFICATIONS": 0,
         "CONTROL_NEAR_FIELD_COMMUNICATION": 0,
         "CONTROL_SYSTEM_BACKUP_AND_RESTORE": 0,
         "CONTROL_VIBRATOR": 0,
         "CREATE_BLUETOOTH_CONNECTIONS": 0,
         "DELETE_ALL_APPLICATION_CACHE_DATA": 0,
         "DELETE_APPLICATIONS": 0,
         "DELETE_OTHER_APPLICATIONS_CACHES": 0,
         "DELETE_OTHER_APPLICATIONS_DATA": 0,
         "DIRECTLY_CALL_ANY_PHONE_NUMBERS": 0,
         "DIRECTLY_CALL_PHONE_NUMBERS": 0,
         "DIRECTLY_INSTALL_APPLICATIONS": 0,
         "DISABLE_KEYLOCK": 0,
         "DISABLE_OR_MODIFY_STATUS_BAR": 0,
         "DISCOVER_KNOWN_ACCOUNTS": 0,
         "DISCOVER_KNOWN_ACCOUNTS.1": 0,
         "DISPLAY_SYSTEM-LEVEL_ALERTS": 0,
         "DISPLAY_UNAUTHORIZED_WINDOWS": 0,
         "DOWNLOAD_FILES_WITHOUT_NOTIFICATION": 0,
         "EDIT_SMS_OR_MMS": 0,
         "ENABLE_APPLICATION_DEBUGGING": 0,
         "ENABLE_OR_DISABLE_APPLICATION_COMPONENTS": 0,
         "EXPAND/COLLAPSE_STATUS_BAR": 0,
         "FINE": 0,
         "FORCE_APPLICATION_TO_CLOSE": 0,
         "FORCE_DEVICE_REBOOT": 0,
         "FORCE_STOP_OTHER_APPLICATIONS": 0,
         "FORMAT_EXTERNAL_STORAGE": 0,
         "FULL_INTERNET_ACCESS": 0,
         "FULL_INTERNET_ACCESS.1": 1,
         "GOOGLE_APP_ENGINE": 0,
         "GOOGLE_DOCS": 0,
         "GOOGLE_FINANCE": 0,
         "GOOGLE_MAIL": 0,
         "GOOGLE_MAPS": 0,
         "GOOGLE_SPREADSHEETS": 0,
         "GOOGLE_VOICE": 0,
         "INSTALL_DRM_CONTENT": 0,
         "INTERACT_WITH_A_DEVICE_ADMIN": 0,
         "INTERCEPT_OUTGOING_CALLS": 0,
         "KILL_BACKGROUND_PROCESSES": 0,
         "LIMIT_NUMBER_OF_RUNNING_PROCESSES": 0,
         "MAKE/RECEIVE_INTERNET_CALLS": 0,
         "MAKE_ALL_BACKGROUND_APPLICATIONS_CLOSE": 0,
         "MAKE_APPLICATION_ALWAYS_RUN": 0,
         "MANAGE_APPLICATION_TOKENS": 0,
         "MANAGE_THE_ACCOUNTS_LIST": 0,
         "MEASURE_APPLICATION_STORAGE_SPACE": 0,
         "MOCK_LOCATION_SOURCES_FOR_TESTING": 0,
         "MOCK_LOCATION_SOURCES_FOR_TESTING.1": 0,
         "MODIFY/DELETE_USB_STORAGE_CONTENTS_MODIFY/DELETE_SD_CARD_CONTENTS": 0,
         "MODIFY/DELETE_USB_STORAGE_CONTENTS_MODIFY/DELETE_SD_CARD_CONTENTS.1": 0,
         "MODIFY_BATTERY_STATISTICS": 0,
         "MODIFY_GLOBAL_ANIMATION_SPEED": 0,
         "MODIFY_GLOBAL_SYSTEM_SETTINGS": 0,
         "MODIFY_GMAIL": 0,
         "MODIFY_GOOGLE_SERVICE_CONFIGURATION": 0,
         "MODIFY_GOOGLE_SETTINGS": 0,
         "MODIFY_PHONE_STATE": 0,
         "MODIFY_SECURE_SYSTEM_SETTINGS": 0,
         "MODIFY_THE_GOOGLE_SERVICES_MAP": 0,
         "MONITOR_AND_CONTROL_ALL_APPLICATION_LAUNCHING": 0,
         "MOUNT_AND_UNMOUNT_FILESYSTEMS": 0,
         "MOVE_APPLICATION_RESOURCES": 0,
         "PARTIAL_SHUTDOWN": 0,
         "PERMANENTLY_DISABLE_DEVICE": 0,
         "PERMISSION_TO_INSTALL_A_LOCATION_PROVIDER": 0,
         "PICASA_WEB_ALBUMS": 0,
         "POWER_DEVICE_ON_OR_OFF": 0,
         "PRESS_KEYS_AND_CONTROL_BUTTONS": 0,
         "PREVENT_APP_SWITCHES": 0,
         "PREVENT_DEVICE_FROM_SLEEPING": 1,
         "READ/WRITE_TO_RESOURCES_OWNED_BY_DIAG": 0,
         "READ_BROWSERS_HISTORY_AND_BOOKMARKS": 0,
         "READ_CALENDAR_EVENTS": 0,
         "READ_CONTACT_DATA": 0,
         "READ_EMAIL_ATTACHMENTS": 0,
         "READ_FRAME_BUFFER": 0,
         "READ_GMAIL": 0,
         "READ_GMAIL_ATTACHMENT_PREVIEWS": 0,
         "READ_GOOGLE_SERVICE_CONFIGURATION": 0,
         "READ_GOOGLE_SETTINGS": 0,
         "READ_INSTANT_MESSAGES": 0,
         "READ_INSTANT_MESSAGES.1": 0,
         "READ_PHONE_STATE_AND_IDENTITY": 0,
         "READ_PHONE_STATE_AND_IDENTITY.1": 0,
         "READ_SENSITIVE_LOG_DATA": 0,
         "READ_SMS_OR_MMS": 0,
         "READ_SUBSCRIBED_FEEDS": 0,
         "READ_SYNC_SETTINGS": 0,
         "READ_SYNC_STATISTICS": 0,
         "READ_USER_DEFINED_DICTIONARY": 0,
         "RECEIVE_DATA_FROM_INTERNET": 0,
         "RECEIVE_MMS": 0,
         "RECEIVE_SMS": 0,
         "RECEIVE_WAP": 0,
         "RECORD_AUDIO": 1,
         "RECORD_WHAT_YOU_TYPE_AND_ACTIONS_YOU_TAKE": 0,
         "REORDER_RUNNING_APPLICATIONS": 0,
         "RESET_SYSTEM_TO_FACTORY_DEFAULTS": 0,
         "RETRIEVE_RUNNING_APPLICATIONS": 0,
         "RETRIEVE_SYSTEM_INTERNAL_STATE": 0,
         "RUN_IN_FACTORY_TEST_MODE": 0,
         "SEND_DOWNLOAD_NOTIFICATIONS": 0,
         "SEND_GMAIL": 0,
         "SEND_LINUX_SIGNALS_TO_APPLICATIONS": 0,
         "SEND_PACKAGE_REMOVED_BROADCAST": 0,
         "SEND_SMS-RECEIVED_BROADCAST": 0,
         "SEND_SMS_MESSAGES": 0,
         "SEND_STICKY_BROADCAST": 0,
         "SEND_WAP-PUSH-RECEIVED_BROADCAST": 0,
         "SET_ALARM_IN_ALARM_CLOCK": 0,
         "SET_PREFERRED_APPLICATIONS": 0,
         "SET_TIME": 0,
         "SET_TIME_ZONE": 0,
         "SET_WALLPAPER": 0,
         "SET_WALLPAPER_SIZE_HINTS": 0,
         "SET_WALLPAPER_SIZE_HINTS.1": 0,
         "START_IM_SERVICE": 0,
         "TAKE_PICTURES_AND_VIDEOS": 1,
         "TEST_HARDWARE": 0,
         "UPDATE_COMPONENT_USAGE_STATISTICS": 0,
         "USE_THE_AUTHENTICATION_CREDENTIALS_OF_AN_ACCOUNT": 0,
         "VIEW_CONFIGURED_ACCOUNTS": 0,
         "VIEW_NETWORK_STATE": 1,
         "VIEW_WI-FI_STATE": 0,
         "VOICE_SEARCH_SHORTCUTS": 0,
         "WRITE_ACCESS_POINT_NAME_SETTINGS": 0,
         "WRITE_BROWSERS_HISTORY_AND_BOOKMARKS": 0,
         "WRITE_CONTACT_DATA": 0,
         "WRITE_CONTACT_DATA.1": 0,
         "WRITE_INSTANT_MESSAGES": 0,
         "WRITE_INSTANT_MESSAGES.1": 0,
         "WRITE_SUBSCRIBED_FEEDS": 0,
         "WRITE_SYNC_SETTINGS": 0,
         "WRITE_TO_USER_DEFINED_DICTIONARY": 0,
         "YOUTUBE": 0,
         "YOUTUBE_USERNAMES": 0,
         "_deepnote_index_column": 3,
         "class": 0
        },
        {
         "ACCESS_ALL_GOOGLE_SERVICES": 0,
         "ACCESS_ALL_SYSTEM_DOWNLOADS": 0,
         "ACCESS_CHECKIN_PROPERTIES": 0,
         "ACCESS_DOWNLOAD_MANAGER": 0,
         "ACCESS_DRM_CONTENT": 0,
         "ACCESS_EMAIL_PROVIDER_DATA": 0,
         "ACCESS_EXTRA_LOCATION_PROVIDER_COMMANDS": 0,
         "ACCESS_OTHER_GOOGLE_SERVICES": 0,
         "ACCESS_SURFACEFLINGER": 0,
         "ACCESS_THE_CACHE_FILESYSTEM": 0,
         "ACCESS_TO_PASSWORDS_FOR_GOOGLE_ACCOUNTS": 0,
         "ACT_AS_AN_ACCOUNT_AUTHENTICATOR": 0,
         "ACT_AS_AN_ACCOUNT_AUTHENTICATOR.1": 0,
         "ACT_AS_THE_ACCOUNTMANAGERSERVICE": 0,
         "ADD_OR_MODIFY_CALENDAR_EVENTS_AND_SEND_EMAIL_TO_GUESTS": 0,
         "ADVANCED_DOWNLOAD_MANAGER_FUNCTIONS": 0,
         "ALLOW_WI-FI_MULTICAST_RECEPTION": 0,
         "AUDIO_FILE_ACCESS": 0,
         "AUTOMATICALLY_START_AT_BOOT": 1,
         "BIND_TO_AN_INPUT_METHOD": 0,
         "BIND_TO_A_WALLPAPER": 0,
         "BLOGGER": 0,
         "BLUETOOTH_ADMINISTRATION": 0,
         "BROADCAST_DATA_MESSAGES_TO_APPLICATIONS": 0,
         "CHANGE_BACKGROUND_DATA_USAGE_SETTING": 0,
         "CHANGE_NETWORK_CONNECTIVITY": 0,
         "CHANGE_SCREEN_ORIENTATION": 0,
         "CHANGE_WI-FI_STATE": 0,
         "CHANGE_YOUR_AUDIO_SETTINGS": 0,
         "CHANGE_YOUR_UI_SETTINGS": 0,
         "CHOOSE_WIDGETS": 0,
         "COARSE": 0,
         "COARSE.1": 0,
         "CONTACTS_DATA_IN_GOOGLE_ACCOUNTS": 0,
         "CONTROL_FLASHLIGHT": 0,
         "CONTROL_LOCATION_UPDATE_NOTIFICATIONS": 0,
         "CONTROL_NEAR_FIELD_COMMUNICATION": 0,
         "CONTROL_SYSTEM_BACKUP_AND_RESTORE": 0,
         "CONTROL_VIBRATOR": 1,
         "CREATE_BLUETOOTH_CONNECTIONS": 0,
         "DELETE_ALL_APPLICATION_CACHE_DATA": 0,
         "DELETE_APPLICATIONS": 0,
         "DELETE_OTHER_APPLICATIONS_CACHES": 0,
         "DELETE_OTHER_APPLICATIONS_DATA": 0,
         "DIRECTLY_CALL_ANY_PHONE_NUMBERS": 0,
         "DIRECTLY_CALL_PHONE_NUMBERS": 0,
         "DIRECTLY_INSTALL_APPLICATIONS": 0,
         "DISABLE_KEYLOCK": 0,
         "DISABLE_OR_MODIFY_STATUS_BAR": 0,
         "DISCOVER_KNOWN_ACCOUNTS": 0,
         "DISCOVER_KNOWN_ACCOUNTS.1": 0,
         "DISPLAY_SYSTEM-LEVEL_ALERTS": 0,
         "DISPLAY_UNAUTHORIZED_WINDOWS": 0,
         "DOWNLOAD_FILES_WITHOUT_NOTIFICATION": 0,
         "EDIT_SMS_OR_MMS": 0,
         "ENABLE_APPLICATION_DEBUGGING": 0,
         "ENABLE_OR_DISABLE_APPLICATION_COMPONENTS": 0,
         "EXPAND/COLLAPSE_STATUS_BAR": 0,
         "FINE": 0,
         "FORCE_APPLICATION_TO_CLOSE": 0,
         "FORCE_DEVICE_REBOOT": 0,
         "FORCE_STOP_OTHER_APPLICATIONS": 0,
         "FORMAT_EXTERNAL_STORAGE": 0,
         "FULL_INTERNET_ACCESS": 0,
         "FULL_INTERNET_ACCESS.1": 1,
         "GOOGLE_APP_ENGINE": 0,
         "GOOGLE_DOCS": 0,
         "GOOGLE_FINANCE": 0,
         "GOOGLE_MAIL": 0,
         "GOOGLE_MAPS": 0,
         "GOOGLE_SPREADSHEETS": 0,
         "GOOGLE_VOICE": 0,
         "INSTALL_DRM_CONTENT": 0,
         "INTERACT_WITH_A_DEVICE_ADMIN": 0,
         "INTERCEPT_OUTGOING_CALLS": 0,
         "KILL_BACKGROUND_PROCESSES": 0,
         "LIMIT_NUMBER_OF_RUNNING_PROCESSES": 0,
         "MAKE/RECEIVE_INTERNET_CALLS": 0,
         "MAKE_ALL_BACKGROUND_APPLICATIONS_CLOSE": 0,
         "MAKE_APPLICATION_ALWAYS_RUN": 0,
         "MANAGE_APPLICATION_TOKENS": 0,
         "MANAGE_THE_ACCOUNTS_LIST": 0,
         "MEASURE_APPLICATION_STORAGE_SPACE": 0,
         "MOCK_LOCATION_SOURCES_FOR_TESTING": 0,
         "MOCK_LOCATION_SOURCES_FOR_TESTING.1": 0,
         "MODIFY/DELETE_USB_STORAGE_CONTENTS_MODIFY/DELETE_SD_CARD_CONTENTS": 0,
         "MODIFY/DELETE_USB_STORAGE_CONTENTS_MODIFY/DELETE_SD_CARD_CONTENTS.1": 0,
         "MODIFY_BATTERY_STATISTICS": 0,
         "MODIFY_GLOBAL_ANIMATION_SPEED": 0,
         "MODIFY_GLOBAL_SYSTEM_SETTINGS": 0,
         "MODIFY_GMAIL": 0,
         "MODIFY_GOOGLE_SERVICE_CONFIGURATION": 0,
         "MODIFY_GOOGLE_SETTINGS": 0,
         "MODIFY_PHONE_STATE": 0,
         "MODIFY_SECURE_SYSTEM_SETTINGS": 0,
         "MODIFY_THE_GOOGLE_SERVICES_MAP": 0,
         "MONITOR_AND_CONTROL_ALL_APPLICATION_LAUNCHING": 0,
         "MOUNT_AND_UNMOUNT_FILESYSTEMS": 0,
         "MOVE_APPLICATION_RESOURCES": 0,
         "PARTIAL_SHUTDOWN": 0,
         "PERMANENTLY_DISABLE_DEVICE": 0,
         "PERMISSION_TO_INSTALL_A_LOCATION_PROVIDER": 0,
         "PICASA_WEB_ALBUMS": 0,
         "POWER_DEVICE_ON_OR_OFF": 0,
         "PRESS_KEYS_AND_CONTROL_BUTTONS": 0,
         "PREVENT_APP_SWITCHES": 0,
         "PREVENT_DEVICE_FROM_SLEEPING": 1,
         "READ/WRITE_TO_RESOURCES_OWNED_BY_DIAG": 0,
         "READ_BROWSERS_HISTORY_AND_BOOKMARKS": 0,
         "READ_CALENDAR_EVENTS": 0,
         "READ_CONTACT_DATA": 0,
         "READ_EMAIL_ATTACHMENTS": 0,
         "READ_FRAME_BUFFER": 0,
         "READ_GMAIL": 0,
         "READ_GMAIL_ATTACHMENT_PREVIEWS": 0,
         "READ_GOOGLE_SERVICE_CONFIGURATION": 0,
         "READ_GOOGLE_SETTINGS": 0,
         "READ_INSTANT_MESSAGES": 0,
         "READ_INSTANT_MESSAGES.1": 0,
         "READ_PHONE_STATE_AND_IDENTITY": 0,
         "READ_PHONE_STATE_AND_IDENTITY.1": 0,
         "READ_SENSITIVE_LOG_DATA": 0,
         "READ_SMS_OR_MMS": 0,
         "READ_SUBSCRIBED_FEEDS": 0,
         "READ_SYNC_SETTINGS": 0,
         "READ_SYNC_STATISTICS": 0,
         "READ_USER_DEFINED_DICTIONARY": 0,
         "RECEIVE_DATA_FROM_INTERNET": 0,
         "RECEIVE_MMS": 0,
         "RECEIVE_SMS": 0,
         "RECEIVE_WAP": 0,
         "RECORD_AUDIO": 0,
         "RECORD_WHAT_YOU_TYPE_AND_ACTIONS_YOU_TAKE": 0,
         "REORDER_RUNNING_APPLICATIONS": 0,
         "RESET_SYSTEM_TO_FACTORY_DEFAULTS": 0,
         "RETRIEVE_RUNNING_APPLICATIONS": 0,
         "RETRIEVE_SYSTEM_INTERNAL_STATE": 0,
         "RUN_IN_FACTORY_TEST_MODE": 0,
         "SEND_DOWNLOAD_NOTIFICATIONS": 0,
         "SEND_GMAIL": 0,
         "SEND_LINUX_SIGNALS_TO_APPLICATIONS": 0,
         "SEND_PACKAGE_REMOVED_BROADCAST": 0,
         "SEND_SMS-RECEIVED_BROADCAST": 0,
         "SEND_SMS_MESSAGES": 0,
         "SEND_STICKY_BROADCAST": 0,
         "SEND_WAP-PUSH-RECEIVED_BROADCAST": 0,
         "SET_ALARM_IN_ALARM_CLOCK": 0,
         "SET_PREFERRED_APPLICATIONS": 0,
         "SET_TIME": 0,
         "SET_TIME_ZONE": 0,
         "SET_WALLPAPER": 0,
         "SET_WALLPAPER_SIZE_HINTS": 0,
         "SET_WALLPAPER_SIZE_HINTS.1": 0,
         "START_IM_SERVICE": 0,
         "TAKE_PICTURES_AND_VIDEOS": 0,
         "TEST_HARDWARE": 0,
         "UPDATE_COMPONENT_USAGE_STATISTICS": 0,
         "USE_THE_AUTHENTICATION_CREDENTIALS_OF_AN_ACCOUNT": 0,
         "VIEW_CONFIGURED_ACCOUNTS": 0,
         "VIEW_NETWORK_STATE": 0,
         "VIEW_WI-FI_STATE": 0,
         "VOICE_SEARCH_SHORTCUTS": 0,
         "WRITE_ACCESS_POINT_NAME_SETTINGS": 0,
         "WRITE_BROWSERS_HISTORY_AND_BOOKMARKS": 0,
         "WRITE_CONTACT_DATA": 0,
         "WRITE_CONTACT_DATA.1": 0,
         "WRITE_INSTANT_MESSAGES": 0,
         "WRITE_INSTANT_MESSAGES.1": 0,
         "WRITE_SUBSCRIBED_FEEDS": 0,
         "WRITE_SYNC_SETTINGS": 0,
         "WRITE_TO_USER_DEFINED_DICTIONARY": 0,
         "YOUTUBE": 0,
         "YOUTUBE_USERNAMES": 0,
         "_deepnote_index_column": 4,
         "class": 0
        }
       ]
      },
      "text/html": [
       "<div>\n",
       "<style scoped>\n",
       "    .dataframe tbody tr th:only-of-type {\n",
       "        vertical-align: middle;\n",
       "    }\n",
       "\n",
       "    .dataframe tbody tr th {\n",
       "        vertical-align: top;\n",
       "    }\n",
       "\n",
       "    .dataframe thead th {\n",
       "        text-align: right;\n",
       "    }\n",
       "</style>\n",
       "<table border=\"1\" class=\"dataframe\">\n",
       "  <thead>\n",
       "    <tr style=\"text-align: right;\">\n",
       "      <th></th>\n",
       "      <th>ACCESS_DRM_CONTENT</th>\n",
       "      <th>ACCESS_EMAIL_PROVIDER_DATA</th>\n",
       "      <th>ACCESS_ALL_SYSTEM_DOWNLOADS</th>\n",
       "      <th>ACCESS_DOWNLOAD_MANAGER</th>\n",
       "      <th>ADVANCED_DOWNLOAD_MANAGER_FUNCTIONS</th>\n",
       "      <th>AUDIO_FILE_ACCESS</th>\n",
       "      <th>INSTALL_DRM_CONTENT</th>\n",
       "      <th>MODIFY_GOOGLE_SERVICE_CONFIGURATION</th>\n",
       "      <th>MODIFY_GOOGLE_SETTINGS</th>\n",
       "      <th>MOVE_APPLICATION_RESOURCES</th>\n",
       "      <th>READ_GOOGLE_SETTINGS</th>\n",
       "      <th>SEND_DOWNLOAD_NOTIFICATIONS</th>\n",
       "      <th>VOICE_SEARCH_SHORTCUTS</th>\n",
       "      <th>ACCESS_SURFACEFLINGER</th>\n",
       "      <th>ACCESS_CHECKIN_PROPERTIES</th>\n",
       "      <th>ACCESS_THE_CACHE_FILESYSTEM</th>\n",
       "      <th>ACCESS_TO_PASSWORDS_FOR_GOOGLE_ACCOUNTS</th>\n",
       "      <th>ACT_AS_AN_ACCOUNT_AUTHENTICATOR</th>\n",
       "      <th>BIND_TO_A_WALLPAPER</th>\n",
       "      <th>BIND_TO_AN_INPUT_METHOD</th>\n",
       "      <th>CHANGE_SCREEN_ORIENTATION</th>\n",
       "      <th>COARSE</th>\n",
       "      <th>CONTROL_LOCATION_UPDATE_NOTIFICATIONS</th>\n",
       "      <th>CONTROL_SYSTEM_BACKUP_AND_RESTORE</th>\n",
       "      <th>DELETE_APPLICATIONS</th>\n",
       "      <th>DELETE_OTHER_APPLICATIONS_CACHES</th>\n",
       "      <th>DELETE_OTHER_APPLICATIONS_DATA</th>\n",
       "      <th>DIRECTLY_CALL_ANY_PHONE_NUMBERS</th>\n",
       "      <th>DIRECTLY_INSTALL_APPLICATIONS</th>\n",
       "      <th>DISABLE_OR_MODIFY_STATUS_BAR</th>\n",
       "      <th>DISCOVER_KNOWN_ACCOUNTS</th>\n",
       "      <th>DISPLAY_UNAUTHORIZED_WINDOWS</th>\n",
       "      <th>ENABLE_OR_DISABLE_APPLICATION_COMPONENTS</th>\n",
       "      <th>FORCE_APPLICATION_TO_CLOSE</th>\n",
       "      <th>FORCE_DEVICE_REBOOT</th>\n",
       "      <th>FULL_INTERNET_ACCESS</th>\n",
       "      <th>INTERACT_WITH_A_DEVICE_ADMIN</th>\n",
       "      <th>MANAGE_APPLICATION_TOKENS</th>\n",
       "      <th>MOCK_LOCATION_SOURCES_FOR_TESTING</th>\n",
       "      <th>MODIFY_BATTERY_STATISTICS</th>\n",
       "      <th>MODIFY_SECURE_SYSTEM_SETTINGS</th>\n",
       "      <th>MODIFY_THE_GOOGLE_SERVICES_MAP</th>\n",
       "      <th>MODIFY/DELETE_USB_STORAGE_CONTENTS_MODIFY/DELETE_SD_CARD_CONTENTS</th>\n",
       "      <th>MONITOR_AND_CONTROL_ALL_APPLICATION_LAUNCHING</th>\n",
       "      <th>PARTIAL_SHUTDOWN</th>\n",
       "      <th>PERMANENTLY_DISABLE_DEVICE</th>\n",
       "      <th>PERMISSION_TO_INSTALL_A_LOCATION_PROVIDER</th>\n",
       "      <th>POWER_DEVICE_ON_OR_OFF</th>\n",
       "      <th>PRESS_KEYS_AND_CONTROL_BUTTONS</th>\n",
       "      <th>PREVENT_APP_SWITCHES</th>\n",
       "      <th>READ_FRAME_BUFFER</th>\n",
       "      <th>READ_INSTANT_MESSAGES</th>\n",
       "      <th>READ_PHONE_STATE_AND_IDENTITY</th>\n",
       "      <th>RECORD_WHAT_YOU_TYPE_AND_ACTIONS_YOU_TAKE</th>\n",
       "      <th>RESET_SYSTEM_TO_FACTORY_DEFAULTS</th>\n",
       "      <th>RUN_IN_FACTORY_TEST_MODE</th>\n",
       "      <th>SET_TIME</th>\n",
       "      <th>SET_WALLPAPER_SIZE_HINTS</th>\n",
       "      <th>START_IM_SERVICE</th>\n",
       "      <th>UPDATE_COMPONENT_USAGE_STATISTICS</th>\n",
       "      <th>WRITE_CONTACT_DATA</th>\n",
       "      <th>WRITE_INSTANT_MESSAGES</th>\n",
       "      <th>ENABLE_APPLICATION_DEBUGGING</th>\n",
       "      <th>LIMIT_NUMBER_OF_RUNNING_PROCESSES</th>\n",
       "      <th>MAKE_ALL_BACKGROUND_APPLICATIONS_CLOSE</th>\n",
       "      <th>SEND_LINUX_SIGNALS_TO_APPLICATIONS</th>\n",
       "      <th>CHANGE_YOUR_AUDIO_SETTINGS</th>\n",
       "      <th>CONTROL_FLASHLIGHT</th>\n",
       "      <th>CONTROL_VIBRATOR</th>\n",
       "      <th>RECORD_AUDIO</th>\n",
       "      <th>TAKE_PICTURES_AND_VIDEOS</th>\n",
       "      <th>TEST_HARDWARE</th>\n",
       "      <th>BROADCAST_DATA_MESSAGES_TO_APPLICATIONS</th>\n",
       "      <th>CONTROL_NEAR_FIELD_COMMUNICATION</th>\n",
       "      <th>CREATE_BLUETOOTH_CONNECTIONS</th>\n",
       "      <th>DOWNLOAD_FILES_WITHOUT_NOTIFICATION</th>\n",
       "      <th>FULL_INTERNET_ACCESS.1</th>\n",
       "      <th>MAKE/RECEIVE_INTERNET_CALLS</th>\n",
       "      <th>RECEIVE_DATA_FROM_INTERNET</th>\n",
       "      <th>VIEW_WI-FI_STATE</th>\n",
       "      <th>VIEW_NETWORK_STATE</th>\n",
       "      <th>INTERCEPT_OUTGOING_CALLS</th>\n",
       "      <th>MODIFY_PHONE_STATE</th>\n",
       "      <th>READ_PHONE_STATE_AND_IDENTITY.1</th>\n",
       "      <th>DIRECTLY_CALL_PHONE_NUMBERS</th>\n",
       "      <th>SEND_SMS_MESSAGES</th>\n",
       "      <th>MODIFY/DELETE_USB_STORAGE_CONTENTS_MODIFY/DELETE_SD_CARD_CONTENTS.1</th>\n",
       "      <th>ALLOW_WI-FI_MULTICAST_RECEPTION</th>\n",
       "      <th>AUTOMATICALLY_START_AT_BOOT</th>\n",
       "      <th>BLUETOOTH_ADMINISTRATION</th>\n",
       "      <th>CHANGE_WI-FI_STATE</th>\n",
       "      <th>CHANGE_BACKGROUND_DATA_USAGE_SETTING</th>\n",
       "      <th>CHANGE_NETWORK_CONNECTIVITY</th>\n",
       "      <th>CHANGE_YOUR_UI_SETTINGS</th>\n",
       "      <th>DELETE_ALL_APPLICATION_CACHE_DATA</th>\n",
       "      <th>DISABLE_KEYLOCK</th>\n",
       "      <th>DISPLAY_SYSTEM-LEVEL_ALERTS</th>\n",
       "      <th>EXPAND/COLLAPSE_STATUS_BAR</th>\n",
       "      <th>FORCE_STOP_OTHER_APPLICATIONS</th>\n",
       "      <th>FORMAT_EXTERNAL_STORAGE</th>\n",
       "      <th>KILL_BACKGROUND_PROCESSES</th>\n",
       "      <th>MAKE_APPLICATION_ALWAYS_RUN</th>\n",
       "      <th>MEASURE_APPLICATION_STORAGE_SPACE</th>\n",
       "      <th>MODIFY_GLOBAL_ANIMATION_SPEED</th>\n",
       "      <th>MODIFY_GLOBAL_SYSTEM_SETTINGS</th>\n",
       "      <th>MOUNT_AND_UNMOUNT_FILESYSTEMS</th>\n",
       "      <th>PREVENT_DEVICE_FROM_SLEEPING</th>\n",
       "      <th>READ_SUBSCRIBED_FEEDS</th>\n",
       "      <th>READ_SYNC_SETTINGS</th>\n",
       "      <th>READ_SYNC_STATISTICS</th>\n",
       "      <th>READ/WRITE_TO_RESOURCES_OWNED_BY_DIAG</th>\n",
       "      <th>REORDER_RUNNING_APPLICATIONS</th>\n",
       "      <th>RETRIEVE_RUNNING_APPLICATIONS</th>\n",
       "      <th>SEND_PACKAGE_REMOVED_BROADCAST</th>\n",
       "      <th>SEND_STICKY_BROADCAST</th>\n",
       "      <th>SET_PREFERRED_APPLICATIONS</th>\n",
       "      <th>SET_TIME_ZONE</th>\n",
       "      <th>SET_WALLPAPER</th>\n",
       "      <th>SET_WALLPAPER_SIZE_HINTS.1</th>\n",
       "      <th>WRITE_ACCESS_POINT_NAME_SETTINGS</th>\n",
       "      <th>WRITE_SUBSCRIBED_FEEDS</th>\n",
       "      <th>WRITE_SYNC_SETTINGS</th>\n",
       "      <th>BLOGGER</th>\n",
       "      <th>GOOGLE_APP_ENGINE</th>\n",
       "      <th>GOOGLE_DOCS</th>\n",
       "      <th>GOOGLE_FINANCE</th>\n",
       "      <th>GOOGLE_MAPS</th>\n",
       "      <th>GOOGLE_SPREADSHEETS</th>\n",
       "      <th>GOOGLE_VOICE</th>\n",
       "      <th>GOOGLE_MAIL</th>\n",
       "      <th>PICASA_WEB_ALBUMS</th>\n",
       "      <th>YOUTUBE</th>\n",
       "      <th>YOUTUBE_USERNAMES</th>\n",
       "      <th>ACCESS_ALL_GOOGLE_SERVICES</th>\n",
       "      <th>ACCESS_OTHER_GOOGLE_SERVICES</th>\n",
       "      <th>ACT_AS_AN_ACCOUNT_AUTHENTICATOR.1</th>\n",
       "      <th>ACT_AS_THE_ACCOUNTMANAGERSERVICE</th>\n",
       "      <th>CONTACTS_DATA_IN_GOOGLE_ACCOUNTS</th>\n",
       "      <th>DISCOVER_KNOWN_ACCOUNTS.1</th>\n",
       "      <th>MANAGE_THE_ACCOUNTS_LIST</th>\n",
       "      <th>READ_GOOGLE_SERVICE_CONFIGURATION</th>\n",
       "      <th>USE_THE_AUTHENTICATION_CREDENTIALS_OF_AN_ACCOUNT</th>\n",
       "      <th>VIEW_CONFIGURED_ACCOUNTS</th>\n",
       "      <th>ACCESS_EXTRA_LOCATION_PROVIDER_COMMANDS</th>\n",
       "      <th>COARSE.1</th>\n",
       "      <th>FINE</th>\n",
       "      <th>MOCK_LOCATION_SOURCES_FOR_TESTING.1</th>\n",
       "      <th>READ_EMAIL_ATTACHMENTS</th>\n",
       "      <th>SEND_GMAIL</th>\n",
       "      <th>EDIT_SMS_OR_MMS</th>\n",
       "      <th>MODIFY_GMAIL</th>\n",
       "      <th>READ_GMAIL</th>\n",
       "      <th>READ_GMAIL_ATTACHMENT_PREVIEWS</th>\n",
       "      <th>READ_SMS_OR_MMS</th>\n",
       "      <th>READ_INSTANT_MESSAGES.1</th>\n",
       "      <th>RECEIVE_MMS</th>\n",
       "      <th>RECEIVE_SMS</th>\n",
       "      <th>RECEIVE_WAP</th>\n",
       "      <th>SEND_SMS-RECEIVED_BROADCAST</th>\n",
       "      <th>SEND_WAP-PUSH-RECEIVED_BROADCAST</th>\n",
       "      <th>WRITE_INSTANT_MESSAGES.1</th>\n",
       "      <th>ADD_OR_MODIFY_CALENDAR_EVENTS_AND_SEND_EMAIL_TO_GUESTS</th>\n",
       "      <th>CHOOSE_WIDGETS</th>\n",
       "      <th>READ_BROWSERS_HISTORY_AND_BOOKMARKS</th>\n",
       "      <th>READ_CALENDAR_EVENTS</th>\n",
       "      <th>READ_CONTACT_DATA</th>\n",
       "      <th>READ_SENSITIVE_LOG_DATA</th>\n",
       "      <th>READ_USER_DEFINED_DICTIONARY</th>\n",
       "      <th>RETRIEVE_SYSTEM_INTERNAL_STATE</th>\n",
       "      <th>SET_ALARM_IN_ALARM_CLOCK</th>\n",
       "      <th>WRITE_BROWSERS_HISTORY_AND_BOOKMARKS</th>\n",
       "      <th>WRITE_CONTACT_DATA.1</th>\n",
       "      <th>WRITE_TO_USER_DEFINED_DICTIONARY</th>\n",
       "      <th>class</th>\n",
       "    </tr>\n",
       "  </thead>\n",
       "  <tbody>\n",
       "    <tr>\n",
       "      <th>0</th>\n",
       "      <td>0</td>\n",
       "      <td>0</td>\n",
       "      <td>0</td>\n",
       "      <td>0</td>\n",
       "      <td>0</td>\n",
       "      <td>0</td>\n",
       "      <td>0</td>\n",
       "      <td>0</td>\n",
       "      <td>0</td>\n",
       "      <td>0</td>\n",
       "      <td>0</td>\n",
       "      <td>0</td>\n",
       "      <td>0</td>\n",
       "      <td>0</td>\n",
       "      <td>0</td>\n",
       "      <td>0</td>\n",
       "      <td>0</td>\n",
       "      <td>0</td>\n",
       "      <td>0</td>\n",
       "      <td>0</td>\n",
       "      <td>0</td>\n",
       "      <td>0</td>\n",
       "      <td>0</td>\n",
       "      <td>0</td>\n",
       "      <td>0</td>\n",
       "      <td>0</td>\n",
       "      <td>0</td>\n",
       "      <td>0</td>\n",
       "      <td>0</td>\n",
       "      <td>0</td>\n",
       "      <td>0</td>\n",
       "      <td>0</td>\n",
       "      <td>0</td>\n",
       "      <td>0</td>\n",
       "      <td>0</td>\n",
       "      <td>0</td>\n",
       "      <td>0</td>\n",
       "      <td>0</td>\n",
       "      <td>0</td>\n",
       "      <td>0</td>\n",
       "      <td>0</td>\n",
       "      <td>0</td>\n",
       "      <td>0</td>\n",
       "      <td>0</td>\n",
       "      <td>0</td>\n",
       "      <td>0</td>\n",
       "      <td>0</td>\n",
       "      <td>0</td>\n",
       "      <td>0</td>\n",
       "      <td>0</td>\n",
       "      <td>0</td>\n",
       "      <td>0</td>\n",
       "      <td>0</td>\n",
       "      <td>0</td>\n",
       "      <td>0</td>\n",
       "      <td>0</td>\n",
       "      <td>0</td>\n",
       "      <td>0</td>\n",
       "      <td>0</td>\n",
       "      <td>0</td>\n",
       "      <td>0</td>\n",
       "      <td>0</td>\n",
       "      <td>0</td>\n",
       "      <td>0</td>\n",
       "      <td>0</td>\n",
       "      <td>0</td>\n",
       "      <td>0</td>\n",
       "      <td>0</td>\n",
       "      <td>0</td>\n",
       "      <td>0</td>\n",
       "      <td>0</td>\n",
       "      <td>0</td>\n",
       "      <td>0</td>\n",
       "      <td>0</td>\n",
       "      <td>0</td>\n",
       "      <td>0</td>\n",
       "      <td>1</td>\n",
       "      <td>0</td>\n",
       "      <td>0</td>\n",
       "      <td>0</td>\n",
       "      <td>0</td>\n",
       "      <td>0</td>\n",
       "      <td>0</td>\n",
       "      <td>0</td>\n",
       "      <td>0</td>\n",
       "      <td>0</td>\n",
       "      <td>0</td>\n",
       "      <td>0</td>\n",
       "      <td>0</td>\n",
       "      <td>0</td>\n",
       "      <td>0</td>\n",
       "      <td>0</td>\n",
       "      <td>0</td>\n",
       "      <td>0</td>\n",
       "      <td>0</td>\n",
       "      <td>0</td>\n",
       "      <td>0</td>\n",
       "      <td>0</td>\n",
       "      <td>0</td>\n",
       "      <td>0</td>\n",
       "      <td>0</td>\n",
       "      <td>0</td>\n",
       "      <td>0</td>\n",
       "      <td>0</td>\n",
       "      <td>0</td>\n",
       "      <td>0</td>\n",
       "      <td>0</td>\n",
       "      <td>0</td>\n",
       "      <td>0</td>\n",
       "      <td>0</td>\n",
       "      <td>0</td>\n",
       "      <td>0</td>\n",
       "      <td>0</td>\n",
       "      <td>0</td>\n",
       "      <td>0</td>\n",
       "      <td>0</td>\n",
       "      <td>0</td>\n",
       "      <td>0</td>\n",
       "      <td>0</td>\n",
       "      <td>0</td>\n",
       "      <td>0</td>\n",
       "      <td>0</td>\n",
       "      <td>0</td>\n",
       "      <td>0</td>\n",
       "      <td>0</td>\n",
       "      <td>0</td>\n",
       "      <td>0</td>\n",
       "      <td>0</td>\n",
       "      <td>0</td>\n",
       "      <td>0</td>\n",
       "      <td>0</td>\n",
       "      <td>0</td>\n",
       "      <td>0</td>\n",
       "      <td>0</td>\n",
       "      <td>0</td>\n",
       "      <td>0</td>\n",
       "      <td>0</td>\n",
       "      <td>0</td>\n",
       "      <td>0</td>\n",
       "      <td>0</td>\n",
       "      <td>0</td>\n",
       "      <td>0</td>\n",
       "      <td>0</td>\n",
       "      <td>0</td>\n",
       "      <td>1</td>\n",
       "      <td>0</td>\n",
       "      <td>0</td>\n",
       "      <td>0</td>\n",
       "      <td>0</td>\n",
       "      <td>0</td>\n",
       "      <td>0</td>\n",
       "      <td>0</td>\n",
       "      <td>0</td>\n",
       "      <td>0</td>\n",
       "      <td>0</td>\n",
       "      <td>0</td>\n",
       "      <td>0</td>\n",
       "      <td>0</td>\n",
       "      <td>0</td>\n",
       "      <td>0</td>\n",
       "      <td>0</td>\n",
       "      <td>0</td>\n",
       "      <td>0</td>\n",
       "      <td>0</td>\n",
       "      <td>0</td>\n",
       "      <td>0</td>\n",
       "      <td>0</td>\n",
       "      <td>0</td>\n",
       "      <td>0</td>\n",
       "      <td>0</td>\n",
       "      <td>0</td>\n",
       "      <td>0</td>\n",
       "      <td>0</td>\n",
       "      <td>0</td>\n",
       "    </tr>\n",
       "    <tr>\n",
       "      <th>1</th>\n",
       "      <td>0</td>\n",
       "      <td>0</td>\n",
       "      <td>0</td>\n",
       "      <td>0</td>\n",
       "      <td>0</td>\n",
       "      <td>0</td>\n",
       "      <td>0</td>\n",
       "      <td>0</td>\n",
       "      <td>0</td>\n",
       "      <td>0</td>\n",
       "      <td>0</td>\n",
       "      <td>0</td>\n",
       "      <td>0</td>\n",
       "      <td>0</td>\n",
       "      <td>0</td>\n",
       "      <td>0</td>\n",
       "      <td>0</td>\n",
       "      <td>0</td>\n",
       "      <td>0</td>\n",
       "      <td>0</td>\n",
       "      <td>0</td>\n",
       "      <td>0</td>\n",
       "      <td>0</td>\n",
       "      <td>0</td>\n",
       "      <td>0</td>\n",
       "      <td>0</td>\n",
       "      <td>0</td>\n",
       "      <td>0</td>\n",
       "      <td>0</td>\n",
       "      <td>0</td>\n",
       "      <td>0</td>\n",
       "      <td>0</td>\n",
       "      <td>0</td>\n",
       "      <td>0</td>\n",
       "      <td>0</td>\n",
       "      <td>0</td>\n",
       "      <td>0</td>\n",
       "      <td>0</td>\n",
       "      <td>0</td>\n",
       "      <td>0</td>\n",
       "      <td>0</td>\n",
       "      <td>0</td>\n",
       "      <td>0</td>\n",
       "      <td>0</td>\n",
       "      <td>0</td>\n",
       "      <td>0</td>\n",
       "      <td>0</td>\n",
       "      <td>0</td>\n",
       "      <td>0</td>\n",
       "      <td>0</td>\n",
       "      <td>0</td>\n",
       "      <td>0</td>\n",
       "      <td>0</td>\n",
       "      <td>0</td>\n",
       "      <td>0</td>\n",
       "      <td>0</td>\n",
       "      <td>0</td>\n",
       "      <td>0</td>\n",
       "      <td>0</td>\n",
       "      <td>0</td>\n",
       "      <td>0</td>\n",
       "      <td>0</td>\n",
       "      <td>0</td>\n",
       "      <td>0</td>\n",
       "      <td>0</td>\n",
       "      <td>0</td>\n",
       "      <td>0</td>\n",
       "      <td>0</td>\n",
       "      <td>0</td>\n",
       "      <td>0</td>\n",
       "      <td>0</td>\n",
       "      <td>0</td>\n",
       "      <td>0</td>\n",
       "      <td>0</td>\n",
       "      <td>0</td>\n",
       "      <td>0</td>\n",
       "      <td>1</td>\n",
       "      <td>0</td>\n",
       "      <td>0</td>\n",
       "      <td>0</td>\n",
       "      <td>1</td>\n",
       "      <td>0</td>\n",
       "      <td>0</td>\n",
       "      <td>0</td>\n",
       "      <td>0</td>\n",
       "      <td>0</td>\n",
       "      <td>0</td>\n",
       "      <td>0</td>\n",
       "      <td>0</td>\n",
       "      <td>0</td>\n",
       "      <td>0</td>\n",
       "      <td>0</td>\n",
       "      <td>0</td>\n",
       "      <td>0</td>\n",
       "      <td>0</td>\n",
       "      <td>0</td>\n",
       "      <td>0</td>\n",
       "      <td>0</td>\n",
       "      <td>0</td>\n",
       "      <td>0</td>\n",
       "      <td>0</td>\n",
       "      <td>0</td>\n",
       "      <td>0</td>\n",
       "      <td>0</td>\n",
       "      <td>0</td>\n",
       "      <td>0</td>\n",
       "      <td>0</td>\n",
       "      <td>0</td>\n",
       "      <td>0</td>\n",
       "      <td>0</td>\n",
       "      <td>0</td>\n",
       "      <td>0</td>\n",
       "      <td>0</td>\n",
       "      <td>0</td>\n",
       "      <td>0</td>\n",
       "      <td>0</td>\n",
       "      <td>0</td>\n",
       "      <td>0</td>\n",
       "      <td>0</td>\n",
       "      <td>0</td>\n",
       "      <td>0</td>\n",
       "      <td>0</td>\n",
       "      <td>0</td>\n",
       "      <td>0</td>\n",
       "      <td>0</td>\n",
       "      <td>0</td>\n",
       "      <td>0</td>\n",
       "      <td>0</td>\n",
       "      <td>0</td>\n",
       "      <td>0</td>\n",
       "      <td>0</td>\n",
       "      <td>0</td>\n",
       "      <td>0</td>\n",
       "      <td>0</td>\n",
       "      <td>0</td>\n",
       "      <td>0</td>\n",
       "      <td>0</td>\n",
       "      <td>0</td>\n",
       "      <td>0</td>\n",
       "      <td>0</td>\n",
       "      <td>0</td>\n",
       "      <td>0</td>\n",
       "      <td>0</td>\n",
       "      <td>0</td>\n",
       "      <td>1</td>\n",
       "      <td>0</td>\n",
       "      <td>0</td>\n",
       "      <td>0</td>\n",
       "      <td>0</td>\n",
       "      <td>0</td>\n",
       "      <td>0</td>\n",
       "      <td>0</td>\n",
       "      <td>0</td>\n",
       "      <td>0</td>\n",
       "      <td>0</td>\n",
       "      <td>0</td>\n",
       "      <td>0</td>\n",
       "      <td>0</td>\n",
       "      <td>0</td>\n",
       "      <td>0</td>\n",
       "      <td>0</td>\n",
       "      <td>0</td>\n",
       "      <td>0</td>\n",
       "      <td>0</td>\n",
       "      <td>0</td>\n",
       "      <td>0</td>\n",
       "      <td>0</td>\n",
       "      <td>0</td>\n",
       "      <td>0</td>\n",
       "      <td>0</td>\n",
       "      <td>0</td>\n",
       "      <td>0</td>\n",
       "      <td>0</td>\n",
       "      <td>1</td>\n",
       "    </tr>\n",
       "    <tr>\n",
       "      <th>2</th>\n",
       "      <td>0</td>\n",
       "      <td>0</td>\n",
       "      <td>0</td>\n",
       "      <td>0</td>\n",
       "      <td>0</td>\n",
       "      <td>0</td>\n",
       "      <td>0</td>\n",
       "      <td>0</td>\n",
       "      <td>0</td>\n",
       "      <td>0</td>\n",
       "      <td>0</td>\n",
       "      <td>0</td>\n",
       "      <td>0</td>\n",
       "      <td>0</td>\n",
       "      <td>0</td>\n",
       "      <td>0</td>\n",
       "      <td>0</td>\n",
       "      <td>0</td>\n",
       "      <td>0</td>\n",
       "      <td>0</td>\n",
       "      <td>0</td>\n",
       "      <td>0</td>\n",
       "      <td>0</td>\n",
       "      <td>0</td>\n",
       "      <td>0</td>\n",
       "      <td>0</td>\n",
       "      <td>0</td>\n",
       "      <td>0</td>\n",
       "      <td>0</td>\n",
       "      <td>0</td>\n",
       "      <td>0</td>\n",
       "      <td>0</td>\n",
       "      <td>0</td>\n",
       "      <td>0</td>\n",
       "      <td>0</td>\n",
       "      <td>0</td>\n",
       "      <td>0</td>\n",
       "      <td>0</td>\n",
       "      <td>0</td>\n",
       "      <td>0</td>\n",
       "      <td>0</td>\n",
       "      <td>0</td>\n",
       "      <td>0</td>\n",
       "      <td>0</td>\n",
       "      <td>0</td>\n",
       "      <td>0</td>\n",
       "      <td>0</td>\n",
       "      <td>0</td>\n",
       "      <td>0</td>\n",
       "      <td>0</td>\n",
       "      <td>0</td>\n",
       "      <td>0</td>\n",
       "      <td>0</td>\n",
       "      <td>0</td>\n",
       "      <td>0</td>\n",
       "      <td>0</td>\n",
       "      <td>0</td>\n",
       "      <td>0</td>\n",
       "      <td>0</td>\n",
       "      <td>0</td>\n",
       "      <td>0</td>\n",
       "      <td>0</td>\n",
       "      <td>0</td>\n",
       "      <td>0</td>\n",
       "      <td>0</td>\n",
       "      <td>0</td>\n",
       "      <td>0</td>\n",
       "      <td>0</td>\n",
       "      <td>0</td>\n",
       "      <td>0</td>\n",
       "      <td>0</td>\n",
       "      <td>0</td>\n",
       "      <td>0</td>\n",
       "      <td>0</td>\n",
       "      <td>0</td>\n",
       "      <td>0</td>\n",
       "      <td>1</td>\n",
       "      <td>0</td>\n",
       "      <td>0</td>\n",
       "      <td>0</td>\n",
       "      <td>1</td>\n",
       "      <td>0</td>\n",
       "      <td>0</td>\n",
       "      <td>1</td>\n",
       "      <td>1</td>\n",
       "      <td>0</td>\n",
       "      <td>0</td>\n",
       "      <td>0</td>\n",
       "      <td>0</td>\n",
       "      <td>0</td>\n",
       "      <td>0</td>\n",
       "      <td>0</td>\n",
       "      <td>0</td>\n",
       "      <td>0</td>\n",
       "      <td>0</td>\n",
       "      <td>0</td>\n",
       "      <td>0</td>\n",
       "      <td>0</td>\n",
       "      <td>0</td>\n",
       "      <td>0</td>\n",
       "      <td>0</td>\n",
       "      <td>0</td>\n",
       "      <td>0</td>\n",
       "      <td>0</td>\n",
       "      <td>0</td>\n",
       "      <td>0</td>\n",
       "      <td>0</td>\n",
       "      <td>0</td>\n",
       "      <td>0</td>\n",
       "      <td>0</td>\n",
       "      <td>0</td>\n",
       "      <td>0</td>\n",
       "      <td>0</td>\n",
       "      <td>0</td>\n",
       "      <td>0</td>\n",
       "      <td>0</td>\n",
       "      <td>0</td>\n",
       "      <td>0</td>\n",
       "      <td>0</td>\n",
       "      <td>0</td>\n",
       "      <td>0</td>\n",
       "      <td>0</td>\n",
       "      <td>0</td>\n",
       "      <td>0</td>\n",
       "      <td>0</td>\n",
       "      <td>0</td>\n",
       "      <td>0</td>\n",
       "      <td>0</td>\n",
       "      <td>0</td>\n",
       "      <td>0</td>\n",
       "      <td>0</td>\n",
       "      <td>0</td>\n",
       "      <td>0</td>\n",
       "      <td>0</td>\n",
       "      <td>0</td>\n",
       "      <td>0</td>\n",
       "      <td>0</td>\n",
       "      <td>0</td>\n",
       "      <td>0</td>\n",
       "      <td>0</td>\n",
       "      <td>0</td>\n",
       "      <td>0</td>\n",
       "      <td>0</td>\n",
       "      <td>0</td>\n",
       "      <td>1</td>\n",
       "      <td>1</td>\n",
       "      <td>0</td>\n",
       "      <td>0</td>\n",
       "      <td>0</td>\n",
       "      <td>0</td>\n",
       "      <td>0</td>\n",
       "      <td>0</td>\n",
       "      <td>0</td>\n",
       "      <td>0</td>\n",
       "      <td>0</td>\n",
       "      <td>0</td>\n",
       "      <td>0</td>\n",
       "      <td>0</td>\n",
       "      <td>0</td>\n",
       "      <td>0</td>\n",
       "      <td>0</td>\n",
       "      <td>0</td>\n",
       "      <td>0</td>\n",
       "      <td>0</td>\n",
       "      <td>0</td>\n",
       "      <td>0</td>\n",
       "      <td>0</td>\n",
       "      <td>0</td>\n",
       "      <td>0</td>\n",
       "      <td>0</td>\n",
       "      <td>0</td>\n",
       "      <td>0</td>\n",
       "      <td>0</td>\n",
       "      <td>0</td>\n",
       "    </tr>\n",
       "    <tr>\n",
       "      <th>3</th>\n",
       "      <td>0</td>\n",
       "      <td>0</td>\n",
       "      <td>0</td>\n",
       "      <td>0</td>\n",
       "      <td>0</td>\n",
       "      <td>0</td>\n",
       "      <td>0</td>\n",
       "      <td>0</td>\n",
       "      <td>0</td>\n",
       "      <td>0</td>\n",
       "      <td>0</td>\n",
       "      <td>0</td>\n",
       "      <td>0</td>\n",
       "      <td>0</td>\n",
       "      <td>0</td>\n",
       "      <td>0</td>\n",
       "      <td>0</td>\n",
       "      <td>0</td>\n",
       "      <td>0</td>\n",
       "      <td>0</td>\n",
       "      <td>0</td>\n",
       "      <td>0</td>\n",
       "      <td>0</td>\n",
       "      <td>0</td>\n",
       "      <td>0</td>\n",
       "      <td>0</td>\n",
       "      <td>0</td>\n",
       "      <td>0</td>\n",
       "      <td>0</td>\n",
       "      <td>0</td>\n",
       "      <td>0</td>\n",
       "      <td>0</td>\n",
       "      <td>0</td>\n",
       "      <td>0</td>\n",
       "      <td>0</td>\n",
       "      <td>0</td>\n",
       "      <td>0</td>\n",
       "      <td>0</td>\n",
       "      <td>0</td>\n",
       "      <td>0</td>\n",
       "      <td>0</td>\n",
       "      <td>0</td>\n",
       "      <td>0</td>\n",
       "      <td>0</td>\n",
       "      <td>0</td>\n",
       "      <td>0</td>\n",
       "      <td>0</td>\n",
       "      <td>0</td>\n",
       "      <td>0</td>\n",
       "      <td>0</td>\n",
       "      <td>0</td>\n",
       "      <td>0</td>\n",
       "      <td>0</td>\n",
       "      <td>0</td>\n",
       "      <td>0</td>\n",
       "      <td>0</td>\n",
       "      <td>0</td>\n",
       "      <td>0</td>\n",
       "      <td>0</td>\n",
       "      <td>0</td>\n",
       "      <td>0</td>\n",
       "      <td>0</td>\n",
       "      <td>0</td>\n",
       "      <td>0</td>\n",
       "      <td>0</td>\n",
       "      <td>0</td>\n",
       "      <td>0</td>\n",
       "      <td>1</td>\n",
       "      <td>0</td>\n",
       "      <td>1</td>\n",
       "      <td>1</td>\n",
       "      <td>0</td>\n",
       "      <td>0</td>\n",
       "      <td>0</td>\n",
       "      <td>0</td>\n",
       "      <td>0</td>\n",
       "      <td>1</td>\n",
       "      <td>0</td>\n",
       "      <td>0</td>\n",
       "      <td>0</td>\n",
       "      <td>1</td>\n",
       "      <td>0</td>\n",
       "      <td>0</td>\n",
       "      <td>0</td>\n",
       "      <td>0</td>\n",
       "      <td>0</td>\n",
       "      <td>0</td>\n",
       "      <td>0</td>\n",
       "      <td>0</td>\n",
       "      <td>0</td>\n",
       "      <td>0</td>\n",
       "      <td>0</td>\n",
       "      <td>0</td>\n",
       "      <td>0</td>\n",
       "      <td>0</td>\n",
       "      <td>0</td>\n",
       "      <td>0</td>\n",
       "      <td>0</td>\n",
       "      <td>0</td>\n",
       "      <td>0</td>\n",
       "      <td>0</td>\n",
       "      <td>0</td>\n",
       "      <td>0</td>\n",
       "      <td>0</td>\n",
       "      <td>0</td>\n",
       "      <td>0</td>\n",
       "      <td>1</td>\n",
       "      <td>0</td>\n",
       "      <td>0</td>\n",
       "      <td>0</td>\n",
       "      <td>0</td>\n",
       "      <td>0</td>\n",
       "      <td>0</td>\n",
       "      <td>0</td>\n",
       "      <td>0</td>\n",
       "      <td>0</td>\n",
       "      <td>0</td>\n",
       "      <td>0</td>\n",
       "      <td>0</td>\n",
       "      <td>0</td>\n",
       "      <td>0</td>\n",
       "      <td>0</td>\n",
       "      <td>0</td>\n",
       "      <td>0</td>\n",
       "      <td>0</td>\n",
       "      <td>0</td>\n",
       "      <td>0</td>\n",
       "      <td>0</td>\n",
       "      <td>0</td>\n",
       "      <td>0</td>\n",
       "      <td>0</td>\n",
       "      <td>0</td>\n",
       "      <td>0</td>\n",
       "      <td>0</td>\n",
       "      <td>0</td>\n",
       "      <td>0</td>\n",
       "      <td>0</td>\n",
       "      <td>0</td>\n",
       "      <td>0</td>\n",
       "      <td>0</td>\n",
       "      <td>0</td>\n",
       "      <td>0</td>\n",
       "      <td>0</td>\n",
       "      <td>0</td>\n",
       "      <td>0</td>\n",
       "      <td>0</td>\n",
       "      <td>0</td>\n",
       "      <td>0</td>\n",
       "      <td>0</td>\n",
       "      <td>0</td>\n",
       "      <td>0</td>\n",
       "      <td>0</td>\n",
       "      <td>0</td>\n",
       "      <td>0</td>\n",
       "      <td>0</td>\n",
       "      <td>0</td>\n",
       "      <td>0</td>\n",
       "      <td>0</td>\n",
       "      <td>0</td>\n",
       "      <td>0</td>\n",
       "      <td>0</td>\n",
       "      <td>0</td>\n",
       "      <td>0</td>\n",
       "      <td>0</td>\n",
       "      <td>0</td>\n",
       "      <td>0</td>\n",
       "      <td>0</td>\n",
       "      <td>0</td>\n",
       "      <td>0</td>\n",
       "      <td>0</td>\n",
       "      <td>0</td>\n",
       "      <td>0</td>\n",
       "      <td>0</td>\n",
       "      <td>0</td>\n",
       "    </tr>\n",
       "    <tr>\n",
       "      <th>4</th>\n",
       "      <td>0</td>\n",
       "      <td>0</td>\n",
       "      <td>0</td>\n",
       "      <td>0</td>\n",
       "      <td>0</td>\n",
       "      <td>0</td>\n",
       "      <td>0</td>\n",
       "      <td>0</td>\n",
       "      <td>0</td>\n",
       "      <td>0</td>\n",
       "      <td>0</td>\n",
       "      <td>0</td>\n",
       "      <td>0</td>\n",
       "      <td>0</td>\n",
       "      <td>0</td>\n",
       "      <td>0</td>\n",
       "      <td>0</td>\n",
       "      <td>0</td>\n",
       "      <td>0</td>\n",
       "      <td>0</td>\n",
       "      <td>0</td>\n",
       "      <td>0</td>\n",
       "      <td>0</td>\n",
       "      <td>0</td>\n",
       "      <td>0</td>\n",
       "      <td>0</td>\n",
       "      <td>0</td>\n",
       "      <td>0</td>\n",
       "      <td>0</td>\n",
       "      <td>0</td>\n",
       "      <td>0</td>\n",
       "      <td>0</td>\n",
       "      <td>0</td>\n",
       "      <td>0</td>\n",
       "      <td>0</td>\n",
       "      <td>0</td>\n",
       "      <td>0</td>\n",
       "      <td>0</td>\n",
       "      <td>0</td>\n",
       "      <td>0</td>\n",
       "      <td>0</td>\n",
       "      <td>0</td>\n",
       "      <td>0</td>\n",
       "      <td>0</td>\n",
       "      <td>0</td>\n",
       "      <td>0</td>\n",
       "      <td>0</td>\n",
       "      <td>0</td>\n",
       "      <td>0</td>\n",
       "      <td>0</td>\n",
       "      <td>0</td>\n",
       "      <td>0</td>\n",
       "      <td>0</td>\n",
       "      <td>0</td>\n",
       "      <td>0</td>\n",
       "      <td>0</td>\n",
       "      <td>0</td>\n",
       "      <td>0</td>\n",
       "      <td>0</td>\n",
       "      <td>0</td>\n",
       "      <td>0</td>\n",
       "      <td>0</td>\n",
       "      <td>0</td>\n",
       "      <td>0</td>\n",
       "      <td>0</td>\n",
       "      <td>0</td>\n",
       "      <td>0</td>\n",
       "      <td>0</td>\n",
       "      <td>1</td>\n",
       "      <td>0</td>\n",
       "      <td>0</td>\n",
       "      <td>0</td>\n",
       "      <td>0</td>\n",
       "      <td>0</td>\n",
       "      <td>0</td>\n",
       "      <td>0</td>\n",
       "      <td>1</td>\n",
       "      <td>0</td>\n",
       "      <td>0</td>\n",
       "      <td>0</td>\n",
       "      <td>0</td>\n",
       "      <td>0</td>\n",
       "      <td>0</td>\n",
       "      <td>0</td>\n",
       "      <td>0</td>\n",
       "      <td>0</td>\n",
       "      <td>0</td>\n",
       "      <td>0</td>\n",
       "      <td>1</td>\n",
       "      <td>0</td>\n",
       "      <td>0</td>\n",
       "      <td>0</td>\n",
       "      <td>0</td>\n",
       "      <td>0</td>\n",
       "      <td>0</td>\n",
       "      <td>0</td>\n",
       "      <td>0</td>\n",
       "      <td>0</td>\n",
       "      <td>0</td>\n",
       "      <td>0</td>\n",
       "      <td>0</td>\n",
       "      <td>0</td>\n",
       "      <td>0</td>\n",
       "      <td>0</td>\n",
       "      <td>0</td>\n",
       "      <td>0</td>\n",
       "      <td>1</td>\n",
       "      <td>0</td>\n",
       "      <td>0</td>\n",
       "      <td>0</td>\n",
       "      <td>0</td>\n",
       "      <td>0</td>\n",
       "      <td>0</td>\n",
       "      <td>0</td>\n",
       "      <td>0</td>\n",
       "      <td>0</td>\n",
       "      <td>0</td>\n",
       "      <td>0</td>\n",
       "      <td>0</td>\n",
       "      <td>0</td>\n",
       "      <td>0</td>\n",
       "      <td>0</td>\n",
       "      <td>0</td>\n",
       "      <td>0</td>\n",
       "      <td>0</td>\n",
       "      <td>0</td>\n",
       "      <td>0</td>\n",
       "      <td>0</td>\n",
       "      <td>0</td>\n",
       "      <td>0</td>\n",
       "      <td>0</td>\n",
       "      <td>0</td>\n",
       "      <td>0</td>\n",
       "      <td>0</td>\n",
       "      <td>0</td>\n",
       "      <td>0</td>\n",
       "      <td>0</td>\n",
       "      <td>0</td>\n",
       "      <td>0</td>\n",
       "      <td>0</td>\n",
       "      <td>0</td>\n",
       "      <td>0</td>\n",
       "      <td>0</td>\n",
       "      <td>0</td>\n",
       "      <td>0</td>\n",
       "      <td>0</td>\n",
       "      <td>0</td>\n",
       "      <td>0</td>\n",
       "      <td>0</td>\n",
       "      <td>0</td>\n",
       "      <td>0</td>\n",
       "      <td>0</td>\n",
       "      <td>0</td>\n",
       "      <td>0</td>\n",
       "      <td>0</td>\n",
       "      <td>0</td>\n",
       "      <td>0</td>\n",
       "      <td>0</td>\n",
       "      <td>0</td>\n",
       "      <td>0</td>\n",
       "      <td>0</td>\n",
       "      <td>0</td>\n",
       "      <td>0</td>\n",
       "      <td>0</td>\n",
       "      <td>0</td>\n",
       "      <td>0</td>\n",
       "      <td>0</td>\n",
       "      <td>0</td>\n",
       "      <td>0</td>\n",
       "      <td>0</td>\n",
       "      <td>0</td>\n",
       "      <td>0</td>\n",
       "      <td>0</td>\n",
       "      <td>0</td>\n",
       "    </tr>\n",
       "  </tbody>\n",
       "</table>\n",
       "</div>"
      ],
      "text/plain": [
       "   ACCESS_DRM_CONTENT  ACCESS_EMAIL_PROVIDER_DATA  \\\n",
       "0                   0                           0   \n",
       "1                   0                           0   \n",
       "2                   0                           0   \n",
       "3                   0                           0   \n",
       "4                   0                           0   \n",
       "\n",
       "   ACCESS_ALL_SYSTEM_DOWNLOADS  ACCESS_DOWNLOAD_MANAGER  \\\n",
       "0                            0                        0   \n",
       "1                            0                        0   \n",
       "2                            0                        0   \n",
       "3                            0                        0   \n",
       "4                            0                        0   \n",
       "\n",
       "   ADVANCED_DOWNLOAD_MANAGER_FUNCTIONS  AUDIO_FILE_ACCESS  \\\n",
       "0                                    0                  0   \n",
       "1                                    0                  0   \n",
       "2                                    0                  0   \n",
       "3                                    0                  0   \n",
       "4                                    0                  0   \n",
       "\n",
       "   INSTALL_DRM_CONTENT  MODIFY_GOOGLE_SERVICE_CONFIGURATION  \\\n",
       "0                    0                                    0   \n",
       "1                    0                                    0   \n",
       "2                    0                                    0   \n",
       "3                    0                                    0   \n",
       "4                    0                                    0   \n",
       "\n",
       "   MODIFY_GOOGLE_SETTINGS  MOVE_APPLICATION_RESOURCES  READ_GOOGLE_SETTINGS  \\\n",
       "0                       0                           0                     0   \n",
       "1                       0                           0                     0   \n",
       "2                       0                           0                     0   \n",
       "3                       0                           0                     0   \n",
       "4                       0                           0                     0   \n",
       "\n",
       "   SEND_DOWNLOAD_NOTIFICATIONS  VOICE_SEARCH_SHORTCUTS  ACCESS_SURFACEFLINGER  \\\n",
       "0                            0                       0                      0   \n",
       "1                            0                       0                      0   \n",
       "2                            0                       0                      0   \n",
       "3                            0                       0                      0   \n",
       "4                            0                       0                      0   \n",
       "\n",
       "   ACCESS_CHECKIN_PROPERTIES  ACCESS_THE_CACHE_FILESYSTEM  \\\n",
       "0                          0                            0   \n",
       "1                          0                            0   \n",
       "2                          0                            0   \n",
       "3                          0                            0   \n",
       "4                          0                            0   \n",
       "\n",
       "   ACCESS_TO_PASSWORDS_FOR_GOOGLE_ACCOUNTS  ACT_AS_AN_ACCOUNT_AUTHENTICATOR  \\\n",
       "0                                        0                                0   \n",
       "1                                        0                                0   \n",
       "2                                        0                                0   \n",
       "3                                        0                                0   \n",
       "4                                        0                                0   \n",
       "\n",
       "   BIND_TO_A_WALLPAPER  BIND_TO_AN_INPUT_METHOD  CHANGE_SCREEN_ORIENTATION  \\\n",
       "0                    0                        0                          0   \n",
       "1                    0                        0                          0   \n",
       "2                    0                        0                          0   \n",
       "3                    0                        0                          0   \n",
       "4                    0                        0                          0   \n",
       "\n",
       "   COARSE  CONTROL_LOCATION_UPDATE_NOTIFICATIONS  \\\n",
       "0       0                                      0   \n",
       "1       0                                      0   \n",
       "2       0                                      0   \n",
       "3       0                                      0   \n",
       "4       0                                      0   \n",
       "\n",
       "   CONTROL_SYSTEM_BACKUP_AND_RESTORE  DELETE_APPLICATIONS  \\\n",
       "0                                  0                    0   \n",
       "1                                  0                    0   \n",
       "2                                  0                    0   \n",
       "3                                  0                    0   \n",
       "4                                  0                    0   \n",
       "\n",
       "   DELETE_OTHER_APPLICATIONS_CACHES  DELETE_OTHER_APPLICATIONS_DATA  \\\n",
       "0                                 0                               0   \n",
       "1                                 0                               0   \n",
       "2                                 0                               0   \n",
       "3                                 0                               0   \n",
       "4                                 0                               0   \n",
       "\n",
       "   DIRECTLY_CALL_ANY_PHONE_NUMBERS  DIRECTLY_INSTALL_APPLICATIONS  \\\n",
       "0                                0                              0   \n",
       "1                                0                              0   \n",
       "2                                0                              0   \n",
       "3                                0                              0   \n",
       "4                                0                              0   \n",
       "\n",
       "   DISABLE_OR_MODIFY_STATUS_BAR  DISCOVER_KNOWN_ACCOUNTS  \\\n",
       "0                             0                        0   \n",
       "1                             0                        0   \n",
       "2                             0                        0   \n",
       "3                             0                        0   \n",
       "4                             0                        0   \n",
       "\n",
       "   DISPLAY_UNAUTHORIZED_WINDOWS  ENABLE_OR_DISABLE_APPLICATION_COMPONENTS  \\\n",
       "0                             0                                         0   \n",
       "1                             0                                         0   \n",
       "2                             0                                         0   \n",
       "3                             0                                         0   \n",
       "4                             0                                         0   \n",
       "\n",
       "   FORCE_APPLICATION_TO_CLOSE  FORCE_DEVICE_REBOOT  FULL_INTERNET_ACCESS  \\\n",
       "0                           0                    0                     0   \n",
       "1                           0                    0                     0   \n",
       "2                           0                    0                     0   \n",
       "3                           0                    0                     0   \n",
       "4                           0                    0                     0   \n",
       "\n",
       "   INTERACT_WITH_A_DEVICE_ADMIN  MANAGE_APPLICATION_TOKENS  \\\n",
       "0                             0                          0   \n",
       "1                             0                          0   \n",
       "2                             0                          0   \n",
       "3                             0                          0   \n",
       "4                             0                          0   \n",
       "\n",
       "   MOCK_LOCATION_SOURCES_FOR_TESTING  MODIFY_BATTERY_STATISTICS  \\\n",
       "0                                  0                          0   \n",
       "1                                  0                          0   \n",
       "2                                  0                          0   \n",
       "3                                  0                          0   \n",
       "4                                  0                          0   \n",
       "\n",
       "   MODIFY_SECURE_SYSTEM_SETTINGS  MODIFY_THE_GOOGLE_SERVICES_MAP  \\\n",
       "0                              0                               0   \n",
       "1                              0                               0   \n",
       "2                              0                               0   \n",
       "3                              0                               0   \n",
       "4                              0                               0   \n",
       "\n",
       "   MODIFY/DELETE_USB_STORAGE_CONTENTS_MODIFY/DELETE_SD_CARD_CONTENTS  \\\n",
       "0                                                  0                   \n",
       "1                                                  0                   \n",
       "2                                                  0                   \n",
       "3                                                  0                   \n",
       "4                                                  0                   \n",
       "\n",
       "   MONITOR_AND_CONTROL_ALL_APPLICATION_LAUNCHING  PARTIAL_SHUTDOWN  \\\n",
       "0                                              0                 0   \n",
       "1                                              0                 0   \n",
       "2                                              0                 0   \n",
       "3                                              0                 0   \n",
       "4                                              0                 0   \n",
       "\n",
       "   PERMANENTLY_DISABLE_DEVICE  PERMISSION_TO_INSTALL_A_LOCATION_PROVIDER  \\\n",
       "0                           0                                          0   \n",
       "1                           0                                          0   \n",
       "2                           0                                          0   \n",
       "3                           0                                          0   \n",
       "4                           0                                          0   \n",
       "\n",
       "   POWER_DEVICE_ON_OR_OFF  PRESS_KEYS_AND_CONTROL_BUTTONS  \\\n",
       "0                       0                               0   \n",
       "1                       0                               0   \n",
       "2                       0                               0   \n",
       "3                       0                               0   \n",
       "4                       0                               0   \n",
       "\n",
       "   PREVENT_APP_SWITCHES  READ_FRAME_BUFFER  READ_INSTANT_MESSAGES  \\\n",
       "0                     0                  0                      0   \n",
       "1                     0                  0                      0   \n",
       "2                     0                  0                      0   \n",
       "3                     0                  0                      0   \n",
       "4                     0                  0                      0   \n",
       "\n",
       "   READ_PHONE_STATE_AND_IDENTITY  RECORD_WHAT_YOU_TYPE_AND_ACTIONS_YOU_TAKE  \\\n",
       "0                              0                                          0   \n",
       "1                              0                                          0   \n",
       "2                              0                                          0   \n",
       "3                              0                                          0   \n",
       "4                              0                                          0   \n",
       "\n",
       "   RESET_SYSTEM_TO_FACTORY_DEFAULTS  RUN_IN_FACTORY_TEST_MODE  SET_TIME  \\\n",
       "0                                 0                         0         0   \n",
       "1                                 0                         0         0   \n",
       "2                                 0                         0         0   \n",
       "3                                 0                         0         0   \n",
       "4                                 0                         0         0   \n",
       "\n",
       "   SET_WALLPAPER_SIZE_HINTS  START_IM_SERVICE  \\\n",
       "0                         0                 0   \n",
       "1                         0                 0   \n",
       "2                         0                 0   \n",
       "3                         0                 0   \n",
       "4                         0                 0   \n",
       "\n",
       "   UPDATE_COMPONENT_USAGE_STATISTICS  WRITE_CONTACT_DATA  \\\n",
       "0                                  0                   0   \n",
       "1                                  0                   0   \n",
       "2                                  0                   0   \n",
       "3                                  0                   0   \n",
       "4                                  0                   0   \n",
       "\n",
       "   WRITE_INSTANT_MESSAGES  ENABLE_APPLICATION_DEBUGGING  \\\n",
       "0                       0                             0   \n",
       "1                       0                             0   \n",
       "2                       0                             0   \n",
       "3                       0                             0   \n",
       "4                       0                             0   \n",
       "\n",
       "   LIMIT_NUMBER_OF_RUNNING_PROCESSES  MAKE_ALL_BACKGROUND_APPLICATIONS_CLOSE  \\\n",
       "0                                  0                                       0   \n",
       "1                                  0                                       0   \n",
       "2                                  0                                       0   \n",
       "3                                  0                                       0   \n",
       "4                                  0                                       0   \n",
       "\n",
       "   SEND_LINUX_SIGNALS_TO_APPLICATIONS  CHANGE_YOUR_AUDIO_SETTINGS  \\\n",
       "0                                   0                           0   \n",
       "1                                   0                           0   \n",
       "2                                   0                           0   \n",
       "3                                   0                           0   \n",
       "4                                   0                           0   \n",
       "\n",
       "   CONTROL_FLASHLIGHT  CONTROL_VIBRATOR  RECORD_AUDIO  \\\n",
       "0                   0                 0             0   \n",
       "1                   0                 0             0   \n",
       "2                   0                 0             0   \n",
       "3                   1                 0             1   \n",
       "4                   0                 1             0   \n",
       "\n",
       "   TAKE_PICTURES_AND_VIDEOS  TEST_HARDWARE  \\\n",
       "0                         0              0   \n",
       "1                         0              0   \n",
       "2                         0              0   \n",
       "3                         1              0   \n",
       "4                         0              0   \n",
       "\n",
       "   BROADCAST_DATA_MESSAGES_TO_APPLICATIONS  CONTROL_NEAR_FIELD_COMMUNICATION  \\\n",
       "0                                        0                                 0   \n",
       "1                                        0                                 0   \n",
       "2                                        0                                 0   \n",
       "3                                        0                                 0   \n",
       "4                                        0                                 0   \n",
       "\n",
       "   CREATE_BLUETOOTH_CONNECTIONS  DOWNLOAD_FILES_WITHOUT_NOTIFICATION  \\\n",
       "0                             0                                    0   \n",
       "1                             0                                    0   \n",
       "2                             0                                    0   \n",
       "3                             0                                    0   \n",
       "4                             0                                    0   \n",
       "\n",
       "   FULL_INTERNET_ACCESS.1  MAKE/RECEIVE_INTERNET_CALLS  \\\n",
       "0                       1                            0   \n",
       "1                       1                            0   \n",
       "2                       1                            0   \n",
       "3                       1                            0   \n",
       "4                       1                            0   \n",
       "\n",
       "   RECEIVE_DATA_FROM_INTERNET  VIEW_WI-FI_STATE  VIEW_NETWORK_STATE  \\\n",
       "0                           0                 0                   0   \n",
       "1                           0                 0                   1   \n",
       "2                           0                 0                   1   \n",
       "3                           0                 0                   1   \n",
       "4                           0                 0                   0   \n",
       "\n",
       "   INTERCEPT_OUTGOING_CALLS  MODIFY_PHONE_STATE  \\\n",
       "0                         0                   0   \n",
       "1                         0                   0   \n",
       "2                         0                   0   \n",
       "3                         0                   0   \n",
       "4                         0                   0   \n",
       "\n",
       "   READ_PHONE_STATE_AND_IDENTITY.1  DIRECTLY_CALL_PHONE_NUMBERS  \\\n",
       "0                                0                            0   \n",
       "1                                0                            0   \n",
       "2                                1                            1   \n",
       "3                                0                            0   \n",
       "4                                0                            0   \n",
       "\n",
       "   SEND_SMS_MESSAGES  \\\n",
       "0                  0   \n",
       "1                  0   \n",
       "2                  0   \n",
       "3                  0   \n",
       "4                  0   \n",
       "\n",
       "   MODIFY/DELETE_USB_STORAGE_CONTENTS_MODIFY/DELETE_SD_CARD_CONTENTS.1  \\\n",
       "0                                                  0                     \n",
       "1                                                  0                     \n",
       "2                                                  0                     \n",
       "3                                                  0                     \n",
       "4                                                  0                     \n",
       "\n",
       "   ALLOW_WI-FI_MULTICAST_RECEPTION  AUTOMATICALLY_START_AT_BOOT  \\\n",
       "0                                0                            0   \n",
       "1                                0                            0   \n",
       "2                                0                            0   \n",
       "3                                0                            0   \n",
       "4                                0                            1   \n",
       "\n",
       "   BLUETOOTH_ADMINISTRATION  CHANGE_WI-FI_STATE  \\\n",
       "0                         0                   0   \n",
       "1                         0                   0   \n",
       "2                         0                   0   \n",
       "3                         0                   0   \n",
       "4                         0                   0   \n",
       "\n",
       "   CHANGE_BACKGROUND_DATA_USAGE_SETTING  CHANGE_NETWORK_CONNECTIVITY  \\\n",
       "0                                     0                            0   \n",
       "1                                     0                            0   \n",
       "2                                     0                            0   \n",
       "3                                     0                            0   \n",
       "4                                     0                            0   \n",
       "\n",
       "   CHANGE_YOUR_UI_SETTINGS  DELETE_ALL_APPLICATION_CACHE_DATA  \\\n",
       "0                        0                                  0   \n",
       "1                        0                                  0   \n",
       "2                        0                                  0   \n",
       "3                        0                                  0   \n",
       "4                        0                                  0   \n",
       "\n",
       "   DISABLE_KEYLOCK  DISPLAY_SYSTEM-LEVEL_ALERTS  EXPAND/COLLAPSE_STATUS_BAR  \\\n",
       "0                0                            0                           0   \n",
       "1                0                            0                           0   \n",
       "2                0                            0                           0   \n",
       "3                0                            0                           0   \n",
       "4                0                            0                           0   \n",
       "\n",
       "   FORCE_STOP_OTHER_APPLICATIONS  FORMAT_EXTERNAL_STORAGE  \\\n",
       "0                              0                        0   \n",
       "1                              0                        0   \n",
       "2                              0                        0   \n",
       "3                              0                        0   \n",
       "4                              0                        0   \n",
       "\n",
       "   KILL_BACKGROUND_PROCESSES  MAKE_APPLICATION_ALWAYS_RUN  \\\n",
       "0                          0                            0   \n",
       "1                          0                            0   \n",
       "2                          0                            0   \n",
       "3                          0                            0   \n",
       "4                          0                            0   \n",
       "\n",
       "   MEASURE_APPLICATION_STORAGE_SPACE  MODIFY_GLOBAL_ANIMATION_SPEED  \\\n",
       "0                                  0                              0   \n",
       "1                                  0                              0   \n",
       "2                                  0                              0   \n",
       "3                                  0                              0   \n",
       "4                                  0                              0   \n",
       "\n",
       "   MODIFY_GLOBAL_SYSTEM_SETTINGS  MOUNT_AND_UNMOUNT_FILESYSTEMS  \\\n",
       "0                              0                              0   \n",
       "1                              0                              0   \n",
       "2                              0                              0   \n",
       "3                              0                              0   \n",
       "4                              0                              0   \n",
       "\n",
       "   PREVENT_DEVICE_FROM_SLEEPING  READ_SUBSCRIBED_FEEDS  READ_SYNC_SETTINGS  \\\n",
       "0                             0                      0                   0   \n",
       "1                             0                      0                   0   \n",
       "2                             0                      0                   0   \n",
       "3                             1                      0                   0   \n",
       "4                             1                      0                   0   \n",
       "\n",
       "   READ_SYNC_STATISTICS  READ/WRITE_TO_RESOURCES_OWNED_BY_DIAG  \\\n",
       "0                     0                                      0   \n",
       "1                     0                                      0   \n",
       "2                     0                                      0   \n",
       "3                     0                                      0   \n",
       "4                     0                                      0   \n",
       "\n",
       "   REORDER_RUNNING_APPLICATIONS  RETRIEVE_RUNNING_APPLICATIONS  \\\n",
       "0                             0                              0   \n",
       "1                             0                              0   \n",
       "2                             0                              0   \n",
       "3                             0                              0   \n",
       "4                             0                              0   \n",
       "\n",
       "   SEND_PACKAGE_REMOVED_BROADCAST  SEND_STICKY_BROADCAST  \\\n",
       "0                               0                      0   \n",
       "1                               0                      0   \n",
       "2                               0                      0   \n",
       "3                               0                      0   \n",
       "4                               0                      0   \n",
       "\n",
       "   SET_PREFERRED_APPLICATIONS  SET_TIME_ZONE  SET_WALLPAPER  \\\n",
       "0                           0              0              0   \n",
       "1                           0              0              0   \n",
       "2                           0              0              0   \n",
       "3                           0              0              0   \n",
       "4                           0              0              0   \n",
       "\n",
       "   SET_WALLPAPER_SIZE_HINTS.1  WRITE_ACCESS_POINT_NAME_SETTINGS  \\\n",
       "0                           0                                 0   \n",
       "1                           0                                 0   \n",
       "2                           0                                 0   \n",
       "3                           0                                 0   \n",
       "4                           0                                 0   \n",
       "\n",
       "   WRITE_SUBSCRIBED_FEEDS  WRITE_SYNC_SETTINGS  BLOGGER  GOOGLE_APP_ENGINE  \\\n",
       "0                       0                    0        0                  0   \n",
       "1                       0                    0        0                  0   \n",
       "2                       0                    0        0                  0   \n",
       "3                       0                    0        0                  0   \n",
       "4                       0                    0        0                  0   \n",
       "\n",
       "   GOOGLE_DOCS  GOOGLE_FINANCE  GOOGLE_MAPS  GOOGLE_SPREADSHEETS  \\\n",
       "0            0               0            0                    0   \n",
       "1            0               0            0                    0   \n",
       "2            0               0            0                    0   \n",
       "3            0               0            0                    0   \n",
       "4            0               0            0                    0   \n",
       "\n",
       "   GOOGLE_VOICE  GOOGLE_MAIL  PICASA_WEB_ALBUMS  YOUTUBE  YOUTUBE_USERNAMES  \\\n",
       "0             0            0                  0        0                  0   \n",
       "1             0            0                  0        0                  0   \n",
       "2             0            0                  0        0                  0   \n",
       "3             0            0                  0        0                  0   \n",
       "4             0            0                  0        0                  0   \n",
       "\n",
       "   ACCESS_ALL_GOOGLE_SERVICES  ACCESS_OTHER_GOOGLE_SERVICES  \\\n",
       "0                           0                             0   \n",
       "1                           0                             0   \n",
       "2                           0                             0   \n",
       "3                           0                             0   \n",
       "4                           0                             0   \n",
       "\n",
       "   ACT_AS_AN_ACCOUNT_AUTHENTICATOR.1  ACT_AS_THE_ACCOUNTMANAGERSERVICE  \\\n",
       "0                                  0                                 0   \n",
       "1                                  0                                 0   \n",
       "2                                  0                                 0   \n",
       "3                                  0                                 0   \n",
       "4                                  0                                 0   \n",
       "\n",
       "   CONTACTS_DATA_IN_GOOGLE_ACCOUNTS  DISCOVER_KNOWN_ACCOUNTS.1  \\\n",
       "0                                 0                          0   \n",
       "1                                 0                          0   \n",
       "2                                 0                          0   \n",
       "3                                 0                          0   \n",
       "4                                 0                          0   \n",
       "\n",
       "   MANAGE_THE_ACCOUNTS_LIST  READ_GOOGLE_SERVICE_CONFIGURATION  \\\n",
       "0                         0                                  0   \n",
       "1                         0                                  0   \n",
       "2                         0                                  0   \n",
       "3                         0                                  0   \n",
       "4                         0                                  0   \n",
       "\n",
       "   USE_THE_AUTHENTICATION_CREDENTIALS_OF_AN_ACCOUNT  VIEW_CONFIGURED_ACCOUNTS  \\\n",
       "0                                                 0                         0   \n",
       "1                                                 0                         0   \n",
       "2                                                 0                         0   \n",
       "3                                                 0                         0   \n",
       "4                                                 0                         0   \n",
       "\n",
       "   ACCESS_EXTRA_LOCATION_PROVIDER_COMMANDS  COARSE.1  FINE  \\\n",
       "0                                        0         1     0   \n",
       "1                                        0         1     0   \n",
       "2                                        0         1     1   \n",
       "3                                        0         0     0   \n",
       "4                                        0         0     0   \n",
       "\n",
       "   MOCK_LOCATION_SOURCES_FOR_TESTING.1  READ_EMAIL_ATTACHMENTS  SEND_GMAIL  \\\n",
       "0                                    0                       0           0   \n",
       "1                                    0                       0           0   \n",
       "2                                    0                       0           0   \n",
       "3                                    0                       0           0   \n",
       "4                                    0                       0           0   \n",
       "\n",
       "   EDIT_SMS_OR_MMS  MODIFY_GMAIL  READ_GMAIL  READ_GMAIL_ATTACHMENT_PREVIEWS  \\\n",
       "0                0             0           0                               0   \n",
       "1                0             0           0                               0   \n",
       "2                0             0           0                               0   \n",
       "3                0             0           0                               0   \n",
       "4                0             0           0                               0   \n",
       "\n",
       "   READ_SMS_OR_MMS  READ_INSTANT_MESSAGES.1  RECEIVE_MMS  RECEIVE_SMS  \\\n",
       "0                0                        0            0            0   \n",
       "1                0                        0            0            0   \n",
       "2                0                        0            0            0   \n",
       "3                0                        0            0            0   \n",
       "4                0                        0            0            0   \n",
       "\n",
       "   RECEIVE_WAP  SEND_SMS-RECEIVED_BROADCAST  SEND_WAP-PUSH-RECEIVED_BROADCAST  \\\n",
       "0            0                            0                                 0   \n",
       "1            0                            0                                 0   \n",
       "2            0                            0                                 0   \n",
       "3            0                            0                                 0   \n",
       "4            0                            0                                 0   \n",
       "\n",
       "   WRITE_INSTANT_MESSAGES.1  \\\n",
       "0                         0   \n",
       "1                         0   \n",
       "2                         0   \n",
       "3                         0   \n",
       "4                         0   \n",
       "\n",
       "   ADD_OR_MODIFY_CALENDAR_EVENTS_AND_SEND_EMAIL_TO_GUESTS  CHOOSE_WIDGETS  \\\n",
       "0                                                  0                    0   \n",
       "1                                                  0                    0   \n",
       "2                                                  0                    0   \n",
       "3                                                  0                    0   \n",
       "4                                                  0                    0   \n",
       "\n",
       "   READ_BROWSERS_HISTORY_AND_BOOKMARKS  READ_CALENDAR_EVENTS  \\\n",
       "0                                    0                     0   \n",
       "1                                    0                     0   \n",
       "2                                    0                     0   \n",
       "3                                    0                     0   \n",
       "4                                    0                     0   \n",
       "\n",
       "   READ_CONTACT_DATA  READ_SENSITIVE_LOG_DATA  READ_USER_DEFINED_DICTIONARY  \\\n",
       "0                  0                        0                             0   \n",
       "1                  0                        0                             0   \n",
       "2                  0                        0                             0   \n",
       "3                  0                        0                             0   \n",
       "4                  0                        0                             0   \n",
       "\n",
       "   RETRIEVE_SYSTEM_INTERNAL_STATE  SET_ALARM_IN_ALARM_CLOCK  \\\n",
       "0                               0                         0   \n",
       "1                               0                         0   \n",
       "2                               0                         0   \n",
       "3                               0                         0   \n",
       "4                               0                         0   \n",
       "\n",
       "   WRITE_BROWSERS_HISTORY_AND_BOOKMARKS  WRITE_CONTACT_DATA.1  \\\n",
       "0                                     0                     0   \n",
       "1                                     0                     0   \n",
       "2                                     0                     0   \n",
       "3                                     0                     0   \n",
       "4                                     0                     0   \n",
       "\n",
       "   WRITE_TO_USER_DEFINED_DICTIONARY  class  \n",
       "0                                 0      0  \n",
       "1                                 0      1  \n",
       "2                                 0      0  \n",
       "3                                 0      0  \n",
       "4                                 0      0  "
      ]
     },
     "execution_count": 7,
     "metadata": {},
     "output_type": "execute_result"
    }
   ],
   "source": [
    "android.head()"
   ]
  },
  {
   "cell_type": "markdown",
   "metadata": {
    "cell_id": "00010-96ecf805-efbc-4f27-9f03-229ac5b7d6ad",
    "deepnote_cell_type": "text-cell-h3",
    "is_collapsed": false,
    "tags": []
   },
   "source": [
    "### DefenseDroid (2021)"
   ]
  },
  {
   "cell_type": "code",
   "execution_count": null,
   "metadata": {
    "cell_id": "00011-8de0ec29-3a9b-4728-b079-053798a604d5",
    "deepnote_cell_type": "code",
    "deepnote_to_be_reexecuted": false,
    "execution_millis": 334,
    "execution_start": 1631227557860,
    "source_hash": "69a84d32",
    "tags": []
   },
   "outputs": [
    {
     "data": {
      "application/vnd.deepnote.dataframe.v2+json": {
       "column_count": 135,
       "columns": [
        {
         "dtype": "int64",
         "name": "ACCESS_BACKGROUND_LOCATION",
         "stats": {
          "histogram": [
           {
            "bin_end": -0.4,
            "bin_start": -0.5,
            "count": 0
           },
           {
            "bin_end": -0.3,
            "bin_start": -0.4,
            "count": 0
           },
           {
            "bin_end": -0.19999999999999996,
            "bin_start": -0.3,
            "count": 0
           },
           {
            "bin_end": -0.09999999999999998,
            "bin_start": -0.19999999999999996,
            "count": 0
           },
           {
            "bin_end": 0,
            "bin_start": -0.09999999999999998,
            "count": 0
           },
           {
            "bin_end": 0.10000000000000009,
            "bin_start": 0,
            "count": 5
           },
           {
            "bin_end": 0.20000000000000007,
            "bin_start": 0.10000000000000009,
            "count": 0
           },
           {
            "bin_end": 0.30000000000000004,
            "bin_start": 0.20000000000000007,
            "count": 0
           },
           {
            "bin_end": 0.4,
            "bin_start": 0.30000000000000004,
            "count": 0
           },
           {
            "bin_end": 0.5,
            "bin_start": 0.4,
            "count": 0
           }
          ],
          "max": "0",
          "min": "0",
          "nan_count": 0,
          "unique_count": 1
         }
        },
        {
         "dtype": "int64",
         "name": "ACCESS_CHECKIN_PROPERTIES",
         "stats": {
          "histogram": [
           {
            "bin_end": -0.4,
            "bin_start": -0.5,
            "count": 0
           },
           {
            "bin_end": -0.3,
            "bin_start": -0.4,
            "count": 0
           },
           {
            "bin_end": -0.19999999999999996,
            "bin_start": -0.3,
            "count": 0
           },
           {
            "bin_end": -0.09999999999999998,
            "bin_start": -0.19999999999999996,
            "count": 0
           },
           {
            "bin_end": 0,
            "bin_start": -0.09999999999999998,
            "count": 0
           },
           {
            "bin_end": 0.10000000000000009,
            "bin_start": 0,
            "count": 5
           },
           {
            "bin_end": 0.20000000000000007,
            "bin_start": 0.10000000000000009,
            "count": 0
           },
           {
            "bin_end": 0.30000000000000004,
            "bin_start": 0.20000000000000007,
            "count": 0
           },
           {
            "bin_end": 0.4,
            "bin_start": 0.30000000000000004,
            "count": 0
           },
           {
            "bin_end": 0.5,
            "bin_start": 0.4,
            "count": 0
           }
          ],
          "max": "0",
          "min": "0",
          "nan_count": 0,
          "unique_count": 1
         }
        },
        {
         "dtype": "int64",
         "name": "ACCESS_COARSE_LOCATION",
         "stats": {
          "histogram": [
           {
            "bin_end": 0.1,
            "bin_start": 0,
            "count": 3
           },
           {
            "bin_end": 0.2,
            "bin_start": 0.1,
            "count": 0
           },
           {
            "bin_end": 0.30000000000000004,
            "bin_start": 0.2,
            "count": 0
           },
           {
            "bin_end": 0.4,
            "bin_start": 0.30000000000000004,
            "count": 0
           },
           {
            "bin_end": 0.5,
            "bin_start": 0.4,
            "count": 0
           },
           {
            "bin_end": 0.6000000000000001,
            "bin_start": 0.5,
            "count": 0
           },
           {
            "bin_end": 0.7000000000000001,
            "bin_start": 0.6000000000000001,
            "count": 0
           },
           {
            "bin_end": 0.8,
            "bin_start": 0.7000000000000001,
            "count": 0
           },
           {
            "bin_end": 0.9,
            "bin_start": 0.8,
            "count": 0
           },
           {
            "bin_end": 1,
            "bin_start": 0.9,
            "count": 2
           }
          ],
          "max": "1",
          "min": "0",
          "nan_count": 0,
          "unique_count": 2
         }
        },
        {
         "dtype": "int64",
         "name": "ACCESS_FINE_LOCATION",
         "stats": {
          "histogram": [
           {
            "bin_end": -0.4,
            "bin_start": -0.5,
            "count": 0
           },
           {
            "bin_end": -0.3,
            "bin_start": -0.4,
            "count": 0
           },
           {
            "bin_end": -0.19999999999999996,
            "bin_start": -0.3,
            "count": 0
           },
           {
            "bin_end": -0.09999999999999998,
            "bin_start": -0.19999999999999996,
            "count": 0
           },
           {
            "bin_end": 0,
            "bin_start": -0.09999999999999998,
            "count": 0
           },
           {
            "bin_end": 0.10000000000000009,
            "bin_start": 0,
            "count": 5
           },
           {
            "bin_end": 0.20000000000000007,
            "bin_start": 0.10000000000000009,
            "count": 0
           },
           {
            "bin_end": 0.30000000000000004,
            "bin_start": 0.20000000000000007,
            "count": 0
           },
           {
            "bin_end": 0.4,
            "bin_start": 0.30000000000000004,
            "count": 0
           },
           {
            "bin_end": 0.5,
            "bin_start": 0.4,
            "count": 0
           }
          ],
          "max": "0",
          "min": "0",
          "nan_count": 0,
          "unique_count": 1
         }
        },
        {
         "dtype": "int64",
         "name": "ACCESS_LOCATION_EXTRA_COMMANDS",
         "stats": {
          "histogram": [
           {
            "bin_end": 0.1,
            "bin_start": 0,
            "count": 4
           },
           {
            "bin_end": 0.2,
            "bin_start": 0.1,
            "count": 0
           },
           {
            "bin_end": 0.30000000000000004,
            "bin_start": 0.2,
            "count": 0
           },
           {
            "bin_end": 0.4,
            "bin_start": 0.30000000000000004,
            "count": 0
           },
           {
            "bin_end": 0.5,
            "bin_start": 0.4,
            "count": 0
           },
           {
            "bin_end": 0.6000000000000001,
            "bin_start": 0.5,
            "count": 0
           },
           {
            "bin_end": 0.7000000000000001,
            "bin_start": 0.6000000000000001,
            "count": 0
           },
           {
            "bin_end": 0.8,
            "bin_start": 0.7000000000000001,
            "count": 0
           },
           {
            "bin_end": 0.9,
            "bin_start": 0.8,
            "count": 0
           },
           {
            "bin_end": 1,
            "bin_start": 0.9,
            "count": 1
           }
          ],
          "max": "1",
          "min": "0",
          "nan_count": 0,
          "unique_count": 2
         }
        },
        {
         "dtype": "int64",
         "name": "ACCESS_MOCK_LOCATION",
         "stats": {
          "histogram": [
           {
            "bin_end": 0.1,
            "bin_start": 0,
            "count": 4
           },
           {
            "bin_end": 0.2,
            "bin_start": 0.1,
            "count": 0
           },
           {
            "bin_end": 0.30000000000000004,
            "bin_start": 0.2,
            "count": 0
           },
           {
            "bin_end": 0.4,
            "bin_start": 0.30000000000000004,
            "count": 0
           },
           {
            "bin_end": 0.5,
            "bin_start": 0.4,
            "count": 0
           },
           {
            "bin_end": 0.6000000000000001,
            "bin_start": 0.5,
            "count": 0
           },
           {
            "bin_end": 0.7000000000000001,
            "bin_start": 0.6000000000000001,
            "count": 0
           },
           {
            "bin_end": 0.8,
            "bin_start": 0.7000000000000001,
            "count": 0
           },
           {
            "bin_end": 0.9,
            "bin_start": 0.8,
            "count": 0
           },
           {
            "bin_end": 1,
            "bin_start": 0.9,
            "count": 1
           }
          ],
          "max": "1",
          "min": "0",
          "nan_count": 0,
          "unique_count": 2
         }
        },
        {
         "dtype": "int64",
         "name": "ACCESS_NETWORK_STATE",
         "stats": {
          "histogram": [
           {
            "bin_end": 0.6,
            "bin_start": 0.5,
            "count": 0
           },
           {
            "bin_end": 0.7,
            "bin_start": 0.6,
            "count": 0
           },
           {
            "bin_end": 0.8,
            "bin_start": 0.7,
            "count": 0
           },
           {
            "bin_end": 0.9,
            "bin_start": 0.8,
            "count": 0
           },
           {
            "bin_end": 1,
            "bin_start": 0.9,
            "count": 0
           },
           {
            "bin_end": 1.1,
            "bin_start": 1,
            "count": 5
           },
           {
            "bin_end": 1.2000000000000002,
            "bin_start": 1.1,
            "count": 0
           },
           {
            "bin_end": 1.3,
            "bin_start": 1.2000000000000002,
            "count": 0
           },
           {
            "bin_end": 1.4,
            "bin_start": 1.3,
            "count": 0
           },
           {
            "bin_end": 1.5,
            "bin_start": 1.4,
            "count": 0
           }
          ],
          "max": "1",
          "min": "1",
          "nan_count": 0,
          "unique_count": 1
         }
        },
        {
         "dtype": "int64",
         "name": "ACCESS_NOTIFICATION_POLICY",
         "stats": {
          "histogram": [
           {
            "bin_end": -0.4,
            "bin_start": -0.5,
            "count": 0
           },
           {
            "bin_end": -0.3,
            "bin_start": -0.4,
            "count": 0
           },
           {
            "bin_end": -0.19999999999999996,
            "bin_start": -0.3,
            "count": 0
           },
           {
            "bin_end": -0.09999999999999998,
            "bin_start": -0.19999999999999996,
            "count": 0
           },
           {
            "bin_end": 0,
            "bin_start": -0.09999999999999998,
            "count": 0
           },
           {
            "bin_end": 0.10000000000000009,
            "bin_start": 0,
            "count": 5
           },
           {
            "bin_end": 0.20000000000000007,
            "bin_start": 0.10000000000000009,
            "count": 0
           },
           {
            "bin_end": 0.30000000000000004,
            "bin_start": 0.20000000000000007,
            "count": 0
           },
           {
            "bin_end": 0.4,
            "bin_start": 0.30000000000000004,
            "count": 0
           },
           {
            "bin_end": 0.5,
            "bin_start": 0.4,
            "count": 0
           }
          ],
          "max": "0",
          "min": "0",
          "nan_count": 0,
          "unique_count": 1
         }
        },
        {
         "dtype": "int64",
         "name": "ACCESS_SURFACE_FLINGER",
         "stats": {
          "histogram": [
           {
            "bin_end": -0.4,
            "bin_start": -0.5,
            "count": 0
           },
           {
            "bin_end": -0.3,
            "bin_start": -0.4,
            "count": 0
           },
           {
            "bin_end": -0.19999999999999996,
            "bin_start": -0.3,
            "count": 0
           },
           {
            "bin_end": -0.09999999999999998,
            "bin_start": -0.19999999999999996,
            "count": 0
           },
           {
            "bin_end": 0,
            "bin_start": -0.09999999999999998,
            "count": 0
           },
           {
            "bin_end": 0.10000000000000009,
            "bin_start": 0,
            "count": 5
           },
           {
            "bin_end": 0.20000000000000007,
            "bin_start": 0.10000000000000009,
            "count": 0
           },
           {
            "bin_end": 0.30000000000000004,
            "bin_start": 0.20000000000000007,
            "count": 0
           },
           {
            "bin_end": 0.4,
            "bin_start": 0.30000000000000004,
            "count": 0
           },
           {
            "bin_end": 0.5,
            "bin_start": 0.4,
            "count": 0
           }
          ],
          "max": "0",
          "min": "0",
          "nan_count": 0,
          "unique_count": 1
         }
        },
        {
         "dtype": "int64",
         "name": "ACCESS_WIFI_STATE",
         "stats": {
          "histogram": [
           {
            "bin_end": -0.4,
            "bin_start": -0.5,
            "count": 0
           },
           {
            "bin_end": -0.3,
            "bin_start": -0.4,
            "count": 0
           },
           {
            "bin_end": -0.19999999999999996,
            "bin_start": -0.3,
            "count": 0
           },
           {
            "bin_end": -0.09999999999999998,
            "bin_start": -0.19999999999999996,
            "count": 0
           },
           {
            "bin_end": 0,
            "bin_start": -0.09999999999999998,
            "count": 0
           },
           {
            "bin_end": 0.10000000000000009,
            "bin_start": 0,
            "count": 5
           },
           {
            "bin_end": 0.20000000000000007,
            "bin_start": 0.10000000000000009,
            "count": 0
           },
           {
            "bin_end": 0.30000000000000004,
            "bin_start": 0.20000000000000007,
            "count": 0
           },
           {
            "bin_end": 0.4,
            "bin_start": 0.30000000000000004,
            "count": 0
           },
           {
            "bin_end": 0.5,
            "bin_start": 0.4,
            "count": 0
           }
          ],
          "max": "0",
          "min": "0",
          "nan_count": 0,
          "unique_count": 1
         }
        },
        {
         "dtype": "int64",
         "name": "ACCOUNT_MANAGER",
         "stats": {
          "histogram": [
           {
            "bin_end": 0.1,
            "bin_start": 0,
            "count": 4
           },
           {
            "bin_end": 0.2,
            "bin_start": 0.1,
            "count": 0
           },
           {
            "bin_end": 0.30000000000000004,
            "bin_start": 0.2,
            "count": 0
           },
           {
            "bin_end": 0.4,
            "bin_start": 0.30000000000000004,
            "count": 0
           },
           {
            "bin_end": 0.5,
            "bin_start": 0.4,
            "count": 0
           },
           {
            "bin_end": 0.6000000000000001,
            "bin_start": 0.5,
            "count": 0
           },
           {
            "bin_end": 0.7000000000000001,
            "bin_start": 0.6000000000000001,
            "count": 0
           },
           {
            "bin_end": 0.8,
            "bin_start": 0.7000000000000001,
            "count": 0
           },
           {
            "bin_end": 0.9,
            "bin_start": 0.8,
            "count": 0
           },
           {
            "bin_end": 1,
            "bin_start": 0.9,
            "count": 1
           }
          ],
          "max": "1",
          "min": "0",
          "nan_count": 0,
          "unique_count": 2
         }
        },
        {
         "dtype": "int64",
         "name": "ACTIVITY_RECOGNITION",
         "stats": {
          "histogram": [
           {
            "bin_end": 0.1,
            "bin_start": 0,
            "count": 4
           },
           {
            "bin_end": 0.2,
            "bin_start": 0.1,
            "count": 0
           },
           {
            "bin_end": 0.30000000000000004,
            "bin_start": 0.2,
            "count": 0
           },
           {
            "bin_end": 0.4,
            "bin_start": 0.30000000000000004,
            "count": 0
           },
           {
            "bin_end": 0.5,
            "bin_start": 0.4,
            "count": 0
           },
           {
            "bin_end": 0.6000000000000001,
            "bin_start": 0.5,
            "count": 0
           },
           {
            "bin_end": 0.7000000000000001,
            "bin_start": 0.6000000000000001,
            "count": 0
           },
           {
            "bin_end": 0.8,
            "bin_start": 0.7000000000000001,
            "count": 0
           },
           {
            "bin_end": 0.9,
            "bin_start": 0.8,
            "count": 0
           },
           {
            "bin_end": 1,
            "bin_start": 0.9,
            "count": 1
           }
          ],
          "max": "1",
          "min": "0",
          "nan_count": 0,
          "unique_count": 2
         }
        },
        {
         "dtype": "int64",
         "name": "ADD_SYSTEM_SERVICE",
         "stats": {
          "histogram": [
           {
            "bin_end": -0.4,
            "bin_start": -0.5,
            "count": 0
           },
           {
            "bin_end": -0.3,
            "bin_start": -0.4,
            "count": 0
           },
           {
            "bin_end": -0.19999999999999996,
            "bin_start": -0.3,
            "count": 0
           },
           {
            "bin_end": -0.09999999999999998,
            "bin_start": -0.19999999999999996,
            "count": 0
           },
           {
            "bin_end": 0,
            "bin_start": -0.09999999999999998,
            "count": 0
           },
           {
            "bin_end": 0.10000000000000009,
            "bin_start": 0,
            "count": 5
           },
           {
            "bin_end": 0.20000000000000007,
            "bin_start": 0.10000000000000009,
            "count": 0
           },
           {
            "bin_end": 0.30000000000000004,
            "bin_start": 0.20000000000000007,
            "count": 0
           },
           {
            "bin_end": 0.4,
            "bin_start": 0.30000000000000004,
            "count": 0
           },
           {
            "bin_end": 0.5,
            "bin_start": 0.4,
            "count": 0
           }
          ],
          "max": "0",
          "min": "0",
          "nan_count": 0,
          "unique_count": 1
         }
        },
        {
         "dtype": "int64",
         "name": "ADD_VOICEMAIL",
         "stats": {
          "histogram": [
           {
            "bin_end": 0.1,
            "bin_start": 0,
            "count": 4
           },
           {
            "bin_end": 0.2,
            "bin_start": 0.1,
            "count": 0
           },
           {
            "bin_end": 0.30000000000000004,
            "bin_start": 0.2,
            "count": 0
           },
           {
            "bin_end": 0.4,
            "bin_start": 0.30000000000000004,
            "count": 0
           },
           {
            "bin_end": 0.5,
            "bin_start": 0.4,
            "count": 0
           },
           {
            "bin_end": 0.6000000000000001,
            "bin_start": 0.5,
            "count": 0
           },
           {
            "bin_end": 0.7000000000000001,
            "bin_start": 0.6000000000000001,
            "count": 0
           },
           {
            "bin_end": 0.8,
            "bin_start": 0.7000000000000001,
            "count": 0
           },
           {
            "bin_end": 0.9,
            "bin_start": 0.8,
            "count": 0
           },
           {
            "bin_end": 1,
            "bin_start": 0.9,
            "count": 1
           }
          ],
          "max": "1",
          "min": "0",
          "nan_count": 0,
          "unique_count": 2
         }
        },
        {
         "dtype": "int64",
         "name": "ANSWER_PHONE_CALLS",
         "stats": {
          "histogram": [
           {
            "bin_end": -0.4,
            "bin_start": -0.5,
            "count": 0
           },
           {
            "bin_end": -0.3,
            "bin_start": -0.4,
            "count": 0
           },
           {
            "bin_end": -0.19999999999999996,
            "bin_start": -0.3,
            "count": 0
           },
           {
            "bin_end": -0.09999999999999998,
            "bin_start": -0.19999999999999996,
            "count": 0
           },
           {
            "bin_end": 0,
            "bin_start": -0.09999999999999998,
            "count": 0
           },
           {
            "bin_end": 0.10000000000000009,
            "bin_start": 0,
            "count": 5
           },
           {
            "bin_end": 0.20000000000000007,
            "bin_start": 0.10000000000000009,
            "count": 0
           },
           {
            "bin_end": 0.30000000000000004,
            "bin_start": 0.20000000000000007,
            "count": 0
           },
           {
            "bin_end": 0.4,
            "bin_start": 0.30000000000000004,
            "count": 0
           },
           {
            "bin_end": 0.5,
            "bin_start": 0.4,
            "count": 0
           }
          ],
          "max": "0",
          "min": "0",
          "nan_count": 0,
          "unique_count": 1
         }
        },
        {
         "dtype": "int64",
         "name": "AUTHENTICATE_ACCOUNTS",
         "stats": {
          "histogram": [
           {
            "bin_end": 0.1,
            "bin_start": 0,
            "count": 4
           },
           {
            "bin_end": 0.2,
            "bin_start": 0.1,
            "count": 0
           },
           {
            "bin_end": 0.30000000000000004,
            "bin_start": 0.2,
            "count": 0
           },
           {
            "bin_end": 0.4,
            "bin_start": 0.30000000000000004,
            "count": 0
           },
           {
            "bin_end": 0.5,
            "bin_start": 0.4,
            "count": 0
           },
           {
            "bin_end": 0.6000000000000001,
            "bin_start": 0.5,
            "count": 0
           },
           {
            "bin_end": 0.7000000000000001,
            "bin_start": 0.6000000000000001,
            "count": 0
           },
           {
            "bin_end": 0.8,
            "bin_start": 0.7000000000000001,
            "count": 0
           },
           {
            "bin_end": 0.9,
            "bin_start": 0.8,
            "count": 0
           },
           {
            "bin_end": 1,
            "bin_start": 0.9,
            "count": 1
           }
          ],
          "max": "1",
          "min": "0",
          "nan_count": 0,
          "unique_count": 2
         }
        },
        {
         "dtype": "int64",
         "name": "BATTERY_STATS",
         "stats": {
          "histogram": [
           {
            "bin_end": 0.1,
            "bin_start": 0,
            "count": 4
           },
           {
            "bin_end": 0.2,
            "bin_start": 0.1,
            "count": 0
           },
           {
            "bin_end": 0.30000000000000004,
            "bin_start": 0.2,
            "count": 0
           },
           {
            "bin_end": 0.4,
            "bin_start": 0.30000000000000004,
            "count": 0
           },
           {
            "bin_end": 0.5,
            "bin_start": 0.4,
            "count": 0
           },
           {
            "bin_end": 0.6000000000000001,
            "bin_start": 0.5,
            "count": 0
           },
           {
            "bin_end": 0.7000000000000001,
            "bin_start": 0.6000000000000001,
            "count": 0
           },
           {
            "bin_end": 0.8,
            "bin_start": 0.7000000000000001,
            "count": 0
           },
           {
            "bin_end": 0.9,
            "bin_start": 0.8,
            "count": 0
           },
           {
            "bin_end": 1,
            "bin_start": 0.9,
            "count": 1
           }
          ],
          "max": "1",
          "min": "0",
          "nan_count": 0,
          "unique_count": 2
         }
        },
        {
         "dtype": "int64",
         "name": "BIND_ACCESSIBILITY_SERVICE",
         "stats": {
          "histogram": [
           {
            "bin_end": -0.4,
            "bin_start": -0.5,
            "count": 0
           },
           {
            "bin_end": -0.3,
            "bin_start": -0.4,
            "count": 0
           },
           {
            "bin_end": -0.19999999999999996,
            "bin_start": -0.3,
            "count": 0
           },
           {
            "bin_end": -0.09999999999999998,
            "bin_start": -0.19999999999999996,
            "count": 0
           },
           {
            "bin_end": 0,
            "bin_start": -0.09999999999999998,
            "count": 0
           },
           {
            "bin_end": 0.10000000000000009,
            "bin_start": 0,
            "count": 5
           },
           {
            "bin_end": 0.20000000000000007,
            "bin_start": 0.10000000000000009,
            "count": 0
           },
           {
            "bin_end": 0.30000000000000004,
            "bin_start": 0.20000000000000007,
            "count": 0
           },
           {
            "bin_end": 0.4,
            "bin_start": 0.30000000000000004,
            "count": 0
           },
           {
            "bin_end": 0.5,
            "bin_start": 0.4,
            "count": 0
           }
          ],
          "max": "0",
          "min": "0",
          "nan_count": 0,
          "unique_count": 1
         }
        },
        {
         "dtype": "int64",
         "name": "BIND_APPWIDGET",
         "stats": {
          "histogram": [
           {
            "bin_end": 0.1,
            "bin_start": 0,
            "count": 4
           },
           {
            "bin_end": 0.2,
            "bin_start": 0.1,
            "count": 0
           },
           {
            "bin_end": 0.30000000000000004,
            "bin_start": 0.2,
            "count": 0
           },
           {
            "bin_end": 0.4,
            "bin_start": 0.30000000000000004,
            "count": 0
           },
           {
            "bin_end": 0.5,
            "bin_start": 0.4,
            "count": 0
           },
           {
            "bin_end": 0.6000000000000001,
            "bin_start": 0.5,
            "count": 0
           },
           {
            "bin_end": 0.7000000000000001,
            "bin_start": 0.6000000000000001,
            "count": 0
           },
           {
            "bin_end": 0.8,
            "bin_start": 0.7000000000000001,
            "count": 0
           },
           {
            "bin_end": 0.9,
            "bin_start": 0.8,
            "count": 0
           },
           {
            "bin_end": 1,
            "bin_start": 0.9,
            "count": 1
           }
          ],
          "max": "1",
          "min": "0",
          "nan_count": 0,
          "unique_count": 2
         }
        },
        {
         "dtype": "int64",
         "name": "BIND_CARRIER_MESSAGING_SERVICE",
         "stats": {
          "histogram": [
           {
            "bin_end": -0.4,
            "bin_start": -0.5,
            "count": 0
           },
           {
            "bin_end": -0.3,
            "bin_start": -0.4,
            "count": 0
           },
           {
            "bin_end": -0.19999999999999996,
            "bin_start": -0.3,
            "count": 0
           },
           {
            "bin_end": -0.09999999999999998,
            "bin_start": -0.19999999999999996,
            "count": 0
           },
           {
            "bin_end": 0,
            "bin_start": -0.09999999999999998,
            "count": 0
           },
           {
            "bin_end": 0.10000000000000009,
            "bin_start": 0,
            "count": 5
           },
           {
            "bin_end": 0.20000000000000007,
            "bin_start": 0.10000000000000009,
            "count": 0
           },
           {
            "bin_end": 0.30000000000000004,
            "bin_start": 0.20000000000000007,
            "count": 0
           },
           {
            "bin_end": 0.4,
            "bin_start": 0.30000000000000004,
            "count": 0
           },
           {
            "bin_end": 0.5,
            "bin_start": 0.4,
            "count": 0
           }
          ],
          "max": "0",
          "min": "0",
          "nan_count": 0,
          "unique_count": 1
         }
        },
        {
         "dtype": "int64",
         "name": "BIND_CHOOSER_TARGET_SERVICE",
         "stats": {
          "histogram": [
           {
            "bin_end": -0.4,
            "bin_start": -0.5,
            "count": 0
           },
           {
            "bin_end": -0.3,
            "bin_start": -0.4,
            "count": 0
           },
           {
            "bin_end": -0.19999999999999996,
            "bin_start": -0.3,
            "count": 0
           },
           {
            "bin_end": -0.09999999999999998,
            "bin_start": -0.19999999999999996,
            "count": 0
           },
           {
            "bin_end": 0,
            "bin_start": -0.09999999999999998,
            "count": 0
           },
           {
            "bin_end": 0.10000000000000009,
            "bin_start": 0,
            "count": 5
           },
           {
            "bin_end": 0.20000000000000007,
            "bin_start": 0.10000000000000009,
            "count": 0
           },
           {
            "bin_end": 0.30000000000000004,
            "bin_start": 0.20000000000000007,
            "count": 0
           },
           {
            "bin_end": 0.4,
            "bin_start": 0.30000000000000004,
            "count": 0
           },
           {
            "bin_end": 0.5,
            "bin_start": 0.4,
            "count": 0
           }
          ],
          "max": "0",
          "min": "0",
          "nan_count": 0,
          "unique_count": 1
         }
        },
        {
         "dtype": "int64",
         "name": "BIND_DEVICE_ADMIN",
         "stats": {
          "histogram": [
           {
            "bin_end": -0.4,
            "bin_start": -0.5,
            "count": 0
           },
           {
            "bin_end": -0.3,
            "bin_start": -0.4,
            "count": 0
           },
           {
            "bin_end": -0.19999999999999996,
            "bin_start": -0.3,
            "count": 0
           },
           {
            "bin_end": -0.09999999999999998,
            "bin_start": -0.19999999999999996,
            "count": 0
           },
           {
            "bin_end": 0,
            "bin_start": -0.09999999999999998,
            "count": 0
           },
           {
            "bin_end": 0.10000000000000009,
            "bin_start": 0,
            "count": 5
           },
           {
            "bin_end": 0.20000000000000007,
            "bin_start": 0.10000000000000009,
            "count": 0
           },
           {
            "bin_end": 0.30000000000000004,
            "bin_start": 0.20000000000000007,
            "count": 0
           },
           {
            "bin_end": 0.4,
            "bin_start": 0.30000000000000004,
            "count": 0
           },
           {
            "bin_end": 0.5,
            "bin_start": 0.4,
            "count": 0
           }
          ],
          "max": "0",
          "min": "0",
          "nan_count": 0,
          "unique_count": 1
         }
        },
        {
         "dtype": "int64",
         "name": "BIND_DREAM_SERVICE",
         "stats": {
          "histogram": [
           {
            "bin_end": -0.4,
            "bin_start": -0.5,
            "count": 0
           },
           {
            "bin_end": -0.3,
            "bin_start": -0.4,
            "count": 0
           },
           {
            "bin_end": -0.19999999999999996,
            "bin_start": -0.3,
            "count": 0
           },
           {
            "bin_end": -0.09999999999999998,
            "bin_start": -0.19999999999999996,
            "count": 0
           },
           {
            "bin_end": 0,
            "bin_start": -0.09999999999999998,
            "count": 0
           },
           {
            "bin_end": 0.10000000000000009,
            "bin_start": 0,
            "count": 5
           },
           {
            "bin_end": 0.20000000000000007,
            "bin_start": 0.10000000000000009,
            "count": 0
           },
           {
            "bin_end": 0.30000000000000004,
            "bin_start": 0.20000000000000007,
            "count": 0
           },
           {
            "bin_end": 0.4,
            "bin_start": 0.30000000000000004,
            "count": 0
           },
           {
            "bin_end": 0.5,
            "bin_start": 0.4,
            "count": 0
           }
          ],
          "max": "0",
          "min": "0",
          "nan_count": 0,
          "unique_count": 1
         }
        },
        {
         "dtype": "int64",
         "name": "BIND_INPUT_METHOD",
         "stats": {
          "histogram": [
           {
            "bin_end": -0.4,
            "bin_start": -0.5,
            "count": 0
           },
           {
            "bin_end": -0.3,
            "bin_start": -0.4,
            "count": 0
           },
           {
            "bin_end": -0.19999999999999996,
            "bin_start": -0.3,
            "count": 0
           },
           {
            "bin_end": -0.09999999999999998,
            "bin_start": -0.19999999999999996,
            "count": 0
           },
           {
            "bin_end": 0,
            "bin_start": -0.09999999999999998,
            "count": 0
           },
           {
            "bin_end": 0.10000000000000009,
            "bin_start": 0,
            "count": 5
           },
           {
            "bin_end": 0.20000000000000007,
            "bin_start": 0.10000000000000009,
            "count": 0
           },
           {
            "bin_end": 0.30000000000000004,
            "bin_start": 0.20000000000000007,
            "count": 0
           },
           {
            "bin_end": 0.4,
            "bin_start": 0.30000000000000004,
            "count": 0
           },
           {
            "bin_end": 0.5,
            "bin_start": 0.4,
            "count": 0
           }
          ],
          "max": "0",
          "min": "0",
          "nan_count": 0,
          "unique_count": 1
         }
        },
        {
         "dtype": "int64",
         "name": "BIND_NFC_SERVICE",
         "stats": {
          "histogram": [
           {
            "bin_end": -0.4,
            "bin_start": -0.5,
            "count": 0
           },
           {
            "bin_end": -0.3,
            "bin_start": -0.4,
            "count": 0
           },
           {
            "bin_end": -0.19999999999999996,
            "bin_start": -0.3,
            "count": 0
           },
           {
            "bin_end": -0.09999999999999998,
            "bin_start": -0.19999999999999996,
            "count": 0
           },
           {
            "bin_end": 0,
            "bin_start": -0.09999999999999998,
            "count": 0
           },
           {
            "bin_end": 0.10000000000000009,
            "bin_start": 0,
            "count": 5
           },
           {
            "bin_end": 0.20000000000000007,
            "bin_start": 0.10000000000000009,
            "count": 0
           },
           {
            "bin_end": 0.30000000000000004,
            "bin_start": 0.20000000000000007,
            "count": 0
           },
           {
            "bin_end": 0.4,
            "bin_start": 0.30000000000000004,
            "count": 0
           },
           {
            "bin_end": 0.5,
            "bin_start": 0.4,
            "count": 0
           }
          ],
          "max": "0",
          "min": "0",
          "nan_count": 0,
          "unique_count": 1
         }
        },
        {
         "dtype": "int64",
         "name": "BIND_NOTIFICATION_LISTENER_SERVICE",
         "stats": {
          "histogram": [
           {
            "bin_end": -0.4,
            "bin_start": -0.5,
            "count": 0
           },
           {
            "bin_end": -0.3,
            "bin_start": -0.4,
            "count": 0
           },
           {
            "bin_end": -0.19999999999999996,
            "bin_start": -0.3,
            "count": 0
           },
           {
            "bin_end": -0.09999999999999998,
            "bin_start": -0.19999999999999996,
            "count": 0
           },
           {
            "bin_end": 0,
            "bin_start": -0.09999999999999998,
            "count": 0
           },
           {
            "bin_end": 0.10000000000000009,
            "bin_start": 0,
            "count": 5
           },
           {
            "bin_end": 0.20000000000000007,
            "bin_start": 0.10000000000000009,
            "count": 0
           },
           {
            "bin_end": 0.30000000000000004,
            "bin_start": 0.20000000000000007,
            "count": 0
           },
           {
            "bin_end": 0.4,
            "bin_start": 0.30000000000000004,
            "count": 0
           },
           {
            "bin_end": 0.5,
            "bin_start": 0.4,
            "count": 0
           }
          ],
          "max": "0",
          "min": "0",
          "nan_count": 0,
          "unique_count": 1
         }
        },
        {
         "dtype": "int64",
         "name": "BIND_PRINT_SERVICE",
         "stats": {
          "histogram": [
           {
            "bin_end": -0.4,
            "bin_start": -0.5,
            "count": 0
           },
           {
            "bin_end": -0.3,
            "bin_start": -0.4,
            "count": 0
           },
           {
            "bin_end": -0.19999999999999996,
            "bin_start": -0.3,
            "count": 0
           },
           {
            "bin_end": -0.09999999999999998,
            "bin_start": -0.19999999999999996,
            "count": 0
           },
           {
            "bin_end": 0,
            "bin_start": -0.09999999999999998,
            "count": 0
           },
           {
            "bin_end": 0.10000000000000009,
            "bin_start": 0,
            "count": 5
           },
           {
            "bin_end": 0.20000000000000007,
            "bin_start": 0.10000000000000009,
            "count": 0
           },
           {
            "bin_end": 0.30000000000000004,
            "bin_start": 0.20000000000000007,
            "count": 0
           },
           {
            "bin_end": 0.4,
            "bin_start": 0.30000000000000004,
            "count": 0
           },
           {
            "bin_end": 0.5,
            "bin_start": 0.4,
            "count": 0
           }
          ],
          "max": "0",
          "min": "0",
          "nan_count": 0,
          "unique_count": 1
         }
        },
        {
         "dtype": "int64",
         "name": "BIND_REMOTEVIEWS",
         "stats": {
          "histogram": [
           {
            "bin_end": -0.4,
            "bin_start": -0.5,
            "count": 0
           },
           {
            "bin_end": -0.3,
            "bin_start": -0.4,
            "count": 0
           },
           {
            "bin_end": -0.19999999999999996,
            "bin_start": -0.3,
            "count": 0
           },
           {
            "bin_end": -0.09999999999999998,
            "bin_start": -0.19999999999999996,
            "count": 0
           },
           {
            "bin_end": 0,
            "bin_start": -0.09999999999999998,
            "count": 0
           },
           {
            "bin_end": 0.10000000000000009,
            "bin_start": 0,
            "count": 5
           },
           {
            "bin_end": 0.20000000000000007,
            "bin_start": 0.10000000000000009,
            "count": 0
           },
           {
            "bin_end": 0.30000000000000004,
            "bin_start": 0.20000000000000007,
            "count": 0
           },
           {
            "bin_end": 0.4,
            "bin_start": 0.30000000000000004,
            "count": 0
           },
           {
            "bin_end": 0.5,
            "bin_start": 0.4,
            "count": 0
           }
          ],
          "max": "0",
          "min": "0",
          "nan_count": 0,
          "unique_count": 1
         }
        },
        {
         "dtype": "int64",
         "name": "BIND_TEXT_SERVICE",
         "stats": {
          "histogram": [
           {
            "bin_end": -0.4,
            "bin_start": -0.5,
            "count": 0
           },
           {
            "bin_end": -0.3,
            "bin_start": -0.4,
            "count": 0
           },
           {
            "bin_end": -0.19999999999999996,
            "bin_start": -0.3,
            "count": 0
           },
           {
            "bin_end": -0.09999999999999998,
            "bin_start": -0.19999999999999996,
            "count": 0
           },
           {
            "bin_end": 0,
            "bin_start": -0.09999999999999998,
            "count": 0
           },
           {
            "bin_end": 0.10000000000000009,
            "bin_start": 0,
            "count": 5
           },
           {
            "bin_end": 0.20000000000000007,
            "bin_start": 0.10000000000000009,
            "count": 0
           },
           {
            "bin_end": 0.30000000000000004,
            "bin_start": 0.20000000000000007,
            "count": 0
           },
           {
            "bin_end": 0.4,
            "bin_start": 0.30000000000000004,
            "count": 0
           },
           {
            "bin_end": 0.5,
            "bin_start": 0.4,
            "count": 0
           }
          ],
          "max": "0",
          "min": "0",
          "nan_count": 0,
          "unique_count": 1
         }
        },
        {
         "dtype": "int64",
         "name": "BIND_TV_INPUT",
         "stats": {
          "histogram": [
           {
            "bin_end": -0.4,
            "bin_start": -0.5,
            "count": 0
           },
           {
            "bin_end": -0.3,
            "bin_start": -0.4,
            "count": 0
           },
           {
            "bin_end": -0.19999999999999996,
            "bin_start": -0.3,
            "count": 0
           },
           {
            "bin_end": -0.09999999999999998,
            "bin_start": -0.19999999999999996,
            "count": 0
           },
           {
            "bin_end": 0,
            "bin_start": -0.09999999999999998,
            "count": 0
           },
           {
            "bin_end": 0.10000000000000009,
            "bin_start": 0,
            "count": 5
           },
           {
            "bin_end": 0.20000000000000007,
            "bin_start": 0.10000000000000009,
            "count": 0
           },
           {
            "bin_end": 0.30000000000000004,
            "bin_start": 0.20000000000000007,
            "count": 0
           },
           {
            "bin_end": 0.4,
            "bin_start": 0.30000000000000004,
            "count": 0
           },
           {
            "bin_end": 0.5,
            "bin_start": 0.4,
            "count": 0
           }
          ],
          "max": "0",
          "min": "0",
          "nan_count": 0,
          "unique_count": 1
         }
        },
        {
         "dtype": "int64",
         "name": "BIND_VOICE_INTERACTION",
         "stats": {
          "histogram": [
           {
            "bin_end": -0.4,
            "bin_start": -0.5,
            "count": 0
           },
           {
            "bin_end": -0.3,
            "bin_start": -0.4,
            "count": 0
           },
           {
            "bin_end": -0.19999999999999996,
            "bin_start": -0.3,
            "count": 0
           },
           {
            "bin_end": -0.09999999999999998,
            "bin_start": -0.19999999999999996,
            "count": 0
           },
           {
            "bin_end": 0,
            "bin_start": -0.09999999999999998,
            "count": 0
           },
           {
            "bin_end": 0.10000000000000009,
            "bin_start": 0,
            "count": 5
           },
           {
            "bin_end": 0.20000000000000007,
            "bin_start": 0.10000000000000009,
            "count": 0
           },
           {
            "bin_end": 0.30000000000000004,
            "bin_start": 0.20000000000000007,
            "count": 0
           },
           {
            "bin_end": 0.4,
            "bin_start": 0.30000000000000004,
            "count": 0
           },
           {
            "bin_end": 0.5,
            "bin_start": 0.4,
            "count": 0
           }
          ],
          "max": "0",
          "min": "0",
          "nan_count": 0,
          "unique_count": 1
         }
        },
        {
         "dtype": "int64",
         "name": "BIND_VPN_SERVICE",
         "stats": {
          "histogram": [
           {
            "bin_end": -0.4,
            "bin_start": -0.5,
            "count": 0
           },
           {
            "bin_end": -0.3,
            "bin_start": -0.4,
            "count": 0
           },
           {
            "bin_end": -0.19999999999999996,
            "bin_start": -0.3,
            "count": 0
           },
           {
            "bin_end": -0.09999999999999998,
            "bin_start": -0.19999999999999996,
            "count": 0
           },
           {
            "bin_end": 0,
            "bin_start": -0.09999999999999998,
            "count": 0
           },
           {
            "bin_end": 0.10000000000000009,
            "bin_start": 0,
            "count": 5
           },
           {
            "bin_end": 0.20000000000000007,
            "bin_start": 0.10000000000000009,
            "count": 0
           },
           {
            "bin_end": 0.30000000000000004,
            "bin_start": 0.20000000000000007,
            "count": 0
           },
           {
            "bin_end": 0.4,
            "bin_start": 0.30000000000000004,
            "count": 0
           },
           {
            "bin_end": 0.5,
            "bin_start": 0.4,
            "count": 0
           }
          ],
          "max": "0",
          "min": "0",
          "nan_count": 0,
          "unique_count": 1
         }
        },
        {
         "dtype": "int64",
         "name": "BIND_WALLPAPER",
         "stats": {
          "histogram": [
           {
            "bin_end": -0.4,
            "bin_start": -0.5,
            "count": 0
           },
           {
            "bin_end": -0.3,
            "bin_start": -0.4,
            "count": 0
           },
           {
            "bin_end": -0.19999999999999996,
            "bin_start": -0.3,
            "count": 0
           },
           {
            "bin_end": -0.09999999999999998,
            "bin_start": -0.19999999999999996,
            "count": 0
           },
           {
            "bin_end": 0,
            "bin_start": -0.09999999999999998,
            "count": 0
           },
           {
            "bin_end": 0.10000000000000009,
            "bin_start": 0,
            "count": 5
           },
           {
            "bin_end": 0.20000000000000007,
            "bin_start": 0.10000000000000009,
            "count": 0
           },
           {
            "bin_end": 0.30000000000000004,
            "bin_start": 0.20000000000000007,
            "count": 0
           },
           {
            "bin_end": 0.4,
            "bin_start": 0.30000000000000004,
            "count": 0
           },
           {
            "bin_end": 0.5,
            "bin_start": 0.4,
            "count": 0
           }
          ],
          "max": "0",
          "min": "0",
          "nan_count": 0,
          "unique_count": 1
         }
        },
        {
         "dtype": "int64",
         "name": "BLUETOOTH",
         "stats": {
          "histogram": [
           {
            "bin_end": 0.1,
            "bin_start": 0,
            "count": 4
           },
           {
            "bin_end": 0.2,
            "bin_start": 0.1,
            "count": 0
           },
           {
            "bin_end": 0.30000000000000004,
            "bin_start": 0.2,
            "count": 0
           },
           {
            "bin_end": 0.4,
            "bin_start": 0.30000000000000004,
            "count": 0
           },
           {
            "bin_end": 0.5,
            "bin_start": 0.4,
            "count": 0
           },
           {
            "bin_end": 0.6000000000000001,
            "bin_start": 0.5,
            "count": 0
           },
           {
            "bin_end": 0.7000000000000001,
            "bin_start": 0.6000000000000001,
            "count": 0
           },
           {
            "bin_end": 0.8,
            "bin_start": 0.7000000000000001,
            "count": 0
           },
           {
            "bin_end": 0.9,
            "bin_start": 0.8,
            "count": 0
           },
           {
            "bin_end": 1,
            "bin_start": 0.9,
            "count": 1
           }
          ],
          "max": "1",
          "min": "0",
          "nan_count": 0,
          "unique_count": 2
         }
        },
        {
         "dtype": "int64",
         "name": "BLUETOOTH_ADMIN",
         "stats": {
          "histogram": [
           {
            "bin_end": 0.1,
            "bin_start": 0,
            "count": 4
           },
           {
            "bin_end": 0.2,
            "bin_start": 0.1,
            "count": 0
           },
           {
            "bin_end": 0.30000000000000004,
            "bin_start": 0.2,
            "count": 0
           },
           {
            "bin_end": 0.4,
            "bin_start": 0.30000000000000004,
            "count": 0
           },
           {
            "bin_end": 0.5,
            "bin_start": 0.4,
            "count": 0
           },
           {
            "bin_end": 0.6000000000000001,
            "bin_start": 0.5,
            "count": 0
           },
           {
            "bin_end": 0.7000000000000001,
            "bin_start": 0.6000000000000001,
            "count": 0
           },
           {
            "bin_end": 0.8,
            "bin_start": 0.7000000000000001,
            "count": 0
           },
           {
            "bin_end": 0.9,
            "bin_start": 0.8,
            "count": 0
           },
           {
            "bin_end": 1,
            "bin_start": 0.9,
            "count": 1
           }
          ],
          "max": "1",
          "min": "0",
          "nan_count": 0,
          "unique_count": 2
         }
        },
        {
         "dtype": "int64",
         "name": "BLUETOOTH_PRIVILEGED",
         "stats": {
          "histogram": [
           {
            "bin_end": -0.4,
            "bin_start": -0.5,
            "count": 0
           },
           {
            "bin_end": -0.3,
            "bin_start": -0.4,
            "count": 0
           },
           {
            "bin_end": -0.19999999999999996,
            "bin_start": -0.3,
            "count": 0
           },
           {
            "bin_end": -0.09999999999999998,
            "bin_start": -0.19999999999999996,
            "count": 0
           },
           {
            "bin_end": 0,
            "bin_start": -0.09999999999999998,
            "count": 0
           },
           {
            "bin_end": 0.10000000000000009,
            "bin_start": 0,
            "count": 5
           },
           {
            "bin_end": 0.20000000000000007,
            "bin_start": 0.10000000000000009,
            "count": 0
           },
           {
            "bin_end": 0.30000000000000004,
            "bin_start": 0.20000000000000007,
            "count": 0
           },
           {
            "bin_end": 0.4,
            "bin_start": 0.30000000000000004,
            "count": 0
           },
           {
            "bin_end": 0.5,
            "bin_start": 0.4,
            "count": 0
           }
          ],
          "max": "0",
          "min": "0",
          "nan_count": 0,
          "unique_count": 1
         }
        },
        {
         "dtype": "int64",
         "name": "BODY_SENSORS",
         "stats": {
          "histogram": [
           {
            "bin_end": 0.1,
            "bin_start": 0,
            "count": 4
           },
           {
            "bin_end": 0.2,
            "bin_start": 0.1,
            "count": 0
           },
           {
            "bin_end": 0.30000000000000004,
            "bin_start": 0.2,
            "count": 0
           },
           {
            "bin_end": 0.4,
            "bin_start": 0.30000000000000004,
            "count": 0
           },
           {
            "bin_end": 0.5,
            "bin_start": 0.4,
            "count": 0
           },
           {
            "bin_end": 0.6000000000000001,
            "bin_start": 0.5,
            "count": 0
           },
           {
            "bin_end": 0.7000000000000001,
            "bin_start": 0.6000000000000001,
            "count": 0
           },
           {
            "bin_end": 0.8,
            "bin_start": 0.7000000000000001,
            "count": 0
           },
           {
            "bin_end": 0.9,
            "bin_start": 0.8,
            "count": 0
           },
           {
            "bin_end": 1,
            "bin_start": 0.9,
            "count": 1
           }
          ],
          "max": "1",
          "min": "0",
          "nan_count": 0,
          "unique_count": 2
         }
        },
        {
         "dtype": "int64",
         "name": "BRICK",
         "stats": {
          "histogram": [
           {
            "bin_end": -0.4,
            "bin_start": -0.5,
            "count": 0
           },
           {
            "bin_end": -0.3,
            "bin_start": -0.4,
            "count": 0
           },
           {
            "bin_end": -0.19999999999999996,
            "bin_start": -0.3,
            "count": 0
           },
           {
            "bin_end": -0.09999999999999998,
            "bin_start": -0.19999999999999996,
            "count": 0
           },
           {
            "bin_end": 0,
            "bin_start": -0.09999999999999998,
            "count": 0
           },
           {
            "bin_end": 0.10000000000000009,
            "bin_start": 0,
            "count": 5
           },
           {
            "bin_end": 0.20000000000000007,
            "bin_start": 0.10000000000000009,
            "count": 0
           },
           {
            "bin_end": 0.30000000000000004,
            "bin_start": 0.20000000000000007,
            "count": 0
           },
           {
            "bin_end": 0.4,
            "bin_start": 0.30000000000000004,
            "count": 0
           },
           {
            "bin_end": 0.5,
            "bin_start": 0.4,
            "count": 0
           }
          ],
          "max": "0",
          "min": "0",
          "nan_count": 0,
          "unique_count": 1
         }
        },
        {
         "dtype": "int64",
         "name": "BROADCAST_PACKAGE_REMOVED",
         "stats": {
          "histogram": [
           {
            "bin_end": -0.4,
            "bin_start": -0.5,
            "count": 0
           },
           {
            "bin_end": -0.3,
            "bin_start": -0.4,
            "count": 0
           },
           {
            "bin_end": -0.19999999999999996,
            "bin_start": -0.3,
            "count": 0
           },
           {
            "bin_end": -0.09999999999999998,
            "bin_start": -0.19999999999999996,
            "count": 0
           },
           {
            "bin_end": 0,
            "bin_start": -0.09999999999999998,
            "count": 0
           },
           {
            "bin_end": 0.10000000000000009,
            "bin_start": 0,
            "count": 5
           },
           {
            "bin_end": 0.20000000000000007,
            "bin_start": 0.10000000000000009,
            "count": 0
           },
           {
            "bin_end": 0.30000000000000004,
            "bin_start": 0.20000000000000007,
            "count": 0
           },
           {
            "bin_end": 0.4,
            "bin_start": 0.30000000000000004,
            "count": 0
           },
           {
            "bin_end": 0.5,
            "bin_start": 0.4,
            "count": 0
           }
          ],
          "max": "0",
          "min": "0",
          "nan_count": 0,
          "unique_count": 1
         }
        },
        {
         "dtype": "int64",
         "name": "BROADCAST_SMS",
         "stats": {
          "histogram": [
           {
            "bin_end": -0.4,
            "bin_start": -0.5,
            "count": 0
           },
           {
            "bin_end": -0.3,
            "bin_start": -0.4,
            "count": 0
           },
           {
            "bin_end": -0.19999999999999996,
            "bin_start": -0.3,
            "count": 0
           },
           {
            "bin_end": -0.09999999999999998,
            "bin_start": -0.19999999999999996,
            "count": 0
           },
           {
            "bin_end": 0,
            "bin_start": -0.09999999999999998,
            "count": 0
           },
           {
            "bin_end": 0.10000000000000009,
            "bin_start": 0,
            "count": 5
           },
           {
            "bin_end": 0.20000000000000007,
            "bin_start": 0.10000000000000009,
            "count": 0
           },
           {
            "bin_end": 0.30000000000000004,
            "bin_start": 0.20000000000000007,
            "count": 0
           },
           {
            "bin_end": 0.4,
            "bin_start": 0.30000000000000004,
            "count": 0
           },
           {
            "bin_end": 0.5,
            "bin_start": 0.4,
            "count": 0
           }
          ],
          "max": "0",
          "min": "0",
          "nan_count": 0,
          "unique_count": 1
         }
        },
        {
         "dtype": "int64",
         "name": "BROADCAST_STICKY",
         "stats": {
          "histogram": [
           {
            "bin_end": 0.1,
            "bin_start": 0,
            "count": 4
           },
           {
            "bin_end": 0.2,
            "bin_start": 0.1,
            "count": 0
           },
           {
            "bin_end": 0.30000000000000004,
            "bin_start": 0.2,
            "count": 0
           },
           {
            "bin_end": 0.4,
            "bin_start": 0.30000000000000004,
            "count": 0
           },
           {
            "bin_end": 0.5,
            "bin_start": 0.4,
            "count": 0
           },
           {
            "bin_end": 0.6000000000000001,
            "bin_start": 0.5,
            "count": 0
           },
           {
            "bin_end": 0.7000000000000001,
            "bin_start": 0.6000000000000001,
            "count": 0
           },
           {
            "bin_end": 0.8,
            "bin_start": 0.7000000000000001,
            "count": 0
           },
           {
            "bin_end": 0.9,
            "bin_start": 0.8,
            "count": 0
           },
           {
            "bin_end": 1,
            "bin_start": 0.9,
            "count": 1
           }
          ],
          "max": "1",
          "min": "0",
          "nan_count": 0,
          "unique_count": 2
         }
        },
        {
         "dtype": "int64",
         "name": "BROADCAST_WAP_PUSH",
         "stats": {
          "histogram": [
           {
            "bin_end": -0.4,
            "bin_start": -0.5,
            "count": 0
           },
           {
            "bin_end": -0.3,
            "bin_start": -0.4,
            "count": 0
           },
           {
            "bin_end": -0.19999999999999996,
            "bin_start": -0.3,
            "count": 0
           },
           {
            "bin_end": -0.09999999999999998,
            "bin_start": -0.19999999999999996,
            "count": 0
           },
           {
            "bin_end": 0,
            "bin_start": -0.09999999999999998,
            "count": 0
           },
           {
            "bin_end": 0.10000000000000009,
            "bin_start": 0,
            "count": 5
           },
           {
            "bin_end": 0.20000000000000007,
            "bin_start": 0.10000000000000009,
            "count": 0
           },
           {
            "bin_end": 0.30000000000000004,
            "bin_start": 0.20000000000000007,
            "count": 0
           },
           {
            "bin_end": 0.4,
            "bin_start": 0.30000000000000004,
            "count": 0
           },
           {
            "bin_end": 0.5,
            "bin_start": 0.4,
            "count": 0
           }
          ],
          "max": "0",
          "min": "0",
          "nan_count": 0,
          "unique_count": 1
         }
        },
        {
         "dtype": "int64",
         "name": "CALL_PHONE",
         "stats": {
          "histogram": [
           {
            "bin_end": 0.1,
            "bin_start": 0,
            "count": 4
           },
           {
            "bin_end": 0.2,
            "bin_start": 0.1,
            "count": 0
           },
           {
            "bin_end": 0.30000000000000004,
            "bin_start": 0.2,
            "count": 0
           },
           {
            "bin_end": 0.4,
            "bin_start": 0.30000000000000004,
            "count": 0
           },
           {
            "bin_end": 0.5,
            "bin_start": 0.4,
            "count": 0
           },
           {
            "bin_end": 0.6000000000000001,
            "bin_start": 0.5,
            "count": 0
           },
           {
            "bin_end": 0.7000000000000001,
            "bin_start": 0.6000000000000001,
            "count": 0
           },
           {
            "bin_end": 0.8,
            "bin_start": 0.7000000000000001,
            "count": 0
           },
           {
            "bin_end": 0.9,
            "bin_start": 0.8,
            "count": 0
           },
           {
            "bin_end": 1,
            "bin_start": 0.9,
            "count": 1
           }
          ],
          "max": "1",
          "min": "0",
          "nan_count": 0,
          "unique_count": 2
         }
        },
        {
         "dtype": "int64",
         "name": "CALL_PRIVILEGED",
         "stats": {
          "histogram": [
           {
            "bin_end": -0.4,
            "bin_start": -0.5,
            "count": 0
           },
           {
            "bin_end": -0.3,
            "bin_start": -0.4,
            "count": 0
           },
           {
            "bin_end": -0.19999999999999996,
            "bin_start": -0.3,
            "count": 0
           },
           {
            "bin_end": -0.09999999999999998,
            "bin_start": -0.19999999999999996,
            "count": 0
           },
           {
            "bin_end": 0,
            "bin_start": -0.09999999999999998,
            "count": 0
           },
           {
            "bin_end": 0.10000000000000009,
            "bin_start": 0,
            "count": 5
           },
           {
            "bin_end": 0.20000000000000007,
            "bin_start": 0.10000000000000009,
            "count": 0
           },
           {
            "bin_end": 0.30000000000000004,
            "bin_start": 0.20000000000000007,
            "count": 0
           },
           {
            "bin_end": 0.4,
            "bin_start": 0.30000000000000004,
            "count": 0
           },
           {
            "bin_end": 0.5,
            "bin_start": 0.4,
            "count": 0
           }
          ],
          "max": "0",
          "min": "0",
          "nan_count": 0,
          "unique_count": 1
         }
        },
        {
         "dtype": "int64",
         "name": "CAMERA",
         "stats": {
          "histogram": [
           {
            "bin_end": 0.1,
            "bin_start": 0,
            "count": 4
           },
           {
            "bin_end": 0.2,
            "bin_start": 0.1,
            "count": 0
           },
           {
            "bin_end": 0.30000000000000004,
            "bin_start": 0.2,
            "count": 0
           },
           {
            "bin_end": 0.4,
            "bin_start": 0.30000000000000004,
            "count": 0
           },
           {
            "bin_end": 0.5,
            "bin_start": 0.4,
            "count": 0
           },
           {
            "bin_end": 0.6000000000000001,
            "bin_start": 0.5,
            "count": 0
           },
           {
            "bin_end": 0.7000000000000001,
            "bin_start": 0.6000000000000001,
            "count": 0
           },
           {
            "bin_end": 0.8,
            "bin_start": 0.7000000000000001,
            "count": 0
           },
           {
            "bin_end": 0.9,
            "bin_start": 0.8,
            "count": 0
           },
           {
            "bin_end": 1,
            "bin_start": 0.9,
            "count": 1
           }
          ],
          "max": "1",
          "min": "0",
          "nan_count": 0,
          "unique_count": 2
         }
        },
        {
         "dtype": "int64",
         "name": "CAPTURE_AUDIO_OUTPUT",
         "stats": {
          "histogram": [
           {
            "bin_end": -0.4,
            "bin_start": -0.5,
            "count": 0
           },
           {
            "bin_end": -0.3,
            "bin_start": -0.4,
            "count": 0
           },
           {
            "bin_end": -0.19999999999999996,
            "bin_start": -0.3,
            "count": 0
           },
           {
            "bin_end": -0.09999999999999998,
            "bin_start": -0.19999999999999996,
            "count": 0
           },
           {
            "bin_end": 0,
            "bin_start": -0.09999999999999998,
            "count": 0
           },
           {
            "bin_end": 0.10000000000000009,
            "bin_start": 0,
            "count": 5
           },
           {
            "bin_end": 0.20000000000000007,
            "bin_start": 0.10000000000000009,
            "count": 0
           },
           {
            "bin_end": 0.30000000000000004,
            "bin_start": 0.20000000000000007,
            "count": 0
           },
           {
            "bin_end": 0.4,
            "bin_start": 0.30000000000000004,
            "count": 0
           },
           {
            "bin_end": 0.5,
            "bin_start": 0.4,
            "count": 0
           }
          ],
          "max": "0",
          "min": "0",
          "nan_count": 0,
          "unique_count": 1
         }
        },
        {
         "dtype": "int64",
         "name": "CAPTURE_SECURE_VIDEO_OUTPUT",
         "stats": {
          "histogram": [
           {
            "bin_end": -0.4,
            "bin_start": -0.5,
            "count": 0
           },
           {
            "bin_end": -0.3,
            "bin_start": -0.4,
            "count": 0
           },
           {
            "bin_end": -0.19999999999999996,
            "bin_start": -0.3,
            "count": 0
           },
           {
            "bin_end": -0.09999999999999998,
            "bin_start": -0.19999999999999996,
            "count": 0
           },
           {
            "bin_end": 0,
            "bin_start": -0.09999999999999998,
            "count": 0
           },
           {
            "bin_end": 0.10000000000000009,
            "bin_start": 0,
            "count": 5
           },
           {
            "bin_end": 0.20000000000000007,
            "bin_start": 0.10000000000000009,
            "count": 0
           },
           {
            "bin_end": 0.30000000000000004,
            "bin_start": 0.20000000000000007,
            "count": 0
           },
           {
            "bin_end": 0.4,
            "bin_start": 0.30000000000000004,
            "count": 0
           },
           {
            "bin_end": 0.5,
            "bin_start": 0.4,
            "count": 0
           }
          ],
          "max": "0",
          "min": "0",
          "nan_count": 0,
          "unique_count": 1
         }
        },
        {
         "dtype": "int64",
         "name": "CAPTURE_VIDEO_OUTPUT",
         "stats": {
          "histogram": [
           {
            "bin_end": -0.4,
            "bin_start": -0.5,
            "count": 0
           },
           {
            "bin_end": -0.3,
            "bin_start": -0.4,
            "count": 0
           },
           {
            "bin_end": -0.19999999999999996,
            "bin_start": -0.3,
            "count": 0
           },
           {
            "bin_end": -0.09999999999999998,
            "bin_start": -0.19999999999999996,
            "count": 0
           },
           {
            "bin_end": 0,
            "bin_start": -0.09999999999999998,
            "count": 0
           },
           {
            "bin_end": 0.10000000000000009,
            "bin_start": 0,
            "count": 5
           },
           {
            "bin_end": 0.20000000000000007,
            "bin_start": 0.10000000000000009,
            "count": 0
           },
           {
            "bin_end": 0.30000000000000004,
            "bin_start": 0.20000000000000007,
            "count": 0
           },
           {
            "bin_end": 0.4,
            "bin_start": 0.30000000000000004,
            "count": 0
           },
           {
            "bin_end": 0.5,
            "bin_start": 0.4,
            "count": 0
           }
          ],
          "max": "0",
          "min": "0",
          "nan_count": 0,
          "unique_count": 1
         }
        },
        {
         "dtype": "int64",
         "name": "CHANGE_COMPONENT_ENABLED_STATE",
         "stats": {
          "histogram": [
           {
            "bin_end": -0.4,
            "bin_start": -0.5,
            "count": 0
           },
           {
            "bin_end": -0.3,
            "bin_start": -0.4,
            "count": 0
           },
           {
            "bin_end": -0.19999999999999996,
            "bin_start": -0.3,
            "count": 0
           },
           {
            "bin_end": -0.09999999999999998,
            "bin_start": -0.19999999999999996,
            "count": 0
           },
           {
            "bin_end": 0,
            "bin_start": -0.09999999999999998,
            "count": 0
           },
           {
            "bin_end": 0.10000000000000009,
            "bin_start": 0,
            "count": 5
           },
           {
            "bin_end": 0.20000000000000007,
            "bin_start": 0.10000000000000009,
            "count": 0
           },
           {
            "bin_end": 0.30000000000000004,
            "bin_start": 0.20000000000000007,
            "count": 0
           },
           {
            "bin_end": 0.4,
            "bin_start": 0.30000000000000004,
            "count": 0
           },
           {
            "bin_end": 0.5,
            "bin_start": 0.4,
            "count": 0
           }
          ],
          "max": "0",
          "min": "0",
          "nan_count": 0,
          "unique_count": 1
         }
        },
        {
         "dtype": "int64",
         "name": "CHANGE_CONFIGURATION",
         "stats": {
          "histogram": [
           {
            "bin_end": 0.1,
            "bin_start": 0,
            "count": 4
           },
           {
            "bin_end": 0.2,
            "bin_start": 0.1,
            "count": 0
           },
           {
            "bin_end": 0.30000000000000004,
            "bin_start": 0.2,
            "count": 0
           },
           {
            "bin_end": 0.4,
            "bin_start": 0.30000000000000004,
            "count": 0
           },
           {
            "bin_end": 0.5,
            "bin_start": 0.4,
            "count": 0
           },
           {
            "bin_end": 0.6000000000000001,
            "bin_start": 0.5,
            "count": 0
           },
           {
            "bin_end": 0.7000000000000001,
            "bin_start": 0.6000000000000001,
            "count": 0
           },
           {
            "bin_end": 0.8,
            "bin_start": 0.7000000000000001,
            "count": 0
           },
           {
            "bin_end": 0.9,
            "bin_start": 0.8,
            "count": 0
           },
           {
            "bin_end": 1,
            "bin_start": 0.9,
            "count": 1
           }
          ],
          "max": "1",
          "min": "0",
          "nan_count": 0,
          "unique_count": 2
         }
        },
        {
         "dtype": "int64",
         "name": "CHANGE_NETWORK_STATE",
         "stats": {
          "histogram": [
           {
            "bin_end": 0.1,
            "bin_start": 0,
            "count": 4
           },
           {
            "bin_end": 0.2,
            "bin_start": 0.1,
            "count": 0
           },
           {
            "bin_end": 0.30000000000000004,
            "bin_start": 0.2,
            "count": 0
           },
           {
            "bin_end": 0.4,
            "bin_start": 0.30000000000000004,
            "count": 0
           },
           {
            "bin_end": 0.5,
            "bin_start": 0.4,
            "count": 0
           },
           {
            "bin_end": 0.6000000000000001,
            "bin_start": 0.5,
            "count": 0
           },
           {
            "bin_end": 0.7000000000000001,
            "bin_start": 0.6000000000000001,
            "count": 0
           },
           {
            "bin_end": 0.8,
            "bin_start": 0.7000000000000001,
            "count": 0
           },
           {
            "bin_end": 0.9,
            "bin_start": 0.8,
            "count": 0
           },
           {
            "bin_end": 1,
            "bin_start": 0.9,
            "count": 1
           }
          ],
          "max": "1",
          "min": "0",
          "nan_count": 0,
          "unique_count": 2
         }
        },
        {
         "dtype": "int64",
         "name": "CHANGE_WIFI_MULTICAST_STATE",
         "stats": {
          "histogram": [
           {
            "bin_end": 0.1,
            "bin_start": 0,
            "count": 4
           },
           {
            "bin_end": 0.2,
            "bin_start": 0.1,
            "count": 0
           },
           {
            "bin_end": 0.30000000000000004,
            "bin_start": 0.2,
            "count": 0
           },
           {
            "bin_end": 0.4,
            "bin_start": 0.30000000000000004,
            "count": 0
           },
           {
            "bin_end": 0.5,
            "bin_start": 0.4,
            "count": 0
           },
           {
            "bin_end": 0.6000000000000001,
            "bin_start": 0.5,
            "count": 0
           },
           {
            "bin_end": 0.7000000000000001,
            "bin_start": 0.6000000000000001,
            "count": 0
           },
           {
            "bin_end": 0.8,
            "bin_start": 0.7000000000000001,
            "count": 0
           },
           {
            "bin_end": 0.9,
            "bin_start": 0.8,
            "count": 0
           },
           {
            "bin_end": 1,
            "bin_start": 0.9,
            "count": 1
           }
          ],
          "max": "1",
          "min": "0",
          "nan_count": 0,
          "unique_count": 2
         }
        },
        {
         "dtype": "int64",
         "name": "CHANGE_WIFI_STATE",
         "stats": {
          "histogram": [
           {
            "bin_end": 0.1,
            "bin_start": 0,
            "count": 4
           },
           {
            "bin_end": 0.2,
            "bin_start": 0.1,
            "count": 0
           },
           {
            "bin_end": 0.30000000000000004,
            "bin_start": 0.2,
            "count": 0
           },
           {
            "bin_end": 0.4,
            "bin_start": 0.30000000000000004,
            "count": 0
           },
           {
            "bin_end": 0.5,
            "bin_start": 0.4,
            "count": 0
           },
           {
            "bin_end": 0.6000000000000001,
            "bin_start": 0.5,
            "count": 0
           },
           {
            "bin_end": 0.7000000000000001,
            "bin_start": 0.6000000000000001,
            "count": 0
           },
           {
            "bin_end": 0.8,
            "bin_start": 0.7000000000000001,
            "count": 0
           },
           {
            "bin_end": 0.9,
            "bin_start": 0.8,
            "count": 0
           },
           {
            "bin_end": 1,
            "bin_start": 0.9,
            "count": 1
           }
          ],
          "max": "1",
          "min": "0",
          "nan_count": 0,
          "unique_count": 2
         }
        },
        {
         "dtype": "int64",
         "name": "CLEAR_APP_CACHE",
         "stats": {
          "histogram": [
           {
            "bin_end": 0.1,
            "bin_start": 0,
            "count": 4
           },
           {
            "bin_end": 0.2,
            "bin_start": 0.1,
            "count": 0
           },
           {
            "bin_end": 0.30000000000000004,
            "bin_start": 0.2,
            "count": 0
           },
           {
            "bin_end": 0.4,
            "bin_start": 0.30000000000000004,
            "count": 0
           },
           {
            "bin_end": 0.5,
            "bin_start": 0.4,
            "count": 0
           },
           {
            "bin_end": 0.6000000000000001,
            "bin_start": 0.5,
            "count": 0
           },
           {
            "bin_end": 0.7000000000000001,
            "bin_start": 0.6000000000000001,
            "count": 0
           },
           {
            "bin_end": 0.8,
            "bin_start": 0.7000000000000001,
            "count": 0
           },
           {
            "bin_end": 0.9,
            "bin_start": 0.8,
            "count": 0
           },
           {
            "bin_end": 1,
            "bin_start": 0.9,
            "count": 1
           }
          ],
          "max": "1",
          "min": "0",
          "nan_count": 0,
          "unique_count": 2
         }
        },
        {
         "dtype": "int64",
         "name": "CLEAR_APP_USER_DATA",
         "stats": {
          "histogram": [
           {
            "bin_end": 0.1,
            "bin_start": 0,
            "count": 4
           },
           {
            "bin_end": 0.2,
            "bin_start": 0.1,
            "count": 0
           },
           {
            "bin_end": 0.30000000000000004,
            "bin_start": 0.2,
            "count": 0
           },
           {
            "bin_end": 0.4,
            "bin_start": 0.30000000000000004,
            "count": 0
           },
           {
            "bin_end": 0.5,
            "bin_start": 0.4,
            "count": 0
           },
           {
            "bin_end": 0.6000000000000001,
            "bin_start": 0.5,
            "count": 0
           },
           {
            "bin_end": 0.7000000000000001,
            "bin_start": 0.6000000000000001,
            "count": 0
           },
           {
            "bin_end": 0.8,
            "bin_start": 0.7000000000000001,
            "count": 0
           },
           {
            "bin_end": 0.9,
            "bin_start": 0.8,
            "count": 0
           },
           {
            "bin_end": 1,
            "bin_start": 0.9,
            "count": 1
           }
          ],
          "max": "1",
          "min": "0",
          "nan_count": 0,
          "unique_count": 2
         }
        },
        {
         "dtype": "int64",
         "name": "CONTROL_LOCATION_UPDATES",
         "stats": {
          "histogram": [
           {
            "bin_end": -0.4,
            "bin_start": -0.5,
            "count": 0
           },
           {
            "bin_end": -0.3,
            "bin_start": -0.4,
            "count": 0
           },
           {
            "bin_end": -0.19999999999999996,
            "bin_start": -0.3,
            "count": 0
           },
           {
            "bin_end": -0.09999999999999998,
            "bin_start": -0.19999999999999996,
            "count": 0
           },
           {
            "bin_end": 0,
            "bin_start": -0.09999999999999998,
            "count": 0
           },
           {
            "bin_end": 0.10000000000000009,
            "bin_start": 0,
            "count": 5
           },
           {
            "bin_end": 0.20000000000000007,
            "bin_start": 0.10000000000000009,
            "count": 0
           },
           {
            "bin_end": 0.30000000000000004,
            "bin_start": 0.20000000000000007,
            "count": 0
           },
           {
            "bin_end": 0.4,
            "bin_start": 0.30000000000000004,
            "count": 0
           },
           {
            "bin_end": 0.5,
            "bin_start": 0.4,
            "count": 0
           }
          ],
          "max": "0",
          "min": "0",
          "nan_count": 0,
          "unique_count": 1
         }
        },
        {
         "dtype": "int64",
         "name": "DELETE_CACHE_FILES",
         "stats": {
          "histogram": [
           {
            "bin_end": -0.4,
            "bin_start": -0.5,
            "count": 0
           },
           {
            "bin_end": -0.3,
            "bin_start": -0.4,
            "count": 0
           },
           {
            "bin_end": -0.19999999999999996,
            "bin_start": -0.3,
            "count": 0
           },
           {
            "bin_end": -0.09999999999999998,
            "bin_start": -0.19999999999999996,
            "count": 0
           },
           {
            "bin_end": 0,
            "bin_start": -0.09999999999999998,
            "count": 0
           },
           {
            "bin_end": 0.10000000000000009,
            "bin_start": 0,
            "count": 5
           },
           {
            "bin_end": 0.20000000000000007,
            "bin_start": 0.10000000000000009,
            "count": 0
           },
           {
            "bin_end": 0.30000000000000004,
            "bin_start": 0.20000000000000007,
            "count": 0
           },
           {
            "bin_end": 0.4,
            "bin_start": 0.30000000000000004,
            "count": 0
           },
           {
            "bin_end": 0.5,
            "bin_start": 0.4,
            "count": 0
           }
          ],
          "max": "0",
          "min": "0",
          "nan_count": 0,
          "unique_count": 1
         }
        },
        {
         "dtype": "int64",
         "name": "DELETE_PACKAGES",
         "stats": {
          "histogram": [
           {
            "bin_end": 0.1,
            "bin_start": 0,
            "count": 4
           },
           {
            "bin_end": 0.2,
            "bin_start": 0.1,
            "count": 0
           },
           {
            "bin_end": 0.30000000000000004,
            "bin_start": 0.2,
            "count": 0
           },
           {
            "bin_end": 0.4,
            "bin_start": 0.30000000000000004,
            "count": 0
           },
           {
            "bin_end": 0.5,
            "bin_start": 0.4,
            "count": 0
           },
           {
            "bin_end": 0.6000000000000001,
            "bin_start": 0.5,
            "count": 0
           },
           {
            "bin_end": 0.7000000000000001,
            "bin_start": 0.6000000000000001,
            "count": 0
           },
           {
            "bin_end": 0.8,
            "bin_start": 0.7000000000000001,
            "count": 0
           },
           {
            "bin_end": 0.9,
            "bin_start": 0.8,
            "count": 0
           },
           {
            "bin_end": 1,
            "bin_start": 0.9,
            "count": 1
           }
          ],
          "max": "1",
          "min": "0",
          "nan_count": 0,
          "unique_count": 2
         }
        },
        {
         "dtype": "int64",
         "name": "DEVICE_POWER",
         "stats": {
          "histogram": [
           {
            "bin_end": 0.1,
            "bin_start": 0,
            "count": 4
           },
           {
            "bin_end": 0.2,
            "bin_start": 0.1,
            "count": 0
           },
           {
            "bin_end": 0.30000000000000004,
            "bin_start": 0.2,
            "count": 0
           },
           {
            "bin_end": 0.4,
            "bin_start": 0.30000000000000004,
            "count": 0
           },
           {
            "bin_end": 0.5,
            "bin_start": 0.4,
            "count": 0
           },
           {
            "bin_end": 0.6000000000000001,
            "bin_start": 0.5,
            "count": 0
           },
           {
            "bin_end": 0.7000000000000001,
            "bin_start": 0.6000000000000001,
            "count": 0
           },
           {
            "bin_end": 0.8,
            "bin_start": 0.7000000000000001,
            "count": 0
           },
           {
            "bin_end": 0.9,
            "bin_start": 0.8,
            "count": 0
           },
           {
            "bin_end": 1,
            "bin_start": 0.9,
            "count": 1
           }
          ],
          "max": "1",
          "min": "0",
          "nan_count": 0,
          "unique_count": 2
         }
        },
        {
         "dtype": "int64",
         "name": "DIAGNOSTIC",
         "stats": {
          "histogram": [
           {
            "bin_end": -0.4,
            "bin_start": -0.5,
            "count": 0
           },
           {
            "bin_end": -0.3,
            "bin_start": -0.4,
            "count": 0
           },
           {
            "bin_end": -0.19999999999999996,
            "bin_start": -0.3,
            "count": 0
           },
           {
            "bin_end": -0.09999999999999998,
            "bin_start": -0.19999999999999996,
            "count": 0
           },
           {
            "bin_end": 0,
            "bin_start": -0.09999999999999998,
            "count": 0
           },
           {
            "bin_end": 0.10000000000000009,
            "bin_start": 0,
            "count": 5
           },
           {
            "bin_end": 0.20000000000000007,
            "bin_start": 0.10000000000000009,
            "count": 0
           },
           {
            "bin_end": 0.30000000000000004,
            "bin_start": 0.20000000000000007,
            "count": 0
           },
           {
            "bin_end": 0.4,
            "bin_start": 0.30000000000000004,
            "count": 0
           },
           {
            "bin_end": 0.5,
            "bin_start": 0.4,
            "count": 0
           }
          ],
          "max": "0",
          "min": "0",
          "nan_count": 0,
          "unique_count": 1
         }
        },
        {
         "dtype": "int64",
         "name": "DISABLE_KEYGUARD",
         "stats": {
          "histogram": [
           {
            "bin_end": 0.1,
            "bin_start": 0,
            "count": 4
           },
           {
            "bin_end": 0.2,
            "bin_start": 0.1,
            "count": 0
           },
           {
            "bin_end": 0.30000000000000004,
            "bin_start": 0.2,
            "count": 0
           },
           {
            "bin_end": 0.4,
            "bin_start": 0.30000000000000004,
            "count": 0
           },
           {
            "bin_end": 0.5,
            "bin_start": 0.4,
            "count": 0
           },
           {
            "bin_end": 0.6000000000000001,
            "bin_start": 0.5,
            "count": 0
           },
           {
            "bin_end": 0.7000000000000001,
            "bin_start": 0.6000000000000001,
            "count": 0
           },
           {
            "bin_end": 0.8,
            "bin_start": 0.7000000000000001,
            "count": 0
           },
           {
            "bin_end": 0.9,
            "bin_start": 0.8,
            "count": 0
           },
           {
            "bin_end": 1,
            "bin_start": 0.9,
            "count": 1
           }
          ],
          "max": "1",
          "min": "0",
          "nan_count": 0,
          "unique_count": 2
         }
        },
        {
         "dtype": "int64",
         "name": "DUMP",
         "stats": {
          "histogram": [
           {
            "bin_end": -0.4,
            "bin_start": -0.5,
            "count": 0
           },
           {
            "bin_end": -0.3,
            "bin_start": -0.4,
            "count": 0
           },
           {
            "bin_end": -0.19999999999999996,
            "bin_start": -0.3,
            "count": 0
           },
           {
            "bin_end": -0.09999999999999998,
            "bin_start": -0.19999999999999996,
            "count": 0
           },
           {
            "bin_end": 0,
            "bin_start": -0.09999999999999998,
            "count": 0
           },
           {
            "bin_end": 0.10000000000000009,
            "bin_start": 0,
            "count": 5
           },
           {
            "bin_end": 0.20000000000000007,
            "bin_start": 0.10000000000000009,
            "count": 0
           },
           {
            "bin_end": 0.30000000000000004,
            "bin_start": 0.20000000000000007,
            "count": 0
           },
           {
            "bin_end": 0.4,
            "bin_start": 0.30000000000000004,
            "count": 0
           },
           {
            "bin_end": 0.5,
            "bin_start": 0.4,
            "count": 0
           }
          ],
          "max": "0",
          "min": "0",
          "nan_count": 0,
          "unique_count": 1
         }
        },
        {
         "dtype": "int64",
         "name": "EXPAND_STATUS_BAR",
         "stats": {
          "histogram": [
           {
            "bin_end": 0.1,
            "bin_start": 0,
            "count": 4
           },
           {
            "bin_end": 0.2,
            "bin_start": 0.1,
            "count": 0
           },
           {
            "bin_end": 0.30000000000000004,
            "bin_start": 0.2,
            "count": 0
           },
           {
            "bin_end": 0.4,
            "bin_start": 0.30000000000000004,
            "count": 0
           },
           {
            "bin_end": 0.5,
            "bin_start": 0.4,
            "count": 0
           },
           {
            "bin_end": 0.6000000000000001,
            "bin_start": 0.5,
            "count": 0
           },
           {
            "bin_end": 0.7000000000000001,
            "bin_start": 0.6000000000000001,
            "count": 0
           },
           {
            "bin_end": 0.8,
            "bin_start": 0.7000000000000001,
            "count": 0
           },
           {
            "bin_end": 0.9,
            "bin_start": 0.8,
            "count": 0
           },
           {
            "bin_end": 1,
            "bin_start": 0.9,
            "count": 1
           }
          ],
          "max": "1",
          "min": "0",
          "nan_count": 0,
          "unique_count": 2
         }
        },
        {
         "dtype": "int64",
         "name": "FACTORY_TEST",
         "stats": {
          "histogram": [
           {
            "bin_end": -0.4,
            "bin_start": -0.5,
            "count": 0
           },
           {
            "bin_end": -0.3,
            "bin_start": -0.4,
            "count": 0
           },
           {
            "bin_end": -0.19999999999999996,
            "bin_start": -0.3,
            "count": 0
           },
           {
            "bin_end": -0.09999999999999998,
            "bin_start": -0.19999999999999996,
            "count": 0
           },
           {
            "bin_end": 0,
            "bin_start": -0.09999999999999998,
            "count": 0
           },
           {
            "bin_end": 0.10000000000000009,
            "bin_start": 0,
            "count": 5
           },
           {
            "bin_end": 0.20000000000000007,
            "bin_start": 0.10000000000000009,
            "count": 0
           },
           {
            "bin_end": 0.30000000000000004,
            "bin_start": 0.20000000000000007,
            "count": 0
           },
           {
            "bin_end": 0.4,
            "bin_start": 0.30000000000000004,
            "count": 0
           },
           {
            "bin_end": 0.5,
            "bin_start": 0.4,
            "count": 0
           }
          ],
          "max": "0",
          "min": "0",
          "nan_count": 0,
          "unique_count": 1
         }
        },
        {
         "dtype": "int64",
         "name": "FLASHLIGHT",
         "stats": {
          "histogram": [
           {
            "bin_end": 0.1,
            "bin_start": 0,
            "count": 4
           },
           {
            "bin_end": 0.2,
            "bin_start": 0.1,
            "count": 0
           },
           {
            "bin_end": 0.30000000000000004,
            "bin_start": 0.2,
            "count": 0
           },
           {
            "bin_end": 0.4,
            "bin_start": 0.30000000000000004,
            "count": 0
           },
           {
            "bin_end": 0.5,
            "bin_start": 0.4,
            "count": 0
           },
           {
            "bin_end": 0.6000000000000001,
            "bin_start": 0.5,
            "count": 0
           },
           {
            "bin_end": 0.7000000000000001,
            "bin_start": 0.6000000000000001,
            "count": 0
           },
           {
            "bin_end": 0.8,
            "bin_start": 0.7000000000000001,
            "count": 0
           },
           {
            "bin_end": 0.9,
            "bin_start": 0.8,
            "count": 0
           },
           {
            "bin_end": 1,
            "bin_start": 0.9,
            "count": 1
           }
          ],
          "max": "1",
          "min": "0",
          "nan_count": 0,
          "unique_count": 2
         }
        },
        {
         "dtype": "int64",
         "name": "FORCE_BACK",
         "stats": {
          "histogram": [
           {
            "bin_end": -0.4,
            "bin_start": -0.5,
            "count": 0
           },
           {
            "bin_end": -0.3,
            "bin_start": -0.4,
            "count": 0
           },
           {
            "bin_end": -0.19999999999999996,
            "bin_start": -0.3,
            "count": 0
           },
           {
            "bin_end": -0.09999999999999998,
            "bin_start": -0.19999999999999996,
            "count": 0
           },
           {
            "bin_end": 0,
            "bin_start": -0.09999999999999998,
            "count": 0
           },
           {
            "bin_end": 0.10000000000000009,
            "bin_start": 0,
            "count": 5
           },
           {
            "bin_end": 0.20000000000000007,
            "bin_start": 0.10000000000000009,
            "count": 0
           },
           {
            "bin_end": 0.30000000000000004,
            "bin_start": 0.20000000000000007,
            "count": 0
           },
           {
            "bin_end": 0.4,
            "bin_start": 0.30000000000000004,
            "count": 0
           },
           {
            "bin_end": 0.5,
            "bin_start": 0.4,
            "count": 0
           }
          ],
          "max": "0",
          "min": "0",
          "nan_count": 0,
          "unique_count": 1
         }
        },
        {
         "dtype": "int64",
         "name": "FOREGROUND_SERVICE",
         "stats": {
          "histogram": [
           {
            "bin_end": -0.4,
            "bin_start": -0.5,
            "count": 0
           },
           {
            "bin_end": -0.3,
            "bin_start": -0.4,
            "count": 0
           },
           {
            "bin_end": -0.19999999999999996,
            "bin_start": -0.3,
            "count": 0
           },
           {
            "bin_end": -0.09999999999999998,
            "bin_start": -0.19999999999999996,
            "count": 0
           },
           {
            "bin_end": 0,
            "bin_start": -0.09999999999999998,
            "count": 0
           },
           {
            "bin_end": 0.10000000000000009,
            "bin_start": 0,
            "count": 5
           },
           {
            "bin_end": 0.20000000000000007,
            "bin_start": 0.10000000000000009,
            "count": 0
           },
           {
            "bin_end": 0.30000000000000004,
            "bin_start": 0.20000000000000007,
            "count": 0
           },
           {
            "bin_end": 0.4,
            "bin_start": 0.30000000000000004,
            "count": 0
           },
           {
            "bin_end": 0.5,
            "bin_start": 0.4,
            "count": 0
           }
          ],
          "max": "0",
          "min": "0",
          "nan_count": 0,
          "unique_count": 1
         }
        },
        {
         "dtype": "int64",
         "name": "GET_ACCOUNTS",
         "stats": {
          "histogram": [
           {
            "bin_end": 0.1,
            "bin_start": 0,
            "count": 3
           },
           {
            "bin_end": 0.2,
            "bin_start": 0.1,
            "count": 0
           },
           {
            "bin_end": 0.30000000000000004,
            "bin_start": 0.2,
            "count": 0
           },
           {
            "bin_end": 0.4,
            "bin_start": 0.30000000000000004,
            "count": 0
           },
           {
            "bin_end": 0.5,
            "bin_start": 0.4,
            "count": 0
           },
           {
            "bin_end": 0.6000000000000001,
            "bin_start": 0.5,
            "count": 0
           },
           {
            "bin_end": 0.7000000000000001,
            "bin_start": 0.6000000000000001,
            "count": 0
           },
           {
            "bin_end": 0.8,
            "bin_start": 0.7000000000000001,
            "count": 0
           },
           {
            "bin_end": 0.9,
            "bin_start": 0.8,
            "count": 0
           },
           {
            "bin_end": 1,
            "bin_start": 0.9,
            "count": 2
           }
          ],
          "max": "1",
          "min": "0",
          "nan_count": 0,
          "unique_count": 2
         }
        },
        {
         "dtype": "int64",
         "name": "GET_PACKAGE_SIZE",
         "stats": {
          "histogram": [
           {
            "bin_end": 0.1,
            "bin_start": 0,
            "count": 4
           },
           {
            "bin_end": 0.2,
            "bin_start": 0.1,
            "count": 0
           },
           {
            "bin_end": 0.30000000000000004,
            "bin_start": 0.2,
            "count": 0
           },
           {
            "bin_end": 0.4,
            "bin_start": 0.30000000000000004,
            "count": 0
           },
           {
            "bin_end": 0.5,
            "bin_start": 0.4,
            "count": 0
           },
           {
            "bin_end": 0.6000000000000001,
            "bin_start": 0.5,
            "count": 0
           },
           {
            "bin_end": 0.7000000000000001,
            "bin_start": 0.6000000000000001,
            "count": 0
           },
           {
            "bin_end": 0.8,
            "bin_start": 0.7000000000000001,
            "count": 0
           },
           {
            "bin_end": 0.9,
            "bin_start": 0.8,
            "count": 0
           },
           {
            "bin_end": 1,
            "bin_start": 0.9,
            "count": 1
           }
          ],
          "max": "1",
          "min": "0",
          "nan_count": 0,
          "unique_count": 2
         }
        },
        {
         "dtype": "int64",
         "name": "GET_TASKS",
         "stats": {
          "histogram": [
           {
            "bin_end": 0.1,
            "bin_start": 0,
            "count": 4
           },
           {
            "bin_end": 0.2,
            "bin_start": 0.1,
            "count": 0
           },
           {
            "bin_end": 0.30000000000000004,
            "bin_start": 0.2,
            "count": 0
           },
           {
            "bin_end": 0.4,
            "bin_start": 0.30000000000000004,
            "count": 0
           },
           {
            "bin_end": 0.5,
            "bin_start": 0.4,
            "count": 0
           },
           {
            "bin_end": 0.6000000000000001,
            "bin_start": 0.5,
            "count": 0
           },
           {
            "bin_end": 0.7000000000000001,
            "bin_start": 0.6000000000000001,
            "count": 0
           },
           {
            "bin_end": 0.8,
            "bin_start": 0.7000000000000001,
            "count": 0
           },
           {
            "bin_end": 0.9,
            "bin_start": 0.8,
            "count": 0
           },
           {
            "bin_end": 1,
            "bin_start": 0.9,
            "count": 1
           }
          ],
          "max": "1",
          "min": "0",
          "nan_count": 0,
          "unique_count": 2
         }
        },
        {
         "dtype": "int64",
         "name": "GET_TOP_ACTIVITY_INFO",
         "stats": {
          "histogram": [
           {
            "bin_end": -0.4,
            "bin_start": -0.5,
            "count": 0
           },
           {
            "bin_end": -0.3,
            "bin_start": -0.4,
            "count": 0
           },
           {
            "bin_end": -0.19999999999999996,
            "bin_start": -0.3,
            "count": 0
           },
           {
            "bin_end": -0.09999999999999998,
            "bin_start": -0.19999999999999996,
            "count": 0
           },
           {
            "bin_end": 0,
            "bin_start": -0.09999999999999998,
            "count": 0
           },
           {
            "bin_end": 0.10000000000000009,
            "bin_start": 0,
            "count": 5
           },
           {
            "bin_end": 0.20000000000000007,
            "bin_start": 0.10000000000000009,
            "count": 0
           },
           {
            "bin_end": 0.30000000000000004,
            "bin_start": 0.20000000000000007,
            "count": 0
           },
           {
            "bin_end": 0.4,
            "bin_start": 0.30000000000000004,
            "count": 0
           },
           {
            "bin_end": 0.5,
            "bin_start": 0.4,
            "count": 0
           }
          ],
          "max": "0",
          "min": "0",
          "nan_count": 0,
          "unique_count": 1
         }
        },
        {
         "dtype": "int64",
         "name": "GLOBAL_SEARCH",
         "stats": {
          "histogram": [
           {
            "bin_end": -0.4,
            "bin_start": -0.5,
            "count": 0
           },
           {
            "bin_end": -0.3,
            "bin_start": -0.4,
            "count": 0
           },
           {
            "bin_end": -0.19999999999999996,
            "bin_start": -0.3,
            "count": 0
           },
           {
            "bin_end": -0.09999999999999998,
            "bin_start": -0.19999999999999996,
            "count": 0
           },
           {
            "bin_end": 0,
            "bin_start": -0.09999999999999998,
            "count": 0
           },
           {
            "bin_end": 0.10000000000000009,
            "bin_start": 0,
            "count": 5
           },
           {
            "bin_end": 0.20000000000000007,
            "bin_start": 0.10000000000000009,
            "count": 0
           },
           {
            "bin_end": 0.30000000000000004,
            "bin_start": 0.20000000000000007,
            "count": 0
           },
           {
            "bin_end": 0.4,
            "bin_start": 0.30000000000000004,
            "count": 0
           },
           {
            "bin_end": 0.5,
            "bin_start": 0.4,
            "count": 0
           }
          ],
          "max": "0",
          "min": "0",
          "nan_count": 0,
          "unique_count": 1
         }
        },
        {
         "dtype": "int64",
         "name": "HARDWARE_TEST",
         "stats": {
          "histogram": [
           {
            "bin_end": -0.4,
            "bin_start": -0.5,
            "count": 0
           },
           {
            "bin_end": -0.3,
            "bin_start": -0.4,
            "count": 0
           },
           {
            "bin_end": -0.19999999999999996,
            "bin_start": -0.3,
            "count": 0
           },
           {
            "bin_end": -0.09999999999999998,
            "bin_start": -0.19999999999999996,
            "count": 0
           },
           {
            "bin_end": 0,
            "bin_start": -0.09999999999999998,
            "count": 0
           },
           {
            "bin_end": 0.10000000000000009,
            "bin_start": 0,
            "count": 5
           },
           {
            "bin_end": 0.20000000000000007,
            "bin_start": 0.10000000000000009,
            "count": 0
           },
           {
            "bin_end": 0.30000000000000004,
            "bin_start": 0.20000000000000007,
            "count": 0
           },
           {
            "bin_end": 0.4,
            "bin_start": 0.30000000000000004,
            "count": 0
           },
           {
            "bin_end": 0.5,
            "bin_start": 0.4,
            "count": 0
           }
          ],
          "max": "0",
          "min": "0",
          "nan_count": 0,
          "unique_count": 1
         }
        },
        {
         "dtype": "int64",
         "name": "INJECT_EVENTS",
         "stats": {
          "histogram": [
           {
            "bin_end": -0.4,
            "bin_start": -0.5,
            "count": 0
           },
           {
            "bin_end": -0.3,
            "bin_start": -0.4,
            "count": 0
           },
           {
            "bin_end": -0.19999999999999996,
            "bin_start": -0.3,
            "count": 0
           },
           {
            "bin_end": -0.09999999999999998,
            "bin_start": -0.19999999999999996,
            "count": 0
           },
           {
            "bin_end": 0,
            "bin_start": -0.09999999999999998,
            "count": 0
           },
           {
            "bin_end": 0.10000000000000009,
            "bin_start": 0,
            "count": 5
           },
           {
            "bin_end": 0.20000000000000007,
            "bin_start": 0.10000000000000009,
            "count": 0
           },
           {
            "bin_end": 0.30000000000000004,
            "bin_start": 0.20000000000000007,
            "count": 0
           },
           {
            "bin_end": 0.4,
            "bin_start": 0.30000000000000004,
            "count": 0
           },
           {
            "bin_end": 0.5,
            "bin_start": 0.4,
            "count": 0
           }
          ],
          "max": "0",
          "min": "0",
          "nan_count": 0,
          "unique_count": 1
         }
        },
        {
         "dtype": "int64",
         "name": "INSTALL_LOCATION_PROVIDER",
         "stats": {
          "histogram": [
           {
            "bin_end": -0.4,
            "bin_start": -0.5,
            "count": 0
           },
           {
            "bin_end": -0.3,
            "bin_start": -0.4,
            "count": 0
           },
           {
            "bin_end": -0.19999999999999996,
            "bin_start": -0.3,
            "count": 0
           },
           {
            "bin_end": -0.09999999999999998,
            "bin_start": -0.19999999999999996,
            "count": 0
           },
           {
            "bin_end": 0,
            "bin_start": -0.09999999999999998,
            "count": 0
           },
           {
            "bin_end": 0.10000000000000009,
            "bin_start": 0,
            "count": 5
           },
           {
            "bin_end": 0.20000000000000007,
            "bin_start": 0.10000000000000009,
            "count": 0
           },
           {
            "bin_end": 0.30000000000000004,
            "bin_start": 0.20000000000000007,
            "count": 0
           },
           {
            "bin_end": 0.4,
            "bin_start": 0.30000000000000004,
            "count": 0
           },
           {
            "bin_end": 0.5,
            "bin_start": 0.4,
            "count": 0
           }
          ],
          "max": "0",
          "min": "0",
          "nan_count": 0,
          "unique_count": 1
         }
        },
        {
         "dtype": "int64",
         "name": "INSTALL_SHORTCUT",
         "stats": {
          "histogram": [
           {
            "bin_end": 0.1,
            "bin_start": 0,
            "count": 4
           },
           {
            "bin_end": 0.2,
            "bin_start": 0.1,
            "count": 0
           },
           {
            "bin_end": 0.30000000000000004,
            "bin_start": 0.2,
            "count": 0
           },
           {
            "bin_end": 0.4,
            "bin_start": 0.30000000000000004,
            "count": 0
           },
           {
            "bin_end": 0.5,
            "bin_start": 0.4,
            "count": 0
           },
           {
            "bin_end": 0.6000000000000001,
            "bin_start": 0.5,
            "count": 0
           },
           {
            "bin_end": 0.7000000000000001,
            "bin_start": 0.6000000000000001,
            "count": 0
           },
           {
            "bin_end": 0.8,
            "bin_start": 0.7000000000000001,
            "count": 0
           },
           {
            "bin_end": 0.9,
            "bin_start": 0.8,
            "count": 0
           },
           {
            "bin_end": 1,
            "bin_start": 0.9,
            "count": 1
           }
          ],
          "max": "1",
          "min": "0",
          "nan_count": 0,
          "unique_count": 2
         }
        },
        {
         "dtype": "int64",
         "name": "INTERNAL_SYSTEM_WINDOW",
         "stats": {
          "histogram": [
           {
            "bin_end": -0.4,
            "bin_start": -0.5,
            "count": 0
           },
           {
            "bin_end": -0.3,
            "bin_start": -0.4,
            "count": 0
           },
           {
            "bin_end": -0.19999999999999996,
            "bin_start": -0.3,
            "count": 0
           },
           {
            "bin_end": -0.09999999999999998,
            "bin_start": -0.19999999999999996,
            "count": 0
           },
           {
            "bin_end": 0,
            "bin_start": -0.09999999999999998,
            "count": 0
           },
           {
            "bin_end": 0.10000000000000009,
            "bin_start": 0,
            "count": 5
           },
           {
            "bin_end": 0.20000000000000007,
            "bin_start": 0.10000000000000009,
            "count": 0
           },
           {
            "bin_end": 0.30000000000000004,
            "bin_start": 0.20000000000000007,
            "count": 0
           },
           {
            "bin_end": 0.4,
            "bin_start": 0.30000000000000004,
            "count": 0
           },
           {
            "bin_end": 0.5,
            "bin_start": 0.4,
            "count": 0
           }
          ],
          "max": "0",
          "min": "0",
          "nan_count": 0,
          "unique_count": 1
         }
        },
        {
         "dtype": "int64",
         "name": "KILL_BACKGROUND_PROCESSES",
         "stats": {
          "histogram": [
           {
            "bin_end": 0.1,
            "bin_start": 0,
            "count": 4
           },
           {
            "bin_end": 0.2,
            "bin_start": 0.1,
            "count": 0
           },
           {
            "bin_end": 0.30000000000000004,
            "bin_start": 0.2,
            "count": 0
           },
           {
            "bin_end": 0.4,
            "bin_start": 0.30000000000000004,
            "count": 0
           },
           {
            "bin_end": 0.5,
            "bin_start": 0.4,
            "count": 0
           },
           {
            "bin_end": 0.6000000000000001,
            "bin_start": 0.5,
            "count": 0
           },
           {
            "bin_end": 0.7000000000000001,
            "bin_start": 0.6000000000000001,
            "count": 0
           },
           {
            "bin_end": 0.8,
            "bin_start": 0.7000000000000001,
            "count": 0
           },
           {
            "bin_end": 0.9,
            "bin_start": 0.8,
            "count": 0
           },
           {
            "bin_end": 1,
            "bin_start": 0.9,
            "count": 1
           }
          ],
          "max": "1",
          "min": "0",
          "nan_count": 0,
          "unique_count": 2
         }
        },
        {
         "dtype": "int64",
         "name": "LOCATION_HARDWARE",
         "stats": {
          "histogram": [
           {
            "bin_end": -0.4,
            "bin_start": -0.5,
            "count": 0
           },
           {
            "bin_end": -0.3,
            "bin_start": -0.4,
            "count": 0
           },
           {
            "bin_end": -0.19999999999999996,
            "bin_start": -0.3,
            "count": 0
           },
           {
            "bin_end": -0.09999999999999998,
            "bin_start": -0.19999999999999996,
            "count": 0
           },
           {
            "bin_end": 0,
            "bin_start": -0.09999999999999998,
            "count": 0
           },
           {
            "bin_end": 0.10000000000000009,
            "bin_start": 0,
            "count": 5
           },
           {
            "bin_end": 0.20000000000000007,
            "bin_start": 0.10000000000000009,
            "count": 0
           },
           {
            "bin_end": 0.30000000000000004,
            "bin_start": 0.20000000000000007,
            "count": 0
           },
           {
            "bin_end": 0.4,
            "bin_start": 0.30000000000000004,
            "count": 0
           },
           {
            "bin_end": 0.5,
            "bin_start": 0.4,
            "count": 0
           }
          ],
          "max": "0",
          "min": "0",
          "nan_count": 0,
          "unique_count": 1
         }
        },
        {
         "dtype": "int64",
         "name": "MANAGE_ACCOUNTS",
         "stats": {
          "histogram": [
           {
            "bin_end": 0.1,
            "bin_start": 0,
            "count": 4
           },
           {
            "bin_end": 0.2,
            "bin_start": 0.1,
            "count": 0
           },
           {
            "bin_end": 0.30000000000000004,
            "bin_start": 0.2,
            "count": 0
           },
           {
            "bin_end": 0.4,
            "bin_start": 0.30000000000000004,
            "count": 0
           },
           {
            "bin_end": 0.5,
            "bin_start": 0.4,
            "count": 0
           },
           {
            "bin_end": 0.6000000000000001,
            "bin_start": 0.5,
            "count": 0
           },
           {
            "bin_end": 0.7000000000000001,
            "bin_start": 0.6000000000000001,
            "count": 0
           },
           {
            "bin_end": 0.8,
            "bin_start": 0.7000000000000001,
            "count": 0
           },
           {
            "bin_end": 0.9,
            "bin_start": 0.8,
            "count": 0
           },
           {
            "bin_end": 1,
            "bin_start": 0.9,
            "count": 1
           }
          ],
          "max": "1",
          "min": "0",
          "nan_count": 0,
          "unique_count": 2
         }
        },
        {
         "dtype": "int64",
         "name": "MANAGE_APP_TOKENS",
         "stats": {
          "histogram": [
           {
            "bin_end": -0.4,
            "bin_start": -0.5,
            "count": 0
           },
           {
            "bin_end": -0.3,
            "bin_start": -0.4,
            "count": 0
           },
           {
            "bin_end": -0.19999999999999996,
            "bin_start": -0.3,
            "count": 0
           },
           {
            "bin_end": -0.09999999999999998,
            "bin_start": -0.19999999999999996,
            "count": 0
           },
           {
            "bin_end": 0,
            "bin_start": -0.09999999999999998,
            "count": 0
           },
           {
            "bin_end": 0.10000000000000009,
            "bin_start": 0,
            "count": 5
           },
           {
            "bin_end": 0.20000000000000007,
            "bin_start": 0.10000000000000009,
            "count": 0
           },
           {
            "bin_end": 0.30000000000000004,
            "bin_start": 0.20000000000000007,
            "count": 0
           },
           {
            "bin_end": 0.4,
            "bin_start": 0.30000000000000004,
            "count": 0
           },
           {
            "bin_end": 0.5,
            "bin_start": 0.4,
            "count": 0
           }
          ],
          "max": "0",
          "min": "0",
          "nan_count": 0,
          "unique_count": 1
         }
        },
        {
         "dtype": "int64",
         "name": "MANAGE_DOCUMENTS",
         "stats": {
          "histogram": [
           {
            "bin_end": -0.4,
            "bin_start": -0.5,
            "count": 0
           },
           {
            "bin_end": -0.3,
            "bin_start": -0.4,
            "count": 0
           },
           {
            "bin_end": -0.19999999999999996,
            "bin_start": -0.3,
            "count": 0
           },
           {
            "bin_end": -0.09999999999999998,
            "bin_start": -0.19999999999999996,
            "count": 0
           },
           {
            "bin_end": 0,
            "bin_start": -0.09999999999999998,
            "count": 0
           },
           {
            "bin_end": 0.10000000000000009,
            "bin_start": 0,
            "count": 5
           },
           {
            "bin_end": 0.20000000000000007,
            "bin_start": 0.10000000000000009,
            "count": 0
           },
           {
            "bin_end": 0.30000000000000004,
            "bin_start": 0.20000000000000007,
            "count": 0
           },
           {
            "bin_end": 0.4,
            "bin_start": 0.30000000000000004,
            "count": 0
           },
           {
            "bin_end": 0.5,
            "bin_start": 0.4,
            "count": 0
           }
          ],
          "max": "0",
          "min": "0",
          "nan_count": 0,
          "unique_count": 1
         }
        },
        {
         "dtype": "int64",
         "name": "MANAGE_OWN_CALLS",
         "stats": {
          "histogram": [
           {
            "bin_end": -0.4,
            "bin_start": -0.5,
            "count": 0
           },
           {
            "bin_end": -0.3,
            "bin_start": -0.4,
            "count": 0
           },
           {
            "bin_end": -0.19999999999999996,
            "bin_start": -0.3,
            "count": 0
           },
           {
            "bin_end": -0.09999999999999998,
            "bin_start": -0.19999999999999996,
            "count": 0
           },
           {
            "bin_end": 0,
            "bin_start": -0.09999999999999998,
            "count": 0
           },
           {
            "bin_end": 0.10000000000000009,
            "bin_start": 0,
            "count": 5
           },
           {
            "bin_end": 0.20000000000000007,
            "bin_start": 0.10000000000000009,
            "count": 0
           },
           {
            "bin_end": 0.30000000000000004,
            "bin_start": 0.20000000000000007,
            "count": 0
           },
           {
            "bin_end": 0.4,
            "bin_start": 0.30000000000000004,
            "count": 0
           },
           {
            "bin_end": 0.5,
            "bin_start": 0.4,
            "count": 0
           }
          ],
          "max": "0",
          "min": "0",
          "nan_count": 0,
          "unique_count": 1
         }
        },
        {
         "dtype": "int64",
         "name": "MEDIA_CONTENT_CONTROL",
         "stats": {
          "histogram": [
           {
            "bin_end": -0.4,
            "bin_start": -0.5,
            "count": 0
           },
           {
            "bin_end": -0.3,
            "bin_start": -0.4,
            "count": 0
           },
           {
            "bin_end": -0.19999999999999996,
            "bin_start": -0.3,
            "count": 0
           },
           {
            "bin_end": -0.09999999999999998,
            "bin_start": -0.19999999999999996,
            "count": 0
           },
           {
            "bin_end": 0,
            "bin_start": -0.09999999999999998,
            "count": 0
           },
           {
            "bin_end": 0.10000000000000009,
            "bin_start": 0,
            "count": 5
           },
           {
            "bin_end": 0.20000000000000007,
            "bin_start": 0.10000000000000009,
            "count": 0
           },
           {
            "bin_end": 0.30000000000000004,
            "bin_start": 0.20000000000000007,
            "count": 0
           },
           {
            "bin_end": 0.4,
            "bin_start": 0.30000000000000004,
            "count": 0
           },
           {
            "bin_end": 0.5,
            "bin_start": 0.4,
            "count": 0
           }
          ],
          "max": "0",
          "min": "0",
          "nan_count": 0,
          "unique_count": 1
         }
        },
        {
         "dtype": "int64",
         "name": "MICROPHONE",
         "stats": {
          "histogram": [
           {
            "bin_end": -0.4,
            "bin_start": -0.5,
            "count": 0
           },
           {
            "bin_end": -0.3,
            "bin_start": -0.4,
            "count": 0
           },
           {
            "bin_end": -0.19999999999999996,
            "bin_start": -0.3,
            "count": 0
           },
           {
            "bin_end": -0.09999999999999998,
            "bin_start": -0.19999999999999996,
            "count": 0
           },
           {
            "bin_end": 0,
            "bin_start": -0.09999999999999998,
            "count": 0
           },
           {
            "bin_end": 0.10000000000000009,
            "bin_start": 0,
            "count": 5
           },
           {
            "bin_end": 0.20000000000000007,
            "bin_start": 0.10000000000000009,
            "count": 0
           },
           {
            "bin_end": 0.30000000000000004,
            "bin_start": 0.20000000000000007,
            "count": 0
           },
           {
            "bin_end": 0.4,
            "bin_start": 0.30000000000000004,
            "count": 0
           },
           {
            "bin_end": 0.5,
            "bin_start": 0.4,
            "count": 0
           }
          ],
          "max": "0",
          "min": "0",
          "nan_count": 0,
          "unique_count": 1
         }
        },
        {
         "dtype": "int64",
         "name": "MOUNT_FORMAT_FILESYSTEMS",
         "stats": {
          "histogram": [
           {
            "bin_end": -0.4,
            "bin_start": -0.5,
            "count": 0
           },
           {
            "bin_end": -0.3,
            "bin_start": -0.4,
            "count": 0
           },
           {
            "bin_end": -0.19999999999999996,
            "bin_start": -0.3,
            "count": 0
           },
           {
            "bin_end": -0.09999999999999998,
            "bin_start": -0.19999999999999996,
            "count": 0
           },
           {
            "bin_end": 0,
            "bin_start": -0.09999999999999998,
            "count": 0
           },
           {
            "bin_end": 0.10000000000000009,
            "bin_start": 0,
            "count": 5
           },
           {
            "bin_end": 0.20000000000000007,
            "bin_start": 0.10000000000000009,
            "count": 0
           },
           {
            "bin_end": 0.30000000000000004,
            "bin_start": 0.20000000000000007,
            "count": 0
           },
           {
            "bin_end": 0.4,
            "bin_start": 0.30000000000000004,
            "count": 0
           },
           {
            "bin_end": 0.5,
            "bin_start": 0.4,
            "count": 0
           }
          ],
          "max": "0",
          "min": "0",
          "nan_count": 0,
          "unique_count": 1
         }
        },
        {
         "dtype": "int64",
         "name": "NFC",
         "stats": {
          "histogram": [
           {
            "bin_end": 0.1,
            "bin_start": 0,
            "count": 4
           },
           {
            "bin_end": 0.2,
            "bin_start": 0.1,
            "count": 0
           },
           {
            "bin_end": 0.30000000000000004,
            "bin_start": 0.2,
            "count": 0
           },
           {
            "bin_end": 0.4,
            "bin_start": 0.30000000000000004,
            "count": 0
           },
           {
            "bin_end": 0.5,
            "bin_start": 0.4,
            "count": 0
           },
           {
            "bin_end": 0.6000000000000001,
            "bin_start": 0.5,
            "count": 0
           },
           {
            "bin_end": 0.7000000000000001,
            "bin_start": 0.6000000000000001,
            "count": 0
           },
           {
            "bin_end": 0.8,
            "bin_start": 0.7000000000000001,
            "count": 0
           },
           {
            "bin_end": 0.9,
            "bin_start": 0.8,
            "count": 0
           },
           {
            "bin_end": 1,
            "bin_start": 0.9,
            "count": 1
           }
          ],
          "max": "1",
          "min": "0",
          "nan_count": 0,
          "unique_count": 2
         }
        },
        {
         "dtype": "int64",
         "name": "PACKAGE_USAGE_STATS",
         "stats": {
          "histogram": [
           {
            "bin_end": 0.1,
            "bin_start": 0,
            "count": 4
           },
           {
            "bin_end": 0.2,
            "bin_start": 0.1,
            "count": 0
           },
           {
            "bin_end": 0.30000000000000004,
            "bin_start": 0.2,
            "count": 0
           },
           {
            "bin_end": 0.4,
            "bin_start": 0.30000000000000004,
            "count": 0
           },
           {
            "bin_end": 0.5,
            "bin_start": 0.4,
            "count": 0
           },
           {
            "bin_end": 0.6000000000000001,
            "bin_start": 0.5,
            "count": 0
           },
           {
            "bin_end": 0.7000000000000001,
            "bin_start": 0.6000000000000001,
            "count": 0
           },
           {
            "bin_end": 0.8,
            "bin_start": 0.7000000000000001,
            "count": 0
           },
           {
            "bin_end": 0.9,
            "bin_start": 0.8,
            "count": 0
           },
           {
            "bin_end": 1,
            "bin_start": 0.9,
            "count": 1
           }
          ],
          "max": "1",
          "min": "0",
          "nan_count": 0,
          "unique_count": 2
         }
        },
        {
         "dtype": "int64",
         "name": "PERSISTENT_ACTIVITY",
         "stats": {
          "histogram": [
           {
            "bin_end": 0.1,
            "bin_start": 0,
            "count": 4
           },
           {
            "bin_end": 0.2,
            "bin_start": 0.1,
            "count": 0
           },
           {
            "bin_end": 0.30000000000000004,
            "bin_start": 0.2,
            "count": 0
           },
           {
            "bin_end": 0.4,
            "bin_start": 0.30000000000000004,
            "count": 0
           },
           {
            "bin_end": 0.5,
            "bin_start": 0.4,
            "count": 0
           },
           {
            "bin_end": 0.6000000000000001,
            "bin_start": 0.5,
            "count": 0
           },
           {
            "bin_end": 0.7000000000000001,
            "bin_start": 0.6000000000000001,
            "count": 0
           },
           {
            "bin_end": 0.8,
            "bin_start": 0.7000000000000001,
            "count": 0
           },
           {
            "bin_end": 0.9,
            "bin_start": 0.8,
            "count": 0
           },
           {
            "bin_end": 1,
            "bin_start": 0.9,
            "count": 1
           }
          ],
          "max": "1",
          "min": "0",
          "nan_count": 0,
          "unique_count": 2
         }
        },
        {
         "dtype": "int64",
         "name": "PROCESS_OUTGOING_CALLS",
         "stats": {
          "histogram": [
           {
            "bin_end": 0.1,
            "bin_start": 0,
            "count": 4
           },
           {
            "bin_end": 0.2,
            "bin_start": 0.1,
            "count": 0
           },
           {
            "bin_end": 0.30000000000000004,
            "bin_start": 0.2,
            "count": 0
           },
           {
            "bin_end": 0.4,
            "bin_start": 0.30000000000000004,
            "count": 0
           },
           {
            "bin_end": 0.5,
            "bin_start": 0.4,
            "count": 0
           },
           {
            "bin_end": 0.6000000000000001,
            "bin_start": 0.5,
            "count": 0
           },
           {
            "bin_end": 0.7000000000000001,
            "bin_start": 0.6000000000000001,
            "count": 0
           },
           {
            "bin_end": 0.8,
            "bin_start": 0.7000000000000001,
            "count": 0
           },
           {
            "bin_end": 0.9,
            "bin_start": 0.8,
            "count": 0
           },
           {
            "bin_end": 1,
            "bin_start": 0.9,
            "count": 1
           }
          ],
          "max": "1",
          "min": "0",
          "nan_count": 0,
          "unique_count": 2
         }
        },
        {
         "dtype": "int64",
         "name": "READ_CALL_LOG",
         "stats": {
          "histogram": [
           {
            "bin_end": 0.1,
            "bin_start": 0,
            "count": 4
           },
           {
            "bin_end": 0.2,
            "bin_start": 0.1,
            "count": 0
           },
           {
            "bin_end": 0.30000000000000004,
            "bin_start": 0.2,
            "count": 0
           },
           {
            "bin_end": 0.4,
            "bin_start": 0.30000000000000004,
            "count": 0
           },
           {
            "bin_end": 0.5,
            "bin_start": 0.4,
            "count": 0
           },
           {
            "bin_end": 0.6000000000000001,
            "bin_start": 0.5,
            "count": 0
           },
           {
            "bin_end": 0.7000000000000001,
            "bin_start": 0.6000000000000001,
            "count": 0
           },
           {
            "bin_end": 0.8,
            "bin_start": 0.7000000000000001,
            "count": 0
           },
           {
            "bin_end": 0.9,
            "bin_start": 0.8,
            "count": 0
           },
           {
            "bin_end": 1,
            "bin_start": 0.9,
            "count": 1
           }
          ],
          "max": "1",
          "min": "0",
          "nan_count": 0,
          "unique_count": 2
         }
        },
        {
         "dtype": "int64",
         "name": "READ_EXTERNAL_STORAGE",
         "stats": {
          "histogram": [
           {
            "bin_end": 0.1,
            "bin_start": 0,
            "count": 2
           },
           {
            "bin_end": 0.2,
            "bin_start": 0.1,
            "count": 0
           },
           {
            "bin_end": 0.30000000000000004,
            "bin_start": 0.2,
            "count": 0
           },
           {
            "bin_end": 0.4,
            "bin_start": 0.30000000000000004,
            "count": 0
           },
           {
            "bin_end": 0.5,
            "bin_start": 0.4,
            "count": 0
           },
           {
            "bin_end": 0.6000000000000001,
            "bin_start": 0.5,
            "count": 0
           },
           {
            "bin_end": 0.7000000000000001,
            "bin_start": 0.6000000000000001,
            "count": 0
           },
           {
            "bin_end": 0.8,
            "bin_start": 0.7000000000000001,
            "count": 0
           },
           {
            "bin_end": 0.9,
            "bin_start": 0.8,
            "count": 0
           },
           {
            "bin_end": 1,
            "bin_start": 0.9,
            "count": 3
           }
          ],
          "max": "1",
          "min": "0",
          "nan_count": 0,
          "unique_count": 2
         }
        },
        {
         "dtype": "int64",
         "name": "READ_FRAME_BUFFER",
         "stats": {
          "histogram": [
           {
            "bin_end": -0.4,
            "bin_start": -0.5,
            "count": 0
           },
           {
            "bin_end": -0.3,
            "bin_start": -0.4,
            "count": 0
           },
           {
            "bin_end": -0.19999999999999996,
            "bin_start": -0.3,
            "count": 0
           },
           {
            "bin_end": -0.09999999999999998,
            "bin_start": -0.19999999999999996,
            "count": 0
           },
           {
            "bin_end": 0,
            "bin_start": -0.09999999999999998,
            "count": 0
           },
           {
            "bin_end": 0.10000000000000009,
            "bin_start": 0,
            "count": 5
           },
           {
            "bin_end": 0.20000000000000007,
            "bin_start": 0.10000000000000009,
            "count": 0
           },
           {
            "bin_end": 0.30000000000000004,
            "bin_start": 0.20000000000000007,
            "count": 0
           },
           {
            "bin_end": 0.4,
            "bin_start": 0.30000000000000004,
            "count": 0
           },
           {
            "bin_end": 0.5,
            "bin_start": 0.4,
            "count": 0
           }
          ],
          "max": "0",
          "min": "0",
          "nan_count": 0,
          "unique_count": 1
         }
        },
        {
         "dtype": "int64",
         "name": "READ_HISTORY_BOOKMARKS",
         "stats": {
          "histogram": [
           {
            "bin_end": 0.1,
            "bin_start": 0,
            "count": 4
           },
           {
            "bin_end": 0.2,
            "bin_start": 0.1,
            "count": 0
           },
           {
            "bin_end": 0.30000000000000004,
            "bin_start": 0.2,
            "count": 0
           },
           {
            "bin_end": 0.4,
            "bin_start": 0.30000000000000004,
            "count": 0
           },
           {
            "bin_end": 0.5,
            "bin_start": 0.4,
            "count": 0
           },
           {
            "bin_end": 0.6000000000000001,
            "bin_start": 0.5,
            "count": 0
           },
           {
            "bin_end": 0.7000000000000001,
            "bin_start": 0.6000000000000001,
            "count": 0
           },
           {
            "bin_end": 0.8,
            "bin_start": 0.7000000000000001,
            "count": 0
           },
           {
            "bin_end": 0.9,
            "bin_start": 0.8,
            "count": 0
           },
           {
            "bin_end": 1,
            "bin_start": 0.9,
            "count": 1
           }
          ],
          "max": "1",
          "min": "0",
          "nan_count": 0,
          "unique_count": 2
         }
        },
        {
         "dtype": "int64",
         "name": "READ_INPUT_STATE",
         "stats": {
          "histogram": [
           {
            "bin_end": -0.4,
            "bin_start": -0.5,
            "count": 0
           },
           {
            "bin_end": -0.3,
            "bin_start": -0.4,
            "count": 0
           },
           {
            "bin_end": -0.19999999999999996,
            "bin_start": -0.3,
            "count": 0
           },
           {
            "bin_end": -0.09999999999999998,
            "bin_start": -0.19999999999999996,
            "count": 0
           },
           {
            "bin_end": 0,
            "bin_start": -0.09999999999999998,
            "count": 0
           },
           {
            "bin_end": 0.10000000000000009,
            "bin_start": 0,
            "count": 5
           },
           {
            "bin_end": 0.20000000000000007,
            "bin_start": 0.10000000000000009,
            "count": 0
           },
           {
            "bin_end": 0.30000000000000004,
            "bin_start": 0.20000000000000007,
            "count": 0
           },
           {
            "bin_end": 0.4,
            "bin_start": 0.30000000000000004,
            "count": 0
           },
           {
            "bin_end": 0.5,
            "bin_start": 0.4,
            "count": 0
           }
          ],
          "max": "0",
          "min": "0",
          "nan_count": 0,
          "unique_count": 1
         }
        },
        {
         "dtype": "int64",
         "name": "READ_OWNER_DATA",
         "stats": {
          "histogram": [
           {
            "bin_end": 0.1,
            "bin_start": 0,
            "count": 4
           },
           {
            "bin_end": 0.2,
            "bin_start": 0.1,
            "count": 0
           },
           {
            "bin_end": 0.30000000000000004,
            "bin_start": 0.2,
            "count": 0
           },
           {
            "bin_end": 0.4,
            "bin_start": 0.30000000000000004,
            "count": 0
           },
           {
            "bin_end": 0.5,
            "bin_start": 0.4,
            "count": 0
           },
           {
            "bin_end": 0.6000000000000001,
            "bin_start": 0.5,
            "count": 0
           },
           {
            "bin_end": 0.7000000000000001,
            "bin_start": 0.6000000000000001,
            "count": 0
           },
           {
            "bin_end": 0.8,
            "bin_start": 0.7000000000000001,
            "count": 0
           },
           {
            "bin_end": 0.9,
            "bin_start": 0.8,
            "count": 0
           },
           {
            "bin_end": 1,
            "bin_start": 0.9,
            "count": 1
           }
          ],
          "max": "1",
          "min": "0",
          "nan_count": 0,
          "unique_count": 2
         }
        },
        {
         "dtype": "int64",
         "name": "READ_PHONE_NUMBERS",
         "stats": {
          "histogram": [
           {
            "bin_end": -0.4,
            "bin_start": -0.5,
            "count": 0
           },
           {
            "bin_end": -0.3,
            "bin_start": -0.4,
            "count": 0
           },
           {
            "bin_end": -0.19999999999999996,
            "bin_start": -0.3,
            "count": 0
           },
           {
            "bin_end": -0.09999999999999998,
            "bin_start": -0.19999999999999996,
            "count": 0
           },
           {
            "bin_end": 0,
            "bin_start": -0.09999999999999998,
            "count": 0
           },
           {
            "bin_end": 0.10000000000000009,
            "bin_start": 0,
            "count": 5
           },
           {
            "bin_end": 0.20000000000000007,
            "bin_start": 0.10000000000000009,
            "count": 0
           },
           {
            "bin_end": 0.30000000000000004,
            "bin_start": 0.20000000000000007,
            "count": 0
           },
           {
            "bin_end": 0.4,
            "bin_start": 0.30000000000000004,
            "count": 0
           },
           {
            "bin_end": 0.5,
            "bin_start": 0.4,
            "count": 0
           }
          ],
          "max": "0",
          "min": "0",
          "nan_count": 0,
          "unique_count": 1
         }
        },
        {
         "dtype": "int64",
         "name": "READ_PROFILE",
         "stats": {
          "histogram": [
           {
            "bin_end": 0.1,
            "bin_start": 0,
            "count": 4
           },
           {
            "bin_end": 0.2,
            "bin_start": 0.1,
            "count": 0
           },
           {
            "bin_end": 0.30000000000000004,
            "bin_start": 0.2,
            "count": 0
           },
           {
            "bin_end": 0.4,
            "bin_start": 0.30000000000000004,
            "count": 0
           },
           {
            "bin_end": 0.5,
            "bin_start": 0.4,
            "count": 0
           },
           {
            "bin_end": 0.6000000000000001,
            "bin_start": 0.5,
            "count": 0
           },
           {
            "bin_end": 0.7000000000000001,
            "bin_start": 0.6000000000000001,
            "count": 0
           },
           {
            "bin_end": 0.8,
            "bin_start": 0.7000000000000001,
            "count": 0
           },
           {
            "bin_end": 0.9,
            "bin_start": 0.8,
            "count": 0
           },
           {
            "bin_end": 1,
            "bin_start": 0.9,
            "count": 1
           }
          ],
          "max": "1",
          "min": "0",
          "nan_count": 0,
          "unique_count": 2
         }
        },
        {
         "dtype": "int64",
         "name": "READ_SOCIAL_STREAM",
         "stats": {
          "histogram": [
           {
            "bin_end": 0.1,
            "bin_start": 0,
            "count": 4
           },
           {
            "bin_end": 0.2,
            "bin_start": 0.1,
            "count": 0
           },
           {
            "bin_end": 0.30000000000000004,
            "bin_start": 0.2,
            "count": 0
           },
           {
            "bin_end": 0.4,
            "bin_start": 0.30000000000000004,
            "count": 0
           },
           {
            "bin_end": 0.5,
            "bin_start": 0.4,
            "count": 0
           },
           {
            "bin_end": 0.6000000000000001,
            "bin_start": 0.5,
            "count": 0
           },
           {
            "bin_end": 0.7000000000000001,
            "bin_start": 0.6000000000000001,
            "count": 0
           },
           {
            "bin_end": 0.8,
            "bin_start": 0.7000000000000001,
            "count": 0
           },
           {
            "bin_end": 0.9,
            "bin_start": 0.8,
            "count": 0
           },
           {
            "bin_end": 1,
            "bin_start": 0.9,
            "count": 1
           }
          ],
          "max": "1",
          "min": "0",
          "nan_count": 0,
          "unique_count": 2
         }
        },
        {
         "dtype": "int64",
         "name": "READ_USER_DICTIONARY",
         "stats": {
          "histogram": [
           {
            "bin_end": 0.1,
            "bin_start": 0,
            "count": 4
           },
           {
            "bin_end": 0.2,
            "bin_start": 0.1,
            "count": 0
           },
           {
            "bin_end": 0.30000000000000004,
            "bin_start": 0.2,
            "count": 0
           },
           {
            "bin_end": 0.4,
            "bin_start": 0.30000000000000004,
            "count": 0
           },
           {
            "bin_end": 0.5,
            "bin_start": 0.4,
            "count": 0
           },
           {
            "bin_end": 0.6000000000000001,
            "bin_start": 0.5,
            "count": 0
           },
           {
            "bin_end": 0.7000000000000001,
            "bin_start": 0.6000000000000001,
            "count": 0
           },
           {
            "bin_end": 0.8,
            "bin_start": 0.7000000000000001,
            "count": 0
           },
           {
            "bin_end": 0.9,
            "bin_start": 0.8,
            "count": 0
           },
           {
            "bin_end": 1,
            "bin_start": 0.9,
            "count": 1
           }
          ],
          "max": "1",
          "min": "0",
          "nan_count": 0,
          "unique_count": 2
         }
        },
        {
         "dtype": "int64",
         "name": "READ_VOICEMAIL",
         "stats": {
          "histogram": [
           {
            "bin_end": -0.4,
            "bin_start": -0.5,
            "count": 0
           },
           {
            "bin_end": -0.3,
            "bin_start": -0.4,
            "count": 0
           },
           {
            "bin_end": -0.19999999999999996,
            "bin_start": -0.3,
            "count": 0
           },
           {
            "bin_end": -0.09999999999999998,
            "bin_start": -0.19999999999999996,
            "count": 0
           },
           {
            "bin_end": 0,
            "bin_start": -0.09999999999999998,
            "count": 0
           },
           {
            "bin_end": 0.10000000000000009,
            "bin_start": 0,
            "count": 5
           },
           {
            "bin_end": 0.20000000000000007,
            "bin_start": 0.10000000000000009,
            "count": 0
           },
           {
            "bin_end": 0.30000000000000004,
            "bin_start": 0.20000000000000007,
            "count": 0
           },
           {
            "bin_end": 0.4,
            "bin_start": 0.30000000000000004,
            "count": 0
           },
           {
            "bin_end": 0.5,
            "bin_start": 0.4,
            "count": 0
           }
          ],
          "max": "0",
          "min": "0",
          "nan_count": 0,
          "unique_count": 1
         }
        },
        {
         "dtype": "int64",
         "name": "REQUEST_DELETE_PACKAGES",
         "stats": {
          "histogram": [
           {
            "bin_end": -0.4,
            "bin_start": -0.5,
            "count": 0
           },
           {
            "bin_end": -0.3,
            "bin_start": -0.4,
            "count": 0
           },
           {
            "bin_end": -0.19999999999999996,
            "bin_start": -0.3,
            "count": 0
           },
           {
            "bin_end": -0.09999999999999998,
            "bin_start": -0.19999999999999996,
            "count": 0
           },
           {
            "bin_end": 0,
            "bin_start": -0.09999999999999998,
            "count": 0
           },
           {
            "bin_end": 0.10000000000000009,
            "bin_start": 0,
            "count": 5
           },
           {
            "bin_end": 0.20000000000000007,
            "bin_start": 0.10000000000000009,
            "count": 0
           },
           {
            "bin_end": 0.30000000000000004,
            "bin_start": 0.20000000000000007,
            "count": 0
           },
           {
            "bin_end": 0.4,
            "bin_start": 0.30000000000000004,
            "count": 0
           },
           {
            "bin_end": 0.5,
            "bin_start": 0.4,
            "count": 0
           }
          ],
          "max": "0",
          "min": "0",
          "nan_count": 0,
          "unique_count": 1
         }
        },
        {
         "dtype": "int64",
         "name": "REQUEST_IGNORE_BATTERY_OPTIMIZATIONS",
         "stats": {
          "histogram": [
           {
            "bin_end": -0.4,
            "bin_start": -0.5,
            "count": 0
           },
           {
            "bin_end": -0.3,
            "bin_start": -0.4,
            "count": 0
           },
           {
            "bin_end": -0.19999999999999996,
            "bin_start": -0.3,
            "count": 0
           },
           {
            "bin_end": -0.09999999999999998,
            "bin_start": -0.19999999999999996,
            "count": 0
           },
           {
            "bin_end": 0,
            "bin_start": -0.09999999999999998,
            "count": 0
           },
           {
            "bin_end": 0.10000000000000009,
            "bin_start": 0,
            "count": 5
           },
           {
            "bin_end": 0.20000000000000007,
            "bin_start": 0.10000000000000009,
            "count": 0
           },
           {
            "bin_end": 0.30000000000000004,
            "bin_start": 0.20000000000000007,
            "count": 0
           },
           {
            "bin_end": 0.4,
            "bin_start": 0.30000000000000004,
            "count": 0
           },
           {
            "bin_end": 0.5,
            "bin_start": 0.4,
            "count": 0
           }
          ],
          "max": "0",
          "min": "0",
          "nan_count": 0,
          "unique_count": 1
         }
        },
        {
         "dtype": "int64",
         "name": "REQUEST_INSTALL_PACKAGES",
         "stats": {
          "histogram": [
           {
            "bin_end": -0.4,
            "bin_start": -0.5,
            "count": 0
           },
           {
            "bin_end": -0.3,
            "bin_start": -0.4,
            "count": 0
           },
           {
            "bin_end": -0.19999999999999996,
            "bin_start": -0.3,
            "count": 0
           },
           {
            "bin_end": -0.09999999999999998,
            "bin_start": -0.19999999999999996,
            "count": 0
           },
           {
            "bin_end": 0,
            "bin_start": -0.09999999999999998,
            "count": 0
           },
           {
            "bin_end": 0.10000000000000009,
            "bin_start": 0,
            "count": 5
           },
           {
            "bin_end": 0.20000000000000007,
            "bin_start": 0.10000000000000009,
            "count": 0
           },
           {
            "bin_end": 0.30000000000000004,
            "bin_start": 0.20000000000000007,
            "count": 0
           },
           {
            "bin_end": 0.4,
            "bin_start": 0.30000000000000004,
            "count": 0
           },
           {
            "bin_end": 0.5,
            "bin_start": 0.4,
            "count": 0
           }
          ],
          "max": "0",
          "min": "0",
          "nan_count": 0,
          "unique_count": 1
         }
        },
        {
         "dtype": "int64",
         "name": "RESTART_PACKAGES",
         "stats": {
          "histogram": [
           {
            "bin_end": 0.1,
            "bin_start": 0,
            "count": 4
           },
           {
            "bin_end": 0.2,
            "bin_start": 0.1,
            "count": 0
           },
           {
            "bin_end": 0.30000000000000004,
            "bin_start": 0.2,
            "count": 0
           },
           {
            "bin_end": 0.4,
            "bin_start": 0.30000000000000004,
            "count": 0
           },
           {
            "bin_end": 0.5,
            "bin_start": 0.4,
            "count": 0
           },
           {
            "bin_end": 0.6000000000000001,
            "bin_start": 0.5,
            "count": 0
           },
           {
            "bin_end": 0.7000000000000001,
            "bin_start": 0.6000000000000001,
            "count": 0
           },
           {
            "bin_end": 0.8,
            "bin_start": 0.7000000000000001,
            "count": 0
           },
           {
            "bin_end": 0.9,
            "bin_start": 0.8,
            "count": 0
           },
           {
            "bin_end": 1,
            "bin_start": 0.9,
            "count": 1
           }
          ],
          "max": "1",
          "min": "0",
          "nan_count": 0,
          "unique_count": 2
         }
        },
        {
         "dtype": "int64",
         "name": "SEND_RESPOND_VIA_MESSAGE",
         "stats": {
          "histogram": [
           {
            "bin_end": -0.4,
            "bin_start": -0.5,
            "count": 0
           },
           {
            "bin_end": -0.3,
            "bin_start": -0.4,
            "count": 0
           },
           {
            "bin_end": -0.19999999999999996,
            "bin_start": -0.3,
            "count": 0
           },
           {
            "bin_end": -0.09999999999999998,
            "bin_start": -0.19999999999999996,
            "count": 0
           },
           {
            "bin_end": 0,
            "bin_start": -0.09999999999999998,
            "count": 0
           },
           {
            "bin_end": 0.10000000000000009,
            "bin_start": 0,
            "count": 5
           },
           {
            "bin_end": 0.20000000000000007,
            "bin_start": 0.10000000000000009,
            "count": 0
           },
           {
            "bin_end": 0.30000000000000004,
            "bin_start": 0.20000000000000007,
            "count": 0
           },
           {
            "bin_end": 0.4,
            "bin_start": 0.30000000000000004,
            "count": 0
           },
           {
            "bin_end": 0.5,
            "bin_start": 0.4,
            "count": 0
           }
          ],
          "max": "0",
          "min": "0",
          "nan_count": 0,
          "unique_count": 1
         }
        },
        {
         "dtype": "int64",
         "name": "SET_ACTIVITY_WATCHER",
         "stats": {
          "histogram": [
           {
            "bin_end": -0.4,
            "bin_start": -0.5,
            "count": 0
           },
           {
            "bin_end": -0.3,
            "bin_start": -0.4,
            "count": 0
           },
           {
            "bin_end": -0.19999999999999996,
            "bin_start": -0.3,
            "count": 0
           },
           {
            "bin_end": -0.09999999999999998,
            "bin_start": -0.19999999999999996,
            "count": 0
           },
           {
            "bin_end": 0,
            "bin_start": -0.09999999999999998,
            "count": 0
           },
           {
            "bin_end": 0.10000000000000009,
            "bin_start": 0,
            "count": 5
           },
           {
            "bin_end": 0.20000000000000007,
            "bin_start": 0.10000000000000009,
            "count": 0
           },
           {
            "bin_end": 0.30000000000000004,
            "bin_start": 0.20000000000000007,
            "count": 0
           },
           {
            "bin_end": 0.4,
            "bin_start": 0.30000000000000004,
            "count": 0
           },
           {
            "bin_end": 0.5,
            "bin_start": 0.4,
            "count": 0
           }
          ],
          "max": "0",
          "min": "0",
          "nan_count": 0,
          "unique_count": 1
         }
        },
        {
         "dtype": "int64",
         "name": "SET_ALARM",
         "stats": {
          "histogram": [
           {
            "bin_end": 0.1,
            "bin_start": 0,
            "count": 4
           },
           {
            "bin_end": 0.2,
            "bin_start": 0.1,
            "count": 0
           },
           {
            "bin_end": 0.30000000000000004,
            "bin_start": 0.2,
            "count": 0
           },
           {
            "bin_end": 0.4,
            "bin_start": 0.30000000000000004,
            "count": 0
           },
           {
            "bin_end": 0.5,
            "bin_start": 0.4,
            "count": 0
           },
           {
            "bin_end": 0.6000000000000001,
            "bin_start": 0.5,
            "count": 0
           },
           {
            "bin_end": 0.7000000000000001,
            "bin_start": 0.6000000000000001,
            "count": 0
           },
           {
            "bin_end": 0.8,
            "bin_start": 0.7000000000000001,
            "count": 0
           },
           {
            "bin_end": 0.9,
            "bin_start": 0.8,
            "count": 0
           },
           {
            "bin_end": 1,
            "bin_start": 0.9,
            "count": 1
           }
          ],
          "max": "1",
          "min": "0",
          "nan_count": 0,
          "unique_count": 2
         }
        },
        {
         "dtype": "int64",
         "name": "SET_ORIENTATION",
         "stats": {
          "histogram": [
           {
            "bin_end": -0.4,
            "bin_start": -0.5,
            "count": 0
           },
           {
            "bin_end": -0.3,
            "bin_start": -0.4,
            "count": 0
           },
           {
            "bin_end": -0.19999999999999996,
            "bin_start": -0.3,
            "count": 0
           },
           {
            "bin_end": -0.09999999999999998,
            "bin_start": -0.19999999999999996,
            "count": 0
           },
           {
            "bin_end": 0,
            "bin_start": -0.09999999999999998,
            "count": 0
           },
           {
            "bin_end": 0.10000000000000009,
            "bin_start": 0,
            "count": 5
           },
           {
            "bin_end": 0.20000000000000007,
            "bin_start": 0.10000000000000009,
            "count": 0
           },
           {
            "bin_end": 0.30000000000000004,
            "bin_start": 0.20000000000000007,
            "count": 0
           },
           {
            "bin_end": 0.4,
            "bin_start": 0.30000000000000004,
            "count": 0
           },
           {
            "bin_end": 0.5,
            "bin_start": 0.4,
            "count": 0
           }
          ],
          "max": "0",
          "min": "0",
          "nan_count": 0,
          "unique_count": 1
         }
        },
        {
         "dtype": "int64",
         "name": "SET_POINTER_SPEED",
         "stats": {
          "histogram": [
           {
            "bin_end": -0.4,
            "bin_start": -0.5,
            "count": 0
           },
           {
            "bin_end": -0.3,
            "bin_start": -0.4,
            "count": 0
           },
           {
            "bin_end": -0.19999999999999996,
            "bin_start": -0.3,
            "count": 0
           },
           {
            "bin_end": -0.09999999999999998,
            "bin_start": -0.19999999999999996,
            "count": 0
           },
           {
            "bin_end": 0,
            "bin_start": -0.09999999999999998,
            "count": 0
           },
           {
            "bin_end": 0.10000000000000009,
            "bin_start": 0,
            "count": 5
           },
           {
            "bin_end": 0.20000000000000007,
            "bin_start": 0.10000000000000009,
            "count": 0
           },
           {
            "bin_end": 0.30000000000000004,
            "bin_start": 0.20000000000000007,
            "count": 0
           },
           {
            "bin_end": 0.4,
            "bin_start": 0.30000000000000004,
            "count": 0
           },
           {
            "bin_end": 0.5,
            "bin_start": 0.4,
            "count": 0
           }
          ],
          "max": "0",
          "min": "0",
          "nan_count": 0,
          "unique_count": 1
         }
        },
        {
         "dtype": "int64",
         "name": "SET_PREFERRED_APPLICATIONS",
         "stats": {
          "histogram": [
           {
            "bin_end": -0.4,
            "bin_start": -0.5,
            "count": 0
           },
           {
            "bin_end": -0.3,
            "bin_start": -0.4,
            "count": 0
           },
           {
            "bin_end": -0.19999999999999996,
            "bin_start": -0.3,
            "count": 0
           },
           {
            "bin_end": -0.09999999999999998,
            "bin_start": -0.19999999999999996,
            "count": 0
           },
           {
            "bin_end": 0,
            "bin_start": -0.09999999999999998,
            "count": 0
           },
           {
            "bin_end": 0.10000000000000009,
            "bin_start": 0,
            "count": 5
           },
           {
            "bin_end": 0.20000000000000007,
            "bin_start": 0.10000000000000009,
            "count": 0
           },
           {
            "bin_end": 0.30000000000000004,
            "bin_start": 0.20000000000000007,
            "count": 0
           },
           {
            "bin_end": 0.4,
            "bin_start": 0.30000000000000004,
            "count": 0
           },
           {
            "bin_end": 0.5,
            "bin_start": 0.4,
            "count": 0
           }
          ],
          "max": "0",
          "min": "0",
          "nan_count": 0,
          "unique_count": 1
         }
        },
        {
         "dtype": "int64",
         "name": "SET_PROCESS_FOREGROUND",
         "stats": {
          "histogram": [
           {
            "bin_end": -0.4,
            "bin_start": -0.5,
            "count": 0
           },
           {
            "bin_end": -0.3,
            "bin_start": -0.4,
            "count": 0
           },
           {
            "bin_end": -0.19999999999999996,
            "bin_start": -0.3,
            "count": 0
           },
           {
            "bin_end": -0.09999999999999998,
            "bin_start": -0.19999999999999996,
            "count": 0
           },
           {
            "bin_end": 0,
            "bin_start": -0.09999999999999998,
            "count": 0
           },
           {
            "bin_end": 0.10000000000000009,
            "bin_start": 0,
            "count": 5
           },
           {
            "bin_end": 0.20000000000000007,
            "bin_start": 0.10000000000000009,
            "count": 0
           },
           {
            "bin_end": 0.30000000000000004,
            "bin_start": 0.20000000000000007,
            "count": 0
           },
           {
            "bin_end": 0.4,
            "bin_start": 0.30000000000000004,
            "count": 0
           },
           {
            "bin_end": 0.5,
            "bin_start": 0.4,
            "count": 0
           }
          ],
          "max": "0",
          "min": "0",
          "nan_count": 0,
          "unique_count": 1
         }
        },
        {
         "dtype": "int64",
         "name": "SET_TIME",
         "stats": {
          "histogram": [
           {
            "bin_end": -0.4,
            "bin_start": -0.5,
            "count": 0
           },
           {
            "bin_end": -0.3,
            "bin_start": -0.4,
            "count": 0
           },
           {
            "bin_end": -0.19999999999999996,
            "bin_start": -0.3,
            "count": 0
           },
           {
            "bin_end": -0.09999999999999998,
            "bin_start": -0.19999999999999996,
            "count": 0
           },
           {
            "bin_end": 0,
            "bin_start": -0.09999999999999998,
            "count": 0
           },
           {
            "bin_end": 0.10000000000000009,
            "bin_start": 0,
            "count": 5
           },
           {
            "bin_end": 0.20000000000000007,
            "bin_start": 0.10000000000000009,
            "count": 0
           },
           {
            "bin_end": 0.30000000000000004,
            "bin_start": 0.20000000000000007,
            "count": 0
           },
           {
            "bin_end": 0.4,
            "bin_start": 0.30000000000000004,
            "count": 0
           },
           {
            "bin_end": 0.5,
            "bin_start": 0.4,
            "count": 0
           }
          ],
          "max": "0",
          "min": "0",
          "nan_count": 0,
          "unique_count": 1
         }
        },
        {
         "dtype": "int64",
         "name": "STATUS_BAR",
         "stats": {
          "histogram": [
           {
            "bin_end": -0.4,
            "bin_start": -0.5,
            "count": 0
           },
           {
            "bin_end": -0.3,
            "bin_start": -0.4,
            "count": 0
           },
           {
            "bin_end": -0.19999999999999996,
            "bin_start": -0.3,
            "count": 0
           },
           {
            "bin_end": -0.09999999999999998,
            "bin_start": -0.19999999999999996,
            "count": 0
           },
           {
            "bin_end": 0,
            "bin_start": -0.09999999999999998,
            "count": 0
           },
           {
            "bin_end": 0.10000000000000009,
            "bin_start": 0,
            "count": 5
           },
           {
            "bin_end": 0.20000000000000007,
            "bin_start": 0.10000000000000009,
            "count": 0
           },
           {
            "bin_end": 0.30000000000000004,
            "bin_start": 0.20000000000000007,
            "count": 0
           },
           {
            "bin_end": 0.4,
            "bin_start": 0.30000000000000004,
            "count": 0
           },
           {
            "bin_end": 0.5,
            "bin_start": 0.4,
            "count": 0
           }
          ],
          "max": "0",
          "min": "0",
          "nan_count": 0,
          "unique_count": 1
         }
        },
        {
         "dtype": "int64",
         "name": "SUBSCRIBED_FEEDS_READ",
         "stats": {
          "histogram": [
           {
            "bin_end": 0.1,
            "bin_start": 0,
            "count": 4
           },
           {
            "bin_end": 0.2,
            "bin_start": 0.1,
            "count": 0
           },
           {
            "bin_end": 0.30000000000000004,
            "bin_start": 0.2,
            "count": 0
           },
           {
            "bin_end": 0.4,
            "bin_start": 0.30000000000000004,
            "count": 0
           },
           {
            "bin_end": 0.5,
            "bin_start": 0.4,
            "count": 0
           },
           {
            "bin_end": 0.6000000000000001,
            "bin_start": 0.5,
            "count": 0
           },
           {
            "bin_end": 0.7000000000000001,
            "bin_start": 0.6000000000000001,
            "count": 0
           },
           {
            "bin_end": 0.8,
            "bin_start": 0.7000000000000001,
            "count": 0
           },
           {
            "bin_end": 0.9,
            "bin_start": 0.8,
            "count": 0
           },
           {
            "bin_end": 1,
            "bin_start": 0.9,
            "count": 1
           }
          ],
          "max": "1",
          "min": "0",
          "nan_count": 0,
          "unique_count": 2
         }
        },
        {
         "dtype": "int64",
         "name": "SUBSCRIBED_FEEDS_WRITE",
         "stats": {
          "histogram": [
           {
            "bin_end": 0.1,
            "bin_start": 0,
            "count": 4
           },
           {
            "bin_end": 0.2,
            "bin_start": 0.1,
            "count": 0
           },
           {
            "bin_end": 0.30000000000000004,
            "bin_start": 0.2,
            "count": 0
           },
           {
            "bin_end": 0.4,
            "bin_start": 0.30000000000000004,
            "count": 0
           },
           {
            "bin_end": 0.5,
            "bin_start": 0.4,
            "count": 0
           },
           {
            "bin_end": 0.6000000000000001,
            "bin_start": 0.5,
            "count": 0
           },
           {
            "bin_end": 0.7000000000000001,
            "bin_start": 0.6000000000000001,
            "count": 0
           },
           {
            "bin_end": 0.8,
            "bin_start": 0.7000000000000001,
            "count": 0
           },
           {
            "bin_end": 0.9,
            "bin_start": 0.8,
            "count": 0
           },
           {
            "bin_end": 1,
            "bin_start": 0.9,
            "count": 1
           }
          ],
          "max": "1",
          "min": "0",
          "nan_count": 0,
          "unique_count": 2
         }
        },
        {
         "dtype": "int64",
         "name": "TRANSMIT_IR",
         "stats": {
          "histogram": [
           {
            "bin_end": 0.1,
            "bin_start": 0,
            "count": 4
           },
           {
            "bin_end": 0.2,
            "bin_start": 0.1,
            "count": 0
           },
           {
            "bin_end": 0.30000000000000004,
            "bin_start": 0.2,
            "count": 0
           },
           {
            "bin_end": 0.4,
            "bin_start": 0.30000000000000004,
            "count": 0
           },
           {
            "bin_end": 0.5,
            "bin_start": 0.4,
            "count": 0
           },
           {
            "bin_end": 0.6000000000000001,
            "bin_start": 0.5,
            "count": 0
           },
           {
            "bin_end": 0.7000000000000001,
            "bin_start": 0.6000000000000001,
            "count": 0
           },
           {
            "bin_end": 0.8,
            "bin_start": 0.7000000000000001,
            "count": 0
           },
           {
            "bin_end": 0.9,
            "bin_start": 0.8,
            "count": 0
           },
           {
            "bin_end": 1,
            "bin_start": 0.9,
            "count": 1
           }
          ],
          "max": "1",
          "min": "0",
          "nan_count": 0,
          "unique_count": 2
         }
        },
        {
         "dtype": "int64",
         "name": "UNINSTALL_SHORTCUT",
         "stats": {
          "histogram": [
           {
            "bin_end": 0.1,
            "bin_start": 0,
            "count": 4
           },
           {
            "bin_end": 0.2,
            "bin_start": 0.1,
            "count": 0
           },
           {
            "bin_end": 0.30000000000000004,
            "bin_start": 0.2,
            "count": 0
           },
           {
            "bin_end": 0.4,
            "bin_start": 0.30000000000000004,
            "count": 0
           },
           {
            "bin_end": 0.5,
            "bin_start": 0.4,
            "count": 0
           },
           {
            "bin_end": 0.6000000000000001,
            "bin_start": 0.5,
            "count": 0
           },
           {
            "bin_end": 0.7000000000000001,
            "bin_start": 0.6000000000000001,
            "count": 0
           },
           {
            "bin_end": 0.8,
            "bin_start": 0.7000000000000001,
            "count": 0
           },
           {
            "bin_end": 0.9,
            "bin_start": 0.8,
            "count": 0
           },
           {
            "bin_end": 1,
            "bin_start": 0.9,
            "count": 1
           }
          ],
          "max": "1",
          "min": "0",
          "nan_count": 0,
          "unique_count": 2
         }
        },
        {
         "dtype": "int64",
         "name": "UPDATE_DEVICE_STATS",
         "stats": {
          "histogram": [
           {
            "bin_end": -0.4,
            "bin_start": -0.5,
            "count": 0
           },
           {
            "bin_end": -0.3,
            "bin_start": -0.4,
            "count": 0
           },
           {
            "bin_end": -0.19999999999999996,
            "bin_start": -0.3,
            "count": 0
           },
           {
            "bin_end": -0.09999999999999998,
            "bin_start": -0.19999999999999996,
            "count": 0
           },
           {
            "bin_end": 0,
            "bin_start": -0.09999999999999998,
            "count": 0
           },
           {
            "bin_end": 0.10000000000000009,
            "bin_start": 0,
            "count": 5
           },
           {
            "bin_end": 0.20000000000000007,
            "bin_start": 0.10000000000000009,
            "count": 0
           },
           {
            "bin_end": 0.30000000000000004,
            "bin_start": 0.20000000000000007,
            "count": 0
           },
           {
            "bin_end": 0.4,
            "bin_start": 0.30000000000000004,
            "count": 0
           },
           {
            "bin_end": 0.5,
            "bin_start": 0.4,
            "count": 0
           }
          ],
          "max": "0",
          "min": "0",
          "nan_count": 0,
          "unique_count": 1
         }
        },
        {
         "dtype": "int64",
         "name": "USE_BIOMETRIC",
         "stats": {
          "histogram": [
           {
            "bin_end": -0.4,
            "bin_start": -0.5,
            "count": 0
           },
           {
            "bin_end": -0.3,
            "bin_start": -0.4,
            "count": 0
           },
           {
            "bin_end": -0.19999999999999996,
            "bin_start": -0.3,
            "count": 0
           },
           {
            "bin_end": -0.09999999999999998,
            "bin_start": -0.19999999999999996,
            "count": 0
           },
           {
            "bin_end": 0,
            "bin_start": -0.09999999999999998,
            "count": 0
           },
           {
            "bin_end": 0.10000000000000009,
            "bin_start": 0,
            "count": 5
           },
           {
            "bin_end": 0.20000000000000007,
            "bin_start": 0.10000000000000009,
            "count": 0
           },
           {
            "bin_end": 0.30000000000000004,
            "bin_start": 0.20000000000000007,
            "count": 0
           },
           {
            "bin_end": 0.4,
            "bin_start": 0.30000000000000004,
            "count": 0
           },
           {
            "bin_end": 0.5,
            "bin_start": 0.4,
            "count": 0
           }
          ],
          "max": "0",
          "min": "0",
          "nan_count": 0,
          "unique_count": 1
         }
        },
        {
         "dtype": "int64",
         "name": "USE_CREDENTIALS",
         "stats": {
          "histogram": [
           {
            "bin_end": 0.1,
            "bin_start": 0,
            "count": 4
           },
           {
            "bin_end": 0.2,
            "bin_start": 0.1,
            "count": 0
           },
           {
            "bin_end": 0.30000000000000004,
            "bin_start": 0.2,
            "count": 0
           },
           {
            "bin_end": 0.4,
            "bin_start": 0.30000000000000004,
            "count": 0
           },
           {
            "bin_end": 0.5,
            "bin_start": 0.4,
            "count": 0
           },
           {
            "bin_end": 0.6000000000000001,
            "bin_start": 0.5,
            "count": 0
           },
           {
            "bin_end": 0.7000000000000001,
            "bin_start": 0.6000000000000001,
            "count": 0
           },
           {
            "bin_end": 0.8,
            "bin_start": 0.7000000000000001,
            "count": 0
           },
           {
            "bin_end": 0.9,
            "bin_start": 0.8,
            "count": 0
           },
           {
            "bin_end": 1,
            "bin_start": 0.9,
            "count": 1
           }
          ],
          "max": "1",
          "min": "0",
          "nan_count": 0,
          "unique_count": 2
         }
        },
        {
         "dtype": "int64",
         "name": "USE_FINGERPRINT",
         "stats": {
          "histogram": [
           {
            "bin_end": 0.1,
            "bin_start": 0,
            "count": 4
           },
           {
            "bin_end": 0.2,
            "bin_start": 0.1,
            "count": 0
           },
           {
            "bin_end": 0.30000000000000004,
            "bin_start": 0.2,
            "count": 0
           },
           {
            "bin_end": 0.4,
            "bin_start": 0.30000000000000004,
            "count": 0
           },
           {
            "bin_end": 0.5,
            "bin_start": 0.4,
            "count": 0
           },
           {
            "bin_end": 0.6000000000000001,
            "bin_start": 0.5,
            "count": 0
           },
           {
            "bin_end": 0.7000000000000001,
            "bin_start": 0.6000000000000001,
            "count": 0
           },
           {
            "bin_end": 0.8,
            "bin_start": 0.7000000000000001,
            "count": 0
           },
           {
            "bin_end": 0.9,
            "bin_start": 0.8,
            "count": 0
           },
           {
            "bin_end": 1,
            "bin_start": 0.9,
            "count": 1
           }
          ],
          "max": "1",
          "min": "0",
          "nan_count": 0,
          "unique_count": 2
         }
        },
        {
         "dtype": "int64",
         "name": "USE_FULL_SCREEN_INTENT",
         "stats": {
          "histogram": [
           {
            "bin_end": -0.4,
            "bin_start": -0.5,
            "count": 0
           },
           {
            "bin_end": -0.3,
            "bin_start": -0.4,
            "count": 0
           },
           {
            "bin_end": -0.19999999999999996,
            "bin_start": -0.3,
            "count": 0
           },
           {
            "bin_end": -0.09999999999999998,
            "bin_start": -0.19999999999999996,
            "count": 0
           },
           {
            "bin_end": 0,
            "bin_start": -0.09999999999999998,
            "count": 0
           },
           {
            "bin_end": 0.10000000000000009,
            "bin_start": 0,
            "count": 5
           },
           {
            "bin_end": 0.20000000000000007,
            "bin_start": 0.10000000000000009,
            "count": 0
           },
           {
            "bin_end": 0.30000000000000004,
            "bin_start": 0.20000000000000007,
            "count": 0
           },
           {
            "bin_end": 0.4,
            "bin_start": 0.30000000000000004,
            "count": 0
           },
           {
            "bin_end": 0.5,
            "bin_start": 0.4,
            "count": 0
           }
          ],
          "max": "0",
          "min": "0",
          "nan_count": 0,
          "unique_count": 1
         }
        },
        {
         "dtype": "int64",
         "name": "USE_SIP",
         "stats": {
          "histogram": [
           {
            "bin_end": 0.1,
            "bin_start": 0,
            "count": 4
           },
           {
            "bin_end": 0.2,
            "bin_start": 0.1,
            "count": 0
           },
           {
            "bin_end": 0.30000000000000004,
            "bin_start": 0.2,
            "count": 0
           },
           {
            "bin_end": 0.4,
            "bin_start": 0.30000000000000004,
            "count": 0
           },
           {
            "bin_end": 0.5,
            "bin_start": 0.4,
            "count": 0
           },
           {
            "bin_end": 0.6000000000000001,
            "bin_start": 0.5,
            "count": 0
           },
           {
            "bin_end": 0.7000000000000001,
            "bin_start": 0.6000000000000001,
            "count": 0
           },
           {
            "bin_end": 0.8,
            "bin_start": 0.7000000000000001,
            "count": 0
           },
           {
            "bin_end": 0.9,
            "bin_start": 0.8,
            "count": 0
           },
           {
            "bin_end": 1,
            "bin_start": 0.9,
            "count": 1
           }
          ],
          "max": "1",
          "min": "0",
          "nan_count": 0,
          "unique_count": 2
         }
        },
        {
         "dtype": "int64",
         "name": "WRITE_CALL_LOG",
         "stats": {
          "histogram": [
           {
            "bin_end": 0.1,
            "bin_start": 0,
            "count": 4
           },
           {
            "bin_end": 0.2,
            "bin_start": 0.1,
            "count": 0
           },
           {
            "bin_end": 0.30000000000000004,
            "bin_start": 0.2,
            "count": 0
           },
           {
            "bin_end": 0.4,
            "bin_start": 0.30000000000000004,
            "count": 0
           },
           {
            "bin_end": 0.5,
            "bin_start": 0.4,
            "count": 0
           },
           {
            "bin_end": 0.6000000000000001,
            "bin_start": 0.5,
            "count": 0
           },
           {
            "bin_end": 0.7000000000000001,
            "bin_start": 0.6000000000000001,
            "count": 0
           },
           {
            "bin_end": 0.8,
            "bin_start": 0.7000000000000001,
            "count": 0
           },
           {
            "bin_end": 0.9,
            "bin_start": 0.8,
            "count": 0
           },
           {
            "bin_end": 1,
            "bin_start": 0.9,
            "count": 1
           }
          ],
          "max": "1",
          "min": "0",
          "nan_count": 0,
          "unique_count": 2
         }
        },
        {
         "dtype": "int64",
         "name": "WRITE_EXTERNAL_STORAGE",
         "stats": {
          "histogram": [
           {
            "bin_end": 0.1,
            "bin_start": 0,
            "count": 1
           },
           {
            "bin_end": 0.2,
            "bin_start": 0.1,
            "count": 0
           },
           {
            "bin_end": 0.30000000000000004,
            "bin_start": 0.2,
            "count": 0
           },
           {
            "bin_end": 0.4,
            "bin_start": 0.30000000000000004,
            "count": 0
           },
           {
            "bin_end": 0.5,
            "bin_start": 0.4,
            "count": 0
           },
           {
            "bin_end": 0.6000000000000001,
            "bin_start": 0.5,
            "count": 0
           },
           {
            "bin_end": 0.7000000000000001,
            "bin_start": 0.6000000000000001,
            "count": 0
           },
           {
            "bin_end": 0.8,
            "bin_start": 0.7000000000000001,
            "count": 0
           },
           {
            "bin_end": 0.9,
            "bin_start": 0.8,
            "count": 0
           },
           {
            "bin_end": 1,
            "bin_start": 0.9,
            "count": 4
           }
          ],
          "max": "1",
          "min": "0",
          "nan_count": 0,
          "unique_count": 2
         }
        },
        {
         "dtype": "int64",
         "name": "WRITE_HISTORY_BOOKMARKS",
         "stats": {
          "histogram": [
           {
            "bin_end": 0.1,
            "bin_start": 0,
            "count": 4
           },
           {
            "bin_end": 0.2,
            "bin_start": 0.1,
            "count": 0
           },
           {
            "bin_end": 0.30000000000000004,
            "bin_start": 0.2,
            "count": 0
           },
           {
            "bin_end": 0.4,
            "bin_start": 0.30000000000000004,
            "count": 0
           },
           {
            "bin_end": 0.5,
            "bin_start": 0.4,
            "count": 0
           },
           {
            "bin_end": 0.6000000000000001,
            "bin_start": 0.5,
            "count": 0
           },
           {
            "bin_end": 0.7000000000000001,
            "bin_start": 0.6000000000000001,
            "count": 0
           },
           {
            "bin_end": 0.8,
            "bin_start": 0.7000000000000001,
            "count": 0
           },
           {
            "bin_end": 0.9,
            "bin_start": 0.8,
            "count": 0
           },
           {
            "bin_end": 1,
            "bin_start": 0.9,
            "count": 1
           }
          ],
          "max": "1",
          "min": "0",
          "nan_count": 0,
          "unique_count": 2
         }
        },
        {
         "dtype": "int64",
         "name": "WRITE_OWNER_DATA",
         "stats": {
          "histogram": [
           {
            "bin_end": 0.1,
            "bin_start": 0,
            "count": 4
           },
           {
            "bin_end": 0.2,
            "bin_start": 0.1,
            "count": 0
           },
           {
            "bin_end": 0.30000000000000004,
            "bin_start": 0.2,
            "count": 0
           },
           {
            "bin_end": 0.4,
            "bin_start": 0.30000000000000004,
            "count": 0
           },
           {
            "bin_end": 0.5,
            "bin_start": 0.4,
            "count": 0
           },
           {
            "bin_end": 0.6000000000000001,
            "bin_start": 0.5,
            "count": 0
           },
           {
            "bin_end": 0.7000000000000001,
            "bin_start": 0.6000000000000001,
            "count": 0
           },
           {
            "bin_end": 0.8,
            "bin_start": 0.7000000000000001,
            "count": 0
           },
           {
            "bin_end": 0.9,
            "bin_start": 0.8,
            "count": 0
           },
           {
            "bin_end": 1,
            "bin_start": 0.9,
            "count": 1
           }
          ],
          "max": "1",
          "min": "0",
          "nan_count": 0,
          "unique_count": 2
         }
        },
        {
         "dtype": "int64",
         "name": "WRITE_PROFILE",
         "stats": {
          "histogram": [
           {
            "bin_end": 0.1,
            "bin_start": 0,
            "count": 4
           },
           {
            "bin_end": 0.2,
            "bin_start": 0.1,
            "count": 0
           },
           {
            "bin_end": 0.30000000000000004,
            "bin_start": 0.2,
            "count": 0
           },
           {
            "bin_end": 0.4,
            "bin_start": 0.30000000000000004,
            "count": 0
           },
           {
            "bin_end": 0.5,
            "bin_start": 0.4,
            "count": 0
           },
           {
            "bin_end": 0.6000000000000001,
            "bin_start": 0.5,
            "count": 0
           },
           {
            "bin_end": 0.7000000000000001,
            "bin_start": 0.6000000000000001,
            "count": 0
           },
           {
            "bin_end": 0.8,
            "bin_start": 0.7000000000000001,
            "count": 0
           },
           {
            "bin_end": 0.9,
            "bin_start": 0.8,
            "count": 0
           },
           {
            "bin_end": 1,
            "bin_start": 0.9,
            "count": 1
           }
          ],
          "max": "1",
          "min": "0",
          "nan_count": 0,
          "unique_count": 2
         }
        },
        {
         "dtype": "int64",
         "name": "WRITE_SECURE_SETTINGS",
         "stats": {
          "histogram": [
           {
            "bin_end": -0.4,
            "bin_start": -0.5,
            "count": 0
           },
           {
            "bin_end": -0.3,
            "bin_start": -0.4,
            "count": 0
           },
           {
            "bin_end": -0.19999999999999996,
            "bin_start": -0.3,
            "count": 0
           },
           {
            "bin_end": -0.09999999999999998,
            "bin_start": -0.19999999999999996,
            "count": 0
           },
           {
            "bin_end": 0,
            "bin_start": -0.09999999999999998,
            "count": 0
           },
           {
            "bin_end": 0.10000000000000009,
            "bin_start": 0,
            "count": 5
           },
           {
            "bin_end": 0.20000000000000007,
            "bin_start": 0.10000000000000009,
            "count": 0
           },
           {
            "bin_end": 0.30000000000000004,
            "bin_start": 0.20000000000000007,
            "count": 0
           },
           {
            "bin_end": 0.4,
            "bin_start": 0.30000000000000004,
            "count": 0
           },
           {
            "bin_end": 0.5,
            "bin_start": 0.4,
            "count": 0
           }
          ],
          "max": "0",
          "min": "0",
          "nan_count": 0,
          "unique_count": 1
         }
        },
        {
         "dtype": "int64",
         "name": "WRITE_SMS",
         "stats": {
          "histogram": [
           {
            "bin_end": 0.1,
            "bin_start": 0,
            "count": 4
           },
           {
            "bin_end": 0.2,
            "bin_start": 0.1,
            "count": 0
           },
           {
            "bin_end": 0.30000000000000004,
            "bin_start": 0.2,
            "count": 0
           },
           {
            "bin_end": 0.4,
            "bin_start": 0.30000000000000004,
            "count": 0
           },
           {
            "bin_end": 0.5,
            "bin_start": 0.4,
            "count": 0
           },
           {
            "bin_end": 0.6000000000000001,
            "bin_start": 0.5,
            "count": 0
           },
           {
            "bin_end": 0.7000000000000001,
            "bin_start": 0.6000000000000001,
            "count": 0
           },
           {
            "bin_end": 0.8,
            "bin_start": 0.7000000000000001,
            "count": 0
           },
           {
            "bin_end": 0.9,
            "bin_start": 0.8,
            "count": 0
           },
           {
            "bin_end": 1,
            "bin_start": 0.9,
            "count": 1
           }
          ],
          "max": "1",
          "min": "0",
          "nan_count": 0,
          "unique_count": 2
         }
        },
        {
         "dtype": "int64",
         "name": "WRITE_SOCIAL_STREAM",
         "stats": {
          "histogram": [
           {
            "bin_end": 0.1,
            "bin_start": 0,
            "count": 4
           },
           {
            "bin_end": 0.2,
            "bin_start": 0.1,
            "count": 0
           },
           {
            "bin_end": 0.30000000000000004,
            "bin_start": 0.2,
            "count": 0
           },
           {
            "bin_end": 0.4,
            "bin_start": 0.30000000000000004,
            "count": 0
           },
           {
            "bin_end": 0.5,
            "bin_start": 0.4,
            "count": 0
           },
           {
            "bin_end": 0.6000000000000001,
            "bin_start": 0.5,
            "count": 0
           },
           {
            "bin_end": 0.7000000000000001,
            "bin_start": 0.6000000000000001,
            "count": 0
           },
           {
            "bin_end": 0.8,
            "bin_start": 0.7000000000000001,
            "count": 0
           },
           {
            "bin_end": 0.9,
            "bin_start": 0.8,
            "count": 0
           },
           {
            "bin_end": 1,
            "bin_start": 0.9,
            "count": 1
           }
          ],
          "max": "1",
          "min": "0",
          "nan_count": 0,
          "unique_count": 2
         }
        },
        {
         "dtype": "int64",
         "name": "WRITE_USER_DICTIONARY",
         "stats": {
          "histogram": [
           {
            "bin_end": 0.1,
            "bin_start": 0,
            "count": 4
           },
           {
            "bin_end": 0.2,
            "bin_start": 0.1,
            "count": 0
           },
           {
            "bin_end": 0.30000000000000004,
            "bin_start": 0.2,
            "count": 0
           },
           {
            "bin_end": 0.4,
            "bin_start": 0.30000000000000004,
            "count": 0
           },
           {
            "bin_end": 0.5,
            "bin_start": 0.4,
            "count": 0
           },
           {
            "bin_end": 0.6000000000000001,
            "bin_start": 0.5,
            "count": 0
           },
           {
            "bin_end": 0.7000000000000001,
            "bin_start": 0.6000000000000001,
            "count": 0
           },
           {
            "bin_end": 0.8,
            "bin_start": 0.7000000000000001,
            "count": 0
           },
           {
            "bin_end": 0.9,
            "bin_start": 0.8,
            "count": 0
           },
           {
            "bin_end": 1,
            "bin_start": 0.9,
            "count": 1
           }
          ],
          "max": "1",
          "min": "0",
          "nan_count": 0,
          "unique_count": 2
         }
        },
        {
         "dtype": "int64",
         "name": "WRITE_VOICEMAIL",
         "stats": {
          "histogram": [
           {
            "bin_end": -0.4,
            "bin_start": -0.5,
            "count": 0
           },
           {
            "bin_end": -0.3,
            "bin_start": -0.4,
            "count": 0
           },
           {
            "bin_end": -0.19999999999999996,
            "bin_start": -0.3,
            "count": 0
           },
           {
            "bin_end": -0.09999999999999998,
            "bin_start": -0.19999999999999996,
            "count": 0
           },
           {
            "bin_end": 0,
            "bin_start": -0.09999999999999998,
            "count": 0
           },
           {
            "bin_end": 0.10000000000000009,
            "bin_start": 0,
            "count": 5
           },
           {
            "bin_end": 0.20000000000000007,
            "bin_start": 0.10000000000000009,
            "count": 0
           },
           {
            "bin_end": 0.30000000000000004,
            "bin_start": 0.20000000000000007,
            "count": 0
           },
           {
            "bin_end": 0.4,
            "bin_start": 0.30000000000000004,
            "count": 0
           },
           {
            "bin_end": 0.5,
            "bin_start": 0.4,
            "count": 0
           }
          ],
          "max": "0",
          "min": "0",
          "nan_count": 0,
          "unique_count": 1
         }
        },
        {
         "dtype": "int64",
         "name": "class",
         "stats": {
          "histogram": [
           {
            "bin_end": 0.1,
            "bin_start": 0,
            "count": 2
           },
           {
            "bin_end": 0.2,
            "bin_start": 0.1,
            "count": 0
           },
           {
            "bin_end": 0.30000000000000004,
            "bin_start": 0.2,
            "count": 0
           },
           {
            "bin_end": 0.4,
            "bin_start": 0.30000000000000004,
            "count": 0
           },
           {
            "bin_end": 0.5,
            "bin_start": 0.4,
            "count": 0
           },
           {
            "bin_end": 0.6000000000000001,
            "bin_start": 0.5,
            "count": 0
           },
           {
            "bin_end": 0.7000000000000001,
            "bin_start": 0.6000000000000001,
            "count": 0
           },
           {
            "bin_end": 0.8,
            "bin_start": 0.7000000000000001,
            "count": 0
           },
           {
            "bin_end": 0.9,
            "bin_start": 0.8,
            "count": 0
           },
           {
            "bin_end": 1,
            "bin_start": 0.9,
            "count": 3
           }
          ],
          "max": "1",
          "min": "0",
          "nan_count": 0,
          "unique_count": 2
         }
        },
        {
         "dtype": "int64",
         "name": "_deepnote_index_column"
        }
       ],
       "row_count": 5,
       "rows_bottom": null,
       "rows_top": [
        {
         "ACCESS_BACKGROUND_LOCATION": 0,
         "ACCESS_CHECKIN_PROPERTIES": 0,
         "ACCESS_COARSE_LOCATION": 0,
         "ACCESS_FINE_LOCATION": 0,
         "ACCESS_LOCATION_EXTRA_COMMANDS": 0,
         "ACCESS_MOCK_LOCATION": 0,
         "ACCESS_NETWORK_STATE": 1,
         "ACCESS_NOTIFICATION_POLICY": 0,
         "ACCESS_SURFACE_FLINGER": 0,
         "ACCESS_WIFI_STATE": 0,
         "ACCOUNT_MANAGER": 0,
         "ACTIVITY_RECOGNITION": 0,
         "ADD_SYSTEM_SERVICE": 0,
         "ADD_VOICEMAIL": 0,
         "ANSWER_PHONE_CALLS": 0,
         "AUTHENTICATE_ACCOUNTS": 0,
         "BATTERY_STATS": 0,
         "BIND_ACCESSIBILITY_SERVICE": 0,
         "BIND_APPWIDGET": 0,
         "BIND_CARRIER_MESSAGING_SERVICE": 0,
         "BIND_CHOOSER_TARGET_SERVICE": 0,
         "BIND_DEVICE_ADMIN": 0,
         "BIND_DREAM_SERVICE": 0,
         "BIND_INPUT_METHOD": 0,
         "BIND_NFC_SERVICE": 0,
         "BIND_NOTIFICATION_LISTENER_SERVICE": 0,
         "BIND_PRINT_SERVICE": 0,
         "BIND_REMOTEVIEWS": 0,
         "BIND_TEXT_SERVICE": 0,
         "BIND_TV_INPUT": 0,
         "BIND_VOICE_INTERACTION": 0,
         "BIND_VPN_SERVICE": 0,
         "BIND_WALLPAPER": 0,
         "BLUETOOTH": 0,
         "BLUETOOTH_ADMIN": 0,
         "BLUETOOTH_PRIVILEGED": 0,
         "BODY_SENSORS": 0,
         "BRICK": 0,
         "BROADCAST_PACKAGE_REMOVED": 0,
         "BROADCAST_SMS": 0,
         "BROADCAST_STICKY": 0,
         "BROADCAST_WAP_PUSH": 0,
         "CALL_PHONE": 0,
         "CALL_PRIVILEGED": 0,
         "CAMERA": 0,
         "CAPTURE_AUDIO_OUTPUT": 0,
         "CAPTURE_SECURE_VIDEO_OUTPUT": 0,
         "CAPTURE_VIDEO_OUTPUT": 0,
         "CHANGE_COMPONENT_ENABLED_STATE": 0,
         "CHANGE_CONFIGURATION": 0,
         "CHANGE_NETWORK_STATE": 0,
         "CHANGE_WIFI_MULTICAST_STATE": 0,
         "CHANGE_WIFI_STATE": 0,
         "CLEAR_APP_CACHE": 0,
         "CLEAR_APP_USER_DATA": 0,
         "CONTROL_LOCATION_UPDATES": 0,
         "DELETE_CACHE_FILES": 0,
         "DELETE_PACKAGES": 0,
         "DEVICE_POWER": 0,
         "DIAGNOSTIC": 0,
         "DISABLE_KEYGUARD": 0,
         "DUMP": 0,
         "EXPAND_STATUS_BAR": 0,
         "FACTORY_TEST": 0,
         "FLASHLIGHT": 0,
         "FORCE_BACK": 0,
         "FOREGROUND_SERVICE": 0,
         "GET_ACCOUNTS": 0,
         "GET_PACKAGE_SIZE": 0,
         "GET_TASKS": 0,
         "GET_TOP_ACTIVITY_INFO": 0,
         "GLOBAL_SEARCH": 0,
         "HARDWARE_TEST": 0,
         "INJECT_EVENTS": 0,
         "INSTALL_LOCATION_PROVIDER": 0,
         "INSTALL_SHORTCUT": 0,
         "INTERNAL_SYSTEM_WINDOW": 0,
         "KILL_BACKGROUND_PROCESSES": 0,
         "LOCATION_HARDWARE": 0,
         "MANAGE_ACCOUNTS": 0,
         "MANAGE_APP_TOKENS": 0,
         "MANAGE_DOCUMENTS": 0,
         "MANAGE_OWN_CALLS": 0,
         "MEDIA_CONTENT_CONTROL": 0,
         "MICROPHONE": 0,
         "MOUNT_FORMAT_FILESYSTEMS": 0,
         "NFC": 0,
         "PACKAGE_USAGE_STATS": 0,
         "PERSISTENT_ACTIVITY": 0,
         "PROCESS_OUTGOING_CALLS": 0,
         "READ_CALL_LOG": 0,
         "READ_EXTERNAL_STORAGE": 1,
         "READ_FRAME_BUFFER": 0,
         "READ_HISTORY_BOOKMARKS": 0,
         "READ_INPUT_STATE": 0,
         "READ_OWNER_DATA": 0,
         "READ_PHONE_NUMBERS": 0,
         "READ_PROFILE": 0,
         "READ_SOCIAL_STREAM": 0,
         "READ_USER_DICTIONARY": 0,
         "READ_VOICEMAIL": 0,
         "REQUEST_DELETE_PACKAGES": 0,
         "REQUEST_IGNORE_BATTERY_OPTIMIZATIONS": 0,
         "REQUEST_INSTALL_PACKAGES": 0,
         "RESTART_PACKAGES": 0,
         "SEND_RESPOND_VIA_MESSAGE": 0,
         "SET_ACTIVITY_WATCHER": 0,
         "SET_ALARM": 0,
         "SET_ORIENTATION": 0,
         "SET_POINTER_SPEED": 0,
         "SET_PREFERRED_APPLICATIONS": 0,
         "SET_PROCESS_FOREGROUND": 0,
         "SET_TIME": 0,
         "STATUS_BAR": 0,
         "SUBSCRIBED_FEEDS_READ": 0,
         "SUBSCRIBED_FEEDS_WRITE": 0,
         "TRANSMIT_IR": 0,
         "UNINSTALL_SHORTCUT": 0,
         "UPDATE_DEVICE_STATS": 0,
         "USE_BIOMETRIC": 0,
         "USE_CREDENTIALS": 0,
         "USE_FINGERPRINT": 0,
         "USE_FULL_SCREEN_INTENT": 0,
         "USE_SIP": 0,
         "WRITE_CALL_LOG": 0,
         "WRITE_EXTERNAL_STORAGE": 1,
         "WRITE_HISTORY_BOOKMARKS": 0,
         "WRITE_OWNER_DATA": 0,
         "WRITE_PROFILE": 0,
         "WRITE_SECURE_SETTINGS": 0,
         "WRITE_SMS": 0,
         "WRITE_SOCIAL_STREAM": 0,
         "WRITE_USER_DICTIONARY": 0,
         "WRITE_VOICEMAIL": 0,
         "_deepnote_index_column": 0,
         "class": 1
        },
        {
         "ACCESS_BACKGROUND_LOCATION": 0,
         "ACCESS_CHECKIN_PROPERTIES": 0,
         "ACCESS_COARSE_LOCATION": 0,
         "ACCESS_FINE_LOCATION": 0,
         "ACCESS_LOCATION_EXTRA_COMMANDS": 0,
         "ACCESS_MOCK_LOCATION": 0,
         "ACCESS_NETWORK_STATE": 1,
         "ACCESS_NOTIFICATION_POLICY": 0,
         "ACCESS_SURFACE_FLINGER": 0,
         "ACCESS_WIFI_STATE": 0,
         "ACCOUNT_MANAGER": 0,
         "ACTIVITY_RECOGNITION": 0,
         "ADD_SYSTEM_SERVICE": 0,
         "ADD_VOICEMAIL": 0,
         "ANSWER_PHONE_CALLS": 0,
         "AUTHENTICATE_ACCOUNTS": 0,
         "BATTERY_STATS": 0,
         "BIND_ACCESSIBILITY_SERVICE": 0,
         "BIND_APPWIDGET": 0,
         "BIND_CARRIER_MESSAGING_SERVICE": 0,
         "BIND_CHOOSER_TARGET_SERVICE": 0,
         "BIND_DEVICE_ADMIN": 0,
         "BIND_DREAM_SERVICE": 0,
         "BIND_INPUT_METHOD": 0,
         "BIND_NFC_SERVICE": 0,
         "BIND_NOTIFICATION_LISTENER_SERVICE": 0,
         "BIND_PRINT_SERVICE": 0,
         "BIND_REMOTEVIEWS": 0,
         "BIND_TEXT_SERVICE": 0,
         "BIND_TV_INPUT": 0,
         "BIND_VOICE_INTERACTION": 0,
         "BIND_VPN_SERVICE": 0,
         "BIND_WALLPAPER": 0,
         "BLUETOOTH": 0,
         "BLUETOOTH_ADMIN": 0,
         "BLUETOOTH_PRIVILEGED": 0,
         "BODY_SENSORS": 0,
         "BRICK": 0,
         "BROADCAST_PACKAGE_REMOVED": 0,
         "BROADCAST_SMS": 0,
         "BROADCAST_STICKY": 0,
         "BROADCAST_WAP_PUSH": 0,
         "CALL_PHONE": 0,
         "CALL_PRIVILEGED": 0,
         "CAMERA": 0,
         "CAPTURE_AUDIO_OUTPUT": 0,
         "CAPTURE_SECURE_VIDEO_OUTPUT": 0,
         "CAPTURE_VIDEO_OUTPUT": 0,
         "CHANGE_COMPONENT_ENABLED_STATE": 0,
         "CHANGE_CONFIGURATION": 0,
         "CHANGE_NETWORK_STATE": 0,
         "CHANGE_WIFI_MULTICAST_STATE": 0,
         "CHANGE_WIFI_STATE": 0,
         "CLEAR_APP_CACHE": 0,
         "CLEAR_APP_USER_DATA": 0,
         "CONTROL_LOCATION_UPDATES": 0,
         "DELETE_CACHE_FILES": 0,
         "DELETE_PACKAGES": 0,
         "DEVICE_POWER": 0,
         "DIAGNOSTIC": 0,
         "DISABLE_KEYGUARD": 0,
         "DUMP": 0,
         "EXPAND_STATUS_BAR": 0,
         "FACTORY_TEST": 0,
         "FLASHLIGHT": 0,
         "FORCE_BACK": 0,
         "FOREGROUND_SERVICE": 0,
         "GET_ACCOUNTS": 0,
         "GET_PACKAGE_SIZE": 0,
         "GET_TASKS": 0,
         "GET_TOP_ACTIVITY_INFO": 0,
         "GLOBAL_SEARCH": 0,
         "HARDWARE_TEST": 0,
         "INJECT_EVENTS": 0,
         "INSTALL_LOCATION_PROVIDER": 0,
         "INSTALL_SHORTCUT": 0,
         "INTERNAL_SYSTEM_WINDOW": 0,
         "KILL_BACKGROUND_PROCESSES": 0,
         "LOCATION_HARDWARE": 0,
         "MANAGE_ACCOUNTS": 0,
         "MANAGE_APP_TOKENS": 0,
         "MANAGE_DOCUMENTS": 0,
         "MANAGE_OWN_CALLS": 0,
         "MEDIA_CONTENT_CONTROL": 0,
         "MICROPHONE": 0,
         "MOUNT_FORMAT_FILESYSTEMS": 0,
         "NFC": 0,
         "PACKAGE_USAGE_STATS": 0,
         "PERSISTENT_ACTIVITY": 0,
         "PROCESS_OUTGOING_CALLS": 0,
         "READ_CALL_LOG": 0,
         "READ_EXTERNAL_STORAGE": 0,
         "READ_FRAME_BUFFER": 0,
         "READ_HISTORY_BOOKMARKS": 0,
         "READ_INPUT_STATE": 0,
         "READ_OWNER_DATA": 0,
         "READ_PHONE_NUMBERS": 0,
         "READ_PROFILE": 0,
         "READ_SOCIAL_STREAM": 0,
         "READ_USER_DICTIONARY": 0,
         "READ_VOICEMAIL": 0,
         "REQUEST_DELETE_PACKAGES": 0,
         "REQUEST_IGNORE_BATTERY_OPTIMIZATIONS": 0,
         "REQUEST_INSTALL_PACKAGES": 0,
         "RESTART_PACKAGES": 0,
         "SEND_RESPOND_VIA_MESSAGE": 0,
         "SET_ACTIVITY_WATCHER": 0,
         "SET_ALARM": 0,
         "SET_ORIENTATION": 0,
         "SET_POINTER_SPEED": 0,
         "SET_PREFERRED_APPLICATIONS": 0,
         "SET_PROCESS_FOREGROUND": 0,
         "SET_TIME": 0,
         "STATUS_BAR": 0,
         "SUBSCRIBED_FEEDS_READ": 0,
         "SUBSCRIBED_FEEDS_WRITE": 0,
         "TRANSMIT_IR": 0,
         "UNINSTALL_SHORTCUT": 0,
         "UPDATE_DEVICE_STATS": 0,
         "USE_BIOMETRIC": 0,
         "USE_CREDENTIALS": 0,
         "USE_FINGERPRINT": 0,
         "USE_FULL_SCREEN_INTENT": 0,
         "USE_SIP": 0,
         "WRITE_CALL_LOG": 0,
         "WRITE_EXTERNAL_STORAGE": 0,
         "WRITE_HISTORY_BOOKMARKS": 0,
         "WRITE_OWNER_DATA": 0,
         "WRITE_PROFILE": 0,
         "WRITE_SECURE_SETTINGS": 0,
         "WRITE_SMS": 0,
         "WRITE_SOCIAL_STREAM": 0,
         "WRITE_USER_DICTIONARY": 0,
         "WRITE_VOICEMAIL": 0,
         "_deepnote_index_column": 1,
         "class": 0
        },
        {
         "ACCESS_BACKGROUND_LOCATION": 0,
         "ACCESS_CHECKIN_PROPERTIES": 0,
         "ACCESS_COARSE_LOCATION": 1,
         "ACCESS_FINE_LOCATION": 0,
         "ACCESS_LOCATION_EXTRA_COMMANDS": 0,
         "ACCESS_MOCK_LOCATION": 0,
         "ACCESS_NETWORK_STATE": 1,
         "ACCESS_NOTIFICATION_POLICY": 0,
         "ACCESS_SURFACE_FLINGER": 0,
         "ACCESS_WIFI_STATE": 0,
         "ACCOUNT_MANAGER": 0,
         "ACTIVITY_RECOGNITION": 0,
         "ADD_SYSTEM_SERVICE": 0,
         "ADD_VOICEMAIL": 0,
         "ANSWER_PHONE_CALLS": 0,
         "AUTHENTICATE_ACCOUNTS": 0,
         "BATTERY_STATS": 0,
         "BIND_ACCESSIBILITY_SERVICE": 0,
         "BIND_APPWIDGET": 0,
         "BIND_CARRIER_MESSAGING_SERVICE": 0,
         "BIND_CHOOSER_TARGET_SERVICE": 0,
         "BIND_DEVICE_ADMIN": 0,
         "BIND_DREAM_SERVICE": 0,
         "BIND_INPUT_METHOD": 0,
         "BIND_NFC_SERVICE": 0,
         "BIND_NOTIFICATION_LISTENER_SERVICE": 0,
         "BIND_PRINT_SERVICE": 0,
         "BIND_REMOTEVIEWS": 0,
         "BIND_TEXT_SERVICE": 0,
         "BIND_TV_INPUT": 0,
         "BIND_VOICE_INTERACTION": 0,
         "BIND_VPN_SERVICE": 0,
         "BIND_WALLPAPER": 0,
         "BLUETOOTH": 0,
         "BLUETOOTH_ADMIN": 0,
         "BLUETOOTH_PRIVILEGED": 0,
         "BODY_SENSORS": 0,
         "BRICK": 0,
         "BROADCAST_PACKAGE_REMOVED": 0,
         "BROADCAST_SMS": 0,
         "BROADCAST_STICKY": 0,
         "BROADCAST_WAP_PUSH": 0,
         "CALL_PHONE": 0,
         "CALL_PRIVILEGED": 0,
         "CAMERA": 0,
         "CAPTURE_AUDIO_OUTPUT": 0,
         "CAPTURE_SECURE_VIDEO_OUTPUT": 0,
         "CAPTURE_VIDEO_OUTPUT": 0,
         "CHANGE_COMPONENT_ENABLED_STATE": 0,
         "CHANGE_CONFIGURATION": 0,
         "CHANGE_NETWORK_STATE": 0,
         "CHANGE_WIFI_MULTICAST_STATE": 0,
         "CHANGE_WIFI_STATE": 0,
         "CLEAR_APP_CACHE": 0,
         "CLEAR_APP_USER_DATA": 0,
         "CONTROL_LOCATION_UPDATES": 0,
         "DELETE_CACHE_FILES": 0,
         "DELETE_PACKAGES": 0,
         "DEVICE_POWER": 0,
         "DIAGNOSTIC": 0,
         "DISABLE_KEYGUARD": 0,
         "DUMP": 0,
         "EXPAND_STATUS_BAR": 0,
         "FACTORY_TEST": 0,
         "FLASHLIGHT": 0,
         "FORCE_BACK": 0,
         "FOREGROUND_SERVICE": 0,
         "GET_ACCOUNTS": 1,
         "GET_PACKAGE_SIZE": 0,
         "GET_TASKS": 0,
         "GET_TOP_ACTIVITY_INFO": 0,
         "GLOBAL_SEARCH": 0,
         "HARDWARE_TEST": 0,
         "INJECT_EVENTS": 0,
         "INSTALL_LOCATION_PROVIDER": 0,
         "INSTALL_SHORTCUT": 0,
         "INTERNAL_SYSTEM_WINDOW": 0,
         "KILL_BACKGROUND_PROCESSES": 0,
         "LOCATION_HARDWARE": 0,
         "MANAGE_ACCOUNTS": 0,
         "MANAGE_APP_TOKENS": 0,
         "MANAGE_DOCUMENTS": 0,
         "MANAGE_OWN_CALLS": 0,
         "MEDIA_CONTENT_CONTROL": 0,
         "MICROPHONE": 0,
         "MOUNT_FORMAT_FILESYSTEMS": 0,
         "NFC": 0,
         "PACKAGE_USAGE_STATS": 0,
         "PERSISTENT_ACTIVITY": 0,
         "PROCESS_OUTGOING_CALLS": 0,
         "READ_CALL_LOG": 0,
         "READ_EXTERNAL_STORAGE": 1,
         "READ_FRAME_BUFFER": 0,
         "READ_HISTORY_BOOKMARKS": 0,
         "READ_INPUT_STATE": 0,
         "READ_OWNER_DATA": 0,
         "READ_PHONE_NUMBERS": 0,
         "READ_PROFILE": 0,
         "READ_SOCIAL_STREAM": 0,
         "READ_USER_DICTIONARY": 0,
         "READ_VOICEMAIL": 0,
         "REQUEST_DELETE_PACKAGES": 0,
         "REQUEST_IGNORE_BATTERY_OPTIMIZATIONS": 0,
         "REQUEST_INSTALL_PACKAGES": 0,
         "RESTART_PACKAGES": 0,
         "SEND_RESPOND_VIA_MESSAGE": 0,
         "SET_ACTIVITY_WATCHER": 0,
         "SET_ALARM": 0,
         "SET_ORIENTATION": 0,
         "SET_POINTER_SPEED": 0,
         "SET_PREFERRED_APPLICATIONS": 0,
         "SET_PROCESS_FOREGROUND": 0,
         "SET_TIME": 0,
         "STATUS_BAR": 0,
         "SUBSCRIBED_FEEDS_READ": 0,
         "SUBSCRIBED_FEEDS_WRITE": 0,
         "TRANSMIT_IR": 0,
         "UNINSTALL_SHORTCUT": 0,
         "UPDATE_DEVICE_STATS": 0,
         "USE_BIOMETRIC": 0,
         "USE_CREDENTIALS": 0,
         "USE_FINGERPRINT": 0,
         "USE_FULL_SCREEN_INTENT": 0,
         "USE_SIP": 0,
         "WRITE_CALL_LOG": 0,
         "WRITE_EXTERNAL_STORAGE": 1,
         "WRITE_HISTORY_BOOKMARKS": 0,
         "WRITE_OWNER_DATA": 0,
         "WRITE_PROFILE": 0,
         "WRITE_SECURE_SETTINGS": 0,
         "WRITE_SMS": 0,
         "WRITE_SOCIAL_STREAM": 0,
         "WRITE_USER_DICTIONARY": 0,
         "WRITE_VOICEMAIL": 0,
         "_deepnote_index_column": 2,
         "class": 0
        },
        {
         "ACCESS_BACKGROUND_LOCATION": 0,
         "ACCESS_CHECKIN_PROPERTIES": 0,
         "ACCESS_COARSE_LOCATION": 0,
         "ACCESS_FINE_LOCATION": 0,
         "ACCESS_LOCATION_EXTRA_COMMANDS": 0,
         "ACCESS_MOCK_LOCATION": 0,
         "ACCESS_NETWORK_STATE": 1,
         "ACCESS_NOTIFICATION_POLICY": 0,
         "ACCESS_SURFACE_FLINGER": 0,
         "ACCESS_WIFI_STATE": 0,
         "ACCOUNT_MANAGER": 0,
         "ACTIVITY_RECOGNITION": 0,
         "ADD_SYSTEM_SERVICE": 0,
         "ADD_VOICEMAIL": 0,
         "ANSWER_PHONE_CALLS": 0,
         "AUTHENTICATE_ACCOUNTS": 0,
         "BATTERY_STATS": 0,
         "BIND_ACCESSIBILITY_SERVICE": 0,
         "BIND_APPWIDGET": 0,
         "BIND_CARRIER_MESSAGING_SERVICE": 0,
         "BIND_CHOOSER_TARGET_SERVICE": 0,
         "BIND_DEVICE_ADMIN": 0,
         "BIND_DREAM_SERVICE": 0,
         "BIND_INPUT_METHOD": 0,
         "BIND_NFC_SERVICE": 0,
         "BIND_NOTIFICATION_LISTENER_SERVICE": 0,
         "BIND_PRINT_SERVICE": 0,
         "BIND_REMOTEVIEWS": 0,
         "BIND_TEXT_SERVICE": 0,
         "BIND_TV_INPUT": 0,
         "BIND_VOICE_INTERACTION": 0,
         "BIND_VPN_SERVICE": 0,
         "BIND_WALLPAPER": 0,
         "BLUETOOTH": 0,
         "BLUETOOTH_ADMIN": 0,
         "BLUETOOTH_PRIVILEGED": 0,
         "BODY_SENSORS": 0,
         "BRICK": 0,
         "BROADCAST_PACKAGE_REMOVED": 0,
         "BROADCAST_SMS": 0,
         "BROADCAST_STICKY": 0,
         "BROADCAST_WAP_PUSH": 0,
         "CALL_PHONE": 0,
         "CALL_PRIVILEGED": 0,
         "CAMERA": 0,
         "CAPTURE_AUDIO_OUTPUT": 0,
         "CAPTURE_SECURE_VIDEO_OUTPUT": 0,
         "CAPTURE_VIDEO_OUTPUT": 0,
         "CHANGE_COMPONENT_ENABLED_STATE": 0,
         "CHANGE_CONFIGURATION": 0,
         "CHANGE_NETWORK_STATE": 0,
         "CHANGE_WIFI_MULTICAST_STATE": 0,
         "CHANGE_WIFI_STATE": 0,
         "CLEAR_APP_CACHE": 0,
         "CLEAR_APP_USER_DATA": 0,
         "CONTROL_LOCATION_UPDATES": 0,
         "DELETE_CACHE_FILES": 0,
         "DELETE_PACKAGES": 0,
         "DEVICE_POWER": 0,
         "DIAGNOSTIC": 0,
         "DISABLE_KEYGUARD": 0,
         "DUMP": 0,
         "EXPAND_STATUS_BAR": 0,
         "FACTORY_TEST": 0,
         "FLASHLIGHT": 0,
         "FORCE_BACK": 0,
         "FOREGROUND_SERVICE": 0,
         "GET_ACCOUNTS": 0,
         "GET_PACKAGE_SIZE": 0,
         "GET_TASKS": 0,
         "GET_TOP_ACTIVITY_INFO": 0,
         "GLOBAL_SEARCH": 0,
         "HARDWARE_TEST": 0,
         "INJECT_EVENTS": 0,
         "INSTALL_LOCATION_PROVIDER": 0,
         "INSTALL_SHORTCUT": 0,
         "INTERNAL_SYSTEM_WINDOW": 0,
         "KILL_BACKGROUND_PROCESSES": 0,
         "LOCATION_HARDWARE": 0,
         "MANAGE_ACCOUNTS": 0,
         "MANAGE_APP_TOKENS": 0,
         "MANAGE_DOCUMENTS": 0,
         "MANAGE_OWN_CALLS": 0,
         "MEDIA_CONTENT_CONTROL": 0,
         "MICROPHONE": 0,
         "MOUNT_FORMAT_FILESYSTEMS": 0,
         "NFC": 0,
         "PACKAGE_USAGE_STATS": 0,
         "PERSISTENT_ACTIVITY": 0,
         "PROCESS_OUTGOING_CALLS": 0,
         "READ_CALL_LOG": 0,
         "READ_EXTERNAL_STORAGE": 0,
         "READ_FRAME_BUFFER": 0,
         "READ_HISTORY_BOOKMARKS": 0,
         "READ_INPUT_STATE": 0,
         "READ_OWNER_DATA": 0,
         "READ_PHONE_NUMBERS": 0,
         "READ_PROFILE": 0,
         "READ_SOCIAL_STREAM": 0,
         "READ_USER_DICTIONARY": 0,
         "READ_VOICEMAIL": 0,
         "REQUEST_DELETE_PACKAGES": 0,
         "REQUEST_IGNORE_BATTERY_OPTIMIZATIONS": 0,
         "REQUEST_INSTALL_PACKAGES": 0,
         "RESTART_PACKAGES": 0,
         "SEND_RESPOND_VIA_MESSAGE": 0,
         "SET_ACTIVITY_WATCHER": 0,
         "SET_ALARM": 0,
         "SET_ORIENTATION": 0,
         "SET_POINTER_SPEED": 0,
         "SET_PREFERRED_APPLICATIONS": 0,
         "SET_PROCESS_FOREGROUND": 0,
         "SET_TIME": 0,
         "STATUS_BAR": 0,
         "SUBSCRIBED_FEEDS_READ": 0,
         "SUBSCRIBED_FEEDS_WRITE": 0,
         "TRANSMIT_IR": 0,
         "UNINSTALL_SHORTCUT": 0,
         "UPDATE_DEVICE_STATS": 0,
         "USE_BIOMETRIC": 0,
         "USE_CREDENTIALS": 0,
         "USE_FINGERPRINT": 0,
         "USE_FULL_SCREEN_INTENT": 0,
         "USE_SIP": 0,
         "WRITE_CALL_LOG": 0,
         "WRITE_EXTERNAL_STORAGE": 1,
         "WRITE_HISTORY_BOOKMARKS": 0,
         "WRITE_OWNER_DATA": 0,
         "WRITE_PROFILE": 0,
         "WRITE_SECURE_SETTINGS": 0,
         "WRITE_SMS": 0,
         "WRITE_SOCIAL_STREAM": 0,
         "WRITE_USER_DICTIONARY": 0,
         "WRITE_VOICEMAIL": 0,
         "_deepnote_index_column": 3,
         "class": 1
        },
        {
         "ACCESS_BACKGROUND_LOCATION": 0,
         "ACCESS_CHECKIN_PROPERTIES": 0,
         "ACCESS_COARSE_LOCATION": 1,
         "ACCESS_FINE_LOCATION": 0,
         "ACCESS_LOCATION_EXTRA_COMMANDS": 1,
         "ACCESS_MOCK_LOCATION": 1,
         "ACCESS_NETWORK_STATE": 1,
         "ACCESS_NOTIFICATION_POLICY": 0,
         "ACCESS_SURFACE_FLINGER": 0,
         "ACCESS_WIFI_STATE": 0,
         "ACCOUNT_MANAGER": 1,
         "ACTIVITY_RECOGNITION": 1,
         "ADD_SYSTEM_SERVICE": 0,
         "ADD_VOICEMAIL": 1,
         "ANSWER_PHONE_CALLS": 0,
         "AUTHENTICATE_ACCOUNTS": 1,
         "BATTERY_STATS": 1,
         "BIND_ACCESSIBILITY_SERVICE": 0,
         "BIND_APPWIDGET": 1,
         "BIND_CARRIER_MESSAGING_SERVICE": 0,
         "BIND_CHOOSER_TARGET_SERVICE": 0,
         "BIND_DEVICE_ADMIN": 0,
         "BIND_DREAM_SERVICE": 0,
         "BIND_INPUT_METHOD": 0,
         "BIND_NFC_SERVICE": 0,
         "BIND_NOTIFICATION_LISTENER_SERVICE": 0,
         "BIND_PRINT_SERVICE": 0,
         "BIND_REMOTEVIEWS": 0,
         "BIND_TEXT_SERVICE": 0,
         "BIND_TV_INPUT": 0,
         "BIND_VOICE_INTERACTION": 0,
         "BIND_VPN_SERVICE": 0,
         "BIND_WALLPAPER": 0,
         "BLUETOOTH": 1,
         "BLUETOOTH_ADMIN": 1,
         "BLUETOOTH_PRIVILEGED": 0,
         "BODY_SENSORS": 1,
         "BRICK": 0,
         "BROADCAST_PACKAGE_REMOVED": 0,
         "BROADCAST_SMS": 0,
         "BROADCAST_STICKY": 1,
         "BROADCAST_WAP_PUSH": 0,
         "CALL_PHONE": 1,
         "CALL_PRIVILEGED": 0,
         "CAMERA": 1,
         "CAPTURE_AUDIO_OUTPUT": 0,
         "CAPTURE_SECURE_VIDEO_OUTPUT": 0,
         "CAPTURE_VIDEO_OUTPUT": 0,
         "CHANGE_COMPONENT_ENABLED_STATE": 0,
         "CHANGE_CONFIGURATION": 1,
         "CHANGE_NETWORK_STATE": 1,
         "CHANGE_WIFI_MULTICAST_STATE": 1,
         "CHANGE_WIFI_STATE": 1,
         "CLEAR_APP_CACHE": 1,
         "CLEAR_APP_USER_DATA": 1,
         "CONTROL_LOCATION_UPDATES": 0,
         "DELETE_CACHE_FILES": 0,
         "DELETE_PACKAGES": 1,
         "DEVICE_POWER": 1,
         "DIAGNOSTIC": 0,
         "DISABLE_KEYGUARD": 1,
         "DUMP": 0,
         "EXPAND_STATUS_BAR": 1,
         "FACTORY_TEST": 0,
         "FLASHLIGHT": 1,
         "FORCE_BACK": 0,
         "FOREGROUND_SERVICE": 0,
         "GET_ACCOUNTS": 1,
         "GET_PACKAGE_SIZE": 1,
         "GET_TASKS": 1,
         "GET_TOP_ACTIVITY_INFO": 0,
         "GLOBAL_SEARCH": 0,
         "HARDWARE_TEST": 0,
         "INJECT_EVENTS": 0,
         "INSTALL_LOCATION_PROVIDER": 0,
         "INSTALL_SHORTCUT": 1,
         "INTERNAL_SYSTEM_WINDOW": 0,
         "KILL_BACKGROUND_PROCESSES": 1,
         "LOCATION_HARDWARE": 0,
         "MANAGE_ACCOUNTS": 1,
         "MANAGE_APP_TOKENS": 0,
         "MANAGE_DOCUMENTS": 0,
         "MANAGE_OWN_CALLS": 0,
         "MEDIA_CONTENT_CONTROL": 0,
         "MICROPHONE": 0,
         "MOUNT_FORMAT_FILESYSTEMS": 0,
         "NFC": 1,
         "PACKAGE_USAGE_STATS": 1,
         "PERSISTENT_ACTIVITY": 1,
         "PROCESS_OUTGOING_CALLS": 1,
         "READ_CALL_LOG": 1,
         "READ_EXTERNAL_STORAGE": 1,
         "READ_FRAME_BUFFER": 0,
         "READ_HISTORY_BOOKMARKS": 1,
         "READ_INPUT_STATE": 0,
         "READ_OWNER_DATA": 1,
         "READ_PHONE_NUMBERS": 0,
         "READ_PROFILE": 1,
         "READ_SOCIAL_STREAM": 1,
         "READ_USER_DICTIONARY": 1,
         "READ_VOICEMAIL": 0,
         "REQUEST_DELETE_PACKAGES": 0,
         "REQUEST_IGNORE_BATTERY_OPTIMIZATIONS": 0,
         "REQUEST_INSTALL_PACKAGES": 0,
         "RESTART_PACKAGES": 1,
         "SEND_RESPOND_VIA_MESSAGE": 0,
         "SET_ACTIVITY_WATCHER": 0,
         "SET_ALARM": 1,
         "SET_ORIENTATION": 0,
         "SET_POINTER_SPEED": 0,
         "SET_PREFERRED_APPLICATIONS": 0,
         "SET_PROCESS_FOREGROUND": 0,
         "SET_TIME": 0,
         "STATUS_BAR": 0,
         "SUBSCRIBED_FEEDS_READ": 1,
         "SUBSCRIBED_FEEDS_WRITE": 1,
         "TRANSMIT_IR": 1,
         "UNINSTALL_SHORTCUT": 1,
         "UPDATE_DEVICE_STATS": 0,
         "USE_BIOMETRIC": 0,
         "USE_CREDENTIALS": 1,
         "USE_FINGERPRINT": 1,
         "USE_FULL_SCREEN_INTENT": 0,
         "USE_SIP": 1,
         "WRITE_CALL_LOG": 1,
         "WRITE_EXTERNAL_STORAGE": 1,
         "WRITE_HISTORY_BOOKMARKS": 1,
         "WRITE_OWNER_DATA": 1,
         "WRITE_PROFILE": 1,
         "WRITE_SECURE_SETTINGS": 0,
         "WRITE_SMS": 1,
         "WRITE_SOCIAL_STREAM": 1,
         "WRITE_USER_DICTIONARY": 1,
         "WRITE_VOICEMAIL": 0,
         "_deepnote_index_column": 4,
         "class": 1
        }
       ]
      },
      "text/html": [
       "<div>\n",
       "<style scoped>\n",
       "    .dataframe tbody tr th:only-of-type {\n",
       "        vertical-align: middle;\n",
       "    }\n",
       "\n",
       "    .dataframe tbody tr th {\n",
       "        vertical-align: top;\n",
       "    }\n",
       "\n",
       "    .dataframe thead th {\n",
       "        text-align: right;\n",
       "    }\n",
       "</style>\n",
       "<table border=\"1\" class=\"dataframe\">\n",
       "  <thead>\n",
       "    <tr style=\"text-align: right;\">\n",
       "      <th></th>\n",
       "      <th>ACCESS_BACKGROUND_LOCATION</th>\n",
       "      <th>ACCESS_CHECKIN_PROPERTIES</th>\n",
       "      <th>ACCESS_COARSE_LOCATION</th>\n",
       "      <th>ACCESS_FINE_LOCATION</th>\n",
       "      <th>ACCESS_LOCATION_EXTRA_COMMANDS</th>\n",
       "      <th>ACCESS_MOCK_LOCATION</th>\n",
       "      <th>ACCESS_NETWORK_STATE</th>\n",
       "      <th>ACCESS_NOTIFICATION_POLICY</th>\n",
       "      <th>ACCESS_SURFACE_FLINGER</th>\n",
       "      <th>ACCESS_WIFI_STATE</th>\n",
       "      <th>ACCOUNT_MANAGER</th>\n",
       "      <th>ACTIVITY_RECOGNITION</th>\n",
       "      <th>ADD_SYSTEM_SERVICE</th>\n",
       "      <th>ADD_VOICEMAIL</th>\n",
       "      <th>ANSWER_PHONE_CALLS</th>\n",
       "      <th>AUTHENTICATE_ACCOUNTS</th>\n",
       "      <th>BATTERY_STATS</th>\n",
       "      <th>BIND_ACCESSIBILITY_SERVICE</th>\n",
       "      <th>BIND_APPWIDGET</th>\n",
       "      <th>BIND_CARRIER_MESSAGING_SERVICE</th>\n",
       "      <th>BIND_CHOOSER_TARGET_SERVICE</th>\n",
       "      <th>BIND_DEVICE_ADMIN</th>\n",
       "      <th>BIND_DREAM_SERVICE</th>\n",
       "      <th>BIND_INPUT_METHOD</th>\n",
       "      <th>BIND_NFC_SERVICE</th>\n",
       "      <th>BIND_NOTIFICATION_LISTENER_SERVICE</th>\n",
       "      <th>BIND_PRINT_SERVICE</th>\n",
       "      <th>BIND_REMOTEVIEWS</th>\n",
       "      <th>BIND_TEXT_SERVICE</th>\n",
       "      <th>BIND_TV_INPUT</th>\n",
       "      <th>BIND_VOICE_INTERACTION</th>\n",
       "      <th>BIND_VPN_SERVICE</th>\n",
       "      <th>BIND_WALLPAPER</th>\n",
       "      <th>BLUETOOTH</th>\n",
       "      <th>BLUETOOTH_ADMIN</th>\n",
       "      <th>BLUETOOTH_PRIVILEGED</th>\n",
       "      <th>BODY_SENSORS</th>\n",
       "      <th>BRICK</th>\n",
       "      <th>BROADCAST_PACKAGE_REMOVED</th>\n",
       "      <th>BROADCAST_SMS</th>\n",
       "      <th>BROADCAST_STICKY</th>\n",
       "      <th>BROADCAST_WAP_PUSH</th>\n",
       "      <th>CALL_PHONE</th>\n",
       "      <th>CALL_PRIVILEGED</th>\n",
       "      <th>CAMERA</th>\n",
       "      <th>CAPTURE_AUDIO_OUTPUT</th>\n",
       "      <th>CAPTURE_SECURE_VIDEO_OUTPUT</th>\n",
       "      <th>CAPTURE_VIDEO_OUTPUT</th>\n",
       "      <th>CHANGE_COMPONENT_ENABLED_STATE</th>\n",
       "      <th>CHANGE_CONFIGURATION</th>\n",
       "      <th>CHANGE_NETWORK_STATE</th>\n",
       "      <th>CHANGE_WIFI_MULTICAST_STATE</th>\n",
       "      <th>CHANGE_WIFI_STATE</th>\n",
       "      <th>CLEAR_APP_CACHE</th>\n",
       "      <th>CLEAR_APP_USER_DATA</th>\n",
       "      <th>CONTROL_LOCATION_UPDATES</th>\n",
       "      <th>DELETE_CACHE_FILES</th>\n",
       "      <th>DELETE_PACKAGES</th>\n",
       "      <th>DEVICE_POWER</th>\n",
       "      <th>DIAGNOSTIC</th>\n",
       "      <th>DISABLE_KEYGUARD</th>\n",
       "      <th>DUMP</th>\n",
       "      <th>EXPAND_STATUS_BAR</th>\n",
       "      <th>FACTORY_TEST</th>\n",
       "      <th>FLASHLIGHT</th>\n",
       "      <th>FORCE_BACK</th>\n",
       "      <th>FOREGROUND_SERVICE</th>\n",
       "      <th>GET_ACCOUNTS</th>\n",
       "      <th>GET_PACKAGE_SIZE</th>\n",
       "      <th>GET_TASKS</th>\n",
       "      <th>GET_TOP_ACTIVITY_INFO</th>\n",
       "      <th>GLOBAL_SEARCH</th>\n",
       "      <th>HARDWARE_TEST</th>\n",
       "      <th>INJECT_EVENTS</th>\n",
       "      <th>INSTALL_LOCATION_PROVIDER</th>\n",
       "      <th>INSTALL_SHORTCUT</th>\n",
       "      <th>INTERNAL_SYSTEM_WINDOW</th>\n",
       "      <th>KILL_BACKGROUND_PROCESSES</th>\n",
       "      <th>LOCATION_HARDWARE</th>\n",
       "      <th>MANAGE_ACCOUNTS</th>\n",
       "      <th>MANAGE_APP_TOKENS</th>\n",
       "      <th>MANAGE_DOCUMENTS</th>\n",
       "      <th>MANAGE_OWN_CALLS</th>\n",
       "      <th>MEDIA_CONTENT_CONTROL</th>\n",
       "      <th>MICROPHONE</th>\n",
       "      <th>MOUNT_FORMAT_FILESYSTEMS</th>\n",
       "      <th>NFC</th>\n",
       "      <th>PACKAGE_USAGE_STATS</th>\n",
       "      <th>PERSISTENT_ACTIVITY</th>\n",
       "      <th>PROCESS_OUTGOING_CALLS</th>\n",
       "      <th>READ_CALL_LOG</th>\n",
       "      <th>READ_EXTERNAL_STORAGE</th>\n",
       "      <th>READ_FRAME_BUFFER</th>\n",
       "      <th>READ_HISTORY_BOOKMARKS</th>\n",
       "      <th>READ_INPUT_STATE</th>\n",
       "      <th>READ_OWNER_DATA</th>\n",
       "      <th>READ_PHONE_NUMBERS</th>\n",
       "      <th>READ_PROFILE</th>\n",
       "      <th>READ_SOCIAL_STREAM</th>\n",
       "      <th>READ_USER_DICTIONARY</th>\n",
       "      <th>READ_VOICEMAIL</th>\n",
       "      <th>REQUEST_DELETE_PACKAGES</th>\n",
       "      <th>REQUEST_IGNORE_BATTERY_OPTIMIZATIONS</th>\n",
       "      <th>REQUEST_INSTALL_PACKAGES</th>\n",
       "      <th>RESTART_PACKAGES</th>\n",
       "      <th>SEND_RESPOND_VIA_MESSAGE</th>\n",
       "      <th>SET_ACTIVITY_WATCHER</th>\n",
       "      <th>SET_ALARM</th>\n",
       "      <th>SET_ORIENTATION</th>\n",
       "      <th>SET_POINTER_SPEED</th>\n",
       "      <th>SET_PREFERRED_APPLICATIONS</th>\n",
       "      <th>SET_PROCESS_FOREGROUND</th>\n",
       "      <th>SET_TIME</th>\n",
       "      <th>STATUS_BAR</th>\n",
       "      <th>SUBSCRIBED_FEEDS_READ</th>\n",
       "      <th>SUBSCRIBED_FEEDS_WRITE</th>\n",
       "      <th>TRANSMIT_IR</th>\n",
       "      <th>UNINSTALL_SHORTCUT</th>\n",
       "      <th>UPDATE_DEVICE_STATS</th>\n",
       "      <th>USE_BIOMETRIC</th>\n",
       "      <th>USE_CREDENTIALS</th>\n",
       "      <th>USE_FINGERPRINT</th>\n",
       "      <th>USE_FULL_SCREEN_INTENT</th>\n",
       "      <th>USE_SIP</th>\n",
       "      <th>WRITE_CALL_LOG</th>\n",
       "      <th>WRITE_EXTERNAL_STORAGE</th>\n",
       "      <th>WRITE_HISTORY_BOOKMARKS</th>\n",
       "      <th>WRITE_OWNER_DATA</th>\n",
       "      <th>WRITE_PROFILE</th>\n",
       "      <th>WRITE_SECURE_SETTINGS</th>\n",
       "      <th>WRITE_SMS</th>\n",
       "      <th>WRITE_SOCIAL_STREAM</th>\n",
       "      <th>WRITE_USER_DICTIONARY</th>\n",
       "      <th>WRITE_VOICEMAIL</th>\n",
       "      <th>class</th>\n",
       "    </tr>\n",
       "  </thead>\n",
       "  <tbody>\n",
       "    <tr>\n",
       "      <th>0</th>\n",
       "      <td>0</td>\n",
       "      <td>0</td>\n",
       "      <td>0</td>\n",
       "      <td>0</td>\n",
       "      <td>0</td>\n",
       "      <td>0</td>\n",
       "      <td>1</td>\n",
       "      <td>0</td>\n",
       "      <td>0</td>\n",
       "      <td>0</td>\n",
       "      <td>0</td>\n",
       "      <td>0</td>\n",
       "      <td>0</td>\n",
       "      <td>0</td>\n",
       "      <td>0</td>\n",
       "      <td>0</td>\n",
       "      <td>0</td>\n",
       "      <td>0</td>\n",
       "      <td>0</td>\n",
       "      <td>0</td>\n",
       "      <td>0</td>\n",
       "      <td>0</td>\n",
       "      <td>0</td>\n",
       "      <td>0</td>\n",
       "      <td>0</td>\n",
       "      <td>0</td>\n",
       "      <td>0</td>\n",
       "      <td>0</td>\n",
       "      <td>0</td>\n",
       "      <td>0</td>\n",
       "      <td>0</td>\n",
       "      <td>0</td>\n",
       "      <td>0</td>\n",
       "      <td>0</td>\n",
       "      <td>0</td>\n",
       "      <td>0</td>\n",
       "      <td>0</td>\n",
       "      <td>0</td>\n",
       "      <td>0</td>\n",
       "      <td>0</td>\n",
       "      <td>0</td>\n",
       "      <td>0</td>\n",
       "      <td>0</td>\n",
       "      <td>0</td>\n",
       "      <td>0</td>\n",
       "      <td>0</td>\n",
       "      <td>0</td>\n",
       "      <td>0</td>\n",
       "      <td>0</td>\n",
       "      <td>0</td>\n",
       "      <td>0</td>\n",
       "      <td>0</td>\n",
       "      <td>0</td>\n",
       "      <td>0</td>\n",
       "      <td>0</td>\n",
       "      <td>0</td>\n",
       "      <td>0</td>\n",
       "      <td>0</td>\n",
       "      <td>0</td>\n",
       "      <td>0</td>\n",
       "      <td>0</td>\n",
       "      <td>0</td>\n",
       "      <td>0</td>\n",
       "      <td>0</td>\n",
       "      <td>0</td>\n",
       "      <td>0</td>\n",
       "      <td>0</td>\n",
       "      <td>0</td>\n",
       "      <td>0</td>\n",
       "      <td>0</td>\n",
       "      <td>0</td>\n",
       "      <td>0</td>\n",
       "      <td>0</td>\n",
       "      <td>0</td>\n",
       "      <td>0</td>\n",
       "      <td>0</td>\n",
       "      <td>0</td>\n",
       "      <td>0</td>\n",
       "      <td>0</td>\n",
       "      <td>0</td>\n",
       "      <td>0</td>\n",
       "      <td>0</td>\n",
       "      <td>0</td>\n",
       "      <td>0</td>\n",
       "      <td>0</td>\n",
       "      <td>0</td>\n",
       "      <td>0</td>\n",
       "      <td>0</td>\n",
       "      <td>0</td>\n",
       "      <td>0</td>\n",
       "      <td>0</td>\n",
       "      <td>1</td>\n",
       "      <td>0</td>\n",
       "      <td>0</td>\n",
       "      <td>0</td>\n",
       "      <td>0</td>\n",
       "      <td>0</td>\n",
       "      <td>0</td>\n",
       "      <td>0</td>\n",
       "      <td>0</td>\n",
       "      <td>0</td>\n",
       "      <td>0</td>\n",
       "      <td>0</td>\n",
       "      <td>0</td>\n",
       "      <td>0</td>\n",
       "      <td>0</td>\n",
       "      <td>0</td>\n",
       "      <td>0</td>\n",
       "      <td>0</td>\n",
       "      <td>0</td>\n",
       "      <td>0</td>\n",
       "      <td>0</td>\n",
       "      <td>0</td>\n",
       "      <td>0</td>\n",
       "      <td>0</td>\n",
       "      <td>0</td>\n",
       "      <td>0</td>\n",
       "      <td>0</td>\n",
       "      <td>0</td>\n",
       "      <td>0</td>\n",
       "      <td>0</td>\n",
       "      <td>0</td>\n",
       "      <td>0</td>\n",
       "      <td>0</td>\n",
       "      <td>0</td>\n",
       "      <td>1</td>\n",
       "      <td>0</td>\n",
       "      <td>0</td>\n",
       "      <td>0</td>\n",
       "      <td>0</td>\n",
       "      <td>0</td>\n",
       "      <td>0</td>\n",
       "      <td>0</td>\n",
       "      <td>0</td>\n",
       "      <td>1</td>\n",
       "    </tr>\n",
       "    <tr>\n",
       "      <th>1</th>\n",
       "      <td>0</td>\n",
       "      <td>0</td>\n",
       "      <td>0</td>\n",
       "      <td>0</td>\n",
       "      <td>0</td>\n",
       "      <td>0</td>\n",
       "      <td>1</td>\n",
       "      <td>0</td>\n",
       "      <td>0</td>\n",
       "      <td>0</td>\n",
       "      <td>0</td>\n",
       "      <td>0</td>\n",
       "      <td>0</td>\n",
       "      <td>0</td>\n",
       "      <td>0</td>\n",
       "      <td>0</td>\n",
       "      <td>0</td>\n",
       "      <td>0</td>\n",
       "      <td>0</td>\n",
       "      <td>0</td>\n",
       "      <td>0</td>\n",
       "      <td>0</td>\n",
       "      <td>0</td>\n",
       "      <td>0</td>\n",
       "      <td>0</td>\n",
       "      <td>0</td>\n",
       "      <td>0</td>\n",
       "      <td>0</td>\n",
       "      <td>0</td>\n",
       "      <td>0</td>\n",
       "      <td>0</td>\n",
       "      <td>0</td>\n",
       "      <td>0</td>\n",
       "      <td>0</td>\n",
       "      <td>0</td>\n",
       "      <td>0</td>\n",
       "      <td>0</td>\n",
       "      <td>0</td>\n",
       "      <td>0</td>\n",
       "      <td>0</td>\n",
       "      <td>0</td>\n",
       "      <td>0</td>\n",
       "      <td>0</td>\n",
       "      <td>0</td>\n",
       "      <td>0</td>\n",
       "      <td>0</td>\n",
       "      <td>0</td>\n",
       "      <td>0</td>\n",
       "      <td>0</td>\n",
       "      <td>0</td>\n",
       "      <td>0</td>\n",
       "      <td>0</td>\n",
       "      <td>0</td>\n",
       "      <td>0</td>\n",
       "      <td>0</td>\n",
       "      <td>0</td>\n",
       "      <td>0</td>\n",
       "      <td>0</td>\n",
       "      <td>0</td>\n",
       "      <td>0</td>\n",
       "      <td>0</td>\n",
       "      <td>0</td>\n",
       "      <td>0</td>\n",
       "      <td>0</td>\n",
       "      <td>0</td>\n",
       "      <td>0</td>\n",
       "      <td>0</td>\n",
       "      <td>0</td>\n",
       "      <td>0</td>\n",
       "      <td>0</td>\n",
       "      <td>0</td>\n",
       "      <td>0</td>\n",
       "      <td>0</td>\n",
       "      <td>0</td>\n",
       "      <td>0</td>\n",
       "      <td>0</td>\n",
       "      <td>0</td>\n",
       "      <td>0</td>\n",
       "      <td>0</td>\n",
       "      <td>0</td>\n",
       "      <td>0</td>\n",
       "      <td>0</td>\n",
       "      <td>0</td>\n",
       "      <td>0</td>\n",
       "      <td>0</td>\n",
       "      <td>0</td>\n",
       "      <td>0</td>\n",
       "      <td>0</td>\n",
       "      <td>0</td>\n",
       "      <td>0</td>\n",
       "      <td>0</td>\n",
       "      <td>0</td>\n",
       "      <td>0</td>\n",
       "      <td>0</td>\n",
       "      <td>0</td>\n",
       "      <td>0</td>\n",
       "      <td>0</td>\n",
       "      <td>0</td>\n",
       "      <td>0</td>\n",
       "      <td>0</td>\n",
       "      <td>0</td>\n",
       "      <td>0</td>\n",
       "      <td>0</td>\n",
       "      <td>0</td>\n",
       "      <td>0</td>\n",
       "      <td>0</td>\n",
       "      <td>0</td>\n",
       "      <td>0</td>\n",
       "      <td>0</td>\n",
       "      <td>0</td>\n",
       "      <td>0</td>\n",
       "      <td>0</td>\n",
       "      <td>0</td>\n",
       "      <td>0</td>\n",
       "      <td>0</td>\n",
       "      <td>0</td>\n",
       "      <td>0</td>\n",
       "      <td>0</td>\n",
       "      <td>0</td>\n",
       "      <td>0</td>\n",
       "      <td>0</td>\n",
       "      <td>0</td>\n",
       "      <td>0</td>\n",
       "      <td>0</td>\n",
       "      <td>0</td>\n",
       "      <td>0</td>\n",
       "      <td>0</td>\n",
       "      <td>0</td>\n",
       "      <td>0</td>\n",
       "      <td>0</td>\n",
       "      <td>0</td>\n",
       "      <td>0</td>\n",
       "      <td>0</td>\n",
       "      <td>0</td>\n",
       "      <td>0</td>\n",
       "    </tr>\n",
       "    <tr>\n",
       "      <th>2</th>\n",
       "      <td>0</td>\n",
       "      <td>0</td>\n",
       "      <td>1</td>\n",
       "      <td>0</td>\n",
       "      <td>0</td>\n",
       "      <td>0</td>\n",
       "      <td>1</td>\n",
       "      <td>0</td>\n",
       "      <td>0</td>\n",
       "      <td>0</td>\n",
       "      <td>0</td>\n",
       "      <td>0</td>\n",
       "      <td>0</td>\n",
       "      <td>0</td>\n",
       "      <td>0</td>\n",
       "      <td>0</td>\n",
       "      <td>0</td>\n",
       "      <td>0</td>\n",
       "      <td>0</td>\n",
       "      <td>0</td>\n",
       "      <td>0</td>\n",
       "      <td>0</td>\n",
       "      <td>0</td>\n",
       "      <td>0</td>\n",
       "      <td>0</td>\n",
       "      <td>0</td>\n",
       "      <td>0</td>\n",
       "      <td>0</td>\n",
       "      <td>0</td>\n",
       "      <td>0</td>\n",
       "      <td>0</td>\n",
       "      <td>0</td>\n",
       "      <td>0</td>\n",
       "      <td>0</td>\n",
       "      <td>0</td>\n",
       "      <td>0</td>\n",
       "      <td>0</td>\n",
       "      <td>0</td>\n",
       "      <td>0</td>\n",
       "      <td>0</td>\n",
       "      <td>0</td>\n",
       "      <td>0</td>\n",
       "      <td>0</td>\n",
       "      <td>0</td>\n",
       "      <td>0</td>\n",
       "      <td>0</td>\n",
       "      <td>0</td>\n",
       "      <td>0</td>\n",
       "      <td>0</td>\n",
       "      <td>0</td>\n",
       "      <td>0</td>\n",
       "      <td>0</td>\n",
       "      <td>0</td>\n",
       "      <td>0</td>\n",
       "      <td>0</td>\n",
       "      <td>0</td>\n",
       "      <td>0</td>\n",
       "      <td>0</td>\n",
       "      <td>0</td>\n",
       "      <td>0</td>\n",
       "      <td>0</td>\n",
       "      <td>0</td>\n",
       "      <td>0</td>\n",
       "      <td>0</td>\n",
       "      <td>0</td>\n",
       "      <td>0</td>\n",
       "      <td>0</td>\n",
       "      <td>1</td>\n",
       "      <td>0</td>\n",
       "      <td>0</td>\n",
       "      <td>0</td>\n",
       "      <td>0</td>\n",
       "      <td>0</td>\n",
       "      <td>0</td>\n",
       "      <td>0</td>\n",
       "      <td>0</td>\n",
       "      <td>0</td>\n",
       "      <td>0</td>\n",
       "      <td>0</td>\n",
       "      <td>0</td>\n",
       "      <td>0</td>\n",
       "      <td>0</td>\n",
       "      <td>0</td>\n",
       "      <td>0</td>\n",
       "      <td>0</td>\n",
       "      <td>0</td>\n",
       "      <td>0</td>\n",
       "      <td>0</td>\n",
       "      <td>0</td>\n",
       "      <td>0</td>\n",
       "      <td>0</td>\n",
       "      <td>1</td>\n",
       "      <td>0</td>\n",
       "      <td>0</td>\n",
       "      <td>0</td>\n",
       "      <td>0</td>\n",
       "      <td>0</td>\n",
       "      <td>0</td>\n",
       "      <td>0</td>\n",
       "      <td>0</td>\n",
       "      <td>0</td>\n",
       "      <td>0</td>\n",
       "      <td>0</td>\n",
       "      <td>0</td>\n",
       "      <td>0</td>\n",
       "      <td>0</td>\n",
       "      <td>0</td>\n",
       "      <td>0</td>\n",
       "      <td>0</td>\n",
       "      <td>0</td>\n",
       "      <td>0</td>\n",
       "      <td>0</td>\n",
       "      <td>0</td>\n",
       "      <td>0</td>\n",
       "      <td>0</td>\n",
       "      <td>0</td>\n",
       "      <td>0</td>\n",
       "      <td>0</td>\n",
       "      <td>0</td>\n",
       "      <td>0</td>\n",
       "      <td>0</td>\n",
       "      <td>0</td>\n",
       "      <td>0</td>\n",
       "      <td>0</td>\n",
       "      <td>0</td>\n",
       "      <td>1</td>\n",
       "      <td>0</td>\n",
       "      <td>0</td>\n",
       "      <td>0</td>\n",
       "      <td>0</td>\n",
       "      <td>0</td>\n",
       "      <td>0</td>\n",
       "      <td>0</td>\n",
       "      <td>0</td>\n",
       "      <td>0</td>\n",
       "    </tr>\n",
       "    <tr>\n",
       "      <th>3</th>\n",
       "      <td>0</td>\n",
       "      <td>0</td>\n",
       "      <td>0</td>\n",
       "      <td>0</td>\n",
       "      <td>0</td>\n",
       "      <td>0</td>\n",
       "      <td>1</td>\n",
       "      <td>0</td>\n",
       "      <td>0</td>\n",
       "      <td>0</td>\n",
       "      <td>0</td>\n",
       "      <td>0</td>\n",
       "      <td>0</td>\n",
       "      <td>0</td>\n",
       "      <td>0</td>\n",
       "      <td>0</td>\n",
       "      <td>0</td>\n",
       "      <td>0</td>\n",
       "      <td>0</td>\n",
       "      <td>0</td>\n",
       "      <td>0</td>\n",
       "      <td>0</td>\n",
       "      <td>0</td>\n",
       "      <td>0</td>\n",
       "      <td>0</td>\n",
       "      <td>0</td>\n",
       "      <td>0</td>\n",
       "      <td>0</td>\n",
       "      <td>0</td>\n",
       "      <td>0</td>\n",
       "      <td>0</td>\n",
       "      <td>0</td>\n",
       "      <td>0</td>\n",
       "      <td>0</td>\n",
       "      <td>0</td>\n",
       "      <td>0</td>\n",
       "      <td>0</td>\n",
       "      <td>0</td>\n",
       "      <td>0</td>\n",
       "      <td>0</td>\n",
       "      <td>0</td>\n",
       "      <td>0</td>\n",
       "      <td>0</td>\n",
       "      <td>0</td>\n",
       "      <td>0</td>\n",
       "      <td>0</td>\n",
       "      <td>0</td>\n",
       "      <td>0</td>\n",
       "      <td>0</td>\n",
       "      <td>0</td>\n",
       "      <td>0</td>\n",
       "      <td>0</td>\n",
       "      <td>0</td>\n",
       "      <td>0</td>\n",
       "      <td>0</td>\n",
       "      <td>0</td>\n",
       "      <td>0</td>\n",
       "      <td>0</td>\n",
       "      <td>0</td>\n",
       "      <td>0</td>\n",
       "      <td>0</td>\n",
       "      <td>0</td>\n",
       "      <td>0</td>\n",
       "      <td>0</td>\n",
       "      <td>0</td>\n",
       "      <td>0</td>\n",
       "      <td>0</td>\n",
       "      <td>0</td>\n",
       "      <td>0</td>\n",
       "      <td>0</td>\n",
       "      <td>0</td>\n",
       "      <td>0</td>\n",
       "      <td>0</td>\n",
       "      <td>0</td>\n",
       "      <td>0</td>\n",
       "      <td>0</td>\n",
       "      <td>0</td>\n",
       "      <td>0</td>\n",
       "      <td>0</td>\n",
       "      <td>0</td>\n",
       "      <td>0</td>\n",
       "      <td>0</td>\n",
       "      <td>0</td>\n",
       "      <td>0</td>\n",
       "      <td>0</td>\n",
       "      <td>0</td>\n",
       "      <td>0</td>\n",
       "      <td>0</td>\n",
       "      <td>0</td>\n",
       "      <td>0</td>\n",
       "      <td>0</td>\n",
       "      <td>0</td>\n",
       "      <td>0</td>\n",
       "      <td>0</td>\n",
       "      <td>0</td>\n",
       "      <td>0</td>\n",
       "      <td>0</td>\n",
       "      <td>0</td>\n",
       "      <td>0</td>\n",
       "      <td>0</td>\n",
       "      <td>0</td>\n",
       "      <td>0</td>\n",
       "      <td>0</td>\n",
       "      <td>0</td>\n",
       "      <td>0</td>\n",
       "      <td>0</td>\n",
       "      <td>0</td>\n",
       "      <td>0</td>\n",
       "      <td>0</td>\n",
       "      <td>0</td>\n",
       "      <td>0</td>\n",
       "      <td>0</td>\n",
       "      <td>0</td>\n",
       "      <td>0</td>\n",
       "      <td>0</td>\n",
       "      <td>0</td>\n",
       "      <td>0</td>\n",
       "      <td>0</td>\n",
       "      <td>0</td>\n",
       "      <td>0</td>\n",
       "      <td>0</td>\n",
       "      <td>0</td>\n",
       "      <td>0</td>\n",
       "      <td>0</td>\n",
       "      <td>0</td>\n",
       "      <td>1</td>\n",
       "      <td>0</td>\n",
       "      <td>0</td>\n",
       "      <td>0</td>\n",
       "      <td>0</td>\n",
       "      <td>0</td>\n",
       "      <td>0</td>\n",
       "      <td>0</td>\n",
       "      <td>0</td>\n",
       "      <td>1</td>\n",
       "    </tr>\n",
       "    <tr>\n",
       "      <th>4</th>\n",
       "      <td>0</td>\n",
       "      <td>0</td>\n",
       "      <td>1</td>\n",
       "      <td>0</td>\n",
       "      <td>1</td>\n",
       "      <td>1</td>\n",
       "      <td>1</td>\n",
       "      <td>0</td>\n",
       "      <td>0</td>\n",
       "      <td>0</td>\n",
       "      <td>1</td>\n",
       "      <td>1</td>\n",
       "      <td>0</td>\n",
       "      <td>1</td>\n",
       "      <td>0</td>\n",
       "      <td>1</td>\n",
       "      <td>1</td>\n",
       "      <td>0</td>\n",
       "      <td>1</td>\n",
       "      <td>0</td>\n",
       "      <td>0</td>\n",
       "      <td>0</td>\n",
       "      <td>0</td>\n",
       "      <td>0</td>\n",
       "      <td>0</td>\n",
       "      <td>0</td>\n",
       "      <td>0</td>\n",
       "      <td>0</td>\n",
       "      <td>0</td>\n",
       "      <td>0</td>\n",
       "      <td>0</td>\n",
       "      <td>0</td>\n",
       "      <td>0</td>\n",
       "      <td>1</td>\n",
       "      <td>1</td>\n",
       "      <td>0</td>\n",
       "      <td>1</td>\n",
       "      <td>0</td>\n",
       "      <td>0</td>\n",
       "      <td>0</td>\n",
       "      <td>1</td>\n",
       "      <td>0</td>\n",
       "      <td>1</td>\n",
       "      <td>0</td>\n",
       "      <td>1</td>\n",
       "      <td>0</td>\n",
       "      <td>0</td>\n",
       "      <td>0</td>\n",
       "      <td>0</td>\n",
       "      <td>1</td>\n",
       "      <td>1</td>\n",
       "      <td>1</td>\n",
       "      <td>1</td>\n",
       "      <td>1</td>\n",
       "      <td>1</td>\n",
       "      <td>0</td>\n",
       "      <td>0</td>\n",
       "      <td>1</td>\n",
       "      <td>1</td>\n",
       "      <td>0</td>\n",
       "      <td>1</td>\n",
       "      <td>0</td>\n",
       "      <td>1</td>\n",
       "      <td>0</td>\n",
       "      <td>1</td>\n",
       "      <td>0</td>\n",
       "      <td>0</td>\n",
       "      <td>1</td>\n",
       "      <td>1</td>\n",
       "      <td>1</td>\n",
       "      <td>0</td>\n",
       "      <td>0</td>\n",
       "      <td>0</td>\n",
       "      <td>0</td>\n",
       "      <td>0</td>\n",
       "      <td>1</td>\n",
       "      <td>0</td>\n",
       "      <td>1</td>\n",
       "      <td>0</td>\n",
       "      <td>1</td>\n",
       "      <td>0</td>\n",
       "      <td>0</td>\n",
       "      <td>0</td>\n",
       "      <td>0</td>\n",
       "      <td>0</td>\n",
       "      <td>0</td>\n",
       "      <td>1</td>\n",
       "      <td>1</td>\n",
       "      <td>1</td>\n",
       "      <td>1</td>\n",
       "      <td>1</td>\n",
       "      <td>1</td>\n",
       "      <td>0</td>\n",
       "      <td>1</td>\n",
       "      <td>0</td>\n",
       "      <td>1</td>\n",
       "      <td>0</td>\n",
       "      <td>1</td>\n",
       "      <td>1</td>\n",
       "      <td>1</td>\n",
       "      <td>0</td>\n",
       "      <td>0</td>\n",
       "      <td>0</td>\n",
       "      <td>0</td>\n",
       "      <td>1</td>\n",
       "      <td>0</td>\n",
       "      <td>0</td>\n",
       "      <td>1</td>\n",
       "      <td>0</td>\n",
       "      <td>0</td>\n",
       "      <td>0</td>\n",
       "      <td>0</td>\n",
       "      <td>0</td>\n",
       "      <td>0</td>\n",
       "      <td>1</td>\n",
       "      <td>1</td>\n",
       "      <td>1</td>\n",
       "      <td>1</td>\n",
       "      <td>0</td>\n",
       "      <td>0</td>\n",
       "      <td>1</td>\n",
       "      <td>1</td>\n",
       "      <td>0</td>\n",
       "      <td>1</td>\n",
       "      <td>1</td>\n",
       "      <td>1</td>\n",
       "      <td>1</td>\n",
       "      <td>1</td>\n",
       "      <td>1</td>\n",
       "      <td>0</td>\n",
       "      <td>1</td>\n",
       "      <td>1</td>\n",
       "      <td>1</td>\n",
       "      <td>0</td>\n",
       "      <td>1</td>\n",
       "    </tr>\n",
       "  </tbody>\n",
       "</table>\n",
       "</div>"
      ],
      "text/plain": [
       "   ACCESS_BACKGROUND_LOCATION  ACCESS_CHECKIN_PROPERTIES  \\\n",
       "0                           0                          0   \n",
       "1                           0                          0   \n",
       "2                           0                          0   \n",
       "3                           0                          0   \n",
       "4                           0                          0   \n",
       "\n",
       "   ACCESS_COARSE_LOCATION  ACCESS_FINE_LOCATION  \\\n",
       "0                       0                     0   \n",
       "1                       0                     0   \n",
       "2                       1                     0   \n",
       "3                       0                     0   \n",
       "4                       1                     0   \n",
       "\n",
       "   ACCESS_LOCATION_EXTRA_COMMANDS  ACCESS_MOCK_LOCATION  ACCESS_NETWORK_STATE  \\\n",
       "0                               0                     0                     1   \n",
       "1                               0                     0                     1   \n",
       "2                               0                     0                     1   \n",
       "3                               0                     0                     1   \n",
       "4                               1                     1                     1   \n",
       "\n",
       "   ACCESS_NOTIFICATION_POLICY  ACCESS_SURFACE_FLINGER  ACCESS_WIFI_STATE  \\\n",
       "0                           0                       0                  0   \n",
       "1                           0                       0                  0   \n",
       "2                           0                       0                  0   \n",
       "3                           0                       0                  0   \n",
       "4                           0                       0                  0   \n",
       "\n",
       "   ACCOUNT_MANAGER  ACTIVITY_RECOGNITION  ADD_SYSTEM_SERVICE  ADD_VOICEMAIL  \\\n",
       "0                0                     0                   0              0   \n",
       "1                0                     0                   0              0   \n",
       "2                0                     0                   0              0   \n",
       "3                0                     0                   0              0   \n",
       "4                1                     1                   0              1   \n",
       "\n",
       "   ANSWER_PHONE_CALLS  AUTHENTICATE_ACCOUNTS  BATTERY_STATS  \\\n",
       "0                   0                      0              0   \n",
       "1                   0                      0              0   \n",
       "2                   0                      0              0   \n",
       "3                   0                      0              0   \n",
       "4                   0                      1              1   \n",
       "\n",
       "   BIND_ACCESSIBILITY_SERVICE  BIND_APPWIDGET  BIND_CARRIER_MESSAGING_SERVICE  \\\n",
       "0                           0               0                               0   \n",
       "1                           0               0                               0   \n",
       "2                           0               0                               0   \n",
       "3                           0               0                               0   \n",
       "4                           0               1                               0   \n",
       "\n",
       "   BIND_CHOOSER_TARGET_SERVICE  BIND_DEVICE_ADMIN  BIND_DREAM_SERVICE  \\\n",
       "0                            0                  0                   0   \n",
       "1                            0                  0                   0   \n",
       "2                            0                  0                   0   \n",
       "3                            0                  0                   0   \n",
       "4                            0                  0                   0   \n",
       "\n",
       "   BIND_INPUT_METHOD  BIND_NFC_SERVICE  BIND_NOTIFICATION_LISTENER_SERVICE  \\\n",
       "0                  0                 0                                   0   \n",
       "1                  0                 0                                   0   \n",
       "2                  0                 0                                   0   \n",
       "3                  0                 0                                   0   \n",
       "4                  0                 0                                   0   \n",
       "\n",
       "   BIND_PRINT_SERVICE  BIND_REMOTEVIEWS  BIND_TEXT_SERVICE  BIND_TV_INPUT  \\\n",
       "0                   0                 0                  0              0   \n",
       "1                   0                 0                  0              0   \n",
       "2                   0                 0                  0              0   \n",
       "3                   0                 0                  0              0   \n",
       "4                   0                 0                  0              0   \n",
       "\n",
       "   BIND_VOICE_INTERACTION  BIND_VPN_SERVICE  BIND_WALLPAPER  BLUETOOTH  \\\n",
       "0                       0                 0               0          0   \n",
       "1                       0                 0               0          0   \n",
       "2                       0                 0               0          0   \n",
       "3                       0                 0               0          0   \n",
       "4                       0                 0               0          1   \n",
       "\n",
       "   BLUETOOTH_ADMIN  BLUETOOTH_PRIVILEGED  BODY_SENSORS  BRICK  \\\n",
       "0                0                     0             0      0   \n",
       "1                0                     0             0      0   \n",
       "2                0                     0             0      0   \n",
       "3                0                     0             0      0   \n",
       "4                1                     0             1      0   \n",
       "\n",
       "   BROADCAST_PACKAGE_REMOVED  BROADCAST_SMS  BROADCAST_STICKY  \\\n",
       "0                          0              0                 0   \n",
       "1                          0              0                 0   \n",
       "2                          0              0                 0   \n",
       "3                          0              0                 0   \n",
       "4                          0              0                 1   \n",
       "\n",
       "   BROADCAST_WAP_PUSH  CALL_PHONE  CALL_PRIVILEGED  CAMERA  \\\n",
       "0                   0           0                0       0   \n",
       "1                   0           0                0       0   \n",
       "2                   0           0                0       0   \n",
       "3                   0           0                0       0   \n",
       "4                   0           1                0       1   \n",
       "\n",
       "   CAPTURE_AUDIO_OUTPUT  CAPTURE_SECURE_VIDEO_OUTPUT  CAPTURE_VIDEO_OUTPUT  \\\n",
       "0                     0                            0                     0   \n",
       "1                     0                            0                     0   \n",
       "2                     0                            0                     0   \n",
       "3                     0                            0                     0   \n",
       "4                     0                            0                     0   \n",
       "\n",
       "   CHANGE_COMPONENT_ENABLED_STATE  CHANGE_CONFIGURATION  CHANGE_NETWORK_STATE  \\\n",
       "0                               0                     0                     0   \n",
       "1                               0                     0                     0   \n",
       "2                               0                     0                     0   \n",
       "3                               0                     0                     0   \n",
       "4                               0                     1                     1   \n",
       "\n",
       "   CHANGE_WIFI_MULTICAST_STATE  CHANGE_WIFI_STATE  CLEAR_APP_CACHE  \\\n",
       "0                            0                  0                0   \n",
       "1                            0                  0                0   \n",
       "2                            0                  0                0   \n",
       "3                            0                  0                0   \n",
       "4                            1                  1                1   \n",
       "\n",
       "   CLEAR_APP_USER_DATA  CONTROL_LOCATION_UPDATES  DELETE_CACHE_FILES  \\\n",
       "0                    0                         0                   0   \n",
       "1                    0                         0                   0   \n",
       "2                    0                         0                   0   \n",
       "3                    0                         0                   0   \n",
       "4                    1                         0                   0   \n",
       "\n",
       "   DELETE_PACKAGES  DEVICE_POWER  DIAGNOSTIC  DISABLE_KEYGUARD  DUMP  \\\n",
       "0                0             0           0                 0     0   \n",
       "1                0             0           0                 0     0   \n",
       "2                0             0           0                 0     0   \n",
       "3                0             0           0                 0     0   \n",
       "4                1             1           0                 1     0   \n",
       "\n",
       "   EXPAND_STATUS_BAR  FACTORY_TEST  FLASHLIGHT  FORCE_BACK  \\\n",
       "0                  0             0           0           0   \n",
       "1                  0             0           0           0   \n",
       "2                  0             0           0           0   \n",
       "3                  0             0           0           0   \n",
       "4                  1             0           1           0   \n",
       "\n",
       "   FOREGROUND_SERVICE  GET_ACCOUNTS  GET_PACKAGE_SIZE  GET_TASKS  \\\n",
       "0                   0             0                 0          0   \n",
       "1                   0             0                 0          0   \n",
       "2                   0             1                 0          0   \n",
       "3                   0             0                 0          0   \n",
       "4                   0             1                 1          1   \n",
       "\n",
       "   GET_TOP_ACTIVITY_INFO  GLOBAL_SEARCH  HARDWARE_TEST  INJECT_EVENTS  \\\n",
       "0                      0              0              0              0   \n",
       "1                      0              0              0              0   \n",
       "2                      0              0              0              0   \n",
       "3                      0              0              0              0   \n",
       "4                      0              0              0              0   \n",
       "\n",
       "   INSTALL_LOCATION_PROVIDER  INSTALL_SHORTCUT  INTERNAL_SYSTEM_WINDOW  \\\n",
       "0                          0                 0                       0   \n",
       "1                          0                 0                       0   \n",
       "2                          0                 0                       0   \n",
       "3                          0                 0                       0   \n",
       "4                          0                 1                       0   \n",
       "\n",
       "   KILL_BACKGROUND_PROCESSES  LOCATION_HARDWARE  MANAGE_ACCOUNTS  \\\n",
       "0                          0                  0                0   \n",
       "1                          0                  0                0   \n",
       "2                          0                  0                0   \n",
       "3                          0                  0                0   \n",
       "4                          1                  0                1   \n",
       "\n",
       "   MANAGE_APP_TOKENS  MANAGE_DOCUMENTS  MANAGE_OWN_CALLS  \\\n",
       "0                  0                 0                 0   \n",
       "1                  0                 0                 0   \n",
       "2                  0                 0                 0   \n",
       "3                  0                 0                 0   \n",
       "4                  0                 0                 0   \n",
       "\n",
       "   MEDIA_CONTENT_CONTROL  MICROPHONE  MOUNT_FORMAT_FILESYSTEMS  NFC  \\\n",
       "0                      0           0                         0    0   \n",
       "1                      0           0                         0    0   \n",
       "2                      0           0                         0    0   \n",
       "3                      0           0                         0    0   \n",
       "4                      0           0                         0    1   \n",
       "\n",
       "   PACKAGE_USAGE_STATS  PERSISTENT_ACTIVITY  PROCESS_OUTGOING_CALLS  \\\n",
       "0                    0                    0                       0   \n",
       "1                    0                    0                       0   \n",
       "2                    0                    0                       0   \n",
       "3                    0                    0                       0   \n",
       "4                    1                    1                       1   \n",
       "\n",
       "   READ_CALL_LOG  READ_EXTERNAL_STORAGE  READ_FRAME_BUFFER  \\\n",
       "0              0                      1                  0   \n",
       "1              0                      0                  0   \n",
       "2              0                      1                  0   \n",
       "3              0                      0                  0   \n",
       "4              1                      1                  0   \n",
       "\n",
       "   READ_HISTORY_BOOKMARKS  READ_INPUT_STATE  READ_OWNER_DATA  \\\n",
       "0                       0                 0                0   \n",
       "1                       0                 0                0   \n",
       "2                       0                 0                0   \n",
       "3                       0                 0                0   \n",
       "4                       1                 0                1   \n",
       "\n",
       "   READ_PHONE_NUMBERS  READ_PROFILE  READ_SOCIAL_STREAM  READ_USER_DICTIONARY  \\\n",
       "0                   0             0                   0                     0   \n",
       "1                   0             0                   0                     0   \n",
       "2                   0             0                   0                     0   \n",
       "3                   0             0                   0                     0   \n",
       "4                   0             1                   1                     1   \n",
       "\n",
       "   READ_VOICEMAIL  REQUEST_DELETE_PACKAGES  \\\n",
       "0               0                        0   \n",
       "1               0                        0   \n",
       "2               0                        0   \n",
       "3               0                        0   \n",
       "4               0                        0   \n",
       "\n",
       "   REQUEST_IGNORE_BATTERY_OPTIMIZATIONS  REQUEST_INSTALL_PACKAGES  \\\n",
       "0                                     0                         0   \n",
       "1                                     0                         0   \n",
       "2                                     0                         0   \n",
       "3                                     0                         0   \n",
       "4                                     0                         0   \n",
       "\n",
       "   RESTART_PACKAGES  SEND_RESPOND_VIA_MESSAGE  SET_ACTIVITY_WATCHER  \\\n",
       "0                 0                         0                     0   \n",
       "1                 0                         0                     0   \n",
       "2                 0                         0                     0   \n",
       "3                 0                         0                     0   \n",
       "4                 1                         0                     0   \n",
       "\n",
       "   SET_ALARM  SET_ORIENTATION  SET_POINTER_SPEED  SET_PREFERRED_APPLICATIONS  \\\n",
       "0          0                0                  0                           0   \n",
       "1          0                0                  0                           0   \n",
       "2          0                0                  0                           0   \n",
       "3          0                0                  0                           0   \n",
       "4          1                0                  0                           0   \n",
       "\n",
       "   SET_PROCESS_FOREGROUND  SET_TIME  STATUS_BAR  SUBSCRIBED_FEEDS_READ  \\\n",
       "0                       0         0           0                      0   \n",
       "1                       0         0           0                      0   \n",
       "2                       0         0           0                      0   \n",
       "3                       0         0           0                      0   \n",
       "4                       0         0           0                      1   \n",
       "\n",
       "   SUBSCRIBED_FEEDS_WRITE  TRANSMIT_IR  UNINSTALL_SHORTCUT  \\\n",
       "0                       0            0                   0   \n",
       "1                       0            0                   0   \n",
       "2                       0            0                   0   \n",
       "3                       0            0                   0   \n",
       "4                       1            1                   1   \n",
       "\n",
       "   UPDATE_DEVICE_STATS  USE_BIOMETRIC  USE_CREDENTIALS  USE_FINGERPRINT  \\\n",
       "0                    0              0                0                0   \n",
       "1                    0              0                0                0   \n",
       "2                    0              0                0                0   \n",
       "3                    0              0                0                0   \n",
       "4                    0              0                1                1   \n",
       "\n",
       "   USE_FULL_SCREEN_INTENT  USE_SIP  WRITE_CALL_LOG  WRITE_EXTERNAL_STORAGE  \\\n",
       "0                       0        0               0                       1   \n",
       "1                       0        0               0                       0   \n",
       "2                       0        0               0                       1   \n",
       "3                       0        0               0                       1   \n",
       "4                       0        1               1                       1   \n",
       "\n",
       "   WRITE_HISTORY_BOOKMARKS  WRITE_OWNER_DATA  WRITE_PROFILE  \\\n",
       "0                        0                 0              0   \n",
       "1                        0                 0              0   \n",
       "2                        0                 0              0   \n",
       "3                        0                 0              0   \n",
       "4                        1                 1              1   \n",
       "\n",
       "   WRITE_SECURE_SETTINGS  WRITE_SMS  WRITE_SOCIAL_STREAM  \\\n",
       "0                      0          0                    0   \n",
       "1                      0          0                    0   \n",
       "2                      0          0                    0   \n",
       "3                      0          0                    0   \n",
       "4                      0          1                    1   \n",
       "\n",
       "   WRITE_USER_DICTIONARY  WRITE_VOICEMAIL  class  \n",
       "0                      0                0      1  \n",
       "1                      0                0      0  \n",
       "2                      0                0      0  \n",
       "3                      0                0      1  \n",
       "4                      1                0      1  "
      ]
     },
     "execution_count": 8,
     "metadata": {},
     "output_type": "execute_result"
    }
   ],
   "source": [
    "droid.head()"
   ]
  },
  {
   "cell_type": "markdown",
   "metadata": {
    "cell_id": "00012-4e8c5be4-813f-4a9d-8dc0-a064c1f627e4",
    "deepnote_cell_type": "text-cell-h3",
    "is_collapsed": false,
    "tags": []
   },
   "source": [
    "### Intersecção de permissões"
   ]
  },
  {
   "cell_type": "code",
   "execution_count": null,
   "metadata": {
    "cell_id": "00013-8d91bfc3-0841-4ce8-abcf-b260f348b3aa",
    "deepnote_cell_type": "code",
    "deepnote_to_be_reexecuted": false,
    "execution_millis": 335278112,
    "execution_start": 1631227558186,
    "source_hash": "b9e0b17e",
    "tags": []
   },
   "outputs": [],
   "source": [
    "drebin_list = list(drebin)\n",
    "androcrawl_list = list(androcrawl)\n",
    "android_list = list(android)\n",
    "droid_list = list(droid)"
   ]
  },
  {
   "cell_type": "code",
   "execution_count": null,
   "metadata": {
    "cell_id": "00014-3efd7f6e-4edc-4b7d-b881-b35c1c9b7321",
    "deepnote_cell_type": "code",
    "deepnote_to_be_reexecuted": false,
    "execution_millis": 335278081,
    "execution_start": 1631227558191,
    "source_hash": "35c619ef",
    "tags": []
   },
   "outputs": [
    {
     "data": {
      "text/plain": [
       "114"
      ]
     },
     "execution_count": 10,
     "metadata": {},
     "output_type": "execute_result"
    }
   ],
   "source": [
    "len(drebin_list)"
   ]
  },
  {
   "cell_type": "code",
   "execution_count": null,
   "metadata": {
    "cell_id": "00015-17dc8394-aac4-487c-8ea5-41e4501f9650",
    "deepnote_cell_type": "code",
    "deepnote_to_be_reexecuted": false,
    "execution_millis": 335278083,
    "execution_start": 1631227558198,
    "source_hash": "8e59f5b5",
    "tags": []
   },
   "outputs": [],
   "source": [
    "len(androcrawl_list)"
   ]
  },
  {
   "cell_type": "code",
   "execution_count": null,
   "metadata": {
    "cell_id": "00016-3995e561-cf87-43ac-8d01-39ac4b1b9114",
    "deepnote_cell_type": "code",
    "deepnote_to_be_reexecuted": false,
    "execution_millis": 3,
    "execution_start": 1631227558233,
    "source_hash": "b340a869",
    "tags": []
   },
   "outputs": [],
   "source": [
    "len(android_list)"
   ]
  },
  {
   "cell_type": "code",
   "execution_count": null,
   "metadata": {
    "cell_id": "00017-97c8540e-1ce3-4703-a30d-036841a428e2",
    "deepnote_cell_type": "code",
    "deepnote_to_be_reexecuted": false,
    "execution_millis": 11,
    "execution_start": 1631227558234,
    "source_hash": "ff65f76",
    "tags": []
   },
   "outputs": [
    {
     "data": {
      "text/plain": [
       "135"
      ]
     },
     "execution_count": 13,
     "metadata": {},
     "output_type": "execute_result"
    }
   ],
   "source": [
    "len(droid_list)"
   ]
  },
  {
   "cell_type": "code",
   "execution_count": null,
   "metadata": {
    "cell_id": "00018-21f92be8-2ecf-4ef0-b636-f9aee2433a4e",
    "deepnote_cell_type": "code",
    "deepnote_to_be_reexecuted": false,
    "execution_millis": 335278035,
    "execution_start": 1631227558235,
    "source_hash": "ee1d1441",
    "tags": []
   },
   "outputs": [],
   "source": [
    "extract = []\n",
    "for x in androcrawl_list:\n",
    "    if x in drebin_list:\n",
    "        if x in droid_list:\n",
    "            extract.append(x)"
   ]
  },
  {
   "cell_type": "markdown",
   "metadata": {
    "cell_id": "00019-83e142e4-a13e-45a3-bab5-d1ef083523cb",
    "deepnote_cell_type": "text-cell-h3",
    "is_collapsed": false,
    "tags": []
   },
   "source": [
    "###  Intersecção de permissões entre extract e droid"
   ]
  },
  {
   "cell_type": "markdown",
   "metadata": {
    "cell_id": "00020-de07a3f6-5cec-4582-947c-10ab26ebfced",
    "deepnote_cell_type": "text-cell-h3",
    "is_collapsed": false,
    "tags": []
   },
   "source": [
    "### Intersecção entre permissões entre extract e android"
   ]
  },
  {
   "cell_type": "code",
   "execution_count": null,
   "metadata": {
    "cell_id": "00021-e0334ad8-5b0a-4f24-8324-7b8d2c83139e",
    "deepnote_cell_type": "code",
    "deepnote_to_be_reexecuted": false,
    "execution_millis": 1,
    "execution_start": 1631227558237,
    "source_hash": "3c7a9240",
    "tags": []
   },
   "outputs": [],
   "source": [
    "# *** NOMES ANDROID ***                       *** NOMES EXTRACT ***\n",
    "# DISABLE_KEYLOCK                             DISABLE_KEYGUARD\n",
    "# KILL_BACKGROUND_PROCESSES                =  KILL_BACKGROUND_PROCESSES\n",
    "# MODIFY_PHONE_STATE                       =  MODIFY_PHONE_STATE\n",
    "# DISABLE_OR_MODIFY_STATUS_BAR             =  STATUS_BAR\n",
    "# WRITE_CONTACT_DATA                       =  WRITE_CONTACTS\n",
    "# WRITE_BROWSERS_HISTORY_AND_BOOKMARKS     =  WRITE_HISTORY_BOOKMARKS\n",
    "# WRITE_TO_USER_DEFINED_DICTIONARY         =  WRITE_USER_DICTIONARY\n",
    "# READ_USER_DEFINED_DICTIONARY             =  READ_USER_DICTIONARY\n",
    "# EXPAND/COLLAPSE_STATUS_BAR               =  EXPAND_STATUS_BAR\n",
    "# CONTROL_FLASHLIGHT                       =  FLASHLIGHT\n",
    "# CHANGE_SCREEN_ORIENTATION                =  SET_ORIENTATION\n",
    "# SET_TIME                                 =  SET_TIME\n",
    "# SET_TIME_ZONE                            =  SET_TIME_ZONE\n",
    "# SET_WALLPAPER                            =  SET_WALLPAPER\n",
    "# CONTROL_LOCATION_UPDATE_NOTIFICATIONS    =  CONTROL_LOCATION_UPDATES\n",
    "# ENABLE_OR_DISABLE_APPLICATION_COMPONENTS =  CHANGE_COMPONENT_ENABLED_STATE\n",
    "# POWER_DEVICE_ON_OR_OFF                   =  DEVICE_POWER\n",
    "# class                                    =  class"
   ]
  },
  {
   "cell_type": "code",
   "execution_count": null,
   "metadata": {
    "cell_id": "00022-54b79bb7-42d1-4ab8-b331-2da48851e6f9",
    "deepnote_cell_type": "code",
    "deepnote_to_be_reexecuted": false,
    "execution_millis": 3,
    "execution_start": 1631227558250,
    "source_hash": "1ad0cc83",
    "tags": []
   },
   "outputs": [],
   "source": [
    "android.rename(columns={'DISABLE_KEYLOCK' : 'DISABLE_KEYGUARD'}, inplace=True)\n",
    "android.rename(columns={'DISABLE_OR_MODIFY_STATUS_BAR' : 'STATUS_BAR'}, inplace=True)\n",
    "android.rename(columns={'WRITE_CONTACT_DATA' : 'WRITE_CONTACTS'}, inplace=True)\n",
    "android.rename(columns={'WRITE_BROWSERS_HISTORY_AND_BOOKMARKS' : 'WRITE_HISTORY_BOOKMARKS'}, inplace=True)\n",
    "android.rename(columns={'WRITE_TO_USER_DEFINED_DICTIONARY' : 'WRITE_USER_DICTIONARY'}, inplace=True)\n",
    "android.rename(columns={'READ_USER_DEFINED_DICTIONARY' : 'READ_USER_DICTIONARY'}, inplace=True)\n",
    "android.rename(columns={'EXPAND/COLLAPSE_STATUS_BAR' : 'EXPAND_STATUS_BAR'}, inplace=True)\n",
    "android.rename(columns={'CONTROL_FLASHLIGHT' : 'FLASHLIGHT'}, inplace=True)\n",
    "android.rename(columns={'CHANGE_SCREEN_ORIENTATION' : 'SET_ORIENTATION'}, inplace=True)\n",
    "android.rename(columns={'CONTROL_LOCATION_UPDATE_NOTIFICATIONS' : 'CONTROL_LOCATION_UPDATES'}, inplace=True)\n",
    "android.rename(columns={'ENABLE_OR_DISABLE_APPLICATION_COMPONENTS' : 'CHANGE_COMPONENT_ENABLED_STATE'}, inplace=True)\n",
    "android.rename(columns={'POWER_DEVICE_ON_OR_OFF' : 'DEVICE_POWER'}, inplace=True)"
   ]
  },
  {
   "cell_type": "code",
   "execution_count": null,
   "metadata": {
    "cell_id": "00023-91b071c3-5a39-40a6-a807-ac515fea30ff",
    "deepnote_cell_type": "code",
    "deepnote_to_be_reexecuted": false,
    "execution_millis": 1,
    "execution_start": 1631227558292,
    "source_hash": "cbff8b40",
    "tags": []
   },
   "outputs": [],
   "source": [
    "features = []\n",
    "for x in extract:\n",
    "    if x in android.columns:\n",
    "        features.append(x)"
   ]
  },
  {
   "cell_type": "code",
   "execution_count": null,
   "metadata": {
    "cell_id": "00024-2cf0a357-3f8d-4e77-a82c-fee941e665da",
    "deepnote_cell_type": "code",
    "deepnote_to_be_reexecuted": false,
    "execution_millis": 6,
    "execution_start": 1631227558293,
    "source_hash": "c80c10ef",
    "tags": []
   },
   "outputs": [
    {
     "data": {
      "text/plain": [
       "['CHANGE_COMPONENT_ENABLED_STATE',\n",
       " 'DISABLE_KEYGUARD',\n",
       " 'KILL_BACKGROUND_PROCESSES',\n",
       " 'STATUS_BAR',\n",
       " 'WRITE_HISTORY_BOOKMARKS',\n",
       " 'CONTROL_LOCATION_UPDATES',\n",
       " 'DEVICE_POWER',\n",
       " 'EXPAND_STATUS_BAR',\n",
       " 'FLASHLIGHT',\n",
       " 'READ_USER_DICTIONARY',\n",
       " 'SET_ORIENTATION',\n",
       " 'SET_TIME',\n",
       " 'WRITE_USER_DICTIONARY',\n",
       " 'class']"
      ]
     },
     "execution_count": 18,
     "metadata": {},
     "output_type": "execute_result"
    }
   ],
   "source": [
    "features"
   ]
  },
  {
   "cell_type": "code",
   "execution_count": null,
   "metadata": {
    "cell_id": "00025-a1cc854a-12c6-4934-b12d-b91990a1c9fd",
    "deepnote_cell_type": "code",
    "deepnote_to_be_reexecuted": false,
    "execution_millis": 0,
    "execution_start": 1631227558294,
    "source_hash": "367c1ea5",
    "tags": []
   },
   "outputs": [],
   "source": [
    "drebin = drebin[features]\n",
    "androcrawl = androcrawl[features]\n",
    "android = android[features]\n",
    "droid = droid[features]"
   ]
  },
  {
   "cell_type": "code",
   "execution_count": null,
   "metadata": {
    "cell_id": "00026-678ce860-6842-40e7-95e9-945082c4871a",
    "deepnote_cell_type": "code",
    "deepnote_to_be_reexecuted": false,
    "execution_millis": 881,
    "execution_start": 1631227558296,
    "source_hash": "948aade4",
    "tags": []
   },
   "outputs": [],
   "source": [
    "drebin.to_csv(\"Intersection_Drebin (duplicates).csv\", index = False)\n",
    "androcrawl.to_csv(\"Intersection_Androcrawl (duplicates).csv\", index = False)\n",
    "android.to_csv(\"Intersection_AndroidMalwareNormal (duplicates).csv\", index = False)\n",
    "droid.to_csv(\"Intersection_DefenseDroid (duplicates).csv\", index = False)"
   ]
  }
 ],
 "metadata": {
  "deepnote": {
   "is_reactive": false
  },
  "deepnote_execution_queue": [],
  "deepnote_notebook_id": "025cf645-5f10-43dd-bcea-c696529db816",
  "interpreter": {
   "hash": "31f2aee4e71d21fbe5cf8b01ff0e069b9275f58929596ceb00d14d90e3e16cd6"
  },
  "kernelspec": {
   "display_name": "Python 3.8.10 64-bit",
   "language": "python",
   "name": "python3"
  },
  "language_info": {
   "codemirror_mode": {
    "name": "ipython",
    "version": 3
   },
   "file_extension": ".py",
   "mimetype": "text/x-python",
   "name": "python",
   "nbconvert_exporter": "python",
   "pygments_lexer": "ipython3",
   "version": "3.8.10"
  },
  "orig_nbformat": 2
 },
 "nbformat": 4,
 "nbformat_minor": 2
}
