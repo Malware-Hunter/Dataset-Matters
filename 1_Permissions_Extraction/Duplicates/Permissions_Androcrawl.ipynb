{
 "cells": [
  {
   "cell_type": "code",
   "execution_count": null,
   "metadata": {
    "cell_id": "00000-d527d48d-876a-4287-8829-715971f32de1",
    "deepnote_cell_type": "code",
    "deepnote_to_be_reexecuted": false,
    "execution_millis": 521,
    "execution_start": 1631226009649,
    "source_hash": "f087cb1a"
   },
   "outputs": [],
   "source": [
    "import pandas as pd\n",
    "import numpy as np\n",
    "from sklearn.utils import shuffle"
   ]
  },
  {
   "cell_type": "code",
   "execution_count": null,
   "metadata": {
    "cell_id": "00001-e995120e-d1b5-49ac-91d1-c1fa49d21d03",
    "deepnote_cell_type": "code",
    "deepnote_to_be_reexecuted": false,
    "execution_millis": 1,
    "execution_start": 1631226010171,
    "source_hash": "17e575e3",
    "tags": []
   },
   "outputs": [],
   "source": [
    "pd.options.display.max_columns = None\n",
    "pd.options.display.max_rows = None"
   ]
  },
  {
   "cell_type": "code",
   "execution_count": null,
   "metadata": {
    "cell_id": "00002-8a404508-ce91-4928-8f9c-d46d75b187be",
    "deepnote_cell_type": "code",
    "deepnote_to_be_reexecuted": false,
    "execution_millis": 5880,
    "execution_start": 1631226010172,
    "source_hash": "56a65f74",
    "tags": []
   },
   "outputs": [
    {
     "name": "stderr",
     "output_type": "stream",
     "text": [
      "/shared-libs/python3.7/py-core/lib/python3.7/site-packages/IPython/core/interactiveshell.py:3170: DtypeWarning: Columns (27,28,29,30,31,32,33,35,36,37,38,39,40,41,42,43,44,45,46,47,48,49,50,51,52,53,54,55,56,57,58,59,60,61,62,63,64,65,66,67,68,69,70,71,72,73,74,75,76,77,78,79,80,81,82,83,84,85,86,87,88,89,90,91,92,93,94,95,98,99,101,103,106,109,110,111,112,117,118,119,123,124,125,126,127,128,130,131,132,133,134,135,136,137,138,139,140,141,142,143,144,145,146,147,148,149,150,151,152,153,154,155,188,189,190,191,192,193,194,195,197,198,199,200,201,202,203,204,206,207,208,209,210,211,212,213,215,216,217,218,220) have mixed types.Specify dtype option on import or set low_memory=False.\n",
      "  interactivity=interactivity, compiler=compiler, result=result)\n"
     ]
    }
   ],
   "source": [
    "andro = pd.read_csv('../../0_Originals_Datasets/Androcrawl ( 2014_2015 ).csv')"
   ]
  },
  {
   "cell_type": "code",
   "execution_count": null,
   "metadata": {
    "cell_id": "00003-96b90bdd-f61f-44d2-a664-5af015bbe9cb",
    "deepnote_cell_type": "code",
    "deepnote_to_be_reexecuted": false,
    "execution_millis": 7,
    "execution_start": 1631226016074,
    "source_hash": "6e45c399",
    "tags": []
   },
   "outputs": [
    {
     "data": {
      "text/plain": [
       "[\"'Apk Name'\",\n",
       " \"'Dangerous Permission: ACCESS_SUPERUSER'\",\n",
       " \"'Dangerous Permission: BLUETOOTH_PRIVILEGED'\",\n",
       " \"'Dangerous Permission: BRICK'\",\n",
       " \"'Dangerous Permission: CHANGE_COMPONENT_ENABLED_STATE'\",\n",
       " \"'Dangerous Permission: CLEAR_APP_USER_DATA'\",\n",
       " \"'Dangerous Permission: DELETE_CACHE_FILES'\",\n",
       " \"'Dangerous Permission: DELETE_PACKAGES'\",\n",
       " \"'Dangerous Permission: DISABLE_KEYGUARD'\",\n",
       " \"'Dangerous Permission: FACTORY_TEST'\",\n",
       " \"'Dangerous Permission: INSTALL_PACKAGES'\",\n",
       " \"'Dangerous Permission: INJECT_EVENTS'\",\n",
       " \"'Dangerous Permission: INTERNAL_SYSTEM_WINDOW'\",\n",
       " \"'Dangerous Permission: KILL_BACKGROUND_PROCESSES'\",\n",
       " \"'Dangerous Permission: MASTER_CLEAR'\",\n",
       " \"'Dangerous Permission: MODIFY_PHONE_STATE'\",\n",
       " \"'Dangerous Permission: MOUNT_FORMAT_FILESYSTEM'\",\n",
       " \"'Dangerous Permission: MOUNT_UNMOUNT_FILESYSTEM'\",\n",
       " \"'Dangerous Permission: PROCESS_OUTGOING_CALLS'\",\n",
       " \"'Dangerous Permission: READ_LOGS'\",\n",
       " \"'Dangerous Permission: REBOOT'\",\n",
       " \"'Dangerous Permission: RECEIVE_BOOT_COMPLETED'\",\n",
       " \"'Dangerous Permission: STATUS_BAR'\",\n",
       " \"'Dangerous Permission: WRITE_EXTERNAL_STORAGE'\",\n",
       " \"'Dangerous Permission: WRITE_HISTORY_BOOKMARKS'\",\n",
       " \"'Dangerous Permission: WRITE_PROFILE'\",\n",
       " \"'Dangerous Permission: WRITE_SECURE_SETTINGS'\",\n",
       " \"'Api Call: Landroid/content/Context;->startService'\",\n",
       " \"'Api Call: Landroid/telephony/TelephonyManager;->getSubscriberId'\",\n",
       " \"'Api Call: Landroid/telephony/TelephonyManager;->getDeviceId'\",\n",
       " \"'Api Call: Landroid/telephony/TelephonyManager;->getLine1Number'\",\n",
       " \"'Api Call: Landroid/telephony/TelephonyManager;->getSimSerialNumber'\",\n",
       " \"'Api Call: Landroid/telephony/TelephonyManager;->getSimOperatorName'\",\n",
       " \"'Api Call: Landroid/telephony/TelephonyManager;->getCellLocation'\",\n",
       " \"'Api Call: Landroid/telephony/cdma/CdmaCellLocation;->getSystemId'\",\n",
       " \"'Api Call: Landroid/telephony/SmsManager;->sendTextMessage'\",\n",
       " \"'Api Call: Landroid/content/Intent;->setDataAndType'\",\n",
       " \"'Api Call: Landroid/content/Intent;->setType'\",\n",
       " \"'Api Call: Landroid/app/ActivityManager;->getRunningServices'\",\n",
       " \"'Api Call: Landroid/app/ActivityManager;->getMemoryInfo'\",\n",
       " \"'Api Call: Landroid/app/ActivityManager;->restartPackage'\",\n",
       " \"'Api Call: Landroid/content/pm/PackageManager;->getInstalledPackages'\",\n",
       " \"'Api Call: Ljava/lang/System;->loadLibrary'\",\n",
       " \"'Api Call: Ljavax/crypto/Cipher;->getInstance'\",\n",
       " \"'Api Call: Landroid/provider/Browser;->getAllBookmarks'\",\n",
       " \"'Api Call: Landroid/content/pm/PackageManager;->queryContentProviders'\",\n",
       " \"'Api Call: Landroid/content/Intent;->describeContents'\",\n",
       " \"'Api Call: Landroid/content/pm/PackageManager;->getPreferredActivities'\",\n",
       " \"'Api Call: Landroid/app/Service;->onLowMemory'\",\n",
       " \"'Api Call: Landroid/os/Parcel;->marshall'\",\n",
       " \"'Api Call: Ldalvik/system/DexClassLoader;-><init>'\",\n",
       " \"'Api Call: Ljava/lang/ClassLoader;->loadClass'\",\n",
       " \"'Api Call: Landroid/accounts/AccountManager;->getAccounts'\",\n",
       " \"'Api Call: Landroid/content/BroadcastReceiver;->abortBroadcast'\",\n",
       " \"'Checks adb_enabled'\",\n",
       " \"'Tries to modify adb_enabled'\",\n",
       " \"'Communication: INTERNET'\",\n",
       " \"'Communication: ACCESS_NETWORK_STATE'\",\n",
       " \"'Communication: CHANGE_NETWORK_STATE'\",\n",
       " \"'Communication: BLUETOOTH_ADMIN'\",\n",
       " \"'Communication: BLUETOOTH'\",\n",
       " \"'Communication: WRITE_APN_SETTINGS'\",\n",
       " \"'Communication: NETWORK'\",\n",
       " \"'Communication: SUBSCRIBED_FEEDS_WRITE'\",\n",
       " \"'Communication: NFC'\",\n",
       " \"'Communication: NETWORK_PROVIDER'\",\n",
       " \"'Communication: WRITE_SOCIAL_STREAM'\",\n",
       " \"'Communication: SEND_SMS'\",\n",
       " \"'Communication: USE_SIP'\",\n",
       " \"'Can Steal Data: ACCESS_FINE_LOCATION'\",\n",
       " \"'Can Steal Data: ACCESS_COARSE_LOCATION'\",\n",
       " \"'Can Steal Data: ACCESS_LOCATION_EXTRA_COMMANDS'\",\n",
       " \"'Can Steal Data: ACCESS_MOCK_LOCATION'\",\n",
       " \"'Can Steal Data: ACCESS_WIFI_STATE'\",\n",
       " \"'Can Steal Data: CAMERA'\",\n",
       " \"'Can Steal Data: CAPTURE_AUDIO_OUTPUT'\",\n",
       " \"'Can Steal Data: CAPTURE_SECURE_VIDEO_OUTPUT'\",\n",
       " \"'Can Steal Data: CAPTURE_VIDEO_OUTPUT'\",\n",
       " \"'Can Steal Data: DIAGNOSTIC'\",\n",
       " \"'Can Steal Data: DUMP'\",\n",
       " \"'Can Steal Data: GET_ACCOUNTS'\",\n",
       " \"'Can Steal Data: GET_TASKS'\",\n",
       " \"'Can Steal Data: LOCATION_HARDWARE'\",\n",
       " \"'Can Steal Data: READ_CALENDAR'\",\n",
       " \"'Can Steal Data: READ_CALL_LOG'\",\n",
       " \"'Can Steal Data: READ_CONTACTS'\",\n",
       " \"'Can Steal Data: READ_EXTERNAL_STORAGE'\",\n",
       " \"'Can Steal Data: READ_HISTORY_BOOKMARKS'\",\n",
       " \"'Can Steal Data: READ_PHONE_STATE'\",\n",
       " \"'Can Steal Data: READ_PROFILE'\",\n",
       " \"'Can Steal Data: READ_SMS'\",\n",
       " \"'Can Steal Data: READ_SOCIAL_STREAM'\",\n",
       " \"'Can Steal Data: READ_SYNC_SETTINGS'\",\n",
       " \"'Can Steal Data: RECEIVE_MMS'\",\n",
       " \"'Can Steal Data: RECEIVE_SMS'\",\n",
       " \"'Can Steal Data: RECORD_AUDIO'\",\n",
       " \"'Content: content://com.android.calendar'\",\n",
       " \"'Content: content://calendar'\",\n",
       " \"'Content: content://mms'\",\n",
       " \"'Content: content://sms'\",\n",
       " \"'Content: content://com.facebook.katana.provider.AttributionIdProvider'\",\n",
       " \"'Content: content://telephony/carriers/preferapn'\",\n",
       " \"'Content: content://media'\",\n",
       " \"'Airpush Included'\",\n",
       " \"'C2M Permission: c2dm.permission.RECEIVE'\",\n",
       " \"'C2M Permission: C2D_MESSAGE'\",\n",
       " \"'C2M Permission: c2dm.permission.SEND'\",\n",
       " \"'C2M Intent: c2dm.intent.RECEIVE'\",\n",
       " \"'C2M Intent: c2dm.intent.REGISTRATION'\",\n",
       " \"'C2M Intent: c2dm.intent.REGISTER'\",\n",
       " \"'Notification Api Call: Landroid/support/v4/app/NotificationCompat.Builder;->build'\",\n",
       " \"'Notification Api Call: Landroid/app/Notification;-><init>'\",\n",
       " \"'Notification Api Call: Landroid/app/NotificationManager;->notify'\",\n",
       " \"'Notification Api Call: Landroid/app/Notification$Builder;-><init>'\",\n",
       " \"'Notification Api Call: Landroid/app/Notification$Builder;->setLargeIcon'\",\n",
       " \"'Notification Api Call: Landroid/app/Notification$Builder;->setSound'\",\n",
       " \"'Classes with Ad prefix'\",\n",
       " \"'Contains Hardcoded URLs'\",\n",
       " \"'URLs Domains differ from Package'\",\n",
       " \"'Contains URL known to be suspicious'\",\n",
       " \"'Single Package Name'\",\n",
       " \"'Valid Domain in Package Name'\",\n",
       " \"'Package Name contains Tetragrams'\",\n",
       " \"'Total number of packages'\",\n",
       " \"'Total number of classes'\",\n",
       " \"'Number of classes in main package'\",\n",
       " \"'Average class size'\",\n",
       " \"'Obsfuscation present'\",\n",
       " \"'Is main package obfuscated?'\",\n",
       " 'Language:',\n",
       " \"'Size of apk'\",\n",
       " \"'Number of images'\",\n",
       " \"'Number of files'\",\n",
       " \"'Number of permissions'\",\n",
       " \"'Number of activities'\",\n",
       " \"'Number of services'\",\n",
       " \"'Number of receivers'\",\n",
       " \"'Calls a System Routine: su'\",\n",
       " \"'Calls a System Routine: ls'\",\n",
       " \"'Calls a System Routine: loadjar'\",\n",
       " \"'Calls a System Routine: grep'\",\n",
       " \"'Calls a System Routine: /sh'\",\n",
       " \"'Calls a System Routine: /bin'\",\n",
       " \"'Calls a System Routine: pm install'\",\n",
       " \"'Calls a System Routine: /dev/net'\",\n",
       " \"'Calls a System Routine: insmod'\",\n",
       " \"'Calls a System Routine: rm'\",\n",
       " \"'Calls a System Routine: mount'\",\n",
       " \"'Calls a System Routine: root'\",\n",
       " \"'Calls a System Routine: /system'\",\n",
       " \"'Calls a System Routine: stdout'\",\n",
       " \"'Calls a System Routine: reboot'\",\n",
       " \"'Calls a System Routine: killall'\",\n",
       " \"'Calls a System Routine: chmod'\",\n",
       " \"'Calls a System Routine: stderr'\",\n",
       " \"'Calls a System Routine: ratc'\",\n",
       " \"'Harmless Permission: ACCESS_SURFACE_FLINGER'\",\n",
       " \"'Harmless Permission: ACCOUNT_MANAGER'\",\n",
       " \"'Harmless Permission: ADD_VOICEMAIL'\",\n",
       " \"'Harmless Permission: CONTROL_LOCATION_UPDATES'\",\n",
       " \"'Harmless Permission: DEVICE_POWER'\",\n",
       " \"'Harmless Permission: EXPAND_STATUS_BAR'\",\n",
       " \"'Harmless Permission: FLASHLIGHT'\",\n",
       " \"'Harmless Permission: FORCE_BACK'\",\n",
       " \"'Harmless Permission: GET_PACKAGE_SIZE'\",\n",
       " \"'Harmless Permission: GET_TOP_ACTIVITY_INFO'\",\n",
       " \"'Harmless Permission: GLOBAL_SEARCH'\",\n",
       " \"'Harmless Permission: INSTALL_SHORTCUT'\",\n",
       " \"'Harmless Permission: MANAGE_DOCUMENTS'\",\n",
       " \"'Harmless Permission: MEDIA_CONTENT_CONTROL'\",\n",
       " \"'Harmless Permission: MODIFY_AUDIO_SETTINGS'\",\n",
       " \"'Harmless Permission: READ_USER_DICTIONARY'\",\n",
       " \"'Harmless Permission: REORDER_TASKS'\",\n",
       " \"'Harmless Permission: SEND_RESPOND_VIA_MESSAGE'\",\n",
       " \"'Harmless Permission: SET_ALARM'\",\n",
       " \"'Harmless Permission: SET_ANIMATION_SCALE'\",\n",
       " \"'Harmless Permission: SET_ORIENTATION'\",\n",
       " \"'Harmless Permission: SET_POINTER_SPEED'\",\n",
       " \"'Harmless Permission: SET_TIME'\",\n",
       " \"'Harmless Permission: SET_TIME_ZONE'\",\n",
       " \"'Harmless Permission: SET_WALLPAPER'\",\n",
       " \"'Harmless Permission: UNINSTALL_SHORTCUT'\",\n",
       " \"'Harmless Permission: VIBRATE'\",\n",
       " \"'Harmless Permission: WAKE_LOCK'\",\n",
       " \"'Harmless Permission: WRITE_CALENDAR'\",\n",
       " \"'Harmless Permission: WRITE_CALL_LOG'\",\n",
       " \"'Harmless Permission: WRITE_CONTACTS'\",\n",
       " \"'Harmless Permission: WRITE_USER_DICTIONARY'\",\n",
       " \"'Suspicious Intent Filter: AIRPLANE_MODE_CHANGED'\",\n",
       " \"'Suspicious Intent Filter: BOOT_COMPLETED'\",\n",
       " \"'Suspicious Intent Filter: CONFIGURATION_CHANGED'\",\n",
       " \"'Suspicious Intent Filter: BATTERY_CHANGED'\",\n",
       " \"'Suspicious Intent Filter: DEVICE_STORAGE_LOW'\",\n",
       " \"'Suspicious Intent Filter: DOCK_EVENT'\",\n",
       " \"'Suspicious Intent Filter: EXTERNAL_APPLICATIONS_AVAILABLE'\",\n",
       " \"'Suspicious Intent Filter: MANAGE_PACKAGE_STORAGE'\",\n",
       " \"'Suspicious Intent Filter: MEDIA_MOUNTED'\",\n",
       " \"'Suspicious Intent Filter: MY_PACKAGE_REPLACED'\",\n",
       " \"'Suspicious Intent Filter: NEW_OUTGOING_CALL'\",\n",
       " \"'Suspicious Intent Filter: PACKAGE_ADDED'\",\n",
       " \"'Suspicious Intent Filter: PACKAGE_CHANGED'\",\n",
       " \"'Suspicious Intent Filter: PACKAGE_DATA_CLEARED'\",\n",
       " \"'Suspicious Intent Filter: PACKAGE_FIRST_LAUNCH'\",\n",
       " \"'Suspicious Intent Filter: PACKAGE_INSTALL'\",\n",
       " \"'Suspicious Intent Filter: PACKAGE_REMOVED'\",\n",
       " \"'Suspicious Intent Filter: PACKAGE_REPLACED'\",\n",
       " \"'Suspicious Intent Filter: PACKAGE_RESTARTED'\",\n",
       " \"'Suspicious Intent Filter: POWER_CONNECTED'\",\n",
       " \"'Suspicious Intent Filter: PROVIDER_CHANGED'\",\n",
       " \"'Suspicious Intent Filter: REBOOT'\",\n",
       " \"'Suspicious Intent Filter: SHUTDOWN'\",\n",
       " \"'Suspicious Intent Filter: USER_PRESENT'\",\n",
       " \"'Hidden Apk'\",\n",
       " \"'Sends SMS to Suspicious Number(s)'\",\n",
       " \"'Package Domain Exists'\",\n",
       " \"'Reads phone data at startup'\",\n",
       " \"'Sends SMS at startup'\",\n",
       " \"'Starts service at startup'\",\n",
       " \"'Sends SMS when receiving SMS'\",\n",
       " \"'Sends data to a remote page when receiving SMS'\",\n",
       " \"'Accesses a database when receiving SMS'\",\n",
       " \"'Detection Ratio'\"]"
      ]
     },
     "execution_count": 4,
     "metadata": {},
     "output_type": "execute_result"
    }
   ],
   "source": [
    "list(andro)"
   ]
  },
  {
   "cell_type": "code",
   "execution_count": null,
   "metadata": {
    "cell_id": "00012-9314455d-59d8-47f3-8b6c-a57bdc75149f",
    "deepnote_cell_type": "code",
    "deepnote_to_be_reexecuted": false,
    "execution_millis": 8,
    "execution_start": 1631226016084,
    "source_hash": "51babde7",
    "tags": []
   },
   "outputs": [
    {
     "data": {
      "text/plain": [
       "(162983, 222)"
      ]
     },
     "execution_count": 5,
     "metadata": {},
     "output_type": "execute_result"
    }
   ],
   "source": [
    "andro.shape"
   ]
  },
  {
   "cell_type": "code",
   "execution_count": null,
   "metadata": {
    "cell_id": "00013-f424ee37-d4ca-4b32-b9a5-cfbd3fb98399",
    "deepnote_cell_type": "code",
    "deepnote_to_be_reexecuted": false,
    "execution_millis": 9,
    "execution_start": 1631226016116,
    "source_hash": "1635a582",
    "tags": []
   },
   "outputs": [
    {
     "data": {
      "text/plain": [
       "Benign       139670\n",
       "Malicious     23313\n",
       "Name: 'Detection Ratio', dtype: int64"
      ]
     },
     "execution_count": 6,
     "metadata": {},
     "output_type": "execute_result"
    }
   ],
   "source": [
    "andro[\"'Detection Ratio'\"].value_counts()"
   ]
  },
  {
   "cell_type": "code",
   "execution_count": null,
   "metadata": {
    "cell_id": "00016-c5dce0d8-55eb-4a64-bb44-cb18921678d7",
    "deepnote_cell_type": "code",
    "deepnote_to_be_reexecuted": false,
    "execution_millis": 1106,
    "execution_start": 1631226016124,
    "source_hash": "e14445cc",
    "tags": []
   },
   "outputs": [
    {
     "data": {
      "text/plain": [
       "'Apk Name'                                                                             0\n",
       "'Dangerous Permission: ACCESS_SUPERUSER'                                               0\n",
       "'Dangerous Permission: BLUETOOTH_PRIVILEGED'                                           0\n",
       "'Dangerous Permission: BRICK'                                                          0\n",
       "'Dangerous Permission: CHANGE_COMPONENT_ENABLED_STATE'                                 0\n",
       "'Dangerous Permission: CLEAR_APP_USER_DATA'                                            0\n",
       "'Dangerous Permission: DELETE_CACHE_FILES'                                             0\n",
       "'Dangerous Permission: DELETE_PACKAGES'                                                0\n",
       "'Dangerous Permission: DISABLE_KEYGUARD'                                               0\n",
       "'Dangerous Permission: FACTORY_TEST'                                                   0\n",
       "'Dangerous Permission: INSTALL_PACKAGES'                                               0\n",
       "'Dangerous Permission: INJECT_EVENTS'                                                  0\n",
       "'Dangerous Permission: INTERNAL_SYSTEM_WINDOW'                                         0\n",
       "'Dangerous Permission: KILL_BACKGROUND_PROCESSES'                                      0\n",
       "'Dangerous Permission: MASTER_CLEAR'                                                   0\n",
       "'Dangerous Permission: MODIFY_PHONE_STATE'                                             0\n",
       "'Dangerous Permission: MOUNT_FORMAT_FILESYSTEM'                                        0\n",
       "'Dangerous Permission: MOUNT_UNMOUNT_FILESYSTEM'                                       0\n",
       "'Dangerous Permission: PROCESS_OUTGOING_CALLS'                                         0\n",
       "'Dangerous Permission: READ_LOGS'                                                      0\n",
       "'Dangerous Permission: REBOOT'                                                         0\n",
       "'Dangerous Permission: RECEIVE_BOOT_COMPLETED'                                         0\n",
       "'Dangerous Permission: STATUS_BAR'                                                     0\n",
       "'Dangerous Permission: WRITE_EXTERNAL_STORAGE'                                         0\n",
       "'Dangerous Permission: WRITE_HISTORY_BOOKMARKS'                                        0\n",
       "'Dangerous Permission: WRITE_PROFILE'                                                  0\n",
       "'Dangerous Permission: WRITE_SECURE_SETTINGS'                                          0\n",
       "'Api Call: Landroid/content/Context;->startService'                                    0\n",
       "'Api Call: Landroid/telephony/TelephonyManager;->getSubscriberId'                      0\n",
       "'Api Call: Landroid/telephony/TelephonyManager;->getDeviceId'                          0\n",
       "'Api Call: Landroid/telephony/TelephonyManager;->getLine1Number'                       0\n",
       "'Api Call: Landroid/telephony/TelephonyManager;->getSimSerialNumber'                   0\n",
       "'Api Call: Landroid/telephony/TelephonyManager;->getSimOperatorName'                   0\n",
       "'Api Call: Landroid/telephony/TelephonyManager;->getCellLocation'                      0\n",
       "'Api Call: Landroid/telephony/cdma/CdmaCellLocation;->getSystemId'                     0\n",
       "'Api Call: Landroid/telephony/SmsManager;->sendTextMessage'                            0\n",
       "'Api Call: Landroid/content/Intent;->setDataAndType'                                   0\n",
       "'Api Call: Landroid/content/Intent;->setType'                                          0\n",
       "'Api Call: Landroid/app/ActivityManager;->getRunningServices'                          0\n",
       "'Api Call: Landroid/app/ActivityManager;->getMemoryInfo'                               0\n",
       "'Api Call: Landroid/app/ActivityManager;->restartPackage'                              0\n",
       "'Api Call: Landroid/content/pm/PackageManager;->getInstalledPackages'                  0\n",
       "'Api Call: Ljava/lang/System;->loadLibrary'                                            0\n",
       "'Api Call: Ljavax/crypto/Cipher;->getInstance'                                         0\n",
       "'Api Call: Landroid/provider/Browser;->getAllBookmarks'                                0\n",
       "'Api Call: Landroid/content/pm/PackageManager;->queryContentProviders'                 0\n",
       "'Api Call: Landroid/content/Intent;->describeContents'                                 0\n",
       "'Api Call: Landroid/content/pm/PackageManager;->getPreferredActivities'                0\n",
       "'Api Call: Landroid/app/Service;->onLowMemory'                                         0\n",
       "'Api Call: Landroid/os/Parcel;->marshall'                                              0\n",
       "'Api Call: Ldalvik/system/DexClassLoader;-><init>'                                     0\n",
       "'Api Call: Ljava/lang/ClassLoader;->loadClass'                                         0\n",
       "'Api Call: Landroid/accounts/AccountManager;->getAccounts'                             0\n",
       "'Api Call: Landroid/content/BroadcastReceiver;->abortBroadcast'                        0\n",
       "'Checks adb_enabled'                                                                   0\n",
       "'Tries to modify adb_enabled'                                                          0\n",
       "'Communication: INTERNET'                                                              0\n",
       "'Communication: ACCESS_NETWORK_STATE'                                                  0\n",
       "'Communication: CHANGE_NETWORK_STATE'                                                  0\n",
       "'Communication: BLUETOOTH_ADMIN'                                                       0\n",
       "'Communication: BLUETOOTH'                                                             0\n",
       "'Communication: WRITE_APN_SETTINGS'                                                    0\n",
       "'Communication: NETWORK'                                                               0\n",
       "'Communication: SUBSCRIBED_FEEDS_WRITE'                                                0\n",
       "'Communication: NFC'                                                                   0\n",
       "'Communication: NETWORK_PROVIDER'                                                      0\n",
       "'Communication: WRITE_SOCIAL_STREAM'                                                   0\n",
       "'Communication: SEND_SMS'                                                              0\n",
       "'Communication: USE_SIP'                                                               0\n",
       "'Can Steal Data: ACCESS_FINE_LOCATION'                                                 0\n",
       "'Can Steal Data: ACCESS_COARSE_LOCATION'                                               0\n",
       "'Can Steal Data: ACCESS_LOCATION_EXTRA_COMMANDS'                                       0\n",
       "'Can Steal Data: ACCESS_MOCK_LOCATION'                                                 0\n",
       "'Can Steal Data: ACCESS_WIFI_STATE'                                                    0\n",
       "'Can Steal Data: CAMERA'                                                               0\n",
       "'Can Steal Data: CAPTURE_AUDIO_OUTPUT'                                                 0\n",
       "'Can Steal Data: CAPTURE_SECURE_VIDEO_OUTPUT'                                          0\n",
       "'Can Steal Data: CAPTURE_VIDEO_OUTPUT'                                                 0\n",
       "'Can Steal Data: DIAGNOSTIC'                                                           0\n",
       "'Can Steal Data: DUMP'                                                                 0\n",
       "'Can Steal Data: GET_ACCOUNTS'                                                         0\n",
       "'Can Steal Data: GET_TASKS'                                                            0\n",
       "'Can Steal Data: LOCATION_HARDWARE'                                                    0\n",
       "'Can Steal Data: READ_CALENDAR'                                                        0\n",
       "'Can Steal Data: READ_CALL_LOG'                                                        0\n",
       "'Can Steal Data: READ_CONTACTS'                                                        0\n",
       "'Can Steal Data: READ_EXTERNAL_STORAGE'                                                0\n",
       "'Can Steal Data: READ_HISTORY_BOOKMARKS'                                               0\n",
       "'Can Steal Data: READ_PHONE_STATE'                                                     0\n",
       "'Can Steal Data: READ_PROFILE'                                                         0\n",
       "'Can Steal Data: READ_SMS'                                                             0\n",
       "'Can Steal Data: READ_SOCIAL_STREAM'                                                   0\n",
       "'Can Steal Data: READ_SYNC_SETTINGS'                                                   0\n",
       "'Can Steal Data: RECEIVE_MMS'                                                          0\n",
       "'Can Steal Data: RECEIVE_SMS'                                                          0\n",
       "'Can Steal Data: RECORD_AUDIO'                                                         0\n",
       "'Content: content://com.android.calendar'                                              0\n",
       "'Content: content://calendar'                                                          0\n",
       "'Content: content://mms'                                                               0\n",
       "'Content: content://sms'                                                               0\n",
       "'Content: content://com.facebook.katana.provider.AttributionIdProvider'                0\n",
       "'Content: content://telephony/carriers/preferapn'                                      0\n",
       "'Content: content://media'                                                             0\n",
       "'Airpush Included'                                                                     0\n",
       "'C2M Permission: c2dm.permission.RECEIVE'                                              0\n",
       "'C2M Permission: C2D_MESSAGE'                                                          0\n",
       "'C2M Permission: c2dm.permission.SEND'                                                 0\n",
       "'C2M Intent: c2dm.intent.RECEIVE'                                                      0\n",
       "'C2M Intent: c2dm.intent.REGISTRATION'                                                 0\n",
       "'C2M Intent: c2dm.intent.REGISTER'                                                     0\n",
       "'Notification Api Call: Landroid/support/v4/app/NotificationCompat.Builder;->build'    0\n",
       "'Notification Api Call: Landroid/app/Notification;-><init>'                            0\n",
       "'Notification Api Call: Landroid/app/NotificationManager;->notify'                     0\n",
       "'Notification Api Call: Landroid/app/Notification$Builder;-><init>'                    0\n",
       "'Notification Api Call: Landroid/app/Notification$Builder;->setLargeIcon'              0\n",
       "'Notification Api Call: Landroid/app/Notification$Builder;->setSound'                  0\n",
       "'Classes with Ad prefix'                                                               0\n",
       "'Contains Hardcoded URLs'                                                              0\n",
       "'URLs Domains differ from Package'                                                     0\n",
       "'Contains URL known to be suspicious'                                                  0\n",
       "'Single Package Name'                                                                  0\n",
       "'Valid Domain in Package Name'                                                         0\n",
       "'Package Name contains Tetragrams'                                                     0\n",
       "'Total number of packages'                                                             0\n",
       "'Total number of classes'                                                              0\n",
       "'Number of classes in main package'                                                    0\n",
       "'Average class size'                                                                   0\n",
       "'Obsfuscation present'                                                                 0\n",
       "'Is main package obfuscated?'                                                          0\n",
       "Language:                                                                              0\n",
       "'Size of apk'                                                                          0\n",
       "'Number of images'                                                                     0\n",
       "'Number of files'                                                                      0\n",
       "'Number of permissions'                                                                0\n",
       "'Number of activities'                                                                 0\n",
       "'Number of services'                                                                   0\n",
       "'Number of receivers'                                                                  0\n",
       "'Calls a System Routine: su'                                                           0\n",
       "'Calls a System Routine: ls'                                                           0\n",
       "'Calls a System Routine: loadjar'                                                      0\n",
       "'Calls a System Routine: grep'                                                         0\n",
       "'Calls a System Routine: /sh'                                                          0\n",
       "'Calls a System Routine: /bin'                                                         0\n",
       "'Calls a System Routine: pm install'                                                   0\n",
       "'Calls a System Routine: /dev/net'                                                     0\n",
       "'Calls a System Routine: insmod'                                                       0\n",
       "'Calls a System Routine: rm'                                                           0\n",
       "'Calls a System Routine: mount'                                                        0\n",
       "'Calls a System Routine: root'                                                         0\n",
       "'Calls a System Routine: /system'                                                      0\n",
       "'Calls a System Routine: stdout'                                                       0\n",
       "'Calls a System Routine: reboot'                                                       0\n",
       "'Calls a System Routine: killall'                                                      0\n",
       "'Calls a System Routine: chmod'                                                        0\n",
       "'Calls a System Routine: stderr'                                                       0\n",
       "'Calls a System Routine: ratc'                                                         0\n",
       "'Harmless Permission: ACCESS_SURFACE_FLINGER'                                          0\n",
       "'Harmless Permission: ACCOUNT_MANAGER'                                                 0\n",
       "'Harmless Permission: ADD_VOICEMAIL'                                                   0\n",
       "'Harmless Permission: CONTROL_LOCATION_UPDATES'                                        0\n",
       "'Harmless Permission: DEVICE_POWER'                                                    0\n",
       "'Harmless Permission: EXPAND_STATUS_BAR'                                               0\n",
       "'Harmless Permission: FLASHLIGHT'                                                      0\n",
       "'Harmless Permission: FORCE_BACK'                                                      0\n",
       "'Harmless Permission: GET_PACKAGE_SIZE'                                                0\n",
       "'Harmless Permission: GET_TOP_ACTIVITY_INFO'                                           0\n",
       "'Harmless Permission: GLOBAL_SEARCH'                                                   0\n",
       "'Harmless Permission: INSTALL_SHORTCUT'                                                0\n",
       "'Harmless Permission: MANAGE_DOCUMENTS'                                                0\n",
       "'Harmless Permission: MEDIA_CONTENT_CONTROL'                                           0\n",
       "'Harmless Permission: MODIFY_AUDIO_SETTINGS'                                           0\n",
       "'Harmless Permission: READ_USER_DICTIONARY'                                            0\n",
       "'Harmless Permission: REORDER_TASKS'                                                   0\n",
       "'Harmless Permission: SEND_RESPOND_VIA_MESSAGE'                                        0\n",
       "'Harmless Permission: SET_ALARM'                                                       0\n",
       "'Harmless Permission: SET_ANIMATION_SCALE'                                             0\n",
       "'Harmless Permission: SET_ORIENTATION'                                                 0\n",
       "'Harmless Permission: SET_POINTER_SPEED'                                               0\n",
       "'Harmless Permission: SET_TIME'                                                        0\n",
       "'Harmless Permission: SET_TIME_ZONE'                                                   0\n",
       "'Harmless Permission: SET_WALLPAPER'                                                   0\n",
       "'Harmless Permission: UNINSTALL_SHORTCUT'                                              0\n",
       "'Harmless Permission: VIBRATE'                                                         0\n",
       "'Harmless Permission: WAKE_LOCK'                                                       0\n",
       "'Harmless Permission: WRITE_CALENDAR'                                                  0\n",
       "'Harmless Permission: WRITE_CALL_LOG'                                                  0\n",
       "'Harmless Permission: WRITE_CONTACTS'                                                  0\n",
       "'Harmless Permission: WRITE_USER_DICTIONARY'                                           0\n",
       "'Suspicious Intent Filter: AIRPLANE_MODE_CHANGED'                                      0\n",
       "'Suspicious Intent Filter: BOOT_COMPLETED'                                             0\n",
       "'Suspicious Intent Filter: CONFIGURATION_CHANGED'                                      0\n",
       "'Suspicious Intent Filter: BATTERY_CHANGED'                                            0\n",
       "'Suspicious Intent Filter: DEVICE_STORAGE_LOW'                                         0\n",
       "'Suspicious Intent Filter: DOCK_EVENT'                                                 0\n",
       "'Suspicious Intent Filter: EXTERNAL_APPLICATIONS_AVAILABLE'                            0\n",
       "'Suspicious Intent Filter: MANAGE_PACKAGE_STORAGE'                                     0\n",
       "'Suspicious Intent Filter: MEDIA_MOUNTED'                                              0\n",
       "'Suspicious Intent Filter: MY_PACKAGE_REPLACED'                                        0\n",
       "'Suspicious Intent Filter: NEW_OUTGOING_CALL'                                          0\n",
       "'Suspicious Intent Filter: PACKAGE_ADDED'                                              0\n",
       "'Suspicious Intent Filter: PACKAGE_CHANGED'                                            0\n",
       "'Suspicious Intent Filter: PACKAGE_DATA_CLEARED'                                       0\n",
       "'Suspicious Intent Filter: PACKAGE_FIRST_LAUNCH'                                       0\n",
       "'Suspicious Intent Filter: PACKAGE_INSTALL'                                            0\n",
       "'Suspicious Intent Filter: PACKAGE_REMOVED'                                            0\n",
       "'Suspicious Intent Filter: PACKAGE_REPLACED'                                           0\n",
       "'Suspicious Intent Filter: PACKAGE_RESTARTED'                                          0\n",
       "'Suspicious Intent Filter: POWER_CONNECTED'                                            0\n",
       "'Suspicious Intent Filter: PROVIDER_CHANGED'                                           0\n",
       "'Suspicious Intent Filter: REBOOT'                                                     0\n",
       "'Suspicious Intent Filter: SHUTDOWN'                                                   0\n",
       "'Suspicious Intent Filter: USER_PRESENT'                                               0\n",
       "'Hidden Apk'                                                                           0\n",
       "'Sends SMS to Suspicious Number(s)'                                                    0\n",
       "'Package Domain Exists'                                                                0\n",
       "'Reads phone data at startup'                                                          0\n",
       "'Sends SMS at startup'                                                                 0\n",
       "'Starts service at startup'                                                            0\n",
       "'Sends SMS when receiving SMS'                                                         0\n",
       "'Sends data to a remote page when receiving SMS'                                       0\n",
       "'Accesses a database when receiving SMS'                                               0\n",
       "'Detection Ratio'                                                                      0\n",
       "dtype: int64"
      ]
     },
     "execution_count": 7,
     "metadata": {},
     "output_type": "execute_result"
    }
   ],
   "source": [
    "andro.isnull().sum()"
   ]
  },
  {
   "cell_type": "code",
   "execution_count": null,
   "metadata": {
    "cell_id": "00017-049ac27b-83b4-488a-b92a-84d42bf358de",
    "deepnote_cell_type": "code",
    "deepnote_to_be_reexecuted": false,
    "execution_millis": 1,
    "execution_start": 1631226017268,
    "source_hash": "d309218f",
    "tags": []
   },
   "outputs": [],
   "source": [
    "ad = list(andro)"
   ]
  },
  {
   "cell_type": "code",
   "execution_count": null,
   "metadata": {
    "cell_id": "00018-7d003e68-8fbd-4f11-8b99-540f1d493119",
    "deepnote_cell_type": "code",
    "deepnote_to_be_reexecuted": false,
    "execution_millis": 0,
    "execution_start": 1631226017269,
    "source_hash": "8e1dc84b",
    "tags": []
   },
   "outputs": [],
   "source": [
    "extract = []\n",
    "c = 0\n",
    "for i in ad:\n",
    "    if \"Permission\" in i:\n",
    "            extract.append(i)\n",
    "extract.append(\"'Detection Ratio'\")"
   ]
  },
  {
   "cell_type": "code",
   "execution_count": null,
   "metadata": {
    "cell_id": "00019-e6720425-54a8-44fd-9f79-78ff1bc4967f",
    "deepnote_cell_type": "code",
    "deepnote_to_be_reexecuted": false,
    "execution_millis": 85,
    "execution_start": 1631226017270,
    "source_hash": "59e2e02a",
    "tags": []
   },
   "outputs": [],
   "source": [
    "andro = andro[extract]"
   ]
  },
  {
   "cell_type": "code",
   "execution_count": null,
   "metadata": {
    "cell_id": "00020-d4c44915-b100-4044-9eb1-836468c35d9e",
    "deepnote_cell_type": "code",
    "deepnote_to_be_reexecuted": false,
    "execution_millis": 45,
    "execution_start": 1631226017400,
    "source_hash": "c668608b",
    "tags": []
   },
   "outputs": [],
   "source": [
    "andro[\"'Detection Ratio'\"] = andro[\"'Detection Ratio'\"].replace(\"Malicious\",1)\n",
    "andro[\"'Detection Ratio'\"] = andro[\"'Detection Ratio'\"].replace(\"Benign\",0)"
   ]
  },
  {
   "cell_type": "code",
   "execution_count": null,
   "metadata": {
    "cell_id": "00021-c6cbd445-be1c-4af2-b959-f71b8f7dacbe",
    "deepnote_cell_type": "code",
    "deepnote_to_be_reexecuted": false,
    "execution_millis": 4,
    "execution_start": 1631226017445,
    "source_hash": "1635a582",
    "tags": []
   },
   "outputs": [
    {
     "data": {
      "text/plain": [
       "0    139670\n",
       "1     23313\n",
       "Name: 'Detection Ratio', dtype: int64"
      ]
     },
     "execution_count": 12,
     "metadata": {},
     "output_type": "execute_result"
    }
   ],
   "source": [
    "andro[\"'Detection Ratio'\"].value_counts()"
   ]
  },
  {
   "cell_type": "code",
   "execution_count": null,
   "metadata": {
    "cell_id": "00022-f6a8bbf1-9bbf-43b1-bb36-32fe1bf0ac7b",
    "deepnote_cell_type": "code",
    "deepnote_to_be_reexecuted": false,
    "execution_millis": 9,
    "execution_start": 1631226017488,
    "source_hash": "155054a4",
    "tags": []
   },
   "outputs": [],
   "source": [
    "andro = shuffle(andro)\n",
    "andro = andro.reset_index()\n",
    "andro.drop(columns=[\"index\"], inplace=True)"
   ]
  },
  {
   "cell_type": "code",
   "execution_count": null,
   "metadata": {
    "cell_id": "00023-afe3df99-4c94-4b6d-b0b7-3e034fccf362",
    "deepnote_cell_type": "code",
    "deepnote_to_be_reexecuted": false,
    "execution_millis": 1,
    "execution_start": 1631226017544,
    "source_hash": "73dc8ba8",
    "tags": []
   },
   "outputs": [],
   "source": [
    "andro.rename(columns={\"'Detection Ratio'\" : \"class\"}, inplace=True)"
   ]
  },
  {
   "cell_type": "code",
   "execution_count": null,
   "metadata": {
    "cell_id": "00024-fda18a24-e6fa-4754-820b-e77580377414",
    "deepnote_cell_type": "code",
    "deepnote_to_be_reexecuted": false,
    "execution_millis": 0,
    "execution_start": 1631226017545,
    "source_hash": "b740671f",
    "tags": []
   },
   "outputs": [],
   "source": [
    "andro.drop(columns = [\"'C2M Permission: c2dm.permission.RECEIVE'\",\"'C2M Permission: C2D_MESSAGE'\",\"'C2M Permission: c2dm.permission.SEND'\"], inplace=True)"
   ]
  },
  {
   "cell_type": "code",
   "execution_count": null,
   "metadata": {
    "cell_id": "00025-71c3db9e-e4b2-4a2b-b41f-be327a42812a",
    "deepnote_cell_type": "code",
    "deepnote_to_be_reexecuted": false,
    "execution_millis": 190,
    "execution_start": 1631226017588,
    "source_hash": "709fee3a",
    "tags": []
   },
   "outputs": [
    {
     "data": {
      "application/vnd.deepnote.dataframe.v2+json": {
       "column_count": 59,
       "columns": [
        {
         "dtype": "bool",
         "name": "'Dangerous Permission: ACCESS_SUPERUSER'",
         "stats": {
          "categories": [
           {
            "count": 5,
            "name": "False"
           }
          ],
          "nan_count": 0,
          "unique_count": 1
         }
        },
        {
         "dtype": "bool",
         "name": "'Dangerous Permission: BLUETOOTH_PRIVILEGED'",
         "stats": {
          "categories": [
           {
            "count": 5,
            "name": "False"
           }
          ],
          "nan_count": 0,
          "unique_count": 1
         }
        },
        {
         "dtype": "bool",
         "name": "'Dangerous Permission: BRICK'",
         "stats": {
          "categories": [
           {
            "count": 5,
            "name": "False"
           }
          ],
          "nan_count": 0,
          "unique_count": 1
         }
        },
        {
         "dtype": "bool",
         "name": "'Dangerous Permission: CHANGE_COMPONENT_ENABLED_STATE'",
         "stats": {
          "categories": [
           {
            "count": 5,
            "name": "False"
           }
          ],
          "nan_count": 0,
          "unique_count": 1
         }
        },
        {
         "dtype": "bool",
         "name": "'Dangerous Permission: CLEAR_APP_USER_DATA'",
         "stats": {
          "categories": [
           {
            "count": 5,
            "name": "False"
           }
          ],
          "nan_count": 0,
          "unique_count": 1
         }
        },
        {
         "dtype": "bool",
         "name": "'Dangerous Permission: DELETE_CACHE_FILES'",
         "stats": {
          "categories": [
           {
            "count": 5,
            "name": "False"
           }
          ],
          "nan_count": 0,
          "unique_count": 1
         }
        },
        {
         "dtype": "bool",
         "name": "'Dangerous Permission: DELETE_PACKAGES'",
         "stats": {
          "categories": [
           {
            "count": 5,
            "name": "False"
           }
          ],
          "nan_count": 0,
          "unique_count": 1
         }
        },
        {
         "dtype": "bool",
         "name": "'Dangerous Permission: DISABLE_KEYGUARD'",
         "stats": {
          "categories": [
           {
            "count": 5,
            "name": "False"
           }
          ],
          "nan_count": 0,
          "unique_count": 1
         }
        },
        {
         "dtype": "bool",
         "name": "'Dangerous Permission: FACTORY_TEST'",
         "stats": {
          "categories": [
           {
            "count": 5,
            "name": "False"
           }
          ],
          "nan_count": 0,
          "unique_count": 1
         }
        },
        {
         "dtype": "bool",
         "name": "'Dangerous Permission: INSTALL_PACKAGES'",
         "stats": {
          "categories": [
           {
            "count": 5,
            "name": "False"
           }
          ],
          "nan_count": 0,
          "unique_count": 1
         }
        },
        {
         "dtype": "bool",
         "name": "'Dangerous Permission: INJECT_EVENTS'",
         "stats": {
          "categories": [
           {
            "count": 5,
            "name": "False"
           }
          ],
          "nan_count": 0,
          "unique_count": 1
         }
        },
        {
         "dtype": "bool",
         "name": "'Dangerous Permission: INTERNAL_SYSTEM_WINDOW'",
         "stats": {
          "categories": [
           {
            "count": 5,
            "name": "False"
           }
          ],
          "nan_count": 0,
          "unique_count": 1
         }
        },
        {
         "dtype": "bool",
         "name": "'Dangerous Permission: KILL_BACKGROUND_PROCESSES'",
         "stats": {
          "categories": [
           {
            "count": 5,
            "name": "False"
           }
          ],
          "nan_count": 0,
          "unique_count": 1
         }
        },
        {
         "dtype": "bool",
         "name": "'Dangerous Permission: MASTER_CLEAR'",
         "stats": {
          "categories": [
           {
            "count": 5,
            "name": "False"
           }
          ],
          "nan_count": 0,
          "unique_count": 1
         }
        },
        {
         "dtype": "bool",
         "name": "'Dangerous Permission: MODIFY_PHONE_STATE'",
         "stats": {
          "categories": [
           {
            "count": 5,
            "name": "False"
           }
          ],
          "nan_count": 0,
          "unique_count": 1
         }
        },
        {
         "dtype": "bool",
         "name": "'Dangerous Permission: MOUNT_FORMAT_FILESYSTEM'",
         "stats": {
          "categories": [
           {
            "count": 5,
            "name": "False"
           }
          ],
          "nan_count": 0,
          "unique_count": 1
         }
        },
        {
         "dtype": "bool",
         "name": "'Dangerous Permission: MOUNT_UNMOUNT_FILESYSTEM'",
         "stats": {
          "categories": [
           {
            "count": 5,
            "name": "False"
           }
          ],
          "nan_count": 0,
          "unique_count": 1
         }
        },
        {
         "dtype": "bool",
         "name": "'Dangerous Permission: PROCESS_OUTGOING_CALLS'",
         "stats": {
          "categories": [
           {
            "count": 5,
            "name": "False"
           }
          ],
          "nan_count": 0,
          "unique_count": 1
         }
        },
        {
         "dtype": "bool",
         "name": "'Dangerous Permission: READ_LOGS'",
         "stats": {
          "categories": [
           {
            "count": 5,
            "name": "False"
           }
          ],
          "nan_count": 0,
          "unique_count": 1
         }
        },
        {
         "dtype": "bool",
         "name": "'Dangerous Permission: REBOOT'",
         "stats": {
          "categories": [
           {
            "count": 5,
            "name": "False"
           }
          ],
          "nan_count": 0,
          "unique_count": 1
         }
        },
        {
         "dtype": "bool",
         "name": "'Dangerous Permission: RECEIVE_BOOT_COMPLETED'",
         "stats": {
          "categories": [
           {
            "count": 4,
            "name": "False"
           },
           {
            "count": 1,
            "name": "True"
           }
          ],
          "nan_count": 0,
          "unique_count": 2
         }
        },
        {
         "dtype": "bool",
         "name": "'Dangerous Permission: STATUS_BAR'",
         "stats": {
          "categories": [
           {
            "count": 5,
            "name": "False"
           }
          ],
          "nan_count": 0,
          "unique_count": 1
         }
        },
        {
         "dtype": "bool",
         "name": "'Dangerous Permission: WRITE_EXTERNAL_STORAGE'",
         "stats": {
          "categories": [
           {
            "count": 4,
            "name": "False"
           },
           {
            "count": 1,
            "name": "True"
           }
          ],
          "nan_count": 0,
          "unique_count": 2
         }
        },
        {
         "dtype": "bool",
         "name": "'Dangerous Permission: WRITE_HISTORY_BOOKMARKS'",
         "stats": {
          "categories": [
           {
            "count": 5,
            "name": "False"
           }
          ],
          "nan_count": 0,
          "unique_count": 1
         }
        },
        {
         "dtype": "bool",
         "name": "'Dangerous Permission: WRITE_PROFILE'",
         "stats": {
          "categories": [
           {
            "count": 5,
            "name": "False"
           }
          ],
          "nan_count": 0,
          "unique_count": 1
         }
        },
        {
         "dtype": "bool",
         "name": "'Dangerous Permission: WRITE_SECURE_SETTINGS'",
         "stats": {
          "categories": [
           {
            "count": 5,
            "name": "False"
           }
          ],
          "nan_count": 0,
          "unique_count": 1
         }
        },
        {
         "dtype": "bool",
         "name": "'Harmless Permission: ACCESS_SURFACE_FLINGER'",
         "stats": {
          "categories": [
           {
            "count": 5,
            "name": "False"
           }
          ],
          "nan_count": 0,
          "unique_count": 1
         }
        },
        {
         "dtype": "bool",
         "name": "'Harmless Permission: ACCOUNT_MANAGER'",
         "stats": {
          "categories": [
           {
            "count": 5,
            "name": "False"
           }
          ],
          "nan_count": 0,
          "unique_count": 1
         }
        },
        {
         "dtype": "bool",
         "name": "'Harmless Permission: ADD_VOICEMAIL'",
         "stats": {
          "categories": [
           {
            "count": 5,
            "name": "False"
           }
          ],
          "nan_count": 0,
          "unique_count": 1
         }
        },
        {
         "dtype": "bool",
         "name": "'Harmless Permission: CONTROL_LOCATION_UPDATES'",
         "stats": {
          "categories": [
           {
            "count": 5,
            "name": "False"
           }
          ],
          "nan_count": 0,
          "unique_count": 1
         }
        },
        {
         "dtype": "bool",
         "name": "'Harmless Permission: DEVICE_POWER'",
         "stats": {
          "categories": [
           {
            "count": 5,
            "name": "False"
           }
          ],
          "nan_count": 0,
          "unique_count": 1
         }
        },
        {
         "dtype": "bool",
         "name": "'Harmless Permission: EXPAND_STATUS_BAR'",
         "stats": {
          "categories": [
           {
            "count": 5,
            "name": "False"
           }
          ],
          "nan_count": 0,
          "unique_count": 1
         }
        },
        {
         "dtype": "bool",
         "name": "'Harmless Permission: FLASHLIGHT'",
         "stats": {
          "categories": [
           {
            "count": 5,
            "name": "False"
           }
          ],
          "nan_count": 0,
          "unique_count": 1
         }
        },
        {
         "dtype": "bool",
         "name": "'Harmless Permission: FORCE_BACK'",
         "stats": {
          "categories": [
           {
            "count": 5,
            "name": "False"
           }
          ],
          "nan_count": 0,
          "unique_count": 1
         }
        },
        {
         "dtype": "bool",
         "name": "'Harmless Permission: GET_PACKAGE_SIZE'",
         "stats": {
          "categories": [
           {
            "count": 5,
            "name": "False"
           }
          ],
          "nan_count": 0,
          "unique_count": 1
         }
        },
        {
         "dtype": "bool",
         "name": "'Harmless Permission: GET_TOP_ACTIVITY_INFO'",
         "stats": {
          "categories": [
           {
            "count": 5,
            "name": "False"
           }
          ],
          "nan_count": 0,
          "unique_count": 1
         }
        },
        {
         "dtype": "bool",
         "name": "'Harmless Permission: GLOBAL_SEARCH'",
         "stats": {
          "categories": [
           {
            "count": 5,
            "name": "False"
           }
          ],
          "nan_count": 0,
          "unique_count": 1
         }
        },
        {
         "dtype": "bool",
         "name": "'Harmless Permission: INSTALL_SHORTCUT'",
         "stats": {
          "categories": [
           {
            "count": 4,
            "name": "False"
           },
           {
            "count": 1,
            "name": "True"
           }
          ],
          "nan_count": 0,
          "unique_count": 2
         }
        },
        {
         "dtype": "bool",
         "name": "'Harmless Permission: MANAGE_DOCUMENTS'",
         "stats": {
          "categories": [
           {
            "count": 5,
            "name": "False"
           }
          ],
          "nan_count": 0,
          "unique_count": 1
         }
        },
        {
         "dtype": "bool",
         "name": "'Harmless Permission: MEDIA_CONTENT_CONTROL'",
         "stats": {
          "categories": [
           {
            "count": 5,
            "name": "False"
           }
          ],
          "nan_count": 0,
          "unique_count": 1
         }
        },
        {
         "dtype": "bool",
         "name": "'Harmless Permission: MODIFY_AUDIO_SETTINGS'",
         "stats": {
          "categories": [
           {
            "count": 5,
            "name": "False"
           }
          ],
          "nan_count": 0,
          "unique_count": 1
         }
        },
        {
         "dtype": "bool",
         "name": "'Harmless Permission: READ_USER_DICTIONARY'",
         "stats": {
          "categories": [
           {
            "count": 5,
            "name": "False"
           }
          ],
          "nan_count": 0,
          "unique_count": 1
         }
        },
        {
         "dtype": "bool",
         "name": "'Harmless Permission: REORDER_TASKS'",
         "stats": {
          "categories": [
           {
            "count": 5,
            "name": "False"
           }
          ],
          "nan_count": 0,
          "unique_count": 1
         }
        },
        {
         "dtype": "bool",
         "name": "'Harmless Permission: SEND_RESPOND_VIA_MESSAGE'",
         "stats": {
          "categories": [
           {
            "count": 5,
            "name": "False"
           }
          ],
          "nan_count": 0,
          "unique_count": 1
         }
        },
        {
         "dtype": "bool",
         "name": "'Harmless Permission: SET_ALARM'",
         "stats": {
          "categories": [
           {
            "count": 5,
            "name": "False"
           }
          ],
          "nan_count": 0,
          "unique_count": 1
         }
        },
        {
         "dtype": "bool",
         "name": "'Harmless Permission: SET_ANIMATION_SCALE'",
         "stats": {
          "categories": [
           {
            "count": 5,
            "name": "False"
           }
          ],
          "nan_count": 0,
          "unique_count": 1
         }
        },
        {
         "dtype": "bool",
         "name": "'Harmless Permission: SET_ORIENTATION'",
         "stats": {
          "categories": [
           {
            "count": 5,
            "name": "False"
           }
          ],
          "nan_count": 0,
          "unique_count": 1
         }
        },
        {
         "dtype": "bool",
         "name": "'Harmless Permission: SET_POINTER_SPEED'",
         "stats": {
          "categories": [
           {
            "count": 5,
            "name": "False"
           }
          ],
          "nan_count": 0,
          "unique_count": 1
         }
        },
        {
         "dtype": "bool",
         "name": "'Harmless Permission: SET_TIME'",
         "stats": {
          "categories": [
           {
            "count": 5,
            "name": "False"
           }
          ],
          "nan_count": 0,
          "unique_count": 1
         }
        },
        {
         "dtype": "bool",
         "name": "'Harmless Permission: SET_TIME_ZONE'",
         "stats": {
          "categories": [
           {
            "count": 5,
            "name": "False"
           }
          ],
          "nan_count": 0,
          "unique_count": 1
         }
        },
        {
         "dtype": "bool",
         "name": "'Harmless Permission: SET_WALLPAPER'",
         "stats": {
          "categories": [
           {
            "count": 5,
            "name": "False"
           }
          ],
          "nan_count": 0,
          "unique_count": 1
         }
        },
        {
         "dtype": "bool",
         "name": "'Harmless Permission: UNINSTALL_SHORTCUT'",
         "stats": {
          "categories": [
           {
            "count": 5,
            "name": "False"
           }
          ],
          "nan_count": 0,
          "unique_count": 1
         }
        },
        {
         "dtype": "bool",
         "name": "'Harmless Permission: VIBRATE'",
         "stats": {
          "categories": [
           {
            "count": 3,
            "name": "False"
           },
           {
            "count": 2,
            "name": "True"
           }
          ],
          "nan_count": 0,
          "unique_count": 2
         }
        },
        {
         "dtype": "bool",
         "name": "'Harmless Permission: WAKE_LOCK'",
         "stats": {
          "categories": [
           {
            "count": 3,
            "name": "False"
           },
           {
            "count": 2,
            "name": "True"
           }
          ],
          "nan_count": 0,
          "unique_count": 2
         }
        },
        {
         "dtype": "bool",
         "name": "'Harmless Permission: WRITE_CALENDAR'",
         "stats": {
          "categories": [
           {
            "count": 5,
            "name": "False"
           }
          ],
          "nan_count": 0,
          "unique_count": 1
         }
        },
        {
         "dtype": "bool",
         "name": "'Harmless Permission: WRITE_CALL_LOG'",
         "stats": {
          "categories": [
           {
            "count": 5,
            "name": "False"
           }
          ],
          "nan_count": 0,
          "unique_count": 1
         }
        },
        {
         "dtype": "bool",
         "name": "'Harmless Permission: WRITE_CONTACTS'",
         "stats": {
          "categories": [
           {
            "count": 5,
            "name": "False"
           }
          ],
          "nan_count": 0,
          "unique_count": 1
         }
        },
        {
         "dtype": "bool",
         "name": "'Harmless Permission: WRITE_USER_DICTIONARY'",
         "stats": {
          "categories": [
           {
            "count": 5,
            "name": "False"
           }
          ],
          "nan_count": 0,
          "unique_count": 1
         }
        },
        {
         "dtype": "int64",
         "name": "class",
         "stats": {
          "histogram": [
           {
            "bin_end": -0.4,
            "bin_start": -0.5,
            "count": 0
           },
           {
            "bin_end": -0.3,
            "bin_start": -0.4,
            "count": 0
           },
           {
            "bin_end": -0.19999999999999996,
            "bin_start": -0.3,
            "count": 0
           },
           {
            "bin_end": -0.09999999999999998,
            "bin_start": -0.19999999999999996,
            "count": 0
           },
           {
            "bin_end": 0,
            "bin_start": -0.09999999999999998,
            "count": 0
           },
           {
            "bin_end": 0.10000000000000009,
            "bin_start": 0,
            "count": 5
           },
           {
            "bin_end": 0.20000000000000007,
            "bin_start": 0.10000000000000009,
            "count": 0
           },
           {
            "bin_end": 0.30000000000000004,
            "bin_start": 0.20000000000000007,
            "count": 0
           },
           {
            "bin_end": 0.4,
            "bin_start": 0.30000000000000004,
            "count": 0
           },
           {
            "bin_end": 0.5,
            "bin_start": 0.4,
            "count": 0
           }
          ],
          "max": "0",
          "min": "0",
          "nan_count": 0,
          "unique_count": 1
         }
        },
        {
         "dtype": "int64",
         "name": "_deepnote_index_column"
        }
       ],
       "row_count": 5,
       "rows_bottom": null,
       "rows_top": [
        {
         "'Dangerous Permission: ACCESS_SUPERUSER'": "False",
         "'Dangerous Permission: BLUETOOTH_PRIVILEGED'": "False",
         "'Dangerous Permission: BRICK'": "False",
         "'Dangerous Permission: CHANGE_COMPONENT_ENABLED_STATE'": "False",
         "'Dangerous Permission: CLEAR_APP_USER_DATA'": "False",
         "'Dangerous Permission: DELETE_CACHE_FILES'": "False",
         "'Dangerous Permission: DELETE_PACKAGES'": "False",
         "'Dangerous Permission: DISABLE_KEYGUARD'": "False",
         "'Dangerous Permission: FACTORY_TEST'": "False",
         "'Dangerous Permission: INJECT_EVENTS'": "False",
         "'Dangerous Permission: INSTALL_PACKAGES'": "False",
         "'Dangerous Permission: INTERNAL_SYSTEM_WINDOW'": "False",
         "'Dangerous Permission: KILL_BACKGROUND_PROCESSES'": "False",
         "'Dangerous Permission: MASTER_CLEAR'": "False",
         "'Dangerous Permission: MODIFY_PHONE_STATE'": "False",
         "'Dangerous Permission: MOUNT_FORMAT_FILESYSTEM'": "False",
         "'Dangerous Permission: MOUNT_UNMOUNT_FILESYSTEM'": "False",
         "'Dangerous Permission: PROCESS_OUTGOING_CALLS'": "False",
         "'Dangerous Permission: READ_LOGS'": "False",
         "'Dangerous Permission: REBOOT'": "False",
         "'Dangerous Permission: RECEIVE_BOOT_COMPLETED'": "False",
         "'Dangerous Permission: STATUS_BAR'": "False",
         "'Dangerous Permission: WRITE_EXTERNAL_STORAGE'": "False",
         "'Dangerous Permission: WRITE_HISTORY_BOOKMARKS'": "False",
         "'Dangerous Permission: WRITE_PROFILE'": "False",
         "'Dangerous Permission: WRITE_SECURE_SETTINGS'": "False",
         "'Harmless Permission: ACCESS_SURFACE_FLINGER'": "False",
         "'Harmless Permission: ACCOUNT_MANAGER'": "False",
         "'Harmless Permission: ADD_VOICEMAIL'": "False",
         "'Harmless Permission: CONTROL_LOCATION_UPDATES'": "False",
         "'Harmless Permission: DEVICE_POWER'": "False",
         "'Harmless Permission: EXPAND_STATUS_BAR'": "False",
         "'Harmless Permission: FLASHLIGHT'": "False",
         "'Harmless Permission: FORCE_BACK'": "False",
         "'Harmless Permission: GET_PACKAGE_SIZE'": "False",
         "'Harmless Permission: GET_TOP_ACTIVITY_INFO'": "False",
         "'Harmless Permission: GLOBAL_SEARCH'": "False",
         "'Harmless Permission: INSTALL_SHORTCUT'": "False",
         "'Harmless Permission: MANAGE_DOCUMENTS'": "False",
         "'Harmless Permission: MEDIA_CONTENT_CONTROL'": "False",
         "'Harmless Permission: MODIFY_AUDIO_SETTINGS'": "False",
         "'Harmless Permission: READ_USER_DICTIONARY'": "False",
         "'Harmless Permission: REORDER_TASKS'": "False",
         "'Harmless Permission: SEND_RESPOND_VIA_MESSAGE'": "False",
         "'Harmless Permission: SET_ALARM'": "False",
         "'Harmless Permission: SET_ANIMATION_SCALE'": "False",
         "'Harmless Permission: SET_ORIENTATION'": "False",
         "'Harmless Permission: SET_POINTER_SPEED'": "False",
         "'Harmless Permission: SET_TIME'": "False",
         "'Harmless Permission: SET_TIME_ZONE'": "False",
         "'Harmless Permission: SET_WALLPAPER'": "False",
         "'Harmless Permission: UNINSTALL_SHORTCUT'": "False",
         "'Harmless Permission: VIBRATE'": "False",
         "'Harmless Permission: WAKE_LOCK'": "False",
         "'Harmless Permission: WRITE_CALENDAR'": "False",
         "'Harmless Permission: WRITE_CALL_LOG'": "False",
         "'Harmless Permission: WRITE_CONTACTS'": "False",
         "'Harmless Permission: WRITE_USER_DICTIONARY'": "False",
         "_deepnote_index_column": 0,
         "class": 0
        },
        {
         "'Dangerous Permission: ACCESS_SUPERUSER'": "False",
         "'Dangerous Permission: BLUETOOTH_PRIVILEGED'": "False",
         "'Dangerous Permission: BRICK'": "False",
         "'Dangerous Permission: CHANGE_COMPONENT_ENABLED_STATE'": "False",
         "'Dangerous Permission: CLEAR_APP_USER_DATA'": "False",
         "'Dangerous Permission: DELETE_CACHE_FILES'": "False",
         "'Dangerous Permission: DELETE_PACKAGES'": "False",
         "'Dangerous Permission: DISABLE_KEYGUARD'": "False",
         "'Dangerous Permission: FACTORY_TEST'": "False",
         "'Dangerous Permission: INJECT_EVENTS'": "False",
         "'Dangerous Permission: INSTALL_PACKAGES'": "False",
         "'Dangerous Permission: INTERNAL_SYSTEM_WINDOW'": "False",
         "'Dangerous Permission: KILL_BACKGROUND_PROCESSES'": "False",
         "'Dangerous Permission: MASTER_CLEAR'": "False",
         "'Dangerous Permission: MODIFY_PHONE_STATE'": "False",
         "'Dangerous Permission: MOUNT_FORMAT_FILESYSTEM'": "False",
         "'Dangerous Permission: MOUNT_UNMOUNT_FILESYSTEM'": "False",
         "'Dangerous Permission: PROCESS_OUTGOING_CALLS'": "False",
         "'Dangerous Permission: READ_LOGS'": "False",
         "'Dangerous Permission: REBOOT'": "False",
         "'Dangerous Permission: RECEIVE_BOOT_COMPLETED'": "False",
         "'Dangerous Permission: STATUS_BAR'": "False",
         "'Dangerous Permission: WRITE_EXTERNAL_STORAGE'": "False",
         "'Dangerous Permission: WRITE_HISTORY_BOOKMARKS'": "False",
         "'Dangerous Permission: WRITE_PROFILE'": "False",
         "'Dangerous Permission: WRITE_SECURE_SETTINGS'": "False",
         "'Harmless Permission: ACCESS_SURFACE_FLINGER'": "False",
         "'Harmless Permission: ACCOUNT_MANAGER'": "False",
         "'Harmless Permission: ADD_VOICEMAIL'": "False",
         "'Harmless Permission: CONTROL_LOCATION_UPDATES'": "False",
         "'Harmless Permission: DEVICE_POWER'": "False",
         "'Harmless Permission: EXPAND_STATUS_BAR'": "False",
         "'Harmless Permission: FLASHLIGHT'": "False",
         "'Harmless Permission: FORCE_BACK'": "False",
         "'Harmless Permission: GET_PACKAGE_SIZE'": "False",
         "'Harmless Permission: GET_TOP_ACTIVITY_INFO'": "False",
         "'Harmless Permission: GLOBAL_SEARCH'": "False",
         "'Harmless Permission: INSTALL_SHORTCUT'": "False",
         "'Harmless Permission: MANAGE_DOCUMENTS'": "False",
         "'Harmless Permission: MEDIA_CONTENT_CONTROL'": "False",
         "'Harmless Permission: MODIFY_AUDIO_SETTINGS'": "False",
         "'Harmless Permission: READ_USER_DICTIONARY'": "False",
         "'Harmless Permission: REORDER_TASKS'": "False",
         "'Harmless Permission: SEND_RESPOND_VIA_MESSAGE'": "False",
         "'Harmless Permission: SET_ALARM'": "False",
         "'Harmless Permission: SET_ANIMATION_SCALE'": "False",
         "'Harmless Permission: SET_ORIENTATION'": "False",
         "'Harmless Permission: SET_POINTER_SPEED'": "False",
         "'Harmless Permission: SET_TIME'": "False",
         "'Harmless Permission: SET_TIME_ZONE'": "False",
         "'Harmless Permission: SET_WALLPAPER'": "False",
         "'Harmless Permission: UNINSTALL_SHORTCUT'": "False",
         "'Harmless Permission: VIBRATE'": "False",
         "'Harmless Permission: WAKE_LOCK'": "False",
         "'Harmless Permission: WRITE_CALENDAR'": "False",
         "'Harmless Permission: WRITE_CALL_LOG'": "False",
         "'Harmless Permission: WRITE_CONTACTS'": "False",
         "'Harmless Permission: WRITE_USER_DICTIONARY'": "False",
         "_deepnote_index_column": 1,
         "class": 0
        },
        {
         "'Dangerous Permission: ACCESS_SUPERUSER'": "False",
         "'Dangerous Permission: BLUETOOTH_PRIVILEGED'": "False",
         "'Dangerous Permission: BRICK'": "False",
         "'Dangerous Permission: CHANGE_COMPONENT_ENABLED_STATE'": "False",
         "'Dangerous Permission: CLEAR_APP_USER_DATA'": "False",
         "'Dangerous Permission: DELETE_CACHE_FILES'": "False",
         "'Dangerous Permission: DELETE_PACKAGES'": "False",
         "'Dangerous Permission: DISABLE_KEYGUARD'": "False",
         "'Dangerous Permission: FACTORY_TEST'": "False",
         "'Dangerous Permission: INJECT_EVENTS'": "False",
         "'Dangerous Permission: INSTALL_PACKAGES'": "False",
         "'Dangerous Permission: INTERNAL_SYSTEM_WINDOW'": "False",
         "'Dangerous Permission: KILL_BACKGROUND_PROCESSES'": "False",
         "'Dangerous Permission: MASTER_CLEAR'": "False",
         "'Dangerous Permission: MODIFY_PHONE_STATE'": "False",
         "'Dangerous Permission: MOUNT_FORMAT_FILESYSTEM'": "False",
         "'Dangerous Permission: MOUNT_UNMOUNT_FILESYSTEM'": "False",
         "'Dangerous Permission: PROCESS_OUTGOING_CALLS'": "False",
         "'Dangerous Permission: READ_LOGS'": "False",
         "'Dangerous Permission: REBOOT'": "False",
         "'Dangerous Permission: RECEIVE_BOOT_COMPLETED'": "False",
         "'Dangerous Permission: STATUS_BAR'": "False",
         "'Dangerous Permission: WRITE_EXTERNAL_STORAGE'": "False",
         "'Dangerous Permission: WRITE_HISTORY_BOOKMARKS'": "False",
         "'Dangerous Permission: WRITE_PROFILE'": "False",
         "'Dangerous Permission: WRITE_SECURE_SETTINGS'": "False",
         "'Harmless Permission: ACCESS_SURFACE_FLINGER'": "False",
         "'Harmless Permission: ACCOUNT_MANAGER'": "False",
         "'Harmless Permission: ADD_VOICEMAIL'": "False",
         "'Harmless Permission: CONTROL_LOCATION_UPDATES'": "False",
         "'Harmless Permission: DEVICE_POWER'": "False",
         "'Harmless Permission: EXPAND_STATUS_BAR'": "False",
         "'Harmless Permission: FLASHLIGHT'": "False",
         "'Harmless Permission: FORCE_BACK'": "False",
         "'Harmless Permission: GET_PACKAGE_SIZE'": "False",
         "'Harmless Permission: GET_TOP_ACTIVITY_INFO'": "False",
         "'Harmless Permission: GLOBAL_SEARCH'": "False",
         "'Harmless Permission: INSTALL_SHORTCUT'": "False",
         "'Harmless Permission: MANAGE_DOCUMENTS'": "False",
         "'Harmless Permission: MEDIA_CONTENT_CONTROL'": "False",
         "'Harmless Permission: MODIFY_AUDIO_SETTINGS'": "False",
         "'Harmless Permission: READ_USER_DICTIONARY'": "False",
         "'Harmless Permission: REORDER_TASKS'": "False",
         "'Harmless Permission: SEND_RESPOND_VIA_MESSAGE'": "False",
         "'Harmless Permission: SET_ALARM'": "False",
         "'Harmless Permission: SET_ANIMATION_SCALE'": "False",
         "'Harmless Permission: SET_ORIENTATION'": "False",
         "'Harmless Permission: SET_POINTER_SPEED'": "False",
         "'Harmless Permission: SET_TIME'": "False",
         "'Harmless Permission: SET_TIME_ZONE'": "False",
         "'Harmless Permission: SET_WALLPAPER'": "False",
         "'Harmless Permission: UNINSTALL_SHORTCUT'": "False",
         "'Harmless Permission: VIBRATE'": "False",
         "'Harmless Permission: WAKE_LOCK'": "False",
         "'Harmless Permission: WRITE_CALENDAR'": "False",
         "'Harmless Permission: WRITE_CALL_LOG'": "False",
         "'Harmless Permission: WRITE_CONTACTS'": "False",
         "'Harmless Permission: WRITE_USER_DICTIONARY'": "False",
         "_deepnote_index_column": 2,
         "class": 0
        },
        {
         "'Dangerous Permission: ACCESS_SUPERUSER'": "False",
         "'Dangerous Permission: BLUETOOTH_PRIVILEGED'": "False",
         "'Dangerous Permission: BRICK'": "False",
         "'Dangerous Permission: CHANGE_COMPONENT_ENABLED_STATE'": "False",
         "'Dangerous Permission: CLEAR_APP_USER_DATA'": "False",
         "'Dangerous Permission: DELETE_CACHE_FILES'": "False",
         "'Dangerous Permission: DELETE_PACKAGES'": "False",
         "'Dangerous Permission: DISABLE_KEYGUARD'": "False",
         "'Dangerous Permission: FACTORY_TEST'": "False",
         "'Dangerous Permission: INJECT_EVENTS'": "False",
         "'Dangerous Permission: INSTALL_PACKAGES'": "False",
         "'Dangerous Permission: INTERNAL_SYSTEM_WINDOW'": "False",
         "'Dangerous Permission: KILL_BACKGROUND_PROCESSES'": "False",
         "'Dangerous Permission: MASTER_CLEAR'": "False",
         "'Dangerous Permission: MODIFY_PHONE_STATE'": "False",
         "'Dangerous Permission: MOUNT_FORMAT_FILESYSTEM'": "False",
         "'Dangerous Permission: MOUNT_UNMOUNT_FILESYSTEM'": "False",
         "'Dangerous Permission: PROCESS_OUTGOING_CALLS'": "False",
         "'Dangerous Permission: READ_LOGS'": "False",
         "'Dangerous Permission: REBOOT'": "False",
         "'Dangerous Permission: RECEIVE_BOOT_COMPLETED'": "False",
         "'Dangerous Permission: STATUS_BAR'": "False",
         "'Dangerous Permission: WRITE_EXTERNAL_STORAGE'": "False",
         "'Dangerous Permission: WRITE_HISTORY_BOOKMARKS'": "False",
         "'Dangerous Permission: WRITE_PROFILE'": "False",
         "'Dangerous Permission: WRITE_SECURE_SETTINGS'": "False",
         "'Harmless Permission: ACCESS_SURFACE_FLINGER'": "False",
         "'Harmless Permission: ACCOUNT_MANAGER'": "False",
         "'Harmless Permission: ADD_VOICEMAIL'": "False",
         "'Harmless Permission: CONTROL_LOCATION_UPDATES'": "False",
         "'Harmless Permission: DEVICE_POWER'": "False",
         "'Harmless Permission: EXPAND_STATUS_BAR'": "False",
         "'Harmless Permission: FLASHLIGHT'": "False",
         "'Harmless Permission: FORCE_BACK'": "False",
         "'Harmless Permission: GET_PACKAGE_SIZE'": "False",
         "'Harmless Permission: GET_TOP_ACTIVITY_INFO'": "False",
         "'Harmless Permission: GLOBAL_SEARCH'": "False",
         "'Harmless Permission: INSTALL_SHORTCUT'": "False",
         "'Harmless Permission: MANAGE_DOCUMENTS'": "False",
         "'Harmless Permission: MEDIA_CONTENT_CONTROL'": "False",
         "'Harmless Permission: MODIFY_AUDIO_SETTINGS'": "False",
         "'Harmless Permission: READ_USER_DICTIONARY'": "False",
         "'Harmless Permission: REORDER_TASKS'": "False",
         "'Harmless Permission: SEND_RESPOND_VIA_MESSAGE'": "False",
         "'Harmless Permission: SET_ALARM'": "False",
         "'Harmless Permission: SET_ANIMATION_SCALE'": "False",
         "'Harmless Permission: SET_ORIENTATION'": "False",
         "'Harmless Permission: SET_POINTER_SPEED'": "False",
         "'Harmless Permission: SET_TIME'": "False",
         "'Harmless Permission: SET_TIME_ZONE'": "False",
         "'Harmless Permission: SET_WALLPAPER'": "False",
         "'Harmless Permission: UNINSTALL_SHORTCUT'": "False",
         "'Harmless Permission: VIBRATE'": "True",
         "'Harmless Permission: WAKE_LOCK'": "True",
         "'Harmless Permission: WRITE_CALENDAR'": "False",
         "'Harmless Permission: WRITE_CALL_LOG'": "False",
         "'Harmless Permission: WRITE_CONTACTS'": "False",
         "'Harmless Permission: WRITE_USER_DICTIONARY'": "False",
         "_deepnote_index_column": 3,
         "class": 0
        },
        {
         "'Dangerous Permission: ACCESS_SUPERUSER'": "False",
         "'Dangerous Permission: BLUETOOTH_PRIVILEGED'": "False",
         "'Dangerous Permission: BRICK'": "False",
         "'Dangerous Permission: CHANGE_COMPONENT_ENABLED_STATE'": "False",
         "'Dangerous Permission: CLEAR_APP_USER_DATA'": "False",
         "'Dangerous Permission: DELETE_CACHE_FILES'": "False",
         "'Dangerous Permission: DELETE_PACKAGES'": "False",
         "'Dangerous Permission: DISABLE_KEYGUARD'": "False",
         "'Dangerous Permission: FACTORY_TEST'": "False",
         "'Dangerous Permission: INJECT_EVENTS'": "False",
         "'Dangerous Permission: INSTALL_PACKAGES'": "False",
         "'Dangerous Permission: INTERNAL_SYSTEM_WINDOW'": "False",
         "'Dangerous Permission: KILL_BACKGROUND_PROCESSES'": "False",
         "'Dangerous Permission: MASTER_CLEAR'": "False",
         "'Dangerous Permission: MODIFY_PHONE_STATE'": "False",
         "'Dangerous Permission: MOUNT_FORMAT_FILESYSTEM'": "False",
         "'Dangerous Permission: MOUNT_UNMOUNT_FILESYSTEM'": "False",
         "'Dangerous Permission: PROCESS_OUTGOING_CALLS'": "False",
         "'Dangerous Permission: READ_LOGS'": "False",
         "'Dangerous Permission: REBOOT'": "False",
         "'Dangerous Permission: RECEIVE_BOOT_COMPLETED'": "True",
         "'Dangerous Permission: STATUS_BAR'": "False",
         "'Dangerous Permission: WRITE_EXTERNAL_STORAGE'": "True",
         "'Dangerous Permission: WRITE_HISTORY_BOOKMARKS'": "False",
         "'Dangerous Permission: WRITE_PROFILE'": "False",
         "'Dangerous Permission: WRITE_SECURE_SETTINGS'": "False",
         "'Harmless Permission: ACCESS_SURFACE_FLINGER'": "False",
         "'Harmless Permission: ACCOUNT_MANAGER'": "False",
         "'Harmless Permission: ADD_VOICEMAIL'": "False",
         "'Harmless Permission: CONTROL_LOCATION_UPDATES'": "False",
         "'Harmless Permission: DEVICE_POWER'": "False",
         "'Harmless Permission: EXPAND_STATUS_BAR'": "False",
         "'Harmless Permission: FLASHLIGHT'": "False",
         "'Harmless Permission: FORCE_BACK'": "False",
         "'Harmless Permission: GET_PACKAGE_SIZE'": "False",
         "'Harmless Permission: GET_TOP_ACTIVITY_INFO'": "False",
         "'Harmless Permission: GLOBAL_SEARCH'": "False",
         "'Harmless Permission: INSTALL_SHORTCUT'": "True",
         "'Harmless Permission: MANAGE_DOCUMENTS'": "False",
         "'Harmless Permission: MEDIA_CONTENT_CONTROL'": "False",
         "'Harmless Permission: MODIFY_AUDIO_SETTINGS'": "False",
         "'Harmless Permission: READ_USER_DICTIONARY'": "False",
         "'Harmless Permission: REORDER_TASKS'": "False",
         "'Harmless Permission: SEND_RESPOND_VIA_MESSAGE'": "False",
         "'Harmless Permission: SET_ALARM'": "False",
         "'Harmless Permission: SET_ANIMATION_SCALE'": "False",
         "'Harmless Permission: SET_ORIENTATION'": "False",
         "'Harmless Permission: SET_POINTER_SPEED'": "False",
         "'Harmless Permission: SET_TIME'": "False",
         "'Harmless Permission: SET_TIME_ZONE'": "False",
         "'Harmless Permission: SET_WALLPAPER'": "False",
         "'Harmless Permission: UNINSTALL_SHORTCUT'": "False",
         "'Harmless Permission: VIBRATE'": "True",
         "'Harmless Permission: WAKE_LOCK'": "True",
         "'Harmless Permission: WRITE_CALENDAR'": "False",
         "'Harmless Permission: WRITE_CALL_LOG'": "False",
         "'Harmless Permission: WRITE_CONTACTS'": "False",
         "'Harmless Permission: WRITE_USER_DICTIONARY'": "False",
         "_deepnote_index_column": 4,
         "class": 0
        }
       ]
      },
      "text/html": [
       "<div>\n",
       "<style scoped>\n",
       "    .dataframe tbody tr th:only-of-type {\n",
       "        vertical-align: middle;\n",
       "    }\n",
       "\n",
       "    .dataframe tbody tr th {\n",
       "        vertical-align: top;\n",
       "    }\n",
       "\n",
       "    .dataframe thead th {\n",
       "        text-align: right;\n",
       "    }\n",
       "</style>\n",
       "<table border=\"1\" class=\"dataframe\">\n",
       "  <thead>\n",
       "    <tr style=\"text-align: right;\">\n",
       "      <th></th>\n",
       "      <th>'Dangerous Permission: ACCESS_SUPERUSER'</th>\n",
       "      <th>'Dangerous Permission: BLUETOOTH_PRIVILEGED'</th>\n",
       "      <th>'Dangerous Permission: BRICK'</th>\n",
       "      <th>'Dangerous Permission: CHANGE_COMPONENT_ENABLED_STATE'</th>\n",
       "      <th>'Dangerous Permission: CLEAR_APP_USER_DATA'</th>\n",
       "      <th>'Dangerous Permission: DELETE_CACHE_FILES'</th>\n",
       "      <th>'Dangerous Permission: DELETE_PACKAGES'</th>\n",
       "      <th>'Dangerous Permission: DISABLE_KEYGUARD'</th>\n",
       "      <th>'Dangerous Permission: FACTORY_TEST'</th>\n",
       "      <th>'Dangerous Permission: INSTALL_PACKAGES'</th>\n",
       "      <th>'Dangerous Permission: INJECT_EVENTS'</th>\n",
       "      <th>'Dangerous Permission: INTERNAL_SYSTEM_WINDOW'</th>\n",
       "      <th>'Dangerous Permission: KILL_BACKGROUND_PROCESSES'</th>\n",
       "      <th>'Dangerous Permission: MASTER_CLEAR'</th>\n",
       "      <th>'Dangerous Permission: MODIFY_PHONE_STATE'</th>\n",
       "      <th>'Dangerous Permission: MOUNT_FORMAT_FILESYSTEM'</th>\n",
       "      <th>'Dangerous Permission: MOUNT_UNMOUNT_FILESYSTEM'</th>\n",
       "      <th>'Dangerous Permission: PROCESS_OUTGOING_CALLS'</th>\n",
       "      <th>'Dangerous Permission: READ_LOGS'</th>\n",
       "      <th>'Dangerous Permission: REBOOT'</th>\n",
       "      <th>'Dangerous Permission: RECEIVE_BOOT_COMPLETED'</th>\n",
       "      <th>'Dangerous Permission: STATUS_BAR'</th>\n",
       "      <th>'Dangerous Permission: WRITE_EXTERNAL_STORAGE'</th>\n",
       "      <th>'Dangerous Permission: WRITE_HISTORY_BOOKMARKS'</th>\n",
       "      <th>'Dangerous Permission: WRITE_PROFILE'</th>\n",
       "      <th>'Dangerous Permission: WRITE_SECURE_SETTINGS'</th>\n",
       "      <th>'Harmless Permission: ACCESS_SURFACE_FLINGER'</th>\n",
       "      <th>'Harmless Permission: ACCOUNT_MANAGER'</th>\n",
       "      <th>'Harmless Permission: ADD_VOICEMAIL'</th>\n",
       "      <th>'Harmless Permission: CONTROL_LOCATION_UPDATES'</th>\n",
       "      <th>'Harmless Permission: DEVICE_POWER'</th>\n",
       "      <th>'Harmless Permission: EXPAND_STATUS_BAR'</th>\n",
       "      <th>'Harmless Permission: FLASHLIGHT'</th>\n",
       "      <th>'Harmless Permission: FORCE_BACK'</th>\n",
       "      <th>'Harmless Permission: GET_PACKAGE_SIZE'</th>\n",
       "      <th>'Harmless Permission: GET_TOP_ACTIVITY_INFO'</th>\n",
       "      <th>'Harmless Permission: GLOBAL_SEARCH'</th>\n",
       "      <th>'Harmless Permission: INSTALL_SHORTCUT'</th>\n",
       "      <th>'Harmless Permission: MANAGE_DOCUMENTS'</th>\n",
       "      <th>'Harmless Permission: MEDIA_CONTENT_CONTROL'</th>\n",
       "      <th>'Harmless Permission: MODIFY_AUDIO_SETTINGS'</th>\n",
       "      <th>'Harmless Permission: READ_USER_DICTIONARY'</th>\n",
       "      <th>'Harmless Permission: REORDER_TASKS'</th>\n",
       "      <th>'Harmless Permission: SEND_RESPOND_VIA_MESSAGE'</th>\n",
       "      <th>'Harmless Permission: SET_ALARM'</th>\n",
       "      <th>'Harmless Permission: SET_ANIMATION_SCALE'</th>\n",
       "      <th>'Harmless Permission: SET_ORIENTATION'</th>\n",
       "      <th>'Harmless Permission: SET_POINTER_SPEED'</th>\n",
       "      <th>'Harmless Permission: SET_TIME'</th>\n",
       "      <th>'Harmless Permission: SET_TIME_ZONE'</th>\n",
       "      <th>'Harmless Permission: SET_WALLPAPER'</th>\n",
       "      <th>'Harmless Permission: UNINSTALL_SHORTCUT'</th>\n",
       "      <th>'Harmless Permission: VIBRATE'</th>\n",
       "      <th>'Harmless Permission: WAKE_LOCK'</th>\n",
       "      <th>'Harmless Permission: WRITE_CALENDAR'</th>\n",
       "      <th>'Harmless Permission: WRITE_CALL_LOG'</th>\n",
       "      <th>'Harmless Permission: WRITE_CONTACTS'</th>\n",
       "      <th>'Harmless Permission: WRITE_USER_DICTIONARY'</th>\n",
       "      <th>class</th>\n",
       "    </tr>\n",
       "  </thead>\n",
       "  <tbody>\n",
       "    <tr>\n",
       "      <th>0</th>\n",
       "      <td>False</td>\n",
       "      <td>False</td>\n",
       "      <td>False</td>\n",
       "      <td>False</td>\n",
       "      <td>False</td>\n",
       "      <td>False</td>\n",
       "      <td>False</td>\n",
       "      <td>False</td>\n",
       "      <td>False</td>\n",
       "      <td>False</td>\n",
       "      <td>False</td>\n",
       "      <td>False</td>\n",
       "      <td>False</td>\n",
       "      <td>False</td>\n",
       "      <td>False</td>\n",
       "      <td>False</td>\n",
       "      <td>False</td>\n",
       "      <td>False</td>\n",
       "      <td>False</td>\n",
       "      <td>False</td>\n",
       "      <td>False</td>\n",
       "      <td>False</td>\n",
       "      <td>False</td>\n",
       "      <td>False</td>\n",
       "      <td>False</td>\n",
       "      <td>False</td>\n",
       "      <td>False</td>\n",
       "      <td>False</td>\n",
       "      <td>False</td>\n",
       "      <td>False</td>\n",
       "      <td>False</td>\n",
       "      <td>False</td>\n",
       "      <td>False</td>\n",
       "      <td>False</td>\n",
       "      <td>False</td>\n",
       "      <td>False</td>\n",
       "      <td>False</td>\n",
       "      <td>False</td>\n",
       "      <td>False</td>\n",
       "      <td>False</td>\n",
       "      <td>False</td>\n",
       "      <td>False</td>\n",
       "      <td>False</td>\n",
       "      <td>False</td>\n",
       "      <td>False</td>\n",
       "      <td>False</td>\n",
       "      <td>False</td>\n",
       "      <td>False</td>\n",
       "      <td>False</td>\n",
       "      <td>False</td>\n",
       "      <td>False</td>\n",
       "      <td>False</td>\n",
       "      <td>False</td>\n",
       "      <td>False</td>\n",
       "      <td>False</td>\n",
       "      <td>False</td>\n",
       "      <td>False</td>\n",
       "      <td>False</td>\n",
       "      <td>0</td>\n",
       "    </tr>\n",
       "    <tr>\n",
       "      <th>1</th>\n",
       "      <td>False</td>\n",
       "      <td>False</td>\n",
       "      <td>False</td>\n",
       "      <td>False</td>\n",
       "      <td>False</td>\n",
       "      <td>False</td>\n",
       "      <td>False</td>\n",
       "      <td>False</td>\n",
       "      <td>False</td>\n",
       "      <td>False</td>\n",
       "      <td>False</td>\n",
       "      <td>False</td>\n",
       "      <td>False</td>\n",
       "      <td>False</td>\n",
       "      <td>False</td>\n",
       "      <td>False</td>\n",
       "      <td>False</td>\n",
       "      <td>False</td>\n",
       "      <td>False</td>\n",
       "      <td>False</td>\n",
       "      <td>False</td>\n",
       "      <td>False</td>\n",
       "      <td>False</td>\n",
       "      <td>False</td>\n",
       "      <td>False</td>\n",
       "      <td>False</td>\n",
       "      <td>False</td>\n",
       "      <td>False</td>\n",
       "      <td>False</td>\n",
       "      <td>False</td>\n",
       "      <td>False</td>\n",
       "      <td>False</td>\n",
       "      <td>False</td>\n",
       "      <td>False</td>\n",
       "      <td>False</td>\n",
       "      <td>False</td>\n",
       "      <td>False</td>\n",
       "      <td>False</td>\n",
       "      <td>False</td>\n",
       "      <td>False</td>\n",
       "      <td>False</td>\n",
       "      <td>False</td>\n",
       "      <td>False</td>\n",
       "      <td>False</td>\n",
       "      <td>False</td>\n",
       "      <td>False</td>\n",
       "      <td>False</td>\n",
       "      <td>False</td>\n",
       "      <td>False</td>\n",
       "      <td>False</td>\n",
       "      <td>False</td>\n",
       "      <td>False</td>\n",
       "      <td>False</td>\n",
       "      <td>False</td>\n",
       "      <td>False</td>\n",
       "      <td>False</td>\n",
       "      <td>False</td>\n",
       "      <td>False</td>\n",
       "      <td>0</td>\n",
       "    </tr>\n",
       "    <tr>\n",
       "      <th>2</th>\n",
       "      <td>False</td>\n",
       "      <td>False</td>\n",
       "      <td>False</td>\n",
       "      <td>False</td>\n",
       "      <td>False</td>\n",
       "      <td>False</td>\n",
       "      <td>False</td>\n",
       "      <td>False</td>\n",
       "      <td>False</td>\n",
       "      <td>False</td>\n",
       "      <td>False</td>\n",
       "      <td>False</td>\n",
       "      <td>False</td>\n",
       "      <td>False</td>\n",
       "      <td>False</td>\n",
       "      <td>False</td>\n",
       "      <td>False</td>\n",
       "      <td>False</td>\n",
       "      <td>False</td>\n",
       "      <td>False</td>\n",
       "      <td>False</td>\n",
       "      <td>False</td>\n",
       "      <td>False</td>\n",
       "      <td>False</td>\n",
       "      <td>False</td>\n",
       "      <td>False</td>\n",
       "      <td>False</td>\n",
       "      <td>False</td>\n",
       "      <td>False</td>\n",
       "      <td>False</td>\n",
       "      <td>False</td>\n",
       "      <td>False</td>\n",
       "      <td>False</td>\n",
       "      <td>False</td>\n",
       "      <td>False</td>\n",
       "      <td>False</td>\n",
       "      <td>False</td>\n",
       "      <td>False</td>\n",
       "      <td>False</td>\n",
       "      <td>False</td>\n",
       "      <td>False</td>\n",
       "      <td>False</td>\n",
       "      <td>False</td>\n",
       "      <td>False</td>\n",
       "      <td>False</td>\n",
       "      <td>False</td>\n",
       "      <td>False</td>\n",
       "      <td>False</td>\n",
       "      <td>False</td>\n",
       "      <td>False</td>\n",
       "      <td>False</td>\n",
       "      <td>False</td>\n",
       "      <td>False</td>\n",
       "      <td>False</td>\n",
       "      <td>False</td>\n",
       "      <td>False</td>\n",
       "      <td>False</td>\n",
       "      <td>False</td>\n",
       "      <td>0</td>\n",
       "    </tr>\n",
       "    <tr>\n",
       "      <th>3</th>\n",
       "      <td>False</td>\n",
       "      <td>False</td>\n",
       "      <td>False</td>\n",
       "      <td>False</td>\n",
       "      <td>False</td>\n",
       "      <td>False</td>\n",
       "      <td>False</td>\n",
       "      <td>False</td>\n",
       "      <td>False</td>\n",
       "      <td>False</td>\n",
       "      <td>False</td>\n",
       "      <td>False</td>\n",
       "      <td>False</td>\n",
       "      <td>False</td>\n",
       "      <td>False</td>\n",
       "      <td>False</td>\n",
       "      <td>False</td>\n",
       "      <td>False</td>\n",
       "      <td>False</td>\n",
       "      <td>False</td>\n",
       "      <td>False</td>\n",
       "      <td>False</td>\n",
       "      <td>False</td>\n",
       "      <td>False</td>\n",
       "      <td>False</td>\n",
       "      <td>False</td>\n",
       "      <td>False</td>\n",
       "      <td>False</td>\n",
       "      <td>False</td>\n",
       "      <td>False</td>\n",
       "      <td>False</td>\n",
       "      <td>False</td>\n",
       "      <td>False</td>\n",
       "      <td>False</td>\n",
       "      <td>False</td>\n",
       "      <td>False</td>\n",
       "      <td>False</td>\n",
       "      <td>False</td>\n",
       "      <td>False</td>\n",
       "      <td>False</td>\n",
       "      <td>False</td>\n",
       "      <td>False</td>\n",
       "      <td>False</td>\n",
       "      <td>False</td>\n",
       "      <td>False</td>\n",
       "      <td>False</td>\n",
       "      <td>False</td>\n",
       "      <td>False</td>\n",
       "      <td>False</td>\n",
       "      <td>False</td>\n",
       "      <td>False</td>\n",
       "      <td>False</td>\n",
       "      <td>True</td>\n",
       "      <td>True</td>\n",
       "      <td>False</td>\n",
       "      <td>False</td>\n",
       "      <td>False</td>\n",
       "      <td>False</td>\n",
       "      <td>0</td>\n",
       "    </tr>\n",
       "    <tr>\n",
       "      <th>4</th>\n",
       "      <td>False</td>\n",
       "      <td>False</td>\n",
       "      <td>False</td>\n",
       "      <td>False</td>\n",
       "      <td>False</td>\n",
       "      <td>False</td>\n",
       "      <td>False</td>\n",
       "      <td>False</td>\n",
       "      <td>False</td>\n",
       "      <td>False</td>\n",
       "      <td>False</td>\n",
       "      <td>False</td>\n",
       "      <td>False</td>\n",
       "      <td>False</td>\n",
       "      <td>False</td>\n",
       "      <td>False</td>\n",
       "      <td>False</td>\n",
       "      <td>False</td>\n",
       "      <td>False</td>\n",
       "      <td>False</td>\n",
       "      <td>True</td>\n",
       "      <td>False</td>\n",
       "      <td>True</td>\n",
       "      <td>False</td>\n",
       "      <td>False</td>\n",
       "      <td>False</td>\n",
       "      <td>False</td>\n",
       "      <td>False</td>\n",
       "      <td>False</td>\n",
       "      <td>False</td>\n",
       "      <td>False</td>\n",
       "      <td>False</td>\n",
       "      <td>False</td>\n",
       "      <td>False</td>\n",
       "      <td>False</td>\n",
       "      <td>False</td>\n",
       "      <td>False</td>\n",
       "      <td>True</td>\n",
       "      <td>False</td>\n",
       "      <td>False</td>\n",
       "      <td>False</td>\n",
       "      <td>False</td>\n",
       "      <td>False</td>\n",
       "      <td>False</td>\n",
       "      <td>False</td>\n",
       "      <td>False</td>\n",
       "      <td>False</td>\n",
       "      <td>False</td>\n",
       "      <td>False</td>\n",
       "      <td>False</td>\n",
       "      <td>False</td>\n",
       "      <td>False</td>\n",
       "      <td>True</td>\n",
       "      <td>True</td>\n",
       "      <td>False</td>\n",
       "      <td>False</td>\n",
       "      <td>False</td>\n",
       "      <td>False</td>\n",
       "      <td>0</td>\n",
       "    </tr>\n",
       "  </tbody>\n",
       "</table>\n",
       "</div>"
      ],
      "text/plain": [
       "   'Dangerous Permission: ACCESS_SUPERUSER'  \\\n",
       "0                                     False   \n",
       "1                                     False   \n",
       "2                                     False   \n",
       "3                                     False   \n",
       "4                                     False   \n",
       "\n",
       "   'Dangerous Permission: BLUETOOTH_PRIVILEGED'  \\\n",
       "0                                         False   \n",
       "1                                         False   \n",
       "2                                         False   \n",
       "3                                         False   \n",
       "4                                         False   \n",
       "\n",
       "   'Dangerous Permission: BRICK'  \\\n",
       "0                          False   \n",
       "1                          False   \n",
       "2                          False   \n",
       "3                          False   \n",
       "4                          False   \n",
       "\n",
       "   'Dangerous Permission: CHANGE_COMPONENT_ENABLED_STATE'  \\\n",
       "0                                              False        \n",
       "1                                              False        \n",
       "2                                              False        \n",
       "3                                              False        \n",
       "4                                              False        \n",
       "\n",
       "   'Dangerous Permission: CLEAR_APP_USER_DATA'  \\\n",
       "0                                        False   \n",
       "1                                        False   \n",
       "2                                        False   \n",
       "3                                        False   \n",
       "4                                        False   \n",
       "\n",
       "   'Dangerous Permission: DELETE_CACHE_FILES'  \\\n",
       "0                                       False   \n",
       "1                                       False   \n",
       "2                                       False   \n",
       "3                                       False   \n",
       "4                                       False   \n",
       "\n",
       "   'Dangerous Permission: DELETE_PACKAGES'  \\\n",
       "0                                    False   \n",
       "1                                    False   \n",
       "2                                    False   \n",
       "3                                    False   \n",
       "4                                    False   \n",
       "\n",
       "   'Dangerous Permission: DISABLE_KEYGUARD'  \\\n",
       "0                                     False   \n",
       "1                                     False   \n",
       "2                                     False   \n",
       "3                                     False   \n",
       "4                                     False   \n",
       "\n",
       "   'Dangerous Permission: FACTORY_TEST'  \\\n",
       "0                                 False   \n",
       "1                                 False   \n",
       "2                                 False   \n",
       "3                                 False   \n",
       "4                                 False   \n",
       "\n",
       "   'Dangerous Permission: INSTALL_PACKAGES'  \\\n",
       "0                                     False   \n",
       "1                                     False   \n",
       "2                                     False   \n",
       "3                                     False   \n",
       "4                                     False   \n",
       "\n",
       "   'Dangerous Permission: INJECT_EVENTS'  \\\n",
       "0                                  False   \n",
       "1                                  False   \n",
       "2                                  False   \n",
       "3                                  False   \n",
       "4                                  False   \n",
       "\n",
       "   'Dangerous Permission: INTERNAL_SYSTEM_WINDOW'  \\\n",
       "0                                           False   \n",
       "1                                           False   \n",
       "2                                           False   \n",
       "3                                           False   \n",
       "4                                           False   \n",
       "\n",
       "   'Dangerous Permission: KILL_BACKGROUND_PROCESSES'  \\\n",
       "0                                              False   \n",
       "1                                              False   \n",
       "2                                              False   \n",
       "3                                              False   \n",
       "4                                              False   \n",
       "\n",
       "   'Dangerous Permission: MASTER_CLEAR'  \\\n",
       "0                                 False   \n",
       "1                                 False   \n",
       "2                                 False   \n",
       "3                                 False   \n",
       "4                                 False   \n",
       "\n",
       "   'Dangerous Permission: MODIFY_PHONE_STATE'  \\\n",
       "0                                       False   \n",
       "1                                       False   \n",
       "2                                       False   \n",
       "3                                       False   \n",
       "4                                       False   \n",
       "\n",
       "   'Dangerous Permission: MOUNT_FORMAT_FILESYSTEM'  \\\n",
       "0                                            False   \n",
       "1                                            False   \n",
       "2                                            False   \n",
       "3                                            False   \n",
       "4                                            False   \n",
       "\n",
       "   'Dangerous Permission: MOUNT_UNMOUNT_FILESYSTEM'  \\\n",
       "0                                             False   \n",
       "1                                             False   \n",
       "2                                             False   \n",
       "3                                             False   \n",
       "4                                             False   \n",
       "\n",
       "   'Dangerous Permission: PROCESS_OUTGOING_CALLS'  \\\n",
       "0                                           False   \n",
       "1                                           False   \n",
       "2                                           False   \n",
       "3                                           False   \n",
       "4                                           False   \n",
       "\n",
       "   'Dangerous Permission: READ_LOGS'  'Dangerous Permission: REBOOT'  \\\n",
       "0                              False                           False   \n",
       "1                              False                           False   \n",
       "2                              False                           False   \n",
       "3                              False                           False   \n",
       "4                              False                           False   \n",
       "\n",
       "   'Dangerous Permission: RECEIVE_BOOT_COMPLETED'  \\\n",
       "0                                           False   \n",
       "1                                           False   \n",
       "2                                           False   \n",
       "3                                           False   \n",
       "4                                            True   \n",
       "\n",
       "   'Dangerous Permission: STATUS_BAR'  \\\n",
       "0                               False   \n",
       "1                               False   \n",
       "2                               False   \n",
       "3                               False   \n",
       "4                               False   \n",
       "\n",
       "   'Dangerous Permission: WRITE_EXTERNAL_STORAGE'  \\\n",
       "0                                           False   \n",
       "1                                           False   \n",
       "2                                           False   \n",
       "3                                           False   \n",
       "4                                            True   \n",
       "\n",
       "   'Dangerous Permission: WRITE_HISTORY_BOOKMARKS'  \\\n",
       "0                                            False   \n",
       "1                                            False   \n",
       "2                                            False   \n",
       "3                                            False   \n",
       "4                                            False   \n",
       "\n",
       "   'Dangerous Permission: WRITE_PROFILE'  \\\n",
       "0                                  False   \n",
       "1                                  False   \n",
       "2                                  False   \n",
       "3                                  False   \n",
       "4                                  False   \n",
       "\n",
       "   'Dangerous Permission: WRITE_SECURE_SETTINGS'  \\\n",
       "0                                          False   \n",
       "1                                          False   \n",
       "2                                          False   \n",
       "3                                          False   \n",
       "4                                          False   \n",
       "\n",
       "   'Harmless Permission: ACCESS_SURFACE_FLINGER'  \\\n",
       "0                                          False   \n",
       "1                                          False   \n",
       "2                                          False   \n",
       "3                                          False   \n",
       "4                                          False   \n",
       "\n",
       "   'Harmless Permission: ACCOUNT_MANAGER'  \\\n",
       "0                                   False   \n",
       "1                                   False   \n",
       "2                                   False   \n",
       "3                                   False   \n",
       "4                                   False   \n",
       "\n",
       "   'Harmless Permission: ADD_VOICEMAIL'  \\\n",
       "0                                 False   \n",
       "1                                 False   \n",
       "2                                 False   \n",
       "3                                 False   \n",
       "4                                 False   \n",
       "\n",
       "   'Harmless Permission: CONTROL_LOCATION_UPDATES'  \\\n",
       "0                                            False   \n",
       "1                                            False   \n",
       "2                                            False   \n",
       "3                                            False   \n",
       "4                                            False   \n",
       "\n",
       "   'Harmless Permission: DEVICE_POWER'  \\\n",
       "0                                False   \n",
       "1                                False   \n",
       "2                                False   \n",
       "3                                False   \n",
       "4                                False   \n",
       "\n",
       "   'Harmless Permission: EXPAND_STATUS_BAR'  \\\n",
       "0                                     False   \n",
       "1                                     False   \n",
       "2                                     False   \n",
       "3                                     False   \n",
       "4                                     False   \n",
       "\n",
       "   'Harmless Permission: FLASHLIGHT'  'Harmless Permission: FORCE_BACK'  \\\n",
       "0                              False                              False   \n",
       "1                              False                              False   \n",
       "2                              False                              False   \n",
       "3                              False                              False   \n",
       "4                              False                              False   \n",
       "\n",
       "   'Harmless Permission: GET_PACKAGE_SIZE'  \\\n",
       "0                                    False   \n",
       "1                                    False   \n",
       "2                                    False   \n",
       "3                                    False   \n",
       "4                                    False   \n",
       "\n",
       "   'Harmless Permission: GET_TOP_ACTIVITY_INFO'  \\\n",
       "0                                         False   \n",
       "1                                         False   \n",
       "2                                         False   \n",
       "3                                         False   \n",
       "4                                         False   \n",
       "\n",
       "   'Harmless Permission: GLOBAL_SEARCH'  \\\n",
       "0                                 False   \n",
       "1                                 False   \n",
       "2                                 False   \n",
       "3                                 False   \n",
       "4                                 False   \n",
       "\n",
       "   'Harmless Permission: INSTALL_SHORTCUT'  \\\n",
       "0                                    False   \n",
       "1                                    False   \n",
       "2                                    False   \n",
       "3                                    False   \n",
       "4                                     True   \n",
       "\n",
       "   'Harmless Permission: MANAGE_DOCUMENTS'  \\\n",
       "0                                    False   \n",
       "1                                    False   \n",
       "2                                    False   \n",
       "3                                    False   \n",
       "4                                    False   \n",
       "\n",
       "   'Harmless Permission: MEDIA_CONTENT_CONTROL'  \\\n",
       "0                                         False   \n",
       "1                                         False   \n",
       "2                                         False   \n",
       "3                                         False   \n",
       "4                                         False   \n",
       "\n",
       "   'Harmless Permission: MODIFY_AUDIO_SETTINGS'  \\\n",
       "0                                         False   \n",
       "1                                         False   \n",
       "2                                         False   \n",
       "3                                         False   \n",
       "4                                         False   \n",
       "\n",
       "   'Harmless Permission: READ_USER_DICTIONARY'  \\\n",
       "0                                        False   \n",
       "1                                        False   \n",
       "2                                        False   \n",
       "3                                        False   \n",
       "4                                        False   \n",
       "\n",
       "   'Harmless Permission: REORDER_TASKS'  \\\n",
       "0                                 False   \n",
       "1                                 False   \n",
       "2                                 False   \n",
       "3                                 False   \n",
       "4                                 False   \n",
       "\n",
       "   'Harmless Permission: SEND_RESPOND_VIA_MESSAGE'  \\\n",
       "0                                            False   \n",
       "1                                            False   \n",
       "2                                            False   \n",
       "3                                            False   \n",
       "4                                            False   \n",
       "\n",
       "   'Harmless Permission: SET_ALARM'  \\\n",
       "0                             False   \n",
       "1                             False   \n",
       "2                             False   \n",
       "3                             False   \n",
       "4                             False   \n",
       "\n",
       "   'Harmless Permission: SET_ANIMATION_SCALE'  \\\n",
       "0                                       False   \n",
       "1                                       False   \n",
       "2                                       False   \n",
       "3                                       False   \n",
       "4                                       False   \n",
       "\n",
       "   'Harmless Permission: SET_ORIENTATION'  \\\n",
       "0                                   False   \n",
       "1                                   False   \n",
       "2                                   False   \n",
       "3                                   False   \n",
       "4                                   False   \n",
       "\n",
       "   'Harmless Permission: SET_POINTER_SPEED'  'Harmless Permission: SET_TIME'  \\\n",
       "0                                     False                            False   \n",
       "1                                     False                            False   \n",
       "2                                     False                            False   \n",
       "3                                     False                            False   \n",
       "4                                     False                            False   \n",
       "\n",
       "   'Harmless Permission: SET_TIME_ZONE'  'Harmless Permission: SET_WALLPAPER'  \\\n",
       "0                                 False                                 False   \n",
       "1                                 False                                 False   \n",
       "2                                 False                                 False   \n",
       "3                                 False                                 False   \n",
       "4                                 False                                 False   \n",
       "\n",
       "   'Harmless Permission: UNINSTALL_SHORTCUT'  'Harmless Permission: VIBRATE'  \\\n",
       "0                                      False                           False   \n",
       "1                                      False                           False   \n",
       "2                                      False                           False   \n",
       "3                                      False                            True   \n",
       "4                                      False                            True   \n",
       "\n",
       "   'Harmless Permission: WAKE_LOCK'  'Harmless Permission: WRITE_CALENDAR'  \\\n",
       "0                             False                                  False   \n",
       "1                             False                                  False   \n",
       "2                             False                                  False   \n",
       "3                              True                                  False   \n",
       "4                              True                                  False   \n",
       "\n",
       "   'Harmless Permission: WRITE_CALL_LOG'  \\\n",
       "0                                  False   \n",
       "1                                  False   \n",
       "2                                  False   \n",
       "3                                  False   \n",
       "4                                  False   \n",
       "\n",
       "   'Harmless Permission: WRITE_CONTACTS'  \\\n",
       "0                                  False   \n",
       "1                                  False   \n",
       "2                                  False   \n",
       "3                                  False   \n",
       "4                                  False   \n",
       "\n",
       "   'Harmless Permission: WRITE_USER_DICTIONARY'  class  \n",
       "0                                         False      0  \n",
       "1                                         False      0  \n",
       "2                                         False      0  \n",
       "3                                         False      0  \n",
       "4                                         False      0  "
      ]
     },
     "execution_count": 16,
     "metadata": {},
     "output_type": "execute_result"
    }
   ],
   "source": [
    "andro.head()"
   ]
  },
  {
   "cell_type": "code",
   "execution_count": null,
   "metadata": {
    "cell_id": "00026-a522f880-9905-4383-b95a-4c331d4e6c54",
    "deepnote_cell_type": "code",
    "deepnote_to_be_reexecuted": false,
    "execution_millis": 4708,
    "execution_start": 1631226017812,
    "source_hash": "1221ad5",
    "tags": []
   },
   "outputs": [],
   "source": [
    "andro[:] = andro[:].replace(True, 1)\n",
    "andro[:] = andro[:].replace(False, 0)\n",
    "andro[:] = andro[:].replace(\"False\", 0)\n",
    "andro[:] = andro[:].replace(\"True\", 1)\n",
    "andro[:] = andro[:].replace(\"true\", 1)\n",
    "andro[:] = andro[:].replace(\"false\", 0)"
   ]
  },
  {
   "cell_type": "code",
   "execution_count": null,
   "metadata": {
    "cell_id": "00027-6f363b5b-9e68-4141-8174-53d553f4bd13",
    "deepnote_cell_type": "code",
    "deepnote_to_be_reexecuted": false,
    "execution_millis": 27,
    "execution_start": 1631226022524,
    "source_hash": "17bdc5b3",
    "tags": []
   },
   "outputs": [],
   "source": [
    "andro = andro.astype(int)"
   ]
  },
  {
   "cell_type": "code",
   "execution_count": null,
   "metadata": {
    "cell_id": "00028-51587fd4-be1d-4bdd-b749-3a3146d40b91",
    "deepnote_cell_type": "code",
    "deepnote_to_be_reexecuted": false,
    "execution_millis": 191,
    "execution_start": 1631226022556,
    "source_hash": "709fee3a",
    "tags": []
   },
   "outputs": [
    {
     "data": {
      "application/vnd.deepnote.dataframe.v2+json": {
       "column_count": 59,
       "columns": [
        {
         "dtype": "int64",
         "name": "'Dangerous Permission: ACCESS_SUPERUSER'",
         "stats": {
          "histogram": [
           {
            "bin_end": -0.4,
            "bin_start": -0.5,
            "count": 0
           },
           {
            "bin_end": -0.3,
            "bin_start": -0.4,
            "count": 0
           },
           {
            "bin_end": -0.19999999999999996,
            "bin_start": -0.3,
            "count": 0
           },
           {
            "bin_end": -0.09999999999999998,
            "bin_start": -0.19999999999999996,
            "count": 0
           },
           {
            "bin_end": 0,
            "bin_start": -0.09999999999999998,
            "count": 0
           },
           {
            "bin_end": 0.10000000000000009,
            "bin_start": 0,
            "count": 5
           },
           {
            "bin_end": 0.20000000000000007,
            "bin_start": 0.10000000000000009,
            "count": 0
           },
           {
            "bin_end": 0.30000000000000004,
            "bin_start": 0.20000000000000007,
            "count": 0
           },
           {
            "bin_end": 0.4,
            "bin_start": 0.30000000000000004,
            "count": 0
           },
           {
            "bin_end": 0.5,
            "bin_start": 0.4,
            "count": 0
           }
          ],
          "max": "0",
          "min": "0",
          "nan_count": 0,
          "unique_count": 1
         }
        },
        {
         "dtype": "int64",
         "name": "'Dangerous Permission: BLUETOOTH_PRIVILEGED'",
         "stats": {
          "histogram": [
           {
            "bin_end": -0.4,
            "bin_start": -0.5,
            "count": 0
           },
           {
            "bin_end": -0.3,
            "bin_start": -0.4,
            "count": 0
           },
           {
            "bin_end": -0.19999999999999996,
            "bin_start": -0.3,
            "count": 0
           },
           {
            "bin_end": -0.09999999999999998,
            "bin_start": -0.19999999999999996,
            "count": 0
           },
           {
            "bin_end": 0,
            "bin_start": -0.09999999999999998,
            "count": 0
           },
           {
            "bin_end": 0.10000000000000009,
            "bin_start": 0,
            "count": 5
           },
           {
            "bin_end": 0.20000000000000007,
            "bin_start": 0.10000000000000009,
            "count": 0
           },
           {
            "bin_end": 0.30000000000000004,
            "bin_start": 0.20000000000000007,
            "count": 0
           },
           {
            "bin_end": 0.4,
            "bin_start": 0.30000000000000004,
            "count": 0
           },
           {
            "bin_end": 0.5,
            "bin_start": 0.4,
            "count": 0
           }
          ],
          "max": "0",
          "min": "0",
          "nan_count": 0,
          "unique_count": 1
         }
        },
        {
         "dtype": "int64",
         "name": "'Dangerous Permission: BRICK'",
         "stats": {
          "histogram": [
           {
            "bin_end": -0.4,
            "bin_start": -0.5,
            "count": 0
           },
           {
            "bin_end": -0.3,
            "bin_start": -0.4,
            "count": 0
           },
           {
            "bin_end": -0.19999999999999996,
            "bin_start": -0.3,
            "count": 0
           },
           {
            "bin_end": -0.09999999999999998,
            "bin_start": -0.19999999999999996,
            "count": 0
           },
           {
            "bin_end": 0,
            "bin_start": -0.09999999999999998,
            "count": 0
           },
           {
            "bin_end": 0.10000000000000009,
            "bin_start": 0,
            "count": 5
           },
           {
            "bin_end": 0.20000000000000007,
            "bin_start": 0.10000000000000009,
            "count": 0
           },
           {
            "bin_end": 0.30000000000000004,
            "bin_start": 0.20000000000000007,
            "count": 0
           },
           {
            "bin_end": 0.4,
            "bin_start": 0.30000000000000004,
            "count": 0
           },
           {
            "bin_end": 0.5,
            "bin_start": 0.4,
            "count": 0
           }
          ],
          "max": "0",
          "min": "0",
          "nan_count": 0,
          "unique_count": 1
         }
        },
        {
         "dtype": "int64",
         "name": "'Dangerous Permission: CHANGE_COMPONENT_ENABLED_STATE'",
         "stats": {
          "histogram": [
           {
            "bin_end": -0.4,
            "bin_start": -0.5,
            "count": 0
           },
           {
            "bin_end": -0.3,
            "bin_start": -0.4,
            "count": 0
           },
           {
            "bin_end": -0.19999999999999996,
            "bin_start": -0.3,
            "count": 0
           },
           {
            "bin_end": -0.09999999999999998,
            "bin_start": -0.19999999999999996,
            "count": 0
           },
           {
            "bin_end": 0,
            "bin_start": -0.09999999999999998,
            "count": 0
           },
           {
            "bin_end": 0.10000000000000009,
            "bin_start": 0,
            "count": 5
           },
           {
            "bin_end": 0.20000000000000007,
            "bin_start": 0.10000000000000009,
            "count": 0
           },
           {
            "bin_end": 0.30000000000000004,
            "bin_start": 0.20000000000000007,
            "count": 0
           },
           {
            "bin_end": 0.4,
            "bin_start": 0.30000000000000004,
            "count": 0
           },
           {
            "bin_end": 0.5,
            "bin_start": 0.4,
            "count": 0
           }
          ],
          "max": "0",
          "min": "0",
          "nan_count": 0,
          "unique_count": 1
         }
        },
        {
         "dtype": "int64",
         "name": "'Dangerous Permission: CLEAR_APP_USER_DATA'",
         "stats": {
          "histogram": [
           {
            "bin_end": -0.4,
            "bin_start": -0.5,
            "count": 0
           },
           {
            "bin_end": -0.3,
            "bin_start": -0.4,
            "count": 0
           },
           {
            "bin_end": -0.19999999999999996,
            "bin_start": -0.3,
            "count": 0
           },
           {
            "bin_end": -0.09999999999999998,
            "bin_start": -0.19999999999999996,
            "count": 0
           },
           {
            "bin_end": 0,
            "bin_start": -0.09999999999999998,
            "count": 0
           },
           {
            "bin_end": 0.10000000000000009,
            "bin_start": 0,
            "count": 5
           },
           {
            "bin_end": 0.20000000000000007,
            "bin_start": 0.10000000000000009,
            "count": 0
           },
           {
            "bin_end": 0.30000000000000004,
            "bin_start": 0.20000000000000007,
            "count": 0
           },
           {
            "bin_end": 0.4,
            "bin_start": 0.30000000000000004,
            "count": 0
           },
           {
            "bin_end": 0.5,
            "bin_start": 0.4,
            "count": 0
           }
          ],
          "max": "0",
          "min": "0",
          "nan_count": 0,
          "unique_count": 1
         }
        },
        {
         "dtype": "int64",
         "name": "'Dangerous Permission: DELETE_CACHE_FILES'",
         "stats": {
          "histogram": [
           {
            "bin_end": -0.4,
            "bin_start": -0.5,
            "count": 0
           },
           {
            "bin_end": -0.3,
            "bin_start": -0.4,
            "count": 0
           },
           {
            "bin_end": -0.19999999999999996,
            "bin_start": -0.3,
            "count": 0
           },
           {
            "bin_end": -0.09999999999999998,
            "bin_start": -0.19999999999999996,
            "count": 0
           },
           {
            "bin_end": 0,
            "bin_start": -0.09999999999999998,
            "count": 0
           },
           {
            "bin_end": 0.10000000000000009,
            "bin_start": 0,
            "count": 5
           },
           {
            "bin_end": 0.20000000000000007,
            "bin_start": 0.10000000000000009,
            "count": 0
           },
           {
            "bin_end": 0.30000000000000004,
            "bin_start": 0.20000000000000007,
            "count": 0
           },
           {
            "bin_end": 0.4,
            "bin_start": 0.30000000000000004,
            "count": 0
           },
           {
            "bin_end": 0.5,
            "bin_start": 0.4,
            "count": 0
           }
          ],
          "max": "0",
          "min": "0",
          "nan_count": 0,
          "unique_count": 1
         }
        },
        {
         "dtype": "int64",
         "name": "'Dangerous Permission: DELETE_PACKAGES'",
         "stats": {
          "histogram": [
           {
            "bin_end": -0.4,
            "bin_start": -0.5,
            "count": 0
           },
           {
            "bin_end": -0.3,
            "bin_start": -0.4,
            "count": 0
           },
           {
            "bin_end": -0.19999999999999996,
            "bin_start": -0.3,
            "count": 0
           },
           {
            "bin_end": -0.09999999999999998,
            "bin_start": -0.19999999999999996,
            "count": 0
           },
           {
            "bin_end": 0,
            "bin_start": -0.09999999999999998,
            "count": 0
           },
           {
            "bin_end": 0.10000000000000009,
            "bin_start": 0,
            "count": 5
           },
           {
            "bin_end": 0.20000000000000007,
            "bin_start": 0.10000000000000009,
            "count": 0
           },
           {
            "bin_end": 0.30000000000000004,
            "bin_start": 0.20000000000000007,
            "count": 0
           },
           {
            "bin_end": 0.4,
            "bin_start": 0.30000000000000004,
            "count": 0
           },
           {
            "bin_end": 0.5,
            "bin_start": 0.4,
            "count": 0
           }
          ],
          "max": "0",
          "min": "0",
          "nan_count": 0,
          "unique_count": 1
         }
        },
        {
         "dtype": "int64",
         "name": "'Dangerous Permission: DISABLE_KEYGUARD'",
         "stats": {
          "histogram": [
           {
            "bin_end": -0.4,
            "bin_start": -0.5,
            "count": 0
           },
           {
            "bin_end": -0.3,
            "bin_start": -0.4,
            "count": 0
           },
           {
            "bin_end": -0.19999999999999996,
            "bin_start": -0.3,
            "count": 0
           },
           {
            "bin_end": -0.09999999999999998,
            "bin_start": -0.19999999999999996,
            "count": 0
           },
           {
            "bin_end": 0,
            "bin_start": -0.09999999999999998,
            "count": 0
           },
           {
            "bin_end": 0.10000000000000009,
            "bin_start": 0,
            "count": 5
           },
           {
            "bin_end": 0.20000000000000007,
            "bin_start": 0.10000000000000009,
            "count": 0
           },
           {
            "bin_end": 0.30000000000000004,
            "bin_start": 0.20000000000000007,
            "count": 0
           },
           {
            "bin_end": 0.4,
            "bin_start": 0.30000000000000004,
            "count": 0
           },
           {
            "bin_end": 0.5,
            "bin_start": 0.4,
            "count": 0
           }
          ],
          "max": "0",
          "min": "0",
          "nan_count": 0,
          "unique_count": 1
         }
        },
        {
         "dtype": "int64",
         "name": "'Dangerous Permission: FACTORY_TEST'",
         "stats": {
          "histogram": [
           {
            "bin_end": -0.4,
            "bin_start": -0.5,
            "count": 0
           },
           {
            "bin_end": -0.3,
            "bin_start": -0.4,
            "count": 0
           },
           {
            "bin_end": -0.19999999999999996,
            "bin_start": -0.3,
            "count": 0
           },
           {
            "bin_end": -0.09999999999999998,
            "bin_start": -0.19999999999999996,
            "count": 0
           },
           {
            "bin_end": 0,
            "bin_start": -0.09999999999999998,
            "count": 0
           },
           {
            "bin_end": 0.10000000000000009,
            "bin_start": 0,
            "count": 5
           },
           {
            "bin_end": 0.20000000000000007,
            "bin_start": 0.10000000000000009,
            "count": 0
           },
           {
            "bin_end": 0.30000000000000004,
            "bin_start": 0.20000000000000007,
            "count": 0
           },
           {
            "bin_end": 0.4,
            "bin_start": 0.30000000000000004,
            "count": 0
           },
           {
            "bin_end": 0.5,
            "bin_start": 0.4,
            "count": 0
           }
          ],
          "max": "0",
          "min": "0",
          "nan_count": 0,
          "unique_count": 1
         }
        },
        {
         "dtype": "int64",
         "name": "'Dangerous Permission: INSTALL_PACKAGES'",
         "stats": {
          "histogram": [
           {
            "bin_end": -0.4,
            "bin_start": -0.5,
            "count": 0
           },
           {
            "bin_end": -0.3,
            "bin_start": -0.4,
            "count": 0
           },
           {
            "bin_end": -0.19999999999999996,
            "bin_start": -0.3,
            "count": 0
           },
           {
            "bin_end": -0.09999999999999998,
            "bin_start": -0.19999999999999996,
            "count": 0
           },
           {
            "bin_end": 0,
            "bin_start": -0.09999999999999998,
            "count": 0
           },
           {
            "bin_end": 0.10000000000000009,
            "bin_start": 0,
            "count": 5
           },
           {
            "bin_end": 0.20000000000000007,
            "bin_start": 0.10000000000000009,
            "count": 0
           },
           {
            "bin_end": 0.30000000000000004,
            "bin_start": 0.20000000000000007,
            "count": 0
           },
           {
            "bin_end": 0.4,
            "bin_start": 0.30000000000000004,
            "count": 0
           },
           {
            "bin_end": 0.5,
            "bin_start": 0.4,
            "count": 0
           }
          ],
          "max": "0",
          "min": "0",
          "nan_count": 0,
          "unique_count": 1
         }
        },
        {
         "dtype": "int64",
         "name": "'Dangerous Permission: INJECT_EVENTS'",
         "stats": {
          "histogram": [
           {
            "bin_end": -0.4,
            "bin_start": -0.5,
            "count": 0
           },
           {
            "bin_end": -0.3,
            "bin_start": -0.4,
            "count": 0
           },
           {
            "bin_end": -0.19999999999999996,
            "bin_start": -0.3,
            "count": 0
           },
           {
            "bin_end": -0.09999999999999998,
            "bin_start": -0.19999999999999996,
            "count": 0
           },
           {
            "bin_end": 0,
            "bin_start": -0.09999999999999998,
            "count": 0
           },
           {
            "bin_end": 0.10000000000000009,
            "bin_start": 0,
            "count": 5
           },
           {
            "bin_end": 0.20000000000000007,
            "bin_start": 0.10000000000000009,
            "count": 0
           },
           {
            "bin_end": 0.30000000000000004,
            "bin_start": 0.20000000000000007,
            "count": 0
           },
           {
            "bin_end": 0.4,
            "bin_start": 0.30000000000000004,
            "count": 0
           },
           {
            "bin_end": 0.5,
            "bin_start": 0.4,
            "count": 0
           }
          ],
          "max": "0",
          "min": "0",
          "nan_count": 0,
          "unique_count": 1
         }
        },
        {
         "dtype": "int64",
         "name": "'Dangerous Permission: INTERNAL_SYSTEM_WINDOW'",
         "stats": {
          "histogram": [
           {
            "bin_end": -0.4,
            "bin_start": -0.5,
            "count": 0
           },
           {
            "bin_end": -0.3,
            "bin_start": -0.4,
            "count": 0
           },
           {
            "bin_end": -0.19999999999999996,
            "bin_start": -0.3,
            "count": 0
           },
           {
            "bin_end": -0.09999999999999998,
            "bin_start": -0.19999999999999996,
            "count": 0
           },
           {
            "bin_end": 0,
            "bin_start": -0.09999999999999998,
            "count": 0
           },
           {
            "bin_end": 0.10000000000000009,
            "bin_start": 0,
            "count": 5
           },
           {
            "bin_end": 0.20000000000000007,
            "bin_start": 0.10000000000000009,
            "count": 0
           },
           {
            "bin_end": 0.30000000000000004,
            "bin_start": 0.20000000000000007,
            "count": 0
           },
           {
            "bin_end": 0.4,
            "bin_start": 0.30000000000000004,
            "count": 0
           },
           {
            "bin_end": 0.5,
            "bin_start": 0.4,
            "count": 0
           }
          ],
          "max": "0",
          "min": "0",
          "nan_count": 0,
          "unique_count": 1
         }
        },
        {
         "dtype": "int64",
         "name": "'Dangerous Permission: KILL_BACKGROUND_PROCESSES'",
         "stats": {
          "histogram": [
           {
            "bin_end": -0.4,
            "bin_start": -0.5,
            "count": 0
           },
           {
            "bin_end": -0.3,
            "bin_start": -0.4,
            "count": 0
           },
           {
            "bin_end": -0.19999999999999996,
            "bin_start": -0.3,
            "count": 0
           },
           {
            "bin_end": -0.09999999999999998,
            "bin_start": -0.19999999999999996,
            "count": 0
           },
           {
            "bin_end": 0,
            "bin_start": -0.09999999999999998,
            "count": 0
           },
           {
            "bin_end": 0.10000000000000009,
            "bin_start": 0,
            "count": 5
           },
           {
            "bin_end": 0.20000000000000007,
            "bin_start": 0.10000000000000009,
            "count": 0
           },
           {
            "bin_end": 0.30000000000000004,
            "bin_start": 0.20000000000000007,
            "count": 0
           },
           {
            "bin_end": 0.4,
            "bin_start": 0.30000000000000004,
            "count": 0
           },
           {
            "bin_end": 0.5,
            "bin_start": 0.4,
            "count": 0
           }
          ],
          "max": "0",
          "min": "0",
          "nan_count": 0,
          "unique_count": 1
         }
        },
        {
         "dtype": "int64",
         "name": "'Dangerous Permission: MASTER_CLEAR'",
         "stats": {
          "histogram": [
           {
            "bin_end": -0.4,
            "bin_start": -0.5,
            "count": 0
           },
           {
            "bin_end": -0.3,
            "bin_start": -0.4,
            "count": 0
           },
           {
            "bin_end": -0.19999999999999996,
            "bin_start": -0.3,
            "count": 0
           },
           {
            "bin_end": -0.09999999999999998,
            "bin_start": -0.19999999999999996,
            "count": 0
           },
           {
            "bin_end": 0,
            "bin_start": -0.09999999999999998,
            "count": 0
           },
           {
            "bin_end": 0.10000000000000009,
            "bin_start": 0,
            "count": 5
           },
           {
            "bin_end": 0.20000000000000007,
            "bin_start": 0.10000000000000009,
            "count": 0
           },
           {
            "bin_end": 0.30000000000000004,
            "bin_start": 0.20000000000000007,
            "count": 0
           },
           {
            "bin_end": 0.4,
            "bin_start": 0.30000000000000004,
            "count": 0
           },
           {
            "bin_end": 0.5,
            "bin_start": 0.4,
            "count": 0
           }
          ],
          "max": "0",
          "min": "0",
          "nan_count": 0,
          "unique_count": 1
         }
        },
        {
         "dtype": "int64",
         "name": "'Dangerous Permission: MODIFY_PHONE_STATE'",
         "stats": {
          "histogram": [
           {
            "bin_end": -0.4,
            "bin_start": -0.5,
            "count": 0
           },
           {
            "bin_end": -0.3,
            "bin_start": -0.4,
            "count": 0
           },
           {
            "bin_end": -0.19999999999999996,
            "bin_start": -0.3,
            "count": 0
           },
           {
            "bin_end": -0.09999999999999998,
            "bin_start": -0.19999999999999996,
            "count": 0
           },
           {
            "bin_end": 0,
            "bin_start": -0.09999999999999998,
            "count": 0
           },
           {
            "bin_end": 0.10000000000000009,
            "bin_start": 0,
            "count": 5
           },
           {
            "bin_end": 0.20000000000000007,
            "bin_start": 0.10000000000000009,
            "count": 0
           },
           {
            "bin_end": 0.30000000000000004,
            "bin_start": 0.20000000000000007,
            "count": 0
           },
           {
            "bin_end": 0.4,
            "bin_start": 0.30000000000000004,
            "count": 0
           },
           {
            "bin_end": 0.5,
            "bin_start": 0.4,
            "count": 0
           }
          ],
          "max": "0",
          "min": "0",
          "nan_count": 0,
          "unique_count": 1
         }
        },
        {
         "dtype": "int64",
         "name": "'Dangerous Permission: MOUNT_FORMAT_FILESYSTEM'",
         "stats": {
          "histogram": [
           {
            "bin_end": -0.4,
            "bin_start": -0.5,
            "count": 0
           },
           {
            "bin_end": -0.3,
            "bin_start": -0.4,
            "count": 0
           },
           {
            "bin_end": -0.19999999999999996,
            "bin_start": -0.3,
            "count": 0
           },
           {
            "bin_end": -0.09999999999999998,
            "bin_start": -0.19999999999999996,
            "count": 0
           },
           {
            "bin_end": 0,
            "bin_start": -0.09999999999999998,
            "count": 0
           },
           {
            "bin_end": 0.10000000000000009,
            "bin_start": 0,
            "count": 5
           },
           {
            "bin_end": 0.20000000000000007,
            "bin_start": 0.10000000000000009,
            "count": 0
           },
           {
            "bin_end": 0.30000000000000004,
            "bin_start": 0.20000000000000007,
            "count": 0
           },
           {
            "bin_end": 0.4,
            "bin_start": 0.30000000000000004,
            "count": 0
           },
           {
            "bin_end": 0.5,
            "bin_start": 0.4,
            "count": 0
           }
          ],
          "max": "0",
          "min": "0",
          "nan_count": 0,
          "unique_count": 1
         }
        },
        {
         "dtype": "int64",
         "name": "'Dangerous Permission: MOUNT_UNMOUNT_FILESYSTEM'",
         "stats": {
          "histogram": [
           {
            "bin_end": -0.4,
            "bin_start": -0.5,
            "count": 0
           },
           {
            "bin_end": -0.3,
            "bin_start": -0.4,
            "count": 0
           },
           {
            "bin_end": -0.19999999999999996,
            "bin_start": -0.3,
            "count": 0
           },
           {
            "bin_end": -0.09999999999999998,
            "bin_start": -0.19999999999999996,
            "count": 0
           },
           {
            "bin_end": 0,
            "bin_start": -0.09999999999999998,
            "count": 0
           },
           {
            "bin_end": 0.10000000000000009,
            "bin_start": 0,
            "count": 5
           },
           {
            "bin_end": 0.20000000000000007,
            "bin_start": 0.10000000000000009,
            "count": 0
           },
           {
            "bin_end": 0.30000000000000004,
            "bin_start": 0.20000000000000007,
            "count": 0
           },
           {
            "bin_end": 0.4,
            "bin_start": 0.30000000000000004,
            "count": 0
           },
           {
            "bin_end": 0.5,
            "bin_start": 0.4,
            "count": 0
           }
          ],
          "max": "0",
          "min": "0",
          "nan_count": 0,
          "unique_count": 1
         }
        },
        {
         "dtype": "int64",
         "name": "'Dangerous Permission: PROCESS_OUTGOING_CALLS'",
         "stats": {
          "histogram": [
           {
            "bin_end": -0.4,
            "bin_start": -0.5,
            "count": 0
           },
           {
            "bin_end": -0.3,
            "bin_start": -0.4,
            "count": 0
           },
           {
            "bin_end": -0.19999999999999996,
            "bin_start": -0.3,
            "count": 0
           },
           {
            "bin_end": -0.09999999999999998,
            "bin_start": -0.19999999999999996,
            "count": 0
           },
           {
            "bin_end": 0,
            "bin_start": -0.09999999999999998,
            "count": 0
           },
           {
            "bin_end": 0.10000000000000009,
            "bin_start": 0,
            "count": 5
           },
           {
            "bin_end": 0.20000000000000007,
            "bin_start": 0.10000000000000009,
            "count": 0
           },
           {
            "bin_end": 0.30000000000000004,
            "bin_start": 0.20000000000000007,
            "count": 0
           },
           {
            "bin_end": 0.4,
            "bin_start": 0.30000000000000004,
            "count": 0
           },
           {
            "bin_end": 0.5,
            "bin_start": 0.4,
            "count": 0
           }
          ],
          "max": "0",
          "min": "0",
          "nan_count": 0,
          "unique_count": 1
         }
        },
        {
         "dtype": "int64",
         "name": "'Dangerous Permission: READ_LOGS'",
         "stats": {
          "histogram": [
           {
            "bin_end": -0.4,
            "bin_start": -0.5,
            "count": 0
           },
           {
            "bin_end": -0.3,
            "bin_start": -0.4,
            "count": 0
           },
           {
            "bin_end": -0.19999999999999996,
            "bin_start": -0.3,
            "count": 0
           },
           {
            "bin_end": -0.09999999999999998,
            "bin_start": -0.19999999999999996,
            "count": 0
           },
           {
            "bin_end": 0,
            "bin_start": -0.09999999999999998,
            "count": 0
           },
           {
            "bin_end": 0.10000000000000009,
            "bin_start": 0,
            "count": 5
           },
           {
            "bin_end": 0.20000000000000007,
            "bin_start": 0.10000000000000009,
            "count": 0
           },
           {
            "bin_end": 0.30000000000000004,
            "bin_start": 0.20000000000000007,
            "count": 0
           },
           {
            "bin_end": 0.4,
            "bin_start": 0.30000000000000004,
            "count": 0
           },
           {
            "bin_end": 0.5,
            "bin_start": 0.4,
            "count": 0
           }
          ],
          "max": "0",
          "min": "0",
          "nan_count": 0,
          "unique_count": 1
         }
        },
        {
         "dtype": "int64",
         "name": "'Dangerous Permission: REBOOT'",
         "stats": {
          "histogram": [
           {
            "bin_end": -0.4,
            "bin_start": -0.5,
            "count": 0
           },
           {
            "bin_end": -0.3,
            "bin_start": -0.4,
            "count": 0
           },
           {
            "bin_end": -0.19999999999999996,
            "bin_start": -0.3,
            "count": 0
           },
           {
            "bin_end": -0.09999999999999998,
            "bin_start": -0.19999999999999996,
            "count": 0
           },
           {
            "bin_end": 0,
            "bin_start": -0.09999999999999998,
            "count": 0
           },
           {
            "bin_end": 0.10000000000000009,
            "bin_start": 0,
            "count": 5
           },
           {
            "bin_end": 0.20000000000000007,
            "bin_start": 0.10000000000000009,
            "count": 0
           },
           {
            "bin_end": 0.30000000000000004,
            "bin_start": 0.20000000000000007,
            "count": 0
           },
           {
            "bin_end": 0.4,
            "bin_start": 0.30000000000000004,
            "count": 0
           },
           {
            "bin_end": 0.5,
            "bin_start": 0.4,
            "count": 0
           }
          ],
          "max": "0",
          "min": "0",
          "nan_count": 0,
          "unique_count": 1
         }
        },
        {
         "dtype": "int64",
         "name": "'Dangerous Permission: RECEIVE_BOOT_COMPLETED'",
         "stats": {
          "histogram": [
           {
            "bin_end": 0.1,
            "bin_start": 0,
            "count": 4
           },
           {
            "bin_end": 0.2,
            "bin_start": 0.1,
            "count": 0
           },
           {
            "bin_end": 0.30000000000000004,
            "bin_start": 0.2,
            "count": 0
           },
           {
            "bin_end": 0.4,
            "bin_start": 0.30000000000000004,
            "count": 0
           },
           {
            "bin_end": 0.5,
            "bin_start": 0.4,
            "count": 0
           },
           {
            "bin_end": 0.6000000000000001,
            "bin_start": 0.5,
            "count": 0
           },
           {
            "bin_end": 0.7000000000000001,
            "bin_start": 0.6000000000000001,
            "count": 0
           },
           {
            "bin_end": 0.8,
            "bin_start": 0.7000000000000001,
            "count": 0
           },
           {
            "bin_end": 0.9,
            "bin_start": 0.8,
            "count": 0
           },
           {
            "bin_end": 1,
            "bin_start": 0.9,
            "count": 1
           }
          ],
          "max": "1",
          "min": "0",
          "nan_count": 0,
          "unique_count": 2
         }
        },
        {
         "dtype": "int64",
         "name": "'Dangerous Permission: STATUS_BAR'",
         "stats": {
          "histogram": [
           {
            "bin_end": -0.4,
            "bin_start": -0.5,
            "count": 0
           },
           {
            "bin_end": -0.3,
            "bin_start": -0.4,
            "count": 0
           },
           {
            "bin_end": -0.19999999999999996,
            "bin_start": -0.3,
            "count": 0
           },
           {
            "bin_end": -0.09999999999999998,
            "bin_start": -0.19999999999999996,
            "count": 0
           },
           {
            "bin_end": 0,
            "bin_start": -0.09999999999999998,
            "count": 0
           },
           {
            "bin_end": 0.10000000000000009,
            "bin_start": 0,
            "count": 5
           },
           {
            "bin_end": 0.20000000000000007,
            "bin_start": 0.10000000000000009,
            "count": 0
           },
           {
            "bin_end": 0.30000000000000004,
            "bin_start": 0.20000000000000007,
            "count": 0
           },
           {
            "bin_end": 0.4,
            "bin_start": 0.30000000000000004,
            "count": 0
           },
           {
            "bin_end": 0.5,
            "bin_start": 0.4,
            "count": 0
           }
          ],
          "max": "0",
          "min": "0",
          "nan_count": 0,
          "unique_count": 1
         }
        },
        {
         "dtype": "int64",
         "name": "'Dangerous Permission: WRITE_EXTERNAL_STORAGE'",
         "stats": {
          "histogram": [
           {
            "bin_end": 0.1,
            "bin_start": 0,
            "count": 4
           },
           {
            "bin_end": 0.2,
            "bin_start": 0.1,
            "count": 0
           },
           {
            "bin_end": 0.30000000000000004,
            "bin_start": 0.2,
            "count": 0
           },
           {
            "bin_end": 0.4,
            "bin_start": 0.30000000000000004,
            "count": 0
           },
           {
            "bin_end": 0.5,
            "bin_start": 0.4,
            "count": 0
           },
           {
            "bin_end": 0.6000000000000001,
            "bin_start": 0.5,
            "count": 0
           },
           {
            "bin_end": 0.7000000000000001,
            "bin_start": 0.6000000000000001,
            "count": 0
           },
           {
            "bin_end": 0.8,
            "bin_start": 0.7000000000000001,
            "count": 0
           },
           {
            "bin_end": 0.9,
            "bin_start": 0.8,
            "count": 0
           },
           {
            "bin_end": 1,
            "bin_start": 0.9,
            "count": 1
           }
          ],
          "max": "1",
          "min": "0",
          "nan_count": 0,
          "unique_count": 2
         }
        },
        {
         "dtype": "int64",
         "name": "'Dangerous Permission: WRITE_HISTORY_BOOKMARKS'",
         "stats": {
          "histogram": [
           {
            "bin_end": -0.4,
            "bin_start": -0.5,
            "count": 0
           },
           {
            "bin_end": -0.3,
            "bin_start": -0.4,
            "count": 0
           },
           {
            "bin_end": -0.19999999999999996,
            "bin_start": -0.3,
            "count": 0
           },
           {
            "bin_end": -0.09999999999999998,
            "bin_start": -0.19999999999999996,
            "count": 0
           },
           {
            "bin_end": 0,
            "bin_start": -0.09999999999999998,
            "count": 0
           },
           {
            "bin_end": 0.10000000000000009,
            "bin_start": 0,
            "count": 5
           },
           {
            "bin_end": 0.20000000000000007,
            "bin_start": 0.10000000000000009,
            "count": 0
           },
           {
            "bin_end": 0.30000000000000004,
            "bin_start": 0.20000000000000007,
            "count": 0
           },
           {
            "bin_end": 0.4,
            "bin_start": 0.30000000000000004,
            "count": 0
           },
           {
            "bin_end": 0.5,
            "bin_start": 0.4,
            "count": 0
           }
          ],
          "max": "0",
          "min": "0",
          "nan_count": 0,
          "unique_count": 1
         }
        },
        {
         "dtype": "int64",
         "name": "'Dangerous Permission: WRITE_PROFILE'",
         "stats": {
          "histogram": [
           {
            "bin_end": -0.4,
            "bin_start": -0.5,
            "count": 0
           },
           {
            "bin_end": -0.3,
            "bin_start": -0.4,
            "count": 0
           },
           {
            "bin_end": -0.19999999999999996,
            "bin_start": -0.3,
            "count": 0
           },
           {
            "bin_end": -0.09999999999999998,
            "bin_start": -0.19999999999999996,
            "count": 0
           },
           {
            "bin_end": 0,
            "bin_start": -0.09999999999999998,
            "count": 0
           },
           {
            "bin_end": 0.10000000000000009,
            "bin_start": 0,
            "count": 5
           },
           {
            "bin_end": 0.20000000000000007,
            "bin_start": 0.10000000000000009,
            "count": 0
           },
           {
            "bin_end": 0.30000000000000004,
            "bin_start": 0.20000000000000007,
            "count": 0
           },
           {
            "bin_end": 0.4,
            "bin_start": 0.30000000000000004,
            "count": 0
           },
           {
            "bin_end": 0.5,
            "bin_start": 0.4,
            "count": 0
           }
          ],
          "max": "0",
          "min": "0",
          "nan_count": 0,
          "unique_count": 1
         }
        },
        {
         "dtype": "int64",
         "name": "'Dangerous Permission: WRITE_SECURE_SETTINGS'",
         "stats": {
          "histogram": [
           {
            "bin_end": -0.4,
            "bin_start": -0.5,
            "count": 0
           },
           {
            "bin_end": -0.3,
            "bin_start": -0.4,
            "count": 0
           },
           {
            "bin_end": -0.19999999999999996,
            "bin_start": -0.3,
            "count": 0
           },
           {
            "bin_end": -0.09999999999999998,
            "bin_start": -0.19999999999999996,
            "count": 0
           },
           {
            "bin_end": 0,
            "bin_start": -0.09999999999999998,
            "count": 0
           },
           {
            "bin_end": 0.10000000000000009,
            "bin_start": 0,
            "count": 5
           },
           {
            "bin_end": 0.20000000000000007,
            "bin_start": 0.10000000000000009,
            "count": 0
           },
           {
            "bin_end": 0.30000000000000004,
            "bin_start": 0.20000000000000007,
            "count": 0
           },
           {
            "bin_end": 0.4,
            "bin_start": 0.30000000000000004,
            "count": 0
           },
           {
            "bin_end": 0.5,
            "bin_start": 0.4,
            "count": 0
           }
          ],
          "max": "0",
          "min": "0",
          "nan_count": 0,
          "unique_count": 1
         }
        },
        {
         "dtype": "int64",
         "name": "'Harmless Permission: ACCESS_SURFACE_FLINGER'",
         "stats": {
          "histogram": [
           {
            "bin_end": -0.4,
            "bin_start": -0.5,
            "count": 0
           },
           {
            "bin_end": -0.3,
            "bin_start": -0.4,
            "count": 0
           },
           {
            "bin_end": -0.19999999999999996,
            "bin_start": -0.3,
            "count": 0
           },
           {
            "bin_end": -0.09999999999999998,
            "bin_start": -0.19999999999999996,
            "count": 0
           },
           {
            "bin_end": 0,
            "bin_start": -0.09999999999999998,
            "count": 0
           },
           {
            "bin_end": 0.10000000000000009,
            "bin_start": 0,
            "count": 5
           },
           {
            "bin_end": 0.20000000000000007,
            "bin_start": 0.10000000000000009,
            "count": 0
           },
           {
            "bin_end": 0.30000000000000004,
            "bin_start": 0.20000000000000007,
            "count": 0
           },
           {
            "bin_end": 0.4,
            "bin_start": 0.30000000000000004,
            "count": 0
           },
           {
            "bin_end": 0.5,
            "bin_start": 0.4,
            "count": 0
           }
          ],
          "max": "0",
          "min": "0",
          "nan_count": 0,
          "unique_count": 1
         }
        },
        {
         "dtype": "int64",
         "name": "'Harmless Permission: ACCOUNT_MANAGER'",
         "stats": {
          "histogram": [
           {
            "bin_end": -0.4,
            "bin_start": -0.5,
            "count": 0
           },
           {
            "bin_end": -0.3,
            "bin_start": -0.4,
            "count": 0
           },
           {
            "bin_end": -0.19999999999999996,
            "bin_start": -0.3,
            "count": 0
           },
           {
            "bin_end": -0.09999999999999998,
            "bin_start": -0.19999999999999996,
            "count": 0
           },
           {
            "bin_end": 0,
            "bin_start": -0.09999999999999998,
            "count": 0
           },
           {
            "bin_end": 0.10000000000000009,
            "bin_start": 0,
            "count": 5
           },
           {
            "bin_end": 0.20000000000000007,
            "bin_start": 0.10000000000000009,
            "count": 0
           },
           {
            "bin_end": 0.30000000000000004,
            "bin_start": 0.20000000000000007,
            "count": 0
           },
           {
            "bin_end": 0.4,
            "bin_start": 0.30000000000000004,
            "count": 0
           },
           {
            "bin_end": 0.5,
            "bin_start": 0.4,
            "count": 0
           }
          ],
          "max": "0",
          "min": "0",
          "nan_count": 0,
          "unique_count": 1
         }
        },
        {
         "dtype": "int64",
         "name": "'Harmless Permission: ADD_VOICEMAIL'",
         "stats": {
          "histogram": [
           {
            "bin_end": -0.4,
            "bin_start": -0.5,
            "count": 0
           },
           {
            "bin_end": -0.3,
            "bin_start": -0.4,
            "count": 0
           },
           {
            "bin_end": -0.19999999999999996,
            "bin_start": -0.3,
            "count": 0
           },
           {
            "bin_end": -0.09999999999999998,
            "bin_start": -0.19999999999999996,
            "count": 0
           },
           {
            "bin_end": 0,
            "bin_start": -0.09999999999999998,
            "count": 0
           },
           {
            "bin_end": 0.10000000000000009,
            "bin_start": 0,
            "count": 5
           },
           {
            "bin_end": 0.20000000000000007,
            "bin_start": 0.10000000000000009,
            "count": 0
           },
           {
            "bin_end": 0.30000000000000004,
            "bin_start": 0.20000000000000007,
            "count": 0
           },
           {
            "bin_end": 0.4,
            "bin_start": 0.30000000000000004,
            "count": 0
           },
           {
            "bin_end": 0.5,
            "bin_start": 0.4,
            "count": 0
           }
          ],
          "max": "0",
          "min": "0",
          "nan_count": 0,
          "unique_count": 1
         }
        },
        {
         "dtype": "int64",
         "name": "'Harmless Permission: CONTROL_LOCATION_UPDATES'",
         "stats": {
          "histogram": [
           {
            "bin_end": -0.4,
            "bin_start": -0.5,
            "count": 0
           },
           {
            "bin_end": -0.3,
            "bin_start": -0.4,
            "count": 0
           },
           {
            "bin_end": -0.19999999999999996,
            "bin_start": -0.3,
            "count": 0
           },
           {
            "bin_end": -0.09999999999999998,
            "bin_start": -0.19999999999999996,
            "count": 0
           },
           {
            "bin_end": 0,
            "bin_start": -0.09999999999999998,
            "count": 0
           },
           {
            "bin_end": 0.10000000000000009,
            "bin_start": 0,
            "count": 5
           },
           {
            "bin_end": 0.20000000000000007,
            "bin_start": 0.10000000000000009,
            "count": 0
           },
           {
            "bin_end": 0.30000000000000004,
            "bin_start": 0.20000000000000007,
            "count": 0
           },
           {
            "bin_end": 0.4,
            "bin_start": 0.30000000000000004,
            "count": 0
           },
           {
            "bin_end": 0.5,
            "bin_start": 0.4,
            "count": 0
           }
          ],
          "max": "0",
          "min": "0",
          "nan_count": 0,
          "unique_count": 1
         }
        },
        {
         "dtype": "int64",
         "name": "'Harmless Permission: DEVICE_POWER'",
         "stats": {
          "histogram": [
           {
            "bin_end": -0.4,
            "bin_start": -0.5,
            "count": 0
           },
           {
            "bin_end": -0.3,
            "bin_start": -0.4,
            "count": 0
           },
           {
            "bin_end": -0.19999999999999996,
            "bin_start": -0.3,
            "count": 0
           },
           {
            "bin_end": -0.09999999999999998,
            "bin_start": -0.19999999999999996,
            "count": 0
           },
           {
            "bin_end": 0,
            "bin_start": -0.09999999999999998,
            "count": 0
           },
           {
            "bin_end": 0.10000000000000009,
            "bin_start": 0,
            "count": 5
           },
           {
            "bin_end": 0.20000000000000007,
            "bin_start": 0.10000000000000009,
            "count": 0
           },
           {
            "bin_end": 0.30000000000000004,
            "bin_start": 0.20000000000000007,
            "count": 0
           },
           {
            "bin_end": 0.4,
            "bin_start": 0.30000000000000004,
            "count": 0
           },
           {
            "bin_end": 0.5,
            "bin_start": 0.4,
            "count": 0
           }
          ],
          "max": "0",
          "min": "0",
          "nan_count": 0,
          "unique_count": 1
         }
        },
        {
         "dtype": "int64",
         "name": "'Harmless Permission: EXPAND_STATUS_BAR'",
         "stats": {
          "histogram": [
           {
            "bin_end": -0.4,
            "bin_start": -0.5,
            "count": 0
           },
           {
            "bin_end": -0.3,
            "bin_start": -0.4,
            "count": 0
           },
           {
            "bin_end": -0.19999999999999996,
            "bin_start": -0.3,
            "count": 0
           },
           {
            "bin_end": -0.09999999999999998,
            "bin_start": -0.19999999999999996,
            "count": 0
           },
           {
            "bin_end": 0,
            "bin_start": -0.09999999999999998,
            "count": 0
           },
           {
            "bin_end": 0.10000000000000009,
            "bin_start": 0,
            "count": 5
           },
           {
            "bin_end": 0.20000000000000007,
            "bin_start": 0.10000000000000009,
            "count": 0
           },
           {
            "bin_end": 0.30000000000000004,
            "bin_start": 0.20000000000000007,
            "count": 0
           },
           {
            "bin_end": 0.4,
            "bin_start": 0.30000000000000004,
            "count": 0
           },
           {
            "bin_end": 0.5,
            "bin_start": 0.4,
            "count": 0
           }
          ],
          "max": "0",
          "min": "0",
          "nan_count": 0,
          "unique_count": 1
         }
        },
        {
         "dtype": "int64",
         "name": "'Harmless Permission: FLASHLIGHT'",
         "stats": {
          "histogram": [
           {
            "bin_end": -0.4,
            "bin_start": -0.5,
            "count": 0
           },
           {
            "bin_end": -0.3,
            "bin_start": -0.4,
            "count": 0
           },
           {
            "bin_end": -0.19999999999999996,
            "bin_start": -0.3,
            "count": 0
           },
           {
            "bin_end": -0.09999999999999998,
            "bin_start": -0.19999999999999996,
            "count": 0
           },
           {
            "bin_end": 0,
            "bin_start": -0.09999999999999998,
            "count": 0
           },
           {
            "bin_end": 0.10000000000000009,
            "bin_start": 0,
            "count": 5
           },
           {
            "bin_end": 0.20000000000000007,
            "bin_start": 0.10000000000000009,
            "count": 0
           },
           {
            "bin_end": 0.30000000000000004,
            "bin_start": 0.20000000000000007,
            "count": 0
           },
           {
            "bin_end": 0.4,
            "bin_start": 0.30000000000000004,
            "count": 0
           },
           {
            "bin_end": 0.5,
            "bin_start": 0.4,
            "count": 0
           }
          ],
          "max": "0",
          "min": "0",
          "nan_count": 0,
          "unique_count": 1
         }
        },
        {
         "dtype": "int64",
         "name": "'Harmless Permission: FORCE_BACK'",
         "stats": {
          "histogram": [
           {
            "bin_end": -0.4,
            "bin_start": -0.5,
            "count": 0
           },
           {
            "bin_end": -0.3,
            "bin_start": -0.4,
            "count": 0
           },
           {
            "bin_end": -0.19999999999999996,
            "bin_start": -0.3,
            "count": 0
           },
           {
            "bin_end": -0.09999999999999998,
            "bin_start": -0.19999999999999996,
            "count": 0
           },
           {
            "bin_end": 0,
            "bin_start": -0.09999999999999998,
            "count": 0
           },
           {
            "bin_end": 0.10000000000000009,
            "bin_start": 0,
            "count": 5
           },
           {
            "bin_end": 0.20000000000000007,
            "bin_start": 0.10000000000000009,
            "count": 0
           },
           {
            "bin_end": 0.30000000000000004,
            "bin_start": 0.20000000000000007,
            "count": 0
           },
           {
            "bin_end": 0.4,
            "bin_start": 0.30000000000000004,
            "count": 0
           },
           {
            "bin_end": 0.5,
            "bin_start": 0.4,
            "count": 0
           }
          ],
          "max": "0",
          "min": "0",
          "nan_count": 0,
          "unique_count": 1
         }
        },
        {
         "dtype": "int64",
         "name": "'Harmless Permission: GET_PACKAGE_SIZE'",
         "stats": {
          "histogram": [
           {
            "bin_end": -0.4,
            "bin_start": -0.5,
            "count": 0
           },
           {
            "bin_end": -0.3,
            "bin_start": -0.4,
            "count": 0
           },
           {
            "bin_end": -0.19999999999999996,
            "bin_start": -0.3,
            "count": 0
           },
           {
            "bin_end": -0.09999999999999998,
            "bin_start": -0.19999999999999996,
            "count": 0
           },
           {
            "bin_end": 0,
            "bin_start": -0.09999999999999998,
            "count": 0
           },
           {
            "bin_end": 0.10000000000000009,
            "bin_start": 0,
            "count": 5
           },
           {
            "bin_end": 0.20000000000000007,
            "bin_start": 0.10000000000000009,
            "count": 0
           },
           {
            "bin_end": 0.30000000000000004,
            "bin_start": 0.20000000000000007,
            "count": 0
           },
           {
            "bin_end": 0.4,
            "bin_start": 0.30000000000000004,
            "count": 0
           },
           {
            "bin_end": 0.5,
            "bin_start": 0.4,
            "count": 0
           }
          ],
          "max": "0",
          "min": "0",
          "nan_count": 0,
          "unique_count": 1
         }
        },
        {
         "dtype": "int64",
         "name": "'Harmless Permission: GET_TOP_ACTIVITY_INFO'",
         "stats": {
          "histogram": [
           {
            "bin_end": -0.4,
            "bin_start": -0.5,
            "count": 0
           },
           {
            "bin_end": -0.3,
            "bin_start": -0.4,
            "count": 0
           },
           {
            "bin_end": -0.19999999999999996,
            "bin_start": -0.3,
            "count": 0
           },
           {
            "bin_end": -0.09999999999999998,
            "bin_start": -0.19999999999999996,
            "count": 0
           },
           {
            "bin_end": 0,
            "bin_start": -0.09999999999999998,
            "count": 0
           },
           {
            "bin_end": 0.10000000000000009,
            "bin_start": 0,
            "count": 5
           },
           {
            "bin_end": 0.20000000000000007,
            "bin_start": 0.10000000000000009,
            "count": 0
           },
           {
            "bin_end": 0.30000000000000004,
            "bin_start": 0.20000000000000007,
            "count": 0
           },
           {
            "bin_end": 0.4,
            "bin_start": 0.30000000000000004,
            "count": 0
           },
           {
            "bin_end": 0.5,
            "bin_start": 0.4,
            "count": 0
           }
          ],
          "max": "0",
          "min": "0",
          "nan_count": 0,
          "unique_count": 1
         }
        },
        {
         "dtype": "int64",
         "name": "'Harmless Permission: GLOBAL_SEARCH'",
         "stats": {
          "histogram": [
           {
            "bin_end": -0.4,
            "bin_start": -0.5,
            "count": 0
           },
           {
            "bin_end": -0.3,
            "bin_start": -0.4,
            "count": 0
           },
           {
            "bin_end": -0.19999999999999996,
            "bin_start": -0.3,
            "count": 0
           },
           {
            "bin_end": -0.09999999999999998,
            "bin_start": -0.19999999999999996,
            "count": 0
           },
           {
            "bin_end": 0,
            "bin_start": -0.09999999999999998,
            "count": 0
           },
           {
            "bin_end": 0.10000000000000009,
            "bin_start": 0,
            "count": 5
           },
           {
            "bin_end": 0.20000000000000007,
            "bin_start": 0.10000000000000009,
            "count": 0
           },
           {
            "bin_end": 0.30000000000000004,
            "bin_start": 0.20000000000000007,
            "count": 0
           },
           {
            "bin_end": 0.4,
            "bin_start": 0.30000000000000004,
            "count": 0
           },
           {
            "bin_end": 0.5,
            "bin_start": 0.4,
            "count": 0
           }
          ],
          "max": "0",
          "min": "0",
          "nan_count": 0,
          "unique_count": 1
         }
        },
        {
         "dtype": "int64",
         "name": "'Harmless Permission: INSTALL_SHORTCUT'",
         "stats": {
          "histogram": [
           {
            "bin_end": 0.1,
            "bin_start": 0,
            "count": 4
           },
           {
            "bin_end": 0.2,
            "bin_start": 0.1,
            "count": 0
           },
           {
            "bin_end": 0.30000000000000004,
            "bin_start": 0.2,
            "count": 0
           },
           {
            "bin_end": 0.4,
            "bin_start": 0.30000000000000004,
            "count": 0
           },
           {
            "bin_end": 0.5,
            "bin_start": 0.4,
            "count": 0
           },
           {
            "bin_end": 0.6000000000000001,
            "bin_start": 0.5,
            "count": 0
           },
           {
            "bin_end": 0.7000000000000001,
            "bin_start": 0.6000000000000001,
            "count": 0
           },
           {
            "bin_end": 0.8,
            "bin_start": 0.7000000000000001,
            "count": 0
           },
           {
            "bin_end": 0.9,
            "bin_start": 0.8,
            "count": 0
           },
           {
            "bin_end": 1,
            "bin_start": 0.9,
            "count": 1
           }
          ],
          "max": "1",
          "min": "0",
          "nan_count": 0,
          "unique_count": 2
         }
        },
        {
         "dtype": "int64",
         "name": "'Harmless Permission: MANAGE_DOCUMENTS'",
         "stats": {
          "histogram": [
           {
            "bin_end": -0.4,
            "bin_start": -0.5,
            "count": 0
           },
           {
            "bin_end": -0.3,
            "bin_start": -0.4,
            "count": 0
           },
           {
            "bin_end": -0.19999999999999996,
            "bin_start": -0.3,
            "count": 0
           },
           {
            "bin_end": -0.09999999999999998,
            "bin_start": -0.19999999999999996,
            "count": 0
           },
           {
            "bin_end": 0,
            "bin_start": -0.09999999999999998,
            "count": 0
           },
           {
            "bin_end": 0.10000000000000009,
            "bin_start": 0,
            "count": 5
           },
           {
            "bin_end": 0.20000000000000007,
            "bin_start": 0.10000000000000009,
            "count": 0
           },
           {
            "bin_end": 0.30000000000000004,
            "bin_start": 0.20000000000000007,
            "count": 0
           },
           {
            "bin_end": 0.4,
            "bin_start": 0.30000000000000004,
            "count": 0
           },
           {
            "bin_end": 0.5,
            "bin_start": 0.4,
            "count": 0
           }
          ],
          "max": "0",
          "min": "0",
          "nan_count": 0,
          "unique_count": 1
         }
        },
        {
         "dtype": "int64",
         "name": "'Harmless Permission: MEDIA_CONTENT_CONTROL'",
         "stats": {
          "histogram": [
           {
            "bin_end": -0.4,
            "bin_start": -0.5,
            "count": 0
           },
           {
            "bin_end": -0.3,
            "bin_start": -0.4,
            "count": 0
           },
           {
            "bin_end": -0.19999999999999996,
            "bin_start": -0.3,
            "count": 0
           },
           {
            "bin_end": -0.09999999999999998,
            "bin_start": -0.19999999999999996,
            "count": 0
           },
           {
            "bin_end": 0,
            "bin_start": -0.09999999999999998,
            "count": 0
           },
           {
            "bin_end": 0.10000000000000009,
            "bin_start": 0,
            "count": 5
           },
           {
            "bin_end": 0.20000000000000007,
            "bin_start": 0.10000000000000009,
            "count": 0
           },
           {
            "bin_end": 0.30000000000000004,
            "bin_start": 0.20000000000000007,
            "count": 0
           },
           {
            "bin_end": 0.4,
            "bin_start": 0.30000000000000004,
            "count": 0
           },
           {
            "bin_end": 0.5,
            "bin_start": 0.4,
            "count": 0
           }
          ],
          "max": "0",
          "min": "0",
          "nan_count": 0,
          "unique_count": 1
         }
        },
        {
         "dtype": "int64",
         "name": "'Harmless Permission: MODIFY_AUDIO_SETTINGS'",
         "stats": {
          "histogram": [
           {
            "bin_end": -0.4,
            "bin_start": -0.5,
            "count": 0
           },
           {
            "bin_end": -0.3,
            "bin_start": -0.4,
            "count": 0
           },
           {
            "bin_end": -0.19999999999999996,
            "bin_start": -0.3,
            "count": 0
           },
           {
            "bin_end": -0.09999999999999998,
            "bin_start": -0.19999999999999996,
            "count": 0
           },
           {
            "bin_end": 0,
            "bin_start": -0.09999999999999998,
            "count": 0
           },
           {
            "bin_end": 0.10000000000000009,
            "bin_start": 0,
            "count": 5
           },
           {
            "bin_end": 0.20000000000000007,
            "bin_start": 0.10000000000000009,
            "count": 0
           },
           {
            "bin_end": 0.30000000000000004,
            "bin_start": 0.20000000000000007,
            "count": 0
           },
           {
            "bin_end": 0.4,
            "bin_start": 0.30000000000000004,
            "count": 0
           },
           {
            "bin_end": 0.5,
            "bin_start": 0.4,
            "count": 0
           }
          ],
          "max": "0",
          "min": "0",
          "nan_count": 0,
          "unique_count": 1
         }
        },
        {
         "dtype": "int64",
         "name": "'Harmless Permission: READ_USER_DICTIONARY'",
         "stats": {
          "histogram": [
           {
            "bin_end": -0.4,
            "bin_start": -0.5,
            "count": 0
           },
           {
            "bin_end": -0.3,
            "bin_start": -0.4,
            "count": 0
           },
           {
            "bin_end": -0.19999999999999996,
            "bin_start": -0.3,
            "count": 0
           },
           {
            "bin_end": -0.09999999999999998,
            "bin_start": -0.19999999999999996,
            "count": 0
           },
           {
            "bin_end": 0,
            "bin_start": -0.09999999999999998,
            "count": 0
           },
           {
            "bin_end": 0.10000000000000009,
            "bin_start": 0,
            "count": 5
           },
           {
            "bin_end": 0.20000000000000007,
            "bin_start": 0.10000000000000009,
            "count": 0
           },
           {
            "bin_end": 0.30000000000000004,
            "bin_start": 0.20000000000000007,
            "count": 0
           },
           {
            "bin_end": 0.4,
            "bin_start": 0.30000000000000004,
            "count": 0
           },
           {
            "bin_end": 0.5,
            "bin_start": 0.4,
            "count": 0
           }
          ],
          "max": "0",
          "min": "0",
          "nan_count": 0,
          "unique_count": 1
         }
        },
        {
         "dtype": "int64",
         "name": "'Harmless Permission: REORDER_TASKS'",
         "stats": {
          "histogram": [
           {
            "bin_end": -0.4,
            "bin_start": -0.5,
            "count": 0
           },
           {
            "bin_end": -0.3,
            "bin_start": -0.4,
            "count": 0
           },
           {
            "bin_end": -0.19999999999999996,
            "bin_start": -0.3,
            "count": 0
           },
           {
            "bin_end": -0.09999999999999998,
            "bin_start": -0.19999999999999996,
            "count": 0
           },
           {
            "bin_end": 0,
            "bin_start": -0.09999999999999998,
            "count": 0
           },
           {
            "bin_end": 0.10000000000000009,
            "bin_start": 0,
            "count": 5
           },
           {
            "bin_end": 0.20000000000000007,
            "bin_start": 0.10000000000000009,
            "count": 0
           },
           {
            "bin_end": 0.30000000000000004,
            "bin_start": 0.20000000000000007,
            "count": 0
           },
           {
            "bin_end": 0.4,
            "bin_start": 0.30000000000000004,
            "count": 0
           },
           {
            "bin_end": 0.5,
            "bin_start": 0.4,
            "count": 0
           }
          ],
          "max": "0",
          "min": "0",
          "nan_count": 0,
          "unique_count": 1
         }
        },
        {
         "dtype": "int64",
         "name": "'Harmless Permission: SEND_RESPOND_VIA_MESSAGE'",
         "stats": {
          "histogram": [
           {
            "bin_end": -0.4,
            "bin_start": -0.5,
            "count": 0
           },
           {
            "bin_end": -0.3,
            "bin_start": -0.4,
            "count": 0
           },
           {
            "bin_end": -0.19999999999999996,
            "bin_start": -0.3,
            "count": 0
           },
           {
            "bin_end": -0.09999999999999998,
            "bin_start": -0.19999999999999996,
            "count": 0
           },
           {
            "bin_end": 0,
            "bin_start": -0.09999999999999998,
            "count": 0
           },
           {
            "bin_end": 0.10000000000000009,
            "bin_start": 0,
            "count": 5
           },
           {
            "bin_end": 0.20000000000000007,
            "bin_start": 0.10000000000000009,
            "count": 0
           },
           {
            "bin_end": 0.30000000000000004,
            "bin_start": 0.20000000000000007,
            "count": 0
           },
           {
            "bin_end": 0.4,
            "bin_start": 0.30000000000000004,
            "count": 0
           },
           {
            "bin_end": 0.5,
            "bin_start": 0.4,
            "count": 0
           }
          ],
          "max": "0",
          "min": "0",
          "nan_count": 0,
          "unique_count": 1
         }
        },
        {
         "dtype": "int64",
         "name": "'Harmless Permission: SET_ALARM'",
         "stats": {
          "histogram": [
           {
            "bin_end": -0.4,
            "bin_start": -0.5,
            "count": 0
           },
           {
            "bin_end": -0.3,
            "bin_start": -0.4,
            "count": 0
           },
           {
            "bin_end": -0.19999999999999996,
            "bin_start": -0.3,
            "count": 0
           },
           {
            "bin_end": -0.09999999999999998,
            "bin_start": -0.19999999999999996,
            "count": 0
           },
           {
            "bin_end": 0,
            "bin_start": -0.09999999999999998,
            "count": 0
           },
           {
            "bin_end": 0.10000000000000009,
            "bin_start": 0,
            "count": 5
           },
           {
            "bin_end": 0.20000000000000007,
            "bin_start": 0.10000000000000009,
            "count": 0
           },
           {
            "bin_end": 0.30000000000000004,
            "bin_start": 0.20000000000000007,
            "count": 0
           },
           {
            "bin_end": 0.4,
            "bin_start": 0.30000000000000004,
            "count": 0
           },
           {
            "bin_end": 0.5,
            "bin_start": 0.4,
            "count": 0
           }
          ],
          "max": "0",
          "min": "0",
          "nan_count": 0,
          "unique_count": 1
         }
        },
        {
         "dtype": "int64",
         "name": "'Harmless Permission: SET_ANIMATION_SCALE'",
         "stats": {
          "histogram": [
           {
            "bin_end": -0.4,
            "bin_start": -0.5,
            "count": 0
           },
           {
            "bin_end": -0.3,
            "bin_start": -0.4,
            "count": 0
           },
           {
            "bin_end": -0.19999999999999996,
            "bin_start": -0.3,
            "count": 0
           },
           {
            "bin_end": -0.09999999999999998,
            "bin_start": -0.19999999999999996,
            "count": 0
           },
           {
            "bin_end": 0,
            "bin_start": -0.09999999999999998,
            "count": 0
           },
           {
            "bin_end": 0.10000000000000009,
            "bin_start": 0,
            "count": 5
           },
           {
            "bin_end": 0.20000000000000007,
            "bin_start": 0.10000000000000009,
            "count": 0
           },
           {
            "bin_end": 0.30000000000000004,
            "bin_start": 0.20000000000000007,
            "count": 0
           },
           {
            "bin_end": 0.4,
            "bin_start": 0.30000000000000004,
            "count": 0
           },
           {
            "bin_end": 0.5,
            "bin_start": 0.4,
            "count": 0
           }
          ],
          "max": "0",
          "min": "0",
          "nan_count": 0,
          "unique_count": 1
         }
        },
        {
         "dtype": "int64",
         "name": "'Harmless Permission: SET_ORIENTATION'",
         "stats": {
          "histogram": [
           {
            "bin_end": -0.4,
            "bin_start": -0.5,
            "count": 0
           },
           {
            "bin_end": -0.3,
            "bin_start": -0.4,
            "count": 0
           },
           {
            "bin_end": -0.19999999999999996,
            "bin_start": -0.3,
            "count": 0
           },
           {
            "bin_end": -0.09999999999999998,
            "bin_start": -0.19999999999999996,
            "count": 0
           },
           {
            "bin_end": 0,
            "bin_start": -0.09999999999999998,
            "count": 0
           },
           {
            "bin_end": 0.10000000000000009,
            "bin_start": 0,
            "count": 5
           },
           {
            "bin_end": 0.20000000000000007,
            "bin_start": 0.10000000000000009,
            "count": 0
           },
           {
            "bin_end": 0.30000000000000004,
            "bin_start": 0.20000000000000007,
            "count": 0
           },
           {
            "bin_end": 0.4,
            "bin_start": 0.30000000000000004,
            "count": 0
           },
           {
            "bin_end": 0.5,
            "bin_start": 0.4,
            "count": 0
           }
          ],
          "max": "0",
          "min": "0",
          "nan_count": 0,
          "unique_count": 1
         }
        },
        {
         "dtype": "int64",
         "name": "'Harmless Permission: SET_POINTER_SPEED'",
         "stats": {
          "histogram": [
           {
            "bin_end": -0.4,
            "bin_start": -0.5,
            "count": 0
           },
           {
            "bin_end": -0.3,
            "bin_start": -0.4,
            "count": 0
           },
           {
            "bin_end": -0.19999999999999996,
            "bin_start": -0.3,
            "count": 0
           },
           {
            "bin_end": -0.09999999999999998,
            "bin_start": -0.19999999999999996,
            "count": 0
           },
           {
            "bin_end": 0,
            "bin_start": -0.09999999999999998,
            "count": 0
           },
           {
            "bin_end": 0.10000000000000009,
            "bin_start": 0,
            "count": 5
           },
           {
            "bin_end": 0.20000000000000007,
            "bin_start": 0.10000000000000009,
            "count": 0
           },
           {
            "bin_end": 0.30000000000000004,
            "bin_start": 0.20000000000000007,
            "count": 0
           },
           {
            "bin_end": 0.4,
            "bin_start": 0.30000000000000004,
            "count": 0
           },
           {
            "bin_end": 0.5,
            "bin_start": 0.4,
            "count": 0
           }
          ],
          "max": "0",
          "min": "0",
          "nan_count": 0,
          "unique_count": 1
         }
        },
        {
         "dtype": "int64",
         "name": "'Harmless Permission: SET_TIME'",
         "stats": {
          "histogram": [
           {
            "bin_end": -0.4,
            "bin_start": -0.5,
            "count": 0
           },
           {
            "bin_end": -0.3,
            "bin_start": -0.4,
            "count": 0
           },
           {
            "bin_end": -0.19999999999999996,
            "bin_start": -0.3,
            "count": 0
           },
           {
            "bin_end": -0.09999999999999998,
            "bin_start": -0.19999999999999996,
            "count": 0
           },
           {
            "bin_end": 0,
            "bin_start": -0.09999999999999998,
            "count": 0
           },
           {
            "bin_end": 0.10000000000000009,
            "bin_start": 0,
            "count": 5
           },
           {
            "bin_end": 0.20000000000000007,
            "bin_start": 0.10000000000000009,
            "count": 0
           },
           {
            "bin_end": 0.30000000000000004,
            "bin_start": 0.20000000000000007,
            "count": 0
           },
           {
            "bin_end": 0.4,
            "bin_start": 0.30000000000000004,
            "count": 0
           },
           {
            "bin_end": 0.5,
            "bin_start": 0.4,
            "count": 0
           }
          ],
          "max": "0",
          "min": "0",
          "nan_count": 0,
          "unique_count": 1
         }
        },
        {
         "dtype": "int64",
         "name": "'Harmless Permission: SET_TIME_ZONE'",
         "stats": {
          "histogram": [
           {
            "bin_end": -0.4,
            "bin_start": -0.5,
            "count": 0
           },
           {
            "bin_end": -0.3,
            "bin_start": -0.4,
            "count": 0
           },
           {
            "bin_end": -0.19999999999999996,
            "bin_start": -0.3,
            "count": 0
           },
           {
            "bin_end": -0.09999999999999998,
            "bin_start": -0.19999999999999996,
            "count": 0
           },
           {
            "bin_end": 0,
            "bin_start": -0.09999999999999998,
            "count": 0
           },
           {
            "bin_end": 0.10000000000000009,
            "bin_start": 0,
            "count": 5
           },
           {
            "bin_end": 0.20000000000000007,
            "bin_start": 0.10000000000000009,
            "count": 0
           },
           {
            "bin_end": 0.30000000000000004,
            "bin_start": 0.20000000000000007,
            "count": 0
           },
           {
            "bin_end": 0.4,
            "bin_start": 0.30000000000000004,
            "count": 0
           },
           {
            "bin_end": 0.5,
            "bin_start": 0.4,
            "count": 0
           }
          ],
          "max": "0",
          "min": "0",
          "nan_count": 0,
          "unique_count": 1
         }
        },
        {
         "dtype": "int64",
         "name": "'Harmless Permission: SET_WALLPAPER'",
         "stats": {
          "histogram": [
           {
            "bin_end": -0.4,
            "bin_start": -0.5,
            "count": 0
           },
           {
            "bin_end": -0.3,
            "bin_start": -0.4,
            "count": 0
           },
           {
            "bin_end": -0.19999999999999996,
            "bin_start": -0.3,
            "count": 0
           },
           {
            "bin_end": -0.09999999999999998,
            "bin_start": -0.19999999999999996,
            "count": 0
           },
           {
            "bin_end": 0,
            "bin_start": -0.09999999999999998,
            "count": 0
           },
           {
            "bin_end": 0.10000000000000009,
            "bin_start": 0,
            "count": 5
           },
           {
            "bin_end": 0.20000000000000007,
            "bin_start": 0.10000000000000009,
            "count": 0
           },
           {
            "bin_end": 0.30000000000000004,
            "bin_start": 0.20000000000000007,
            "count": 0
           },
           {
            "bin_end": 0.4,
            "bin_start": 0.30000000000000004,
            "count": 0
           },
           {
            "bin_end": 0.5,
            "bin_start": 0.4,
            "count": 0
           }
          ],
          "max": "0",
          "min": "0",
          "nan_count": 0,
          "unique_count": 1
         }
        },
        {
         "dtype": "int64",
         "name": "'Harmless Permission: UNINSTALL_SHORTCUT'",
         "stats": {
          "histogram": [
           {
            "bin_end": -0.4,
            "bin_start": -0.5,
            "count": 0
           },
           {
            "bin_end": -0.3,
            "bin_start": -0.4,
            "count": 0
           },
           {
            "bin_end": -0.19999999999999996,
            "bin_start": -0.3,
            "count": 0
           },
           {
            "bin_end": -0.09999999999999998,
            "bin_start": -0.19999999999999996,
            "count": 0
           },
           {
            "bin_end": 0,
            "bin_start": -0.09999999999999998,
            "count": 0
           },
           {
            "bin_end": 0.10000000000000009,
            "bin_start": 0,
            "count": 5
           },
           {
            "bin_end": 0.20000000000000007,
            "bin_start": 0.10000000000000009,
            "count": 0
           },
           {
            "bin_end": 0.30000000000000004,
            "bin_start": 0.20000000000000007,
            "count": 0
           },
           {
            "bin_end": 0.4,
            "bin_start": 0.30000000000000004,
            "count": 0
           },
           {
            "bin_end": 0.5,
            "bin_start": 0.4,
            "count": 0
           }
          ],
          "max": "0",
          "min": "0",
          "nan_count": 0,
          "unique_count": 1
         }
        },
        {
         "dtype": "int64",
         "name": "'Harmless Permission: VIBRATE'",
         "stats": {
          "histogram": [
           {
            "bin_end": 0.1,
            "bin_start": 0,
            "count": 3
           },
           {
            "bin_end": 0.2,
            "bin_start": 0.1,
            "count": 0
           },
           {
            "bin_end": 0.30000000000000004,
            "bin_start": 0.2,
            "count": 0
           },
           {
            "bin_end": 0.4,
            "bin_start": 0.30000000000000004,
            "count": 0
           },
           {
            "bin_end": 0.5,
            "bin_start": 0.4,
            "count": 0
           },
           {
            "bin_end": 0.6000000000000001,
            "bin_start": 0.5,
            "count": 0
           },
           {
            "bin_end": 0.7000000000000001,
            "bin_start": 0.6000000000000001,
            "count": 0
           },
           {
            "bin_end": 0.8,
            "bin_start": 0.7000000000000001,
            "count": 0
           },
           {
            "bin_end": 0.9,
            "bin_start": 0.8,
            "count": 0
           },
           {
            "bin_end": 1,
            "bin_start": 0.9,
            "count": 2
           }
          ],
          "max": "1",
          "min": "0",
          "nan_count": 0,
          "unique_count": 2
         }
        },
        {
         "dtype": "int64",
         "name": "'Harmless Permission: WAKE_LOCK'",
         "stats": {
          "histogram": [
           {
            "bin_end": 0.1,
            "bin_start": 0,
            "count": 3
           },
           {
            "bin_end": 0.2,
            "bin_start": 0.1,
            "count": 0
           },
           {
            "bin_end": 0.30000000000000004,
            "bin_start": 0.2,
            "count": 0
           },
           {
            "bin_end": 0.4,
            "bin_start": 0.30000000000000004,
            "count": 0
           },
           {
            "bin_end": 0.5,
            "bin_start": 0.4,
            "count": 0
           },
           {
            "bin_end": 0.6000000000000001,
            "bin_start": 0.5,
            "count": 0
           },
           {
            "bin_end": 0.7000000000000001,
            "bin_start": 0.6000000000000001,
            "count": 0
           },
           {
            "bin_end": 0.8,
            "bin_start": 0.7000000000000001,
            "count": 0
           },
           {
            "bin_end": 0.9,
            "bin_start": 0.8,
            "count": 0
           },
           {
            "bin_end": 1,
            "bin_start": 0.9,
            "count": 2
           }
          ],
          "max": "1",
          "min": "0",
          "nan_count": 0,
          "unique_count": 2
         }
        },
        {
         "dtype": "int64",
         "name": "'Harmless Permission: WRITE_CALENDAR'",
         "stats": {
          "histogram": [
           {
            "bin_end": -0.4,
            "bin_start": -0.5,
            "count": 0
           },
           {
            "bin_end": -0.3,
            "bin_start": -0.4,
            "count": 0
           },
           {
            "bin_end": -0.19999999999999996,
            "bin_start": -0.3,
            "count": 0
           },
           {
            "bin_end": -0.09999999999999998,
            "bin_start": -0.19999999999999996,
            "count": 0
           },
           {
            "bin_end": 0,
            "bin_start": -0.09999999999999998,
            "count": 0
           },
           {
            "bin_end": 0.10000000000000009,
            "bin_start": 0,
            "count": 5
           },
           {
            "bin_end": 0.20000000000000007,
            "bin_start": 0.10000000000000009,
            "count": 0
           },
           {
            "bin_end": 0.30000000000000004,
            "bin_start": 0.20000000000000007,
            "count": 0
           },
           {
            "bin_end": 0.4,
            "bin_start": 0.30000000000000004,
            "count": 0
           },
           {
            "bin_end": 0.5,
            "bin_start": 0.4,
            "count": 0
           }
          ],
          "max": "0",
          "min": "0",
          "nan_count": 0,
          "unique_count": 1
         }
        },
        {
         "dtype": "int64",
         "name": "'Harmless Permission: WRITE_CALL_LOG'",
         "stats": {
          "histogram": [
           {
            "bin_end": -0.4,
            "bin_start": -0.5,
            "count": 0
           },
           {
            "bin_end": -0.3,
            "bin_start": -0.4,
            "count": 0
           },
           {
            "bin_end": -0.19999999999999996,
            "bin_start": -0.3,
            "count": 0
           },
           {
            "bin_end": -0.09999999999999998,
            "bin_start": -0.19999999999999996,
            "count": 0
           },
           {
            "bin_end": 0,
            "bin_start": -0.09999999999999998,
            "count": 0
           },
           {
            "bin_end": 0.10000000000000009,
            "bin_start": 0,
            "count": 5
           },
           {
            "bin_end": 0.20000000000000007,
            "bin_start": 0.10000000000000009,
            "count": 0
           },
           {
            "bin_end": 0.30000000000000004,
            "bin_start": 0.20000000000000007,
            "count": 0
           },
           {
            "bin_end": 0.4,
            "bin_start": 0.30000000000000004,
            "count": 0
           },
           {
            "bin_end": 0.5,
            "bin_start": 0.4,
            "count": 0
           }
          ],
          "max": "0",
          "min": "0",
          "nan_count": 0,
          "unique_count": 1
         }
        },
        {
         "dtype": "int64",
         "name": "'Harmless Permission: WRITE_CONTACTS'",
         "stats": {
          "histogram": [
           {
            "bin_end": -0.4,
            "bin_start": -0.5,
            "count": 0
           },
           {
            "bin_end": -0.3,
            "bin_start": -0.4,
            "count": 0
           },
           {
            "bin_end": -0.19999999999999996,
            "bin_start": -0.3,
            "count": 0
           },
           {
            "bin_end": -0.09999999999999998,
            "bin_start": -0.19999999999999996,
            "count": 0
           },
           {
            "bin_end": 0,
            "bin_start": -0.09999999999999998,
            "count": 0
           },
           {
            "bin_end": 0.10000000000000009,
            "bin_start": 0,
            "count": 5
           },
           {
            "bin_end": 0.20000000000000007,
            "bin_start": 0.10000000000000009,
            "count": 0
           },
           {
            "bin_end": 0.30000000000000004,
            "bin_start": 0.20000000000000007,
            "count": 0
           },
           {
            "bin_end": 0.4,
            "bin_start": 0.30000000000000004,
            "count": 0
           },
           {
            "bin_end": 0.5,
            "bin_start": 0.4,
            "count": 0
           }
          ],
          "max": "0",
          "min": "0",
          "nan_count": 0,
          "unique_count": 1
         }
        },
        {
         "dtype": "int64",
         "name": "'Harmless Permission: WRITE_USER_DICTIONARY'",
         "stats": {
          "histogram": [
           {
            "bin_end": -0.4,
            "bin_start": -0.5,
            "count": 0
           },
           {
            "bin_end": -0.3,
            "bin_start": -0.4,
            "count": 0
           },
           {
            "bin_end": -0.19999999999999996,
            "bin_start": -0.3,
            "count": 0
           },
           {
            "bin_end": -0.09999999999999998,
            "bin_start": -0.19999999999999996,
            "count": 0
           },
           {
            "bin_end": 0,
            "bin_start": -0.09999999999999998,
            "count": 0
           },
           {
            "bin_end": 0.10000000000000009,
            "bin_start": 0,
            "count": 5
           },
           {
            "bin_end": 0.20000000000000007,
            "bin_start": 0.10000000000000009,
            "count": 0
           },
           {
            "bin_end": 0.30000000000000004,
            "bin_start": 0.20000000000000007,
            "count": 0
           },
           {
            "bin_end": 0.4,
            "bin_start": 0.30000000000000004,
            "count": 0
           },
           {
            "bin_end": 0.5,
            "bin_start": 0.4,
            "count": 0
           }
          ],
          "max": "0",
          "min": "0",
          "nan_count": 0,
          "unique_count": 1
         }
        },
        {
         "dtype": "int64",
         "name": "class",
         "stats": {
          "histogram": [
           {
            "bin_end": -0.4,
            "bin_start": -0.5,
            "count": 0
           },
           {
            "bin_end": -0.3,
            "bin_start": -0.4,
            "count": 0
           },
           {
            "bin_end": -0.19999999999999996,
            "bin_start": -0.3,
            "count": 0
           },
           {
            "bin_end": -0.09999999999999998,
            "bin_start": -0.19999999999999996,
            "count": 0
           },
           {
            "bin_end": 0,
            "bin_start": -0.09999999999999998,
            "count": 0
           },
           {
            "bin_end": 0.10000000000000009,
            "bin_start": 0,
            "count": 5
           },
           {
            "bin_end": 0.20000000000000007,
            "bin_start": 0.10000000000000009,
            "count": 0
           },
           {
            "bin_end": 0.30000000000000004,
            "bin_start": 0.20000000000000007,
            "count": 0
           },
           {
            "bin_end": 0.4,
            "bin_start": 0.30000000000000004,
            "count": 0
           },
           {
            "bin_end": 0.5,
            "bin_start": 0.4,
            "count": 0
           }
          ],
          "max": "0",
          "min": "0",
          "nan_count": 0,
          "unique_count": 1
         }
        },
        {
         "dtype": "int64",
         "name": "_deepnote_index_column"
        }
       ],
       "row_count": 5,
       "rows_bottom": null,
       "rows_top": [
        {
         "'Dangerous Permission: ACCESS_SUPERUSER'": 0,
         "'Dangerous Permission: BLUETOOTH_PRIVILEGED'": 0,
         "'Dangerous Permission: BRICK'": 0,
         "'Dangerous Permission: CHANGE_COMPONENT_ENABLED_STATE'": 0,
         "'Dangerous Permission: CLEAR_APP_USER_DATA'": 0,
         "'Dangerous Permission: DELETE_CACHE_FILES'": 0,
         "'Dangerous Permission: DELETE_PACKAGES'": 0,
         "'Dangerous Permission: DISABLE_KEYGUARD'": 0,
         "'Dangerous Permission: FACTORY_TEST'": 0,
         "'Dangerous Permission: INJECT_EVENTS'": 0,
         "'Dangerous Permission: INSTALL_PACKAGES'": 0,
         "'Dangerous Permission: INTERNAL_SYSTEM_WINDOW'": 0,
         "'Dangerous Permission: KILL_BACKGROUND_PROCESSES'": 0,
         "'Dangerous Permission: MASTER_CLEAR'": 0,
         "'Dangerous Permission: MODIFY_PHONE_STATE'": 0,
         "'Dangerous Permission: MOUNT_FORMAT_FILESYSTEM'": 0,
         "'Dangerous Permission: MOUNT_UNMOUNT_FILESYSTEM'": 0,
         "'Dangerous Permission: PROCESS_OUTGOING_CALLS'": 0,
         "'Dangerous Permission: READ_LOGS'": 0,
         "'Dangerous Permission: REBOOT'": 0,
         "'Dangerous Permission: RECEIVE_BOOT_COMPLETED'": 0,
         "'Dangerous Permission: STATUS_BAR'": 0,
         "'Dangerous Permission: WRITE_EXTERNAL_STORAGE'": 0,
         "'Dangerous Permission: WRITE_HISTORY_BOOKMARKS'": 0,
         "'Dangerous Permission: WRITE_PROFILE'": 0,
         "'Dangerous Permission: WRITE_SECURE_SETTINGS'": 0,
         "'Harmless Permission: ACCESS_SURFACE_FLINGER'": 0,
         "'Harmless Permission: ACCOUNT_MANAGER'": 0,
         "'Harmless Permission: ADD_VOICEMAIL'": 0,
         "'Harmless Permission: CONTROL_LOCATION_UPDATES'": 0,
         "'Harmless Permission: DEVICE_POWER'": 0,
         "'Harmless Permission: EXPAND_STATUS_BAR'": 0,
         "'Harmless Permission: FLASHLIGHT'": 0,
         "'Harmless Permission: FORCE_BACK'": 0,
         "'Harmless Permission: GET_PACKAGE_SIZE'": 0,
         "'Harmless Permission: GET_TOP_ACTIVITY_INFO'": 0,
         "'Harmless Permission: GLOBAL_SEARCH'": 0,
         "'Harmless Permission: INSTALL_SHORTCUT'": 0,
         "'Harmless Permission: MANAGE_DOCUMENTS'": 0,
         "'Harmless Permission: MEDIA_CONTENT_CONTROL'": 0,
         "'Harmless Permission: MODIFY_AUDIO_SETTINGS'": 0,
         "'Harmless Permission: READ_USER_DICTIONARY'": 0,
         "'Harmless Permission: REORDER_TASKS'": 0,
         "'Harmless Permission: SEND_RESPOND_VIA_MESSAGE'": 0,
         "'Harmless Permission: SET_ALARM'": 0,
         "'Harmless Permission: SET_ANIMATION_SCALE'": 0,
         "'Harmless Permission: SET_ORIENTATION'": 0,
         "'Harmless Permission: SET_POINTER_SPEED'": 0,
         "'Harmless Permission: SET_TIME'": 0,
         "'Harmless Permission: SET_TIME_ZONE'": 0,
         "'Harmless Permission: SET_WALLPAPER'": 0,
         "'Harmless Permission: UNINSTALL_SHORTCUT'": 0,
         "'Harmless Permission: VIBRATE'": 0,
         "'Harmless Permission: WAKE_LOCK'": 0,
         "'Harmless Permission: WRITE_CALENDAR'": 0,
         "'Harmless Permission: WRITE_CALL_LOG'": 0,
         "'Harmless Permission: WRITE_CONTACTS'": 0,
         "'Harmless Permission: WRITE_USER_DICTIONARY'": 0,
         "_deepnote_index_column": 0,
         "class": 0
        },
        {
         "'Dangerous Permission: ACCESS_SUPERUSER'": 0,
         "'Dangerous Permission: BLUETOOTH_PRIVILEGED'": 0,
         "'Dangerous Permission: BRICK'": 0,
         "'Dangerous Permission: CHANGE_COMPONENT_ENABLED_STATE'": 0,
         "'Dangerous Permission: CLEAR_APP_USER_DATA'": 0,
         "'Dangerous Permission: DELETE_CACHE_FILES'": 0,
         "'Dangerous Permission: DELETE_PACKAGES'": 0,
         "'Dangerous Permission: DISABLE_KEYGUARD'": 0,
         "'Dangerous Permission: FACTORY_TEST'": 0,
         "'Dangerous Permission: INJECT_EVENTS'": 0,
         "'Dangerous Permission: INSTALL_PACKAGES'": 0,
         "'Dangerous Permission: INTERNAL_SYSTEM_WINDOW'": 0,
         "'Dangerous Permission: KILL_BACKGROUND_PROCESSES'": 0,
         "'Dangerous Permission: MASTER_CLEAR'": 0,
         "'Dangerous Permission: MODIFY_PHONE_STATE'": 0,
         "'Dangerous Permission: MOUNT_FORMAT_FILESYSTEM'": 0,
         "'Dangerous Permission: MOUNT_UNMOUNT_FILESYSTEM'": 0,
         "'Dangerous Permission: PROCESS_OUTGOING_CALLS'": 0,
         "'Dangerous Permission: READ_LOGS'": 0,
         "'Dangerous Permission: REBOOT'": 0,
         "'Dangerous Permission: RECEIVE_BOOT_COMPLETED'": 0,
         "'Dangerous Permission: STATUS_BAR'": 0,
         "'Dangerous Permission: WRITE_EXTERNAL_STORAGE'": 0,
         "'Dangerous Permission: WRITE_HISTORY_BOOKMARKS'": 0,
         "'Dangerous Permission: WRITE_PROFILE'": 0,
         "'Dangerous Permission: WRITE_SECURE_SETTINGS'": 0,
         "'Harmless Permission: ACCESS_SURFACE_FLINGER'": 0,
         "'Harmless Permission: ACCOUNT_MANAGER'": 0,
         "'Harmless Permission: ADD_VOICEMAIL'": 0,
         "'Harmless Permission: CONTROL_LOCATION_UPDATES'": 0,
         "'Harmless Permission: DEVICE_POWER'": 0,
         "'Harmless Permission: EXPAND_STATUS_BAR'": 0,
         "'Harmless Permission: FLASHLIGHT'": 0,
         "'Harmless Permission: FORCE_BACK'": 0,
         "'Harmless Permission: GET_PACKAGE_SIZE'": 0,
         "'Harmless Permission: GET_TOP_ACTIVITY_INFO'": 0,
         "'Harmless Permission: GLOBAL_SEARCH'": 0,
         "'Harmless Permission: INSTALL_SHORTCUT'": 0,
         "'Harmless Permission: MANAGE_DOCUMENTS'": 0,
         "'Harmless Permission: MEDIA_CONTENT_CONTROL'": 0,
         "'Harmless Permission: MODIFY_AUDIO_SETTINGS'": 0,
         "'Harmless Permission: READ_USER_DICTIONARY'": 0,
         "'Harmless Permission: REORDER_TASKS'": 0,
         "'Harmless Permission: SEND_RESPOND_VIA_MESSAGE'": 0,
         "'Harmless Permission: SET_ALARM'": 0,
         "'Harmless Permission: SET_ANIMATION_SCALE'": 0,
         "'Harmless Permission: SET_ORIENTATION'": 0,
         "'Harmless Permission: SET_POINTER_SPEED'": 0,
         "'Harmless Permission: SET_TIME'": 0,
         "'Harmless Permission: SET_TIME_ZONE'": 0,
         "'Harmless Permission: SET_WALLPAPER'": 0,
         "'Harmless Permission: UNINSTALL_SHORTCUT'": 0,
         "'Harmless Permission: VIBRATE'": 0,
         "'Harmless Permission: WAKE_LOCK'": 0,
         "'Harmless Permission: WRITE_CALENDAR'": 0,
         "'Harmless Permission: WRITE_CALL_LOG'": 0,
         "'Harmless Permission: WRITE_CONTACTS'": 0,
         "'Harmless Permission: WRITE_USER_DICTIONARY'": 0,
         "_deepnote_index_column": 1,
         "class": 0
        },
        {
         "'Dangerous Permission: ACCESS_SUPERUSER'": 0,
         "'Dangerous Permission: BLUETOOTH_PRIVILEGED'": 0,
         "'Dangerous Permission: BRICK'": 0,
         "'Dangerous Permission: CHANGE_COMPONENT_ENABLED_STATE'": 0,
         "'Dangerous Permission: CLEAR_APP_USER_DATA'": 0,
         "'Dangerous Permission: DELETE_CACHE_FILES'": 0,
         "'Dangerous Permission: DELETE_PACKAGES'": 0,
         "'Dangerous Permission: DISABLE_KEYGUARD'": 0,
         "'Dangerous Permission: FACTORY_TEST'": 0,
         "'Dangerous Permission: INJECT_EVENTS'": 0,
         "'Dangerous Permission: INSTALL_PACKAGES'": 0,
         "'Dangerous Permission: INTERNAL_SYSTEM_WINDOW'": 0,
         "'Dangerous Permission: KILL_BACKGROUND_PROCESSES'": 0,
         "'Dangerous Permission: MASTER_CLEAR'": 0,
         "'Dangerous Permission: MODIFY_PHONE_STATE'": 0,
         "'Dangerous Permission: MOUNT_FORMAT_FILESYSTEM'": 0,
         "'Dangerous Permission: MOUNT_UNMOUNT_FILESYSTEM'": 0,
         "'Dangerous Permission: PROCESS_OUTGOING_CALLS'": 0,
         "'Dangerous Permission: READ_LOGS'": 0,
         "'Dangerous Permission: REBOOT'": 0,
         "'Dangerous Permission: RECEIVE_BOOT_COMPLETED'": 0,
         "'Dangerous Permission: STATUS_BAR'": 0,
         "'Dangerous Permission: WRITE_EXTERNAL_STORAGE'": 0,
         "'Dangerous Permission: WRITE_HISTORY_BOOKMARKS'": 0,
         "'Dangerous Permission: WRITE_PROFILE'": 0,
         "'Dangerous Permission: WRITE_SECURE_SETTINGS'": 0,
         "'Harmless Permission: ACCESS_SURFACE_FLINGER'": 0,
         "'Harmless Permission: ACCOUNT_MANAGER'": 0,
         "'Harmless Permission: ADD_VOICEMAIL'": 0,
         "'Harmless Permission: CONTROL_LOCATION_UPDATES'": 0,
         "'Harmless Permission: DEVICE_POWER'": 0,
         "'Harmless Permission: EXPAND_STATUS_BAR'": 0,
         "'Harmless Permission: FLASHLIGHT'": 0,
         "'Harmless Permission: FORCE_BACK'": 0,
         "'Harmless Permission: GET_PACKAGE_SIZE'": 0,
         "'Harmless Permission: GET_TOP_ACTIVITY_INFO'": 0,
         "'Harmless Permission: GLOBAL_SEARCH'": 0,
         "'Harmless Permission: INSTALL_SHORTCUT'": 0,
         "'Harmless Permission: MANAGE_DOCUMENTS'": 0,
         "'Harmless Permission: MEDIA_CONTENT_CONTROL'": 0,
         "'Harmless Permission: MODIFY_AUDIO_SETTINGS'": 0,
         "'Harmless Permission: READ_USER_DICTIONARY'": 0,
         "'Harmless Permission: REORDER_TASKS'": 0,
         "'Harmless Permission: SEND_RESPOND_VIA_MESSAGE'": 0,
         "'Harmless Permission: SET_ALARM'": 0,
         "'Harmless Permission: SET_ANIMATION_SCALE'": 0,
         "'Harmless Permission: SET_ORIENTATION'": 0,
         "'Harmless Permission: SET_POINTER_SPEED'": 0,
         "'Harmless Permission: SET_TIME'": 0,
         "'Harmless Permission: SET_TIME_ZONE'": 0,
         "'Harmless Permission: SET_WALLPAPER'": 0,
         "'Harmless Permission: UNINSTALL_SHORTCUT'": 0,
         "'Harmless Permission: VIBRATE'": 0,
         "'Harmless Permission: WAKE_LOCK'": 0,
         "'Harmless Permission: WRITE_CALENDAR'": 0,
         "'Harmless Permission: WRITE_CALL_LOG'": 0,
         "'Harmless Permission: WRITE_CONTACTS'": 0,
         "'Harmless Permission: WRITE_USER_DICTIONARY'": 0,
         "_deepnote_index_column": 2,
         "class": 0
        },
        {
         "'Dangerous Permission: ACCESS_SUPERUSER'": 0,
         "'Dangerous Permission: BLUETOOTH_PRIVILEGED'": 0,
         "'Dangerous Permission: BRICK'": 0,
         "'Dangerous Permission: CHANGE_COMPONENT_ENABLED_STATE'": 0,
         "'Dangerous Permission: CLEAR_APP_USER_DATA'": 0,
         "'Dangerous Permission: DELETE_CACHE_FILES'": 0,
         "'Dangerous Permission: DELETE_PACKAGES'": 0,
         "'Dangerous Permission: DISABLE_KEYGUARD'": 0,
         "'Dangerous Permission: FACTORY_TEST'": 0,
         "'Dangerous Permission: INJECT_EVENTS'": 0,
         "'Dangerous Permission: INSTALL_PACKAGES'": 0,
         "'Dangerous Permission: INTERNAL_SYSTEM_WINDOW'": 0,
         "'Dangerous Permission: KILL_BACKGROUND_PROCESSES'": 0,
         "'Dangerous Permission: MASTER_CLEAR'": 0,
         "'Dangerous Permission: MODIFY_PHONE_STATE'": 0,
         "'Dangerous Permission: MOUNT_FORMAT_FILESYSTEM'": 0,
         "'Dangerous Permission: MOUNT_UNMOUNT_FILESYSTEM'": 0,
         "'Dangerous Permission: PROCESS_OUTGOING_CALLS'": 0,
         "'Dangerous Permission: READ_LOGS'": 0,
         "'Dangerous Permission: REBOOT'": 0,
         "'Dangerous Permission: RECEIVE_BOOT_COMPLETED'": 0,
         "'Dangerous Permission: STATUS_BAR'": 0,
         "'Dangerous Permission: WRITE_EXTERNAL_STORAGE'": 0,
         "'Dangerous Permission: WRITE_HISTORY_BOOKMARKS'": 0,
         "'Dangerous Permission: WRITE_PROFILE'": 0,
         "'Dangerous Permission: WRITE_SECURE_SETTINGS'": 0,
         "'Harmless Permission: ACCESS_SURFACE_FLINGER'": 0,
         "'Harmless Permission: ACCOUNT_MANAGER'": 0,
         "'Harmless Permission: ADD_VOICEMAIL'": 0,
         "'Harmless Permission: CONTROL_LOCATION_UPDATES'": 0,
         "'Harmless Permission: DEVICE_POWER'": 0,
         "'Harmless Permission: EXPAND_STATUS_BAR'": 0,
         "'Harmless Permission: FLASHLIGHT'": 0,
         "'Harmless Permission: FORCE_BACK'": 0,
         "'Harmless Permission: GET_PACKAGE_SIZE'": 0,
         "'Harmless Permission: GET_TOP_ACTIVITY_INFO'": 0,
         "'Harmless Permission: GLOBAL_SEARCH'": 0,
         "'Harmless Permission: INSTALL_SHORTCUT'": 0,
         "'Harmless Permission: MANAGE_DOCUMENTS'": 0,
         "'Harmless Permission: MEDIA_CONTENT_CONTROL'": 0,
         "'Harmless Permission: MODIFY_AUDIO_SETTINGS'": 0,
         "'Harmless Permission: READ_USER_DICTIONARY'": 0,
         "'Harmless Permission: REORDER_TASKS'": 0,
         "'Harmless Permission: SEND_RESPOND_VIA_MESSAGE'": 0,
         "'Harmless Permission: SET_ALARM'": 0,
         "'Harmless Permission: SET_ANIMATION_SCALE'": 0,
         "'Harmless Permission: SET_ORIENTATION'": 0,
         "'Harmless Permission: SET_POINTER_SPEED'": 0,
         "'Harmless Permission: SET_TIME'": 0,
         "'Harmless Permission: SET_TIME_ZONE'": 0,
         "'Harmless Permission: SET_WALLPAPER'": 0,
         "'Harmless Permission: UNINSTALL_SHORTCUT'": 0,
         "'Harmless Permission: VIBRATE'": 1,
         "'Harmless Permission: WAKE_LOCK'": 1,
         "'Harmless Permission: WRITE_CALENDAR'": 0,
         "'Harmless Permission: WRITE_CALL_LOG'": 0,
         "'Harmless Permission: WRITE_CONTACTS'": 0,
         "'Harmless Permission: WRITE_USER_DICTIONARY'": 0,
         "_deepnote_index_column": 3,
         "class": 0
        },
        {
         "'Dangerous Permission: ACCESS_SUPERUSER'": 0,
         "'Dangerous Permission: BLUETOOTH_PRIVILEGED'": 0,
         "'Dangerous Permission: BRICK'": 0,
         "'Dangerous Permission: CHANGE_COMPONENT_ENABLED_STATE'": 0,
         "'Dangerous Permission: CLEAR_APP_USER_DATA'": 0,
         "'Dangerous Permission: DELETE_CACHE_FILES'": 0,
         "'Dangerous Permission: DELETE_PACKAGES'": 0,
         "'Dangerous Permission: DISABLE_KEYGUARD'": 0,
         "'Dangerous Permission: FACTORY_TEST'": 0,
         "'Dangerous Permission: INJECT_EVENTS'": 0,
         "'Dangerous Permission: INSTALL_PACKAGES'": 0,
         "'Dangerous Permission: INTERNAL_SYSTEM_WINDOW'": 0,
         "'Dangerous Permission: KILL_BACKGROUND_PROCESSES'": 0,
         "'Dangerous Permission: MASTER_CLEAR'": 0,
         "'Dangerous Permission: MODIFY_PHONE_STATE'": 0,
         "'Dangerous Permission: MOUNT_FORMAT_FILESYSTEM'": 0,
         "'Dangerous Permission: MOUNT_UNMOUNT_FILESYSTEM'": 0,
         "'Dangerous Permission: PROCESS_OUTGOING_CALLS'": 0,
         "'Dangerous Permission: READ_LOGS'": 0,
         "'Dangerous Permission: REBOOT'": 0,
         "'Dangerous Permission: RECEIVE_BOOT_COMPLETED'": 1,
         "'Dangerous Permission: STATUS_BAR'": 0,
         "'Dangerous Permission: WRITE_EXTERNAL_STORAGE'": 1,
         "'Dangerous Permission: WRITE_HISTORY_BOOKMARKS'": 0,
         "'Dangerous Permission: WRITE_PROFILE'": 0,
         "'Dangerous Permission: WRITE_SECURE_SETTINGS'": 0,
         "'Harmless Permission: ACCESS_SURFACE_FLINGER'": 0,
         "'Harmless Permission: ACCOUNT_MANAGER'": 0,
         "'Harmless Permission: ADD_VOICEMAIL'": 0,
         "'Harmless Permission: CONTROL_LOCATION_UPDATES'": 0,
         "'Harmless Permission: DEVICE_POWER'": 0,
         "'Harmless Permission: EXPAND_STATUS_BAR'": 0,
         "'Harmless Permission: FLASHLIGHT'": 0,
         "'Harmless Permission: FORCE_BACK'": 0,
         "'Harmless Permission: GET_PACKAGE_SIZE'": 0,
         "'Harmless Permission: GET_TOP_ACTIVITY_INFO'": 0,
         "'Harmless Permission: GLOBAL_SEARCH'": 0,
         "'Harmless Permission: INSTALL_SHORTCUT'": 1,
         "'Harmless Permission: MANAGE_DOCUMENTS'": 0,
         "'Harmless Permission: MEDIA_CONTENT_CONTROL'": 0,
         "'Harmless Permission: MODIFY_AUDIO_SETTINGS'": 0,
         "'Harmless Permission: READ_USER_DICTIONARY'": 0,
         "'Harmless Permission: REORDER_TASKS'": 0,
         "'Harmless Permission: SEND_RESPOND_VIA_MESSAGE'": 0,
         "'Harmless Permission: SET_ALARM'": 0,
         "'Harmless Permission: SET_ANIMATION_SCALE'": 0,
         "'Harmless Permission: SET_ORIENTATION'": 0,
         "'Harmless Permission: SET_POINTER_SPEED'": 0,
         "'Harmless Permission: SET_TIME'": 0,
         "'Harmless Permission: SET_TIME_ZONE'": 0,
         "'Harmless Permission: SET_WALLPAPER'": 0,
         "'Harmless Permission: UNINSTALL_SHORTCUT'": 0,
         "'Harmless Permission: VIBRATE'": 1,
         "'Harmless Permission: WAKE_LOCK'": 1,
         "'Harmless Permission: WRITE_CALENDAR'": 0,
         "'Harmless Permission: WRITE_CALL_LOG'": 0,
         "'Harmless Permission: WRITE_CONTACTS'": 0,
         "'Harmless Permission: WRITE_USER_DICTIONARY'": 0,
         "_deepnote_index_column": 4,
         "class": 0
        }
       ]
      },
      "text/html": [
       "<div>\n",
       "<style scoped>\n",
       "    .dataframe tbody tr th:only-of-type {\n",
       "        vertical-align: middle;\n",
       "    }\n",
       "\n",
       "    .dataframe tbody tr th {\n",
       "        vertical-align: top;\n",
       "    }\n",
       "\n",
       "    .dataframe thead th {\n",
       "        text-align: right;\n",
       "    }\n",
       "</style>\n",
       "<table border=\"1\" class=\"dataframe\">\n",
       "  <thead>\n",
       "    <tr style=\"text-align: right;\">\n",
       "      <th></th>\n",
       "      <th>'Dangerous Permission: ACCESS_SUPERUSER'</th>\n",
       "      <th>'Dangerous Permission: BLUETOOTH_PRIVILEGED'</th>\n",
       "      <th>'Dangerous Permission: BRICK'</th>\n",
       "      <th>'Dangerous Permission: CHANGE_COMPONENT_ENABLED_STATE'</th>\n",
       "      <th>'Dangerous Permission: CLEAR_APP_USER_DATA'</th>\n",
       "      <th>'Dangerous Permission: DELETE_CACHE_FILES'</th>\n",
       "      <th>'Dangerous Permission: DELETE_PACKAGES'</th>\n",
       "      <th>'Dangerous Permission: DISABLE_KEYGUARD'</th>\n",
       "      <th>'Dangerous Permission: FACTORY_TEST'</th>\n",
       "      <th>'Dangerous Permission: INSTALL_PACKAGES'</th>\n",
       "      <th>'Dangerous Permission: INJECT_EVENTS'</th>\n",
       "      <th>'Dangerous Permission: INTERNAL_SYSTEM_WINDOW'</th>\n",
       "      <th>'Dangerous Permission: KILL_BACKGROUND_PROCESSES'</th>\n",
       "      <th>'Dangerous Permission: MASTER_CLEAR'</th>\n",
       "      <th>'Dangerous Permission: MODIFY_PHONE_STATE'</th>\n",
       "      <th>'Dangerous Permission: MOUNT_FORMAT_FILESYSTEM'</th>\n",
       "      <th>'Dangerous Permission: MOUNT_UNMOUNT_FILESYSTEM'</th>\n",
       "      <th>'Dangerous Permission: PROCESS_OUTGOING_CALLS'</th>\n",
       "      <th>'Dangerous Permission: READ_LOGS'</th>\n",
       "      <th>'Dangerous Permission: REBOOT'</th>\n",
       "      <th>'Dangerous Permission: RECEIVE_BOOT_COMPLETED'</th>\n",
       "      <th>'Dangerous Permission: STATUS_BAR'</th>\n",
       "      <th>'Dangerous Permission: WRITE_EXTERNAL_STORAGE'</th>\n",
       "      <th>'Dangerous Permission: WRITE_HISTORY_BOOKMARKS'</th>\n",
       "      <th>'Dangerous Permission: WRITE_PROFILE'</th>\n",
       "      <th>'Dangerous Permission: WRITE_SECURE_SETTINGS'</th>\n",
       "      <th>'Harmless Permission: ACCESS_SURFACE_FLINGER'</th>\n",
       "      <th>'Harmless Permission: ACCOUNT_MANAGER'</th>\n",
       "      <th>'Harmless Permission: ADD_VOICEMAIL'</th>\n",
       "      <th>'Harmless Permission: CONTROL_LOCATION_UPDATES'</th>\n",
       "      <th>'Harmless Permission: DEVICE_POWER'</th>\n",
       "      <th>'Harmless Permission: EXPAND_STATUS_BAR'</th>\n",
       "      <th>'Harmless Permission: FLASHLIGHT'</th>\n",
       "      <th>'Harmless Permission: FORCE_BACK'</th>\n",
       "      <th>'Harmless Permission: GET_PACKAGE_SIZE'</th>\n",
       "      <th>'Harmless Permission: GET_TOP_ACTIVITY_INFO'</th>\n",
       "      <th>'Harmless Permission: GLOBAL_SEARCH'</th>\n",
       "      <th>'Harmless Permission: INSTALL_SHORTCUT'</th>\n",
       "      <th>'Harmless Permission: MANAGE_DOCUMENTS'</th>\n",
       "      <th>'Harmless Permission: MEDIA_CONTENT_CONTROL'</th>\n",
       "      <th>'Harmless Permission: MODIFY_AUDIO_SETTINGS'</th>\n",
       "      <th>'Harmless Permission: READ_USER_DICTIONARY'</th>\n",
       "      <th>'Harmless Permission: REORDER_TASKS'</th>\n",
       "      <th>'Harmless Permission: SEND_RESPOND_VIA_MESSAGE'</th>\n",
       "      <th>'Harmless Permission: SET_ALARM'</th>\n",
       "      <th>'Harmless Permission: SET_ANIMATION_SCALE'</th>\n",
       "      <th>'Harmless Permission: SET_ORIENTATION'</th>\n",
       "      <th>'Harmless Permission: SET_POINTER_SPEED'</th>\n",
       "      <th>'Harmless Permission: SET_TIME'</th>\n",
       "      <th>'Harmless Permission: SET_TIME_ZONE'</th>\n",
       "      <th>'Harmless Permission: SET_WALLPAPER'</th>\n",
       "      <th>'Harmless Permission: UNINSTALL_SHORTCUT'</th>\n",
       "      <th>'Harmless Permission: VIBRATE'</th>\n",
       "      <th>'Harmless Permission: WAKE_LOCK'</th>\n",
       "      <th>'Harmless Permission: WRITE_CALENDAR'</th>\n",
       "      <th>'Harmless Permission: WRITE_CALL_LOG'</th>\n",
       "      <th>'Harmless Permission: WRITE_CONTACTS'</th>\n",
       "      <th>'Harmless Permission: WRITE_USER_DICTIONARY'</th>\n",
       "      <th>class</th>\n",
       "    </tr>\n",
       "  </thead>\n",
       "  <tbody>\n",
       "    <tr>\n",
       "      <th>0</th>\n",
       "      <td>0</td>\n",
       "      <td>0</td>\n",
       "      <td>0</td>\n",
       "      <td>0</td>\n",
       "      <td>0</td>\n",
       "      <td>0</td>\n",
       "      <td>0</td>\n",
       "      <td>0</td>\n",
       "      <td>0</td>\n",
       "      <td>0</td>\n",
       "      <td>0</td>\n",
       "      <td>0</td>\n",
       "      <td>0</td>\n",
       "      <td>0</td>\n",
       "      <td>0</td>\n",
       "      <td>0</td>\n",
       "      <td>0</td>\n",
       "      <td>0</td>\n",
       "      <td>0</td>\n",
       "      <td>0</td>\n",
       "      <td>0</td>\n",
       "      <td>0</td>\n",
       "      <td>0</td>\n",
       "      <td>0</td>\n",
       "      <td>0</td>\n",
       "      <td>0</td>\n",
       "      <td>0</td>\n",
       "      <td>0</td>\n",
       "      <td>0</td>\n",
       "      <td>0</td>\n",
       "      <td>0</td>\n",
       "      <td>0</td>\n",
       "      <td>0</td>\n",
       "      <td>0</td>\n",
       "      <td>0</td>\n",
       "      <td>0</td>\n",
       "      <td>0</td>\n",
       "      <td>0</td>\n",
       "      <td>0</td>\n",
       "      <td>0</td>\n",
       "      <td>0</td>\n",
       "      <td>0</td>\n",
       "      <td>0</td>\n",
       "      <td>0</td>\n",
       "      <td>0</td>\n",
       "      <td>0</td>\n",
       "      <td>0</td>\n",
       "      <td>0</td>\n",
       "      <td>0</td>\n",
       "      <td>0</td>\n",
       "      <td>0</td>\n",
       "      <td>0</td>\n",
       "      <td>0</td>\n",
       "      <td>0</td>\n",
       "      <td>0</td>\n",
       "      <td>0</td>\n",
       "      <td>0</td>\n",
       "      <td>0</td>\n",
       "      <td>0</td>\n",
       "    </tr>\n",
       "    <tr>\n",
       "      <th>1</th>\n",
       "      <td>0</td>\n",
       "      <td>0</td>\n",
       "      <td>0</td>\n",
       "      <td>0</td>\n",
       "      <td>0</td>\n",
       "      <td>0</td>\n",
       "      <td>0</td>\n",
       "      <td>0</td>\n",
       "      <td>0</td>\n",
       "      <td>0</td>\n",
       "      <td>0</td>\n",
       "      <td>0</td>\n",
       "      <td>0</td>\n",
       "      <td>0</td>\n",
       "      <td>0</td>\n",
       "      <td>0</td>\n",
       "      <td>0</td>\n",
       "      <td>0</td>\n",
       "      <td>0</td>\n",
       "      <td>0</td>\n",
       "      <td>0</td>\n",
       "      <td>0</td>\n",
       "      <td>0</td>\n",
       "      <td>0</td>\n",
       "      <td>0</td>\n",
       "      <td>0</td>\n",
       "      <td>0</td>\n",
       "      <td>0</td>\n",
       "      <td>0</td>\n",
       "      <td>0</td>\n",
       "      <td>0</td>\n",
       "      <td>0</td>\n",
       "      <td>0</td>\n",
       "      <td>0</td>\n",
       "      <td>0</td>\n",
       "      <td>0</td>\n",
       "      <td>0</td>\n",
       "      <td>0</td>\n",
       "      <td>0</td>\n",
       "      <td>0</td>\n",
       "      <td>0</td>\n",
       "      <td>0</td>\n",
       "      <td>0</td>\n",
       "      <td>0</td>\n",
       "      <td>0</td>\n",
       "      <td>0</td>\n",
       "      <td>0</td>\n",
       "      <td>0</td>\n",
       "      <td>0</td>\n",
       "      <td>0</td>\n",
       "      <td>0</td>\n",
       "      <td>0</td>\n",
       "      <td>0</td>\n",
       "      <td>0</td>\n",
       "      <td>0</td>\n",
       "      <td>0</td>\n",
       "      <td>0</td>\n",
       "      <td>0</td>\n",
       "      <td>0</td>\n",
       "    </tr>\n",
       "    <tr>\n",
       "      <th>2</th>\n",
       "      <td>0</td>\n",
       "      <td>0</td>\n",
       "      <td>0</td>\n",
       "      <td>0</td>\n",
       "      <td>0</td>\n",
       "      <td>0</td>\n",
       "      <td>0</td>\n",
       "      <td>0</td>\n",
       "      <td>0</td>\n",
       "      <td>0</td>\n",
       "      <td>0</td>\n",
       "      <td>0</td>\n",
       "      <td>0</td>\n",
       "      <td>0</td>\n",
       "      <td>0</td>\n",
       "      <td>0</td>\n",
       "      <td>0</td>\n",
       "      <td>0</td>\n",
       "      <td>0</td>\n",
       "      <td>0</td>\n",
       "      <td>0</td>\n",
       "      <td>0</td>\n",
       "      <td>0</td>\n",
       "      <td>0</td>\n",
       "      <td>0</td>\n",
       "      <td>0</td>\n",
       "      <td>0</td>\n",
       "      <td>0</td>\n",
       "      <td>0</td>\n",
       "      <td>0</td>\n",
       "      <td>0</td>\n",
       "      <td>0</td>\n",
       "      <td>0</td>\n",
       "      <td>0</td>\n",
       "      <td>0</td>\n",
       "      <td>0</td>\n",
       "      <td>0</td>\n",
       "      <td>0</td>\n",
       "      <td>0</td>\n",
       "      <td>0</td>\n",
       "      <td>0</td>\n",
       "      <td>0</td>\n",
       "      <td>0</td>\n",
       "      <td>0</td>\n",
       "      <td>0</td>\n",
       "      <td>0</td>\n",
       "      <td>0</td>\n",
       "      <td>0</td>\n",
       "      <td>0</td>\n",
       "      <td>0</td>\n",
       "      <td>0</td>\n",
       "      <td>0</td>\n",
       "      <td>0</td>\n",
       "      <td>0</td>\n",
       "      <td>0</td>\n",
       "      <td>0</td>\n",
       "      <td>0</td>\n",
       "      <td>0</td>\n",
       "      <td>0</td>\n",
       "    </tr>\n",
       "    <tr>\n",
       "      <th>3</th>\n",
       "      <td>0</td>\n",
       "      <td>0</td>\n",
       "      <td>0</td>\n",
       "      <td>0</td>\n",
       "      <td>0</td>\n",
       "      <td>0</td>\n",
       "      <td>0</td>\n",
       "      <td>0</td>\n",
       "      <td>0</td>\n",
       "      <td>0</td>\n",
       "      <td>0</td>\n",
       "      <td>0</td>\n",
       "      <td>0</td>\n",
       "      <td>0</td>\n",
       "      <td>0</td>\n",
       "      <td>0</td>\n",
       "      <td>0</td>\n",
       "      <td>0</td>\n",
       "      <td>0</td>\n",
       "      <td>0</td>\n",
       "      <td>0</td>\n",
       "      <td>0</td>\n",
       "      <td>0</td>\n",
       "      <td>0</td>\n",
       "      <td>0</td>\n",
       "      <td>0</td>\n",
       "      <td>0</td>\n",
       "      <td>0</td>\n",
       "      <td>0</td>\n",
       "      <td>0</td>\n",
       "      <td>0</td>\n",
       "      <td>0</td>\n",
       "      <td>0</td>\n",
       "      <td>0</td>\n",
       "      <td>0</td>\n",
       "      <td>0</td>\n",
       "      <td>0</td>\n",
       "      <td>0</td>\n",
       "      <td>0</td>\n",
       "      <td>0</td>\n",
       "      <td>0</td>\n",
       "      <td>0</td>\n",
       "      <td>0</td>\n",
       "      <td>0</td>\n",
       "      <td>0</td>\n",
       "      <td>0</td>\n",
       "      <td>0</td>\n",
       "      <td>0</td>\n",
       "      <td>0</td>\n",
       "      <td>0</td>\n",
       "      <td>0</td>\n",
       "      <td>0</td>\n",
       "      <td>1</td>\n",
       "      <td>1</td>\n",
       "      <td>0</td>\n",
       "      <td>0</td>\n",
       "      <td>0</td>\n",
       "      <td>0</td>\n",
       "      <td>0</td>\n",
       "    </tr>\n",
       "    <tr>\n",
       "      <th>4</th>\n",
       "      <td>0</td>\n",
       "      <td>0</td>\n",
       "      <td>0</td>\n",
       "      <td>0</td>\n",
       "      <td>0</td>\n",
       "      <td>0</td>\n",
       "      <td>0</td>\n",
       "      <td>0</td>\n",
       "      <td>0</td>\n",
       "      <td>0</td>\n",
       "      <td>0</td>\n",
       "      <td>0</td>\n",
       "      <td>0</td>\n",
       "      <td>0</td>\n",
       "      <td>0</td>\n",
       "      <td>0</td>\n",
       "      <td>0</td>\n",
       "      <td>0</td>\n",
       "      <td>0</td>\n",
       "      <td>0</td>\n",
       "      <td>1</td>\n",
       "      <td>0</td>\n",
       "      <td>1</td>\n",
       "      <td>0</td>\n",
       "      <td>0</td>\n",
       "      <td>0</td>\n",
       "      <td>0</td>\n",
       "      <td>0</td>\n",
       "      <td>0</td>\n",
       "      <td>0</td>\n",
       "      <td>0</td>\n",
       "      <td>0</td>\n",
       "      <td>0</td>\n",
       "      <td>0</td>\n",
       "      <td>0</td>\n",
       "      <td>0</td>\n",
       "      <td>0</td>\n",
       "      <td>1</td>\n",
       "      <td>0</td>\n",
       "      <td>0</td>\n",
       "      <td>0</td>\n",
       "      <td>0</td>\n",
       "      <td>0</td>\n",
       "      <td>0</td>\n",
       "      <td>0</td>\n",
       "      <td>0</td>\n",
       "      <td>0</td>\n",
       "      <td>0</td>\n",
       "      <td>0</td>\n",
       "      <td>0</td>\n",
       "      <td>0</td>\n",
       "      <td>0</td>\n",
       "      <td>1</td>\n",
       "      <td>1</td>\n",
       "      <td>0</td>\n",
       "      <td>0</td>\n",
       "      <td>0</td>\n",
       "      <td>0</td>\n",
       "      <td>0</td>\n",
       "    </tr>\n",
       "  </tbody>\n",
       "</table>\n",
       "</div>"
      ],
      "text/plain": [
       "   'Dangerous Permission: ACCESS_SUPERUSER'  \\\n",
       "0                                         0   \n",
       "1                                         0   \n",
       "2                                         0   \n",
       "3                                         0   \n",
       "4                                         0   \n",
       "\n",
       "   'Dangerous Permission: BLUETOOTH_PRIVILEGED'  \\\n",
       "0                                             0   \n",
       "1                                             0   \n",
       "2                                             0   \n",
       "3                                             0   \n",
       "4                                             0   \n",
       "\n",
       "   'Dangerous Permission: BRICK'  \\\n",
       "0                              0   \n",
       "1                              0   \n",
       "2                              0   \n",
       "3                              0   \n",
       "4                              0   \n",
       "\n",
       "   'Dangerous Permission: CHANGE_COMPONENT_ENABLED_STATE'  \\\n",
       "0                                                  0        \n",
       "1                                                  0        \n",
       "2                                                  0        \n",
       "3                                                  0        \n",
       "4                                                  0        \n",
       "\n",
       "   'Dangerous Permission: CLEAR_APP_USER_DATA'  \\\n",
       "0                                            0   \n",
       "1                                            0   \n",
       "2                                            0   \n",
       "3                                            0   \n",
       "4                                            0   \n",
       "\n",
       "   'Dangerous Permission: DELETE_CACHE_FILES'  \\\n",
       "0                                           0   \n",
       "1                                           0   \n",
       "2                                           0   \n",
       "3                                           0   \n",
       "4                                           0   \n",
       "\n",
       "   'Dangerous Permission: DELETE_PACKAGES'  \\\n",
       "0                                        0   \n",
       "1                                        0   \n",
       "2                                        0   \n",
       "3                                        0   \n",
       "4                                        0   \n",
       "\n",
       "   'Dangerous Permission: DISABLE_KEYGUARD'  \\\n",
       "0                                         0   \n",
       "1                                         0   \n",
       "2                                         0   \n",
       "3                                         0   \n",
       "4                                         0   \n",
       "\n",
       "   'Dangerous Permission: FACTORY_TEST'  \\\n",
       "0                                     0   \n",
       "1                                     0   \n",
       "2                                     0   \n",
       "3                                     0   \n",
       "4                                     0   \n",
       "\n",
       "   'Dangerous Permission: INSTALL_PACKAGES'  \\\n",
       "0                                         0   \n",
       "1                                         0   \n",
       "2                                         0   \n",
       "3                                         0   \n",
       "4                                         0   \n",
       "\n",
       "   'Dangerous Permission: INJECT_EVENTS'  \\\n",
       "0                                      0   \n",
       "1                                      0   \n",
       "2                                      0   \n",
       "3                                      0   \n",
       "4                                      0   \n",
       "\n",
       "   'Dangerous Permission: INTERNAL_SYSTEM_WINDOW'  \\\n",
       "0                                               0   \n",
       "1                                               0   \n",
       "2                                               0   \n",
       "3                                               0   \n",
       "4                                               0   \n",
       "\n",
       "   'Dangerous Permission: KILL_BACKGROUND_PROCESSES'  \\\n",
       "0                                                  0   \n",
       "1                                                  0   \n",
       "2                                                  0   \n",
       "3                                                  0   \n",
       "4                                                  0   \n",
       "\n",
       "   'Dangerous Permission: MASTER_CLEAR'  \\\n",
       "0                                     0   \n",
       "1                                     0   \n",
       "2                                     0   \n",
       "3                                     0   \n",
       "4                                     0   \n",
       "\n",
       "   'Dangerous Permission: MODIFY_PHONE_STATE'  \\\n",
       "0                                           0   \n",
       "1                                           0   \n",
       "2                                           0   \n",
       "3                                           0   \n",
       "4                                           0   \n",
       "\n",
       "   'Dangerous Permission: MOUNT_FORMAT_FILESYSTEM'  \\\n",
       "0                                                0   \n",
       "1                                                0   \n",
       "2                                                0   \n",
       "3                                                0   \n",
       "4                                                0   \n",
       "\n",
       "   'Dangerous Permission: MOUNT_UNMOUNT_FILESYSTEM'  \\\n",
       "0                                                 0   \n",
       "1                                                 0   \n",
       "2                                                 0   \n",
       "3                                                 0   \n",
       "4                                                 0   \n",
       "\n",
       "   'Dangerous Permission: PROCESS_OUTGOING_CALLS'  \\\n",
       "0                                               0   \n",
       "1                                               0   \n",
       "2                                               0   \n",
       "3                                               0   \n",
       "4                                               0   \n",
       "\n",
       "   'Dangerous Permission: READ_LOGS'  'Dangerous Permission: REBOOT'  \\\n",
       "0                                  0                               0   \n",
       "1                                  0                               0   \n",
       "2                                  0                               0   \n",
       "3                                  0                               0   \n",
       "4                                  0                               0   \n",
       "\n",
       "   'Dangerous Permission: RECEIVE_BOOT_COMPLETED'  \\\n",
       "0                                               0   \n",
       "1                                               0   \n",
       "2                                               0   \n",
       "3                                               0   \n",
       "4                                               1   \n",
       "\n",
       "   'Dangerous Permission: STATUS_BAR'  \\\n",
       "0                                   0   \n",
       "1                                   0   \n",
       "2                                   0   \n",
       "3                                   0   \n",
       "4                                   0   \n",
       "\n",
       "   'Dangerous Permission: WRITE_EXTERNAL_STORAGE'  \\\n",
       "0                                               0   \n",
       "1                                               0   \n",
       "2                                               0   \n",
       "3                                               0   \n",
       "4                                               1   \n",
       "\n",
       "   'Dangerous Permission: WRITE_HISTORY_BOOKMARKS'  \\\n",
       "0                                                0   \n",
       "1                                                0   \n",
       "2                                                0   \n",
       "3                                                0   \n",
       "4                                                0   \n",
       "\n",
       "   'Dangerous Permission: WRITE_PROFILE'  \\\n",
       "0                                      0   \n",
       "1                                      0   \n",
       "2                                      0   \n",
       "3                                      0   \n",
       "4                                      0   \n",
       "\n",
       "   'Dangerous Permission: WRITE_SECURE_SETTINGS'  \\\n",
       "0                                              0   \n",
       "1                                              0   \n",
       "2                                              0   \n",
       "3                                              0   \n",
       "4                                              0   \n",
       "\n",
       "   'Harmless Permission: ACCESS_SURFACE_FLINGER'  \\\n",
       "0                                              0   \n",
       "1                                              0   \n",
       "2                                              0   \n",
       "3                                              0   \n",
       "4                                              0   \n",
       "\n",
       "   'Harmless Permission: ACCOUNT_MANAGER'  \\\n",
       "0                                       0   \n",
       "1                                       0   \n",
       "2                                       0   \n",
       "3                                       0   \n",
       "4                                       0   \n",
       "\n",
       "   'Harmless Permission: ADD_VOICEMAIL'  \\\n",
       "0                                     0   \n",
       "1                                     0   \n",
       "2                                     0   \n",
       "3                                     0   \n",
       "4                                     0   \n",
       "\n",
       "   'Harmless Permission: CONTROL_LOCATION_UPDATES'  \\\n",
       "0                                                0   \n",
       "1                                                0   \n",
       "2                                                0   \n",
       "3                                                0   \n",
       "4                                                0   \n",
       "\n",
       "   'Harmless Permission: DEVICE_POWER'  \\\n",
       "0                                    0   \n",
       "1                                    0   \n",
       "2                                    0   \n",
       "3                                    0   \n",
       "4                                    0   \n",
       "\n",
       "   'Harmless Permission: EXPAND_STATUS_BAR'  \\\n",
       "0                                         0   \n",
       "1                                         0   \n",
       "2                                         0   \n",
       "3                                         0   \n",
       "4                                         0   \n",
       "\n",
       "   'Harmless Permission: FLASHLIGHT'  'Harmless Permission: FORCE_BACK'  \\\n",
       "0                                  0                                  0   \n",
       "1                                  0                                  0   \n",
       "2                                  0                                  0   \n",
       "3                                  0                                  0   \n",
       "4                                  0                                  0   \n",
       "\n",
       "   'Harmless Permission: GET_PACKAGE_SIZE'  \\\n",
       "0                                        0   \n",
       "1                                        0   \n",
       "2                                        0   \n",
       "3                                        0   \n",
       "4                                        0   \n",
       "\n",
       "   'Harmless Permission: GET_TOP_ACTIVITY_INFO'  \\\n",
       "0                                             0   \n",
       "1                                             0   \n",
       "2                                             0   \n",
       "3                                             0   \n",
       "4                                             0   \n",
       "\n",
       "   'Harmless Permission: GLOBAL_SEARCH'  \\\n",
       "0                                     0   \n",
       "1                                     0   \n",
       "2                                     0   \n",
       "3                                     0   \n",
       "4                                     0   \n",
       "\n",
       "   'Harmless Permission: INSTALL_SHORTCUT'  \\\n",
       "0                                        0   \n",
       "1                                        0   \n",
       "2                                        0   \n",
       "3                                        0   \n",
       "4                                        1   \n",
       "\n",
       "   'Harmless Permission: MANAGE_DOCUMENTS'  \\\n",
       "0                                        0   \n",
       "1                                        0   \n",
       "2                                        0   \n",
       "3                                        0   \n",
       "4                                        0   \n",
       "\n",
       "   'Harmless Permission: MEDIA_CONTENT_CONTROL'  \\\n",
       "0                                             0   \n",
       "1                                             0   \n",
       "2                                             0   \n",
       "3                                             0   \n",
       "4                                             0   \n",
       "\n",
       "   'Harmless Permission: MODIFY_AUDIO_SETTINGS'  \\\n",
       "0                                             0   \n",
       "1                                             0   \n",
       "2                                             0   \n",
       "3                                             0   \n",
       "4                                             0   \n",
       "\n",
       "   'Harmless Permission: READ_USER_DICTIONARY'  \\\n",
       "0                                            0   \n",
       "1                                            0   \n",
       "2                                            0   \n",
       "3                                            0   \n",
       "4                                            0   \n",
       "\n",
       "   'Harmless Permission: REORDER_TASKS'  \\\n",
       "0                                     0   \n",
       "1                                     0   \n",
       "2                                     0   \n",
       "3                                     0   \n",
       "4                                     0   \n",
       "\n",
       "   'Harmless Permission: SEND_RESPOND_VIA_MESSAGE'  \\\n",
       "0                                                0   \n",
       "1                                                0   \n",
       "2                                                0   \n",
       "3                                                0   \n",
       "4                                                0   \n",
       "\n",
       "   'Harmless Permission: SET_ALARM'  \\\n",
       "0                                 0   \n",
       "1                                 0   \n",
       "2                                 0   \n",
       "3                                 0   \n",
       "4                                 0   \n",
       "\n",
       "   'Harmless Permission: SET_ANIMATION_SCALE'  \\\n",
       "0                                           0   \n",
       "1                                           0   \n",
       "2                                           0   \n",
       "3                                           0   \n",
       "4                                           0   \n",
       "\n",
       "   'Harmless Permission: SET_ORIENTATION'  \\\n",
       "0                                       0   \n",
       "1                                       0   \n",
       "2                                       0   \n",
       "3                                       0   \n",
       "4                                       0   \n",
       "\n",
       "   'Harmless Permission: SET_POINTER_SPEED'  'Harmless Permission: SET_TIME'  \\\n",
       "0                                         0                                0   \n",
       "1                                         0                                0   \n",
       "2                                         0                                0   \n",
       "3                                         0                                0   \n",
       "4                                         0                                0   \n",
       "\n",
       "   'Harmless Permission: SET_TIME_ZONE'  'Harmless Permission: SET_WALLPAPER'  \\\n",
       "0                                     0                                     0   \n",
       "1                                     0                                     0   \n",
       "2                                     0                                     0   \n",
       "3                                     0                                     0   \n",
       "4                                     0                                     0   \n",
       "\n",
       "   'Harmless Permission: UNINSTALL_SHORTCUT'  'Harmless Permission: VIBRATE'  \\\n",
       "0                                          0                               0   \n",
       "1                                          0                               0   \n",
       "2                                          0                               0   \n",
       "3                                          0                               1   \n",
       "4                                          0                               1   \n",
       "\n",
       "   'Harmless Permission: WAKE_LOCK'  'Harmless Permission: WRITE_CALENDAR'  \\\n",
       "0                                 0                                      0   \n",
       "1                                 0                                      0   \n",
       "2                                 0                                      0   \n",
       "3                                 1                                      0   \n",
       "4                                 1                                      0   \n",
       "\n",
       "   'Harmless Permission: WRITE_CALL_LOG'  \\\n",
       "0                                      0   \n",
       "1                                      0   \n",
       "2                                      0   \n",
       "3                                      0   \n",
       "4                                      0   \n",
       "\n",
       "   'Harmless Permission: WRITE_CONTACTS'  \\\n",
       "0                                      0   \n",
       "1                                      0   \n",
       "2                                      0   \n",
       "3                                      0   \n",
       "4                                      0   \n",
       "\n",
       "   'Harmless Permission: WRITE_USER_DICTIONARY'  class  \n",
       "0                                             0      0  \n",
       "1                                             0      0  \n",
       "2                                             0      0  \n",
       "3                                             0      0  \n",
       "4                                             0      0  "
      ]
     },
     "execution_count": 19,
     "metadata": {},
     "output_type": "execute_result"
    }
   ],
   "source": [
    "andro.head()"
   ]
  },
  {
   "cell_type": "code",
   "execution_count": null,
   "metadata": {
    "cell_id": "00029-a96b2bcb-1561-44e8-962c-c9763d33971b",
    "deepnote_cell_type": "code",
    "deepnote_to_be_reexecuted": false,
    "execution_millis": 2,
    "execution_start": 1631226022771,
    "source_hash": "ccc19e26",
    "tags": []
   },
   "outputs": [],
   "source": [
    "for col in andro.columns:\n",
    "    split = []\n",
    "    split = col.split(\":\")\n",
    "    split = split[-1]\n",
    "    split = split.replace(\" \", \"\")\n",
    "    split = split.replace(\"'\", \"\")\n",
    "    andro.rename(columns={col : split}, inplace=True)"
   ]
  },
  {
   "cell_type": "code",
   "execution_count": null,
   "metadata": {
    "cell_id": "00030-b4e9ac6c-b3af-4ce6-939c-1f96d218d535",
    "deepnote_cell_type": "code",
    "deepnote_to_be_reexecuted": false,
    "execution_millis": 201,
    "execution_start": 1631226022778,
    "source_hash": "709fee3a",
    "tags": []
   },
   "outputs": [
    {
     "data": {
      "application/vnd.deepnote.dataframe.v2+json": {
       "column_count": 59,
       "columns": [
        {
         "dtype": "int64",
         "name": "ACCESS_SUPERUSER",
         "stats": {
          "histogram": [
           {
            "bin_end": -0.4,
            "bin_start": -0.5,
            "count": 0
           },
           {
            "bin_end": -0.3,
            "bin_start": -0.4,
            "count": 0
           },
           {
            "bin_end": -0.19999999999999996,
            "bin_start": -0.3,
            "count": 0
           },
           {
            "bin_end": -0.09999999999999998,
            "bin_start": -0.19999999999999996,
            "count": 0
           },
           {
            "bin_end": 0,
            "bin_start": -0.09999999999999998,
            "count": 0
           },
           {
            "bin_end": 0.10000000000000009,
            "bin_start": 0,
            "count": 5
           },
           {
            "bin_end": 0.20000000000000007,
            "bin_start": 0.10000000000000009,
            "count": 0
           },
           {
            "bin_end": 0.30000000000000004,
            "bin_start": 0.20000000000000007,
            "count": 0
           },
           {
            "bin_end": 0.4,
            "bin_start": 0.30000000000000004,
            "count": 0
           },
           {
            "bin_end": 0.5,
            "bin_start": 0.4,
            "count": 0
           }
          ],
          "max": "0",
          "min": "0",
          "nan_count": 0,
          "unique_count": 1
         }
        },
        {
         "dtype": "int64",
         "name": "BLUETOOTH_PRIVILEGED",
         "stats": {
          "histogram": [
           {
            "bin_end": -0.4,
            "bin_start": -0.5,
            "count": 0
           },
           {
            "bin_end": -0.3,
            "bin_start": -0.4,
            "count": 0
           },
           {
            "bin_end": -0.19999999999999996,
            "bin_start": -0.3,
            "count": 0
           },
           {
            "bin_end": -0.09999999999999998,
            "bin_start": -0.19999999999999996,
            "count": 0
           },
           {
            "bin_end": 0,
            "bin_start": -0.09999999999999998,
            "count": 0
           },
           {
            "bin_end": 0.10000000000000009,
            "bin_start": 0,
            "count": 5
           },
           {
            "bin_end": 0.20000000000000007,
            "bin_start": 0.10000000000000009,
            "count": 0
           },
           {
            "bin_end": 0.30000000000000004,
            "bin_start": 0.20000000000000007,
            "count": 0
           },
           {
            "bin_end": 0.4,
            "bin_start": 0.30000000000000004,
            "count": 0
           },
           {
            "bin_end": 0.5,
            "bin_start": 0.4,
            "count": 0
           }
          ],
          "max": "0",
          "min": "0",
          "nan_count": 0,
          "unique_count": 1
         }
        },
        {
         "dtype": "int64",
         "name": "BRICK",
         "stats": {
          "histogram": [
           {
            "bin_end": -0.4,
            "bin_start": -0.5,
            "count": 0
           },
           {
            "bin_end": -0.3,
            "bin_start": -0.4,
            "count": 0
           },
           {
            "bin_end": -0.19999999999999996,
            "bin_start": -0.3,
            "count": 0
           },
           {
            "bin_end": -0.09999999999999998,
            "bin_start": -0.19999999999999996,
            "count": 0
           },
           {
            "bin_end": 0,
            "bin_start": -0.09999999999999998,
            "count": 0
           },
           {
            "bin_end": 0.10000000000000009,
            "bin_start": 0,
            "count": 5
           },
           {
            "bin_end": 0.20000000000000007,
            "bin_start": 0.10000000000000009,
            "count": 0
           },
           {
            "bin_end": 0.30000000000000004,
            "bin_start": 0.20000000000000007,
            "count": 0
           },
           {
            "bin_end": 0.4,
            "bin_start": 0.30000000000000004,
            "count": 0
           },
           {
            "bin_end": 0.5,
            "bin_start": 0.4,
            "count": 0
           }
          ],
          "max": "0",
          "min": "0",
          "nan_count": 0,
          "unique_count": 1
         }
        },
        {
         "dtype": "int64",
         "name": "CHANGE_COMPONENT_ENABLED_STATE",
         "stats": {
          "histogram": [
           {
            "bin_end": -0.4,
            "bin_start": -0.5,
            "count": 0
           },
           {
            "bin_end": -0.3,
            "bin_start": -0.4,
            "count": 0
           },
           {
            "bin_end": -0.19999999999999996,
            "bin_start": -0.3,
            "count": 0
           },
           {
            "bin_end": -0.09999999999999998,
            "bin_start": -0.19999999999999996,
            "count": 0
           },
           {
            "bin_end": 0,
            "bin_start": -0.09999999999999998,
            "count": 0
           },
           {
            "bin_end": 0.10000000000000009,
            "bin_start": 0,
            "count": 5
           },
           {
            "bin_end": 0.20000000000000007,
            "bin_start": 0.10000000000000009,
            "count": 0
           },
           {
            "bin_end": 0.30000000000000004,
            "bin_start": 0.20000000000000007,
            "count": 0
           },
           {
            "bin_end": 0.4,
            "bin_start": 0.30000000000000004,
            "count": 0
           },
           {
            "bin_end": 0.5,
            "bin_start": 0.4,
            "count": 0
           }
          ],
          "max": "0",
          "min": "0",
          "nan_count": 0,
          "unique_count": 1
         }
        },
        {
         "dtype": "int64",
         "name": "CLEAR_APP_USER_DATA",
         "stats": {
          "histogram": [
           {
            "bin_end": -0.4,
            "bin_start": -0.5,
            "count": 0
           },
           {
            "bin_end": -0.3,
            "bin_start": -0.4,
            "count": 0
           },
           {
            "bin_end": -0.19999999999999996,
            "bin_start": -0.3,
            "count": 0
           },
           {
            "bin_end": -0.09999999999999998,
            "bin_start": -0.19999999999999996,
            "count": 0
           },
           {
            "bin_end": 0,
            "bin_start": -0.09999999999999998,
            "count": 0
           },
           {
            "bin_end": 0.10000000000000009,
            "bin_start": 0,
            "count": 5
           },
           {
            "bin_end": 0.20000000000000007,
            "bin_start": 0.10000000000000009,
            "count": 0
           },
           {
            "bin_end": 0.30000000000000004,
            "bin_start": 0.20000000000000007,
            "count": 0
           },
           {
            "bin_end": 0.4,
            "bin_start": 0.30000000000000004,
            "count": 0
           },
           {
            "bin_end": 0.5,
            "bin_start": 0.4,
            "count": 0
           }
          ],
          "max": "0",
          "min": "0",
          "nan_count": 0,
          "unique_count": 1
         }
        },
        {
         "dtype": "int64",
         "name": "DELETE_CACHE_FILES",
         "stats": {
          "histogram": [
           {
            "bin_end": -0.4,
            "bin_start": -0.5,
            "count": 0
           },
           {
            "bin_end": -0.3,
            "bin_start": -0.4,
            "count": 0
           },
           {
            "bin_end": -0.19999999999999996,
            "bin_start": -0.3,
            "count": 0
           },
           {
            "bin_end": -0.09999999999999998,
            "bin_start": -0.19999999999999996,
            "count": 0
           },
           {
            "bin_end": 0,
            "bin_start": -0.09999999999999998,
            "count": 0
           },
           {
            "bin_end": 0.10000000000000009,
            "bin_start": 0,
            "count": 5
           },
           {
            "bin_end": 0.20000000000000007,
            "bin_start": 0.10000000000000009,
            "count": 0
           },
           {
            "bin_end": 0.30000000000000004,
            "bin_start": 0.20000000000000007,
            "count": 0
           },
           {
            "bin_end": 0.4,
            "bin_start": 0.30000000000000004,
            "count": 0
           },
           {
            "bin_end": 0.5,
            "bin_start": 0.4,
            "count": 0
           }
          ],
          "max": "0",
          "min": "0",
          "nan_count": 0,
          "unique_count": 1
         }
        },
        {
         "dtype": "int64",
         "name": "DELETE_PACKAGES",
         "stats": {
          "histogram": [
           {
            "bin_end": -0.4,
            "bin_start": -0.5,
            "count": 0
           },
           {
            "bin_end": -0.3,
            "bin_start": -0.4,
            "count": 0
           },
           {
            "bin_end": -0.19999999999999996,
            "bin_start": -0.3,
            "count": 0
           },
           {
            "bin_end": -0.09999999999999998,
            "bin_start": -0.19999999999999996,
            "count": 0
           },
           {
            "bin_end": 0,
            "bin_start": -0.09999999999999998,
            "count": 0
           },
           {
            "bin_end": 0.10000000000000009,
            "bin_start": 0,
            "count": 5
           },
           {
            "bin_end": 0.20000000000000007,
            "bin_start": 0.10000000000000009,
            "count": 0
           },
           {
            "bin_end": 0.30000000000000004,
            "bin_start": 0.20000000000000007,
            "count": 0
           },
           {
            "bin_end": 0.4,
            "bin_start": 0.30000000000000004,
            "count": 0
           },
           {
            "bin_end": 0.5,
            "bin_start": 0.4,
            "count": 0
           }
          ],
          "max": "0",
          "min": "0",
          "nan_count": 0,
          "unique_count": 1
         }
        },
        {
         "dtype": "int64",
         "name": "DISABLE_KEYGUARD",
         "stats": {
          "histogram": [
           {
            "bin_end": -0.4,
            "bin_start": -0.5,
            "count": 0
           },
           {
            "bin_end": -0.3,
            "bin_start": -0.4,
            "count": 0
           },
           {
            "bin_end": -0.19999999999999996,
            "bin_start": -0.3,
            "count": 0
           },
           {
            "bin_end": -0.09999999999999998,
            "bin_start": -0.19999999999999996,
            "count": 0
           },
           {
            "bin_end": 0,
            "bin_start": -0.09999999999999998,
            "count": 0
           },
           {
            "bin_end": 0.10000000000000009,
            "bin_start": 0,
            "count": 5
           },
           {
            "bin_end": 0.20000000000000007,
            "bin_start": 0.10000000000000009,
            "count": 0
           },
           {
            "bin_end": 0.30000000000000004,
            "bin_start": 0.20000000000000007,
            "count": 0
           },
           {
            "bin_end": 0.4,
            "bin_start": 0.30000000000000004,
            "count": 0
           },
           {
            "bin_end": 0.5,
            "bin_start": 0.4,
            "count": 0
           }
          ],
          "max": "0",
          "min": "0",
          "nan_count": 0,
          "unique_count": 1
         }
        },
        {
         "dtype": "int64",
         "name": "FACTORY_TEST",
         "stats": {
          "histogram": [
           {
            "bin_end": -0.4,
            "bin_start": -0.5,
            "count": 0
           },
           {
            "bin_end": -0.3,
            "bin_start": -0.4,
            "count": 0
           },
           {
            "bin_end": -0.19999999999999996,
            "bin_start": -0.3,
            "count": 0
           },
           {
            "bin_end": -0.09999999999999998,
            "bin_start": -0.19999999999999996,
            "count": 0
           },
           {
            "bin_end": 0,
            "bin_start": -0.09999999999999998,
            "count": 0
           },
           {
            "bin_end": 0.10000000000000009,
            "bin_start": 0,
            "count": 5
           },
           {
            "bin_end": 0.20000000000000007,
            "bin_start": 0.10000000000000009,
            "count": 0
           },
           {
            "bin_end": 0.30000000000000004,
            "bin_start": 0.20000000000000007,
            "count": 0
           },
           {
            "bin_end": 0.4,
            "bin_start": 0.30000000000000004,
            "count": 0
           },
           {
            "bin_end": 0.5,
            "bin_start": 0.4,
            "count": 0
           }
          ],
          "max": "0",
          "min": "0",
          "nan_count": 0,
          "unique_count": 1
         }
        },
        {
         "dtype": "int64",
         "name": "INSTALL_PACKAGES",
         "stats": {
          "histogram": [
           {
            "bin_end": -0.4,
            "bin_start": -0.5,
            "count": 0
           },
           {
            "bin_end": -0.3,
            "bin_start": -0.4,
            "count": 0
           },
           {
            "bin_end": -0.19999999999999996,
            "bin_start": -0.3,
            "count": 0
           },
           {
            "bin_end": -0.09999999999999998,
            "bin_start": -0.19999999999999996,
            "count": 0
           },
           {
            "bin_end": 0,
            "bin_start": -0.09999999999999998,
            "count": 0
           },
           {
            "bin_end": 0.10000000000000009,
            "bin_start": 0,
            "count": 5
           },
           {
            "bin_end": 0.20000000000000007,
            "bin_start": 0.10000000000000009,
            "count": 0
           },
           {
            "bin_end": 0.30000000000000004,
            "bin_start": 0.20000000000000007,
            "count": 0
           },
           {
            "bin_end": 0.4,
            "bin_start": 0.30000000000000004,
            "count": 0
           },
           {
            "bin_end": 0.5,
            "bin_start": 0.4,
            "count": 0
           }
          ],
          "max": "0",
          "min": "0",
          "nan_count": 0,
          "unique_count": 1
         }
        },
        {
         "dtype": "int64",
         "name": "INJECT_EVENTS",
         "stats": {
          "histogram": [
           {
            "bin_end": -0.4,
            "bin_start": -0.5,
            "count": 0
           },
           {
            "bin_end": -0.3,
            "bin_start": -0.4,
            "count": 0
           },
           {
            "bin_end": -0.19999999999999996,
            "bin_start": -0.3,
            "count": 0
           },
           {
            "bin_end": -0.09999999999999998,
            "bin_start": -0.19999999999999996,
            "count": 0
           },
           {
            "bin_end": 0,
            "bin_start": -0.09999999999999998,
            "count": 0
           },
           {
            "bin_end": 0.10000000000000009,
            "bin_start": 0,
            "count": 5
           },
           {
            "bin_end": 0.20000000000000007,
            "bin_start": 0.10000000000000009,
            "count": 0
           },
           {
            "bin_end": 0.30000000000000004,
            "bin_start": 0.20000000000000007,
            "count": 0
           },
           {
            "bin_end": 0.4,
            "bin_start": 0.30000000000000004,
            "count": 0
           },
           {
            "bin_end": 0.5,
            "bin_start": 0.4,
            "count": 0
           }
          ],
          "max": "0",
          "min": "0",
          "nan_count": 0,
          "unique_count": 1
         }
        },
        {
         "dtype": "int64",
         "name": "INTERNAL_SYSTEM_WINDOW",
         "stats": {
          "histogram": [
           {
            "bin_end": -0.4,
            "bin_start": -0.5,
            "count": 0
           },
           {
            "bin_end": -0.3,
            "bin_start": -0.4,
            "count": 0
           },
           {
            "bin_end": -0.19999999999999996,
            "bin_start": -0.3,
            "count": 0
           },
           {
            "bin_end": -0.09999999999999998,
            "bin_start": -0.19999999999999996,
            "count": 0
           },
           {
            "bin_end": 0,
            "bin_start": -0.09999999999999998,
            "count": 0
           },
           {
            "bin_end": 0.10000000000000009,
            "bin_start": 0,
            "count": 5
           },
           {
            "bin_end": 0.20000000000000007,
            "bin_start": 0.10000000000000009,
            "count": 0
           },
           {
            "bin_end": 0.30000000000000004,
            "bin_start": 0.20000000000000007,
            "count": 0
           },
           {
            "bin_end": 0.4,
            "bin_start": 0.30000000000000004,
            "count": 0
           },
           {
            "bin_end": 0.5,
            "bin_start": 0.4,
            "count": 0
           }
          ],
          "max": "0",
          "min": "0",
          "nan_count": 0,
          "unique_count": 1
         }
        },
        {
         "dtype": "int64",
         "name": "KILL_BACKGROUND_PROCESSES",
         "stats": {
          "histogram": [
           {
            "bin_end": -0.4,
            "bin_start": -0.5,
            "count": 0
           },
           {
            "bin_end": -0.3,
            "bin_start": -0.4,
            "count": 0
           },
           {
            "bin_end": -0.19999999999999996,
            "bin_start": -0.3,
            "count": 0
           },
           {
            "bin_end": -0.09999999999999998,
            "bin_start": -0.19999999999999996,
            "count": 0
           },
           {
            "bin_end": 0,
            "bin_start": -0.09999999999999998,
            "count": 0
           },
           {
            "bin_end": 0.10000000000000009,
            "bin_start": 0,
            "count": 5
           },
           {
            "bin_end": 0.20000000000000007,
            "bin_start": 0.10000000000000009,
            "count": 0
           },
           {
            "bin_end": 0.30000000000000004,
            "bin_start": 0.20000000000000007,
            "count": 0
           },
           {
            "bin_end": 0.4,
            "bin_start": 0.30000000000000004,
            "count": 0
           },
           {
            "bin_end": 0.5,
            "bin_start": 0.4,
            "count": 0
           }
          ],
          "max": "0",
          "min": "0",
          "nan_count": 0,
          "unique_count": 1
         }
        },
        {
         "dtype": "int64",
         "name": "MASTER_CLEAR",
         "stats": {
          "histogram": [
           {
            "bin_end": -0.4,
            "bin_start": -0.5,
            "count": 0
           },
           {
            "bin_end": -0.3,
            "bin_start": -0.4,
            "count": 0
           },
           {
            "bin_end": -0.19999999999999996,
            "bin_start": -0.3,
            "count": 0
           },
           {
            "bin_end": -0.09999999999999998,
            "bin_start": -0.19999999999999996,
            "count": 0
           },
           {
            "bin_end": 0,
            "bin_start": -0.09999999999999998,
            "count": 0
           },
           {
            "bin_end": 0.10000000000000009,
            "bin_start": 0,
            "count": 5
           },
           {
            "bin_end": 0.20000000000000007,
            "bin_start": 0.10000000000000009,
            "count": 0
           },
           {
            "bin_end": 0.30000000000000004,
            "bin_start": 0.20000000000000007,
            "count": 0
           },
           {
            "bin_end": 0.4,
            "bin_start": 0.30000000000000004,
            "count": 0
           },
           {
            "bin_end": 0.5,
            "bin_start": 0.4,
            "count": 0
           }
          ],
          "max": "0",
          "min": "0",
          "nan_count": 0,
          "unique_count": 1
         }
        },
        {
         "dtype": "int64",
         "name": "MODIFY_PHONE_STATE",
         "stats": {
          "histogram": [
           {
            "bin_end": -0.4,
            "bin_start": -0.5,
            "count": 0
           },
           {
            "bin_end": -0.3,
            "bin_start": -0.4,
            "count": 0
           },
           {
            "bin_end": -0.19999999999999996,
            "bin_start": -0.3,
            "count": 0
           },
           {
            "bin_end": -0.09999999999999998,
            "bin_start": -0.19999999999999996,
            "count": 0
           },
           {
            "bin_end": 0,
            "bin_start": -0.09999999999999998,
            "count": 0
           },
           {
            "bin_end": 0.10000000000000009,
            "bin_start": 0,
            "count": 5
           },
           {
            "bin_end": 0.20000000000000007,
            "bin_start": 0.10000000000000009,
            "count": 0
           },
           {
            "bin_end": 0.30000000000000004,
            "bin_start": 0.20000000000000007,
            "count": 0
           },
           {
            "bin_end": 0.4,
            "bin_start": 0.30000000000000004,
            "count": 0
           },
           {
            "bin_end": 0.5,
            "bin_start": 0.4,
            "count": 0
           }
          ],
          "max": "0",
          "min": "0",
          "nan_count": 0,
          "unique_count": 1
         }
        },
        {
         "dtype": "int64",
         "name": "MOUNT_FORMAT_FILESYSTEM",
         "stats": {
          "histogram": [
           {
            "bin_end": -0.4,
            "bin_start": -0.5,
            "count": 0
           },
           {
            "bin_end": -0.3,
            "bin_start": -0.4,
            "count": 0
           },
           {
            "bin_end": -0.19999999999999996,
            "bin_start": -0.3,
            "count": 0
           },
           {
            "bin_end": -0.09999999999999998,
            "bin_start": -0.19999999999999996,
            "count": 0
           },
           {
            "bin_end": 0,
            "bin_start": -0.09999999999999998,
            "count": 0
           },
           {
            "bin_end": 0.10000000000000009,
            "bin_start": 0,
            "count": 5
           },
           {
            "bin_end": 0.20000000000000007,
            "bin_start": 0.10000000000000009,
            "count": 0
           },
           {
            "bin_end": 0.30000000000000004,
            "bin_start": 0.20000000000000007,
            "count": 0
           },
           {
            "bin_end": 0.4,
            "bin_start": 0.30000000000000004,
            "count": 0
           },
           {
            "bin_end": 0.5,
            "bin_start": 0.4,
            "count": 0
           }
          ],
          "max": "0",
          "min": "0",
          "nan_count": 0,
          "unique_count": 1
         }
        },
        {
         "dtype": "int64",
         "name": "MOUNT_UNMOUNT_FILESYSTEM",
         "stats": {
          "histogram": [
           {
            "bin_end": -0.4,
            "bin_start": -0.5,
            "count": 0
           },
           {
            "bin_end": -0.3,
            "bin_start": -0.4,
            "count": 0
           },
           {
            "bin_end": -0.19999999999999996,
            "bin_start": -0.3,
            "count": 0
           },
           {
            "bin_end": -0.09999999999999998,
            "bin_start": -0.19999999999999996,
            "count": 0
           },
           {
            "bin_end": 0,
            "bin_start": -0.09999999999999998,
            "count": 0
           },
           {
            "bin_end": 0.10000000000000009,
            "bin_start": 0,
            "count": 5
           },
           {
            "bin_end": 0.20000000000000007,
            "bin_start": 0.10000000000000009,
            "count": 0
           },
           {
            "bin_end": 0.30000000000000004,
            "bin_start": 0.20000000000000007,
            "count": 0
           },
           {
            "bin_end": 0.4,
            "bin_start": 0.30000000000000004,
            "count": 0
           },
           {
            "bin_end": 0.5,
            "bin_start": 0.4,
            "count": 0
           }
          ],
          "max": "0",
          "min": "0",
          "nan_count": 0,
          "unique_count": 1
         }
        },
        {
         "dtype": "int64",
         "name": "PROCESS_OUTGOING_CALLS",
         "stats": {
          "histogram": [
           {
            "bin_end": -0.4,
            "bin_start": -0.5,
            "count": 0
           },
           {
            "bin_end": -0.3,
            "bin_start": -0.4,
            "count": 0
           },
           {
            "bin_end": -0.19999999999999996,
            "bin_start": -0.3,
            "count": 0
           },
           {
            "bin_end": -0.09999999999999998,
            "bin_start": -0.19999999999999996,
            "count": 0
           },
           {
            "bin_end": 0,
            "bin_start": -0.09999999999999998,
            "count": 0
           },
           {
            "bin_end": 0.10000000000000009,
            "bin_start": 0,
            "count": 5
           },
           {
            "bin_end": 0.20000000000000007,
            "bin_start": 0.10000000000000009,
            "count": 0
           },
           {
            "bin_end": 0.30000000000000004,
            "bin_start": 0.20000000000000007,
            "count": 0
           },
           {
            "bin_end": 0.4,
            "bin_start": 0.30000000000000004,
            "count": 0
           },
           {
            "bin_end": 0.5,
            "bin_start": 0.4,
            "count": 0
           }
          ],
          "max": "0",
          "min": "0",
          "nan_count": 0,
          "unique_count": 1
         }
        },
        {
         "dtype": "int64",
         "name": "READ_LOGS",
         "stats": {
          "histogram": [
           {
            "bin_end": -0.4,
            "bin_start": -0.5,
            "count": 0
           },
           {
            "bin_end": -0.3,
            "bin_start": -0.4,
            "count": 0
           },
           {
            "bin_end": -0.19999999999999996,
            "bin_start": -0.3,
            "count": 0
           },
           {
            "bin_end": -0.09999999999999998,
            "bin_start": -0.19999999999999996,
            "count": 0
           },
           {
            "bin_end": 0,
            "bin_start": -0.09999999999999998,
            "count": 0
           },
           {
            "bin_end": 0.10000000000000009,
            "bin_start": 0,
            "count": 5
           },
           {
            "bin_end": 0.20000000000000007,
            "bin_start": 0.10000000000000009,
            "count": 0
           },
           {
            "bin_end": 0.30000000000000004,
            "bin_start": 0.20000000000000007,
            "count": 0
           },
           {
            "bin_end": 0.4,
            "bin_start": 0.30000000000000004,
            "count": 0
           },
           {
            "bin_end": 0.5,
            "bin_start": 0.4,
            "count": 0
           }
          ],
          "max": "0",
          "min": "0",
          "nan_count": 0,
          "unique_count": 1
         }
        },
        {
         "dtype": "int64",
         "name": "REBOOT",
         "stats": {
          "histogram": [
           {
            "bin_end": -0.4,
            "bin_start": -0.5,
            "count": 0
           },
           {
            "bin_end": -0.3,
            "bin_start": -0.4,
            "count": 0
           },
           {
            "bin_end": -0.19999999999999996,
            "bin_start": -0.3,
            "count": 0
           },
           {
            "bin_end": -0.09999999999999998,
            "bin_start": -0.19999999999999996,
            "count": 0
           },
           {
            "bin_end": 0,
            "bin_start": -0.09999999999999998,
            "count": 0
           },
           {
            "bin_end": 0.10000000000000009,
            "bin_start": 0,
            "count": 5
           },
           {
            "bin_end": 0.20000000000000007,
            "bin_start": 0.10000000000000009,
            "count": 0
           },
           {
            "bin_end": 0.30000000000000004,
            "bin_start": 0.20000000000000007,
            "count": 0
           },
           {
            "bin_end": 0.4,
            "bin_start": 0.30000000000000004,
            "count": 0
           },
           {
            "bin_end": 0.5,
            "bin_start": 0.4,
            "count": 0
           }
          ],
          "max": "0",
          "min": "0",
          "nan_count": 0,
          "unique_count": 1
         }
        },
        {
         "dtype": "int64",
         "name": "RECEIVE_BOOT_COMPLETED",
         "stats": {
          "histogram": [
           {
            "bin_end": 0.1,
            "bin_start": 0,
            "count": 4
           },
           {
            "bin_end": 0.2,
            "bin_start": 0.1,
            "count": 0
           },
           {
            "bin_end": 0.30000000000000004,
            "bin_start": 0.2,
            "count": 0
           },
           {
            "bin_end": 0.4,
            "bin_start": 0.30000000000000004,
            "count": 0
           },
           {
            "bin_end": 0.5,
            "bin_start": 0.4,
            "count": 0
           },
           {
            "bin_end": 0.6000000000000001,
            "bin_start": 0.5,
            "count": 0
           },
           {
            "bin_end": 0.7000000000000001,
            "bin_start": 0.6000000000000001,
            "count": 0
           },
           {
            "bin_end": 0.8,
            "bin_start": 0.7000000000000001,
            "count": 0
           },
           {
            "bin_end": 0.9,
            "bin_start": 0.8,
            "count": 0
           },
           {
            "bin_end": 1,
            "bin_start": 0.9,
            "count": 1
           }
          ],
          "max": "1",
          "min": "0",
          "nan_count": 0,
          "unique_count": 2
         }
        },
        {
         "dtype": "int64",
         "name": "STATUS_BAR",
         "stats": {
          "histogram": [
           {
            "bin_end": -0.4,
            "bin_start": -0.5,
            "count": 0
           },
           {
            "bin_end": -0.3,
            "bin_start": -0.4,
            "count": 0
           },
           {
            "bin_end": -0.19999999999999996,
            "bin_start": -0.3,
            "count": 0
           },
           {
            "bin_end": -0.09999999999999998,
            "bin_start": -0.19999999999999996,
            "count": 0
           },
           {
            "bin_end": 0,
            "bin_start": -0.09999999999999998,
            "count": 0
           },
           {
            "bin_end": 0.10000000000000009,
            "bin_start": 0,
            "count": 5
           },
           {
            "bin_end": 0.20000000000000007,
            "bin_start": 0.10000000000000009,
            "count": 0
           },
           {
            "bin_end": 0.30000000000000004,
            "bin_start": 0.20000000000000007,
            "count": 0
           },
           {
            "bin_end": 0.4,
            "bin_start": 0.30000000000000004,
            "count": 0
           },
           {
            "bin_end": 0.5,
            "bin_start": 0.4,
            "count": 0
           }
          ],
          "max": "0",
          "min": "0",
          "nan_count": 0,
          "unique_count": 1
         }
        },
        {
         "dtype": "int64",
         "name": "WRITE_EXTERNAL_STORAGE",
         "stats": {
          "histogram": [
           {
            "bin_end": 0.1,
            "bin_start": 0,
            "count": 4
           },
           {
            "bin_end": 0.2,
            "bin_start": 0.1,
            "count": 0
           },
           {
            "bin_end": 0.30000000000000004,
            "bin_start": 0.2,
            "count": 0
           },
           {
            "bin_end": 0.4,
            "bin_start": 0.30000000000000004,
            "count": 0
           },
           {
            "bin_end": 0.5,
            "bin_start": 0.4,
            "count": 0
           },
           {
            "bin_end": 0.6000000000000001,
            "bin_start": 0.5,
            "count": 0
           },
           {
            "bin_end": 0.7000000000000001,
            "bin_start": 0.6000000000000001,
            "count": 0
           },
           {
            "bin_end": 0.8,
            "bin_start": 0.7000000000000001,
            "count": 0
           },
           {
            "bin_end": 0.9,
            "bin_start": 0.8,
            "count": 0
           },
           {
            "bin_end": 1,
            "bin_start": 0.9,
            "count": 1
           }
          ],
          "max": "1",
          "min": "0",
          "nan_count": 0,
          "unique_count": 2
         }
        },
        {
         "dtype": "int64",
         "name": "WRITE_HISTORY_BOOKMARKS",
         "stats": {
          "histogram": [
           {
            "bin_end": -0.4,
            "bin_start": -0.5,
            "count": 0
           },
           {
            "bin_end": -0.3,
            "bin_start": -0.4,
            "count": 0
           },
           {
            "bin_end": -0.19999999999999996,
            "bin_start": -0.3,
            "count": 0
           },
           {
            "bin_end": -0.09999999999999998,
            "bin_start": -0.19999999999999996,
            "count": 0
           },
           {
            "bin_end": 0,
            "bin_start": -0.09999999999999998,
            "count": 0
           },
           {
            "bin_end": 0.10000000000000009,
            "bin_start": 0,
            "count": 5
           },
           {
            "bin_end": 0.20000000000000007,
            "bin_start": 0.10000000000000009,
            "count": 0
           },
           {
            "bin_end": 0.30000000000000004,
            "bin_start": 0.20000000000000007,
            "count": 0
           },
           {
            "bin_end": 0.4,
            "bin_start": 0.30000000000000004,
            "count": 0
           },
           {
            "bin_end": 0.5,
            "bin_start": 0.4,
            "count": 0
           }
          ],
          "max": "0",
          "min": "0",
          "nan_count": 0,
          "unique_count": 1
         }
        },
        {
         "dtype": "int64",
         "name": "WRITE_PROFILE",
         "stats": {
          "histogram": [
           {
            "bin_end": -0.4,
            "bin_start": -0.5,
            "count": 0
           },
           {
            "bin_end": -0.3,
            "bin_start": -0.4,
            "count": 0
           },
           {
            "bin_end": -0.19999999999999996,
            "bin_start": -0.3,
            "count": 0
           },
           {
            "bin_end": -0.09999999999999998,
            "bin_start": -0.19999999999999996,
            "count": 0
           },
           {
            "bin_end": 0,
            "bin_start": -0.09999999999999998,
            "count": 0
           },
           {
            "bin_end": 0.10000000000000009,
            "bin_start": 0,
            "count": 5
           },
           {
            "bin_end": 0.20000000000000007,
            "bin_start": 0.10000000000000009,
            "count": 0
           },
           {
            "bin_end": 0.30000000000000004,
            "bin_start": 0.20000000000000007,
            "count": 0
           },
           {
            "bin_end": 0.4,
            "bin_start": 0.30000000000000004,
            "count": 0
           },
           {
            "bin_end": 0.5,
            "bin_start": 0.4,
            "count": 0
           }
          ],
          "max": "0",
          "min": "0",
          "nan_count": 0,
          "unique_count": 1
         }
        },
        {
         "dtype": "int64",
         "name": "WRITE_SECURE_SETTINGS",
         "stats": {
          "histogram": [
           {
            "bin_end": -0.4,
            "bin_start": -0.5,
            "count": 0
           },
           {
            "bin_end": -0.3,
            "bin_start": -0.4,
            "count": 0
           },
           {
            "bin_end": -0.19999999999999996,
            "bin_start": -0.3,
            "count": 0
           },
           {
            "bin_end": -0.09999999999999998,
            "bin_start": -0.19999999999999996,
            "count": 0
           },
           {
            "bin_end": 0,
            "bin_start": -0.09999999999999998,
            "count": 0
           },
           {
            "bin_end": 0.10000000000000009,
            "bin_start": 0,
            "count": 5
           },
           {
            "bin_end": 0.20000000000000007,
            "bin_start": 0.10000000000000009,
            "count": 0
           },
           {
            "bin_end": 0.30000000000000004,
            "bin_start": 0.20000000000000007,
            "count": 0
           },
           {
            "bin_end": 0.4,
            "bin_start": 0.30000000000000004,
            "count": 0
           },
           {
            "bin_end": 0.5,
            "bin_start": 0.4,
            "count": 0
           }
          ],
          "max": "0",
          "min": "0",
          "nan_count": 0,
          "unique_count": 1
         }
        },
        {
         "dtype": "int64",
         "name": "ACCESS_SURFACE_FLINGER",
         "stats": {
          "histogram": [
           {
            "bin_end": -0.4,
            "bin_start": -0.5,
            "count": 0
           },
           {
            "bin_end": -0.3,
            "bin_start": -0.4,
            "count": 0
           },
           {
            "bin_end": -0.19999999999999996,
            "bin_start": -0.3,
            "count": 0
           },
           {
            "bin_end": -0.09999999999999998,
            "bin_start": -0.19999999999999996,
            "count": 0
           },
           {
            "bin_end": 0,
            "bin_start": -0.09999999999999998,
            "count": 0
           },
           {
            "bin_end": 0.10000000000000009,
            "bin_start": 0,
            "count": 5
           },
           {
            "bin_end": 0.20000000000000007,
            "bin_start": 0.10000000000000009,
            "count": 0
           },
           {
            "bin_end": 0.30000000000000004,
            "bin_start": 0.20000000000000007,
            "count": 0
           },
           {
            "bin_end": 0.4,
            "bin_start": 0.30000000000000004,
            "count": 0
           },
           {
            "bin_end": 0.5,
            "bin_start": 0.4,
            "count": 0
           }
          ],
          "max": "0",
          "min": "0",
          "nan_count": 0,
          "unique_count": 1
         }
        },
        {
         "dtype": "int64",
         "name": "ACCOUNT_MANAGER",
         "stats": {
          "histogram": [
           {
            "bin_end": -0.4,
            "bin_start": -0.5,
            "count": 0
           },
           {
            "bin_end": -0.3,
            "bin_start": -0.4,
            "count": 0
           },
           {
            "bin_end": -0.19999999999999996,
            "bin_start": -0.3,
            "count": 0
           },
           {
            "bin_end": -0.09999999999999998,
            "bin_start": -0.19999999999999996,
            "count": 0
           },
           {
            "bin_end": 0,
            "bin_start": -0.09999999999999998,
            "count": 0
           },
           {
            "bin_end": 0.10000000000000009,
            "bin_start": 0,
            "count": 5
           },
           {
            "bin_end": 0.20000000000000007,
            "bin_start": 0.10000000000000009,
            "count": 0
           },
           {
            "bin_end": 0.30000000000000004,
            "bin_start": 0.20000000000000007,
            "count": 0
           },
           {
            "bin_end": 0.4,
            "bin_start": 0.30000000000000004,
            "count": 0
           },
           {
            "bin_end": 0.5,
            "bin_start": 0.4,
            "count": 0
           }
          ],
          "max": "0",
          "min": "0",
          "nan_count": 0,
          "unique_count": 1
         }
        },
        {
         "dtype": "int64",
         "name": "ADD_VOICEMAIL",
         "stats": {
          "histogram": [
           {
            "bin_end": -0.4,
            "bin_start": -0.5,
            "count": 0
           },
           {
            "bin_end": -0.3,
            "bin_start": -0.4,
            "count": 0
           },
           {
            "bin_end": -0.19999999999999996,
            "bin_start": -0.3,
            "count": 0
           },
           {
            "bin_end": -0.09999999999999998,
            "bin_start": -0.19999999999999996,
            "count": 0
           },
           {
            "bin_end": 0,
            "bin_start": -0.09999999999999998,
            "count": 0
           },
           {
            "bin_end": 0.10000000000000009,
            "bin_start": 0,
            "count": 5
           },
           {
            "bin_end": 0.20000000000000007,
            "bin_start": 0.10000000000000009,
            "count": 0
           },
           {
            "bin_end": 0.30000000000000004,
            "bin_start": 0.20000000000000007,
            "count": 0
           },
           {
            "bin_end": 0.4,
            "bin_start": 0.30000000000000004,
            "count": 0
           },
           {
            "bin_end": 0.5,
            "bin_start": 0.4,
            "count": 0
           }
          ],
          "max": "0",
          "min": "0",
          "nan_count": 0,
          "unique_count": 1
         }
        },
        {
         "dtype": "int64",
         "name": "CONTROL_LOCATION_UPDATES",
         "stats": {
          "histogram": [
           {
            "bin_end": -0.4,
            "bin_start": -0.5,
            "count": 0
           },
           {
            "bin_end": -0.3,
            "bin_start": -0.4,
            "count": 0
           },
           {
            "bin_end": -0.19999999999999996,
            "bin_start": -0.3,
            "count": 0
           },
           {
            "bin_end": -0.09999999999999998,
            "bin_start": -0.19999999999999996,
            "count": 0
           },
           {
            "bin_end": 0,
            "bin_start": -0.09999999999999998,
            "count": 0
           },
           {
            "bin_end": 0.10000000000000009,
            "bin_start": 0,
            "count": 5
           },
           {
            "bin_end": 0.20000000000000007,
            "bin_start": 0.10000000000000009,
            "count": 0
           },
           {
            "bin_end": 0.30000000000000004,
            "bin_start": 0.20000000000000007,
            "count": 0
           },
           {
            "bin_end": 0.4,
            "bin_start": 0.30000000000000004,
            "count": 0
           },
           {
            "bin_end": 0.5,
            "bin_start": 0.4,
            "count": 0
           }
          ],
          "max": "0",
          "min": "0",
          "nan_count": 0,
          "unique_count": 1
         }
        },
        {
         "dtype": "int64",
         "name": "DEVICE_POWER",
         "stats": {
          "histogram": [
           {
            "bin_end": -0.4,
            "bin_start": -0.5,
            "count": 0
           },
           {
            "bin_end": -0.3,
            "bin_start": -0.4,
            "count": 0
           },
           {
            "bin_end": -0.19999999999999996,
            "bin_start": -0.3,
            "count": 0
           },
           {
            "bin_end": -0.09999999999999998,
            "bin_start": -0.19999999999999996,
            "count": 0
           },
           {
            "bin_end": 0,
            "bin_start": -0.09999999999999998,
            "count": 0
           },
           {
            "bin_end": 0.10000000000000009,
            "bin_start": 0,
            "count": 5
           },
           {
            "bin_end": 0.20000000000000007,
            "bin_start": 0.10000000000000009,
            "count": 0
           },
           {
            "bin_end": 0.30000000000000004,
            "bin_start": 0.20000000000000007,
            "count": 0
           },
           {
            "bin_end": 0.4,
            "bin_start": 0.30000000000000004,
            "count": 0
           },
           {
            "bin_end": 0.5,
            "bin_start": 0.4,
            "count": 0
           }
          ],
          "max": "0",
          "min": "0",
          "nan_count": 0,
          "unique_count": 1
         }
        },
        {
         "dtype": "int64",
         "name": "EXPAND_STATUS_BAR",
         "stats": {
          "histogram": [
           {
            "bin_end": -0.4,
            "bin_start": -0.5,
            "count": 0
           },
           {
            "bin_end": -0.3,
            "bin_start": -0.4,
            "count": 0
           },
           {
            "bin_end": -0.19999999999999996,
            "bin_start": -0.3,
            "count": 0
           },
           {
            "bin_end": -0.09999999999999998,
            "bin_start": -0.19999999999999996,
            "count": 0
           },
           {
            "bin_end": 0,
            "bin_start": -0.09999999999999998,
            "count": 0
           },
           {
            "bin_end": 0.10000000000000009,
            "bin_start": 0,
            "count": 5
           },
           {
            "bin_end": 0.20000000000000007,
            "bin_start": 0.10000000000000009,
            "count": 0
           },
           {
            "bin_end": 0.30000000000000004,
            "bin_start": 0.20000000000000007,
            "count": 0
           },
           {
            "bin_end": 0.4,
            "bin_start": 0.30000000000000004,
            "count": 0
           },
           {
            "bin_end": 0.5,
            "bin_start": 0.4,
            "count": 0
           }
          ],
          "max": "0",
          "min": "0",
          "nan_count": 0,
          "unique_count": 1
         }
        },
        {
         "dtype": "int64",
         "name": "FLASHLIGHT",
         "stats": {
          "histogram": [
           {
            "bin_end": -0.4,
            "bin_start": -0.5,
            "count": 0
           },
           {
            "bin_end": -0.3,
            "bin_start": -0.4,
            "count": 0
           },
           {
            "bin_end": -0.19999999999999996,
            "bin_start": -0.3,
            "count": 0
           },
           {
            "bin_end": -0.09999999999999998,
            "bin_start": -0.19999999999999996,
            "count": 0
           },
           {
            "bin_end": 0,
            "bin_start": -0.09999999999999998,
            "count": 0
           },
           {
            "bin_end": 0.10000000000000009,
            "bin_start": 0,
            "count": 5
           },
           {
            "bin_end": 0.20000000000000007,
            "bin_start": 0.10000000000000009,
            "count": 0
           },
           {
            "bin_end": 0.30000000000000004,
            "bin_start": 0.20000000000000007,
            "count": 0
           },
           {
            "bin_end": 0.4,
            "bin_start": 0.30000000000000004,
            "count": 0
           },
           {
            "bin_end": 0.5,
            "bin_start": 0.4,
            "count": 0
           }
          ],
          "max": "0",
          "min": "0",
          "nan_count": 0,
          "unique_count": 1
         }
        },
        {
         "dtype": "int64",
         "name": "FORCE_BACK",
         "stats": {
          "histogram": [
           {
            "bin_end": -0.4,
            "bin_start": -0.5,
            "count": 0
           },
           {
            "bin_end": -0.3,
            "bin_start": -0.4,
            "count": 0
           },
           {
            "bin_end": -0.19999999999999996,
            "bin_start": -0.3,
            "count": 0
           },
           {
            "bin_end": -0.09999999999999998,
            "bin_start": -0.19999999999999996,
            "count": 0
           },
           {
            "bin_end": 0,
            "bin_start": -0.09999999999999998,
            "count": 0
           },
           {
            "bin_end": 0.10000000000000009,
            "bin_start": 0,
            "count": 5
           },
           {
            "bin_end": 0.20000000000000007,
            "bin_start": 0.10000000000000009,
            "count": 0
           },
           {
            "bin_end": 0.30000000000000004,
            "bin_start": 0.20000000000000007,
            "count": 0
           },
           {
            "bin_end": 0.4,
            "bin_start": 0.30000000000000004,
            "count": 0
           },
           {
            "bin_end": 0.5,
            "bin_start": 0.4,
            "count": 0
           }
          ],
          "max": "0",
          "min": "0",
          "nan_count": 0,
          "unique_count": 1
         }
        },
        {
         "dtype": "int64",
         "name": "GET_PACKAGE_SIZE",
         "stats": {
          "histogram": [
           {
            "bin_end": -0.4,
            "bin_start": -0.5,
            "count": 0
           },
           {
            "bin_end": -0.3,
            "bin_start": -0.4,
            "count": 0
           },
           {
            "bin_end": -0.19999999999999996,
            "bin_start": -0.3,
            "count": 0
           },
           {
            "bin_end": -0.09999999999999998,
            "bin_start": -0.19999999999999996,
            "count": 0
           },
           {
            "bin_end": 0,
            "bin_start": -0.09999999999999998,
            "count": 0
           },
           {
            "bin_end": 0.10000000000000009,
            "bin_start": 0,
            "count": 5
           },
           {
            "bin_end": 0.20000000000000007,
            "bin_start": 0.10000000000000009,
            "count": 0
           },
           {
            "bin_end": 0.30000000000000004,
            "bin_start": 0.20000000000000007,
            "count": 0
           },
           {
            "bin_end": 0.4,
            "bin_start": 0.30000000000000004,
            "count": 0
           },
           {
            "bin_end": 0.5,
            "bin_start": 0.4,
            "count": 0
           }
          ],
          "max": "0",
          "min": "0",
          "nan_count": 0,
          "unique_count": 1
         }
        },
        {
         "dtype": "int64",
         "name": "GET_TOP_ACTIVITY_INFO",
         "stats": {
          "histogram": [
           {
            "bin_end": -0.4,
            "bin_start": -0.5,
            "count": 0
           },
           {
            "bin_end": -0.3,
            "bin_start": -0.4,
            "count": 0
           },
           {
            "bin_end": -0.19999999999999996,
            "bin_start": -0.3,
            "count": 0
           },
           {
            "bin_end": -0.09999999999999998,
            "bin_start": -0.19999999999999996,
            "count": 0
           },
           {
            "bin_end": 0,
            "bin_start": -0.09999999999999998,
            "count": 0
           },
           {
            "bin_end": 0.10000000000000009,
            "bin_start": 0,
            "count": 5
           },
           {
            "bin_end": 0.20000000000000007,
            "bin_start": 0.10000000000000009,
            "count": 0
           },
           {
            "bin_end": 0.30000000000000004,
            "bin_start": 0.20000000000000007,
            "count": 0
           },
           {
            "bin_end": 0.4,
            "bin_start": 0.30000000000000004,
            "count": 0
           },
           {
            "bin_end": 0.5,
            "bin_start": 0.4,
            "count": 0
           }
          ],
          "max": "0",
          "min": "0",
          "nan_count": 0,
          "unique_count": 1
         }
        },
        {
         "dtype": "int64",
         "name": "GLOBAL_SEARCH",
         "stats": {
          "histogram": [
           {
            "bin_end": -0.4,
            "bin_start": -0.5,
            "count": 0
           },
           {
            "bin_end": -0.3,
            "bin_start": -0.4,
            "count": 0
           },
           {
            "bin_end": -0.19999999999999996,
            "bin_start": -0.3,
            "count": 0
           },
           {
            "bin_end": -0.09999999999999998,
            "bin_start": -0.19999999999999996,
            "count": 0
           },
           {
            "bin_end": 0,
            "bin_start": -0.09999999999999998,
            "count": 0
           },
           {
            "bin_end": 0.10000000000000009,
            "bin_start": 0,
            "count": 5
           },
           {
            "bin_end": 0.20000000000000007,
            "bin_start": 0.10000000000000009,
            "count": 0
           },
           {
            "bin_end": 0.30000000000000004,
            "bin_start": 0.20000000000000007,
            "count": 0
           },
           {
            "bin_end": 0.4,
            "bin_start": 0.30000000000000004,
            "count": 0
           },
           {
            "bin_end": 0.5,
            "bin_start": 0.4,
            "count": 0
           }
          ],
          "max": "0",
          "min": "0",
          "nan_count": 0,
          "unique_count": 1
         }
        },
        {
         "dtype": "int64",
         "name": "INSTALL_SHORTCUT",
         "stats": {
          "histogram": [
           {
            "bin_end": 0.1,
            "bin_start": 0,
            "count": 4
           },
           {
            "bin_end": 0.2,
            "bin_start": 0.1,
            "count": 0
           },
           {
            "bin_end": 0.30000000000000004,
            "bin_start": 0.2,
            "count": 0
           },
           {
            "bin_end": 0.4,
            "bin_start": 0.30000000000000004,
            "count": 0
           },
           {
            "bin_end": 0.5,
            "bin_start": 0.4,
            "count": 0
           },
           {
            "bin_end": 0.6000000000000001,
            "bin_start": 0.5,
            "count": 0
           },
           {
            "bin_end": 0.7000000000000001,
            "bin_start": 0.6000000000000001,
            "count": 0
           },
           {
            "bin_end": 0.8,
            "bin_start": 0.7000000000000001,
            "count": 0
           },
           {
            "bin_end": 0.9,
            "bin_start": 0.8,
            "count": 0
           },
           {
            "bin_end": 1,
            "bin_start": 0.9,
            "count": 1
           }
          ],
          "max": "1",
          "min": "0",
          "nan_count": 0,
          "unique_count": 2
         }
        },
        {
         "dtype": "int64",
         "name": "MANAGE_DOCUMENTS",
         "stats": {
          "histogram": [
           {
            "bin_end": -0.4,
            "bin_start": -0.5,
            "count": 0
           },
           {
            "bin_end": -0.3,
            "bin_start": -0.4,
            "count": 0
           },
           {
            "bin_end": -0.19999999999999996,
            "bin_start": -0.3,
            "count": 0
           },
           {
            "bin_end": -0.09999999999999998,
            "bin_start": -0.19999999999999996,
            "count": 0
           },
           {
            "bin_end": 0,
            "bin_start": -0.09999999999999998,
            "count": 0
           },
           {
            "bin_end": 0.10000000000000009,
            "bin_start": 0,
            "count": 5
           },
           {
            "bin_end": 0.20000000000000007,
            "bin_start": 0.10000000000000009,
            "count": 0
           },
           {
            "bin_end": 0.30000000000000004,
            "bin_start": 0.20000000000000007,
            "count": 0
           },
           {
            "bin_end": 0.4,
            "bin_start": 0.30000000000000004,
            "count": 0
           },
           {
            "bin_end": 0.5,
            "bin_start": 0.4,
            "count": 0
           }
          ],
          "max": "0",
          "min": "0",
          "nan_count": 0,
          "unique_count": 1
         }
        },
        {
         "dtype": "int64",
         "name": "MEDIA_CONTENT_CONTROL",
         "stats": {
          "histogram": [
           {
            "bin_end": -0.4,
            "bin_start": -0.5,
            "count": 0
           },
           {
            "bin_end": -0.3,
            "bin_start": -0.4,
            "count": 0
           },
           {
            "bin_end": -0.19999999999999996,
            "bin_start": -0.3,
            "count": 0
           },
           {
            "bin_end": -0.09999999999999998,
            "bin_start": -0.19999999999999996,
            "count": 0
           },
           {
            "bin_end": 0,
            "bin_start": -0.09999999999999998,
            "count": 0
           },
           {
            "bin_end": 0.10000000000000009,
            "bin_start": 0,
            "count": 5
           },
           {
            "bin_end": 0.20000000000000007,
            "bin_start": 0.10000000000000009,
            "count": 0
           },
           {
            "bin_end": 0.30000000000000004,
            "bin_start": 0.20000000000000007,
            "count": 0
           },
           {
            "bin_end": 0.4,
            "bin_start": 0.30000000000000004,
            "count": 0
           },
           {
            "bin_end": 0.5,
            "bin_start": 0.4,
            "count": 0
           }
          ],
          "max": "0",
          "min": "0",
          "nan_count": 0,
          "unique_count": 1
         }
        },
        {
         "dtype": "int64",
         "name": "MODIFY_AUDIO_SETTINGS",
         "stats": {
          "histogram": [
           {
            "bin_end": -0.4,
            "bin_start": -0.5,
            "count": 0
           },
           {
            "bin_end": -0.3,
            "bin_start": -0.4,
            "count": 0
           },
           {
            "bin_end": -0.19999999999999996,
            "bin_start": -0.3,
            "count": 0
           },
           {
            "bin_end": -0.09999999999999998,
            "bin_start": -0.19999999999999996,
            "count": 0
           },
           {
            "bin_end": 0,
            "bin_start": -0.09999999999999998,
            "count": 0
           },
           {
            "bin_end": 0.10000000000000009,
            "bin_start": 0,
            "count": 5
           },
           {
            "bin_end": 0.20000000000000007,
            "bin_start": 0.10000000000000009,
            "count": 0
           },
           {
            "bin_end": 0.30000000000000004,
            "bin_start": 0.20000000000000007,
            "count": 0
           },
           {
            "bin_end": 0.4,
            "bin_start": 0.30000000000000004,
            "count": 0
           },
           {
            "bin_end": 0.5,
            "bin_start": 0.4,
            "count": 0
           }
          ],
          "max": "0",
          "min": "0",
          "nan_count": 0,
          "unique_count": 1
         }
        },
        {
         "dtype": "int64",
         "name": "READ_USER_DICTIONARY",
         "stats": {
          "histogram": [
           {
            "bin_end": -0.4,
            "bin_start": -0.5,
            "count": 0
           },
           {
            "bin_end": -0.3,
            "bin_start": -0.4,
            "count": 0
           },
           {
            "bin_end": -0.19999999999999996,
            "bin_start": -0.3,
            "count": 0
           },
           {
            "bin_end": -0.09999999999999998,
            "bin_start": -0.19999999999999996,
            "count": 0
           },
           {
            "bin_end": 0,
            "bin_start": -0.09999999999999998,
            "count": 0
           },
           {
            "bin_end": 0.10000000000000009,
            "bin_start": 0,
            "count": 5
           },
           {
            "bin_end": 0.20000000000000007,
            "bin_start": 0.10000000000000009,
            "count": 0
           },
           {
            "bin_end": 0.30000000000000004,
            "bin_start": 0.20000000000000007,
            "count": 0
           },
           {
            "bin_end": 0.4,
            "bin_start": 0.30000000000000004,
            "count": 0
           },
           {
            "bin_end": 0.5,
            "bin_start": 0.4,
            "count": 0
           }
          ],
          "max": "0",
          "min": "0",
          "nan_count": 0,
          "unique_count": 1
         }
        },
        {
         "dtype": "int64",
         "name": "REORDER_TASKS",
         "stats": {
          "histogram": [
           {
            "bin_end": -0.4,
            "bin_start": -0.5,
            "count": 0
           },
           {
            "bin_end": -0.3,
            "bin_start": -0.4,
            "count": 0
           },
           {
            "bin_end": -0.19999999999999996,
            "bin_start": -0.3,
            "count": 0
           },
           {
            "bin_end": -0.09999999999999998,
            "bin_start": -0.19999999999999996,
            "count": 0
           },
           {
            "bin_end": 0,
            "bin_start": -0.09999999999999998,
            "count": 0
           },
           {
            "bin_end": 0.10000000000000009,
            "bin_start": 0,
            "count": 5
           },
           {
            "bin_end": 0.20000000000000007,
            "bin_start": 0.10000000000000009,
            "count": 0
           },
           {
            "bin_end": 0.30000000000000004,
            "bin_start": 0.20000000000000007,
            "count": 0
           },
           {
            "bin_end": 0.4,
            "bin_start": 0.30000000000000004,
            "count": 0
           },
           {
            "bin_end": 0.5,
            "bin_start": 0.4,
            "count": 0
           }
          ],
          "max": "0",
          "min": "0",
          "nan_count": 0,
          "unique_count": 1
         }
        },
        {
         "dtype": "int64",
         "name": "SEND_RESPOND_VIA_MESSAGE",
         "stats": {
          "histogram": [
           {
            "bin_end": -0.4,
            "bin_start": -0.5,
            "count": 0
           },
           {
            "bin_end": -0.3,
            "bin_start": -0.4,
            "count": 0
           },
           {
            "bin_end": -0.19999999999999996,
            "bin_start": -0.3,
            "count": 0
           },
           {
            "bin_end": -0.09999999999999998,
            "bin_start": -0.19999999999999996,
            "count": 0
           },
           {
            "bin_end": 0,
            "bin_start": -0.09999999999999998,
            "count": 0
           },
           {
            "bin_end": 0.10000000000000009,
            "bin_start": 0,
            "count": 5
           },
           {
            "bin_end": 0.20000000000000007,
            "bin_start": 0.10000000000000009,
            "count": 0
           },
           {
            "bin_end": 0.30000000000000004,
            "bin_start": 0.20000000000000007,
            "count": 0
           },
           {
            "bin_end": 0.4,
            "bin_start": 0.30000000000000004,
            "count": 0
           },
           {
            "bin_end": 0.5,
            "bin_start": 0.4,
            "count": 0
           }
          ],
          "max": "0",
          "min": "0",
          "nan_count": 0,
          "unique_count": 1
         }
        },
        {
         "dtype": "int64",
         "name": "SET_ALARM",
         "stats": {
          "histogram": [
           {
            "bin_end": -0.4,
            "bin_start": -0.5,
            "count": 0
           },
           {
            "bin_end": -0.3,
            "bin_start": -0.4,
            "count": 0
           },
           {
            "bin_end": -0.19999999999999996,
            "bin_start": -0.3,
            "count": 0
           },
           {
            "bin_end": -0.09999999999999998,
            "bin_start": -0.19999999999999996,
            "count": 0
           },
           {
            "bin_end": 0,
            "bin_start": -0.09999999999999998,
            "count": 0
           },
           {
            "bin_end": 0.10000000000000009,
            "bin_start": 0,
            "count": 5
           },
           {
            "bin_end": 0.20000000000000007,
            "bin_start": 0.10000000000000009,
            "count": 0
           },
           {
            "bin_end": 0.30000000000000004,
            "bin_start": 0.20000000000000007,
            "count": 0
           },
           {
            "bin_end": 0.4,
            "bin_start": 0.30000000000000004,
            "count": 0
           },
           {
            "bin_end": 0.5,
            "bin_start": 0.4,
            "count": 0
           }
          ],
          "max": "0",
          "min": "0",
          "nan_count": 0,
          "unique_count": 1
         }
        },
        {
         "dtype": "int64",
         "name": "SET_ANIMATION_SCALE",
         "stats": {
          "histogram": [
           {
            "bin_end": -0.4,
            "bin_start": -0.5,
            "count": 0
           },
           {
            "bin_end": -0.3,
            "bin_start": -0.4,
            "count": 0
           },
           {
            "bin_end": -0.19999999999999996,
            "bin_start": -0.3,
            "count": 0
           },
           {
            "bin_end": -0.09999999999999998,
            "bin_start": -0.19999999999999996,
            "count": 0
           },
           {
            "bin_end": 0,
            "bin_start": -0.09999999999999998,
            "count": 0
           },
           {
            "bin_end": 0.10000000000000009,
            "bin_start": 0,
            "count": 5
           },
           {
            "bin_end": 0.20000000000000007,
            "bin_start": 0.10000000000000009,
            "count": 0
           },
           {
            "bin_end": 0.30000000000000004,
            "bin_start": 0.20000000000000007,
            "count": 0
           },
           {
            "bin_end": 0.4,
            "bin_start": 0.30000000000000004,
            "count": 0
           },
           {
            "bin_end": 0.5,
            "bin_start": 0.4,
            "count": 0
           }
          ],
          "max": "0",
          "min": "0",
          "nan_count": 0,
          "unique_count": 1
         }
        },
        {
         "dtype": "int64",
         "name": "SET_ORIENTATION",
         "stats": {
          "histogram": [
           {
            "bin_end": -0.4,
            "bin_start": -0.5,
            "count": 0
           },
           {
            "bin_end": -0.3,
            "bin_start": -0.4,
            "count": 0
           },
           {
            "bin_end": -0.19999999999999996,
            "bin_start": -0.3,
            "count": 0
           },
           {
            "bin_end": -0.09999999999999998,
            "bin_start": -0.19999999999999996,
            "count": 0
           },
           {
            "bin_end": 0,
            "bin_start": -0.09999999999999998,
            "count": 0
           },
           {
            "bin_end": 0.10000000000000009,
            "bin_start": 0,
            "count": 5
           },
           {
            "bin_end": 0.20000000000000007,
            "bin_start": 0.10000000000000009,
            "count": 0
           },
           {
            "bin_end": 0.30000000000000004,
            "bin_start": 0.20000000000000007,
            "count": 0
           },
           {
            "bin_end": 0.4,
            "bin_start": 0.30000000000000004,
            "count": 0
           },
           {
            "bin_end": 0.5,
            "bin_start": 0.4,
            "count": 0
           }
          ],
          "max": "0",
          "min": "0",
          "nan_count": 0,
          "unique_count": 1
         }
        },
        {
         "dtype": "int64",
         "name": "SET_POINTER_SPEED",
         "stats": {
          "histogram": [
           {
            "bin_end": -0.4,
            "bin_start": -0.5,
            "count": 0
           },
           {
            "bin_end": -0.3,
            "bin_start": -0.4,
            "count": 0
           },
           {
            "bin_end": -0.19999999999999996,
            "bin_start": -0.3,
            "count": 0
           },
           {
            "bin_end": -0.09999999999999998,
            "bin_start": -0.19999999999999996,
            "count": 0
           },
           {
            "bin_end": 0,
            "bin_start": -0.09999999999999998,
            "count": 0
           },
           {
            "bin_end": 0.10000000000000009,
            "bin_start": 0,
            "count": 5
           },
           {
            "bin_end": 0.20000000000000007,
            "bin_start": 0.10000000000000009,
            "count": 0
           },
           {
            "bin_end": 0.30000000000000004,
            "bin_start": 0.20000000000000007,
            "count": 0
           },
           {
            "bin_end": 0.4,
            "bin_start": 0.30000000000000004,
            "count": 0
           },
           {
            "bin_end": 0.5,
            "bin_start": 0.4,
            "count": 0
           }
          ],
          "max": "0",
          "min": "0",
          "nan_count": 0,
          "unique_count": 1
         }
        },
        {
         "dtype": "int64",
         "name": "SET_TIME",
         "stats": {
          "histogram": [
           {
            "bin_end": -0.4,
            "bin_start": -0.5,
            "count": 0
           },
           {
            "bin_end": -0.3,
            "bin_start": -0.4,
            "count": 0
           },
           {
            "bin_end": -0.19999999999999996,
            "bin_start": -0.3,
            "count": 0
           },
           {
            "bin_end": -0.09999999999999998,
            "bin_start": -0.19999999999999996,
            "count": 0
           },
           {
            "bin_end": 0,
            "bin_start": -0.09999999999999998,
            "count": 0
           },
           {
            "bin_end": 0.10000000000000009,
            "bin_start": 0,
            "count": 5
           },
           {
            "bin_end": 0.20000000000000007,
            "bin_start": 0.10000000000000009,
            "count": 0
           },
           {
            "bin_end": 0.30000000000000004,
            "bin_start": 0.20000000000000007,
            "count": 0
           },
           {
            "bin_end": 0.4,
            "bin_start": 0.30000000000000004,
            "count": 0
           },
           {
            "bin_end": 0.5,
            "bin_start": 0.4,
            "count": 0
           }
          ],
          "max": "0",
          "min": "0",
          "nan_count": 0,
          "unique_count": 1
         }
        },
        {
         "dtype": "int64",
         "name": "SET_TIME_ZONE",
         "stats": {
          "histogram": [
           {
            "bin_end": -0.4,
            "bin_start": -0.5,
            "count": 0
           },
           {
            "bin_end": -0.3,
            "bin_start": -0.4,
            "count": 0
           },
           {
            "bin_end": -0.19999999999999996,
            "bin_start": -0.3,
            "count": 0
           },
           {
            "bin_end": -0.09999999999999998,
            "bin_start": -0.19999999999999996,
            "count": 0
           },
           {
            "bin_end": 0,
            "bin_start": -0.09999999999999998,
            "count": 0
           },
           {
            "bin_end": 0.10000000000000009,
            "bin_start": 0,
            "count": 5
           },
           {
            "bin_end": 0.20000000000000007,
            "bin_start": 0.10000000000000009,
            "count": 0
           },
           {
            "bin_end": 0.30000000000000004,
            "bin_start": 0.20000000000000007,
            "count": 0
           },
           {
            "bin_end": 0.4,
            "bin_start": 0.30000000000000004,
            "count": 0
           },
           {
            "bin_end": 0.5,
            "bin_start": 0.4,
            "count": 0
           }
          ],
          "max": "0",
          "min": "0",
          "nan_count": 0,
          "unique_count": 1
         }
        },
        {
         "dtype": "int64",
         "name": "SET_WALLPAPER",
         "stats": {
          "histogram": [
           {
            "bin_end": -0.4,
            "bin_start": -0.5,
            "count": 0
           },
           {
            "bin_end": -0.3,
            "bin_start": -0.4,
            "count": 0
           },
           {
            "bin_end": -0.19999999999999996,
            "bin_start": -0.3,
            "count": 0
           },
           {
            "bin_end": -0.09999999999999998,
            "bin_start": -0.19999999999999996,
            "count": 0
           },
           {
            "bin_end": 0,
            "bin_start": -0.09999999999999998,
            "count": 0
           },
           {
            "bin_end": 0.10000000000000009,
            "bin_start": 0,
            "count": 5
           },
           {
            "bin_end": 0.20000000000000007,
            "bin_start": 0.10000000000000009,
            "count": 0
           },
           {
            "bin_end": 0.30000000000000004,
            "bin_start": 0.20000000000000007,
            "count": 0
           },
           {
            "bin_end": 0.4,
            "bin_start": 0.30000000000000004,
            "count": 0
           },
           {
            "bin_end": 0.5,
            "bin_start": 0.4,
            "count": 0
           }
          ],
          "max": "0",
          "min": "0",
          "nan_count": 0,
          "unique_count": 1
         }
        },
        {
         "dtype": "int64",
         "name": "UNINSTALL_SHORTCUT",
         "stats": {
          "histogram": [
           {
            "bin_end": -0.4,
            "bin_start": -0.5,
            "count": 0
           },
           {
            "bin_end": -0.3,
            "bin_start": -0.4,
            "count": 0
           },
           {
            "bin_end": -0.19999999999999996,
            "bin_start": -0.3,
            "count": 0
           },
           {
            "bin_end": -0.09999999999999998,
            "bin_start": -0.19999999999999996,
            "count": 0
           },
           {
            "bin_end": 0,
            "bin_start": -0.09999999999999998,
            "count": 0
           },
           {
            "bin_end": 0.10000000000000009,
            "bin_start": 0,
            "count": 5
           },
           {
            "bin_end": 0.20000000000000007,
            "bin_start": 0.10000000000000009,
            "count": 0
           },
           {
            "bin_end": 0.30000000000000004,
            "bin_start": 0.20000000000000007,
            "count": 0
           },
           {
            "bin_end": 0.4,
            "bin_start": 0.30000000000000004,
            "count": 0
           },
           {
            "bin_end": 0.5,
            "bin_start": 0.4,
            "count": 0
           }
          ],
          "max": "0",
          "min": "0",
          "nan_count": 0,
          "unique_count": 1
         }
        },
        {
         "dtype": "int64",
         "name": "VIBRATE",
         "stats": {
          "histogram": [
           {
            "bin_end": 0.1,
            "bin_start": 0,
            "count": 3
           },
           {
            "bin_end": 0.2,
            "bin_start": 0.1,
            "count": 0
           },
           {
            "bin_end": 0.30000000000000004,
            "bin_start": 0.2,
            "count": 0
           },
           {
            "bin_end": 0.4,
            "bin_start": 0.30000000000000004,
            "count": 0
           },
           {
            "bin_end": 0.5,
            "bin_start": 0.4,
            "count": 0
           },
           {
            "bin_end": 0.6000000000000001,
            "bin_start": 0.5,
            "count": 0
           },
           {
            "bin_end": 0.7000000000000001,
            "bin_start": 0.6000000000000001,
            "count": 0
           },
           {
            "bin_end": 0.8,
            "bin_start": 0.7000000000000001,
            "count": 0
           },
           {
            "bin_end": 0.9,
            "bin_start": 0.8,
            "count": 0
           },
           {
            "bin_end": 1,
            "bin_start": 0.9,
            "count": 2
           }
          ],
          "max": "1",
          "min": "0",
          "nan_count": 0,
          "unique_count": 2
         }
        },
        {
         "dtype": "int64",
         "name": "WAKE_LOCK",
         "stats": {
          "histogram": [
           {
            "bin_end": 0.1,
            "bin_start": 0,
            "count": 3
           },
           {
            "bin_end": 0.2,
            "bin_start": 0.1,
            "count": 0
           },
           {
            "bin_end": 0.30000000000000004,
            "bin_start": 0.2,
            "count": 0
           },
           {
            "bin_end": 0.4,
            "bin_start": 0.30000000000000004,
            "count": 0
           },
           {
            "bin_end": 0.5,
            "bin_start": 0.4,
            "count": 0
           },
           {
            "bin_end": 0.6000000000000001,
            "bin_start": 0.5,
            "count": 0
           },
           {
            "bin_end": 0.7000000000000001,
            "bin_start": 0.6000000000000001,
            "count": 0
           },
           {
            "bin_end": 0.8,
            "bin_start": 0.7000000000000001,
            "count": 0
           },
           {
            "bin_end": 0.9,
            "bin_start": 0.8,
            "count": 0
           },
           {
            "bin_end": 1,
            "bin_start": 0.9,
            "count": 2
           }
          ],
          "max": "1",
          "min": "0",
          "nan_count": 0,
          "unique_count": 2
         }
        },
        {
         "dtype": "int64",
         "name": "WRITE_CALENDAR",
         "stats": {
          "histogram": [
           {
            "bin_end": -0.4,
            "bin_start": -0.5,
            "count": 0
           },
           {
            "bin_end": -0.3,
            "bin_start": -0.4,
            "count": 0
           },
           {
            "bin_end": -0.19999999999999996,
            "bin_start": -0.3,
            "count": 0
           },
           {
            "bin_end": -0.09999999999999998,
            "bin_start": -0.19999999999999996,
            "count": 0
           },
           {
            "bin_end": 0,
            "bin_start": -0.09999999999999998,
            "count": 0
           },
           {
            "bin_end": 0.10000000000000009,
            "bin_start": 0,
            "count": 5
           },
           {
            "bin_end": 0.20000000000000007,
            "bin_start": 0.10000000000000009,
            "count": 0
           },
           {
            "bin_end": 0.30000000000000004,
            "bin_start": 0.20000000000000007,
            "count": 0
           },
           {
            "bin_end": 0.4,
            "bin_start": 0.30000000000000004,
            "count": 0
           },
           {
            "bin_end": 0.5,
            "bin_start": 0.4,
            "count": 0
           }
          ],
          "max": "0",
          "min": "0",
          "nan_count": 0,
          "unique_count": 1
         }
        },
        {
         "dtype": "int64",
         "name": "WRITE_CALL_LOG",
         "stats": {
          "histogram": [
           {
            "bin_end": -0.4,
            "bin_start": -0.5,
            "count": 0
           },
           {
            "bin_end": -0.3,
            "bin_start": -0.4,
            "count": 0
           },
           {
            "bin_end": -0.19999999999999996,
            "bin_start": -0.3,
            "count": 0
           },
           {
            "bin_end": -0.09999999999999998,
            "bin_start": -0.19999999999999996,
            "count": 0
           },
           {
            "bin_end": 0,
            "bin_start": -0.09999999999999998,
            "count": 0
           },
           {
            "bin_end": 0.10000000000000009,
            "bin_start": 0,
            "count": 5
           },
           {
            "bin_end": 0.20000000000000007,
            "bin_start": 0.10000000000000009,
            "count": 0
           },
           {
            "bin_end": 0.30000000000000004,
            "bin_start": 0.20000000000000007,
            "count": 0
           },
           {
            "bin_end": 0.4,
            "bin_start": 0.30000000000000004,
            "count": 0
           },
           {
            "bin_end": 0.5,
            "bin_start": 0.4,
            "count": 0
           }
          ],
          "max": "0",
          "min": "0",
          "nan_count": 0,
          "unique_count": 1
         }
        },
        {
         "dtype": "int64",
         "name": "WRITE_CONTACTS",
         "stats": {
          "histogram": [
           {
            "bin_end": -0.4,
            "bin_start": -0.5,
            "count": 0
           },
           {
            "bin_end": -0.3,
            "bin_start": -0.4,
            "count": 0
           },
           {
            "bin_end": -0.19999999999999996,
            "bin_start": -0.3,
            "count": 0
           },
           {
            "bin_end": -0.09999999999999998,
            "bin_start": -0.19999999999999996,
            "count": 0
           },
           {
            "bin_end": 0,
            "bin_start": -0.09999999999999998,
            "count": 0
           },
           {
            "bin_end": 0.10000000000000009,
            "bin_start": 0,
            "count": 5
           },
           {
            "bin_end": 0.20000000000000007,
            "bin_start": 0.10000000000000009,
            "count": 0
           },
           {
            "bin_end": 0.30000000000000004,
            "bin_start": 0.20000000000000007,
            "count": 0
           },
           {
            "bin_end": 0.4,
            "bin_start": 0.30000000000000004,
            "count": 0
           },
           {
            "bin_end": 0.5,
            "bin_start": 0.4,
            "count": 0
           }
          ],
          "max": "0",
          "min": "0",
          "nan_count": 0,
          "unique_count": 1
         }
        },
        {
         "dtype": "int64",
         "name": "WRITE_USER_DICTIONARY",
         "stats": {
          "histogram": [
           {
            "bin_end": -0.4,
            "bin_start": -0.5,
            "count": 0
           },
           {
            "bin_end": -0.3,
            "bin_start": -0.4,
            "count": 0
           },
           {
            "bin_end": -0.19999999999999996,
            "bin_start": -0.3,
            "count": 0
           },
           {
            "bin_end": -0.09999999999999998,
            "bin_start": -0.19999999999999996,
            "count": 0
           },
           {
            "bin_end": 0,
            "bin_start": -0.09999999999999998,
            "count": 0
           },
           {
            "bin_end": 0.10000000000000009,
            "bin_start": 0,
            "count": 5
           },
           {
            "bin_end": 0.20000000000000007,
            "bin_start": 0.10000000000000009,
            "count": 0
           },
           {
            "bin_end": 0.30000000000000004,
            "bin_start": 0.20000000000000007,
            "count": 0
           },
           {
            "bin_end": 0.4,
            "bin_start": 0.30000000000000004,
            "count": 0
           },
           {
            "bin_end": 0.5,
            "bin_start": 0.4,
            "count": 0
           }
          ],
          "max": "0",
          "min": "0",
          "nan_count": 0,
          "unique_count": 1
         }
        },
        {
         "dtype": "int64",
         "name": "class",
         "stats": {
          "histogram": [
           {
            "bin_end": -0.4,
            "bin_start": -0.5,
            "count": 0
           },
           {
            "bin_end": -0.3,
            "bin_start": -0.4,
            "count": 0
           },
           {
            "bin_end": -0.19999999999999996,
            "bin_start": -0.3,
            "count": 0
           },
           {
            "bin_end": -0.09999999999999998,
            "bin_start": -0.19999999999999996,
            "count": 0
           },
           {
            "bin_end": 0,
            "bin_start": -0.09999999999999998,
            "count": 0
           },
           {
            "bin_end": 0.10000000000000009,
            "bin_start": 0,
            "count": 5
           },
           {
            "bin_end": 0.20000000000000007,
            "bin_start": 0.10000000000000009,
            "count": 0
           },
           {
            "bin_end": 0.30000000000000004,
            "bin_start": 0.20000000000000007,
            "count": 0
           },
           {
            "bin_end": 0.4,
            "bin_start": 0.30000000000000004,
            "count": 0
           },
           {
            "bin_end": 0.5,
            "bin_start": 0.4,
            "count": 0
           }
          ],
          "max": "0",
          "min": "0",
          "nan_count": 0,
          "unique_count": 1
         }
        },
        {
         "dtype": "int64",
         "name": "_deepnote_index_column"
        }
       ],
       "row_count": 5,
       "rows_bottom": null,
       "rows_top": [
        {
         "ACCESS_SUPERUSER": 0,
         "ACCESS_SURFACE_FLINGER": 0,
         "ACCOUNT_MANAGER": 0,
         "ADD_VOICEMAIL": 0,
         "BLUETOOTH_PRIVILEGED": 0,
         "BRICK": 0,
         "CHANGE_COMPONENT_ENABLED_STATE": 0,
         "CLEAR_APP_USER_DATA": 0,
         "CONTROL_LOCATION_UPDATES": 0,
         "DELETE_CACHE_FILES": 0,
         "DELETE_PACKAGES": 0,
         "DEVICE_POWER": 0,
         "DISABLE_KEYGUARD": 0,
         "EXPAND_STATUS_BAR": 0,
         "FACTORY_TEST": 0,
         "FLASHLIGHT": 0,
         "FORCE_BACK": 0,
         "GET_PACKAGE_SIZE": 0,
         "GET_TOP_ACTIVITY_INFO": 0,
         "GLOBAL_SEARCH": 0,
         "INJECT_EVENTS": 0,
         "INSTALL_PACKAGES": 0,
         "INSTALL_SHORTCUT": 0,
         "INTERNAL_SYSTEM_WINDOW": 0,
         "KILL_BACKGROUND_PROCESSES": 0,
         "MANAGE_DOCUMENTS": 0,
         "MASTER_CLEAR": 0,
         "MEDIA_CONTENT_CONTROL": 0,
         "MODIFY_AUDIO_SETTINGS": 0,
         "MODIFY_PHONE_STATE": 0,
         "MOUNT_FORMAT_FILESYSTEM": 0,
         "MOUNT_UNMOUNT_FILESYSTEM": 0,
         "PROCESS_OUTGOING_CALLS": 0,
         "READ_LOGS": 0,
         "READ_USER_DICTIONARY": 0,
         "REBOOT": 0,
         "RECEIVE_BOOT_COMPLETED": 0,
         "REORDER_TASKS": 0,
         "SEND_RESPOND_VIA_MESSAGE": 0,
         "SET_ALARM": 0,
         "SET_ANIMATION_SCALE": 0,
         "SET_ORIENTATION": 0,
         "SET_POINTER_SPEED": 0,
         "SET_TIME": 0,
         "SET_TIME_ZONE": 0,
         "SET_WALLPAPER": 0,
         "STATUS_BAR": 0,
         "UNINSTALL_SHORTCUT": 0,
         "VIBRATE": 0,
         "WAKE_LOCK": 0,
         "WRITE_CALENDAR": 0,
         "WRITE_CALL_LOG": 0,
         "WRITE_CONTACTS": 0,
         "WRITE_EXTERNAL_STORAGE": 0,
         "WRITE_HISTORY_BOOKMARKS": 0,
         "WRITE_PROFILE": 0,
         "WRITE_SECURE_SETTINGS": 0,
         "WRITE_USER_DICTIONARY": 0,
         "_deepnote_index_column": 0,
         "class": 0
        },
        {
         "ACCESS_SUPERUSER": 0,
         "ACCESS_SURFACE_FLINGER": 0,
         "ACCOUNT_MANAGER": 0,
         "ADD_VOICEMAIL": 0,
         "BLUETOOTH_PRIVILEGED": 0,
         "BRICK": 0,
         "CHANGE_COMPONENT_ENABLED_STATE": 0,
         "CLEAR_APP_USER_DATA": 0,
         "CONTROL_LOCATION_UPDATES": 0,
         "DELETE_CACHE_FILES": 0,
         "DELETE_PACKAGES": 0,
         "DEVICE_POWER": 0,
         "DISABLE_KEYGUARD": 0,
         "EXPAND_STATUS_BAR": 0,
         "FACTORY_TEST": 0,
         "FLASHLIGHT": 0,
         "FORCE_BACK": 0,
         "GET_PACKAGE_SIZE": 0,
         "GET_TOP_ACTIVITY_INFO": 0,
         "GLOBAL_SEARCH": 0,
         "INJECT_EVENTS": 0,
         "INSTALL_PACKAGES": 0,
         "INSTALL_SHORTCUT": 0,
         "INTERNAL_SYSTEM_WINDOW": 0,
         "KILL_BACKGROUND_PROCESSES": 0,
         "MANAGE_DOCUMENTS": 0,
         "MASTER_CLEAR": 0,
         "MEDIA_CONTENT_CONTROL": 0,
         "MODIFY_AUDIO_SETTINGS": 0,
         "MODIFY_PHONE_STATE": 0,
         "MOUNT_FORMAT_FILESYSTEM": 0,
         "MOUNT_UNMOUNT_FILESYSTEM": 0,
         "PROCESS_OUTGOING_CALLS": 0,
         "READ_LOGS": 0,
         "READ_USER_DICTIONARY": 0,
         "REBOOT": 0,
         "RECEIVE_BOOT_COMPLETED": 0,
         "REORDER_TASKS": 0,
         "SEND_RESPOND_VIA_MESSAGE": 0,
         "SET_ALARM": 0,
         "SET_ANIMATION_SCALE": 0,
         "SET_ORIENTATION": 0,
         "SET_POINTER_SPEED": 0,
         "SET_TIME": 0,
         "SET_TIME_ZONE": 0,
         "SET_WALLPAPER": 0,
         "STATUS_BAR": 0,
         "UNINSTALL_SHORTCUT": 0,
         "VIBRATE": 0,
         "WAKE_LOCK": 0,
         "WRITE_CALENDAR": 0,
         "WRITE_CALL_LOG": 0,
         "WRITE_CONTACTS": 0,
         "WRITE_EXTERNAL_STORAGE": 0,
         "WRITE_HISTORY_BOOKMARKS": 0,
         "WRITE_PROFILE": 0,
         "WRITE_SECURE_SETTINGS": 0,
         "WRITE_USER_DICTIONARY": 0,
         "_deepnote_index_column": 1,
         "class": 0
        },
        {
         "ACCESS_SUPERUSER": 0,
         "ACCESS_SURFACE_FLINGER": 0,
         "ACCOUNT_MANAGER": 0,
         "ADD_VOICEMAIL": 0,
         "BLUETOOTH_PRIVILEGED": 0,
         "BRICK": 0,
         "CHANGE_COMPONENT_ENABLED_STATE": 0,
         "CLEAR_APP_USER_DATA": 0,
         "CONTROL_LOCATION_UPDATES": 0,
         "DELETE_CACHE_FILES": 0,
         "DELETE_PACKAGES": 0,
         "DEVICE_POWER": 0,
         "DISABLE_KEYGUARD": 0,
         "EXPAND_STATUS_BAR": 0,
         "FACTORY_TEST": 0,
         "FLASHLIGHT": 0,
         "FORCE_BACK": 0,
         "GET_PACKAGE_SIZE": 0,
         "GET_TOP_ACTIVITY_INFO": 0,
         "GLOBAL_SEARCH": 0,
         "INJECT_EVENTS": 0,
         "INSTALL_PACKAGES": 0,
         "INSTALL_SHORTCUT": 0,
         "INTERNAL_SYSTEM_WINDOW": 0,
         "KILL_BACKGROUND_PROCESSES": 0,
         "MANAGE_DOCUMENTS": 0,
         "MASTER_CLEAR": 0,
         "MEDIA_CONTENT_CONTROL": 0,
         "MODIFY_AUDIO_SETTINGS": 0,
         "MODIFY_PHONE_STATE": 0,
         "MOUNT_FORMAT_FILESYSTEM": 0,
         "MOUNT_UNMOUNT_FILESYSTEM": 0,
         "PROCESS_OUTGOING_CALLS": 0,
         "READ_LOGS": 0,
         "READ_USER_DICTIONARY": 0,
         "REBOOT": 0,
         "RECEIVE_BOOT_COMPLETED": 0,
         "REORDER_TASKS": 0,
         "SEND_RESPOND_VIA_MESSAGE": 0,
         "SET_ALARM": 0,
         "SET_ANIMATION_SCALE": 0,
         "SET_ORIENTATION": 0,
         "SET_POINTER_SPEED": 0,
         "SET_TIME": 0,
         "SET_TIME_ZONE": 0,
         "SET_WALLPAPER": 0,
         "STATUS_BAR": 0,
         "UNINSTALL_SHORTCUT": 0,
         "VIBRATE": 0,
         "WAKE_LOCK": 0,
         "WRITE_CALENDAR": 0,
         "WRITE_CALL_LOG": 0,
         "WRITE_CONTACTS": 0,
         "WRITE_EXTERNAL_STORAGE": 0,
         "WRITE_HISTORY_BOOKMARKS": 0,
         "WRITE_PROFILE": 0,
         "WRITE_SECURE_SETTINGS": 0,
         "WRITE_USER_DICTIONARY": 0,
         "_deepnote_index_column": 2,
         "class": 0
        },
        {
         "ACCESS_SUPERUSER": 0,
         "ACCESS_SURFACE_FLINGER": 0,
         "ACCOUNT_MANAGER": 0,
         "ADD_VOICEMAIL": 0,
         "BLUETOOTH_PRIVILEGED": 0,
         "BRICK": 0,
         "CHANGE_COMPONENT_ENABLED_STATE": 0,
         "CLEAR_APP_USER_DATA": 0,
         "CONTROL_LOCATION_UPDATES": 0,
         "DELETE_CACHE_FILES": 0,
         "DELETE_PACKAGES": 0,
         "DEVICE_POWER": 0,
         "DISABLE_KEYGUARD": 0,
         "EXPAND_STATUS_BAR": 0,
         "FACTORY_TEST": 0,
         "FLASHLIGHT": 0,
         "FORCE_BACK": 0,
         "GET_PACKAGE_SIZE": 0,
         "GET_TOP_ACTIVITY_INFO": 0,
         "GLOBAL_SEARCH": 0,
         "INJECT_EVENTS": 0,
         "INSTALL_PACKAGES": 0,
         "INSTALL_SHORTCUT": 0,
         "INTERNAL_SYSTEM_WINDOW": 0,
         "KILL_BACKGROUND_PROCESSES": 0,
         "MANAGE_DOCUMENTS": 0,
         "MASTER_CLEAR": 0,
         "MEDIA_CONTENT_CONTROL": 0,
         "MODIFY_AUDIO_SETTINGS": 0,
         "MODIFY_PHONE_STATE": 0,
         "MOUNT_FORMAT_FILESYSTEM": 0,
         "MOUNT_UNMOUNT_FILESYSTEM": 0,
         "PROCESS_OUTGOING_CALLS": 0,
         "READ_LOGS": 0,
         "READ_USER_DICTIONARY": 0,
         "REBOOT": 0,
         "RECEIVE_BOOT_COMPLETED": 0,
         "REORDER_TASKS": 0,
         "SEND_RESPOND_VIA_MESSAGE": 0,
         "SET_ALARM": 0,
         "SET_ANIMATION_SCALE": 0,
         "SET_ORIENTATION": 0,
         "SET_POINTER_SPEED": 0,
         "SET_TIME": 0,
         "SET_TIME_ZONE": 0,
         "SET_WALLPAPER": 0,
         "STATUS_BAR": 0,
         "UNINSTALL_SHORTCUT": 0,
         "VIBRATE": 1,
         "WAKE_LOCK": 1,
         "WRITE_CALENDAR": 0,
         "WRITE_CALL_LOG": 0,
         "WRITE_CONTACTS": 0,
         "WRITE_EXTERNAL_STORAGE": 0,
         "WRITE_HISTORY_BOOKMARKS": 0,
         "WRITE_PROFILE": 0,
         "WRITE_SECURE_SETTINGS": 0,
         "WRITE_USER_DICTIONARY": 0,
         "_deepnote_index_column": 3,
         "class": 0
        },
        {
         "ACCESS_SUPERUSER": 0,
         "ACCESS_SURFACE_FLINGER": 0,
         "ACCOUNT_MANAGER": 0,
         "ADD_VOICEMAIL": 0,
         "BLUETOOTH_PRIVILEGED": 0,
         "BRICK": 0,
         "CHANGE_COMPONENT_ENABLED_STATE": 0,
         "CLEAR_APP_USER_DATA": 0,
         "CONTROL_LOCATION_UPDATES": 0,
         "DELETE_CACHE_FILES": 0,
         "DELETE_PACKAGES": 0,
         "DEVICE_POWER": 0,
         "DISABLE_KEYGUARD": 0,
         "EXPAND_STATUS_BAR": 0,
         "FACTORY_TEST": 0,
         "FLASHLIGHT": 0,
         "FORCE_BACK": 0,
         "GET_PACKAGE_SIZE": 0,
         "GET_TOP_ACTIVITY_INFO": 0,
         "GLOBAL_SEARCH": 0,
         "INJECT_EVENTS": 0,
         "INSTALL_PACKAGES": 0,
         "INSTALL_SHORTCUT": 1,
         "INTERNAL_SYSTEM_WINDOW": 0,
         "KILL_BACKGROUND_PROCESSES": 0,
         "MANAGE_DOCUMENTS": 0,
         "MASTER_CLEAR": 0,
         "MEDIA_CONTENT_CONTROL": 0,
         "MODIFY_AUDIO_SETTINGS": 0,
         "MODIFY_PHONE_STATE": 0,
         "MOUNT_FORMAT_FILESYSTEM": 0,
         "MOUNT_UNMOUNT_FILESYSTEM": 0,
         "PROCESS_OUTGOING_CALLS": 0,
         "READ_LOGS": 0,
         "READ_USER_DICTIONARY": 0,
         "REBOOT": 0,
         "RECEIVE_BOOT_COMPLETED": 1,
         "REORDER_TASKS": 0,
         "SEND_RESPOND_VIA_MESSAGE": 0,
         "SET_ALARM": 0,
         "SET_ANIMATION_SCALE": 0,
         "SET_ORIENTATION": 0,
         "SET_POINTER_SPEED": 0,
         "SET_TIME": 0,
         "SET_TIME_ZONE": 0,
         "SET_WALLPAPER": 0,
         "STATUS_BAR": 0,
         "UNINSTALL_SHORTCUT": 0,
         "VIBRATE": 1,
         "WAKE_LOCK": 1,
         "WRITE_CALENDAR": 0,
         "WRITE_CALL_LOG": 0,
         "WRITE_CONTACTS": 0,
         "WRITE_EXTERNAL_STORAGE": 1,
         "WRITE_HISTORY_BOOKMARKS": 0,
         "WRITE_PROFILE": 0,
         "WRITE_SECURE_SETTINGS": 0,
         "WRITE_USER_DICTIONARY": 0,
         "_deepnote_index_column": 4,
         "class": 0
        }
       ]
      },
      "text/html": [
       "<div>\n",
       "<style scoped>\n",
       "    .dataframe tbody tr th:only-of-type {\n",
       "        vertical-align: middle;\n",
       "    }\n",
       "\n",
       "    .dataframe tbody tr th {\n",
       "        vertical-align: top;\n",
       "    }\n",
       "\n",
       "    .dataframe thead th {\n",
       "        text-align: right;\n",
       "    }\n",
       "</style>\n",
       "<table border=\"1\" class=\"dataframe\">\n",
       "  <thead>\n",
       "    <tr style=\"text-align: right;\">\n",
       "      <th></th>\n",
       "      <th>ACCESS_SUPERUSER</th>\n",
       "      <th>BLUETOOTH_PRIVILEGED</th>\n",
       "      <th>BRICK</th>\n",
       "      <th>CHANGE_COMPONENT_ENABLED_STATE</th>\n",
       "      <th>CLEAR_APP_USER_DATA</th>\n",
       "      <th>DELETE_CACHE_FILES</th>\n",
       "      <th>DELETE_PACKAGES</th>\n",
       "      <th>DISABLE_KEYGUARD</th>\n",
       "      <th>FACTORY_TEST</th>\n",
       "      <th>INSTALL_PACKAGES</th>\n",
       "      <th>INJECT_EVENTS</th>\n",
       "      <th>INTERNAL_SYSTEM_WINDOW</th>\n",
       "      <th>KILL_BACKGROUND_PROCESSES</th>\n",
       "      <th>MASTER_CLEAR</th>\n",
       "      <th>MODIFY_PHONE_STATE</th>\n",
       "      <th>MOUNT_FORMAT_FILESYSTEM</th>\n",
       "      <th>MOUNT_UNMOUNT_FILESYSTEM</th>\n",
       "      <th>PROCESS_OUTGOING_CALLS</th>\n",
       "      <th>READ_LOGS</th>\n",
       "      <th>REBOOT</th>\n",
       "      <th>RECEIVE_BOOT_COMPLETED</th>\n",
       "      <th>STATUS_BAR</th>\n",
       "      <th>WRITE_EXTERNAL_STORAGE</th>\n",
       "      <th>WRITE_HISTORY_BOOKMARKS</th>\n",
       "      <th>WRITE_PROFILE</th>\n",
       "      <th>WRITE_SECURE_SETTINGS</th>\n",
       "      <th>ACCESS_SURFACE_FLINGER</th>\n",
       "      <th>ACCOUNT_MANAGER</th>\n",
       "      <th>ADD_VOICEMAIL</th>\n",
       "      <th>CONTROL_LOCATION_UPDATES</th>\n",
       "      <th>DEVICE_POWER</th>\n",
       "      <th>EXPAND_STATUS_BAR</th>\n",
       "      <th>FLASHLIGHT</th>\n",
       "      <th>FORCE_BACK</th>\n",
       "      <th>GET_PACKAGE_SIZE</th>\n",
       "      <th>GET_TOP_ACTIVITY_INFO</th>\n",
       "      <th>GLOBAL_SEARCH</th>\n",
       "      <th>INSTALL_SHORTCUT</th>\n",
       "      <th>MANAGE_DOCUMENTS</th>\n",
       "      <th>MEDIA_CONTENT_CONTROL</th>\n",
       "      <th>MODIFY_AUDIO_SETTINGS</th>\n",
       "      <th>READ_USER_DICTIONARY</th>\n",
       "      <th>REORDER_TASKS</th>\n",
       "      <th>SEND_RESPOND_VIA_MESSAGE</th>\n",
       "      <th>SET_ALARM</th>\n",
       "      <th>SET_ANIMATION_SCALE</th>\n",
       "      <th>SET_ORIENTATION</th>\n",
       "      <th>SET_POINTER_SPEED</th>\n",
       "      <th>SET_TIME</th>\n",
       "      <th>SET_TIME_ZONE</th>\n",
       "      <th>SET_WALLPAPER</th>\n",
       "      <th>UNINSTALL_SHORTCUT</th>\n",
       "      <th>VIBRATE</th>\n",
       "      <th>WAKE_LOCK</th>\n",
       "      <th>WRITE_CALENDAR</th>\n",
       "      <th>WRITE_CALL_LOG</th>\n",
       "      <th>WRITE_CONTACTS</th>\n",
       "      <th>WRITE_USER_DICTIONARY</th>\n",
       "      <th>class</th>\n",
       "    </tr>\n",
       "  </thead>\n",
       "  <tbody>\n",
       "    <tr>\n",
       "      <th>0</th>\n",
       "      <td>0</td>\n",
       "      <td>0</td>\n",
       "      <td>0</td>\n",
       "      <td>0</td>\n",
       "      <td>0</td>\n",
       "      <td>0</td>\n",
       "      <td>0</td>\n",
       "      <td>0</td>\n",
       "      <td>0</td>\n",
       "      <td>0</td>\n",
       "      <td>0</td>\n",
       "      <td>0</td>\n",
       "      <td>0</td>\n",
       "      <td>0</td>\n",
       "      <td>0</td>\n",
       "      <td>0</td>\n",
       "      <td>0</td>\n",
       "      <td>0</td>\n",
       "      <td>0</td>\n",
       "      <td>0</td>\n",
       "      <td>0</td>\n",
       "      <td>0</td>\n",
       "      <td>0</td>\n",
       "      <td>0</td>\n",
       "      <td>0</td>\n",
       "      <td>0</td>\n",
       "      <td>0</td>\n",
       "      <td>0</td>\n",
       "      <td>0</td>\n",
       "      <td>0</td>\n",
       "      <td>0</td>\n",
       "      <td>0</td>\n",
       "      <td>0</td>\n",
       "      <td>0</td>\n",
       "      <td>0</td>\n",
       "      <td>0</td>\n",
       "      <td>0</td>\n",
       "      <td>0</td>\n",
       "      <td>0</td>\n",
       "      <td>0</td>\n",
       "      <td>0</td>\n",
       "      <td>0</td>\n",
       "      <td>0</td>\n",
       "      <td>0</td>\n",
       "      <td>0</td>\n",
       "      <td>0</td>\n",
       "      <td>0</td>\n",
       "      <td>0</td>\n",
       "      <td>0</td>\n",
       "      <td>0</td>\n",
       "      <td>0</td>\n",
       "      <td>0</td>\n",
       "      <td>0</td>\n",
       "      <td>0</td>\n",
       "      <td>0</td>\n",
       "      <td>0</td>\n",
       "      <td>0</td>\n",
       "      <td>0</td>\n",
       "      <td>0</td>\n",
       "    </tr>\n",
       "    <tr>\n",
       "      <th>1</th>\n",
       "      <td>0</td>\n",
       "      <td>0</td>\n",
       "      <td>0</td>\n",
       "      <td>0</td>\n",
       "      <td>0</td>\n",
       "      <td>0</td>\n",
       "      <td>0</td>\n",
       "      <td>0</td>\n",
       "      <td>0</td>\n",
       "      <td>0</td>\n",
       "      <td>0</td>\n",
       "      <td>0</td>\n",
       "      <td>0</td>\n",
       "      <td>0</td>\n",
       "      <td>0</td>\n",
       "      <td>0</td>\n",
       "      <td>0</td>\n",
       "      <td>0</td>\n",
       "      <td>0</td>\n",
       "      <td>0</td>\n",
       "      <td>0</td>\n",
       "      <td>0</td>\n",
       "      <td>0</td>\n",
       "      <td>0</td>\n",
       "      <td>0</td>\n",
       "      <td>0</td>\n",
       "      <td>0</td>\n",
       "      <td>0</td>\n",
       "      <td>0</td>\n",
       "      <td>0</td>\n",
       "      <td>0</td>\n",
       "      <td>0</td>\n",
       "      <td>0</td>\n",
       "      <td>0</td>\n",
       "      <td>0</td>\n",
       "      <td>0</td>\n",
       "      <td>0</td>\n",
       "      <td>0</td>\n",
       "      <td>0</td>\n",
       "      <td>0</td>\n",
       "      <td>0</td>\n",
       "      <td>0</td>\n",
       "      <td>0</td>\n",
       "      <td>0</td>\n",
       "      <td>0</td>\n",
       "      <td>0</td>\n",
       "      <td>0</td>\n",
       "      <td>0</td>\n",
       "      <td>0</td>\n",
       "      <td>0</td>\n",
       "      <td>0</td>\n",
       "      <td>0</td>\n",
       "      <td>0</td>\n",
       "      <td>0</td>\n",
       "      <td>0</td>\n",
       "      <td>0</td>\n",
       "      <td>0</td>\n",
       "      <td>0</td>\n",
       "      <td>0</td>\n",
       "    </tr>\n",
       "    <tr>\n",
       "      <th>2</th>\n",
       "      <td>0</td>\n",
       "      <td>0</td>\n",
       "      <td>0</td>\n",
       "      <td>0</td>\n",
       "      <td>0</td>\n",
       "      <td>0</td>\n",
       "      <td>0</td>\n",
       "      <td>0</td>\n",
       "      <td>0</td>\n",
       "      <td>0</td>\n",
       "      <td>0</td>\n",
       "      <td>0</td>\n",
       "      <td>0</td>\n",
       "      <td>0</td>\n",
       "      <td>0</td>\n",
       "      <td>0</td>\n",
       "      <td>0</td>\n",
       "      <td>0</td>\n",
       "      <td>0</td>\n",
       "      <td>0</td>\n",
       "      <td>0</td>\n",
       "      <td>0</td>\n",
       "      <td>0</td>\n",
       "      <td>0</td>\n",
       "      <td>0</td>\n",
       "      <td>0</td>\n",
       "      <td>0</td>\n",
       "      <td>0</td>\n",
       "      <td>0</td>\n",
       "      <td>0</td>\n",
       "      <td>0</td>\n",
       "      <td>0</td>\n",
       "      <td>0</td>\n",
       "      <td>0</td>\n",
       "      <td>0</td>\n",
       "      <td>0</td>\n",
       "      <td>0</td>\n",
       "      <td>0</td>\n",
       "      <td>0</td>\n",
       "      <td>0</td>\n",
       "      <td>0</td>\n",
       "      <td>0</td>\n",
       "      <td>0</td>\n",
       "      <td>0</td>\n",
       "      <td>0</td>\n",
       "      <td>0</td>\n",
       "      <td>0</td>\n",
       "      <td>0</td>\n",
       "      <td>0</td>\n",
       "      <td>0</td>\n",
       "      <td>0</td>\n",
       "      <td>0</td>\n",
       "      <td>0</td>\n",
       "      <td>0</td>\n",
       "      <td>0</td>\n",
       "      <td>0</td>\n",
       "      <td>0</td>\n",
       "      <td>0</td>\n",
       "      <td>0</td>\n",
       "    </tr>\n",
       "    <tr>\n",
       "      <th>3</th>\n",
       "      <td>0</td>\n",
       "      <td>0</td>\n",
       "      <td>0</td>\n",
       "      <td>0</td>\n",
       "      <td>0</td>\n",
       "      <td>0</td>\n",
       "      <td>0</td>\n",
       "      <td>0</td>\n",
       "      <td>0</td>\n",
       "      <td>0</td>\n",
       "      <td>0</td>\n",
       "      <td>0</td>\n",
       "      <td>0</td>\n",
       "      <td>0</td>\n",
       "      <td>0</td>\n",
       "      <td>0</td>\n",
       "      <td>0</td>\n",
       "      <td>0</td>\n",
       "      <td>0</td>\n",
       "      <td>0</td>\n",
       "      <td>0</td>\n",
       "      <td>0</td>\n",
       "      <td>0</td>\n",
       "      <td>0</td>\n",
       "      <td>0</td>\n",
       "      <td>0</td>\n",
       "      <td>0</td>\n",
       "      <td>0</td>\n",
       "      <td>0</td>\n",
       "      <td>0</td>\n",
       "      <td>0</td>\n",
       "      <td>0</td>\n",
       "      <td>0</td>\n",
       "      <td>0</td>\n",
       "      <td>0</td>\n",
       "      <td>0</td>\n",
       "      <td>0</td>\n",
       "      <td>0</td>\n",
       "      <td>0</td>\n",
       "      <td>0</td>\n",
       "      <td>0</td>\n",
       "      <td>0</td>\n",
       "      <td>0</td>\n",
       "      <td>0</td>\n",
       "      <td>0</td>\n",
       "      <td>0</td>\n",
       "      <td>0</td>\n",
       "      <td>0</td>\n",
       "      <td>0</td>\n",
       "      <td>0</td>\n",
       "      <td>0</td>\n",
       "      <td>0</td>\n",
       "      <td>1</td>\n",
       "      <td>1</td>\n",
       "      <td>0</td>\n",
       "      <td>0</td>\n",
       "      <td>0</td>\n",
       "      <td>0</td>\n",
       "      <td>0</td>\n",
       "    </tr>\n",
       "    <tr>\n",
       "      <th>4</th>\n",
       "      <td>0</td>\n",
       "      <td>0</td>\n",
       "      <td>0</td>\n",
       "      <td>0</td>\n",
       "      <td>0</td>\n",
       "      <td>0</td>\n",
       "      <td>0</td>\n",
       "      <td>0</td>\n",
       "      <td>0</td>\n",
       "      <td>0</td>\n",
       "      <td>0</td>\n",
       "      <td>0</td>\n",
       "      <td>0</td>\n",
       "      <td>0</td>\n",
       "      <td>0</td>\n",
       "      <td>0</td>\n",
       "      <td>0</td>\n",
       "      <td>0</td>\n",
       "      <td>0</td>\n",
       "      <td>0</td>\n",
       "      <td>1</td>\n",
       "      <td>0</td>\n",
       "      <td>1</td>\n",
       "      <td>0</td>\n",
       "      <td>0</td>\n",
       "      <td>0</td>\n",
       "      <td>0</td>\n",
       "      <td>0</td>\n",
       "      <td>0</td>\n",
       "      <td>0</td>\n",
       "      <td>0</td>\n",
       "      <td>0</td>\n",
       "      <td>0</td>\n",
       "      <td>0</td>\n",
       "      <td>0</td>\n",
       "      <td>0</td>\n",
       "      <td>0</td>\n",
       "      <td>1</td>\n",
       "      <td>0</td>\n",
       "      <td>0</td>\n",
       "      <td>0</td>\n",
       "      <td>0</td>\n",
       "      <td>0</td>\n",
       "      <td>0</td>\n",
       "      <td>0</td>\n",
       "      <td>0</td>\n",
       "      <td>0</td>\n",
       "      <td>0</td>\n",
       "      <td>0</td>\n",
       "      <td>0</td>\n",
       "      <td>0</td>\n",
       "      <td>0</td>\n",
       "      <td>1</td>\n",
       "      <td>1</td>\n",
       "      <td>0</td>\n",
       "      <td>0</td>\n",
       "      <td>0</td>\n",
       "      <td>0</td>\n",
       "      <td>0</td>\n",
       "    </tr>\n",
       "  </tbody>\n",
       "</table>\n",
       "</div>"
      ],
      "text/plain": [
       "   ACCESS_SUPERUSER  BLUETOOTH_PRIVILEGED  BRICK  \\\n",
       "0                 0                     0      0   \n",
       "1                 0                     0      0   \n",
       "2                 0                     0      0   \n",
       "3                 0                     0      0   \n",
       "4                 0                     0      0   \n",
       "\n",
       "   CHANGE_COMPONENT_ENABLED_STATE  CLEAR_APP_USER_DATA  DELETE_CACHE_FILES  \\\n",
       "0                               0                    0                   0   \n",
       "1                               0                    0                   0   \n",
       "2                               0                    0                   0   \n",
       "3                               0                    0                   0   \n",
       "4                               0                    0                   0   \n",
       "\n",
       "   DELETE_PACKAGES  DISABLE_KEYGUARD  FACTORY_TEST  INSTALL_PACKAGES  \\\n",
       "0                0                 0             0                 0   \n",
       "1                0                 0             0                 0   \n",
       "2                0                 0             0                 0   \n",
       "3                0                 0             0                 0   \n",
       "4                0                 0             0                 0   \n",
       "\n",
       "   INJECT_EVENTS  INTERNAL_SYSTEM_WINDOW  KILL_BACKGROUND_PROCESSES  \\\n",
       "0              0                       0                          0   \n",
       "1              0                       0                          0   \n",
       "2              0                       0                          0   \n",
       "3              0                       0                          0   \n",
       "4              0                       0                          0   \n",
       "\n",
       "   MASTER_CLEAR  MODIFY_PHONE_STATE  MOUNT_FORMAT_FILESYSTEM  \\\n",
       "0             0                   0                        0   \n",
       "1             0                   0                        0   \n",
       "2             0                   0                        0   \n",
       "3             0                   0                        0   \n",
       "4             0                   0                        0   \n",
       "\n",
       "   MOUNT_UNMOUNT_FILESYSTEM  PROCESS_OUTGOING_CALLS  READ_LOGS  REBOOT  \\\n",
       "0                         0                       0          0       0   \n",
       "1                         0                       0          0       0   \n",
       "2                         0                       0          0       0   \n",
       "3                         0                       0          0       0   \n",
       "4                         0                       0          0       0   \n",
       "\n",
       "   RECEIVE_BOOT_COMPLETED  STATUS_BAR  WRITE_EXTERNAL_STORAGE  \\\n",
       "0                       0           0                       0   \n",
       "1                       0           0                       0   \n",
       "2                       0           0                       0   \n",
       "3                       0           0                       0   \n",
       "4                       1           0                       1   \n",
       "\n",
       "   WRITE_HISTORY_BOOKMARKS  WRITE_PROFILE  WRITE_SECURE_SETTINGS  \\\n",
       "0                        0              0                      0   \n",
       "1                        0              0                      0   \n",
       "2                        0              0                      0   \n",
       "3                        0              0                      0   \n",
       "4                        0              0                      0   \n",
       "\n",
       "   ACCESS_SURFACE_FLINGER  ACCOUNT_MANAGER  ADD_VOICEMAIL  \\\n",
       "0                       0                0              0   \n",
       "1                       0                0              0   \n",
       "2                       0                0              0   \n",
       "3                       0                0              0   \n",
       "4                       0                0              0   \n",
       "\n",
       "   CONTROL_LOCATION_UPDATES  DEVICE_POWER  EXPAND_STATUS_BAR  FLASHLIGHT  \\\n",
       "0                         0             0                  0           0   \n",
       "1                         0             0                  0           0   \n",
       "2                         0             0                  0           0   \n",
       "3                         0             0                  0           0   \n",
       "4                         0             0                  0           0   \n",
       "\n",
       "   FORCE_BACK  GET_PACKAGE_SIZE  GET_TOP_ACTIVITY_INFO  GLOBAL_SEARCH  \\\n",
       "0           0                 0                      0              0   \n",
       "1           0                 0                      0              0   \n",
       "2           0                 0                      0              0   \n",
       "3           0                 0                      0              0   \n",
       "4           0                 0                      0              0   \n",
       "\n",
       "   INSTALL_SHORTCUT  MANAGE_DOCUMENTS  MEDIA_CONTENT_CONTROL  \\\n",
       "0                 0                 0                      0   \n",
       "1                 0                 0                      0   \n",
       "2                 0                 0                      0   \n",
       "3                 0                 0                      0   \n",
       "4                 1                 0                      0   \n",
       "\n",
       "   MODIFY_AUDIO_SETTINGS  READ_USER_DICTIONARY  REORDER_TASKS  \\\n",
       "0                      0                     0              0   \n",
       "1                      0                     0              0   \n",
       "2                      0                     0              0   \n",
       "3                      0                     0              0   \n",
       "4                      0                     0              0   \n",
       "\n",
       "   SEND_RESPOND_VIA_MESSAGE  SET_ALARM  SET_ANIMATION_SCALE  SET_ORIENTATION  \\\n",
       "0                         0          0                    0                0   \n",
       "1                         0          0                    0                0   \n",
       "2                         0          0                    0                0   \n",
       "3                         0          0                    0                0   \n",
       "4                         0          0                    0                0   \n",
       "\n",
       "   SET_POINTER_SPEED  SET_TIME  SET_TIME_ZONE  SET_WALLPAPER  \\\n",
       "0                  0         0              0              0   \n",
       "1                  0         0              0              0   \n",
       "2                  0         0              0              0   \n",
       "3                  0         0              0              0   \n",
       "4                  0         0              0              0   \n",
       "\n",
       "   UNINSTALL_SHORTCUT  VIBRATE  WAKE_LOCK  WRITE_CALENDAR  WRITE_CALL_LOG  \\\n",
       "0                   0        0          0               0               0   \n",
       "1                   0        0          0               0               0   \n",
       "2                   0        0          0               0               0   \n",
       "3                   0        1          1               0               0   \n",
       "4                   0        1          1               0               0   \n",
       "\n",
       "   WRITE_CONTACTS  WRITE_USER_DICTIONARY  class  \n",
       "0               0                      0      0  \n",
       "1               0                      0      0  \n",
       "2               0                      0      0  \n",
       "3               0                      0      0  \n",
       "4               0                      0      0  "
      ]
     },
     "execution_count": 21,
     "metadata": {},
     "output_type": "execute_result"
    }
   ],
   "source": [
    "andro.head()"
   ]
  },
  {
   "cell_type": "code",
   "execution_count": null,
   "metadata": {
    "cell_id": "00031-fd08360b-148e-46bc-8c6c-395c27239032",
    "deepnote_cell_type": "code",
    "deepnote_to_be_reexecuted": false,
    "execution_millis": 11,
    "execution_start": 1631226022974,
    "source_hash": "2ecf4335",
    "tags": []
   },
   "outputs": [
    {
     "data": {
      "text/plain": [
       "0    139670\n",
       "1     23313\n",
       "Name: class, dtype: int64"
      ]
     },
     "execution_count": 22,
     "metadata": {},
     "output_type": "execute_result"
    }
   ],
   "source": [
    "andro['class'].value_counts()"
   ]
  },
  {
   "cell_type": "code",
   "execution_count": null,
   "metadata": {
    "cell_id": "00032-d4409221-ca33-4944-a487-ab4da7231349",
    "deepnote_cell_type": "code",
    "deepnote_to_be_reexecuted": false,
    "execution_millis": 2005,
    "execution_start": 1631226022983,
    "source_hash": "95cb2603",
    "tags": []
   },
   "outputs": [],
   "source": [
    "andro.to_csv(\"Permission_Androcrawl (duplicates).csv\")"
   ]
  },
  {
   "cell_type": "markdown",
   "metadata": {
    "created_in_deepnote_cell": true,
    "deepnote_cell_type": "markdown",
    "tags": []
   },
   "source": [
    "<a style='text-decoration:none;line-height:16px;display:flex;color:#5B5B62;padding:10px;justify-content:end;' href='https://deepnote.com?utm_source=created-in-deepnote-cell&projectId=be34dc1b-561d-4c90-bae1-66eed919bb55' target=\"_blank\">\n",
    "<img alt='Created in deepnote.com' style='display:inline;max-height:16px;margin:0px;margin-right:7.5px;' src='data:image/svg+xml;base64,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' > </img>\n",
    "Created in <span style='font-weight:600;margin-left:4px;'>Deepnote</span></a>"
   ]
  }
 ],
 "metadata": {
  "deepnote": {},
  "deepnote_execution_queue": [],
  "deepnote_notebook_id": "fa5a443f-d92a-4f48-b76d-57121fa96394",
  "language_info": {
   "name": "python"
  },
  "orig_nbformat": 4
 },
 "nbformat": 4,
 "nbformat_minor": 2
}
